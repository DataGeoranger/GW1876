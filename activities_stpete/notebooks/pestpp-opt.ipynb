{
 "cells": [
  {
   "cell_type": "markdown",
   "metadata": {},
   "source": [
    "# Run PESTPP-OPT\n",
    "\n",
    "In this notebook we will setup and solve a mgmt optimization problem around how much groundwater can be pumped while maintaining sw-gw exchange"
   ]
  },
  {
   "cell_type": "code",
   "execution_count": 1,
   "metadata": {},
   "outputs": [
    {
     "name": "stdout",
     "output_type": "stream",
     "text": [
      "flopy is installed in /Users/jwhite/Dev/gw1876/activities_stpete/notebooks/flopy\n"
     ]
    }
   ],
   "source": [
    "%matplotlib inline\n",
    "import os\n",
    "import shutil\n",
    "import numpy as np\n",
    "import pandas as pd\n",
    "import matplotlib.pyplot as plt\n",
    "import matplotlib as mpl\n",
    "plt.rcParams['font.size']=12\n",
    "import flopy\n",
    "import pyemu\n",
    "%matplotlib inline"
   ]
  },
  {
   "cell_type": "markdown",
   "metadata": {},
   "source": [
    "## SUPER IMPORTANT: SET HOW MANY PARALLEL WORKERS TO USE"
   ]
  },
  {
   "cell_type": "code",
   "execution_count": 2,
   "metadata": {},
   "outputs": [],
   "source": [
    "num_workers = 20"
   ]
  },
  {
   "cell_type": "code",
   "execution_count": 3,
   "metadata": {},
   "outputs": [],
   "source": [
    "t_d = \"template_history\"\n",
    "m_d = \"master_opt\""
   ]
  },
  {
   "cell_type": "markdown",
   "metadata": {},
   "source": [
    "### We can look at the summary information about the parameters"
   ]
  },
  {
   "cell_type": "code",
   "execution_count": 4,
   "metadata": {},
   "outputs": [
    {
     "data": {
      "text/html": [
       "<div>\n",
       "<style scoped>\n",
       "    .dataframe tbody tr th:only-of-type {\n",
       "        vertical-align: middle;\n",
       "    }\n",
       "\n",
       "    .dataframe tbody tr th {\n",
       "        vertical-align: top;\n",
       "    }\n",
       "\n",
       "    .dataframe thead th {\n",
       "        text-align: right;\n",
       "    }\n",
       "</style>\n",
       "<table border=\"1\" class=\"dataframe\">\n",
       "  <thead>\n",
       "    <tr style=\"text-align: right;\">\n",
       "      <th></th>\n",
       "      <th>type</th>\n",
       "      <th>transform</th>\n",
       "      <th>count</th>\n",
       "      <th>initial value</th>\n",
       "      <th>upper bound</th>\n",
       "      <th>lower bound</th>\n",
       "      <th>standard deviation</th>\n",
       "    </tr>\n",
       "  </thead>\n",
       "  <tbody>\n",
       "    <tr>\n",
       "      <th>cn_hk6</th>\n",
       "      <td>cn_hk6</td>\n",
       "      <td>log</td>\n",
       "      <td>1</td>\n",
       "      <td>0</td>\n",
       "      <td>1</td>\n",
       "      <td>-1</td>\n",
       "      <td>0.5</td>\n",
       "    </tr>\n",
       "    <tr>\n",
       "      <th>cn_hk7</th>\n",
       "      <td>cn_hk7</td>\n",
       "      <td>log</td>\n",
       "      <td>1</td>\n",
       "      <td>0</td>\n",
       "      <td>1</td>\n",
       "      <td>-1</td>\n",
       "      <td>0.5</td>\n",
       "    </tr>\n",
       "    <tr>\n",
       "      <th>cn_hk8</th>\n",
       "      <td>cn_hk8</td>\n",
       "      <td>log</td>\n",
       "      <td>1</td>\n",
       "      <td>0</td>\n",
       "      <td>1</td>\n",
       "      <td>-1</td>\n",
       "      <td>0.5</td>\n",
       "    </tr>\n",
       "    <tr>\n",
       "      <th>cn_prsity6</th>\n",
       "      <td>cn_prsity6</td>\n",
       "      <td>log</td>\n",
       "      <td>1</td>\n",
       "      <td>0</td>\n",
       "      <td>0.176091</td>\n",
       "      <td>-0.30103</td>\n",
       "      <td>0.11928</td>\n",
       "    </tr>\n",
       "    <tr>\n",
       "      <th>cn_prsity7</th>\n",
       "      <td>cn_prsity7</td>\n",
       "      <td>log</td>\n",
       "      <td>1</td>\n",
       "      <td>0</td>\n",
       "      <td>0.176091</td>\n",
       "      <td>-0.30103</td>\n",
       "      <td>0.11928</td>\n",
       "    </tr>\n",
       "    <tr>\n",
       "      <th>...</th>\n",
       "      <td>...</td>\n",
       "      <td>...</td>\n",
       "      <td>...</td>\n",
       "      <td>...</td>\n",
       "      <td>...</td>\n",
       "      <td>...</td>\n",
       "      <td>...</td>\n",
       "    </tr>\n",
       "    <tr>\n",
       "      <th>pp_vka0</th>\n",
       "      <td>pp_vka0</td>\n",
       "      <td>log</td>\n",
       "      <td>32</td>\n",
       "      <td>0</td>\n",
       "      <td>1</td>\n",
       "      <td>-1</td>\n",
       "      <td>0.5</td>\n",
       "    </tr>\n",
       "    <tr>\n",
       "      <th>pp_vka1</th>\n",
       "      <td>pp_vka1</td>\n",
       "      <td>log</td>\n",
       "      <td>32</td>\n",
       "      <td>0</td>\n",
       "      <td>1</td>\n",
       "      <td>-1</td>\n",
       "      <td>0.5</td>\n",
       "    </tr>\n",
       "    <tr>\n",
       "      <th>pp_vka2</th>\n",
       "      <td>pp_vka2</td>\n",
       "      <td>log</td>\n",
       "      <td>32</td>\n",
       "      <td>0</td>\n",
       "      <td>1</td>\n",
       "      <td>-1</td>\n",
       "      <td>0.5</td>\n",
       "    </tr>\n",
       "    <tr>\n",
       "      <th>welflux</th>\n",
       "      <td>welflux</td>\n",
       "      <td>log</td>\n",
       "      <td>25</td>\n",
       "      <td>0</td>\n",
       "      <td>1</td>\n",
       "      <td>-1</td>\n",
       "      <td>0.5</td>\n",
       "    </tr>\n",
       "    <tr>\n",
       "      <th>welflux_k02</th>\n",
       "      <td>welflux_k02</td>\n",
       "      <td>log</td>\n",
       "      <td>6</td>\n",
       "      <td>0</td>\n",
       "      <td>1</td>\n",
       "      <td>-1</td>\n",
       "      <td>0.5</td>\n",
       "    </tr>\n",
       "  </tbody>\n",
       "</table>\n",
       "<p>75 rows × 7 columns</p>\n",
       "</div>"
      ],
      "text/plain": [
       "                    type transform  count initial value upper bound  \\\n",
       "cn_hk6            cn_hk6       log      1             0           1   \n",
       "cn_hk7            cn_hk7       log      1             0           1   \n",
       "cn_hk8            cn_hk8       log      1             0           1   \n",
       "cn_prsity6    cn_prsity6       log      1             0    0.176091   \n",
       "cn_prsity7    cn_prsity7       log      1             0    0.176091   \n",
       "...                  ...       ...    ...           ...         ...   \n",
       "pp_vka0          pp_vka0       log     32             0           1   \n",
       "pp_vka1          pp_vka1       log     32             0           1   \n",
       "pp_vka2          pp_vka2       log     32             0           1   \n",
       "welflux          welflux       log     25             0           1   \n",
       "welflux_k02  welflux_k02       log      6             0           1   \n",
       "\n",
       "            lower bound standard deviation  \n",
       "cn_hk6               -1                0.5  \n",
       "cn_hk7               -1                0.5  \n",
       "cn_hk8               -1                0.5  \n",
       "cn_prsity6     -0.30103            0.11928  \n",
       "cn_prsity7     -0.30103            0.11928  \n",
       "...                 ...                ...  \n",
       "pp_vka0              -1                0.5  \n",
       "pp_vka1              -1                0.5  \n",
       "pp_vka2              -1                0.5  \n",
       "welflux              -1                0.5  \n",
       "welflux_k02          -1                0.5  \n",
       "\n",
       "[75 rows x 7 columns]"
      ]
     },
     "execution_count": 4,
     "metadata": {},
     "output_type": "execute_result"
    }
   ],
   "source": [
    "pst = pyemu.Pst(os.path.join(t_d,\"freyberg.pst\"))\n",
    "pst.write_par_summary_table(filename=\"none\").sort_index()"
   ]
  },
  {
   "cell_type": "markdown",
   "metadata": {},
   "source": [
    "### define our decision variable group and also set some `++args`.\n",
    "\n",
    "Conceptually, we are going to optimize current pumping rates to make sure we meet ecological flows under both historic (current) conditions and scenario (future) conditions.  Remember the scenario is an extreme 1-year drought, so if we pump too much now, the system will be too low to provide critical flows if next year is an extreme drough - transient memory!\n",
    "\n",
    "Define a parameter group as the devision variables (i.e. the variables that we will tune to meet the optimal condition). We will define `wellflux_k02` as the decision variable group (defined by the `++arg` called `opt_dec_var_groups`. Note in the table above that this group represents (time-invariant) flux mulipliers for each of the 6 wells (we will however only optimize for pumping rates in current (historic) conditions). \n",
    "\n",
    "We can also define which direction we want the optimization to go using `opt_direction` as `max`. This means the objective of the optimization will be to maximize future pumping subject to the constraints we will establish below.\n"
   ]
  },
  {
   "cell_type": "code",
   "execution_count": 5,
   "metadata": {},
   "outputs": [],
   "source": [
    "pst.pestpp_options = {}\n",
    "#dvg = [\"welflux_k02\",\"welflux\"]\n",
    "dvg = [\"welflux_k02\"]  # time-invariant flux multiplier for each well\n",
    "pst.pestpp_options[\"opt_dec_var_groups\"] = dvg\n",
    "pst.pestpp_options[\"opt_direction\"] = \"max\""
   ]
  },
  {
   "cell_type": "markdown",
   "metadata": {},
   "source": [
    "For the first run, we won't use chance constraints, so just fix all non-decision-variable \"parameters\".  We also need to set some realistic bounds on the `welflux` multiplier decision variables.  Finally, we need to specify a larger derivative increment for the decision varible group. For typical parameter estimation, `derinc=0.01` is often sufficient for calculating a Jacobian matrix. But, for the response matrix method of optimization, the response can be subtle requiring a greater perturbation increment. We will set it to `0.25` using some `pandas` manipulation."
   ]
  },
  {
   "cell_type": "code",
   "execution_count": 6,
   "metadata": {},
   "outputs": [
    {
     "data": {
      "text/html": [
       "<div>\n",
       "<style scoped>\n",
       "    .dataframe tbody tr th:only-of-type {\n",
       "        vertical-align: middle;\n",
       "    }\n",
       "\n",
       "    .dataframe tbody tr th {\n",
       "        vertical-align: top;\n",
       "    }\n",
       "\n",
       "    .dataframe thead th {\n",
       "        text-align: right;\n",
       "    }\n",
       "</style>\n",
       "<table border=\"1\" class=\"dataframe\">\n",
       "  <thead>\n",
       "    <tr style=\"text-align: right;\">\n",
       "      <th></th>\n",
       "      <th>parnme</th>\n",
       "      <th>partrans</th>\n",
       "      <th>parchglim</th>\n",
       "      <th>parval1</th>\n",
       "      <th>parlbnd</th>\n",
       "      <th>parubnd</th>\n",
       "      <th>pargp</th>\n",
       "      <th>scale</th>\n",
       "      <th>offset</th>\n",
       "      <th>dercom</th>\n",
       "      <th>extra</th>\n",
       "    </tr>\n",
       "    <tr>\n",
       "      <th>parnme</th>\n",
       "      <th></th>\n",
       "      <th></th>\n",
       "      <th></th>\n",
       "      <th></th>\n",
       "      <th></th>\n",
       "      <th></th>\n",
       "      <th></th>\n",
       "      <th></th>\n",
       "      <th></th>\n",
       "      <th></th>\n",
       "      <th></th>\n",
       "    </tr>\n",
       "  </thead>\n",
       "  <tbody>\n",
       "    <tr>\n",
       "      <th>wf0200090016</th>\n",
       "      <td>wf0200090016</td>\n",
       "      <td>none</td>\n",
       "      <td>factor</td>\n",
       "      <td>1.0</td>\n",
       "      <td>0.0</td>\n",
       "      <td>3.0</td>\n",
       "      <td>welflux_k02</td>\n",
       "      <td>1.0</td>\n",
       "      <td>0.0</td>\n",
       "      <td>1</td>\n",
       "      <td>NaN</td>\n",
       "    </tr>\n",
       "    <tr>\n",
       "      <th>wf0200110013</th>\n",
       "      <td>wf0200110013</td>\n",
       "      <td>none</td>\n",
       "      <td>factor</td>\n",
       "      <td>1.0</td>\n",
       "      <td>0.0</td>\n",
       "      <td>3.0</td>\n",
       "      <td>welflux_k02</td>\n",
       "      <td>1.0</td>\n",
       "      <td>0.0</td>\n",
       "      <td>1</td>\n",
       "      <td>NaN</td>\n",
       "    </tr>\n",
       "    <tr>\n",
       "      <th>wf0200200014</th>\n",
       "      <td>wf0200200014</td>\n",
       "      <td>none</td>\n",
       "      <td>factor</td>\n",
       "      <td>1.0</td>\n",
       "      <td>0.0</td>\n",
       "      <td>3.0</td>\n",
       "      <td>welflux_k02</td>\n",
       "      <td>1.0</td>\n",
       "      <td>0.0</td>\n",
       "      <td>1</td>\n",
       "      <td>NaN</td>\n",
       "    </tr>\n",
       "    <tr>\n",
       "      <th>wf0200260010</th>\n",
       "      <td>wf0200260010</td>\n",
       "      <td>none</td>\n",
       "      <td>factor</td>\n",
       "      <td>1.0</td>\n",
       "      <td>0.0</td>\n",
       "      <td>3.0</td>\n",
       "      <td>welflux_k02</td>\n",
       "      <td>1.0</td>\n",
       "      <td>0.0</td>\n",
       "      <td>1</td>\n",
       "      <td>NaN</td>\n",
       "    </tr>\n",
       "    <tr>\n",
       "      <th>wf0200290006</th>\n",
       "      <td>wf0200290006</td>\n",
       "      <td>none</td>\n",
       "      <td>factor</td>\n",
       "      <td>1.0</td>\n",
       "      <td>0.0</td>\n",
       "      <td>3.0</td>\n",
       "      <td>welflux_k02</td>\n",
       "      <td>1.0</td>\n",
       "      <td>0.0</td>\n",
       "      <td>1</td>\n",
       "      <td>NaN</td>\n",
       "    </tr>\n",
       "    <tr>\n",
       "      <th>wf0200340012</th>\n",
       "      <td>wf0200340012</td>\n",
       "      <td>none</td>\n",
       "      <td>factor</td>\n",
       "      <td>1.0</td>\n",
       "      <td>0.0</td>\n",
       "      <td>3.0</td>\n",
       "      <td>welflux_k02</td>\n",
       "      <td>1.0</td>\n",
       "      <td>0.0</td>\n",
       "      <td>1</td>\n",
       "      <td>NaN</td>\n",
       "    </tr>\n",
       "  </tbody>\n",
       "</table>\n",
       "</div>"
      ],
      "text/plain": [
       "                    parnme partrans parchglim  parval1  parlbnd  parubnd  \\\n",
       "parnme                                                                     \n",
       "wf0200090016  wf0200090016     none    factor      1.0      0.0      3.0   \n",
       "wf0200110013  wf0200110013     none    factor      1.0      0.0      3.0   \n",
       "wf0200200014  wf0200200014     none    factor      1.0      0.0      3.0   \n",
       "wf0200260010  wf0200260010     none    factor      1.0      0.0      3.0   \n",
       "wf0200290006  wf0200290006     none    factor      1.0      0.0      3.0   \n",
       "wf0200340012  wf0200340012     none    factor      1.0      0.0      3.0   \n",
       "\n",
       "                    pargp  scale  offset dercom  extra  \n",
       "parnme                                                  \n",
       "wf0200090016  welflux_k02    1.0     0.0      1    NaN  \n",
       "wf0200110013  welflux_k02    1.0     0.0      1    NaN  \n",
       "wf0200200014  welflux_k02    1.0     0.0      1    NaN  \n",
       "wf0200260010  welflux_k02    1.0     0.0      1    NaN  \n",
       "wf0200290006  welflux_k02    1.0     0.0      1    NaN  \n",
       "wf0200340012  welflux_k02    1.0     0.0      1    NaN  "
      ]
     },
     "execution_count": 6,
     "metadata": {},
     "output_type": "execute_result"
    }
   ],
   "source": [
    "par = pst.parameter_data\n",
    "par.loc[:,\"partrans\"] = \"fixed\"\n",
    "\n",
    "temporal_wel_pars = par.loc[par.parnme.apply(lambda x: \"welflux\" in x),\"parnme\"]\n",
    "#print(temporal_wel_pars)\n",
    "#par.loc[temporal_wel_pars,\"parlbnd\"] = 0.0 \n",
    "par.loc[temporal_wel_pars,\"parval1\"] = 1.0\n",
    "\n",
    "# # dec vars\n",
    "dvg_pars = par.loc[par.pargp.apply(lambda x: x in dvg),\"parnme\"]\n",
    "par.loc[dvg_pars,\"partrans\"] = \"none\"\n",
    "par.loc[dvg_pars,\"parlbnd\"] = 0.0\n",
    "par.loc[dvg_pars,\"parubnd\"] = 3.0  # corresponds to -450 m3/d\n",
    "par.loc[dvg_pars,\"parval1\"] = 1.0\n",
    "\n",
    "par.loc[dvg_pars,:]"
   ]
  },
  {
   "cell_type": "code",
   "execution_count": 7,
   "metadata": {},
   "outputs": [
    {
     "data": {
      "text/html": [
       "<div>\n",
       "<style scoped>\n",
       "    .dataframe tbody tr th:only-of-type {\n",
       "        vertical-align: middle;\n",
       "    }\n",
       "\n",
       "    .dataframe tbody tr th {\n",
       "        vertical-align: top;\n",
       "    }\n",
       "\n",
       "    .dataframe thead th {\n",
       "        text-align: right;\n",
       "    }\n",
       "</style>\n",
       "<table border=\"1\" class=\"dataframe\">\n",
       "  <thead>\n",
       "    <tr style=\"text-align: right;\">\n",
       "      <th></th>\n",
       "      <th>pargpnme</th>\n",
       "      <th>inctyp</th>\n",
       "      <th>derinc</th>\n",
       "      <th>derinclb</th>\n",
       "      <th>forcen</th>\n",
       "      <th>derincmul</th>\n",
       "      <th>dermthd</th>\n",
       "      <th>splitthresh</th>\n",
       "      <th>splitreldiff</th>\n",
       "      <th>splitaction</th>\n",
       "      <th>extra</th>\n",
       "    </tr>\n",
       "    <tr>\n",
       "      <th>pargpnme</th>\n",
       "      <th></th>\n",
       "      <th></th>\n",
       "      <th></th>\n",
       "      <th></th>\n",
       "      <th></th>\n",
       "      <th></th>\n",
       "      <th></th>\n",
       "      <th></th>\n",
       "      <th></th>\n",
       "      <th></th>\n",
       "      <th></th>\n",
       "    </tr>\n",
       "  </thead>\n",
       "  <tbody>\n",
       "    <tr>\n",
       "      <th>welflux_k02</th>\n",
       "      <td>welflux_k02</td>\n",
       "      <td>absolute</td>\n",
       "      <td>0.25</td>\n",
       "      <td>0.0</td>\n",
       "      <td>switch</td>\n",
       "      <td>2.0</td>\n",
       "      <td>parabolic</td>\n",
       "      <td>1.0000000000e-05</td>\n",
       "      <td>5.0000000000e-01</td>\n",
       "      <td>smaller</td>\n",
       "      <td>NaN</td>\n",
       "    </tr>\n",
       "  </tbody>\n",
       "</table>\n",
       "</div>"
      ],
      "text/plain": [
       "                pargpnme    inctyp  derinc  derinclb  forcen  derincmul  \\\n",
       "pargpnme                                                                  \n",
       "welflux_k02  welflux_k02  absolute    0.25       0.0  switch        2.0   \n",
       "\n",
       "               dermthd       splitthresh      splitreldiff splitaction  extra  \n",
       "pargpnme                                                                       \n",
       "welflux_k02  parabolic  1.0000000000e-05  5.0000000000e-01     smaller    NaN  "
      ]
     },
     "execution_count": 7,
     "metadata": {},
     "output_type": "execute_result"
    }
   ],
   "source": [
    "pst.rectify_pgroups()\n",
    "pst.parameter_groups.loc[dvg,\"inctyp\"] = \"absolute\"\n",
    "pst.parameter_groups.loc[dvg,\"inctyp\"] = \"absolute\"\n",
    "pst.parameter_groups.loc[dvg,\"derinc\"] = 0.25\n",
    "\n",
    "pst.parameter_groups.loc[dvg,:]"
   ]
  },
  {
   "cell_type": "markdown",
   "metadata": {},
   "source": [
    "### define constraints\n",
    "\n",
    "Model-based or dec var-related constraints are identified in `pestpp-opt` by an obs or prior information group that starts with \"less_than\" or \"greater_than\" and a weight greater than zero.  So first, we turn off all of the weights and get names for the sw-gw exchange forecasts (funny how optimization turns forecasts into constraints...)"
   ]
  },
  {
   "cell_type": "code",
   "execution_count": 8,
   "metadata": {},
   "outputs": [
    {
     "data": {
      "text/plain": [
       "<matplotlib.axes._subplots.AxesSubplot at 0x7ffd486ca2b0>"
      ]
     },
     "execution_count": 8,
     "metadata": {},
     "output_type": "execute_result"
    },
    {
     "data": {
      "image/png": "[encoded data removed]",
      "text/plain": [
       "<Figure size 432x288 with 1 Axes>"
      ]
     },
     "metadata": {
      "needs_background": "light"
     },
     "output_type": "display_data"
    }
   ],
   "source": [
    "obs = pst.observation_data\n",
    "obs.loc[:,\"weight\"] = 0.0\n",
    "swgw_const = obs.loc[obs.obsnme.apply(lambda x: \"fa\" in x and (\"hw\" in x or \"tw\" in x)),\"obsnme\"]\n",
    "obs.loc[swgw_const,:].obsval.hist(bins=20)"
   ]
  },
  {
   "cell_type": "markdown",
   "metadata": {},
   "source": [
    "We need to change the obs group (`obgnme`) so that `pestpp-opt` will recognize these model outputs as constraints.  The `obsval` becomes the RHS of the constraint.  "
   ]
  },
  {
   "cell_type": "code",
   "execution_count": 9,
   "metadata": {},
   "outputs": [],
   "source": [
    "obs.loc[swgw_const,\"obgnme\"] = \"less_than\"\n",
    "obs.loc[swgw_const,\"weight\"] = 1.0\n",
    "\n",
    "# we must have at least 300 m3/day of flux from gw to sw\n",
    "# for historic and scenario periods\n",
    "# and for both headwaters and tailwaters\n",
    "obs.loc[swgw_const,\"obsval\"] = -100"
   ]
  },
  {
   "cell_type": "markdown",
   "metadata": {},
   "source": [
    "Now we need to define a minimum total pumping rate, otherwise this opt problem might yield a solution that doesn't give enough water for the intended usage.  We will do this through a prior information constraint since this just a sum of decision variable values - the required minimum value will the sum of current pumping rates:"
   ]
  },
  {
   "cell_type": "code",
   "execution_count": 10,
   "metadata": {},
   "outputs": [
    {
     "data": {
      "text/plain": [
       "['pilbl', 'equation', 'weight', 'obgnme']"
      ]
     },
     "execution_count": 10,
     "metadata": {},
     "output_type": "execute_result"
    }
   ],
   "source": [
    "pyemu.pst_utils.pst_config[\"prior_fieldnames\"]"
   ]
  },
  {
   "cell_type": "markdown",
   "metadata": {},
   "source": [
    "Since all pumping wells are using the same rate and are of same \"water supply benefit\", we can just use a `1.0` multiplier in front of each `wel.flux` decision varialbe.  If that is not the case, then you need to set the multipliers to be more meaningful"
   ]
  },
  {
   "cell_type": "code",
   "execution_count": 11,
   "metadata": {},
   "outputs": [
    {
     "data": {
      "text/plain": [
       "'1.0 * wf0200090016 + 1.0 * wf0200110013 + 1.0 * wf0200200014 + 1.0 * wf0200260010 + 1.0 * wf0200290006 + 1.0 * wf0200340012 = 6.0'"
      ]
     },
     "execution_count": 11,
     "metadata": {},
     "output_type": "execute_result"
    }
   ],
   "source": [
    "pi = pst.null_prior\n",
    "pi.loc[\"pi_1\",\"obgnme\"] = \"greater_than\"\n",
    "pi.loc[\"pi_1\",\"pilbl\"] = \"pi_1\"\n",
    "pi.loc[\"pi_1\",\"equation\"] = \" + \".join([\"1.0 * {0}\".format(d) for d in dvg_pars]) +\\\n",
    "                            \" = {0}\".format(par.loc[dvg_pars,\"parval1\"].sum())\n",
    "pi.loc[\"pi_1\",\"weight\"] = 1.0\n",
    "pi.equation[\"pi_1\"]"
   ]
  },
  {
   "cell_type": "code",
   "execution_count": 12,
   "metadata": {},
   "outputs": [
    {
     "data": {
      "text/html": [
       "<div>\n",
       "<style scoped>\n",
       "    .dataframe tbody tr th:only-of-type {\n",
       "        vertical-align: middle;\n",
       "    }\n",
       "\n",
       "    .dataframe tbody tr th {\n",
       "        vertical-align: top;\n",
       "    }\n",
       "\n",
       "    .dataframe thead th {\n",
       "        text-align: right;\n",
       "    }\n",
       "</style>\n",
       "<table border=\"1\" class=\"dataframe\">\n",
       "  <thead>\n",
       "    <tr style=\"text-align: right;\">\n",
       "      <th></th>\n",
       "      <th>pilbl</th>\n",
       "      <th>obgnme</th>\n",
       "      <th>equation</th>\n",
       "      <th>weight</th>\n",
       "    </tr>\n",
       "  </thead>\n",
       "  <tbody>\n",
       "    <tr>\n",
       "      <th>pi_1</th>\n",
       "      <td>pi_1</td>\n",
       "      <td>greater_than</td>\n",
       "      <td>1.0 * wf0200090016 + 1.0 * wf0200110013 + 1.0 * wf0200200014 + 1.0 * wf0200260010 + 1.0 * wf0200...</td>\n",
       "      <td>1.0</td>\n",
       "    </tr>\n",
       "  </tbody>\n",
       "</table>\n",
       "</div>"
      ],
      "text/plain": [
       "     pilbl        obgnme  \\\n",
       "pi_1  pi_1  greater_than   \n",
       "\n",
       "                                                                                                 equation  \\\n",
       "pi_1  1.0 * wf0200090016 + 1.0 * wf0200110013 + 1.0 * wf0200200014 + 1.0 * wf0200260010 + 1.0 * wf0200...   \n",
       "\n",
       "      weight  \n",
       "pi_1     1.0  "
      ]
     },
     "execution_count": 12,
     "metadata": {},
     "output_type": "execute_result"
    }
   ],
   "source": [
    "pst.prior_information"
   ]
  },
  {
   "cell_type": "markdown",
   "metadata": {},
   "source": [
    "## now for a risk-neutral optimization (ignoring uncertainty in constraints)"
   ]
  },
  {
   "cell_type": "markdown",
   "metadata": {},
   "source": [
    "#### Note that setting `noptmax=1` is equivalent to selecting Linear Programming (LP) as the optimization algorithm (thus assuming a linear response matrix).\n",
    "\n",
    "#### A higher value of `noptmax` runs Sequential Linear Programming (SLP)"
   ]
  },
  {
   "cell_type": "code",
   "execution_count": 13,
   "metadata": {},
   "outputs": [
    {
     "name": "stdout",
     "output_type": "stream",
     "text": [
      "noptmax:1, npar_adj:6, nnz_obs:50\n"
     ]
    }
   ],
   "source": [
    "pst.control_data.noptmax = 1\n",
    "pst.write(os.path.join(t_d,\"freyberg_opt.pst\"))\n",
    "pyemu.os_utils.start_workers(t_d,\"pestpp-opt\",\"freyberg_opt.pst\",num_workers=num_workers,master_dir=m_d)"
   ]
  },
  {
   "cell_type": "markdown",
   "metadata": {},
   "source": [
    "Let's load and inspect the response matrix"
   ]
  },
  {
   "cell_type": "code",
   "execution_count": 14,
   "metadata": {},
   "outputs": [
    {
     "data": {
      "text/html": [
       "<div>\n",
       "<style scoped>\n",
       "    .dataframe tbody tr th:only-of-type {\n",
       "        vertical-align: middle;\n",
       "    }\n",
       "\n",
       "    .dataframe tbody tr th {\n",
       "        vertical-align: top;\n",
       "    }\n",
       "\n",
       "    .dataframe thead th {\n",
       "        text-align: right;\n",
       "    }\n",
       "</style>\n",
       "<table border=\"1\" class=\"dataframe\">\n",
       "  <thead>\n",
       "    <tr style=\"text-align: right;\">\n",
       "      <th></th>\n",
       "      <th>wf0200090016</th>\n",
       "      <th>wf0200110013</th>\n",
       "      <th>wf0200200014</th>\n",
       "      <th>wf0200260010</th>\n",
       "      <th>wf0200290006</th>\n",
       "      <th>wf0200340012</th>\n",
       "    </tr>\n",
       "  </thead>\n",
       "  <tbody>\n",
       "    <tr>\n",
       "      <th>fa_hw_20160101</th>\n",
       "      <td>140.89200</td>\n",
       "      <td>130.94000</td>\n",
       "      <td>48.308000</td>\n",
       "      <td>24.83200</td>\n",
       "      <td>21.71600</td>\n",
       "      <td>5.72800</td>\n",
       "    </tr>\n",
       "    <tr>\n",
       "      <th>fa_hw_20160201</th>\n",
       "      <td>106.36400</td>\n",
       "      <td>107.84800</td>\n",
       "      <td>41.204000</td>\n",
       "      <td>24.59600</td>\n",
       "      <td>21.76000</td>\n",
       "      <td>5.73600</td>\n",
       "    </tr>\n",
       "    <tr>\n",
       "      <th>fa_hw_20160301</th>\n",
       "      <td>92.02000</td>\n",
       "      <td>94.87200</td>\n",
       "      <td>36.836000</td>\n",
       "      <td>24.06800</td>\n",
       "      <td>21.70800</td>\n",
       "      <td>5.74000</td>\n",
       "    </tr>\n",
       "    <tr>\n",
       "      <th>fa_hw_20160401</th>\n",
       "      <td>94.25200</td>\n",
       "      <td>93.67200</td>\n",
       "      <td>35.912000</td>\n",
       "      <td>23.32800</td>\n",
       "      <td>21.52400</td>\n",
       "      <td>5.66800</td>\n",
       "    </tr>\n",
       "    <tr>\n",
       "      <th>fa_hw_20160501</th>\n",
       "      <td>111.12400</td>\n",
       "      <td>103.92000</td>\n",
       "      <td>38.644000</td>\n",
       "      <td>22.72400</td>\n",
       "      <td>21.20000</td>\n",
       "      <td>5.58000</td>\n",
       "    </tr>\n",
       "    <tr>\n",
       "      <th>fa_hw_20160601</th>\n",
       "      <td>137.45200</td>\n",
       "      <td>122.56800</td>\n",
       "      <td>44.368000</td>\n",
       "      <td>22.60800</td>\n",
       "      <td>20.98400</td>\n",
       "      <td>5.50400</td>\n",
       "    </tr>\n",
       "    <tr>\n",
       "      <th>fa_hw_20160701</th>\n",
       "      <td>164.22400</td>\n",
       "      <td>142.97600</td>\n",
       "      <td>50.972000</td>\n",
       "      <td>22.88800</td>\n",
       "      <td>20.79200</td>\n",
       "      <td>5.44800</td>\n",
       "    </tr>\n",
       "    <tr>\n",
       "      <th>fa_hw_20160801</th>\n",
       "      <td>179.00400</td>\n",
       "      <td>156.30800</td>\n",
       "      <td>55.692000</td>\n",
       "      <td>23.53200</td>\n",
       "      <td>20.72000</td>\n",
       "      <td>5.41200</td>\n",
       "    </tr>\n",
       "    <tr>\n",
       "      <th>fa_hw_20160901</th>\n",
       "      <td>194.13200</td>\n",
       "      <td>169.21200</td>\n",
       "      <td>60.308000</td>\n",
       "      <td>24.46000</td>\n",
       "      <td>20.82000</td>\n",
       "      <td>5.43600</td>\n",
       "    </tr>\n",
       "    <tr>\n",
       "      <th>fa_hw_20161001</th>\n",
       "      <td>199.33800</td>\n",
       "      <td>175.55680</td>\n",
       "      <td>62.836000</td>\n",
       "      <td>25.52400</td>\n",
       "      <td>21.11600</td>\n",
       "      <td>5.52800</td>\n",
       "    </tr>\n",
       "    <tr>\n",
       "      <th>fa_hw_20161101</th>\n",
       "      <td>190.61320</td>\n",
       "      <td>171.80680</td>\n",
       "      <td>62.179200</td>\n",
       "      <td>26.53000</td>\n",
       "      <td>21.52960</td>\n",
       "      <td>5.66080</td>\n",
       "    </tr>\n",
       "    <tr>\n",
       "      <th>fa_hw_20161201</th>\n",
       "      <td>169.41760</td>\n",
       "      <td>158.13600</td>\n",
       "      <td>58.284000</td>\n",
       "      <td>27.18800</td>\n",
       "      <td>21.96000</td>\n",
       "      <td>5.81200</td>\n",
       "    </tr>\n",
       "    <tr>\n",
       "      <th>fa_hw_20170101</th>\n",
       "      <td>140.70400</td>\n",
       "      <td>137.46000</td>\n",
       "      <td>51.908000</td>\n",
       "      <td>27.34000</td>\n",
       "      <td>22.34400</td>\n",
       "      <td>5.93600</td>\n",
       "    </tr>\n",
       "    <tr>\n",
       "      <th>fa_hw_20170201</th>\n",
       "      <td>113.12000</td>\n",
       "      <td>115.98400</td>\n",
       "      <td>44.932000</td>\n",
       "      <td>26.97600</td>\n",
       "      <td>22.59600</td>\n",
       "      <td>6.03200</td>\n",
       "    </tr>\n",
       "    <tr>\n",
       "      <th>fa_hw_20170301</th>\n",
       "      <td>95.57600</td>\n",
       "      <td>100.81200</td>\n",
       "      <td>39.672000</td>\n",
       "      <td>26.23600</td>\n",
       "      <td>22.63200</td>\n",
       "      <td>6.04000</td>\n",
       "    </tr>\n",
       "    <tr>\n",
       "      <th>fa_hw_20170401</th>\n",
       "      <td>90.70000</td>\n",
       "      <td>94.09200</td>\n",
       "      <td>36.852000</td>\n",
       "      <td>25.18000</td>\n",
       "      <td>22.49200</td>\n",
       "      <td>6.00800</td>\n",
       "    </tr>\n",
       "    <tr>\n",
       "      <th>fa_hw_20170501</th>\n",
       "      <td>101.15600</td>\n",
       "      <td>98.93200</td>\n",
       "      <td>37.700000</td>\n",
       "      <td>24.21600</td>\n",
       "      <td>22.17600</td>\n",
       "      <td>5.90400</td>\n",
       "    </tr>\n",
       "    <tr>\n",
       "      <th>fa_hw_20170601</th>\n",
       "      <td>123.82000</td>\n",
       "      <td>113.81200</td>\n",
       "      <td>41.948000</td>\n",
       "      <td>23.56800</td>\n",
       "      <td>21.80400</td>\n",
       "      <td>5.78000</td>\n",
       "    </tr>\n",
       "    <tr>\n",
       "      <th>fa_hw_20170701</th>\n",
       "      <td>151.01600</td>\n",
       "      <td>133.49600</td>\n",
       "      <td>48.080000</td>\n",
       "      <td>23.40800</td>\n",
       "      <td>21.46400</td>\n",
       "      <td>5.66400</td>\n",
       "    </tr>\n",
       "    <tr>\n",
       "      <th>fa_hw_20170801</th>\n",
       "      <td>175.88400</td>\n",
       "      <td>153.06800</td>\n",
       "      <td>54.540000</td>\n",
       "      <td>23.77200</td>\n",
       "      <td>21.26400</td>\n",
       "      <td>5.59600</td>\n",
       "    </tr>\n",
       "    <tr>\n",
       "      <th>fa_hw_20170901</th>\n",
       "      <td>190.93240</td>\n",
       "      <td>166.56000</td>\n",
       "      <td>59.296000</td>\n",
       "      <td>24.58400</td>\n",
       "      <td>21.28800</td>\n",
       "      <td>5.60800</td>\n",
       "    </tr>\n",
       "    <tr>\n",
       "      <th>fa_hw_20171001</th>\n",
       "      <td>191.69760</td>\n",
       "      <td>169.97560</td>\n",
       "      <td>60.915200</td>\n",
       "      <td>25.51400</td>\n",
       "      <td>21.48600</td>\n",
       "      <td>5.65920</td>\n",
       "    </tr>\n",
       "    <tr>\n",
       "      <th>fa_hw_20171101</th>\n",
       "      <td>177.55120</td>\n",
       "      <td>162.10680</td>\n",
       "      <td>58.964000</td>\n",
       "      <td>26.34400</td>\n",
       "      <td>21.81200</td>\n",
       "      <td>5.73600</td>\n",
       "    </tr>\n",
       "    <tr>\n",
       "      <th>fa_hw_20171201</th>\n",
       "      <td>152.99600</td>\n",
       "      <td>145.47600</td>\n",
       "      <td>54.056000</td>\n",
       "      <td>26.78000</td>\n",
       "      <td>22.14000</td>\n",
       "      <td>5.84400</td>\n",
       "    </tr>\n",
       "    <tr>\n",
       "      <th>fa_hw_20180101</th>\n",
       "      <td>124.44000</td>\n",
       "      <td>124.23600</td>\n",
       "      <td>47.392000</td>\n",
       "      <td>26.72400</td>\n",
       "      <td>22.40000</td>\n",
       "      <td>5.94000</td>\n",
       "    </tr>\n",
       "    <tr>\n",
       "      <th>fa_tw_20160101</th>\n",
       "      <td>7.30612</td>\n",
       "      <td>16.02108</td>\n",
       "      <td>95.601720</td>\n",
       "      <td>97.58876</td>\n",
       "      <td>78.61676</td>\n",
       "      <td>85.59908</td>\n",
       "    </tr>\n",
       "    <tr>\n",
       "      <th>fa_tw_20160201</th>\n",
       "      <td>8.86104</td>\n",
       "      <td>17.01504</td>\n",
       "      <td>70.059680</td>\n",
       "      <td>90.28832</td>\n",
       "      <td>77.32552</td>\n",
       "      <td>70.78392</td>\n",
       "    </tr>\n",
       "    <tr>\n",
       "      <th>fa_tw_20160301</th>\n",
       "      <td>8.61640</td>\n",
       "      <td>16.49680</td>\n",
       "      <td>61.180400</td>\n",
       "      <td>82.42320</td>\n",
       "      <td>74.52640</td>\n",
       "      <td>60.94480</td>\n",
       "    </tr>\n",
       "    <tr>\n",
       "      <th>fa_tw_20160401</th>\n",
       "      <td>7.77492</td>\n",
       "      <td>15.44928</td>\n",
       "      <td>64.458800</td>\n",
       "      <td>77.88844</td>\n",
       "      <td>71.37844</td>\n",
       "      <td>59.23764</td>\n",
       "    </tr>\n",
       "    <tr>\n",
       "      <th>fa_tw_20160501</th>\n",
       "      <td>6.63040</td>\n",
       "      <td>14.15720</td>\n",
       "      <td>77.229200</td>\n",
       "      <td>78.76520</td>\n",
       "      <td>69.29720</td>\n",
       "      <td>65.98388</td>\n",
       "    </tr>\n",
       "    <tr>\n",
       "      <th>fa_tw_20160601</th>\n",
       "      <td>5.40800</td>\n",
       "      <td>13.38760</td>\n",
       "      <td>95.992800</td>\n",
       "      <td>85.45832</td>\n",
       "      <td>69.62260</td>\n",
       "      <td>79.06440</td>\n",
       "    </tr>\n",
       "    <tr>\n",
       "      <th>fa_tw_20160701</th>\n",
       "      <td>4.19864</td>\n",
       "      <td>12.67732</td>\n",
       "      <td>113.784760</td>\n",
       "      <td>94.88516</td>\n",
       "      <td>71.69676</td>\n",
       "      <td>93.73036</td>\n",
       "    </tr>\n",
       "    <tr>\n",
       "      <th>fa_tw_20160801</th>\n",
       "      <td>3.59280</td>\n",
       "      <td>12.50600</td>\n",
       "      <td>122.081200</td>\n",
       "      <td>103.75240</td>\n",
       "      <td>75.05080</td>\n",
       "      <td>103.92184</td>\n",
       "    </tr>\n",
       "    <tr>\n",
       "      <th>fa_tw_20160901</th>\n",
       "      <td>3.66400</td>\n",
       "      <td>13.09600</td>\n",
       "      <td>131.464400</td>\n",
       "      <td>112.33960</td>\n",
       "      <td>79.28360</td>\n",
       "      <td>113.01292</td>\n",
       "    </tr>\n",
       "    <tr>\n",
       "      <th>fa_tw_20161001</th>\n",
       "      <td>5.45480</td>\n",
       "      <td>15.15440</td>\n",
       "      <td>134.332400</td>\n",
       "      <td>118.97080</td>\n",
       "      <td>83.73440</td>\n",
       "      <td>117.52908</td>\n",
       "    </tr>\n",
       "    <tr>\n",
       "      <th>fa_tw_20161101</th>\n",
       "      <td>7.79560</td>\n",
       "      <td>17.56192</td>\n",
       "      <td>127.650000</td>\n",
       "      <td>121.47232</td>\n",
       "      <td>87.46472</td>\n",
       "      <td>114.95112</td>\n",
       "    </tr>\n",
       "    <tr>\n",
       "      <th>fa_tw_20161201</th>\n",
       "      <td>9.53952</td>\n",
       "      <td>19.22384</td>\n",
       "      <td>112.436360</td>\n",
       "      <td>118.51408</td>\n",
       "      <td>89.27848</td>\n",
       "      <td>105.33088</td>\n",
       "    </tr>\n",
       "    <tr>\n",
       "      <th>fa_tw_20170101</th>\n",
       "      <td>10.41936</td>\n",
       "      <td>19.88444</td>\n",
       "      <td>92.524960</td>\n",
       "      <td>110.37056</td>\n",
       "      <td>88.68976</td>\n",
       "      <td>90.49296</td>\n",
       "    </tr>\n",
       "    <tr>\n",
       "      <th>fa_tw_20170201</th>\n",
       "      <td>10.54492</td>\n",
       "      <td>19.61076</td>\n",
       "      <td>74.178400</td>\n",
       "      <td>99.39520</td>\n",
       "      <td>85.85280</td>\n",
       "      <td>74.91280</td>\n",
       "    </tr>\n",
       "    <tr>\n",
       "      <th>fa_tw_20170301</th>\n",
       "      <td>10.05600</td>\n",
       "      <td>18.73520</td>\n",
       "      <td>63.318000</td>\n",
       "      <td>89.52120</td>\n",
       "      <td>81.95600</td>\n",
       "      <td>63.74640</td>\n",
       "    </tr>\n",
       "    <tr>\n",
       "      <th>fa_tw_20170401</th>\n",
       "      <td>9.00020</td>\n",
       "      <td>17.30512</td>\n",
       "      <td>61.654000</td>\n",
       "      <td>81.87756</td>\n",
       "      <td>77.32484</td>\n",
       "      <td>58.55068</td>\n",
       "    </tr>\n",
       "    <tr>\n",
       "      <th>fa_tw_20170501</th>\n",
       "      <td>7.64520</td>\n",
       "      <td>15.74240</td>\n",
       "      <td>70.336000</td>\n",
       "      <td>79.63160</td>\n",
       "      <td>73.76800</td>\n",
       "      <td>61.72360</td>\n",
       "    </tr>\n",
       "    <tr>\n",
       "      <th>fa_tw_20170601</th>\n",
       "      <td>6.07212</td>\n",
       "      <td>14.24364</td>\n",
       "      <td>86.669560</td>\n",
       "      <td>83.18916</td>\n",
       "      <td>72.08200</td>\n",
       "      <td>72.29596</td>\n",
       "    </tr>\n",
       "    <tr>\n",
       "      <th>fa_tw_20170701</th>\n",
       "      <td>4.46880</td>\n",
       "      <td>13.00160</td>\n",
       "      <td>105.136800</td>\n",
       "      <td>90.99000</td>\n",
       "      <td>72.63560</td>\n",
       "      <td>86.55480</td>\n",
       "    </tr>\n",
       "    <tr>\n",
       "      <th>fa_tw_20170801</th>\n",
       "      <td>3.42780</td>\n",
       "      <td>12.43372</td>\n",
       "      <td>121.027120</td>\n",
       "      <td>101.12408</td>\n",
       "      <td>75.29084</td>\n",
       "      <td>100.96080</td>\n",
       "    </tr>\n",
       "    <tr>\n",
       "      <th>fa_tw_20170901</th>\n",
       "      <td>4.08780</td>\n",
       "      <td>13.46720</td>\n",
       "      <td>130.011568</td>\n",
       "      <td>110.63988</td>\n",
       "      <td>79.41228</td>\n",
       "      <td>111.05548</td>\n",
       "    </tr>\n",
       "    <tr>\n",
       "      <th>fa_tw_20171001</th>\n",
       "      <td>6.27072</td>\n",
       "      <td>15.75448</td>\n",
       "      <td>129.478080</td>\n",
       "      <td>116.69788</td>\n",
       "      <td>83.62060</td>\n",
       "      <td>113.90420</td>\n",
       "    </tr>\n",
       "    <tr>\n",
       "      <th>fa_tw_20171101</th>\n",
       "      <td>8.36000</td>\n",
       "      <td>17.85360</td>\n",
       "      <td>118.763600</td>\n",
       "      <td>117.39000</td>\n",
       "      <td>86.62920</td>\n",
       "      <td>108.55320</td>\n",
       "    </tr>\n",
       "    <tr>\n",
       "      <th>fa_tw_20171201</th>\n",
       "      <td>9.70000</td>\n",
       "      <td>19.05920</td>\n",
       "      <td>101.231200</td>\n",
       "      <td>112.48712</td>\n",
       "      <td>87.49184</td>\n",
       "      <td>96.75792</td>\n",
       "    </tr>\n",
       "    <tr>\n",
       "      <th>fa_tw_20180101</th>\n",
       "      <td>10.24400</td>\n",
       "      <td>19.29840</td>\n",
       "      <td>81.664400</td>\n",
       "      <td>103.11840</td>\n",
       "      <td>85.91920</td>\n",
       "      <td>81.39324</td>\n",
       "    </tr>\n",
       "  </tbody>\n",
       "</table>\n",
       "</div>"
      ],
      "text/plain": [
       "                wf0200090016  wf0200110013  wf0200200014  wf0200260010  \\\n",
       "fa_hw_20160101     140.89200     130.94000     48.308000      24.83200   \n",
       "fa_hw_20160201     106.36400     107.84800     41.204000      24.59600   \n",
       "fa_hw_20160301      92.02000      94.87200     36.836000      24.06800   \n",
       "fa_hw_20160401      94.25200      93.67200     35.912000      23.32800   \n",
       "fa_hw_20160501     111.12400     103.92000     38.644000      22.72400   \n",
       "fa_hw_20160601     137.45200     122.56800     44.368000      22.60800   \n",
       "fa_hw_20160701     164.22400     142.97600     50.972000      22.88800   \n",
       "fa_hw_20160801     179.00400     156.30800     55.692000      23.53200   \n",
       "fa_hw_20160901     194.13200     169.21200     60.308000      24.46000   \n",
       "fa_hw_20161001     199.33800     175.55680     62.836000      25.52400   \n",
       "fa_hw_20161101     190.61320     171.80680     62.179200      26.53000   \n",
       "fa_hw_20161201     169.41760     158.13600     58.284000      27.18800   \n",
       "fa_hw_20170101     140.70400     137.46000     51.908000      27.34000   \n",
       "fa_hw_20170201     113.12000     115.98400     44.932000      26.97600   \n",
       "fa_hw_20170301      95.57600     100.81200     39.672000      26.23600   \n",
       "fa_hw_20170401      90.70000      94.09200     36.852000      25.18000   \n",
       "fa_hw_20170501     101.15600      98.93200     37.700000      24.21600   \n",
       "fa_hw_20170601     123.82000     113.81200     41.948000      23.56800   \n",
       "fa_hw_20170701     151.01600     133.49600     48.080000      23.40800   \n",
       "fa_hw_20170801     175.88400     153.06800     54.540000      23.77200   \n",
       "fa_hw_20170901     190.93240     166.56000     59.296000      24.58400   \n",
       "fa_hw_20171001     191.69760     169.97560     60.915200      25.51400   \n",
       "fa_hw_20171101     177.55120     162.10680     58.964000      26.34400   \n",
       "fa_hw_20171201     152.99600     145.47600     54.056000      26.78000   \n",
       "fa_hw_20180101     124.44000     124.23600     47.392000      26.72400   \n",
       "fa_tw_20160101       7.30612      16.02108     95.601720      97.58876   \n",
       "fa_tw_20160201       8.86104      17.01504     70.059680      90.28832   \n",
       "fa_tw_20160301       8.61640      16.49680     61.180400      82.42320   \n",
       "fa_tw_20160401       7.77492      15.44928     64.458800      77.88844   \n",
       "fa_tw_20160501       6.63040      14.15720     77.229200      78.76520   \n",
       "fa_tw_20160601       5.40800      13.38760     95.992800      85.45832   \n",
       "fa_tw_20160701       4.19864      12.67732    113.784760      94.88516   \n",
       "fa_tw_20160801       3.59280      12.50600    122.081200     103.75240   \n",
       "fa_tw_20160901       3.66400      13.09600    131.464400     112.33960   \n",
       "fa_tw_20161001       5.45480      15.15440    134.332400     118.97080   \n",
       "fa_tw_20161101       7.79560      17.56192    127.650000     121.47232   \n",
       "fa_tw_20161201       9.53952      19.22384    112.436360     118.51408   \n",
       "fa_tw_20170101      10.41936      19.88444     92.524960     110.37056   \n",
       "fa_tw_20170201      10.54492      19.61076     74.178400      99.39520   \n",
       "fa_tw_20170301      10.05600      18.73520     63.318000      89.52120   \n",
       "fa_tw_20170401       9.00020      17.30512     61.654000      81.87756   \n",
       "fa_tw_20170501       7.64520      15.74240     70.336000      79.63160   \n",
       "fa_tw_20170601       6.07212      14.24364     86.669560      83.18916   \n",
       "fa_tw_20170701       4.46880      13.00160    105.136800      90.99000   \n",
       "fa_tw_20170801       3.42780      12.43372    121.027120     101.12408   \n",
       "fa_tw_20170901       4.08780      13.46720    130.011568     110.63988   \n",
       "fa_tw_20171001       6.27072      15.75448    129.478080     116.69788   \n",
       "fa_tw_20171101       8.36000      17.85360    118.763600     117.39000   \n",
       "fa_tw_20171201       9.70000      19.05920    101.231200     112.48712   \n",
       "fa_tw_20180101      10.24400      19.29840     81.664400     103.11840   \n",
       "\n",
       "                wf0200290006  wf0200340012  \n",
       "fa_hw_20160101      21.71600       5.72800  \n",
       "fa_hw_20160201      21.76000       5.73600  \n",
       "fa_hw_20160301      21.70800       5.74000  \n",
       "fa_hw_20160401      21.52400       5.66800  \n",
       "fa_hw_20160501      21.20000       5.58000  \n",
       "fa_hw_20160601      20.98400       5.50400  \n",
       "fa_hw_20160701      20.79200       5.44800  \n",
       "fa_hw_20160801      20.72000       5.41200  \n",
       "fa_hw_20160901      20.82000       5.43600  \n",
       "fa_hw_20161001      21.11600       5.52800  \n",
       "fa_hw_20161101      21.52960       5.66080  \n",
       "fa_hw_20161201      21.96000       5.81200  \n",
       "fa_hw_20170101      22.34400       5.93600  \n",
       "fa_hw_20170201      22.59600       6.03200  \n",
       "fa_hw_20170301      22.63200       6.04000  \n",
       "fa_hw_20170401      22.49200       6.00800  \n",
       "fa_hw_20170501      22.17600       5.90400  \n",
       "fa_hw_20170601      21.80400       5.78000  \n",
       "fa_hw_20170701      21.46400       5.66400  \n",
       "fa_hw_20170801      21.26400       5.59600  \n",
       "fa_hw_20170901      21.28800       5.60800  \n",
       "fa_hw_20171001      21.48600       5.65920  \n",
       "fa_hw_20171101      21.81200       5.73600  \n",
       "fa_hw_20171201      22.14000       5.84400  \n",
       "fa_hw_20180101      22.40000       5.94000  \n",
       "fa_tw_20160101      78.61676      85.59908  \n",
       "fa_tw_20160201      77.32552      70.78392  \n",
       "fa_tw_20160301      74.52640      60.94480  \n",
       "fa_tw_20160401      71.37844      59.23764  \n",
       "fa_tw_20160501      69.29720      65.98388  \n",
       "fa_tw_20160601      69.62260      79.06440  \n",
       "fa_tw_20160701      71.69676      93.73036  \n",
       "fa_tw_20160801      75.05080     103.92184  \n",
       "fa_tw_20160901      79.28360     113.01292  \n",
       "fa_tw_20161001      83.73440     117.52908  \n",
       "fa_tw_20161101      87.46472     114.95112  \n",
       "fa_tw_20161201      89.27848     105.33088  \n",
       "fa_tw_20170101      88.68976      90.49296  \n",
       "fa_tw_20170201      85.85280      74.91280  \n",
       "fa_tw_20170301      81.95600      63.74640  \n",
       "fa_tw_20170401      77.32484      58.55068  \n",
       "fa_tw_20170501      73.76800      61.72360  \n",
       "fa_tw_20170601      72.08200      72.29596  \n",
       "fa_tw_20170701      72.63560      86.55480  \n",
       "fa_tw_20170801      75.29084     100.96080  \n",
       "fa_tw_20170901      79.41228     111.05548  \n",
       "fa_tw_20171001      83.62060     113.90420  \n",
       "fa_tw_20171101      86.62920     108.55320  \n",
       "fa_tw_20171201      87.49184      96.75792  \n",
       "fa_tw_20180101      85.91920      81.39324  "
      ]
     },
     "execution_count": 14,
     "metadata": {},
     "output_type": "execute_result"
    }
   ],
   "source": [
    "jco = pyemu.Jco.from_binary(os.path.join(m_d,\"freyberg_opt.1.jcb\")).to_dataframe().loc[pst.less_than_obs_constraints,:]\n",
    "jco"
   ]
  },
  {
   "cell_type": "markdown",
   "metadata": {},
   "source": [
    "We see the transient effects in the nonzero value between current pumping rates (columns) and scenario sw-gw exchange (rows from 1980) and that the current 1979 sw-gw exchanges are always larger than those in the scenario 1980 condition."
   ]
  },
  {
   "cell_type": "markdown",
   "metadata": {},
   "source": [
    "Let's also load the optimal decision variable values:"
   ]
  },
  {
   "cell_type": "code",
   "execution_count": 15,
   "metadata": {},
   "outputs": [
    {
     "name": "stdout",
     "output_type": "stream",
     "text": [
      "9.63377347766336\n"
     ]
    },
    {
     "data": {
      "text/html": [
       "<div>\n",
       "<style scoped>\n",
       "    .dataframe tbody tr th:only-of-type {\n",
       "        vertical-align: middle;\n",
       "    }\n",
       "\n",
       "    .dataframe tbody tr th {\n",
       "        vertical-align: top;\n",
       "    }\n",
       "\n",
       "    .dataframe thead th {\n",
       "        text-align: right;\n",
       "    }\n",
       "</style>\n",
       "<table border=\"1\" class=\"dataframe\">\n",
       "  <thead>\n",
       "    <tr style=\"text-align: right;\">\n",
       "      <th></th>\n",
       "      <th>parnme</th>\n",
       "      <th>parval1</th>\n",
       "      <th>scale</th>\n",
       "      <th>offset</th>\n",
       "    </tr>\n",
       "    <tr>\n",
       "      <th>parnme</th>\n",
       "      <th></th>\n",
       "      <th></th>\n",
       "      <th></th>\n",
       "      <th></th>\n",
       "    </tr>\n",
       "  </thead>\n",
       "  <tbody>\n",
       "    <tr>\n",
       "      <th>wf0200090016</th>\n",
       "      <td>wf0200090016</td>\n",
       "      <td>2.212760</td>\n",
       "      <td>1.0</td>\n",
       "      <td>0.0</td>\n",
       "    </tr>\n",
       "    <tr>\n",
       "      <th>wf0200110013</th>\n",
       "      <td>wf0200110013</td>\n",
       "      <td>3.000000</td>\n",
       "      <td>1.0</td>\n",
       "      <td>0.0</td>\n",
       "    </tr>\n",
       "    <tr>\n",
       "      <th>wf0200200014</th>\n",
       "      <td>wf0200200014</td>\n",
       "      <td>0.000000</td>\n",
       "      <td>1.0</td>\n",
       "      <td>0.0</td>\n",
       "    </tr>\n",
       "    <tr>\n",
       "      <th>wf0200260010</th>\n",
       "      <td>wf0200260010</td>\n",
       "      <td>0.000000</td>\n",
       "      <td>1.0</td>\n",
       "      <td>0.0</td>\n",
       "    </tr>\n",
       "    <tr>\n",
       "      <th>wf0200290006</th>\n",
       "      <td>wf0200290006</td>\n",
       "      <td>3.000000</td>\n",
       "      <td>1.0</td>\n",
       "      <td>0.0</td>\n",
       "    </tr>\n",
       "    <tr>\n",
       "      <th>wf0200340012</th>\n",
       "      <td>wf0200340012</td>\n",
       "      <td>1.421013</td>\n",
       "      <td>1.0</td>\n",
       "      <td>0.0</td>\n",
       "    </tr>\n",
       "  </tbody>\n",
       "</table>\n",
       "</div>"
      ],
      "text/plain": [
       "                    parnme   parval1  scale  offset\n",
       "parnme                                             \n",
       "wf0200090016  wf0200090016  2.212760    1.0     0.0\n",
       "wf0200110013  wf0200110013  3.000000    1.0     0.0\n",
       "wf0200200014  wf0200200014  0.000000    1.0     0.0\n",
       "wf0200260010  wf0200260010  0.000000    1.0     0.0\n",
       "wf0200290006  wf0200290006  3.000000    1.0     0.0\n",
       "wf0200340012  wf0200340012  1.421013    1.0     0.0"
      ]
     },
     "execution_count": 15,
     "metadata": {},
     "output_type": "execute_result"
    }
   ],
   "source": [
    "par_df = pyemu.pst_utils.read_parfile(os.path.join(m_d,\"freyberg_opt.1.par\"))\n",
    "print(par_df.loc[dvg_pars,\"parval1\"].sum())\n",
    "par_df.loc[dvg_pars,:]"
   ]
  },
  {
   "cell_type": "markdown",
   "metadata": {},
   "source": [
    "The sum of these values is the optimal objective function value. However, since these are just mulitpliers on the pumping rate, this number isnt too meaningful. Instead, lets look at the residuals file"
   ]
  },
  {
   "cell_type": "code",
   "execution_count": 16,
   "metadata": {},
   "outputs": [
    {
     "data": {
      "text/plain": [
       "<matplotlib.axes._subplots.AxesSubplot at 0x7ffd78b32358>"
      ]
     },
     "execution_count": 16,
     "metadata": {},
     "output_type": "execute_result"
    },
    {
     "data": {
      "image/png": "[encoded data removed]",
      "text/plain": [
       "<Figure size 432x288 with 1 Axes>"
      ]
     },
     "metadata": {
      "needs_background": "light"
     },
     "output_type": "display_data"
    }
   ],
   "source": [
    "pst = pyemu.Pst(os.path.join(m_d,\"freyberg_opt.pst\"),resfile=os.path.join(m_d,\"freyberg_opt.1.sim.rei\"))\n",
    "pst.res.loc[pst.nnz_obs_names,:].sort_values(by=\"modelled\",ascending=False).modelled.iloc[:10].plot(kind=\"bar\")"
   ]
  },
  {
   "cell_type": "markdown",
   "metadata": {},
   "source": [
    "we can see the \"binding constraints\" as those at -100"
   ]
  },
  {
   "cell_type": "markdown",
   "metadata": {},
   "source": [
    "We better also check that our prior information constraint (min total abstracted water allocation) is being met.."
   ]
  },
  {
   "cell_type": "code",
   "execution_count": 17,
   "metadata": {},
   "outputs": [
    {
     "data": {
      "text/html": [
       "<div>\n",
       "<style scoped>\n",
       "    .dataframe tbody tr th:only-of-type {\n",
       "        vertical-align: middle;\n",
       "    }\n",
       "\n",
       "    .dataframe tbody tr th {\n",
       "        vertical-align: top;\n",
       "    }\n",
       "\n",
       "    .dataframe thead th {\n",
       "        text-align: right;\n",
       "    }\n",
       "</style>\n",
       "<table border=\"1\" class=\"dataframe\">\n",
       "  <thead>\n",
       "    <tr style=\"text-align: right;\">\n",
       "      <th></th>\n",
       "      <th>name</th>\n",
       "      <th>group</th>\n",
       "      <th>measured</th>\n",
       "      <th>modelled</th>\n",
       "      <th>residual</th>\n",
       "      <th>weight</th>\n",
       "    </tr>\n",
       "    <tr>\n",
       "      <th>name</th>\n",
       "      <th></th>\n",
       "      <th></th>\n",
       "      <th></th>\n",
       "      <th></th>\n",
       "      <th></th>\n",
       "      <th></th>\n",
       "    </tr>\n",
       "  </thead>\n",
       "  <tbody>\n",
       "    <tr>\n",
       "      <th>pi_1</th>\n",
       "      <td>pi_1</td>\n",
       "      <td>greater_than</td>\n",
       "      <td>6.0</td>\n",
       "      <td>9.633773</td>\n",
       "      <td>3.633773</td>\n",
       "      <td>1.0</td>\n",
       "    </tr>\n",
       "  </tbody>\n",
       "</table>\n",
       "</div>"
      ],
      "text/plain": [
       "      name         group  measured  modelled  residual  weight\n",
       "name                                                          \n",
       "pi_1  pi_1  greater_than       6.0  9.633773  3.633773     1.0"
      ]
     },
     "execution_count": 17,
     "metadata": {},
     "output_type": "execute_result"
    }
   ],
   "source": [
    "pst.res.loc[pst.prior_names,:]"
   ]
  },
  {
   "cell_type": "markdown",
   "metadata": {},
   "source": [
    "### Opt under uncertainty part 1: FOSM chance constraints\n",
    "\n",
    "This is where the process of uncertainty quantification/history matching and mgmt optimizatiom meet - worlds collide! \n",
    "\n",
    "Mechanically, in PESTPP-OPT, to activate the chance constraint process, we need to specify a `risk != 0.5`.  Risk ranges from 0.001 (risk tolerant) to 0.999 (risk averse).  The larger the risk value, the more confidence we have that the (uncertain) model-based constraints are truely satisfied.  Here we will start with a risk tolerant stance:"
   ]
  },
  {
   "cell_type": "code",
   "execution_count": 18,
   "metadata": {},
   "outputs": [],
   "source": [
    "pst.pestpp_options[\"opt_risk\"] = 0.4"
   ]
  },
  {
   "cell_type": "markdown",
   "metadata": {},
   "source": [
    "For the FOSM-based chance constraints, we also need to have at least one adjustable non-dec-var parameter so that we can propogate parameter uncertainty to model-based constraints (this can also be posterior FOSM is non-constraint, non-zero-weight observations are specified).  For this simple demo, lets just use the constant multiplier parameters in the prior uncertainty stance:"
   ]
  },
  {
   "cell_type": "code",
   "execution_count": 19,
   "metadata": {},
   "outputs": [
    {
     "data": {
      "text/plain": [
       "parnme\n",
       "const_hk6__cn            const_hk6__cn\n",
       "const_hk7__cn            const_hk7__cn\n",
       "const_hk8__cn            const_hk8__cn\n",
       "const_prsity6__cn    const_prsity6__cn\n",
       "const_prsity7__cn    const_prsity7__cn\n",
       "const_prsity8__cn    const_prsity8__cn\n",
       "const_rech10__cn      const_rech10__cn\n",
       "const_rech11__cn      const_rech11__cn\n",
       "const_rech12__cn      const_rech12__cn\n",
       "const_rech13__cn      const_rech13__cn\n",
       "const_rech14__cn      const_rech14__cn\n",
       "const_rech15__cn      const_rech15__cn\n",
       "const_rech16__cn      const_rech16__cn\n",
       "const_rech17__cn      const_rech17__cn\n",
       "const_rech18__cn      const_rech18__cn\n",
       "const_rech19__cn      const_rech19__cn\n",
       "const_rech20__cn      const_rech20__cn\n",
       "const_rech21__cn      const_rech21__cn\n",
       "const_rech22__cn      const_rech22__cn\n",
       "const_rech23__cn      const_rech23__cn\n",
       "const_rech24__cn      const_rech24__cn\n",
       "const_rech25__cn      const_rech25__cn\n",
       "const_rech26__cn      const_rech26__cn\n",
       "const_rech2__cn        const_rech2__cn\n",
       "const_rech3__cn        const_rech3__cn\n",
       "const_rech4__cn        const_rech4__cn\n",
       "const_rech5__cn        const_rech5__cn\n",
       "const_rech6__cn        const_rech6__cn\n",
       "const_rech7__cn        const_rech7__cn\n",
       "const_rech8__cn        const_rech8__cn\n",
       "const_rech9__cn        const_rech9__cn\n",
       "const_ss6__cn            const_ss6__cn\n",
       "const_ss7__cn            const_ss7__cn\n",
       "const_ss8__cn            const_ss8__cn\n",
       "const_sy6__cn            const_sy6__cn\n",
       "const_sy7__cn            const_sy7__cn\n",
       "const_sy8__cn            const_sy8__cn\n",
       "const_vka6__cn          const_vka6__cn\n",
       "const_vka7__cn          const_vka7__cn\n",
       "const_vka8__cn          const_vka8__cn\n",
       "Name: parnme, dtype: object"
      ]
     },
     "execution_count": 19,
     "metadata": {},
     "output_type": "execute_result"
    }
   ],
   "source": [
    "cn_pars = par.loc[par.pargp.apply(lambda x: \"cn\" in x),\"parnme\"]\n",
    "cn_pars"
   ]
  },
  {
   "cell_type": "code",
   "execution_count": 20,
   "metadata": {},
   "outputs": [
    {
     "name": "stdout",
     "output_type": "stream",
     "text": [
      "noptmax:1, npar_adj:46, nnz_obs:50\n"
     ]
    }
   ],
   "source": [
    "par = pst.parameter_data\n",
    "par.loc[cn_pars,\"partrans\"] = \"log\"\n",
    "pst.control_data.noptmax = 1\n",
    "pst.write(os.path.join(t_d,\"freyberg_opt_uu1.pst\"))"
   ]
  },
  {
   "cell_type": "markdown",
   "metadata": {},
   "source": [
    "So now we need to not only fill the response matrix (between dec vars and constraints) but we also need to fill the jacobian matrix (between parameters and constraints).  Given that we only have 6 decision variables, let's just re-populate the response matrix while also populating the Jacobian."
   ]
  },
  {
   "cell_type": "code",
   "execution_count": 21,
   "metadata": {},
   "outputs": [],
   "source": [
    "pyemu.os_utils.start_workers(t_d,\"pestpp-opt\",\"freyberg_opt_uu1.pst\",num_workers=num_workers,master_dir=m_d)"
   ]
  },
  {
   "cell_type": "markdown",
   "metadata": {},
   "source": [
    "What do we expect to see here?  What should happen to the optimal dec vars? And the constraints?"
   ]
  },
  {
   "cell_type": "code",
   "execution_count": 22,
   "metadata": {},
   "outputs": [
    {
     "data": {
      "text/plain": [
       "<matplotlib.axes._subplots.AxesSubplot at 0x7ffd78c3c358>"
      ]
     },
     "execution_count": 22,
     "metadata": {},
     "output_type": "execute_result"
    },
    {
     "data": {
      "image/png": "[encoded data removed]",
      "text/plain": [
       "<Figure size 432x288 with 1 Axes>"
      ]
     },
     "metadata": {
      "needs_background": "light"
     },
     "output_type": "display_data"
    }
   ],
   "source": [
    "pst = pyemu.Pst(os.path.join(m_d,\"freyberg_opt_uu1.pst\"),resfile=os.path.join(m_d,\"freyberg_opt_uu1.1.sim.rei\"))\n",
    "pst.res.loc[pst.nnz_obs_names,:].sort_values(by=\"modelled\",ascending=False).modelled.iloc[:20].plot(kind=\"bar\")"
   ]
  },
  {
   "cell_type": "markdown",
   "metadata": {},
   "source": [
    "Wait - was the constraint that sw-gw flux had to be less than -100?  How do we have some many constraints greater than -100???"
   ]
  },
  {
   "cell_type": "code",
   "execution_count": 23,
   "metadata": {},
   "outputs": [
    {
     "name": "stdout",
     "output_type": "stream",
     "text": [
      "10.924919516248119\n"
     ]
    },
    {
     "data": {
      "text/html": [
       "<div>\n",
       "<style scoped>\n",
       "    .dataframe tbody tr th:only-of-type {\n",
       "        vertical-align: middle;\n",
       "    }\n",
       "\n",
       "    .dataframe tbody tr th {\n",
       "        vertical-align: top;\n",
       "    }\n",
       "\n",
       "    .dataframe thead th {\n",
       "        text-align: right;\n",
       "    }\n",
       "</style>\n",
       "<table border=\"1\" class=\"dataframe\">\n",
       "  <thead>\n",
       "    <tr style=\"text-align: right;\">\n",
       "      <th></th>\n",
       "      <th>parnme</th>\n",
       "      <th>parval1</th>\n",
       "      <th>scale</th>\n",
       "      <th>offset</th>\n",
       "    </tr>\n",
       "    <tr>\n",
       "      <th>parnme</th>\n",
       "      <th></th>\n",
       "      <th></th>\n",
       "      <th></th>\n",
       "      <th></th>\n",
       "    </tr>\n",
       "  </thead>\n",
       "  <tbody>\n",
       "    <tr>\n",
       "      <th>wf0200090016</th>\n",
       "      <td>wf0200090016</td>\n",
       "      <td>2.581250</td>\n",
       "      <td>1.0</td>\n",
       "      <td>0.0</td>\n",
       "    </tr>\n",
       "    <tr>\n",
       "      <th>wf0200110013</th>\n",
       "      <td>wf0200110013</td>\n",
       "      <td>3.000000</td>\n",
       "      <td>1.0</td>\n",
       "      <td>0.0</td>\n",
       "    </tr>\n",
       "    <tr>\n",
       "      <th>wf0200200014</th>\n",
       "      <td>wf0200200014</td>\n",
       "      <td>0.000000</td>\n",
       "      <td>1.0</td>\n",
       "      <td>0.0</td>\n",
       "    </tr>\n",
       "    <tr>\n",
       "      <th>wf0200260010</th>\n",
       "      <td>wf0200260010</td>\n",
       "      <td>0.000000</td>\n",
       "      <td>1.0</td>\n",
       "      <td>0.0</td>\n",
       "    </tr>\n",
       "    <tr>\n",
       "      <th>wf0200290006</th>\n",
       "      <td>wf0200290006</td>\n",
       "      <td>3.000000</td>\n",
       "      <td>1.0</td>\n",
       "      <td>0.0</td>\n",
       "    </tr>\n",
       "    <tr>\n",
       "      <th>wf0200340012</th>\n",
       "      <td>wf0200340012</td>\n",
       "      <td>2.343669</td>\n",
       "      <td>1.0</td>\n",
       "      <td>0.0</td>\n",
       "    </tr>\n",
       "  </tbody>\n",
       "</table>\n",
       "</div>"
      ],
      "text/plain": [
       "                    parnme   parval1  scale  offset\n",
       "parnme                                             \n",
       "wf0200090016  wf0200090016  2.581250    1.0     0.0\n",
       "wf0200110013  wf0200110013  3.000000    1.0     0.0\n",
       "wf0200200014  wf0200200014  0.000000    1.0     0.0\n",
       "wf0200260010  wf0200260010  0.000000    1.0     0.0\n",
       "wf0200290006  wf0200290006  3.000000    1.0     0.0\n",
       "wf0200340012  wf0200340012  2.343669    1.0     0.0"
      ]
     },
     "execution_count": 23,
     "metadata": {},
     "output_type": "execute_result"
    }
   ],
   "source": [
    "par_df = pyemu.pst_utils.read_parfile(os.path.join(m_d,\"freyberg_opt_uu1.1.par\"))\n",
    "print(par_df.loc[dvg_pars,\"parval1\"].sum())\n",
    "par_df.loc[dvg_pars,:]"
   ]
  },
  {
   "cell_type": "markdown",
   "metadata": {},
   "source": [
    "We now see how taking a risk tolerant stance allows for more pumping but that we have only a 40% chance of actually satifying the sw-gw constraints (see how the model simulated value is actually in violation of the -100 constraint RHS).  Lets check the residuals that include the FOSM-based chance constraint shift:"
   ]
  },
  {
   "cell_type": "code",
   "execution_count": 24,
   "metadata": {},
   "outputs": [
    {
     "data": {
      "text/plain": [
       "<matplotlib.axes._subplots.AxesSubplot at 0x7ffd40d927b8>"
      ]
     },
     "execution_count": 24,
     "metadata": {},
     "output_type": "execute_result"
    },
    {
     "data": {
      "image/png": "[encoded data removed]",
      "text/plain": [
       "<Figure size 432x288 with 1 Axes>"
      ]
     },
     "metadata": {
      "needs_background": "light"
     },
     "output_type": "display_data"
    }
   ],
   "source": [
    "res_df = pyemu.pst_utils.read_resfile(os.path.join(m_d,\"freyberg_opt_uu1.1.sim+fosm.rei\")).loc[pst.nnz_obs_names,:]\n",
    "res_df.sort_values(by=\"modelled\",ascending=False).modelled.iloc[:10].plot(kind=\"bar\")"
   ]
  },
  {
   "cell_type": "markdown",
   "metadata": {},
   "source": [
    "See what is happening?  Because we were risk tolerant, we actually subtracted some sw-gw flux from the values from MODFLOW - effectively acounting for additional sw-gw that wasnt acutally simulated.  This flux is in the uncertainty in the simulated sw-gw flux.  And since we were \"aggresive\" with our risk-stance, we can exploit this uncertainty to extract additional groundwater."
   ]
  },
  {
   "cell_type": "markdown",
   "metadata": {},
   "source": [
    "### Opt under uncertainty part 2: ensemble-based chance constraints\n",
    "\n",
    "PESTPP-OPT can also skip the FOSM calculations if users specify model-based constraint weights as standard deviations (i.e. uncertainty in the forecasts/constraints).  These can be derived from our existing ensembles (oh snap!)"
   ]
  },
  {
   "cell_type": "code",
   "execution_count": 25,
   "metadata": {},
   "outputs": [],
   "source": [
    "obs_df = pd.read_csv(os.path.join(\"master_prior_sweep\",\"sweep_out.csv\"),index_col=0)\n",
    "obs_df = obs_df.loc[obs_df.failed_flag==0,:]"
   ]
  },
  {
   "cell_type": "code",
   "execution_count": 26,
   "metadata": {},
   "outputs": [
    {
     "data": {
      "text/plain": [
       "fa_hw_20160101    661.590713\n",
       "fa_hw_20160201    607.440323\n",
       "fa_hw_20160301    591.647071\n",
       "fa_hw_20160401    585.877955\n",
       "fa_hw_20160501    590.211706\n",
       "fa_hw_20160601    640.063250\n",
       "fa_hw_20160701    737.120172\n",
       "fa_hw_20160801    789.407248\n",
       "fa_hw_20160901    807.247282\n",
       "fa_hw_20161001    816.463362\n",
       "fa_hw_20161101    759.168130\n",
       "fa_hw_20161201    715.305048\n",
       "fa_hw_20170101    653.342399\n",
       "fa_hw_20170201    618.367103\n",
       "fa_hw_20170301    591.925709\n",
       "fa_hw_20170401    565.571853\n",
       "fa_hw_20170501    555.003594\n",
       "fa_hw_20170601    620.397137\n",
       "fa_hw_20170701    678.119979\n",
       "fa_hw_20170801    771.617069\n",
       "fa_hw_20170901    813.095848\n",
       "fa_hw_20171001    771.590512\n",
       "fa_hw_20171101    680.547918\n",
       "fa_hw_20171201    610.507730\n",
       "fa_hw_20180101    546.824658\n",
       "fa_tw_20160101    759.629083\n",
       "fa_tw_20160201    662.650565\n",
       "fa_tw_20160301    643.250163\n",
       "fa_tw_20160401    632.700748\n",
       "fa_tw_20160501    614.716727\n",
       "fa_tw_20160601    662.109440\n",
       "fa_tw_20160701    710.783567\n",
       "fa_tw_20160801    713.887842\n",
       "fa_tw_20160901    729.155838\n",
       "fa_tw_20161001    782.747835\n",
       "fa_tw_20161101    738.977737\n",
       "fa_tw_20161201    690.186295\n",
       "fa_tw_20170101    605.573693\n",
       "fa_tw_20170201    587.415772\n",
       "fa_tw_20170301    576.212076\n",
       "fa_tw_20170401    562.970434\n",
       "fa_tw_20170501    538.303593\n",
       "fa_tw_20170601    570.355565\n",
       "fa_tw_20170701    645.943134\n",
       "fa_tw_20170801    626.282758\n",
       "fa_tw_20170901    668.215409\n",
       "fa_tw_20171001    717.536972\n",
       "fa_tw_20171101    657.878810\n",
       "fa_tw_20171201    619.008055\n",
       "fa_tw_20180101    564.550469\n",
       "dtype: float64"
      ]
     },
     "execution_count": 26,
     "metadata": {},
     "output_type": "execute_result"
    }
   ],
   "source": [
    "pr_std = obs_df.std().loc[pst.nnz_obs_names]\n",
    "pr_std"
   ]
  },
  {
   "cell_type": "markdown",
   "metadata": {},
   "source": [
    "Note we can also skip the FOSM calcs within `PESTPP-OPT` using weights as per previous FOSM standard deviation calcs, not just ensemble-based standard deviations"
   ]
  },
  {
   "cell_type": "code",
   "execution_count": 27,
   "metadata": {},
   "outputs": [
    {
     "name": "stdout",
     "output_type": "stream",
     "text": [
      "noptmax:1, npar_adj:46, nnz_obs:50\n"
     ]
    }
   ],
   "source": [
    "pst.observation_data.loc[pst.nnz_obs_names,\"weight\"] = pr_std.loc[pst.nnz_obs_names]\n",
    "pst.pestpp_options[\"opt_std_weights\"] = True\n",
    "pst.write(os.path.join(t_d,\"freyberg_opt_uu2.pst\"))"
   ]
  },
  {
   "cell_type": "code",
   "execution_count": 28,
   "metadata": {},
   "outputs": [],
   "source": [
    "pyemu.os_utils.start_workers(t_d,\"pestpp-opt\",\"freyberg_opt_uu2.pst\",num_workers=num_workers,master_dir=m_d)"
   ]
  },
  {
   "cell_type": "code",
   "execution_count": 29,
   "metadata": {},
   "outputs": [
    {
     "name": "stdout",
     "output_type": "stream",
     "text": [
      "11.895816144764781\n"
     ]
    },
    {
     "data": {
      "text/html": [
       "<div>\n",
       "<style scoped>\n",
       "    .dataframe tbody tr th:only-of-type {\n",
       "        vertical-align: middle;\n",
       "    }\n",
       "\n",
       "    .dataframe tbody tr th {\n",
       "        vertical-align: top;\n",
       "    }\n",
       "\n",
       "    .dataframe thead th {\n",
       "        text-align: right;\n",
       "    }\n",
       "</style>\n",
       "<table border=\"1\" class=\"dataframe\">\n",
       "  <thead>\n",
       "    <tr style=\"text-align: right;\">\n",
       "      <th></th>\n",
       "      <th>parnme</th>\n",
       "      <th>parval1</th>\n",
       "      <th>scale</th>\n",
       "      <th>offset</th>\n",
       "    </tr>\n",
       "    <tr>\n",
       "      <th>parnme</th>\n",
       "      <th></th>\n",
       "      <th></th>\n",
       "      <th></th>\n",
       "      <th></th>\n",
       "    </tr>\n",
       "  </thead>\n",
       "  <tbody>\n",
       "    <tr>\n",
       "      <th>wf0200090016</th>\n",
       "      <td>wf0200090016</td>\n",
       "      <td>3.000000</td>\n",
       "      <td>1.0</td>\n",
       "      <td>0.0</td>\n",
       "    </tr>\n",
       "    <tr>\n",
       "      <th>wf0200110013</th>\n",
       "      <td>wf0200110013</td>\n",
       "      <td>3.000000</td>\n",
       "      <td>1.0</td>\n",
       "      <td>0.0</td>\n",
       "    </tr>\n",
       "    <tr>\n",
       "      <th>wf0200200014</th>\n",
       "      <td>wf0200200014</td>\n",
       "      <td>0.000000</td>\n",
       "      <td>1.0</td>\n",
       "      <td>0.0</td>\n",
       "    </tr>\n",
       "    <tr>\n",
       "      <th>wf0200260010</th>\n",
       "      <td>wf0200260010</td>\n",
       "      <td>0.000000</td>\n",
       "      <td>1.0</td>\n",
       "      <td>0.0</td>\n",
       "    </tr>\n",
       "    <tr>\n",
       "      <th>wf0200290006</th>\n",
       "      <td>wf0200290006</td>\n",
       "      <td>3.000000</td>\n",
       "      <td>1.0</td>\n",
       "      <td>0.0</td>\n",
       "    </tr>\n",
       "    <tr>\n",
       "      <th>wf0200340012</th>\n",
       "      <td>wf0200340012</td>\n",
       "      <td>2.895816</td>\n",
       "      <td>1.0</td>\n",
       "      <td>0.0</td>\n",
       "    </tr>\n",
       "  </tbody>\n",
       "</table>\n",
       "</div>"
      ],
      "text/plain": [
       "                    parnme   parval1  scale  offset\n",
       "parnme                                             \n",
       "wf0200090016  wf0200090016  3.000000    1.0     0.0\n",
       "wf0200110013  wf0200110013  3.000000    1.0     0.0\n",
       "wf0200200014  wf0200200014  0.000000    1.0     0.0\n",
       "wf0200260010  wf0200260010  0.000000    1.0     0.0\n",
       "wf0200290006  wf0200290006  3.000000    1.0     0.0\n",
       "wf0200340012  wf0200340012  2.895816    1.0     0.0"
      ]
     },
     "execution_count": 29,
     "metadata": {},
     "output_type": "execute_result"
    }
   ],
   "source": [
    "par_df = pyemu.pst_utils.read_parfile(os.path.join(m_d,\"freyberg_opt_uu2.1.par\"))\n",
    "print(par_df.loc[dvg_pars,\"parval1\"].sum())\n",
    "par_df.loc[dvg_pars,:]"
   ]
  },
  {
   "cell_type": "markdown",
   "metadata": {},
   "source": [
    "Why is the objective function higher when we use the ensemble-based constraint uncertainty compared to the FOSM constraint uncertainty?  Remember how many more parameters were used in the ensemble analyses compared to just the hand full of constant by layer parameters that we used for the FOSM calcs within PESTPP-OPT?"
   ]
  },
  {
   "cell_type": "markdown",
   "metadata": {},
   "source": [
    "### Super secret mode for `LP`\n",
    "\n",
    "It turns out, if the opt problem is truely linear, we can reuse results of a previous PESTPP-OPT run to modify lots of the pieces of the optimization problem and resolve the optimization problem without running the model even once!  WAT!? \n",
    "\n",
    "As long as the same decision variables are relates to the same responses, and we can fairly assume that the response matrix that relates the decision variables to the constraints is linear, then the response matrix doesn't change even if things like bounds and risk level change. We just need `pestpp-opt` to read in the response matrix (which is stored with the same format as a Jacobian (`jcb`)) and the residuals (`rei`). \n",
    "\n",
    "This is done by specifying some additional `++args` (and copying some files around)"
   ]
  },
  {
   "cell_type": "code",
   "execution_count": 30,
   "metadata": {},
   "outputs": [
    {
     "data": {
      "text/plain": [
       "'master_opt/restart.rei'"
      ]
     },
     "execution_count": 30,
     "metadata": {},
     "output_type": "execute_result"
    }
   ],
   "source": [
    "shutil.copy2(os.path.join(m_d,\"freyberg_opt_uu2.1.jcb\"),os.path.join(m_d,\"restart.jcb\"))\n",
    "shutil.copy2(os.path.join(m_d,\"freyberg_opt_uu2.1.jcb.rei\"),os.path.join(m_d,\"restart.rei\"))"
   ]
  },
  {
   "cell_type": "markdown",
   "metadata": {},
   "source": [
    "Once we have copied over the necessary files, we set a few `++args`:  \n",
    "* `base_jacobian`: this instructs `pestpp-opt` to read in the existing response matrix\n",
    "* `hotstart_resfile`: this instructs `pestpp-opt` to use the residuals we already have\n",
    "* `opt_skip_final`: this waives the usual practice of running the model once with optimal parameter values"
   ]
  },
  {
   "cell_type": "markdown",
   "metadata": {},
   "source": [
    "Which runs do each of these skip specifically?"
   ]
  },
  {
   "cell_type": "code",
   "execution_count": 31,
   "metadata": {},
   "outputs": [
    {
     "name": "stdout",
     "output_type": "stream",
     "text": [
      "noptmax:1, npar_adj:46, nnz_obs:50\n"
     ]
    }
   ],
   "source": [
    "pst.pestpp_options[\"base_jacobian\"] = \"restart.jcb\"\n",
    "pst.pestpp_options[\"hotstart_resfile\"] = \"restart.rei\"\n",
    "pst.pestpp_options[\"opt_skip_final\"] = True\n",
    "pst.write(os.path.join(m_d,\"freyberg_opt_restart.pst\"))"
   ]
  },
  {
   "cell_type": "code",
   "execution_count": 32,
   "metadata": {},
   "outputs": [],
   "source": [
    "pyemu.os_utils.run(\"pestpp-opt freyberg_opt_restart.pst\",cwd=m_d)"
   ]
  },
  {
   "cell_type": "code",
   "execution_count": 33,
   "metadata": {},
   "outputs": [
    {
     "name": "stdout",
     "output_type": "stream",
     "text": [
      "11.89581614476478\n"
     ]
    },
    {
     "data": {
      "text/html": [
       "<div>\n",
       "<style scoped>\n",
       "    .dataframe tbody tr th:only-of-type {\n",
       "        vertical-align: middle;\n",
       "    }\n",
       "\n",
       "    .dataframe tbody tr th {\n",
       "        vertical-align: top;\n",
       "    }\n",
       "\n",
       "    .dataframe thead th {\n",
       "        text-align: right;\n",
       "    }\n",
       "</style>\n",
       "<table border=\"1\" class=\"dataframe\">\n",
       "  <thead>\n",
       "    <tr style=\"text-align: right;\">\n",
       "      <th></th>\n",
       "      <th>parnme</th>\n",
       "      <th>parval1</th>\n",
       "      <th>scale</th>\n",
       "      <th>offset</th>\n",
       "    </tr>\n",
       "    <tr>\n",
       "      <th>parnme</th>\n",
       "      <th></th>\n",
       "      <th></th>\n",
       "      <th></th>\n",
       "      <th></th>\n",
       "    </tr>\n",
       "  </thead>\n",
       "  <tbody>\n",
       "    <tr>\n",
       "      <th>wf0200090016</th>\n",
       "      <td>wf0200090016</td>\n",
       "      <td>3.000000</td>\n",
       "      <td>1.0</td>\n",
       "      <td>0.0</td>\n",
       "    </tr>\n",
       "    <tr>\n",
       "      <th>wf0200110013</th>\n",
       "      <td>wf0200110013</td>\n",
       "      <td>3.000000</td>\n",
       "      <td>1.0</td>\n",
       "      <td>0.0</td>\n",
       "    </tr>\n",
       "    <tr>\n",
       "      <th>wf0200200014</th>\n",
       "      <td>wf0200200014</td>\n",
       "      <td>0.000000</td>\n",
       "      <td>1.0</td>\n",
       "      <td>0.0</td>\n",
       "    </tr>\n",
       "    <tr>\n",
       "      <th>wf0200260010</th>\n",
       "      <td>wf0200260010</td>\n",
       "      <td>0.000000</td>\n",
       "      <td>1.0</td>\n",
       "      <td>0.0</td>\n",
       "    </tr>\n",
       "    <tr>\n",
       "      <th>wf0200290006</th>\n",
       "      <td>wf0200290006</td>\n",
       "      <td>3.000000</td>\n",
       "      <td>1.0</td>\n",
       "      <td>0.0</td>\n",
       "    </tr>\n",
       "    <tr>\n",
       "      <th>wf0200340012</th>\n",
       "      <td>wf0200340012</td>\n",
       "      <td>2.895816</td>\n",
       "      <td>1.0</td>\n",
       "      <td>0.0</td>\n",
       "    </tr>\n",
       "  </tbody>\n",
       "</table>\n",
       "</div>"
      ],
      "text/plain": [
       "                    parnme   parval1  scale  offset\n",
       "parnme                                             \n",
       "wf0200090016  wf0200090016  3.000000    1.0     0.0\n",
       "wf0200110013  wf0200110013  3.000000    1.0     0.0\n",
       "wf0200200014  wf0200200014  0.000000    1.0     0.0\n",
       "wf0200260010  wf0200260010  0.000000    1.0     0.0\n",
       "wf0200290006  wf0200290006  3.000000    1.0     0.0\n",
       "wf0200340012  wf0200340012  2.895816    1.0     0.0"
      ]
     },
     "execution_count": 33,
     "metadata": {},
     "output_type": "execute_result"
    }
   ],
   "source": [
    "par_df = pyemu.pst_utils.read_parfile(os.path.join(m_d,\"freyberg_opt_restart.1.par\"))\n",
    "print(par_df.loc[dvg_pars,\"parval1\"].sum())\n",
    "par_df.loc[dvg_pars,:]"
   ]
  },
  {
   "cell_type": "markdown",
   "metadata": {},
   "source": [
    "Oh snap!  that means we can do all sort of kewl optimization testing really really fast..."
   ]
  },
  {
   "cell_type": "markdown",
   "metadata": {},
   "source": [
    "## now let's try taking a risk averse stance"
   ]
  },
  {
   "cell_type": "code",
   "execution_count": 34,
   "metadata": {},
   "outputs": [],
   "source": [
    "risk = 0.55"
   ]
  },
  {
   "cell_type": "code",
   "execution_count": 35,
   "metadata": {},
   "outputs": [
    {
     "name": "stdout",
     "output_type": "stream",
     "text": [
      "noptmax:1, npar_adj:46, nnz_obs:50\n"
     ]
    }
   ],
   "source": [
    "pst.pestpp_options[\"opt_risk\"] = risk\n",
    "pst.write(os.path.join(m_d,\"freyberg_opt_restart.pst\"))\n",
    "pyemu.os_utils.run(\"pestpp-opt freyberg_opt_restart.pst\",cwd=m_d)"
   ]
  },
  {
   "cell_type": "code",
   "execution_count": 36,
   "metadata": {},
   "outputs": [
    {
     "name": "stdout",
     "output_type": "stream",
     "text": [
      "8.4261238020352\n"
     ]
    },
    {
     "data": {
      "text/html": [
       "<div>\n",
       "<style scoped>\n",
       "    .dataframe tbody tr th:only-of-type {\n",
       "        vertical-align: middle;\n",
       "    }\n",
       "\n",
       "    .dataframe tbody tr th {\n",
       "        vertical-align: top;\n",
       "    }\n",
       "\n",
       "    .dataframe thead th {\n",
       "        text-align: right;\n",
       "    }\n",
       "</style>\n",
       "<table border=\"1\" class=\"dataframe\">\n",
       "  <thead>\n",
       "    <tr style=\"text-align: right;\">\n",
       "      <th></th>\n",
       "      <th>parnme</th>\n",
       "      <th>parval1</th>\n",
       "      <th>scale</th>\n",
       "      <th>offset</th>\n",
       "    </tr>\n",
       "    <tr>\n",
       "      <th>parnme</th>\n",
       "      <th></th>\n",
       "      <th></th>\n",
       "      <th></th>\n",
       "      <th></th>\n",
       "    </tr>\n",
       "  </thead>\n",
       "  <tbody>\n",
       "    <tr>\n",
       "      <th>wf0200090016</th>\n",
       "      <td>wf0200090016</td>\n",
       "      <td>1.733922</td>\n",
       "      <td>1.0</td>\n",
       "      <td>0.0</td>\n",
       "    </tr>\n",
       "    <tr>\n",
       "      <th>wf0200110013</th>\n",
       "      <td>wf0200110013</td>\n",
       "      <td>3.000000</td>\n",
       "      <td>1.0</td>\n",
       "      <td>0.0</td>\n",
       "    </tr>\n",
       "    <tr>\n",
       "      <th>wf0200200014</th>\n",
       "      <td>wf0200200014</td>\n",
       "      <td>0.000000</td>\n",
       "      <td>1.0</td>\n",
       "      <td>0.0</td>\n",
       "    </tr>\n",
       "    <tr>\n",
       "      <th>wf0200260010</th>\n",
       "      <td>wf0200260010</td>\n",
       "      <td>0.000000</td>\n",
       "      <td>1.0</td>\n",
       "      <td>0.0</td>\n",
       "    </tr>\n",
       "    <tr>\n",
       "      <th>wf0200290006</th>\n",
       "      <td>wf0200290006</td>\n",
       "      <td>3.000000</td>\n",
       "      <td>1.0</td>\n",
       "      <td>0.0</td>\n",
       "    </tr>\n",
       "    <tr>\n",
       "      <th>wf0200340012</th>\n",
       "      <td>wf0200340012</td>\n",
       "      <td>0.692202</td>\n",
       "      <td>1.0</td>\n",
       "      <td>0.0</td>\n",
       "    </tr>\n",
       "  </tbody>\n",
       "</table>\n",
       "</div>"
      ],
      "text/plain": [
       "                    parnme   parval1  scale  offset\n",
       "parnme                                             \n",
       "wf0200090016  wf0200090016  1.733922    1.0     0.0\n",
       "wf0200110013  wf0200110013  3.000000    1.0     0.0\n",
       "wf0200200014  wf0200200014  0.000000    1.0     0.0\n",
       "wf0200260010  wf0200260010  0.000000    1.0     0.0\n",
       "wf0200290006  wf0200290006  3.000000    1.0     0.0\n",
       "wf0200340012  wf0200340012  0.692202    1.0     0.0"
      ]
     },
     "execution_count": 36,
     "metadata": {},
     "output_type": "execute_result"
    }
   ],
   "source": [
    "par_df = pyemu.pst_utils.read_parfile(os.path.join(m_d,\"freyberg_opt_restart.1.par\"))\n",
    "print(par_df.loc[dvg_pars,\"parval1\"].sum())\n",
    "par_df.loc[dvg_pars,:]"
   ]
  },
  {
   "cell_type": "markdown",
   "metadata": {},
   "source": [
    "### now lets evaluate how our OUU problem changes if we use posterior standard deviations - this is a critically important use of the uncertainty analysis from history matching...\n",
    "\n",
    "This is where all that painful history-matching finally has a real-world (and valid) purpose: to reduce the uncertainty in the constraints for a decision-support optimization problem"
   ]
  },
  {
   "cell_type": "code",
   "execution_count": 37,
   "metadata": {},
   "outputs": [
    {
     "data": {
      "text/plain": [
       "fa_hw_20160101    339.105937\n",
       "fa_hw_20160201    286.948818\n",
       "fa_hw_20160301    274.594615\n",
       "fa_hw_20160401    286.329059\n",
       "fa_hw_20160501    300.276579\n",
       "fa_hw_20160601    432.037944\n",
       "fa_hw_20160701    411.208057\n",
       "fa_hw_20160801    490.128528\n",
       "fa_hw_20160901    374.290955\n",
       "fa_hw_20161001    412.279600\n",
       "fa_hw_20161101    358.569286\n",
       "fa_hw_20161201    324.250282\n",
       "fa_hw_20170101    236.641226\n",
       "fa_hw_20170201    252.193225\n",
       "fa_hw_20170301    281.951276\n",
       "fa_hw_20170401    324.601904\n",
       "fa_hw_20170501    437.744968\n",
       "fa_hw_20170601    659.970650\n",
       "fa_hw_20170701    568.768176\n",
       "fa_hw_20170801    556.126631\n",
       "fa_hw_20170901    541.136388\n",
       "fa_hw_20171001    510.237989\n",
       "fa_hw_20171101    486.745091\n",
       "fa_hw_20171201    551.431507\n",
       "fa_hw_20180101    522.328914\n",
       "fa_tw_20160101    390.993814\n",
       "fa_tw_20160201    386.907630\n",
       "fa_tw_20160301    387.326731\n",
       "fa_tw_20160401    400.100352\n",
       "fa_tw_20160501    385.102388\n",
       "fa_tw_20160601    372.868862\n",
       "fa_tw_20160701    318.986574\n",
       "fa_tw_20160801    292.154788\n",
       "fa_tw_20160901    314.421413\n",
       "fa_tw_20161001    388.751179\n",
       "fa_tw_20161101    375.505815\n",
       "fa_tw_20161201    363.235317\n",
       "fa_tw_20170101    350.074341\n",
       "fa_tw_20170201    353.593664\n",
       "fa_tw_20170301    371.253910\n",
       "fa_tw_20170401    344.804032\n",
       "fa_tw_20170501    353.060230\n",
       "fa_tw_20170601    446.654731\n",
       "fa_tw_20170701    427.072389\n",
       "fa_tw_20170801    454.933719\n",
       "fa_tw_20170901    499.133313\n",
       "fa_tw_20171001    536.774548\n",
       "fa_tw_20171101    500.700497\n",
       "fa_tw_20171201    545.581468\n",
       "fa_tw_20180101    466.773744\n",
       "dtype: float64"
      ]
     },
     "execution_count": 37,
     "metadata": {},
     "output_type": "execute_result"
    }
   ],
   "source": [
    "obs_df = pd.read_csv(os.path.join(\"master_ies\",\"freyberg_ies.3.obs.csv\"),index_col=0)\n",
    "\n",
    "#df = df=pd.read_csv(os.path.join(\"master_glm\",\"freyberg_pp.post.obsen.csv\"),index_col=0)\n",
    "#obs_df = pyemu.ObservationEnsemble.from_dataframe(pst=pst,df=df)\n",
    "#obs_df = obs_df.loc[obs_df.phi_vector.sort_values().index[:20],:] \n",
    "pt_std = obs_df.std().loc[pst.nnz_obs_names]\n",
    "obs_df.std().loc[pst.nnz_obs_names]\n",
    "#obs_df.max().loc[pst.nnz_obs_names]"
   ]
  },
  {
   "cell_type": "markdown",
   "metadata": {},
   "source": [
    "How much lower is the posterior standard deviations as compared to the prior?"
   ]
  },
  {
   "cell_type": "code",
   "execution_count": 38,
   "metadata": {},
   "outputs": [
    {
     "data": {
      "text/plain": [
       "<matplotlib.axes._subplots.AxesSubplot at 0x7ffd488129b0>"
      ]
     },
     "execution_count": 38,
     "metadata": {},
     "output_type": "execute_result"
    },
    {
     "data": {
      "image/png": "[encoded data removed]",
      "text/plain": [
       "<Figure size 1440x360 with 1 Axes>"
      ]
     },
     "metadata": {
      "needs_background": "light"
     },
     "output_type": "display_data"
    }
   ],
   "source": [
    "pd.DataFrame({\"prior\":pr_std,\"posterior\":pt_std}).plot(kind=\"bar\",figsize=(20,5))"
   ]
  },
  {
   "cell_type": "markdown",
   "metadata": {},
   "source": [
    "This implies that the chance constraints (which express the important model input uncertainty propogated to the forecast/constraints) is significantly lower, meaning uncertainty has less \"value\" in the optimization objective function"
   ]
  },
  {
   "cell_type": "code",
   "execution_count": 39,
   "metadata": {},
   "outputs": [
    {
     "data": {
      "text/plain": [
       "<matplotlib.axes._subplots.AxesSubplot at 0x7ffd4836fb70>"
      ]
     },
     "execution_count": 39,
     "metadata": {},
     "output_type": "execute_result"
    },
    {
     "data": {
      "image/png": "[encoded data removed]",
      "text/plain": [
       "<Figure size 432x288 with 1 Axes>"
      ]
     },
     "metadata": {
      "needs_background": "light"
     },
     "output_type": "display_data"
    }
   ],
   "source": [
    "pst.observation_data.loc[pst.nnz_obs_names,\"weight\"] = pt_std.loc[pst.nnz_obs_names]\n",
    "pst.observation_data.loc[pst.nnz_obs_names,\"weight\"].plot(kind=\"hist\")"
   ]
  },
  {
   "cell_type": "code",
   "execution_count": 40,
   "metadata": {},
   "outputs": [
    {
     "name": "stdout",
     "output_type": "stream",
     "text": [
      "noptmax:1, npar_adj:46, nnz_obs:50\n"
     ]
    }
   ],
   "source": [
    "pst.write(os.path.join(m_d,\"freyberg_opt_restart.pst\"))\n",
    "pyemu.os_utils.run(\"pestpp-opt freyberg_opt_restart.pst\",cwd=m_d)"
   ]
  },
  {
   "cell_type": "code",
   "execution_count": 41,
   "metadata": {},
   "outputs": [
    {
     "name": "stdout",
     "output_type": "stream",
     "text": [
      "8.851400295258633\n"
     ]
    },
    {
     "data": {
      "text/html": [
       "<div>\n",
       "<style scoped>\n",
       "    .dataframe tbody tr th:only-of-type {\n",
       "        vertical-align: middle;\n",
       "    }\n",
       "\n",
       "    .dataframe tbody tr th {\n",
       "        vertical-align: top;\n",
       "    }\n",
       "\n",
       "    .dataframe thead th {\n",
       "        text-align: right;\n",
       "    }\n",
       "</style>\n",
       "<table border=\"1\" class=\"dataframe\">\n",
       "  <thead>\n",
       "    <tr style=\"text-align: right;\">\n",
       "      <th></th>\n",
       "      <th>parnme</th>\n",
       "      <th>parval1</th>\n",
       "      <th>scale</th>\n",
       "      <th>offset</th>\n",
       "    </tr>\n",
       "    <tr>\n",
       "      <th>parnme</th>\n",
       "      <th></th>\n",
       "      <th></th>\n",
       "      <th></th>\n",
       "      <th></th>\n",
       "    </tr>\n",
       "  </thead>\n",
       "  <tbody>\n",
       "    <tr>\n",
       "      <th>wf0200090016</th>\n",
       "      <td>wf0200090016</td>\n",
       "      <td>1.993084</td>\n",
       "      <td>1.0</td>\n",
       "      <td>0.0</td>\n",
       "    </tr>\n",
       "    <tr>\n",
       "      <th>wf0200110013</th>\n",
       "      <td>wf0200110013</td>\n",
       "      <td>3.000000</td>\n",
       "      <td>1.0</td>\n",
       "      <td>0.0</td>\n",
       "    </tr>\n",
       "    <tr>\n",
       "      <th>wf0200200014</th>\n",
       "      <td>wf0200200014</td>\n",
       "      <td>0.000000</td>\n",
       "      <td>1.0</td>\n",
       "      <td>0.0</td>\n",
       "    </tr>\n",
       "    <tr>\n",
       "      <th>wf0200260010</th>\n",
       "      <td>wf0200260010</td>\n",
       "      <td>0.000000</td>\n",
       "      <td>1.0</td>\n",
       "      <td>0.0</td>\n",
       "    </tr>\n",
       "    <tr>\n",
       "      <th>wf0200290006</th>\n",
       "      <td>wf0200290006</td>\n",
       "      <td>3.000000</td>\n",
       "      <td>1.0</td>\n",
       "      <td>0.0</td>\n",
       "    </tr>\n",
       "    <tr>\n",
       "      <th>wf0200340012</th>\n",
       "      <td>wf0200340012</td>\n",
       "      <td>0.858316</td>\n",
       "      <td>1.0</td>\n",
       "      <td>0.0</td>\n",
       "    </tr>\n",
       "  </tbody>\n",
       "</table>\n",
       "</div>"
      ],
      "text/plain": [
       "                    parnme   parval1  scale  offset\n",
       "parnme                                             \n",
       "wf0200090016  wf0200090016  1.993084    1.0     0.0\n",
       "wf0200110013  wf0200110013  3.000000    1.0     0.0\n",
       "wf0200200014  wf0200200014  0.000000    1.0     0.0\n",
       "wf0200260010  wf0200260010  0.000000    1.0     0.0\n",
       "wf0200290006  wf0200290006  3.000000    1.0     0.0\n",
       "wf0200340012  wf0200340012  0.858316    1.0     0.0"
      ]
     },
     "execution_count": 41,
     "metadata": {},
     "output_type": "execute_result"
    }
   ],
   "source": [
    "par_df = pyemu.pst_utils.read_parfile(os.path.join(m_d,\"freyberg_opt_restart.1.par\"))\n",
    "print(par_df.loc[dvg_pars,\"parval1\"].sum())\n",
    "par_df.loc[dvg_pars,:]"
   ]
  },
  {
   "cell_type": "code",
   "execution_count": 42,
   "metadata": {},
   "outputs": [
    {
     "data": {
      "text/plain": [
       "<matplotlib.axes._subplots.AxesSubplot at 0x7ffd48418ac8>"
      ]
     },
     "execution_count": 42,
     "metadata": {},
     "output_type": "execute_result"
    },
    {
     "data": {
      "image/png": "[encoded data removed]",
      "text/plain": [
       "<Figure size 432x288 with 1 Axes>"
      ]
     },
     "metadata": {
      "needs_background": "light"
     },
     "output_type": "display_data"
    }
   ],
   "source": [
    "df = pyemu.pst_utils.read_resfile(os.path.join(m_d,\"freyberg_opt_restart.1.est+fosm.rei\")).loc[pst.nnz_obs_names,:]\n",
    "df.sort_values(by=\"modelled\",ascending=False).modelled.iloc[:10].plot(kind=\"bar\")"
   ]
  },
  {
   "cell_type": "markdown",
   "metadata": {},
   "source": [
    "Again we see that historic tail water flux is the binding constraint.  "
   ]
  },
  {
   "cell_type": "markdown",
   "metadata": {},
   "source": [
    "## some reformulation of the opt problem. Can we open up decision variable (feasibility) space?"
   ]
  },
  {
   "cell_type": "markdown",
   "metadata": {},
   "source": [
    "Lets reformulate the problem to be constrained by the total sw-gw flux across all reaches instead of splitting into headwaters and tailwaters.  Good thing we have added the list file budget components to the control file!"
   ]
  },
  {
   "cell_type": "code",
   "execution_count": 43,
   "metadata": {},
   "outputs": [],
   "source": [
    "pst = pyemu.Pst(os.path.join(m_d,\"freyberg_opt_restart.pst\"))\n",
    "obs = pst.observation_data\n",
    "obs.loc[pst.nnz_obs_names,\"obgnme\"] = \"sw-gw\"  # hw and tw constraints from tagged \"less_than\"\n",
    "obs.loc[pst.nnz_obs_names,\"weight\"] = 0.0"
   ]
  },
  {
   "cell_type": "code",
   "execution_count": 44,
   "metadata": {},
   "outputs": [
    {
     "data": {
      "text/plain": [
       "obsnme\n",
       "flx_stream_leakage_20160101    flx_stream_leakage_20160101\n",
       "flx_stream_leakage_20160201    flx_stream_leakage_20160201\n",
       "flx_stream_leakage_20160301    flx_stream_leakage_20160301\n",
       "flx_stream_leakage_20160401    flx_stream_leakage_20160401\n",
       "flx_stream_leakage_20160501    flx_stream_leakage_20160501\n",
       "flx_stream_leakage_20160601    flx_stream_leakage_20160601\n",
       "flx_stream_leakage_20160701    flx_stream_leakage_20160701\n",
       "flx_stream_leakage_20160801    flx_stream_leakage_20160801\n",
       "flx_stream_leakage_20160901    flx_stream_leakage_20160901\n",
       "flx_stream_leakage_20161001    flx_stream_leakage_20161001\n",
       "flx_stream_leakage_20161101    flx_stream_leakage_20161101\n",
       "flx_stream_leakage_20161201    flx_stream_leakage_20161201\n",
       "flx_stream_leakage_20170101    flx_stream_leakage_20170101\n",
       "flx_stream_leakage_20170201    flx_stream_leakage_20170201\n",
       "flx_stream_leakage_20170301    flx_stream_leakage_20170301\n",
       "flx_stream_leakage_20170401    flx_stream_leakage_20170401\n",
       "flx_stream_leakage_20170501    flx_stream_leakage_20170501\n",
       "flx_stream_leakage_20170601    flx_stream_leakage_20170601\n",
       "flx_stream_leakage_20170701    flx_stream_leakage_20170701\n",
       "flx_stream_leakage_20170801    flx_stream_leakage_20170801\n",
       "flx_stream_leakage_20170901    flx_stream_leakage_20170901\n",
       "flx_stream_leakage_20171001    flx_stream_leakage_20171001\n",
       "flx_stream_leakage_20171101    flx_stream_leakage_20171101\n",
       "flx_stream_leakage_20171201    flx_stream_leakage_20171201\n",
       "flx_stream_leakage_20180101    flx_stream_leakage_20180101\n",
       "Name: obsnme, dtype: object"
      ]
     },
     "execution_count": 44,
     "metadata": {},
     "output_type": "execute_result"
    }
   ],
   "source": [
    "tot_swgw = obs.loc[obs.obsnme.str.startswith(\"flx_stream_\"),\"obsnme\"]\n",
    "tot_swgw"
   ]
  },
  {
   "cell_type": "code",
   "execution_count": 45,
   "metadata": {},
   "outputs": [],
   "source": [
    "obs.loc[tot_swgw,\"obgnme\"] = \"less_than\"\n",
    "obs.loc[tot_swgw,\"weight\"] = 1.0\n",
    "obs.loc[tot_swgw,\"weight\"] = obs_df.std().loc[pst.nnz_obs_names]\n",
    "obs.loc[tot_swgw,\"obsval\"] = -200  # simple linear sum\n"
   ]
  },
  {
   "cell_type": "markdown",
   "metadata": {},
   "source": [
    "Check your understanding:  we just reformulated the mgmt optimization problem to use the total sw-gw flux along all reaches instead of dividing the constraints into a headwater and tailwater reach grouping"
   ]
  },
  {
   "cell_type": "code",
   "execution_count": 46,
   "metadata": {},
   "outputs": [
    {
     "data": {
      "text/plain": [
       "<matplotlib.axes._subplots.AxesSubplot at 0x7ffd41c96588>"
      ]
     },
     "execution_count": 46,
     "metadata": {},
     "output_type": "execute_result"
    },
    {
     "data": {
      "image/png": "[encoded data removed]",
      "text/plain": [
       "<Figure size 432x288 with 1 Axes>"
      ]
     },
     "metadata": {
      "needs_background": "light"
     },
     "output_type": "display_data"
    }
   ],
   "source": [
    "obs_df.std().loc[pst.nnz_obs_names].plot(kind=\"bar\")"
   ]
  },
  {
   "cell_type": "markdown",
   "metadata": {},
   "source": [
    "## risk sweeps"
   ]
  },
  {
   "cell_type": "markdown",
   "metadata": {},
   "source": [
    "Since we really want to find the most risk averse stance that is still feasible we will run a sweep of risk values:"
   ]
  },
  {
   "cell_type": "code",
   "execution_count": 47,
   "metadata": {},
   "outputs": [
    {
     "name": "stdout",
     "output_type": "stream",
     "text": [
      "undertaking evaluation for risk value: 0.05\n",
      "noptmax:1, npar_adj:46, nnz_obs:25\n",
      "undertaking evaluation for risk value: 0.10\n",
      "noptmax:1, npar_adj:46, nnz_obs:25\n",
      "undertaking evaluation for risk value: 0.15\n",
      "noptmax:1, npar_adj:46, nnz_obs:25\n",
      "undertaking evaluation for risk value: 0.20\n",
      "noptmax:1, npar_adj:46, nnz_obs:25\n",
      "undertaking evaluation for risk value: 0.25\n",
      "noptmax:1, npar_adj:46, nnz_obs:25\n",
      "undertaking evaluation for risk value: 0.30\n",
      "noptmax:1, npar_adj:46, nnz_obs:25\n",
      "undertaking evaluation for risk value: 0.35\n",
      "noptmax:1, npar_adj:46, nnz_obs:25\n",
      "undertaking evaluation for risk value: 0.40\n",
      "noptmax:1, npar_adj:46, nnz_obs:25\n",
      "undertaking evaluation for risk value: 0.45\n",
      "noptmax:1, npar_adj:46, nnz_obs:25\n",
      "undertaking evaluation for risk value: 0.50\n",
      "noptmax:1, npar_adj:46, nnz_obs:25\n",
      "undertaking evaluation for risk value: 0.55\n",
      "noptmax:1, npar_adj:46, nnz_obs:25\n",
      "undertaking evaluation for risk value: 0.60\n",
      "noptmax:1, npar_adj:46, nnz_obs:25\n",
      "undertaking evaluation for risk value: 0.65\n",
      "noptmax:1, npar_adj:46, nnz_obs:25\n",
      "undertaking evaluation for risk value: 0.70\n",
      "noptmax:1, npar_adj:46, nnz_obs:25\n",
      "undertaking evaluation for risk value: 0.75\n",
      "noptmax:1, npar_adj:46, nnz_obs:25\n",
      "undertaking evaluation for risk value: 0.80\n",
      "noptmax:1, npar_adj:46, nnz_obs:25\n",
      "undertaking evaluation for risk value: 0.85\n",
      "noptmax:1, npar_adj:46, nnz_obs:25\n",
      "infeasible at risk 0.85\n"
     ]
    }
   ],
   "source": [
    "par_dfs = []\n",
    "res_dfs = []\n",
    "risk_vals = np.arange(0.05,1.0,0.05)\n",
    "for risk in risk_vals:\n",
    "    #try:\n",
    "    #    os.remove(os.path.join(m_d,\"freyberg_opt_restart.1.est+fosm.rei\"))\n",
    "    #except:\n",
    "    #    pass\n",
    "   \n",
    "    pst.pestpp_options[\"opt_risk\"] = risk\n",
    "    pst.pestpp_options[\"opt_skip_final\"] = True\n",
    "    print(\"undertaking evaluation for risk value: {0:.2f}\".format(risk))\n",
    "    pst.write(os.path.join(m_d,\"freyberg_opt_restart.pst\"))\n",
    "    pyemu.os_utils.run(\"pestpp-opt freyberg_opt_restart.pst\",cwd=m_d)\n",
    "    \n",
    "    par_df = pyemu.pst_utils.read_parfile(os.path.join(m_d,\"freyberg_opt_restart.1.par\"))\n",
    "    par_df = par_df.loc[dvg_pars,:]\n",
    "    #when the solution is infeasible, pestpp-opt writes extreme negative values \n",
    "    # to the par file:\n",
    "    if par_df.parval1.sum() < 6.0: \n",
    "        print(\"infeasible at risk {0:.2f}\".format(risk))\n",
    "        break\n",
    "    \n",
    "    res_df = pyemu.pst_utils.read_resfile(os.path.join(m_d,\"freyberg_opt_restart.1.est+fosm.rei\"))\n",
    "    res_df = res_df.loc[pst.nnz_obs_names,:]\n",
    "    res_dfs.append(res_df.modelled)\n",
    "    par_dfs.append(par_df.parval1)\n",
    "\n",
    "# process the dec var and constraint dataframes for plotting\n",
    "risk_vals = risk_vals[:len(par_dfs)]\n",
    "par_df = pd.concat(par_dfs,axis=1).T\n",
    "par_df.index = risk_vals\n",
    "par_df.index = par_df.index.map(lambda x: \"{0:0.3f}\".format(x))\n",
    "res_df = pd.concat(res_dfs,axis=1).T\n",
    "res_df.index = risk_vals\n",
    "res_df.index = res_df.index.map(lambda x: \"{0:0.3f}\".format(x))"
   ]
  },
  {
   "cell_type": "code",
   "execution_count": 48,
   "metadata": {},
   "outputs": [
    {
     "data": {
      "image/png": "[encoded data removed]",
      "text/plain": [
       "<Figure size 1440x1080 with 2 Axes>"
      ]
     },
     "metadata": {
      "needs_background": "light"
     },
     "output_type": "display_data"
    }
   ],
   "source": [
    "colors = [\"m\",\"c\",\"g\",\"r\",\"b\",\"orange\"]\n",
    "fig, axes = plt.subplots(2,1,figsize=(20,15))\n",
    "par_df.plot(kind=\"bar\",ax=axes[0],alpha=0.75,color=colors).legend(bbox_to_anchor=(1.2, 0.5))\n",
    "axes[0].set_ylabel(\"individual pumping rates\")\n",
    "axes[0].set_xticklabels([])\n",
    "res_df.plot(kind=\"bar\",ax=axes[1],alpha=0.75,edgecolor=\"none\").legend(bbox_to_anchor=(1.2, 0.5))\n",
    "axes[1].plot(axes[1].get_xlim(),[-200,-200],\"r--\",lw=3)\n",
    "axes[1].set_ylabel(\"sw-gw flux\")\n",
    "axes[1].set_xlabel(\"risk\");"
   ]
  },
  {
   "cell_type": "markdown",
   "metadata": {},
   "source": [
    "Now for some maps of pumping regimes"
   ]
  },
  {
   "cell_type": "code",
   "execution_count": 49,
   "metadata": {},
   "outputs": [
    {
     "data": {
      "image/png": "[encoded data removed]",
      "text/plain": [
       "<Figure size 864x864 with 20 Axes>"
      ]
     },
     "metadata": {
      "needs_background": "light"
     },
     "output_type": "display_data"
    }
   ],
   "source": [
    "m = flopy.modflow.Modflow.load(\"freyberg.nam\",model_ws=t_d)\n",
    "\n",
    "wf_par = pst.parameter_data.loc[dvg_pars,:].copy()\n",
    "wf_par.loc[:,\"k\"] = wf_par.parnme.apply(lambda x: int(x[2:4]))\n",
    "wf_par.loc[:,\"i\"] = wf_par.parnme.apply(lambda x: int(x[4:8]))\n",
    "wf_par.loc[:,\"j\"] = wf_par.parnme.apply(lambda x: int(x[8:]))\n",
    "wf_par.loc[:,\"x\"] = wf_par.apply(lambda x: m.sr.xcentergrid[x.i,x.j],axis=1)\n",
    "wf_par.loc[:,\"y\"] = wf_par.apply(lambda x: m.sr.ycentergrid[x.i,x.j],axis=1)\n",
    "\n",
    "ib = m.bas6.ibound[0].array\n",
    "ib = np.ma.masked_where(ib!=0,ib)\n",
    "fig,axes = plt.subplots(5,int(np.ceil(par_df.shape[0]/5)),figsize=(12,12))\n",
    "axes = axes.flatten()\n",
    "for risk,ax in zip(par_df.index,axes):\n",
    "    ax.set_aspect(\"equal\")\n",
    "    #ax = plt.subplot(111,aspect=\"equal\") \n",
    "    ax.imshow(ib,extent=m.sr.get_extent())\n",
    "    ax.scatter(wf_par.x,wf_par.y,s=par_df.loc[risk,wf_par.parnme].values*50,c=colors)\n",
    "    ax.set_xticks([])\n",
    "    ax.set_yticks([])\n",
    "    ax.set_title(risk)\n",
    "    \n",
    "for i in range(par_df.shape[0],axes.shape[0]):\n",
    "    ax = axes[i]\n",
    "    ax.axis(\"off\")\n",
    "    "
   ]
  },
  {
   "cell_type": "markdown",
   "metadata": {},
   "source": [
    "How slick was that!  no more model runs needed and yet we transformed the OUU problem (by swapping constraints) and solved for a much more risk averse stance!  Just to make sure, lets run the model with the most risk-averse decision variables:"
   ]
  },
  {
   "cell_type": "code",
   "execution_count": 50,
   "metadata": {},
   "outputs": [
    {
     "name": "stdout",
     "output_type": "stream",
     "text": [
      "noptmax:1, npar_adj:46, nnz_obs:25\n"
     ]
    },
    {
     "data": {
      "text/plain": [
       "<matplotlib.axes._subplots.AxesSubplot at 0x7ffd485c47b8>"
      ]
     },
     "execution_count": 50,
     "metadata": {},
     "output_type": "execute_result"
    },
    {
     "data": {
      "image/png": "[encoded data removed]",
      "text/plain": [
       "<Figure size 432x288 with 1 Axes>"
      ]
     },
     "metadata": {
      "needs_background": "light"
     },
     "output_type": "display_data"
    }
   ],
   "source": [
    "pst.pestpp_options[\"opt_risk\"] = risk_vals[-1]\n",
    "pst.pestpp_options[\"opt_skip_final\"] = False\n",
    "pst.write(os.path.join(m_d,\"freyberg_opt_restart.pst\"))\n",
    "pyemu.os_utils.run(\"pestpp-opt freyberg_opt_restart.pst\",cwd=m_d)\n",
    "# load the simulated outputs plus the FOSM chance constraint offsets:\n",
    "res_df = pyemu.pst_utils.read_resfile(os.path.join(m_d,\"freyberg_opt_restart.1.sim+fosm.rei\"))\n",
    "res_df = res_df.loc[pst.nnz_obs_names,:]\n",
    "res_df.sort_values(by=\"modelled\",ascending=False).modelled.iloc[:10].plot(kind=\"bar\")"
   ]
  },
  {
   "cell_type": "code",
   "execution_count": 51,
   "metadata": {},
   "outputs": [
    {
     "data": {
      "text/plain": [
       "[<matplotlib.lines.Line2D at 0x7ffd4856d7f0>]"
      ]
     },
     "execution_count": 51,
     "metadata": {},
     "output_type": "execute_result"
    },
    {
     "data": {
      "image/png": "[encoded data removed]",
      "text/plain": [
       "<Figure size 1440x720 with 1 Axes>"
      ]
     },
     "metadata": {
      "needs_background": "light"
     },
     "output_type": "display_data"
    }
   ],
   "source": [
    "# load the actual model simulated outputs\n",
    "res_df_sim = pyemu.pst_utils.read_resfile(os.path.join(m_d,\"freyberg_opt_restart.1.sim.rei\"))\n",
    "res_df_sim = res_df_sim.loc[pst.nnz_obs_names,:]\n",
    "ax = pd.DataFrame({\"sim\":res_df_sim.modelled,\"sim+fosm\":res_df.modelled}).plot(kind=\"bar\",figsize=(20,10))\n",
    "ax.plot(ax.get_xlim(),[-200,-200],\"r--\",lw=3)"
   ]
  },
  {
   "cell_type": "markdown",
   "metadata": {},
   "source": [
    "Here we can see the cost of uncertainty - we have to simulate a greater flux from gw to sw to make sure (e.g. be risk averse) that the flux from  gw to sw is actually at least 200 m3/day"
   ]
  },
  {
   "cell_type": "markdown",
   "metadata": {},
   "source": [
    "\n",
    "# FINALLY!!!"
   ]
  },
  {
   "cell_type": "markdown",
   "metadata": {},
   "source": [
    "We now see the reason for high-dimensional uncertainty quantification and history matching: to define and then reduce (through data assimilation) the uncertainty in the model-based constraints (e.g. sw-gw forecasts) so that we can find a more risk-averse management solution - we can use a model to identify an optimal pumping scheme to provide the volume of water needed for water supply, agriculture, etc. but also provide assurances (at the given confidence) that ecological flows will be maintained under both current conditions and in the event of an extreme 1-year drought.  BOOM!"
   ]
  },
  {
   "cell_type": "code",
   "execution_count": null,
   "metadata": {},
   "outputs": [],
   "source": []
  }
 ],
 "metadata": {
  "kernelspec": {
   "display_name": "Python 3",
   "language": "python",
   "name": "python3"
  },
  "language_info": {
   "codemirror_mode": {
    "name": "ipython",
    "version": 3
   },
   "file_extension": ".py",
   "mimetype": "text/x-python",
   "name": "python",
   "nbconvert_exporter": "python",
   "pygments_lexer": "ipython3",
   "version": "3.7.3"
  }
 },
 "nbformat": 4,
 "nbformat_minor": 2
}
