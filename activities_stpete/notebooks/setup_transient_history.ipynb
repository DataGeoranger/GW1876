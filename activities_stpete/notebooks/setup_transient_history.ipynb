{
 "cells": [
  {
   "cell_type": "code",
   "execution_count": null,
   "metadata": {},
   "outputs": [],
   "source": [
    "%matplotlib inline\n",
    "import os\n",
    "import shutil\n",
    "import numpy as np\n",
    "import pandas as pd\n",
    "import matplotlib.pyplot as plt\n",
    "import flopy\n",
    "import pyemu\n",
    "import prep_deps\n",
    "import redis\n",
    "import matplotlib as mpl\n",
    "plt.rcParams['font.size']=12"
   ]
  },
  {
   "cell_type": "code",
   "execution_count": null,
   "metadata": {},
   "outputs": [],
   "source": [
    "org_d = os.path.join(\"..\",\"base_model_files\")\n",
    "org_nam = \"freyberg.nam\""
   ]
  },
  {
   "cell_type": "code",
   "execution_count": null,
   "metadata": {},
   "outputs": [],
   "source": [
    "m_org = flopy.modflow.Modflow.load(org_nam,model_ws=org_d,check=False)"
   ]
  },
  {
   "cell_type": "code",
   "execution_count": null,
   "metadata": {},
   "outputs": [],
   "source": [
    "tr_d = \"temp_history\"\n",
    "tr_nam = \"freyberg\""
   ]
  },
  {
   "cell_type": "code",
   "execution_count": null,
   "metadata": {},
   "outputs": [],
   "source": [
    "m_tr = flopy.modflow.Modflow(tr_nam,model_ws=tr_d,version=\"mfnwt\")"
   ]
  },
  {
   "cell_type": "code",
   "execution_count": null,
   "metadata": {},
   "outputs": [],
   "source": [
    "tr_nper = 24 #num transient stress periods\n",
    "freq = \"m\"\n",
    "steady = [True]\n",
    "for _ in range(tr_nper):\n",
    "    steady.append(False)\n",
    "start_datetime = \"12-31-2015\"\n",
    "end = pd.date_range(start=start_datetime,periods=tr_nper+1,freq=freq)\n",
    "delt = end[1:] - end[:-1]\n",
    "perlen = list(delt.days.values)\n",
    "perlen.insert(0,1)\n",
    "print(end)\n",
    "print(perlen)\n",
    "model_start_datetime = \"12-31-2015\"\n",
    "assert len(perlen) == tr_nper + 1,len(perlen)"
   ]
  },
  {
   "cell_type": "code",
   "execution_count": null,
   "metadata": {},
   "outputs": [],
   "source": [
    "sp_end = pd.to_datetime(model_start_datetime) + pd.to_timedelta(np.cumsum(np.array(perlen)),unit='d')\n",
    "sp_end"
   ]
  },
  {
   "cell_type": "code",
   "execution_count": null,
   "metadata": {},
   "outputs": [],
   "source": [
    "_ = flopy.modflow.ModflowDis(m_tr,nper=tr_nper+1,nlay=m_org.nlay,nrow=m_org.nrow,ncol=m_org.ncol,delr=m_org.dis.delr.array,\n",
    "                        delc=m_org.dis.delc.array,top=m_org.dis.top.array,botm=m_org.dis.botm.array,steady=steady,\n",
    "                        perlen=perlen)\n",
    "m_tr.dis.start_datetime = model_start_datetime"
   ]
  },
  {
   "cell_type": "code",
   "execution_count": null,
   "metadata": {},
   "outputs": [],
   "source": [
    "_ = flopy.modflow.ModflowBas(m_tr,ibound=m_org.bas6.ibound.array,strt=m_org.bas6.strt.array,hnoflo=m_org.bas6.hnoflo)"
   ]
  },
  {
   "cell_type": "code",
   "execution_count": null,
   "metadata": {},
   "outputs": [],
   "source": [
    "_ = flopy.modflow.ModflowUpw(m_tr,ipakcb=50,laytyp=[1,0,0],hk=m_org.upw.hk.array,\n",
    "                             vka=m_org.upw.vka.array,ss=m_org.upw.ss.array,sy=m_org.upw.sy.array)"
   ]
  },
  {
   "cell_type": "code",
   "execution_count": null,
   "metadata": {},
   "outputs": [],
   "source": [
    "_ = flopy.modflow.ModflowNwt(m_tr,headtol=0.01,fluxtol=1.0)\n",
    "_ = flopy.modflow.ModflowOc(m_tr,stress_period_data={(kper,0):[\"save head\",\"save budget\"] for kper in range(m_tr.nper)})"
   ]
  },
  {
   "cell_type": "code",
   "execution_count": null,
   "metadata": {},
   "outputs": [],
   "source": [
    "angles = np.linspace(-np.pi, np.pi, tr_nper)\n",
    "season_mults = 1.0 + 0.65*np.sin(1 + angles*2)\n",
    "wel_season_mults = np.roll(season_mults,int(tr_nper / 4))\n",
    "plt.plot(np.arange(tr_nper),season_mults)\n",
    "plt.plot(np.arange(tr_nper),wel_season_mults)\n"
   ]
  },
  {
   "cell_type": "code",
   "execution_count": null,
   "metadata": {},
   "outputs": [],
   "source": [
    "org_wel_data = m_org.wel.stress_period_data[0]\n",
    "org_rch = m_org.rch.rech[0].array\n",
    "wel_data = {0:org_wel_data}\n",
    "rech = {0:org_rch}\n",
    "for kper in range(1,m_tr.nper):\n",
    "    kper_wel_data = org_wel_data.copy()\n",
    "    kper_wel_data[\"flux\"] *= wel_season_mults[kper-1]\n",
    "    wel_data[kper] = kper_wel_data\n",
    "    rech[kper] = org_rch * season_mults[kper-1]"
   ]
  },
  {
   "cell_type": "code",
   "execution_count": null,
   "metadata": {},
   "outputs": [],
   "source": [
    "_ = flopy.modflow.ModflowWel(m_tr,stress_period_data=wel_data,ipakcb=50)"
   ]
  },
  {
   "cell_type": "code",
   "execution_count": null,
   "metadata": {},
   "outputs": [],
   "source": [
    "_ = flopy.modflow.ModflowRch(m_tr,rech=rech,ipakcb=50)"
   ]
  },
  {
   "cell_type": "code",
   "execution_count": null,
   "metadata": {},
   "outputs": [],
   "source": [
    "_ = flopy.modflow.ModflowDrn(m_tr,stress_period_data=m_org.drn.stress_period_data,ipakcb=50)"
   ]
  },
  {
   "cell_type": "code",
   "execution_count": null,
   "metadata": {},
   "outputs": [],
   "source": [
    "m_org.sfr.reach_data"
   ]
  },
  {
   "cell_type": "code",
   "execution_count": null,
   "metadata": {},
   "outputs": [],
   "source": [
    "rdata = pd.DataFrame.from_records(m_org.sfr.reach_data)\n",
    "sdata = pd.DataFrame.from_records(m_org.sfr.segment_data[0])\n",
    "#print(rdata.reachID)\n",
    "\n",
    "rdata = rdata.reindex(np.arange(m_tr.nrow))\n",
    "#print(rdata.strthick)\n",
    "#return\n",
    "# rdata.loc[:,'k'] = 0\n",
    "# rdata.loc[:,'j'] = 16\n",
    "# rdata.loc[:,'rchlen'] = mfr.dis.delc.array\n",
    "# rdata.loc[:,'i'] = np.arange(mfr.nrow)\n",
    "# rdata.loc[:,\"iseg\"] = rdata.i + 1\n",
    "# rdata.loc[:,\"ireach\"] = 1\n",
    "# rdata.loc[:,\"reachID\"] = rdata.index.values\n",
    "# rdata.loc[:,\"outreach\"] = rdata.reachID + 1\n",
    "# rdata.loc[mfr.nrow-1,\"outreach\"] = 0\n",
    "# rdata.loc[:,\"node\"] = rdata.index.values\n",
    "# for col in [\"strthick\",\"thts\",\"thti\",\"eps\",\"uhc\",\"strhc1\"]:\n",
    "#     rdata.loc[:,col] = rdata.loc[0,col]\n",
    "\n",
    "\n",
    "\n",
    "upstrm = 34\n",
    "dwstrm = 33.5\n",
    "total_length = m_tr.dis.delc.array.max() * m_tr.nrow\n",
    "slope = (upstrm - dwstrm) / total_length\n",
    "# print(rdata.dtype,slope)\n",
    "strtop = np.linspace(upstrm, dwstrm, m_tr.nrow)\n",
    "# print(strtop)\n",
    "rdata.loc[:,\"strtop\"] = strtop\n",
    "rdata.loc[:,\"slope\"] = slope\n",
    "\n",
    "#print(sdata.nseg)\n",
    "sdata = sdata.reindex(np.arange(m_tr.nrow))\n",
    "for column in sdata.columns:\n",
    "    sdata.loc[:,column] = sdata.loc[0,column]\n",
    "sdata.loc[:,\"nseg\"] = np.arange(m_tr.nrow) + 1\n",
    "sdata.loc[1:,\"flow\"] = 0\n",
    "sdata.loc[:,\"width1\"] = 5.\n",
    "sdata.loc[:,\"width2\"] = 5.\n",
    "sdata.loc[:,\"elevup\"] = strtop\n",
    "sdata.loc[:,\"elevdn\"] = strtop - slope\n",
    "sdata.loc[:,\"outseg\"] = sdata.nseg + 1\n",
    "sdata.loc[m_tr.nrow-1,\"outseg\"] = 0\n",
    "\n",
    "sdata_dict = {0:sdata.to_records(index=False)}\n",
    "for kper in range(1,m_tr.nper):\n",
    "    kper_sdata = sdata.to_records(index=False)\n",
    "    kper_sdata[\"flow\"] *= season_mults[kper-1]\n",
    "    sdata_dict[kper] = kper_sdata\n",
    "\n",
    "_ = flopy.modflow.ModflowSfr2(m_tr,nstrm=m_tr.nrow,nss=m_tr.nrow,isfropt=m_org.sfr.isfropt,\n",
    "                          segment_data=sdata_dict,\n",
    "                          reach_data=rdata.to_records(index=False),ipakcb=m_org.sfr.ipakcb,\n",
    "                          istcb2=m_org.sfr.istcb2,reachinput=True)"
   ]
  },
  {
   "cell_type": "code",
   "execution_count": null,
   "metadata": {},
   "outputs": [],
   "source": [
    "m_tr.write_input()"
   ]
  },
  {
   "cell_type": "code",
   "execution_count": null,
   "metadata": {},
   "outputs": [],
   "source": [
    "prep_deps.prep_template(tr_d)"
   ]
  },
  {
   "cell_type": "code",
   "execution_count": null,
   "metadata": {},
   "outputs": [],
   "source": [
    "pyemu.os_utils.run(\"mfnwt {0}\".format(tr_nam),cwd=tr_d)"
   ]
  },
  {
   "cell_type": "code",
   "execution_count": null,
   "metadata": {},
   "outputs": [],
   "source": [
    "lst = flopy.utils.MfListBudget(os.path.join(tr_d,tr_nam+\".list\"))"
   ]
  },
  {
   "cell_type": "code",
   "execution_count": null,
   "metadata": {},
   "outputs": [],
   "source": [
    "flx,vol = lst.get_dataframes(diff=True,start_datetime=m_tr.start_datetime)\n",
    "flx.plot(subplots=True,figsize=(20,20))"
   ]
  },
  {
   "cell_type": "code",
   "execution_count": null,
   "metadata": {},
   "outputs": [],
   "source": [
    "flx.head()"
   ]
  },
  {
   "cell_type": "code",
   "execution_count": null,
   "metadata": {},
   "outputs": [],
   "source": [
    "mp_files = [f for f in os.listdir(org_d) if \"mp\" in f or \"location\" in f]\n",
    "[shutil.copy2(os.path.join(org_d,f),os.path.join(tr_d)) for f in mp_files]"
   ]
  },
  {
   "cell_type": "code",
   "execution_count": null,
   "metadata": {},
   "outputs": [],
   "source": [
    "for k in range(m_tr.nlay):\n",
    "    np.savetxt(os.path.join(tr_d,\"prsity_layer_{0}.ref\".format(k+1)),np.zeros((m_tr.nrow,m_tr.ncol))+0.1,fmt=\"%15.6E\")"
   ]
  },
  {
   "cell_type": "code",
   "execution_count": null,
   "metadata": {},
   "outputs": [],
   "source": [
    "pyemu.os_utils.run(\"mp6 freyberg.mpsim\",cwd=tr_d)"
   ]
  },
  {
   "cell_type": "code",
   "execution_count": null,
   "metadata": {},
   "outputs": [],
   "source": [
    "cb = flopy.utils.CellBudgetFile(os.path.join(tr_d,tr_nam+\".cbc\"))"
   ]
  },
  {
   "cell_type": "code",
   "execution_count": null,
   "metadata": {},
   "outputs": [],
   "source": [
    "cb.get_unique_record_names()"
   ]
  },
  {
   "cell_type": "code",
   "execution_count": null,
   "metadata": {},
   "outputs": [],
   "source": []
  },
  {
   "cell_type": "code",
   "execution_count": null,
   "metadata": {},
   "outputs": [],
   "source": []
  }
 ],
 "metadata": {
  "kernelspec": {
   "display_name": "Python 3",
   "language": "python",
   "name": "python3"
  },
  "language_info": {
   "codemirror_mode": {
    "name": "ipython",
    "version": 3
   },
   "file_extension": ".py",
   "mimetype": "text/x-python",
   "name": "python",
   "nbconvert_exporter": "python",
   "pygments_lexer": "ipython3",
   "version": "3.7.4"
  }
 },
 "nbformat": 4,
 "nbformat_minor": 2
}
