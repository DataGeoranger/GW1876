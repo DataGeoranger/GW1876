{
 "cells": [
  {
   "cell_type": "code",
   "execution_count": 10,
   "metadata": {},
   "outputs": [],
   "source": [
    "import pyemu\n",
    "import os, shutil\n",
    "import matplotlib.pyplot as plt\n",
    "%matplotlib inline\n",
    "import numpy as np\n",
    "import geostat_helpers as gh\n",
    "import pandas as pd\n",
    "from scipy.stats.mstats import normaltest\n",
    "import scipy.stats as sps"
   ]
  },
  {
   "cell_type": "markdown",
   "metadata": {},
   "source": [
    "# Geostatistics \n",
    "### Some definitions from Geoff Bohling http://people.ku.edu/~gbohling/cpe940/Variograms.pdf\n",
    "> ## “Geostatistics: study of phenomena that vary in space and/or time”\n",
    "(Deutsch, 2002)\n",
    "\n",
    "\n",
    "> ## “Geostatistics can be regarded as a collection of numerical techniques that deal with the characterization of spatial attributes, employing primarily random models in a manner similar to the way in which time series analysis characterizes temporal data.”\n",
    "(Olea, 1999)\n",
    "\n",
    "\n",
    "> ## “Geostatistics offers a way of describing the spatial continuity of natural phenomena and provides adaptations of classical regression techniques to take advantage of this continuity.” \n",
    "(Isaaks and Srivastava, 1989)\n",
    "\n",
    "\n",
    "> ## Geostatistics deals with spatially _autocorrelated_ data.\n",
    "\n",
    "> ## Autocorrelation: correlation between elements of a series and others from the same series separated from them by a given interval. \n",
    "(Oxford American Dictionary)"
   ]
  },
  {
   "cell_type": "markdown",
   "metadata": {},
   "source": [
    "# Main Concepts\n",
    "\n",
    "\n",
    "## 1. Variogram modeling -- a way to characterize spatial correlation\n",
    "## 2. Kriging -- a best linear unbiased estimate (BLUE) for interpolation with minimum variance. There are several flavors - we will focus on Ordinary Kriging\n",
    "## 3. Stochastic Simulation -- http://petrowiki.org/Geostatistical_conditional_simulation\n",
    "## 4. Beyond this multi-Gaussian approach focused on the relationships among pairs of points, there is _multiple point geostatistics_ as well using training images and more complex shapes\n",
    "\n",
    "# These concepts each build on each other. We will briefly touch on the first two"
   ]
  },
  {
   "cell_type": "markdown",
   "metadata": {},
   "source": [
    "## let's cook up a quick random field and explore the spatial structure"
   ]
  },
  {
   "cell_type": "code",
   "execution_count": null,
   "metadata": {},
   "outputs": [],
   "source": [
    "X,Y,Z,v,gs,sample_df = gh.data_cooker()"
   ]
  },
  {
   "cell_type": "markdown",
   "metadata": {},
   "source": [
    "## Pretend (key word!) that this is a hydraulic conductivity field\n",
    "\n",
    "## Any _autocorrelation_ here?"
   ]
  },
  {
   "cell_type": "code",
   "execution_count": null,
   "metadata": {},
   "outputs": [],
   "source": [
    "gh.grid_plot(X,Y,Z)"
   ]
  },
  {
   "cell_type": "markdown",
   "metadata": {},
   "source": [
    "## Of course, we would typically only know the values at a few points \n",
    "## (and probably not perfectly)\n",
    "## N.B. --> The default number of samples used here is 50"
   ]
  },
  {
   "cell_type": "code",
   "execution_count": null,
   "metadata": {},
   "outputs": [],
   "source": [
    "gh.field_scatterplot(sample_df.x,sample_df.y,sample_df.z)"
   ]
  },
  {
   "cell_type": "markdown",
   "metadata": {},
   "source": [
    "===================================="
   ]
  },
  {
   "cell_type": "markdown",
   "metadata": {},
   "source": [
    "# Geostatistics is based on a couple main assumptions:\n",
    "   ## 1. The values are second order stationary (the mean and variance are relatively constant) \n",
    "   ## 2. The values are multi-Gaussian (e.g. normally distributed)"
   ]
  },
  {
   "cell_type": "markdown",
   "metadata": {},
   "source": [
    "# Are the raw data normally distributed?\n",
    "\n",
    "### Spoiler alert - this field was generated using a variogram!"
   ]
  },
  {
   "cell_type": "code",
   "execution_count": null,
   "metadata": {},
   "outputs": [],
   "source": [
    "plt.hist(Z.ravel(), bins=50)\n",
    "x=np.linspace(70,130,100)\n",
    "plt.plot(x,sps.norm.pdf(x, np.mean(Z),np.std(Z))*len(Z.ravel()))"
   ]
  },
  {
   "cell_type": "code",
   "execution_count": null,
   "metadata": {},
   "outputs": [],
   "source": [
    "normaltest(Z.ravel())"
   ]
  },
  {
   "cell_type": "markdown",
   "metadata": {},
   "source": [
    "# How about our subsample?"
   ]
  },
  {
   "cell_type": "code",
   "execution_count": null,
   "metadata": {},
   "outputs": [],
   "source": [
    "plt.hist(sample_df.z, bins=50)\n",
    "x=np.linspace(70,130,100)\n",
    "plt.plot(x,sps.norm.pdf(x, np.mean(sample_df.z),np.std(sample_df.z))*len(sample_df.z))"
   ]
  },
  {
   "cell_type": "code",
   "execution_count": null,
   "metadata": {},
   "outputs": [],
   "source": [
    "normaltest(sample_df.z)"
   ]
  },
  {
   "cell_type": "markdown",
   "metadata": {},
   "source": [
    "# That was a pretty small sample....\n",
    "## Explore a bigger sample"
   ]
  },
  {
   "cell_type": "code",
   "execution_count": null,
   "metadata": {},
   "outputs": [],
   "source": [
    "n_sample_pts=1000\n",
    "xd = np.random.uniform(0, 1000, n_sample_pts)\n",
    "yd = np.random.uniform(0, 1000, n_sample_pts)\n",
    "z = gh.sample_from_grid(X,Y,Z,xd,yd)\n",
    "plt.hist(z, bins=50)\n",
    "x=np.linspace(70,130,100)\n",
    "plt.plot(x,sps.norm.pdf(x, np.mean(z),np.std(z))*len(z))\n",
    "normaltest(z)"
   ]
  },
  {
   "cell_type": "markdown",
   "metadata": {},
   "source": [
    "## Purity is commendable, but we are going to violate some of these assumptions for sure"
   ]
  },
  {
   "cell_type": "markdown",
   "metadata": {},
   "source": [
    "===================================="
   ]
  },
  {
   "cell_type": "markdown",
   "metadata": {},
   "source": [
    "# At the heart of geostatistics is some kind of model expressing the variability of properties in a field\n",
    "\n",
    "## This is a \"variogram\" and we can explore it based on the following empirical formula\n",
    "## $\\hat{\\gamma}\\left(h\\right)=\\frac{1}{2\\left(h\\right)}\\left(z\\left(x_1\\right)-z\\left(x_2\\right)\\right)^2$\n",
    "## where $x_1$ and $x_2$ are the locations of two $z$ data points separated by distance $h$"
   ]
  },
  {
   "cell_type": "markdown",
   "metadata": {},
   "source": [
    "## If we plot these up we get something called a cloud plot showing $\\hat\\gamma$ for all pairs in the dataset"
   ]
  },
  {
   "cell_type": "code",
   "execution_count": null,
   "metadata": {},
   "outputs": [],
   "source": [
    "h,gam,ax=gh.plot_empirical_variogram(sample_df.x,sample_df.y,sample_df.z,0)"
   ]
  },
  {
   "cell_type": "markdown",
   "metadata": {},
   "source": [
    "## This is pretty messy, so typically it is evaluated in bins, and usually only over half the total possible distance"
   ]
  },
  {
   "cell_type": "code",
   "execution_count": null,
   "metadata": {},
   "outputs": [],
   "source": [
    "h,gam,ax=gh.plot_empirical_variogram(sample_df.x,sample_df.y,sample_df.z,50)"
   ]
  },
  {
   "cell_type": "markdown",
   "metadata": {},
   "source": [
    "## Also note that this was assuming perfect observations. What if there was ~10% noise?"
   ]
  },
  {
   "cell_type": "code",
   "execution_count": null,
   "metadata": {},
   "outputs": [],
   "source": [
    "h,gam,ax=gh.plot_empirical_variogram(sample_df.x,sample_df.y,sample_df.z_noisy,30)"
   ]
  },
  {
   "cell_type": "markdown",
   "metadata": {},
   "source": [
    "## Geostatistics is making the assumption that you can model the variability of this field using a variogram. The variogram is closely related to covariance. \n",
    "\n",
    "## We take advantage of a few assumptions to come up with a few functional forms that should characterize this behavior"
   ]
  },
  {
   "cell_type": "markdown",
   "metadata": {},
   "source": [
    "## `pyemu` supports three variogram models\n",
    "\n",
    "## This follows the _GSLIB_ terminology\n",
    "\n",
    " ## 1. *Spherical*  \n",
    "### $\\gamma\\left(h\\right)=c\\times\\left[1.5\\frac{h}{a}-0.5\\frac{h}{a}^3\\right]$ if $h<a$\n",
    "### $\\gamma\\left(h\\right)=c$ if $h \\ge a$  \n",
    "     \n",
    " ## 2. *Exponential*  \n",
    "### $\\gamma\\left(h\\right)=c\\times\\left[1-\\exp\\left(-\\frac{h}{a}\\right)\\right]$  \n",
    "     \n",
    " ## 3. *Gaussian*  \n",
    "### $\\gamma\\left(h\\right)=c\\times\\left[1-\\exp\\left(-\\frac{h^2}{a^2}\\right)\\right]$  \n",
    "\n",
    "     \n",
    "\n",
    "### $h$ is the separation distance, and $a$ is the range. `contribution` is the variogram value at which the variogram levels off. Also called the `sill`, this value is the maximum variability between points.\n",
    "\n",
    "### The sill is reached at about $a$ for the *Spherical* model, $2a$ for the *Gaussian*, and $3a$ for the *Exponential*"
   ]
  },
  {
   "cell_type": "markdown",
   "metadata": {},
   "source": [
    "# What do these look like?\n",
    "\n",
    "## for a consistent set of parameters:\n",
    "## a=500, c=10\n",
    "## We can use `pyemu` to setup a geostatistical model"
   ]
  },
  {
   "cell_type": "code",
   "execution_count": null,
   "metadata": {},
   "outputs": [],
   "source": [
    "a=500\n",
    "c=10"
   ]
  },
  {
   "cell_type": "markdown",
   "metadata": {},
   "source": [
    "## Set up a variogram object and, from that, build a geostatistical structure"
   ]
  },
  {
   "cell_type": "markdown",
   "metadata": {},
   "source": [
    "### _Spherical_"
   ]
  },
  {
   "cell_type": "code",
   "execution_count": null,
   "metadata": {},
   "outputs": [],
   "source": [
    "v = pyemu.geostats.SphVario(contribution=c, a=a)\n",
    "gs = pyemu.geostats.GeoStruct(variograms=v)"
   ]
  },
  {
   "cell_type": "code",
   "execution_count": null,
   "metadata": {},
   "outputs": [],
   "source": [
    "gs.plot()\n",
    "plt.plot([v.a,v.a],[0,v.contribution],'r')\n",
    "plt.grid()"
   ]
  },
  {
   "cell_type": "code",
   "execution_count": null,
   "metadata": {},
   "outputs": [],
   "source": [
    "Q= gs.covariance_matrix(X.ravel(), Y.ravel(), names=[str(i) for i in range(len(Y.ravel()))])\n",
    "plt.figure(figsize=(6,6))\n",
    "plt.imshow(Q.x)\n",
    "plt.colorbar()"
   ]
  },
  {
   "cell_type": "markdown",
   "metadata": {},
   "source": [
    "### _Exponential_"
   ]
  },
  {
   "cell_type": "code",
   "execution_count": null,
   "metadata": {},
   "outputs": [],
   "source": [
    "v = pyemu.geostats.ExpVario(contribution=c, a=a)\n",
    "gs = pyemu.geostats.GeoStruct(variograms=v)\n",
    "gs.plot()\n",
    "plt.plot([v.a,v.a],[0,v.contribution],'r')\n",
    "plt.plot([3*v.a,3*v.a],[0,v.contribution],'r:')\n",
    "plt.grid()"
   ]
  },
  {
   "cell_type": "code",
   "execution_count": null,
   "metadata": {},
   "outputs": [],
   "source": [
    "Q= gs.covariance_matrix(X.ravel(), Y.ravel(), names=[str(i) for i in range(len(Y.ravel()))])\n",
    "plt.figure(figsize=(6,6))\n",
    "plt.imshow(Q.x)\n",
    "plt.colorbar()"
   ]
  },
  {
   "cell_type": "markdown",
   "metadata": {},
   "source": [
    "### _Gaussian_"
   ]
  },
  {
   "cell_type": "code",
   "execution_count": null,
   "metadata": {},
   "outputs": [],
   "source": [
    "v = pyemu.geostats.GauVario(contribution=c, a=a)\n",
    "gs = pyemu.geostats.GeoStruct(variograms=v)\n",
    "gs.plot()\n",
    "plt.plot([v.a,v.a],[0,v.contribution],'r')\n",
    "plt.plot([7/4*v.a,7/4*v.a],[0,v.contribution],'r:')\n",
    "plt.grid()"
   ]
  },
  {
   "cell_type": "code",
   "execution_count": null,
   "metadata": {},
   "outputs": [],
   "source": [
    "Q= gs.covariance_matrix(X.ravel(), Y.ravel(), names=[str(i) for i in range(len(Y.ravel()))])\n",
    "plt.figure(figsize=(6,6))\n",
    "plt.imshow(Q.x)\n",
    "plt.colorbar()"
   ]
  },
  {
   "cell_type": "markdown",
   "metadata": {},
   "source": [
    "# If we fit an appropriate model ($\\gamma$) to the empirical variogram ($\\hat\\gamma$), we can use that structure for interpolation from sparse data"
   ]
  },
  {
   "cell_type": "code",
   "execution_count": null,
   "metadata": {},
   "outputs": [],
   "source": [
    "h,gam,ax=gh.plot_empirical_variogram(sample_df.x,sample_df.y,sample_df.z,50)\n",
    "new_c=70.0\n",
    "new_a=250.0\n",
    "\n",
    "v_fit = pyemu.geostats.ExpVario(contribution=new_c,a=new_a)\n",
    "gs_fit = pyemu.geostats.GeoStruct(variograms=v_fit)\n",
    "gs_fit.plot(ax=ax)\n"
   ]
  },
  {
   "cell_type": "code",
   "execution_count": null,
   "metadata": {},
   "outputs": [],
   "source": [
    "Q = gs_fit.covariance_matrix(X.ravel(), Y.ravel(), names=[str(i) for i in range(len(Y.ravel()))])"
   ]
  },
  {
   "cell_type": "code",
   "execution_count": null,
   "metadata": {},
   "outputs": [],
   "source": [
    "plt.figure(figsize=(6,6))\n",
    "plt.imshow(Q.x)\n",
    "plt.colorbar()\n"
   ]
  },
  {
   "cell_type": "markdown",
   "metadata": {},
   "source": [
    "# We can perform Kriging to interpolate using this variogram and our \"data\""
   ]
  },
  {
   "cell_type": "markdown",
   "metadata": {},
   "source": [
    "## First make an Ordinary Kriging object"
   ]
  },
  {
   "cell_type": "code",
   "execution_count": null,
   "metadata": {},
   "outputs": [],
   "source": [
    "k = pyemu.geostats.OrdinaryKrige(gs_fit,sample_df)"
   ]
  },
  {
   "cell_type": "code",
   "execution_count": null,
   "metadata": {},
   "outputs": [],
   "source": [
    "sample_df.head()"
   ]
  },
  {
   "cell_type": "markdown",
   "metadata": {},
   "source": [
    "## Next we need to calculate factors (we only do this once - takes a few seconds)"
   ]
  },
  {
   "cell_type": "code",
   "execution_count": null,
   "metadata": {},
   "outputs": [],
   "source": [
    "kfactors = k.calc_factors(X.ravel(),Y.ravel())"
   ]
  },
  {
   "cell_type": "markdown",
   "metadata": {},
   "source": [
    "## It's easiest to think of these factors as weights on surrounding point to calculate a weighted average of the surrounding values. The weight is a function of the distance - farther points have smaller weights"
   ]
  },
  {
   "cell_type": "code",
   "execution_count": null,
   "metadata": {},
   "outputs": [],
   "source": [
    "kfactors.head()"
   ]
  },
  {
   "cell_type": "code",
   "execution_count": null,
   "metadata": {},
   "outputs": [],
   "source": [
    "Z_interp = gh.geostat_interpolate(X,Y,k.interp_data, sample_df)"
   ]
  },
  {
   "cell_type": "code",
   "execution_count": null,
   "metadata": {},
   "outputs": [],
   "source": [
    "vlims = [Z.min(),Z.max()]\n",
    "ax=gh.grid_plot(X,Y,Z_interp,vlims=vlims, title='reconstruction')\n",
    "ax.plot(sample_df.x,sample_df.y, 'ko')"
   ]
  },
  {
   "cell_type": "code",
   "execution_count": null,
   "metadata": {},
   "outputs": [],
   "source": [
    "gh.grid_plot(X,Y,Z,vlims=vlims,title='truth')"
   ]
  },
  {
   "cell_type": "code",
   "execution_count": null,
   "metadata": {},
   "outputs": [],
   "source": [
    "ax=gh.grid_plot(X,Y,kfactors.err_var.values.reshape(X.shape), title='Variance of Estimate')\n",
    "ax.plot(sample_df.x,sample_df.y, 'ko')"
   ]
  },
  {
   "cell_type": "code",
   "execution_count": null,
   "metadata": {},
   "outputs": [],
   "source": [
    "ax=gh.grid_plot(X,Y,np.abs(Z-Z_interp), title='Actual Differences')\n",
    "ax.plot(sample_df.x,sample_df.y, 'yo')"
   ]
  },
  {
   "cell_type": "markdown",
   "metadata": {},
   "source": [
    "# What if our data were noisy?"
   ]
  },
  {
   "cell_type": "code",
   "execution_count": null,
   "metadata": {},
   "outputs": [],
   "source": [
    "h,gam,ax=gh.plot_empirical_variogram(sample_df.x,sample_df.y,sample_df.z_noisy,30)\n",
    "new_c=150.0\n",
    "new_a=275.0\n",
    "\n",
    "# select which kind of variogram here because in reality we don't know, right?\n",
    "v_fit = pyemu.geostats.ExpVario(contribution=new_c,a=new_a)\n",
    "gs_fit = pyemu.geostats.GeoStruct(variograms=v_fit, nugget=50)\n",
    "gs_fit.plot(ax=ax)"
   ]
  },
  {
   "cell_type": "code",
   "execution_count": null,
   "metadata": {},
   "outputs": [],
   "source": [
    "Q = gs_fit.covariance_matrix(X.ravel(), Y.ravel(), names=[str(i) for i in range(len(Y.ravel()))])\n",
    "plt.figure(figsize=(6,6))\n",
    "plt.imshow(Q.x)\n",
    "plt.colorbar();"
   ]
  },
  {
   "cell_type": "markdown",
   "metadata": {},
   "source": [
    "## Again make the Kriging Object and the factors and interpolate"
   ]
  },
  {
   "cell_type": "code",
   "execution_count": null,
   "metadata": {},
   "outputs": [],
   "source": [
    "k = pyemu.geostats.OrdinaryKrige(gs_fit,sample_df)\n",
    "kfactors = k.calc_factors(X.ravel(),Y.ravel())\n",
    "Z_interp = gh.geostat_interpolate(X,Y,k.interp_data, sample_df)"
   ]
  },
  {
   "cell_type": "code",
   "execution_count": null,
   "metadata": {},
   "outputs": [],
   "source": [
    "ax=gh.grid_plot(X,Y,Z_interp,vlims=vlims, title='reconstruction')\n",
    "ax.plot(sample_df.x,sample_df.y, 'ko')"
   ]
  },
  {
   "cell_type": "code",
   "execution_count": null,
   "metadata": {},
   "outputs": [],
   "source": [
    "gh.grid_plot(X,Y,Z,vlims=vlims,title='truth')"
   ]
  },
  {
   "cell_type": "code",
   "execution_count": null,
   "metadata": {},
   "outputs": [],
   "source": [
    "ax=gh.grid_plot(X,Y,kfactors.err_var.values.reshape(X.shape), title='Variance of Estimate')\n",
    "ax.plot(sample_df.x,sample_df.y, 'ko')"
   ]
  },
  {
   "cell_type": "code",
   "execution_count": null,
   "metadata": {},
   "outputs": [],
   "source": [
    "ax=gh.grid_plot(X,Y,np.abs(Z-Z_interp), title='Actual Differences')\n",
    "ax.plot(sample_df.x,sample_df.y, 'yo')"
   ]
  },
  {
   "cell_type": "markdown",
   "metadata": {},
   "source": [
    "### Spectral simulation\n",
    "\n",
    "Because pyemu is pure python (and because the developers are lazy), it only implments spectral simulation for grid-scale field generation.  For regular grids without anisotropy and without conditioning data (\"known\" property values), it is identical to sequential gaussian sim"
   ]
  },
  {
   "cell_type": "code",
   "execution_count": null,
   "metadata": {},
   "outputs": [],
   "source": [
    "ev = pyemu.geostats.ExpVario(1.0,1)\n",
    "gs = pyemu.geostats.GeoStruct(variograms=ev)\n",
    "ss = pyemu.geostats.SpecSim2d(np.ones(100),np.ones(100),gs)\n",
    "plt.imshow(ss.draw_arrays()[0])"
   ]
  },
  {
   "cell_type": "code",
   "execution_count": null,
   "metadata": {},
   "outputs": [],
   "source": [
    "ev = pyemu.geostats.ExpVario(1.0,5)\n",
    "gs = pyemu.geostats.GeoStruct(variograms=ev)\n",
    "ss = pyemu.geostats.SpecSim2d(np.ones(100),np.ones(100),gs)\n",
    "plt.imshow(ss.draw_arrays()[0])"
   ]
  },
  {
   "cell_type": "code",
   "execution_count": null,
   "metadata": {},
   "outputs": [],
   "source": [
    "ev = pyemu.geostats.ExpVario(1.0,500)\n",
    "gs = pyemu.geostats.GeoStruct(variograms=ev)\n",
    "ss = pyemu.geostats.SpecSim2d(np.ones(100),np.ones(100),gs)\n",
    "plt.imshow(ss.draw_arrays()[0])"
   ]
  },
  {
   "cell_type": "markdown",
   "metadata": {
    "collapsed": true
   },
   "source": [
    "# Further resources and information"
   ]
  },
  {
   "cell_type": "markdown",
   "metadata": {},
   "source": [
    "   # These concepts are used for pilot point interpolation in PEST\n",
    "   ## a. In the GW utilities in PEST (http://www.pesthomepage.org/Groundwater_Utilities.php) \n",
    "   ## b. The main tools are also available in `pyemu` -- we'll use that in the class"
   ]
  },
  {
   "cell_type": "markdown",
   "metadata": {},
   "source": [
    "# A nice but outdated set of references is at: http://people.ku.edu/~gbohling/geostats/"
   ]
  },
  {
   "cell_type": "markdown",
   "metadata": {},
   "source": [
    "# The Stanford Geostatistical Modeling Software (SGeMS: http://sgems.sourceforge.net/) is a nice GUI for geostatistical modeling, but it's not being maintained anymore."
   ]
  },
  {
   "cell_type": "markdown",
   "metadata": {},
   "source": [
    "# `R` has a package: http://rgeostats.free.fr/"
   ]
  },
  {
   "cell_type": "markdown",
   "metadata": {},
   "source": [
    "# Some packages are under development in `python` but not very far along. "
   ]
  },
  {
   "cell_type": "markdown",
   "metadata": {},
   "source": [
    "# `QGIS` and `ArcGIS` have some geostatistical modeling capabilities as well"
   ]
  },
  {
   "cell_type": "code",
   "execution_count": null,
   "metadata": {},
   "outputs": [],
   "source": []
  },
  {
   "cell_type": "code",
   "execution_count": null,
   "metadata": {},
   "outputs": [],
   "source": []
  },
  {
   "cell_type": "markdown",
   "metadata": {},
   "source": [
    "# Implementing Pilot Points in a `MODFLOW` model with `pyemu`"
   ]
  },
  {
   "cell_type": "code",
   "execution_count": 2,
   "metadata": {},
   "outputs": [],
   "source": [
    "import flopy"
   ]
  },
  {
   "cell_type": "code",
   "execution_count": 3,
   "metadata": {},
   "outputs": [],
   "source": [
    "t_d = \"template_history\"\n",
    "m = flopy.modflow.Modflow.load(\"freyberg.nam\",model_ws=t_d,check=False,forgive=False)"
   ]
  },
  {
   "cell_type": "code",
   "execution_count": 7,
   "metadata": {},
   "outputs": [
    {
     "data": {
      "text/plain": [
       "['DIS', 'BAS6', 'UPW', 'NWT', 'OC', 'WEL', 'RCH', 'GHB', 'SFR']"
      ]
     },
     "execution_count": 7,
     "metadata": {},
     "output_type": "execute_result"
    }
   ],
   "source": [
    "m.get_package_list()"
   ]
  },
  {
   "cell_type": "markdown",
   "metadata": {},
   "source": [
    "## Set up zones for where pilot points will be interpolated\n",
    "\n",
    "We can have pilot point networks in multiple zones. In this case, we will make a simple zone file using `IBOUND` such that all active cells are in the same interpolation zone."
   ]
  },
  {
   "cell_type": "code",
   "execution_count": 8,
   "metadata": {},
   "outputs": [
    {
     "data": {
      "text/plain": [
       "[<matplotlib.axes._subplots.AxesSubplot at 0x11d328d90>,\n",
       " <matplotlib.axes._subplots.AxesSubplot at 0x11f69ad50>,\n",
       " <matplotlib.axes._subplots.AxesSubplot at 0x11f563810>]"
      ]
     },
     "execution_count": 8,
     "metadata": {},
     "output_type": "execute_result"
    },
    {
     "data": {
      "image/png": "[encoded data removed]",
      "text/plain": [
       "<Figure size 432x288 with 1 Axes>"
      ]
     },
     "metadata": {
      "needs_background": "light"
     },
     "output_type": "display_data"
    },
    {
     "data": {
      "image/png": "[encoded data removed]",
      "text/plain": [
       "<Figure size 432x288 with 1 Axes>"
      ]
     },
     "metadata": {
      "needs_background": "light"
     },
     "output_type": "display_data"
    },
    {
     "data": {
      "image/png": "[encoded data removed]",
      "text/plain": [
       "<Figure size 432x288 with 1 Axes>"
      ]
     },
     "metadata": {
      "needs_background": "light"
     },
     "output_type": "display_data"
    }
   ],
   "source": [
    "m.bas6.ibound.plot()"
   ]
  },
  {
   "cell_type": "markdown",
   "metadata": {},
   "source": [
    "### We don't want pilot points or care about HK values in inactive cells, but we do need values in constant heads\n",
    "\n",
    "We are going to use a `pyemu` helper function to setup pilot points are cell centers for active cells in layer 2."
   ]
  },
  {
   "cell_type": "code",
   "execution_count": 11,
   "metadata": {},
   "outputs": [],
   "source": [
    "working_dir = 'pp_tmp'\n",
    "if os.path.exists(working_dir):\n",
    "    shutil.rmtree(working_dir)\n",
    "os.mkdir(working_dir)"
   ]
  },
  {
   "cell_type": "code",
   "execution_count": 53,
   "metadata": {},
   "outputs": [],
   "source": [
    "# we want hk pilot points in the top layer...\n",
    "prefix_dict = {1:[\"hk\"]}  # note, layer 1 is the neew layer 2 (e.g. zero-based)\n",
    "df_pp = pyemu.utils.setup_pilotpoints_grid(ml=m,prefix_dict=prefix_dict,\n",
    "                                              pp_dir=working_dir,\n",
    "                                              tpl_dir=working_dir,\n",
    "                                              every_n_cell=6)\n",
    "pp_file = os.path.join(working_dir,\"hkpp.dat\")\n",
    "assert os.path.exists(pp_file)"
   ]
  },
  {
   "cell_type": "code",
   "execution_count": 54,
   "metadata": {},
   "outputs": [
    {
     "data": {
      "text/html": [
       "<div>\n",
       "<style scoped>\n",
       "    .dataframe tbody tr th:only-of-type {\n",
       "        vertical-align: middle;\n",
       "    }\n",
       "\n",
       "    .dataframe tbody tr th {\n",
       "        vertical-align: top;\n",
       "    }\n",
       "\n",
       "    .dataframe thead th {\n",
       "        text-align: right;\n",
       "    }\n",
       "</style>\n",
       "<table border=\"1\" class=\"dataframe\">\n",
       "  <thead>\n",
       "    <tr style=\"text-align: right;\">\n",
       "      <th></th>\n",
       "      <th>name</th>\n",
       "      <th>x</th>\n",
       "      <th>y</th>\n",
       "      <th>zone</th>\n",
       "      <th>parval1</th>\n",
       "      <th>k</th>\n",
       "      <th>i</th>\n",
       "      <th>j</th>\n",
       "      <th>tpl</th>\n",
       "      <th>parnme</th>\n",
       "      <th>tpl_filename</th>\n",
       "      <th>pp_filename</th>\n",
       "      <th>pargp</th>\n",
       "      <th>partrans</th>\n",
       "      <th>parchglim</th>\n",
       "      <th>parlbnd</th>\n",
       "      <th>parubnd</th>\n",
       "      <th>scale</th>\n",
       "      <th>offset</th>\n",
       "      <th>dercom</th>\n",
       "    </tr>\n",
       "  </thead>\n",
       "  <tbody>\n",
       "    <tr>\n",
       "      <th>0</th>\n",
       "      <td>pp_0000</td>\n",
       "      <td>875.0</td>\n",
       "      <td>9125.0</td>\n",
       "      <td>1.0</td>\n",
       "      <td>1.0</td>\n",
       "      <td>1</td>\n",
       "      <td>3</td>\n",
       "      <td>3</td>\n",
       "      <td>~    hk00    ~</td>\n",
       "      <td>hk00</td>\n",
       "      <td>pp_tmp/hkpp.dat.tpl</td>\n",
       "      <td>pp_tmp/hkpp.dat</td>\n",
       "      <td>hk</td>\n",
       "      <td>log</td>\n",
       "      <td>factor</td>\n",
       "      <td>1.100000e-10</td>\n",
       "      <td>1.100000e+10</td>\n",
       "      <td>1.0</td>\n",
       "      <td>0.0</td>\n",
       "      <td>1</td>\n",
       "    </tr>\n",
       "    <tr>\n",
       "      <th>1</th>\n",
       "      <td>pp_0001</td>\n",
       "      <td>2375.0</td>\n",
       "      <td>9125.0</td>\n",
       "      <td>1.0</td>\n",
       "      <td>1.0</td>\n",
       "      <td>1</td>\n",
       "      <td>3</td>\n",
       "      <td>9</td>\n",
       "      <td>~    hk01    ~</td>\n",
       "      <td>hk01</td>\n",
       "      <td>pp_tmp/hkpp.dat.tpl</td>\n",
       "      <td>pp_tmp/hkpp.dat</td>\n",
       "      <td>hk</td>\n",
       "      <td>log</td>\n",
       "      <td>factor</td>\n",
       "      <td>1.100000e-10</td>\n",
       "      <td>1.100000e+10</td>\n",
       "      <td>1.0</td>\n",
       "      <td>0.0</td>\n",
       "      <td>1</td>\n",
       "    </tr>\n",
       "    <tr>\n",
       "      <th>2</th>\n",
       "      <td>pp_0002</td>\n",
       "      <td>3875.0</td>\n",
       "      <td>9125.0</td>\n",
       "      <td>1.0</td>\n",
       "      <td>1.0</td>\n",
       "      <td>1</td>\n",
       "      <td>3</td>\n",
       "      <td>15</td>\n",
       "      <td>~    hk02    ~</td>\n",
       "      <td>hk02</td>\n",
       "      <td>pp_tmp/hkpp.dat.tpl</td>\n",
       "      <td>pp_tmp/hkpp.dat</td>\n",
       "      <td>hk</td>\n",
       "      <td>log</td>\n",
       "      <td>factor</td>\n",
       "      <td>1.100000e-10</td>\n",
       "      <td>1.100000e+10</td>\n",
       "      <td>1.0</td>\n",
       "      <td>0.0</td>\n",
       "      <td>1</td>\n",
       "    </tr>\n",
       "    <tr>\n",
       "      <th>3</th>\n",
       "      <td>pp_0003</td>\n",
       "      <td>875.0</td>\n",
       "      <td>7625.0</td>\n",
       "      <td>1.0</td>\n",
       "      <td>1.0</td>\n",
       "      <td>1</td>\n",
       "      <td>9</td>\n",
       "      <td>3</td>\n",
       "      <td>~    hk03    ~</td>\n",
       "      <td>hk03</td>\n",
       "      <td>pp_tmp/hkpp.dat.tpl</td>\n",
       "      <td>pp_tmp/hkpp.dat</td>\n",
       "      <td>hk</td>\n",
       "      <td>log</td>\n",
       "      <td>factor</td>\n",
       "      <td>1.100000e-10</td>\n",
       "      <td>1.100000e+10</td>\n",
       "      <td>1.0</td>\n",
       "      <td>0.0</td>\n",
       "      <td>1</td>\n",
       "    </tr>\n",
       "    <tr>\n",
       "      <th>4</th>\n",
       "      <td>pp_0004</td>\n",
       "      <td>2375.0</td>\n",
       "      <td>7625.0</td>\n",
       "      <td>1.0</td>\n",
       "      <td>1.0</td>\n",
       "      <td>1</td>\n",
       "      <td>9</td>\n",
       "      <td>9</td>\n",
       "      <td>~    hk04    ~</td>\n",
       "      <td>hk04</td>\n",
       "      <td>pp_tmp/hkpp.dat.tpl</td>\n",
       "      <td>pp_tmp/hkpp.dat</td>\n",
       "      <td>hk</td>\n",
       "      <td>log</td>\n",
       "      <td>factor</td>\n",
       "      <td>1.100000e-10</td>\n",
       "      <td>1.100000e+10</td>\n",
       "      <td>1.0</td>\n",
       "      <td>0.0</td>\n",
       "      <td>1</td>\n",
       "    </tr>\n",
       "    <tr>\n",
       "      <th>5</th>\n",
       "      <td>pp_0005</td>\n",
       "      <td>3875.0</td>\n",
       "      <td>7625.0</td>\n",
       "      <td>1.0</td>\n",
       "      <td>1.0</td>\n",
       "      <td>1</td>\n",
       "      <td>9</td>\n",
       "      <td>15</td>\n",
       "      <td>~    hk05    ~</td>\n",
       "      <td>hk05</td>\n",
       "      <td>pp_tmp/hkpp.dat.tpl</td>\n",
       "      <td>pp_tmp/hkpp.dat</td>\n",
       "      <td>hk</td>\n",
       "      <td>log</td>\n",
       "      <td>factor</td>\n",
       "      <td>1.100000e-10</td>\n",
       "      <td>1.100000e+10</td>\n",
       "      <td>1.0</td>\n",
       "      <td>0.0</td>\n",
       "      <td>1</td>\n",
       "    </tr>\n",
       "    <tr>\n",
       "      <th>6</th>\n",
       "      <td>pp_0006</td>\n",
       "      <td>875.0</td>\n",
       "      <td>6125.0</td>\n",
       "      <td>1.0</td>\n",
       "      <td>1.0</td>\n",
       "      <td>1</td>\n",
       "      <td>15</td>\n",
       "      <td>3</td>\n",
       "      <td>~    hk06    ~</td>\n",
       "      <td>hk06</td>\n",
       "      <td>pp_tmp/hkpp.dat.tpl</td>\n",
       "      <td>pp_tmp/hkpp.dat</td>\n",
       "      <td>hk</td>\n",
       "      <td>log</td>\n",
       "      <td>factor</td>\n",
       "      <td>1.100000e-10</td>\n",
       "      <td>1.100000e+10</td>\n",
       "      <td>1.0</td>\n",
       "      <td>0.0</td>\n",
       "      <td>1</td>\n",
       "    </tr>\n",
       "    <tr>\n",
       "      <th>7</th>\n",
       "      <td>pp_0007</td>\n",
       "      <td>2375.0</td>\n",
       "      <td>6125.0</td>\n",
       "      <td>1.0</td>\n",
       "      <td>1.0</td>\n",
       "      <td>1</td>\n",
       "      <td>15</td>\n",
       "      <td>9</td>\n",
       "      <td>~    hk07    ~</td>\n",
       "      <td>hk07</td>\n",
       "      <td>pp_tmp/hkpp.dat.tpl</td>\n",
       "      <td>pp_tmp/hkpp.dat</td>\n",
       "      <td>hk</td>\n",
       "      <td>log</td>\n",
       "      <td>factor</td>\n",
       "      <td>1.100000e-10</td>\n",
       "      <td>1.100000e+10</td>\n",
       "      <td>1.0</td>\n",
       "      <td>0.0</td>\n",
       "      <td>1</td>\n",
       "    </tr>\n",
       "    <tr>\n",
       "      <th>8</th>\n",
       "      <td>pp_0008</td>\n",
       "      <td>3875.0</td>\n",
       "      <td>6125.0</td>\n",
       "      <td>1.0</td>\n",
       "      <td>1.0</td>\n",
       "      <td>1</td>\n",
       "      <td>15</td>\n",
       "      <td>15</td>\n",
       "      <td>~    hk08    ~</td>\n",
       "      <td>hk08</td>\n",
       "      <td>pp_tmp/hkpp.dat.tpl</td>\n",
       "      <td>pp_tmp/hkpp.dat</td>\n",
       "      <td>hk</td>\n",
       "      <td>log</td>\n",
       "      <td>factor</td>\n",
       "      <td>1.100000e-10</td>\n",
       "      <td>1.100000e+10</td>\n",
       "      <td>1.0</td>\n",
       "      <td>0.0</td>\n",
       "      <td>1</td>\n",
       "    </tr>\n",
       "    <tr>\n",
       "      <th>9</th>\n",
       "      <td>pp_0009</td>\n",
       "      <td>875.0</td>\n",
       "      <td>4625.0</td>\n",
       "      <td>1.0</td>\n",
       "      <td>1.0</td>\n",
       "      <td>1</td>\n",
       "      <td>21</td>\n",
       "      <td>3</td>\n",
       "      <td>~    hk09    ~</td>\n",
       "      <td>hk09</td>\n",
       "      <td>pp_tmp/hkpp.dat.tpl</td>\n",
       "      <td>pp_tmp/hkpp.dat</td>\n",
       "      <td>hk</td>\n",
       "      <td>log</td>\n",
       "      <td>factor</td>\n",
       "      <td>1.100000e-10</td>\n",
       "      <td>1.100000e+10</td>\n",
       "      <td>1.0</td>\n",
       "      <td>0.0</td>\n",
       "      <td>1</td>\n",
       "    </tr>\n",
       "    <tr>\n",
       "      <th>10</th>\n",
       "      <td>pp_0010</td>\n",
       "      <td>2375.0</td>\n",
       "      <td>4625.0</td>\n",
       "      <td>1.0</td>\n",
       "      <td>1.0</td>\n",
       "      <td>1</td>\n",
       "      <td>21</td>\n",
       "      <td>9</td>\n",
       "      <td>~    hk10    ~</td>\n",
       "      <td>hk10</td>\n",
       "      <td>pp_tmp/hkpp.dat.tpl</td>\n",
       "      <td>pp_tmp/hkpp.dat</td>\n",
       "      <td>hk</td>\n",
       "      <td>log</td>\n",
       "      <td>factor</td>\n",
       "      <td>1.100000e-10</td>\n",
       "      <td>1.100000e+10</td>\n",
       "      <td>1.0</td>\n",
       "      <td>0.0</td>\n",
       "      <td>1</td>\n",
       "    </tr>\n",
       "    <tr>\n",
       "      <th>11</th>\n",
       "      <td>pp_0011</td>\n",
       "      <td>3875.0</td>\n",
       "      <td>4625.0</td>\n",
       "      <td>1.0</td>\n",
       "      <td>1.0</td>\n",
       "      <td>1</td>\n",
       "      <td>21</td>\n",
       "      <td>15</td>\n",
       "      <td>~    hk11    ~</td>\n",
       "      <td>hk11</td>\n",
       "      <td>pp_tmp/hkpp.dat.tpl</td>\n",
       "      <td>pp_tmp/hkpp.dat</td>\n",
       "      <td>hk</td>\n",
       "      <td>log</td>\n",
       "      <td>factor</td>\n",
       "      <td>1.100000e-10</td>\n",
       "      <td>1.100000e+10</td>\n",
       "      <td>1.0</td>\n",
       "      <td>0.0</td>\n",
       "      <td>1</td>\n",
       "    </tr>\n",
       "    <tr>\n",
       "      <th>12</th>\n",
       "      <td>pp_0012</td>\n",
       "      <td>875.0</td>\n",
       "      <td>3125.0</td>\n",
       "      <td>1.0</td>\n",
       "      <td>1.0</td>\n",
       "      <td>1</td>\n",
       "      <td>27</td>\n",
       "      <td>3</td>\n",
       "      <td>~    hk12    ~</td>\n",
       "      <td>hk12</td>\n",
       "      <td>pp_tmp/hkpp.dat.tpl</td>\n",
       "      <td>pp_tmp/hkpp.dat</td>\n",
       "      <td>hk</td>\n",
       "      <td>log</td>\n",
       "      <td>factor</td>\n",
       "      <td>1.100000e-10</td>\n",
       "      <td>1.100000e+10</td>\n",
       "      <td>1.0</td>\n",
       "      <td>0.0</td>\n",
       "      <td>1</td>\n",
       "    </tr>\n",
       "    <tr>\n",
       "      <th>13</th>\n",
       "      <td>pp_0013</td>\n",
       "      <td>2375.0</td>\n",
       "      <td>3125.0</td>\n",
       "      <td>1.0</td>\n",
       "      <td>1.0</td>\n",
       "      <td>1</td>\n",
       "      <td>27</td>\n",
       "      <td>9</td>\n",
       "      <td>~    hk13    ~</td>\n",
       "      <td>hk13</td>\n",
       "      <td>pp_tmp/hkpp.dat.tpl</td>\n",
       "      <td>pp_tmp/hkpp.dat</td>\n",
       "      <td>hk</td>\n",
       "      <td>log</td>\n",
       "      <td>factor</td>\n",
       "      <td>1.100000e-10</td>\n",
       "      <td>1.100000e+10</td>\n",
       "      <td>1.0</td>\n",
       "      <td>0.0</td>\n",
       "      <td>1</td>\n",
       "    </tr>\n",
       "    <tr>\n",
       "      <th>14</th>\n",
       "      <td>pp_0014</td>\n",
       "      <td>3875.0</td>\n",
       "      <td>3125.0</td>\n",
       "      <td>1.0</td>\n",
       "      <td>1.0</td>\n",
       "      <td>1</td>\n",
       "      <td>27</td>\n",
       "      <td>15</td>\n",
       "      <td>~    hk14    ~</td>\n",
       "      <td>hk14</td>\n",
       "      <td>pp_tmp/hkpp.dat.tpl</td>\n",
       "      <td>pp_tmp/hkpp.dat</td>\n",
       "      <td>hk</td>\n",
       "      <td>log</td>\n",
       "      <td>factor</td>\n",
       "      <td>1.100000e-10</td>\n",
       "      <td>1.100000e+10</td>\n",
       "      <td>1.0</td>\n",
       "      <td>0.0</td>\n",
       "      <td>1</td>\n",
       "    </tr>\n",
       "    <tr>\n",
       "      <th>15</th>\n",
       "      <td>pp_0015</td>\n",
       "      <td>875.0</td>\n",
       "      <td>1625.0</td>\n",
       "      <td>1.0</td>\n",
       "      <td>1.0</td>\n",
       "      <td>1</td>\n",
       "      <td>33</td>\n",
       "      <td>3</td>\n",
       "      <td>~    hk15    ~</td>\n",
       "      <td>hk15</td>\n",
       "      <td>pp_tmp/hkpp.dat.tpl</td>\n",
       "      <td>pp_tmp/hkpp.dat</td>\n",
       "      <td>hk</td>\n",
       "      <td>log</td>\n",
       "      <td>factor</td>\n",
       "      <td>1.100000e-10</td>\n",
       "      <td>1.100000e+10</td>\n",
       "      <td>1.0</td>\n",
       "      <td>0.0</td>\n",
       "      <td>1</td>\n",
       "    </tr>\n",
       "    <tr>\n",
       "      <th>16</th>\n",
       "      <td>pp_0016</td>\n",
       "      <td>2375.0</td>\n",
       "      <td>1625.0</td>\n",
       "      <td>1.0</td>\n",
       "      <td>1.0</td>\n",
       "      <td>1</td>\n",
       "      <td>33</td>\n",
       "      <td>9</td>\n",
       "      <td>~    hk16    ~</td>\n",
       "      <td>hk16</td>\n",
       "      <td>pp_tmp/hkpp.dat.tpl</td>\n",
       "      <td>pp_tmp/hkpp.dat</td>\n",
       "      <td>hk</td>\n",
       "      <td>log</td>\n",
       "      <td>factor</td>\n",
       "      <td>1.100000e-10</td>\n",
       "      <td>1.100000e+10</td>\n",
       "      <td>1.0</td>\n",
       "      <td>0.0</td>\n",
       "      <td>1</td>\n",
       "    </tr>\n",
       "    <tr>\n",
       "      <th>17</th>\n",
       "      <td>pp_0017</td>\n",
       "      <td>3875.0</td>\n",
       "      <td>1625.0</td>\n",
       "      <td>1.0</td>\n",
       "      <td>1.0</td>\n",
       "      <td>1</td>\n",
       "      <td>33</td>\n",
       "      <td>15</td>\n",
       "      <td>~    hk17    ~</td>\n",
       "      <td>hk17</td>\n",
       "      <td>pp_tmp/hkpp.dat.tpl</td>\n",
       "      <td>pp_tmp/hkpp.dat</td>\n",
       "      <td>hk</td>\n",
       "      <td>log</td>\n",
       "      <td>factor</td>\n",
       "      <td>1.100000e-10</td>\n",
       "      <td>1.100000e+10</td>\n",
       "      <td>1.0</td>\n",
       "      <td>0.0</td>\n",
       "      <td>1</td>\n",
       "    </tr>\n",
       "  </tbody>\n",
       "</table>\n",
       "</div>"
      ],
      "text/plain": [
       "       name       x       y  zone  parval1  k   i   j             tpl parnme  \\\n",
       "0   pp_0000   875.0  9125.0   1.0      1.0  1   3   3  ~    hk00    ~   hk00   \n",
       "1   pp_0001  2375.0  9125.0   1.0      1.0  1   3   9  ~    hk01    ~   hk01   \n",
       "2   pp_0002  3875.0  9125.0   1.0      1.0  1   3  15  ~    hk02    ~   hk02   \n",
       "3   pp_0003   875.0  7625.0   1.0      1.0  1   9   3  ~    hk03    ~   hk03   \n",
       "4   pp_0004  2375.0  7625.0   1.0      1.0  1   9   9  ~    hk04    ~   hk04   \n",
       "5   pp_0005  3875.0  7625.0   1.0      1.0  1   9  15  ~    hk05    ~   hk05   \n",
       "6   pp_0006   875.0  6125.0   1.0      1.0  1  15   3  ~    hk06    ~   hk06   \n",
       "7   pp_0007  2375.0  6125.0   1.0      1.0  1  15   9  ~    hk07    ~   hk07   \n",
       "8   pp_0008  3875.0  6125.0   1.0      1.0  1  15  15  ~    hk08    ~   hk08   \n",
       "9   pp_0009   875.0  4625.0   1.0      1.0  1  21   3  ~    hk09    ~   hk09   \n",
       "10  pp_0010  2375.0  4625.0   1.0      1.0  1  21   9  ~    hk10    ~   hk10   \n",
       "11  pp_0011  3875.0  4625.0   1.0      1.0  1  21  15  ~    hk11    ~   hk11   \n",
       "12  pp_0012   875.0  3125.0   1.0      1.0  1  27   3  ~    hk12    ~   hk12   \n",
       "13  pp_0013  2375.0  3125.0   1.0      1.0  1  27   9  ~    hk13    ~   hk13   \n",
       "14  pp_0014  3875.0  3125.0   1.0      1.0  1  27  15  ~    hk14    ~   hk14   \n",
       "15  pp_0015   875.0  1625.0   1.0      1.0  1  33   3  ~    hk15    ~   hk15   \n",
       "16  pp_0016  2375.0  1625.0   1.0      1.0  1  33   9  ~    hk16    ~   hk16   \n",
       "17  pp_0017  3875.0  1625.0   1.0      1.0  1  33  15  ~    hk17    ~   hk17   \n",
       "\n",
       "           tpl_filename      pp_filename pargp partrans parchglim  \\\n",
       "0   pp_tmp/hkpp.dat.tpl  pp_tmp/hkpp.dat    hk      log    factor   \n",
       "1   pp_tmp/hkpp.dat.tpl  pp_tmp/hkpp.dat    hk      log    factor   \n",
       "2   pp_tmp/hkpp.dat.tpl  pp_tmp/hkpp.dat    hk      log    factor   \n",
       "3   pp_tmp/hkpp.dat.tpl  pp_tmp/hkpp.dat    hk      log    factor   \n",
       "4   pp_tmp/hkpp.dat.tpl  pp_tmp/hkpp.dat    hk      log    factor   \n",
       "5   pp_tmp/hkpp.dat.tpl  pp_tmp/hkpp.dat    hk      log    factor   \n",
       "6   pp_tmp/hkpp.dat.tpl  pp_tmp/hkpp.dat    hk      log    factor   \n",
       "7   pp_tmp/hkpp.dat.tpl  pp_tmp/hkpp.dat    hk      log    factor   \n",
       "8   pp_tmp/hkpp.dat.tpl  pp_tmp/hkpp.dat    hk      log    factor   \n",
       "9   pp_tmp/hkpp.dat.tpl  pp_tmp/hkpp.dat    hk      log    factor   \n",
       "10  pp_tmp/hkpp.dat.tpl  pp_tmp/hkpp.dat    hk      log    factor   \n",
       "11  pp_tmp/hkpp.dat.tpl  pp_tmp/hkpp.dat    hk      log    factor   \n",
       "12  pp_tmp/hkpp.dat.tpl  pp_tmp/hkpp.dat    hk      log    factor   \n",
       "13  pp_tmp/hkpp.dat.tpl  pp_tmp/hkpp.dat    hk      log    factor   \n",
       "14  pp_tmp/hkpp.dat.tpl  pp_tmp/hkpp.dat    hk      log    factor   \n",
       "15  pp_tmp/hkpp.dat.tpl  pp_tmp/hkpp.dat    hk      log    factor   \n",
       "16  pp_tmp/hkpp.dat.tpl  pp_tmp/hkpp.dat    hk      log    factor   \n",
       "17  pp_tmp/hkpp.dat.tpl  pp_tmp/hkpp.dat    hk      log    factor   \n",
       "\n",
       "         parlbnd       parubnd  scale  offset  dercom  \n",
       "0   1.100000e-10  1.100000e+10    1.0     0.0       1  \n",
       "1   1.100000e-10  1.100000e+10    1.0     0.0       1  \n",
       "2   1.100000e-10  1.100000e+10    1.0     0.0       1  \n",
       "3   1.100000e-10  1.100000e+10    1.0     0.0       1  \n",
       "4   1.100000e-10  1.100000e+10    1.0     0.0       1  \n",
       "5   1.100000e-10  1.100000e+10    1.0     0.0       1  \n",
       "6   1.100000e-10  1.100000e+10    1.0     0.0       1  \n",
       "7   1.100000e-10  1.100000e+10    1.0     0.0       1  \n",
       "8   1.100000e-10  1.100000e+10    1.0     0.0       1  \n",
       "9   1.100000e-10  1.100000e+10    1.0     0.0       1  \n",
       "10  1.100000e-10  1.100000e+10    1.0     0.0       1  \n",
       "11  1.100000e-10  1.100000e+10    1.0     0.0       1  \n",
       "12  1.100000e-10  1.100000e+10    1.0     0.0       1  \n",
       "13  1.100000e-10  1.100000e+10    1.0     0.0       1  \n",
       "14  1.100000e-10  1.100000e+10    1.0     0.0       1  \n",
       "15  1.100000e-10  1.100000e+10    1.0     0.0       1  \n",
       "16  1.100000e-10  1.100000e+10    1.0     0.0       1  \n",
       "17  1.100000e-10  1.100000e+10    1.0     0.0       1  "
      ]
     },
     "execution_count": 54,
     "metadata": {},
     "output_type": "execute_result"
    }
   ],
   "source": [
    "df_pp"
   ]
  },
  {
   "cell_type": "markdown",
   "metadata": {},
   "source": [
    "## Need to create Kriging factors and regularization inputs\n",
    "Following the guidelines in _Approaches to Highly Parameterized Inversion: Pilot-Point Theory, Guidelines, and Research Directions_ https://pubs.usgs.gov/sir/2010/5168/"
   ]
  },
  {
   "cell_type": "markdown",
   "metadata": {},
   "source": [
    "### First, let's create ``variogram`` and ``GeoStruct`` objects.  \n",
    "\n",
    "These describe how HK varies spatailly, remember?"
   ]
  },
  {
   "cell_type": "code",
   "execution_count": 55,
   "metadata": {},
   "outputs": [
    {
     "data": {
      "text/plain": [
       "(0, 2.0)"
      ]
     },
     "execution_count": 55,
     "metadata": {},
     "output_type": "execute_result"
    },
    {
     "data": {
      "image/png": "[encoded data removed]",
      "text/plain": [
       "<Figure size 432x288 with 1 Axes>"
      ]
     },
     "metadata": {
      "needs_background": "light"
     },
     "output_type": "display_data"
    }
   ],
   "source": [
    "v = pyemu.geostats.ExpVario(contribution=1.0,a=2500)\n",
    "gs = pyemu.geostats.GeoStruct(variograms=v,nugget=0.0)\n",
    "ax = gs.plot()\n",
    "ax.grid()\n",
    "ax.set_ylim(0,2.0)"
   ]
  },
  {
   "cell_type": "markdown",
   "metadata": {},
   "source": [
    "Now, let's get an ``OrdinaryKrige`` object, which needs the ``GeoStruct`` as well as the x, y, and name of the pilot point locations (which happens to be in that really cool ``df_pp`` instance)"
   ]
  },
  {
   "cell_type": "code",
   "execution_count": 56,
   "metadata": {},
   "outputs": [],
   "source": [
    "ok = pyemu.geostats.OrdinaryKrige(gs,df_pp)"
   ]
  },
  {
   "cell_type": "markdown",
   "metadata": {},
   "source": [
    "Once the ``OrdinaryKrige`` is created, we need to calculate the geostatistical interpolation factors for each model cell.  We do this with the ``.calc_factors_grid()`` method: it needs to know about the model's spatial orientation and also accepts some optional arguments:"
   ]
  },
  {
   "cell_type": "code",
   "execution_count": 57,
   "metadata": {},
   "outputs": [
    {
     "name": "stdout",
     "output_type": "stream",
     "text": [
      "starting interp point loop for 800 points\n",
      "took 4.397599 seconds\n"
     ]
    }
   ],
   "source": [
    "df = ok.calc_factors_grid(m.sr,var_filename=os.path.join(working_dir,'kriging.var'),minpts_interp=1,maxpts_interp=10)"
   ]
  },
  {
   "cell_type": "markdown",
   "metadata": {},
   "source": [
    "One of the really cool things about geostatistics is that it gives you both the interpolation (factors), but also gives you the uncertainty in the areas between control (pilot) points.  Above, we wrote this uncertainty information to an array that has the same rows and cols as the model grid - this array is very useful for understanding the function of the variogram."
   ]
  },
  {
   "cell_type": "code",
   "execution_count": 58,
   "metadata": {},
   "outputs": [
    {
     "data": {
      "text/plain": [
       "Text(0.5, 1.0, 'Kriging Variance')"
      ]
     },
     "execution_count": 58,
     "metadata": {},
     "output_type": "execute_result"
    },
    {
     "data": {
      "image/png": "[encoded data removed]",
      "text/plain": [
       "<Figure size 432x288 with 2 Axes>"
      ]
     },
     "metadata": {
      "needs_background": "light"
     },
     "output_type": "display_data"
    }
   ],
   "source": [
    "# plot the kriging variance\n",
    "arr_var = np.loadtxt(os.path.join(working_dir,'kriging.var'))\n",
    "ax = plt.subplot(111,aspect=\"equal\")\n",
    "p = ax.imshow(arr_var,extent=m.sr.get_extent(),alpha=0.25)\n",
    "plt.colorbar(p)\n",
    "ax.scatter(df_pp.x,df_pp.y,marker='.',s=4,color='r')\n",
    "ax.set_title('Kriging Variance')"
   ]
  },
  {
   "cell_type": "markdown",
   "metadata": {},
   "source": [
    "We see that at the pilot point locations (red dots), the uncertainty in the geostats is minimal...as expected. The call to ``.calc_factors_grid()`` also returns a ``DataFrame`` which has useful info - lets look:"
   ]
  },
  {
   "cell_type": "code",
   "execution_count": 59,
   "metadata": {},
   "outputs": [
    {
     "data": {
      "text/html": [
       "<div>\n",
       "<style scoped>\n",
       "    .dataframe tbody tr th:only-of-type {\n",
       "        vertical-align: middle;\n",
       "    }\n",
       "\n",
       "    .dataframe tbody tr th {\n",
       "        vertical-align: top;\n",
       "    }\n",
       "\n",
       "    .dataframe thead th {\n",
       "        text-align: right;\n",
       "    }\n",
       "</style>\n",
       "<table border=\"1\" class=\"dataframe\">\n",
       "  <thead>\n",
       "    <tr style=\"text-align: right;\">\n",
       "      <th></th>\n",
       "      <th>x</th>\n",
       "      <th>y</th>\n",
       "      <th>idist</th>\n",
       "      <th>inames</th>\n",
       "      <th>ifacts</th>\n",
       "      <th>err_var</th>\n",
       "    </tr>\n",
       "  </thead>\n",
       "  <tbody>\n",
       "    <tr>\n",
       "      <th>0</th>\n",
       "      <td>125.0</td>\n",
       "      <td>9875.0</td>\n",
       "      <td>[1060.6601717798212, 2371.7082451262845, 2371.7082451262845, 3181.9805153394636, 3824.2646351945...</td>\n",
       "      <td>[pp_0000, pp_0001, pp_0003, pp_0004, pp_0002, pp_0006, pp_0005, pp_0007, pp_0009, pp_0008]</td>\n",
       "      <td>[0.6727583738647903, 0.06386537976519578, 0.06490211746549873, -0.045564991330796584, 0.07034822...</td>\n",
       "      <td>0.356100</td>\n",
       "    </tr>\n",
       "    <tr>\n",
       "      <th>1</th>\n",
       "      <td>375.0</td>\n",
       "      <td>9875.0</td>\n",
       "      <td>[901.3878188659974, 2136.000936329383, 2304.886114323222, 3010.398644698074, 3579.4552658190883,...</td>\n",
       "      <td>[pp_0000, pp_0001, pp_0003, pp_0004, pp_0002, pp_0006, pp_0005, pp_0007, pp_0008, pp_0009]</td>\n",
       "      <td>[0.7071753569517559, 0.08444690004700789, 0.04013466527629428, -0.042635731616081335, 0.06549296...</td>\n",
       "      <td>0.321503</td>\n",
       "    </tr>\n",
       "    <tr>\n",
       "      <th>2</th>\n",
       "      <td>625.0</td>\n",
       "      <td>9875.0</td>\n",
       "      <td>[790.5694150420949, 1903.943276465977, 2263.8462845343543, 2850.438562747845, 3335.4160160315832...</td>\n",
       "      <td>[pp_0000, pp_0001, pp_0003, pp_0004, pp_0002, pp_0006, pp_0005, pp_0007, pp_0008, pp_0009]</td>\n",
       "      <td>[0.7231412089011208, 0.11807249676348981, 0.016211260883993266, -0.039241829327129, 0.0622125570...</td>\n",
       "      <td>0.295673</td>\n",
       "    </tr>\n",
       "    <tr>\n",
       "      <th>3</th>\n",
       "      <td>875.0</td>\n",
       "      <td>9875.0</td>\n",
       "      <td>[750.0, 1677.0509831248423, 2250.0, 2704.163456597992, 3092.3292192132453, 3750.0, 3750.0, 4038....</td>\n",
       "      <td>[pp_0000, pp_0001, pp_0003, pp_0004, pp_0002, pp_0005, pp_0006, pp_0007, pp_0008, pp_0009]</td>\n",
       "      <td>[0.7074061465278885, 0.17037130042169, -0.001655943536703744, -0.03564888961025468, 0.0615110028...</td>\n",
       "      <td>0.287354</td>\n",
       "    </tr>\n",
       "    <tr>\n",
       "      <th>4</th>\n",
       "      <td>1125.0</td>\n",
       "      <td>9875.0</td>\n",
       "      <td>[790.5694150420949, 1457.7379737113251, 2263.8462845343543, 2573.9075352467503, 2850.43856274784...</td>\n",
       "      <td>[pp_0000, pp_0001, pp_0003, pp_0004, pp_0002, pp_0005, pp_0006, pp_0007, pp_0008, pp_0009]</td>\n",
       "      <td>[0.6535002032511142, 0.24351952153343823, -0.010489495462947968, -0.03252797911282037, 0.0643799...</td>\n",
       "      <td>0.297414</td>\n",
       "    </tr>\n",
       "    <tr>\n",
       "      <th>...</th>\n",
       "      <td>...</td>\n",
       "      <td>...</td>\n",
       "      <td>...</td>\n",
       "      <td>...</td>\n",
       "      <td>...</td>\n",
       "      <td>...</td>\n",
       "    </tr>\n",
       "    <tr>\n",
       "      <th>795</th>\n",
       "      <td>3875.0</td>\n",
       "      <td>125.0</td>\n",
       "      <td>[1500.0, 2121.3203435596424, 3000.0, 3354.1019662496847, 3354.1019662496847, 4242.640687119285, ...</td>\n",
       "      <td>[pp_0017, pp_0016, pp_0014, pp_0015, pp_0013, pp_0012, pp_0011, pp_0010, pp_0009, pp_0008]</td>\n",
       "      <td>[0.5313967335663956, 0.20458721027576401, 0.007517657944844111, 0.12025406437700523, -0.05084980...</td>\n",
       "      <td>0.428144</td>\n",
       "    </tr>\n",
       "    <tr>\n",
       "      <th>796</th>\n",
       "      <td>4125.0</td>\n",
       "      <td>125.0</td>\n",
       "      <td>[1520.690632574555, 2304.886114323222, 3010.398644698074, 3473.110997362451, 3579.4552658190883,...</td>\n",
       "      <td>[pp_0017, pp_0016, pp_0014, pp_0013, pp_0015, pp_0012, pp_0011, pp_0010, pp_0009, pp_0008]</td>\n",
       "      <td>[0.5481830730623114, 0.16876411381177941, 0.01711598726416538, -0.050824397541397566, 0.11418340...</td>\n",
       "      <td>0.432612</td>\n",
       "    </tr>\n",
       "    <tr>\n",
       "      <th>797</th>\n",
       "      <td>4375.0</td>\n",
       "      <td>125.0</td>\n",
       "      <td>[1581.1388300841897, 2500.0, 3041.38126514911, 3605.5512754639894, 3807.886552931954, 4527.69256...</td>\n",
       "      <td>[pp_0017, pp_0016, pp_0014, pp_0013, pp_0015, pp_0011, pp_0012, pp_0010, pp_0009, pp_0008]</td>\n",
       "      <td>[0.5522925934812123, 0.13910787323446516, 0.028681557251145472, -0.050980883779019964, 0.1108582...</td>\n",
       "      <td>0.441264</td>\n",
       "    </tr>\n",
       "    <tr>\n",
       "      <th>798</th>\n",
       "      <td>4625.0</td>\n",
       "      <td>125.0</td>\n",
       "      <td>[1677.0509831248423, 2704.163456597992, 3092.3292192132453, 3750.0, 4038.873605350878, 4562.0718...</td>\n",
       "      <td>[pp_0017, pp_0016, pp_0014, pp_0013, pp_0015, pp_0011, pp_0012, pp_0010, pp_0009, pp_0008]</td>\n",
       "      <td>[0.545661440142163, 0.11561620703186092, 0.0412726373886524, -0.051193957721705395, 0.1096242353...</td>\n",
       "      <td>0.453497</td>\n",
       "    </tr>\n",
       "    <tr>\n",
       "      <th>799</th>\n",
       "      <td>4875.0</td>\n",
       "      <td>125.0</td>\n",
       "      <td>[1802.7756377319947, 2915.4759474226503, 3162.2776601683795, 3905.124837953327, 4272.00187265876...</td>\n",
       "      <td>[pp_0017, pp_0016, pp_0014, pp_0013, pp_0015, pp_0011, pp_0012, pp_0010, pp_0009, pp_0008]</td>\n",
       "      <td>[0.5310257540299838, 0.09758159336549099, 0.05384888982692551, -0.05136796697559031, 0.109933870...</td>\n",
       "      <td>0.468032</td>\n",
       "    </tr>\n",
       "  </tbody>\n",
       "</table>\n",
       "<p>800 rows × 6 columns</p>\n",
       "</div>"
      ],
      "text/plain": [
       "          x       y  \\\n",
       "0     125.0  9875.0   \n",
       "1     375.0  9875.0   \n",
       "2     625.0  9875.0   \n",
       "3     875.0  9875.0   \n",
       "4    1125.0  9875.0   \n",
       "..      ...     ...   \n",
       "795  3875.0   125.0   \n",
       "796  4125.0   125.0   \n",
       "797  4375.0   125.0   \n",
       "798  4625.0   125.0   \n",
       "799  4875.0   125.0   \n",
       "\n",
       "                                                                                                   idist  \\\n",
       "0    [1060.6601717798212, 2371.7082451262845, 2371.7082451262845, 3181.9805153394636, 3824.2646351945...   \n",
       "1    [901.3878188659974, 2136.000936329383, 2304.886114323222, 3010.398644698074, 3579.4552658190883,...   \n",
       "2    [790.5694150420949, 1903.943276465977, 2263.8462845343543, 2850.438562747845, 3335.4160160315832...   \n",
       "3    [750.0, 1677.0509831248423, 2250.0, 2704.163456597992, 3092.3292192132453, 3750.0, 3750.0, 4038....   \n",
       "4    [790.5694150420949, 1457.7379737113251, 2263.8462845343543, 2573.9075352467503, 2850.43856274784...   \n",
       "..                                                                                                   ...   \n",
       "795  [1500.0, 2121.3203435596424, 3000.0, 3354.1019662496847, 3354.1019662496847, 4242.640687119285, ...   \n",
       "796  [1520.690632574555, 2304.886114323222, 3010.398644698074, 3473.110997362451, 3579.4552658190883,...   \n",
       "797  [1581.1388300841897, 2500.0, 3041.38126514911, 3605.5512754639894, 3807.886552931954, 4527.69256...   \n",
       "798  [1677.0509831248423, 2704.163456597992, 3092.3292192132453, 3750.0, 4038.873605350878, 4562.0718...   \n",
       "799  [1802.7756377319947, 2915.4759474226503, 3162.2776601683795, 3905.124837953327, 4272.00187265876...   \n",
       "\n",
       "                                                                                         inames  \\\n",
       "0    [pp_0000, pp_0001, pp_0003, pp_0004, pp_0002, pp_0006, pp_0005, pp_0007, pp_0009, pp_0008]   \n",
       "1    [pp_0000, pp_0001, pp_0003, pp_0004, pp_0002, pp_0006, pp_0005, pp_0007, pp_0008, pp_0009]   \n",
       "2    [pp_0000, pp_0001, pp_0003, pp_0004, pp_0002, pp_0006, pp_0005, pp_0007, pp_0008, pp_0009]   \n",
       "3    [pp_0000, pp_0001, pp_0003, pp_0004, pp_0002, pp_0005, pp_0006, pp_0007, pp_0008, pp_0009]   \n",
       "4    [pp_0000, pp_0001, pp_0003, pp_0004, pp_0002, pp_0005, pp_0006, pp_0007, pp_0008, pp_0009]   \n",
       "..                                                                                          ...   \n",
       "795  [pp_0017, pp_0016, pp_0014, pp_0015, pp_0013, pp_0012, pp_0011, pp_0010, pp_0009, pp_0008]   \n",
       "796  [pp_0017, pp_0016, pp_0014, pp_0013, pp_0015, pp_0012, pp_0011, pp_0010, pp_0009, pp_0008]   \n",
       "797  [pp_0017, pp_0016, pp_0014, pp_0013, pp_0015, pp_0011, pp_0012, pp_0010, pp_0009, pp_0008]   \n",
       "798  [pp_0017, pp_0016, pp_0014, pp_0013, pp_0015, pp_0011, pp_0012, pp_0010, pp_0009, pp_0008]   \n",
       "799  [pp_0017, pp_0016, pp_0014, pp_0013, pp_0015, pp_0011, pp_0012, pp_0010, pp_0009, pp_0008]   \n",
       "\n",
       "                                                                                                  ifacts  \\\n",
       "0    [0.6727583738647903, 0.06386537976519578, 0.06490211746549873, -0.045564991330796584, 0.07034822...   \n",
       "1    [0.7071753569517559, 0.08444690004700789, 0.04013466527629428, -0.042635731616081335, 0.06549296...   \n",
       "2    [0.7231412089011208, 0.11807249676348981, 0.016211260883993266, -0.039241829327129, 0.0622125570...   \n",
       "3    [0.7074061465278885, 0.17037130042169, -0.001655943536703744, -0.03564888961025468, 0.0615110028...   \n",
       "4    [0.6535002032511142, 0.24351952153343823, -0.010489495462947968, -0.03252797911282037, 0.0643799...   \n",
       "..                                                                                                   ...   \n",
       "795  [0.5313967335663956, 0.20458721027576401, 0.007517657944844111, 0.12025406437700523, -0.05084980...   \n",
       "796  [0.5481830730623114, 0.16876411381177941, 0.01711598726416538, -0.050824397541397566, 0.11418340...   \n",
       "797  [0.5522925934812123, 0.13910787323446516, 0.028681557251145472, -0.050980883779019964, 0.1108582...   \n",
       "798  [0.545661440142163, 0.11561620703186092, 0.0412726373886524, -0.051193957721705395, 0.1096242353...   \n",
       "799  [0.5310257540299838, 0.09758159336549099, 0.05384888982692551, -0.05136796697559031, 0.109933870...   \n",
       "\n",
       "      err_var  \n",
       "0    0.356100  \n",
       "1    0.321503  \n",
       "2    0.295673  \n",
       "3    0.287354  \n",
       "4    0.297414  \n",
       "..        ...  \n",
       "795  0.428144  \n",
       "796  0.432612  \n",
       "797  0.441264  \n",
       "798  0.453497  \n",
       "799  0.468032  \n",
       "\n",
       "[800 rows x 6 columns]"
      ]
     },
     "execution_count": 59,
     "metadata": {},
     "output_type": "execute_result"
    }
   ],
   "source": [
    "df"
   ]
  },
  {
   "cell_type": "markdown",
   "metadata": {},
   "source": [
    "We see that there is one row for each model cell, and for each row, we see the distance, names, and weight for the \"nearby\" pilot points.  The interpolated value for cells that have a pilot point at their center only need one weight - 1.0 - and one pilot point.  Other cells are weighted combinations of pilot points.  Is this clear?  \n",
    "\n",
    "Now we need to save the factors (weights) to a special file that we will use later to quickly generate a new HK array from a set of pilot point values:"
   ]
  },
  {
   "cell_type": "code",
   "execution_count": 60,
   "metadata": {},
   "outputs": [],
   "source": [
    "ok.to_grid_factors_file(pp_file+\".fac\")"
   ]
  },
  {
   "cell_type": "code",
   "execution_count": 61,
   "metadata": {},
   "outputs": [
    {
     "data": {
      "text/plain": [
       "'pp_tmp/hkpp.dat'"
      ]
     },
     "execution_count": 61,
     "metadata": {},
     "output_type": "execute_result"
    }
   ],
   "source": [
    "pp_file"
   ]
  },
  {
   "cell_type": "markdown",
   "metadata": {},
   "source": [
    "Just for demo purposes, lets generate ``random`` pilot point values and run them through the factors to see what the ``hk`` array looks like"
   ]
  },
  {
   "cell_type": "code",
   "execution_count": 62,
   "metadata": {},
   "outputs": [],
   "source": [
    "# generate random values\n",
    "df_pp.loc[:,\"parval1\"] = np.random.random(df_pp.shape[0])*25\n",
    "# save a pilot points file\n",
    "pyemu.utils.write_pp_file(pp_file,df_pp)"
   ]
  },
  {
   "cell_type": "code",
   "execution_count": 63,
   "metadata": {},
   "outputs": [],
   "source": [
    "# interpolate the pilot point values to the grid\n",
    "hk_arr = pyemu.utils.fac2real(pp_file,factors_file=pp_file+\".fac\",out_file=None)"
   ]
  },
  {
   "cell_type": "code",
   "execution_count": 64,
   "metadata": {},
   "outputs": [
    {
     "data": {
      "text/plain": [
       "<matplotlib.colorbar.Colorbar at 0x1a235f7910>"
      ]
     },
     "execution_count": 64,
     "metadata": {},
     "output_type": "execute_result"
    },
    {
     "data": {
      "image/png": "[encoded data removed]",
      "text/plain": [
       "<Figure size 432x288 with 2 Axes>"
      ]
     },
     "metadata": {
      "needs_background": "light"
     },
     "output_type": "display_data"
    }
   ],
   "source": [
    "# plot\n",
    "ax = plt.subplot(111,aspect='equal')\n",
    "cb=ax.imshow(hk_arr,interpolation=\"nearest\",extent=m.sr.get_extent(),alpha=0.5)\n",
    "ax.scatter(df_pp.x,df_pp.y,marker='.',s=4,color='k')\n",
    "plt.colorbar(cb)"
   ]
  }
 ],
 "metadata": {
  "kernelspec": {
   "display_name": "Python 3",
   "language": "python",
   "name": "python3"
  },
  "language_info": {
   "codemirror_mode": {
    "name": "ipython",
    "version": 3
   },
   "file_extension": ".py",
   "mimetype": "text/x-python",
   "name": "python",
   "nbconvert_exporter": "python",
   "pygments_lexer": "ipython3",
   "version": "3.7.4"
  }
 },
 "nbformat": 4,
 "nbformat_minor": 2
}
