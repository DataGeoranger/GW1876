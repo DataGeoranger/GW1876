{
 "cells": [
  {
   "cell_type": "markdown",
   "metadata": {},
   "source": [
    "# Run PESTPP-IES in an automated bias minimization workflow\n",
    "\n",
    "Here we will combine prior-data conflict resolution, total error covariance and automatic adaptive localization.  The trifecta!"
   ]
  },
  {
   "cell_type": "code",
   "execution_count": null,
   "metadata": {},
   "outputs": [],
   "source": [
    "%matplotlib inline\n",
    "import os\n",
    "import shutil\n",
    "import numpy as np\n",
    "import pandas as pd\n",
    "import matplotlib.pyplot as plt\n",
    "import matplotlib as mpl\n",
    "plt.rcParams['font.size']=12\n",
    "import flopy\n",
    "import pyemu\n",
    "%matplotlib inline"
   ]
  },
  {
   "cell_type": "markdown",
   "metadata": {},
   "source": [
    "## SUPER IMPORTANT: SET HOW MANY PARALLEL WORKERS TO USE"
   ]
  },
  {
   "cell_type": "code",
   "execution_count": null,
   "metadata": {},
   "outputs": [],
   "source": [
    "num_workers = 20"
   ]
  },
  {
   "cell_type": "code",
   "execution_count": null,
   "metadata": {},
   "outputs": [],
   "source": [
    "t_d = \"template_history\"\n",
    "m_d = \"master_ies\""
   ]
  },
  {
   "cell_type": "code",
   "execution_count": null,
   "metadata": {},
   "outputs": [],
   "source": [
    "m = flopy.modflow.Modflow.load(\"freyberg.nam\",model_ws=t_d,check=False,forgive=False)"
   ]
  },
  {
   "cell_type": "code",
   "execution_count": null,
   "metadata": {},
   "outputs": [],
   "source": [
    "# plot some model attributes\n",
    "fig = plt.figure(figsize=(12,7))\n",
    "ax = plt.subplot(111,aspect=\"equal\")\n",
    "mm = flopy.plot.ModelMap(model=m)\n",
    "mm.plot_grid()\n",
    "mm.plot_ibound()\n",
    "mm.plot_bc('SFR')\n",
    "ax = mm.ax\n",
    "#m.wel.stress_period_data.plot(ax=ax,mflay=2)\n",
    "\n",
    "# plot obs locations\n",
    "obs = pd.read_csv(os.path.join(\"..\",\"base_model_files\",\"obs_loc.csv\"))\n",
    "                  \n",
    "obs_x = [m.sr.xcentergrid[r-1,c-1] for r,c in obs.loc[:,[\"row\",\"col\"]].values]\n",
    "obs_y = [m.sr.ycentergrid[r-1,c-1] for r,c in obs.loc[:,[\"row\",\"col\"]].values]\n",
    "ax.scatter(obs_x,obs_y,marker='.',label=\"water-level obs\",s=80)\n",
    "\n",
    "#plot names on the pumping well locations\n",
    "wel_data = m.wel.stress_period_data[0]\n",
    "wel_x = m.sr.xcentergrid[wel_data[\"i\"],wel_data[\"j\"]]\n",
    "wel_y = m.sr.ycentergrid[wel_data[\"i\"],wel_data[\"j\"]]\n",
    "for i,(x,y) in enumerate(zip(wel_x,wel_y)):\n",
    "    ax.scatter([x],[y],color=\"red\",marker=\"s\",s=50)\n",
    "    #ax.text(x,y,\"{0}\".format(i+1),ha=\"center\",va=\"center\")\n",
    "\n",
    "ax.set_ylabel(\"y(m)\")\n",
    "ax.set_xlabel(\"x(m)\")\n",
    "plt.show()"
   ]
  },
  {
   "cell_type": "code",
   "execution_count": null,
   "metadata": {},
   "outputs": [],
   "source": [
    "pst = pyemu.Pst(os.path.join(t_d,\"freyberg.pst\"))\n",
    "#pst.write_par_summary_table(filename=\"none\")"
   ]
  },
  {
   "cell_type": "markdown",
   "metadata": {},
   "source": [
    "So we run PESTPP-IES once with `autoadaloc`, PDC resolution and save the resulting posterior residual covariance matrix"
   ]
  },
  {
   "cell_type": "code",
   "execution_count": null,
   "metadata": {},
   "outputs": [],
   "source": [
    "#pst.pestpp_options = {}\n",
    "pst.pestpp_options[\"ies_num_reals\"] = 75  # enough?\n",
    "pst.pestpp_options[\"ies_par_en\"] = \"prior.jcb\"\n",
    "pst.pestpp_options[\"ies_bad_phi_sigma\"] = 1.75\n",
    "pst.pestpp_options[\"overdue_giveup_fac\"] = 1.5\n",
    "pst.pestpp_options[\"ies_save_rescov\"] = True\n",
    "pst.control_data.noptmax = 3\n",
    "pst.pestpp_options[\"ies_drop_conflicts\"] = True\n",
    "pst.pestpp_options[\"ies_pdc_sigma_distance\"] = 2.0\n",
    "pst.pestpp_options[\"ies_no_noise\"] = True\n",
    "pst.pestpp_options['ies_num_threads'] = 3\n",
    "pst.pestpp_options[\"ies_autoadaloc\"] = True\n",
    "pst.write(os.path.join(t_d,\"freyberg_ies.pst\"))\n"
   ]
  },
  {
   "cell_type": "code",
   "execution_count": null,
   "metadata": {},
   "outputs": [],
   "source": [
    "pst.write(os.path.join(t_d,\"freyberg_ies.pst\"))\n",
    "pyemu.os_utils.start_workers(t_d,\"pestpp-ies\",\"freyberg_ies.pst\",num_workers=num_workers,master_dir=m_d)"
   ]
  },
  {
   "cell_type": "code",
   "execution_count": null,
   "metadata": {},
   "outputs": [],
   "source": [
    "oe_pr = pd.read_csv(os.path.join(m_d,\"freyberg_ies.0.obs.csv\"),index_col=0)\n",
    "oe_pt = pd.read_csv(os.path.join(m_d,\"freyberg_ies.{0}.obs.csv\".format(pst.control_data.noptmax)),index_col=0)\n",
    "obs = pst.observation_data\n",
    "fnames = pst.pestpp_options[\"forecasts\"].split(\",\")\n",
    "for forecast in fnames:\n",
    "    fig,ax = plt.subplots(1,1,figsize=(10,5))\n",
    "    oe_pr.loc[:,forecast].hist(ax=ax,color=\"0.5\",alpha=0.5, label='prior')\n",
    "    oe_pt.loc[:,forecast].hist(ax=ax,color=\"b\",alpha=0.5, label='posterior')\n",
    "    ax.plot([obs.loc[forecast,\"obsval\"],obs.loc[forecast,\"obsval\"]],ax.get_ylim(),\"r\", label='truth')\n",
    "    ax.set_title(forecast)\n",
    "    ax.legend(loc='upper right')\n",
    "    \n",
    "    plt.show()"
   ]
  },
  {
   "cell_type": "code",
   "execution_count": null,
   "metadata": {},
   "outputs": [],
   "source": [
    "rw_obs = pd.read_csv(os.path.join(m_d,\"freyberg_ies.adjusted.obs_data.csv\"),index_col=0)\n",
    "rw_obs = rw_obs.weight.to_dict()\n",
    "nz_obs = pst.observation_data.loc[pst.nnz_obs_names,:].copy()\n",
    "nz_obs.loc[:,\"datetime\"] = pd.to_datetime(nz_obs.obsnme.apply(lambda x: x.split(\"_\")[-1]))\n",
    "pst_base = pyemu.Pst(os.path.join(t_d,\"freyberg.pst\"))\n",
    "oe_base = pd.read_csv(os.path.join(m_d,\"freyberg_ies.base.obs.csv\"),index_col=0)\n",
    "for nz_group in pst.nnz_obs_groups:\n",
    "    nz_obs_group = nz_obs.loc[nz_obs.obgnme==nz_group,:]\n",
    "    fig,ax = plt.subplots(1,1,figsize=(10,2))\n",
    "    ax.plot(nz_obs_group.datetime,nz_obs_group.obsval,\"r-\")\n",
    "    pdc_obs = nz_obs_group.loc[nz_obs_group.obsnme.apply(lambda x: rw_obs[x]==0),:]\n",
    "   \n",
    "    ax.scatter(pdc_obs.datetime,pdc_obs.obsval,marker='.',s=50,zorder=20,color='k',ls='-',lw=2,fc=\"k\")\n",
    "    [ax.plot(nz_obs_group.datetime,oe_pr.loc[r,nz_obs_group.obsnme],color=\"0.5\",lw=0.1) for r in oe_pr.index]\n",
    "    [ax.plot(nz_obs_group.datetime,oe_pt.loc[r,nz_obs_group.obsnme],color=\"b\",lw=0.1,alpha=0.5) for r in oe_pt.index]\n",
    "    #[ax.plot(nz_obs_group.datetime,oe_base.loc[r,nz_obs_group.obsnme],color=\"r\",lw=0.1,alpha=0.5) for r in oe_base.index]\n",
    "    mn = oe_base.loc[:,nz_obs_group.obsnme].min()\n",
    "    mx = oe_base.loc[:,nz_obs_group.obsnme].max()\n",
    "    \n",
    "    #ax.fill_between(nz_obs_group.datetime,mn,mx,fc=\"r\",alpha=0.15)\n",
    "    ax.set_title(nz_group)\n",
    "    #vmin = min(nz_obs_group.obsval.min(),oe_pt.loc[:,nz_obs_group.obsnme].min().min())\n",
    "    #vmax = max(nz_obs_group.obsval.max(),oe_pt.loc[:,nz_obs_group.obsnme].max().max())\n",
    "    vmin = nz_obs_group.obsval.min() * 0.9\n",
    "    vmax = nz_obs_group.obsval.max() * 1.1\n",
    "    ax.set_ylim(vmin,vmax)\n",
    "plt.show()"
   ]
  },
  {
   "cell_type": "code",
   "execution_count": null,
   "metadata": {},
   "outputs": [],
   "source": [
    "# rw_obs = pd.read_csv(os.path.join(m_d,\"freyberg_ies.adjusted.obs_data.csv\"),index_col=0)\n",
    "# rw_obs = rw_obs.weight.to_dict()\n",
    "# pst.observation_data.loc[:,\"weight\"] = [rw_obs[oname] for oname in pst.obs_names]\n",
    "res_cov_file = os.path.join(m_d,\"freyberg_ies.{0}.res.cov\".format(pst.control_data.noptmax))\n",
    "assert os.path.exists(res_cov_file)\n",
    "res_cov = pyemu.Cov.from_ascii(res_cov_file)\n",
    "res_cov.to_ascii(os.path.join(t_d,\"obs.cov\"))\n"
   ]
  },
  {
   "cell_type": "code",
   "execution_count": null,
   "metadata": {},
   "outputs": [],
   "source": [
    "pst.pestpp_options[\"obscov\"] = \"obs.cov\"\n",
    "pst.pestpp_options[\"ies_no_noise\"] = False\n",
    "pst.pestpp_options[\"ies_drop_conflicts\"] = False\n",
    "pst.write(os.path.join(t_d,\"freyberg_ies.pst\"))"
   ]
  },
  {
   "cell_type": "code",
   "execution_count": null,
   "metadata": {},
   "outputs": [],
   "source": [
    "pyemu.os_utils.start_workers(t_d,\"pestpp-ies\",\"freyberg_ies.pst\",num_workers=num_workers,master_dir=m_d)"
   ]
  },
  {
   "cell_type": "code",
   "execution_count": null,
   "metadata": {},
   "outputs": [],
   "source": []
  },
  {
   "cell_type": "code",
   "execution_count": null,
   "metadata": {},
   "outputs": [],
   "source": [
    "oe_pr_last = oe_pr.copy()\n",
    "oe_pt_last = oe_pt.copy()\n",
    "oe_pr = pd.read_csv(os.path.join(m_d,\"freyberg_ies.0.obs.csv\"),index_col=0)\n",
    "oe_pt = pd.read_csv(os.path.join(m_d,\"freyberg_ies.{0}.obs.csv\".format(pst.control_data.noptmax)),index_col=0)\n",
    "obs = pst.observation_data\n",
    "fnames = pst.pestpp_options[\"forecasts\"].split(\",\")\n",
    "for forecast in fnames:\n",
    "    fig,[ax,ax_last] = plt.subplots(1,2,figsize=(10,5))\n",
    "    oe_pr.loc[:,forecast].hist(ax=ax,color=\"0.5\",alpha=0.5, label='prior')\n",
    "    oe_pt.loc[:,forecast].hist(ax=ax,color=\"b\",alpha=0.5, label='posterior')\n",
    "    ax.plot([obs.loc[forecast,\"obsval\"],obs.loc[forecast,\"obsval\"]],ax.get_ylim(),\"r\", label='truth')\n",
    "    ax.set_title(forecast)\n",
    "    ax.legend(loc='upper right')\n",
    "    \n",
    "    oe_pr_last.loc[:,forecast].hist(ax=ax_last,color=\"0.5\",alpha=0.5, label='prior')\n",
    "    oe_pt_last.loc[:,forecast].hist(ax=ax_last,color=\"b\",alpha=0.5, label='posterior')\n",
    "    ax_last.plot([obs.loc[forecast,\"obsval\"],obs.loc[forecast,\"obsval\"]],ax.get_ylim(),\"r\", label='truth')\n",
    "    ax_last.set_title(\"last \" + forecast)\n",
    "    ax.legend(loc='upper right')\n",
    "    plt.show()"
   ]
  },
  {
   "cell_type": "code",
   "execution_count": null,
   "metadata": {},
   "outputs": [],
   "source": [
    "nz_obs = pst.observation_data.loc[pst.nnz_obs_names,:].copy()\n",
    "nz_obs.loc[:,\"datetime\"] = pd.to_datetime(nz_obs.obsnme.apply(lambda x: x.split(\"_\")[-1]))\n",
    "pst_base = pyemu.Pst(os.path.join(t_d,\"freyberg.pst\"))\n",
    "oe_base = pd.read_csv(os.path.join(m_d,\"freyberg_ies.base.obs.csv\"),index_col=0)\n",
    "for nz_group in pst.nnz_obs_groups:\n",
    "    nz_obs_group = nz_obs.loc[nz_obs.obgnme==nz_group,:]\n",
    "    fig,ax = plt.subplots(1,1,figsize=(10,2))\n",
    "    ax.plot(nz_obs_group.datetime,nz_obs_group.obsval,\"r-\")\n",
    "    pdc_obs = nz_obs_group.loc[nz_obs_group.obsnme.apply(lambda x: rw_obs[x]==0),:]\n",
    "   \n",
    "    ax.scatter(pdc_obs.datetime,pdc_obs.obsval,marker='.',s=50,zorder=20,color='k',ls='-',lw=2,fc=\"k\")\n",
    "    [ax.plot(nz_obs_group.datetime,oe_pr.loc[r,nz_obs_group.obsnme],color=\"0.5\",lw=0.1) for r in oe_pr.index]\n",
    "    [ax.plot(nz_obs_group.datetime,oe_pt.loc[r,nz_obs_group.obsnme],color=\"b\",lw=0.1,alpha=0.5) for r in oe_pt.index]\n",
    "    #[ax.plot(nz_obs_group.datetime,oe_base.loc[r,nz_obs_group.obsnme],color=\"r\",lw=0.1,alpha=0.5) for r in oe_base.index]\n",
    "    mn = oe_base.loc[:,nz_obs_group.obsnme].min()\n",
    "    mx = oe_base.loc[:,nz_obs_group.obsnme].max()\n",
    "    \n",
    "    #ax.fill_between(nz_obs_group.datetime,mn,mx,fc=\"r\",alpha=0.15)\n",
    "    ax.set_title(nz_group)\n",
    "    #vmin = min(nz_obs_group.obsval.min(),oe_pt.loc[:,nz_obs_group.obsnme].min().min())\n",
    "    #vmax = max(nz_obs_group.obsval.max(),oe_pt.loc[:,nz_obs_group.obsnme].max().max())\n",
    "    vmin = nz_obs_group.obsval.min() * 0.9\n",
    "    vmax = nz_obs_group.obsval.max() * 1.1\n",
    "    ax.set_ylim(vmin,vmax)\n",
    "plt.show()"
   ]
  },
  {
   "cell_type": "code",
   "execution_count": null,
   "metadata": {},
   "outputs": [],
   "source": []
  }
 ],
 "metadata": {
  "kernelspec": {
   "display_name": "Python 3",
   "language": "python",
   "name": "python3"
  },
  "language_info": {
   "codemirror_mode": {
    "name": "ipython",
    "version": 3
   },
   "file_extension": ".py",
   "mimetype": "text/x-python",
   "name": "python",
   "nbconvert_exporter": "python",
   "pygments_lexer": "ipython3",
   "version": "3.7.3"
  }
 },
 "nbformat": 4,
 "nbformat_minor": 2
}
