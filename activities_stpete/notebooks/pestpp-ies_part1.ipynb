{
 "cells": [
  {
   "cell_type": "markdown",
   "metadata": {},
   "source": [
    "# Run PESTPP-IES\n",
    "\n",
    "In this notebook we will run PESTPP-IES in standard, basic mode and then use buildin functionality for resolving prior-data conflict and estimating total error covariance"
   ]
  },
  {
   "cell_type": "code",
   "execution_count": null,
   "metadata": {},
   "outputs": [],
   "source": [
    "%matplotlib inline\n",
    "import os\n",
    "import shutil\n",
    "import numpy as np\n",
    "import pandas as pd\n",
    "import matplotlib.pyplot as plt\n",
    "import matplotlib as mpl\n",
    "plt.rcParams['font.size']=12\n",
    "import flopy\n",
    "import pyemu\n",
    "%matplotlib inline"
   ]
  },
  {
   "cell_type": "markdown",
   "metadata": {},
   "source": [
    "## SUPER IMPORTANT: SET HOW MANY PARALLEL WORKERS TO USE"
   ]
  },
  {
   "cell_type": "code",
   "execution_count": null,
   "metadata": {},
   "outputs": [],
   "source": [
    "num_workers = 20"
   ]
  },
  {
   "cell_type": "code",
   "execution_count": null,
   "metadata": {},
   "outputs": [],
   "source": [
    "t_d = \"template_history\"\n",
    "m_d = \"master_ies\""
   ]
  },
  {
   "cell_type": "code",
   "execution_count": null,
   "metadata": {},
   "outputs": [],
   "source": [
    "m = flopy.modflow.Modflow.load(\"freyberg.nam\",model_ws=t_d,check=False,forgive=False)"
   ]
  },
  {
   "cell_type": "code",
   "execution_count": null,
   "metadata": {},
   "outputs": [],
   "source": [
    "# plot some model attributes\n",
    "fig = plt.figure(figsize=(12,7))\n",
    "ax = plt.subplot(111,aspect=\"equal\")\n",
    "mm = flopy.plot.ModelMap(model=m)\n",
    "mm.plot_grid()\n",
    "mm.plot_ibound()\n",
    "mm.plot_bc('SFR')\n",
    "ax = mm.ax\n",
    "#m.wel.stress_period_data.plot(ax=ax,mflay=2)\n",
    "\n",
    "# plot obs locations\n",
    "obs = pd.read_csv(os.path.join(\"..\",\"base_model_files\",\"obs_loc.csv\"))\n",
    "                  \n",
    "obs_x = [m.sr.xcentergrid[r-1,c-1] for r,c in obs.loc[:,[\"row\",\"col\"]].values]\n",
    "obs_y = [m.sr.ycentergrid[r-1,c-1] for r,c in obs.loc[:,[\"row\",\"col\"]].values]\n",
    "ax.scatter(obs_x,obs_y,marker='.',label=\"water-level obs\",s=80)\n",
    "\n",
    "#plot names on the pumping well locations\n",
    "wel_data = m.wel.stress_period_data[0]\n",
    "wel_x = m.sr.xcentergrid[wel_data[\"i\"],wel_data[\"j\"]]\n",
    "wel_y = m.sr.ycentergrid[wel_data[\"i\"],wel_data[\"j\"]]\n",
    "for i,(x,y) in enumerate(zip(wel_x,wel_y)):\n",
    "    ax.scatter([x],[y],color=\"red\",marker=\"s\",s=50)\n",
    "    #ax.text(x,y,\"{0}\".format(i+1),ha=\"center\",va=\"center\")\n",
    "\n",
    "ax.set_ylabel(\"y(m)\")\n",
    "ax.set_xlabel(\"x(m)\")\n",
    "plt.show()"
   ]
  },
  {
   "cell_type": "code",
   "execution_count": null,
   "metadata": {},
   "outputs": [],
   "source": [
    "pst = pyemu.Pst(os.path.join(t_d,\"freyberg.pst\"))\n",
    "#pst.write_par_summary_table(filename=\"none\")"
   ]
  },
  {
   "cell_type": "markdown",
   "metadata": {},
   "source": [
    "### Run PESTPP-IES in original mode and post process"
   ]
  },
  {
   "cell_type": "code",
   "execution_count": null,
   "metadata": {},
   "outputs": [],
   "source": [
    "#pst.pestpp_options = {}\n",
    "pst.pestpp_options[\"ies_num_reals\"] = 50  # enough?\n",
    "pst.pestpp_options[\"ies_par_en\"] = \"prior.jcb\"\n",
    "pst.pestpp_options[\"ies_bad_phi_sigma\"] = 1.75\n",
    "pst.pestpp_options[\"overdue_giveup_fac\"] = 1.5\n",
    "pst.pestpp_options[\"ies_save_rescov\"] = True\n",
    "pst.pestpp_options[\"ies_no_noise\"] = True\n",
    "pst.control_data.noptmax = 3\n",
    "\n"
   ]
  },
  {
   "cell_type": "code",
   "execution_count": null,
   "metadata": {},
   "outputs": [],
   "source": [
    "pst.write(os.path.join(t_d,\"freyberg_ies.pst\"))"
   ]
  },
  {
   "cell_type": "code",
   "execution_count": null,
   "metadata": {},
   "outputs": [],
   "source": [
    "pyemu.os_utils.start_workers(t_d,\"pestpp-ies\",\"freyberg_ies.pst\",num_workers=num_workers,master_dir=m_d)"
   ]
  },
  {
   "cell_type": "markdown",
   "metadata": {},
   "source": [
    "A cheap phi progress plot"
   ]
  },
  {
   "cell_type": "code",
   "execution_count": null,
   "metadata": {},
   "outputs": [],
   "source": [
    "phi = pd.read_csv(os.path.join(m_d,\"freyberg_ies.phi.actual.csv\"),index_col=0)\n",
    "phi.index = phi.total_runs\n",
    "phi.iloc[:,6:].apply(np.log10).plot(legend=False,lw=0.5,color='k')\n",
    "plt.ylabel('log \\$Phi$')\n",
    "plt.figure()\n",
    "phi.iloc[-1,6:].hist()\n",
    "plt.title('Final $\\Phi$ Distribution');"
   ]
  },
  {
   "cell_type": "markdown",
   "metadata": {},
   "source": [
    "Plot forecast prior and posterior histograms with \"truth\" (red line)"
   ]
  },
  {
   "cell_type": "code",
   "execution_count": null,
   "metadata": {},
   "outputs": [],
   "source": []
  },
  {
   "cell_type": "code",
   "execution_count": null,
   "metadata": {},
   "outputs": [],
   "source": [
    "oe_pr = pd.read_csv(os.path.join(m_d,\"freyberg_ies.0.obs.csv\"),index_col=0)\n",
    "oe_pt = pd.read_csv(os.path.join(m_d,\"freyberg_ies.{0}.obs.csv\".format(pst.control_data.noptmax)),index_col=0)\n",
    "obs = pst.observation_data\n",
    "fnames = pst.pestpp_options[\"forecasts\"].split(\",\")\n",
    "for forecast in fnames:\n",
    "    ax = plt.subplot(111)\n",
    "    oe_pr.loc[:,forecast].hist(ax=ax,color=\"0.5\",alpha=0.5, label='prior')\n",
    "    oe_pt.loc[:,forecast].hist(ax=ax,color=\"b\",alpha=0.5, label='posterior')\n",
    "    ax.plot([obs.loc[forecast,\"obsval\"],obs.loc[forecast,\"obsval\"]],ax.get_ylim(),\"r\", label='truth')\n",
    "    ax.set_title(forecast)\n",
    "    ax.legend(loc='upper right')\n",
    "    plt.show()"
   ]
  },
  {
   "cell_type": "code",
   "execution_count": null,
   "metadata": {},
   "outputs": [],
   "source": [
    "nz_obs = pst.observation_data.loc[pst.nnz_obs_names,:].copy()\n",
    "nz_obs.loc[:,\"datetime\"] = pd.to_datetime(nz_obs.obsnme.apply(lambda x: x.split(\"_\")[-1]))\n",
    "pst_base = pyemu.Pst(os.path.join(t_d,\"freyberg.pst\"))\n",
    "oe_base = pd.read_csv(os.path.join(m_d,\"freyberg_ies.base.obs.csv\"),index_col=0)\n",
    "for nz_group in pst.nnz_obs_groups:\n",
    "    nz_obs_group = nz_obs.loc[nz_obs.obgnme==nz_group,:]\n",
    "    fig,ax = plt.subplots(1,1,figsize=(10,2))\n",
    "    \n",
    "    [ax.plot(nz_obs_group.datetime,oe_pr.loc[r,nz_obs_group.obsnme],color=\"0.5\",lw=0.1) for r in oe_pr.index]\n",
    "    [ax.plot(nz_obs_group.datetime,oe_pt.loc[r,nz_obs_group.obsnme],color=\"b\",lw=0.1,alpha=0.5) for r in oe_pt.index]\n",
    "    ax.plot(nz_obs_group.datetime,nz_obs_group.obsval,\"r-\")\n",
    "    #[ax.plot(nz_obs_group.datetime,oe_base.loc[r,nz_obs_group.obsnme],color=\"r\",lw=0.1,alpha=0.5) for r in oe_base.index]\n",
    "    mn = oe_base.loc[:,nz_obs_group.obsnme].min()\n",
    "    mx = oe_base.loc[:,nz_obs_group.obsnme].max()\n",
    "    \n",
    "    ax.fill_between(nz_obs_group.datetime,mn,mx,fc=\"r\",alpha=0.15)\n",
    "    ax.set_title(nz_group)\n",
    "    #vmin = min(nz_obs_group.obsval.min(),oe_pt.loc[:,nz_obs_group.obsnme].min().min())\n",
    "    #vmax = max(nz_obs_group.obsval.max(),oe_pt.loc[:,nz_obs_group.obsnme].max().max())\n",
    "    vmin = nz_obs_group.obsval.min() * 0.9\n",
    "    vmax = nz_obs_group.obsval.max() * 1.1\n",
    "    ax.set_ylim(vmin,vmax)\n",
    "plt.show()"
   ]
  },
  {
   "cell_type": "markdown",
   "metadata": {},
   "source": [
    "### Since we carried the final stress period sim water levels, we can now plot those just from the observation ensembles"
   ]
  },
  {
   "cell_type": "code",
   "execution_count": null,
   "metadata": {},
   "outputs": [],
   "source": [
    "obs = pst.observation_data\n",
    "hds_obs = obs.loc[obs.obsnme.apply(lambda x: x.startswith(\"hds_00\") and x.endswith(\"{0:03d}\".format(m.nper-1))),:].copy()\n",
    "hds_obs.loc[:,\"i\"] = hds_obs.obsnme.apply(lambda x: int(x.split('_')[2]))\n",
    "hds_obs.loc[:,\"j\"] = hds_obs.obsnme.apply(lambda x: int(x.split('_')[3]))\n",
    "ib = m.bas6.ibound[0].array\n",
    "def plot_real(real):\n",
    "    pr_arr = np.zeros((m.nrow,m.ncol))\n",
    "    pr_arr[hds_obs.i,hds_obs.j] = oe_pr.loc[real,hds_obs.obsnme]\n",
    "    pt_arr = np.zeros((m.nrow,m.ncol))\n",
    "    pt_arr[hds_obs.i,hds_obs.j] = oe_pt.loc[real,hds_obs.obsnme]\n",
    "    pr_arr[ib==0] = np.NaN\n",
    "    pt_arr[ib==0] = np.NaN\n",
    "    \n",
    "    vmin = min(np.nanmin(pr_arr),np.nanmin(pt_arr))\n",
    "    vmax = min(np.nanmax(pr_arr),np.nanmax(pt_arr))\n",
    "    \n",
    "    d_arr = np.zeros((m.nrow,m.ncol))\n",
    "    d_arr[hds_obs.i,hds_obs.j] = oe_pr.loc[real,hds_obs.obsnme] - oe_pt.loc[real,hds_obs.obsnme]\n",
    "    d_arr[ib==0] = np.NaN\n",
    "    fig,axes = plt.subplots(1,3,figsize=(10,4))\n",
    "    axes[0].imshow(pr_arr,vmin=vmin,vmax=vmax)\n",
    "    axes[0].set_title(\"prior\")\n",
    "    axes[1].set_title(\"posterior\")\n",
    "    axes[2].set_title(\"diff\")\n",
    "    cb = axes[1].imshow(pt_arr,vmin=vmin,vmax=vmax)\n",
    "    plt.colorbar(cb,ax=axes[1])\n",
    "    cb = axes[2].imshow(d_arr)\n",
    "    plt.colorbar(cb,ax=axes[2])\n",
    "    \n",
    "    plt.show()\n",
    "plot_real(\"base\")"
   ]
  },
  {
   "cell_type": "markdown",
   "metadata": {},
   "source": [
    "### We can also plot the first and second moments of the prior and posterior simulated water levels"
   ]
  },
  {
   "cell_type": "code",
   "execution_count": null,
   "metadata": {},
   "outputs": [],
   "source": [
    "pr_mn = np.zeros((m.nrow,m.ncol))\n",
    "pr_mn[hds_obs.i,hds_obs.j] = oe_pr.loc[:,hds_obs.obsnme].mean()\n",
    "pt_mn = np.zeros((m.nrow,m.ncol))\n",
    "pt_mn[hds_obs.i,hds_obs.j] = oe_pt.loc[:,hds_obs.obsnme].mean()\n",
    "pr_std = np.zeros((m.nrow,m.ncol))\n",
    "pr_std[hds_obs.i,hds_obs.j] = oe_pr.loc[:,hds_obs.obsnme].std()\n",
    "pt_std = np.zeros((m.nrow,m.ncol))\n",
    "pt_std[hds_obs.i,hds_obs.j] = oe_pt.loc[:,hds_obs.obsnme].std()\n",
    "for a in [pr_mn,pr_std,pt_mn,pt_std]:\n",
    "    a[ib==0] = np.nan\n",
    "\n",
    "mnvmin = min(np.nanmin(pr_mn),np.nanmin(pt_mn))\n",
    "mnvmax = min(np.nanmax(pr_mn),np.nanmax(pt_mn))\n",
    "stvmin = min(np.nanmin(pr_std),np.nanmin(pt_std))\n",
    "stvmax = min(np.nanmax(pr_std),np.nanmax(pt_std))\n",
    "fig,axes = plt.subplots(2,3,figsize=(10,10))\n",
    "axes[0,0].imshow(pr_mn,vmin=mnvmin,vmax=mnvmax)\n",
    "cb = axes[0,1].imshow(pt_mn,vmin=mnvmin,vmax=mnvmax)\n",
    "plt.colorbar(cb,ax=axes[0,1])\n",
    "axes[1,0].imshow(pr_std,vmin=stvmin,vmax=stvmax)\n",
    "cb = axes[1,1].imshow(pt_std,vmin=stvmin,vmax=stvmax)\n",
    "plt.colorbar(cb,ax=axes[1,1])\n",
    "cb = axes[0,2].imshow(100. * (pr_mn-pt_mn)/pr_mn)\n",
    "plt.colorbar(cb,ax=axes[0,2])\n",
    "cb = axes[1,2].imshow(np.log10(100. * (pr_std-pt_std)/pr_std))\n",
    "plt.colorbar(cb,ax=axes[1,2])"
   ]
  },
  {
   "cell_type": "markdown",
   "metadata": {},
   "source": [
    "Plot parameter histograms by group"
   ]
  },
  {
   "cell_type": "code",
   "execution_count": null,
   "metadata": {},
   "outputs": [],
   "source": [
    "pe_pr = pd.read_csv(os.path.join(m_d,\"freyberg_ies.0.par.csv\"),index_col=0)\n",
    "pe_pt = pd.read_csv(os.path.join(m_d,\"freyberg_ies.{0}.par.csv\".format(pst.control_data.noptmax)),index_col=0)\n",
    "par = pst.parameter_data\n",
    "pdict = par.groupby(\"pargp\").groups\n",
    "pyemu.plot_utils.ensemble_helper({\"0.5\":pe_pr,\"b\":pe_pt},plot_cols=pdict)"
   ]
  },
  {
   "cell_type": "code",
   "execution_count": null,
   "metadata": {},
   "outputs": [],
   "source": [
    "# pyemu.plot_utils.ensemble_change_summary(pe_pr,pe_pt,pst=pst,bins=20)\n",
    "# par = pst.parameter_data\n",
    "# li = par.partrans==\"log\"\n",
    "# pe_pr.loc[:,li] = pe_pr.loc[:,li].apply(np.log10)\n",
    "# pe_pr.shape"
   ]
  },
  {
   "cell_type": "code",
   "execution_count": null,
   "metadata": {},
   "outputs": [],
   "source": [
    "#TODO: demo reg in ies with maxsing and/or reg_fac   "
   ]
  },
  {
   "cell_type": "markdown",
   "metadata": {},
   "source": [
    "### PESTPP-IES with automatic prior-data conflict resolution\n",
    "\n",
    "Prior-data conflict, in the simpliest sense, means that simulated outputs from the prior parameter ensemble don't \"cover\" the observed values (plus optional measurement noise).  If the outputs from using lots of parameters and conservative (wide) parameter ranges (from the Prior) don't cover the observed values, then that implies we will need extreme parameter values (or extreme combinations) to reproduce these observations - another word for extreme is baised. So we shouldnt attempt parameter adjustments in the presence of prior-data conflict.  The easies way to deal with this is to simply not use conflicted observations for parameter adjustment calculations...PESTPP-IES will do this automatically for you:"
   ]
  },
  {
   "cell_type": "code",
   "execution_count": null,
   "metadata": {},
   "outputs": [],
   "source": [
    "pst.pestpp_options[\"ies_drop_conflicts\"] = True\n",
    "pst.pestpp_options[\"ies_pdc_sigma_distance\"] = 2.0\n",
    "pst.pestpp_options[\"ies_no_noise\"] = True\n",
    "pst.write(os.path.join(t_d,\"freyberg_ies.pst\"))"
   ]
  },
  {
   "cell_type": "code",
   "execution_count": null,
   "metadata": {},
   "outputs": [],
   "source": [
    "pyemu.os_utils.start_workers(t_d,\"pestpp-ies\",\"freyberg_ies.pst\",num_workers=num_workers,master_dir=m_d)"
   ]
  },
  {
   "cell_type": "code",
   "execution_count": null,
   "metadata": {},
   "outputs": [],
   "source": [
    "oe_pr_last = oe_pr.copy()\n",
    "oe_pt_last = oe_pt.copy()\n",
    "oe_pr = pd.read_csv(os.path.join(m_d,\"freyberg_ies.0.obs.csv\"),index_col=0)\n",
    "oe_pt = pd.read_csv(os.path.join(m_d,\"freyberg_ies.{0}.obs.csv\".format(pst.control_data.noptmax)),index_col=0)\n",
    "obs = pst.observation_data\n",
    "fnames = pst.pestpp_options[\"forecasts\"].split(\",\")\n",
    "for forecast in fnames:\n",
    "    fig,[ax,ax_last] = plt.subplots(1,2,figsize=(10,5))\n",
    "    oe_pr.loc[:,forecast].hist(ax=ax,color=\"0.5\",alpha=0.5, label='prior')\n",
    "    oe_pt.loc[:,forecast].hist(ax=ax,color=\"b\",alpha=0.5, label='posterior')\n",
    "    ax.plot([obs.loc[forecast,\"obsval\"],obs.loc[forecast,\"obsval\"]],ax.get_ylim(),\"r\", label='truth')\n",
    "    ax.set_title(forecast)\n",
    "    ax.legend(loc='upper right')\n",
    "    \n",
    "    oe_pr_last.loc[:,forecast].hist(ax=ax_last,color=\"0.5\",alpha=0.5, label='prior')\n",
    "    oe_pt_last.loc[:,forecast].hist(ax=ax_last,color=\"b\",alpha=0.5, label='posterior')\n",
    "    ax_last.plot([obs.loc[forecast,\"obsval\"],obs.loc[forecast,\"obsval\"]],ax.get_ylim(),\"r\", label='truth')\n",
    "    ax_last.set_title(\"last \" + forecast)\n",
    "    ax.legend(loc='upper right')\n",
    "    plt.show()"
   ]
  },
  {
   "cell_type": "code",
   "execution_count": null,
   "metadata": {},
   "outputs": [],
   "source": [
    "rw_obs = pd.read_csv(os.path.join(m_d,\"freyberg_ies.adjusted.obs_data.csv\"),index_col=0)\n",
    "rw_obs = rw_obs.weight.to_dict()\n",
    "nz_obs = pst.observation_data.loc[pst.nnz_obs_names,:].copy()\n",
    "nz_obs.loc[:,\"datetime\"] = pd.to_datetime(nz_obs.obsnme.apply(lambda x: x.split(\"_\")[-1]))\n",
    "pst_base = pyemu.Pst(os.path.join(t_d,\"freyberg.pst\"))\n",
    "oe_base = pd.read_csv(os.path.join(m_d,\"freyberg_ies.base.obs.csv\"),index_col=0)\n",
    "for nz_group in pst.nnz_obs_groups:\n",
    "    nz_obs_group = nz_obs.loc[nz_obs.obgnme==nz_group,:]\n",
    "    fig,ax = plt.subplots(1,1,figsize=(10,2))\n",
    "    ax.plot(nz_obs_group.datetime,nz_obs_group.obsval,\"r-\")\n",
    "    pdc_obs = nz_obs_group.loc[nz_obs_group.obsnme.apply(lambda x: rw_obs[x]==0),:]\n",
    "   \n",
    "    ax.scatter(pdc_obs.datetime,pdc_obs.obsval,marker='.',s=50,zorder=20,color='k',ls='-',lw=2,fc=\"k\")\n",
    "    [ax.plot(nz_obs_group.datetime,oe_pr.loc[r,nz_obs_group.obsnme],color=\"0.5\",lw=0.1) for r in oe_pr.index]\n",
    "    [ax.plot(nz_obs_group.datetime,oe_pt.loc[r,nz_obs_group.obsnme],color=\"b\",lw=0.1,alpha=0.5) for r in oe_pt.index]\n",
    "    #[ax.plot(nz_obs_group.datetime,oe_base.loc[r,nz_obs_group.obsnme],color=\"r\",lw=0.1,alpha=0.5) for r in oe_base.index]\n",
    "    mn = oe_base.loc[:,nz_obs_group.obsnme].min()\n",
    "    mx = oe_base.loc[:,nz_obs_group.obsnme].max()\n",
    "    \n",
    "    ax.fill_between(nz_obs_group.datetime,mn,mx,fc=\"r\",alpha=0.15)\n",
    "    ax.set_title(nz_group)\n",
    "    #vmin = min(nz_obs_group.obsval.min(),oe_pt.loc[:,nz_obs_group.obsnme].min().min())\n",
    "    #vmax = max(nz_obs_group.obsval.max(),oe_pt.loc[:,nz_obs_group.obsnme].max().max())\n",
    "    vmin = nz_obs_group.obsval.min() * 0.9\n",
    "    vmax = nz_obs_group.obsval.max() * 1.1\n",
    "    ax.set_ylim(vmin,vmax)\n",
    "plt.show()"
   ]
  },
  {
   "cell_type": "markdown",
   "metadata": {},
   "source": [
    "### PESTPP-IES in a total error covariance workflow"
   ]
  },
  {
   "cell_type": "markdown",
   "metadata": {},
   "source": [
    "The concept of subjective weighting implies that the covariance measurement noise is itself uncertain (a hyper parameter).  Recently, it has been shown that this covariance matrix can be \"estimated\" in a outer iteration loop.  So let's do that!  First, lets look at the final (e.g. posterior) residual covariance matrix from the last run:"
   ]
  },
  {
   "cell_type": "code",
   "execution_count": null,
   "metadata": {},
   "outputs": [],
   "source": [
    "res_cov_file = os.path.join(m_d,\"freyberg_ies.{0}.res.cov\".format(pst.control_data.noptmax))\n",
    "assert os.path.exists(res_cov_file)\n",
    "#shutil.copy2(res_cov_file,os.path.join(t_d,\"posterior_res.cov\"))\n",
    "res_cov = pyemu.Cov.from_ascii(res_cov_file)\n",
    "x = res_cov.to_pearson().x.copy()\n",
    "x[np.abs(x) < 0.2] = np.NaN\n",
    "x[x==1.0] = np.NaN\n",
    "\n",
    "fig,ax = plt.subplots(1,1,figsize=(10,10))\n",
    "cb = ax.imshow(x,cmap=\"plasma\")\n",
    "plt.colorbar(cb)"
   ]
  },
  {
   "cell_type": "markdown",
   "metadata": {},
   "source": [
    "That would make a nice bohemain rug pattern!  Seriously tho, we see lots of correlation between residuals...so much for the \"independence\" assumption..\n",
    "\n",
    "So what should we do?  Well, let's feed that covariance matrix to PESTPP-IES for the next run (an \"outer\" iteration)."
   ]
  },
  {
   "cell_type": "code",
   "execution_count": null,
   "metadata": {},
   "outputs": [],
   "source": [
    "pst.pestpp_options[\"ies_drop_conflicts\"] = False\n",
    "pst.pestpp_options[\"ies_pdc_sigma_distance\"] = 2.0\n",
    "pst.pestpp_options[\"ies_no_noise\"] = False\n",
    "pst.observation_data.loc[:,\"weight\"] = [rw_obs[oname] for oname in pst.obs_names]\n",
    "res_cov = res_cov.get(pst.nnz_obs_names)\n",
    "res_cov.to_ascii(os.path.join(t_d,\"obs.cov\"))\n",
    "pst.pestpp_options[\"obscov\"] = \"obs.cov\"\n",
    "pst.write(os.path.join(t_d,\"freyberg_ies.pst\"))"
   ]
  },
  {
   "cell_type": "code",
   "execution_count": null,
   "metadata": {},
   "outputs": [],
   "source": []
  },
  {
   "cell_type": "code",
   "execution_count": null,
   "metadata": {},
   "outputs": [],
   "source": [
    "pyemu.os_utils.start_workers(t_d,\"pestpp-ies\",\"freyberg_ies.pst\",num_workers=num_workers,master_dir=m_d)"
   ]
  },
  {
   "cell_type": "code",
   "execution_count": null,
   "metadata": {},
   "outputs": [],
   "source": [
    "oe_pr_last = oe_pr.copy()\n",
    "oe_pt_last = oe_pt.copy()\n",
    "oe_pr = pd.read_csv(os.path.join(m_d,\"freyberg_ies.0.obs.csv\"),index_col=0)\n",
    "oe_pt = pd.read_csv(os.path.join(m_d,\"freyberg_ies.{0}.obs.csv\".format(pst.control_data.noptmax)),index_col=0)\n",
    "obs = pst.observation_data\n",
    "fnames = pst.pestpp_options[\"forecasts\"].split(\",\")\n",
    "for forecast in fnames:\n",
    "    fig,[ax,ax_last] = plt.subplots(1,2,figsize=(10,5))\n",
    "    oe_pr.loc[:,forecast].hist(ax=ax,color=\"0.5\",alpha=0.5, label='prior')\n",
    "    oe_pt.loc[:,forecast].hist(ax=ax,color=\"b\",alpha=0.5, label='posterior')\n",
    "    ax.plot([obs.loc[forecast,\"obsval\"],obs.loc[forecast,\"obsval\"]],ax.get_ylim(),\"r\", label='truth')\n",
    "    ax.set_title(forecast)\n",
    "    ax.legend(loc='upper right')\n",
    "    \n",
    "    oe_pr_last.loc[:,forecast].hist(ax=ax_last,color=\"0.5\",alpha=0.5, label='prior')\n",
    "    oe_pt_last.loc[:,forecast].hist(ax=ax_last,color=\"b\",alpha=0.5, label='posterior')\n",
    "    ax_last.plot([obs.loc[forecast,\"obsval\"],obs.loc[forecast,\"obsval\"]],ax.get_ylim(),\"r\", label='truth')\n",
    "    ax_last.set_title(\"last \" + forecast)\n",
    "    ax.legend(loc='upper right')\n",
    "    plt.show()"
   ]
  },
  {
   "cell_type": "code",
   "execution_count": null,
   "metadata": {},
   "outputs": [],
   "source": [
    "[f for f in os.listdir(m_d) if f.startswith(\"freyberg_ies\") and f.endswith(\".csv\")]"
   ]
  },
  {
   "cell_type": "code",
   "execution_count": null,
   "metadata": {},
   "outputs": [],
   "source": [
    "nz_obs = pst.observation_data.loc[pst.nnz_obs_names,:].copy()\n",
    "nz_obs.loc[:,\"datetime\"] = pd.to_datetime(nz_obs.obsnme.apply(lambda x: x.split(\"_\")[-1]))\n",
    "pst_base = pyemu.Pst(os.path.join(t_d,\"freyberg.pst\"))\n",
    "oe_base = pd.read_csv(os.path.join(m_d,\"freyberg_ies.base.obs.csv\"),index_col=0)\n",
    "for nz_group in pst.nnz_obs_groups:\n",
    "    nz_obs_group = nz_obs.loc[nz_obs.obgnme==nz_group,:]\n",
    "    fig,ax = plt.subplots(1,1,figsize=(10,2))\n",
    "    ax.plot(nz_obs_group.datetime,nz_obs_group.obsval,\"r-\")\n",
    "    pdc_obs = nz_obs_group.loc[nz_obs_group.obsnme.apply(lambda x: rw_obs[x]==0),:]\n",
    "   \n",
    "    ax.scatter(pdc_obs.datetime,pdc_obs.obsval,marker='.',s=50,zorder=20,color='k',ls='-',lw=2,fc=\"k\")\n",
    "    [ax.plot(nz_obs_group.datetime,oe_pr.loc[r,nz_obs_group.obsnme],color=\"0.5\",lw=0.1) for r in oe_pr.index]\n",
    "    [ax.plot(nz_obs_group.datetime,oe_pt.loc[r,nz_obs_group.obsnme],color=\"b\",lw=0.1,alpha=0.5) for r in oe_pt.index]\n",
    "    #[ax.plot(nz_obs_group.datetime,oe_base.loc[r,nz_obs_group.obsnme],color=\"r\",lw=0.1,alpha=0.5) for r in oe_base.index]\n",
    "    mn = oe_base.loc[:,nz_obs_group.obsnme].min()\n",
    "    mx = oe_base.loc[:,nz_obs_group.obsnme].max()\n",
    "    \n",
    "    #ax.fill_between(nz_obs_group.datetime,mn,mx,fc=\"r\",alpha=0.15)\n",
    "    ax.set_title(nz_group)\n",
    "    #vmin = min(nz_obs_group.obsval.min(),oe_pt.loc[:,nz_obs_group.obsnme].min().min())\n",
    "    #vmax = max(nz_obs_group.obsval.max(),oe_pt.loc[:,nz_obs_group.obsnme].max().max())\n",
    "    vmin = nz_obs_group.obsval.min() * 0.9\n",
    "    vmax = nz_obs_group.obsval.max() * 1.1\n",
    "    ax.set_ylim(vmin,vmax)\n",
    "plt.show()"
   ]
  },
  {
   "cell_type": "code",
   "execution_count": null,
   "metadata": {},
   "outputs": [],
   "source": []
  }
 ],
 "metadata": {
  "kernelspec": {
   "display_name": "Python 3",
   "language": "python",
   "name": "python3"
  },
  "language_info": {
   "codemirror_mode": {
    "name": "ipython",
    "version": 3
   },
   "file_extension": ".py",
   "mimetype": "text/x-python",
   "name": "python",
   "nbconvert_exporter": "python",
   "pygments_lexer": "ipython3",
   "version": "3.7.3"
  }
 },
 "nbformat": 4,
 "nbformat_minor": 2
}
