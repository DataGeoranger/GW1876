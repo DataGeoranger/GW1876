{
 "cells": [
  {
   "cell_type": "markdown",
   "metadata": {},
   "source": [
    "# pyEMU basics\n",
    "\n",
    "In this exercise, we will explore some of the capabilities of pyemu to deal with the PEST file formats, such as .pst, .jco/.jcb, .unc, .cov, .mat, etc, as well as generating PEST interface elements"
   ]
  },
  {
   "cell_type": "code",
   "execution_count": 1,
   "metadata": {},
   "outputs": [
    {
     "name": "stdout",
     "output_type": "stream",
     "text": [
      "flopy is installed in /Users/jeremyw/Dev/gw1876/activities_csiro/notebooks/flopy\n"
     ]
    }
   ],
   "source": [
    "%matplotlib inline\n",
    "import os\n",
    "import numpy as np\n",
    "import matplotlib.pyplot as plt\n",
    "import pyemu"
   ]
  },
  {
   "cell_type": "code",
   "execution_count": 2,
   "metadata": {},
   "outputs": [
    {
     "data": {
      "text/plain": [
       "['/Users/jeremyw/Dev/gw1876/activities_csiro/notebooks/pyemu']"
      ]
     },
     "execution_count": 2,
     "metadata": {},
     "output_type": "execute_result"
    }
   ],
   "source": [
    "pyemu.__path__  # check that we're pointing to the provided snapshot of pyemu (and flopy) repos"
   ]
  },
  {
   "cell_type": "markdown",
   "metadata": {},
   "source": [
    "We will use some pre-cooked files in this notebook:"
   ]
  },
  {
   "cell_type": "code",
   "execution_count": 3,
   "metadata": {},
   "outputs": [
    {
     "data": {
      "text/plain": [
       "['freyberg_pp.rei',\n",
       " 'freyberg.travel.ins',\n",
       " 'test.par_data.csv',\n",
       " 'test.pst',\n",
       " 'test.pi_data.csv',\n",
       " 'freyberg_pp.jcb',\n",
       " '.DS_Store',\n",
       " 'vol.dat.ins',\n",
       " 'freyberg.sfo.processed',\n",
       " 'freyberg.rch.tpl',\n",
       " 'freyberg.sfr.tpl',\n",
       " 'WEL_0001.dat.temp.tpl',\n",
       " 'flux.dat.ins',\n",
       " 'freyberg.hyd.bin.dat',\n",
       " 'freyberg_pp.post.cov',\n",
       " 'test.obs_data.csv',\n",
       " 'test.insfile_data.csv',\n",
       " 'freyberg_pp.rec',\n",
       " 'WEL_0002.dat.temp.tpl',\n",
       " 'freyberg.sfo.processed.ins',\n",
       " 'freyberg.hyd.bin.dat.ins',\n",
       " 'hkpp.dat.fac',\n",
       " 'hkpp.dat.tpl',\n",
       " 'freyberg.mpbas.tpl',\n",
       " 'freyberg_pp.pst',\n",
       " 'test.tplfile_data.csv',\n",
       " 'hkpp.dat',\n",
       " 'freyberg_pp.par',\n",
       " 'test.pargrp_data.csv',\n",
       " 'freyberg.travel']"
      ]
     },
     "execution_count": 3,
     "metadata": {},
     "output_type": "execute_result"
    }
   ],
   "source": [
    "f_d = \"handling_files\"\n",
    "os.listdir(f_d)"
   ]
  },
  {
   "cell_type": "markdown",
   "metadata": {},
   "source": [
    "### Control files and the `Pst` class\n",
    "\n",
    "pyEMU encapsulates the PEST control file in the `Pst` class"
   ]
  },
  {
   "cell_type": "code",
   "execution_count": 4,
   "metadata": {},
   "outputs": [],
   "source": [
    "pst = pyemu.Pst(os.path.join(f_d,\"freyberg_pp.pst\"))"
   ]
  },
  {
   "cell_type": "code",
   "execution_count": 5,
   "metadata": {},
   "outputs": [
    {
     "data": {
      "text/plain": [
       "<pyemu.pst.pst_handler.Pst at 0xb1ecf04e0>"
      ]
     },
     "execution_count": 5,
     "metadata": {},
     "output_type": "execute_result"
    }
   ],
   "source": [
    "pst"
   ]
  },
  {
   "cell_type": "markdown",
   "metadata": {},
   "source": [
    "The \"*\" sections of the control file are stored as attributes of the `Pst` instance (the PEST variable names are used for consistency)"
   ]
  },
  {
   "cell_type": "code",
   "execution_count": 8,
   "metadata": {},
   "outputs": [
    {
     "data": {
      "text/html": [
       "<div>\n",
       "<style scoped>\n",
       "    .dataframe tbody tr th:only-of-type {\n",
       "        vertical-align: middle;\n",
       "    }\n",
       "\n",
       "    .dataframe tbody tr th {\n",
       "        vertical-align: top;\n",
       "    }\n",
       "\n",
       "    .dataframe thead th {\n",
       "        text-align: right;\n",
       "    }\n",
       "</style>\n",
       "<table border=\"1\" class=\"dataframe\">\n",
       "  <thead>\n",
       "    <tr style=\"text-align: right;\">\n",
       "      <th></th>\n",
       "      <th>parnme</th>\n",
       "      <th>partrans</th>\n",
       "      <th>parchglim</th>\n",
       "      <th>parval1</th>\n",
       "      <th>parlbnd</th>\n",
       "      <th>parubnd</th>\n",
       "      <th>pargp</th>\n",
       "      <th>scale</th>\n",
       "      <th>offset</th>\n",
       "      <th>dercom</th>\n",
       "      <th>extra</th>\n",
       "    </tr>\n",
       "    <tr>\n",
       "      <th>parnme</th>\n",
       "      <th></th>\n",
       "      <th></th>\n",
       "      <th></th>\n",
       "      <th></th>\n",
       "      <th></th>\n",
       "      <th></th>\n",
       "      <th></th>\n",
       "      <th></th>\n",
       "      <th></th>\n",
       "      <th></th>\n",
       "      <th></th>\n",
       "    </tr>\n",
       "  </thead>\n",
       "  <tbody>\n",
       "    <tr>\n",
       "      <th>hk00</th>\n",
       "      <td>hk00</td>\n",
       "      <td>log</td>\n",
       "      <td>factor</td>\n",
       "      <td>5.0</td>\n",
       "      <td>0.5</td>\n",
       "      <td>50.0</td>\n",
       "      <td>hk</td>\n",
       "      <td>1.0</td>\n",
       "      <td>0.0</td>\n",
       "      <td>1</td>\n",
       "      <td>NaN</td>\n",
       "    </tr>\n",
       "    <tr>\n",
       "      <th>hk01</th>\n",
       "      <td>hk01</td>\n",
       "      <td>log</td>\n",
       "      <td>factor</td>\n",
       "      <td>5.0</td>\n",
       "      <td>0.5</td>\n",
       "      <td>50.0</td>\n",
       "      <td>hk</td>\n",
       "      <td>1.0</td>\n",
       "      <td>0.0</td>\n",
       "      <td>1</td>\n",
       "      <td>NaN</td>\n",
       "    </tr>\n",
       "    <tr>\n",
       "      <th>hk02</th>\n",
       "      <td>hk02</td>\n",
       "      <td>log</td>\n",
       "      <td>factor</td>\n",
       "      <td>5.0</td>\n",
       "      <td>0.5</td>\n",
       "      <td>50.0</td>\n",
       "      <td>hk</td>\n",
       "      <td>1.0</td>\n",
       "      <td>0.0</td>\n",
       "      <td>1</td>\n",
       "      <td>NaN</td>\n",
       "    </tr>\n",
       "    <tr>\n",
       "      <th>hk03</th>\n",
       "      <td>hk03</td>\n",
       "      <td>log</td>\n",
       "      <td>factor</td>\n",
       "      <td>5.0</td>\n",
       "      <td>0.5</td>\n",
       "      <td>50.0</td>\n",
       "      <td>hk</td>\n",
       "      <td>1.0</td>\n",
       "      <td>0.0</td>\n",
       "      <td>1</td>\n",
       "      <td>NaN</td>\n",
       "    </tr>\n",
       "    <tr>\n",
       "      <th>hk04</th>\n",
       "      <td>hk04</td>\n",
       "      <td>log</td>\n",
       "      <td>factor</td>\n",
       "      <td>5.0</td>\n",
       "      <td>0.5</td>\n",
       "      <td>50.0</td>\n",
       "      <td>hk</td>\n",
       "      <td>1.0</td>\n",
       "      <td>0.0</td>\n",
       "      <td>1</td>\n",
       "      <td>NaN</td>\n",
       "    </tr>\n",
       "  </tbody>\n",
       "</table>\n",
       "</div>"
      ],
      "text/plain": [
       "       parnme partrans parchglim  parval1  parlbnd  parubnd pargp  scale  \\\n",
       "parnme                                                                     \n",
       "hk00     hk00      log    factor      5.0      0.5     50.0    hk    1.0   \n",
       "hk01     hk01      log    factor      5.0      0.5     50.0    hk    1.0   \n",
       "hk02     hk02      log    factor      5.0      0.5     50.0    hk    1.0   \n",
       "hk03     hk03      log    factor      5.0      0.5     50.0    hk    1.0   \n",
       "hk04     hk04      log    factor      5.0      0.5     50.0    hk    1.0   \n",
       "\n",
       "        offset  dercom  extra  \n",
       "parnme                         \n",
       "hk00       0.0       1    NaN  \n",
       "hk01       0.0       1    NaN  \n",
       "hk02       0.0       1    NaN  \n",
       "hk03       0.0       1    NaN  \n",
       "hk04       0.0       1    NaN  "
      ]
     },
     "execution_count": 8,
     "metadata": {},
     "output_type": "execute_result"
    }
   ],
   "source": [
    "pst.parameter_data.head()"
   ]
  },
  {
   "cell_type": "code",
   "execution_count": 9,
   "metadata": {},
   "outputs": [
    {
     "data": {
      "text/html": [
       "<div>\n",
       "<style scoped>\n",
       "    .dataframe tbody tr th:only-of-type {\n",
       "        vertical-align: middle;\n",
       "    }\n",
       "\n",
       "    .dataframe tbody tr th {\n",
       "        vertical-align: top;\n",
       "    }\n",
       "\n",
       "    .dataframe thead th {\n",
       "        text-align: right;\n",
       "    }\n",
       "</style>\n",
       "<table border=\"1\" class=\"dataframe\">\n",
       "  <thead>\n",
       "    <tr style=\"text-align: right;\">\n",
       "      <th></th>\n",
       "      <th>obsnme</th>\n",
       "      <th>obsval</th>\n",
       "      <th>weight</th>\n",
       "      <th>obgnme</th>\n",
       "      <th>extra</th>\n",
       "    </tr>\n",
       "    <tr>\n",
       "      <th>obsnme</th>\n",
       "      <th></th>\n",
       "      <th></th>\n",
       "      <th></th>\n",
       "      <th></th>\n",
       "      <th></th>\n",
       "    </tr>\n",
       "  </thead>\n",
       "  <tbody>\n",
       "    <tr>\n",
       "      <th>c001cr03c10_19700102</th>\n",
       "      <td>c001cr03c10_19700102</td>\n",
       "      <td>26.661526</td>\n",
       "      <td>5.0</td>\n",
       "      <td>calhead</td>\n",
       "      <td>NaN</td>\n",
       "    </tr>\n",
       "    <tr>\n",
       "      <th>c001cr03c16_19700102</th>\n",
       "      <td>c001cr03c16_19700102</td>\n",
       "      <td>23.460564</td>\n",
       "      <td>5.0</td>\n",
       "      <td>calhead</td>\n",
       "      <td>NaN</td>\n",
       "    </tr>\n",
       "    <tr>\n",
       "      <th>c001cr04c09_19700102</th>\n",
       "      <td>c001cr04c09_19700102</td>\n",
       "      <td>28.513522</td>\n",
       "      <td>5.0</td>\n",
       "      <td>calhead</td>\n",
       "      <td>NaN</td>\n",
       "    </tr>\n",
       "    <tr>\n",
       "      <th>c001cr10c02_19700102</th>\n",
       "      <td>c001cr10c02_19700102</td>\n",
       "      <td>30.741689</td>\n",
       "      <td>5.0</td>\n",
       "      <td>calhead</td>\n",
       "      <td>NaN</td>\n",
       "    </tr>\n",
       "    <tr>\n",
       "      <th>c001cr14c11_19700102</th>\n",
       "      <td>c001cr14c11_19700102</td>\n",
       "      <td>25.871208</td>\n",
       "      <td>5.0</td>\n",
       "      <td>calhead</td>\n",
       "      <td>NaN</td>\n",
       "    </tr>\n",
       "  </tbody>\n",
       "</table>\n",
       "</div>"
      ],
      "text/plain": [
       "                                    obsnme     obsval  weight   obgnme  extra\n",
       "obsnme                                                                       \n",
       "c001cr03c10_19700102  c001cr03c10_19700102  26.661526     5.0  calhead    NaN\n",
       "c001cr03c16_19700102  c001cr03c16_19700102  23.460564     5.0  calhead    NaN\n",
       "c001cr04c09_19700102  c001cr04c09_19700102  28.513522     5.0  calhead    NaN\n",
       "c001cr10c02_19700102  c001cr10c02_19700102  30.741689     5.0  calhead    NaN\n",
       "c001cr14c11_19700102  c001cr14c11_19700102  25.871208     5.0  calhead    NaN"
      ]
     },
     "execution_count": 9,
     "metadata": {},
     "output_type": "execute_result"
    }
   ],
   "source": [
    "pst.observation_data.head()"
   ]
  },
  {
   "cell_type": "markdown",
   "metadata": {},
   "source": [
    "Control data is handled by a special class that tries to prevent stupidity"
   ]
  },
  {
   "cell_type": "code",
   "execution_count": 11,
   "metadata": {},
   "outputs": [],
   "source": [
    "pst.control_data.noptmax = 0"
   ]
  },
  {
   "cell_type": "markdown",
   "metadata": {},
   "source": [
    "PEST++ options are stored in a dict:"
   ]
  },
  {
   "cell_type": "code",
   "execution_count": 12,
   "metadata": {},
   "outputs": [
    {
     "data": {
      "text/plain": [
       "{'n_iter_base': '-1',\n",
       " 'lambda_scale_fac': '1.0',\n",
       " 'n_iter_super': '3',\n",
       " 'lambdas': '0.1,1.0,10.0',\n",
       " 'forecasts': 'travel_time,fa_headwaters_0001,c001fr16c17_19791231,c001fr05c04_19791231',\n",
       " 'upgrade_augment': 'false'}"
      ]
     },
     "execution_count": 12,
     "metadata": {},
     "output_type": "execute_result"
    }
   ],
   "source": [
    "pst.pestpp_options"
   ]
  },
  {
   "cell_type": "markdown",
   "metadata": {},
   "source": [
    "### Writing a control file"
   ]
  },
  {
   "cell_type": "code",
   "execution_count": 13,
   "metadata": {},
   "outputs": [
    {
     "name": "stdout",
     "output_type": "stream",
     "text": [
      "noptmax:0, npar_adj:48, nnz_obs:14\n"
     ]
    }
   ],
   "source": [
    "pst.write(os.path.join(f_d,\"test.pst\"))"
   ]
  },
  {
   "cell_type": "markdown",
   "metadata": {},
   "source": [
    "A preview of things to come..."
   ]
  },
  {
   "cell_type": "code",
   "execution_count": 14,
   "metadata": {},
   "outputs": [
    {
     "name": "stdout",
     "output_type": "stream",
     "text": [
      "noptmax:0, npar_adj:48, nnz_obs:14\n"
     ]
    }
   ],
   "source": [
    "pst.write(os.path.join(f_d,\"test.pst\"),version=2)"
   ]
  },
  {
   "cell_type": "markdown",
   "metadata": {},
   "source": [
    "### Constructing a control file from template and instruction files"
   ]
  },
  {
   "cell_type": "markdown",
   "metadata": {},
   "source": [
    "### DIY: get a new control file from a template file (or files) and an instruction file (or files).  You can use the files in the `f_d` directory or you can write your own.  Change par bounds and obs weights then write"
   ]
  },
  {
   "cell_type": "code",
   "execution_count": 25,
   "metadata": {},
   "outputs": [
    {
     "name": "stdout",
     "output_type": "stream",
     "text": [
      "noptmax:30, npar_adj:6, nnz_obs:0\n"
     ]
    },
    {
     "data": {
      "text/plain": [
       "['w0_r09_c16',\n",
       " 'w0_r11_c13',\n",
       " 'w0_r20_c14',\n",
       " 'w0_r26_c10',\n",
       " 'w0_r29_c06',\n",
       " 'w0_r34_c12']"
      ]
     },
     "execution_count": 25,
     "metadata": {},
     "output_type": "execute_result"
    }
   ],
   "source": [
    "# your code here\n",
    "#print(os.listdir(f_d))\n",
    "# a template file\n",
    "tpl_files = [os.path.join(f_d,\"WEL_0001.dat.temp.tpl\")]\n",
    "# and the cooresponding model input file\n",
    "in_files = [os.path.join(f_d,\"WEL_0001.dat\")]\n",
    "\n",
    "# an instruction file\n",
    "ins_files = [os.path.join(f_d,\"freyberg.travel.ins\")]\n",
    "# and the cooresponding model output file\n",
    "out_files = [os.path.join(f_d,\"freyberg.travel\")]\n",
    "\n",
    "\n",
    "pst_new = pyemu.Pst.from_io_files(tpl_files,in_files,\n",
    "                                  ins_files,out_files)\n",
    "# adjust upper and lower parameter bounds\n",
    "pst_new.parameter_data.loc[:,\"parubnd\"] = 100.0\n",
    "pst_new.parameter_data.loc[:,\"parlbnd\"] = 0.1\n",
    "# set all weights to 0.0\n",
    "pst_new.observation_data.loc[:,\"weight\"] = 0.0\n",
    "\n",
    "\n",
    "pst_new.write(\"temp.pst\")\n",
    "pst_new.par_names"
   ]
  },
  {
   "cell_type": "markdown",
   "metadata": {},
   "source": [
    "# Matrices"
   ]
  },
  {
   "cell_type": "markdown",
   "metadata": {},
   "source": [
    "pyEMU implements a labeled matrix class and overloads the standard operators to make linear alg easier.  Let's start with covariance matrices:"
   ]
  },
  {
   "cell_type": "code",
   "execution_count": 26,
   "metadata": {},
   "outputs": [
    {
     "data": {
      "text/plain": [
       "<pyemu.mat.mat_handler.Cov at 0xb209acfd0>"
      ]
     },
     "execution_count": 26,
     "metadata": {},
     "output_type": "execute_result"
    }
   ],
   "source": [
    "cov = pyemu.Cov.from_parameter_data(pst)\n",
    "cov"
   ]
  },
  {
   "cell_type": "code",
   "execution_count": 27,
   "metadata": {},
   "outputs": [
    {
     "data": {
      "text/plain": [
       "['hk00', 'hk01', 'hk02', 'hk03', 'hk04']"
      ]
     },
     "execution_count": 27,
     "metadata": {},
     "output_type": "execute_result"
    }
   ],
   "source": [
    "cov.row_names[:5]"
   ]
  },
  {
   "cell_type": "code",
   "execution_count": 28,
   "metadata": {},
   "outputs": [
    {
     "data": {
      "text/plain": [
       "['hk00', 'hk01', 'hk02', 'hk03', 'hk04']"
      ]
     },
     "execution_count": 28,
     "metadata": {},
     "output_type": "execute_result"
    }
   ],
   "source": [
    "cov.col_names[:5]"
   ]
  },
  {
   "cell_type": "code",
   "execution_count": 29,
   "metadata": {},
   "outputs": [
    {
     "data": {
      "text/plain": [
       "True"
      ]
     },
     "execution_count": 29,
     "metadata": {},
     "output_type": "execute_result"
    }
   ],
   "source": [
    "cov.isdiagonal"
   ]
  },
  {
   "cell_type": "markdown",
   "metadata": {},
   "source": [
    "the `Cov` has some nice build-in methods:"
   ]
  },
  {
   "cell_type": "code",
   "execution_count": 30,
   "metadata": {},
   "outputs": [
    {
     "data": {
      "text/plain": [
       "<pyemu.mat.mat_handler.Cov at 0xb209ac860>"
      ]
     },
     "execution_count": 30,
     "metadata": {},
     "output_type": "execute_result"
    }
   ],
   "source": [
    "cov.inv"
   ]
  },
  {
   "cell_type": "code",
   "execution_count": 31,
   "metadata": {},
   "outputs": [
    {
     "data": {
      "text/plain": [
       "<pyemu.mat.mat_handler.Matrix at 0xb20d174a8>"
      ]
     },
     "execution_count": 31,
     "metadata": {},
     "output_type": "execute_result"
    }
   ],
   "source": [
    "cov.s #singular values"
   ]
  },
  {
   "cell_type": "code",
   "execution_count": 32,
   "metadata": {},
   "outputs": [
    {
     "data": {
      "text/plain": [
       "<pyemu.mat.mat_handler.Matrix at 0xb20d17c88>"
      ]
     },
     "execution_count": 32,
     "metadata": {},
     "output_type": "execute_result"
    }
   ],
   "source": [
    "cov.v #right singular vectors"
   ]
  },
  {
   "cell_type": "markdown",
   "metadata": {},
   "source": [
    "The actual array of values in the `.x` attribute:"
   ]
  },
  {
   "cell_type": "code",
   "execution_count": 33,
   "metadata": {},
   "outputs": [
    {
     "data": {
      "text/plain": [
       "array([[0.25],\n",
       "       [0.25],\n",
       "       [0.25],\n",
       "       [0.25],\n",
       "       [0.25]])"
      ]
     },
     "execution_count": 33,
     "metadata": {},
     "output_type": "execute_result"
    }
   ],
   "source": [
    "cov.x[0:5]"
   ]
  },
  {
   "cell_type": "code",
   "execution_count": 34,
   "metadata": {},
   "outputs": [
    {
     "data": {
      "text/plain": [
       "(pyemu.mat.mat_handler.Cov, numpy.ndarray)"
      ]
     },
     "execution_count": 34,
     "metadata": {},
     "output_type": "execute_result"
    }
   ],
   "source": [
    "type(cov),type(cov.x)"
   ]
  },
  {
   "cell_type": "markdown",
   "metadata": {},
   "source": [
    "Why is this 1-D?"
   ]
  },
  {
   "cell_type": "code",
   "execution_count": 35,
   "metadata": {},
   "outputs": [
    {
     "data": {
      "text/plain": [
       "<matplotlib.colorbar.Colorbar at 0xb20d1fc50>"
      ]
     },
     "execution_count": 35,
     "metadata": {},
     "output_type": "execute_result"
    },
    {
     "data": {
      "image/png": "[encoded data removed]",
      "text/plain": [
       "<Figure size 432x288 with 2 Axes>"
      ]
     },
     "metadata": {
      "needs_background": "light"
     },
     "output_type": "display_data"
    }
   ],
   "source": [
    "c = plt.imshow(cov.as_2d)\n",
    "plt.colorbar(c)"
   ]
  },
  {
   "cell_type": "code",
   "execution_count": 36,
   "metadata": {},
   "outputs": [
    {
     "data": {
      "text/plain": [
       "False"
      ]
     },
     "execution_count": 36,
     "metadata": {},
     "output_type": "execute_result"
    }
   ],
   "source": [
    "post_cov = pyemu.Cov.from_ascii(os.path.join(f_d,\"freyberg_pp.post.cov\"))\n",
    "post_cov.isdiagonal"
   ]
  },
  {
   "cell_type": "code",
   "execution_count": 37,
   "metadata": {},
   "outputs": [
    {
     "data": {
      "text/plain": [
       "<matplotlib.colorbar.Colorbar at 0xb203040f0>"
      ]
     },
     "execution_count": 37,
     "metadata": {},
     "output_type": "execute_result"
    },
    {
     "data": {
      "image/png": "[encoded data removed]",
      "text/plain": [
       "<Figure size 432x288 with 2 Axes>"
      ]
     },
     "metadata": {
      "needs_background": "light"
     },
     "output_type": "display_data"
    }
   ],
   "source": [
    "c = plt.imshow(post_cov.x)\n",
    "plt.colorbar(c)"
   ]
  },
  {
   "cell_type": "markdown",
   "metadata": {},
   "source": [
    "### DIY: plot the singular spectrum of the posterior covariance matrix.  Then convert the posterior covariance matrix to correlation matrix, mask the diagonal and plot"
   ]
  },
  {
   "cell_type": "code",
   "execution_count": 47,
   "metadata": {},
   "outputs": [
    {
     "data": {
      "image/png": "[encoded data removed]",
      "text/plain": [
       "<Figure size 432x288 with 1 Axes>"
      ]
     },
     "metadata": {
      "needs_background": "light"
     },
     "output_type": "display_data"
    },
    {
     "data": {
      "text/plain": [
       "<matplotlib.colorbar.Colorbar at 0xb206656a0>"
      ]
     },
     "execution_count": 47,
     "metadata": {},
     "output_type": "execute_result"
    },
    {
     "data": {
      "image/png": "[encoded data removed]",
      "text/plain": [
       "<Figure size 432x288 with 2 Axes>"
      ]
     },
     "metadata": {
      "needs_background": "light"
     },
     "output_type": "display_data"
    }
   ],
   "source": [
    "#hint: Cov.to_pearson()\n",
    "plt.plot(post_cov.s.x)\n",
    "plt.show()\n",
    "post_cov.s.isdiagonal\n",
    "cc = post_cov.to_pearson()\n",
    "x = cc.x\n",
    "indices = np.arange(x.shape[0])\n",
    "x[indices,indices] = np.nan\n",
    "cb = plt.imshow(cc.x)\n",
    "plt.colorbar(cb)"
   ]
  },
  {
   "cell_type": "markdown",
   "metadata": {},
   "source": [
    "### Residual handling\n",
    "\n",
    "The `Pst` class tries load a residuals file in the constructor.  If that file is found, you can access some pretty cool stuff (you can pass the name of a residual file to the `Pst` constructor...).  The `res` attribute is stored as a `pd.DataFrame`"
   ]
  },
  {
   "cell_type": "code",
   "execution_count": 48,
   "metadata": {},
   "outputs": [
    {
     "data": {
      "text/plain": [
       "412.55703718999183"
      ]
     },
     "execution_count": 48,
     "metadata": {},
     "output_type": "execute_result"
    }
   ],
   "source": [
    "pst.phi"
   ]
  },
  {
   "cell_type": "code",
   "execution_count": 49,
   "metadata": {},
   "outputs": [
    {
     "data": {
      "text/plain": [
       "{'calflux': 0.6561000000000001,\n",
       " 'calhead': 411.90093718999185,\n",
       " 'flaqx': 0.0,\n",
       " 'flout': 0.0,\n",
       " 'flx_constan': 0.0,\n",
       " 'flx_in-out': 0.0,\n",
       " 'flx_percent': 0.0,\n",
       " 'flx_recharg': 0.0,\n",
       " 'flx_storage': 0.0,\n",
       " 'flx_stream_': 0.0,\n",
       " 'flx_total': 0.0,\n",
       " 'flx_wells': 0.0,\n",
       " 'forecast': 0.0,\n",
       " 'pothead': 0.0,\n",
       " 'vol_constan': 0.0,\n",
       " 'vol_in-out': 0.0,\n",
       " 'vol_percent': 0.0,\n",
       " 'vol_recharg': 0.0,\n",
       " 'vol_storage': 0.0,\n",
       " 'vol_stream_': 0.0,\n",
       " 'vol_total': 0.0,\n",
       " 'vol_wells': 0.0}"
      ]
     },
     "execution_count": 49,
     "metadata": {},
     "output_type": "execute_result"
    }
   ],
   "source": [
    "pst.phi_components"
   ]
  },
  {
   "cell_type": "code",
   "execution_count": 50,
   "metadata": {},
   "outputs": [
    {
     "data": {
      "text/html": [
       "<div>\n",
       "<style scoped>\n",
       "    .dataframe tbody tr th:only-of-type {\n",
       "        vertical-align: middle;\n",
       "    }\n",
       "\n",
       "    .dataframe tbody tr th {\n",
       "        vertical-align: top;\n",
       "    }\n",
       "\n",
       "    .dataframe thead th {\n",
       "        text-align: right;\n",
       "    }\n",
       "</style>\n",
       "<table border=\"1\" class=\"dataframe\">\n",
       "  <thead>\n",
       "    <tr style=\"text-align: right;\">\n",
       "      <th></th>\n",
       "      <th>name</th>\n",
       "      <th>group</th>\n",
       "      <th>measured</th>\n",
       "      <th>modelled</th>\n",
       "      <th>residual</th>\n",
       "      <th>weight</th>\n",
       "    </tr>\n",
       "    <tr>\n",
       "      <th>name</th>\n",
       "      <th></th>\n",
       "      <th></th>\n",
       "      <th></th>\n",
       "      <th></th>\n",
       "      <th></th>\n",
       "      <th></th>\n",
       "    </tr>\n",
       "  </thead>\n",
       "  <tbody>\n",
       "    <tr>\n",
       "      <th>c001cr03c10_19700102</th>\n",
       "      <td>c001cr03c10_19700102</td>\n",
       "      <td>calhead</td>\n",
       "      <td>26.661526</td>\n",
       "      <td>28.013775</td>\n",
       "      <td>-1.352249</td>\n",
       "      <td>5.0</td>\n",
       "    </tr>\n",
       "    <tr>\n",
       "      <th>c001cr03c16_19700102</th>\n",
       "      <td>c001cr03c16_19700102</td>\n",
       "      <td>calhead</td>\n",
       "      <td>23.460564</td>\n",
       "      <td>24.444290</td>\n",
       "      <td>-0.983726</td>\n",
       "      <td>5.0</td>\n",
       "    </tr>\n",
       "    <tr>\n",
       "      <th>c001cr04c09_19700102</th>\n",
       "      <td>c001cr04c09_19700102</td>\n",
       "      <td>calhead</td>\n",
       "      <td>28.513522</td>\n",
       "      <td>28.513071</td>\n",
       "      <td>0.000451</td>\n",
       "      <td>5.0</td>\n",
       "    </tr>\n",
       "    <tr>\n",
       "      <th>c001cr10c02_19700102</th>\n",
       "      <td>c001cr10c02_19700102</td>\n",
       "      <td>calhead</td>\n",
       "      <td>30.741689</td>\n",
       "      <td>31.881250</td>\n",
       "      <td>-1.139561</td>\n",
       "      <td>5.0</td>\n",
       "    </tr>\n",
       "    <tr>\n",
       "      <th>c001cr14c11_19700102</th>\n",
       "      <td>c001cr14c11_19700102</td>\n",
       "      <td>calhead</td>\n",
       "      <td>25.871208</td>\n",
       "      <td>25.444475</td>\n",
       "      <td>0.426733</td>\n",
       "      <td>5.0</td>\n",
       "    </tr>\n",
       "  </tbody>\n",
       "</table>\n",
       "</div>"
      ],
      "text/plain": [
       "                                      name    group   measured   modelled  \\\n",
       "name                                                                        \n",
       "c001cr03c10_19700102  c001cr03c10_19700102  calhead  26.661526  28.013775   \n",
       "c001cr03c16_19700102  c001cr03c16_19700102  calhead  23.460564  24.444290   \n",
       "c001cr04c09_19700102  c001cr04c09_19700102  calhead  28.513522  28.513071   \n",
       "c001cr10c02_19700102  c001cr10c02_19700102  calhead  30.741689  31.881250   \n",
       "c001cr14c11_19700102  c001cr14c11_19700102  calhead  25.871208  25.444475   \n",
       "\n",
       "                      residual  weight  \n",
       "name                                    \n",
       "c001cr03c10_19700102 -1.352249     5.0  \n",
       "c001cr03c16_19700102 -0.983726     5.0  \n",
       "c001cr04c09_19700102  0.000451     5.0  \n",
       "c001cr10c02_19700102 -1.139561     5.0  \n",
       "c001cr14c11_19700102  0.426733     5.0  "
      ]
     },
     "execution_count": 50,
     "metadata": {},
     "output_type": "execute_result"
    }
   ],
   "source": [
    "pst.res.head()"
   ]
  },
  {
   "cell_type": "markdown",
   "metadata": {},
   "source": [
    "### DIY: plot a bar chart of residuals for non-zero weighted obs"
   ]
  },
  {
   "cell_type": "code",
   "execution_count": 51,
   "metadata": {},
   "outputs": [
    {
     "data": {
      "text/plain": [
       "<matplotlib.axes._subplots.AxesSubplot at 0xb21ac7da0>"
      ]
     },
     "execution_count": 51,
     "metadata": {},
     "output_type": "execute_result"
    },
    {
     "data": {
      "image/png": "[encoded data removed]",
      "text/plain": [
       "<Figure size 576x756 with 1 Axes>"
      ]
     },
     "metadata": {},
     "output_type": "display_data"
    }
   ],
   "source": [
    "pst.plot(kind=\"phi_pie\")"
   ]
  },
  {
   "cell_type": "markdown",
   "metadata": {},
   "source": [
    "### The Jacobian matrix\n",
    "\n",
    "A dervied pyemu.Matrix type..."
   ]
  },
  {
   "cell_type": "code",
   "execution_count": 52,
   "metadata": {},
   "outputs": [],
   "source": [
    "jco = pyemu.Jco.from_binary(os.path.join(f_d,\"freyberg_pp.jcb\"))"
   ]
  },
  {
   "cell_type": "code",
   "execution_count": 53,
   "metadata": {},
   "outputs": [
    {
     "data": {
      "text/html": [
       "<div>\n",
       "<style scoped>\n",
       "    .dataframe tbody tr th:only-of-type {\n",
       "        vertical-align: middle;\n",
       "    }\n",
       "\n",
       "    .dataframe tbody tr th {\n",
       "        vertical-align: top;\n",
       "    }\n",
       "\n",
       "    .dataframe thead th {\n",
       "        text-align: right;\n",
       "    }\n",
       "</style>\n",
       "<table border=\"1\" class=\"dataframe\">\n",
       "  <thead>\n",
       "    <tr style=\"text-align: right;\">\n",
       "      <th></th>\n",
       "      <th>hk00</th>\n",
       "      <th>hk01</th>\n",
       "      <th>hk02</th>\n",
       "      <th>hk03</th>\n",
       "      <th>hk04</th>\n",
       "      <th>hk05</th>\n",
       "      <th>hk06</th>\n",
       "      <th>hk07</th>\n",
       "      <th>hk08</th>\n",
       "      <th>hk09</th>\n",
       "      <th>...</th>\n",
       "      <th>w0_r20_c14</th>\n",
       "      <th>w0_r26_c10</th>\n",
       "      <th>w0_r29_c06</th>\n",
       "      <th>w0_r34_c12</th>\n",
       "      <th>w1_r09_c16</th>\n",
       "      <th>w1_r11_c13</th>\n",
       "      <th>w1_r20_c14</th>\n",
       "      <th>w1_r26_c10</th>\n",
       "      <th>w1_r29_c06</th>\n",
       "      <th>w1_r34_c12</th>\n",
       "    </tr>\n",
       "  </thead>\n",
       "  <tbody>\n",
       "    <tr>\n",
       "      <th>c001cr03c10_19700102</th>\n",
       "      <td>0.047670</td>\n",
       "      <td>0.166151</td>\n",
       "      <td>-1.466431</td>\n",
       "      <td>-1.587458</td>\n",
       "      <td>0.073819</td>\n",
       "      <td>-0.245292</td>\n",
       "      <td>-1.073273</td>\n",
       "      <td>-1.204015</td>\n",
       "      <td>0.009025</td>\n",
       "      <td>-0.548900</td>\n",
       "      <td>...</td>\n",
       "      <td>0.0</td>\n",
       "      <td>0.0</td>\n",
       "      <td>0.0</td>\n",
       "      <td>0.0</td>\n",
       "      <td>0.0</td>\n",
       "      <td>0.0</td>\n",
       "      <td>0.0</td>\n",
       "      <td>0.0</td>\n",
       "      <td>0.0</td>\n",
       "      <td>0.0</td>\n",
       "    </tr>\n",
       "    <tr>\n",
       "      <th>c001cr03c16_19700102</th>\n",
       "      <td>0.000694</td>\n",
       "      <td>0.003471</td>\n",
       "      <td>0.008331</td>\n",
       "      <td>0.021984</td>\n",
       "      <td>0.000694</td>\n",
       "      <td>-0.000926</td>\n",
       "      <td>-0.007174</td>\n",
       "      <td>-0.033323</td>\n",
       "      <td>0.000000</td>\n",
       "      <td>-0.005785</td>\n",
       "      <td>...</td>\n",
       "      <td>0.0</td>\n",
       "      <td>0.0</td>\n",
       "      <td>0.0</td>\n",
       "      <td>0.0</td>\n",
       "      <td>0.0</td>\n",
       "      <td>0.0</td>\n",
       "      <td>0.0</td>\n",
       "      <td>0.0</td>\n",
       "      <td>0.0</td>\n",
       "      <td>0.0</td>\n",
       "    </tr>\n",
       "    <tr>\n",
       "      <th>c001cr04c09_19700102</th>\n",
       "      <td>0.054844</td>\n",
       "      <td>-0.079373</td>\n",
       "      <td>-1.573573</td>\n",
       "      <td>-1.353273</td>\n",
       "      <td>0.119869</td>\n",
       "      <td>-0.406120</td>\n",
       "      <td>-1.417377</td>\n",
       "      <td>-1.219288</td>\n",
       "      <td>0.011339</td>\n",
       "      <td>-0.668769</td>\n",
       "      <td>...</td>\n",
       "      <td>0.0</td>\n",
       "      <td>0.0</td>\n",
       "      <td>0.0</td>\n",
       "      <td>0.0</td>\n",
       "      <td>0.0</td>\n",
       "      <td>0.0</td>\n",
       "      <td>0.0</td>\n",
       "      <td>0.0</td>\n",
       "      <td>0.0</td>\n",
       "      <td>0.0</td>\n",
       "    </tr>\n",
       "    <tr>\n",
       "      <th>c001cr10c02_19700102</th>\n",
       "      <td>-0.292499</td>\n",
       "      <td>-0.813631</td>\n",
       "      <td>-0.924243</td>\n",
       "      <td>-0.749299</td>\n",
       "      <td>-1.115615</td>\n",
       "      <td>-1.743888</td>\n",
       "      <td>-1.162596</td>\n",
       "      <td>-0.765266</td>\n",
       "      <td>-0.549363</td>\n",
       "      <td>-0.664141</td>\n",
       "      <td>...</td>\n",
       "      <td>0.0</td>\n",
       "      <td>0.0</td>\n",
       "      <td>0.0</td>\n",
       "      <td>0.0</td>\n",
       "      <td>0.0</td>\n",
       "      <td>0.0</td>\n",
       "      <td>0.0</td>\n",
       "      <td>0.0</td>\n",
       "      <td>0.0</td>\n",
       "      <td>0.0</td>\n",
       "    </tr>\n",
       "    <tr>\n",
       "      <th>c001cr14c11_19700102</th>\n",
       "      <td>-0.021984</td>\n",
       "      <td>-0.089092</td>\n",
       "      <td>-0.356599</td>\n",
       "      <td>-0.520205</td>\n",
       "      <td>0.062711</td>\n",
       "      <td>0.314020</td>\n",
       "      <td>-0.098811</td>\n",
       "      <td>-0.733563</td>\n",
       "      <td>0.087241</td>\n",
       "      <td>-0.066183</td>\n",
       "      <td>...</td>\n",
       "      <td>0.0</td>\n",
       "      <td>0.0</td>\n",
       "      <td>0.0</td>\n",
       "      <td>0.0</td>\n",
       "      <td>0.0</td>\n",
       "      <td>0.0</td>\n",
       "      <td>0.0</td>\n",
       "      <td>0.0</td>\n",
       "      <td>0.0</td>\n",
       "      <td>0.0</td>\n",
       "    </tr>\n",
       "  </tbody>\n",
       "</table>\n",
       "<p>5 rows × 48 columns</p>\n",
       "</div>"
      ],
      "text/plain": [
       "                          hk00      hk01      hk02      hk03      hk04  \\\n",
       "c001cr03c10_19700102  0.047670  0.166151 -1.466431 -1.587458  0.073819   \n",
       "c001cr03c16_19700102  0.000694  0.003471  0.008331  0.021984  0.000694   \n",
       "c001cr04c09_19700102  0.054844 -0.079373 -1.573573 -1.353273  0.119869   \n",
       "c001cr10c02_19700102 -0.292499 -0.813631 -0.924243 -0.749299 -1.115615   \n",
       "c001cr14c11_19700102 -0.021984 -0.089092 -0.356599 -0.520205  0.062711   \n",
       "\n",
       "                          hk05      hk06      hk07      hk08      hk09  ...  \\\n",
       "c001cr03c10_19700102 -0.245292 -1.073273 -1.204015  0.009025 -0.548900  ...   \n",
       "c001cr03c16_19700102 -0.000926 -0.007174 -0.033323  0.000000 -0.005785  ...   \n",
       "c001cr04c09_19700102 -0.406120 -1.417377 -1.219288  0.011339 -0.668769  ...   \n",
       "c001cr10c02_19700102 -1.743888 -1.162596 -0.765266 -0.549363 -0.664141  ...   \n",
       "c001cr14c11_19700102  0.314020 -0.098811 -0.733563  0.087241 -0.066183  ...   \n",
       "\n",
       "                      w0_r20_c14  w0_r26_c10  w0_r29_c06  w0_r34_c12  \\\n",
       "c001cr03c10_19700102         0.0         0.0         0.0         0.0   \n",
       "c001cr03c16_19700102         0.0         0.0         0.0         0.0   \n",
       "c001cr04c09_19700102         0.0         0.0         0.0         0.0   \n",
       "c001cr10c02_19700102         0.0         0.0         0.0         0.0   \n",
       "c001cr14c11_19700102         0.0         0.0         0.0         0.0   \n",
       "\n",
       "                      w1_r09_c16  w1_r11_c13  w1_r20_c14  w1_r26_c10  \\\n",
       "c001cr03c10_19700102         0.0         0.0         0.0         0.0   \n",
       "c001cr03c16_19700102         0.0         0.0         0.0         0.0   \n",
       "c001cr04c09_19700102         0.0         0.0         0.0         0.0   \n",
       "c001cr10c02_19700102         0.0         0.0         0.0         0.0   \n",
       "c001cr14c11_19700102         0.0         0.0         0.0         0.0   \n",
       "\n",
       "                      w1_r29_c06  w1_r34_c12  \n",
       "c001cr03c10_19700102         0.0         0.0  \n",
       "c001cr03c16_19700102         0.0         0.0  \n",
       "c001cr04c09_19700102         0.0         0.0  \n",
       "c001cr10c02_19700102         0.0         0.0  \n",
       "c001cr14c11_19700102         0.0         0.0  \n",
       "\n",
       "[5 rows x 48 columns]"
      ]
     },
     "execution_count": 53,
     "metadata": {},
     "output_type": "execute_result"
    }
   ],
   "source": [
    "df = jco.to_dataframe()\n",
    "df.head()"
   ]
  },
  {
   "cell_type": "markdown",
   "metadata": {},
   "source": [
    "### Some sweet potting sugar:"
   ]
  },
  {
   "cell_type": "code",
   "execution_count": 54,
   "metadata": {},
   "outputs": [
    {
     "data": {
      "text/plain": [
       "<matplotlib.axes._subplots.AxesSubplot at 0xb2178b198>"
      ]
     },
     "execution_count": 54,
     "metadata": {},
     "output_type": "execute_result"
    },
    {
     "data": {
      "image/png": "[encoded data removed]",
      "text/plain": [
       "<Figure size 576x756 with 1 Axes>"
      ]
     },
     "metadata": {},
     "output_type": "display_data"
    }
   ],
   "source": [
    "pst.plot(kind=\"phi_pie\")"
   ]
  },
  {
   "cell_type": "code",
   "execution_count": 55,
   "metadata": {
    "scrolled": false
   },
   "outputs": [
    {
     "data": {
      "text/plain": [
       "[<Figure size 576x756 with 0 Axes>, <Figure size 576x756 with 8 Axes>]"
      ]
     },
     "execution_count": 55,
     "metadata": {},
     "output_type": "execute_result"
    },
    {
     "data": {
      "text/plain": [
       "<Figure size 576x756 with 0 Axes>"
      ]
     },
     "metadata": {},
     "output_type": "display_data"
    },
    {
     "data": {
      "image/png": "[encoded data removed]",
      "text/plain": [
       "<Figure size 576x756 with 8 Axes>"
      ]
     },
     "metadata": {
      "needs_background": "light"
     },
     "output_type": "display_data"
    }
   ],
   "source": [
    "pst.plot(kind='prior')"
   ]
  },
  {
   "cell_type": "code",
   "execution_count": 56,
   "metadata": {},
   "outputs": [
    {
     "data": {
      "text/plain": [
       "[<Figure size 576x756 with 0 Axes>, <Figure size 576x756 with 8 Axes>]"
      ]
     },
     "execution_count": 56,
     "metadata": {},
     "output_type": "execute_result"
    },
    {
     "data": {
      "text/plain": [
       "<Figure size 576x756 with 0 Axes>"
      ]
     },
     "metadata": {},
     "output_type": "display_data"
    },
    {
     "data": {
      "image/png": "[encoded data removed]",
      "text/plain": [
       "<Figure size 576x756 with 8 Axes>"
      ]
     },
     "metadata": {
      "needs_background": "light"
     },
     "output_type": "display_data"
    }
   ],
   "source": [
    "pst.plot(kind=\"1to1\")"
   ]
  },
  {
   "cell_type": "code",
   "execution_count": 58,
   "metadata": {
    "scrolled": true
   },
   "outputs": [
    {
     "data": {
      "text/html": [
       "<div>\n",
       "<style scoped>\n",
       "    .dataframe tbody tr th:only-of-type {\n",
       "        vertical-align: middle;\n",
       "    }\n",
       "\n",
       "    .dataframe tbody tr th {\n",
       "        vertical-align: top;\n",
       "    }\n",
       "\n",
       "    .dataframe thead th {\n",
       "        text-align: right;\n",
       "    }\n",
       "</style>\n",
       "<table border=\"1\" class=\"dataframe\">\n",
       "  <thead>\n",
       "    <tr style=\"text-align: right;\">\n",
       "      <th></th>\n",
       "      <th>group</th>\n",
       "      <th>value</th>\n",
       "      <th>non-zero weight</th>\n",
       "      <th>zero weight</th>\n",
       "      <th>weight</th>\n",
       "      <th>standard deviation</th>\n",
       "      <th>percent error</th>\n",
       "    </tr>\n",
       "  </thead>\n",
       "  <tbody>\n",
       "    <tr>\n",
       "      <th>calflux</th>\n",
       "      <td>calflux</td>\n",
       "      <td>3242.6</td>\n",
       "      <td>1</td>\n",
       "      <td>0</td>\n",
       "      <td>0.05</td>\n",
       "      <td>20</td>\n",
       "      <td>0.616789</td>\n",
       "    </tr>\n",
       "    <tr>\n",
       "      <th>calhead</th>\n",
       "      <td>calhead</td>\n",
       "      <td>15.7487 to 30.7417</td>\n",
       "      <td>13</td>\n",
       "      <td>0</td>\n",
       "      <td>5</td>\n",
       "      <td>0.2</td>\n",
       "      <td>0.650582 to 1.26995</td>\n",
       "    </tr>\n",
       "    <tr>\n",
       "      <th>flaqx</th>\n",
       "      <td>flaqx</td>\n",
       "      <td>-895.43 to 252.98</td>\n",
       "      <td>0</td>\n",
       "      <td>122</td>\n",
       "      <td>0</td>\n",
       "      <td>NA</td>\n",
       "      <td>NA</td>\n",
       "    </tr>\n",
       "    <tr>\n",
       "      <th>flout</th>\n",
       "      <td>flout</td>\n",
       "      <td>0 to 7229.3</td>\n",
       "      <td>0</td>\n",
       "      <td>122</td>\n",
       "      <td>0</td>\n",
       "      <td>NA</td>\n",
       "      <td>NA</td>\n",
       "    </tr>\n",
       "    <tr>\n",
       "      <th>flx_constan</th>\n",
       "      <td>flx_constan</td>\n",
       "      <td>-860.052 to -490.431</td>\n",
       "      <td>0</td>\n",
       "      <td>3</td>\n",
       "      <td>0</td>\n",
       "      <td>NA</td>\n",
       "      <td>NA</td>\n",
       "    </tr>\n",
       "    <tr>\n",
       "      <th>flx_in-out</th>\n",
       "      <td>flx_in-out</td>\n",
       "      <td>-2.9966 to 1.3086</td>\n",
       "      <td>0</td>\n",
       "      <td>3</td>\n",
       "      <td>0</td>\n",
       "      <td>NA</td>\n",
       "      <td>NA</td>\n",
       "    </tr>\n",
       "    <tr>\n",
       "      <th>flx_percent</th>\n",
       "      <td>flx_percent</td>\n",
       "      <td>-0.05 to  0.02</td>\n",
       "      <td>0</td>\n",
       "      <td>3</td>\n",
       "      <td>0</td>\n",
       "      <td>NA</td>\n",
       "      <td>NA</td>\n",
       "    </tr>\n",
       "    <tr>\n",
       "      <th>flx_recharg</th>\n",
       "      <td>flx_recharg</td>\n",
       "      <td>3475 to 6004.8</td>\n",
       "      <td>0</td>\n",
       "      <td>3</td>\n",
       "      <td>0</td>\n",
       "      <td>NA</td>\n",
       "      <td>NA</td>\n",
       "    </tr>\n",
       "    <tr>\n",
       "      <th>flx_storage</th>\n",
       "      <td>flx_storage</td>\n",
       "      <td>0 to 1578.27</td>\n",
       "      <td>0</td>\n",
       "      <td>3</td>\n",
       "      <td>0</td>\n",
       "      <td>NA</td>\n",
       "      <td>NA</td>\n",
       "    </tr>\n",
       "    <tr>\n",
       "      <th>flx_stream_</th>\n",
       "      <td>flx_stream_</td>\n",
       "      <td>-3242.62 to -603.149</td>\n",
       "      <td>0</td>\n",
       "      <td>3</td>\n",
       "      <td>0</td>\n",
       "      <td>NA</td>\n",
       "      <td>NA</td>\n",
       "    </tr>\n",
       "    <tr>\n",
       "      <th>flx_total</th>\n",
       "      <td>flx_total</td>\n",
       "      <td>-2.99658 to 1.30859</td>\n",
       "      <td>0</td>\n",
       "      <td>3</td>\n",
       "      <td>0</td>\n",
       "      <td>NA</td>\n",
       "      <td>NA</td>\n",
       "    </tr>\n",
       "    <tr>\n",
       "      <th>flx_wells</th>\n",
       "      <td>flx_wells</td>\n",
       "      <td>-2381.4 to -1905.12</td>\n",
       "      <td>0</td>\n",
       "      <td>3</td>\n",
       "      <td>0</td>\n",
       "      <td>NA</td>\n",
       "      <td>NA</td>\n",
       "    </tr>\n",
       "    <tr>\n",
       "      <th>forecast</th>\n",
       "      <td>forecast</td>\n",
       "      <td>-242.577 to 26272.5</td>\n",
       "      <td>0</td>\n",
       "      <td>4</td>\n",
       "      <td>0</td>\n",
       "      <td>NA</td>\n",
       "      <td>NA</td>\n",
       "    </tr>\n",
       "    <tr>\n",
       "      <th>pothead</th>\n",
       "      <td>pothead</td>\n",
       "      <td>11.4 to 31.6052</td>\n",
       "      <td>0</td>\n",
       "      <td>703</td>\n",
       "      <td>0</td>\n",
       "      <td>NA</td>\n",
       "      <td>NA</td>\n",
       "    </tr>\n",
       "    <tr>\n",
       "      <th>vol_constan</th>\n",
       "      <td>vol_constan</td>\n",
       "      <td>-2.70556E+06 to -860.052</td>\n",
       "      <td>0</td>\n",
       "      <td>3</td>\n",
       "      <td>0</td>\n",
       "      <td>NA</td>\n",
       "      <td>NA</td>\n",
       "    </tr>\n",
       "    <tr>\n",
       "      <th>vol_in-out</th>\n",
       "      <td>vol_in-out</td>\n",
       "      <td>-2.9966 to  4774</td>\n",
       "      <td>0</td>\n",
       "      <td>3</td>\n",
       "      <td>0</td>\n",
       "      <td>NA</td>\n",
       "      <td>NA</td>\n",
       "    </tr>\n",
       "    <tr>\n",
       "      <th>vol_percent</th>\n",
       "      <td>vol_percent</td>\n",
       "      <td>-0.05 to  0.02</td>\n",
       "      <td>0</td>\n",
       "      <td>3</td>\n",
       "      <td>0</td>\n",
       "      <td>NA</td>\n",
       "      <td>NA</td>\n",
       "    </tr>\n",
       "    <tr>\n",
       "      <th>vol_recharg</th>\n",
       "      <td>vol_recharg</td>\n",
       "      <td>6004.8 to 1.26932E+07</td>\n",
       "      <td>0</td>\n",
       "      <td>3</td>\n",
       "      <td>0</td>\n",
       "      <td>NA</td>\n",
       "      <td>NA</td>\n",
       "    </tr>\n",
       "    <tr>\n",
       "      <th>vol_storage</th>\n",
       "      <td>vol_storage</td>\n",
       "      <td>0 to 5.7607E+06</td>\n",
       "      <td>0</td>\n",
       "      <td>3</td>\n",
       "      <td>0</td>\n",
       "      <td>NA</td>\n",
       "      <td>NA</td>\n",
       "    </tr>\n",
       "    <tr>\n",
       "      <th>vol_stream_</th>\n",
       "      <td>vol_stream_</td>\n",
       "      <td>-7.0472E+06 to -3242.62</td>\n",
       "      <td>0</td>\n",
       "      <td>3</td>\n",
       "      <td>0</td>\n",
       "      <td>NA</td>\n",
       "      <td>NA</td>\n",
       "    </tr>\n",
       "    <tr>\n",
       "      <th>vol_total</th>\n",
       "      <td>vol_total</td>\n",
       "      <td>-2.99658 to  4774</td>\n",
       "      <td>0</td>\n",
       "      <td>3</td>\n",
       "      <td>0</td>\n",
       "      <td>NA</td>\n",
       "      <td>NA</td>\n",
       "    </tr>\n",
       "    <tr>\n",
       "      <th>vol_wells</th>\n",
       "      <td>vol_wells</td>\n",
       "      <td>-8.6964E+06 to -1905.12</td>\n",
       "      <td>0</td>\n",
       "      <td>3</td>\n",
       "      <td>0</td>\n",
       "      <td>NA</td>\n",
       "      <td>NA</td>\n",
       "    </tr>\n",
       "  </tbody>\n",
       "</table>\n",
       "</div>"
      ],
      "text/plain": [
       "                   group                     value  non-zero weight  \\\n",
       "calflux          calflux                    3242.6                1   \n",
       "calhead          calhead        15.7487 to 30.7417               13   \n",
       "flaqx              flaqx         -895.43 to 252.98                0   \n",
       "flout              flout               0 to 7229.3                0   \n",
       "flx_constan  flx_constan      -860.052 to -490.431                0   \n",
       "flx_in-out    flx_in-out         -2.9966 to 1.3086                0   \n",
       "flx_percent  flx_percent            -0.05 to  0.02                0   \n",
       "flx_recharg  flx_recharg            3475 to 6004.8                0   \n",
       "flx_storage  flx_storage              0 to 1578.27                0   \n",
       "flx_stream_  flx_stream_      -3242.62 to -603.149                0   \n",
       "flx_total      flx_total       -2.99658 to 1.30859                0   \n",
       "flx_wells      flx_wells       -2381.4 to -1905.12                0   \n",
       "forecast        forecast       -242.577 to 26272.5                0   \n",
       "pothead          pothead           11.4 to 31.6052                0   \n",
       "vol_constan  vol_constan  -2.70556E+06 to -860.052                0   \n",
       "vol_in-out    vol_in-out          -2.9966 to  4774                0   \n",
       "vol_percent  vol_percent            -0.05 to  0.02                0   \n",
       "vol_recharg  vol_recharg     6004.8 to 1.26932E+07                0   \n",
       "vol_storage  vol_storage           0 to 5.7607E+06                0   \n",
       "vol_stream_  vol_stream_   -7.0472E+06 to -3242.62                0   \n",
       "vol_total      vol_total         -2.99658 to  4774                0   \n",
       "vol_wells      vol_wells   -8.6964E+06 to -1905.12                0   \n",
       "\n",
       "             zero weight weight standard deviation        percent error  \n",
       "calflux                0   0.05                 20             0.616789  \n",
       "calhead                0      5                0.2  0.650582 to 1.26995  \n",
       "flaqx                122      0                 NA                   NA  \n",
       "flout                122      0                 NA                   NA  \n",
       "flx_constan            3      0                 NA                   NA  \n",
       "flx_in-out             3      0                 NA                   NA  \n",
       "flx_percent            3      0                 NA                   NA  \n",
       "flx_recharg            3      0                 NA                   NA  \n",
       "flx_storage            3      0                 NA                   NA  \n",
       "flx_stream_            3      0                 NA                   NA  \n",
       "flx_total              3      0                 NA                   NA  \n",
       "flx_wells              3      0                 NA                   NA  \n",
       "forecast               4      0                 NA                   NA  \n",
       "pothead              703      0                 NA                   NA  \n",
       "vol_constan            3      0                 NA                   NA  \n",
       "vol_in-out             3      0                 NA                   NA  \n",
       "vol_percent            3      0                 NA                   NA  \n",
       "vol_recharg            3      0                 NA                   NA  \n",
       "vol_storage            3      0                 NA                   NA  \n",
       "vol_stream_            3      0                 NA                   NA  \n",
       "vol_total              3      0                 NA                   NA  \n",
       "vol_wells              3      0                 NA                   NA  "
      ]
     },
     "execution_count": 58,
     "metadata": {},
     "output_type": "execute_result"
    }
   ],
   "source": [
    "pst.write_par_summary_table(filename=\"par.tex\")"
   ]
  },
  {
   "cell_type": "markdown",
   "metadata": {},
   "source": [
    "### DIY: Adjust the weights so that both non-zero obs groups contribute equally to the objective function (and plot!) - no model runs required..."
   ]
  },
  {
   "cell_type": "code",
   "execution_count": 61,
   "metadata": {},
   "outputs": [
    {
     "data": {
      "text/plain": [
       "<matplotlib.axes._subplots.AxesSubplot at 0xb212aab00>"
      ]
     },
     "execution_count": 61,
     "metadata": {},
     "output_type": "execute_result"
    },
    {
     "data": {
      "image/png": "[encoded data removed]",
      "text/plain": [
       "<Figure size 576x756 with 1 Axes>"
      ]
     },
     "metadata": {},
     "output_type": "display_data"
    },
    {
     "data": {
      "image/png": "[encoded data removed]",
      "text/plain": [
       "<Figure size 576x756 with 1 Axes>"
      ]
     },
     "metadata": {},
     "output_type": "display_data"
    }
   ],
   "source": [
    "# hint: pst.adjust_weights\n",
    "obsgrp_dict = {}\n",
    "for nnz_obsgrp in pst.nnz_obs_groups:\n",
    "    obsgrp_dict[nnz_obsgrp] = 500.0\n",
    "pst.adjust_weights(obsgrp_dict=obsgrp_dict)\n",
    "pst.plot(kind=\"phi_pie\")\n",
    "pst.write(\"temp_reweight.pst\")\n",
    "pst.observation_data.loc[pst.nnz_obs_names,\"weight\"] = 10.0\n",
    "pst.plot(kind=\"phi_pie\")"
   ]
  },
  {
   "cell_type": "markdown",
   "metadata": {},
   "source": [
    "### DIY: form the normal matrix (XtQX) with non-zero weight obs and plot\n",
    "\n",
    "Q is the inverse of the obs noise cov matrix"
   ]
  },
  {
   "cell_type": "code",
   "execution_count": 78,
   "metadata": {},
   "outputs": [],
   "source": [
    "# hint Cov.from_observation_data()\n",
    "xtqx = jco.T * pyemu.Cov.from_observation_data(pst).inv * jco"
   ]
  },
  {
   "cell_type": "markdown",
   "metadata": {},
   "source": [
    "### now invert XtQX:"
   ]
  },
  {
   "cell_type": "code",
   "execution_count": 79,
   "metadata": {},
   "outputs": [
    {
     "data": {
      "text/plain": [
       "<pyemu.mat.mat_handler.Jco at 0xb21e3dac8>"
      ]
     },
     "execution_count": 79,
     "metadata": {},
     "output_type": "execute_result"
    }
   ],
   "source": [
    "xtqx.inv"
   ]
  },
  {
   "cell_type": "markdown",
   "metadata": {},
   "source": [
    "### Geostats in pyemu\n",
    "\n",
    "These are pure python so they arent super fast..."
   ]
  },
  {
   "cell_type": "code",
   "execution_count": 62,
   "metadata": {},
   "outputs": [
    {
     "data": {
      "text/plain": [
       "<matplotlib.axes._subplots.AxesSubplot at 0xb21d07f98>"
      ]
     },
     "execution_count": 62,
     "metadata": {},
     "output_type": "execute_result"
    },
    {
     "data": {
      "image/png": "[encoded data removed]",
      "text/plain": [
       "<Figure size 432x288 with 1 Axes>"
      ]
     },
     "metadata": {
      "needs_background": "light"
     },
     "output_type": "display_data"
    }
   ],
   "source": [
    "v_contribution = 1.0 # variance\n",
    "v_range = 1000\n",
    "exp_vario = pyemu.geostats.ExpVario(v_contribution,v_range)\n",
    "exp_vario.plot()"
   ]
  },
  {
   "cell_type": "markdown",
   "metadata": {},
   "source": [
    "now lets build a covariance matrix from x-y points.  We can generate these randomly or just use the pilot points template file:"
   ]
  },
  {
   "cell_type": "code",
   "execution_count": 63,
   "metadata": {},
   "outputs": [
    {
     "data": {
      "text/html": [
       "<div>\n",
       "<style scoped>\n",
       "    .dataframe tbody tr th:only-of-type {\n",
       "        vertical-align: middle;\n",
       "    }\n",
       "\n",
       "    .dataframe tbody tr th {\n",
       "        vertical-align: top;\n",
       "    }\n",
       "\n",
       "    .dataframe thead th {\n",
       "        text-align: right;\n",
       "    }\n",
       "</style>\n",
       "<table border=\"1\" class=\"dataframe\">\n",
       "  <thead>\n",
       "    <tr style=\"text-align: right;\">\n",
       "      <th></th>\n",
       "      <th>name</th>\n",
       "      <th>x</th>\n",
       "      <th>y</th>\n",
       "      <th>zone</th>\n",
       "      <th>parnme</th>\n",
       "    </tr>\n",
       "  </thead>\n",
       "  <tbody>\n",
       "    <tr>\n",
       "      <th>0</th>\n",
       "      <td>pp_0000</td>\n",
       "      <td>625.0</td>\n",
       "      <td>9375.0</td>\n",
       "      <td>1</td>\n",
       "      <td>hk00</td>\n",
       "    </tr>\n",
       "    <tr>\n",
       "      <th>1</th>\n",
       "      <td>pp_0001</td>\n",
       "      <td>1625.0</td>\n",
       "      <td>9375.0</td>\n",
       "      <td>1</td>\n",
       "      <td>hk01</td>\n",
       "    </tr>\n",
       "    <tr>\n",
       "      <th>2</th>\n",
       "      <td>pp_0002</td>\n",
       "      <td>2625.0</td>\n",
       "      <td>9375.0</td>\n",
       "      <td>1</td>\n",
       "      <td>hk02</td>\n",
       "    </tr>\n",
       "    <tr>\n",
       "      <th>3</th>\n",
       "      <td>pp_0003</td>\n",
       "      <td>3625.0</td>\n",
       "      <td>9375.0</td>\n",
       "      <td>1</td>\n",
       "      <td>hk03</td>\n",
       "    </tr>\n",
       "    <tr>\n",
       "      <th>4</th>\n",
       "      <td>pp_0004</td>\n",
       "      <td>625.0</td>\n",
       "      <td>8375.0</td>\n",
       "      <td>1</td>\n",
       "      <td>hk04</td>\n",
       "    </tr>\n",
       "  </tbody>\n",
       "</table>\n",
       "</div>"
      ],
      "text/plain": [
       "      name       x       y  zone parnme\n",
       "0  pp_0000   625.0  9375.0     1   hk00\n",
       "1  pp_0001  1625.0  9375.0     1   hk01\n",
       "2  pp_0002  2625.0  9375.0     1   hk02\n",
       "3  pp_0003  3625.0  9375.0     1   hk03\n",
       "4  pp_0004   625.0  8375.0     1   hk04"
      ]
     },
     "execution_count": 63,
     "metadata": {},
     "output_type": "execute_result"
    }
   ],
   "source": [
    "df = pyemu.pp_utils.pp_tpl_to_dataframe(os.path.join(f_d,\"hkpp.dat.tpl\"))\n",
    "df.head()"
   ]
  },
  {
   "cell_type": "code",
   "execution_count": 65,
   "metadata": {},
   "outputs": [
    {
     "data": {
      "text/plain": [
       "<matplotlib.image.AxesImage at 0xb22301240>"
      ]
     },
     "execution_count": 65,
     "metadata": {},
     "output_type": "execute_result"
    },
    {
     "data": {
      "image/png": "[encoded data removed]",
      "text/plain": [
       "<Figure size 432x288 with 1 Axes>"
      ]
     },
     "metadata": {
      "needs_background": "light"
     },
     "output_type": "display_data"
    }
   ],
   "source": [
    "plt.imshow(pyemu.geostats.ExpVario(0.1,5000).covariance_matrix(df.x,df.y,df.name).x)"
   ]
  },
  {
   "cell_type": "markdown",
   "metadata": {},
   "source": [
    "Here we will just use a 1-D sequence to get a cov matrix (think \"time series\")"
   ]
  },
  {
   "cell_type": "code",
   "execution_count": 66,
   "metadata": {},
   "outputs": [],
   "source": [
    "times = np.arange(0,365,1)\n",
    "y = np.ones_like(times)\n",
    "names = [\"t_\"+str(t) for t in times]"
   ]
  },
  {
   "cell_type": "code",
   "execution_count": 67,
   "metadata": {},
   "outputs": [
    {
     "data": {
      "text/plain": [
       "<matplotlib.axes._subplots.AxesSubplot at 0xb2397e3c8>"
      ]
     },
     "execution_count": 67,
     "metadata": {},
     "output_type": "execute_result"
    },
    {
     "data": {
      "image/png": "[encoded data removed]",
      "text/plain": [
       "<Figure size 432x288 with 1 Axes>"
      ]
     },
     "metadata": {
      "needs_background": "light"
     },
     "output_type": "display_data"
    }
   ],
   "source": [
    "v_contribution = 1.0 # variance\n",
    "v_range = 5 # days\n",
    "exp_vario = pyemu.geostats.ExpVario(v_contribution,v_range)\n",
    "exp_vario.plot()"
   ]
  },
  {
   "cell_type": "code",
   "execution_count": 68,
   "metadata": {},
   "outputs": [
    {
     "data": {
      "text/plain": [
       "<matplotlib.image.AxesImage at 0xb23a8cdd8>"
      ]
     },
     "execution_count": 68,
     "metadata": {},
     "output_type": "execute_result"
    },
    {
     "data": {
      "image/png": "[encoded data removed]",
      "text/plain": [
       "<Figure size 432x288 with 1 Axes>"
      ]
     },
     "metadata": {
      "needs_background": "light"
     },
     "output_type": "display_data"
    }
   ],
   "source": [
    "cov = exp_vario.covariance_matrix(times,y,names)\n",
    "plt.imshow(cov.x)"
   ]
  },
  {
   "cell_type": "markdown",
   "metadata": {},
   "source": [
    "### Ensembles\n",
    "\n",
    "The pyemu ensemble class inherit from pandas DataFrame so all that nice stuff is included for free"
   ]
  },
  {
   "cell_type": "code",
   "execution_count": 69,
   "metadata": {},
   "outputs": [
    {
     "data": {
      "text/html": [
       "<div>\n",
       "<style scoped>\n",
       "    .dataframe tbody tr th:only-of-type {\n",
       "        vertical-align: middle;\n",
       "    }\n",
       "\n",
       "    .dataframe tbody tr th {\n",
       "        vertical-align: top;\n",
       "    }\n",
       "\n",
       "    .dataframe thead th {\n",
       "        text-align: right;\n",
       "    }\n",
       "</style>\n",
       "<table border=\"1\" class=\"dataframe\">\n",
       "  <thead>\n",
       "    <tr style=\"text-align: right;\">\n",
       "      <th></th>\n",
       "      <th>hk00</th>\n",
       "      <th>hk01</th>\n",
       "      <th>hk02</th>\n",
       "      <th>hk03</th>\n",
       "      <th>hk04</th>\n",
       "      <th>hk05</th>\n",
       "      <th>hk06</th>\n",
       "      <th>hk07</th>\n",
       "      <th>hk08</th>\n",
       "      <th>hk09</th>\n",
       "      <th>...</th>\n",
       "      <th>w0_r20_c14</th>\n",
       "      <th>w0_r26_c10</th>\n",
       "      <th>w0_r29_c06</th>\n",
       "      <th>w0_r34_c12</th>\n",
       "      <th>w1_r09_c16</th>\n",
       "      <th>w1_r11_c13</th>\n",
       "      <th>w1_r20_c14</th>\n",
       "      <th>w1_r26_c10</th>\n",
       "      <th>w1_r29_c06</th>\n",
       "      <th>w1_r34_c12</th>\n",
       "    </tr>\n",
       "  </thead>\n",
       "  <tbody>\n",
       "    <tr>\n",
       "      <th>0</th>\n",
       "      <td>3.001833</td>\n",
       "      <td>2.366659</td>\n",
       "      <td>6.809490</td>\n",
       "      <td>3.429331</td>\n",
       "      <td>16.298398</td>\n",
       "      <td>1.547648</td>\n",
       "      <td>11.433005</td>\n",
       "      <td>3.922349</td>\n",
       "      <td>1.517295</td>\n",
       "      <td>4.300475</td>\n",
       "      <td>...</td>\n",
       "      <td>0.884188</td>\n",
       "      <td>0.724709</td>\n",
       "      <td>0.898494</td>\n",
       "      <td>0.855723</td>\n",
       "      <td>0.640158</td>\n",
       "      <td>0.172235</td>\n",
       "      <td>0.350420</td>\n",
       "      <td>1.214092</td>\n",
       "      <td>1.152578</td>\n",
       "      <td>7.065354</td>\n",
       "    </tr>\n",
       "    <tr>\n",
       "      <th>1</th>\n",
       "      <td>3.537170</td>\n",
       "      <td>1.463063</td>\n",
       "      <td>1.113342</td>\n",
       "      <td>35.310848</td>\n",
       "      <td>8.115535</td>\n",
       "      <td>8.310535</td>\n",
       "      <td>2.482060</td>\n",
       "      <td>18.759849</td>\n",
       "      <td>4.650216</td>\n",
       "      <td>1.116915</td>\n",
       "      <td>...</td>\n",
       "      <td>1.152560</td>\n",
       "      <td>1.149523</td>\n",
       "      <td>2.045370</td>\n",
       "      <td>0.950307</td>\n",
       "      <td>8.391324</td>\n",
       "      <td>0.668203</td>\n",
       "      <td>1.084015</td>\n",
       "      <td>0.360196</td>\n",
       "      <td>4.453099</td>\n",
       "      <td>2.613166</td>\n",
       "    </tr>\n",
       "    <tr>\n",
       "      <th>2</th>\n",
       "      <td>16.109007</td>\n",
       "      <td>9.537016</td>\n",
       "      <td>1.665155</td>\n",
       "      <td>14.723888</td>\n",
       "      <td>1.758288</td>\n",
       "      <td>24.733035</td>\n",
       "      <td>9.729475</td>\n",
       "      <td>4.196759</td>\n",
       "      <td>4.518557</td>\n",
       "      <td>1.296951</td>\n",
       "      <td>...</td>\n",
       "      <td>0.994265</td>\n",
       "      <td>2.694633</td>\n",
       "      <td>0.993588</td>\n",
       "      <td>0.964648</td>\n",
       "      <td>0.265094</td>\n",
       "      <td>1.133224</td>\n",
       "      <td>0.308936</td>\n",
       "      <td>1.516386</td>\n",
       "      <td>1.577233</td>\n",
       "      <td>4.764359</td>\n",
       "    </tr>\n",
       "    <tr>\n",
       "      <th>3</th>\n",
       "      <td>1.977936</td>\n",
       "      <td>3.282569</td>\n",
       "      <td>8.646999</td>\n",
       "      <td>3.203331</td>\n",
       "      <td>0.491054</td>\n",
       "      <td>2.210756</td>\n",
       "      <td>3.838319</td>\n",
       "      <td>15.149071</td>\n",
       "      <td>6.120960</td>\n",
       "      <td>3.712031</td>\n",
       "      <td>...</td>\n",
       "      <td>1.421224</td>\n",
       "      <td>1.798049</td>\n",
       "      <td>1.728568</td>\n",
       "      <td>1.241416</td>\n",
       "      <td>1.496314</td>\n",
       "      <td>1.079326</td>\n",
       "      <td>2.167345</td>\n",
       "      <td>0.346053</td>\n",
       "      <td>0.720999</td>\n",
       "      <td>7.031614</td>\n",
       "    </tr>\n",
       "    <tr>\n",
       "      <th>4</th>\n",
       "      <td>2.329271</td>\n",
       "      <td>3.773413</td>\n",
       "      <td>19.430744</td>\n",
       "      <td>5.431381</td>\n",
       "      <td>2.630756</td>\n",
       "      <td>13.805729</td>\n",
       "      <td>6.090457</td>\n",
       "      <td>2.434550</td>\n",
       "      <td>16.256617</td>\n",
       "      <td>10.085276</td>\n",
       "      <td>...</td>\n",
       "      <td>0.726211</td>\n",
       "      <td>1.147946</td>\n",
       "      <td>0.452868</td>\n",
       "      <td>0.709506</td>\n",
       "      <td>1.078538</td>\n",
       "      <td>0.261696</td>\n",
       "      <td>0.664994</td>\n",
       "      <td>0.660951</td>\n",
       "      <td>0.340216</td>\n",
       "      <td>0.897264</td>\n",
       "    </tr>\n",
       "  </tbody>\n",
       "</table>\n",
       "<p>5 rows × 48 columns</p>\n",
       "</div>"
      ],
      "text/plain": [
       "        hk00      hk01       hk02       hk03       hk04       hk05       hk06  \\\n",
       "0   3.001833  2.366659   6.809490   3.429331  16.298398   1.547648  11.433005   \n",
       "1   3.537170  1.463063   1.113342  35.310848   8.115535   8.310535   2.482060   \n",
       "2  16.109007  9.537016   1.665155  14.723888   1.758288  24.733035   9.729475   \n",
       "3   1.977936  3.282569   8.646999   3.203331   0.491054   2.210756   3.838319   \n",
       "4   2.329271  3.773413  19.430744   5.431381   2.630756  13.805729   6.090457   \n",
       "\n",
       "        hk07       hk08       hk09  ...  w0_r20_c14  w0_r26_c10  w0_r29_c06  \\\n",
       "0   3.922349   1.517295   4.300475  ...    0.884188    0.724709    0.898494   \n",
       "1  18.759849   4.650216   1.116915  ...    1.152560    1.149523    2.045370   \n",
       "2   4.196759   4.518557   1.296951  ...    0.994265    2.694633    0.993588   \n",
       "3  15.149071   6.120960   3.712031  ...    1.421224    1.798049    1.728568   \n",
       "4   2.434550  16.256617  10.085276  ...    0.726211    1.147946    0.452868   \n",
       "\n",
       "   w0_r34_c12  w1_r09_c16  w1_r11_c13  w1_r20_c14  w1_r26_c10  w1_r29_c06  \\\n",
       "0    0.855723    0.640158    0.172235    0.350420    1.214092    1.152578   \n",
       "1    0.950307    8.391324    0.668203    1.084015    0.360196    4.453099   \n",
       "2    0.964648    0.265094    1.133224    0.308936    1.516386    1.577233   \n",
       "3    1.241416    1.496314    1.079326    2.167345    0.346053    0.720999   \n",
       "4    0.709506    1.078538    0.261696    0.664994    0.660951    0.340216   \n",
       "\n",
       "   w1_r34_c12  \n",
       "0    7.065354  \n",
       "1    2.613166  \n",
       "2    4.764359  \n",
       "3    7.031614  \n",
       "4    0.897264  \n",
       "\n",
       "[5 rows x 48 columns]"
      ]
     },
     "execution_count": 69,
     "metadata": {},
     "output_type": "execute_result"
    }
   ],
   "source": [
    "pe = pyemu.ParameterEnsemble.from_gaussian_draw(pst=pst,cov=pyemu.Cov.from_parameter_data(pst),num_reals=1000)\n",
    "pe.head()"
   ]
  },
  {
   "cell_type": "markdown",
   "metadata": {},
   "source": [
    "Check your understanding: where did the first (mean vector) and second (covariance matrix) moments come from in that ensemble generation?  "
   ]
  },
  {
   "cell_type": "code",
   "execution_count": 70,
   "metadata": {},
   "outputs": [
    {
     "data": {
      "text/plain": [
       "<matplotlib.axes._subplots.AxesSubplot at 0xb223127b8>"
      ]
     },
     "execution_count": 70,
     "metadata": {},
     "output_type": "execute_result"
    },
    {
     "data": {
      "image/png": "[encoded data removed]",
      "text/plain": [
       "<Figure size 432x288 with 1 Axes>"
      ]
     },
     "metadata": {
      "needs_background": "light"
     },
     "output_type": "display_data"
    }
   ],
   "source": [
    "pe.iloc[:,0].hist()\n"
   ]
  },
  {
   "cell_type": "code",
   "execution_count": 71,
   "metadata": {},
   "outputs": [
    {
     "data": {
      "text/plain": [
       "<matplotlib.axes._subplots.AxesSubplot at 0xb23e58c18>"
      ]
     },
     "execution_count": 71,
     "metadata": {},
     "output_type": "execute_result"
    },
    {
     "data": {
      "image/png": "[encoded data removed]",
      "text/plain": [
       "<Figure size 432x288 with 1 Axes>"
      ]
     },
     "metadata": {
      "needs_background": "light"
     },
     "output_type": "display_data"
    }
   ],
   "source": [
    "pe.iloc[:,0].apply(np.log10).hist()"
   ]
  },
  {
   "cell_type": "markdown",
   "metadata": {},
   "source": [
    "So that was really easy...but what if we want to express spatial/temporal correlation in the prior?  that means we need to form mixed block-diagonal/diagonal cov matrix and then draw from it. In this case, we have spatially correlated pilot point parameters:"
   ]
  },
  {
   "cell_type": "code",
   "execution_count": 72,
   "metadata": {},
   "outputs": [
    {
     "data": {
      "text/html": [
       "<div>\n",
       "<style scoped>\n",
       "    .dataframe tbody tr th:only-of-type {\n",
       "        vertical-align: middle;\n",
       "    }\n",
       "\n",
       "    .dataframe tbody tr th {\n",
       "        vertical-align: top;\n",
       "    }\n",
       "\n",
       "    .dataframe thead th {\n",
       "        text-align: right;\n",
       "    }\n",
       "</style>\n",
       "<table border=\"1\" class=\"dataframe\">\n",
       "  <thead>\n",
       "    <tr style=\"text-align: right;\">\n",
       "      <th></th>\n",
       "      <th>name</th>\n",
       "      <th>x</th>\n",
       "      <th>y</th>\n",
       "      <th>zone</th>\n",
       "      <th>parnme</th>\n",
       "    </tr>\n",
       "  </thead>\n",
       "  <tbody>\n",
       "    <tr>\n",
       "      <th>0</th>\n",
       "      <td>pp_0000</td>\n",
       "      <td>625.0</td>\n",
       "      <td>9375.0</td>\n",
       "      <td>1</td>\n",
       "      <td>hk00</td>\n",
       "    </tr>\n",
       "    <tr>\n",
       "      <th>1</th>\n",
       "      <td>pp_0001</td>\n",
       "      <td>1625.0</td>\n",
       "      <td>9375.0</td>\n",
       "      <td>1</td>\n",
       "      <td>hk01</td>\n",
       "    </tr>\n",
       "    <tr>\n",
       "      <th>2</th>\n",
       "      <td>pp_0002</td>\n",
       "      <td>2625.0</td>\n",
       "      <td>9375.0</td>\n",
       "      <td>1</td>\n",
       "      <td>hk02</td>\n",
       "    </tr>\n",
       "    <tr>\n",
       "      <th>3</th>\n",
       "      <td>pp_0003</td>\n",
       "      <td>3625.0</td>\n",
       "      <td>9375.0</td>\n",
       "      <td>1</td>\n",
       "      <td>hk03</td>\n",
       "    </tr>\n",
       "    <tr>\n",
       "      <th>4</th>\n",
       "      <td>pp_0004</td>\n",
       "      <td>625.0</td>\n",
       "      <td>8375.0</td>\n",
       "      <td>1</td>\n",
       "      <td>hk04</td>\n",
       "    </tr>\n",
       "  </tbody>\n",
       "</table>\n",
       "</div>"
      ],
      "text/plain": [
       "      name       x       y  zone parnme\n",
       "0  pp_0000   625.0  9375.0     1   hk00\n",
       "1  pp_0001  1625.0  9375.0     1   hk01\n",
       "2  pp_0002  2625.0  9375.0     1   hk02\n",
       "3  pp_0003  3625.0  9375.0     1   hk03\n",
       "4  pp_0004   625.0  8375.0     1   hk04"
      ]
     },
     "execution_count": 72,
     "metadata": {},
     "output_type": "execute_result"
    }
   ],
   "source": [
    "df = pyemu.pp_utils.pp_tpl_to_dataframe(os.path.join(f_d,\"hkpp.dat.tpl\"))\n",
    "df.head()"
   ]
  },
  {
   "cell_type": "markdown",
   "metadata": {},
   "source": [
    "Let's build a combined, block diagonal matrix:"
   ]
  },
  {
   "cell_type": "code",
   "execution_count": 73,
   "metadata": {},
   "outputs": [
    {
     "data": {
      "text/plain": [
       "<matplotlib.image.AxesImage at 0xb23f7d278>"
      ]
     },
     "execution_count": 73,
     "metadata": {},
     "output_type": "execute_result"
    },
    {
     "data": {
      "image/png": "[encoded data removed]",
      "text/plain": [
       "<Figure size 432x288 with 1 Axes>"
      ]
     },
     "metadata": {
      "needs_background": "light"
     },
     "output_type": "display_data"
    }
   ],
   "source": [
    "ev = pyemu.geostats.ExpVario(1.0,5000)\n",
    "cov = pyemu.helpers.geostatistical_prior_builder(pst=pst,struct_dict={ev:df})\n",
    "x = cov.x.copy()\n",
    "x[x<1.0e-3] = np.NaN\n",
    "plt.imshow(x)"
   ]
  },
  {
   "cell_type": "markdown",
   "metadata": {},
   "source": [
    "This is exactly the same line as above except here the `cov` includes some off-diagonals for the pilot points"
   ]
  },
  {
   "cell_type": "code",
   "execution_count": 81,
   "metadata": {},
   "outputs": [
    {
     "name": "stdout",
     "output_type": "stream",
     "text": [
      "making full cov draws with home-grown goodness\n"
     ]
    },
    {
     "data": {
      "text/html": [
       "<div>\n",
       "<style scoped>\n",
       "    .dataframe tbody tr th:only-of-type {\n",
       "        vertical-align: middle;\n",
       "    }\n",
       "\n",
       "    .dataframe tbody tr th {\n",
       "        vertical-align: top;\n",
       "    }\n",
       "\n",
       "    .dataframe thead th {\n",
       "        text-align: right;\n",
       "    }\n",
       "</style>\n",
       "<table border=\"1\" class=\"dataframe\">\n",
       "  <thead>\n",
       "    <tr style=\"text-align: right;\">\n",
       "      <th></th>\n",
       "      <th>hk00</th>\n",
       "      <th>hk01</th>\n",
       "      <th>hk02</th>\n",
       "      <th>hk03</th>\n",
       "      <th>hk04</th>\n",
       "      <th>hk05</th>\n",
       "      <th>hk06</th>\n",
       "      <th>hk07</th>\n",
       "      <th>hk08</th>\n",
       "      <th>hk09</th>\n",
       "      <th>...</th>\n",
       "      <th>w0_r20_c14</th>\n",
       "      <th>w0_r26_c10</th>\n",
       "      <th>w0_r29_c06</th>\n",
       "      <th>w0_r34_c12</th>\n",
       "      <th>w1_r09_c16</th>\n",
       "      <th>w1_r11_c13</th>\n",
       "      <th>w1_r20_c14</th>\n",
       "      <th>w1_r26_c10</th>\n",
       "      <th>w1_r29_c06</th>\n",
       "      <th>w1_r34_c12</th>\n",
       "    </tr>\n",
       "  </thead>\n",
       "  <tbody>\n",
       "    <tr>\n",
       "      <th>0</th>\n",
       "      <td>4.902656</td>\n",
       "      <td>4.186509</td>\n",
       "      <td>2.132429</td>\n",
       "      <td>3.616556</td>\n",
       "      <td>7.584204</td>\n",
       "      <td>3.169167</td>\n",
       "      <td>3.725573</td>\n",
       "      <td>4.566322</td>\n",
       "      <td>3.417780</td>\n",
       "      <td>1.641818</td>\n",
       "      <td>...</td>\n",
       "      <td>0.612541</td>\n",
       "      <td>1.124774</td>\n",
       "      <td>0.392794</td>\n",
       "      <td>0.790902</td>\n",
       "      <td>0.307155</td>\n",
       "      <td>1.275896</td>\n",
       "      <td>0.283202</td>\n",
       "      <td>0.159635</td>\n",
       "      <td>1.171909</td>\n",
       "      <td>0.709139</td>\n",
       "    </tr>\n",
       "    <tr>\n",
       "      <th>1</th>\n",
       "      <td>1.288249</td>\n",
       "      <td>0.682421</td>\n",
       "      <td>0.854037</td>\n",
       "      <td>2.291217</td>\n",
       "      <td>3.334321</td>\n",
       "      <td>2.616018</td>\n",
       "      <td>0.728766</td>\n",
       "      <td>1.419897</td>\n",
       "      <td>7.824258</td>\n",
       "      <td>1.162278</td>\n",
       "      <td>...</td>\n",
       "      <td>0.659479</td>\n",
       "      <td>0.556039</td>\n",
       "      <td>0.828789</td>\n",
       "      <td>1.136900</td>\n",
       "      <td>2.597358</td>\n",
       "      <td>0.635436</td>\n",
       "      <td>1.481751</td>\n",
       "      <td>2.581552</td>\n",
       "      <td>2.416007</td>\n",
       "      <td>2.754372</td>\n",
       "    </tr>\n",
       "    <tr>\n",
       "      <th>2</th>\n",
       "      <td>4.149976</td>\n",
       "      <td>7.153476</td>\n",
       "      <td>9.129349</td>\n",
       "      <td>4.393417</td>\n",
       "      <td>1.153396</td>\n",
       "      <td>2.492120</td>\n",
       "      <td>4.725330</td>\n",
       "      <td>9.222146</td>\n",
       "      <td>0.918446</td>\n",
       "      <td>2.678476</td>\n",
       "      <td>...</td>\n",
       "      <td>0.904278</td>\n",
       "      <td>0.562873</td>\n",
       "      <td>1.392803</td>\n",
       "      <td>1.052671</td>\n",
       "      <td>13.153803</td>\n",
       "      <td>2.027360</td>\n",
       "      <td>2.480771</td>\n",
       "      <td>0.151920</td>\n",
       "      <td>1.267293</td>\n",
       "      <td>1.401857</td>\n",
       "    </tr>\n",
       "    <tr>\n",
       "      <th>3</th>\n",
       "      <td>11.242266</td>\n",
       "      <td>8.027103</td>\n",
       "      <td>11.864142</td>\n",
       "      <td>11.598711</td>\n",
       "      <td>9.836163</td>\n",
       "      <td>29.561417</td>\n",
       "      <td>34.432265</td>\n",
       "      <td>21.679933</td>\n",
       "      <td>8.518913</td>\n",
       "      <td>15.224094</td>\n",
       "      <td>...</td>\n",
       "      <td>0.765837</td>\n",
       "      <td>0.700559</td>\n",
       "      <td>1.163386</td>\n",
       "      <td>1.650801</td>\n",
       "      <td>2.534910</td>\n",
       "      <td>0.657244</td>\n",
       "      <td>0.351216</td>\n",
       "      <td>0.986696</td>\n",
       "      <td>0.681325</td>\n",
       "      <td>6.858661</td>\n",
       "    </tr>\n",
       "    <tr>\n",
       "      <th>4</th>\n",
       "      <td>5.267674</td>\n",
       "      <td>2.410335</td>\n",
       "      <td>3.251210</td>\n",
       "      <td>4.717527</td>\n",
       "      <td>3.987209</td>\n",
       "      <td>2.627577</td>\n",
       "      <td>4.909662</td>\n",
       "      <td>18.534199</td>\n",
       "      <td>6.240842</td>\n",
       "      <td>11.000535</td>\n",
       "      <td>...</td>\n",
       "      <td>0.766339</td>\n",
       "      <td>0.900413</td>\n",
       "      <td>1.018948</td>\n",
       "      <td>1.669264</td>\n",
       "      <td>2.105494</td>\n",
       "      <td>0.174286</td>\n",
       "      <td>1.010572</td>\n",
       "      <td>1.483100</td>\n",
       "      <td>0.447194</td>\n",
       "      <td>12.768122</td>\n",
       "    </tr>\n",
       "  </tbody>\n",
       "</table>\n",
       "<p>5 rows × 48 columns</p>\n",
       "</div>"
      ],
      "text/plain": [
       "        hk00      hk01       hk02       hk03      hk04       hk05       hk06  \\\n",
       "0   4.902656  4.186509   2.132429   3.616556  7.584204   3.169167   3.725573   \n",
       "1   1.288249  0.682421   0.854037   2.291217  3.334321   2.616018   0.728766   \n",
       "2   4.149976  7.153476   9.129349   4.393417  1.153396   2.492120   4.725330   \n",
       "3  11.242266  8.027103  11.864142  11.598711  9.836163  29.561417  34.432265   \n",
       "4   5.267674  2.410335   3.251210   4.717527  3.987209   2.627577   4.909662   \n",
       "\n",
       "        hk07      hk08       hk09  ...  w0_r20_c14  w0_r26_c10  w0_r29_c06  \\\n",
       "0   4.566322  3.417780   1.641818  ...    0.612541    1.124774    0.392794   \n",
       "1   1.419897  7.824258   1.162278  ...    0.659479    0.556039    0.828789   \n",
       "2   9.222146  0.918446   2.678476  ...    0.904278    0.562873    1.392803   \n",
       "3  21.679933  8.518913  15.224094  ...    0.765837    0.700559    1.163386   \n",
       "4  18.534199  6.240842  11.000535  ...    0.766339    0.900413    1.018948   \n",
       "\n",
       "   w0_r34_c12  w1_r09_c16  w1_r11_c13  w1_r20_c14  w1_r26_c10  w1_r29_c06  \\\n",
       "0    0.790902    0.307155    1.275896    0.283202    0.159635    1.171909   \n",
       "1    1.136900    2.597358    0.635436    1.481751    2.581552    2.416007   \n",
       "2    1.052671   13.153803    2.027360    2.480771    0.151920    1.267293   \n",
       "3    1.650801    2.534910    0.657244    0.351216    0.986696    0.681325   \n",
       "4    1.669264    2.105494    0.174286    1.010572    1.483100    0.447194   \n",
       "\n",
       "   w1_r34_c12  \n",
       "0    0.709139  \n",
       "1    2.754372  \n",
       "2    1.401857  \n",
       "3    6.858661  \n",
       "4   12.768122  \n",
       "\n",
       "[5 rows x 48 columns]"
      ]
     },
     "execution_count": 81,
     "metadata": {},
     "output_type": "execute_result"
    }
   ],
   "source": [
    "pe = pyemu.ParameterEnsemble.from_gaussian_draw(pst=pst,cov=cov,num_reals=100)\n",
    "pe.head()"
   ]
  },
  {
   "cell_type": "markdown",
   "metadata": {},
   "source": [
    "Lets plot the values of the pilot points in space to see their correlation (or lack thereof)"
   ]
  },
  {
   "cell_type": "code",
   "execution_count": 82,
   "metadata": {},
   "outputs": [
    {
     "data": {
      "text/plain": [
       "<matplotlib.collections.PathCollection at 0xb23da7dd8>"
      ]
     },
     "execution_count": 82,
     "metadata": {},
     "output_type": "execute_result"
    },
    {
     "data": {
      "image/png": "[encoded data removed]",
      "text/plain": [
       "<Figure size 720x720 with 1 Axes>"
      ]
     },
     "metadata": {
      "needs_background": "light"
     },
     "output_type": "display_data"
    }
   ],
   "source": [
    "df.index = df.parnme\n",
    "df.loc[:,\"parval1\"] = pe.loc[0,df.parnme]\n",
    "fig = plt.figure(figsize=(10,10))\n",
    "ax = plt.subplot(111,aspect=\"equal\")\n",
    "plt.scatter(df.x,df.y,c=df.parval1,s=500)"
   ]
  },
  {
   "cell_type": "markdown",
   "metadata": {},
   "source": [
    "You can \"kind of\" see that correlation, but if we krige these values to the model grid, we can really see it..."
   ]
  },
  {
   "cell_type": "code",
   "execution_count": 83,
   "metadata": {},
   "outputs": [],
   "source": [
    "df.loc[:,\"parval1\"] = pe.loc[0,df.parnme]\n",
    "df.index = np.arange(df.shape[0])\n",
    "arr = pyemu.geostats.fac2real(df,factors_file=os.path.join(f_d,\"hkpp.dat.fac\"),out_file=None)"
   ]
  },
  {
   "cell_type": "code",
   "execution_count": 84,
   "metadata": {},
   "outputs": [
    {
     "data": {
      "text/plain": [
       "<matplotlib.image.AxesImage at 0xb25253940>"
      ]
     },
     "execution_count": 84,
     "metadata": {},
     "output_type": "execute_result"
    },
    {
     "data": {
      "image/png": "[encoded data removed]",
      "text/plain": [
       "<Figure size 432x288 with 1 Axes>"
      ]
     },
     "metadata": {
      "needs_background": "light"
     },
     "output_type": "display_data"
    }
   ],
   "source": [
    "plt.imshow(np.log10(arr))"
   ]
  },
  {
   "cell_type": "markdown",
   "metadata": {},
   "source": [
    "### DIY: experiment with changing the variogram range and seeing how it changes the resulting parameter fields"
   ]
  },
  {
   "cell_type": "markdown",
   "metadata": {},
   "source": [
    "FORESHADOWING: we can also form an empirical covariance matrix from this par ensemble!"
   ]
  },
  {
   "cell_type": "code",
   "execution_count": 85,
   "metadata": {},
   "outputs": [
    {
     "data": {
      "text/plain": [
       "<matplotlib.image.AxesImage at 0xb24f9f2e8>"
      ]
     },
     "execution_count": 85,
     "metadata": {},
     "output_type": "execute_result"
    },
    {
     "data": {
      "image/png": "[encoded data removed]",
      "text/plain": [
       "<Figure size 432x288 with 1 Axes>"
      ]
     },
     "metadata": {
      "needs_background": "light"
     },
     "output_type": "display_data"
    }
   ],
   "source": [
    "emp_cov = pe.covariance_matrix()\n",
    "x = emp_cov.x.copy()\n",
    "x[x<1.0e-3] = np.NaN\n",
    "plt.imshow(x)"
   ]
  },
  {
   "cell_type": "code",
   "execution_count": null,
   "metadata": {},
   "outputs": [],
   "source": []
  }
 ],
 "metadata": {
  "kernelspec": {
   "display_name": "Python 3",
   "language": "python",
   "name": "python3"
  },
  "language_info": {
   "codemirror_mode": {
    "name": "ipython",
    "version": 3
   },
   "file_extension": ".py",
   "mimetype": "text/x-python",
   "name": "python",
   "nbconvert_exporter": "python",
   "pygments_lexer": "ipython3",
   "version": "3.7.3"
  }
 },
 "nbformat": 4,
 "nbformat_minor": 2
}
