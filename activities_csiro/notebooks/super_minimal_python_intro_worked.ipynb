{
 "cells": [
  {
   "cell_type": "markdown",
   "metadata": {},
   "source": [
    "# super minimal basic python intro\n",
    "\n",
    "something new"
   ]
  },
  {
   "cell_type": "markdown",
   "metadata": {},
   "source": [
    "- spacing and case matter in python\n",
    "- zero based indexing\n",
    "- fundamental types and type casting\n",
    " - int, float, string, boolean\n",
    " - string operations (split, strip, format)\n",
    "- conditionals\n",
    " - syntax\n",
    " - multiple conditionals\n",
    "- looping\n",
    " - for syntax\n",
    " - while syntax\n",
    "- data structures\n",
    " - list and dict\n",
    " - creating\n",
    " - appending/removing\n",
    " - iterating\n",
    " - list indexing/slicing\n",
    "- file io \n",
    " - open and close\n",
    " - iterating\n",
    "- libraries\n"
   ]
  },
  {
   "cell_type": "code",
   "execution_count": null,
   "metadata": {},
   "outputs": [],
   "source": [
    "a = [1,1.1,\"string\",True]\n",
    "type(a),a"
   ]
  },
  {
   "cell_type": "code",
   "execution_count": null,
   "metadata": {},
   "outputs": [],
   "source": [
    "a[0]"
   ]
  },
  {
   "cell_type": "code",
   "execution_count": null,
   "metadata": {},
   "outputs": [],
   "source": [
    "a[-1]"
   ]
  },
  {
   "cell_type": "code",
   "execution_count": null,
   "metadata": {},
   "outputs": [],
   "source": [
    "b = a[1::2]\n",
    "type(b),b"
   ]
  },
  {
   "cell_type": "code",
   "execution_count": null,
   "metadata": {},
   "outputs": [],
   "source": [
    "d = {\"key 1\":\"string 1\",2:\"string 2\"}\n",
    "d[\"key 1\"] = [\"string 999\"]\n",
    "d[\"key 1\"].append(\"new string 999\")\n",
    "d"
   ]
  },
  {
   "cell_type": "code",
   "execution_count": null,
   "metadata": {},
   "outputs": [],
   "source": [
    "my_list = [1,2,3,4,5,6]\n",
    "for i,item in enumerate(my_list):\n",
    "    if i != 2 or item == 1:\n",
    "        print(i,item)"
   ]
  },
  {
   "cell_type": "code",
   "execution_count": null,
   "metadata": {},
   "outputs": [],
   "source": [
    "f = open(\"my_file.dat\",'w')\n",
    "f.write(\"line 1\\n\")\n",
    "f.write(\"line 2\\n\")\n",
    "f.write(str(1.2345678E+15))\n",
    "f.write(\"{0:15.6E}, {1:10d}\".format(1.2345678e+15,11))\n",
    "f.close()"
   ]
  },
  {
   "cell_type": "code",
   "execution_count": null,
   "metadata": {},
   "outputs": [],
   "source": [
    "f_in = open(\"my_file.dat\",'r')\n",
    "for line in f_in:\n",
    "    print(line.strip())"
   ]
  },
  {
   "cell_type": "code",
   "execution_count": null,
   "metadata": {},
   "outputs": [],
   "source": [
    "my_list = [1,2,3,4,5]\n",
    "f = open(\"my_list.dat\",'w')\n",
    "for item in my_list:\n",
    "    f.write(str(item)+\"\\n\")\n",
    "f.close()\n",
    "f_in = open(\"my_list.dat\",'r')\n",
    "my_new_list = []\n",
    "for line in f_in:\n",
    "    my_new_list.append(int(line.strip()))\n",
    "my_new_list"
   ]
  },
  {
   "cell_type": "markdown",
   "metadata": {},
   "source": [
    "# pyformat.info"
   ]
  },
  {
   "cell_type": "markdown",
   "metadata": {},
   "source": [
    "### DIY: create a list of things and write it to a file.  then read it back into another list.  check your work by comparing the two lists item by item"
   ]
  },
  {
   "cell_type": "code",
   "execution_count": null,
   "metadata": {},
   "outputs": [],
   "source": []
  },
  {
   "cell_type": "markdown",
   "metadata": {},
   "source": [
    "# sci comp with python"
   ]
  },
  {
   "cell_type": "markdown",
   "metadata": {},
   "source": [
    "- numpy and the ndarray\n",
    " - creating (zeros, ones)\n",
    " - file io\n",
    " - indexing/slicing (zero based!)\n",
    "\n",
    "- matplotlib\n",
    " - the gallery\n",
    " - figure and axes\n",
    "- pandas and the dataframe\n",
    " - creating\n",
    " - appending and removing\n",
    " - plotting\n",
    " - timeseries (to_datetime, to_timedelta, etc)\n",
    " - file io\n"
   ]
  },
  {
   "cell_type": "markdown",
   "metadata": {},
   "source": [
    "# NUMPY\n",
    "\n",
    "- Ndarray and indexing/slicing\n",
    "- Random\n",
    "- masking \n"
   ]
  },
  {
   "cell_type": "code",
   "execution_count": null,
   "metadata": {},
   "outputs": [],
   "source": [
    "import numpy as np\n",
    "arr = np.array([1,2,3])\n",
    "arr[1:]"
   ]
  },
  {
   "cell_type": "code",
   "execution_count": null,
   "metadata": {},
   "outputs": [],
   "source": [
    "arr = np.ones((100,100))\n",
    "arr[1:-10:2,20:-2:4] = 0\n",
    "arr"
   ]
  },
  {
   "cell_type": "code",
   "execution_count": null,
   "metadata": {},
   "outputs": [],
   "source": [
    "np.random.seed(0)\n",
    "rand_arr = np.random.random((100,100))\n",
    "rand_arr.shape,rand_arr[-1,-1]"
   ]
  },
  {
   "cell_type": "code",
   "execution_count": null,
   "metadata": {},
   "outputs": [],
   "source": [
    "np.savetxt(\"arr.dat\",rand_arr,fmt=\"%15.6E\")"
   ]
  },
  {
   "cell_type": "code",
   "execution_count": null,
   "metadata": {},
   "outputs": [],
   "source": [
    "rand_arr[:,0] = np.nan"
   ]
  },
  {
   "cell_type": "code",
   "execution_count": null,
   "metadata": {},
   "outputs": [],
   "source": [
    "np.savetxt(\"arr.dat\",rand_arr,fmt=\"%15.6E\")"
   ]
  },
  {
   "cell_type": "markdown",
   "metadata": {},
   "source": [
    "### DIY: create a numpy array and practice slice/dice/reshape - watch out for zero-based!!!"
   ]
  },
  {
   "cell_type": "markdown",
   "metadata": {},
   "source": [
    "# MATPLOTLIB\n",
    "\n",
    "- Figures and axes\n",
    "- Plot, bar,  scatter, fill_between\n",
    "- imshow\n"
   ]
  },
  {
   "cell_type": "code",
   "execution_count": null,
   "metadata": {},
   "outputs": [],
   "source": [
    "import matplotlib.pyplot as plt"
   ]
  },
  {
   "cell_type": "code",
   "execution_count": null,
   "metadata": {},
   "outputs": [],
   "source": [
    "%matplotlib inline\n",
    "import numpy as np\n",
    "import matplotlib.pyplot as plt\n",
    "\n",
    "x = np.linspace(0, 1, 500)\n",
    "y1 = np.sin(4 * np.pi * x) * np.exp(-5 * x)\n",
    "y2 = np.sin(2 * np.pi * x) * np.exp(-10 * x)\n",
    "fig, axes = plt.subplots(nrows=3,ncols=1,figsize=(8,11))\n",
    "\n",
    "axes[0].fill(x, y1, zorder=10)\n",
    "axes[0].grid(True, zorder=5)\n",
    "#axes[1].fill(x, y2, zorder=10)\n",
    "axes[1].grid(True, zorder=5)\n",
    "axes[1].plot(x,y2)\n",
    "axes[0].scatter(x,y1,marker=\"+\")\n",
    "axes[0].set_ylabel(\"some numbers $\\\\phi$\")\n",
    "axes[2].hist(y1,bins=20,alpha=0.5,facecolor=\"m\")\n",
    "plt.savefig(\"plot.pdf\")\n",
    "plt.show()\n"
   ]
  },
  {
   "cell_type": "markdown",
   "metadata": {},
   "source": [
    "### DIY: copy a cool plotting script from the matplotlib gallery into a script.  modify it and rerun "
   ]
  },
  {
   "cell_type": "markdown",
   "metadata": {},
   "source": [
    "### DIY: create a numpy 1D ndarray of random values (using whatever distribution you want from `numpy.random` module.  visualize on 3 axes with plot, scatter, and fill_between, respectively"
   ]
  },
  {
   "cell_type": "code",
   "execution_count": null,
   "metadata": {},
   "outputs": [],
   "source": [
    "vec = np.random.randint(10,50,1000)\n",
    "# need two vectors for scatter!\n",
    "vec2 = np.random.laplace(size=1000)\n",
    "fig, axes = plt.subplots(3,1,figsize=(8,4))\n",
    "# on the first axis, \"plot\" the vector...\n",
    "axes[0].plot(vec,color='0.5',lw=0.15)\n",
    "\n",
    "# on the second axis, \"scatter\" plot the vector...\n",
    "axes[1].scatter(vec,vec2,marker='.',c='r')\n",
    "\n",
    "# on the third axis, \"fill\" plot the vector...\n",
    "axes[2].fill(vec2,alpha=0.5,color=\"c\")\n",
    "\n",
    "plt.tight_layout()\n",
    "plt.show()"
   ]
  },
  {
   "cell_type": "markdown",
   "metadata": {},
   "source": [
    "### DIY: create a numpy 2D ndarray of random values (using whatever distribution you want from `numpy.random` module.  Mask certain values using a threshold and also mask a block by indices. Visualize it as a map and as a histogram"
   ]
  },
  {
   "cell_type": "code",
   "execution_count": null,
   "metadata": {},
   "outputs": [],
   "source": [
    "#hints: ax.imshow, np.nan, ax.hist\n",
    "arr = np.random.randn(50,100)\n",
    "arr[arr>0.8] = np.nan\n",
    "arr[10:35,2:50] = np.nan\n",
    "fig,axes = plt.subplots(2,1,figsize=(6,6))\n",
    "axes[0].imshow(arr)\n",
    "axes[1].hist(arr.flatten())\n",
    "plt.show()"
   ]
  },
  {
   "cell_type": "markdown",
   "metadata": {},
   "source": [
    "# PANDAS\n",
    "\n",
    "- Creating an empty dataframe (model abstraction data example)\n",
    "- Slice and dice\n",
    "- File i/o\n",
    "- Plotting\n",
    "- Time series handling (daterange, timedelta, etc)\n"
   ]
  },
  {
   "cell_type": "code",
   "execution_count": null,
   "metadata": {},
   "outputs": [],
   "source": [
    "import pandas as pd"
   ]
  },
  {
   "cell_type": "code",
   "execution_count": null,
   "metadata": {},
   "outputs": [],
   "source": [
    "df = pd.DataFrame(data=np.random.randn(100,5))\n",
    "df.columns = [\"col1\",\"col2\",\"col3\",\"col4\",\"col5\"]\n",
    "df.loc[10:50,[\"col1\",\"col5\"]] = np.NaN\n",
    "axes = df.plot(kind=\"scatter\",x=\"col3\",y=\"col2\")"
   ]
  },
  {
   "cell_type": "code",
   "execution_count": null,
   "metadata": {},
   "outputs": [],
   "source": [
    "df.std(axis=1).hist()"
   ]
  },
  {
   "cell_type": "code",
   "execution_count": null,
   "metadata": {},
   "outputs": [],
   "source": [
    "df.to_csv(\"df.csv\")"
   ]
  },
  {
   "cell_type": "code",
   "execution_count": null,
   "metadata": {},
   "outputs": [],
   "source": [
    "df2 = pd.read_csv(\"df.csv\",index_col=0)\n",
    "df2"
   ]
  },
  {
   "cell_type": "code",
   "execution_count": null,
   "metadata": {},
   "outputs": [],
   "source": []
  },
  {
   "cell_type": "code",
   "execution_count": null,
   "metadata": {},
   "outputs": [],
   "source": [
    "df = pd.DataFrame(data=np.random.randn(1000,5))\n",
    "df.columns = [\"col1\",\"col2\",\"col3\",\"col4\",\"col5\"]\n",
    "dr = pd.date_range(\"1-1-1990\",periods=df.shape[0],freq='d')\n",
    "df.index = dr\n",
    "df.to_csv(\"timeseries.csv\")"
   ]
  },
  {
   "cell_type": "code",
   "execution_count": null,
   "metadata": {},
   "outputs": [],
   "source": [
    "df_new = pd.read_csv(\"timeseries.csv\",parse_dates=True,index_col=0)\n",
    "#df_new.loc[:,\"col1\"].plot()"
   ]
  },
  {
   "cell_type": "code",
   "execution_count": null,
   "metadata": {},
   "outputs": [],
   "source": [
    "df_new.loc[:,\"col2_rolling\"] = df_new.rolling(window=30,center=True).mean()"
   ]
  },
  {
   "cell_type": "code",
   "execution_count": null,
   "metadata": {},
   "outputs": [],
   "source": [
    "df_new.loc[:,[\"col2\",\"col2_rolling\"]].plot()"
   ]
  },
  {
   "cell_type": "markdown",
   "metadata": {},
   "source": [
    "### DIY: create a pandas dataframe with datetime index covering  daily for 10 years starting on 5 Nov 1995.  add columns to the dataframe that are random values (extra credit for markov processes!)  plot the each column on sep axis, then plot together.  Added new columns that are the 180-day rolling mean for each original column. Plot the org and smoothed time series together on the same plot for each pair."
   ]
  },
  {
   "cell_type": "code",
   "execution_count": null,
   "metadata": {},
   "outputs": [],
   "source": []
  }
 ],
 "metadata": {
  "kernelspec": {
   "display_name": "Python 3",
   "language": "python",
   "name": "python3"
  },
  "language_info": {
   "codemirror_mode": {
    "name": "ipython",
    "version": 3
   },
   "file_extension": ".py",
   "mimetype": "text/x-python",
   "name": "python",
   "nbconvert_exporter": "python",
   "pygments_lexer": "ipython3",
   "version": "3.7.3"
  }
 },
 "nbformat": 4,
 "nbformat_minor": 2
}
