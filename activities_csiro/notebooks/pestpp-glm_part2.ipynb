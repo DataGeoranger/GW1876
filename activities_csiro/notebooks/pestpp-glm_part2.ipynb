{
 "cells": [
  {
   "cell_type": "markdown",
   "metadata": {},
   "source": [
    "# PESTPP-GLM Part 2"
   ]
  },
  {
   "cell_type": "markdown",
   "metadata": {},
   "source": [
    "In this notebook, we will actually run PESTPP-GLM in standard parameter estimation mode and regularization mode.  In both cases, we will use the baked-in bayes-linear posterior monte carlo analysis to get posterior forecast PDFs.  We will use the prior monte carlo outputs as the prior forecast PDF. We will reuse the jacobian we used for FOSM to save runs"
   ]
  },
  {
   "cell_type": "code",
   "execution_count": 1,
   "metadata": {},
   "outputs": [
    {
     "name": "stdout",
     "output_type": "stream",
     "text": [
      "flopy is installed in /Users/jeremyw/Dev/gw1876/activities_csiro/notebooks/flopy\n"
     ]
    }
   ],
   "source": [
    "%matplotlib inline\n",
    "import os\n",
    "import shutil\n",
    "import numpy as np\n",
    "import pandas as pd\n",
    "import matplotlib.pyplot as plt\n",
    "import matplotlib as mpl\n",
    "plt.rcParams['font.size']=12\n",
    "import flopy\n",
    "import pyemu\n"
   ]
  },
  {
   "cell_type": "markdown",
   "metadata": {},
   "source": [
    "## SUPER IMPORTANT: SET HOW MANY PARALLEL WORKERS TO USE"
   ]
  },
  {
   "cell_type": "code",
   "execution_count": 2,
   "metadata": {},
   "outputs": [],
   "source": [
    "num_workers = 10"
   ]
  },
  {
   "cell_type": "code",
   "execution_count": 3,
   "metadata": {},
   "outputs": [],
   "source": [
    "t_d = \"template\"\n",
    "m_d = \"master_glm_run\""
   ]
  },
  {
   "cell_type": "code",
   "execution_count": 4,
   "metadata": {},
   "outputs": [
    {
     "data": {
      "text/html": [
       "<div>\n",
       "<style scoped>\n",
       "    .dataframe tbody tr th:only-of-type {\n",
       "        vertical-align: middle;\n",
       "    }\n",
       "\n",
       "    .dataframe tbody tr th {\n",
       "        vertical-align: top;\n",
       "    }\n",
       "\n",
       "    .dataframe thead th {\n",
       "        text-align: right;\n",
       "    }\n",
       "</style>\n",
       "<table border=\"1\" class=\"dataframe\">\n",
       "  <thead>\n",
       "    <tr style=\"text-align: right;\">\n",
       "      <th></th>\n",
       "      <th>type</th>\n",
       "      <th>transform</th>\n",
       "      <th>count</th>\n",
       "      <th>initial value</th>\n",
       "      <th>upper bound</th>\n",
       "      <th>lower bound</th>\n",
       "      <th>standard deviation</th>\n",
       "    </tr>\n",
       "  </thead>\n",
       "  <tbody>\n",
       "    <tr>\n",
       "      <th>pp_prsity0</th>\n",
       "      <td>pp_prsity0</td>\n",
       "      <td>log</td>\n",
       "      <td>32</td>\n",
       "      <td>0</td>\n",
       "      <td>0.176091</td>\n",
       "      <td>-0.30103</td>\n",
       "      <td>0.11928</td>\n",
       "    </tr>\n",
       "    <tr>\n",
       "      <th>strk</th>\n",
       "      <td>strk</td>\n",
       "      <td>log</td>\n",
       "      <td>40</td>\n",
       "      <td>0</td>\n",
       "      <td>2</td>\n",
       "      <td>-2</td>\n",
       "      <td>1</td>\n",
       "    </tr>\n",
       "    <tr>\n",
       "      <th>pp_sy1</th>\n",
       "      <td>pp_sy1</td>\n",
       "      <td>log</td>\n",
       "      <td>32</td>\n",
       "      <td>0</td>\n",
       "      <td>0.243038</td>\n",
       "      <td>-0.60206</td>\n",
       "      <td>0.211275</td>\n",
       "    </tr>\n",
       "    <tr>\n",
       "      <th>cn_prsity8</th>\n",
       "      <td>cn_prsity8</td>\n",
       "      <td>log</td>\n",
       "      <td>1</td>\n",
       "      <td>0</td>\n",
       "      <td>0.176091</td>\n",
       "      <td>-0.30103</td>\n",
       "      <td>0.11928</td>\n",
       "    </tr>\n",
       "    <tr>\n",
       "      <th>gr_hk3</th>\n",
       "      <td>gr_hk3</td>\n",
       "      <td>fixed</td>\n",
       "      <td>705</td>\n",
       "      <td>1</td>\n",
       "      <td>10</td>\n",
       "      <td>0.1</td>\n",
       "      <td>2.475</td>\n",
       "    </tr>\n",
       "    <tr>\n",
       "      <th>cn_rech4</th>\n",
       "      <td>cn_rech4</td>\n",
       "      <td>log</td>\n",
       "      <td>1</td>\n",
       "      <td>0</td>\n",
       "      <td>0.0413927</td>\n",
       "      <td>-0.0457575</td>\n",
       "      <td>0.0217875</td>\n",
       "    </tr>\n",
       "    <tr>\n",
       "      <th>pp_ss2</th>\n",
       "      <td>pp_ss2</td>\n",
       "      <td>log</td>\n",
       "      <td>32</td>\n",
       "      <td>0</td>\n",
       "      <td>1</td>\n",
       "      <td>-1</td>\n",
       "      <td>0.5</td>\n",
       "    </tr>\n",
       "    <tr>\n",
       "      <th>gr_rech2</th>\n",
       "      <td>gr_rech2</td>\n",
       "      <td>fixed</td>\n",
       "      <td>705</td>\n",
       "      <td>1</td>\n",
       "      <td>1.1</td>\n",
       "      <td>0.9</td>\n",
       "      <td>0.05</td>\n",
       "    </tr>\n",
       "    <tr>\n",
       "      <th>gr_hk4</th>\n",
       "      <td>gr_hk4</td>\n",
       "      <td>fixed</td>\n",
       "      <td>705</td>\n",
       "      <td>1</td>\n",
       "      <td>10</td>\n",
       "      <td>0.1</td>\n",
       "      <td>2.475</td>\n",
       "    </tr>\n",
       "    <tr>\n",
       "      <th>pp_ss1</th>\n",
       "      <td>pp_ss1</td>\n",
       "      <td>log</td>\n",
       "      <td>32</td>\n",
       "      <td>0</td>\n",
       "      <td>1</td>\n",
       "      <td>-1</td>\n",
       "      <td>0.5</td>\n",
       "    </tr>\n",
       "    <tr>\n",
       "      <th>cn_vka7</th>\n",
       "      <td>cn_vka7</td>\n",
       "      <td>log</td>\n",
       "      <td>1</td>\n",
       "      <td>0</td>\n",
       "      <td>1</td>\n",
       "      <td>-1</td>\n",
       "      <td>0.5</td>\n",
       "    </tr>\n",
       "    <tr>\n",
       "      <th>pp_vka2</th>\n",
       "      <td>pp_vka2</td>\n",
       "      <td>fixed</td>\n",
       "      <td>32</td>\n",
       "      <td>1</td>\n",
       "      <td>10</td>\n",
       "      <td>0.1</td>\n",
       "      <td>2.475</td>\n",
       "    </tr>\n",
       "    <tr>\n",
       "      <th>cn_ss7</th>\n",
       "      <td>cn_ss7</td>\n",
       "      <td>log</td>\n",
       "      <td>1</td>\n",
       "      <td>0</td>\n",
       "      <td>1</td>\n",
       "      <td>-1</td>\n",
       "      <td>0.5</td>\n",
       "    </tr>\n",
       "    <tr>\n",
       "      <th>cn_sy8</th>\n",
       "      <td>cn_sy8</td>\n",
       "      <td>log</td>\n",
       "      <td>1</td>\n",
       "      <td>0</td>\n",
       "      <td>0.243038</td>\n",
       "      <td>-0.60206</td>\n",
       "      <td>0.211275</td>\n",
       "    </tr>\n",
       "    <tr>\n",
       "      <th>pp_rech1</th>\n",
       "      <td>pp_rech1</td>\n",
       "      <td>fixed</td>\n",
       "      <td>32</td>\n",
       "      <td>1</td>\n",
       "      <td>1.1</td>\n",
       "      <td>0.9</td>\n",
       "      <td>0.05</td>\n",
       "    </tr>\n",
       "    <tr>\n",
       "      <th>pp_prsity1</th>\n",
       "      <td>pp_prsity1</td>\n",
       "      <td>log</td>\n",
       "      <td>32</td>\n",
       "      <td>0</td>\n",
       "      <td>0.176091</td>\n",
       "      <td>-0.30103</td>\n",
       "      <td>0.11928</td>\n",
       "    </tr>\n",
       "    <tr>\n",
       "      <th>gr_hk5</th>\n",
       "      <td>gr_hk5</td>\n",
       "      <td>fixed</td>\n",
       "      <td>705</td>\n",
       "      <td>1</td>\n",
       "      <td>10</td>\n",
       "      <td>0.1</td>\n",
       "      <td>2.475</td>\n",
       "    </tr>\n",
       "    <tr>\n",
       "      <th>gr_sy5</th>\n",
       "      <td>gr_sy5</td>\n",
       "      <td>fixed</td>\n",
       "      <td>705</td>\n",
       "      <td>1</td>\n",
       "      <td>1.75</td>\n",
       "      <td>0.25</td>\n",
       "      <td>0.375</td>\n",
       "    </tr>\n",
       "    <tr>\n",
       "      <th>gr_strt4</th>\n",
       "      <td>gr_strt4</td>\n",
       "      <td>fixed</td>\n",
       "      <td>705</td>\n",
       "      <td>1</td>\n",
       "      <td>1.05</td>\n",
       "      <td>0.95</td>\n",
       "      <td>0.025</td>\n",
       "    </tr>\n",
       "    <tr>\n",
       "      <th>cn_strt7</th>\n",
       "      <td>cn_strt7</td>\n",
       "      <td>log</td>\n",
       "      <td>1</td>\n",
       "      <td>0</td>\n",
       "      <td>0.0211893</td>\n",
       "      <td>-0.0222764</td>\n",
       "      <td>0.0108664</td>\n",
       "    </tr>\n",
       "    <tr>\n",
       "      <th>pp_sy0</th>\n",
       "      <td>pp_sy0</td>\n",
       "      <td>log</td>\n",
       "      <td>32</td>\n",
       "      <td>0</td>\n",
       "      <td>0.243038</td>\n",
       "      <td>-0.60206</td>\n",
       "      <td>0.211275</td>\n",
       "    </tr>\n",
       "    <tr>\n",
       "      <th>pp_vka0</th>\n",
       "      <td>pp_vka0</td>\n",
       "      <td>fixed</td>\n",
       "      <td>32</td>\n",
       "      <td>1</td>\n",
       "      <td>10</td>\n",
       "      <td>0.1</td>\n",
       "      <td>2.475</td>\n",
       "    </tr>\n",
       "    <tr>\n",
       "      <th>gr_prsity5</th>\n",
       "      <td>gr_prsity5</td>\n",
       "      <td>fixed</td>\n",
       "      <td>705</td>\n",
       "      <td>1</td>\n",
       "      <td>1.5</td>\n",
       "      <td>0.5</td>\n",
       "      <td>0.25</td>\n",
       "    </tr>\n",
       "    <tr>\n",
       "      <th>cn_rech5</th>\n",
       "      <td>cn_rech5</td>\n",
       "      <td>log</td>\n",
       "      <td>1</td>\n",
       "      <td>0</td>\n",
       "      <td>0.0413927</td>\n",
       "      <td>-0.0457575</td>\n",
       "      <td>0.0217875</td>\n",
       "    </tr>\n",
       "    <tr>\n",
       "      <th>cn_strt6</th>\n",
       "      <td>cn_strt6</td>\n",
       "      <td>log</td>\n",
       "      <td>1</td>\n",
       "      <td>0</td>\n",
       "      <td>0.0211893</td>\n",
       "      <td>-0.0222764</td>\n",
       "      <td>0.0108664</td>\n",
       "    </tr>\n",
       "    <tr>\n",
       "      <th>cn_ss6</th>\n",
       "      <td>cn_ss6</td>\n",
       "      <td>log</td>\n",
       "      <td>1</td>\n",
       "      <td>0</td>\n",
       "      <td>1</td>\n",
       "      <td>-1</td>\n",
       "      <td>0.5</td>\n",
       "    </tr>\n",
       "    <tr>\n",
       "      <th>pp_strt2</th>\n",
       "      <td>pp_strt2</td>\n",
       "      <td>fixed</td>\n",
       "      <td>32</td>\n",
       "      <td>1</td>\n",
       "      <td>1.05</td>\n",
       "      <td>0.95</td>\n",
       "      <td>0.025</td>\n",
       "    </tr>\n",
       "    <tr>\n",
       "      <th>gr_ss3</th>\n",
       "      <td>gr_ss3</td>\n",
       "      <td>fixed</td>\n",
       "      <td>705</td>\n",
       "      <td>1</td>\n",
       "      <td>10</td>\n",
       "      <td>0.1</td>\n",
       "      <td>2.475</td>\n",
       "    </tr>\n",
       "    <tr>\n",
       "      <th>welflux</th>\n",
       "      <td>welflux</td>\n",
       "      <td>log</td>\n",
       "      <td>2</td>\n",
       "      <td>0</td>\n",
       "      <td>1</td>\n",
       "      <td>-1</td>\n",
       "      <td>0.5</td>\n",
       "    </tr>\n",
       "    <tr>\n",
       "      <th>gr_strt5</th>\n",
       "      <td>gr_strt5</td>\n",
       "      <td>fixed</td>\n",
       "      <td>705</td>\n",
       "      <td>1</td>\n",
       "      <td>1.05</td>\n",
       "      <td>0.95</td>\n",
       "      <td>0.025</td>\n",
       "    </tr>\n",
       "    <tr>\n",
       "      <th>...</th>\n",
       "      <td>...</td>\n",
       "      <td>...</td>\n",
       "      <td>...</td>\n",
       "      <td>...</td>\n",
       "      <td>...</td>\n",
       "      <td>...</td>\n",
       "      <td>...</td>\n",
       "    </tr>\n",
       "    <tr>\n",
       "      <th>flow</th>\n",
       "      <td>flow</td>\n",
       "      <td>log</td>\n",
       "      <td>1</td>\n",
       "      <td>0</td>\n",
       "      <td>0.09691</td>\n",
       "      <td>-0.124939</td>\n",
       "      <td>0.0554622</td>\n",
       "    </tr>\n",
       "    <tr>\n",
       "      <th>pp_rech0</th>\n",
       "      <td>pp_rech0</td>\n",
       "      <td>log</td>\n",
       "      <td>32</td>\n",
       "      <td>0</td>\n",
       "      <td>0.0413927</td>\n",
       "      <td>-0.0457575</td>\n",
       "      <td>0.0217875</td>\n",
       "    </tr>\n",
       "    <tr>\n",
       "      <th>pp_sy2</th>\n",
       "      <td>pp_sy2</td>\n",
       "      <td>log</td>\n",
       "      <td>32</td>\n",
       "      <td>0</td>\n",
       "      <td>0.243038</td>\n",
       "      <td>-0.60206</td>\n",
       "      <td>0.211275</td>\n",
       "    </tr>\n",
       "    <tr>\n",
       "      <th>cn_hk8</th>\n",
       "      <td>cn_hk8</td>\n",
       "      <td>log</td>\n",
       "      <td>1</td>\n",
       "      <td>0</td>\n",
       "      <td>1</td>\n",
       "      <td>-1</td>\n",
       "      <td>0.5</td>\n",
       "    </tr>\n",
       "    <tr>\n",
       "      <th>cn_hk7</th>\n",
       "      <td>cn_hk7</td>\n",
       "      <td>log</td>\n",
       "      <td>1</td>\n",
       "      <td>0</td>\n",
       "      <td>1</td>\n",
       "      <td>-1</td>\n",
       "      <td>0.5</td>\n",
       "    </tr>\n",
       "    <tr>\n",
       "      <th>pp_ss0</th>\n",
       "      <td>pp_ss0</td>\n",
       "      <td>log</td>\n",
       "      <td>32</td>\n",
       "      <td>0</td>\n",
       "      <td>1</td>\n",
       "      <td>-1</td>\n",
       "      <td>0.5</td>\n",
       "    </tr>\n",
       "    <tr>\n",
       "      <th>cn_strt8</th>\n",
       "      <td>cn_strt8</td>\n",
       "      <td>log</td>\n",
       "      <td>1</td>\n",
       "      <td>0</td>\n",
       "      <td>0.0211893</td>\n",
       "      <td>-0.0222764</td>\n",
       "      <td>0.0108664</td>\n",
       "    </tr>\n",
       "    <tr>\n",
       "      <th>gr_sy3</th>\n",
       "      <td>gr_sy3</td>\n",
       "      <td>fixed</td>\n",
       "      <td>705</td>\n",
       "      <td>1</td>\n",
       "      <td>1.75</td>\n",
       "      <td>0.25</td>\n",
       "      <td>0.375</td>\n",
       "    </tr>\n",
       "    <tr>\n",
       "      <th>cn_sy7</th>\n",
       "      <td>cn_sy7</td>\n",
       "      <td>log</td>\n",
       "      <td>1</td>\n",
       "      <td>0</td>\n",
       "      <td>0.243038</td>\n",
       "      <td>-0.60206</td>\n",
       "      <td>0.211275</td>\n",
       "    </tr>\n",
       "    <tr>\n",
       "      <th>pp_hk1</th>\n",
       "      <td>pp_hk1</td>\n",
       "      <td>log</td>\n",
       "      <td>32</td>\n",
       "      <td>0</td>\n",
       "      <td>1</td>\n",
       "      <td>-1</td>\n",
       "      <td>0.5</td>\n",
       "    </tr>\n",
       "    <tr>\n",
       "      <th>pp_strt0</th>\n",
       "      <td>pp_strt0</td>\n",
       "      <td>fixed</td>\n",
       "      <td>32</td>\n",
       "      <td>1</td>\n",
       "      <td>1.05</td>\n",
       "      <td>0.95</td>\n",
       "      <td>0.025</td>\n",
       "    </tr>\n",
       "    <tr>\n",
       "      <th>gr_sy4</th>\n",
       "      <td>gr_sy4</td>\n",
       "      <td>fixed</td>\n",
       "      <td>705</td>\n",
       "      <td>1</td>\n",
       "      <td>1.75</td>\n",
       "      <td>0.25</td>\n",
       "      <td>0.375</td>\n",
       "    </tr>\n",
       "    <tr>\n",
       "      <th>pp_vka1</th>\n",
       "      <td>pp_vka1</td>\n",
       "      <td>log</td>\n",
       "      <td>32</td>\n",
       "      <td>0</td>\n",
       "      <td>1</td>\n",
       "      <td>-1</td>\n",
       "      <td>0.5</td>\n",
       "    </tr>\n",
       "    <tr>\n",
       "      <th>pp_hk2</th>\n",
       "      <td>pp_hk2</td>\n",
       "      <td>log</td>\n",
       "      <td>32</td>\n",
       "      <td>0</td>\n",
       "      <td>1</td>\n",
       "      <td>-1</td>\n",
       "      <td>0.5</td>\n",
       "    </tr>\n",
       "    <tr>\n",
       "      <th>gr_vka4</th>\n",
       "      <td>gr_vka4</td>\n",
       "      <td>fixed</td>\n",
       "      <td>705</td>\n",
       "      <td>1</td>\n",
       "      <td>10</td>\n",
       "      <td>0.1</td>\n",
       "      <td>2.475</td>\n",
       "    </tr>\n",
       "    <tr>\n",
       "      <th>pp_strt1</th>\n",
       "      <td>pp_strt1</td>\n",
       "      <td>fixed</td>\n",
       "      <td>32</td>\n",
       "      <td>1</td>\n",
       "      <td>1.05</td>\n",
       "      <td>0.95</td>\n",
       "      <td>0.025</td>\n",
       "    </tr>\n",
       "    <tr>\n",
       "      <th>gr_rech3</th>\n",
       "      <td>gr_rech3</td>\n",
       "      <td>fixed</td>\n",
       "      <td>705</td>\n",
       "      <td>1</td>\n",
       "      <td>1.1</td>\n",
       "      <td>0.9</td>\n",
       "      <td>0.05</td>\n",
       "    </tr>\n",
       "    <tr>\n",
       "      <th>gr_prsity4</th>\n",
       "      <td>gr_prsity4</td>\n",
       "      <td>fixed</td>\n",
       "      <td>705</td>\n",
       "      <td>1</td>\n",
       "      <td>1.5</td>\n",
       "      <td>0.5</td>\n",
       "      <td>0.25</td>\n",
       "    </tr>\n",
       "    <tr>\n",
       "      <th>gr_prsity3</th>\n",
       "      <td>gr_prsity3</td>\n",
       "      <td>fixed</td>\n",
       "      <td>705</td>\n",
       "      <td>1</td>\n",
       "      <td>1.5</td>\n",
       "      <td>0.5</td>\n",
       "      <td>0.25</td>\n",
       "    </tr>\n",
       "    <tr>\n",
       "      <th>welflux_k02</th>\n",
       "      <td>welflux_k02</td>\n",
       "      <td>log</td>\n",
       "      <td>6</td>\n",
       "      <td>0</td>\n",
       "      <td>1</td>\n",
       "      <td>-1</td>\n",
       "      <td>0.5</td>\n",
       "    </tr>\n",
       "    <tr>\n",
       "      <th>cn_prsity7</th>\n",
       "      <td>cn_prsity7</td>\n",
       "      <td>log</td>\n",
       "      <td>1</td>\n",
       "      <td>0</td>\n",
       "      <td>0.176091</td>\n",
       "      <td>-0.30103</td>\n",
       "      <td>0.11928</td>\n",
       "    </tr>\n",
       "    <tr>\n",
       "      <th>pp_prsity2</th>\n",
       "      <td>pp_prsity2</td>\n",
       "      <td>log</td>\n",
       "      <td>32</td>\n",
       "      <td>0</td>\n",
       "      <td>0.176091</td>\n",
       "      <td>-0.30103</td>\n",
       "      <td>0.11928</td>\n",
       "    </tr>\n",
       "    <tr>\n",
       "      <th>cn_vka8</th>\n",
       "      <td>cn_vka8</td>\n",
       "      <td>log</td>\n",
       "      <td>1</td>\n",
       "      <td>0</td>\n",
       "      <td>1</td>\n",
       "      <td>-1</td>\n",
       "      <td>0.5</td>\n",
       "    </tr>\n",
       "    <tr>\n",
       "      <th>cn_sy6</th>\n",
       "      <td>cn_sy6</td>\n",
       "      <td>log</td>\n",
       "      <td>1</td>\n",
       "      <td>0</td>\n",
       "      <td>0.243038</td>\n",
       "      <td>-0.60206</td>\n",
       "      <td>0.211275</td>\n",
       "    </tr>\n",
       "    <tr>\n",
       "      <th>gr_vka3</th>\n",
       "      <td>gr_vka3</td>\n",
       "      <td>fixed</td>\n",
       "      <td>705</td>\n",
       "      <td>1</td>\n",
       "      <td>10</td>\n",
       "      <td>0.1</td>\n",
       "      <td>2.475</td>\n",
       "    </tr>\n",
       "    <tr>\n",
       "      <th>cn_hk6</th>\n",
       "      <td>cn_hk6</td>\n",
       "      <td>log</td>\n",
       "      <td>1</td>\n",
       "      <td>0</td>\n",
       "      <td>1</td>\n",
       "      <td>-1</td>\n",
       "      <td>0.5</td>\n",
       "    </tr>\n",
       "    <tr>\n",
       "      <th>gr_vka5</th>\n",
       "      <td>gr_vka5</td>\n",
       "      <td>fixed</td>\n",
       "      <td>705</td>\n",
       "      <td>1</td>\n",
       "      <td>10</td>\n",
       "      <td>0.1</td>\n",
       "      <td>2.475</td>\n",
       "    </tr>\n",
       "    <tr>\n",
       "      <th>gr_ss4</th>\n",
       "      <td>gr_ss4</td>\n",
       "      <td>fixed</td>\n",
       "      <td>705</td>\n",
       "      <td>1</td>\n",
       "      <td>10</td>\n",
       "      <td>0.1</td>\n",
       "      <td>2.475</td>\n",
       "    </tr>\n",
       "    <tr>\n",
       "      <th>pp_hk0</th>\n",
       "      <td>pp_hk0</td>\n",
       "      <td>log</td>\n",
       "      <td>32</td>\n",
       "      <td>0</td>\n",
       "      <td>1</td>\n",
       "      <td>-1</td>\n",
       "      <td>0.5</td>\n",
       "    </tr>\n",
       "    <tr>\n",
       "      <th>cn_vka6</th>\n",
       "      <td>cn_vka6</td>\n",
       "      <td>log</td>\n",
       "      <td>1</td>\n",
       "      <td>0</td>\n",
       "      <td>1</td>\n",
       "      <td>-1</td>\n",
       "      <td>0.5</td>\n",
       "    </tr>\n",
       "  </tbody>\n",
       "</table>\n",
       "<p>65 rows × 7 columns</p>\n",
       "</div>"
      ],
      "text/plain": [
       "                    type transform  count initial value upper bound  \\\n",
       "pp_prsity0    pp_prsity0       log     32             0    0.176091   \n",
       "strk                strk       log     40             0           2   \n",
       "pp_sy1            pp_sy1       log     32             0    0.243038   \n",
       "cn_prsity8    cn_prsity8       log      1             0    0.176091   \n",
       "gr_hk3            gr_hk3     fixed    705             1          10   \n",
       "cn_rech4        cn_rech4       log      1             0   0.0413927   \n",
       "pp_ss2            pp_ss2       log     32             0           1   \n",
       "gr_rech2        gr_rech2     fixed    705             1         1.1   \n",
       "gr_hk4            gr_hk4     fixed    705             1          10   \n",
       "pp_ss1            pp_ss1       log     32             0           1   \n",
       "cn_vka7          cn_vka7       log      1             0           1   \n",
       "pp_vka2          pp_vka2     fixed     32             1          10   \n",
       "cn_ss7            cn_ss7       log      1             0           1   \n",
       "cn_sy8            cn_sy8       log      1             0    0.243038   \n",
       "pp_rech1        pp_rech1     fixed     32             1         1.1   \n",
       "pp_prsity1    pp_prsity1       log     32             0    0.176091   \n",
       "gr_hk5            gr_hk5     fixed    705             1          10   \n",
       "gr_sy5            gr_sy5     fixed    705             1        1.75   \n",
       "gr_strt4        gr_strt4     fixed    705             1        1.05   \n",
       "cn_strt7        cn_strt7       log      1             0   0.0211893   \n",
       "pp_sy0            pp_sy0       log     32             0    0.243038   \n",
       "pp_vka0          pp_vka0     fixed     32             1          10   \n",
       "gr_prsity5    gr_prsity5     fixed    705             1         1.5   \n",
       "cn_rech5        cn_rech5       log      1             0   0.0413927   \n",
       "cn_strt6        cn_strt6       log      1             0   0.0211893   \n",
       "cn_ss6            cn_ss6       log      1             0           1   \n",
       "pp_strt2        pp_strt2     fixed     32             1        1.05   \n",
       "gr_ss3            gr_ss3     fixed    705             1          10   \n",
       "welflux          welflux       log      2             0           1   \n",
       "gr_strt5        gr_strt5     fixed    705             1        1.05   \n",
       "...                  ...       ...    ...           ...         ...   \n",
       "flow                flow       log      1             0     0.09691   \n",
       "pp_rech0        pp_rech0       log     32             0   0.0413927   \n",
       "pp_sy2            pp_sy2       log     32             0    0.243038   \n",
       "cn_hk8            cn_hk8       log      1             0           1   \n",
       "cn_hk7            cn_hk7       log      1             0           1   \n",
       "pp_ss0            pp_ss0       log     32             0           1   \n",
       "cn_strt8        cn_strt8       log      1             0   0.0211893   \n",
       "gr_sy3            gr_sy3     fixed    705             1        1.75   \n",
       "cn_sy7            cn_sy7       log      1             0    0.243038   \n",
       "pp_hk1            pp_hk1       log     32             0           1   \n",
       "pp_strt0        pp_strt0     fixed     32             1        1.05   \n",
       "gr_sy4            gr_sy4     fixed    705             1        1.75   \n",
       "pp_vka1          pp_vka1       log     32             0           1   \n",
       "pp_hk2            pp_hk2       log     32             0           1   \n",
       "gr_vka4          gr_vka4     fixed    705             1          10   \n",
       "pp_strt1        pp_strt1     fixed     32             1        1.05   \n",
       "gr_rech3        gr_rech3     fixed    705             1         1.1   \n",
       "gr_prsity4    gr_prsity4     fixed    705             1         1.5   \n",
       "gr_prsity3    gr_prsity3     fixed    705             1         1.5   \n",
       "welflux_k02  welflux_k02       log      6             0           1   \n",
       "cn_prsity7    cn_prsity7       log      1             0    0.176091   \n",
       "pp_prsity2    pp_prsity2       log     32             0    0.176091   \n",
       "cn_vka8          cn_vka8       log      1             0           1   \n",
       "cn_sy6            cn_sy6       log      1             0    0.243038   \n",
       "gr_vka3          gr_vka3     fixed    705             1          10   \n",
       "cn_hk6            cn_hk6       log      1             0           1   \n",
       "gr_vka5          gr_vka5     fixed    705             1          10   \n",
       "gr_ss4            gr_ss4     fixed    705             1          10   \n",
       "pp_hk0            pp_hk0       log     32             0           1   \n",
       "cn_vka6          cn_vka6       log      1             0           1   \n",
       "\n",
       "            lower bound standard deviation  \n",
       "pp_prsity0     -0.30103            0.11928  \n",
       "strk                 -2                  1  \n",
       "pp_sy1         -0.60206           0.211275  \n",
       "cn_prsity8     -0.30103            0.11928  \n",
       "gr_hk3              0.1              2.475  \n",
       "cn_rech4     -0.0457575          0.0217875  \n",
       "pp_ss2               -1                0.5  \n",
       "gr_rech2            0.9               0.05  \n",
       "gr_hk4              0.1              2.475  \n",
       "pp_ss1               -1                0.5  \n",
       "cn_vka7              -1                0.5  \n",
       "pp_vka2             0.1              2.475  \n",
       "cn_ss7               -1                0.5  \n",
       "cn_sy8         -0.60206           0.211275  \n",
       "pp_rech1            0.9               0.05  \n",
       "pp_prsity1     -0.30103            0.11928  \n",
       "gr_hk5              0.1              2.475  \n",
       "gr_sy5             0.25              0.375  \n",
       "gr_strt4           0.95              0.025  \n",
       "cn_strt7     -0.0222764          0.0108664  \n",
       "pp_sy0         -0.60206           0.211275  \n",
       "pp_vka0             0.1              2.475  \n",
       "gr_prsity5          0.5               0.25  \n",
       "cn_rech5     -0.0457575          0.0217875  \n",
       "cn_strt6     -0.0222764          0.0108664  \n",
       "cn_ss6               -1                0.5  \n",
       "pp_strt2           0.95              0.025  \n",
       "gr_ss3              0.1              2.475  \n",
       "welflux              -1                0.5  \n",
       "gr_strt5           0.95              0.025  \n",
       "...                 ...                ...  \n",
       "flow          -0.124939          0.0554622  \n",
       "pp_rech0     -0.0457575          0.0217875  \n",
       "pp_sy2         -0.60206           0.211275  \n",
       "cn_hk8               -1                0.5  \n",
       "cn_hk7               -1                0.5  \n",
       "pp_ss0               -1                0.5  \n",
       "cn_strt8     -0.0222764          0.0108664  \n",
       "gr_sy3             0.25              0.375  \n",
       "cn_sy7         -0.60206           0.211275  \n",
       "pp_hk1               -1                0.5  \n",
       "pp_strt0           0.95              0.025  \n",
       "gr_sy4             0.25              0.375  \n",
       "pp_vka1              -1                0.5  \n",
       "pp_hk2               -1                0.5  \n",
       "gr_vka4             0.1              2.475  \n",
       "pp_strt1           0.95              0.025  \n",
       "gr_rech3            0.9               0.05  \n",
       "gr_prsity4          0.5               0.25  \n",
       "gr_prsity3          0.5               0.25  \n",
       "welflux_k02          -1                0.5  \n",
       "cn_prsity7     -0.30103            0.11928  \n",
       "pp_prsity2     -0.30103            0.11928  \n",
       "cn_vka8              -1                0.5  \n",
       "cn_sy6         -0.60206           0.211275  \n",
       "gr_vka3             0.1              2.475  \n",
       "cn_hk6               -1                0.5  \n",
       "gr_vka5             0.1              2.475  \n",
       "gr_ss4              0.1              2.475  \n",
       "pp_hk0               -1                0.5  \n",
       "cn_vka6              -1                0.5  \n",
       "\n",
       "[65 rows x 7 columns]"
      ]
     },
     "execution_count": 4,
     "metadata": {},
     "output_type": "execute_result"
    }
   ],
   "source": [
    "pst = pyemu.Pst(os.path.join(t_d,\"freyberg_pp.pst\"))\n",
    "pst.write_par_summary_table(filename=\"none\")"
   ]
  },
  {
   "cell_type": "markdown",
   "metadata": {},
   "source": [
    "Load and extract the portion of the prior we need for FOSM"
   ]
  },
  {
   "cell_type": "code",
   "execution_count": 5,
   "metadata": {},
   "outputs": [
    {
     "name": "stdout",
     "output_type": "stream",
     "text": [
      "new binary format detected...\n"
     ]
    }
   ],
   "source": [
    "cov = pyemu.Cov.from_binary(os.path.join(t_d,\"prior_cov.jcb\"))\n",
    "cov.get(pst.adj_par_names).to_ascii(os.path.join(t_d,\"glm_prior.cov\"))"
   ]
  },
  {
   "cell_type": "markdown",
   "metadata": {},
   "source": [
    " set some control options"
   ]
  },
  {
   "cell_type": "code",
   "execution_count": 6,
   "metadata": {},
   "outputs": [
    {
     "name": "stdout",
     "output_type": "stream",
     "text": [
      "noptmax:3, npar_adj:527, nnz_obs:14\n"
     ]
    }
   ],
   "source": [
    "pst.control_data.noptmax = 3\n",
    "pst.pestpp_options[\"n_iter_base\"] = -1\n",
    "pst.pestpp_options[\"n_iter_super\"] = 3\n",
    "pst.pestpp_options[\"num_reals\"] = 50 # this is how many ies uses\n",
    "pst.pestpp_options[\"parcov\"] = \"glm_prior.cov\"\n",
    "pst.pestpp_options[\"base_jacobian\"] = \"freyberg_reuse.jcb\"\n",
    "pst.write(os.path.join(t_d,\"freyberg_pp.pst\"))"
   ]
  },
  {
   "cell_type": "code",
   "execution_count": 7,
   "metadata": {},
   "outputs": [
    {
     "data": {
      "text/plain": [
       "'template/freyberg_reuse.jcb'"
      ]
     },
     "execution_count": 7,
     "metadata": {},
     "output_type": "execute_result"
    }
   ],
   "source": [
    "shutil.copy2(os.path.join(\"master_glm\",\"freyberg_pp.jcb\"),os.path.join(t_d,\"freyberg_reuse.jcb\"))"
   ]
  },
  {
   "cell_type": "code",
   "execution_count": 8,
   "metadata": {},
   "outputs": [],
   "source": [
    "pyemu.os_utils.start_slaves(t_d,\"pestpp-glm\",\"freyberg_pp.pst\",num_slaves=num_workers,slave_root=\".\",\n",
    "                           master_dir=m_d)"
   ]
  },
  {
   "cell_type": "code",
   "execution_count": 9,
   "metadata": {},
   "outputs": [],
   "source": [
    "df = df=pd.read_csv(os.path.join(m_d,\"freyberg_pp.post.obsen.csv\"),index_col=0)\n",
    "oe = pyemu.ObservationEnsemble.from_dataframe(pst=pst,df=df)"
   ]
  },
  {
   "cell_type": "code",
   "execution_count": 10,
   "metadata": {},
   "outputs": [
    {
     "data": {
      "text/plain": [
       "real_name\n",
       "38     20.252546\n",
       "15     21.726850\n",
       "22     28.468621\n",
       "5      40.663327\n",
       "0      44.486239\n",
       "1      46.335243\n",
       "31     48.602332\n",
       "41     50.931394\n",
       "26     52.593058\n",
       "6      53.499512\n",
       "12     76.266670\n",
       "18     81.114914\n",
       "48     83.017110\n",
       "2      88.304519\n",
       "43     88.344489\n",
       "10     89.887594\n",
       "23     94.466519\n",
       "24    105.041303\n",
       "37    112.244877\n",
       "49    116.235441\n",
       "dtype: float64"
      ]
     },
     "execution_count": 10,
     "metadata": {},
     "output_type": "execute_result"
    },
    {
     "data": {
      "image/png": "[encoded data removed]",
      "text/plain": [
       "<Figure size 432x288 with 1 Axes>"
      ]
     },
     "metadata": {
      "needs_background": "light"
     },
     "output_type": "display_data"
    }
   ],
   "source": [
    "ax = oe.phi_vector.hist()#bins=np.linspace(0,100,20))\n",
    "oe.phi_vector.sort_values().iloc[:20]"
   ]
  },
  {
   "cell_type": "markdown",
   "metadata": {},
   "source": [
    "Here we see the distribution of phi values across the 100 posterior realizations.  Should we accept all of these???  The theoretical phi we should accept is number of nonzero obs (14)."
   ]
  },
  {
   "cell_type": "markdown",
   "metadata": {},
   "source": [
    "To get a \"posterior\" ensemble, we need to throw out the realizations with large phi - lets just take the 20 best:"
   ]
  },
  {
   "cell_type": "code",
   "execution_count": 11,
   "metadata": {},
   "outputs": [],
   "source": [
    "oe_pt = oe.loc[oe.phi_vector.sort_values().index[:20],:] #just take the 20 lowest phi realizations"
   ]
  },
  {
   "cell_type": "markdown",
   "metadata": {},
   "source": [
    "We can also load and plot the FOSM forecast results along side of the ensemble results:"
   ]
  },
  {
   "cell_type": "code",
   "execution_count": 12,
   "metadata": {},
   "outputs": [
    {
     "data": {
      "text/html": [
       "<div>\n",
       "<style scoped>\n",
       "    .dataframe tbody tr th:only-of-type {\n",
       "        vertical-align: middle;\n",
       "    }\n",
       "\n",
       "    .dataframe tbody tr th {\n",
       "        vertical-align: top;\n",
       "    }\n",
       "\n",
       "    .dataframe thead th {\n",
       "        text-align: right;\n",
       "    }\n",
       "</style>\n",
       "<table border=\"1\" class=\"dataframe\">\n",
       "  <thead>\n",
       "    <tr style=\"text-align: right;\">\n",
       "      <th></th>\n",
       "      <th>prior_mean</th>\n",
       "      <th>prior_stdev</th>\n",
       "      <th>prior_lower_bound</th>\n",
       "      <th>prior_upper_bound</th>\n",
       "      <th>post_mean</th>\n",
       "      <th>post_stdev</th>\n",
       "      <th>post_lower_bound</th>\n",
       "      <th>post_upper_bound</th>\n",
       "    </tr>\n",
       "    <tr>\n",
       "      <th>name</th>\n",
       "      <th></th>\n",
       "      <th></th>\n",
       "      <th></th>\n",
       "      <th></th>\n",
       "      <th></th>\n",
       "      <th></th>\n",
       "      <th></th>\n",
       "      <th></th>\n",
       "    </tr>\n",
       "  </thead>\n",
       "  <tbody>\n",
       "    <tr>\n",
       "      <th>fa_hw_19791230</th>\n",
       "      <td>-977.2390</td>\n",
       "      <td>359.20800</td>\n",
       "      <td>-1695.65000</td>\n",
       "      <td>-258.8230</td>\n",
       "      <td>-489.5030</td>\n",
       "      <td>217.519000</td>\n",
       "      <td>-924.5410</td>\n",
       "      <td>-54.4663</td>\n",
       "    </tr>\n",
       "    <tr>\n",
       "      <th>fa_hw_19801229</th>\n",
       "      <td>-500.5320</td>\n",
       "      <td>589.30900</td>\n",
       "      <td>-1679.15000</td>\n",
       "      <td>678.0860</td>\n",
       "      <td>149.9420</td>\n",
       "      <td>525.460000</td>\n",
       "      <td>-900.9780</td>\n",
       "      <td>1200.8600</td>\n",
       "    </tr>\n",
       "    <tr>\n",
       "      <th>fa_tw_19791230</th>\n",
       "      <td>-453.0330</td>\n",
       "      <td>414.90700</td>\n",
       "      <td>-1282.85000</td>\n",
       "      <td>376.7810</td>\n",
       "      <td>-413.4270</td>\n",
       "      <td>143.861000</td>\n",
       "      <td>-701.1500</td>\n",
       "      <td>-125.7050</td>\n",
       "    </tr>\n",
       "    <tr>\n",
       "      <th>fa_tw_19801229</th>\n",
       "      <td>-11.2061</td>\n",
       "      <td>610.23700</td>\n",
       "      <td>-1231.68000</td>\n",
       "      <td>1209.2700</td>\n",
       "      <td>28.3350</td>\n",
       "      <td>467.609000</td>\n",
       "      <td>-906.8820</td>\n",
       "      <td>963.5520</td>\n",
       "    </tr>\n",
       "    <tr>\n",
       "      <th>hds_00_013_002_000</th>\n",
       "      <td>39.6102</td>\n",
       "      <td>2.76268</td>\n",
       "      <td>34.08490</td>\n",
       "      <td>45.1356</td>\n",
       "      <td>37.7875</td>\n",
       "      <td>0.299594</td>\n",
       "      <td>37.1883</td>\n",
       "      <td>38.3867</td>\n",
       "    </tr>\n",
       "    <tr>\n",
       "      <th>hds_00_013_002_001</th>\n",
       "      <td>39.0079</td>\n",
       "      <td>2.91274</td>\n",
       "      <td>33.18250</td>\n",
       "      <td>44.8334</td>\n",
       "      <td>37.1447</td>\n",
       "      <td>0.410993</td>\n",
       "      <td>36.3227</td>\n",
       "      <td>37.9667</td>\n",
       "    </tr>\n",
       "    <tr>\n",
       "      <th>part_status</th>\n",
       "      <td>2.0000</td>\n",
       "      <td>0.00000</td>\n",
       "      <td>2.00000</td>\n",
       "      <td>2.0000</td>\n",
       "      <td>2.0000</td>\n",
       "      <td>0.000000</td>\n",
       "      <td>2.0000</td>\n",
       "      <td>2.0000</td>\n",
       "    </tr>\n",
       "    <tr>\n",
       "      <th>part_time</th>\n",
       "      <td>907.7020</td>\n",
       "      <td>458.56200</td>\n",
       "      <td>-9.42189</td>\n",
       "      <td>1824.8300</td>\n",
       "      <td>890.3290</td>\n",
       "      <td>336.786000</td>\n",
       "      <td>216.7570</td>\n",
       "      <td>1563.9000</td>\n",
       "    </tr>\n",
       "  </tbody>\n",
       "</table>\n",
       "</div>"
      ],
      "text/plain": [
       "                    prior_mean  prior_stdev  prior_lower_bound  \\\n",
       "name                                                             \n",
       "fa_hw_19791230       -977.2390    359.20800        -1695.65000   \n",
       "fa_hw_19801229       -500.5320    589.30900        -1679.15000   \n",
       "fa_tw_19791230       -453.0330    414.90700        -1282.85000   \n",
       "fa_tw_19801229        -11.2061    610.23700        -1231.68000   \n",
       "hds_00_013_002_000     39.6102      2.76268           34.08490   \n",
       "hds_00_013_002_001     39.0079      2.91274           33.18250   \n",
       "part_status             2.0000      0.00000            2.00000   \n",
       "part_time             907.7020    458.56200           -9.42189   \n",
       "\n",
       "                    prior_upper_bound  post_mean  post_stdev  \\\n",
       "name                                                           \n",
       "fa_hw_19791230              -258.8230  -489.5030  217.519000   \n",
       "fa_hw_19801229               678.0860   149.9420  525.460000   \n",
       "fa_tw_19791230               376.7810  -413.4270  143.861000   \n",
       "fa_tw_19801229              1209.2700    28.3350  467.609000   \n",
       "hds_00_013_002_000            45.1356    37.7875    0.299594   \n",
       "hds_00_013_002_001            44.8334    37.1447    0.410993   \n",
       "part_status                    2.0000     2.0000    0.000000   \n",
       "part_time                   1824.8300   890.3290  336.786000   \n",
       "\n",
       "                    post_lower_bound  post_upper_bound  \n",
       "name                                                    \n",
       "fa_hw_19791230             -924.5410          -54.4663  \n",
       "fa_hw_19801229             -900.9780         1200.8600  \n",
       "fa_tw_19791230             -701.1500         -125.7050  \n",
       "fa_tw_19801229             -906.8820          963.5520  \n",
       "hds_00_013_002_000           37.1883           38.3867  \n",
       "hds_00_013_002_001           36.3227           37.9667  \n",
       "part_status                   2.0000            2.0000  \n",
       "part_time                   216.7570         1563.9000  "
      ]
     },
     "execution_count": 12,
     "metadata": {},
     "output_type": "execute_result"
    }
   ],
   "source": [
    "f_df = pd.read_csv(os.path.join(m_d,\"freyberg_pp.pred.usum.csv\"),index_col=0)\n",
    "f_df.index = f_df.index.map(str.lower)\n",
    "f_df"
   ]
  },
  {
   "cell_type": "code",
   "execution_count": 13,
   "metadata": {
    "scrolled": false
   },
   "outputs": [
    {
     "data": {
      "image/png": "[encoded data removed]",
      "text/plain": [
       "<Figure size 432x288 with 2 Axes>"
      ]
     },
     "metadata": {
      "needs_background": "light"
     },
     "output_type": "display_data"
    },
    {
     "data": {
      "image/png": "[encoded data removed]",
      "text/plain": [
       "<Figure size 432x288 with 2 Axes>"
      ]
     },
     "metadata": {
      "needs_background": "light"
     },
     "output_type": "display_data"
    },
    {
     "data": {
      "image/png": "[encoded data removed]",
      "text/plain": [
       "<Figure size 432x288 with 2 Axes>"
      ]
     },
     "metadata": {
      "needs_background": "light"
     },
     "output_type": "display_data"
    },
    {
     "data": {
      "image/png": "[encoded data removed]",
      "text/plain": [
       "<Figure size 432x288 with 2 Axes>"
      ]
     },
     "metadata": {
      "needs_background": "light"
     },
     "output_type": "display_data"
    },
    {
     "data": {
      "image/png": "[encoded data removed]",
      "text/plain": [
       "<Figure size 432x288 with 2 Axes>"
      ]
     },
     "metadata": {
      "needs_background": "light"
     },
     "output_type": "display_data"
    },
    {
     "data": {
      "image/png": "[encoded data removed]",
      "text/plain": [
       "<Figure size 432x288 with 2 Axes>"
      ]
     },
     "metadata": {
      "needs_background": "light"
     },
     "output_type": "display_data"
    },
    {
     "data": {
      "image/png": "[encoded data removed]",
      "text/plain": [
       "<Figure size 432x288 with 2 Axes>"
      ]
     },
     "metadata": {
      "needs_background": "light"
     },
     "output_type": "display_data"
    },
    {
     "data": {
      "image/png": "[encoded data removed]",
      "text/plain": [
       "<Figure size 432x288 with 2 Axes>"
      ]
     },
     "metadata": {
      "needs_background": "light"
     },
     "output_type": "display_data"
    }
   ],
   "source": [
    "obs = pst.observation_data\n",
    "fnames = pst.pestpp_options[\"forecasts\"].split(\",\")\n",
    "for forecast in fnames:\n",
    "    ax = plt.subplot(111)\n",
    "    oe_pt.loc[:,forecast].hist(ax=ax,color=\"b\",alpha=0.5,normed=True)\n",
    "    ax.plot([obs.loc[forecast,\"obsval\"],obs.loc[forecast,\"obsval\"]],ax.get_ylim(),\"r\")\n",
    "    axt = plt.twinx()\n",
    "    x,y = pyemu.plot_utils.gaussian_distribution(f_df.loc[forecast,\"prior_mean\"],f_df.loc[forecast,\"prior_stdev\"])\n",
    "    axt.fill_between(x,0,y,facecolor=\"0.5\",alpha=0.25)\n",
    "    x,y = pyemu.plot_utils.gaussian_distribution(f_df.loc[forecast,\"post_mean\"],f_df.loc[forecast,\"post_stdev\"])\n",
    "    axt.fill_between(x,0,y,facecolor=\"b\",alpha=0.25)\n",
    "    axt.set_ylim(0,axt.get_ylim()[1])\n",
    "    axt.set_yticks([])\n",
    "    ax.set_title(forecast)\n",
    "    plt.show()"
   ]
  },
  {
   "cell_type": "markdown",
   "metadata": {},
   "source": [
    "### Setup of Tikhonov regularization\n",
    "\n",
    "Now lets setup and use some formal regularization to bring the final phi up to around 14.  We will use first-order regularization based on the covariance matrix we build earlier:"
   ]
  },
  {
   "cell_type": "code",
   "execution_count": 14,
   "metadata": {},
   "outputs": [],
   "source": [
    "cov = pyemu.Cov.from_ascii(os.path.join(t_d,\"glm_prior.cov\"))"
   ]
  },
  {
   "cell_type": "code",
   "execution_count": 15,
   "metadata": {},
   "outputs": [
    {
     "name": "stdout",
     "output_type": "stream",
     "text": [
      "getting CC matrix\n",
      "processing\n"
     ]
    }
   ],
   "source": [
    "pyemu.helpers.first_order_pearson_tikhonov(pst,cov)"
   ]
  },
  {
   "cell_type": "code",
   "execution_count": 16,
   "metadata": {},
   "outputs": [
    {
     "data": {
      "text/html": [
       "<div>\n",
       "<style scoped>\n",
       "    .dataframe tbody tr th:only-of-type {\n",
       "        vertical-align: middle;\n",
       "    }\n",
       "\n",
       "    .dataframe tbody tr th {\n",
       "        vertical-align: top;\n",
       "    }\n",
       "\n",
       "    .dataframe thead th {\n",
       "        text-align: right;\n",
       "    }\n",
       "</style>\n",
       "<table border=\"1\" class=\"dataframe\">\n",
       "  <thead>\n",
       "    <tr style=\"text-align: right;\">\n",
       "      <th></th>\n",
       "      <th>equation</th>\n",
       "      <th>obgnme</th>\n",
       "      <th>pilbl</th>\n",
       "      <th>weight</th>\n",
       "    </tr>\n",
       "    <tr>\n",
       "      <th>pilbl</th>\n",
       "      <th></th>\n",
       "      <th></th>\n",
       "      <th></th>\n",
       "      <th></th>\n",
       "    </tr>\n",
       "  </thead>\n",
       "  <tbody>\n",
       "    <tr>\n",
       "      <th>pcc_1</th>\n",
       "      <td>1.0 * log(dc0000390005) - 1.0 * log(dc0000390006) = 0.0</td>\n",
       "      <td>regul_cc</td>\n",
       "      <td>pcc_1</td>\n",
       "      <td>0.904837</td>\n",
       "    </tr>\n",
       "    <tr>\n",
       "      <th>pcc_10</th>\n",
       "      <td>1.0 * log(dc0000390006) - 1.0 * log(dc0000390007) = 0.0</td>\n",
       "      <td>regul_cc</td>\n",
       "      <td>pcc_10</td>\n",
       "      <td>0.904837</td>\n",
       "    </tr>\n",
       "    <tr>\n",
       "      <th>pcc_43</th>\n",
       "      <td>1.0 * log(dc0000390012) - 1.0 * log(dc0000390013) = 0.0</td>\n",
       "      <td>regul_cc</td>\n",
       "      <td>pcc_43</td>\n",
       "      <td>0.904837</td>\n",
       "    </tr>\n",
       "    <tr>\n",
       "      <th>pcc_40</th>\n",
       "      <td>1.0 * log(dc0000390011) - 1.0 * log(dc0000390012) = 0.0</td>\n",
       "      <td>regul_cc</td>\n",
       "      <td>pcc_40</td>\n",
       "      <td>0.904837</td>\n",
       "    </tr>\n",
       "    <tr>\n",
       "      <th>pcc_36</th>\n",
       "      <td>1.0 * log(dc0000390010) - 1.0 * log(dc0000390011) = 0.0</td>\n",
       "      <td>regul_cc</td>\n",
       "      <td>pcc_36</td>\n",
       "      <td>0.904837</td>\n",
       "    </tr>\n",
       "  </tbody>\n",
       "</table>\n",
       "</div>"
      ],
      "text/plain": [
       "                                                       equation    obgnme  \\\n",
       "pilbl                                                                       \n",
       "pcc_1   1.0 * log(dc0000390005) - 1.0 * log(dc0000390006) = 0.0  regul_cc   \n",
       "pcc_10  1.0 * log(dc0000390006) - 1.0 * log(dc0000390007) = 0.0  regul_cc   \n",
       "pcc_43  1.0 * log(dc0000390012) - 1.0 * log(dc0000390013) = 0.0  regul_cc   \n",
       "pcc_40  1.0 * log(dc0000390011) - 1.0 * log(dc0000390012) = 0.0  regul_cc   \n",
       "pcc_36  1.0 * log(dc0000390010) - 1.0 * log(dc0000390011) = 0.0  regul_cc   \n",
       "\n",
       "         pilbl    weight  \n",
       "pilbl                     \n",
       "pcc_1    pcc_1  0.904837  \n",
       "pcc_10  pcc_10  0.904837  \n",
       "pcc_43  pcc_43  0.904837  \n",
       "pcc_40  pcc_40  0.904837  \n",
       "pcc_36  pcc_36  0.904837  "
      ]
     },
     "execution_count": 16,
     "metadata": {},
     "output_type": "execute_result"
    }
   ],
   "source": [
    "pst.prior_information.sort_values(by=\"weight\",ascending=False).head()"
   ]
  },
  {
   "cell_type": "code",
   "execution_count": 17,
   "metadata": {},
   "outputs": [
    {
     "name": "stdout",
     "output_type": "stream",
     "text": [
      "noptmax:3, npar_adj:527, nnz_obs:14\n"
     ]
    }
   ],
   "source": [
    "pst.reg_data.phimlim = pst.nnz_obs\n",
    "pst.reg_data.phimaccept = pst.reg_data.phimlim * 1.1\n",
    "pst.write(os.path.join(t_d,\"freyberg_pp.pst\"))"
   ]
  },
  {
   "cell_type": "code",
   "execution_count": 18,
   "metadata": {},
   "outputs": [],
   "source": [
    "pyemu.os_utils.start_slaves(t_d,\"pestpp-glm\",\"freyberg_pp.pst\",num_slaves=num_workers,slave_root=\".\",\n",
    "                           master_dir=m_d)"
   ]
  },
  {
   "cell_type": "code",
   "execution_count": 19,
   "metadata": {},
   "outputs": [],
   "source": [
    "df = df=pd.read_csv(os.path.join(m_d,\"freyberg_pp.post.obsen.csv\"),index_col=0)\n",
    "oe = pyemu.ObservationEnsemble.from_dataframe(pst=pst,df=df)"
   ]
  },
  {
   "cell_type": "code",
   "execution_count": 20,
   "metadata": {},
   "outputs": [
    {
     "data": {
      "text/plain": [
       "real_name\n",
       "38     28.033506\n",
       "15     31.285081\n",
       "43     37.305393\n",
       "22     37.328963\n",
       "0      38.684235\n",
       "35     40.693600\n",
       "31     43.121395\n",
       "1      44.106285\n",
       "5      49.328534\n",
       "12     50.396984\n",
       "48     55.666585\n",
       "18     59.618114\n",
       "46     62.342003\n",
       "42     64.014081\n",
       "44     66.322496\n",
       "26     69.195631\n",
       "6      79.017769\n",
       "41     97.523164\n",
       "37    100.319933\n",
       "2     108.258736\n",
       "dtype: float64"
      ]
     },
     "execution_count": 20,
     "metadata": {},
     "output_type": "execute_result"
    },
    {
     "data": {
      "image/png": "[encoded data removed]",
      "text/plain": [
       "<Figure size 432x288 with 1 Axes>"
      ]
     },
     "metadata": {
      "needs_background": "light"
     },
     "output_type": "display_data"
    }
   ],
   "source": [
    "ax = oe.phi_vector.hist()#bins=np.linspace(0,100,20))\n",
    "oe.phi_vector.sort_values().iloc[:20]"
   ]
  },
  {
   "cell_type": "markdown",
   "metadata": {},
   "source": [
    "Same as before, to get a \"posterior\" ensemble, we need to throw out the realizations with large phi - lets just take the 20 best:"
   ]
  },
  {
   "cell_type": "code",
   "execution_count": 21,
   "metadata": {},
   "outputs": [],
   "source": [
    "oe_pt = oe.loc[oe.phi_vector.sort_values().index[:20],:] "
   ]
  },
  {
   "cell_type": "code",
   "execution_count": 22,
   "metadata": {},
   "outputs": [
    {
     "data": {
      "text/html": [
       "<div>\n",
       "<style scoped>\n",
       "    .dataframe tbody tr th:only-of-type {\n",
       "        vertical-align: middle;\n",
       "    }\n",
       "\n",
       "    .dataframe tbody tr th {\n",
       "        vertical-align: top;\n",
       "    }\n",
       "\n",
       "    .dataframe thead th {\n",
       "        text-align: right;\n",
       "    }\n",
       "</style>\n",
       "<table border=\"1\" class=\"dataframe\">\n",
       "  <thead>\n",
       "    <tr style=\"text-align: right;\">\n",
       "      <th></th>\n",
       "      <th>prior_mean</th>\n",
       "      <th>prior_stdev</th>\n",
       "      <th>prior_lower_bound</th>\n",
       "      <th>prior_upper_bound</th>\n",
       "      <th>post_mean</th>\n",
       "      <th>post_stdev</th>\n",
       "      <th>post_lower_bound</th>\n",
       "      <th>post_upper_bound</th>\n",
       "    </tr>\n",
       "    <tr>\n",
       "      <th>name</th>\n",
       "      <th></th>\n",
       "      <th></th>\n",
       "      <th></th>\n",
       "      <th></th>\n",
       "      <th></th>\n",
       "      <th></th>\n",
       "      <th></th>\n",
       "      <th></th>\n",
       "    </tr>\n",
       "  </thead>\n",
       "  <tbody>\n",
       "    <tr>\n",
       "      <th>fa_hw_19791230</th>\n",
       "      <td>-977.2390</td>\n",
       "      <td>359.20800</td>\n",
       "      <td>-1695.65000</td>\n",
       "      <td>-258.8230</td>\n",
       "      <td>-679.2560</td>\n",
       "      <td>223.932000</td>\n",
       "      <td>-1127.1200</td>\n",
       "      <td>-231.3920</td>\n",
       "    </tr>\n",
       "    <tr>\n",
       "      <th>fa_hw_19801229</th>\n",
       "      <td>-500.5320</td>\n",
       "      <td>589.30900</td>\n",
       "      <td>-1679.15000</td>\n",
       "      <td>678.0860</td>\n",
       "      <td>-184.0380</td>\n",
       "      <td>531.386000</td>\n",
       "      <td>-1246.8100</td>\n",
       "      <td>878.7330</td>\n",
       "    </tr>\n",
       "    <tr>\n",
       "      <th>fa_tw_19791230</th>\n",
       "      <td>-453.0330</td>\n",
       "      <td>414.90700</td>\n",
       "      <td>-1282.85000</td>\n",
       "      <td>376.7810</td>\n",
       "      <td>-387.6090</td>\n",
       "      <td>145.300000</td>\n",
       "      <td>-678.2080</td>\n",
       "      <td>-97.0099</td>\n",
       "    </tr>\n",
       "    <tr>\n",
       "      <th>fa_tw_19801229</th>\n",
       "      <td>-11.2061</td>\n",
       "      <td>610.23700</td>\n",
       "      <td>-1231.68000</td>\n",
       "      <td>1209.2700</td>\n",
       "      <td>-5.3833</td>\n",
       "      <td>468.053000</td>\n",
       "      <td>-941.4900</td>\n",
       "      <td>930.7230</td>\n",
       "    </tr>\n",
       "    <tr>\n",
       "      <th>hds_00_013_002_000</th>\n",
       "      <td>39.6102</td>\n",
       "      <td>2.76268</td>\n",
       "      <td>34.08490</td>\n",
       "      <td>45.1356</td>\n",
       "      <td>37.8504</td>\n",
       "      <td>0.299934</td>\n",
       "      <td>37.2506</td>\n",
       "      <td>38.4503</td>\n",
       "    </tr>\n",
       "    <tr>\n",
       "      <th>hds_00_013_002_001</th>\n",
       "      <td>39.0079</td>\n",
       "      <td>2.91274</td>\n",
       "      <td>33.18250</td>\n",
       "      <td>44.8334</td>\n",
       "      <td>37.4613</td>\n",
       "      <td>0.411130</td>\n",
       "      <td>36.6390</td>\n",
       "      <td>38.2836</td>\n",
       "    </tr>\n",
       "    <tr>\n",
       "      <th>part_status</th>\n",
       "      <td>2.0000</td>\n",
       "      <td>0.00000</td>\n",
       "      <td>2.00000</td>\n",
       "      <td>2.0000</td>\n",
       "      <td>2.0000</td>\n",
       "      <td>0.000000</td>\n",
       "      <td>2.0000</td>\n",
       "      <td>2.0000</td>\n",
       "    </tr>\n",
       "    <tr>\n",
       "      <th>part_time</th>\n",
       "      <td>907.7020</td>\n",
       "      <td>458.56200</td>\n",
       "      <td>-9.42189</td>\n",
       "      <td>1824.8300</td>\n",
       "      <td>1034.0000</td>\n",
       "      <td>337.515000</td>\n",
       "      <td>358.9680</td>\n",
       "      <td>1709.0300</td>\n",
       "    </tr>\n",
       "  </tbody>\n",
       "</table>\n",
       "</div>"
      ],
      "text/plain": [
       "                    prior_mean  prior_stdev  prior_lower_bound  \\\n",
       "name                                                             \n",
       "fa_hw_19791230       -977.2390    359.20800        -1695.65000   \n",
       "fa_hw_19801229       -500.5320    589.30900        -1679.15000   \n",
       "fa_tw_19791230       -453.0330    414.90700        -1282.85000   \n",
       "fa_tw_19801229        -11.2061    610.23700        -1231.68000   \n",
       "hds_00_013_002_000     39.6102      2.76268           34.08490   \n",
       "hds_00_013_002_001     39.0079      2.91274           33.18250   \n",
       "part_status             2.0000      0.00000            2.00000   \n",
       "part_time             907.7020    458.56200           -9.42189   \n",
       "\n",
       "                    prior_upper_bound  post_mean  post_stdev  \\\n",
       "name                                                           \n",
       "fa_hw_19791230              -258.8230  -679.2560  223.932000   \n",
       "fa_hw_19801229               678.0860  -184.0380  531.386000   \n",
       "fa_tw_19791230               376.7810  -387.6090  145.300000   \n",
       "fa_tw_19801229              1209.2700    -5.3833  468.053000   \n",
       "hds_00_013_002_000            45.1356    37.8504    0.299934   \n",
       "hds_00_013_002_001            44.8334    37.4613    0.411130   \n",
       "part_status                    2.0000     2.0000    0.000000   \n",
       "part_time                   1824.8300  1034.0000  337.515000   \n",
       "\n",
       "                    post_lower_bound  post_upper_bound  \n",
       "name                                                    \n",
       "fa_hw_19791230            -1127.1200         -231.3920  \n",
       "fa_hw_19801229            -1246.8100          878.7330  \n",
       "fa_tw_19791230             -678.2080          -97.0099  \n",
       "fa_tw_19801229             -941.4900          930.7230  \n",
       "hds_00_013_002_000           37.2506           38.4503  \n",
       "hds_00_013_002_001           36.6390           38.2836  \n",
       "part_status                   2.0000            2.0000  \n",
       "part_time                   358.9680         1709.0300  "
      ]
     },
     "execution_count": 22,
     "metadata": {},
     "output_type": "execute_result"
    }
   ],
   "source": [
    "f_df = pd.read_csv(os.path.join(m_d,\"freyberg_pp.pred.usum.csv\"),index_col=0)\n",
    "f_df.index = f_df.index.map(str.lower)\n",
    "f_df"
   ]
  },
  {
   "cell_type": "code",
   "execution_count": 23,
   "metadata": {},
   "outputs": [
    {
     "data": {
      "image/png": "[encoded data removed]",
      "text/plain": [
       "<Figure size 432x288 with 2 Axes>"
      ]
     },
     "metadata": {
      "needs_background": "light"
     },
     "output_type": "display_data"
    },
    {
     "data": {
      "image/png": "[encoded data removed]",
      "text/plain": [
       "<Figure size 432x288 with 2 Axes>"
      ]
     },
     "metadata": {
      "needs_background": "light"
     },
     "output_type": "display_data"
    },
    {
     "data": {
      "image/png": "[encoded data removed]",
      "text/plain": [
       "<Figure size 432x288 with 2 Axes>"
      ]
     },
     "metadata": {
      "needs_background": "light"
     },
     "output_type": "display_data"
    },
    {
     "data": {
      "image/png": "[encoded data removed]",
      "text/plain": [
       "<Figure size 432x288 with 2 Axes>"
      ]
     },
     "metadata": {
      "needs_background": "light"
     },
     "output_type": "display_data"
    },
    {
     "data": {
      "image/png": "[encoded data removed]",
      "text/plain": [
       "<Figure size 432x288 with 2 Axes>"
      ]
     },
     "metadata": {
      "needs_background": "light"
     },
     "output_type": "display_data"
    },
    {
     "data": {
      "image/png": "[encoded data removed]",
      "text/plain": [
       "<Figure size 432x288 with 2 Axes>"
      ]
     },
     "metadata": {
      "needs_background": "light"
     },
     "output_type": "display_data"
    },
    {
     "data": {
      "image/png": "[encoded data removed]",
      "text/plain": [
       "<Figure size 432x288 with 2 Axes>"
      ]
     },
     "metadata": {
      "needs_background": "light"
     },
     "output_type": "display_data"
    },
    {
     "data": {
      "image/png": "[encoded data removed]",
      "text/plain": [
       "<Figure size 432x288 with 2 Axes>"
      ]
     },
     "metadata": {
      "needs_background": "light"
     },
     "output_type": "display_data"
    }
   ],
   "source": [
    "obs = pst.observation_data\n",
    "fnames = pst.pestpp_options[\"forecasts\"].split(\",\")\n",
    "for forecast in fnames:\n",
    "    ax = plt.subplot(111)\n",
    "    oe_pt.loc[:,forecast].hist(ax=ax,color=\"b\",alpha=0.5,normed=True)\n",
    "    ax.plot([obs.loc[forecast,\"obsval\"],obs.loc[forecast,\"obsval\"]],ax.get_ylim(),\"r\")\n",
    "    axt = plt.twinx()\n",
    "    x,y = pyemu.plot_utils.gaussian_distribution(f_df.loc[forecast,\"prior_mean\"],f_df.loc[forecast,\"prior_stdev\"])\n",
    "    axt.fill_between(x,0,y,facecolor=\"0.5\",alpha=0.25)\n",
    "    x,y = pyemu.plot_utils.gaussian_distribution(f_df.loc[forecast,\"post_mean\"],f_df.loc[forecast,\"post_stdev\"])\n",
    "    axt.fill_between(x,0,y,facecolor=\"b\",alpha=0.25)\n",
    "    axt.set_ylim(0,axt.get_ylim()[1])\n",
    "    axt.set_yticks([])\n",
    "    ax.set_title(forecast)\n",
    "    plt.show()"
   ]
  },
  {
   "cell_type": "code",
   "execution_count": 24,
   "metadata": {},
   "outputs": [],
   "source": []
  },
  {
   "cell_type": "code",
   "execution_count": 24,
   "metadata": {},
   "outputs": [],
   "source": []
  },
  {
   "cell_type": "code",
   "execution_count": 24,
   "metadata": {},
   "outputs": [],
   "source": []
  },
  {
   "cell_type": "code",
   "execution_count": 24,
   "metadata": {},
   "outputs": [],
   "source": []
  }
 ],
 "metadata": {
  "kernelspec": {
   "display_name": "Python 3",
   "language": "python",
   "name": "python3"
  },
  "language_info": {
   "codemirror_mode": {
    "name": "ipython",
    "version": 3
   },
   "file_extension": ".py",
   "mimetype": "text/x-python",
   "name": "python",
   "nbconvert_exporter": "python",
   "pygments_lexer": "ipython3",
   "version": "3.5.6"
  }
 },
 "nbformat": 4,
 "nbformat_minor": 2
}
