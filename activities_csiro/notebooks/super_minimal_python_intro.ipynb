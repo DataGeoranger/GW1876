{
 "cells": [
  {
   "cell_type": "markdown",
   "metadata": {},
   "source": [
    "# super minimal basic python intro"
   ]
  },
  {
   "cell_type": "markdown",
   "metadata": {},
   "source": [
    "- spacing and case matter in python\n",
    "- zero based indexing\n",
    "- fundamental types and type casting\n",
    " - int, float, string, boolean\n",
    " - string operations (split, strip, format)\n",
    "- conditionals\n",
    " - syntax\n",
    " - multiple conditionals\n",
    "- looping\n",
    " - for syntax\n",
    " - while syntax\n",
    "- data structures\n",
    " - list and dict\n",
    " - creating\n",
    " - appending/removing\n",
    " - iterating\n",
    " - list indexing/slicing\n",
    "- file io \n",
    " - open and close\n",
    " - iterating\n",
    "- libraries\n"
   ]
  },
  {
   "cell_type": "markdown",
   "metadata": {},
   "source": []
  },
  {
   "cell_type": "markdown",
   "metadata": {},
   "source": [
    "### DIY: create a list of things and write it to a file.  then read it back into another list.  check your work by comparing the two lists item by item"
   ]
  },
  {
   "cell_type": "markdown",
   "metadata": {},
   "source": [
    "# sci comp with python"
   ]
  },
  {
   "cell_type": "markdown",
   "metadata": {},
   "source": [
    "- numpy and the ndarray\n",
    " - creating (zeros, ones)\n",
    " - file io\n",
    " - indexing/slicing\n",
    "- matplotlib\n",
    " - the gallery\n",
    " - figure and axes\n",
    "- pandas and the dataframe\n",
    " - creating\n",
    " - appending and removing\n",
    " - plotting\n",
    " - timeseries (to_datetime, to_timedelta, etc)\n",
    " - file io\n"
   ]
  },
  {
   "cell_type": "markdown",
   "metadata": {},
   "source": [
    "### DIY: create a numpy array and practice slice/dice/reshape"
   ]
  },
  {
   "cell_type": "markdown",
   "metadata": {},
   "source": [
    "### DIY: copy a cool plotting script from the matplotlib gallery into a script.  modify it and rerun "
   ]
  },
  {
   "cell_type": "markdown",
   "metadata": {},
   "source": [
    "### DIY: create a numpy 2D ndarray of random values (using whatever distribution you want from `numpy.random` module.  Mask certain values using a threshold and also mask a block by indices. Visualize it as a map and as a histogram"
   ]
  },
  {
   "cell_type": "markdown",
   "metadata": {},
   "source": [
    "### DIY: create a pandas dataframe with datetime index covering  daily for 10 years starting on 5 Nov 1995.  add columns to the dataframe that are random values (extra credit for markov processes!)  plot the each column on sep axis, then plot together.  Added new columns that are the 180-day rolling mean for each original column. Plot the org and smoothed time series together on the same plot for each pair."
   ]
  },
  {
   "cell_type": "code",
   "execution_count": null,
   "metadata": {},
   "outputs": [],
   "source": []
  }
 ],
 "metadata": {
  "kernelspec": {
   "display_name": "Python 3",
   "language": "python",
   "name": "python3"
  },
  "language_info": {
   "codemirror_mode": {
    "name": "ipython",
    "version": 3
   },
   "file_extension": ".py",
   "mimetype": "text/x-python",
   "name": "python",
   "nbconvert_exporter": "python",
   "pygments_lexer": "ipython3",
   "version": "3.5.6"
  }
 },
 "nbformat": 4,
 "nbformat_minor": 2
}
