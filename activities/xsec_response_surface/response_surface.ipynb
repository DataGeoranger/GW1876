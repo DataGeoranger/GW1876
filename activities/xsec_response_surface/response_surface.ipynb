{
 "cells": [
  {
   "cell_type": "markdown",
   "metadata": {},
   "source": [
    "<img src=\"AW&H2015.png\" style=\"float: left\">\n",
    "\n",
    "<img src=\"flopylogo.png\" style=\"float: center\">\n",
    "\n",
    "# Evaluating what happens when using Parameter Estimation on 2 parameters:  Plotting the objective function response surface\n",
    "\n",
    "Pages 400-401 of Anderson et al. (2015) start setting out the approach for how parameter estimation finds a best fit.  It does it by distilling all the metrics of fit into a single number, which then it minimizes.  This single number is called the \"measurement objective function\", often given the symbol Phi, and reflects the residual between the observed and simulated value.  Because residuals can be positive or negative, we square them to make sure the residuals are positive and do not offset each other.  Finally, we typically hold fitting some observations to be higher priority than others; we express this using weights to emphasize or de-emphasize a residual.  Here is the equation for our cross-section xsec model, where we only have heads as observations:\n",
    "\n",
    "<img src=\"SOSWR_eq_AW&H2015.png\" style=\"float: center\">\n",
    "\n",
    "where Phi is the \"sum of squared weighted residuals\" that we look to minimize, *whi* is the weight for the ith head observation; *hm* is the measured (observed) head target; *hs* is the simulated head; and n is the number of observations.  \n",
    "\n",
    "We can calculate Phi using model output for a range of two parameters that affect calibration. The plot of two parameters and the resulting Phi is called a response surface. This response surface is like a topographic contour map because it shows three dimensions in two dimensions.  Here is an idealized plot taken from figure 9.10a in Anderson et al. (2015):\n",
    "\n",
    "<img src=\"Fig9.10a_idealized_obj_fxn.png\" style=\"float: center\">\n",
    " "
   ]
  },
  {
   "cell_type": "markdown",
   "metadata": {},
   "source": [
    "In this notebook we will investigate what the objective function looks like for the model we used in the xsec_k_and_flux notebook.  \n",
    "\n",
    "We also will use a PEST++ utility called \"sweep\" that moves your single run to multiple simultaneous runs via parallel processing on your laptop! \n",
    "\n",
    "Recall that the cross section looked like:\n",
    "\n",
    "<img src=\"xsect_figure.png\" style=\"float: center\">\n",
    "\n",
    "We had 2 parameters, the horizontal hydraulic conductivity of the aquifer and the flux at the rightmost boundary condition.  So, let's run a range of these parameter values and plot the resulting objective function. "
   ]
  },
  {
   "cell_type": "code",
   "execution_count": null,
   "metadata": {},
   "outputs": [],
   "source": [
    "%matplotlib inline\n",
    "import os\n",
    "import shutil\n",
    "import subprocess as sp\n",
    "import numpy as np\n",
    "import pandas as pd\n",
    "import matplotlib.pyplot as plt\n",
    "import pyemu\n",
    "import platform\n",
    "\n",
    "if 'window' not in platform.platform().lower():\n",
    "    pref = './'\n",
    "    pestchek = './pestchek'\n",
    "else:\n",
    "    pref = ''\n",
    "    pestchek = 'pestchek'"
   ]
  },
  {
   "cell_type": "markdown",
   "metadata": {},
   "source": [
    "(this \"setting random seed\" is so that the code pyemu can reproduce random operations like Monte Carlo - pretty slick for a model archive!)\n",
    "\n",
    "Next block will copy the model files over"
   ]
  },
  {
   "cell_type": "code",
   "execution_count": null,
   "metadata": {},
   "outputs": [],
   "source": [
    "base_dir = os.path.join(\"..\",\"..\",\"models\",\"10par_xsec\",\"complete_pest_setup\")\n",
    "[shutil.copy2(os.path.join(base_dir,f),f) for f in os.listdir(base_dir)]\n",
    "if not os.path.exists('base_xsec_dir'):\n",
    "    os.mkdir('base_xsec_dir')\n",
    "[shutil.copy2(os.path.join(base_dir,cf),os.path.join('base_xsec_dir',cf)) for cf in os.listdir(base_dir)];\n"
   ]
  },
  {
   "cell_type": "markdown",
   "metadata": {},
   "source": [
    "In order to plot an objective function like we saw above, we have to sample the range of K and flux parameter values.  In the code below for K we sample from 0.1 to 4.0 and divding it up into 50 equal parts; for the boundary flux we sample from 0.1 to 2.5 in 50 equal parts.  Then we write a csv file of these parameter values to run in PEST++ (with **NOPTMAX=0** so that it only runs once and reports the objective function)"
   ]
  },
  {
   "cell_type": "code",
   "execution_count": null,
   "metadata": {},
   "outputs": [],
   "source": [
    "nsamples = 50\n",
    "hk_values = np.linspace(0.1,4.0,nsamples)\n",
    "fx_values = np.linspace(.1,2.5,nsamples)\n",
    "c = 0\n",
    "with open(\"grid.csv\",'w') as f:\n",
    "    f.write(\"run_id,hk1,cal_flux,fore_flux\\n\")\n",
    "    for v1 in hk_values:\n",
    "        for v2 in fx_values:\n",
    "            f.write(\"{0:d},{1:15.6E},{2:15.6E},1.0\\n\".format(c,v1,v2))\n",
    "            c += 1\n",
    "shutil.copy2('grid.csv',os.path.join('base_xsec_dir','grid.csv'))"
   ]
  },
  {
   "cell_type": "markdown",
   "metadata": {},
   "source": [
    "### Being this takes a while to run, let's make sure NOPTMAX=0 before we launch.  You can do it in a separate terminal or excute the next block of code and look in the terminal window where you launched this notebook. "
   ]
  },
  {
   "cell_type": "code",
   "execution_count": null,
   "metadata": {},
   "outputs": [],
   "source": [
    "os.system(\"{0} k_wel.pst\".format(pestchek))"
   ]
  },
  {
   "cell_type": "markdown",
   "metadata": {},
   "source": [
    "Here's where we define what the plot of objective function response surface looks like (we haven't run the forward model yet so there's no output)"
   ]
  },
  {
   "cell_type": "code",
   "execution_count": null,
   "metadata": {},
   "outputs": [],
   "source": [
    "def resp_plot():\n",
    "    df_in = pd.read_csv(\"grid.csv\")\n",
    "    df_out = pd.read_csv(\"sweep_out.csv\")\n",
    "    resp_surf = np.zeros((nsamples,nsamples))\n",
    "    c = 0\n",
    "    for i,v1 in enumerate(hk_values):\n",
    "        for j,v2 in enumerate(fx_values):\n",
    "            resp_surf[j,i] = df_out.loc[c,\"phi\"]\n",
    "            c += 1\n",
    "    fig = plt.figure(figsize=(10,10))\n",
    "    ax = plt.subplot(111)\n",
    "    X,Y = np.meshgrid(hk_values,fx_values)\n",
    "    resp_surf = np.ma.masked_where(resp_surf>5,resp_surf)\n",
    "    p = ax.pcolor(X,Y,resp_surf,alpha=0.5, cmap=\"spectral\")\n",
    "    plt.colorbar(p)\n",
    "    c = ax.contour(X,Y,resp_surf,levels=[0.1,0.2,0.5,1,2,5],colors='k')\n",
    "    plt.clabel(c)\n",
    "    ax.set_xlim(hk_values.min(),hk_values.max())\n",
    "    ax.set_ylim(fx_values.min(),fx_values.max())\n",
    "    ax.set_xlabel(\"hk1 ($\\\\frac{L}{T}$)\")\n",
    "    ax.set_ylabel(\"cal_flux ($\\\\frac{L^3}{T}$)\")\n"
   ]
  },
  {
   "cell_type": "markdown",
   "metadata": {},
   "source": [
    "## Now let's burn some silcon - this next line will fire up your CPUs and create 20 workers to run our xsec model 2,500 times (50 x 50).  We are using a PEST++ utility \"Sweep\", which creates worker directories, manages the runs, then cleans up the worker directories when finished. You should watch the progress in your terminal window where this notebook was launched.\n",
    "\n",
    "# THIS WILL TAKE SOME TIME - DO NOT ADVANCE THROUGH UNTIL YOU SEE \"SWEEP COMPLETE\" IN YOUR TERMINAL"
   ]
  },
  {
   "cell_type": "code",
   "execution_count": null,
   "metadata": {},
   "outputs": [],
   "source": [
    "pyemu.utils.start_slaves('base_xsec_dir',\"{0}sweep\".format(pref),\"k_wel.pst\",20,slave_root='.',port=4004,master_dir='.')"
   ]
  },
  {
   "cell_type": "markdown",
   "metadata": {},
   "source": [
    "## WHEN SWEEP IS DONE (you did see \"Sweep Complete...\" in your terminal?) then advance to the next block\n",
    "\n",
    "### Here is a plot of the response surface with just the heads to constrain the data (this too takes a little time to render so don't fly through it to the next code block)"
   ]
  },
  {
   "cell_type": "code",
   "execution_count": null,
   "metadata": {},
   "outputs": [],
   "source": [
    "resp_plot()"
   ]
  },
  {
   "cell_type": "markdown",
   "metadata": {},
   "source": [
    "## This plot is a \"contour map\" of the objective function, which equals the degree of fit to our observations.  The low area less than 0.1 is a trough, which means that there are a number of combinations of horizontal hydraulic conductivity and boudary flux that will give the same fit."
   ]
  },
  {
   "cell_type": "markdown",
   "metadata": {},
   "source": [
    "## But say we have experience that says the boundary flux should be around 0.5 cubic meters per day - we can tell PEST this.  You can see we supplied it to PEST as \"prior information\" near the bottom of k_wel_reg.pst.  The result is as the boundary flux parameter moves away from 0.5 it penalizes our fit. \n",
    "\n",
    "Here's that part of the PEST control file from SIR 2010-5169:\n",
    "\n",
    "<img src=\"SIR2010-5169_prior_information_section.png\" style=\"float: center\">\n",
    "\n",
    "Remember the variable definitions are also provided for you in Appendix 1 of SIR 2010-5169"
   ]
  },
  {
   "cell_type": "markdown",
   "metadata": {},
   "source": [
    "### Again, because this takes a while to run, let's make sure NOPTMAX=0 in this new file (k_wel_reg.pst)  before we launch.  You can do it in a separate terminal or excute the next block of code and look in the terminal window where you launched this notebook."
   ]
  },
  {
   "cell_type": "code",
   "execution_count": null,
   "metadata": {},
   "outputs": [],
   "source": [
    "os.system(\"{0} k_wel_reg.pst\".format(pestchek))"
   ]
  },
  {
   "cell_type": "markdown",
   "metadata": {},
   "source": [
    "## Now let's burn some silcon - this next line will fire up your CPUs and run our xsec model 2,500 times (50 x 50).  It is setup to run 500 runs 5 times - you can watch the progress in your terminal window where this notebook was launched.\n",
    "\n",
    "# THIS WILL AGAIN TAKE SOME TIME - DO NOT ADVANCE THROUGH UNTIL YOU SEE \"SWEEP COMPLETE\" IN YOUR TERMINAL"
   ]
  },
  {
   "cell_type": "code",
   "execution_count": null,
   "metadata": {},
   "outputs": [],
   "source": [
    "pyemu.utils.start_slaves('base_xsec_dir',\"{0}sweep\".format(pref),\"k_wel_reg.pst\",20,slave_root='.',port=4004,master_dir='.')\n",
    "resp_plot()"
   ]
  },
  {
   "cell_type": "markdown",
   "metadata": {},
   "source": [
    "## Now the trough is becoming a enclosed depression.  This means that there are fewer combinations of hk1 and the cal_flux boundary condition that will provide a good fit.  Notice that the enclosed depression is centered on our priori information value of 0.5 cubic meters per day.\n",
    "\n",
    "### How strongly the prior information penalizes our fit depends on the weight we give it.  In the run above it was given a weight of 2.0.  Now we'll increase the weight to 10, which means we'll penalize the fit more as we move away from 0.5."
   ]
  },
  {
   "cell_type": "markdown",
   "metadata": {},
   "source": [
    "# Your Turn!\n",
    "# Copy over `k_wel_reg.pst` to `k_wel_reg_1.pst`, increase the prior information weight to 10.\n",
    "\n",
    "### Then run `pestchek` and set it loose using `pyemu` in the block below."
   ]
  },
  {
   "cell_type": "code",
   "execution_count": null,
   "metadata": {},
   "outputs": [],
   "source": [
    "os.system(\"{0} k_wel_reg.pst\".format(pestchek))"
   ]
  },
  {
   "cell_type": "markdown",
   "metadata": {
    "collapsed": true
   },
   "source": [
    "# We'll re-run one last time, and again, THIS WILL AGAIN TAKE SOME TIME - DO NOT ADVANCE THROUGH UNTIL YOU SEE \"SWEEP COMPLETE\" IN YOUR TERMINAL"
   ]
  },
  {
   "cell_type": "code",
   "execution_count": null,
   "metadata": {
    "collapsed": true
   },
   "outputs": [],
   "source": [
    "\n",
    "pyemu.utils.start_slaves('base_xsec_dir',\"{0}sweep\".format(pref),\"k_wel_reg_1.pst\",20,slave_root='.',port=4004,master_dir='.')"
   ]
  },
  {
   "cell_type": "code",
   "execution_count": null,
   "metadata": {},
   "outputs": [],
   "source": [
    "resp_plot()"
   ]
  },
  {
   "cell_type": "markdown",
   "metadata": {},
   "source": [
    "# Parting thought:  In general we don't see this type of response surface for an applied model because they typically have more than two parameters!  "
   ]
  },
  {
   "cell_type": "markdown",
   "metadata": {
    "collapsed": true
   },
   "source": [
    "# Advanced:\n",
    "\n",
    "## Change the prior information variable in the PEST control file k_wel_reg_1.pst to a value something  2 and 10 and re-run the block containing the sweep call.  Does your plot look like an intermediary between the end members shown above?  In the notebooks that follow, feel free to experiment - we'll give you complete notebooks you can revert back to in case things break."
   ]
  },
  {
   "cell_type": "code",
   "execution_count": null,
   "metadata": {
    "collapsed": true
   },
   "outputs": [],
   "source": []
  }
 ],
 "metadata": {
  "anaconda-cloud": {},
  "kernelspec": {
   "display_name": "Python 3",
   "language": "python",
   "name": "python3"
  },
  "language_info": {
   "codemirror_mode": {
    "name": "ipython",
    "version": 3
   },
   "file_extension": ".py",
   "mimetype": "text/x-python",
   "name": "python",
   "nbconvert_exporter": "python",
   "pygments_lexer": "ipython3",
   "version": "3.6.1"
  }
 },
 "nbformat": 4,
 "nbformat_minor": 1
}
