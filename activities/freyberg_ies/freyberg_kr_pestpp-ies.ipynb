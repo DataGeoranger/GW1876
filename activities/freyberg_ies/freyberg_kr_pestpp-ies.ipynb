{
 "cells": [
  {
   "cell_type": "markdown",
   "metadata": {},
   "source": [
    "# A gentle introduction to iterative ensemble smoothers"
   ]
  },
  {
   "cell_type": "code",
   "execution_count": null,
   "metadata": {},
   "outputs": [],
   "source": [
    "%matplotlib inline\n",
    "import os, shutil\n",
    "import sys\n",
    "sys.path.append(\"..\")\n",
    "import numpy as np\n",
    "from IPython.display import Image\n",
    "import pandas as pd\n",
    "import matplotlib.pyplot as plt\n",
    "\n",
    "import flopy as flopy\n",
    "import pyemu"
   ]
  },
  {
   "cell_type": "markdown",
   "metadata": {},
   "source": [
    "## using the K-R model since we can plot parameter space"
   ]
  },
  {
   "cell_type": "code",
   "execution_count": null,
   "metadata": {
    "scrolled": true
   },
   "outputs": [],
   "source": [
    "import freyberg_setup as fs\n",
    "fs.setup_pest_kr()\n",
    "working_dir = fs.WORKING_DIR_KR\n",
    "pst_name = fs.PST_NAME_KR"
   ]
  },
  {
   "cell_type": "code",
   "execution_count": null,
   "metadata": {
    "scrolled": true
   },
   "outputs": [],
   "source": [
    "fs.plot_model(working_dir, pst_name)"
   ]
  },
  {
   "cell_type": "markdown",
   "metadata": {},
   "source": [
    "## unfix ``rch_0`` and reset bounds to be consistent with the response surface plot"
   ]
  },
  {
   "cell_type": "code",
   "execution_count": null,
   "metadata": {},
   "outputs": [],
   "source": [
    "# m = flopy.modflow.Modflow.load(fs.MODEL_NAM,model_ws=working_dir,load_only=[\"upw\"],check=False)\n",
    "pst = pyemu.Pst(os.path.join(working_dir,pst_name))\n",
    "par = pst.parameter_data\n",
    "pst.parameter_data.loc[\"rch_0\",\"partrans\"] = 'log'\n",
    "pst.parameter_data\n",
    "par.loc['hk', 'parlbnd'] = 3\n",
    "par.loc['hk', 'parubnd'] = 12\n",
    "pst.observation_data.loc[pst.nnz_obs_names,:]"
   ]
  },
  {
   "cell_type": "markdown",
   "metadata": {},
   "source": [
    "### run pestpp-ies\n",
    "\n",
    "The iterative ensemble smoother can be thought of as a blend of deterministic gauss-levenburg-marquardt and monte carlo.  In short, we use an ensemble of parameters instead of a single parameter set and we use an ensemble of observations + realizations of measurement noise as \"targets\".  Let's see it in action:"
   ]
  },
  {
   "cell_type": "code",
   "execution_count": null,
   "metadata": {},
   "outputs": [],
   "source": [
    "pst.pestpp_options = {\"forecasts\":pst.pestpp_options[\"forecasts\"]} #reset pestpp options\n",
    "pst.pestpp_options[\"ies_subset_size\"] = 3 #run only the first 4 realizations to test phis\n",
    "pst.pestpp_options[\"ies_lambda_mults\"] = [0.1,1.0,10.0] # test several lambda values\n",
    "pst.pestpp_options[\"lambda_scale_fac\"] = [0.95,1.1] #test some line searches along each lambda\n",
    "pst.pestpp_options[\"ies_num_reals\"] = 20 #num of realizations\n",
    "pst.pestpp_options[\"par_sigma_range\"] = 3 # parameter bounds represent 3 stds\n",
    "#pst.pestpp_options[\"ies_reg_factor\"] = 2000.0 # regularization portion of composite phi\n",
    "pst.control_data.noptmax = 4\n",
    "pst.write(os.path.join(working_dir,pst_name))"
   ]
  },
  {
   "cell_type": "code",
   "execution_count": null,
   "metadata": {},
   "outputs": [],
   "source": [
    "os.chdir(working_dir)\n",
    "pyemu.helpers.start_slaves(\".\",\"pestpp-ies\",pst_name,num_slaves=15,master_dir=\".\")\n",
    "os.chdir(\"..\")"
   ]
  },
  {
   "cell_type": "code",
   "execution_count": null,
   "metadata": {},
   "outputs": [],
   "source": [
    "# par = pd.read_csv(pst.filename.replace(\".pst\",\".0.par.csv\"),index_col=0)\n",
    "# par.columns = par.columns.map(str.lower)"
   ]
  },
  {
   "cell_type": "markdown",
   "metadata": {},
   "source": [
    "## process the results\n",
    "\n",
    "plot the initial and iteration parameter values"
   ]
  },
  {
   "cell_type": "code",
   "execution_count": null,
   "metadata": {},
   "outputs": [],
   "source": [
    "df = pd.read_csv(os.path.join(working_dir,pst_name.replace(\".pst\",\".phi.actual.csv\")))\n",
    "ax = plt.subplot(111)\n",
    "ax.plot(df.total_runs,df.loc[:,\"mean\"],lw=1.5)\n",
    "j = [ax.plot(df.total_runs,df.loc[:,col], lw=0.25,color='b') for col in df.columns[7:]]"
   ]
  },
  {
   "cell_type": "code",
   "execution_count": null,
   "metadata": {
    "scrolled": false
   },
   "outputs": [],
   "source": [
    "colors = [\"b\",\"g\",\"m\",'r']\n",
    "#ax = plt.subplot(111)\n",
    "#ax.set_xlabel(\"hk\")\n",
    "#ax.set_ylabel(\"rch_0\")\n",
    "import response_surface as rs\n",
    "wd = os.path.join(\"..\",\"freyberg_k_and_r_response_surface\",\"freyberg_kr\")\n",
    "fig,ax = rs.plot_response_surface(parnames=[\"hk\",\"rch_0\"],\n",
    "                                  pstfile=pst_name.replace(\".pst\",\".r3.pst\"),\n",
    "                                  WORKING_DIR=wd,alpha=0.35,\n",
    "                                  label=False, figsize=(10,10))\n",
    "\n",
    "dfs = {}\n",
    "for i,c in enumerate(colors):\n",
    "    f = os.path.join(working_dir,pst_name.replace(\".pst\",\".{0}.par.csv\".format(i)))\n",
    "    if not os.path.exists(f):\n",
    "        continue\n",
    "    print(c,f)\n",
    "    df = pd.read_csv(f) \n",
    "    dfs[c] = df.loc[:,[\"HK\",\"RCH_0\"]]\n",
    "    ax.scatter(df.HK,df.RCH_0,color=c,alpha=1.0,zorder=10)\n",
    "    if i > 0:\n",
    "        for ii in df.index:\n",
    "            x = [df.loc[ii,\"HK\"],dflast.loc[ii,\"HK\"]]\n",
    "            y = [df.loc[ii,\"RCH_0\"],dflast.loc[ii,\"RCH_0\"]]\n",
    "            ax.plot(x,y,color=colors[i-1],lw=0.5,alpha=1.0,zorder=10+i)\n",
    "    dflast = df\n",
    "par = pst.parameter_data\n",
    "ax.set_xlim(par.loc['hk',['parlbnd','parubnd']].values)\n",
    "ax.set_ylim(par.loc['rch_0',['parlbnd','parubnd']].values)\n",
    "plt.show()"
   ]
  },
  {
   "cell_type": "markdown",
   "metadata": {},
   "source": [
    "### sweet as!\n",
    "\n",
    "So we see each realization starts at a random location in the 2D parameter space (grey).  After the first update, the most realizations reproduce the observations much better (blue).  The final iterations (red and green) just polish..."
   ]
  },
  {
   "cell_type": "markdown",
   "metadata": {},
   "source": [
    "### just for clarity"
   ]
  },
  {
   "cell_type": "code",
   "execution_count": null,
   "metadata": {},
   "outputs": [],
   "source": [
    "deter_vals = pst.observation_data.loc[pst.nnz_obs_names,\"obsval\"].to_dict()\n",
    "obs_base = pd.read_csv(os.path.join(working_dir,pst_name.replace(\".pst\",\".base.obs.csv\")))\n",
    "obs_base.columns = obs_base.columns.str.lower()\n",
    "obs_base = obs_base.loc[:,pst.nnz_obs_names]\n",
    "pyemu.plot_utils.ensemble_helper(obs_base,deter_vals=deter_vals)"
   ]
  },
  {
   "cell_type": "code",
   "execution_count": null,
   "metadata": {},
   "outputs": [],
   "source": [
    "\n",
    "pyemu.plot_utils.ensemble_helper(dfs,sync_bins=False,std_window=None)"
   ]
  }
 ],
 "metadata": {
  "anaconda-cloud": {},
  "kernelspec": {
   "display_name": "Python 3",
   "language": "python",
   "name": "python3"
  },
  "language_info": {
   "codemirror_mode": {
    "name": "ipython",
    "version": 3
   },
   "file_extension": ".py",
   "mimetype": "text/x-python",
   "name": "python",
   "nbconvert_exporter": "python",
   "pygments_lexer": "ipython3",
   "version": "3.5.4"
  }
 },
 "nbformat": 4,
 "nbformat_minor": 1
}
