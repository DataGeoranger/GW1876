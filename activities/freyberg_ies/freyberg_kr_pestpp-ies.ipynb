{
 "cells": [
  {
   "cell_type": "code",
   "execution_count": null,
   "metadata": {},
   "outputs": [],
   "source": [
    "%matplotlib inline\n",
    "import os, shutil\n",
    "import sys\n",
    "sys.path.append(\"..\")\n",
    "import numpy as np\n",
    "from IPython.display import Image\n",
    "import pandas as pd\n",
    "import matplotlib.pyplot as plt\n",
    "\n",
    "import flopy as flopy\n",
    "import pyemu"
   ]
  },
  {
   "cell_type": "code",
   "execution_count": null,
   "metadata": {
    "scrolled": true
   },
   "outputs": [],
   "source": [
    "import freyberg_setup as fs\n",
    "fs.setup_pest_kr()\n",
    "working_dir = fs.WORKING_DIR_KR\n",
    "pst_name = fs.PST_NAME_KR"
   ]
  },
  {
   "cell_type": "code",
   "execution_count": null,
   "metadata": {},
   "outputs": [],
   "source": [
    "fs.plot_model(working_dir, pst_name)"
   ]
  },
  {
   "cell_type": "code",
   "execution_count": null,
   "metadata": {},
   "outputs": [],
   "source": [
    "# m = flopy.modflow.Modflow.load(fs.MODEL_NAM,model_ws=working_dir,load_only=[\"upw\"],check=False)\n",
    "pst = pyemu.Pst(os.path.join(working_dir,pst_name))\n",
    "pst.parameter_data.loc[\"rch_0\",\"partrans\"] = 'log'\n",
    "pst.parameter_data"
   ]
  },
  {
   "cell_type": "markdown",
   "metadata": {},
   "source": [
    "### run pestpp-ies"
   ]
  },
  {
   "cell_type": "code",
   "execution_count": null,
   "metadata": {},
   "outputs": [],
   "source": [
    "pst.pestpp_options = {\"forecasts\":pst.pestpp_options[\"forecasts\"]}\n",
    "pst.pestpp_options[\"ies_subset_size\"] = 4\n",
    "pst.pestpp_options[\"ies_lambda_mults\"] = [1.0]\n",
    "#pst.pestpp_options[\"lambda_scale_fac\"] = [0.95,1.1]\n",
    "pst.pestpp_options[\"ies_num_reals\"] = 30\n",
    "pst.pestpp_options[\"par_sigma_range\"] = 1\n",
    "#pst.pestpp_options[\"ies_reg_factor\"] = 1.0\n",
    "#pst.pestpp_options[\"parcov_filename\"] = \"prior.cov\"\n",
    "pst.control_data.noptmax = 4\n",
    "pst.write(os.path.join(working_dir,pst_name))"
   ]
  },
  {
   "cell_type": "code",
   "execution_count": null,
   "metadata": {},
   "outputs": [],
   "source": [
    "os.chdir(working_dir)\n",
    "pyemu.helpers.start_slaves(\".\",\"pestpp-ies\",pst_name,num_slaves=15,master_dir=\".\")\n",
    "os.chdir(\"..\")"
   ]
  },
  {
   "cell_type": "code",
   "execution_count": null,
   "metadata": {},
   "outputs": [],
   "source": [
    "par = pd.read_csv(pst.filename.replace(\".pst\",\".0.par.csv\"),index_col=0)\n",
    "par.columns = par.columns.map(str.lower)"
   ]
  },
  {
   "cell_type": "code",
   "execution_count": null,
   "metadata": {},
   "outputs": [],
   "source": [
    "df0 = pd.read_csv(os.path.join(working_dir,pst_name.replace(\".pst\",\".0.par.csv\")))\n",
    "df1 = pd.read_csv(os.path.join(working_dir,pst_name.replace(\".pst\",\".1.par.csv\")))"
   ]
  },
  {
   "cell_type": "code",
   "execution_count": null,
   "metadata": {},
   "outputs": [],
   "source": [
    "colors = [\"0.5\",\"b\",\"g\",'r']\n",
    "ax = plt.subplot(111)\n",
    "for i,c in enumerate(colors):\n",
    "    f = os.path.join(working_dir,pst_name.replace(\".pst\",\".{0}.par.csv\".format(i)))\n",
    "    if not os.path.exists(f):\n",
    "        break\n",
    "    #print(c,f)\n",
    "    df = pd.read_csv(f)    \n",
    "    ax.scatter(df.HK,df.RCH_0,color=c,alpha=0.5)\n",
    "    if i > 0:\n",
    "        for ii in df.index:\n",
    "            x = [df.loc[ii,\"HK\"],dflast.loc[ii,\"HK\"]]\n",
    "            y = [df.loc[ii,\"RCH_0\"],dflast.loc[ii,\"RCH_0\"]]\n",
    "            ax.plot(x,y,color=colors[i-1],alpha=0.5)\n",
    "    dflast = df"
   ]
  },
  {
   "cell_type": "code",
   "execution_count": null,
   "metadata": {},
   "outputs": [],
   "source": [
    "pyemu.plot_utils.ensemble_helper(par)"
   ]
  },
  {
   "cell_type": "code",
   "execution_count": null,
   "metadata": {},
   "outputs": [],
   "source": [
    "init_obs = pst.filename.replace(\".pst\",\".0.obs.csv\")\n",
    "final_obs = init_obs.replace(\"0\",\"{0}\".format(pst.control_data.noptmax))\n",
    "pyemu.plot_utils.ensemble_res_1to1({'0.5':init_obs,\"b\":final_obs},pst=pst)"
   ]
  },
  {
   "cell_type": "code",
   "execution_count": null,
   "metadata": {},
   "outputs": [],
   "source": [
    "init_df = pd.read_csv(init_obs,index_col=0)\n",
    "init_df.columns = init_df.columns.map(str.lower)\n",
    "final_df = pd.read_csv(final_obs,index_col=0)\n",
    "final_df.columns = final_df.columns.map(str.lower)\n"
   ]
  },
  {
   "cell_type": "code",
   "execution_count": null,
   "metadata": {},
   "outputs": [],
   "source": [
    "pst.pestpp_options"
   ]
  },
  {
   "cell_type": "code",
   "execution_count": null,
   "metadata": {},
   "outputs": [],
   "source": [
    "pyemu.plot_utils.ensemble_helper({\"0.5\":init_df.loc[:,pst.forecast_names],\"b\":final_df.loc[:,pst.forecast_names]},\n",
    "                                 deter_vals=pst.observation_data.loc[pst.forecast_names,\"obsval\"].to_dict(),bins=20)"
   ]
  },
  {
   "cell_type": "code",
   "execution_count": null,
   "metadata": {},
   "outputs": [],
   "source": []
  },
  {
   "cell_type": "code",
   "execution_count": null,
   "metadata": {},
   "outputs": [],
   "source": []
  },
  {
   "cell_type": "code",
   "execution_count": null,
   "metadata": {},
   "outputs": [],
   "source": []
  }
 ],
 "metadata": {
  "anaconda-cloud": {},
  "kernelspec": {
   "display_name": "Python 3",
   "language": "python",
   "name": "python3"
  },
  "language_info": {
   "codemirror_mode": {
    "name": "ipython",
    "version": 3
   },
   "file_extension": ".py",
   "mimetype": "text/x-python",
   "name": "python",
   "nbconvert_exporter": "python",
   "pygments_lexer": "ipython3",
   "version": "3.5.4"
  }
 },
 "nbformat": 4,
 "nbformat_minor": 1
}
