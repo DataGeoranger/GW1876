{
 "cells": [
  {
   "cell_type": "markdown",
   "metadata": {},
   "source": [
    "# how many parameters is \"enough\"?\n",
    "\n",
    "### During these excersizes, we have seen a traditional parameter estimation then uncertainty analysis workflow.  We also saw for the pilot points notebooks, about 500 model runs to \"calibrate\" the model and then another 500 to 1000 to find a decent set (ensemble) of realizations that fit the data acceptably well.  \n",
    "\n",
    "### But...even using pilot points as a parameterization device is a form of regularization: ideally, we would have an HK parameter in every model cell. But, that is too expensive in terms of model runs for calibration and uncertainty analysis (at least as we have learned it so far)."
   ]
  },
  {
   "cell_type": "code",
   "execution_count": null,
   "metadata": {},
   "outputs": [],
   "source": [
    "%matplotlib inline\n",
    "import os, shutil\n",
    "import sys\n",
    "sys.path.append(\"..\")\n",
    "import numpy as np\n",
    "from IPython.display import Image\n",
    "import pandas as pd\n",
    "import matplotlib.pyplot as plt\n",
    "\n",
    "import flopy as flopy\n",
    "import pyemu"
   ]
  },
  {
   "cell_type": "code",
   "execution_count": null,
   "metadata": {
    "scrolled": true
   },
   "outputs": [],
   "source": [
    "import freyberg_setup as fs\n",
    "fs.setup_pest_gr()\n",
    "working_dir = fs.WORKING_DIR_GR\n",
    "pst_name = fs.PST_NAME_GR"
   ]
  },
  {
   "cell_type": "code",
   "execution_count": null,
   "metadata": {},
   "outputs": [],
   "source": [
    "fs.plot_model(working_dir, pst_name)"
   ]
  },
  {
   "cell_type": "code",
   "execution_count": null,
   "metadata": {},
   "outputs": [],
   "source": [
    "pst = pyemu.Pst(os.path.join(working_dir,pst_name))\n",
    "\"number of parameters: {0} : WTF!\".format(pst.npar)"
   ]
  },
  {
   "cell_type": "code",
   "execution_count": null,
   "metadata": {},
   "outputs": [],
   "source": [
    "par = pst.parameter_data\n",
    "par.loc[par.pargp==\"hk\",\"partrans\"] = \"none\"\n",
    "#par.loc[par.pargp==\"hk\",\"parubnd\"] = 15.0\n",
    "par"
   ]
  },
  {
   "cell_type": "code",
   "execution_count": null,
   "metadata": {},
   "outputs": [],
   "source": [
    "pst.plot(kind=\"prior\",unique_only=True)"
   ]
  },
  {
   "cell_type": "code",
   "execution_count": null,
   "metadata": {},
   "outputs": [],
   "source": [
    "pst.pestpp_options[\"ies_subset_size\"] = 5\n",
    "pst.pestpp_options[\"ies_num_reals\"] = 30\n",
    "pst.pestpp_options[\"ies_lambda_mults\"] = [0.01,1.0,10.0]\n",
    "#pst.pestpp_options[\"parcov_filename\"] = \"prior.cov\"\n",
    "pst.pestpp_options[\"lambda_scale_fac\"] = [0.95,1.1]\n",
    "pst.control_data.noptmax = 4\n",
    "pst.write(os.path.join(working_dir,pst_name))"
   ]
  },
  {
   "cell_type": "code",
   "execution_count": null,
   "metadata": {},
   "outputs": [],
   "source": [
    "os.chdir(working_dir)\n",
    "pyemu.helpers.start_slaves(\".\",\"pestpp-ies\",pst_name,num_slaves=15,master_dir=\".\")\n",
    "os.chdir(\"..\")"
   ]
  },
  {
   "cell_type": "code",
   "execution_count": null,
   "metadata": {},
   "outputs": [],
   "source": [
    "it = 4\n",
    "m = flopy.modflow.Modflow.load(fs.MODEL_NAM,model_ws=working_dir,load_only=[\"upw\"],check=False)\n",
    "par = pst.parameter_data\n",
    "\n",
    "init_par = pst.filename.replace(\".pst\",\".0.par.csv\")\n",
    "final_par = pst.filename.replace(\".pst\",\".{0}.par.csv\".format(it))\n",
    "init_par = pd.read_csv(init_par,index_col=0)\n",
    "init_par.columns = init_par.columns.str.lower()\n",
    "final_par = pd.read_csv(final_par,index_col=0)\n",
    "final_par.columns = final_par.columns.str.lower()\n",
    "gr_par = par.loc[par.pargp==\"hk\",:].copy()\n",
    "gr_par.loc[:,\"i\"] = gr_par.parnme.apply(lambda x: int(x.split('_')[1][1:]))\n",
    "gr_par.loc[:,\"j\"] = gr_par.parnme.apply(lambda x: int(x.split('_')[2][1:]))\n",
    "gr_par.loc[:,\"parval1\"] = init_par.loc[\"1\",gr_par.parnme]\n",
    "mn,mx = gr_par.parval1.min(),gr_par.parval1.max()\n",
    "ax1,ax2 = plt.subplot(121),plt.subplot(122)\n",
    "arr = np.zeros((m.nrow,m.ncol))\n",
    "arr[gr_par.i,gr_par.j] = gr_par.parval1\n",
    "c = ax1.imshow(arr,vmin=mn,vmax=mx)\n",
    "#plt.colorbar(c)\n",
    "gr_par.loc[:,\"parval1\"] = final_par.loc[\"1\",gr_par.parnme]\n",
    "arr = np.zeros((m.nrow,m.ncol))\n",
    "arr[gr_par.i,gr_par.j] = gr_par.parval1\n",
    "c = ax2.imshow(arr,vmin=mn,vmax=mx)\n",
    "plt.colorbar(c)"
   ]
  },
  {
   "cell_type": "code",
   "execution_count": null,
   "metadata": {},
   "outputs": [],
   "source": [
    "pyemu.plot_utils.ensemble_helper({\"0.5\":init_df.loc[:,pst.forecast_names],\"b\":final_df.loc[:,pst.forecast_names]},\n",
    "                                 deter_vals=pst.observation_data.loc[pst.forecast_names,\"obsval\"].to_dict(),bins=20,\n",
    "                                deter_range=True,std_window=1)"
   ]
  },
  {
   "cell_type": "markdown",
   "metadata": {},
   "source": [
    "## It's (always) about the Prior\n",
    "\n",
    "pestpp-ies, like every tool we use for Bayes, is highly dependent on the Prior parameter distributions.  pestpp-ies makes that more explicit.  So let's build and use a full Prior covariance matrix:"
   ]
  },
  {
   "cell_type": "code",
   "execution_count": null,
   "metadata": {},
   "outputs": [],
   "source": [
    "grid_groups = []\n",
    "grid_prefixes = ['hk','r0','r1','ss','sy',\"pr\"]\n",
    "for prefix in grid_prefixes:\n",
    "    gr_par = par.loc[par.pargp==prefix].copy()\n",
    "    gr_par.loc[:,\"i\"] = gr_par.parnme.apply(lambda x: int(x.split('_')[1][1:]))\n",
    "    gr_par.loc[:,\"j\"] = gr_par.parnme.apply(lambda x: int(x.split('_')[2][1:]))\n",
    "    gr_par.loc[:,\"x\"] = m.sr.xcentergrid[gr_par.i,gr_par.j]\n",
    "    gr_par.loc[:,\"y\"] = m.sr.ycentergrid[gr_par.i,gr_par.j]\n",
    "    grid_groups.append(gr_par)\n"
   ]
  },
  {
   "cell_type": "code",
   "execution_count": null,
   "metadata": {},
   "outputs": [],
   "source": [
    "v = pyemu.geostats.ExpVario(contribution=1.0,a=10000.0)\n",
    "gs = pyemu.geostats.GeoStruct(variograms=v)\n",
    "cov = pyemu.helpers.geostatistical_prior_builder(pst=pst,struct_dict={gs:grid_groups},sigma_range=6)\n",
    "cov.to_ascii(os.path.join(working_dir,\"prior.cov\"))\n",
    "plt.imshow(np.ma.masked_where(cov.x==0,cov.x))"
   ]
  },
  {
   "cell_type": "code",
   "execution_count": null,
   "metadata": {},
   "outputs": [],
   "source": [
    "#par.loc[par.pargp==\"pr\",\"partrans\"] = \"fixed\"\n",
    "#pst.npar_adj"
   ]
  },
  {
   "cell_type": "markdown",
   "metadata": {},
   "source": [
    "## run pestpp-ies\n",
    "\n",
    "First let's run without regularization just to see how good we can do..."
   ]
  },
  {
   "cell_type": "code",
   "execution_count": null,
   "metadata": {},
   "outputs": [],
   "source": [
    "pst.pestpp_options[\"ies_subset_size\"] = 5\n",
    "pst.pestpp_options[\"ies_num_reals\"] = 30\n",
    "pst.pestpp_options[\"ies_lambda_mults\"] = [0.01,1.0,10.0]\n",
    "pst.pestpp_options[\"parcov_filename\"] = \"prior.cov\"\n",
    "pst.pestpp_options[\"lambda_scale_fac\"] = [0.95,1.1]\n",
    "pst.control_data.noptmax = 4\n",
    "pst.write(os.path.join(working_dir,pst_name))"
   ]
  },
  {
   "cell_type": "code",
   "execution_count": null,
   "metadata": {},
   "outputs": [],
   "source": [
    "os.chdir(working_dir)\n",
    "pyemu.helpers.start_slaves(\".\",\"pestpp-ies\",pst_name,num_slaves=15,master_dir=\".\")\n",
    "os.chdir(\"..\")"
   ]
  },
  {
   "cell_type": "markdown",
   "metadata": {},
   "source": [
    "### post processing"
   ]
  },
  {
   "cell_type": "code",
   "execution_count": null,
   "metadata": {},
   "outputs": [],
   "source": [
    "df = pd.read_csv(pst.filename.replace(\".pst\",\".phi.actual.csv\"))\n",
    "plt.plot(df.total_runs,df.loc[:,\"mean\"],marker='.')\n",
    "plt.show()"
   ]
  },
  {
   "cell_type": "markdown",
   "metadata": {},
   "source": [
    "### 1 to 1"
   ]
  },
  {
   "cell_type": "code",
   "execution_count": null,
   "metadata": {},
   "outputs": [],
   "source": [
    "init_obs = pst.filename.replace(\".pst\",\".0.obs.csv\")\n",
    "#pick which interation results to visualize\n",
    "it = 4\n",
    "final_obs = init_obs.replace(\"0\",\"{0}\".format(it)) \n",
    "init_df = pd.read_csv(init_obs,index_col=0)\n",
    "init_df.columns = init_df.columns.map(str.lower)\n",
    "final_df = pd.read_csv(final_obs,index_col=0)\n",
    "final_df.columns = final_df.columns.map(str.lower)\n",
    "fig = pyemu.plot_utils.ensemble_res_1to1({'0.5':init_df,\"b\":final_df},pst=pst)"
   ]
  },
  {
   "cell_type": "markdown",
   "metadata": {},
   "source": [
    "### forecast posteriors"
   ]
  },
  {
   "cell_type": "code",
   "execution_count": null,
   "metadata": {
    "scrolled": false
   },
   "outputs": [],
   "source": [
    "pyemu.plot_utils.ensemble_helper({\"0.5\":init_df.loc[:,pst.forecast_names],\"b\":final_df.loc[:,pst.forecast_names]},\n",
    "                                 deter_vals=pst.observation_data.loc[pst.forecast_names,\"obsval\"].to_dict(),bins=10,\n",
    "                                deter_range=True,std_window=1)"
   ]
  },
  {
   "cell_type": "markdown",
   "metadata": {},
   "source": [
    "ruh-roh..."
   ]
  },
  {
   "cell_type": "markdown",
   "metadata": {},
   "source": [
    "### plot a realization of hk..."
   ]
  },
  {
   "cell_type": "code",
   "execution_count": null,
   "metadata": {},
   "outputs": [],
   "source": [
    "it = 4\n",
    "m = flopy.modflow.Modflow.load(fs.MODEL_NAM,model_ws=working_dir,load_only=[\"upw\"],check=False)\n",
    "par = pst.parameter_data\n",
    "\n",
    "init_par = pst.filename.replace(\".pst\",\".0.par.csv\")\n",
    "final_par = pst.filename.replace(\".pst\",\".{0}.par.csv\".format(it))\n",
    "init_par = pd.read_csv(init_par,index_col=0)\n",
    "init_par.columns = init_par.columns.str.lower()\n",
    "final_par = pd.read_csv(final_par,index_col=0)\n",
    "final_par.columns = final_par.columns.str.lower()\n",
    "gr_par = par.loc[par.pargp==\"hk\",:].copy()\n",
    "gr_par.loc[:,\"i\"] = gr_par.parnme.apply(lambda x: int(x.split('_')[1][1:]))\n",
    "gr_par.loc[:,\"j\"] = gr_par.parnme.apply(lambda x: int(x.split('_')[2][1:]))\n",
    "gr_par.loc[:,\"parval1\"] = init_par.loc[\"1\",gr_par.parnme]\n",
    "mn,mx = gr_par.parval1.min(),gr_par.parval1.max()\n",
    "ax1,ax2 = plt.subplot(121),plt.subplot(122)\n",
    "arr = np.zeros((m.nrow,m.ncol))\n",
    "arr[gr_par.i,gr_par.j] = gr_par.parval1\n",
    "c = ax1.imshow(arr,vmin=mn,vmax=mx)\n",
    "#plt.colorbar(c)\n",
    "gr_par.loc[:,\"parval1\"] = final_par.loc[\"1\",gr_par.parnme]\n",
    "arr = np.zeros((m.nrow,m.ncol))\n",
    "arr[gr_par.i,gr_par.j] = gr_par.parval1\n",
    "c = ax2.imshow(arr,vmin=mn,vmax=mx)\n",
    "plt.colorbar(c)"
   ]
  },
  {
   "cell_type": "markdown",
   "metadata": {},
   "source": [
    "## Let's regularize!"
   ]
  },
  {
   "cell_type": "code",
   "execution_count": null,
   "metadata": {},
   "outputs": [],
   "source": [
    "pst.pestpp_options[\"ies_subset_size\"] = 4\n",
    "pst.pestpp_options[\"ies_lambda_mults\"] = [0.1,1.0,10.0]\n",
    "pst.pestpp_options[\"lambda_scale_fac\"] = [0.5,0.75,1.0]\n",
    "pst.pestpp_options[\"parcov_filename\"] = \"prior.cov\"\n",
    "#pst.pestpp_options[\"ies_use_prior_scaling\"] = True\n",
    "pst.pestpp_options[\"ies_reg_factor\"] = 1.0\n",
    "pst.pestpp_options[\"ies_initial_lambda\"] = 5000.0\n",
    "pst.control_data.noptmax = 4\n",
    "pst.write(os.path.join(working_dir,pst_name))"
   ]
  },
  {
   "cell_type": "code",
   "execution_count": null,
   "metadata": {},
   "outputs": [],
   "source": [
    "os.chdir(working_dir)\n",
    "pyemu.helpers.start_slaves(\".\",\"pestpp-ies\",pst_name,num_slaves=15,master_dir=\".\")\n",
    "os.chdir(\"..\")"
   ]
  },
  {
   "cell_type": "markdown",
   "metadata": {},
   "source": [
    "### re-post process"
   ]
  },
  {
   "cell_type": "code",
   "execution_count": null,
   "metadata": {},
   "outputs": [],
   "source": [
    "df = pd.read_csv(pst.filename.replace(\".pst\",\".phi.actual.csv\"))\n",
    "plt.plot(df.total_runs,df.loc[:,\"mean\"],marker='.')\n",
    "plt.show()"
   ]
  },
  {
   "cell_type": "code",
   "execution_count": null,
   "metadata": {},
   "outputs": [],
   "source": [
    "init_obs = pst.filename.replace(\".pst\",\".0.obs.csv\")\n",
    "#pick which interation results to visualize\n",
    "it = 4\n",
    "final_obs = init_obs.replace(\"0\",\"{0}\".format(it)) \n",
    "init_df = pd.read_csv(init_obs,index_col=0)\n",
    "init_df.columns = init_df.columns.map(str.lower)\n",
    "final_df = pd.read_csv(final_obs,index_col=0)\n",
    "final_df.columns = final_df.columns.map(str.lower)\n",
    "fig = pyemu.plot_utils.ensemble_res_1to1({'0.5':init_df,\"b\":final_df},pst=pst)"
   ]
  },
  {
   "cell_type": "code",
   "execution_count": null,
   "metadata": {},
   "outputs": [],
   "source": [
    "pyemu.plot_utils.ensemble_helper({\"0.5\":init_df.loc[:,pst.forecast_names],\"b\":final_df.loc[:,pst.forecast_names]},\n",
    "                                 deter_vals=pst.observation_data.loc[pst.forecast_names,\"obsval\"].to_dict(),bins=20,\n",
    "                                deter_range=True,std_window=0.5)"
   ]
  },
  {
   "cell_type": "code",
   "execution_count": null,
   "metadata": {},
   "outputs": [],
   "source": [
    "it = 4\n",
    "m = flopy.modflow.Modflow.load(fs.MODEL_NAM,model_ws=working_dir,load_only=[\"upw\"],check=False)\n",
    "par = pst.parameter_data\n",
    "\n",
    "init_par = pst.filename.replace(\".pst\",\".0.par.csv\")\n",
    "final_par = pst.filename.replace(\".pst\",\".{0}.par.csv\".format(it))\n",
    "init_par = pd.read_csv(init_par,index_col=0)\n",
    "init_par.columns = init_par.columns.str.lower()\n",
    "final_par = pd.read_csv(final_par,index_col=0)\n",
    "final_par.columns = final_par.columns.str.lower()\n",
    "gr_par = par.loc[par.pargp==\"hk\",:].copy()\n",
    "gr_par.loc[:,\"i\"] = gr_par.parnme.apply(lambda x: int(x.split('_')[1][1:]))\n",
    "gr_par.loc[:,\"j\"] = gr_par.parnme.apply(lambda x: int(x.split('_')[2][1:]))\n",
    "gr_par.loc[:,\"parval1\"] = init_par.loc[\"1\",gr_par.parnme]\n",
    "mn,mx = gr_par.parval1.min(),gr_par.parval1.max()\n",
    "ax1,ax2 = plt.subplot(121),plt.subplot(122)\n",
    "arr = np.zeros((m.nrow,m.ncol))\n",
    "arr[gr_par.i,gr_par.j] = gr_par.parval1\n",
    "c = ax1.imshow(arr,vmin=mn,vmax=mx)\n",
    "#plt.colorbar(c)\n",
    "gr_par.loc[:,\"parval1\"] = final_par.loc[\"1\",gr_par.parnme]\n",
    "arr = np.zeros((m.nrow,m.ncol))\n",
    "arr[gr_par.i,gr_par.j] = gr_par.parval1\n",
    "c = ax2.imshow(arr,vmin=mn,vmax=mx)\n",
    "plt.colorbar(c)"
   ]
  },
  {
   "cell_type": "code",
   "execution_count": null,
   "metadata": {},
   "outputs": [],
   "source": []
  },
  {
   "cell_type": "code",
   "execution_count": null,
   "metadata": {},
   "outputs": [],
   "source": []
  }
 ],
 "metadata": {
  "anaconda-cloud": {},
  "kernelspec": {
   "display_name": "Python 3",
   "language": "python",
   "name": "python3"
  },
  "language_info": {
   "codemirror_mode": {
    "name": "ipython",
    "version": 3
   },
   "file_extension": ".py",
   "mimetype": "text/x-python",
   "name": "python",
   "nbconvert_exporter": "python",
   "pygments_lexer": "ipython3",
   "version": "3.5.4"
  }
 },
 "nbformat": 4,
 "nbformat_minor": 1
}
