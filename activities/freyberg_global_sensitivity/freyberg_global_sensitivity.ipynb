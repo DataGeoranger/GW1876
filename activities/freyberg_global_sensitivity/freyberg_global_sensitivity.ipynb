{
 "cells": [
  {
   "cell_type": "markdown",
   "metadata": {},
   "source": [
    "<img src=\"PEST++V3_cover.jpeg\" style=\"float: left\">\n",
    "\n",
    "<img src=\"flopylogo.png\" style=\"float: right\">\n",
    "\n",
    "<img src=\"AW&H2015.png\" style=\"float: center\">\n",
    "\n",
    "# Looking at Global Sensitivity Analyses (GSA)\n",
    "\n",
    "Sensitivity methods we've looked at so far only evaluate the \"local\" sensitivity at a single set of parameter values.  For example, the Jacobian matrix represents perturbations to a single set of parameter values.  This local view can be a problem in cases when our inverse problem is nonlinear, which means the parameter sensitivities can change depending on what the parameter value is. In contrast, Global Sensitivity Analyses are statistical approaches that try to characterize how model parameters affect model outputs over a __wide range__ of acceptable parameter values. Because we often are interested in a number of parameter sets GSA methods provide a more representative view of parameter estimation compared to traditional, derivative-based local sensitivity analysis. Some GSA methods provide general information about the variability of the sensitivities and have relatively low computational requirements, whereas others provide detailed information on nonlinear behavior and interactions between parameters at the expense of larger computational requirements. For a complete introduction to GSA theory and methods, see Saltelli and others (2004, 2008)."
   ]
  },
  {
   "cell_type": "markdown",
   "metadata": {},
   "source": [
    "### Local Sensitivity Equation\n",
    "Recall the local sensitivity equation (eq. 9.7 Anderson et al. 2015):\n",
    "\n",
    "<img src=\"Sensitivity_eq.png\" style=\"float: center\">\n",
    "\n",
    "In GSA the change in parameter is not just small perturbations (usually 1%) around the parameter value but rather spans the reasonable parameter range.  What is a reasonable range?  For convenience GSA++ uses the parameter bounds that you specify in your PEST Control File."
   ]
  },
  {
   "cell_type": "markdown",
   "metadata": {},
   "source": [
    "### Lots of parameters evaluated = lots of computer time.  Using the PEST++ engine to run GSA in parallel\n",
    "\n",
    "GSA++ is a stand-alone program distributed with the PEST++ Version 3 suite of tools that perform GSA. It leverages the PEST++ parallel run manger YAMR, and is fully compatible with PEST/PEST++ file formats, including template and instruction files. For us this means we can access the insight of GSA using parallel computing without changing our files. More GSA++ running details are provided in appendix 6 of the PEST++ V3 Techniques and Methods Report. Appendixes 7 and 8 demonstrate the use of GSA++ for a Method of Morris and Sobol example problem.  In this notebook we'll run GSA on the Freyburg model.\n",
    "\n",
    "### Last bit of GSA Method of Morris Theory from PEST++ T&M Report (Welter et al. 2015 pages 5-7):\n",
    "\n",
    "The program GSA++ currently supports two GSA methods: (1) the __Method of Morris__ (Morris, 1991), and (2) the __Method of Sobol__ (Sobol, 2001). In the class we'll focus on the Method of Morris because it is computationally more efficient. But this efficiency comes with a tradeoff: the Method of Morris only provides estimates of the mean and variance of the sensitivity distribution for each parameter. Because of the lack of complete description of the parameter nonlinearity and interactions between parameters, the Method of Morris can be used as a screening-level tool to identify the most important parameters for the observations tested. This screening can be followed by application of a more comprehensive tool, such as the Method of Sobol, which further characterizes the effects of parameter nonlinearity and inter-parameter interactions. \n",
    "\n",
    "The Method of Morris is referred to as a “one-at-a-time” method because each parameter is perturbed sequentially to compute sensitivities, which is ideally suited for parallel computing. The method samples the sensitivity of a given parameter at several locations over the range of reasonable parameter space (__defined by the parameter bounds in the PEST Control file__) and then provides two measures of parameter sensitivity: the mean (__μ__) and the standard deviation (__σ__) of the resulting sensitivity distribution. The mean, __μ__, captures the overall effect of a parameter on the model output of interest; the standard deviation, __σ__, measures a parameter’s sensitivity across the range of acceptable parameter values, this being an indicator of how nonlinear a given parameter is and (or) how the parameter interacts with other parameters. It is important to note that the Method of Morris __cannot distinguish__ between parameter nonlinearity and parameter interactions because only the standard deviation of parameter sensitivity is available. \n",
    "\n",
    "#### For the class we'll focus on the easiest way to get in the GSA game using pyemu, but this is also likely what you would start with in 95% of the models you evaluate.  For convenience, widely applicable default values are supplied for you by pyemu but can easily be changed by editing the *.gsa* file pyemu creates  (see Appendix 6 in the PEST++ V3 report for descriptions of the *.gsa* variables). \n"
   ]
  },
  {
   "cell_type": "code",
   "execution_count": 1,
   "metadata": {
    "collapsed": true
   },
   "outputs": [],
   "source": [
    "%matplotlib inline\n",
    "import os\n",
    "import shutil\n",
    "import sys\n",
    "sys.path.append(\"..\")\n",
    "import matplotlib.pyplot as plt\n",
    "import numpy as np\n",
    "import pandas as pd\n",
    "import pyemu\n",
    "\n",
    "#from matplotlib.backends.backend_pdf import PdfPages"
   ]
  },
  {
   "cell_type": "code",
   "execution_count": 2,
   "metadata": {
    "collapsed": false
   },
   "outputs": [
    {
     "name": "stdout",
     "output_type": "stream",
     "text": [
      "['botm.ref', 'extract_zone_array.py', 'forecasts_true.csv', 'freyberg.bas', 'freyberg.dbf', 'freyberg.dis', 'freyberg.hds', 'freyberg.heads', 'freyberg.heads_potobs.ins', 'freyberg.hyd', 'freyberg.list', 'freyberg.locations', 'freyberg.mpbas', 'freyberg.mpenpt', 'freyberg.mplist', 'freyberg.mpnam', 'freyberg.mppthln', 'freyberg.mpsim', 'freyberg.oc', 'freyberg.pcg', 'freyberg.rivflux', 'freyberg.shp', 'freyberg.shx', 'freyberg.travel', 'freyberg.truth.lpf', 'freyberg.truth.nam', 'freyberg.truth.rch', 'freyberg.truth.riv', 'freyberg.truth.wel', 'hk.truth.ref', 'hk.zones', 'ibound.ref', 'kzone.ref', 'mpath.in', 'obs_loc.csv', 'potobs_group.csv', 'Process_output.py', 'run_true_model.py', 'strt.ref', 'Weights_and_best_PHI.xlsx']\n",
      "\n",
      "changing model workspace...\n",
      "   freyberg_zn\n",
      "WARNING: unit 31 of package UPW already in use\n",
      "FloPy is using the following executable to run the model: E:\\git\\GW1876\\activities\\freyberg_global_sensitivity\\freyberg_zn\\mfnwt.exe\n",
      "\n",
      "                                  MODFLOW-NWT-SWR1 \n",
      "    U.S. GEOLOGICAL SURVEY MODULAR FINITE-DIFFERENCE GROUNDWATER-FLOW MODEL\n",
      "                             WITH NEWTON FORMULATION\n",
      "                             Version 1.0.9 07/01/2014                        \n",
      "                    BASED ON MODFLOW-2005 Version 1.11.0 08/08/2013                       \n",
      "\n",
      "                    SWR1 Version 1.03.0 08/30/2013                       \n",
      "\n",
      " Using NAME file: freyberg.nam \n",
      " Run start date and time (yyyy/mm/dd hh:mm:ss): 2017/09/10 10:57:58\n",
      "\n",
      " Solving:  Stress period:     1    Time step:     1    Groundwater-Flow Eqn.\n",
      " Solving:  Stress period:     2    Time step:     1    Groundwater-Flow Eqn.\n",
      " Solving:  Stress period:     3    Time step:     1    Groundwater-Flow Eqn.\n",
      " Run end date and time (yyyy/mm/dd hh:mm:ss): 2017/09/10 10:57:58\n",
      " Elapsed run time:  0.048 Seconds\n",
      "\n",
      "  Normal termination of simulation\n",
      "run():mp6.exe freyberg.mpsim\n",
      "Util2d:delr: resetting 'how' to external\n",
      "Util2d:delc: resetting 'how' to external\n",
      "Util2d:model_top: resetting 'how' to external\n",
      "Util2d:botm_layer_0: resetting 'how' to external\n",
      "Util2d:ibound_layer_0: resetting 'how' to external\n",
      "Util2d:strt_layer_0: resetting 'how' to external\n",
      "Util2d:rech_1: resetting 'how' to external\n",
      "Util2d:rech_2: resetting 'how' to external\n",
      "Util2d:rech_3: resetting 'how' to external\n",
      "Util2d:hk layer 1: resetting 'how' to external\n",
      "Util2d:vk: resetting 'how' to external\n",
      "Util2d:ss: resetting 'how' to external\n",
      "Util2d:ss: resetting 'how' to external\n",
      "FloPy is using the following executable to run the model: E:\\git\\GW1876\\activities\\freyberg_global_sensitivity\\freyberg_zn\\mfnwt.exe\n",
      "\n",
      "                                  MODFLOW-NWT-SWR1 \n",
      "    U.S. GEOLOGICAL SURVEY MODULAR FINITE-DIFFERENCE GROUNDWATER-FLOW MODEL\n",
      "                             WITH NEWTON FORMULATION\n",
      "                             Version 1.0.9 07/01/2014                        \n",
      "                    BASED ON MODFLOW-2005 Version 1.11.0 08/08/2013                       \n",
      "\n",
      "                    SWR1 Version 1.03.0 08/30/2013                       \n",
      "\n",
      " Using NAME file: freyberg.nam \n",
      " Run start date and time (yyyy/mm/dd hh:mm:ss): 2017/09/10 10:57:58\n",
      "\n",
      " Solving:  Stress period:     1    Time step:     1    Groundwater-Flow Eqn.\n",
      " Solving:  Stress period:     2    Time step:     1    Groundwater-Flow Eqn.\n",
      " Solving:  Stress period:     3    Time step:     1    Groundwater-Flow Eqn.\n",
      " Run end date and time (yyyy/mm/dd hh:mm:ss): 2017/09/10 10:57:58\n",
      " Elapsed run time:  0.047 Seconds\n",
      "\n",
      "  Normal termination of simulation\n",
      "Starting to read HYDMOD data from freyberg.hyd.bin\n",
      "Starting to read HYDMOD data from freyberg.hyd.bin.truth\n",
      "run():inschek.exe flux.dat.ins flux.dat\n",
      "run():inschek.exe vol.dat.ins vol.dat\n",
      "run():inschek.exe flux.dat.ins flux.dat\n",
      "run():inschek.exe vol.dat.ins vol.dat\n",
      "run():inschek.exe flux.dat.ins flux.dat\n",
      "run():inschek.exe freyberg.hyd.bin.dat.ins freyberg.hyd.bin.dat\n",
      "run():inschek.exe freyberg.travel.ins freyberg.travel\n",
      "run():inschek.exe vol.dat.ins vol.dat\n",
      "run():pestchek.exe freyberg_zn.pst\n",
      "run():pestpp.exe freyberg_zn.init.pst\n"
     ]
    }
   ],
   "source": [
    "import freyberg_setup as fs\n",
    "pst_name = fs.PST_NAME_ZN\n",
    "working_dir = fs.WORKING_DIR_ZN\n",
    "fs.setup_pest_zn()"
   ]
  },
  {
   "cell_type": "markdown",
   "metadata": {},
   "source": [
    "### First let's calculate a single Jacobian - it represents local-scale sensitivity information"
   ]
  },
  {
   "cell_type": "code",
   "execution_count": 3,
   "metadata": {
    "collapsed": false
   },
   "outputs": [
    {
     "name": "stdout",
     "output_type": "stream",
     "text": [
      "run():pestpp.exe freyberg_zn.pst\n"
     ]
    }
   ],
   "source": [
    "pst = pyemu.Pst(os.path.join(working_dir,pst_name))\n",
    "pst.control_data.noptmax = -1\n",
    "pst.write(os.path.join(working_dir,pst_name))\n",
    "pyemu.helpers.run(\"pestpp {0}\".format(pst_name),cwd=working_dir)"
   ]
  },
  {
   "cell_type": "markdown",
   "metadata": {},
   "source": [
    "### Now, let's run GSA, a global sensitivity analysis tool.  By default (no extra settings), GSA will run the Method of Morris with 4 discretization points for each parameter..."
   ]
  },
  {
   "cell_type": "code",
   "execution_count": 4,
   "metadata": {
    "collapsed": false
   },
   "outputs": [
    {
     "name": "stdout",
     "output_type": "stream",
     "text": [
      "master:gsa freyberg_zn.pst /h :4004 in .\n",
      "slave:gsa freyberg_zn.pst /h localhost:4004 in ..\\slave_0\n",
      "slave:gsa freyberg_zn.pst /h localhost:4004 in ..\\slave_1\n",
      "slave:gsa freyberg_zn.pst /h localhost:4004 in ..\\slave_2\n",
      "slave:gsa freyberg_zn.pst /h localhost:4004 in ..\\slave_3\n",
      "slave:gsa freyberg_zn.pst /h localhost:4004 in ..\\slave_4\n",
      "slave:gsa freyberg_zn.pst /h localhost:4004 in ..\\slave_5\n",
      "slave:gsa freyberg_zn.pst /h localhost:4004 in ..\\slave_6\n",
      "slave:gsa freyberg_zn.pst /h localhost:4004 in ..\\slave_7\n",
      "slave:gsa freyberg_zn.pst /h localhost:4004 in ..\\slave_8\n",
      "slave:gsa freyberg_zn.pst /h localhost:4004 in ..\\slave_9\n",
      "slave:gsa freyberg_zn.pst /h localhost:4004 in ..\\slave_10\n",
      "slave:gsa freyberg_zn.pst /h localhost:4004 in ..\\slave_11\n",
      "slave:gsa freyberg_zn.pst /h localhost:4004 in ..\\slave_12\n",
      "slave:gsa freyberg_zn.pst /h localhost:4004 in ..\\slave_13\n",
      "slave:gsa freyberg_zn.pst /h localhost:4004 in ..\\slave_14\n"
     ]
    }
   ],
   "source": [
    "os.chdir(working_dir)\n",
    "pyemu.helpers.start_slaves('.',\"gsa\",pst_name,num_slaves=15,master_dir=\".\")\n",
    "os.chdir(\"..\")"
   ]
  },
  {
   "cell_type": "code",
   "execution_count": 5,
   "metadata": {
    "collapsed": false
   },
   "outputs": [
    {
     "data": {
      "text/plain": [
       "'E:\\\\git\\\\GW1876\\\\activities\\\\freyberg_global_sensitivity'"
      ]
     },
     "execution_count": 5,
     "metadata": {},
     "output_type": "execute_result"
    }
   ],
   "source": [
    "os.getcwd()"
   ]
  },
  {
   "cell_type": "markdown",
   "metadata": {},
   "source": [
    "### Look at the Jacobian matrix---gradients of parameters wrt. observations\n",
    "\n",
    "For each parameter-observation combination, we can see how much the observation value changes due to a small change in the parameter. If $y$ are the observations and $x$ are the parameters, the equation for the $i^th$ observation with respect to the $j^th$ parameter is:  \n",
    "## $\\frac{\\partial y_i}{\\partial x_j}$\n",
    "This can be approximated by finite differences as :  \n",
    "## $\\frac{\\partial y_i}{\\partial x_j}~\\frac{y\\left(x+\\Delta x \\right)-y\\left(x\\right)}{\\Delta x}$"
   ]
  },
  {
   "cell_type": "markdown",
   "metadata": {},
   "source": [
    "### First we can read in a couple Jacobian matrices -- one from our simple model, and one from a more complex one"
   ]
  },
  {
   "cell_type": "code",
   "execution_count": 6,
   "metadata": {
    "collapsed": true
   },
   "outputs": [],
   "source": [
    "jco = pyemu.Jco.from_binary(os.path.join(working_dir,pst_name.replace(\".pst\",\".jcb\")))\n",
    "jco_df = jco.to_dataframe()"
   ]
  },
  {
   "cell_type": "code",
   "execution_count": 7,
   "metadata": {
    "collapsed": false
   },
   "outputs": [
    {
     "data": {
      "text/html": [
       "<div>\n",
       "<table border=\"1\" class=\"dataframe\">\n",
       "  <thead>\n",
       "    <tr style=\"text-align: right;\">\n",
       "      <th></th>\n",
       "      <th>rch_0</th>\n",
       "      <th>rch_1</th>\n",
       "      <th>hk_z01</th>\n",
       "      <th>hk_z02</th>\n",
       "      <th>hk_z03</th>\n",
       "      <th>hk_z04</th>\n",
       "      <th>hk_z05</th>\n",
       "      <th>hk_z06</th>\n",
       "    </tr>\n",
       "  </thead>\n",
       "  <tbody>\n",
       "    <tr>\n",
       "      <th>flx_river_l_19700102</th>\n",
       "      <td>-12744.213423</td>\n",
       "      <td>0.0</td>\n",
       "      <td>-0.338976</td>\n",
       "      <td>-9.265355</td>\n",
       "      <td>5.367126</td>\n",
       "      <td>72.427959</td>\n",
       "      <td>-169.714187</td>\n",
       "      <td>-153.612808</td>\n",
       "    </tr>\n",
       "    <tr>\n",
       "      <th>cr03c10_19700102</th>\n",
       "      <td>12.077359</td>\n",
       "      <td>0.0</td>\n",
       "      <td>0.020303</td>\n",
       "      <td>-1.610138</td>\n",
       "      <td>-8.570630</td>\n",
       "      <td>-0.892903</td>\n",
       "      <td>-0.226867</td>\n",
       "      <td>-0.135944</td>\n",
       "    </tr>\n",
       "    <tr>\n",
       "      <th>cr03c16_19700102</th>\n",
       "      <td>1.401809</td>\n",
       "      <td>0.0</td>\n",
       "      <td>0.000000</td>\n",
       "      <td>-0.573347</td>\n",
       "      <td>-0.485072</td>\n",
       "      <td>-0.030014</td>\n",
       "      <td>-0.001766</td>\n",
       "      <td>-0.000883</td>\n",
       "    </tr>\n",
       "    <tr>\n",
       "      <th>cr04c09_19700102</th>\n",
       "      <td>13.683965</td>\n",
       "      <td>0.0</td>\n",
       "      <td>0.017655</td>\n",
       "      <td>-2.276615</td>\n",
       "      <td>-9.204445</td>\n",
       "      <td>-1.045177</td>\n",
       "      <td>-0.271005</td>\n",
       "      <td>-0.164192</td>\n",
       "    </tr>\n",
       "    <tr>\n",
       "      <th>cr10c02_19700102</th>\n",
       "      <td>22.782922</td>\n",
       "      <td>0.0</td>\n",
       "      <td>-0.076799</td>\n",
       "      <td>-7.769092</td>\n",
       "      <td>-11.248897</td>\n",
       "      <td>-1.353257</td>\n",
       "      <td>-0.831551</td>\n",
       "      <td>-0.602036</td>\n",
       "    </tr>\n",
       "    <tr>\n",
       "      <th>cr14c11_19700102</th>\n",
       "      <td>6.176168</td>\n",
       "      <td>0.0</td>\n",
       "      <td>-0.001324</td>\n",
       "      <td>-0.084303</td>\n",
       "      <td>-0.839496</td>\n",
       "      <td>-2.429772</td>\n",
       "      <td>-0.927771</td>\n",
       "      <td>-0.127116</td>\n",
       "    </tr>\n",
       "    <tr>\n",
       "      <th>cr16c17_19700102</th>\n",
       "      <td>2.380780</td>\n",
       "      <td>0.0</td>\n",
       "      <td>0.000000</td>\n",
       "      <td>-0.036193</td>\n",
       "      <td>-0.167723</td>\n",
       "      <td>-1.738578</td>\n",
       "      <td>-0.062234</td>\n",
       "      <td>-0.015890</td>\n",
       "    </tr>\n",
       "    <tr>\n",
       "      <th>cr22c11_19700102</th>\n",
       "      <td>8.029945</td>\n",
       "      <td>0.0</td>\n",
       "      <td>-0.003090</td>\n",
       "      <td>0.129764</td>\n",
       "      <td>0.132854</td>\n",
       "      <td>-1.888646</td>\n",
       "      <td>-3.801567</td>\n",
       "      <td>-0.814338</td>\n",
       "    </tr>\n",
       "    <tr>\n",
       "      <th>cr23c16_19700102</th>\n",
       "      <td>1.430939</td>\n",
       "      <td>0.0</td>\n",
       "      <td>0.000000</td>\n",
       "      <td>0.036634</td>\n",
       "      <td>0.070179</td>\n",
       "      <td>-0.905261</td>\n",
       "      <td>-0.457044</td>\n",
       "      <td>-0.071724</td>\n",
       "    </tr>\n",
       "    <tr>\n",
       "      <th>cr25c05_19700102</th>\n",
       "      <td>18.254409</td>\n",
       "      <td>0.0</td>\n",
       "      <td>-0.015007</td>\n",
       "      <td>-1.257038</td>\n",
       "      <td>-6.013300</td>\n",
       "      <td>-3.302813</td>\n",
       "      <td>-3.210124</td>\n",
       "      <td>-2.276174</td>\n",
       "    </tr>\n",
       "    <tr>\n",
       "      <th>cr27c07_19700102</th>\n",
       "      <td>15.588060</td>\n",
       "      <td>0.0</td>\n",
       "      <td>-0.009269</td>\n",
       "      <td>-0.500961</td>\n",
       "      <td>-1.430939</td>\n",
       "      <td>-3.688575</td>\n",
       "      <td>-4.268543</td>\n",
       "      <td>-2.981492</td>\n",
       "    </tr>\n",
       "    <tr>\n",
       "      <th>cr30c16_19700102</th>\n",
       "      <td>1.473974</td>\n",
       "      <td>0.0</td>\n",
       "      <td>0.000000</td>\n",
       "      <td>0.010372</td>\n",
       "      <td>0.023614</td>\n",
       "      <td>-0.118951</td>\n",
       "      <td>-0.738642</td>\n",
       "      <td>-0.557899</td>\n",
       "    </tr>\n",
       "    <tr>\n",
       "      <th>cr34c08_19700102</th>\n",
       "      <td>11.231683</td>\n",
       "      <td>0.0</td>\n",
       "      <td>-0.004414</td>\n",
       "      <td>-0.123144</td>\n",
       "      <td>-0.170812</td>\n",
       "      <td>-1.068570</td>\n",
       "      <td>-3.081684</td>\n",
       "      <td>-4.222640</td>\n",
       "    </tr>\n",
       "    <tr>\n",
       "      <th>cr35c11_19700102</th>\n",
       "      <td>7.410254</td>\n",
       "      <td>0.0</td>\n",
       "      <td>-0.002207</td>\n",
       "      <td>-0.072165</td>\n",
       "      <td>-0.111227</td>\n",
       "      <td>-0.393045</td>\n",
       "      <td>-2.133830</td>\n",
       "      <td>-1.115135</td>\n",
       "    </tr>\n",
       "  </tbody>\n",
       "</table>\n",
       "</div>"
      ],
      "text/plain": [
       "                             rch_0  rch_1    hk_z01    hk_z02     hk_z03  \\\n",
       "flx_river_l_19700102 -12744.213423    0.0 -0.338976 -9.265355   5.367126   \n",
       "cr03c10_19700102         12.077359    0.0  0.020303 -1.610138  -8.570630   \n",
       "cr03c16_19700102          1.401809    0.0  0.000000 -0.573347  -0.485072   \n",
       "cr04c09_19700102         13.683965    0.0  0.017655 -2.276615  -9.204445   \n",
       "cr10c02_19700102         22.782922    0.0 -0.076799 -7.769092 -11.248897   \n",
       "cr14c11_19700102          6.176168    0.0 -0.001324 -0.084303  -0.839496   \n",
       "cr16c17_19700102          2.380780    0.0  0.000000 -0.036193  -0.167723   \n",
       "cr22c11_19700102          8.029945    0.0 -0.003090  0.129764   0.132854   \n",
       "cr23c16_19700102          1.430939    0.0  0.000000  0.036634   0.070179   \n",
       "cr25c05_19700102         18.254409    0.0 -0.015007 -1.257038  -6.013300   \n",
       "cr27c07_19700102         15.588060    0.0 -0.009269 -0.500961  -1.430939   \n",
       "cr30c16_19700102          1.473974    0.0  0.000000  0.010372   0.023614   \n",
       "cr34c08_19700102         11.231683    0.0 -0.004414 -0.123144  -0.170812   \n",
       "cr35c11_19700102          7.410254    0.0 -0.002207 -0.072165  -0.111227   \n",
       "\n",
       "                         hk_z04      hk_z05      hk_z06  \n",
       "flx_river_l_19700102  72.427959 -169.714187 -153.612808  \n",
       "cr03c10_19700102      -0.892903   -0.226867   -0.135944  \n",
       "cr03c16_19700102      -0.030014   -0.001766   -0.000883  \n",
       "cr04c09_19700102      -1.045177   -0.271005   -0.164192  \n",
       "cr10c02_19700102      -1.353257   -0.831551   -0.602036  \n",
       "cr14c11_19700102      -2.429772   -0.927771   -0.127116  \n",
       "cr16c17_19700102      -1.738578   -0.062234   -0.015890  \n",
       "cr22c11_19700102      -1.888646   -3.801567   -0.814338  \n",
       "cr23c16_19700102      -0.905261   -0.457044   -0.071724  \n",
       "cr25c05_19700102      -3.302813   -3.210124   -2.276174  \n",
       "cr27c07_19700102      -3.688575   -4.268543   -2.981492  \n",
       "cr30c16_19700102      -0.118951   -0.738642   -0.557899  \n",
       "cr34c08_19700102      -1.068570   -3.081684   -4.222640  \n",
       "cr35c11_19700102      -0.393045   -2.133830   -1.115135  "
      ]
     },
     "execution_count": 7,
     "metadata": {},
     "output_type": "execute_result"
    }
   ],
   "source": [
    "jco_df = jco_df.loc[pst.nnz_obs_names,:]\n",
    "jco_df"
   ]
  },
  {
   "cell_type": "code",
   "execution_count": null,
   "metadata": {
    "collapsed": false
   },
   "outputs": [],
   "source": []
  },
  {
   "cell_type": "markdown",
   "metadata": {},
   "source": [
    "# How about Composite Scaled Sensitivities\n",
    "In the traditional, overdetermined regression world, CSS was a popular metric. CSS is Composite Scaled Sensitivitity.\n",
    "\n",
    "In Hill and Tiedeman (2007) this is calculated as: \n",
    "## ${css_{j}=\\sqrt{\\left(\\sum_{i-1}^{ND}\\left(\\frac{\\partial y'_{i}}{\\partial b_{j}}\\right)\\left|b_{j}\\right|\\sqrt{w_{ii}}\\right)/ND}}$\n",
    "\n",
    "In PEST, Doherty calculates it slightly differently in that scaling by the parameter values happens automatically when the parameter is subjected to a log-transform. This is due to a correction that must be made in calculating the Jacobian matrix and follows from the chain rule of derivatives.\n"
   ]
  },
  {
   "cell_type": "code",
   "execution_count": 8,
   "metadata": {
    "collapsed": false
   },
   "outputs": [
    {
     "data": {
      "text/html": [
       "<div>\n",
       "<table border=\"1\" class=\"dataframe\">\n",
       "  <thead>\n",
       "    <tr style=\"text-align: right;\">\n",
       "      <th></th>\n",
       "      <th>pest_css</th>\n",
       "      <th>hill_css</th>\n",
       "    </tr>\n",
       "  </thead>\n",
       "  <tbody>\n",
       "    <tr>\n",
       "      <th>rch_0</th>\n",
       "      <td>92.229968</td>\n",
       "      <td>0.000000</td>\n",
       "    </tr>\n",
       "    <tr>\n",
       "      <th>rch_1</th>\n",
       "      <td>0.000000</td>\n",
       "      <td>0.000000</td>\n",
       "    </tr>\n",
       "    <tr>\n",
       "      <th>hk_z01</th>\n",
       "      <td>0.029912</td>\n",
       "      <td>0.001493</td>\n",
       "    </tr>\n",
       "    <tr>\n",
       "      <th>hk_z02</th>\n",
       "      <td>2.996076</td>\n",
       "      <td>0.149583</td>\n",
       "    </tr>\n",
       "    <tr>\n",
       "      <th>hk_z03</th>\n",
       "      <td>6.428243</td>\n",
       "      <td>0.320939</td>\n",
       "    </tr>\n",
       "    <tr>\n",
       "      <th>hk_z04</th>\n",
       "      <td>2.394663</td>\n",
       "      <td>0.119557</td>\n",
       "    </tr>\n",
       "    <tr>\n",
       "      <th>hk_z05</th>\n",
       "      <td>3.008999</td>\n",
       "      <td>0.150229</td>\n",
       "    </tr>\n",
       "    <tr>\n",
       "      <th>hk_z06</th>\n",
       "      <td>2.368670</td>\n",
       "      <td>0.118259</td>\n",
       "    </tr>\n",
       "  </tbody>\n",
       "</table>\n",
       "</div>"
      ],
      "text/plain": [
       "         pest_css  hill_css\n",
       "rch_0   92.229968  0.000000\n",
       "rch_1    0.000000  0.000000\n",
       "hk_z01   0.029912  0.001493\n",
       "hk_z02   2.996076  0.149583\n",
       "hk_z03   6.428243  0.320939\n",
       "hk_z04   2.394663  0.119557\n",
       "hk_z05   3.008999  0.150229\n",
       "hk_z06   2.368670  0.118259"
      ]
     },
     "execution_count": 8,
     "metadata": {},
     "output_type": "execute_result"
    }
   ],
   "source": [
    "sc = pyemu.Schur(jco=os.path.join(working_dir,pst_name.replace(\".pst\",\".jcb\")))\n",
    "css_df = sc.get_par_css_dataframe()\n",
    "css_df"
   ]
  },
  {
   "cell_type": "code",
   "execution_count": 9,
   "metadata": {
    "collapsed": false
   },
   "outputs": [
    {
     "data": {
      "image/png": "[encoded data removed]",
      "text/plain": [
       "<matplotlib.figure.Figure at 0x734495e358>"
      ]
     },
     "metadata": {},
     "output_type": "display_data"
    }
   ],
   "source": [
    "plt.figure(figsize=(8,4))\n",
    "ax = css_df['pest_css'].sort_values(ascending=False).plot(kind='bar')\n",
    "ax.set_yscale('log')"
   ]
  },
  {
   "cell_type": "code",
   "execution_count": 10,
   "metadata": {
    "collapsed": false
   },
   "outputs": [
    {
     "data": {
      "text/html": [
       "<div>\n",
       "<table border=\"1\" class=\"dataframe\">\n",
       "  <thead>\n",
       "    <tr style=\"text-align: right;\">\n",
       "      <th></th>\n",
       "      <th>fr03c10_19750102</th>\n",
       "      <th>fr03c16_19750102</th>\n",
       "      <th>fr04c09_19750102</th>\n",
       "      <th>fr10c02_19750102</th>\n",
       "      <th>fr14c11_19750102</th>\n",
       "      <th>fr16c17_19750102</th>\n",
       "      <th>fr22c11_19750102</th>\n",
       "      <th>fr23c16_19750102</th>\n",
       "      <th>fr25c05_19750102</th>\n",
       "      <th>fr27c07_19750102</th>\n",
       "      <th>fr30c16_19750102</th>\n",
       "      <th>fr34c08_19750102</th>\n",
       "      <th>fr35c11_19750102</th>\n",
       "      <th>flx_river_l_19750102</th>\n",
       "      <th>travel_time</th>\n",
       "    </tr>\n",
       "  </thead>\n",
       "  <tbody>\n",
       "    <tr>\n",
       "      <th>rch_0</th>\n",
       "      <td>0.000000</td>\n",
       "      <td>0.000000</td>\n",
       "      <td>0.000000</td>\n",
       "      <td>-0.000441</td>\n",
       "      <td>0.000000</td>\n",
       "      <td>0.000000</td>\n",
       "      <td>0.000000</td>\n",
       "      <td>0.000000</td>\n",
       "      <td>-0.000441</td>\n",
       "      <td>0.000000</td>\n",
       "      <td>0.000000</td>\n",
       "      <td>0.000000</td>\n",
       "      <td>0.000000</td>\n",
       "      <td>0.056496</td>\n",
       "      <td>0.000000</td>\n",
       "    </tr>\n",
       "    <tr>\n",
       "      <th>rch_1</th>\n",
       "      <td>-0.001766</td>\n",
       "      <td>-0.000441</td>\n",
       "      <td>-0.002207</td>\n",
       "      <td>-0.007503</td>\n",
       "      <td>-0.001766</td>\n",
       "      <td>-0.000883</td>\n",
       "      <td>-0.001324</td>\n",
       "      <td>-0.000441</td>\n",
       "      <td>-0.004414</td>\n",
       "      <td>-0.002648</td>\n",
       "      <td>-0.000441</td>\n",
       "      <td>-0.000883</td>\n",
       "      <td>-0.000441</td>\n",
       "      <td>2.033858</td>\n",
       "      <td>4.628158</td>\n",
       "    </tr>\n",
       "    <tr>\n",
       "      <th>hk_z01</th>\n",
       "      <td>0.014565</td>\n",
       "      <td>0.000000</td>\n",
       "      <td>0.012800</td>\n",
       "      <td>-0.059144</td>\n",
       "      <td>-0.000883</td>\n",
       "      <td>0.000000</td>\n",
       "      <td>-0.002207</td>\n",
       "      <td>0.000000</td>\n",
       "      <td>-0.011476</td>\n",
       "      <td>-0.007062</td>\n",
       "      <td>0.000000</td>\n",
       "      <td>-0.003090</td>\n",
       "      <td>-0.001545</td>\n",
       "      <td>-0.225984</td>\n",
       "      <td>37.025263</td>\n",
       "    </tr>\n",
       "    <tr>\n",
       "      <th>hk_z02</th>\n",
       "      <td>-1.077398</td>\n",
       "      <td>-0.222895</td>\n",
       "      <td>-1.592042</td>\n",
       "      <td>-6.030514</td>\n",
       "      <td>-0.020303</td>\n",
       "      <td>-0.018979</td>\n",
       "      <td>0.112109</td>\n",
       "      <td>0.035972</td>\n",
       "      <td>-0.854062</td>\n",
       "      <td>-0.309846</td>\n",
       "      <td>0.010814</td>\n",
       "      <td>-0.059144</td>\n",
       "      <td>-0.035751</td>\n",
       "      <td>-3.728740</td>\n",
       "      <td>3232.768259</td>\n",
       "    </tr>\n",
       "    <tr>\n",
       "      <th>hk_z03</th>\n",
       "      <td>-6.083920</td>\n",
       "      <td>-0.346038</td>\n",
       "      <td>-6.636964</td>\n",
       "      <td>-8.727760</td>\n",
       "      <td>0.064441</td>\n",
       "      <td>-0.004414</td>\n",
       "      <td>0.192440</td>\n",
       "      <td>0.072165</td>\n",
       "      <td>-4.655629</td>\n",
       "      <td>-0.888930</td>\n",
       "      <td>0.035972</td>\n",
       "      <td>-0.013683</td>\n",
       "      <td>-0.018317</td>\n",
       "      <td>4.632678</td>\n",
       "      <td>-4880.392454</td>\n",
       "    </tr>\n",
       "    <tr>\n",
       "      <th>hk_z04</th>\n",
       "      <td>-0.640877</td>\n",
       "      <td>-0.014124</td>\n",
       "      <td>-0.751221</td>\n",
       "      <td>-0.951606</td>\n",
       "      <td>-1.396954</td>\n",
       "      <td>-1.099908</td>\n",
       "      <td>-0.719442</td>\n",
       "      <td>-0.564519</td>\n",
       "      <td>-2.281470</td>\n",
       "      <td>-2.502599</td>\n",
       "      <td>-0.051862</td>\n",
       "      <td>-0.363252</td>\n",
       "      <td>-0.077461</td>\n",
       "      <td>20.282088</td>\n",
       "      <td>305.458418</td>\n",
       "    </tr>\n",
       "    <tr>\n",
       "      <th>hk_z05</th>\n",
       "      <td>-0.144771</td>\n",
       "      <td>-0.001324</td>\n",
       "      <td>-0.175226</td>\n",
       "      <td>-0.550837</td>\n",
       "      <td>-0.737539</td>\n",
       "      <td>-0.046344</td>\n",
       "      <td>-2.561302</td>\n",
       "      <td>-0.357293</td>\n",
       "      <td>-2.160533</td>\n",
       "      <td>-2.890568</td>\n",
       "      <td>-0.496547</td>\n",
       "      <td>-1.779185</td>\n",
       "      <td>-0.916296</td>\n",
       "      <td>-121.551289</td>\n",
       "      <td>-36083.432687</td>\n",
       "    </tr>\n",
       "    <tr>\n",
       "      <th>hk_z06</th>\n",
       "      <td>-0.091365</td>\n",
       "      <td>-0.000441</td>\n",
       "      <td>-0.112551</td>\n",
       "      <td>-0.450203</td>\n",
       "      <td>-0.086951</td>\n",
       "      <td>-0.011917</td>\n",
       "      <td>-0.586588</td>\n",
       "      <td>-0.052965</td>\n",
       "      <td>-1.746964</td>\n",
       "      <td>-2.296477</td>\n",
       "      <td>-0.411583</td>\n",
       "      <td>-3.118318</td>\n",
       "      <td>0.041489</td>\n",
       "      <td>-206.097654</td>\n",
       "      <td>-15865.325114</td>\n",
       "    </tr>\n",
       "  </tbody>\n",
       "</table>\n",
       "</div>"
      ],
      "text/plain": [
       "        fr03c10_19750102  fr03c16_19750102  fr04c09_19750102  \\\n",
       "rch_0           0.000000          0.000000          0.000000   \n",
       "rch_1          -0.001766         -0.000441         -0.002207   \n",
       "hk_z01          0.014565          0.000000          0.012800   \n",
       "hk_z02         -1.077398         -0.222895         -1.592042   \n",
       "hk_z03         -6.083920         -0.346038         -6.636964   \n",
       "hk_z04         -0.640877         -0.014124         -0.751221   \n",
       "hk_z05         -0.144771         -0.001324         -0.175226   \n",
       "hk_z06         -0.091365         -0.000441         -0.112551   \n",
       "\n",
       "        fr10c02_19750102  fr14c11_19750102  fr16c17_19750102  \\\n",
       "rch_0          -0.000441          0.000000          0.000000   \n",
       "rch_1          -0.007503         -0.001766         -0.000883   \n",
       "hk_z01         -0.059144         -0.000883          0.000000   \n",
       "hk_z02         -6.030514         -0.020303         -0.018979   \n",
       "hk_z03         -8.727760          0.064441         -0.004414   \n",
       "hk_z04         -0.951606         -1.396954         -1.099908   \n",
       "hk_z05         -0.550837         -0.737539         -0.046344   \n",
       "hk_z06         -0.450203         -0.086951         -0.011917   \n",
       "\n",
       "        fr22c11_19750102  fr23c16_19750102  fr25c05_19750102  \\\n",
       "rch_0           0.000000          0.000000         -0.000441   \n",
       "rch_1          -0.001324         -0.000441         -0.004414   \n",
       "hk_z01         -0.002207          0.000000         -0.011476   \n",
       "hk_z02          0.112109          0.035972         -0.854062   \n",
       "hk_z03          0.192440          0.072165         -4.655629   \n",
       "hk_z04         -0.719442         -0.564519         -2.281470   \n",
       "hk_z05         -2.561302         -0.357293         -2.160533   \n",
       "hk_z06         -0.586588         -0.052965         -1.746964   \n",
       "\n",
       "        fr27c07_19750102  fr30c16_19750102  fr34c08_19750102  \\\n",
       "rch_0           0.000000          0.000000          0.000000   \n",
       "rch_1          -0.002648         -0.000441         -0.000883   \n",
       "hk_z01         -0.007062          0.000000         -0.003090   \n",
       "hk_z02         -0.309846          0.010814         -0.059144   \n",
       "hk_z03         -0.888930          0.035972         -0.013683   \n",
       "hk_z04         -2.502599         -0.051862         -0.363252   \n",
       "hk_z05         -2.890568         -0.496547         -1.779185   \n",
       "hk_z06         -2.296477         -0.411583         -3.118318   \n",
       "\n",
       "        fr35c11_19750102  flx_river_l_19750102   travel_time  \n",
       "rch_0           0.000000              0.056496      0.000000  \n",
       "rch_1          -0.000441              2.033858      4.628158  \n",
       "hk_z01         -0.001545             -0.225984     37.025263  \n",
       "hk_z02         -0.035751             -3.728740   3232.768259  \n",
       "hk_z03         -0.018317              4.632678  -4880.392454  \n",
       "hk_z04         -0.077461             20.282088    305.458418  \n",
       "hk_z05         -0.916296           -121.551289 -36083.432687  \n",
       "hk_z06          0.041489           -206.097654 -15865.325114  "
      ]
     },
     "execution_count": 10,
     "metadata": {},
     "output_type": "execute_result"
    }
   ],
   "source": [
    "jco_fore_df = sc.forecasts.to_dataframe()\n",
    "jco_fore_df"
   ]
  },
  {
   "cell_type": "markdown",
   "metadata": {},
   "source": [
    "### Now let's consider correlation and posterior covariance"
   ]
  },
  {
   "cell_type": "code",
   "execution_count": 11,
   "metadata": {
    "collapsed": false
   },
   "outputs": [
    {
     "data": {
      "text/html": [
       "<div>\n",
       "<table border=\"1\" class=\"dataframe\">\n",
       "  <thead>\n",
       "    <tr style=\"text-align: right;\">\n",
       "      <th></th>\n",
       "      <th>rch_0</th>\n",
       "      <th>rch_1</th>\n",
       "      <th>hk_z01</th>\n",
       "      <th>hk_z02</th>\n",
       "      <th>hk_z03</th>\n",
       "      <th>hk_z04</th>\n",
       "      <th>hk_z05</th>\n",
       "      <th>hk_z06</th>\n",
       "    </tr>\n",
       "  </thead>\n",
       "  <tbody>\n",
       "    <tr>\n",
       "      <th>rch_0</th>\n",
       "      <td>1.667248e+06</td>\n",
       "      <td>1.502401e-47</td>\n",
       "      <td>-1.306409e+00</td>\n",
       "      <td>-5.333607e+03</td>\n",
       "      <td>-1.632465e+04</td>\n",
       "      <td>-1.484149e+04</td>\n",
       "      <td>1.565111e+04</td>\n",
       "      <td>1.533650e+04</td>\n",
       "    </tr>\n",
       "    <tr>\n",
       "      <th>rch_1</th>\n",
       "      <td>1.502401e-47</td>\n",
       "      <td>9.799090e-46</td>\n",
       "      <td>5.651185e-51</td>\n",
       "      <td>-8.180376e-49</td>\n",
       "      <td>-2.209736e-48</td>\n",
       "      <td>-2.063265e-48</td>\n",
       "      <td>5.074956e-48</td>\n",
       "      <td>9.428208e-48</td>\n",
       "    </tr>\n",
       "    <tr>\n",
       "      <th>hk_z01</th>\n",
       "      <td>-1.306409e+00</td>\n",
       "      <td>5.651185e-51</td>\n",
       "      <td>1.753697e-01</td>\n",
       "      <td>1.372384e+01</td>\n",
       "      <td>1.579669e+01</td>\n",
       "      <td>3.897928e+00</td>\n",
       "      <td>4.912664e+00</td>\n",
       "      <td>3.674541e+00</td>\n",
       "    </tr>\n",
       "    <tr>\n",
       "      <th>hk_z02</th>\n",
       "      <td>-5.333607e+03</td>\n",
       "      <td>-8.180376e-49</td>\n",
       "      <td>1.372384e+01</td>\n",
       "      <td>1.759389e+03</td>\n",
       "      <td>3.270214e+03</td>\n",
       "      <td>5.056838e+02</td>\n",
       "      <td>3.585627e+02</td>\n",
       "      <td>2.673075e+02</td>\n",
       "    </tr>\n",
       "    <tr>\n",
       "      <th>hk_z03</th>\n",
       "      <td>-1.632465e+04</td>\n",
       "      <td>-2.209736e-48</td>\n",
       "      <td>1.579669e+01</td>\n",
       "      <td>3.270214e+03</td>\n",
       "      <td>8.099173e+03</td>\n",
       "      <td>1.501126e+03</td>\n",
       "      <td>9.959826e+02</td>\n",
       "      <td>6.975312e+02</td>\n",
       "    </tr>\n",
       "  </tbody>\n",
       "</table>\n",
       "</div>"
      ],
      "text/plain": [
       "               rch_0         rch_1        hk_z01        hk_z02        hk_z03  \\\n",
       "rch_0   1.667248e+06  1.502401e-47 -1.306409e+00 -5.333607e+03 -1.632465e+04   \n",
       "rch_1   1.502401e-47  9.799090e-46  5.651185e-51 -8.180376e-49 -2.209736e-48   \n",
       "hk_z01 -1.306409e+00  5.651185e-51  1.753697e-01  1.372384e+01  1.579669e+01   \n",
       "hk_z02 -5.333607e+03 -8.180376e-49  1.372384e+01  1.759389e+03  3.270214e+03   \n",
       "hk_z03 -1.632465e+04 -2.209736e-48  1.579669e+01  3.270214e+03  8.099173e+03   \n",
       "\n",
       "              hk_z04        hk_z05        hk_z06  \n",
       "rch_0  -1.484149e+04  1.565111e+04  1.533650e+04  \n",
       "rch_1  -2.063265e-48  5.074956e-48  9.428208e-48  \n",
       "hk_z01  3.897928e+00  4.912664e+00  3.674541e+00  \n",
       "hk_z02  5.056838e+02  3.585627e+02  2.673075e+02  \n",
       "hk_z03  1.501126e+03  9.959826e+02  6.975312e+02  "
      ]
     },
     "execution_count": 11,
     "metadata": {},
     "output_type": "execute_result"
    }
   ],
   "source": [
    "covar = pyemu.Cov(sc.xtqx.x, names=sc.xtqx.row_names)\n",
    "covar.df().head()"
   ]
  },
  {
   "cell_type": "code",
   "execution_count": 12,
   "metadata": {
    "collapsed": false
   },
   "outputs": [
    {
     "data": {
      "text/plain": [
       "<matplotlib.colorbar.Colorbar at 0x73466f8860>"
      ]
     },
     "execution_count": 12,
     "metadata": {},
     "output_type": "execute_result"
    },
    {
     "data": {
      "image/png": "[encoded data removed]",
      "text/plain": [
       "<matplotlib.figure.Figure at 0x734683da90>"
      ]
     },
     "metadata": {},
     "output_type": "display_data"
    }
   ],
   "source": [
    "R = covar.to_pearson()\n",
    "plt.imshow(R.df(), interpolation='nearest', cmap='viridis')\n",
    "plt.colorbar()"
   ]
  },
  {
   "cell_type": "code",
   "execution_count": 28,
   "metadata": {
    "collapsed": false
   },
   "outputs": [
    {
     "data": {
      "text/plain": [
       "hk_z02    0.866313\n",
       "hk_z03    1.000000\n",
       "Name: hk_z03, dtype: float64"
      ]
     },
     "execution_count": 28,
     "metadata": {},
     "output_type": "execute_result"
    }
   ],
   "source": [
    "cpar = 'hk_z03'\n",
    "R.df().loc[cpar][np.abs(R.df().loc[cpar])>.5]"
   ]
  },
  {
   "cell_type": "code",
   "execution_count": 29,
   "metadata": {
    "collapsed": false
   },
   "outputs": [
    {
     "data": {
      "text/plain": [
       "<matplotlib.colorbar.Colorbar at 0x110fcb6a0>"
      ]
     },
     "execution_count": 29,
     "metadata": {},
     "output_type": "execute_result"
    },
    {
     "data": {
      "image/png": "[encoded data removed]",
      "text/plain": [
       "<matplotlib.figure.Figure at 0x110f149b0>"
      ]
     },
     "metadata": {},
     "output_type": "display_data"
    }
   ],
   "source": [
    "R_plot = R.df().as_matrix()\n",
    "R_plot[np.abs(R_plot)>.9] = np.nan\n",
    "plt.imshow(R_plot, interpolation='nearest', cmap='viridis')\n",
    "plt.colorbar()"
   ]
  },
  {
   "cell_type": "markdown",
   "metadata": {},
   "source": [
    "## GSA results"
   ]
  },
  {
   "cell_type": "code",
   "execution_count": 37,
   "metadata": {
    "collapsed": false
   },
   "outputs": [
    {
     "data": {
      "text/html": [
       "<div>\n",
       "<style>\n",
       "    .dataframe thead tr:only-child th {\n",
       "        text-align: right;\n",
       "    }\n",
       "\n",
       "    .dataframe thead th {\n",
       "        text-align: left;\n",
       "    }\n",
       "\n",
       "    .dataframe tbody tr th {\n",
       "        vertical-align: top;\n",
       "    }\n",
       "</style>\n",
       "<table border=\"1\" class=\"dataframe\">\n",
       "  <thead>\n",
       "    <tr style=\"text-align: right;\">\n",
       "      <th></th>\n",
       "      <th>n_samples</th>\n",
       "      <th>sen_mean</th>\n",
       "      <th>sen_mean_abs</th>\n",
       "      <th>sen_std_dev</th>\n",
       "      <th>parnme</th>\n",
       "    </tr>\n",
       "    <tr>\n",
       "      <th>parnme</th>\n",
       "      <th></th>\n",
       "      <th></th>\n",
       "      <th></th>\n",
       "      <th></th>\n",
       "      <th></th>\n",
       "    </tr>\n",
       "  </thead>\n",
       "  <tbody>\n",
       "    <tr>\n",
       "      <th>rch_0</th>\n",
       "      <td>4</td>\n",
       "      <td>-2.755680e+04</td>\n",
       "      <td>4.646070e+04</td>\n",
       "      <td>7.951330e+04</td>\n",
       "      <td>rch_0</td>\n",
       "    </tr>\n",
       "    <tr>\n",
       "      <th>rch_1</th>\n",
       "      <td>4</td>\n",
       "      <td>-5.456970e-12</td>\n",
       "      <td>5.456970e-12</td>\n",
       "      <td>4.455600e-12</td>\n",
       "      <td>rch_1</td>\n",
       "    </tr>\n",
       "    <tr>\n",
       "      <th>hk_z01</th>\n",
       "      <td>4</td>\n",
       "      <td>5.209030e+01</td>\n",
       "      <td>9.575620e+01</td>\n",
       "      <td>1.654840e+02</td>\n",
       "      <td>hk_z01</td>\n",
       "    </tr>\n",
       "    <tr>\n",
       "      <th>hk_z02</th>\n",
       "      <td>4</td>\n",
       "      <td>-1.021740e+04</td>\n",
       "      <td>1.784460e+04</td>\n",
       "      <td>2.435460e+04</td>\n",
       "      <td>hk_z02</td>\n",
       "    </tr>\n",
       "    <tr>\n",
       "      <th>hk_z03</th>\n",
       "      <td>4</td>\n",
       "      <td>3.530400e+04</td>\n",
       "      <td>5.249780e+04</td>\n",
       "      <td>6.082660e+04</td>\n",
       "      <td>hk_z03</td>\n",
       "    </tr>\n",
       "    <tr>\n",
       "      <th>hk_z04</th>\n",
       "      <td>4</td>\n",
       "      <td>-2.102900e+04</td>\n",
       "      <td>2.113080e+04</td>\n",
       "      <td>2.581210e+04</td>\n",
       "      <td>hk_z04</td>\n",
       "    </tr>\n",
       "    <tr>\n",
       "      <th>hk_z05</th>\n",
       "      <td>4</td>\n",
       "      <td>-2.299230e+03</td>\n",
       "      <td>1.250960e+04</td>\n",
       "      <td>1.704220e+04</td>\n",
       "      <td>hk_z05</td>\n",
       "    </tr>\n",
       "    <tr>\n",
       "      <th>hk_z06</th>\n",
       "      <td>4</td>\n",
       "      <td>1.294320e+04</td>\n",
       "      <td>1.783130e+04</td>\n",
       "      <td>2.239260e+04</td>\n",
       "      <td>hk_z06</td>\n",
       "    </tr>\n",
       "  </tbody>\n",
       "</table>\n",
       "</div>"
      ],
      "text/plain": [
       "        n_samples      sen_mean  sen_mean_abs   sen_std_dev  parnme\n",
       "parnme                                                             \n",
       "rch_0           4 -2.755680e+04  4.646070e+04  7.951330e+04   rch_0\n",
       "rch_1           4 -5.456970e-12  5.456970e-12  4.455600e-12   rch_1\n",
       "hk_z01          4  5.209030e+01  9.575620e+01  1.654840e+02  hk_z01\n",
       "hk_z02          4 -1.021740e+04  1.784460e+04  2.435460e+04  hk_z02\n",
       "hk_z03          4  3.530400e+04  5.249780e+04  6.082660e+04  hk_z03\n",
       "hk_z04          4 -2.102900e+04  2.113080e+04  2.581210e+04  hk_z04\n",
       "hk_z05          4 -2.299230e+03  1.250960e+04  1.704220e+04  hk_z05\n",
       "hk_z06          4  1.294320e+04  1.783130e+04  2.239260e+04  hk_z06"
      ]
     },
     "execution_count": 37,
     "metadata": {},
     "output_type": "execute_result"
    }
   ],
   "source": [
    "df = pd.read_csv(os.path.join(working_dir,pst_name.replace(\".pst\",\".msn\")),skipinitialspace=True)\n",
    "df.loc[:,\"parnme\"] = df.pop(\"parameter_name\").apply(lambda x : x.lower().replace(\"log(\",'').replace(')',''))\n",
    "df.index = df.parnme\n",
    "df"
   ]
  },
  {
   "cell_type": "code",
   "execution_count": 40,
   "metadata": {
    "collapsed": false
   },
   "outputs": [
    {
     "data": {
      "text/plain": [
       "<matplotlib.axes._subplots.AxesSubplot at 0x1151574e0>"
      ]
     },
     "execution_count": 40,
     "metadata": {},
     "output_type": "execute_result"
    },
    {
     "data": {
      "image/png": "[encoded data removed]",
      "text/plain": [
       "<matplotlib.figure.Figure at 0x115162208>"
      ]
     },
     "metadata": {},
     "output_type": "display_data"
    }
   ],
   "source": [
    "df.loc[:,[\"sen_mean_abs\",\"sen_std_dev\"]].plot(kind=\"bar\")"
   ]
  },
  {
   "cell_type": "markdown",
   "metadata": {},
   "source": [
    "### Interesting!  ``hk_z03`` is more sensitive across parameter space compared to the other HK parameters...and ``rch_0`` is suffering from non-linearity!"
   ]
  },
  {
   "cell_type": "code",
   "execution_count": null,
   "metadata": {
    "collapsed": true
   },
   "outputs": [],
   "source": []
  }
 ],
 "metadata": {
  "anaconda-cloud": {},
  "kernelspec": {
   "display_name": "Python 3",
   "language": "python",
   "name": "python3"
  },
  "language_info": {
   "codemirror_mode": {
    "name": "ipython",
    "version": 3
   },
   "file_extension": ".py",
   "mimetype": "text/x-python",
   "name": "python",
   "nbconvert_exporter": "python",
   "pygments_lexer": "ipython3",
   "version": "3.5.1"
  }
 },
 "nbformat": 4,
 "nbformat_minor": 1
}
