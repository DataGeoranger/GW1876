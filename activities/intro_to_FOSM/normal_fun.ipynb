{
 "cells": [
  {
   "cell_type": "code",
   "execution_count": 1,
   "metadata": {
    "collapsed": true
   },
   "outputs": [],
   "source": [
    "#%matplotlib inline\n",
    "import os\n",
    "import sys\n",
    "sys.path.append(\"..\")\n",
    "import numpy as np\n",
    "import pandas as pd\n",
    "import matplotlib.pyplot as plt\n",
    "import pyemu"
   ]
  },
  {
   "cell_type": "code",
   "execution_count": 2,
   "metadata": {
    "collapsed": true
   },
   "outputs": [],
   "source": [
    "def gaussian_multiply(mu1,std1,mu2,std2):\n",
    "    var1,var2 = std1**2,std2**2\n",
    "    mean = (var1*mu2 + var2*mu1) / (var1 + var2)\n",
    "    variance = (var1 * var2) / (var1 + var2)\n",
    "    return mean, np.sqrt(variance)"
   ]
  },
  {
   "cell_type": "code",
   "execution_count": 3,
   "metadata": {
    "collapsed": true
   },
   "outputs": [],
   "source": [
    "def plot_posterior(prior_mean, prior_std, likeli_mean, likeli_std, legend=True): \n",
    "    plt.figure()\n",
    "    \n",
    "    post_mean,post_std = gaussian_multiply(prior_mean, prior_std, likeli_mean, likeli_std)\n",
    "\n",
    "    xs,ys = pyemu.helpers.gaussian_distribution(prior_mean,prior_std)\n",
    "    plt.plot(xs, ys, color='k',ls='--',lw=2.0,label='prior')\n",
    "\n",
    "    xs,ys = pyemu.helpers.gaussian_distribution(likeli_mean,likeli_std)\n",
    "    plt.plot(xs, ys, color='g',ls='--',lw=2.0,label='likelihood')\n",
    "\n",
    "    xs,ys = pyemu.helpers.gaussian_distribution(post_mean,post_std)\n",
    "    plt.fill_between(xs, 0, ys, label='posterior',color='b',alpha=0.25)\n",
    "    if legend:\n",
    "        plt.legend();\n",
    "    ax = plt.gca()\n",
    "    ax.set_xlabel(\"hk ($\\\\frac{m}{d}$)\")\n",
    "    plt.show()\n",
    "    "
   ]
  },
  {
   "cell_type": "code",
   "execution_count": 4,
   "metadata": {},
   "outputs": [
    {
     "data": {
      "text/plain": [
       "(1.25, 0.35355339059327379)"
      ]
     },
     "execution_count": 4,
     "metadata": {},
     "output_type": "execute_result"
    }
   ],
   "source": [
    "pr_mean,pr_std = 1.0,0.5\n",
    "lk_mean,lk_std = 1.5,0.5\n",
    "pt_mean,pt_std = gaussian_multiply(pr_mean,pr_std,lk_mean,lk_std)\n",
    "pt_mean,pt_std"
   ]
  },
  {
   "cell_type": "code",
   "execution_count": 6,
   "metadata": {},
   "outputs": [
    {
     "data": {
      "application/vnd.jupyter.widget-view+json": {
       "model_id": "ceb72140c508461ca6a3f44199ee0602"
      }
     },
     "metadata": {},
     "output_type": "display_data"
    }
   ],
   "source": [
    "from IPython.html.widgets import interact\n",
    "interact(plot_posterior,\n",
    "         prior_mean=(1, 20., .5), likeli_mean=(1, 20, .5), \n",
    "         prior_std=(.1, 8, .1), likeli_std=(.1, 8, .1));"
   ]
  },
  {
   "cell_type": "code",
   "execution_count": null,
   "metadata": {
    "collapsed": true
   },
   "outputs": [],
   "source": []
  }
 ],
 "metadata": {
  "anaconda-cloud": {},
  "kernelspec": {
   "display_name": "Python [Root]",
   "language": "python",
   "name": "Python [Root]"
  },
  "language_info": {
   "codemirror_mode": {
    "name": "ipython",
    "version": 3
   },
   "file_extension": ".py",
   "mimetype": "text/x-python",
   "name": "python",
   "nbconvert_exporter": "python",
   "pygments_lexer": "ipython3",
   "version": "3.5.2"
  }
 },
 "nbformat": 4,
 "nbformat_minor": 1
}
