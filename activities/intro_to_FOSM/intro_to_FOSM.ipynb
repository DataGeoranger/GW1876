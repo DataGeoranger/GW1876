{
 "cells": [
  {
   "cell_type": "markdown",
   "metadata": {},
   "source": [
    "# FOSM - a brief overview (with equations!)\n",
    "\n",
    "## FOSM = \"First Order, Second Moment\", which is the mathematical description of what is being described\n",
    "\n",
    "## FOSM = \"linear uncertainty analysis\", page 460 in Anderson et al. (2015), PEST parlance"
   ]
  },
  {
   "cell_type": "markdown",
   "metadata": {},
   "source": [
    "<img src=\"bayes.png\" style=\"float: left; width: 25%; margin-right: 1%; margin-bottom: 0.5em;\">\n",
    "<img src=\"jacobi.jpg\" style=\"float: left; width: 25%; margin-right: 1%; margin-bottom: 0.5em;\">\n",
    "<img src=\"gauss.jpg\" style=\"float: left; width: 22%; margin-right: 1%; margin-bottom: 0.5em;\">\n",
    "<img src=\"schur.jpg\" style=\"float: left; width: 22%; margin-right: 1%; margin-bottom: 0.5em;\">\n",
    "<p style=\"clear: both;\">"
   ]
  },
  {
   "cell_type": "markdown",
   "metadata": {},
   "source": [
    "## $\\underbrace{P(\\theta|\\textbf{D})}_{\\substack{\\text{what we} \\\\ \\text{know now}}} \\propto \\underbrace{\\mathcal{L}(\\theta | \\textbf{D})}_{\\substack{\\text{what we} \\\\ \\text{learned}}} \\underbrace{P(\\theta)}_{\\substack{\\text{what we} \\\\ \\text{knew}}} $\n",
    "\n"
   ]
  },
  {
   "cell_type": "markdown",
   "metadata": {},
   "source": [
    "\n",
    "\n",
    "\n",
    "## This in a nutshell is the famous Bayes Rule.\n",
    "\n",
    "### We can also think of this graphically, as taken from Anderson et al. (2015) in slightly different notation but the same equation and concept:\n",
    "\n",
    "<img src=\"AW&H2015.png\" style=\"float: right\">\n",
    "\n",
    "<img src=\"Fig10.3_Bayes_figure.png\" style=\"float: center\">"
   ]
  },
  {
   "cell_type": "markdown",
   "metadata": {},
   "source": [
    "## The problem is for real-world problems, the likelihood function  $\\mathcal{L}(\\theta | \\textbf{D})$ is high-dimensional and non-parameteric, requiring non-linear (typically Monte Carlo) integration for rigorous Bayes"
   ]
  },
  {
   "cell_type": "markdown",
   "metadata": {},
   "source": [
    "## But, we can make some assumptions and greatly reduce computational burden. This is why we often suggest using these linear methods first before burning the silicon on the non-linear ones like Monte Carlo.  \n",
    "\n",
    "## How do we reduced the computational burden?  By using these shortcuts:"
   ]
  },
  {
   "cell_type": "markdown",
   "metadata": {},
   "source": [
    "## 0.) an approximate linear relation between pars and obs  \n",
    "<img src=\"jacobi.jpg\",width=200,height=200>\n",
    "\n",
    "##     <center> $\\mathbf{J} \\approx \\text{constant}$, $\\frac{\\partial\\text{obs}}{\\partial\\text{par}} \\approx \\text{constant}$</center>\n"
   ]
  },
  {
   "cell_type": "markdown",
   "metadata": {},
   "source": [
    "## 1.) The parameter and forecast posterior distribution is approximately Gaussian\n",
    "<img src=\"gauss.jpg\",width=200,height=200>\n",
    "##  <center>  $ P(\\boldsymbol{\\theta}|\\mathbf{D}) \\approx \\mathcal{N}(\\overline{\\boldsymbol{\\mu}}_{\\boldsymbol{\\theta}},\\overline{\\boldsymbol{\\Sigma}}_{\\boldsymbol{\\theta}})$ </center>"
   ]
  },
  {
   "cell_type": "markdown",
   "metadata": {},
   "source": [
    "## Armed with these two assumptions, from Bayes equations, one can derive the Schur complement for conditional uncertainty propogation:\n",
    "<img src=\"schur.jpg\",width=200,height=200>\n"
   ]
  },
  {
   "cell_type": "markdown",
   "metadata": {},
   "source": [
    "## <center> $\\underbrace{\\overline{\\boldsymbol{\\Sigma}}_{\\boldsymbol{\\theta}}}_{\\substack{\\text{what we} \\\\ \\text{know now}}} = \\underbrace{\\boldsymbol{\\Sigma}_{\\boldsymbol{\\theta}}}_{\\substack{\\text{what we} \\\\ \\text{knew}}} - \\underbrace{\\boldsymbol{\\Sigma}_{\\boldsymbol{\\theta}}\\bf{J}^T\\left[\\bf{J}\\boldsymbol{\\Sigma}_{\\boldsymbol{\\theta}}\\bf{J}^T + \\boldsymbol{\\Sigma}_{\\boldsymbol{\\epsilon}}\\right]^{-1}\\bf{J}\\boldsymbol{\\Sigma}_{\\boldsymbol{\\theta}}}_{\\text{what we learned}}$ </center>"
   ]
  },
  {
   "cell_type": "markdown",
   "metadata": {},
   "source": [
    "## some remarks:\n",
    "## 0.) no parameter values or observation values\n",
    "## 1.) \"us + data\" = $\\overline{\\Sigma}_{\\theta}$; \"us\" = $\\Sigma_{\\theta}$\n",
    "## 2.) the '-' on the RHS shows that we are (hopefully) collapsing the probability manifold in parameter space by \"learning\" from the data. Or put another way, we are subtracting from the uncertainty we started with (we started with the Prior uncertainty)\n",
    "## 3.) uncertainty in our measurements of the world is encapsulated in $\\Sigma_{\\epsilon}$. If the \"observations\" are highly uncertain, then parameter \"learning\" decreases because $\\Sigma_{\\epsilon}$ is in the denominator. Put another way, if our measured data are made (assumed) to be accurate and precise, then uncertainty associated with the parameters that are constrained by these measured data is reduced - we \"learn\" more. \n",
    "## 4.) what quantities are needed? $\\bf{J}$, $\\boldsymbol{\\Sigma}_{\\theta}$, and $\\boldsymbol{\\Sigma}_{\\epsilon}$\n",
    "## 5.) the diagonal of $\\Sigma_{\\theta}$ and $\\overline{\\Sigma}_{\\theta}$ are the Prior and Posterior uncertainty (variance) of each adjustable parameter"
   ]
  },
  {
   "cell_type": "markdown",
   "metadata": {},
   "source": [
    "# But what about forecasts? We can use the same assumptions:\n",
    "<img src=\"jacobi.jpg\" style=\"float: left; width: 25%; margin-right: 1%; margin-bottom: 0.5em;\">\n",
    "<img src=\"gauss.jpg\" style=\"float: left; width: 22%; margin-right: 1%; margin-bottom: 0.5em;\">\n",
    "<p style=\"clear: both;\">"
   ]
  },
  {
   "cell_type": "markdown",
   "metadata": {},
   "source": [
    "## prior forecast uncertainty (variance): $\\sigma^2_{s} = \\mathbf{y}^T\\boldsymbol{\\Sigma}_{\\boldsymbol{\\theta}}\\mathbf{y}$\n",
    "## posterior forecast uncertainty (variance): $\\overline{\\sigma}^2_{s} = \\mathbf{y}^T\\overline{\\boldsymbol{\\Sigma}}_{\\boldsymbol{\\theta}}\\mathbf{y}$\n",
    "## some remarks:\n",
    "## 0.) no parameter values or forecast values\n",
    "## 1.) what's needed? $\\bf{y}$, which is the *sensitivity of a given forecast* to each adjustable parameter. Each forecast will have its own $\\bf{y}$\n",
    "## 2.)   How do I get $\\bf{y}$? the easiest way is to include your forecast(s) as an observation in the control file - then we get the $\\bf{y}$'s for free during the parameter estimation process."
   ]
  },
  {
   "cell_type": "markdown",
   "metadata": {},
   "source": [
    "# Mechanics of calculating FOSM parameter and forecast uncertainty estimates\n",
    "\n",
    "## in the PEST world:\n",
    "<img src=\"workflow.png\",width=1000,height=200>"
   ]
  },
  {
   "cell_type": "markdown",
   "metadata": {},
   "source": [
    "## in PEST++\n",
    "<img src=\"workflow++.png\",width=1000,height=200>"
   ]
  },
  {
   "cell_type": "markdown",
   "metadata": {},
   "source": [
    "# Hands on:  Demystifying matrices and vectors used in FOSM\n",
    "\n",
    "### Pages 461-465 of Anderson et al. use the PREDUNC equation of PEST to discuss an applied view of FOSM, what goes into it, and what it means in practice.  Here we will look more closely at these.  The objective is to get a better feel for what is going on under the hood in linear uncertainty analyses. "
   ]
  },
  {
   "cell_type": "code",
   "execution_count": 2,
   "metadata": {
    "collapsed": false
   },
   "outputs": [
    {
     "name": "stdout",
     "output_type": "stream",
     "text": [
      "setting random seed\n"
     ]
    }
   ],
   "source": [
    "%matplotlib inline\n",
    "import os\n",
    "import numpy as np\n",
    "import matplotlib.pyplot as plt\n",
    "import pyemu\n",
    "\n"
   ]
  },
  {
   "cell_type": "code",
   "execution_count": 3,
   "metadata": {
    "collapsed": true
   },
   "outputs": [],
   "source": [
    "# get some files to look at\n",
    "sc = pyemu.Schur(jco=\"freyberg_zones_alt.jcb\")"
   ]
  },
  {
   "cell_type": "markdown",
   "metadata": {},
   "source": [
    "### Recall that a Jacobian matrix looks at the changes in observations as a parameter is changed.  Therefore the Jacobian matrix has parameters in the columns and observations in the rows.  The bulk of the matrix is made up of the difference in  observations between a base run and a run where the parameter at the column head was perturbed (typically 1% from the base run value - controlled by the \"parameter groups\" info).  Now we'll plot out the Jacobian matrix from the fryberg_zones activity:"
   ]
  },
  {
   "cell_type": "code",
   "execution_count": 4,
   "metadata": {
    "collapsed": false
   },
   "outputs": [
    {
     "data": {
      "text/html": [
       "<div>\n",
       "<table border=\"1\" class=\"dataframe\">\n",
       "  <thead>\n",
       "    <tr style=\"text-align: right;\">\n",
       "      <th></th>\n",
       "      <th>hk1</th>\n",
       "      <th>hk2</th>\n",
       "      <th>hk3</th>\n",
       "      <th>hk4</th>\n",
       "      <th>hk5</th>\n",
       "      <th>hk6</th>\n",
       "    </tr>\n",
       "  </thead>\n",
       "  <tbody>\n",
       "    <tr>\n",
       "      <th>cr03c16</th>\n",
       "      <td>0.0</td>\n",
       "      <td>-0.006942</td>\n",
       "      <td>-0.002314</td>\n",
       "      <td>0.196697</td>\n",
       "      <td>-0.004628</td>\n",
       "      <td>-0.437361</td>\n",
       "    </tr>\n",
       "    <tr>\n",
       "      <th>cr03c10</th>\n",
       "      <td>0.0</td>\n",
       "      <td>-0.143473</td>\n",
       "      <td>-0.057852</td>\n",
       "      <td>-0.888606</td>\n",
       "      <td>-0.004628</td>\n",
       "      <td>-0.178184</td>\n",
       "    </tr>\n",
       "    <tr>\n",
       "      <th>cr04c9</th>\n",
       "      <td>0.0</td>\n",
       "      <td>-0.180498</td>\n",
       "      <td>-0.053224</td>\n",
       "      <td>-1.059848</td>\n",
       "      <td>-0.006942</td>\n",
       "      <td>-0.210581</td>\n",
       "    </tr>\n",
       "    <tr>\n",
       "      <th>cr10c2</th>\n",
       "      <td>0.0</td>\n",
       "      <td>-1.916057</td>\n",
       "      <td>-1.832751</td>\n",
       "      <td>-1.360678</td>\n",
       "      <td>-0.057852</td>\n",
       "      <td>-0.351740</td>\n",
       "    </tr>\n",
       "    <tr>\n",
       "      <th>cr14c11</th>\n",
       "      <td>0.0</td>\n",
       "      <td>-0.011570</td>\n",
       "      <td>-0.004628</td>\n",
       "      <td>0.344798</td>\n",
       "      <td>-0.013884</td>\n",
       "      <td>-0.724307</td>\n",
       "    </tr>\n",
       "    <tr>\n",
       "      <th>cr16c17</th>\n",
       "      <td>0.0</td>\n",
       "      <td>0.000000</td>\n",
       "      <td>0.000000</td>\n",
       "      <td>0.039339</td>\n",
       "      <td>-0.194383</td>\n",
       "      <td>-0.131902</td>\n",
       "    </tr>\n",
       "    <tr>\n",
       "      <th>cr22c11</th>\n",
       "      <td>0.0</td>\n",
       "      <td>0.048596</td>\n",
       "      <td>-0.016199</td>\n",
       "      <td>-0.037025</td>\n",
       "      <td>-0.069422</td>\n",
       "      <td>-0.597032</td>\n",
       "    </tr>\n",
       "    <tr>\n",
       "      <th>cr23c16</th>\n",
       "      <td>0.0</td>\n",
       "      <td>0.002314</td>\n",
       "      <td>0.000000</td>\n",
       "      <td>0.009256</td>\n",
       "      <td>-0.398022</td>\n",
       "      <td>0.138845</td>\n",
       "    </tr>\n",
       "    <tr>\n",
       "      <th>cr25c5</th>\n",
       "      <td>0.0</td>\n",
       "      <td>0.323971</td>\n",
       "      <td>-0.141159</td>\n",
       "      <td>-1.737873</td>\n",
       "      <td>-0.199011</td>\n",
       "      <td>-0.914061</td>\n",
       "    </tr>\n",
       "    <tr>\n",
       "      <th>cr27c7</th>\n",
       "      <td>0.0</td>\n",
       "      <td>0.182812</td>\n",
       "      <td>0.013884</td>\n",
       "      <td>-0.740505</td>\n",
       "      <td>-0.231408</td>\n",
       "      <td>-1.064476</td>\n",
       "    </tr>\n",
       "    <tr>\n",
       "      <th>cr30c16</th>\n",
       "      <td>0.0</td>\n",
       "      <td>0.002314</td>\n",
       "      <td>0.000000</td>\n",
       "      <td>0.011570</td>\n",
       "      <td>-0.298516</td>\n",
       "      <td>0.080993</td>\n",
       "    </tr>\n",
       "    <tr>\n",
       "      <th>cr34c8</th>\n",
       "      <td>0.0</td>\n",
       "      <td>0.062480</td>\n",
       "      <td>0.064794</td>\n",
       "      <td>0.314715</td>\n",
       "      <td>-0.603975</td>\n",
       "      <td>-0.684967</td>\n",
       "    </tr>\n",
       "    <tr>\n",
       "      <th>cr35c11</th>\n",
       "      <td>0.0</td>\n",
       "      <td>0.025455</td>\n",
       "      <td>0.023141</td>\n",
       "      <td>0.124960</td>\n",
       "      <td>-1.159354</td>\n",
       "      <td>0.747447</td>\n",
       "    </tr>\n",
       "  </tbody>\n",
       "</table>\n",
       "</div>"
      ],
      "text/plain": [
       "         hk1       hk2       hk3       hk4       hk5       hk6\n",
       "cr03c16  0.0 -0.006942 -0.002314  0.196697 -0.004628 -0.437361\n",
       "cr03c10  0.0 -0.143473 -0.057852 -0.888606 -0.004628 -0.178184\n",
       "cr04c9   0.0 -0.180498 -0.053224 -1.059848 -0.006942 -0.210581\n",
       "cr10c2   0.0 -1.916057 -1.832751 -1.360678 -0.057852 -0.351740\n",
       "cr14c11  0.0 -0.011570 -0.004628  0.344798 -0.013884 -0.724307\n",
       "cr16c17  0.0  0.000000  0.000000  0.039339 -0.194383 -0.131902\n",
       "cr22c11  0.0  0.048596 -0.016199 -0.037025 -0.069422 -0.597032\n",
       "cr23c16  0.0  0.002314  0.000000  0.009256 -0.398022  0.138845\n",
       "cr25c5   0.0  0.323971 -0.141159 -1.737873 -0.199011 -0.914061\n",
       "cr27c7   0.0  0.182812  0.013884 -0.740505 -0.231408 -1.064476\n",
       "cr30c16  0.0  0.002314  0.000000  0.011570 -0.298516  0.080993\n",
       "cr34c8   0.0  0.062480  0.064794  0.314715 -0.603975 -0.684967\n",
       "cr35c11  0.0  0.025455  0.023141  0.124960 -1.159354  0.747447"
      ]
     },
     "execution_count": 4,
     "metadata": {},
     "output_type": "execute_result"
    }
   ],
   "source": [
    "sc.jco.to_dataframe().loc[sc.pst.nnz_obs_names,:]"
   ]
  },
  {
   "cell_type": "markdown",
   "metadata": {},
   "source": [
    "### This reports changes in observations to a change in a parameter.  We can report how  forecasts of interests change as the parameter is perturbed.  Note pyemu extraacted the forecast rows from the Jacobian on instantiation:"
   ]
  },
  {
   "cell_type": "code",
   "execution_count": 5,
   "metadata": {
    "collapsed": false
   },
   "outputs": [
    {
     "data": {
      "text/html": [
       "<div>\n",
       "<table border=\"1\" class=\"dataframe\">\n",
       "  <thead>\n",
       "    <tr style=\"text-align: right;\">\n",
       "      <th></th>\n",
       "      <th>rivflux_cal</th>\n",
       "      <th>rivflux_fore</th>\n",
       "      <th>travel_time</th>\n",
       "      <th>fr03c16</th>\n",
       "      <th>fr04c9</th>\n",
       "    </tr>\n",
       "  </thead>\n",
       "  <tbody>\n",
       "    <tr>\n",
       "      <th>hk1</th>\n",
       "      <td>0.000000</td>\n",
       "      <td>0.000000</td>\n",
       "      <td>0.000000</td>\n",
       "      <td>0.000000</td>\n",
       "      <td>0.000000</td>\n",
       "    </tr>\n",
       "    <tr>\n",
       "      <th>hk2</th>\n",
       "      <td>53.455223</td>\n",
       "      <td>60.628868</td>\n",
       "      <td>-1724.220207</td>\n",
       "      <td>-0.004628</td>\n",
       "      <td>-0.180498</td>\n",
       "    </tr>\n",
       "    <tr>\n",
       "      <th>hk3</th>\n",
       "      <td>57.157749</td>\n",
       "      <td>92.563157</td>\n",
       "      <td>-217.060603</td>\n",
       "      <td>-0.002314</td>\n",
       "      <td>-0.069422</td>\n",
       "    </tr>\n",
       "    <tr>\n",
       "      <th>hk4</th>\n",
       "      <td>-183.275051</td>\n",
       "      <td>1.388447</td>\n",
       "      <td>-1170.923936</td>\n",
       "      <td>0.222152</td>\n",
       "      <td>-0.914061</td>\n",
       "    </tr>\n",
       "    <tr>\n",
       "      <th>hk5</th>\n",
       "      <td>-699.777467</td>\n",
       "      <td>-906.656123</td>\n",
       "      <td>-1719.823457</td>\n",
       "      <td>-0.002314</td>\n",
       "      <td>-0.006942</td>\n",
       "    </tr>\n",
       "    <tr>\n",
       "      <th>hk6</th>\n",
       "      <td>-1716.120931</td>\n",
       "      <td>-1381.967934</td>\n",
       "      <td>-1328.281303</td>\n",
       "      <td>-0.393393</td>\n",
       "      <td>-0.175870</td>\n",
       "    </tr>\n",
       "  </tbody>\n",
       "</table>\n",
       "</div>"
      ],
      "text/plain": [
       "     rivflux_cal  rivflux_fore  travel_time   fr03c16    fr04c9\n",
       "hk1     0.000000      0.000000     0.000000  0.000000  0.000000\n",
       "hk2    53.455223     60.628868 -1724.220207 -0.004628 -0.180498\n",
       "hk3    57.157749     92.563157  -217.060603 -0.002314 -0.069422\n",
       "hk4  -183.275051      1.388447 -1170.923936  0.222152 -0.914061\n",
       "hk5  -699.777467   -906.656123 -1719.823457 -0.002314 -0.006942\n",
       "hk6 -1716.120931  -1381.967934 -1328.281303 -0.393393 -0.175870"
      ]
     },
     "execution_count": 5,
     "metadata": {},
     "output_type": "execute_result"
    }
   ],
   "source": [
    "sc.forecasts.to_dataframe()"
   ]
  },
  {
   "cell_type": "markdown",
   "metadata": {},
   "source": [
    "### But the forecasts also have uncertainty because we have inherent uncertainty in the parameters.  Here's what we have defined for parameter uncertainty - the Prior.  It was constructed on-the-fly from the parameter bounds in the control file: "
   ]
  },
  {
   "cell_type": "code",
   "execution_count": 6,
   "metadata": {
    "collapsed": false
   },
   "outputs": [
    {
     "data": {
      "text/html": [
       "<div>\n",
       "<table border=\"1\" class=\"dataframe\">\n",
       "  <thead>\n",
       "    <tr style=\"text-align: right;\">\n",
       "      <th></th>\n",
       "      <th>hk1</th>\n",
       "      <th>hk2</th>\n",
       "      <th>hk3</th>\n",
       "      <th>hk4</th>\n",
       "      <th>hk5</th>\n",
       "      <th>hk6</th>\n",
       "    </tr>\n",
       "  </thead>\n",
       "  <tbody>\n",
       "    <tr>\n",
       "      <th>hk1</th>\n",
       "      <td>25.0</td>\n",
       "      <td>0.0</td>\n",
       "      <td>0.0</td>\n",
       "      <td>0.0</td>\n",
       "      <td>0.0</td>\n",
       "      <td>0.0</td>\n",
       "    </tr>\n",
       "    <tr>\n",
       "      <th>hk2</th>\n",
       "      <td>0.0</td>\n",
       "      <td>25.0</td>\n",
       "      <td>0.0</td>\n",
       "      <td>0.0</td>\n",
       "      <td>0.0</td>\n",
       "      <td>0.0</td>\n",
       "    </tr>\n",
       "    <tr>\n",
       "      <th>hk3</th>\n",
       "      <td>0.0</td>\n",
       "      <td>0.0</td>\n",
       "      <td>25.0</td>\n",
       "      <td>0.0</td>\n",
       "      <td>0.0</td>\n",
       "      <td>0.0</td>\n",
       "    </tr>\n",
       "    <tr>\n",
       "      <th>hk4</th>\n",
       "      <td>0.0</td>\n",
       "      <td>0.0</td>\n",
       "      <td>0.0</td>\n",
       "      <td>25.0</td>\n",
       "      <td>0.0</td>\n",
       "      <td>0.0</td>\n",
       "    </tr>\n",
       "    <tr>\n",
       "      <th>hk5</th>\n",
       "      <td>0.0</td>\n",
       "      <td>0.0</td>\n",
       "      <td>0.0</td>\n",
       "      <td>0.0</td>\n",
       "      <td>25.0</td>\n",
       "      <td>0.0</td>\n",
       "    </tr>\n",
       "    <tr>\n",
       "      <th>hk6</th>\n",
       "      <td>0.0</td>\n",
       "      <td>0.0</td>\n",
       "      <td>0.0</td>\n",
       "      <td>0.0</td>\n",
       "      <td>0.0</td>\n",
       "      <td>25.0</td>\n",
       "    </tr>\n",
       "  </tbody>\n",
       "</table>\n",
       "</div>"
      ],
      "text/plain": [
       "      hk1   hk2   hk3   hk4   hk5   hk6\n",
       "hk1  25.0   0.0   0.0   0.0   0.0   0.0\n",
       "hk2   0.0  25.0   0.0   0.0   0.0   0.0\n",
       "hk3   0.0   0.0  25.0   0.0   0.0   0.0\n",
       "hk4   0.0   0.0   0.0  25.0   0.0   0.0\n",
       "hk5   0.0   0.0   0.0   0.0  25.0   0.0\n",
       "hk6   0.0   0.0   0.0   0.0   0.0  25.0"
      ]
     },
     "execution_count": 6,
     "metadata": {},
     "output_type": "execute_result"
    }
   ],
   "source": [
    "sc.parcov.to_dataframe()"
   ]
  },
  {
   "cell_type": "markdown",
   "metadata": {},
   "source": [
    "### Page 463-464 in Anderson et al. (2015) spends some time on what is shown above.  For our purposes, a diagonal Prior -  numbers only along the diagaonal - shows that we expect the uncertainty for each parameter to only results from itself - there is no covariance with other parameters. The numbers themselves reflect \"the innate parameter variability\", and is input into the maths as a standard deviation around the parameter value.  This is called the \"C(p) matrix of innate parameter variability\" in the PEST parlance.\n",
    "\n",
    "## IMPORTANT POINT:  Again, how did PEST++ get these standard deviations shown in the diagonal?  From the *parameter bounds* that were specified for each parameter in the PEST control file."
   ]
  },
  {
   "cell_type": "markdown",
   "metadata": {},
   "source": [
    "### On page 462-463 in Anderson et al. they also point out that a forecast uncertainty has to take into account the noise/uncertainty in the observations.   Similar to the parameter Prior - the $\\Sigma_{\\theta}$ matrix -, it is a covariance matrix of measurement error associated with the observations.  This is the same as  $\\Sigma_{\\epsilon}$ that we discussed above. For our Fryberg problem, say each observation had a standard devation of 1 around the observed value.  The $C{\\epsilon}$ matrix would look like:"
   ]
  },
  {
   "cell_type": "code",
   "execution_count": 7,
   "metadata": {
    "collapsed": false
   },
   "outputs": [
    {
     "data": {
      "text/html": [
       "<div>\n",
       "<table border=\"1\" class=\"dataframe\">\n",
       "  <thead>\n",
       "    <tr style=\"text-align: right;\">\n",
       "      <th></th>\n",
       "      <th>cr03c16</th>\n",
       "      <th>cr03c10</th>\n",
       "      <th>cr04c9</th>\n",
       "      <th>cr10c2</th>\n",
       "      <th>cr14c11</th>\n",
       "      <th>cr16c17</th>\n",
       "      <th>cr22c11</th>\n",
       "      <th>cr23c16</th>\n",
       "      <th>cr25c5</th>\n",
       "      <th>cr27c7</th>\n",
       "      <th>cr30c16</th>\n",
       "      <th>cr34c8</th>\n",
       "      <th>cr35c11</th>\n",
       "    </tr>\n",
       "  </thead>\n",
       "  <tbody>\n",
       "    <tr>\n",
       "      <th>cr03c16</th>\n",
       "      <td>1.0</td>\n",
       "      <td>0.0</td>\n",
       "      <td>0.0</td>\n",
       "      <td>0.0</td>\n",
       "      <td>0.0</td>\n",
       "      <td>0.0</td>\n",
       "      <td>0.0</td>\n",
       "      <td>0.0</td>\n",
       "      <td>0.0</td>\n",
       "      <td>0.0</td>\n",
       "      <td>0.0</td>\n",
       "      <td>0.0</td>\n",
       "      <td>0.0</td>\n",
       "    </tr>\n",
       "    <tr>\n",
       "      <th>cr03c10</th>\n",
       "      <td>0.0</td>\n",
       "      <td>1.0</td>\n",
       "      <td>0.0</td>\n",
       "      <td>0.0</td>\n",
       "      <td>0.0</td>\n",
       "      <td>0.0</td>\n",
       "      <td>0.0</td>\n",
       "      <td>0.0</td>\n",
       "      <td>0.0</td>\n",
       "      <td>0.0</td>\n",
       "      <td>0.0</td>\n",
       "      <td>0.0</td>\n",
       "      <td>0.0</td>\n",
       "    </tr>\n",
       "    <tr>\n",
       "      <th>cr04c9</th>\n",
       "      <td>0.0</td>\n",
       "      <td>0.0</td>\n",
       "      <td>1.0</td>\n",
       "      <td>0.0</td>\n",
       "      <td>0.0</td>\n",
       "      <td>0.0</td>\n",
       "      <td>0.0</td>\n",
       "      <td>0.0</td>\n",
       "      <td>0.0</td>\n",
       "      <td>0.0</td>\n",
       "      <td>0.0</td>\n",
       "      <td>0.0</td>\n",
       "      <td>0.0</td>\n",
       "    </tr>\n",
       "    <tr>\n",
       "      <th>cr10c2</th>\n",
       "      <td>0.0</td>\n",
       "      <td>0.0</td>\n",
       "      <td>0.0</td>\n",
       "      <td>1.0</td>\n",
       "      <td>0.0</td>\n",
       "      <td>0.0</td>\n",
       "      <td>0.0</td>\n",
       "      <td>0.0</td>\n",
       "      <td>0.0</td>\n",
       "      <td>0.0</td>\n",
       "      <td>0.0</td>\n",
       "      <td>0.0</td>\n",
       "      <td>0.0</td>\n",
       "    </tr>\n",
       "    <tr>\n",
       "      <th>cr14c11</th>\n",
       "      <td>0.0</td>\n",
       "      <td>0.0</td>\n",
       "      <td>0.0</td>\n",
       "      <td>0.0</td>\n",
       "      <td>1.0</td>\n",
       "      <td>0.0</td>\n",
       "      <td>0.0</td>\n",
       "      <td>0.0</td>\n",
       "      <td>0.0</td>\n",
       "      <td>0.0</td>\n",
       "      <td>0.0</td>\n",
       "      <td>0.0</td>\n",
       "      <td>0.0</td>\n",
       "    </tr>\n",
       "    <tr>\n",
       "      <th>cr16c17</th>\n",
       "      <td>0.0</td>\n",
       "      <td>0.0</td>\n",
       "      <td>0.0</td>\n",
       "      <td>0.0</td>\n",
       "      <td>0.0</td>\n",
       "      <td>1.0</td>\n",
       "      <td>0.0</td>\n",
       "      <td>0.0</td>\n",
       "      <td>0.0</td>\n",
       "      <td>0.0</td>\n",
       "      <td>0.0</td>\n",
       "      <td>0.0</td>\n",
       "      <td>0.0</td>\n",
       "    </tr>\n",
       "    <tr>\n",
       "      <th>cr22c11</th>\n",
       "      <td>0.0</td>\n",
       "      <td>0.0</td>\n",
       "      <td>0.0</td>\n",
       "      <td>0.0</td>\n",
       "      <td>0.0</td>\n",
       "      <td>0.0</td>\n",
       "      <td>1.0</td>\n",
       "      <td>0.0</td>\n",
       "      <td>0.0</td>\n",
       "      <td>0.0</td>\n",
       "      <td>0.0</td>\n",
       "      <td>0.0</td>\n",
       "      <td>0.0</td>\n",
       "    </tr>\n",
       "    <tr>\n",
       "      <th>cr23c16</th>\n",
       "      <td>0.0</td>\n",
       "      <td>0.0</td>\n",
       "      <td>0.0</td>\n",
       "      <td>0.0</td>\n",
       "      <td>0.0</td>\n",
       "      <td>0.0</td>\n",
       "      <td>0.0</td>\n",
       "      <td>1.0</td>\n",
       "      <td>0.0</td>\n",
       "      <td>0.0</td>\n",
       "      <td>0.0</td>\n",
       "      <td>0.0</td>\n",
       "      <td>0.0</td>\n",
       "    </tr>\n",
       "    <tr>\n",
       "      <th>cr25c5</th>\n",
       "      <td>0.0</td>\n",
       "      <td>0.0</td>\n",
       "      <td>0.0</td>\n",
       "      <td>0.0</td>\n",
       "      <td>0.0</td>\n",
       "      <td>0.0</td>\n",
       "      <td>0.0</td>\n",
       "      <td>0.0</td>\n",
       "      <td>1.0</td>\n",
       "      <td>0.0</td>\n",
       "      <td>0.0</td>\n",
       "      <td>0.0</td>\n",
       "      <td>0.0</td>\n",
       "    </tr>\n",
       "    <tr>\n",
       "      <th>cr27c7</th>\n",
       "      <td>0.0</td>\n",
       "      <td>0.0</td>\n",
       "      <td>0.0</td>\n",
       "      <td>0.0</td>\n",
       "      <td>0.0</td>\n",
       "      <td>0.0</td>\n",
       "      <td>0.0</td>\n",
       "      <td>0.0</td>\n",
       "      <td>0.0</td>\n",
       "      <td>1.0</td>\n",
       "      <td>0.0</td>\n",
       "      <td>0.0</td>\n",
       "      <td>0.0</td>\n",
       "    </tr>\n",
       "    <tr>\n",
       "      <th>cr30c16</th>\n",
       "      <td>0.0</td>\n",
       "      <td>0.0</td>\n",
       "      <td>0.0</td>\n",
       "      <td>0.0</td>\n",
       "      <td>0.0</td>\n",
       "      <td>0.0</td>\n",
       "      <td>0.0</td>\n",
       "      <td>0.0</td>\n",
       "      <td>0.0</td>\n",
       "      <td>0.0</td>\n",
       "      <td>1.0</td>\n",
       "      <td>0.0</td>\n",
       "      <td>0.0</td>\n",
       "    </tr>\n",
       "    <tr>\n",
       "      <th>cr34c8</th>\n",
       "      <td>0.0</td>\n",
       "      <td>0.0</td>\n",
       "      <td>0.0</td>\n",
       "      <td>0.0</td>\n",
       "      <td>0.0</td>\n",
       "      <td>0.0</td>\n",
       "      <td>0.0</td>\n",
       "      <td>0.0</td>\n",
       "      <td>0.0</td>\n",
       "      <td>0.0</td>\n",
       "      <td>0.0</td>\n",
       "      <td>1.0</td>\n",
       "      <td>0.0</td>\n",
       "    </tr>\n",
       "    <tr>\n",
       "      <th>cr35c11</th>\n",
       "      <td>0.0</td>\n",
       "      <td>0.0</td>\n",
       "      <td>0.0</td>\n",
       "      <td>0.0</td>\n",
       "      <td>0.0</td>\n",
       "      <td>0.0</td>\n",
       "      <td>0.0</td>\n",
       "      <td>0.0</td>\n",
       "      <td>0.0</td>\n",
       "      <td>0.0</td>\n",
       "      <td>0.0</td>\n",
       "      <td>0.0</td>\n",
       "      <td>1.0</td>\n",
       "    </tr>\n",
       "  </tbody>\n",
       "</table>\n",
       "</div>"
      ],
      "text/plain": [
       "         cr03c16  cr03c10  cr04c9  cr10c2  cr14c11  cr16c17  cr22c11  cr23c16  \\\n",
       "cr03c16      1.0      0.0     0.0     0.0      0.0      0.0      0.0      0.0   \n",
       "cr03c10      0.0      1.0     0.0     0.0      0.0      0.0      0.0      0.0   \n",
       "cr04c9       0.0      0.0     1.0     0.0      0.0      0.0      0.0      0.0   \n",
       "cr10c2       0.0      0.0     0.0     1.0      0.0      0.0      0.0      0.0   \n",
       "cr14c11      0.0      0.0     0.0     0.0      1.0      0.0      0.0      0.0   \n",
       "cr16c17      0.0      0.0     0.0     0.0      0.0      1.0      0.0      0.0   \n",
       "cr22c11      0.0      0.0     0.0     0.0      0.0      0.0      1.0      0.0   \n",
       "cr23c16      0.0      0.0     0.0     0.0      0.0      0.0      0.0      1.0   \n",
       "cr25c5       0.0      0.0     0.0     0.0      0.0      0.0      0.0      0.0   \n",
       "cr27c7       0.0      0.0     0.0     0.0      0.0      0.0      0.0      0.0   \n",
       "cr30c16      0.0      0.0     0.0     0.0      0.0      0.0      0.0      0.0   \n",
       "cr34c8       0.0      0.0     0.0     0.0      0.0      0.0      0.0      0.0   \n",
       "cr35c11      0.0      0.0     0.0     0.0      0.0      0.0      0.0      0.0   \n",
       "\n",
       "         cr25c5  cr27c7  cr30c16  cr34c8  cr35c11  \n",
       "cr03c16     0.0     0.0      0.0     0.0      0.0  \n",
       "cr03c10     0.0     0.0      0.0     0.0      0.0  \n",
       "cr04c9      0.0     0.0      0.0     0.0      0.0  \n",
       "cr10c2      0.0     0.0      0.0     0.0      0.0  \n",
       "cr14c11     0.0     0.0      0.0     0.0      0.0  \n",
       "cr16c17     0.0     0.0      0.0     0.0      0.0  \n",
       "cr22c11     0.0     0.0      0.0     0.0      0.0  \n",
       "cr23c16     0.0     0.0      0.0     0.0      0.0  \n",
       "cr25c5      1.0     0.0      0.0     0.0      0.0  \n",
       "cr27c7      0.0     1.0      0.0     0.0      0.0  \n",
       "cr30c16     0.0     0.0      1.0     0.0      0.0  \n",
       "cr34c8      0.0     0.0      0.0     1.0      0.0  \n",
       "cr35c11     0.0     0.0      0.0     0.0      1.0  "
      ]
     },
     "execution_count": 7,
     "metadata": {},
     "output_type": "execute_result"
    }
   ],
   "source": [
    "sc.obscov.to_dataframe().loc[sc.pst.nnz_obs_names,sc.pst.nnz_obs_names]"
   ]
  },
  {
   "cell_type": "markdown",
   "metadata": {},
   "source": [
    "## IMPORTANT POINT:  How did PEST++ get these standard deviations shown in the diagonal?  From the *weights* that were specified for each observation in the PEST control file.\n",
    "\n",
    "## IMPORTANT POINT: You can use FOSM in the \"pre-calibration\" state to design an objective function (e.g. weights) to maximize forecast uncertainty reduction.\n",
    "\n",
    "## IMPORTANT POINT: In PEST++, if a given observation has a larger-than-expected residual, the variance of said observation is reset to the variance implied by the residual.  That is, the diagonal elements of $\\Sigma_{\\epsilon}$ are reset according to the residuals"
   ]
  },
  {
   "cell_type": "markdown",
   "metadata": {},
   "source": [
    "### Okay, enough emphasis.  Here's the point.  When we apply FOSM using these matrices above we can see how our uncertainty changes during calibration, first for parameters and then for forecasts:"
   ]
  },
  {
   "cell_type": "code",
   "execution_count": 8,
   "metadata": {
    "collapsed": false
   },
   "outputs": [
    {
     "data": {
      "text/html": [
       "<div>\n",
       "<table border=\"1\" class=\"dataframe\">\n",
       "  <thead>\n",
       "    <tr style=\"text-align: right;\">\n",
       "      <th></th>\n",
       "      <th>percent_reduction</th>\n",
       "      <th>post_var</th>\n",
       "      <th>prior_var</th>\n",
       "    </tr>\n",
       "  </thead>\n",
       "  <tbody>\n",
       "    <tr>\n",
       "      <th>hk1</th>\n",
       "      <td>0.000000</td>\n",
       "      <td>25.000000</td>\n",
       "      <td>25.0</td>\n",
       "    </tr>\n",
       "    <tr>\n",
       "      <th>hk2</th>\n",
       "      <td>83.355118</td>\n",
       "      <td>4.161220</td>\n",
       "      <td>25.0</td>\n",
       "    </tr>\n",
       "    <tr>\n",
       "      <th>hk3</th>\n",
       "      <td>77.741373</td>\n",
       "      <td>5.564657</td>\n",
       "      <td>25.0</td>\n",
       "    </tr>\n",
       "    <tr>\n",
       "      <th>hk4</th>\n",
       "      <td>98.908852</td>\n",
       "      <td>0.272787</td>\n",
       "      <td>25.0</td>\n",
       "    </tr>\n",
       "    <tr>\n",
       "      <th>hk5</th>\n",
       "      <td>98.065483</td>\n",
       "      <td>0.483629</td>\n",
       "      <td>25.0</td>\n",
       "    </tr>\n",
       "    <tr>\n",
       "      <th>hk6</th>\n",
       "      <td>98.639404</td>\n",
       "      <td>0.340149</td>\n",
       "      <td>25.0</td>\n",
       "    </tr>\n",
       "  </tbody>\n",
       "</table>\n",
       "</div>"
      ],
      "text/plain": [
       "     percent_reduction   post_var  prior_var\n",
       "hk1           0.000000  25.000000       25.0\n",
       "hk2          83.355118   4.161220       25.0\n",
       "hk3          77.741373   5.564657       25.0\n",
       "hk4          98.908852   0.272787       25.0\n",
       "hk5          98.065483   0.483629       25.0\n",
       "hk6          98.639404   0.340149       25.0"
      ]
     },
     "execution_count": 8,
     "metadata": {},
     "output_type": "execute_result"
    }
   ],
   "source": [
    "sc.get_parameter_summary()"
   ]
  },
  {
   "cell_type": "markdown",
   "metadata": {},
   "source": [
    "### Where did the \"prior_var\" and \"post_var\" columns come from?\n",
    "\n",
    "### Why did uncertainty in \"hk1\" not change?"
   ]
  },
  {
   "cell_type": "code",
   "execution_count": 9,
   "metadata": {
    "collapsed": false
   },
   "outputs": [
    {
     "data": {
      "text/html": [
       "<div>\n",
       "<table border=\"1\" class=\"dataframe\">\n",
       "  <thead>\n",
       "    <tr style=\"text-align: right;\">\n",
       "      <th></th>\n",
       "      <th>percent_reduction</th>\n",
       "      <th>post_var</th>\n",
       "      <th>prior_var</th>\n",
       "    </tr>\n",
       "  </thead>\n",
       "  <tbody>\n",
       "    <tr>\n",
       "      <th>rivflux_cal</th>\n",
       "      <td>98.514221</td>\n",
       "      <td>1.290575e+06</td>\n",
       "      <td>8.686184e+07</td>\n",
       "    </tr>\n",
       "    <tr>\n",
       "      <th>rivflux_fore</th>\n",
       "      <td>98.250037</td>\n",
       "      <td>1.200521e+06</td>\n",
       "      <td>6.860266e+07</td>\n",
       "    </tr>\n",
       "    <tr>\n",
       "      <th>travel_time</th>\n",
       "      <td>93.271596</td>\n",
       "      <td>1.532939e+07</td>\n",
       "      <td>2.278309e+08</td>\n",
       "    </tr>\n",
       "    <tr>\n",
       "      <th>fr03c16</th>\n",
       "      <td>98.378174</td>\n",
       "      <td>8.277065e-02</td>\n",
       "      <td>5.103546e+00</td>\n",
       "    </tr>\n",
       "    <tr>\n",
       "      <th>fr04c9</th>\n",
       "      <td>98.599511</td>\n",
       "      <td>3.164704e-01</td>\n",
       "      <td>2.259713e+01</td>\n",
       "    </tr>\n",
       "  </tbody>\n",
       "</table>\n",
       "</div>"
      ],
      "text/plain": [
       "              percent_reduction      post_var     prior_var\n",
       "rivflux_cal           98.514221  1.290575e+06  8.686184e+07\n",
       "rivflux_fore          98.250037  1.200521e+06  6.860266e+07\n",
       "travel_time           93.271596  1.532939e+07  2.278309e+08\n",
       "fr03c16               98.378174  8.277065e-02  5.103546e+00\n",
       "fr04c9                98.599511  3.164704e-01  2.259713e+01"
      ]
     },
     "execution_count": 9,
     "metadata": {},
     "output_type": "execute_result"
    }
   ],
   "source": [
    "sc.get_forecast_summary()"
   ]
  },
  {
   "cell_type": "code",
   "execution_count": null,
   "metadata": {
    "collapsed": true
   },
   "outputs": [],
   "source": []
  }
 ],
 "metadata": {
  "anaconda-cloud": {},
  "kernelspec": {
   "display_name": "Python 3",
   "language": "python",
   "name": "python3"
  },
  "language_info": {
   "codemirror_mode": {
    "name": "ipython",
    "version": 3
   },
   "file_extension": ".py",
   "mimetype": "text/x-python",
   "name": "python",
   "nbconvert_exporter": "python",
   "pygments_lexer": "ipython3",
   "version": "3.5.2"
  }
 },
 "nbformat": 4,
 "nbformat_minor": 0
}
