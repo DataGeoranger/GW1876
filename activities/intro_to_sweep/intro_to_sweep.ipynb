{
 "cells": [
  {
   "cell_type": "markdown",
   "metadata": {},
   "source": [
    "# SWEEP\n",
    "\n",
    "### Sweep (with the executable name ``pestpp-swp``) is a simple utility to evaluate a set of parameter values in serial (one at a time) or in parallel.  This set of parameter is stored in a CSV file.  ``pestpp-swp`` writes a new csv file with model-simulated values for observations listed in the control file.  Let's check it out...\n",
    "\n",
    "The usual boiler plate to setup a model - in this case, we are using the freyberg hk + rch model"
   ]
  },
  {
   "cell_type": "code",
   "execution_count": null,
   "metadata": {},
   "outputs": [],
   "source": [
    "%matplotlib inline\n",
    "import os\n",
    "import sys\n",
    "sys.path.append(\"..\")\n",
    "import numpy as np\n",
    "import pandas as pd\n",
    "import matplotlib.pyplot as plt\n",
    "import pyemu\n",
    "\n"
   ]
  },
  {
   "cell_type": "code",
   "execution_count": null,
   "metadata": {},
   "outputs": [],
   "source": [
    "import freyberg_setup as fs\n",
    "pst_name = fs.PST_NAME_KR\n",
    "working_dir = fs.WORKING_DIR_KR\n",
    "fs.setup_pest_kr()"
   ]
  },
  {
   "cell_type": "markdown",
   "metadata": {
    "collapsed": true
   },
   "source": [
    "### sweep accepts several optional ++ arguments in the control file:\n",
    "### - ++sweep_parameter_csv_file(): the name of the csv file for rows of parameter values\n",
    "### - ++sweep_output_csv_file(): the name of the csv file sweep writes with model outputs\n",
    "### - ++sweep_chunk(): how many parameter sets to evaluate before writing to the output csv file\n",
    "\n",
    "\n",
    "### each of these are optional - there are default values supplied if you don't pass them:\n",
    "### - ++sweep_parameter_csv_file = \"sweep_in.csv\"\n",
    "### - ++sweep_output_csv_file = \"sweep_out.csv\"\n",
    "### - ++sweep_chunk = 500\n"
   ]
  },
  {
   "cell_type": "markdown",
   "metadata": {},
   "source": [
    "### Let's make a csv file for sweep use and write some random values to it.  You can do this by hand in excel (!) or you embrace the sweetness that is python:"
   ]
  },
  {
   "cell_type": "code",
   "execution_count": null,
   "metadata": {},
   "outputs": [],
   "source": [
    "f =  open(os.path.join(working_dir,\"my_first_sweep.csv\"),'w')\n",
    "    "
   ]
  },
  {
   "cell_type": "markdown",
   "metadata": {},
   "source": [
    "### First, we need to write a header to the sweep in file - listing the run id and the parameter names...\n",
    "### But wait!  We need to know the names of the parameter for the csv file header? How can get those?"
   ]
  },
  {
   "cell_type": "code",
   "execution_count": null,
   "metadata": {},
   "outputs": [],
   "source": [
    "pst = pyemu.Pst(os.path.join(working_dir,pst_name))"
   ]
  },
  {
   "cell_type": "code",
   "execution_count": null,
   "metadata": {},
   "outputs": [],
   "source": [
    "pst.parameter_data"
   ]
  },
  {
   "cell_type": "code",
   "execution_count": null,
   "metadata": {},
   "outputs": [],
   "source": [
    "f.write(\"run_id,rch_0,rch_1,hk,porosity\\n\")"
   ]
  },
  {
   "cell_type": "markdown",
   "metadata": {},
   "source": [
    "Let's write one set of parameter values to this csv file, use whatever values you want...let's get crazy!"
   ]
  },
  {
   "cell_type": "code",
   "execution_count": null,
   "metadata": {},
   "outputs": [],
   "source": [
    "#you code here....\n",
    "f.write(\"crap,-999,-999,1.0E+30,-999\\n\")"
   ]
  },
  {
   "cell_type": "code",
   "execution_count": null,
   "metadata": {},
   "outputs": [],
   "source": [
    "f.close()"
   ]
  },
  {
   "cell_type": "markdown",
   "metadata": {},
   "source": [
    "### Let's go look at the file \"my_first_sweep.csv\""
   ]
  },
  {
   "cell_type": "markdown",
   "metadata": {},
   "source": [
    "### Cool...now let's run sweep (`pestpp-swp`)! But from the command line, like real modelers!"
   ]
  },
  {
   "cell_type": "markdown",
   "metadata": {},
   "source": [
    "### Oh crap!  Why didn't that work?  Remember, we named our input csv \"my_first_sweep.csv\", but the ``++sweep_parameter_csv_file()`` arg was not set, so ``sweep`` is looking for \"sweep_in.csv\".  \n",
    "\n",
    "### So either rename your CSV file or add that optional arg to the control file and rerun..."
   ]
  },
  {
   "cell_type": "code",
   "execution_count": null,
   "metadata": {},
   "outputs": [],
   "source": [
    "pst.pestpp_options[\"sweep_parameter_csv_file\"] = \"my_first_sweep.csv\""
   ]
  },
  {
   "cell_type": "code",
   "execution_count": null,
   "metadata": {},
   "outputs": [],
   "source": [
    "pst.write(os.path.join(working_dir,pst_name))"
   ]
  },
  {
   "cell_type": "markdown",
   "metadata": {},
   "source": [
    "### Now go open up \"sweep_out.csv\".  What do you see?  If you used crazy parameter values, you have a failed run (look for a '0' or a '1' in the third column).  So ``sweep`` tracks run failures for you.  Let's fix the parameter values to be more reasonable and rerun sweep, this time all with python..."
   ]
  },
  {
   "cell_type": "code",
   "execution_count": null,
   "metadata": {},
   "outputs": [],
   "source": [
    "f =  open(os.path.join(working_dir,\"my_first_sweep.csv\"),'w')\n",
    "f.write(\"run_id,rch_0,rch_1,hk,porosity\\n\")\n",
    "f.write(\"0,0.9,0.8,3.14159,0.01\\n\")\n",
    "f.close()\n",
    "pst.control_data.noptmax = 0\n",
    "pst.write(os.path.join(working_dir,pst_name))\n",
    "pyemu.os_utils.run(\"pestpp-swp {0}\".format(pst_name),cwd=working_dir)"
   ]
  },
  {
   "cell_type": "code",
   "execution_count": null,
   "metadata": {},
   "outputs": [],
   "source": [
    "df = pd.read_csv(os.path.join(working_dir,\"sweep_out.csv\"))\n",
    "df"
   ]
  },
  {
   "cell_type": "markdown",
   "metadata": {},
   "source": [
    "### What do you see?  ``sweep`` is calculating the composite (total) objective function (``phi``), as well as the ``phi`` for each objective function component.  Then, past the ``phi`` info, are the simulated values for each observation listed in the control file.  Cool!"
   ]
  },
  {
   "cell_type": "markdown",
   "metadata": {},
   "source": [
    "### ``sweep`` is total general and flexible, which lets you do all kinds of cool things with your PEST datasets, such as Monte Carlo or design of experiments.  All ``sweep`` does is run each row in the input CSV through the model and write the resulting simulated outputs to a new csv.  that it..."
   ]
  },
  {
   "cell_type": "markdown",
   "metadata": {},
   "source": [
    "### pyEMU interfaces nicely with ``sweep`` through the ``pandas.DataFrame`` object to let you easily generate and evaluate lots of parameter value combinations - Monte Carlo.  For demonstration purposes, let's do that..."
   ]
  },
  {
   "cell_type": "code",
   "execution_count": null,
   "metadata": {},
   "outputs": [],
   "source": [
    "pst.pestpp_options.pop(\"sweep_parameter_csv_file\")\n",
    "pst.write(os.path.join(working_dir,pst_name))\n",
    "mc = pyemu.MonteCarlo(pst=pst)"
   ]
  },
  {
   "cell_type": "code",
   "execution_count": null,
   "metadata": {},
   "outputs": [],
   "source": [
    "mc.draw(50)"
   ]
  },
  {
   "cell_type": "code",
   "execution_count": null,
   "metadata": {},
   "outputs": [],
   "source": [
    "mc.parensemble"
   ]
  },
  {
   "cell_type": "markdown",
   "metadata": {},
   "source": [
    "### Let's use ``pandas`` to write the CSV file we need"
   ]
  },
  {
   "cell_type": "code",
   "execution_count": null,
   "metadata": {},
   "outputs": [],
   "source": [
    "mc.parensemble.to_csv(os.path.join(working_dir,\"sweep_in.csv\"))"
   ]
  },
  {
   "cell_type": "markdown",
   "metadata": {},
   "source": [
    "### When execute this next block, go the terminal where the notebook is running and what the output..."
   ]
  },
  {
   "cell_type": "code",
   "execution_count": null,
   "metadata": {},
   "outputs": [],
   "source": [
    "pyemu.os_utils.run(\"pestpp-swp {0}\".format(pst_name),cwd=working_dir)"
   ]
  },
  {
   "cell_type": "markdown",
   "metadata": {},
   "source": [
    "### That was too slow...let's do it in parallel.  We are going to use a pyemu helper to start the parallel run manager that is built in to ``sweep``.  Don't worry about this for now, we will cover in much greater detail later...after executing this code block, go back to the terminal and watch"
   ]
  },
  {
   "cell_type": "markdown",
   "metadata": {},
   "source": [
    "### To better understand how pestpp runs things in parallel, let's redo the ``freyberg_k_and_r`` calibration, but we will start the master and slaves... \n",
    "\n",
    "\n",
    "\n",
    "\n",
    "\n",
    "\n",
    "\n",
    "\n"
   ]
  },
  {
   "cell_type": "markdown",
   "metadata": {},
   "source": [
    "### ...Wow - that was painful...luckily, pyemu has a helper function to \"help\""
   ]
  },
  {
   "cell_type": "code",
   "execution_count": null,
   "metadata": {},
   "outputs": [],
   "source": [
    "os.chdir(working_dir)\n",
    "pyemu.helpers.start_slaves('.',\"pestpp-swp\",pst_name,num_slaves=15,master_dir='.')\n",
    "os.chdir(\"..\")"
   ]
  },
  {
   "cell_type": "markdown",
   "metadata": {},
   "source": [
    "### That was way faster...let's check out the results"
   ]
  },
  {
   "cell_type": "code",
   "execution_count": null,
   "metadata": {},
   "outputs": [],
   "source": [
    "df = pd.read_csv(os.path.join(working_dir,\"sweep_out.csv\"))\n",
    "df"
   ]
  },
  {
   "cell_type": "markdown",
   "metadata": {},
   "source": [
    "### Boom!  Monte Carlo done! In the next excersize, we will talk more about how this Monte Carlo is implemented and also what the results mean..."
   ]
  },
  {
   "cell_type": "code",
   "execution_count": null,
   "metadata": {},
   "outputs": [],
   "source": [
    "df.phi.hist(bins=10)"
   ]
  },
  {
   "cell_type": "code",
   "execution_count": null,
   "metadata": {},
   "outputs": [],
   "source": []
  }
 ],
 "metadata": {
  "anaconda-cloud": {},
  "kernelspec": {
   "display_name": "Python 3",
   "language": "python",
   "name": "python3"
  },
  "language_info": {
   "codemirror_mode": {
    "name": "ipython",
    "version": 3
   },
   "file_extension": ".py",
   "mimetype": "text/x-python",
   "name": "python",
   "nbconvert_exporter": "python",
   "pygments_lexer": "ipython3",
   "version": "3.6.6"
  }
 },
 "nbformat": 4,
 "nbformat_minor": 1
}
