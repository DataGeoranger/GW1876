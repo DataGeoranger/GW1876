{
 "cells": [
  {
   "cell_type": "markdown",
   "metadata": {},
   "source": [
    "> ## \"The goal of parameter identification is rarely the parameter estimates. Rather, the ultimate goal is nearly always a prediction problem\" \n",
    ">-David Freyberg (1988)"
   ]
  },
  {
   "cell_type": "code",
   "execution_count": 1,
   "metadata": {
    "collapsed": true
   },
   "outputs": [],
   "source": [
    "%matplotlib inline\n",
    "from __future__ import print_function\n",
    "import os\n",
    "import numpy as np\n",
    "import pandas as pd\n",
    "from matplotlib.patches import Rectangle as rect\n",
    "import matplotlib.pyplot as plt\n",
    "import warnings\n",
    "warnings.filterwarnings(\"ignore\", \n",
    "    message=\"ModflowDis.sr is deprecated. use Modflow.sr\")\n",
    "from mpl_toolkits.axes_grid1 import make_axes_locatable\n",
    "import matplotlib as mpl\n",
    "newparams = {'legend.fontsize':10, 'axes.labelsize':10,\n",
    "             'xtick.labelsize':10, 'ytick.labelsize':10,\n",
    "             'font.family':'Univers 57 Condensed', \n",
    "             'pdf.fonttype':42}\n",
    "plt.rcParams.update(newparams)\n",
    "from IPython.display import Image"
   ]
  },
  {
   "cell_type": "markdown",
   "metadata": {},
   "source": [
    "# Introduction to the synthetic model for the class\n",
    "\n",
    "### We have recreated a MODFLOW model that was originally created by David Freyberg at Stanford University in the late 1980s. The  model is a 2-dimensional MODFLOW model with 1 layer,  40 rows, and 20 columns.  The model has 2 stress periods: an initial steady-state stress period used for calibration, and a 5-year transient stress period.  The calibration period uses the recharge and well flux of Freyberg(1988); the forecast stress period uses 25% less recharge and 25% more pumping to represent future drought conditions for a forecast period.\n",
    "\n",
    "### The inverse problem has 12 head observations, measured at the end of the steady-state calibration period.  The forecasts of interest include the sw-gw exchange flux during the forecast stress periods (observations named and ``rivflux_fore``), and the water level in well cell 6 located at row 28 column 5 at the end of the stress periods (observations named ```fr03c16``` and ```fr04c9```) and `travel_time` from MODPATH.  The forecasts are included in the Jacobian matrix as zero-weight observations. \n",
    "\n",
    "### Freyberg, David L. \"AN EXERCISE IN GROUND‐WATER MODEL CALIBRATION AND PREDICTION.\" Groundwater 26.3 (1988): 350-360."
   ]
  },
  {
   "cell_type": "code",
   "execution_count": null,
   "metadata": {
    "collapsed": false
   },
   "outputs": [],
   "source": [
    "Image(filename='images/freyberg_paper.png')"
   ]
  },
  {
   "cell_type": "code",
   "execution_count": 2,
   "metadata": {
    "collapsed": false
   },
   "outputs": [
    {
     "name": "stderr",
     "output_type": "stream",
     "text": [
      "/Users/mnfienen/anaconda/lib/python3.5/site-packages/matplotlib/font_manager.py:1288: UserWarning: findfont: Font family ['Univers 57 Condensed'] not found. Falling back to Bitstream Vera Sans\n",
      "  (prop.get_family(), self.defaultFamily[fontext]))\n"
     ]
    },
    {
     "data": {
      "image/png": "[encoded data removed]",
      "text/plain": [
       "<matplotlib.figure.Figure at 0x11322e748>"
      ]
     },
     "metadata": {},
     "output_type": "display_data"
    },
    {
     "data": {
      "text/plain": [
       "<matplotlib.figure.Figure at 0x1136021d0>"
      ]
     },
     "metadata": {},
     "output_type": "display_data"
    }
   ],
   "source": [
    "import flopy\n",
    "\n",
    "# load the model\n",
    "model_ws = \"extra_crispy\"\n",
    "ml = flopy.modflow.Modflow.load(\"freyberg.nam\",model_ws=model_ws)\n",
    "\n",
    "# plot some model attributes\n",
    "fig = plt.figure(figsize=(6.5,6.5))\n",
    "ax = plt.subplot(111,aspect=\"equal\")\n",
    "mm = flopy.plot.ModelMap(model=ml)\n",
    "mm.plot_grid()\n",
    "ax = mm.ax\n",
    "#ml.upw.hk.plot(axes=[ax],colorbar=\"K m/d\",alpha=0.0)\n",
    "ml.wel.stress_period_data.plot(axes=[ax])\n",
    "ml.riv.stress_period_data.plot(axes=[ax])\n",
    "\n",
    "# plot obs locations\n",
    "obs = pd.read_csv(os.path.join(\"extra_crispy\",\"obs_rowcol.dat\"),\n",
    "                  delim_whitespace=True)\n",
    "obs_x = [ml.sr.xcentergrid[r-1,c-1] for r,c in obs.loc[:,[\"row\",\"col\"]].values]\n",
    "obs_y = [ml.sr.ycentergrid[r-1,c-1] for r,c in obs.loc[:,[\"row\",\"col\"]].values]\n",
    "ax.scatter(obs_x,obs_y,marker='.',label=\"water-level obs\")\n",
    "\n",
    "#plot names on the pumping well locations\n",
    "wel_data = ml.wel.stress_period_data[0]\n",
    "wel_x = ml.sr.xcentergrid[wel_data[\"i\"],wel_data[\"j\"]]\n",
    "wel_y = ml.sr.ycentergrid[wel_data[\"i\"],wel_data[\"j\"]]\n",
    "for i,(x,y) in enumerate(zip(wel_x,wel_y)):\n",
    "    ax.text(x,y,\"{0}\".format(i+1),ha=\"center\",va=\"center\")\n",
    "\n",
    "df = pd.read_csv(os.path.join(\"extra_crispy\",\"freyberg.mppthln\"),skiprows=3,\n",
    "                 header=None,usecols=[5,6],\n",
    "                 names=['x','y'],\n",
    "                 delim_whitespace=True)\n",
    "ax.plot(df.x,df.y,color='r',lw=2.0)\n",
    "plt.show()    \n",
    "    \n",
    "ax.set_ylabel(\"y(m)\")\n",
    "ax.set_xlabel(\"x(m)\")\n",
    "\n",
    "ax.add_patch(rect((0,0),0,0,label=\"well\",ec=\"none\",fc=\"r\"))\n",
    "ax.add_patch(rect((0,0),0,0,label=\"river\",ec=\"none\",fc=\"g\"))\n",
    "\n",
    "ax.legend(bbox_to_anchor=(1.75,1.0),frameon=False)\n",
    "plt.savefig(\"domain.pdf\")\n",
    "plt.savefig(\"domain.png\")"
   ]
  },
  {
   "cell_type": "markdown",
   "metadata": {
    "collapsed": true
   },
   "source": [
    "# True Properties of the model"
   ]
  },
  {
   "cell_type": "code",
   "execution_count": 3,
   "metadata": {
    "collapsed": false
   },
   "outputs": [
    {
     "name": "stderr",
     "output_type": "stream",
     "text": [
      "/Users/mnfienen/anaconda/lib/python3.5/site-packages/matplotlib/font_manager.py:1288: UserWarning: findfont: Font family ['Univers 57 Condensed'] not found. Falling back to Bitstream Vera Sans\n",
      "  (prop.get_family(), self.defaultFamily[fontext]))\n"
     ]
    },
    {
     "data": {
      "image/png": "[encoded data removed]",
      "text/plain": [
       "<matplotlib.figure.Figure at 0x112f5d6a0>"
      ]
     },
     "metadata": {},
     "output_type": "display_data"
    }
   ],
   "source": [
    "hk = np.loadtxt(os.path.join('extra_crispy','ref','hk.truth.ref'))\n",
    "ibound = np.loadtxt(os.path.join('extra_crispy','ref','ibound.ref'))\n",
    "fig = plt.figure(figsize=(6.5,6.5))\n",
    "ax1 = plt.subplot(121,aspect=\"equal\")\n",
    "hk[ibound==0] = np.nan\n",
    "im1 = plt.imshow(hk, interpolation='nearest', cmap='viridis')\n",
    "divider1 = make_axes_locatable(ax1)\n",
    "cax1 = divider1.append_axes(\"right\", size=\"20%\", pad=0.05)\n",
    "cbar1 = plt.colorbar(im1, cax=cax1,  format=\"%.2f\")\n",
    "ax2 = plt.subplot(122,aspect=\"equal\")\n",
    "im2 = plt.imshow(ibound, interpolation='nearest', cmap='viridis')\n",
    "divider2 = make_axes_locatable(ax2)\n",
    "cax2 = divider2.append_axes(\"right\", size=\"20%\", pad=0.05)\n",
    "cbar2 = plt.colorbar(im2, cax=cax2,  format=\"%.2f\")\n",
    "ax1.set_title('hydraulic conductivity')\n",
    "ax2.set_title('ibound')\n",
    "plt.tight_layout()"
   ]
  },
  {
   "cell_type": "markdown",
   "metadata": {},
   "source": [
    "# The hydraulic conductivity is a stochastically perturbed realization based on a zoned field from the paper\n",
    "<img src=\"true_K.png\" style=\"float: center; width: 25%;  margin-bottom: 0.5em;\">\n"
   ]
  },
  {
   "cell_type": "markdown",
   "metadata": {
    "collapsed": true
   },
   "source": [
    "# How about recharge?"
   ]
  },
  {
   "cell_type": "code",
   "execution_count": 4,
   "metadata": {
    "collapsed": false
   },
   "outputs": [
    {
     "name": "stdout",
     "output_type": "stream",
     "text": [
      "# RCH for MODFLOW, generated by Flopy.\n",
      "3         0\n",
      "1        -1 # Stress period 1\n",
      "CONSTANT                   0.00013824                   #rech_1\n",
      "1        -1 # Stress period 2\n",
      "CONSTANT                   0.00009000                   #rech_2\n",
      "1        -1 # Stress period 3\n",
      "CONSTANT                   0.00009000                   #rech_2\n"
     ]
    }
   ],
   "source": [
    "for line in open(os.path.join('extra_crispy','freyberg.truth.rch'),'r'):\n",
    "    print(line.strip())"
   ]
  },
  {
   "cell_type": "markdown",
   "metadata": {},
   "source": [
    "# What did the paper describe and what are we doing?"
   ]
  },
  {
   "cell_type": "markdown",
   "metadata": {},
   "source": [
    "## David Freyberg designed a simple model to give to a graduate class and asked them to each \"calibrate\" the model. The data provided to them was pretty extensive: \n",
    "### 1. the water level (perfectly represented) in a number of wells\n",
    "### 2. the bedrock elevation at those same well locations\n",
    "### 3. all the lateral aquifer geometry\n",
    "### 4. boundary conditions including lateral flows \n",
    "### 5. well pumping rates \n",
    "\n",
    "## The forecast of interest was the head if the river channel was lined (e.g. conductance reduced greatly)\n",
    "\n",
    "## Calibration was judged based on three metrics\n",
    "## 1. Fit of prediction: $RMSE_P=\\sqrt{\\frac{1}{6}\\sum_{i=1}^{6}\\left(\\hat{h}_{mod}^{i}-h_{mod}^{i}\\right)^{2}}$\n",
    "## 2. Fit of calibration: $RMSE_K=\\sqrt{\\frac{1}{705}\\sum_{i=1}^{705}\\left(\\hat{K}_i-K_i\\right)^{2}}$\n",
    "## 3. The number of model runs: $N$\n",
    "\n",
    "## The students had to make their own metrics of calibration fit using the head observations"
   ]
  },
  {
   "cell_type": "markdown",
   "metadata": {},
   "source": [
    "# There are interesting insights in the paper, but perhaps the most interesting is this one:"
   ]
  },
  {
   "cell_type": "markdown",
   "metadata": {},
   "source": [
    "<img src=\"cal_pred.png\" style=\"float: center; width: 75%;  margin-bottom: 0.5em;\">\n"
   ]
  },
  {
   "cell_type": "markdown",
   "metadata": {},
   "source": [
    "# So what are we doing with this model?"
   ]
  },
  {
   "cell_type": "markdown",
   "metadata": {},
   "source": [
    "## The Freyberg paper showed that representing the true properties of a system can lead to good predictions. However, doing a great job of reproducing calibration data _at the expense of reasonable parameters_ hinders rather than helps predictions/forecasts. This is a central theme!"
   ]
  },
  {
   "cell_type": "markdown",
   "metadata": {},
   "source": [
    "## So we will explore this model, using it to work our way through simple parameterizations and getting more sophisticated as we go. We will explore the ramifications of simplicity and complexity always consider the balance between \"calibration\" fit and predictive performance.\n",
    "\n",
    "## For this kind fo class we need a synthetic and kind of simple model so it can run quickly and so we can compare our answers with the truth."
   ]
  },
  {
   "cell_type": "markdown",
   "metadata": {
    "collapsed": true
   },
   "source": [
    "# Calibration Data: \n",
    "### We will have the same head values, but they will be corrupted with noise. We will also have river flux as an observation\n",
    "\n",
    "# Future Condition:\n",
    "### We want to simulate a future drought condition in which recharge decreases by 25% and pumping increases by 25%\n",
    "\n",
    "# Forecasts: \n",
    "### Our forecasts include head, river flux, and travel time of a particle estimated using MODPATH"
   ]
  },
  {
   "cell_type": "code",
   "execution_count": null,
   "metadata": {
    "collapsed": true
   },
   "outputs": [],
   "source": []
  }
 ],
 "metadata": {
  "kernelspec": {
   "display_name": "Python 3",
   "language": "python",
   "name": "python3"
  },
  "language_info": {
   "codemirror_mode": {
    "name": "ipython",
    "version": 3
   },
   "file_extension": ".py",
   "mimetype": "text/x-python",
   "name": "python",
   "nbconvert_exporter": "python",
   "pygments_lexer": "ipython3",
   "version": "3.5.2"
  }
 },
 "nbformat": 4,
 "nbformat_minor": 1
}
