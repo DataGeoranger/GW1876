{
 "cells": [
  {
   "cell_type": "markdown",
   "metadata": {
    "slideshow": {
     "slide_type": "slide"
    }
   },
   "source": [
    "> ## \"The goal of parameter identification is rarely the parameter estimates. Rather, the ultimate goal is nearly always a prediction problem\" \n",
    ">-David Freyberg (1988)"
   ]
  },
  {
   "cell_type": "code",
   "execution_count": null,
   "metadata": {
    "slideshow": {
     "slide_type": "slide"
    }
   },
   "outputs": [],
   "source": [
    "%matplotlib inline\n",
    "from __future__ import print_function\n",
    "import os\n",
    "import sys\n",
    "sys.path.append(\"..\")\n",
    "import numpy as np\n",
    "import pandas as pd\n",
    "from matplotlib.patches import Rectangle as rect\n",
    "import matplotlib.pyplot as plt\n",
    "import warnings\n",
    "import flopy\n",
    "\n",
    "warnings.filterwarnings(\"ignore\", \n",
    "    message=\"ModflowDis.sr is deprecated. use Modflow.sr\")\n",
    "from mpl_toolkits.axes_grid1 import make_axes_locatable\n",
    "import matplotlib as mpl\n",
    "newparams = {'legend.fontsize':10, 'axes.labelsize':10,\n",
    "             'xtick.labelsize':10, 'ytick.labelsize':10,\n",
    "             'font.family':'Univers 57 Condensed', \n",
    "             'pdf.fonttype':42}\n",
    "plt.rcParams.update(newparams)\n",
    "from IPython.display import Image"
   ]
  },
  {
   "cell_type": "markdown",
   "metadata": {
    "slideshow": {
     "slide_type": "slide"
    }
   },
   "source": [
    "# Introduction to the synthetic model for the class\n",
    "\n",
    "### We have recreated a MODFLOW model that was originally created by David Freyberg at Stanford University in the late 1980s. The  model is a 2-dimensional MODFLOW model with 1 layer,  40 rows, and 20 columns.  The model has 2 stress periods: an initial steady-state stress period used for calibration, and a 10-year transient stress period.  The calibration period uses the recharge and well flux of Freyberg(1988); the forecast stress period uses 25% less recharge and 25% more pumping to represent future drought conditions for a forecast period."
   ]
  },
  {
   "cell_type": "markdown",
   "metadata": {
    "slideshow": {
     "slide_type": "subslide"
    }
   },
   "source": [
    "### The inverse problem has 12 head observations, measured at the end of the steady-state calibration period.  The forecasts of interest include the headwater flux during the forecast stress periods (observations named and ``fa_headwaters_0001``), and the water level in well cell 6 located at row 28 column 5 at the end of the stress periods (observations named ```c001fr05c04``` and ```c001fr16c17```) and `travel_time` from MODPATH.  The forecasts are included in the Jacobian matrix as zero-weight observations. \n",
    "\n",
    "### Freyberg, David L. \"AN EXERCISE IN GROUND‐WATER MODEL CALIBRATION AND PREDICTION.\" Groundwater 26.3 (1988): 350-360."
   ]
  },
  {
   "cell_type": "code",
   "execution_count": null,
   "metadata": {
    "slideshow": {
     "slide_type": "subslide"
    }
   },
   "outputs": [],
   "source": [
    "Image(filename='images/freyberg_paper.png')"
   ]
  },
  {
   "cell_type": "code",
   "execution_count": null,
   "metadata": {
    "slideshow": {
     "slide_type": "slide"
    }
   },
   "outputs": [],
   "source": [
    "import freyberg_setup as fs\n",
    "fs.setup_pest_gr()\n",
    "working_dir = fs.WORKING_DIR_GR\n",
    "pst_name = fs.PST_NAME_GR\n"
   ]
  },
  {
   "cell_type": "code",
   "execution_count": null,
   "metadata": {
    "slideshow": {
     "slide_type": "subslide"
    }
   },
   "outputs": [],
   "source": [
    "fs.plot_model(working_dir, pst_name)"
   ]
  },
  {
   "cell_type": "markdown",
   "metadata": {
    "collapsed": true,
    "slideshow": {
     "slide_type": "slide"
    }
   },
   "source": [
    "# True Properties of the model"
   ]
  },
  {
   "cell_type": "code",
   "execution_count": null,
   "metadata": {
    "slideshow": {
     "slide_type": "subslide"
    }
   },
   "outputs": [],
   "source": [
    "hk = np.loadtxt(os.path.join('extra_crispy','ref','hk.truth.ref'))\n",
    "ibound = np.loadtxt(os.path.join('extra_crispy','ref','ibound.ref'))\n",
    "hk[ibound==0] = np.nan"
   ]
  },
  {
   "cell_type": "code",
   "execution_count": null,
   "metadata": {
    "slideshow": {
     "slide_type": "subslide"
    }
   },
   "outputs": [],
   "source": [
    "fig = plt.figure(figsize=(6.5,6.5)); ax1 = plt.subplot(121,aspect=\"equal\")\n",
    "im1 = plt.imshow(hk, interpolation='nearest', cmap='viridis')\n",
    "divider1 = make_axes_locatable(ax1); cax1 = divider1.append_axes(\"right\", size=\"20%\", pad=0.05)\n",
    "cbar1 = plt.colorbar(im1, cax=cax1,  format=\"%.2f\")\n",
    "ax2 = plt.subplot(122,aspect=\"equal\"); im2 = plt.imshow(ibound, interpolation='nearest', cmap='viridis')\n",
    "divider2 = make_axes_locatable(ax2); cax2 = divider2.append_axes(\"right\", size=\"20%\", pad=0.05)\n",
    "cbar2 = plt.colorbar(im2, cax=cax2,  format=\"%.2f\")\n",
    "ax1.set_title('hydraulic conductivity'); ax2.set_title('ibound'); plt.tight_layout()"
   ]
  },
  {
   "cell_type": "markdown",
   "metadata": {
    "slideshow": {
     "slide_type": "subslide"
    }
   },
   "source": [
    "# The hydraulic conductivity is a stochastically perturbed realization based on a zoned field from the paper\n",
    "<img src=\"true_K.png\" style=\"float: center; width: 25%;  margin-bottom: 0.5em;\">\n"
   ]
  },
  {
   "cell_type": "markdown",
   "metadata": {
    "collapsed": true,
    "slideshow": {
     "slide_type": "slide"
    }
   },
   "source": [
    "# How about recharge?"
   ]
  },
  {
   "cell_type": "code",
   "execution_count": null,
   "metadata": {
    "slideshow": {
     "slide_type": "subslide"
    }
   },
   "outputs": [],
   "source": [
    "for line in open(os.path.join('extra_crispy','freyberg.truth.rch'),'r'):\n",
    "    print(line.strip())"
   ]
  },
  {
   "cell_type": "markdown",
   "metadata": {
    "slideshow": {
     "slide_type": "slide"
    }
   },
   "source": [
    "# What did the paper describe and what are we doing?"
   ]
  },
  {
   "cell_type": "markdown",
   "metadata": {
    "slideshow": {
     "slide_type": "subslide"
    }
   },
   "source": [
    "## David Freyberg designed a simple model to give to a graduate class and asked them to each \"calibrate\" the model. The data provided to them was pretty extensive: "
   ]
  },
  {
   "cell_type": "markdown",
   "metadata": {
    "slideshow": {
     "slide_type": "subslide"
    }
   },
   "source": [
    "### 1. the water level (perfectly represented) in a number of wells\n",
    "### 2. the bedrock elevation at those same well locations\n",
    "### 3. all the lateral aquifer geometry\n",
    "### 4. boundary conditions including lateral flows \n",
    "### 5. well pumping rates "
   ]
  },
  {
   "cell_type": "markdown",
   "metadata": {
    "slideshow": {
     "slide_type": "subslide"
    }
   },
   "source": [
    "## The forecast of interest was the head if the river channel was lined (e.g. conductance reduced greatly)\n",
    "\n",
    "## Calibration was judged based on three metrics\n",
    "## 1. Fit of prediction: $RMSE_P=\\sqrt{\\frac{1}{6}\\sum_{i=1}^{6}\\left(\\hat{h}_{mod}^{i}-h_{mod}^{i}\\right)^{2}}$"
   ]
  },
  {
   "cell_type": "markdown",
   "metadata": {
    "slideshow": {
     "slide_type": "subslide"
    }
   },
   "source": [
    "## 2. Fit of calibration: $RMSE_K=\\sqrt{\\frac{1}{705}\\sum_{i=1}^{705}\\left(\\hat{K}_i-K_i\\right)^{2}}$"
   ]
  },
  {
   "cell_type": "markdown",
   "metadata": {
    "slideshow": {
     "slide_type": "subslide"
    }
   },
   "source": [
    "## 3. The number of model runs: $N$\n",
    "\n",
    "## The students had to make their own metrics of calibration fit using the head observations"
   ]
  },
  {
   "cell_type": "markdown",
   "metadata": {
    "slideshow": {
     "slide_type": "slide"
    }
   },
   "source": [
    "# There are interesting insights in the paper, but perhaps the most interesting is this one:"
   ]
  },
  {
   "cell_type": "markdown",
   "metadata": {
    "slideshow": {
     "slide_type": "subslide"
    }
   },
   "source": [
    "<img src=\"cal_pred.png\" style=\"float: center; width: 75%;  margin-bottom: 0.5em;\">\n"
   ]
  },
  {
   "cell_type": "markdown",
   "metadata": {
    "slideshow": {
     "slide_type": "slide"
    }
   },
   "source": [
    "# So what are we doing with this model?"
   ]
  },
  {
   "cell_type": "markdown",
   "metadata": {
    "slideshow": {
     "slide_type": "subslide"
    }
   },
   "source": [
    "## The Freyberg paper showed that representing the true properties of a system can lead to good predictions. However, doing a great job of reproducing calibration data _at the expense of reasonable parameters_ hinders rather than helps predictions/forecasts. This is a central theme!"
   ]
  },
  {
   "cell_type": "markdown",
   "metadata": {
    "slideshow": {
     "slide_type": "subslide"
    }
   },
   "source": [
    "## So we will explore this model, using it to work our way through simple parameterizations and getting more sophisticated as we go. We will explore the ramifications of simplicity and complexity always consider the balance between \"calibration\" fit and predictive performance."
   ]
  },
  {
   "cell_type": "markdown",
   "metadata": {
    "slideshow": {
     "slide_type": "subslide"
    }
   },
   "source": [
    "## We also changed the stream to SFR to be more realistic and let some nonlinearity creep into the model.\n",
    "\n",
    "## For this kind of class we need a synthetic and kind of simple model so it can run quickly and so we can compare our answers with the truth."
   ]
  },
  {
   "cell_type": "markdown",
   "metadata": {
    "collapsed": true,
    "slideshow": {
     "slide_type": "subslide"
    }
   },
   "source": [
    "# Calibration Data: \n",
    "### We will have the same head values, but they will be corrupted with noise. We will also have river flux as an observation"
   ]
  },
  {
   "cell_type": "markdown",
   "metadata": {
    "collapsed": true,
    "slideshow": {
     "slide_type": "subslide"
    }
   },
   "source": [
    "# Future Condition:\n",
    "### We want to simulate a future drought condition in which recharge decreases by 25% and pumping increases by 25%"
   ]
  },
  {
   "cell_type": "markdown",
   "metadata": {
    "collapsed": true,
    "slideshow": {
     "slide_type": "subslide"
    }
   },
   "source": [
    "# Forecasts: \n",
    "### Our forecasts include head, headwater river flux, and travel time of a particle estimated using MODPATH"
   ]
  }
 ],
 "metadata": {
  "celltoolbar": "Slideshow",
  "kernelspec": {
   "display_name": "Python 3",
   "language": "python",
   "name": "python3"
  },
  "language_info": {
   "codemirror_mode": {
    "name": "ipython",
    "version": 3
   },
   "file_extension": ".py",
   "mimetype": "text/x-python",
   "name": "python",
   "nbconvert_exporter": "python",
   "pygments_lexer": "ipython3",
   "version": "3.6.4"
  }
 },
 "nbformat": 4,
 "nbformat_minor": 1
}
