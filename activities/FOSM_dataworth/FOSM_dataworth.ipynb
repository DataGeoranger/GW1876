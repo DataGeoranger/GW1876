{
 "cells": [
  {
   "cell_type": "markdown",
   "metadata": {},
   "source": [
    "# Starting out with the error propagation formula of FOSM"
   ]
  },
  {
   "cell_type": "markdown",
   "metadata": {},
   "source": [
    "## <center> $\\underbrace{\\overline{\\boldsymbol{\\Sigma}}_{\\boldsymbol{\\theta}}}_{\\substack{\\text{what we} \\\\ \\text{know now}}} = \\underbrace{\\boldsymbol{\\Sigma}_{\\boldsymbol{\\theta}}}_{\\substack{\\text{what we} \\\\ \\text{knew}}} - \\underbrace{\\boldsymbol{\\Sigma}_{\\boldsymbol{\\theta}}\\bf{J}^T\\left[\\bf{J}\\boldsymbol{\\Sigma}_{\\boldsymbol{\\theta}}\\bf{J}^T + \\boldsymbol{\\Sigma}_{\\boldsymbol{\\epsilon}}\\right]^{-1}\\bf{J}\\boldsymbol{\\Sigma}_{\\boldsymbol{\\theta}}}_{\\text{what we learned}}$ </center>\n",
    "\n",
    "## <center> $\\underbrace{\\overline{\\boldsymbol{\\Sigma}}_{\\boldsymbol{\\theta}}}_{\\substack{\\text{posterior} \\\\ \\text{covariance}}} = \\underbrace{\\boldsymbol{\\Sigma}_{\\boldsymbol{\\theta}}}_{\\substack{\\text{prior} \\\\ \\text{covariance}}} - \\underbrace{\\boldsymbol{\\Sigma}_{\\boldsymbol{\\theta}}\\bf{J}^T\\left[\\bf{J}\\boldsymbol{\\Sigma}_{\\boldsymbol{\\theta}}\\bf{J}^T + \\boldsymbol{\\Sigma}_{\\boldsymbol{\\epsilon}}\\right]^{-1}\\bf{J}\\boldsymbol{\\Sigma}_{\\boldsymbol{\\theta}}}_{\\text{update}}$ </center>"
   ]
  },
  {
   "cell_type": "markdown",
   "metadata": {
    "collapsed": true
   },
   "source": [
    "# We are often interested in the worth of new data to _reduce_ the uncertainty of a forecast (we'll call a forecast $s$). How can we calculate that?\n",
    "\n",
    "# First we need one more element - the vector of sensitivity of the forecast to all the parameters\n",
    "\n",
    "## $\\mathbf{y}$ -- this is the sensitivity of the forecast to the parameters $\\mathbf{y}=\\left( \\frac{\\partial{s}}{\\partial{\\mathbf{\\theta}}}\\right)$"
   ]
  },
  {
   "cell_type": "markdown",
   "metadata": {},
   "source": [
    "# Now we can define the posterior variance of the forecast \n",
    "\n",
    "## $\\sigma_{s}^{2} = \\mathbf{y}^T{\\overline{\\boldsymbol{\\Sigma}}_{\\boldsymbol{\\theta}}}\\mathbf{y}$\n",
    "\n",
    "## $ = \\mathbf{y}^T\\boldsymbol{\\Sigma}_{\\boldsymbol{\\theta}}\\mathbf{y} - \\mathbf{y}^T\\boldsymbol{\\Sigma}_{\\boldsymbol{\\theta}}\\bf{J}^T\\left[\\bf{J}\\boldsymbol{\\Sigma}_{\\boldsymbol{\\theta}}\\bf{J}^T + \\boldsymbol{\\Sigma}_{\\boldsymbol{\\epsilon}}\\right]^{-1}\\bf{J}\\boldsymbol{\\Sigma}_{\\boldsymbol{\\theta}}\\mathbf{y}$"
   ]
  },
  {
   "cell_type": "markdown",
   "metadata": {},
   "source": [
    "# What can we do with this?\n",
    "\n",
    "### Evaluate what happens to $\\sigma_{s}^{2}$ if we:\n",
    "### 1. **gain information about a parameter** (in other words, set the variance for a parameter to 0 in the prior paramter covariance $\\mathbf{\\Sigma_\\theta}$) --> $\\sigma{s}^2$ should _decrease_ with this new information\n",
    "### 2. **add a new observation** (assign a representative variance to the observation covariance $\\mathbf{\\Sigma_\\epsilon}$) --> $\\sigma{s}^2$ should _decrease_ with this new information\n",
    "### 3. **subtract an observation from an existing network** (assign representative variances to all the existing observations in $\\mathbf{\\Sigma_\\epsilon}$ then systematically evaluate \"dropping\" individual observations by assigning them huge variance) -->$\\sigma{s}^2$ should _rise_  with the loss of this information"
   ]
  },
  {
   "cell_type": "markdown",
   "metadata": {},
   "source": [
    "<img src='flowchart.png', sclae=75%>\n"
   ]
  },
  {
   "cell_type": "code",
   "execution_count": null,
   "metadata": {
    "collapsed": true
   },
   "outputs": [],
   "source": []
  }
 ],
 "metadata": {
  "anaconda-cloud": {},
  "kernelspec": {
   "display_name": "Python 3",
   "language": "python",
   "name": "python3"
  },
  "language_info": {
   "codemirror_mode": {
    "name": "ipython",
    "version": 3
   },
   "file_extension": ".py",
   "mimetype": "text/x-python",
   "name": "python",
   "nbconvert_exporter": "python",
   "pygments_lexer": "ipython3",
   "version": "3.6.1"
  }
 },
 "nbformat": 4,
 "nbformat_minor": 1
}
