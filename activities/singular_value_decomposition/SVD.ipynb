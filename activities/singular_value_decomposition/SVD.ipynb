{
 "cells": [
  {
   "cell_type": "code",
   "execution_count": 5,
   "metadata": {
    "collapsed": false
   },
   "outputs": [
    {
     "name": "stdout",
     "output_type": "stream",
     "text": [
      "setting random seed\n"
     ]
    }
   ],
   "source": [
    "import os, shutil\n",
    "import flopy as fp\n",
    "import numpy as np\n",
    "import pyemu\n",
    "import pandas as pd\n",
    "import matplotlib.pyplot as plt\n",
    "import pestools as pt\n",
    "%matplotlib inline\n",
    "# Quick check for Windows to make sure input files are Windows type\n",
    "import platform\n",
    "if 'window' in platform.platform().lower():\n",
    "    ppp = 'pest++'\n",
    "    newln='\\n'\n",
    "else:\n",
    "    ppp='./pestpp'\n",
    "    newln='\\r\\n'\n",
    "    \n",
    "from mpl_toolkits.axes_grid1 import make_axes_locatable\n",
    "from matplotlib.ticker import MultipleLocator\n",
    "\n",
    "base_dir = os.path.join('..','..','models','Freyberg','Freyberg_pilotpoints')\n",
    "[shutil.copy2(os.path.join(base_dir,cf),cf) for cf in os.listdir(base_dir)];\n",
    "if not os.path.exists('base_pp_dir'):\n",
    "    os.mkdir('base_pp_dir')\n",
    "[shutil.copy2(os.path.join(base_dir,cf),os.path.join('base_pp_dir',cf)) for cf in os.listdir(base_dir)];\n"
   ]
  },
  {
   "cell_type": "code",
   "execution_count": 6,
   "metadata": {
    "collapsed": true
   },
   "outputs": [],
   "source": [
    "inpst = pyemu.Pst('freyberg_pp_reg.pst')"
   ]
  },
  {
   "cell_type": "code",
   "execution_count": 9,
   "metadata": {
    "collapsed": false
   },
   "outputs": [
    {
     "data": {
      "text/plain": [
       "{'forecasts': 'rivflux_fore,travel_time,fr03c16,fr04c9',\n",
       " 'max_n_super': 2,\n",
       " 'n_iter_base': '-1',\n",
       " 'n_iter_super': 100,\n",
       " 'super_eigthres': '1.0e-8'}"
      ]
     },
     "execution_count": 9,
     "metadata": {},
     "output_type": "execute_result"
    }
   ],
   "source": [
    "inpst.pestpp_options['n_iter_super'] = 100\n",
    "inpst.pestpp_options['max_n_super'] = 2\n",
    "\n",
    "inpst.pestpp_options"
   ]
  },
  {
   "cell_type": "code",
   "execution_count": 14,
   "metadata": {
    "collapsed": false
   },
   "outputs": [],
   "source": [
    "inpst.write('freyberg_sing2.pst')"
   ]
  },
  {
   "cell_type": "markdown",
   "metadata": {},
   "source": [
    "# SINGULAR VALUE DECOMPOSITION \n",
    ">## \"Singular Value Decomposition. Love it, learn it.\n",
    ">--Michael Basial"
   ]
  },
  {
   "cell_type": "markdown",
   "metadata": {},
   "source": [
    "## Linear Algebra is the foundation of much of our maths and modeling. At the basis of this is matrices, which are containing vector information like spatial array of properties, mappings from one set of properties to another, the variability of properties."
   ]
  },
  {
   "cell_type": "markdown",
   "metadata": {},
   "source": [
    "## Another example of a matrix is just a photograph. It turns out, much of the information contained in a matrix is redundant. If we think of the columns of a matrix as vectors, they are orthogonal but maybe aren't quite the right basis for the infromation. What if we could find another basis, where we rotate to a more suitable set of orthogonal basis vectors and maybe even stretch them?"
   ]
  },
  {
   "cell_type": "markdown",
   "metadata": {},
   "source": [
    "## Any matrix can be decomposed into 3 matrices\n",
    "## <center> $\\mathbf{M}=\\mathbf{U}\\mathbf{S}\\mathbf{V}^T$ </center>"
   ]
  },
  {
   "cell_type": "code",
   "execution_count": null,
   "metadata": {
    "collapsed": true
   },
   "outputs": [],
   "source": [
    "%matplotlib inline\n",
    "import matplotlib.pyplot as plt\n",
    "import numpy as np\n",
    "import os\n",
    "\n",
    "from PIL import Image"
   ]
  },
  {
   "cell_type": "markdown",
   "metadata": {},
   "source": [
    "# Let's evaluate how this works by exploring the information content in an image"
   ]
  },
  {
   "cell_type": "code",
   "execution_count": null,
   "metadata": {
    "collapsed": false
   },
   "outputs": [],
   "source": [
    "photo = Image.open('el_presidente.jpg')\n",
    "plt.imshow(photo, interpolation='nearest')\n",
    "plt.axis('off');"
   ]
  },
  {
   "cell_type": "markdown",
   "metadata": {},
   "source": [
    "## Convert to grayscale\n",
    "\n",
    "### By converting to grayscale, what we are left with is a matrix of information where each pixel (e.g. a cell in rows/columns of the matrix) has a value between 0 and 255 indicating intensity. This is then just a matrix with information in it."
   ]
  },
  {
   "cell_type": "code",
   "execution_count": null,
   "metadata": {
    "collapsed": false
   },
   "outputs": [],
   "source": [
    "photogray = np.array(photo.convert('L'))\n",
    "plt.imshow(photogray, interpolation='nearest', cmap='gray')\n",
    "plt.axis('off');"
   ]
  },
  {
   "cell_type": "markdown",
   "metadata": {},
   "source": [
    "## We can treat this like any matrix and perform SVD"
   ]
  },
  {
   "cell_type": "code",
   "execution_count": null,
   "metadata": {
    "collapsed": true
   },
   "outputs": [],
   "source": [
    "U, sigma, V = np.linalg.svd(photogray)"
   ]
  },
  {
   "cell_type": "code",
   "execution_count": null,
   "metadata": {
    "collapsed": false
   },
   "outputs": [],
   "source": [
    "plt.plot(sigma)\n",
    "plt.grid('on')\n",
    "plt.title('{0} Singular values in descending order'.format(len(sigma)));"
   ]
  },
  {
   "cell_type": "code",
   "execution_count": null,
   "metadata": {
    "collapsed": false
   },
   "outputs": [],
   "source": [
    "plt.plot(sigma)\n",
    "plt.grid('on')\n",
    "plt.title('{0} Singular values in descending order'.format(len(sigma)));\n",
    "plt.yscale('log');"
   ]
  },
  {
   "cell_type": "markdown",
   "metadata": {},
   "source": [
    "## Let's make a little function for using a subset of singular values to reconstitute the image"
   ]
  },
  {
   "cell_type": "code",
   "execution_count": null,
   "metadata": {
    "collapsed": false
   },
   "outputs": [],
   "source": [
    "def recon_image(U,sigma,V,numsing=1, photo=None, printflag=False):\n",
    "    reconimg = np.dot(np.dot(U[:,:numsing], np.diag(sigma[:numsing])),V[:numsing,:])\n",
    "\n",
    "    if printflag==True:\n",
    "        fig,ax = plt.subplots(ncols=2, figsize=(8,8))\n",
    "        ax[0].imshow(photo, interpolation='nearest', cmap='gray')\n",
    "        ax[0].axis('off')\n",
    "        ax[0].set_title('Original')\n",
    "        ax[1].imshow(reconimg, interpolation='nearest', cmap='gray')\n",
    "        ax[1].axis('off')\n",
    "        ss = 's'\n",
    "        if numsing==1:\n",
    "            ss = ''\n",
    "        ax[1].set_title('Using {0} singular value{1}'.format(numsing,ss))\n",
    "        plt.tight_layout()\n",
    "        plt.savefig(os.path.join('pngs','svd_{0}.png'.format(numsing)), bbox_inches='tight', pad_inches=0.2)\n",
    "        plt.close()\n",
    "    return reconimg\n"
   ]
  },
  {
   "cell_type": "code",
   "execution_count": null,
   "metadata": {
    "collapsed": false
   },
   "outputs": [],
   "source": [
    "rec=recon_image(U,sigma,V,2)\n",
    "plt.imshow(rec,cmap='gray')\n",
    "plt.axis('off');"
   ]
  },
  {
   "cell_type": "markdown",
   "metadata": {},
   "source": [
    "## We can also make images sequentially adding singular values\n",
    "\n",
    "Note - this requires `ffmpeg` to be installed\n",
    "\n",
    "Also note the two flags set to `False` for now to be sure that we only remake them if we want to"
   ]
  },
  {
   "cell_type": "code",
   "execution_count": null,
   "metadata": {
    "collapsed": false,
    "scrolled": true
   },
   "outputs": [],
   "source": [
    "import platform\n",
    "if 'window' in platform.platform().lower():\n",
    "    pref = ''\n",
    "else:\n",
    "    pref = './'\n",
    "make_images=False\n",
    "make_movie=False\n",
    "\n",
    "if make_images:\n",
    "    if not os.path.exists('pngs'):\n",
    "        os.mkdir('pngs')\n",
    "    for i in range(len(sigma)):\n",
    "        print(i)\n",
    "        recon_image(U, sigma, V, i+1,photogray, True)\n",
    "\n",
    "if make_movie:\n",
    "    if os.path.exists('svdmovie.mp4'):\n",
    "        os.remove('svdmovie.mp4')\n",
    "    runstr='{0}ffmpeg -f image2 -r 10  -i pngs/svd_%d.png -vcodec libx264 -pix_fmt yuv420p -vf \"scale=trunc(iw/2)*2:trunc(ih/2)*2\" svdmovie.mp4'.format(pref)\n",
    "    os.system(runstr)"
   ]
  },
  {
   "cell_type": "markdown",
   "metadata": {
    "collapsed": false
   },
   "source": [
    "# Fun times, but what does this have to do with modeling?"
   ]
  },
  {
   "cell_type": "code",
   "execution_count": null,
   "metadata": {
    "collapsed": false
   },
   "outputs": [],
   "source": [
    "import pyemu"
   ]
  },
  {
   "cell_type": "markdown",
   "metadata": {},
   "source": [
    "### Let's load up a Jacobian Matrix"
   ]
  },
  {
   "cell_type": "code",
   "execution_count": null,
   "metadata": {
    "collapsed": false
   },
   "outputs": [],
   "source": [
    "injac = pyemu.Jco.from_binary(os.path.join('..','..','models','Freyberg','Freyberg_pilotpoints','freyberg_pp.jcb'))"
   ]
  },
  {
   "cell_type": "code",
   "execution_count": null,
   "metadata": {
    "collapsed": false,
    "scrolled": true
   },
   "outputs": [],
   "source": [
    "injac.df().head()"
   ]
  },
  {
   "cell_type": "code",
   "execution_count": null,
   "metadata": {
    "collapsed": true
   },
   "outputs": [],
   "source": [
    "inpst = pyemu.Pst(os.path.join('..','..','models','Freyberg','Freyberg_pilotpoints','freyberg_pp.pst'))"
   ]
  },
  {
   "cell_type": "code",
   "execution_count": null,
   "metadata": {
    "collapsed": false
   },
   "outputs": [],
   "source": [
    "Q = inpst.observation_data.weight.as_matrix()"
   ]
  },
  {
   "cell_type": "code",
   "execution_count": null,
   "metadata": {
    "collapsed": false
   },
   "outputs": [],
   "source": [
    "Q = np.diag(Q)\n",
    "Q.shape"
   ]
  },
  {
   "cell_type": "code",
   "execution_count": null,
   "metadata": {
    "collapsed": true
   },
   "outputs": [],
   "source": [
    "X = injac.df().as_matrix()"
   ]
  },
  {
   "cell_type": "code",
   "execution_count": null,
   "metadata": {
    "collapsed": false
   },
   "outputs": [],
   "source": [
    "plt.imshow(np.log(X), interpolation='nearest', cmap='viridis')\n",
    "plt.colorbar()"
   ]
  },
  {
   "cell_type": "markdown",
   "metadata": {},
   "source": [
    "## We can form up the normal equations matrix (including weights) and take a look at it\n",
    "\n",
    "This matrix is $\\mathbf{X}^T\\mathbf{Q}\\mathbf{X}$"
   ]
  },
  {
   "cell_type": "code",
   "execution_count": null,
   "metadata": {
    "collapsed": false
   },
   "outputs": [],
   "source": [
    "XtQX=X.T.dot(Q).dot(X)"
   ]
  },
  {
   "cell_type": "code",
   "execution_count": null,
   "metadata": {
    "collapsed": true
   },
   "outputs": [],
   "source": [
    "U, sigma, V = np.linalg.svd(XtQX)"
   ]
  },
  {
   "cell_type": "code",
   "execution_count": null,
   "metadata": {
    "collapsed": false
   },
   "outputs": [],
   "source": [
    "plt.bar(range(len(sigma)),sigma)\n",
    "plt.grid('on')"
   ]
  },
  {
   "cell_type": "code",
   "execution_count": null,
   "metadata": {
    "collapsed": false
   },
   "outputs": [],
   "source": [
    "plt.bar(range(len(sigma)),sigma)\n",
    "plt.yscale('log')\n",
    "plt.grid('on')"
   ]
  },
  {
   "cell_type": "code",
   "execution_count": null,
   "metadata": {
    "collapsed": false
   },
   "outputs": [],
   "source": [
    "plt.imshow(np.log(XtQX), interpolation='nearest', cmap='viridis')\n",
    "plt.colorbar()"
   ]
  },
  {
   "cell_type": "code",
   "execution_count": null,
   "metadata": {
    "collapsed": false
   },
   "outputs": [],
   "source": [
    "# select which singular vector you want to plot\n",
    "SV=2\n",
    "\n",
    "plt.figure(figsize=(12,4))\n",
    "plt.bar(list(range(U.shape[0])),U[:,SV-1])\n",
    "#plt.yscale('log')\n",
    "plt.xlim([0,72])\n",
    "plt.xticks(list(range(72)))\n",
    "plt.title('Singular vector showing parameter contributions to singular vector #{0}'.format(SV))\n",
    "plt.gca().set_xticklabels(inpst.parameter_data['parnme'], rotation=90);"
   ]
  },
  {
   "cell_type": "code",
   "execution_count": null,
   "metadata": {
    "collapsed": true
   },
   "outputs": [],
   "source": []
  }
 ],
 "metadata": {
  "kernelspec": {
   "display_name": "Python 3",
   "language": "python",
   "name": "python3"
  },
  "language_info": {
   "codemirror_mode": {
    "name": "ipython",
    "version": 3
   },
   "file_extension": ".py",
   "mimetype": "text/x-python",
   "name": "python",
   "nbconvert_exporter": "python",
   "pygments_lexer": "ipython3",
   "version": "3.5.2"
  }
 },
 "nbformat": 4,
 "nbformat_minor": 1
}
