{
 "cells": [
  {
   "cell_type": "code",
   "execution_count": null,
   "metadata": {},
   "outputs": [],
   "source": [
    "%matplotlib inline\n",
    "import os\n",
    "import sys\n",
    "sys.path.append('..')\n",
    "import shutil\n",
    "import numpy as np\n",
    "import pandas as pd\n",
    "import matplotlib.pyplot as plt\n",
    "import pyemu\n",
    "import glob\n",
    "import zipfile\n",
    "# flag to decide if run everything or just visualize results\n",
    "run_all_flag = False"
   ]
  },
  {
   "cell_type": "code",
   "execution_count": null,
   "metadata": {},
   "outputs": [],
   "source": [
    "import freyberg_setup\n",
    "working_dir = freyberg_setup.WORKING_DIR_KR\n",
    "pst_name = freyberg_setup.PST_NAME_KR\n",
    "freyberg_setup.setup_pest_kr()\n",
    "\n",
    "\n",
    "if not run_all_flag:\n",
    "    shutil.copy2('sweep.zip',os.path.join(working_dir,'sweep.zip'))\n",
    "    with zipfile.ZipFile(os.path.join(working_dir,'sweep.zip')) as inzip:\n",
    "        inzip.extractall(working_dir)"
   ]
  },
  {
   "cell_type": "markdown",
   "metadata": {},
   "source": [
    "## First read in the PST file and find what are the starting values for K and R"
   ]
  },
  {
   "cell_type": "code",
   "execution_count": null,
   "metadata": {},
   "outputs": [],
   "source": [
    "inpst = pyemu.Pst(os.path.join(working_dir,pst_name))\n",
    "inpst.parameter_data"
   ]
  },
  {
   "cell_type": "code",
   "execution_count": null,
   "metadata": {},
   "outputs": [],
   "source": [
    "inpst.parameter_data.loc['rch_1','partrans']= 'fixed'\n",
    "inpst.parameter_data.loc['rch_0','partrans']= 'log'\n",
    "inpst.parameter_data.loc['rch_0','parval1']= 8.0E-1\n",
    "inpst.parameter_data.loc['hk', 'parval1'] = 12.0\n",
    "inpst.observation_data.loc[inpst.observation_data.obgnme=='calflux','weight']=0.0\n",
    "inpst.control_data.noptmax=0\n",
    "inpst.write(os.path.join(working_dir,pst_name))"
   ]
  },
  {
   "cell_type": "code",
   "execution_count": null,
   "metadata": {},
   "outputs": [],
   "source": [
    "os.chdir(working_dir)\n",
    "pyemu.helpers.run('pestpp {0}'.format(pst_name))\n",
    "os.chdir('..')"
   ]
  },
  {
   "cell_type": "code",
   "execution_count": null,
   "metadata": {},
   "outputs": [],
   "source": [
    "inpst.phi_components"
   ]
  },
  {
   "cell_type": "markdown",
   "metadata": {},
   "source": [
    "## We can import a function to explore a range of K and R values to make a response surface"
   ]
  },
  {
   "cell_type": "code",
   "execution_count": null,
   "metadata": {},
   "outputs": [],
   "source": [
    "import response_surface as resurf"
   ]
  },
  {
   "cell_type": "markdown",
   "metadata": {},
   "source": [
    "## First we should write out the control file with new bounds to bracket where values will be explored\n",
    "\n",
    "## `rch_0` already spans the bounds we want, but `hk` is too wide"
   ]
  },
  {
   "cell_type": "code",
   "execution_count": null,
   "metadata": {},
   "outputs": [],
   "source": [
    "inpst = pyemu.Pst(os.path.join(working_dir,pst_name))\n",
    "par = inpst.parameter_data\n",
    "inpst.parameter_data.loc['hk', 'parval1'] = 12.0\n",
    "par.loc['hk', 'parlbnd'] = 3\n",
    "par.loc['hk', 'parubnd'] = 12\n",
    "\n",
    "inpst.write(os.path.join(working_dir,pst_name))"
   ]
  },
  {
   "cell_type": "code",
   "execution_count": null,
   "metadata": {},
   "outputs": [],
   "source": [
    "inpst.parameter_data"
   ]
  },
  {
   "cell_type": "markdown",
   "metadata": {},
   "source": [
    "## Run the `run_respsurf` function to calculate the response surface"
   ]
  },
  {
   "cell_type": "code",
   "execution_count": null,
   "metadata": {},
   "outputs": [],
   "source": [
    "if run_all_flag:\n",
    "    resurf.run_respsurf(par_names=['hk','rch_0'], pstfile=pst_name)"
   ]
  },
  {
   "cell_type": "code",
   "execution_count": null,
   "metadata": {},
   "outputs": [],
   "source": [
    "resurf.plot_response_surface(parnames=['hk','rch_0'], pstfile=pst_name);"
   ]
  },
  {
   "cell_type": "code",
   "execution_count": 35,
   "metadata": {},
   "outputs": [],
   "source": [
    "inpst = pyemu.Pst(os.path.join(working_dir,pst_name))\n",
    "inpst.parameter_data.loc['hk', 'parval1'] = 12.0\n",
    "inpst.parameter_data.loc['rch_0', 'parval1'] = 0.8\n",
    "inpst.parameter_data.loc['rch_0', 'partrans'] = 'log'\n",
    "inpst.control_data.noptmax =  -1\n",
    "inpst.write(os.path.join(working_dir,pst_name))"
   ]
  },
  {
   "cell_type": "code",
   "execution_count": 36,
   "metadata": {},
   "outputs": [],
   "source": [
    "os.chdir(working_dir)\n",
    "pyemu.helpers.run('pestpp {0}'.format(pst_name))\n",
    "os.chdir('..')"
   ]
  },
  {
   "cell_type": "markdown",
   "metadata": {},
   "source": [
    "### Now let's run PEST++ and see what we get for an estimate of the parameters\n",
    " * set NOPTMAX=-1\n",
    " * run PEST++"
   ]
  },
  {
   "cell_type": "code",
   "execution_count": 37,
   "metadata": {},
   "outputs": [
    {
     "data": {
      "text/html": [
       "<div>\n",
       "<style scoped>\n",
       "    .dataframe tbody tr th:only-of-type {\n",
       "        vertical-align: middle;\n",
       "    }\n",
       "\n",
       "    .dataframe tbody tr th {\n",
       "        vertical-align: top;\n",
       "    }\n",
       "\n",
       "    .dataframe thead th {\n",
       "        text-align: right;\n",
       "    }\n",
       "</style>\n",
       "<table border=\"1\" class=\"dataframe\">\n",
       "  <thead>\n",
       "    <tr style=\"text-align: right;\">\n",
       "      <th></th>\n",
       "      <th>iteration</th>\n",
       "      <th>hk</th>\n",
       "      <th>porosity</th>\n",
       "      <th>rch_0</th>\n",
       "      <th>rch_1</th>\n",
       "    </tr>\n",
       "  </thead>\n",
       "  <tbody>\n",
       "    <tr>\n",
       "      <th>0</th>\n",
       "      <td>0</td>\n",
       "      <td>12</td>\n",
       "      <td>0.01</td>\n",
       "      <td>0.8</td>\n",
       "      <td>1</td>\n",
       "    </tr>\n",
       "  </tbody>\n",
       "</table>\n",
       "</div>"
      ],
      "text/plain": [
       "   iteration  hk  porosity  rch_0  rch_1\n",
       "0          0  12      0.01    0.8      1"
      ]
     },
     "execution_count": 37,
     "metadata": {},
     "output_type": "execute_result"
    }
   ],
   "source": [
    "pars = pd.read_csv(os.path.join(working_dir,pst_name.replace('.pst','.ipar')))\n",
    "pars"
   ]
  },
  {
   "cell_type": "code",
   "execution_count": 38,
   "metadata": {},
   "outputs": [
    {
     "data": {
      "text/html": [
       "<div>\n",
       "<style scoped>\n",
       "    .dataframe tbody tr th:only-of-type {\n",
       "        vertical-align: middle;\n",
       "    }\n",
       "\n",
       "    .dataframe tbody tr th {\n",
       "        vertical-align: top;\n",
       "    }\n",
       "\n",
       "    .dataframe thead th {\n",
       "        text-align: right;\n",
       "    }\n",
       "</style>\n",
       "<table border=\"1\" class=\"dataframe\">\n",
       "  <thead>\n",
       "    <tr style=\"text-align: right;\">\n",
       "      <th></th>\n",
       "      <th>hk</th>\n",
       "      <th>porosity</th>\n",
       "      <th>rch_0</th>\n",
       "    </tr>\n",
       "  </thead>\n",
       "  <tbody>\n",
       "    <tr>\n",
       "      <th>hk</th>\n",
       "      <td>11375.245243</td>\n",
       "      <td>0.0</td>\n",
       "      <td>-16666.204833</td>\n",
       "    </tr>\n",
       "    <tr>\n",
       "      <th>porosity</th>\n",
       "      <td>0.000000</td>\n",
       "      <td>0.0</td>\n",
       "      <td>0.000000</td>\n",
       "    </tr>\n",
       "    <tr>\n",
       "      <th>rch_0</th>\n",
       "      <td>-16666.204833</td>\n",
       "      <td>0.0</td>\n",
       "      <td>25082.518274</td>\n",
       "    </tr>\n",
       "  </tbody>\n",
       "</table>\n",
       "</div>"
      ],
      "text/plain": [
       "                    hk  porosity         rch_0\n",
       "hk        11375.245243       0.0 -16666.204833\n",
       "porosity      0.000000       0.0      0.000000\n",
       "rch_0    -16666.204833       0.0  25082.518274"
      ]
     },
     "execution_count": 38,
     "metadata": {},
     "output_type": "execute_result"
    }
   ],
   "source": [
    "sc = pyemu.Schur(os.path.join(working_dir,pst_name.replace('.pst','.jcb')))\n",
    "covar = pyemu.Cov(sc.xtqx.x, names=sc.xtqx.row_names)\n",
    "covar.df()"
   ]
  },
  {
   "cell_type": "code",
   "execution_count": 39,
   "metadata": {},
   "outputs": [
    {
     "name": "stderr",
     "output_type": "stream",
     "text": [
      "/Users/mnfienen/Documents/GIT/pyemu/pyemu/mat/mat_handler.py:2678: RuntimeWarning: invalid value encountered in double_scalars\n",
      "  pearson[i,j+i+1] = df.loc[iname,jname] / (std_dict[iname] * std_dict[jname])\n"
     ]
    },
    {
     "data": {
      "text/html": [
       "<div>\n",
       "<style scoped>\n",
       "    .dataframe tbody tr th:only-of-type {\n",
       "        vertical-align: middle;\n",
       "    }\n",
       "\n",
       "    .dataframe tbody tr th {\n",
       "        vertical-align: top;\n",
       "    }\n",
       "\n",
       "    .dataframe thead th {\n",
       "        text-align: right;\n",
       "    }\n",
       "</style>\n",
       "<table border=\"1\" class=\"dataframe\">\n",
       "  <thead>\n",
       "    <tr style=\"text-align: right;\">\n",
       "      <th></th>\n",
       "      <th>hk</th>\n",
       "      <th>porosity</th>\n",
       "      <th>rch_0</th>\n",
       "    </tr>\n",
       "  </thead>\n",
       "  <tbody>\n",
       "    <tr>\n",
       "      <th>hk</th>\n",
       "      <td>1.000000</td>\n",
       "      <td>NaN</td>\n",
       "      <td>-0.986667</td>\n",
       "    </tr>\n",
       "    <tr>\n",
       "      <th>porosity</th>\n",
       "      <td>NaN</td>\n",
       "      <td>1.0</td>\n",
       "      <td>NaN</td>\n",
       "    </tr>\n",
       "    <tr>\n",
       "      <th>rch_0</th>\n",
       "      <td>-0.986667</td>\n",
       "      <td>NaN</td>\n",
       "      <td>1.000000</td>\n",
       "    </tr>\n",
       "  </tbody>\n",
       "</table>\n",
       "</div>"
      ],
      "text/plain": [
       "                hk  porosity     rch_0\n",
       "hk        1.000000       NaN -0.986667\n",
       "porosity       NaN       1.0       NaN\n",
       "rch_0    -0.986667       NaN  1.000000"
      ]
     },
     "execution_count": 39,
     "metadata": {},
     "output_type": "execute_result"
    }
   ],
   "source": [
    "R = covar.to_pearson()\n",
    "R.df()"
   ]
  },
  {
   "cell_type": "markdown",
   "metadata": {},
   "source": [
    "# What if we also have a calibration flux observation?\n",
    "\n",
    "We can set this up by simply assigning non-zero weight to the observation in the group called `calflux`\n",
    "\n",
    "We'll read in the PST file, change just that one value and write out a new PST file."
   ]
  },
  {
   "cell_type": "code",
   "execution_count": 40,
   "metadata": {},
   "outputs": [],
   "source": [
    "inpst = pyemu.Pst(os.path.join(working_dir,pst_name))"
   ]
  },
  {
   "cell_type": "code",
   "execution_count": 41,
   "metadata": {},
   "outputs": [
    {
     "data": {
      "text/html": [
       "<div>\n",
       "<style scoped>\n",
       "    .dataframe tbody tr th:only-of-type {\n",
       "        vertical-align: middle;\n",
       "    }\n",
       "\n",
       "    .dataframe tbody tr th {\n",
       "        vertical-align: top;\n",
       "    }\n",
       "\n",
       "    .dataframe thead th {\n",
       "        text-align: right;\n",
       "    }\n",
       "</style>\n",
       "<table border=\"1\" class=\"dataframe\">\n",
       "  <thead>\n",
       "    <tr style=\"text-align: right;\">\n",
       "      <th></th>\n",
       "      <th>parnme</th>\n",
       "      <th>partrans</th>\n",
       "      <th>parchglim</th>\n",
       "      <th>parval1</th>\n",
       "      <th>parlbnd</th>\n",
       "      <th>parubnd</th>\n",
       "      <th>pargp</th>\n",
       "      <th>scale</th>\n",
       "      <th>offset</th>\n",
       "      <th>dercom</th>\n",
       "      <th>extra</th>\n",
       "    </tr>\n",
       "    <tr>\n",
       "      <th>parnme</th>\n",
       "      <th></th>\n",
       "      <th></th>\n",
       "      <th></th>\n",
       "      <th></th>\n",
       "      <th></th>\n",
       "      <th></th>\n",
       "      <th></th>\n",
       "      <th></th>\n",
       "      <th></th>\n",
       "      <th></th>\n",
       "      <th></th>\n",
       "    </tr>\n",
       "  </thead>\n",
       "  <tbody>\n",
       "    <tr>\n",
       "      <th>hk</th>\n",
       "      <td>hk</td>\n",
       "      <td>log</td>\n",
       "      <td>factor</td>\n",
       "      <td>12.00</td>\n",
       "      <td>3.000</td>\n",
       "      <td>12.00</td>\n",
       "      <td>hk</td>\n",
       "      <td>1.0</td>\n",
       "      <td>0.0</td>\n",
       "      <td>1</td>\n",
       "      <td>NaN</td>\n",
       "    </tr>\n",
       "    <tr>\n",
       "      <th>porosity</th>\n",
       "      <td>porosity</td>\n",
       "      <td>log</td>\n",
       "      <td>factor</td>\n",
       "      <td>0.01</td>\n",
       "      <td>0.005</td>\n",
       "      <td>0.02</td>\n",
       "      <td>porosity</td>\n",
       "      <td>1.0</td>\n",
       "      <td>0.0</td>\n",
       "      <td>1</td>\n",
       "      <td>NaN</td>\n",
       "    </tr>\n",
       "    <tr>\n",
       "      <th>rch_0</th>\n",
       "      <td>rch_0</td>\n",
       "      <td>log</td>\n",
       "      <td>factor</td>\n",
       "      <td>0.80</td>\n",
       "      <td>0.500</td>\n",
       "      <td>2.00</td>\n",
       "      <td>rch</td>\n",
       "      <td>1.0</td>\n",
       "      <td>0.0</td>\n",
       "      <td>1</td>\n",
       "      <td>NaN</td>\n",
       "    </tr>\n",
       "    <tr>\n",
       "      <th>rch_1</th>\n",
       "      <td>rch_1</td>\n",
       "      <td>fixed</td>\n",
       "      <td>factor</td>\n",
       "      <td>1.00</td>\n",
       "      <td>0.250</td>\n",
       "      <td>3.00</td>\n",
       "      <td>rch</td>\n",
       "      <td>1.0</td>\n",
       "      <td>0.0</td>\n",
       "      <td>1</td>\n",
       "      <td>NaN</td>\n",
       "    </tr>\n",
       "  </tbody>\n",
       "</table>\n",
       "</div>"
      ],
      "text/plain": [
       "            parnme partrans parchglim  parval1  parlbnd  parubnd     pargp  \\\n",
       "parnme                                                                       \n",
       "hk              hk      log    factor    12.00    3.000    12.00        hk   \n",
       "porosity  porosity      log    factor     0.01    0.005     0.02  porosity   \n",
       "rch_0        rch_0      log    factor     0.80    0.500     2.00       rch   \n",
       "rch_1        rch_1    fixed    factor     1.00    0.250     3.00       rch   \n",
       "\n",
       "          scale  offset  dercom  extra  \n",
       "parnme                                  \n",
       "hk          1.0     0.0       1    NaN  \n",
       "porosity    1.0     0.0       1    NaN  \n",
       "rch_0       1.0     0.0       1    NaN  \n",
       "rch_1       1.0     0.0       1    NaN  "
      ]
     },
     "execution_count": 41,
     "metadata": {},
     "output_type": "execute_result"
    }
   ],
   "source": [
    "inpst.parameter_data"
   ]
  },
  {
   "cell_type": "code",
   "execution_count": 42,
   "metadata": {},
   "outputs": [],
   "source": [
    "inpst.parameter_data.loc['rch_1','partrans']= 'fixed'\n",
    "###\n",
    "# Let's fix porosity to avoid getting NaN in our correlation matrices\n",
    "\n",
    "inpst.parameter_data.loc['porosity','partrans']= 'fixed'\n",
    "\n",
    "inpst.parameter_data.loc['hk','parval1']= 12.0\n",
    "\n",
    "inpst.observation_data.loc[inpst.observation_data.obgnme=='calflux','weight']=10\n",
    "inpst.control_data.noptmax=0\n",
    "inpst.write(os.path.join(working_dir,pst_name.replace('.pst','.r1.pst')))"
   ]
  },
  {
   "cell_type": "code",
   "execution_count": 43,
   "metadata": {},
   "outputs": [
    {
     "data": {
      "text/html": [
       "<div>\n",
       "<style scoped>\n",
       "    .dataframe tbody tr th:only-of-type {\n",
       "        vertical-align: middle;\n",
       "    }\n",
       "\n",
       "    .dataframe tbody tr th {\n",
       "        vertical-align: top;\n",
       "    }\n",
       "\n",
       "    .dataframe thead th {\n",
       "        text-align: right;\n",
       "    }\n",
       "</style>\n",
       "<table border=\"1\" class=\"dataframe\">\n",
       "  <thead>\n",
       "    <tr style=\"text-align: right;\">\n",
       "      <th></th>\n",
       "      <th>parnme</th>\n",
       "      <th>partrans</th>\n",
       "      <th>parchglim</th>\n",
       "      <th>parval1</th>\n",
       "      <th>parlbnd</th>\n",
       "      <th>parubnd</th>\n",
       "      <th>pargp</th>\n",
       "      <th>scale</th>\n",
       "      <th>offset</th>\n",
       "      <th>dercom</th>\n",
       "      <th>extra</th>\n",
       "    </tr>\n",
       "    <tr>\n",
       "      <th>parnme</th>\n",
       "      <th></th>\n",
       "      <th></th>\n",
       "      <th></th>\n",
       "      <th></th>\n",
       "      <th></th>\n",
       "      <th></th>\n",
       "      <th></th>\n",
       "      <th></th>\n",
       "      <th></th>\n",
       "      <th></th>\n",
       "      <th></th>\n",
       "    </tr>\n",
       "  </thead>\n",
       "  <tbody>\n",
       "    <tr>\n",
       "      <th>hk</th>\n",
       "      <td>hk</td>\n",
       "      <td>log</td>\n",
       "      <td>factor</td>\n",
       "      <td>12.00</td>\n",
       "      <td>3.000</td>\n",
       "      <td>12.00</td>\n",
       "      <td>hk</td>\n",
       "      <td>1.0</td>\n",
       "      <td>0.0</td>\n",
       "      <td>1</td>\n",
       "      <td>NaN</td>\n",
       "    </tr>\n",
       "    <tr>\n",
       "      <th>porosity</th>\n",
       "      <td>porosity</td>\n",
       "      <td>fixed</td>\n",
       "      <td>factor</td>\n",
       "      <td>0.01</td>\n",
       "      <td>0.005</td>\n",
       "      <td>0.02</td>\n",
       "      <td>porosity</td>\n",
       "      <td>1.0</td>\n",
       "      <td>0.0</td>\n",
       "      <td>1</td>\n",
       "      <td>NaN</td>\n",
       "    </tr>\n",
       "    <tr>\n",
       "      <th>rch_0</th>\n",
       "      <td>rch_0</td>\n",
       "      <td>log</td>\n",
       "      <td>factor</td>\n",
       "      <td>0.80</td>\n",
       "      <td>0.500</td>\n",
       "      <td>2.00</td>\n",
       "      <td>rch</td>\n",
       "      <td>1.0</td>\n",
       "      <td>0.0</td>\n",
       "      <td>1</td>\n",
       "      <td>NaN</td>\n",
       "    </tr>\n",
       "    <tr>\n",
       "      <th>rch_1</th>\n",
       "      <td>rch_1</td>\n",
       "      <td>fixed</td>\n",
       "      <td>factor</td>\n",
       "      <td>1.00</td>\n",
       "      <td>0.250</td>\n",
       "      <td>3.00</td>\n",
       "      <td>rch</td>\n",
       "      <td>1.0</td>\n",
       "      <td>0.0</td>\n",
       "      <td>1</td>\n",
       "      <td>NaN</td>\n",
       "    </tr>\n",
       "  </tbody>\n",
       "</table>\n",
       "</div>"
      ],
      "text/plain": [
       "            parnme partrans parchglim  parval1  parlbnd  parubnd     pargp  \\\n",
       "parnme                                                                       \n",
       "hk              hk      log    factor    12.00    3.000    12.00        hk   \n",
       "porosity  porosity    fixed    factor     0.01    0.005     0.02  porosity   \n",
       "rch_0        rch_0      log    factor     0.80    0.500     2.00       rch   \n",
       "rch_1        rch_1    fixed    factor     1.00    0.250     3.00       rch   \n",
       "\n",
       "          scale  offset  dercom  extra  \n",
       "parnme                                  \n",
       "hk          1.0     0.0       1    NaN  \n",
       "porosity    1.0     0.0       1    NaN  \n",
       "rch_0       1.0     0.0       1    NaN  \n",
       "rch_1       1.0     0.0       1    NaN  "
      ]
     },
     "execution_count": 43,
     "metadata": {},
     "output_type": "execute_result"
    }
   ],
   "source": [
    "inpst.parameter_data"
   ]
  },
  {
   "cell_type": "code",
   "execution_count": 44,
   "metadata": {},
   "outputs": [],
   "source": [
    "os.chdir(working_dir)\n",
    "pyemu.helpers.run('pestpp {0}'.format(pst_name.replace('.pst','.r1.pst')))\n",
    "os.chdir('..')"
   ]
  },
  {
   "cell_type": "code",
   "execution_count": 45,
   "metadata": {},
   "outputs": [
    {
     "data": {
      "text/plain": [
       "{'calflux': 338670409.0,\n",
       " 'calhead': 2672.0960051590382,\n",
       " 'flaqx': 0.0,\n",
       " 'flout': 0.0,\n",
       " 'flx_constan': 0.0,\n",
       " 'flx_in-out': 0.0,\n",
       " 'flx_percent': 0.0,\n",
       " 'flx_recharg': 0.0,\n",
       " 'flx_storage': 0.0,\n",
       " 'flx_stream_': 0.0,\n",
       " 'flx_total': 0.0,\n",
       " 'flx_wells': 0.0,\n",
       " 'forecast': 0.0,\n",
       " 'pothead': 0.0,\n",
       " 'vol_constan': 0.0,\n",
       " 'vol_in-out': 0.0,\n",
       " 'vol_percent': 0.0,\n",
       " 'vol_recharg': 0.0,\n",
       " 'vol_storage': 0.0,\n",
       " 'vol_stream_': 0.0,\n",
       " 'vol_total': 0.0,\n",
       " 'vol_wells': 0.0}"
      ]
     },
     "execution_count": 45,
     "metadata": {},
     "output_type": "execute_result"
    }
   ],
   "source": [
    "inpst.phi_components"
   ]
  },
  {
   "cell_type": "code",
   "execution_count": 46,
   "metadata": {},
   "outputs": [],
   "source": [
    "if run_all_flag:\n",
    "    resurf.run_respsurf(par_names=['hk','rch_0'], pstfile=pst_name.replace('.pst','.r1.pst'))"
   ]
  },
  {
   "cell_type": "code",
   "execution_count": 47,
   "metadata": {
    "scrolled": false
   },
   "outputs": [
    {
     "data": {
      "image/png": "[encoded data removed]",
      "text/plain": [
       "<Figure size 360x360 with 2 Axes>"
      ]
     },
     "metadata": {},
     "output_type": "display_data"
    }
   ],
   "source": [
    "resurf.plot_response_surface(parnames=['hk','rch_0'], pstfile=pst_name.replace('.pst','.r1.pst'));"
   ]
  },
  {
   "cell_type": "code",
   "execution_count": 48,
   "metadata": {},
   "outputs": [],
   "source": [
    "inpst = pyemu.Pst(os.path.join(working_dir,pst_name.replace('.pst','.r1.pst')))\n",
    "inpst.parameter_data.loc['hk', 'parval1'] = 12\n",
    "inpst.parameter_data.loc['rch_0', 'parval1'] = 0.8\n",
    "\n",
    "inpst.control_data.noptmax =  -1\n",
    "inpst.write(os.path.join(working_dir,pst_name.replace('.pst','.r1.pst')))"
   ]
  },
  {
   "cell_type": "code",
   "execution_count": 49,
   "metadata": {},
   "outputs": [],
   "source": [
    "os.chdir(working_dir)\n",
    "pyemu.helpers.run('pestpp {0}'.format(pst_name.replace('.pst','.r1.pst')))\n",
    "os.chdir('..')"
   ]
  },
  {
   "cell_type": "markdown",
   "metadata": {},
   "source": [
    "### We can look at the correlation again"
   ]
  },
  {
   "cell_type": "code",
   "execution_count": 50,
   "metadata": {},
   "outputs": [
    {
     "data": {
      "text/html": [
       "<div>\n",
       "<style scoped>\n",
       "    .dataframe tbody tr th:only-of-type {\n",
       "        vertical-align: middle;\n",
       "    }\n",
       "\n",
       "    .dataframe tbody tr th {\n",
       "        vertical-align: top;\n",
       "    }\n",
       "\n",
       "    .dataframe thead th {\n",
       "        text-align: right;\n",
       "    }\n",
       "</style>\n",
       "<table border=\"1\" class=\"dataframe\">\n",
       "  <thead>\n",
       "    <tr style=\"text-align: right;\">\n",
       "      <th></th>\n",
       "      <th>iteration</th>\n",
       "      <th>hk</th>\n",
       "      <th>porosity</th>\n",
       "      <th>rch_0</th>\n",
       "      <th>rch_1</th>\n",
       "    </tr>\n",
       "  </thead>\n",
       "  <tbody>\n",
       "    <tr>\n",
       "      <th>0</th>\n",
       "      <td>0</td>\n",
       "      <td>12</td>\n",
       "      <td>0.01</td>\n",
       "      <td>0.8</td>\n",
       "      <td>1</td>\n",
       "    </tr>\n",
       "  </tbody>\n",
       "</table>\n",
       "</div>"
      ],
      "text/plain": [
       "   iteration  hk  porosity  rch_0  rch_1\n",
       "0          0  12      0.01    0.8      1"
      ]
     },
     "execution_count": 50,
     "metadata": {},
     "output_type": "execute_result"
    }
   ],
   "source": [
    "pars = pd.read_csv(os.path.join(working_dir,pst_name.replace('.pst','.r1.ipar')))\n",
    "pars"
   ]
  },
  {
   "cell_type": "code",
   "execution_count": 51,
   "metadata": {},
   "outputs": [
    {
     "data": {
      "text/html": [
       "<div>\n",
       "<style scoped>\n",
       "    .dataframe tbody tr th:only-of-type {\n",
       "        vertical-align: middle;\n",
       "    }\n",
       "\n",
       "    .dataframe tbody tr th {\n",
       "        vertical-align: top;\n",
       "    }\n",
       "\n",
       "    .dataframe thead th {\n",
       "        text-align: right;\n",
       "    }\n",
       "</style>\n",
       "<table border=\"1\" class=\"dataframe\">\n",
       "  <thead>\n",
       "    <tr style=\"text-align: right;\">\n",
       "      <th></th>\n",
       "      <th>hk</th>\n",
       "      <th>rch_0</th>\n",
       "    </tr>\n",
       "  </thead>\n",
       "  <tbody>\n",
       "    <tr>\n",
       "      <th>hk</th>\n",
       "      <td>4.938826e+08</td>\n",
       "      <td>-2.154777e+09</td>\n",
       "    </tr>\n",
       "    <tr>\n",
       "      <th>rch_0</th>\n",
       "      <td>-2.154777e+09</td>\n",
       "      <td>9.401249e+09</td>\n",
       "    </tr>\n",
       "  </tbody>\n",
       "</table>\n",
       "</div>"
      ],
      "text/plain": [
       "                 hk         rch_0\n",
       "hk     4.938826e+08 -2.154777e+09\n",
       "rch_0 -2.154777e+09  9.401249e+09"
      ]
     },
     "execution_count": 51,
     "metadata": {},
     "output_type": "execute_result"
    }
   ],
   "source": [
    "sc = pyemu.Schur(os.path.join(working_dir,pst_name.replace('.pst','.r1.jcb')))\n",
    "covar = pyemu.Cov(sc.xtqx.x, names=sc.xtqx.row_names)\n",
    "covar.df()"
   ]
  },
  {
   "cell_type": "code",
   "execution_count": 52,
   "metadata": {},
   "outputs": [
    {
     "data": {
      "text/html": [
       "<div>\n",
       "<style scoped>\n",
       "    .dataframe tbody tr th:only-of-type {\n",
       "        vertical-align: middle;\n",
       "    }\n",
       "\n",
       "    .dataframe tbody tr th {\n",
       "        vertical-align: top;\n",
       "    }\n",
       "\n",
       "    .dataframe thead th {\n",
       "        text-align: right;\n",
       "    }\n",
       "</style>\n",
       "<table border=\"1\" class=\"dataframe\">\n",
       "  <thead>\n",
       "    <tr style=\"text-align: right;\">\n",
       "      <th></th>\n",
       "      <th>hk</th>\n",
       "      <th>rch_0</th>\n",
       "    </tr>\n",
       "  </thead>\n",
       "  <tbody>\n",
       "    <tr>\n",
       "      <th>hk</th>\n",
       "      <td>1.000000</td>\n",
       "      <td>-0.999995</td>\n",
       "    </tr>\n",
       "    <tr>\n",
       "      <th>rch_0</th>\n",
       "      <td>-0.999995</td>\n",
       "      <td>1.000000</td>\n",
       "    </tr>\n",
       "  </tbody>\n",
       "</table>\n",
       "</div>"
      ],
      "text/plain": [
       "             hk     rch_0\n",
       "hk     1.000000 -0.999995\n",
       "rch_0 -0.999995  1.000000"
      ]
     },
     "execution_count": 52,
     "metadata": {},
     "output_type": "execute_result"
    }
   ],
   "source": [
    "R = covar.to_pearson()\n",
    "R.df()"
   ]
  },
  {
   "cell_type": "code",
   "execution_count": 53,
   "metadata": {},
   "outputs": [
    {
     "data": {
      "text/html": [
       "<div>\n",
       "<style scoped>\n",
       "    .dataframe tbody tr th:only-of-type {\n",
       "        vertical-align: middle;\n",
       "    }\n",
       "\n",
       "    .dataframe tbody tr th {\n",
       "        vertical-align: top;\n",
       "    }\n",
       "\n",
       "    .dataframe thead th {\n",
       "        text-align: right;\n",
       "    }\n",
       "</style>\n",
       "<table border=\"1\" class=\"dataframe\">\n",
       "  <thead>\n",
       "    <tr style=\"text-align: right;\">\n",
       "      <th></th>\n",
       "      <th>hk</th>\n",
       "      <th>rch_0</th>\n",
       "    </tr>\n",
       "  </thead>\n",
       "  <tbody>\n",
       "    <tr>\n",
       "      <th>c001cr03c10_19700102</th>\n",
       "      <td>-8.341144</td>\n",
       "      <td>13.071336</td>\n",
       "    </tr>\n",
       "    <tr>\n",
       "      <th>c001cr03c16_19700102</th>\n",
       "      <td>-5.892725</td>\n",
       "      <td>10.399249</td>\n",
       "    </tr>\n",
       "    <tr>\n",
       "      <th>c001cr04c09_19700102</th>\n",
       "      <td>-8.742295</td>\n",
       "      <td>13.391775</td>\n",
       "    </tr>\n",
       "    <tr>\n",
       "      <th>c001cr10c02_19700102</th>\n",
       "      <td>-12.489867</td>\n",
       "      <td>15.747396</td>\n",
       "    </tr>\n",
       "    <tr>\n",
       "      <th>c001cr14c11_19700102</th>\n",
       "      <td>-3.105206</td>\n",
       "      <td>7.146753</td>\n",
       "    </tr>\n",
       "    <tr>\n",
       "      <th>c001cr16c17_19700102</th>\n",
       "      <td>-0.999819</td>\n",
       "      <td>2.827452</td>\n",
       "    </tr>\n",
       "    <tr>\n",
       "      <th>c001cr22c11_19700102</th>\n",
       "      <td>-2.688760</td>\n",
       "      <td>5.163211</td>\n",
       "    </tr>\n",
       "    <tr>\n",
       "      <th>c001cr23c16_19700102</th>\n",
       "      <td>-0.205382</td>\n",
       "      <td>1.409753</td>\n",
       "    </tr>\n",
       "    <tr>\n",
       "      <th>c001cr25c05_19700102</th>\n",
       "      <td>-7.487278</td>\n",
       "      <td>9.974204</td>\n",
       "    </tr>\n",
       "    <tr>\n",
       "      <th>c001cr27c07_19700102</th>\n",
       "      <td>-5.500750</td>\n",
       "      <td>8.084234</td>\n",
       "    </tr>\n",
       "    <tr>\n",
       "      <th>c001cr30c16_19700102</th>\n",
       "      <td>-0.141583</td>\n",
       "      <td>1.245562</td>\n",
       "    </tr>\n",
       "    <tr>\n",
       "      <th>c001cr34c08_19700102</th>\n",
       "      <td>-3.456978</td>\n",
       "      <td>5.438188</td>\n",
       "    </tr>\n",
       "    <tr>\n",
       "      <th>c001cr35c11_19700102</th>\n",
       "      <td>-1.443794</td>\n",
       "      <td>3.646203</td>\n",
       "    </tr>\n",
       "    <tr>\n",
       "      <th>fo_seg_40_0000</th>\n",
       "      <td>-2222.321296</td>\n",
       "      <td>9695.990698</td>\n",
       "    </tr>\n",
       "  </tbody>\n",
       "</table>\n",
       "</div>"
      ],
      "text/plain": [
       "                               hk        rch_0\n",
       "c001cr03c10_19700102    -8.341144    13.071336\n",
       "c001cr03c16_19700102    -5.892725    10.399249\n",
       "c001cr04c09_19700102    -8.742295    13.391775\n",
       "c001cr10c02_19700102   -12.489867    15.747396\n",
       "c001cr14c11_19700102    -3.105206     7.146753\n",
       "c001cr16c17_19700102    -0.999819     2.827452\n",
       "c001cr22c11_19700102    -2.688760     5.163211\n",
       "c001cr23c16_19700102    -0.205382     1.409753\n",
       "c001cr25c05_19700102    -7.487278     9.974204\n",
       "c001cr27c07_19700102    -5.500750     8.084234\n",
       "c001cr30c16_19700102    -0.141583     1.245562\n",
       "c001cr34c08_19700102    -3.456978     5.438188\n",
       "c001cr35c11_19700102    -1.443794     3.646203\n",
       "fo_seg_40_0000       -2222.321296  9695.990698"
      ]
     },
     "execution_count": 53,
     "metadata": {},
     "output_type": "execute_result"
    }
   ],
   "source": [
    "sc.jco.to_dataframe().loc[inpst.nnz_obs_names]"
   ]
  },
  {
   "cell_type": "markdown",
   "metadata": {
    "collapsed": true
   },
   "source": [
    "## OK - that was bonkers. Maybe a little less weight?"
   ]
  },
  {
   "cell_type": "code",
   "execution_count": null,
   "metadata": {},
   "outputs": [],
   "source": [
    "inpst.parameter_data.loc['rch_1','partrans']= 'fixed'\n",
    "\n",
    "inpst.observation_data.loc[inpst.observation_data.obgnme=='calflux','weight']=0.001\n",
    "inpst.control_data.noptmax=0\n",
    "inpst.write(os.path.join(working_dir,pst_name.replace('.pst','.r2.pst')))"
   ]
  },
  {
   "cell_type": "code",
   "execution_count": null,
   "metadata": {},
   "outputs": [],
   "source": [
    "inpst.parameter_data\n"
   ]
  },
  {
   "cell_type": "code",
   "execution_count": null,
   "metadata": {},
   "outputs": [],
   "source": [
    "os.chdir(working_dir)\n",
    "pyemu.helpers.run('pestpp {0}'.format(pst_name.replace('.pst','.r2.pst')))\n",
    "os.chdir('..')"
   ]
  },
  {
   "cell_type": "code",
   "execution_count": null,
   "metadata": {},
   "outputs": [],
   "source": [
    "inpst.phi_components"
   ]
  },
  {
   "cell_type": "code",
   "execution_count": null,
   "metadata": {},
   "outputs": [],
   "source": [
    "if run_all_flag:\n",
    "    resurf.run_respsurf(par_names=['hk','rch_0'], pstfile=pst_name.replace('.pst','.r2.pst'))"
   ]
  },
  {
   "cell_type": "code",
   "execution_count": null,
   "metadata": {},
   "outputs": [],
   "source": [
    "resurf.plot_response_surface(parnames=['hk','rch_0'], pstfile=pst_name.replace('.pst','.r2.pst'));"
   ]
  },
  {
   "cell_type": "code",
   "execution_count": null,
   "metadata": {},
   "outputs": [],
   "source": [
    "inpst = pyemu.Pst(os.path.join(working_dir,pst_name.replace('.pst','.r2.pst')))\n",
    "inpst.parameter_data.loc['hk', 'parval1'] = 12\n",
    "inpst.parameter_data.loc['rch_0', 'parval1'] = 0.8\n",
    "\n",
    "inpst.control_data.noptmax =  -1\n",
    "inpst.write(os.path.join(working_dir,pst_name.replace('.pst','.r2.pst')))"
   ]
  },
  {
   "cell_type": "code",
   "execution_count": null,
   "metadata": {},
   "outputs": [],
   "source": [
    "os.chdir(working_dir)\n",
    "pyemu.helpers.run('pestpp {0}'.format(pst_name.replace('.pst','.r2.pst')))\n",
    "os.chdir('..')"
   ]
  },
  {
   "cell_type": "markdown",
   "metadata": {},
   "source": [
    "## Let's check out correlation again"
   ]
  },
  {
   "cell_type": "code",
   "execution_count": null,
   "metadata": {},
   "outputs": [],
   "source": [
    "pars = pd.read_csv(os.path.join(working_dir,pst_name.replace('.pst','.r2.ipar')))\n",
    "pars"
   ]
  },
  {
   "cell_type": "code",
   "execution_count": null,
   "metadata": {},
   "outputs": [],
   "source": [
    "sc = pyemu.Schur(os.path.join(working_dir,pst_name.replace('.pst','.r2.jcb')))\n",
    "covar = pyemu.Cov(sc.xtqx.x, names=sc.xtqx.row_names)\n",
    "covar.df()"
   ]
  },
  {
   "cell_type": "code",
   "execution_count": null,
   "metadata": {},
   "outputs": [],
   "source": [
    "R = covar.to_pearson()\n",
    "R.df()"
   ]
  },
  {
   "cell_type": "markdown",
   "metadata": {
    "collapsed": true
   },
   "source": [
    "## Can we find a happy medium? Perhaps if we balance the components of the objective function"
   ]
  },
  {
   "cell_type": "code",
   "execution_count": null,
   "metadata": {},
   "outputs": [],
   "source": [
    "inpst.parameter_data.loc['rch_1','partrans']= 'fixed'\n",
    "inpst.observation_data.loc[inpst.observation_data.obgnme=='calflux','weight']=0.025\n",
    "inpst.control_data.noptmax=0\n",
    "inpst.write(os.path.join(working_dir,pst_name.replace('.pst','.r3.pst')))"
   ]
  },
  {
   "cell_type": "code",
   "execution_count": null,
   "metadata": {},
   "outputs": [],
   "source": [
    "os.chdir(working_dir)\n",
    "pyemu.helpers.run('pestpp {0}'.format(pst_name.replace('.pst','.r3.pst')))\n",
    "os.chdir('..')"
   ]
  },
  {
   "cell_type": "code",
   "execution_count": null,
   "metadata": {},
   "outputs": [],
   "source": [
    "inpst.phi_components"
   ]
  },
  {
   "cell_type": "code",
   "execution_count": null,
   "metadata": {},
   "outputs": [],
   "source": [
    "if run_all_flag:\n",
    "    resurf.run_respsurf(par_names=['hk','rch_0'], pstfile=pst_name.replace('.pst','.r3.pst'))"
   ]
  },
  {
   "cell_type": "code",
   "execution_count": null,
   "metadata": {},
   "outputs": [],
   "source": [
    "resurf.plot_response_surface(parnames=['hk','rch_0'], pstfile=pst_name.replace('.pst','.r3.pst'));"
   ]
  },
  {
   "cell_type": "code",
   "execution_count": null,
   "metadata": {},
   "outputs": [],
   "source": [
    "inpst = pyemu.Pst(os.path.join(working_dir,pst_name.replace('.pst','.r3.pst')))\n",
    "inpst.parameter_data.loc['hk', 'parval1'] = 7\n",
    "inpst.parameter_data.loc['rch_0', 'parval1'] = 1.0\n",
    "inpst.parameter_data.loc['rch_0', 'parlbnd'] = 0.6\n",
    "\n",
    "\n",
    "inpst.control_data.noptmax =  -1\n",
    "inpst.write(os.path.join(working_dir,pst_name.replace('.pst','.r3.pst')))"
   ]
  },
  {
   "cell_type": "code",
   "execution_count": null,
   "metadata": {},
   "outputs": [],
   "source": [
    "os.chdir(working_dir)\n",
    "pyemu.helpers.run('pestpp {0}'.format(pst_name.replace('.pst','.r3.pst')))\n",
    "os.chdir('..')"
   ]
  },
  {
   "cell_type": "code",
   "execution_count": null,
   "metadata": {},
   "outputs": [],
   "source": [
    "pars = pd.read_csv(os.path.join(working_dir,pst_name.replace('.pst','.r3.ipar')))\n",
    "pars"
   ]
  },
  {
   "cell_type": "code",
   "execution_count": null,
   "metadata": {},
   "outputs": [],
   "source": [
    "sc = pyemu.Schur(os.path.join(working_dir,pst_name.replace('.pst','.r3.jcb')))\n",
    "covar = pyemu.Cov(sc.xtqx.x, names=sc.xtqx.row_names)\n",
    "covar.df()"
   ]
  },
  {
   "cell_type": "code",
   "execution_count": null,
   "metadata": {},
   "outputs": [],
   "source": [
    "R = covar.to_pearson()\n",
    "R.df()"
   ]
  }
 ],
 "metadata": {
  "anaconda-cloud": {},
  "kernelspec": {
   "display_name": "Python 3",
   "language": "python",
   "name": "python3"
  },
  "language_info": {
   "codemirror_mode": {
    "name": "ipython",
    "version": 3
   },
   "file_extension": ".py",
   "mimetype": "text/x-python",
   "name": "python",
   "nbconvert_exporter": "python",
   "pygments_lexer": "ipython3",
   "version": "3.6.4"
  }
 },
 "nbformat": 4,
 "nbformat_minor": 1
}
