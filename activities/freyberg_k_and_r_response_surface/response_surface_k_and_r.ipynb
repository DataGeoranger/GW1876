{
 "cells": [
  {
   "cell_type": "code",
   "execution_count": 1,
   "metadata": {},
   "outputs": [],
   "source": [
    "%matplotlib inline\n",
    "import os\n",
    "import sys\n",
    "sys.path.append('..')\n",
    "import shutil\n",
    "import numpy as np\n",
    "import pandas as pd\n",
    "import matplotlib.pyplot as plt\n",
    "import pyemu\n",
    "import glob\n",
    "import zipfile\n",
    "# flag to decide if run everything or just visualize results\n",
    "run_all_flag = True"
   ]
  },
  {
   "cell_type": "code",
   "execution_count": 2,
   "metadata": {},
   "outputs": [
    {
     "name": "stdout",
     "output_type": "stream",
     "text": [
      "\n",
      "changing model workspace...\n",
      "   freyberg_kr\n",
      "FloPy is using the following  executable to run the model: /Users/mnfienen/Documents/GIT/GW1876/activities/freyberg_k_and_r_response_surface/freyberg_kr/mfnwt\n",
      "\n",
      "                                  MODFLOW-NWT-SWR1 \n",
      "    U.S. GEOLOGICAL SURVEY MODULAR FINITE-DIFFERENCE GROUNDWATER-FLOW MODEL\n",
      "                             WITH NEWTON FORMULATION\n",
      "                             Version 1.1.4 4/01/2018                         \n",
      "                    BASED ON MODFLOW-2005 Version 1.12.0 02/03/2017                       \n",
      "\n",
      "                    SWR1 Version 1.04.0 09/15/2016                       \n",
      "\n",
      " Using NAME file: freyberg.nam \n",
      " Run start date and time (yyyy/mm/dd hh:mm:ss): 2018/10/10 20:36:36\n",
      "\n",
      " Solving:  Stress period:     1    Time step:     1    Groundwater-Flow Eqn.\n",
      " Solving:  Stress period:     2    Time step:     1    Groundwater-Flow Eqn.\n",
      " Solving:  Stress period:     3    Time step:     1    Groundwater-Flow Eqn.\n",
      " Run end date and time (yyyy/mm/dd hh:mm:ss): 2018/10/10 20:36:36\n",
      " Elapsed run time:  0.037 Seconds\n",
      "\n",
      "  Normal termination of simulation\n",
      "Util2d:delr: resetting 'how' to external\n",
      "Util2d:delc: resetting 'how' to external\n",
      "Util2d:model_top: resetting 'how' to external\n",
      "Util2d:botm_layer_0: resetting 'how' to external\n",
      "Util2d:ibound_layer_0: resetting 'how' to external\n",
      "Util2d:strt_layer_0: resetting 'how' to external\n",
      "Util2d:hk layer 1: resetting 'how' to external\n",
      "Util2d:vka: resetting 'how' to external\n",
      "Util2d:ss: resetting 'how' to external\n",
      "Util2d:sy: resetting 'how' to external\n",
      "Util2d:rech_1: resetting 'how' to external\n",
      "Util2d:rech_2: resetting 'how' to external\n",
      "Util2d:rech_3: resetting 'how' to external\n",
      "FloPy is using the following  executable to run the model: /Users/mnfienen/Documents/GIT/GW1876/activities/freyberg_k_and_r_response_surface/freyberg_kr/mfnwt\n",
      "\n",
      "                                  MODFLOW-NWT-SWR1 \n",
      "    U.S. GEOLOGICAL SURVEY MODULAR FINITE-DIFFERENCE GROUNDWATER-FLOW MODEL\n",
      "                             WITH NEWTON FORMULATION\n",
      "                             Version 1.1.4 4/01/2018                         \n",
      "                    BASED ON MODFLOW-2005 Version 1.12.0 02/03/2017                       \n",
      "\n",
      "                    SWR1 Version 1.04.0 09/15/2016                       \n",
      "\n",
      " Using NAME file: freyberg.nam \n",
      " Run start date and time (yyyy/mm/dd hh:mm:ss): 2018/10/10 20:36:37\n",
      "\n",
      " Solving:  Stress period:     1    Time step:     1    Groundwater-Flow Eqn.\n",
      " Solving:  Stress period:     2    Time step:     1    Groundwater-Flow Eqn.\n",
      " Solving:  Stress period:     3    Time step:     1    Groundwater-Flow Eqn.\n",
      " Run end date and time (yyyy/mm/dd hh:mm:ss): 2018/10/10 20:36:37\n",
      " Elapsed run time:  0.032 Seconds\n",
      "\n",
      "  Normal termination of simulation\n"
     ]
    },
    {
     "name": "stderr",
     "output_type": "stream",
     "text": [
      "/Users/mnfienen/Documents/GIT/pyemu/pyemu/utils/gw_utils.py:1607: PyemuWarning: Flow out (flout) of grouped segments will be aggregated... \n",
      "  warnings.warn(\"Flow out (flout) of grouped segments will be aggregated... \", PyemuWarning)\n"
     ]
    },
    {
     "name": "stdout",
     "output_type": "stream",
     "text": [
      "writing 'sfr_obs.config' to sfr_obs.config\n",
      "                                    obsnme     obsval  weight    obgnme\n",
      "c001fr05c04_19791231  c001fr05c04_19791231  29.135645     0.0  forehead\n",
      "c001fr16c17_19791231  c001fr16c17_19791231  21.775225     0.0  forehead\n",
      "noptmax: 0\n",
      "noptmax: 8\n"
     ]
    }
   ],
   "source": [
    "import freyberg_setup\n",
    "working_dir = freyberg_setup.WORKING_DIR_KR\n",
    "pst_name = freyberg_setup.PST_NAME_KR\n",
    "freyberg_setup.setup_pest_kr()\n",
    "\n",
    "\n",
    "if not run_all_flag:\n",
    "    shutil.copy2('sweep.zip',os.path.join(working_dir,'sweep.zip'))\n",
    "    with zipfile.ZipFile(os.path.join(working_dir,'sweep.zip')) as inzip:\n",
    "        inzip.extractall(working_dir)"
   ]
  },
  {
   "cell_type": "markdown",
   "metadata": {},
   "source": [
    "## First read in the PST file and find what are the starting values for K and R"
   ]
  },
  {
   "cell_type": "code",
   "execution_count": 3,
   "metadata": {},
   "outputs": [
    {
     "data": {
      "text/html": [
       "<div>\n",
       "<style scoped>\n",
       "    .dataframe tbody tr th:only-of-type {\n",
       "        vertical-align: middle;\n",
       "    }\n",
       "\n",
       "    .dataframe tbody tr th {\n",
       "        vertical-align: top;\n",
       "    }\n",
       "\n",
       "    .dataframe thead th {\n",
       "        text-align: right;\n",
       "    }\n",
       "</style>\n",
       "<table border=\"1\" class=\"dataframe\">\n",
       "  <thead>\n",
       "    <tr style=\"text-align: right;\">\n",
       "      <th></th>\n",
       "      <th>parnme</th>\n",
       "      <th>partrans</th>\n",
       "      <th>parchglim</th>\n",
       "      <th>parval1</th>\n",
       "      <th>parlbnd</th>\n",
       "      <th>parubnd</th>\n",
       "      <th>pargp</th>\n",
       "      <th>scale</th>\n",
       "      <th>offset</th>\n",
       "      <th>dercom</th>\n",
       "      <th>extra</th>\n",
       "    </tr>\n",
       "    <tr>\n",
       "      <th>parnme</th>\n",
       "      <th></th>\n",
       "      <th></th>\n",
       "      <th></th>\n",
       "      <th></th>\n",
       "      <th></th>\n",
       "      <th></th>\n",
       "      <th></th>\n",
       "      <th></th>\n",
       "      <th></th>\n",
       "      <th></th>\n",
       "      <th></th>\n",
       "    </tr>\n",
       "  </thead>\n",
       "  <tbody>\n",
       "    <tr>\n",
       "      <th>hk</th>\n",
       "      <td>hk</td>\n",
       "      <td>log</td>\n",
       "      <td>factor</td>\n",
       "      <td>5.00</td>\n",
       "      <td>0.500</td>\n",
       "      <td>50.00</td>\n",
       "      <td>hk</td>\n",
       "      <td>1.0</td>\n",
       "      <td>0.0</td>\n",
       "      <td>1</td>\n",
       "      <td>NaN</td>\n",
       "    </tr>\n",
       "    <tr>\n",
       "      <th>porosity</th>\n",
       "      <td>porosity</td>\n",
       "      <td>log</td>\n",
       "      <td>factor</td>\n",
       "      <td>0.01</td>\n",
       "      <td>0.005</td>\n",
       "      <td>0.02</td>\n",
       "      <td>porosity</td>\n",
       "      <td>1.0</td>\n",
       "      <td>0.0</td>\n",
       "      <td>1</td>\n",
       "      <td>NaN</td>\n",
       "    </tr>\n",
       "    <tr>\n",
       "      <th>rch_0</th>\n",
       "      <td>rch_0</td>\n",
       "      <td>fixed</td>\n",
       "      <td>factor</td>\n",
       "      <td>1.00</td>\n",
       "      <td>0.500</td>\n",
       "      <td>2.00</td>\n",
       "      <td>rch</td>\n",
       "      <td>1.0</td>\n",
       "      <td>0.0</td>\n",
       "      <td>1</td>\n",
       "      <td>NaN</td>\n",
       "    </tr>\n",
       "    <tr>\n",
       "      <th>rch_1</th>\n",
       "      <td>rch_1</td>\n",
       "      <td>fixed</td>\n",
       "      <td>factor</td>\n",
       "      <td>1.00</td>\n",
       "      <td>0.250</td>\n",
       "      <td>3.00</td>\n",
       "      <td>rch</td>\n",
       "      <td>1.0</td>\n",
       "      <td>0.0</td>\n",
       "      <td>1</td>\n",
       "      <td>NaN</td>\n",
       "    </tr>\n",
       "  </tbody>\n",
       "</table>\n",
       "</div>"
      ],
      "text/plain": [
       "            parnme partrans parchglim  parval1  parlbnd  parubnd     pargp  \\\n",
       "parnme                                                                       \n",
       "hk              hk      log    factor     5.00    0.500    50.00        hk   \n",
       "porosity  porosity      log    factor     0.01    0.005     0.02  porosity   \n",
       "rch_0        rch_0    fixed    factor     1.00    0.500     2.00       rch   \n",
       "rch_1        rch_1    fixed    factor     1.00    0.250     3.00       rch   \n",
       "\n",
       "          scale  offset  dercom  extra  \n",
       "parnme                                  \n",
       "hk          1.0     0.0       1    NaN  \n",
       "porosity    1.0     0.0       1    NaN  \n",
       "rch_0       1.0     0.0       1    NaN  \n",
       "rch_1       1.0     0.0       1    NaN  "
      ]
     },
     "execution_count": 3,
     "metadata": {},
     "output_type": "execute_result"
    }
   ],
   "source": [
    "inpst = pyemu.Pst(os.path.join(working_dir,pst_name))\n",
    "inpst.parameter_data"
   ]
  },
  {
   "cell_type": "code",
   "execution_count": 4,
   "metadata": {},
   "outputs": [
    {
     "name": "stdout",
     "output_type": "stream",
     "text": [
      "noptmax: 0\n"
     ]
    }
   ],
   "source": [
    "inpst.parameter_data.loc['rch_1','partrans']= 'fixed'\n",
    "inpst.parameter_data.loc['rch_0','partrans']= 'log'\n",
    "inpst.parameter_data.loc['rch_0','parval1']= 8.0E-1\n",
    "inpst.parameter_data.loc['hk', 'parval1'] = 12.0\n",
    "inpst.observation_data.loc[inpst.observation_data.obgnme=='calflux','weight']=0.0\n",
    "inpst.control_data.noptmax=0\n",
    "inpst.write(os.path.join(working_dir,pst_name))"
   ]
  },
  {
   "cell_type": "code",
   "execution_count": 5,
   "metadata": {},
   "outputs": [],
   "source": [
    "os.chdir(working_dir)\n",
    "pyemu.os_utils.run('pestpp {0}'.format(pst_name))\n",
    "os.chdir('..')"
   ]
  },
  {
   "cell_type": "code",
   "execution_count": 6,
   "metadata": {},
   "outputs": [
    {
     "data": {
      "text/plain": [
       "{'calflux': 0.0,\n",
       " 'calhead': 2137.6569795865717,\n",
       " 'flaqx': 0.0,\n",
       " 'flout': 0.0,\n",
       " 'flx_constan': 0.0,\n",
       " 'flx_in-out': 0.0,\n",
       " 'flx_percent': 0.0,\n",
       " 'flx_recharg': 0.0,\n",
       " 'flx_storage': 0.0,\n",
       " 'flx_stream_': 0.0,\n",
       " 'flx_total': 0.0,\n",
       " 'flx_wells': 0.0,\n",
       " 'forecast': 0.0,\n",
       " 'pothead': 0.0,\n",
       " 'vol_constan': 0.0,\n",
       " 'vol_in-out': 0.0,\n",
       " 'vol_percent': 0.0,\n",
       " 'vol_recharg': 0.0,\n",
       " 'vol_storage': 0.0,\n",
       " 'vol_stream_': 0.0,\n",
       " 'vol_total': 0.0,\n",
       " 'vol_wells': 0.0}"
      ]
     },
     "execution_count": 6,
     "metadata": {},
     "output_type": "execute_result"
    }
   ],
   "source": [
    "inpst.phi_components"
   ]
  },
  {
   "cell_type": "markdown",
   "metadata": {},
   "source": [
    "## We can import a function to explore a range of K and R values to make a response surface"
   ]
  },
  {
   "cell_type": "code",
   "execution_count": 7,
   "metadata": {},
   "outputs": [],
   "source": [
    "import response_surface as resurf"
   ]
  },
  {
   "cell_type": "markdown",
   "metadata": {},
   "source": [
    "## First we should write out the control file with new bounds to bracket where values will be explored\n",
    "\n",
    "## `rch_0` already spans the bounds we want, but `hk` is too wide"
   ]
  },
  {
   "cell_type": "code",
   "execution_count": 8,
   "metadata": {},
   "outputs": [
    {
     "name": "stdout",
     "output_type": "stream",
     "text": [
      "noptmax: 0\n"
     ]
    }
   ],
   "source": [
    "inpst = pyemu.Pst(os.path.join(working_dir,pst_name))\n",
    "par = inpst.parameter_data\n",
    "inpst.parameter_data.loc['hk', 'parval1'] = 12.0\n",
    "par.loc['hk', 'parlbnd'] = 3\n",
    "par.loc['hk', 'parubnd'] = 12\n",
    "\n",
    "inpst.write(os.path.join(working_dir,pst_name))"
   ]
  },
  {
   "cell_type": "code",
   "execution_count": 9,
   "metadata": {},
   "outputs": [
    {
     "data": {
      "text/html": [
       "<div>\n",
       "<style scoped>\n",
       "    .dataframe tbody tr th:only-of-type {\n",
       "        vertical-align: middle;\n",
       "    }\n",
       "\n",
       "    .dataframe tbody tr th {\n",
       "        vertical-align: top;\n",
       "    }\n",
       "\n",
       "    .dataframe thead th {\n",
       "        text-align: right;\n",
       "    }\n",
       "</style>\n",
       "<table border=\"1\" class=\"dataframe\">\n",
       "  <thead>\n",
       "    <tr style=\"text-align: right;\">\n",
       "      <th></th>\n",
       "      <th>parnme</th>\n",
       "      <th>partrans</th>\n",
       "      <th>parchglim</th>\n",
       "      <th>parval1</th>\n",
       "      <th>parlbnd</th>\n",
       "      <th>parubnd</th>\n",
       "      <th>pargp</th>\n",
       "      <th>scale</th>\n",
       "      <th>offset</th>\n",
       "      <th>dercom</th>\n",
       "      <th>extra</th>\n",
       "    </tr>\n",
       "    <tr>\n",
       "      <th>parnme</th>\n",
       "      <th></th>\n",
       "      <th></th>\n",
       "      <th></th>\n",
       "      <th></th>\n",
       "      <th></th>\n",
       "      <th></th>\n",
       "      <th></th>\n",
       "      <th></th>\n",
       "      <th></th>\n",
       "      <th></th>\n",
       "      <th></th>\n",
       "    </tr>\n",
       "  </thead>\n",
       "  <tbody>\n",
       "    <tr>\n",
       "      <th>hk</th>\n",
       "      <td>hk</td>\n",
       "      <td>log</td>\n",
       "      <td>factor</td>\n",
       "      <td>12.00</td>\n",
       "      <td>3.000</td>\n",
       "      <td>12.00</td>\n",
       "      <td>hk</td>\n",
       "      <td>1.0</td>\n",
       "      <td>0.0</td>\n",
       "      <td>1</td>\n",
       "      <td>NaN</td>\n",
       "    </tr>\n",
       "    <tr>\n",
       "      <th>porosity</th>\n",
       "      <td>porosity</td>\n",
       "      <td>log</td>\n",
       "      <td>factor</td>\n",
       "      <td>0.01</td>\n",
       "      <td>0.005</td>\n",
       "      <td>0.02</td>\n",
       "      <td>porosity</td>\n",
       "      <td>1.0</td>\n",
       "      <td>0.0</td>\n",
       "      <td>1</td>\n",
       "      <td>NaN</td>\n",
       "    </tr>\n",
       "    <tr>\n",
       "      <th>rch_0</th>\n",
       "      <td>rch_0</td>\n",
       "      <td>log</td>\n",
       "      <td>factor</td>\n",
       "      <td>0.80</td>\n",
       "      <td>0.500</td>\n",
       "      <td>2.00</td>\n",
       "      <td>rch</td>\n",
       "      <td>1.0</td>\n",
       "      <td>0.0</td>\n",
       "      <td>1</td>\n",
       "      <td>NaN</td>\n",
       "    </tr>\n",
       "    <tr>\n",
       "      <th>rch_1</th>\n",
       "      <td>rch_1</td>\n",
       "      <td>fixed</td>\n",
       "      <td>factor</td>\n",
       "      <td>1.00</td>\n",
       "      <td>0.250</td>\n",
       "      <td>3.00</td>\n",
       "      <td>rch</td>\n",
       "      <td>1.0</td>\n",
       "      <td>0.0</td>\n",
       "      <td>1</td>\n",
       "      <td>NaN</td>\n",
       "    </tr>\n",
       "  </tbody>\n",
       "</table>\n",
       "</div>"
      ],
      "text/plain": [
       "            parnme partrans parchglim  parval1  parlbnd  parubnd     pargp  \\\n",
       "parnme                                                                       \n",
       "hk              hk      log    factor    12.00    3.000    12.00        hk   \n",
       "porosity  porosity      log    factor     0.01    0.005     0.02  porosity   \n",
       "rch_0        rch_0      log    factor     0.80    0.500     2.00       rch   \n",
       "rch_1        rch_1    fixed    factor     1.00    0.250     3.00       rch   \n",
       "\n",
       "          scale  offset  dercom  extra  \n",
       "parnme                                  \n",
       "hk          1.0     0.0       1    NaN  \n",
       "porosity    1.0     0.0       1    NaN  \n",
       "rch_0       1.0     0.0       1    NaN  \n",
       "rch_1       1.0     0.0       1    NaN  "
      ]
     },
     "execution_count": 9,
     "metadata": {},
     "output_type": "execute_result"
    }
   ],
   "source": [
    "inpst.parameter_data"
   ]
  },
  {
   "cell_type": "code",
   "execution_count": 10,
   "metadata": {},
   "outputs": [
    {
     "data": {
      "text/html": [
       "<div>\n",
       "<style scoped>\n",
       "    .dataframe tbody tr th:only-of-type {\n",
       "        vertical-align: middle;\n",
       "    }\n",
       "\n",
       "    .dataframe tbody tr th {\n",
       "        vertical-align: top;\n",
       "    }\n",
       "\n",
       "    .dataframe thead th {\n",
       "        text-align: right;\n",
       "    }\n",
       "</style>\n",
       "<table border=\"1\" class=\"dataframe\">\n",
       "  <thead>\n",
       "    <tr style=\"text-align: right;\">\n",
       "      <th></th>\n",
       "      <th>obsnme</th>\n",
       "      <th>obsval</th>\n",
       "      <th>weight</th>\n",
       "      <th>obgnme</th>\n",
       "      <th>extra</th>\n",
       "    </tr>\n",
       "    <tr>\n",
       "      <th>obsnme</th>\n",
       "      <th></th>\n",
       "      <th></th>\n",
       "      <th></th>\n",
       "      <th></th>\n",
       "      <th></th>\n",
       "    </tr>\n",
       "  </thead>\n",
       "  <tbody>\n",
       "    <tr>\n",
       "      <th>c001cr03c10_19700102</th>\n",
       "      <td>c001cr03c10_19700102</td>\n",
       "      <td>26.262615</td>\n",
       "      <td>5.0</td>\n",
       "      <td>calhead</td>\n",
       "      <td>NaN</td>\n",
       "    </tr>\n",
       "    <tr>\n",
       "      <th>c001cr03c16_19700102</th>\n",
       "      <td>c001cr03c16_19700102</td>\n",
       "      <td>23.463532</td>\n",
       "      <td>5.0</td>\n",
       "      <td>calhead</td>\n",
       "      <td>NaN</td>\n",
       "    </tr>\n",
       "    <tr>\n",
       "      <th>c001cr04c09_19700102</th>\n",
       "      <td>c001cr04c09_19700102</td>\n",
       "      <td>28.126832</td>\n",
       "      <td>5.0</td>\n",
       "      <td>calhead</td>\n",
       "      <td>NaN</td>\n",
       "    </tr>\n",
       "    <tr>\n",
       "      <th>c001cr10c02_19700102</th>\n",
       "      <td>c001cr10c02_19700102</td>\n",
       "      <td>30.430534</td>\n",
       "      <td>5.0</td>\n",
       "      <td>calhead</td>\n",
       "      <td>NaN</td>\n",
       "    </tr>\n",
       "    <tr>\n",
       "      <th>c001cr14c11_19700102</th>\n",
       "      <td>c001cr14c11_19700102</td>\n",
       "      <td>25.442033</td>\n",
       "      <td>5.0</td>\n",
       "      <td>calhead</td>\n",
       "      <td>NaN</td>\n",
       "    </tr>\n",
       "    <tr>\n",
       "      <th>c001cr16c17_19700102</th>\n",
       "      <td>c001cr16c17_19700102</td>\n",
       "      <td>20.064206</td>\n",
       "      <td>5.0</td>\n",
       "      <td>calhead</td>\n",
       "      <td>NaN</td>\n",
       "    </tr>\n",
       "    <tr>\n",
       "      <th>c001cr22c11_19700102</th>\n",
       "      <td>c001cr22c11_19700102</td>\n",
       "      <td>24.333130</td>\n",
       "      <td>5.0</td>\n",
       "      <td>calhead</td>\n",
       "      <td>NaN</td>\n",
       "    </tr>\n",
       "    <tr>\n",
       "      <th>c001cr23c16_19700102</th>\n",
       "      <td>c001cr23c16_19700102</td>\n",
       "      <td>19.950425</td>\n",
       "      <td>5.0</td>\n",
       "      <td>calhead</td>\n",
       "      <td>NaN</td>\n",
       "    </tr>\n",
       "    <tr>\n",
       "      <th>c001cr25c05_19700102</th>\n",
       "      <td>c001cr25c05_19700102</td>\n",
       "      <td>24.844271</td>\n",
       "      <td>5.0</td>\n",
       "      <td>calhead</td>\n",
       "      <td>NaN</td>\n",
       "    </tr>\n",
       "    <tr>\n",
       "      <th>c001cr27c07_19700102</th>\n",
       "      <td>c001cr27c07_19700102</td>\n",
       "      <td>25.195393</td>\n",
       "      <td>5.0</td>\n",
       "      <td>calhead</td>\n",
       "      <td>NaN</td>\n",
       "    </tr>\n",
       "    <tr>\n",
       "      <th>c001cr30c16_19700102</th>\n",
       "      <td>c001cr30c16_19700102</td>\n",
       "      <td>16.550262</td>\n",
       "      <td>5.0</td>\n",
       "      <td>calhead</td>\n",
       "      <td>NaN</td>\n",
       "    </tr>\n",
       "    <tr>\n",
       "      <th>c001cr34c08_19700102</th>\n",
       "      <td>c001cr34c08_19700102</td>\n",
       "      <td>20.849687</td>\n",
       "      <td>5.0</td>\n",
       "      <td>calhead</td>\n",
       "      <td>NaN</td>\n",
       "    </tr>\n",
       "    <tr>\n",
       "      <th>c001cr35c11_19700102</th>\n",
       "      <td>c001cr35c11_19700102</td>\n",
       "      <td>17.984508</td>\n",
       "      <td>5.0</td>\n",
       "      <td>calhead</td>\n",
       "      <td>NaN</td>\n",
       "    </tr>\n",
       "  </tbody>\n",
       "</table>\n",
       "</div>"
      ],
      "text/plain": [
       "                                    obsnme     obsval  weight   obgnme  extra\n",
       "obsnme                                                                       \n",
       "c001cr03c10_19700102  c001cr03c10_19700102  26.262615     5.0  calhead    NaN\n",
       "c001cr03c16_19700102  c001cr03c16_19700102  23.463532     5.0  calhead    NaN\n",
       "c001cr04c09_19700102  c001cr04c09_19700102  28.126832     5.0  calhead    NaN\n",
       "c001cr10c02_19700102  c001cr10c02_19700102  30.430534     5.0  calhead    NaN\n",
       "c001cr14c11_19700102  c001cr14c11_19700102  25.442033     5.0  calhead    NaN\n",
       "c001cr16c17_19700102  c001cr16c17_19700102  20.064206     5.0  calhead    NaN\n",
       "c001cr22c11_19700102  c001cr22c11_19700102  24.333130     5.0  calhead    NaN\n",
       "c001cr23c16_19700102  c001cr23c16_19700102  19.950425     5.0  calhead    NaN\n",
       "c001cr25c05_19700102  c001cr25c05_19700102  24.844271     5.0  calhead    NaN\n",
       "c001cr27c07_19700102  c001cr27c07_19700102  25.195393     5.0  calhead    NaN\n",
       "c001cr30c16_19700102  c001cr30c16_19700102  16.550262     5.0  calhead    NaN\n",
       "c001cr34c08_19700102  c001cr34c08_19700102  20.849687     5.0  calhead    NaN\n",
       "c001cr35c11_19700102  c001cr35c11_19700102  17.984508     5.0  calhead    NaN"
      ]
     },
     "execution_count": 10,
     "metadata": {},
     "output_type": "execute_result"
    }
   ],
   "source": [
    "inpst.observation_data.loc[inpst.nnz_obs_names]"
   ]
  },
  {
   "cell_type": "markdown",
   "metadata": {},
   "source": [
    "## Run the `run_respsurf` function to calculate the response surface"
   ]
  },
  {
   "cell_type": "code",
   "execution_count": 11,
   "metadata": {},
   "outputs": [
    {
     "name": "stdout",
     "output_type": "stream",
     "text": [
      "noptmax: 0\n"
     ]
    },
    {
     "name": "stderr",
     "output_type": "stream",
     "text": [
      "/Users/mnfienen/Documents/GIT/pyemu/pyemu/utils/helpers.py:1064: PyemuWarning: start_slaves has moved to pyemu.os_utils\n",
      "  warnings.warn(\"start_slaves has moved to pyemu.os_utils\",PyemuWarning)\n"
     ]
    }
   ],
   "source": [
    "if run_all_flag:\n",
    "    resurf.run_respsurf(par_names=['hk','rch_0'], pstfile=pst_name)"
   ]
  },
  {
   "cell_type": "code",
   "execution_count": 12,
   "metadata": {},
   "outputs": [
    {
     "data": {
      "image/png": "[encoded data removed]",
      "text/plain": [
       "<Figure size 360x360 with 2 Axes>"
      ]
     },
     "metadata": {},
     "output_type": "display_data"
    }
   ],
   "source": [
    "resurf.plot_response_surface(parnames=['hk','rch_0'], pstfile=pst_name);"
   ]
  },
  {
   "cell_type": "code",
   "execution_count": 13,
   "metadata": {},
   "outputs": [
    {
     "name": "stdout",
     "output_type": "stream",
     "text": [
      "noptmax: -1\n"
     ]
    }
   ],
   "source": [
    "inpst = pyemu.Pst(os.path.join(working_dir,pst_name))\n",
    "inpst.parameter_data.loc['hk', 'parval1'] = 12.0\n",
    "inpst.parameter_data.loc['rch_0', 'parval1'] = 0.8\n",
    "inpst.parameter_data.loc['rch_0', 'partrans'] = 'log'\n",
    "inpst.control_data.noptmax =  -1\n",
    "inpst.write(os.path.join(working_dir,pst_name))"
   ]
  },
  {
   "cell_type": "code",
   "execution_count": 14,
   "metadata": {},
   "outputs": [],
   "source": [
    "os.chdir(working_dir)\n",
    "pyemu.os_utils.run('pestpp {0}'.format(pst_name))\n",
    "os.chdir('..')"
   ]
  },
  {
   "cell_type": "markdown",
   "metadata": {},
   "source": [
    "### Now let's run PEST++ and see what we get for an estimate of the parameters\n",
    " * set NOPTMAX=-1\n",
    " * run PEST++"
   ]
  },
  {
   "cell_type": "code",
   "execution_count": 15,
   "metadata": {},
   "outputs": [
    {
     "data": {
      "text/html": [
       "<div>\n",
       "<style scoped>\n",
       "    .dataframe tbody tr th:only-of-type {\n",
       "        vertical-align: middle;\n",
       "    }\n",
       "\n",
       "    .dataframe tbody tr th {\n",
       "        vertical-align: top;\n",
       "    }\n",
       "\n",
       "    .dataframe thead th {\n",
       "        text-align: right;\n",
       "    }\n",
       "</style>\n",
       "<table border=\"1\" class=\"dataframe\">\n",
       "  <thead>\n",
       "    <tr style=\"text-align: right;\">\n",
       "      <th></th>\n",
       "      <th>iteration</th>\n",
       "      <th>hk</th>\n",
       "      <th>porosity</th>\n",
       "      <th>rch_0</th>\n",
       "      <th>rch_1</th>\n",
       "    </tr>\n",
       "  </thead>\n",
       "  <tbody>\n",
       "    <tr>\n",
       "      <th>0</th>\n",
       "      <td>0</td>\n",
       "      <td>12</td>\n",
       "      <td>0.01</td>\n",
       "      <td>0.8</td>\n",
       "      <td>1</td>\n",
       "    </tr>\n",
       "  </tbody>\n",
       "</table>\n",
       "</div>"
      ],
      "text/plain": [
       "   iteration  hk  porosity  rch_0  rch_1\n",
       "0          0  12      0.01    0.8      1"
      ]
     },
     "execution_count": 15,
     "metadata": {},
     "output_type": "execute_result"
    }
   ],
   "source": [
    "pars = pd.read_csv(os.path.join(working_dir,pst_name.replace('.pst','.ipar')))\n",
    "pars"
   ]
  },
  {
   "cell_type": "code",
   "execution_count": 16,
   "metadata": {},
   "outputs": [
    {
     "data": {
      "text/html": [
       "<div>\n",
       "<style scoped>\n",
       "    .dataframe tbody tr th:only-of-type {\n",
       "        vertical-align: middle;\n",
       "    }\n",
       "\n",
       "    .dataframe tbody tr th {\n",
       "        vertical-align: top;\n",
       "    }\n",
       "\n",
       "    .dataframe thead th {\n",
       "        text-align: right;\n",
       "    }\n",
       "</style>\n",
       "<table border=\"1\" class=\"dataframe\">\n",
       "  <thead>\n",
       "    <tr style=\"text-align: right;\">\n",
       "      <th></th>\n",
       "      <th>hk</th>\n",
       "      <th>porosity</th>\n",
       "      <th>rch_0</th>\n",
       "    </tr>\n",
       "  </thead>\n",
       "  <tbody>\n",
       "    <tr>\n",
       "      <th>hk</th>\n",
       "      <td>8472.050876</td>\n",
       "      <td>0.0</td>\n",
       "      <td>-11707.114827</td>\n",
       "    </tr>\n",
       "    <tr>\n",
       "      <th>porosity</th>\n",
       "      <td>0.000000</td>\n",
       "      <td>0.0</td>\n",
       "      <td>0.000000</td>\n",
       "    </tr>\n",
       "    <tr>\n",
       "      <th>rch_0</th>\n",
       "      <td>-11707.114827</td>\n",
       "      <td>0.0</td>\n",
       "      <td>16700.913065</td>\n",
       "    </tr>\n",
       "  </tbody>\n",
       "</table>\n",
       "</div>"
      ],
      "text/plain": [
       "                    hk  porosity         rch_0\n",
       "hk         8472.050876       0.0 -11707.114827\n",
       "porosity      0.000000       0.0      0.000000\n",
       "rch_0    -11707.114827       0.0  16700.913065"
      ]
     },
     "execution_count": 16,
     "metadata": {},
     "output_type": "execute_result"
    }
   ],
   "source": [
    "sc = pyemu.Schur(os.path.join(working_dir,pst_name.replace('.pst','.jcb')))\n",
    "covar = pyemu.Cov(sc.xtqx.x, names=sc.xtqx.row_names)\n",
    "covar.df()"
   ]
  },
  {
   "cell_type": "code",
   "execution_count": 17,
   "metadata": {},
   "outputs": [
    {
     "name": "stderr",
     "output_type": "stream",
     "text": [
      "/Users/mnfienen/Documents/GIT/pyemu/pyemu/mat/mat_handler.py:2718: RuntimeWarning: invalid value encountered in double_scalars\n",
      "  pearson[i,j+i+1] = df.loc[iname,jname] / (std_dict[iname] * std_dict[jname])\n"
     ]
    },
    {
     "data": {
      "text/html": [
       "<div>\n",
       "<style scoped>\n",
       "    .dataframe tbody tr th:only-of-type {\n",
       "        vertical-align: middle;\n",
       "    }\n",
       "\n",
       "    .dataframe tbody tr th {\n",
       "        vertical-align: top;\n",
       "    }\n",
       "\n",
       "    .dataframe thead th {\n",
       "        text-align: right;\n",
       "    }\n",
       "</style>\n",
       "<table border=\"1\" class=\"dataframe\">\n",
       "  <thead>\n",
       "    <tr style=\"text-align: right;\">\n",
       "      <th></th>\n",
       "      <th>hk</th>\n",
       "      <th>porosity</th>\n",
       "      <th>rch_0</th>\n",
       "    </tr>\n",
       "  </thead>\n",
       "  <tbody>\n",
       "    <tr>\n",
       "      <th>hk</th>\n",
       "      <td>1.000000</td>\n",
       "      <td>NaN</td>\n",
       "      <td>-0.984205</td>\n",
       "    </tr>\n",
       "    <tr>\n",
       "      <th>porosity</th>\n",
       "      <td>NaN</td>\n",
       "      <td>1.0</td>\n",
       "      <td>NaN</td>\n",
       "    </tr>\n",
       "    <tr>\n",
       "      <th>rch_0</th>\n",
       "      <td>-0.984205</td>\n",
       "      <td>NaN</td>\n",
       "      <td>1.000000</td>\n",
       "    </tr>\n",
       "  </tbody>\n",
       "</table>\n",
       "</div>"
      ],
      "text/plain": [
       "                hk  porosity     rch_0\n",
       "hk        1.000000       NaN -0.984205\n",
       "porosity       NaN       1.0       NaN\n",
       "rch_0    -0.984205       NaN  1.000000"
      ]
     },
     "execution_count": 17,
     "metadata": {},
     "output_type": "execute_result"
    }
   ],
   "source": [
    "R = covar.to_pearson()\n",
    "R.df()"
   ]
  },
  {
   "cell_type": "markdown",
   "metadata": {},
   "source": [
    "# What if we also have a calibration flux observation?\n",
    "\n",
    "We can set this up by simply assigning non-zero weight to the observation in the group called `calflux`\n",
    "\n",
    "We'll read in the PST file, change just that one value and write out a new PST file."
   ]
  },
  {
   "cell_type": "code",
   "execution_count": 18,
   "metadata": {},
   "outputs": [],
   "source": [
    "inpst = pyemu.Pst(os.path.join(working_dir,pst_name))"
   ]
  },
  {
   "cell_type": "code",
   "execution_count": 19,
   "metadata": {},
   "outputs": [
    {
     "data": {
      "text/html": [
       "<div>\n",
       "<style scoped>\n",
       "    .dataframe tbody tr th:only-of-type {\n",
       "        vertical-align: middle;\n",
       "    }\n",
       "\n",
       "    .dataframe tbody tr th {\n",
       "        vertical-align: top;\n",
       "    }\n",
       "\n",
       "    .dataframe thead th {\n",
       "        text-align: right;\n",
       "    }\n",
       "</style>\n",
       "<table border=\"1\" class=\"dataframe\">\n",
       "  <thead>\n",
       "    <tr style=\"text-align: right;\">\n",
       "      <th></th>\n",
       "      <th>parnme</th>\n",
       "      <th>partrans</th>\n",
       "      <th>parchglim</th>\n",
       "      <th>parval1</th>\n",
       "      <th>parlbnd</th>\n",
       "      <th>parubnd</th>\n",
       "      <th>pargp</th>\n",
       "      <th>scale</th>\n",
       "      <th>offset</th>\n",
       "      <th>dercom</th>\n",
       "      <th>extra</th>\n",
       "    </tr>\n",
       "    <tr>\n",
       "      <th>parnme</th>\n",
       "      <th></th>\n",
       "      <th></th>\n",
       "      <th></th>\n",
       "      <th></th>\n",
       "      <th></th>\n",
       "      <th></th>\n",
       "      <th></th>\n",
       "      <th></th>\n",
       "      <th></th>\n",
       "      <th></th>\n",
       "      <th></th>\n",
       "    </tr>\n",
       "  </thead>\n",
       "  <tbody>\n",
       "    <tr>\n",
       "      <th>hk</th>\n",
       "      <td>hk</td>\n",
       "      <td>log</td>\n",
       "      <td>factor</td>\n",
       "      <td>12.00</td>\n",
       "      <td>3.000</td>\n",
       "      <td>12.00</td>\n",
       "      <td>hk</td>\n",
       "      <td>1.0</td>\n",
       "      <td>0.0</td>\n",
       "      <td>1</td>\n",
       "      <td>NaN</td>\n",
       "    </tr>\n",
       "    <tr>\n",
       "      <th>porosity</th>\n",
       "      <td>porosity</td>\n",
       "      <td>log</td>\n",
       "      <td>factor</td>\n",
       "      <td>0.01</td>\n",
       "      <td>0.005</td>\n",
       "      <td>0.02</td>\n",
       "      <td>porosity</td>\n",
       "      <td>1.0</td>\n",
       "      <td>0.0</td>\n",
       "      <td>1</td>\n",
       "      <td>NaN</td>\n",
       "    </tr>\n",
       "    <tr>\n",
       "      <th>rch_0</th>\n",
       "      <td>rch_0</td>\n",
       "      <td>log</td>\n",
       "      <td>factor</td>\n",
       "      <td>0.80</td>\n",
       "      <td>0.500</td>\n",
       "      <td>2.00</td>\n",
       "      <td>rch</td>\n",
       "      <td>1.0</td>\n",
       "      <td>0.0</td>\n",
       "      <td>1</td>\n",
       "      <td>NaN</td>\n",
       "    </tr>\n",
       "    <tr>\n",
       "      <th>rch_1</th>\n",
       "      <td>rch_1</td>\n",
       "      <td>fixed</td>\n",
       "      <td>factor</td>\n",
       "      <td>1.00</td>\n",
       "      <td>0.250</td>\n",
       "      <td>3.00</td>\n",
       "      <td>rch</td>\n",
       "      <td>1.0</td>\n",
       "      <td>0.0</td>\n",
       "      <td>1</td>\n",
       "      <td>NaN</td>\n",
       "    </tr>\n",
       "  </tbody>\n",
       "</table>\n",
       "</div>"
      ],
      "text/plain": [
       "            parnme partrans parchglim  parval1  parlbnd  parubnd     pargp  \\\n",
       "parnme                                                                       \n",
       "hk              hk      log    factor    12.00    3.000    12.00        hk   \n",
       "porosity  porosity      log    factor     0.01    0.005     0.02  porosity   \n",
       "rch_0        rch_0      log    factor     0.80    0.500     2.00       rch   \n",
       "rch_1        rch_1    fixed    factor     1.00    0.250     3.00       rch   \n",
       "\n",
       "          scale  offset  dercom  extra  \n",
       "parnme                                  \n",
       "hk          1.0     0.0       1    NaN  \n",
       "porosity    1.0     0.0       1    NaN  \n",
       "rch_0       1.0     0.0       1    NaN  \n",
       "rch_1       1.0     0.0       1    NaN  "
      ]
     },
     "execution_count": 19,
     "metadata": {},
     "output_type": "execute_result"
    }
   ],
   "source": [
    "inpst.parameter_data"
   ]
  },
  {
   "cell_type": "code",
   "execution_count": 20,
   "metadata": {},
   "outputs": [
    {
     "name": "stdout",
     "output_type": "stream",
     "text": [
      "noptmax: 0\n"
     ]
    }
   ],
   "source": [
    "inpst.parameter_data.loc['rch_1','partrans']= 'fixed'\n",
    "###\n",
    "# Let's fix porosity to avoid getting NaN in our correlation matrices\n",
    "\n",
    "inpst.parameter_data.loc['porosity','partrans']= 'fixed'\n",
    "\n",
    "inpst.parameter_data.loc['hk','parval1']= 12.0\n",
    "\n",
    "inpst.observation_data.loc[inpst.observation_data.obgnme=='calflux','weight']=10\n",
    "inpst.control_data.noptmax=0\n",
    "inpst.write(os.path.join(working_dir,pst_name.replace('.pst','.r1.pst')))"
   ]
  },
  {
   "cell_type": "code",
   "execution_count": 21,
   "metadata": {},
   "outputs": [
    {
     "data": {
      "text/html": [
       "<div>\n",
       "<style scoped>\n",
       "    .dataframe tbody tr th:only-of-type {\n",
       "        vertical-align: middle;\n",
       "    }\n",
       "\n",
       "    .dataframe tbody tr th {\n",
       "        vertical-align: top;\n",
       "    }\n",
       "\n",
       "    .dataframe thead th {\n",
       "        text-align: right;\n",
       "    }\n",
       "</style>\n",
       "<table border=\"1\" class=\"dataframe\">\n",
       "  <thead>\n",
       "    <tr style=\"text-align: right;\">\n",
       "      <th></th>\n",
       "      <th>parnme</th>\n",
       "      <th>partrans</th>\n",
       "      <th>parchglim</th>\n",
       "      <th>parval1</th>\n",
       "      <th>parlbnd</th>\n",
       "      <th>parubnd</th>\n",
       "      <th>pargp</th>\n",
       "      <th>scale</th>\n",
       "      <th>offset</th>\n",
       "      <th>dercom</th>\n",
       "      <th>extra</th>\n",
       "    </tr>\n",
       "    <tr>\n",
       "      <th>parnme</th>\n",
       "      <th></th>\n",
       "      <th></th>\n",
       "      <th></th>\n",
       "      <th></th>\n",
       "      <th></th>\n",
       "      <th></th>\n",
       "      <th></th>\n",
       "      <th></th>\n",
       "      <th></th>\n",
       "      <th></th>\n",
       "      <th></th>\n",
       "    </tr>\n",
       "  </thead>\n",
       "  <tbody>\n",
       "    <tr>\n",
       "      <th>hk</th>\n",
       "      <td>hk</td>\n",
       "      <td>log</td>\n",
       "      <td>factor</td>\n",
       "      <td>12.00</td>\n",
       "      <td>3.000</td>\n",
       "      <td>12.00</td>\n",
       "      <td>hk</td>\n",
       "      <td>1.0</td>\n",
       "      <td>0.0</td>\n",
       "      <td>1</td>\n",
       "      <td>NaN</td>\n",
       "    </tr>\n",
       "    <tr>\n",
       "      <th>porosity</th>\n",
       "      <td>porosity</td>\n",
       "      <td>fixed</td>\n",
       "      <td>factor</td>\n",
       "      <td>0.01</td>\n",
       "      <td>0.005</td>\n",
       "      <td>0.02</td>\n",
       "      <td>porosity</td>\n",
       "      <td>1.0</td>\n",
       "      <td>0.0</td>\n",
       "      <td>1</td>\n",
       "      <td>NaN</td>\n",
       "    </tr>\n",
       "    <tr>\n",
       "      <th>rch_0</th>\n",
       "      <td>rch_0</td>\n",
       "      <td>log</td>\n",
       "      <td>factor</td>\n",
       "      <td>0.80</td>\n",
       "      <td>0.500</td>\n",
       "      <td>2.00</td>\n",
       "      <td>rch</td>\n",
       "      <td>1.0</td>\n",
       "      <td>0.0</td>\n",
       "      <td>1</td>\n",
       "      <td>NaN</td>\n",
       "    </tr>\n",
       "    <tr>\n",
       "      <th>rch_1</th>\n",
       "      <td>rch_1</td>\n",
       "      <td>fixed</td>\n",
       "      <td>factor</td>\n",
       "      <td>1.00</td>\n",
       "      <td>0.250</td>\n",
       "      <td>3.00</td>\n",
       "      <td>rch</td>\n",
       "      <td>1.0</td>\n",
       "      <td>0.0</td>\n",
       "      <td>1</td>\n",
       "      <td>NaN</td>\n",
       "    </tr>\n",
       "  </tbody>\n",
       "</table>\n",
       "</div>"
      ],
      "text/plain": [
       "            parnme partrans parchglim  parval1  parlbnd  parubnd     pargp  \\\n",
       "parnme                                                                       \n",
       "hk              hk      log    factor    12.00    3.000    12.00        hk   \n",
       "porosity  porosity    fixed    factor     0.01    0.005     0.02  porosity   \n",
       "rch_0        rch_0      log    factor     0.80    0.500     2.00       rch   \n",
       "rch_1        rch_1    fixed    factor     1.00    0.250     3.00       rch   \n",
       "\n",
       "          scale  offset  dercom  extra  \n",
       "parnme                                  \n",
       "hk          1.0     0.0       1    NaN  \n",
       "porosity    1.0     0.0       1    NaN  \n",
       "rch_0       1.0     0.0       1    NaN  \n",
       "rch_1       1.0     0.0       1    NaN  "
      ]
     },
     "execution_count": 21,
     "metadata": {},
     "output_type": "execute_result"
    }
   ],
   "source": [
    "inpst.parameter_data"
   ]
  },
  {
   "cell_type": "code",
   "execution_count": 22,
   "metadata": {},
   "outputs": [],
   "source": [
    "os.chdir(working_dir)\n",
    "pyemu.os_utils.run('pestpp {0}'.format(pst_name.replace('.pst','.r1.pst')))\n",
    "os.chdir('..')"
   ]
  },
  {
   "cell_type": "code",
   "execution_count": 23,
   "metadata": {},
   "outputs": [
    {
     "data": {
      "text/plain": [
       "{'calflux': 395293924.0,\n",
       " 'calhead': 2137.6569795865717,\n",
       " 'flaqx': 0.0,\n",
       " 'flout': 0.0,\n",
       " 'flx_constan': 0.0,\n",
       " 'flx_in-out': 0.0,\n",
       " 'flx_percent': 0.0,\n",
       " 'flx_recharg': 0.0,\n",
       " 'flx_storage': 0.0,\n",
       " 'flx_stream_': 0.0,\n",
       " 'flx_total': 0.0,\n",
       " 'flx_wells': 0.0,\n",
       " 'forecast': 0.0,\n",
       " 'pothead': 0.0,\n",
       " 'vol_constan': 0.0,\n",
       " 'vol_in-out': 0.0,\n",
       " 'vol_percent': 0.0,\n",
       " 'vol_recharg': 0.0,\n",
       " 'vol_storage': 0.0,\n",
       " 'vol_stream_': 0.0,\n",
       " 'vol_total': 0.0,\n",
       " 'vol_wells': 0.0}"
      ]
     },
     "execution_count": 23,
     "metadata": {},
     "output_type": "execute_result"
    }
   ],
   "source": [
    "inpst.phi_components"
   ]
  },
  {
   "cell_type": "code",
   "execution_count": 24,
   "metadata": {},
   "outputs": [
    {
     "name": "stdout",
     "output_type": "stream",
     "text": [
      "noptmax: 0\n"
     ]
    },
    {
     "name": "stderr",
     "output_type": "stream",
     "text": [
      "/Users/mnfienen/Documents/GIT/pyemu/pyemu/utils/helpers.py:1064: PyemuWarning: start_slaves has moved to pyemu.os_utils\n",
      "  warnings.warn(\"start_slaves has moved to pyemu.os_utils\",PyemuWarning)\n"
     ]
    }
   ],
   "source": [
    "if run_all_flag:\n",
    "    resurf.run_respsurf(par_names=['hk','rch_0'], pstfile=pst_name.replace('.pst','.r1.pst'))"
   ]
  },
  {
   "cell_type": "code",
   "execution_count": 25,
   "metadata": {
    "scrolled": false
   },
   "outputs": [
    {
     "data": {
      "image/png": "[encoded data removed]",
      "text/plain": [
       "<Figure size 360x360 with 2 Axes>"
      ]
     },
     "metadata": {},
     "output_type": "display_data"
    }
   ],
   "source": [
    "resurf.plot_response_surface(parnames=['hk','rch_0'], pstfile=pst_name.replace('.pst','.r1.pst'));"
   ]
  },
  {
   "cell_type": "code",
   "execution_count": 26,
   "metadata": {},
   "outputs": [
    {
     "name": "stdout",
     "output_type": "stream",
     "text": [
      "noptmax: -1\n"
     ]
    }
   ],
   "source": [
    "inpst = pyemu.Pst(os.path.join(working_dir,pst_name.replace('.pst','.r1.pst')))\n",
    "inpst.parameter_data.loc['hk', 'parval1'] = 12\n",
    "inpst.parameter_data.loc['rch_0', 'parval1'] = 0.8\n",
    "\n",
    "inpst.control_data.noptmax =  -1\n",
    "inpst.write(os.path.join(working_dir,pst_name.replace('.pst','.r1.pst')))"
   ]
  },
  {
   "cell_type": "code",
   "execution_count": 27,
   "metadata": {},
   "outputs": [],
   "source": [
    "os.chdir(working_dir)\n",
    "pyemu.os_utils.run('pestpp {0}'.format(pst_name.replace('.pst','.r1.pst')))\n",
    "os.chdir('..')"
   ]
  },
  {
   "cell_type": "markdown",
   "metadata": {},
   "source": [
    "### We can look at the correlation again"
   ]
  },
  {
   "cell_type": "code",
   "execution_count": 28,
   "metadata": {},
   "outputs": [
    {
     "data": {
      "text/html": [
       "<div>\n",
       "<style scoped>\n",
       "    .dataframe tbody tr th:only-of-type {\n",
       "        vertical-align: middle;\n",
       "    }\n",
       "\n",
       "    .dataframe tbody tr th {\n",
       "        vertical-align: top;\n",
       "    }\n",
       "\n",
       "    .dataframe thead th {\n",
       "        text-align: right;\n",
       "    }\n",
       "</style>\n",
       "<table border=\"1\" class=\"dataframe\">\n",
       "  <thead>\n",
       "    <tr style=\"text-align: right;\">\n",
       "      <th></th>\n",
       "      <th>iteration</th>\n",
       "      <th>hk</th>\n",
       "      <th>porosity</th>\n",
       "      <th>rch_0</th>\n",
       "      <th>rch_1</th>\n",
       "    </tr>\n",
       "  </thead>\n",
       "  <tbody>\n",
       "    <tr>\n",
       "      <th>0</th>\n",
       "      <td>0</td>\n",
       "      <td>12</td>\n",
       "      <td>0.01</td>\n",
       "      <td>0.8</td>\n",
       "      <td>1</td>\n",
       "    </tr>\n",
       "  </tbody>\n",
       "</table>\n",
       "</div>"
      ],
      "text/plain": [
       "   iteration  hk  porosity  rch_0  rch_1\n",
       "0          0  12      0.01    0.8      1"
      ]
     },
     "execution_count": 28,
     "metadata": {},
     "output_type": "execute_result"
    }
   ],
   "source": [
    "pars = pd.read_csv(os.path.join(working_dir,pst_name.replace('.pst','.r1.ipar')))\n",
    "pars"
   ]
  },
  {
   "cell_type": "code",
   "execution_count": 29,
   "metadata": {},
   "outputs": [
    {
     "data": {
      "text/html": [
       "<div>\n",
       "<style scoped>\n",
       "    .dataframe tbody tr th:only-of-type {\n",
       "        vertical-align: middle;\n",
       "    }\n",
       "\n",
       "    .dataframe tbody tr th {\n",
       "        vertical-align: top;\n",
       "    }\n",
       "\n",
       "    .dataframe thead th {\n",
       "        text-align: right;\n",
       "    }\n",
       "</style>\n",
       "<table border=\"1\" class=\"dataframe\">\n",
       "  <thead>\n",
       "    <tr style=\"text-align: right;\">\n",
       "      <th></th>\n",
       "      <th>hk</th>\n",
       "      <th>rch_0</th>\n",
       "    </tr>\n",
       "  </thead>\n",
       "  <tbody>\n",
       "    <tr>\n",
       "      <th>hk</th>\n",
       "      <td>4.638033e+08</td>\n",
       "      <td>-2.023344e+09</td>\n",
       "    </tr>\n",
       "    <tr>\n",
       "      <th>rch_0</th>\n",
       "      <td>-2.023344e+09</td>\n",
       "      <td>8.826921e+09</td>\n",
       "    </tr>\n",
       "  </tbody>\n",
       "</table>\n",
       "</div>"
      ],
      "text/plain": [
       "                 hk         rch_0\n",
       "hk     4.638033e+08 -2.023344e+09\n",
       "rch_0 -2.023344e+09  8.826921e+09"
      ]
     },
     "execution_count": 29,
     "metadata": {},
     "output_type": "execute_result"
    }
   ],
   "source": [
    "sc = pyemu.Schur(os.path.join(working_dir,pst_name.replace('.pst','.r1.jcb')))\n",
    "covar = pyemu.Cov(sc.xtqx.x, names=sc.xtqx.row_names)\n",
    "covar.df()"
   ]
  },
  {
   "cell_type": "code",
   "execution_count": 30,
   "metadata": {},
   "outputs": [
    {
     "data": {
      "text/html": [
       "<div>\n",
       "<style scoped>\n",
       "    .dataframe tbody tr th:only-of-type {\n",
       "        vertical-align: middle;\n",
       "    }\n",
       "\n",
       "    .dataframe tbody tr th {\n",
       "        vertical-align: top;\n",
       "    }\n",
       "\n",
       "    .dataframe thead th {\n",
       "        text-align: right;\n",
       "    }\n",
       "</style>\n",
       "<table border=\"1\" class=\"dataframe\">\n",
       "  <thead>\n",
       "    <tr style=\"text-align: right;\">\n",
       "      <th></th>\n",
       "      <th>hk</th>\n",
       "      <th>rch_0</th>\n",
       "    </tr>\n",
       "  </thead>\n",
       "  <tbody>\n",
       "    <tr>\n",
       "      <th>hk</th>\n",
       "      <td>1.000000</td>\n",
       "      <td>-0.999996</td>\n",
       "    </tr>\n",
       "    <tr>\n",
       "      <th>rch_0</th>\n",
       "      <td>-0.999996</td>\n",
       "      <td>1.000000</td>\n",
       "    </tr>\n",
       "  </tbody>\n",
       "</table>\n",
       "</div>"
      ],
      "text/plain": [
       "             hk     rch_0\n",
       "hk     1.000000 -0.999996\n",
       "rch_0 -0.999996  1.000000"
      ]
     },
     "execution_count": 30,
     "metadata": {},
     "output_type": "execute_result"
    }
   ],
   "source": [
    "R = covar.to_pearson()\n",
    "R.df()"
   ]
  },
  {
   "cell_type": "code",
   "execution_count": 31,
   "metadata": {},
   "outputs": [
    {
     "data": {
      "text/html": [
       "<div>\n",
       "<style scoped>\n",
       "    .dataframe tbody tr th:only-of-type {\n",
       "        vertical-align: middle;\n",
       "    }\n",
       "\n",
       "    .dataframe tbody tr th {\n",
       "        vertical-align: top;\n",
       "    }\n",
       "\n",
       "    .dataframe thead th {\n",
       "        text-align: right;\n",
       "    }\n",
       "</style>\n",
       "<table border=\"1\" class=\"dataframe\">\n",
       "  <thead>\n",
       "    <tr style=\"text-align: right;\">\n",
       "      <th></th>\n",
       "      <th>hk</th>\n",
       "      <th>rch_0</th>\n",
       "    </tr>\n",
       "  </thead>\n",
       "  <tbody>\n",
       "    <tr>\n",
       "      <th>c001cr03c10_19700102</th>\n",
       "      <td>-6.570923</td>\n",
       "      <td>9.640966</td>\n",
       "    </tr>\n",
       "    <tr>\n",
       "      <th>c001cr03c16_19700102</th>\n",
       "      <td>-3.647503</td>\n",
       "      <td>6.409655</td>\n",
       "    </tr>\n",
       "    <tr>\n",
       "      <th>c001cr04c09_19700102</th>\n",
       "      <td>-7.129388</td>\n",
       "      <td>10.242119</td>\n",
       "    </tr>\n",
       "    <tr>\n",
       "      <th>c001cr10c02_19700102</th>\n",
       "      <td>-11.540738</td>\n",
       "      <td>13.890529</td>\n",
       "    </tr>\n",
       "    <tr>\n",
       "      <th>c001cr14c11_19700102</th>\n",
       "      <td>-2.374132</td>\n",
       "      <td>5.650931</td>\n",
       "    </tr>\n",
       "    <tr>\n",
       "      <th>c001cr16c17_19700102</th>\n",
       "      <td>-1.250647</td>\n",
       "      <td>3.293986</td>\n",
       "    </tr>\n",
       "    <tr>\n",
       "      <th>c001cr22c11_19700102</th>\n",
       "      <td>-2.147775</td>\n",
       "      <td>4.144075</td>\n",
       "    </tr>\n",
       "    <tr>\n",
       "      <th>c001cr23c16_19700102</th>\n",
       "      <td>-0.567642</td>\n",
       "      <td>1.816702</td>\n",
       "    </tr>\n",
       "    <tr>\n",
       "      <th>c001cr25c05_19700102</th>\n",
       "      <td>-7.017958</td>\n",
       "      <td>9.124556</td>\n",
       "    </tr>\n",
       "    <tr>\n",
       "      <th>c001cr27c07_19700102</th>\n",
       "      <td>-5.038859</td>\n",
       "      <td>7.283579</td>\n",
       "    </tr>\n",
       "    <tr>\n",
       "      <th>c001cr30c16_19700102</th>\n",
       "      <td>-0.521322</td>\n",
       "      <td>1.619848</td>\n",
       "    </tr>\n",
       "    <tr>\n",
       "      <th>c001cr34c08_19700102</th>\n",
       "      <td>-3.154148</td>\n",
       "      <td>4.907213</td>\n",
       "    </tr>\n",
       "    <tr>\n",
       "      <th>c001cr35c11_19700102</th>\n",
       "      <td>-1.177234</td>\n",
       "      <td>3.144359</td>\n",
       "    </tr>\n",
       "    <tr>\n",
       "      <th>fo_seg_40_0000</th>\n",
       "      <td>-2153.589710</td>\n",
       "      <td>9395.160438</td>\n",
       "    </tr>\n",
       "  </tbody>\n",
       "</table>\n",
       "</div>"
      ],
      "text/plain": [
       "                               hk        rch_0\n",
       "c001cr03c10_19700102    -6.570923     9.640966\n",
       "c001cr03c16_19700102    -3.647503     6.409655\n",
       "c001cr04c09_19700102    -7.129388    10.242119\n",
       "c001cr10c02_19700102   -11.540738    13.890529\n",
       "c001cr14c11_19700102    -2.374132     5.650931\n",
       "c001cr16c17_19700102    -1.250647     3.293986\n",
       "c001cr22c11_19700102    -2.147775     4.144075\n",
       "c001cr23c16_19700102    -0.567642     1.816702\n",
       "c001cr25c05_19700102    -7.017958     9.124556\n",
       "c001cr27c07_19700102    -5.038859     7.283579\n",
       "c001cr30c16_19700102    -0.521322     1.619848\n",
       "c001cr34c08_19700102    -3.154148     4.907213\n",
       "c001cr35c11_19700102    -1.177234     3.144359\n",
       "fo_seg_40_0000       -2153.589710  9395.160438"
      ]
     },
     "execution_count": 31,
     "metadata": {},
     "output_type": "execute_result"
    }
   ],
   "source": [
    "sc.jco.to_dataframe().loc[inpst.nnz_obs_names]"
   ]
  },
  {
   "cell_type": "markdown",
   "metadata": {
    "collapsed": true
   },
   "source": [
    "## OK - that was bonkers. Maybe a little less weight?"
   ]
  },
  {
   "cell_type": "code",
   "execution_count": 32,
   "metadata": {},
   "outputs": [
    {
     "name": "stdout",
     "output_type": "stream",
     "text": [
      "noptmax: 0\n"
     ]
    }
   ],
   "source": [
    "inpst.parameter_data.loc['rch_1','partrans']= 'fixed'\n",
    "\n",
    "inpst.observation_data.loc[inpst.observation_data.obgnme=='calflux','weight']=0.001\n",
    "inpst.control_data.noptmax=0\n",
    "inpst.write(os.path.join(working_dir,pst_name.replace('.pst','.r2.pst')))"
   ]
  },
  {
   "cell_type": "code",
   "execution_count": 33,
   "metadata": {},
   "outputs": [
    {
     "data": {
      "text/html": [
       "<div>\n",
       "<style scoped>\n",
       "    .dataframe tbody tr th:only-of-type {\n",
       "        vertical-align: middle;\n",
       "    }\n",
       "\n",
       "    .dataframe tbody tr th {\n",
       "        vertical-align: top;\n",
       "    }\n",
       "\n",
       "    .dataframe thead th {\n",
       "        text-align: right;\n",
       "    }\n",
       "</style>\n",
       "<table border=\"1\" class=\"dataframe\">\n",
       "  <thead>\n",
       "    <tr style=\"text-align: right;\">\n",
       "      <th></th>\n",
       "      <th>parnme</th>\n",
       "      <th>partrans</th>\n",
       "      <th>parchglim</th>\n",
       "      <th>parval1</th>\n",
       "      <th>parlbnd</th>\n",
       "      <th>parubnd</th>\n",
       "      <th>pargp</th>\n",
       "      <th>scale</th>\n",
       "      <th>offset</th>\n",
       "      <th>dercom</th>\n",
       "      <th>extra</th>\n",
       "    </tr>\n",
       "    <tr>\n",
       "      <th>parnme</th>\n",
       "      <th></th>\n",
       "      <th></th>\n",
       "      <th></th>\n",
       "      <th></th>\n",
       "      <th></th>\n",
       "      <th></th>\n",
       "      <th></th>\n",
       "      <th></th>\n",
       "      <th></th>\n",
       "      <th></th>\n",
       "      <th></th>\n",
       "    </tr>\n",
       "  </thead>\n",
       "  <tbody>\n",
       "    <tr>\n",
       "      <th>hk</th>\n",
       "      <td>hk</td>\n",
       "      <td>log</td>\n",
       "      <td>factor</td>\n",
       "      <td>12.00</td>\n",
       "      <td>3.000</td>\n",
       "      <td>12.00</td>\n",
       "      <td>hk</td>\n",
       "      <td>1.0</td>\n",
       "      <td>0.0</td>\n",
       "      <td>1</td>\n",
       "      <td>NaN</td>\n",
       "    </tr>\n",
       "    <tr>\n",
       "      <th>porosity</th>\n",
       "      <td>porosity</td>\n",
       "      <td>fixed</td>\n",
       "      <td>factor</td>\n",
       "      <td>0.01</td>\n",
       "      <td>0.005</td>\n",
       "      <td>0.02</td>\n",
       "      <td>porosity</td>\n",
       "      <td>1.0</td>\n",
       "      <td>0.0</td>\n",
       "      <td>1</td>\n",
       "      <td>NaN</td>\n",
       "    </tr>\n",
       "    <tr>\n",
       "      <th>rch_0</th>\n",
       "      <td>rch_0</td>\n",
       "      <td>log</td>\n",
       "      <td>factor</td>\n",
       "      <td>0.80</td>\n",
       "      <td>0.500</td>\n",
       "      <td>2.00</td>\n",
       "      <td>rch</td>\n",
       "      <td>1.0</td>\n",
       "      <td>0.0</td>\n",
       "      <td>1</td>\n",
       "      <td>NaN</td>\n",
       "    </tr>\n",
       "    <tr>\n",
       "      <th>rch_1</th>\n",
       "      <td>rch_1</td>\n",
       "      <td>fixed</td>\n",
       "      <td>factor</td>\n",
       "      <td>1.00</td>\n",
       "      <td>0.250</td>\n",
       "      <td>3.00</td>\n",
       "      <td>rch</td>\n",
       "      <td>1.0</td>\n",
       "      <td>0.0</td>\n",
       "      <td>1</td>\n",
       "      <td>NaN</td>\n",
       "    </tr>\n",
       "  </tbody>\n",
       "</table>\n",
       "</div>"
      ],
      "text/plain": [
       "            parnme partrans parchglim  parval1  parlbnd  parubnd     pargp  \\\n",
       "parnme                                                                       \n",
       "hk              hk      log    factor    12.00    3.000    12.00        hk   \n",
       "porosity  porosity    fixed    factor     0.01    0.005     0.02  porosity   \n",
       "rch_0        rch_0      log    factor     0.80    0.500     2.00       rch   \n",
       "rch_1        rch_1    fixed    factor     1.00    0.250     3.00       rch   \n",
       "\n",
       "          scale  offset  dercom  extra  \n",
       "parnme                                  \n",
       "hk          1.0     0.0       1    NaN  \n",
       "porosity    1.0     0.0       1    NaN  \n",
       "rch_0       1.0     0.0       1    NaN  \n",
       "rch_1       1.0     0.0       1    NaN  "
      ]
     },
     "execution_count": 33,
     "metadata": {},
     "output_type": "execute_result"
    }
   ],
   "source": [
    "inpst.parameter_data\n"
   ]
  },
  {
   "cell_type": "code",
   "execution_count": 34,
   "metadata": {},
   "outputs": [],
   "source": [
    "os.chdir(working_dir)\n",
    "pyemu.os_utils.run('pestpp {0}'.format(pst_name.replace('.pst','.r2.pst')))\n",
    "os.chdir('..')"
   ]
  },
  {
   "cell_type": "code",
   "execution_count": 35,
   "metadata": {},
   "outputs": [
    {
     "data": {
      "text/plain": [
       "{'calflux': 3.952939240000001,\n",
       " 'calhead': 2137.6569795865717,\n",
       " 'flaqx': 0.0,\n",
       " 'flout': 0.0,\n",
       " 'flx_constan': 0.0,\n",
       " 'flx_in-out': 0.0,\n",
       " 'flx_percent': 0.0,\n",
       " 'flx_recharg': 0.0,\n",
       " 'flx_storage': 0.0,\n",
       " 'flx_stream_': 0.0,\n",
       " 'flx_total': 0.0,\n",
       " 'flx_wells': 0.0,\n",
       " 'forecast': 0.0,\n",
       " 'pothead': 0.0,\n",
       " 'vol_constan': 0.0,\n",
       " 'vol_in-out': 0.0,\n",
       " 'vol_percent': 0.0,\n",
       " 'vol_recharg': 0.0,\n",
       " 'vol_storage': 0.0,\n",
       " 'vol_stream_': 0.0,\n",
       " 'vol_total': 0.0,\n",
       " 'vol_wells': 0.0}"
      ]
     },
     "execution_count": 35,
     "metadata": {},
     "output_type": "execute_result"
    }
   ],
   "source": [
    "inpst.phi_components"
   ]
  },
  {
   "cell_type": "code",
   "execution_count": 36,
   "metadata": {},
   "outputs": [
    {
     "name": "stdout",
     "output_type": "stream",
     "text": [
      "noptmax: 0\n"
     ]
    },
    {
     "name": "stderr",
     "output_type": "stream",
     "text": [
      "/Users/mnfienen/Documents/GIT/pyemu/pyemu/utils/helpers.py:1064: PyemuWarning: start_slaves has moved to pyemu.os_utils\n",
      "  warnings.warn(\"start_slaves has moved to pyemu.os_utils\",PyemuWarning)\n"
     ]
    }
   ],
   "source": [
    "if run_all_flag:\n",
    "    resurf.run_respsurf(par_names=['hk','rch_0'], pstfile=pst_name.replace('.pst','.r2.pst'))"
   ]
  },
  {
   "cell_type": "code",
   "execution_count": 37,
   "metadata": {},
   "outputs": [
    {
     "data": {
      "image/png": "[encoded data removed]",
      "text/plain": [
       "<Figure size 360x360 with 2 Axes>"
      ]
     },
     "metadata": {},
     "output_type": "display_data"
    }
   ],
   "source": [
    "resurf.plot_response_surface(parnames=['hk','rch_0'], pstfile=pst_name.replace('.pst','.r2.pst'));"
   ]
  },
  {
   "cell_type": "code",
   "execution_count": 38,
   "metadata": {},
   "outputs": [
    {
     "name": "stdout",
     "output_type": "stream",
     "text": [
      "noptmax: -1\n"
     ]
    }
   ],
   "source": [
    "inpst = pyemu.Pst(os.path.join(working_dir,pst_name.replace('.pst','.r2.pst')))\n",
    "inpst.parameter_data.loc['hk', 'parval1'] = 12\n",
    "inpst.parameter_data.loc['rch_0', 'parval1'] = 0.8\n",
    "\n",
    "inpst.control_data.noptmax =  -1\n",
    "inpst.write(os.path.join(working_dir,pst_name.replace('.pst','.r2.pst')))"
   ]
  },
  {
   "cell_type": "code",
   "execution_count": 39,
   "metadata": {},
   "outputs": [],
   "source": [
    "os.chdir(working_dir)\n",
    "pyemu.os_utils.run('pestpp {0}'.format(pst_name.replace('.pst','.r2.pst')))\n",
    "os.chdir('..')"
   ]
  },
  {
   "cell_type": "markdown",
   "metadata": {},
   "source": [
    "## Let's check out correlation again"
   ]
  },
  {
   "cell_type": "code",
   "execution_count": 40,
   "metadata": {},
   "outputs": [
    {
     "data": {
      "text/html": [
       "<div>\n",
       "<style scoped>\n",
       "    .dataframe tbody tr th:only-of-type {\n",
       "        vertical-align: middle;\n",
       "    }\n",
       "\n",
       "    .dataframe tbody tr th {\n",
       "        vertical-align: top;\n",
       "    }\n",
       "\n",
       "    .dataframe thead th {\n",
       "        text-align: right;\n",
       "    }\n",
       "</style>\n",
       "<table border=\"1\" class=\"dataframe\">\n",
       "  <thead>\n",
       "    <tr style=\"text-align: right;\">\n",
       "      <th></th>\n",
       "      <th>iteration</th>\n",
       "      <th>hk</th>\n",
       "      <th>porosity</th>\n",
       "      <th>rch_0</th>\n",
       "      <th>rch_1</th>\n",
       "    </tr>\n",
       "  </thead>\n",
       "  <tbody>\n",
       "    <tr>\n",
       "      <th>0</th>\n",
       "      <td>0</td>\n",
       "      <td>12</td>\n",
       "      <td>0.01</td>\n",
       "      <td>0.8</td>\n",
       "      <td>1</td>\n",
       "    </tr>\n",
       "  </tbody>\n",
       "</table>\n",
       "</div>"
      ],
      "text/plain": [
       "   iteration  hk  porosity  rch_0  rch_1\n",
       "0          0  12      0.01    0.8      1"
      ]
     },
     "execution_count": 40,
     "metadata": {},
     "output_type": "execute_result"
    }
   ],
   "source": [
    "pars = pd.read_csv(os.path.join(working_dir,pst_name.replace('.pst','.r2.ipar')))\n",
    "pars"
   ]
  },
  {
   "cell_type": "code",
   "execution_count": 41,
   "metadata": {},
   "outputs": [
    {
     "data": {
      "text/html": [
       "<div>\n",
       "<style scoped>\n",
       "    .dataframe tbody tr th:only-of-type {\n",
       "        vertical-align: middle;\n",
       "    }\n",
       "\n",
       "    .dataframe tbody tr th {\n",
       "        vertical-align: top;\n",
       "    }\n",
       "\n",
       "    .dataframe thead th {\n",
       "        text-align: right;\n",
       "    }\n",
       "</style>\n",
       "<table border=\"1\" class=\"dataframe\">\n",
       "  <thead>\n",
       "    <tr style=\"text-align: right;\">\n",
       "      <th></th>\n",
       "      <th>hk</th>\n",
       "      <th>rch_0</th>\n",
       "    </tr>\n",
       "  </thead>\n",
       "  <tbody>\n",
       "    <tr>\n",
       "      <th>hk</th>\n",
       "      <td>8476.688824</td>\n",
       "      <td>-11727.348148</td>\n",
       "    </tr>\n",
       "    <tr>\n",
       "      <th>rch_0</th>\n",
       "      <td>-11727.348148</td>\n",
       "      <td>16789.182104</td>\n",
       "    </tr>\n",
       "  </tbody>\n",
       "</table>\n",
       "</div>"
      ],
      "text/plain": [
       "                 hk         rch_0\n",
       "hk      8476.688824 -11727.348148\n",
       "rch_0 -11727.348148  16789.182104"
      ]
     },
     "execution_count": 41,
     "metadata": {},
     "output_type": "execute_result"
    }
   ],
   "source": [
    "sc = pyemu.Schur(os.path.join(working_dir,pst_name.replace('.pst','.r2.jcb')))\n",
    "covar = pyemu.Cov(sc.xtqx.x, names=sc.xtqx.row_names)\n",
    "covar.df()"
   ]
  },
  {
   "cell_type": "code",
   "execution_count": 42,
   "metadata": {},
   "outputs": [
    {
     "data": {
      "text/html": [
       "<div>\n",
       "<style scoped>\n",
       "    .dataframe tbody tr th:only-of-type {\n",
       "        vertical-align: middle;\n",
       "    }\n",
       "\n",
       "    .dataframe tbody tr th {\n",
       "        vertical-align: top;\n",
       "    }\n",
       "\n",
       "    .dataframe thead th {\n",
       "        text-align: right;\n",
       "    }\n",
       "</style>\n",
       "<table border=\"1\" class=\"dataframe\">\n",
       "  <thead>\n",
       "    <tr style=\"text-align: right;\">\n",
       "      <th></th>\n",
       "      <th>hk</th>\n",
       "      <th>rch_0</th>\n",
       "    </tr>\n",
       "  </thead>\n",
       "  <tbody>\n",
       "    <tr>\n",
       "      <th>hk</th>\n",
       "      <td>1.000000</td>\n",
       "      <td>-0.983042</td>\n",
       "    </tr>\n",
       "    <tr>\n",
       "      <th>rch_0</th>\n",
       "      <td>-0.983042</td>\n",
       "      <td>1.000000</td>\n",
       "    </tr>\n",
       "  </tbody>\n",
       "</table>\n",
       "</div>"
      ],
      "text/plain": [
       "             hk     rch_0\n",
       "hk     1.000000 -0.983042\n",
       "rch_0 -0.983042  1.000000"
      ]
     },
     "execution_count": 42,
     "metadata": {},
     "output_type": "execute_result"
    }
   ],
   "source": [
    "R = covar.to_pearson()\n",
    "R.df()"
   ]
  },
  {
   "cell_type": "markdown",
   "metadata": {
    "collapsed": true
   },
   "source": [
    "## Can we find a happy medium? Perhaps if we balance the components of the objective function"
   ]
  },
  {
   "cell_type": "code",
   "execution_count": 43,
   "metadata": {},
   "outputs": [
    {
     "name": "stdout",
     "output_type": "stream",
     "text": [
      "noptmax: 0\n"
     ]
    }
   ],
   "source": [
    "inpst.parameter_data.loc['rch_1','partrans']= 'fixed'\n",
    "inpst.observation_data.loc[inpst.observation_data.obgnme=='calflux','weight']=0.05\n",
    "inpst.control_data.noptmax=0\n",
    "inpst.write(os.path.join(working_dir,pst_name.replace('.pst','.r3.pst')))"
   ]
  },
  {
   "cell_type": "code",
   "execution_count": 44,
   "metadata": {},
   "outputs": [],
   "source": [
    "os.chdir(working_dir)\n",
    "pyemu.os_utils.run('pestpp {0}'.format(pst_name.replace('.pst','.r3.pst')))\n",
    "os.chdir('..')"
   ]
  },
  {
   "cell_type": "code",
   "execution_count": 45,
   "metadata": {},
   "outputs": [
    {
     "data": {
      "text/plain": [
       "{'calflux': 9882.3481000000029,\n",
       " 'calhead': 2137.6569795865717,\n",
       " 'flaqx': 0.0,\n",
       " 'flout': 0.0,\n",
       " 'flx_constan': 0.0,\n",
       " 'flx_in-out': 0.0,\n",
       " 'flx_percent': 0.0,\n",
       " 'flx_recharg': 0.0,\n",
       " 'flx_storage': 0.0,\n",
       " 'flx_stream_': 0.0,\n",
       " 'flx_total': 0.0,\n",
       " 'flx_wells': 0.0,\n",
       " 'forecast': 0.0,\n",
       " 'pothead': 0.0,\n",
       " 'vol_constan': 0.0,\n",
       " 'vol_in-out': 0.0,\n",
       " 'vol_percent': 0.0,\n",
       " 'vol_recharg': 0.0,\n",
       " 'vol_storage': 0.0,\n",
       " 'vol_stream_': 0.0,\n",
       " 'vol_total': 0.0,\n",
       " 'vol_wells': 0.0}"
      ]
     },
     "execution_count": 45,
     "metadata": {},
     "output_type": "execute_result"
    }
   ],
   "source": [
    "inpst.phi_components"
   ]
  },
  {
   "cell_type": "code",
   "execution_count": null,
   "metadata": {},
   "outputs": [],
   "source": []
  },
  {
   "cell_type": "code",
   "execution_count": 46,
   "metadata": {},
   "outputs": [
    {
     "name": "stdout",
     "output_type": "stream",
     "text": [
      "noptmax: 0\n"
     ]
    },
    {
     "name": "stderr",
     "output_type": "stream",
     "text": [
      "/Users/mnfienen/Documents/GIT/pyemu/pyemu/utils/helpers.py:1064: PyemuWarning: start_slaves has moved to pyemu.os_utils\n",
      "  warnings.warn(\"start_slaves has moved to pyemu.os_utils\",PyemuWarning)\n"
     ]
    }
   ],
   "source": [
    "if run_all_flag:\n",
    "    resurf.run_respsurf(par_names=['hk','rch_0'], pstfile=pst_name.replace('.pst','.r3.pst'))"
   ]
  },
  {
   "cell_type": "code",
   "execution_count": 47,
   "metadata": {},
   "outputs": [
    {
     "data": {
      "image/png": "[encoded data removed]",
      "text/plain": [
       "<Figure size 360x360 with 2 Axes>"
      ]
     },
     "metadata": {},
     "output_type": "display_data"
    }
   ],
   "source": [
    "resurf.plot_response_surface(parnames=['hk','rch_0'], pstfile=pst_name.replace('.pst','.r3.pst'));"
   ]
  },
  {
   "cell_type": "code",
   "execution_count": 48,
   "metadata": {},
   "outputs": [
    {
     "name": "stdout",
     "output_type": "stream",
     "text": [
      "noptmax: -1\n"
     ]
    }
   ],
   "source": [
    "inpst = pyemu.Pst(os.path.join(working_dir,pst_name.replace('.pst','.r3.pst')))\n",
    "inpst.parameter_data.loc['hk', 'parval1'] = 7\n",
    "inpst.parameter_data.loc['rch_0', 'parval1'] = 1.0\n",
    "inpst.parameter_data.loc['rch_0', 'parlbnd'] = 0.6\n",
    "\n",
    "\n",
    "inpst.control_data.noptmax =  -1\n",
    "inpst.write(os.path.join(working_dir,pst_name.replace('.pst','.r3.pst')))"
   ]
  },
  {
   "cell_type": "code",
   "execution_count": 49,
   "metadata": {},
   "outputs": [],
   "source": [
    "os.chdir(working_dir)\n",
    "pyemu.os_utils.run('pestpp {0}'.format(pst_name.replace('.pst','.r3.pst')))\n",
    "os.chdir('..')"
   ]
  },
  {
   "cell_type": "code",
   "execution_count": 50,
   "metadata": {},
   "outputs": [
    {
     "data": {
      "text/html": [
       "<div>\n",
       "<style scoped>\n",
       "    .dataframe tbody tr th:only-of-type {\n",
       "        vertical-align: middle;\n",
       "    }\n",
       "\n",
       "    .dataframe tbody tr th {\n",
       "        vertical-align: top;\n",
       "    }\n",
       "\n",
       "    .dataframe thead th {\n",
       "        text-align: right;\n",
       "    }\n",
       "</style>\n",
       "<table border=\"1\" class=\"dataframe\">\n",
       "  <thead>\n",
       "    <tr style=\"text-align: right;\">\n",
       "      <th></th>\n",
       "      <th>iteration</th>\n",
       "      <th>hk</th>\n",
       "      <th>porosity</th>\n",
       "      <th>rch_0</th>\n",
       "      <th>rch_1</th>\n",
       "    </tr>\n",
       "  </thead>\n",
       "  <tbody>\n",
       "    <tr>\n",
       "      <th>0</th>\n",
       "      <td>0</td>\n",
       "      <td>7</td>\n",
       "      <td>0.01</td>\n",
       "      <td>1</td>\n",
       "      <td>1</td>\n",
       "    </tr>\n",
       "  </tbody>\n",
       "</table>\n",
       "</div>"
      ],
      "text/plain": [
       "   iteration  hk  porosity  rch_0  rch_1\n",
       "0          0   7      0.01      1      1"
      ]
     },
     "execution_count": 50,
     "metadata": {},
     "output_type": "execute_result"
    }
   ],
   "source": [
    "pars = pd.read_csv(os.path.join(working_dir,pst_name.replace('.pst','.r3.ipar')))\n",
    "pars"
   ]
  },
  {
   "cell_type": "code",
   "execution_count": 51,
   "metadata": {},
   "outputs": [
    {
     "data": {
      "text/html": [
       "<div>\n",
       "<style scoped>\n",
       "    .dataframe tbody tr th:only-of-type {\n",
       "        vertical-align: middle;\n",
       "    }\n",
       "\n",
       "    .dataframe tbody tr th {\n",
       "        vertical-align: top;\n",
       "    }\n",
       "\n",
       "    .dataframe thead th {\n",
       "        text-align: right;\n",
       "    }\n",
       "</style>\n",
       "<table border=\"1\" class=\"dataframe\">\n",
       "  <thead>\n",
       "    <tr style=\"text-align: right;\">\n",
       "      <th></th>\n",
       "      <th>hk</th>\n",
       "      <th>rch_0</th>\n",
       "    </tr>\n",
       "  </thead>\n",
       "  <tbody>\n",
       "    <tr>\n",
       "      <th>hk</th>\n",
       "      <td>24981.358081</td>\n",
       "      <td>-72633.417063</td>\n",
       "    </tr>\n",
       "    <tr>\n",
       "      <th>rch_0</th>\n",
       "      <td>-72633.417063</td>\n",
       "      <td>395017.620100</td>\n",
       "    </tr>\n",
       "  </tbody>\n",
       "</table>\n",
       "</div>"
      ],
      "text/plain": [
       "                 hk          rch_0\n",
       "hk     24981.358081  -72633.417063\n",
       "rch_0 -72633.417063  395017.620100"
      ]
     },
     "execution_count": 51,
     "metadata": {},
     "output_type": "execute_result"
    }
   ],
   "source": [
    "sc = pyemu.Schur(os.path.join(working_dir,pst_name.replace('.pst','.r3.jcb')))\n",
    "covar = pyemu.Cov(sc.xtqx.x, names=sc.xtqx.row_names)\n",
    "covar.df()"
   ]
  },
  {
   "cell_type": "code",
   "execution_count": 52,
   "metadata": {},
   "outputs": [
    {
     "data": {
      "text/html": [
       "<div>\n",
       "<style scoped>\n",
       "    .dataframe tbody tr th:only-of-type {\n",
       "        vertical-align: middle;\n",
       "    }\n",
       "\n",
       "    .dataframe tbody tr th {\n",
       "        vertical-align: top;\n",
       "    }\n",
       "\n",
       "    .dataframe thead th {\n",
       "        text-align: right;\n",
       "    }\n",
       "</style>\n",
       "<table border=\"1\" class=\"dataframe\">\n",
       "  <thead>\n",
       "    <tr style=\"text-align: right;\">\n",
       "      <th></th>\n",
       "      <th>hk</th>\n",
       "      <th>rch_0</th>\n",
       "    </tr>\n",
       "  </thead>\n",
       "  <tbody>\n",
       "    <tr>\n",
       "      <th>hk</th>\n",
       "      <td>1.000000</td>\n",
       "      <td>-0.731173</td>\n",
       "    </tr>\n",
       "    <tr>\n",
       "      <th>rch_0</th>\n",
       "      <td>-0.731173</td>\n",
       "      <td>1.000000</td>\n",
       "    </tr>\n",
       "  </tbody>\n",
       "</table>\n",
       "</div>"
      ],
      "text/plain": [
       "             hk     rch_0\n",
       "hk     1.000000 -0.731173\n",
       "rch_0 -0.731173  1.000000"
      ]
     },
     "execution_count": 52,
     "metadata": {},
     "output_type": "execute_result"
    }
   ],
   "source": [
    "R = covar.to_pearson()\n",
    "R.df()"
   ]
  },
  {
   "cell_type": "code",
   "execution_count": null,
   "metadata": {},
   "outputs": [],
   "source": []
  }
 ],
 "metadata": {
  "anaconda-cloud": {},
  "kernelspec": {
   "display_name": "Python 3",
   "language": "python",
   "name": "python3"
  },
  "language_info": {
   "codemirror_mode": {
    "name": "ipython",
    "version": 3
   },
   "file_extension": ".py",
   "mimetype": "text/x-python",
   "name": "python",
   "nbconvert_exporter": "python",
   "pygments_lexer": "ipython3",
   "version": "3.6.6"
  }
 },
 "nbformat": 4,
 "nbformat_minor": 1
}
