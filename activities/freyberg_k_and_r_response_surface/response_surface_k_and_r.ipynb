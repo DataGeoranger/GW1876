{
 "cells": [
  {
   "cell_type": "code",
   "execution_count": 1,
   "metadata": {
    "collapsed": true
   },
   "outputs": [],
   "source": [
    "%matplotlib inline\n",
    "import os\n",
    "import sys\n",
    "sys.path.append('..')\n",
    "import shutil\n",
    "import numpy as np\n",
    "import pandas as pd\n",
    "import matplotlib.pyplot as plt\n",
    "import pyemu\n"
   ]
  },
  {
   "cell_type": "code",
   "execution_count": 2,
   "metadata": {},
   "outputs": [
    {
     "name": "stdout",
     "output_type": "stream",
     "text": [
      "['.DS_Store', 'botm.ref', 'extract_zone_array.py', 'forecasts_true.csv', 'freyberg.bas', 'freyberg.dbf', 'freyberg.dis', 'freyberg.hds', 'freyberg.heads', 'freyberg.heads_potobs.ins', 'freyberg.hyd', 'freyberg.list', 'freyberg.locations', 'freyberg.mpbas', 'freyberg.mpenpt', 'freyberg.mplist', 'freyberg.mpnam', 'freyberg.mppthln', 'freyberg.mpsim', 'freyberg.oc', 'freyberg.pcg', 'freyberg.rivflux', 'freyberg.shp', 'freyberg.shx', 'freyberg.travel', 'freyberg.truth.lpf', 'freyberg.truth.nam', 'freyberg.truth.rch', 'freyberg.truth.riv', 'freyberg.truth.wel', 'hk.truth.ref', 'hk.zones', 'ibound.ref', 'inschek', 'inschek.exe', 'kzone.ref', 'mf2005', 'mf2005.exe', 'mfnwt', 'mp6', 'mp6.exe', 'mpath.in', 'pest++.exe', 'pestchek', 'pestchek.exe', 'pestpp', 'potobs_group.csv', 'Process_output.py', 'really_noisy_heads.txt', 'run_true_model.py', 'strt.ref', 'sweep', 'sweep.exe', 'tempchek', 'tempchek.exe', 'Weights_and_best_PHI.xlsx']\n",
      "\n",
      "changing model workspace...\n",
      "   freyberg_kr\n",
      "WARNING: unit 31 of package UPW already in use\n",
      "warning: assuming SpatialReference units are meters\n",
      "FloPy is using the following executable to run the model: /Users/mnfienen/Documents/GIT/GW1876/activities/freyberg_k_and_r_response_surface/freyberg_kr/mfnwt\n",
      "\n",
      "                                  MODFLOW-NWT-SWR1 \n",
      "    U.S. GEOLOGICAL SURVEY MODULAR FINITE-DIFFERENCE GROUNDWATER-FLOW MODEL\n",
      "                             WITH NEWTON FORMULATION\n",
      "                             Version 1.1.1, 7/21/2016                        \n",
      "                    BASED ON MODFLOW-2005 Version 1.11.0 08/08/2013                       \n",
      "\n",
      "                    SWR1 Version 1.04.0 07/21/2016                       \n",
      "\n",
      " Using NAME file: freyberg.nam \n",
      " Run start date and time (yyyy/mm/dd hh:mm:ss): 2017/08/10 11:58:21\n",
      "\n",
      " Solving:  Stress period:     1    Time step:     1    Groundwater-Flow Eqn.\n",
      " Solving:  Stress period:     2    Time step:     1    Groundwater-Flow Eqn.\n",
      " Solving:  Stress period:     3    Time step:     1    Groundwater-Flow Eqn.\n",
      " Run end date and time (yyyy/mm/dd hh:mm:ss): 2017/08/10 11:58:21\n",
      " Elapsed run time:  0.033 Seconds\n",
      "\n",
      "  Normal termination of simulation\n",
      "Util2d:delr: resetting 'how' to external\n",
      "Util2d:delc: resetting 'how' to external\n",
      "Util2d:model_top: resetting 'how' to external\n",
      "Util2d:botm_layer_0: resetting 'how' to external\n",
      "Util2d:ibound_layer_0: resetting 'how' to external\n",
      "Util2d:strt_layer_0: resetting 'how' to external\n",
      "Util2d:rech_1: resetting 'how' to external\n",
      "Util2d:rech_2: resetting 'how' to external\n",
      "Util2d:rech_3: resetting 'how' to external\n",
      "Util2d:hk layer 1: resetting 'how' to external\n",
      "Util2d:vka: resetting 'how' to external\n",
      "Util2d:ss: resetting 'how' to external\n",
      "Util2d:ss: resetting 'how' to external\n",
      "warning: assuming SpatialReference units are meters\n",
      "FloPy is using the following executable to run the model: /Users/mnfienen/Documents/GIT/GW1876/activities/freyberg_k_and_r_response_surface/freyberg_kr/mfnwt\n",
      "\n",
      "                                  MODFLOW-NWT-SWR1 \n",
      "    U.S. GEOLOGICAL SURVEY MODULAR FINITE-DIFFERENCE GROUNDWATER-FLOW MODEL\n",
      "                             WITH NEWTON FORMULATION\n",
      "                             Version 1.1.1, 7/21/2016                        \n",
      "                    BASED ON MODFLOW-2005 Version 1.11.0 08/08/2013                       \n",
      "\n",
      "                    SWR1 Version 1.04.0 07/21/2016                       \n",
      "\n",
      " Using NAME file: freyberg.nam \n",
      " Run start date and time (yyyy/mm/dd hh:mm:ss): 2017/08/10 11:58:21\n",
      "\n",
      " Solving:  Stress period:     1    Time step:     1    Groundwater-Flow Eqn.\n",
      " Solving:  Stress period:     2    Time step:     1    Groundwater-Flow Eqn.\n",
      " Solving:  Stress period:     3    Time step:     1    Groundwater-Flow Eqn.\n",
      " Run end date and time (yyyy/mm/dd hh:mm:ss): 2017/08/10 11:58:21\n",
      " Elapsed run time:  0.026 Seconds\n",
      "\n",
      "  Normal termination of simulation\n",
      "Starting to read HYDMOD data from freyberg.hyd.bin\n",
      "Starting to read HYDMOD data from freyberg.hyd.bin.truth\n",
      "['rch', 'hk']\n"
     ]
    }
   ],
   "source": [
    "import freyberg_setup\n",
    "freyberg_setup.setup_pest_kr()\n",
    "working_dir = freyberg_setup.WORKING_DIR_KR\n",
    "pst_name = freyberg_setup.PST_NAME_KR"
   ]
  },
  {
   "cell_type": "markdown",
   "metadata": {},
   "source": [
    "## First read in the PST file and find what are the starting values for K and R"
   ]
  },
  {
   "cell_type": "code",
   "execution_count": 3,
   "metadata": {},
   "outputs": [
    {
     "data": {
      "text/html": [
       "<div>\n",
       "<style>\n",
       "    .dataframe thead tr:only-child th {\n",
       "        text-align: right;\n",
       "    }\n",
       "\n",
       "    .dataframe thead th {\n",
       "        text-align: left;\n",
       "    }\n",
       "\n",
       "    .dataframe tbody tr th {\n",
       "        vertical-align: top;\n",
       "    }\n",
       "</style>\n",
       "<table border=\"1\" class=\"dataframe\">\n",
       "  <thead>\n",
       "    <tr style=\"text-align: right;\">\n",
       "      <th></th>\n",
       "      <th>parnme</th>\n",
       "      <th>partrans</th>\n",
       "      <th>parchglim</th>\n",
       "      <th>parval1</th>\n",
       "      <th>parlbnd</th>\n",
       "      <th>parubnd</th>\n",
       "      <th>pargp</th>\n",
       "      <th>scale</th>\n",
       "      <th>offset</th>\n",
       "      <th>dercom</th>\n",
       "    </tr>\n",
       "    <tr>\n",
       "      <th>parnme</th>\n",
       "      <th></th>\n",
       "      <th></th>\n",
       "      <th></th>\n",
       "      <th></th>\n",
       "      <th></th>\n",
       "      <th></th>\n",
       "      <th></th>\n",
       "      <th></th>\n",
       "      <th></th>\n",
       "      <th></th>\n",
       "    </tr>\n",
       "  </thead>\n",
       "  <tbody>\n",
       "    <tr>\n",
       "      <th>rch_0</th>\n",
       "      <td>rch_0</td>\n",
       "      <td>log</td>\n",
       "      <td>factor</td>\n",
       "      <td>1.0</td>\n",
       "      <td>0.75</td>\n",
       "      <td>1.25</td>\n",
       "      <td>rch</td>\n",
       "      <td>1.0</td>\n",
       "      <td>0.0</td>\n",
       "      <td>1</td>\n",
       "    </tr>\n",
       "    <tr>\n",
       "      <th>rch_1</th>\n",
       "      <td>rch_1</td>\n",
       "      <td>log</td>\n",
       "      <td>factor</td>\n",
       "      <td>1.0</td>\n",
       "      <td>0.75</td>\n",
       "      <td>1.25</td>\n",
       "      <td>rch</td>\n",
       "      <td>1.0</td>\n",
       "      <td>0.0</td>\n",
       "      <td>1</td>\n",
       "    </tr>\n",
       "    <tr>\n",
       "      <th>hk</th>\n",
       "      <td>hk</td>\n",
       "      <td>log</td>\n",
       "      <td>factor</td>\n",
       "      <td>5.0</td>\n",
       "      <td>0.50</td>\n",
       "      <td>50.00</td>\n",
       "      <td>hk</td>\n",
       "      <td>1.0</td>\n",
       "      <td>0.0</td>\n",
       "      <td>1</td>\n",
       "    </tr>\n",
       "  </tbody>\n",
       "</table>\n",
       "</div>"
      ],
      "text/plain": [
       "       parnme partrans parchglim  parval1  parlbnd  parubnd pargp  scale  \\\n",
       "parnme                                                                     \n",
       "rch_0   rch_0      log    factor      1.0     0.75     1.25   rch    1.0   \n",
       "rch_1   rch_1      log    factor      1.0     0.75     1.25   rch    1.0   \n",
       "hk         hk      log    factor      5.0     0.50    50.00    hk    1.0   \n",
       "\n",
       "        offset  dercom  \n",
       "parnme                  \n",
       "rch_0      0.0       1  \n",
       "rch_1      0.0       1  \n",
       "hk         0.0       1  "
      ]
     },
     "execution_count": 3,
     "metadata": {},
     "output_type": "execute_result"
    }
   ],
   "source": [
    "inpst = pyemu.Pst(os.path.join(working_dir,pst_name))\n",
    "inpst.parameter_data"
   ]
  },
  {
   "cell_type": "code",
   "execution_count": 4,
   "metadata": {
    "collapsed": true
   },
   "outputs": [],
   "source": [
    "inpst.parameter_data.loc['rch_1','partrans']= 'fixed'\n",
    "inpst.observation_data.loc[inpst.observation_data.obgnme=='calflux','weight']=0.0\n",
    "inpst.control_data.noptmax=0\n",
    "inpst.write(os.path.join(working_dir,pst_name))"
   ]
  },
  {
   "cell_type": "code",
   "execution_count": 5,
   "metadata": {},
   "outputs": [],
   "source": [
    "os.chdir(working_dir)\n",
    "pyemu.helpers.run('pestpp {0}'.format(pst_name))\n",
    "os.chdir('..')"
   ]
  },
  {
   "cell_type": "code",
   "execution_count": 6,
   "metadata": {},
   "outputs": [
    {
     "data": {
      "text/plain": [
       "{'calflux': 0.0,\n",
       " 'calhead': 1207.9102985264117,\n",
       " 'flx_constan': 0.0,\n",
       " 'flx_in-out': 0.0,\n",
       " 'flx_percent': 0.0,\n",
       " 'flx_recharg': 0.0,\n",
       " 'flx_river_l': 0.0,\n",
       " 'flx_storage': 0.0,\n",
       " 'flx_total': 0.0,\n",
       " 'flx_wells': 0.0,\n",
       " 'foreflux': 0.0,\n",
       " 'forehead': 0.0,\n",
       " 'foretrav': 0.0,\n",
       " 'head': 0.0,\n",
       " 'pothead': 0.0,\n",
       " 'vol_constan': 0.0,\n",
       " 'vol_in-out': 0.0,\n",
       " 'vol_percent': 0.0,\n",
       " 'vol_recharg': 0.0,\n",
       " 'vol_river_l': 0.0,\n",
       " 'vol_storage': 0.0,\n",
       " 'vol_total': 0.0,\n",
       " 'vol_wells': 0.0}"
      ]
     },
     "execution_count": 6,
     "metadata": {},
     "output_type": "execute_result"
    }
   ],
   "source": [
    "inpst.phi_components"
   ]
  },
  {
   "cell_type": "markdown",
   "metadata": {},
   "source": [
    "## We can import a function to explore a range of K and R values to make a response surface"
   ]
  },
  {
   "cell_type": "code",
   "execution_count": 7,
   "metadata": {},
   "outputs": [],
   "source": [
    "import freyberg_response_surface as resurf"
   ]
  },
  {
   "cell_type": "markdown",
   "metadata": {},
   "source": [
    "## First we should write out the control file with new bounds to bracket where values will be explored\n",
    "\n",
    "## `rch_0` already spans the bounds we want, but `hk` is too wide"
   ]
  },
  {
   "cell_type": "code",
   "execution_count": 8,
   "metadata": {},
   "outputs": [],
   "source": [
    "inpst = pyemu.Pst(os.path.join(working_dir,pst_name))\n",
    "par = inpst.parameter_data\n",
    "\n",
    "par.loc['hk', 'parlbnd'] = 3\n",
    "par.loc['hk', 'parubnd'] = 12\n",
    "\n",
    "inpst.write(os.path.join(working_dir,pst_name))"
   ]
  },
  {
   "cell_type": "markdown",
   "metadata": {},
   "source": [
    "## Run the `run_respsurf` function to calculate the response surface"
   ]
  },
  {
   "cell_type": "code",
   "execution_count": 9,
   "metadata": {
    "collapsed": true
   },
   "outputs": [],
   "source": [
    "resurf.run_respsurf(par_names=['hk','rch_0'], pstfile=pst_name)"
   ]
  },
  {
   "cell_type": "code",
   "execution_count": 10,
   "metadata": {},
   "outputs": [
    {
     "data": {
      "image/png": "[encoded data removed]",
      "text/plain": [
       "<matplotlib.figure.Figure at 0x117625550>"
      ]
     },
     "metadata": {},
     "output_type": "display_data"
    }
   ],
   "source": [
    "resurf.plot_response_surface(parnames=['hk','rch_0'], pstfile=pst_name);"
   ]
  },
  {
   "cell_type": "code",
   "execution_count": 77,
   "metadata": {
    "collapsed": true
   },
   "outputs": [],
   "source": [
    "inpst = pyemu.Pst(os.path.join(working_dir,pst_name))\n",
    "inpst.parameter_data.loc['hk', 'parval1'] = 12\n",
    "inpst.parameter_data.loc['rch_0', 'parval1'] = 0.8\n",
    "\n",
    "inpst.control_data.noptmax =  -1\n",
    "inpst.write(os.path.join(working_dir,pst_name))"
   ]
  },
  {
   "cell_type": "code",
   "execution_count": 78,
   "metadata": {
    "collapsed": true
   },
   "outputs": [],
   "source": [
    "os.chdir(working_dir)\n",
    "pyemu.helpers.run('pestpp {0}'.format(pst_name))\n",
    "os.chdir('..')"
   ]
  },
  {
   "cell_type": "markdown",
   "metadata": {},
   "source": [
    "### Now let's run PEST++ and see what we get for an estimate of the parameters\n",
    " * set NOPTMAX=-1\n",
    " * run PEST++"
   ]
  },
  {
   "cell_type": "code",
   "execution_count": 79,
   "metadata": {},
   "outputs": [
    {
     "data": {
      "text/html": [
       "<div>\n",
       "<style>\n",
       "    .dataframe thead tr:only-child th {\n",
       "        text-align: right;\n",
       "    }\n",
       "\n",
       "    .dataframe thead th {\n",
       "        text-align: left;\n",
       "    }\n",
       "\n",
       "    .dataframe tbody tr th {\n",
       "        vertical-align: top;\n",
       "    }\n",
       "</style>\n",
       "<table border=\"1\" class=\"dataframe\">\n",
       "  <thead>\n",
       "    <tr style=\"text-align: right;\">\n",
       "      <th></th>\n",
       "      <th>iteration</th>\n",
       "      <th>rch_0</th>\n",
       "      <th>rch_1</th>\n",
       "      <th>hk</th>\n",
       "    </tr>\n",
       "  </thead>\n",
       "  <tbody>\n",
       "    <tr>\n",
       "      <th>0</th>\n",
       "      <td>0</td>\n",
       "      <td>0.8</td>\n",
       "      <td>1</td>\n",
       "      <td>12</td>\n",
       "    </tr>\n",
       "  </tbody>\n",
       "</table>\n",
       "</div>"
      ],
      "text/plain": [
       "   iteration  rch_0  rch_1  hk\n",
       "0          0    0.8      1  12"
      ]
     },
     "execution_count": 79,
     "metadata": {},
     "output_type": "execute_result"
    }
   ],
   "source": [
    "pars = pd.read_csv(os.path.join(working_dir,pst_name.replace('.pst','.ipar')))\n",
    "pars"
   ]
  },
  {
   "cell_type": "code",
   "execution_count": 80,
   "metadata": {},
   "outputs": [
    {
     "data": {
      "text/html": [
       "<div>\n",
       "<style>\n",
       "    .dataframe thead tr:only-child th {\n",
       "        text-align: right;\n",
       "    }\n",
       "\n",
       "    .dataframe thead th {\n",
       "        text-align: left;\n",
       "    }\n",
       "\n",
       "    .dataframe tbody tr th {\n",
       "        vertical-align: top;\n",
       "    }\n",
       "</style>\n",
       "<table border=\"1\" class=\"dataframe\">\n",
       "  <thead>\n",
       "    <tr style=\"text-align: right;\">\n",
       "      <th></th>\n",
       "      <th>rch_0</th>\n",
       "      <th>hk</th>\n",
       "    </tr>\n",
       "  </thead>\n",
       "  <tbody>\n",
       "    <tr>\n",
       "      <th>rch_0</th>\n",
       "      <td>8258.693688</td>\n",
       "      <td>-7221.924547</td>\n",
       "    </tr>\n",
       "    <tr>\n",
       "      <th>hk</th>\n",
       "      <td>-7221.924547</td>\n",
       "      <td>6412.128032</td>\n",
       "    </tr>\n",
       "  </tbody>\n",
       "</table>\n",
       "</div>"
      ],
      "text/plain": [
       "             rch_0           hk\n",
       "rch_0  8258.693688 -7221.924547\n",
       "hk    -7221.924547  6412.128032"
      ]
     },
     "execution_count": 80,
     "metadata": {},
     "output_type": "execute_result"
    }
   ],
   "source": [
    "sc = pyemu.Schur(os.path.join(working_dir,pst_name.replace('.pst','.jcb')))\n",
    "covar = pyemu.Cov(sc.xtqx.x, names=sc.xtqx.row_names)\n",
    "covar.df()"
   ]
  },
  {
   "cell_type": "code",
   "execution_count": 81,
   "metadata": {},
   "outputs": [
    {
     "data": {
      "text/html": [
       "<div>\n",
       "<style>\n",
       "    .dataframe thead tr:only-child th {\n",
       "        text-align: right;\n",
       "    }\n",
       "\n",
       "    .dataframe thead th {\n",
       "        text-align: left;\n",
       "    }\n",
       "\n",
       "    .dataframe tbody tr th {\n",
       "        vertical-align: top;\n",
       "    }\n",
       "</style>\n",
       "<table border=\"1\" class=\"dataframe\">\n",
       "  <thead>\n",
       "    <tr style=\"text-align: right;\">\n",
       "      <th></th>\n",
       "      <th>rch_0</th>\n",
       "      <th>hk</th>\n",
       "    </tr>\n",
       "  </thead>\n",
       "  <tbody>\n",
       "    <tr>\n",
       "      <th>rch_0</th>\n",
       "      <td>1.000000</td>\n",
       "      <td>-0.992422</td>\n",
       "    </tr>\n",
       "    <tr>\n",
       "      <th>hk</th>\n",
       "      <td>-0.992422</td>\n",
       "      <td>1.000000</td>\n",
       "    </tr>\n",
       "  </tbody>\n",
       "</table>\n",
       "</div>"
      ],
      "text/plain": [
       "          rch_0        hk\n",
       "rch_0  1.000000 -0.992422\n",
       "hk    -0.992422  1.000000"
      ]
     },
     "execution_count": 81,
     "metadata": {},
     "output_type": "execute_result"
    }
   ],
   "source": [
    "R = covar.to_pearson()\n",
    "R.df()"
   ]
  },
  {
   "cell_type": "code",
   "execution_count": 89,
   "metadata": {},
   "outputs": [
    {
     "data": {
      "text/html": [
       "<div>\n",
       "<style>\n",
       "    .dataframe thead tr:only-child th {\n",
       "        text-align: right;\n",
       "    }\n",
       "\n",
       "    .dataframe thead th {\n",
       "        text-align: left;\n",
       "    }\n",
       "\n",
       "    .dataframe tbody tr th {\n",
       "        vertical-align: top;\n",
       "    }\n",
       "</style>\n",
       "<table border=\"1\" class=\"dataframe\">\n",
       "  <thead>\n",
       "    <tr style=\"text-align: right;\">\n",
       "      <th></th>\n",
       "      <th>rch_0</th>\n",
       "      <th>hk</th>\n",
       "    </tr>\n",
       "  </thead>\n",
       "  <tbody>\n",
       "    <tr>\n",
       "      <th>cr03c16_19700102</th>\n",
       "      <td>0.886282</td>\n",
       "      <td>-0.600416</td>\n",
       "    </tr>\n",
       "    <tr>\n",
       "      <th>cr03c10_19700102</th>\n",
       "      <td>4.067717</td>\n",
       "      <td>-3.766799</td>\n",
       "    </tr>\n",
       "    <tr>\n",
       "      <th>cr04c9_19700102</th>\n",
       "      <td>4.873227</td>\n",
       "      <td>-4.500495</td>\n",
       "    </tr>\n",
       "    <tr>\n",
       "      <th>cr10c2_19700102</th>\n",
       "      <td>12.275978</td>\n",
       "      <td>-11.781516</td>\n",
       "    </tr>\n",
       "    <tr>\n",
       "      <th>cr14c11_19700102</th>\n",
       "      <td>1.865253</td>\n",
       "      <td>-1.207386</td>\n",
       "    </tr>\n",
       "    <tr>\n",
       "      <th>cr16c17_19700102</th>\n",
       "      <td>1.151990</td>\n",
       "      <td>-0.965734</td>\n",
       "    </tr>\n",
       "    <tr>\n",
       "      <th>cr22c11_19700102</th>\n",
       "      <td>2.721080</td>\n",
       "      <td>-1.950695</td>\n",
       "    </tr>\n",
       "    <tr>\n",
       "      <th>cr23c16_19700102</th>\n",
       "      <td>0.913427</td>\n",
       "      <td>-0.835731</td>\n",
       "    </tr>\n",
       "    <tr>\n",
       "      <th>cr25c5_19700102</th>\n",
       "      <td>8.089972</td>\n",
       "      <td>-6.679732</td>\n",
       "    </tr>\n",
       "    <tr>\n",
       "      <th>cr27c7_19700102</th>\n",
       "      <td>6.398180</td>\n",
       "      <td>-4.878923</td>\n",
       "    </tr>\n",
       "    <tr>\n",
       "      <th>cr30c16_19700102</th>\n",
       "      <td>0.941895</td>\n",
       "      <td>-0.863043</td>\n",
       "    </tr>\n",
       "    <tr>\n",
       "      <th>cr34c8_19700102</th>\n",
       "      <td>3.786340</td>\n",
       "      <td>-2.498891</td>\n",
       "    </tr>\n",
       "    <tr>\n",
       "      <th>cr35c11_19700102</th>\n",
       "      <td>1.978686</td>\n",
       "      <td>-0.755763</td>\n",
       "    </tr>\n",
       "  </tbody>\n",
       "</table>\n",
       "</div>"
      ],
      "text/plain": [
       "                      rch_0         hk\n",
       "cr03c16_19700102   0.886282  -0.600416\n",
       "cr03c10_19700102   4.067717  -3.766799\n",
       "cr04c9_19700102    4.873227  -4.500495\n",
       "cr10c2_19700102   12.275978 -11.781516\n",
       "cr14c11_19700102   1.865253  -1.207386\n",
       "cr16c17_19700102   1.151990  -0.965734\n",
       "cr22c11_19700102   2.721080  -1.950695\n",
       "cr23c16_19700102   0.913427  -0.835731\n",
       "cr25c5_19700102    8.089972  -6.679732\n",
       "cr27c7_19700102    6.398180  -4.878923\n",
       "cr30c16_19700102   0.941895  -0.863043\n",
       "cr34c8_19700102    3.786340  -2.498891\n",
       "cr35c11_19700102   1.978686  -0.755763"
      ]
     },
     "execution_count": 89,
     "metadata": {},
     "output_type": "execute_result"
    }
   ],
   "source": [
    "sc.jco.to_dataframe().loc[inpst.nnz_obs_names]"
   ]
  },
  {
   "cell_type": "markdown",
   "metadata": {},
   "source": [
    "# What if we also have a calibration flux observation?\n",
    "\n",
    "We can set this up by simply assigning non-zero weight to the observation in the group called `calflux`\n",
    "\n",
    "We'll read in the PST file, change just that one value and write out a new PST file."
   ]
  },
  {
   "cell_type": "code",
   "execution_count": 16,
   "metadata": {
    "collapsed": true
   },
   "outputs": [],
   "source": [
    "inpst = pyemu.Pst(os.path.join(working_dir,pst_name))"
   ]
  },
  {
   "cell_type": "code",
   "execution_count": 17,
   "metadata": {},
   "outputs": [
    {
     "data": {
      "text/html": [
       "<div>\n",
       "<style>\n",
       "    .dataframe thead tr:only-child th {\n",
       "        text-align: right;\n",
       "    }\n",
       "\n",
       "    .dataframe thead th {\n",
       "        text-align: left;\n",
       "    }\n",
       "\n",
       "    .dataframe tbody tr th {\n",
       "        vertical-align: top;\n",
       "    }\n",
       "</style>\n",
       "<table border=\"1\" class=\"dataframe\">\n",
       "  <thead>\n",
       "    <tr style=\"text-align: right;\">\n",
       "      <th></th>\n",
       "      <th>parnme</th>\n",
       "      <th>partrans</th>\n",
       "      <th>parchglim</th>\n",
       "      <th>parval1</th>\n",
       "      <th>parlbnd</th>\n",
       "      <th>parubnd</th>\n",
       "      <th>pargp</th>\n",
       "      <th>scale</th>\n",
       "      <th>offset</th>\n",
       "      <th>dercom</th>\n",
       "    </tr>\n",
       "    <tr>\n",
       "      <th>parnme</th>\n",
       "      <th></th>\n",
       "      <th></th>\n",
       "      <th></th>\n",
       "      <th></th>\n",
       "      <th></th>\n",
       "      <th></th>\n",
       "      <th></th>\n",
       "      <th></th>\n",
       "      <th></th>\n",
       "      <th></th>\n",
       "    </tr>\n",
       "  </thead>\n",
       "  <tbody>\n",
       "    <tr>\n",
       "      <th>rch_0</th>\n",
       "      <td>rch_0</td>\n",
       "      <td>log</td>\n",
       "      <td>factor</td>\n",
       "      <td>1.0</td>\n",
       "      <td>0.75</td>\n",
       "      <td>1.25</td>\n",
       "      <td>rch</td>\n",
       "      <td>1.0</td>\n",
       "      <td>0.0</td>\n",
       "      <td>1</td>\n",
       "    </tr>\n",
       "    <tr>\n",
       "      <th>rch_1</th>\n",
       "      <td>rch_1</td>\n",
       "      <td>fixed</td>\n",
       "      <td>factor</td>\n",
       "      <td>1.0</td>\n",
       "      <td>0.75</td>\n",
       "      <td>1.25</td>\n",
       "      <td>rch</td>\n",
       "      <td>1.0</td>\n",
       "      <td>0.0</td>\n",
       "      <td>1</td>\n",
       "    </tr>\n",
       "    <tr>\n",
       "      <th>hk</th>\n",
       "      <td>hk</td>\n",
       "      <td>log</td>\n",
       "      <td>factor</td>\n",
       "      <td>5.0</td>\n",
       "      <td>3.00</td>\n",
       "      <td>12.00</td>\n",
       "      <td>hk</td>\n",
       "      <td>1.0</td>\n",
       "      <td>0.0</td>\n",
       "      <td>1</td>\n",
       "    </tr>\n",
       "  </tbody>\n",
       "</table>\n",
       "</div>"
      ],
      "text/plain": [
       "       parnme partrans parchglim  parval1  parlbnd  parubnd pargp  scale  \\\n",
       "parnme                                                                     \n",
       "rch_0   rch_0      log    factor      1.0     0.75     1.25   rch    1.0   \n",
       "rch_1   rch_1    fixed    factor      1.0     0.75     1.25   rch    1.0   \n",
       "hk         hk      log    factor      5.0     3.00    12.00    hk    1.0   \n",
       "\n",
       "        offset  dercom  \n",
       "parnme                  \n",
       "rch_0      0.0       1  \n",
       "rch_1      0.0       1  \n",
       "hk         0.0       1  "
      ]
     },
     "execution_count": 17,
     "metadata": {},
     "output_type": "execute_result"
    }
   ],
   "source": [
    "inpst.parameter_data"
   ]
  },
  {
   "cell_type": "code",
   "execution_count": 18,
   "metadata": {
    "collapsed": true
   },
   "outputs": [],
   "source": [
    "inpst.parameter_data.loc['rch_1','partrans']= 'fixed'\n",
    "inpst.observation_data.loc[inpst.observation_data.obgnme=='calflux','weight']=10\n",
    "inpst.control_data.noptmax=0\n",
    "inpst.write(os.path.join(working_dir,pst_name.replace('.pst','.r1.pst')))"
   ]
  },
  {
   "cell_type": "code",
   "execution_count": 19,
   "metadata": {},
   "outputs": [],
   "source": [
    "os.chdir(working_dir)\n",
    "pyemu.helpers.run('pestpp {0}'.format(pst_name.replace('.pst','.r1.pst')))\n",
    "os.chdir('..')"
   ]
  },
  {
   "cell_type": "code",
   "execution_count": 20,
   "metadata": {},
   "outputs": [
    {
     "data": {
      "text/plain": [
       "{'calflux': 900221.44,\n",
       " 'calhead': 1207.9102985264117,\n",
       " 'flx_constan': 0.0,\n",
       " 'flx_in-out': 0.0,\n",
       " 'flx_percent': 0.0,\n",
       " 'flx_recharg': 0.0,\n",
       " 'flx_river_l': 0.0,\n",
       " 'flx_storage': 0.0,\n",
       " 'flx_total': 0.0,\n",
       " 'flx_wells': 0.0,\n",
       " 'foreflux': 0.0,\n",
       " 'forehead': 0.0,\n",
       " 'foretrav': 0.0,\n",
       " 'head': 0.0,\n",
       " 'pothead': 0.0,\n",
       " 'vol_constan': 0.0,\n",
       " 'vol_in-out': 0.0,\n",
       " 'vol_percent': 0.0,\n",
       " 'vol_recharg': 0.0,\n",
       " 'vol_river_l': 0.0,\n",
       " 'vol_storage': 0.0,\n",
       " 'vol_total': 0.0,\n",
       " 'vol_wells': 0.0}"
      ]
     },
     "execution_count": 20,
     "metadata": {},
     "output_type": "execute_result"
    }
   ],
   "source": [
    "inpst.phi_components"
   ]
  },
  {
   "cell_type": "code",
   "execution_count": 21,
   "metadata": {
    "collapsed": true
   },
   "outputs": [],
   "source": [
    "resurf.run_respsurf(par_names=['hk','rch_0'], pstfile=pst_name.replace('.pst','.r1.pst'))"
   ]
  },
  {
   "cell_type": "code",
   "execution_count": 23,
   "metadata": {
    "scrolled": false
   },
   "outputs": [
    {
     "data": {
      "image/png": "[encoded data removed]",
      "text/plain": [
       "<matplotlib.figure.Figure at 0x117f3b9b0>"
      ]
     },
     "metadata": {},
     "output_type": "display_data"
    }
   ],
   "source": [
    "resurf.plot_response_surface(parnames=['hk','rch_0'], pstfile=pst_name.replace('.pst','.r1.pst'));"
   ]
  },
  {
   "cell_type": "code",
   "execution_count": 73,
   "metadata": {},
   "outputs": [],
   "source": [
    "def plot_response_surface(parnames, pstfile):\n",
    "    p1,p2 = parnames\n",
    "    df_in = pd.read_csv(os.path.join(working_dir, pstfile.replace('.pst',\"sweep_in.csv\")))\n",
    "    df_out = pd.read_csv(os.path.join(working_dir, pstfile.replace('.pst',\"sweep_out.csv\")))\n",
    "    resp_surf = np.zeros((10, 10))\n",
    "    p1_values = df_in[p1].unique()\n",
    "    p2_values = df_in[p2].unique()\n",
    "    c = 0\n",
    "    for i, v1 in enumerate(p1_values):\n",
    "        for j, v2 in enumerate(p2_values):\n",
    "            resp_surf[j, i] = df_out.loc[c, \"phi\"]\n",
    "            c += 1\n",
    "    fig = plt.figure(figsize=(5,5))\n",
    "    ax = plt.subplot(111)\n",
    "    X, Y = np.meshgrid(p1_values, p2_values)\n",
    "    #resp_surf = np.ma.masked_where(resp_surf > 5, resp_surf)\n",
    "    p = ax.pcolor(X, Y, resp_surf, alpha=0.5, cmap=\"nipy_spectral\")\n",
    "    plt.colorbar(p)\n",
    "    c = ax.contour(X, Y, resp_surf, levels=[0.1, 0.2, 0.5, 1, 2, 5], colors='k')\n",
    "    plt.clabel(c)\n",
    "    ax.set_xlim(p1_values.min(), p1_values.max())\n",
    "    ax.set_ylim(p2_values.max(), p2_values.min())\n",
    "    ax.set_xlabel(p1)\n",
    "    ax.set_ylabel(p2)\n",
    "    return resp_surf, X, Y, p1_values, p2_values"
   ]
  },
  {
   "cell_type": "code",
   "execution_count": 76,
   "metadata": {},
   "outputs": [
    {
     "data": {
      "text/plain": [
       "array([[ 0.75      ,  0.75      ,  0.75      ,  0.75      ,  0.75      ,\n",
       "         0.75      ,  0.75      ,  0.75      ,  0.75      ,  0.75      ],\n",
       "       [ 0.80555556,  0.80555556,  0.80555556,  0.80555556,  0.80555556,\n",
       "         0.80555556,  0.80555556,  0.80555556,  0.80555556,  0.80555556],\n",
       "       [ 0.86111111,  0.86111111,  0.86111111,  0.86111111,  0.86111111,\n",
       "         0.86111111,  0.86111111,  0.86111111,  0.86111111,  0.86111111],\n",
       "       [ 0.91666667,  0.91666667,  0.91666667,  0.91666667,  0.91666667,\n",
       "         0.91666667,  0.91666667,  0.91666667,  0.91666667,  0.91666667],\n",
       "       [ 0.97222222,  0.97222222,  0.97222222,  0.97222222,  0.97222222,\n",
       "         0.97222222,  0.97222222,  0.97222222,  0.97222222,  0.97222222],\n",
       "       [ 1.02777778,  1.02777778,  1.02777778,  1.02777778,  1.02777778,\n",
       "         1.02777778,  1.02777778,  1.02777778,  1.02777778,  1.02777778],\n",
       "       [ 1.08333333,  1.08333333,  1.08333333,  1.08333333,  1.08333333,\n",
       "         1.08333333,  1.08333333,  1.08333333,  1.08333333,  1.08333333],\n",
       "       [ 1.13888889,  1.13888889,  1.13888889,  1.13888889,  1.13888889,\n",
       "         1.13888889,  1.13888889,  1.13888889,  1.13888889,  1.13888889],\n",
       "       [ 1.19444444,  1.19444444,  1.19444444,  1.19444444,  1.19444444,\n",
       "         1.19444444,  1.19444444,  1.19444444,  1.19444444,  1.19444444],\n",
       "       [ 1.25      ,  1.25      ,  1.25      ,  1.25      ,  1.25      ,\n",
       "         1.25      ,  1.25      ,  1.25      ,  1.25      ,  1.25      ]])"
      ]
     },
     "execution_count": 76,
     "metadata": {},
     "output_type": "execute_result"
    }
   ],
   "source": [
    "Y\n"
   ]
  },
  {
   "cell_type": "code",
   "execution_count": 75,
   "metadata": {},
   "outputs": [
    {
     "data": {
      "image/png": "[encoded data removed]",
      "text/plain": [
       "<matplotlib.figure.Figure at 0x117817a20>"
      ]
     },
     "metadata": {},
     "output_type": "display_data"
    }
   ],
   "source": [
    "resp_surf, X, Y, p1_values, p2_values=plot_response_surface(parnames=['hk','rch_0'], pstfile=pst_name.replace('.pst','.r1.pst'))"
   ]
  },
  {
   "cell_type": "code",
   "execution_count": 56,
   "metadata": {},
   "outputs": [
    {
     "data": {
      "image/png": "[encoded data removed]",
      "text/plain": [
       "<matplotlib.figure.Figure at 0x11840edd8>"
      ]
     },
     "metadata": {},
     "output_type": "display_data"
    }
   ],
   "source": [
    "resp_surf, X, Y, p1_values, p2_values=plot_response_surface(parnames=['hk','rch_0'], pstfile=pst_name)"
   ]
  },
  {
   "cell_type": "code",
   "execution_count": null,
   "metadata": {
    "collapsed": true
   },
   "outputs": [],
   "source": []
  },
  {
   "cell_type": "code",
   "execution_count": null,
   "metadata": {
    "collapsed": true
   },
   "outputs": [],
   "source": []
  },
  {
   "cell_type": "code",
   "execution_count": null,
   "metadata": {
    "collapsed": true
   },
   "outputs": [],
   "source": []
  },
  {
   "cell_type": "code",
   "execution_count": 67,
   "metadata": {},
   "outputs": [
    {
     "data": {
      "text/html": [
       "<div>\n",
       "<table border=\"1\" class=\"dataframe\">\n",
       "  <thead>\n",
       "    <tr style=\"text-align: right;\">\n",
       "      <th></th>\n",
       "      <th>parnme</th>\n",
       "      <th>partrans</th>\n",
       "      <th>parchglim</th>\n",
       "      <th>parval1</th>\n",
       "      <th>parlbnd</th>\n",
       "      <th>parubnd</th>\n",
       "      <th>pargp</th>\n",
       "      <th>scale</th>\n",
       "      <th>offset</th>\n",
       "      <th>dercom</th>\n",
       "    </tr>\n",
       "    <tr>\n",
       "      <th>parnme</th>\n",
       "      <th></th>\n",
       "      <th></th>\n",
       "      <th></th>\n",
       "      <th></th>\n",
       "      <th></th>\n",
       "      <th></th>\n",
       "      <th></th>\n",
       "      <th></th>\n",
       "      <th></th>\n",
       "      <th></th>\n",
       "    </tr>\n",
       "  </thead>\n",
       "  <tbody>\n",
       "    <tr>\n",
       "      <th>rch1</th>\n",
       "      <td>rch1</td>\n",
       "      <td>log</td>\n",
       "      <td>factor</td>\n",
       "      <td>0.000110</td>\n",
       "      <td>0.000079</td>\n",
       "      <td>0.000155</td>\n",
       "      <td>rch</td>\n",
       "      <td>1.0</td>\n",
       "      <td>0.0</td>\n",
       "      <td>1</td>\n",
       "    </tr>\n",
       "    <tr>\n",
       "      <th>rch2</th>\n",
       "      <td>rch2</td>\n",
       "      <td>fixed</td>\n",
       "      <td>factor</td>\n",
       "      <td>0.000094</td>\n",
       "      <td>0.000079</td>\n",
       "      <td>0.000155</td>\n",
       "      <td>rch</td>\n",
       "      <td>1.0</td>\n",
       "      <td>0.0</td>\n",
       "      <td>1</td>\n",
       "    </tr>\n",
       "    <tr>\n",
       "      <th>hk1</th>\n",
       "      <td>hk1</td>\n",
       "      <td>log</td>\n",
       "      <td>factor</td>\n",
       "      <td>8.000000</td>\n",
       "      <td>1.250000</td>\n",
       "      <td>80.000000</td>\n",
       "      <td>hk</td>\n",
       "      <td>1.0</td>\n",
       "      <td>0.0</td>\n",
       "      <td>1</td>\n",
       "    </tr>\n",
       "  </tbody>\n",
       "</table>\n",
       "</div>"
      ],
      "text/plain": [
       "       parnme partrans parchglim   parval1   parlbnd    parubnd pargp  scale  \\\n",
       "parnme                                                                         \n",
       "rch1     rch1      log    factor  0.000110  0.000079   0.000155   rch    1.0   \n",
       "rch2     rch2    fixed    factor  0.000094  0.000079   0.000155   rch    1.0   \n",
       "hk1       hk1      log    factor  8.000000  1.250000  80.000000    hk    1.0   \n",
       "\n",
       "        offset  dercom  \n",
       "parnme                  \n",
       "rch1       0.0       1  \n",
       "rch2       0.0       1  \n",
       "hk1        0.0       1  "
      ]
     },
     "execution_count": 67,
     "metadata": {},
     "output_type": "execute_result"
    }
   ],
   "source": [
    "pst0p1.parameter_data"
   ]
  },
  {
   "cell_type": "code",
   "execution_count": 68,
   "metadata": {},
   "outputs": [
    {
     "data": {
      "text/plain": [
       "'base_resp_dir\\\\freyberg_w_flux0p1.pst'"
      ]
     },
     "execution_count": 68,
     "metadata": {},
     "output_type": "execute_result"
    }
   ],
   "source": [
    "pst0p1.control_data.noptmax=-1\n",
    "pst0p1.parameter_data.loc['rch1','partrans']= 'log'\n",
    "pst0p1.write('freyberg_w_flux0p1.pst')\n",
    "shutil.copy2('freyberg_w_flux0p1.pst',os.path.join('base_resp_dir','freyberg_w_flux0p1.pst'))"
   ]
  },
  {
   "cell_type": "code",
   "execution_count": 69,
   "metadata": {},
   "outputs": [
    {
     "data": {
      "text/plain": [
       "0"
      ]
     },
     "execution_count": 69,
     "metadata": {},
     "output_type": "execute_result"
    }
   ],
   "source": [
    "os.system('{0} freyberg_w_flux0p1.pst'.format(ppp))"
   ]
  },
  {
   "cell_type": "markdown",
   "metadata": {},
   "source": [
    "### We can look at the final parameter values and their correlation"
   ]
  },
  {
   "cell_type": "code",
   "execution_count": 70,
   "metadata": {},
   "outputs": [
    {
     "data": {
      "text/html": [
       "<div>\n",
       "<table border=\"1\" class=\"dataframe\">\n",
       "  <thead>\n",
       "    <tr style=\"text-align: right;\">\n",
       "      <th></th>\n",
       "      <th>iteration</th>\n",
       "      <th>rch1</th>\n",
       "      <th>rch2</th>\n",
       "      <th>hk1</th>\n",
       "    </tr>\n",
       "  </thead>\n",
       "  <tbody>\n",
       "    <tr>\n",
       "      <th>0</th>\n",
       "      <td>0</td>\n",
       "      <td>0.00011</td>\n",
       "      <td>0.000094</td>\n",
       "      <td>8</td>\n",
       "    </tr>\n",
       "  </tbody>\n",
       "</table>\n",
       "</div>"
      ],
      "text/plain": [
       "   iteration     rch1      rch2  hk1\n",
       "0          0  0.00011  0.000094    8"
      ]
     },
     "execution_count": 70,
     "metadata": {},
     "output_type": "execute_result"
    }
   ],
   "source": [
    "pars = pd.read_csv('freyberg_w_flux0p1.ipar')\n",
    "pars"
   ]
  },
  {
   "cell_type": "code",
   "execution_count": 71,
   "metadata": {},
   "outputs": [
    {
     "data": {
      "text/html": [
       "<div>\n",
       "<table border=\"1\" class=\"dataframe\">\n",
       "  <thead>\n",
       "    <tr style=\"text-align: right;\">\n",
       "      <th></th>\n",
       "      <th>rch1</th>\n",
       "      <th>hk1</th>\n",
       "    </tr>\n",
       "  </thead>\n",
       "  <tbody>\n",
       "    <tr>\n",
       "      <th>rch1</th>\n",
       "      <td>1.004258e+06</td>\n",
       "      <td>46947.272660</td>\n",
       "    </tr>\n",
       "    <tr>\n",
       "      <th>hk1</th>\n",
       "      <td>4.694727e+04</td>\n",
       "      <td>2692.373346</td>\n",
       "    </tr>\n",
       "  </tbody>\n",
       "</table>\n",
       "</div>"
      ],
      "text/plain": [
       "              rch1           hk1\n",
       "rch1  1.004258e+06  46947.272660\n",
       "hk1   4.694727e+04   2692.373346"
      ]
     },
     "execution_count": 71,
     "metadata": {},
     "output_type": "execute_result"
    }
   ],
   "source": [
    "sc = pyemu.Schur('freyberg_w_flux0p1.jcb')\n",
    "covar = pyemu.Cov(sc.xtqx.x, names=sc.xtqx.row_names)\n",
    "covar.df()"
   ]
  },
  {
   "cell_type": "code",
   "execution_count": 72,
   "metadata": {},
   "outputs": [
    {
     "data": {
      "text/html": [
       "<div>\n",
       "<table border=\"1\" class=\"dataframe\">\n",
       "  <thead>\n",
       "    <tr style=\"text-align: right;\">\n",
       "      <th></th>\n",
       "      <th>rch1</th>\n",
       "      <th>hk1</th>\n",
       "    </tr>\n",
       "  </thead>\n",
       "  <tbody>\n",
       "    <tr>\n",
       "      <th>rch1</th>\n",
       "      <td>1.000000</td>\n",
       "      <td>0.902859</td>\n",
       "    </tr>\n",
       "    <tr>\n",
       "      <th>hk1</th>\n",
       "      <td>0.902859</td>\n",
       "      <td>1.000000</td>\n",
       "    </tr>\n",
       "  </tbody>\n",
       "</table>\n",
       "</div>"
      ],
      "text/plain": [
       "          rch1       hk1\n",
       "rch1  1.000000  0.902859\n",
       "hk1   0.902859  1.000000"
      ]
     },
     "execution_count": 72,
     "metadata": {},
     "output_type": "execute_result"
    }
   ],
   "source": [
    "R = covar.to_pearson()\n",
    "R.df()"
   ]
  },
  {
   "cell_type": "code",
   "execution_count": null,
   "metadata": {
    "collapsed": true
   },
   "outputs": [],
   "source": []
  },
  {
   "cell_type": "code",
   "execution_count": null,
   "metadata": {
    "collapsed": true
   },
   "outputs": [],
   "source": []
  },
  {
   "cell_type": "code",
   "execution_count": 73,
   "metadata": {},
   "outputs": [
    {
     "data": {
      "text/plain": [
       "'base_resp_dir\\\\freyberg_w_flux0p001.pst'"
      ]
     },
     "execution_count": 73,
     "metadata": {},
     "output_type": "execute_result"
    }
   ],
   "source": [
    "# using the pandas set_value method\n",
    "pst0p001=pyemu.Pst('freyberg.pst')\n",
    "pst0p001.observation_data.loc['rivflux_cal','weight']=0.001\n",
    "pst0p001.write('freyberg_w_flux0p001.pst')\n",
    "shutil.copy2('freyberg_w_flux0p001.pst',os.path.join('base_resp_dir','freyberg_w_flux0p001.pst'))"
   ]
  },
  {
   "cell_type": "code",
   "execution_count": 74,
   "metadata": {},
   "outputs": [
    {
     "data": {
      "text/plain": [
       "0"
      ]
     },
     "execution_count": 74,
     "metadata": {},
     "output_type": "execute_result"
    }
   ],
   "source": [
    "os.system('{0} freyberg_w_flux0p001.pst'.format(ppp))"
   ]
  },
  {
   "cell_type": "code",
   "execution_count": 75,
   "metadata": {},
   "outputs": [
    {
     "data": {
      "text/plain": [
       "{'flux_cal': 0.8106769413759999,\n",
       " 'flux_fore': 0.0,\n",
       " 'head_cal': 98.1802598698,\n",
       " 'head_fore': 0.0,\n",
       " 'travel_fore': 0.0}"
      ]
     },
     "execution_count": 75,
     "metadata": {},
     "output_type": "execute_result"
    }
   ],
   "source": [
    "pst0p001.phi_components"
   ]
  },
  {
   "cell_type": "code",
   "execution_count": 76,
   "metadata": {
    "collapsed": true
   },
   "outputs": [],
   "source": [
    "pyemu.utils.start_slaves('base_resp_dir',\"{0}sweep\".format(pref),\"freyberg_w_flux0p001.pst\",20,slave_root='.',port=4004,master_dir='.')"
   ]
  },
  {
   "cell_type": "code",
   "execution_count": 77,
   "metadata": {},
   "outputs": [
    {
     "data": {
      "image/png": "[encoded data removed]",
      "text/plain": [
       "<matplotlib.figure.Figure at 0xb0b20f0>"
      ]
     },
     "metadata": {},
     "output_type": "display_data"
    }
   ],
   "source": [
    "resp_plot()"
   ]
  },
  {
   "cell_type": "code",
   "execution_count": 78,
   "metadata": {
    "collapsed": true
   },
   "outputs": [],
   "source": [
    "pst0p001.control_data.noptmax=-1\n",
    "pst0p001.write('freyberg_w_flux0p001.pst')"
   ]
  },
  {
   "cell_type": "code",
   "execution_count": 79,
   "metadata": {},
   "outputs": [
    {
     "data": {
      "text/plain": [
       "0"
      ]
     },
     "execution_count": 79,
     "metadata": {},
     "output_type": "execute_result"
    }
   ],
   "source": [
    "os.system('{0} freyberg_w_flux0p001.pst'.format(ppp))"
   ]
  },
  {
   "cell_type": "code",
   "execution_count": 80,
   "metadata": {},
   "outputs": [
    {
     "data": {
      "text/html": [
       "<div>\n",
       "<table border=\"1\" class=\"dataframe\">\n",
       "  <thead>\n",
       "    <tr style=\"text-align: right;\">\n",
       "      <th></th>\n",
       "      <th>iteration</th>\n",
       "      <th>rch1</th>\n",
       "      <th>rch2</th>\n",
       "      <th>hk1</th>\n",
       "    </tr>\n",
       "  </thead>\n",
       "  <tbody>\n",
       "    <tr>\n",
       "      <th>0</th>\n",
       "      <td>0</td>\n",
       "      <td>0.00011</td>\n",
       "      <td>0.000094</td>\n",
       "      <td>8</td>\n",
       "    </tr>\n",
       "  </tbody>\n",
       "</table>\n",
       "</div>"
      ],
      "text/plain": [
       "   iteration     rch1      rch2  hk1\n",
       "0          0  0.00011  0.000094    8"
      ]
     },
     "execution_count": 80,
     "metadata": {},
     "output_type": "execute_result"
    }
   ],
   "source": [
    "pars = pd.read_csv('freyberg_w_flux0p001.ipar')\n",
    "pars"
   ]
  },
  {
   "cell_type": "code",
   "execution_count": 81,
   "metadata": {},
   "outputs": [
    {
     "data": {
      "text/html": [
       "<div>\n",
       "<table border=\"1\" class=\"dataframe\">\n",
       "  <thead>\n",
       "    <tr style=\"text-align: right;\">\n",
       "      <th></th>\n",
       "      <th>rch1</th>\n",
       "      <th>hk1</th>\n",
       "    </tr>\n",
       "  </thead>\n",
       "  <tbody>\n",
       "    <tr>\n",
       "      <th>rch1</th>\n",
       "      <td>686.478674</td>\n",
       "      <td>-504.061408</td>\n",
       "    </tr>\n",
       "    <tr>\n",
       "      <th>hk1</th>\n",
       "      <td>-504.061408</td>\n",
       "      <td>448.757038</td>\n",
       "    </tr>\n",
       "  </tbody>\n",
       "</table>\n",
       "</div>"
      ],
      "text/plain": [
       "            rch1         hk1\n",
       "rch1  686.478674 -504.061408\n",
       "hk1  -504.061408  448.757038"
      ]
     },
     "execution_count": 81,
     "metadata": {},
     "output_type": "execute_result"
    }
   ],
   "source": [
    "sc = pyemu.Schur('freyberg_w_flux0p001.jcb')\n",
    "covar = pyemu.Cov(sc.xtqx.x, names=sc.xtqx.row_names)\n",
    "covar.df()"
   ]
  },
  {
   "cell_type": "code",
   "execution_count": 82,
   "metadata": {},
   "outputs": [
    {
     "data": {
      "text/html": [
       "<div>\n",
       "<table border=\"1\" class=\"dataframe\">\n",
       "  <thead>\n",
       "    <tr style=\"text-align: right;\">\n",
       "      <th></th>\n",
       "      <th>rch1</th>\n",
       "      <th>hk1</th>\n",
       "    </tr>\n",
       "  </thead>\n",
       "  <tbody>\n",
       "    <tr>\n",
       "      <th>rch1</th>\n",
       "      <td>1.000000</td>\n",
       "      <td>-0.908164</td>\n",
       "    </tr>\n",
       "    <tr>\n",
       "      <th>hk1</th>\n",
       "      <td>-0.908164</td>\n",
       "      <td>1.000000</td>\n",
       "    </tr>\n",
       "  </tbody>\n",
       "</table>\n",
       "</div>"
      ],
      "text/plain": [
       "          rch1       hk1\n",
       "rch1  1.000000 -0.908164\n",
       "hk1  -0.908164  1.000000"
      ]
     },
     "execution_count": 82,
     "metadata": {},
     "output_type": "execute_result"
    }
   ],
   "source": [
    "R = covar.to_pearson()\n",
    "R.df()"
   ]
  },
  {
   "cell_type": "code",
   "execution_count": 83,
   "metadata": {},
   "outputs": [
    {
     "data": {
      "text/plain": [
       "'base_resp_dir\\\\freyberg_w_flux0p01.pst'"
      ]
     },
     "execution_count": 83,
     "metadata": {},
     "output_type": "execute_result"
    }
   ],
   "source": [
    "# using the pandas set_value method\n",
    "pst0p01=pyemu.Pst('freyberg.pst')\n",
    "pst0p01.observation_data.loc['rivflux_cal','weight']=0.01\n",
    "pst0p01.write('freyberg_w_flux0p01.pst')\n",
    "shutil.copy2('freyberg_w_flux0p01.pst',os.path.join('base_resp_dir','freyberg_w_flux0p01.pst'))"
   ]
  },
  {
   "cell_type": "code",
   "execution_count": 84,
   "metadata": {},
   "outputs": [
    {
     "data": {
      "text/plain": [
       "0"
      ]
     },
     "execution_count": 84,
     "metadata": {},
     "output_type": "execute_result"
    }
   ],
   "source": [
    "os.system('{0} freyberg_w_flux0p01.pst'.format(ppp))"
   ]
  },
  {
   "cell_type": "code",
   "execution_count": 85,
   "metadata": {},
   "outputs": [
    {
     "data": {
      "text/plain": [
       "{'flux_cal': 81.0676941376,\n",
       " 'flux_fore': 0.0,\n",
       " 'head_cal': 98.1802598698,\n",
       " 'head_fore': 0.0,\n",
       " 'travel_fore': 0.0}"
      ]
     },
     "execution_count": 85,
     "metadata": {},
     "output_type": "execute_result"
    }
   ],
   "source": [
    "pst0p01.phi_components"
   ]
  },
  {
   "cell_type": "code",
   "execution_count": 86,
   "metadata": {
    "collapsed": true
   },
   "outputs": [],
   "source": [
    "pyemu.utils.start_slaves('base_resp_dir',\"{0}sweep\".format(pref),\"freyberg_w_flux0p01.pst\",20,slave_root='.',port=4004,master_dir='.')"
   ]
  },
  {
   "cell_type": "code",
   "execution_count": 87,
   "metadata": {},
   "outputs": [
    {
     "data": {
      "image/png": "[encoded data removed]",
      "text/plain": [
       "<matplotlib.figure.Figure at 0xbd53e48>"
      ]
     },
     "metadata": {},
     "output_type": "display_data"
    }
   ],
   "source": [
    "resp_plot()"
   ]
  },
  {
   "cell_type": "code",
   "execution_count": 88,
   "metadata": {},
   "outputs": [
    {
     "data": {
      "text/plain": [
       "'base_resp_dir\\\\freyberg_w_flux0p01.pst'"
      ]
     },
     "execution_count": 88,
     "metadata": {},
     "output_type": "execute_result"
    }
   ],
   "source": [
    "pst0p01.control_data.noptmax=-1\n",
    "pst0p01.write('freyberg_w_flux0p01.pst')\n",
    "shutil.copy2('freyberg_w_flux0p01.pst',os.path.join('base_resp_dir','freyberg_w_flux0p01.pst'))"
   ]
  },
  {
   "cell_type": "code",
   "execution_count": 89,
   "metadata": {},
   "outputs": [
    {
     "data": {
      "text/plain": [
       "0"
      ]
     },
     "execution_count": 89,
     "metadata": {},
     "output_type": "execute_result"
    }
   ],
   "source": [
    "os.system('{0} freyberg_w_flux0p01.pst'.format(ppp))"
   ]
  },
  {
   "cell_type": "code",
   "execution_count": 90,
   "metadata": {},
   "outputs": [
    {
     "data": {
      "text/html": [
       "<div>\n",
       "<table border=\"1\" class=\"dataframe\">\n",
       "  <thead>\n",
       "    <tr style=\"text-align: right;\">\n",
       "      <th></th>\n",
       "      <th>iteration</th>\n",
       "      <th>rch1</th>\n",
       "      <th>rch2</th>\n",
       "      <th>hk1</th>\n",
       "    </tr>\n",
       "  </thead>\n",
       "  <tbody>\n",
       "    <tr>\n",
       "      <th>0</th>\n",
       "      <td>0</td>\n",
       "      <td>0.00011</td>\n",
       "      <td>0.000094</td>\n",
       "      <td>8</td>\n",
       "    </tr>\n",
       "  </tbody>\n",
       "</table>\n",
       "</div>"
      ],
      "text/plain": [
       "   iteration     rch1      rch2  hk1\n",
       "0          0  0.00011  0.000094    8"
      ]
     },
     "execution_count": 90,
     "metadata": {},
     "output_type": "execute_result"
    }
   ],
   "source": [
    "pars = pd.read_csv('freyberg_w_flux0p01.ipar')\n",
    "pars"
   ]
  },
  {
   "cell_type": "code",
   "execution_count": 91,
   "metadata": {},
   "outputs": [
    {
     "data": {
      "text/html": [
       "<div>\n",
       "<table border=\"1\" class=\"dataframe\">\n",
       "  <thead>\n",
       "    <tr style=\"text-align: right;\">\n",
       "      <th></th>\n",
       "      <th>rch1</th>\n",
       "      <th>hk1</th>\n",
       "    </tr>\n",
       "  </thead>\n",
       "  <tbody>\n",
       "    <tr>\n",
       "      <th>rch1</th>\n",
       "      <td>10622.828927</td>\n",
       "      <td>-34.246220</td>\n",
       "    </tr>\n",
       "    <tr>\n",
       "      <th>hk1</th>\n",
       "      <td>-34.246220</td>\n",
       "      <td>470.971061</td>\n",
       "    </tr>\n",
       "  </tbody>\n",
       "</table>\n",
       "</div>"
      ],
      "text/plain": [
       "              rch1         hk1\n",
       "rch1  10622.828927  -34.246220\n",
       "hk1     -34.246220  470.971061"
      ]
     },
     "execution_count": 91,
     "metadata": {},
     "output_type": "execute_result"
    }
   ],
   "source": [
    "sc = pyemu.Schur('freyberg_w_flux0p01.jcb')\n",
    "covar = pyemu.Cov(sc.xtqx.x, names=sc.xtqx.row_names)\n",
    "covar.df()"
   ]
  },
  {
   "cell_type": "code",
   "execution_count": 92,
   "metadata": {},
   "outputs": [
    {
     "data": {
      "text/html": [
       "<div>\n",
       "<table border=\"1\" class=\"dataframe\">\n",
       "  <thead>\n",
       "    <tr style=\"text-align: right;\">\n",
       "      <th></th>\n",
       "      <th>rch1</th>\n",
       "      <th>hk1</th>\n",
       "    </tr>\n",
       "  </thead>\n",
       "  <tbody>\n",
       "    <tr>\n",
       "      <th>rch1</th>\n",
       "      <td>1.000000</td>\n",
       "      <td>-0.015311</td>\n",
       "    </tr>\n",
       "    <tr>\n",
       "      <th>hk1</th>\n",
       "      <td>-0.015311</td>\n",
       "      <td>1.000000</td>\n",
       "    </tr>\n",
       "  </tbody>\n",
       "</table>\n",
       "</div>"
      ],
      "text/plain": [
       "          rch1       hk1\n",
       "rch1  1.000000 -0.015311\n",
       "hk1  -0.015311  1.000000"
      ]
     },
     "execution_count": 92,
     "metadata": {},
     "output_type": "execute_result"
    }
   ],
   "source": [
    "R = covar.to_pearson()\n",
    "R.df()"
   ]
  },
  {
   "cell_type": "code",
   "execution_count": 93,
   "metadata": {
    "collapsed": true
   },
   "outputs": [],
   "source": [
    "pst0p01.control_data.noptmax=15\n",
    "pst0p01.write('freyberg_w_flux0p01.pst')"
   ]
  },
  {
   "cell_type": "code",
   "execution_count": 94,
   "metadata": {},
   "outputs": [
    {
     "data": {
      "text/plain": [
       "0"
      ]
     },
     "execution_count": 94,
     "metadata": {},
     "output_type": "execute_result"
    }
   ],
   "source": [
    "os.system('{0} freyberg_w_flux0p01.pst'.format(ppp))"
   ]
  },
  {
   "cell_type": "code",
   "execution_count": 95,
   "metadata": {},
   "outputs": [
    {
     "data": {
      "text/html": [
       "<div>\n",
       "<table border=\"1\" class=\"dataframe\">\n",
       "  <thead>\n",
       "    <tr style=\"text-align: right;\">\n",
       "      <th></th>\n",
       "      <th>rch1</th>\n",
       "      <th>hk1</th>\n",
       "    </tr>\n",
       "  </thead>\n",
       "  <tbody>\n",
       "    <tr>\n",
       "      <th>rch1</th>\n",
       "      <td>16514.982071</td>\n",
       "      <td>-1017.190672</td>\n",
       "    </tr>\n",
       "    <tr>\n",
       "      <th>hk1</th>\n",
       "      <td>-1017.190672</td>\n",
       "      <td>1241.153388</td>\n",
       "    </tr>\n",
       "  </tbody>\n",
       "</table>\n",
       "</div>"
      ],
      "text/plain": [
       "              rch1          hk1\n",
       "rch1  16514.982071 -1017.190672\n",
       "hk1   -1017.190672  1241.153388"
      ]
     },
     "execution_count": 95,
     "metadata": {},
     "output_type": "execute_result"
    }
   ],
   "source": [
    "sc = pyemu.Schur('freyberg_w_flux0p01.jcb')\n",
    "covar = pyemu.Cov(sc.xtqx.x, names=sc.xtqx.row_names)\n",
    "covar.df()"
   ]
  },
  {
   "cell_type": "code",
   "execution_count": 96,
   "metadata": {},
   "outputs": [
    {
     "data": {
      "text/html": [
       "<div>\n",
       "<table border=\"1\" class=\"dataframe\">\n",
       "  <thead>\n",
       "    <tr style=\"text-align: right;\">\n",
       "      <th></th>\n",
       "      <th>rch1</th>\n",
       "      <th>hk1</th>\n",
       "    </tr>\n",
       "  </thead>\n",
       "  <tbody>\n",
       "    <tr>\n",
       "      <th>rch1</th>\n",
       "      <td>1.000000</td>\n",
       "      <td>-0.224673</td>\n",
       "    </tr>\n",
       "    <tr>\n",
       "      <th>hk1</th>\n",
       "      <td>-0.224673</td>\n",
       "      <td>1.000000</td>\n",
       "    </tr>\n",
       "  </tbody>\n",
       "</table>\n",
       "</div>"
      ],
      "text/plain": [
       "          rch1       hk1\n",
       "rch1  1.000000 -0.224673\n",
       "hk1  -0.224673  1.000000"
      ]
     },
     "execution_count": 96,
     "metadata": {},
     "output_type": "execute_result"
    }
   ],
   "source": [
    "R = covar.to_pearson()\n",
    "R.df()"
   ]
  },
  {
   "cell_type": "code",
   "execution_count": null,
   "metadata": {
    "collapsed": true
   },
   "outputs": [],
   "source": []
  }
 ],
 "metadata": {
  "anaconda-cloud": {},
  "kernelspec": {
   "display_name": "Python 3",
   "language": "python",
   "name": "python3"
  },
  "language_info": {
   "codemirror_mode": {
    "name": "ipython",
    "version": 3
   },
   "file_extension": ".py",
   "mimetype": "text/x-python",
   "name": "python",
   "nbconvert_exporter": "python",
   "pygments_lexer": "ipython3",
   "version": "3.6.1"
  }
 },
 "nbformat": 4,
 "nbformat_minor": 1
}
