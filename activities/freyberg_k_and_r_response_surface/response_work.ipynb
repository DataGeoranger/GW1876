{
 "cells": [
  {
   "cell_type": "code",
   "execution_count": 2,
   "metadata": {
    "collapsed": false
   },
   "outputs": [
    {
     "name": "stdout",
     "output_type": "stream",
     "text": [
      "setting random seed\n"
     ]
    }
   ],
   "source": [
    "%matplotlib inline\n",
    "import os\n",
    "import shutil\n",
    "import subprocess as sp\n",
    "import numpy as np\n",
    "import pandas as pd\n",
    "import matplotlib.pyplot as plt\n",
    "import pyemu\n",
    "import platform\n",
    "if 'window' in platform.platform().lower():\n",
    "    ppp = 'pest++'\n",
    "    pref = ''\n",
    "else:\n",
    "    ppp = './pestpp'\n",
    "    pref = './'"
   ]
  },
  {
   "cell_type": "code",
   "execution_count": 3,
   "metadata": {
    "collapsed": false,
    "scrolled": true
   },
   "outputs": [],
   "source": [
    "base_dir = os.path.join(\"..\",\"..\",\"models\",\"Freyberg\",\"Freyberg_K_and_R\")\n",
    "[shutil.copy(os.path.join(base_dir,f),f) for f in os.listdir(base_dir)]\n",
    "if not os.path.exists('base_resp_dir'):\n",
    "    os.mkdir('base_resp_dir')\n",
    "[shutil.copy2(os.path.join(base_dir,cf),os.path.join('base_resp_dir',cf)) for cf in os.listdir(base_dir)];\n"
   ]
  },
  {
   "cell_type": "markdown",
   "metadata": {},
   "source": [
    "## First read in the PST file and find what are the starting values for K and R"
   ]
  },
  {
   "cell_type": "code",
   "execution_count": 4,
   "metadata": {
    "collapsed": false
   },
   "outputs": [
    {
     "data": {
      "text/html": [
       "<div>\n",
       "<table border=\"1\" class=\"dataframe\">\n",
       "  <thead>\n",
       "    <tr style=\"text-align: right;\">\n",
       "      <th></th>\n",
       "      <th>parnme</th>\n",
       "      <th>partrans</th>\n",
       "      <th>parchglim</th>\n",
       "      <th>parval1</th>\n",
       "      <th>parlbnd</th>\n",
       "      <th>parubnd</th>\n",
       "      <th>pargp</th>\n",
       "      <th>scale</th>\n",
       "      <th>offset</th>\n",
       "      <th>dercom</th>\n",
       "    </tr>\n",
       "    <tr>\n",
       "      <th>parnme</th>\n",
       "      <th></th>\n",
       "      <th></th>\n",
       "      <th></th>\n",
       "      <th></th>\n",
       "      <th></th>\n",
       "      <th></th>\n",
       "      <th></th>\n",
       "      <th></th>\n",
       "      <th></th>\n",
       "      <th></th>\n",
       "    </tr>\n",
       "  </thead>\n",
       "  <tbody>\n",
       "    <tr>\n",
       "      <th>rch1</th>\n",
       "      <td>rch1</td>\n",
       "      <td>fixed</td>\n",
       "      <td>factor</td>\n",
       "      <td>0.000110</td>\n",
       "      <td>0.000079</td>\n",
       "      <td>0.000155</td>\n",
       "      <td>rch</td>\n",
       "      <td>1.0</td>\n",
       "      <td>0.0</td>\n",
       "      <td>1</td>\n",
       "    </tr>\n",
       "    <tr>\n",
       "      <th>rch2</th>\n",
       "      <td>rch2</td>\n",
       "      <td>fixed</td>\n",
       "      <td>factor</td>\n",
       "      <td>0.000094</td>\n",
       "      <td>0.000079</td>\n",
       "      <td>0.000155</td>\n",
       "      <td>rch</td>\n",
       "      <td>1.0</td>\n",
       "      <td>0.0</td>\n",
       "      <td>1</td>\n",
       "    </tr>\n",
       "    <tr>\n",
       "      <th>hk1</th>\n",
       "      <td>hk1</td>\n",
       "      <td>log</td>\n",
       "      <td>factor</td>\n",
       "      <td>8.000000</td>\n",
       "      <td>1.250000</td>\n",
       "      <td>80.000000</td>\n",
       "      <td>hk</td>\n",
       "      <td>1.0</td>\n",
       "      <td>0.0</td>\n",
       "      <td>1</td>\n",
       "    </tr>\n",
       "  </tbody>\n",
       "</table>\n",
       "</div>"
      ],
      "text/plain": [
       "       parnme partrans parchglim   parval1   parlbnd    parubnd pargp  scale  \\\n",
       "parnme                                                                         \n",
       "rch1     rch1    fixed    factor  0.000110  0.000079   0.000155   rch    1.0   \n",
       "rch2     rch2    fixed    factor  0.000094  0.000079   0.000155   rch    1.0   \n",
       "hk1       hk1      log    factor  8.000000  1.250000  80.000000    hk    1.0   \n",
       "\n",
       "        offset  dercom  \n",
       "parnme                  \n",
       "rch1       0.0       1  \n",
       "rch2       0.0       1  \n",
       "hk1        0.0       1  "
      ]
     },
     "execution_count": 4,
     "metadata": {},
     "output_type": "execute_result"
    }
   ],
   "source": [
    "inpst = pyemu.Pst('freyberg.pst')\n",
    "inpst.parameter_data"
   ]
  },
  {
   "cell_type": "code",
   "execution_count": 5,
   "metadata": {
    "collapsed": false
   },
   "outputs": [
    {
     "data": {
      "text/plain": [
       "0"
      ]
     },
     "execution_count": 5,
     "metadata": {},
     "output_type": "execute_result"
    }
   ],
   "source": [
    "os.system('{0} freyberg.pst'.format(ppp))"
   ]
  },
  {
   "cell_type": "code",
   "execution_count": 6,
   "metadata": {
    "collapsed": false
   },
   "outputs": [
    {
     "data": {
      "text/plain": [
       "{'flux_cal': 0.0,\n",
       " 'flux_fore': 0.0,\n",
       " 'head_cal': 98.1802598698,\n",
       " 'head_fore': 0.0,\n",
       " 'travel_fore': 0.0}"
      ]
     },
     "execution_count": 6,
     "metadata": {},
     "output_type": "execute_result"
    }
   ],
   "source": [
    "inpst.phi_components"
   ]
  },
  {
   "cell_type": "markdown",
   "metadata": {},
   "source": [
    "## Now make a CSV file of values to evaluate"
   ]
  },
  {
   "cell_type": "code",
   "execution_count": 7,
   "metadata": {
    "collapsed": false
   },
   "outputs": [],
   "source": [
    "nsamples = 20\n",
    "hk_start = inpst.parameter_data.loc[inpst.parameter_data.parnme=='hk1'].parval1.values[0]\n",
    "hk_lower=3\n",
    "hk_upper = 12\n",
    "rch1_start = inpst.parameter_data.loc[inpst.parameter_data.parnme=='rch1'].parval1.values[0]\n",
    "rch1_lower= 0.0001\n",
    "rch1_upper= 0.00017\n",
    "rch2_start = inpst.parameter_data.loc[inpst.parameter_data.parnme=='rch2'].parval1.values[0]\n"
   ]
  },
  {
   "cell_type": "code",
   "execution_count": 8,
   "metadata": {
    "collapsed": false
   },
   "outputs": [
    {
     "data": {
      "text/plain": [
       "'base_resp_dir/grid.csv'"
      ]
     },
     "execution_count": 8,
     "metadata": {},
     "output_type": "execute_result"
    }
   ],
   "source": [
    "hk_values = np.linspace(hk_lower,hk_upper,nsamples)\n",
    "rch1_values = np.linspace(rch1_lower,rch1_upper,nsamples)\n",
    "c = 0\n",
    "with open(\"grid.csv\",'w') as f:\n",
    "    f.write(\"run_id,hk1,rch1,rch2\\n\")\n",
    "    for v1 in hk_values:\n",
    "        for v2 in rch1_values:\n",
    "            f.write(\"{0:d},{1:15.6E},{2:15.6E},{3:15.6E}\\n\".format(c,v1,v2,rch2_start))\n",
    "            c += 1\n",
    "shutil.copy2('grid.csv','base_resp_dir')"
   ]
  },
  {
   "cell_type": "code",
   "execution_count": 9,
   "metadata": {
    "collapsed": true
   },
   "outputs": [],
   "source": [
    "def resp_plot():\n",
    "    df_in = pd.read_csv(\"grid.csv\")\n",
    "    df_out = pd.read_csv(\"sweep_out.csv\", na_values='')\n",
    "    resp_surf = np.zeros((nsamples,nsamples))\n",
    "    c = 0\n",
    "    for i,v1 in enumerate(hk_values):\n",
    "        for j,v2 in enumerate(rch1_values):\n",
    "            resp_surf[j,i] = df_out.loc[c,\"phi\"]\n",
    "            c += 1\n",
    "    fig = plt.figure(figsize=(5,5))\n",
    "    ax = plt.subplot(111)\n",
    "    X,Y = np.meshgrid(hk_values,rch1_values)\n",
    "    # knock out extreme high values\n",
    "    resp_surf = np.flipud(resp_surf)\n",
    "    resp_surf[resp_surf>np.nanpercentile(resp_surf,75)] = np.nan\n",
    "    resp_surf = np.ma.masked_where(np.isnan(resp_surf),resp_surf)\n",
    "    p = ax.pcolor(X,Y,resp_surf,alpha=0.5,cmap=\"spectral\")\n",
    "    plt.colorbar(p)\n",
    "    c = ax.contour(X,Y,resp_surf,levels=np.linspace(np.min(resp_surf),np.max(resp_surf),6),colors='k')\n",
    "    plt.clabel(c)\n",
    "    ax.set_xlim(hk_values.min(),hk_values.max())\n",
    "    ax.set_ylim(rch1_values.min(),rch1_values.max())\n",
    "    ax.set_xlabel(\"hk1 ($\\\\frac{L}{T}$)\")\n",
    "    ax.set_ylabel(\"rch1 ($L$)\")"
   ]
  },
  {
   "cell_type": "code",
   "execution_count": null,
   "metadata": {
    "collapsed": false,
    "scrolled": false
   },
   "outputs": [],
   "source": [
    "pyemu.utils.start_slaves('base_resp_dir',\"{0}sweep\".format(pref),\"freyberg.pst\",20,slave_root='.',port=4004,master_dir='.')"
   ]
  },
  {
   "cell_type": "markdown",
   "metadata": {},
   "source": [
    "### We can look at the final parameter values and their correlation"
   ]
  },
  {
   "cell_type": "code",
   "execution_count": null,
   "metadata": {
    "collapsed": false
   },
   "outputs": [],
   "source": [
    "pars = pd.read_csv('freybergk.ipar')\n",
    "pars"
   ]
  },
  {
   "cell_type": "code",
   "execution_count": null,
   "metadata": {
    "collapsed": false
   },
   "outputs": [],
   "source": [
    "sc = pyemu.Schur('freybergk.jcb')\n",
    "covar = pyemu.Cov(sc.xtqx.x, names=sc.xtqx.row_names)\n",
    "covar.df()"
   ]
  },
  {
   "cell_type": "code",
   "execution_count": null,
   "metadata": {
    "collapsed": false
   },
   "outputs": [],
   "source": [
    "R = covar.to_pearson()\n",
    "R.df()"
   ]
  },
  {
   "cell_type": "markdown",
   "metadata": {},
   "source": [
    "# YOUR TURN\n",
    "# What if we also have a calibration flux observation?\n",
    "\n",
    "We can set this up by simply assigning non-zero weight to the observation called `rivflux_cal`\n",
    "\n",
    "We've already read in the PST file, now we can change just that one value and write out a new PST file."
   ]
  },
  {
   "cell_type": "code",
   "execution_count": null,
   "metadata": {
    "collapsed": false,
    "scrolled": true
   },
   "outputs": [],
   "source": [
    "# 0) make a copy of freyberg.pst and call it freyberg_flux.pst\n",
    "\n",
    "# 1) Change the weight on the rivflux_cal observation (it's 0 now)\n",
    "\n",
    "# 2) Run PESTCHEK\n",
    "\n",
    "# 3) Run SWEEP\n",
    "\n",
    "# 4) Look at the results"
   ]
  },
  {
   "cell_type": "code",
   "execution_count": 10,
   "metadata": {
    "collapsed": false
   },
   "outputs": [
    {
     "data": {
      "text/plain": [
       "0"
      ]
     },
     "execution_count": 10,
     "metadata": {},
     "output_type": "execute_result"
    }
   ],
   "source": [
    "os.system('{0} freyberg_prior.pst'.format(ppp))"
   ]
  },
  {
   "cell_type": "code",
   "execution_count": 13,
   "metadata": {
    "collapsed": false
   },
   "outputs": [
    {
     "data": {
      "text/html": [
       "<div>\n",
       "<table border=\"1\" class=\"dataframe\">\n",
       "  <thead>\n",
       "    <tr style=\"text-align: right;\">\n",
       "      <th></th>\n",
       "      <th>equation</th>\n",
       "      <th>obgnme</th>\n",
       "      <th>pilbl</th>\n",
       "      <th>weight</th>\n",
       "    </tr>\n",
       "    <tr>\n",
       "      <th>pilbl</th>\n",
       "      <th></th>\n",
       "      <th></th>\n",
       "      <th></th>\n",
       "      <th></th>\n",
       "    </tr>\n",
       "  </thead>\n",
       "  <tbody>\n",
       "    <tr>\n",
       "      <th>pi1</th>\n",
       "      <td>1.0 * log(hk1) = 1.1</td>\n",
       "      <td>prior1</td>\n",
       "      <td>pi1</td>\n",
       "      <td>10.0</td>\n",
       "    </tr>\n",
       "  </tbody>\n",
       "</table>\n",
       "</div>"
      ],
      "text/plain": [
       "                   equation  obgnme pilbl  weight\n",
       "pilbl                                            \n",
       "pi1    1.0 * log(hk1) = 1.1  prior1   pi1    10.0"
      ]
     },
     "execution_count": 13,
     "metadata": {},
     "output_type": "execute_result"
    }
   ],
   "source": [
    "pstprior=pyemu.Pst('freyberg_prior.pst')\n",
    "pstprior.prior_information"
   ]
  },
  {
   "cell_type": "code",
   "execution_count": null,
   "metadata": {
    "collapsed": false
   },
   "outputs": [],
   "source": [
    "pyemu.utils.start_slaves('base_resp_dir',\"{0}sweep\".format(pref),\"freyberg_w_flux0p1.pst\",20,slave_root='.',port=4004,master_dir='.')"
   ]
  },
  {
   "cell_type": "code",
   "execution_count": null,
   "metadata": {
    "collapsed": false,
    "scrolled": false
   },
   "outputs": [],
   "source": [
    "resp_plot()"
   ]
  },
  {
   "cell_type": "markdown",
   "metadata": {},
   "source": [
    "### Now let's run PEST++ and see what we get for an estimate of the parameters\n",
    " * set NOPTMAX=-1\n",
    " * run PEST++"
   ]
  },
  {
   "cell_type": "code",
   "execution_count": null,
   "metadata": {
    "collapsed": false
   },
   "outputs": [],
   "source": [
    "pst0p1.control_data.noptmax=-1\n",
    "pst0p1.write('freyberg_w_flux0p1.pst')\n",
    "shutil.copy2('freyberg_w_flux0p1.pst',os.path.join('base_resp_dir','freyberg_w_flux0p1.pst'))"
   ]
  },
  {
   "cell_type": "code",
   "execution_count": null,
   "metadata": {
    "collapsed": false
   },
   "outputs": [],
   "source": [
    "os.system('{0} freyberg_w_flux0p1.pst'.format(ppp))"
   ]
  },
  {
   "cell_type": "markdown",
   "metadata": {},
   "source": [
    "### We can look at the final parameter values and their correlation"
   ]
  },
  {
   "cell_type": "code",
   "execution_count": null,
   "metadata": {
    "collapsed": false
   },
   "outputs": [],
   "source": [
    "pars = pd.read_csv('freyberg_w_flux0p1.ipar')\n",
    "pars"
   ]
  },
  {
   "cell_type": "code",
   "execution_count": null,
   "metadata": {
    "collapsed": false
   },
   "outputs": [],
   "source": [
    "sc = pyemu.Schur('freyberg_w_flux0p1.jcb')\n",
    "covar = pyemu.Cov(sc.xtqx.x, names=sc.xtqx.row_names)\n",
    "covar.df()"
   ]
  },
  {
   "cell_type": "code",
   "execution_count": null,
   "metadata": {
    "collapsed": false
   },
   "outputs": [],
   "source": [
    "R = covar.to_pearson()\n",
    "R.df()"
   ]
  },
  {
   "cell_type": "code",
   "execution_count": null,
   "metadata": {
    "collapsed": true
   },
   "outputs": [],
   "source": []
  },
  {
   "cell_type": "code",
   "execution_count": null,
   "metadata": {
    "collapsed": true
   },
   "outputs": [],
   "source": []
  },
  {
   "cell_type": "code",
   "execution_count": null,
   "metadata": {
    "collapsed": false
   },
   "outputs": [],
   "source": [
    "# using the pandas set_value method\n",
    "pst0p001=pyemu.Pst('freyberg.pst')\n",
    "pst0p001.observation_data.loc['rivflux_cal','weight']=0.001\n",
    "pst0p001.write('freyberg_w_flux0p001.pst')\n",
    "shutil.copy2('freyberg_w_flux0p001.pst',os.path.join('base_resp_dir','freyberg_w_flux0p001.pst'))"
   ]
  },
  {
   "cell_type": "code",
   "execution_count": null,
   "metadata": {
    "collapsed": false
   },
   "outputs": [],
   "source": [
    "os.system('{0} freyberg_w_flux0p001.pst'.format(ppp))"
   ]
  },
  {
   "cell_type": "code",
   "execution_count": null,
   "metadata": {
    "collapsed": false
   },
   "outputs": [],
   "source": [
    "pst0p001.phi_components"
   ]
  },
  {
   "cell_type": "code",
   "execution_count": null,
   "metadata": {
    "collapsed": false
   },
   "outputs": [],
   "source": [
    "pyemu.utils.start_slaves('base_resp_dir',\"{0}sweep\".format(pref),\"freyberg_w_flux0p001.pst\",20,slave_root='.',port=4004,master_dir='.')"
   ]
  },
  {
   "cell_type": "code",
   "execution_count": null,
   "metadata": {
    "collapsed": false
   },
   "outputs": [],
   "source": [
    "resp_plot()"
   ]
  },
  {
   "cell_type": "code",
   "execution_count": null,
   "metadata": {
    "collapsed": false
   },
   "outputs": [],
   "source": [
    "pst0p001.control_data.noptmax=-1\n",
    "pst0p001.write('freyberg_w_flux0p001.pst')"
   ]
  },
  {
   "cell_type": "code",
   "execution_count": null,
   "metadata": {
    "collapsed": false
   },
   "outputs": [],
   "source": [
    "os.system('{0} freyberg_w_flux0p001.pst'.format(ppp))"
   ]
  },
  {
   "cell_type": "code",
   "execution_count": null,
   "metadata": {
    "collapsed": false
   },
   "outputs": [],
   "source": [
    "pars = pd.read_csv('freyberg_w_flux0p001.ipar')\n",
    "pars"
   ]
  },
  {
   "cell_type": "code",
   "execution_count": null,
   "metadata": {
    "collapsed": false
   },
   "outputs": [],
   "source": [
    "sc = pyemu.Schur('freyberg_w_flux0p001.jcb')\n",
    "covar = pyemu.Cov(sc.xtqx.x, names=sc.xtqx.row_names)\n",
    "covar.df()"
   ]
  },
  {
   "cell_type": "code",
   "execution_count": null,
   "metadata": {
    "collapsed": false
   },
   "outputs": [],
   "source": [
    "R = covar.to_pearson()\n",
    "R.df()"
   ]
  },
  {
   "cell_type": "code",
   "execution_count": null,
   "metadata": {
    "collapsed": false
   },
   "outputs": [],
   "source": [
    "# using the pandas set_value method\n",
    "pst0p01=pyemu.Pst('freyberg.pst')\n",
    "pst0p01.observation_data.loc['rivflux_cal','weight']=0.01\n",
    "pst0p01.write('freyberg_w_flux0p01.pst')\n",
    "shutil.copy2('freyberg_w_flux0p01.pst',os.path.join('base_resp_dir','freyberg_w_flux0p01.pst'))"
   ]
  },
  {
   "cell_type": "code",
   "execution_count": null,
   "metadata": {
    "collapsed": false
   },
   "outputs": [],
   "source": [
    "os.system('{0} freyberg_w_flux0p01.pst'.format(ppp))"
   ]
  },
  {
   "cell_type": "code",
   "execution_count": null,
   "metadata": {
    "collapsed": false
   },
   "outputs": [],
   "source": [
    "pst0p01.phi_components"
   ]
  },
  {
   "cell_type": "code",
   "execution_count": null,
   "metadata": {
    "collapsed": false
   },
   "outputs": [],
   "source": [
    "pyemu.utils.start_slaves('base_resp_dir',\"{0}sweep\".format(pref),\"freyberg_w_flux0p01.pst\",20,slave_root='.',port=4004,master_dir='.')"
   ]
  },
  {
   "cell_type": "code",
   "execution_count": null,
   "metadata": {
    "collapsed": false
   },
   "outputs": [],
   "source": [
    "resp_plot()"
   ]
  },
  {
   "cell_type": "code",
   "execution_count": null,
   "metadata": {
    "collapsed": false
   },
   "outputs": [],
   "source": [
    "pst0p01.control_data.noptmax=-1\n",
    "pst0p01.write('freyberg_w_flux0p01.pst')\n",
    "shutil.copy2('freyberg_w_flux0p01.pst',os.path.join('base_resp_dir','freyberg_w_flux0p01.pst'))"
   ]
  },
  {
   "cell_type": "code",
   "execution_count": null,
   "metadata": {
    "collapsed": false
   },
   "outputs": [],
   "source": [
    "os.system('{0} freyberg_w_flux0p01.pst'.format(ppp))"
   ]
  },
  {
   "cell_type": "code",
   "execution_count": null,
   "metadata": {
    "collapsed": false
   },
   "outputs": [],
   "source": [
    "pars = pd.read_csv('freyberg_w_flux0p01.ipar')\n",
    "pars"
   ]
  },
  {
   "cell_type": "code",
   "execution_count": null,
   "metadata": {
    "collapsed": false
   },
   "outputs": [],
   "source": [
    "sc = pyemu.Schur('freyberg_w_flux0p01.jcb')\n",
    "covar = pyemu.Cov(sc.xtqx.x, names=sc.xtqx.row_names)\n",
    "covar.df()"
   ]
  },
  {
   "cell_type": "code",
   "execution_count": null,
   "metadata": {
    "collapsed": false
   },
   "outputs": [],
   "source": [
    "R = covar.to_pearson()\n",
    "R.df()"
   ]
  },
  {
   "cell_type": "code",
   "execution_count": null,
   "metadata": {
    "collapsed": true
   },
   "outputs": [],
   "source": [
    "pst0p01.control_data.noptmax=15\n",
    "pst0p01.write('freyberg_w_flux0p01.pst')"
   ]
  },
  {
   "cell_type": "code",
   "execution_count": null,
   "metadata": {
    "collapsed": false
   },
   "outputs": [],
   "source": [
    "os.system('{0} freyberg_w_flux0p01.pst'.format(ppp))"
   ]
  },
  {
   "cell_type": "code",
   "execution_count": null,
   "metadata": {
    "collapsed": false
   },
   "outputs": [],
   "source": [
    "sc = pyemu.Schur('freyberg_w_flux0p01.jcb')\n",
    "covar = pyemu.Cov(sc.xtqx.x, names=sc.xtqx.row_names)\n",
    "covar.df()"
   ]
  },
  {
   "cell_type": "code",
   "execution_count": null,
   "metadata": {
    "collapsed": false
   },
   "outputs": [],
   "source": [
    "R = covar.to_pearson()\n",
    "R.df()"
   ]
  },
  {
   "cell_type": "code",
   "execution_count": null,
   "metadata": {
    "collapsed": true
   },
   "outputs": [],
   "source": []
  }
 ],
 "metadata": {
  "anaconda-cloud": {},
  "kernelspec": {
   "display_name": "Python 3",
   "language": "python",
   "name": "python3"
  },
  "language_info": {
   "codemirror_mode": {
    "name": "ipython",
    "version": 3
   },
   "file_extension": ".py",
   "mimetype": "text/x-python",
   "name": "python",
   "nbconvert_exporter": "python",
   "pygments_lexer": "ipython3",
   "version": "3.5.2"
  }
 },
 "nbformat": 4,
 "nbformat_minor": 1
}
