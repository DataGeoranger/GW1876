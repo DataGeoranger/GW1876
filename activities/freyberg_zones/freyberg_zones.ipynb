{
 "cells": [
  {
   "cell_type": "code",
   "execution_count": 1,
   "metadata": {
    "collapsed": true,
    "scrolled": false
   },
   "outputs": [],
   "source": [
    "%matplotlib inline\n",
    "import os\n",
    "import sys\n",
    "sys.path.append(\"..\")\n",
    "import numpy as np\n",
    "import pandas as pd\n",
    "import matplotlib.pyplot as plt\n",
    "import pyemu"
   ]
  },
  {
   "cell_type": "code",
   "execution_count": 2,
   "metadata": {},
   "outputs": [
    {
     "name": "stdout",
     "output_type": "stream",
     "text": [
      "['.DS_Store', 'botm.ref', 'extract_zone_array.py', 'forecasts_true.csv', 'freyberg.bas', 'freyberg.dbf', 'freyberg.dis', 'freyberg.hds', 'freyberg.heads', 'freyberg.heads_potobs.ins', 'freyberg.hyd', 'freyberg.list', 'freyberg.locations', 'freyberg.mpbas', 'freyberg.mpenpt', 'freyberg.mplist', 'freyberg.mpnam', 'freyberg.mppthln', 'freyberg.mpsim', 'freyberg.oc', 'freyberg.pcg', 'freyberg.rivflux', 'freyberg.shp', 'freyberg.shx', 'freyberg.travel', 'freyberg.truth.lpf', 'freyberg.truth.nam', 'freyberg.truth.rch', 'freyberg.truth.riv', 'freyberg.truth.wel', 'hk.truth.ref', 'hk.zones', 'ibound.ref', 'kzone.ref', 'mpath.in', 'obs_loc.csv', 'potobs_group.csv', 'Process_output.py', 'run_true_model.py', 'strt.ref', 'Weights_and_best_PHI.xlsx']\n",
      "\n",
      "changing model workspace...\n",
      "   freyberg_zn\n",
      "WARNING: unit 31 of package UPW already in use\n",
      "FloPy is using the following executable to run the model: /Users/jwhite/Dev/GW1876/activities/freyberg_zones/freyberg_zn/mfnwt\n",
      "\n",
      "                                  MODFLOW-NWT-SWR1 \n",
      "    U.S. GEOLOGICAL SURVEY MODULAR FINITE-DIFFERENCE GROUNDWATER-FLOW MODEL\n",
      "                             WITH NEWTON FORMULATION\n",
      "                             Version 1.1.1, 7/21/2016                        \n",
      "                    BASED ON MODFLOW-2005 Version 1.11.0 08/08/2013                       \n",
      "\n",
      "                    SWR1 Version 1.04.0 07/21/2016                       \n",
      "\n",
      " Using NAME file: freyberg.nam \n",
      " Run start date and time (yyyy/mm/dd hh:mm:ss): 2017/09/05 14:51:12\n",
      "\n",
      " Solving:  Stress period:     1    Time step:     1    Groundwater-Flow Eqn.\n",
      " Solving:  Stress period:     2    Time step:     1    Groundwater-Flow Eqn.\n",
      " Solving:  Stress period:     3    Time step:     1    Groundwater-Flow Eqn.\n",
      " Run end date and time (yyyy/mm/dd hh:mm:ss): 2017/09/05 14:51:12\n",
      " Elapsed run time:  0.024 Seconds\n",
      "\n",
      "  Normal termination of simulation\n",
      "run():./mp6 freyberg.mpsim\n",
      "Util2d:delr: resetting 'how' to external\n",
      "Util2d:delc: resetting 'how' to external\n",
      "Util2d:model_top: resetting 'how' to external\n",
      "Util2d:botm_layer_0: resetting 'how' to external\n",
      "Util2d:ibound_layer_0: resetting 'how' to external\n",
      "Util2d:strt_layer_0: resetting 'how' to external\n",
      "Util2d:rech_1: resetting 'how' to external\n",
      "Util2d:rech_2: resetting 'how' to external\n",
      "Util2d:rech_3: resetting 'how' to external\n",
      "Util2d:hk layer 1: resetting 'how' to external\n",
      "Util2d:vk: resetting 'how' to external\n",
      "Util2d:ss: resetting 'how' to external\n",
      "Util2d:ss: resetting 'how' to external\n",
      "FloPy is using the following executable to run the model: /Users/jwhite/Dev/GW1876/activities/freyberg_zones/freyberg_zn/mfnwt\n",
      "\n",
      "                                  MODFLOW-NWT-SWR1 \n",
      "    U.S. GEOLOGICAL SURVEY MODULAR FINITE-DIFFERENCE GROUNDWATER-FLOW MODEL\n",
      "                             WITH NEWTON FORMULATION\n",
      "                             Version 1.1.1, 7/21/2016                        \n",
      "                    BASED ON MODFLOW-2005 Version 1.11.0 08/08/2013                       \n",
      "\n",
      "                    SWR1 Version 1.04.0 07/21/2016                       \n",
      "\n",
      " Using NAME file: freyberg.nam \n",
      " Run start date and time (yyyy/mm/dd hh:mm:ss): 2017/09/05 14:51:12\n",
      "\n",
      " Solving:  Stress period:     1    Time step:     1    Groundwater-Flow Eqn.\n",
      " Solving:  Stress period:     2    Time step:     1    Groundwater-Flow Eqn.\n",
      " Solving:  Stress period:     3    Time step:     1    Groundwater-Flow Eqn.\n",
      " Run end date and time (yyyy/mm/dd hh:mm:ss): 2017/09/05 14:51:12\n",
      " Elapsed run time:  0.024 Seconds\n",
      "\n",
      "  Normal termination of simulation\n",
      "Starting to read HYDMOD data from freyberg.hyd.bin\n",
      "Starting to read HYDMOD data from freyberg.hyd.bin.truth\n",
      "run():./inschek flux.dat.ins flux.dat\n",
      "run():./inschek vol.dat.ins vol.dat\n",
      "run():./inschek flux.dat.ins flux.dat\n",
      "run():./inschek vol.dat.ins vol.dat\n",
      "run():./inschek flux.dat.ins flux.dat\n",
      "run():./inschek freyberg.hyd.bin.dat.ins freyberg.hyd.bin.dat\n",
      "run():./inschek freyberg.travel.ins freyberg.travel\n",
      "run():./inschek vol.dat.ins vol.dat\n",
      "run():./pestchek freyberg_zn.pst\n",
      "run():./pestpp freyberg_zn.init.pst\n"
     ]
    }
   ],
   "source": [
    "import freyberg_setup as fs\n",
    "pst_name = fs.PST_NAME_ZN\n",
    "working_dir = fs.WORKING_DIR_ZN\n",
    "fs.setup_pest_zn()"
   ]
  },
  {
   "cell_type": "markdown",
   "metadata": {},
   "source": [
    "run pestpp"
   ]
  },
  {
   "cell_type": "code",
   "execution_count": 3,
   "metadata": {},
   "outputs": [
    {
     "name": "stdout",
     "output_type": "stream",
     "text": [
      "run():pestpp freyberg_zn.pst\n"
     ]
    }
   ],
   "source": [
    "pst = pyemu.Pst(os.path.join(working_dir,pst_name))\n",
    "pst.control_data.noptmax = 10\n",
    "pst.write(os.path.join(working_dir,pst_name))\n",
    "pyemu.helpers.run(\"pestpp {0}\".format(pst_name),cwd=working_dir)"
   ]
  },
  {
   "cell_type": "code",
   "execution_count": 4,
   "metadata": {},
   "outputs": [
    {
     "data": {
      "text/plain": [
       "409.23533731094983"
      ]
     },
     "execution_count": 4,
     "metadata": {},
     "output_type": "execute_result"
    }
   ],
   "source": [
    "pst.phi"
   ]
  },
  {
   "cell_type": "code",
   "execution_count": 5,
   "metadata": {},
   "outputs": [
    {
     "data": {
      "text/plain": [
       "{'calflux': 0.0007629895582580566,\n",
       " 'calhead': 409.23457432139156,\n",
       " 'flx_constan': 0.0,\n",
       " 'flx_in-out': 0.0,\n",
       " 'flx_percent': 0.0,\n",
       " 'flx_recharg': 0.0,\n",
       " 'flx_river_l': 0.0,\n",
       " 'flx_storage': 0.0,\n",
       " 'flx_total': 0.0,\n",
       " 'flx_wells': 0.0,\n",
       " 'foreflux': 0.0,\n",
       " 'forehead': 0.0,\n",
       " 'foretrav': 0.0,\n",
       " 'head': 0.0,\n",
       " 'pothead': 0.0,\n",
       " 'vol_constan': 0.0,\n",
       " 'vol_in-out': 0.0,\n",
       " 'vol_percent': 0.0,\n",
       " 'vol_recharg': 0.0,\n",
       " 'vol_river_l': 0.0,\n",
       " 'vol_storage': 0.0,\n",
       " 'vol_total': 0.0,\n",
       " 'vol_wells': 0.0}"
      ]
     },
     "execution_count": 5,
     "metadata": {},
     "output_type": "execute_result"
    }
   ],
   "source": [
    "pst.phi_components"
   ]
  },
  {
   "cell_type": "code",
   "execution_count": 6,
   "metadata": {},
   "outputs": [
    {
     "data": {
      "text/html": [
       "<div>\n",
       "<style>\n",
       "    .dataframe thead tr:only-child th {\n",
       "        text-align: right;\n",
       "    }\n",
       "\n",
       "    .dataframe thead th {\n",
       "        text-align: left;\n",
       "    }\n",
       "\n",
       "    .dataframe tbody tr th {\n",
       "        vertical-align: top;\n",
       "    }\n",
       "</style>\n",
       "<table border=\"1\" class=\"dataframe\">\n",
       "  <thead>\n",
       "    <tr style=\"text-align: right;\">\n",
       "      <th></th>\n",
       "      <th>name</th>\n",
       "      <th>group</th>\n",
       "      <th>measured</th>\n",
       "      <th>modelled</th>\n",
       "      <th>residual</th>\n",
       "      <th>weight</th>\n",
       "    </tr>\n",
       "    <tr>\n",
       "      <th>name</th>\n",
       "      <th></th>\n",
       "      <th></th>\n",
       "      <th></th>\n",
       "      <th></th>\n",
       "      <th></th>\n",
       "      <th></th>\n",
       "    </tr>\n",
       "  </thead>\n",
       "  <tbody>\n",
       "    <tr>\n",
       "      <th>flx_river_l_19700102</th>\n",
       "      <td>flx_river_l_19700102</td>\n",
       "      <td>calflux</td>\n",
       "      <td>-3706.027000</td>\n",
       "      <td>-3706.303223</td>\n",
       "      <td>0.276223</td>\n",
       "      <td>0.1</td>\n",
       "    </tr>\n",
       "    <tr>\n",
       "      <th>cr03c10_19700102</th>\n",
       "      <td>cr03c10_19700102</td>\n",
       "      <td>calhead</td>\n",
       "      <td>22.331451</td>\n",
       "      <td>22.807440</td>\n",
       "      <td>-0.475989</td>\n",
       "      <td>5.0</td>\n",
       "    </tr>\n",
       "    <tr>\n",
       "      <th>cr03c16_19700102</th>\n",
       "      <td>cr03c16_19700102</td>\n",
       "      <td>calhead</td>\n",
       "      <td>18.526869</td>\n",
       "      <td>19.804741</td>\n",
       "      <td>-1.277872</td>\n",
       "      <td>5.0</td>\n",
       "    </tr>\n",
       "    <tr>\n",
       "      <th>cr04c09_19700102</th>\n",
       "      <td>cr04c09_19700102</td>\n",
       "      <td>calhead</td>\n",
       "      <td>24.412637</td>\n",
       "      <td>23.432306</td>\n",
       "      <td>0.980331</td>\n",
       "      <td>5.0</td>\n",
       "    </tr>\n",
       "    <tr>\n",
       "      <th>cr10c02_19700102</th>\n",
       "      <td>cr10c02_19700102</td>\n",
       "      <td>calhead</td>\n",
       "      <td>27.985834</td>\n",
       "      <td>28.026882</td>\n",
       "      <td>-0.041048</td>\n",
       "      <td>5.0</td>\n",
       "    </tr>\n",
       "    <tr>\n",
       "      <th>cr14c11_19700102</th>\n",
       "      <td>cr14c11_19700102</td>\n",
       "      <td>calhead</td>\n",
       "      <td>21.070509</td>\n",
       "      <td>19.088724</td>\n",
       "      <td>1.981784</td>\n",
       "      <td>5.0</td>\n",
       "    </tr>\n",
       "    <tr>\n",
       "      <th>cr16c17_19700102</th>\n",
       "      <td>cr16c17_19700102</td>\n",
       "      <td>calhead</td>\n",
       "      <td>15.468176</td>\n",
       "      <td>17.337614</td>\n",
       "      <td>-1.869438</td>\n",
       "      <td>5.0</td>\n",
       "    </tr>\n",
       "    <tr>\n",
       "      <th>cr22c11_19700102</th>\n",
       "      <td>cr22c11_19700102</td>\n",
       "      <td>calhead</td>\n",
       "      <td>20.485881</td>\n",
       "      <td>20.909229</td>\n",
       "      <td>-0.423348</td>\n",
       "      <td>5.0</td>\n",
       "    </tr>\n",
       "    <tr>\n",
       "      <th>cr23c16_19700102</th>\n",
       "      <td>cr23c16_19700102</td>\n",
       "      <td>calhead</td>\n",
       "      <td>15.308345</td>\n",
       "      <td>15.917829</td>\n",
       "      <td>-0.609483</td>\n",
       "      <td>5.0</td>\n",
       "    </tr>\n",
       "    <tr>\n",
       "      <th>cr25c05_19700102</th>\n",
       "      <td>cr25c05_19700102</td>\n",
       "      <td>calhead</td>\n",
       "      <td>22.408501</td>\n",
       "      <td>23.461639</td>\n",
       "      <td>-1.053138</td>\n",
       "      <td>5.0</td>\n",
       "    </tr>\n",
       "    <tr>\n",
       "      <th>cr27c07_19700102</th>\n",
       "      <td>cr27c07_19700102</td>\n",
       "      <td>calhead</td>\n",
       "      <td>22.530558</td>\n",
       "      <td>21.869864</td>\n",
       "      <td>0.660694</td>\n",
       "      <td>5.0</td>\n",
       "    </tr>\n",
       "    <tr>\n",
       "      <th>cr30c16_19700102</th>\n",
       "      <td>cr30c16_19700102</td>\n",
       "      <td>calhead</td>\n",
       "      <td>12.127082</td>\n",
       "      <td>13.875625</td>\n",
       "      <td>-1.748542</td>\n",
       "      <td>5.0</td>\n",
       "    </tr>\n",
       "    <tr>\n",
       "      <th>cr34c08_19700102</th>\n",
       "      <td>cr34c08_19700102</td>\n",
       "      <td>calhead</td>\n",
       "      <td>18.976409</td>\n",
       "      <td>18.081184</td>\n",
       "      <td>0.895225</td>\n",
       "      <td>5.0</td>\n",
       "    </tr>\n",
       "    <tr>\n",
       "      <th>cr35c11_19700102</th>\n",
       "      <td>cr35c11_19700102</td>\n",
       "      <td>calhead</td>\n",
       "      <td>15.445541</td>\n",
       "      <td>15.857517</td>\n",
       "      <td>-0.411976</td>\n",
       "      <td>5.0</td>\n",
       "    </tr>\n",
       "  </tbody>\n",
       "</table>\n",
       "</div>"
      ],
      "text/plain": [
       "                                      name    group     measured     modelled  \\\n",
       "name                                                                            \n",
       "flx_river_l_19700102  flx_river_l_19700102  calflux -3706.027000 -3706.303223   \n",
       "cr03c10_19700102          cr03c10_19700102  calhead    22.331451    22.807440   \n",
       "cr03c16_19700102          cr03c16_19700102  calhead    18.526869    19.804741   \n",
       "cr04c09_19700102          cr04c09_19700102  calhead    24.412637    23.432306   \n",
       "cr10c02_19700102          cr10c02_19700102  calhead    27.985834    28.026882   \n",
       "cr14c11_19700102          cr14c11_19700102  calhead    21.070509    19.088724   \n",
       "cr16c17_19700102          cr16c17_19700102  calhead    15.468176    17.337614   \n",
       "cr22c11_19700102          cr22c11_19700102  calhead    20.485881    20.909229   \n",
       "cr23c16_19700102          cr23c16_19700102  calhead    15.308345    15.917829   \n",
       "cr25c05_19700102          cr25c05_19700102  calhead    22.408501    23.461639   \n",
       "cr27c07_19700102          cr27c07_19700102  calhead    22.530558    21.869864   \n",
       "cr30c16_19700102          cr30c16_19700102  calhead    12.127082    13.875625   \n",
       "cr34c08_19700102          cr34c08_19700102  calhead    18.976409    18.081184   \n",
       "cr35c11_19700102          cr35c11_19700102  calhead    15.445541    15.857517   \n",
       "\n",
       "                      residual  weight  \n",
       "name                                    \n",
       "flx_river_l_19700102  0.276223     0.1  \n",
       "cr03c10_19700102     -0.475989     5.0  \n",
       "cr03c16_19700102     -1.277872     5.0  \n",
       "cr04c09_19700102      0.980331     5.0  \n",
       "cr10c02_19700102     -0.041048     5.0  \n",
       "cr14c11_19700102      1.981784     5.0  \n",
       "cr16c17_19700102     -1.869438     5.0  \n",
       "cr22c11_19700102     -0.423348     5.0  \n",
       "cr23c16_19700102     -0.609483     5.0  \n",
       "cr25c05_19700102     -1.053138     5.0  \n",
       "cr27c07_19700102      0.660694     5.0  \n",
       "cr30c16_19700102     -1.748542     5.0  \n",
       "cr34c08_19700102      0.895225     5.0  \n",
       "cr35c11_19700102     -0.411976     5.0  "
      ]
     },
     "execution_count": 6,
     "metadata": {},
     "output_type": "execute_result"
    }
   ],
   "source": [
    "pst.res.loc[pst.nnz_obs_names,:]"
   ]
  },
  {
   "cell_type": "code",
   "execution_count": 7,
   "metadata": {},
   "outputs": [
    {
     "data": {
      "text/plain": [
       "(11.326556562029246, 28.786360092970749)"
      ]
     },
     "execution_count": 7,
     "metadata": {},
     "output_type": "execute_result"
    },
    {
     "data": {
      "image/png": "[encoded data removed]",
      "text/plain": [
       "<matplotlib.figure.Figure at 0x1114aa5c0>"
      ]
     },
     "metadata": {},
     "output_type": "display_data"
    }
   ],
   "source": [
    "ax = plt.subplot(111,aspect=\"equal\") \n",
    "wl_names = [n for n in pst.nnz_obs_names if n.startswith(\"c\")]\n",
    "ax.scatter(pst.res.loc[wl_names,\"modelled\"],pst.res.loc[wl_names,\"measured\"],marker='.')\n",
    "ylim,xlim = ax.get_ylim(),ax.get_xlim()\n",
    "mn = min(ylim[0],xlim[0])\n",
    "mx = max(ylim[1],xlim[1])\n",
    "ax.plot([mn,mx],[mn,mx])\n",
    "ax.set_ylim(mn,mx)\n",
    "ax.set_xlim(mn,mx)"
   ]
  },
  {
   "cell_type": "code",
   "execution_count": 8,
   "metadata": {},
   "outputs": [
    {
     "data": {
      "text/html": [
       "<div>\n",
       "<style>\n",
       "    .dataframe thead tr:only-child th {\n",
       "        text-align: right;\n",
       "    }\n",
       "\n",
       "    .dataframe thead th {\n",
       "        text-align: left;\n",
       "    }\n",
       "\n",
       "    .dataframe tbody tr th {\n",
       "        vertical-align: top;\n",
       "    }\n",
       "</style>\n",
       "<table border=\"1\" class=\"dataframe\">\n",
       "  <thead>\n",
       "    <tr style=\"text-align: right;\">\n",
       "      <th></th>\n",
       "      <th>prior_mean</th>\n",
       "      <th>prior_stdev</th>\n",
       "      <th>prior_lower_bound</th>\n",
       "      <th>prior_upper_bound</th>\n",
       "      <th>post_mean</th>\n",
       "      <th>post_stdev</th>\n",
       "      <th>post_lower_bound</th>\n",
       "      <th>post_upper_bound</th>\n",
       "    </tr>\n",
       "    <tr>\n",
       "      <th>name</th>\n",
       "      <th></th>\n",
       "      <th></th>\n",
       "      <th></th>\n",
       "      <th></th>\n",
       "      <th></th>\n",
       "      <th></th>\n",
       "      <th></th>\n",
       "      <th></th>\n",
       "    </tr>\n",
       "  </thead>\n",
       "  <tbody>\n",
       "    <tr>\n",
       "      <th>RCH_0</th>\n",
       "      <td>0.00000</td>\n",
       "      <td>0.055462</td>\n",
       "      <td>-0.110924</td>\n",
       "      <td>0.110924</td>\n",
       "      <td>0.017354</td>\n",
       "      <td>0.008089</td>\n",
       "      <td>0.001177</td>\n",
       "      <td>0.033532</td>\n",
       "    </tr>\n",
       "    <tr>\n",
       "      <th>RCH_1</th>\n",
       "      <td>0.00000</td>\n",
       "      <td>0.055462</td>\n",
       "      <td>-0.110924</td>\n",
       "      <td>0.110924</td>\n",
       "      <td>0.000000</td>\n",
       "      <td>0.055462</td>\n",
       "      <td>-0.110924</td>\n",
       "      <td>0.110924</td>\n",
       "    </tr>\n",
       "    <tr>\n",
       "      <th>HK_Z01</th>\n",
       "      <td>0.69897</td>\n",
       "      <td>0.500000</td>\n",
       "      <td>-0.301030</td>\n",
       "      <td>1.698970</td>\n",
       "      <td>1.698970</td>\n",
       "      <td>0.499963</td>\n",
       "      <td>0.699045</td>\n",
       "      <td>2.698900</td>\n",
       "    </tr>\n",
       "    <tr>\n",
       "      <th>HK_Z02</th>\n",
       "      <td>0.69897</td>\n",
       "      <td>0.500000</td>\n",
       "      <td>-0.301030</td>\n",
       "      <td>1.698970</td>\n",
       "      <td>0.972522</td>\n",
       "      <td>0.291445</td>\n",
       "      <td>0.389632</td>\n",
       "      <td>1.555410</td>\n",
       "    </tr>\n",
       "    <tr>\n",
       "      <th>HK_Z03</th>\n",
       "      <td>0.69897</td>\n",
       "      <td>0.500000</td>\n",
       "      <td>-0.301030</td>\n",
       "      <td>1.698970</td>\n",
       "      <td>0.965894</td>\n",
       "      <td>0.156054</td>\n",
       "      <td>0.653787</td>\n",
       "      <td>1.278000</td>\n",
       "    </tr>\n",
       "    <tr>\n",
       "      <th>HK_Z04</th>\n",
       "      <td>0.69897</td>\n",
       "      <td>0.500000</td>\n",
       "      <td>-0.301030</td>\n",
       "      <td>1.698970</td>\n",
       "      <td>0.978248</td>\n",
       "      <td>0.313881</td>\n",
       "      <td>0.350485</td>\n",
       "      <td>1.606010</td>\n",
       "    </tr>\n",
       "    <tr>\n",
       "      <th>HK_Z05</th>\n",
       "      <td>0.69897</td>\n",
       "      <td>0.500000</td>\n",
       "      <td>-0.301030</td>\n",
       "      <td>1.698970</td>\n",
       "      <td>-0.138162</td>\n",
       "      <td>0.283996</td>\n",
       "      <td>-0.706155</td>\n",
       "      <td>0.429830</td>\n",
       "    </tr>\n",
       "    <tr>\n",
       "      <th>HK_Z06</th>\n",
       "      <td>0.69897</td>\n",
       "      <td>0.500000</td>\n",
       "      <td>-0.301030</td>\n",
       "      <td>1.698970</td>\n",
       "      <td>1.473250</td>\n",
       "      <td>0.187878</td>\n",
       "      <td>1.097490</td>\n",
       "      <td>1.849000</td>\n",
       "    </tr>\n",
       "  </tbody>\n",
       "</table>\n",
       "</div>"
      ],
      "text/plain": [
       "        prior_mean  prior_stdev  prior_lower_bound  prior_upper_bound  \\\n",
       "name                                                                    \n",
       "RCH_0      0.00000     0.055462          -0.110924           0.110924   \n",
       "RCH_1      0.00000     0.055462          -0.110924           0.110924   \n",
       "HK_Z01     0.69897     0.500000          -0.301030           1.698970   \n",
       "HK_Z02     0.69897     0.500000          -0.301030           1.698970   \n",
       "HK_Z03     0.69897     0.500000          -0.301030           1.698970   \n",
       "HK_Z04     0.69897     0.500000          -0.301030           1.698970   \n",
       "HK_Z05     0.69897     0.500000          -0.301030           1.698970   \n",
       "HK_Z06     0.69897     0.500000          -0.301030           1.698970   \n",
       "\n",
       "        post_mean  post_stdev  post_lower_bound  post_upper_bound  \n",
       "name                                                               \n",
       "RCH_0    0.017354    0.008089          0.001177          0.033532  \n",
       "RCH_1    0.000000    0.055462         -0.110924          0.110924  \n",
       "HK_Z01   1.698970    0.499963          0.699045          2.698900  \n",
       "HK_Z02   0.972522    0.291445          0.389632          1.555410  \n",
       "HK_Z03   0.965894    0.156054          0.653787          1.278000  \n",
       "HK_Z04   0.978248    0.313881          0.350485          1.606010  \n",
       "HK_Z05  -0.138162    0.283996         -0.706155          0.429830  \n",
       "HK_Z06   1.473250    0.187878          1.097490          1.849000  "
      ]
     },
     "execution_count": 8,
     "metadata": {},
     "output_type": "execute_result"
    }
   ],
   "source": [
    "df_paru = pd.read_csv(os.path.join(working_dir,pst_name.replace(\".pst\",\".par.usum.csv\")),index_col=0)\n",
    "df_paru"
   ]
  },
  {
   "cell_type": "code",
   "execution_count": 9,
   "metadata": {},
   "outputs": [
    {
     "data": {
      "image/png": "[encoded data removed]",
      "text/plain": [
       "<matplotlib.figure.Figure at 0x10c48f0b8>"
      ]
     },
     "metadata": {},
     "output_type": "display_data"
    },
    {
     "data": {
      "image/png": "[encoded data removed]",
      "text/plain": [
       "<matplotlib.figure.Figure at 0x1112afe48>"
      ]
     },
     "metadata": {},
     "output_type": "display_data"
    }
   ],
   "source": [
    "axes = pyemu.helpers.plot_summary_distributions(df_paru,subplots=True)"
   ]
  },
  {
   "cell_type": "markdown",
   "metadata": {},
   "source": [
    "Why is ``rch_1`` unaffected by calibration?"
   ]
  },
  {
   "cell_type": "code",
   "execution_count": null,
   "metadata": {
    "collapsed": true
   },
   "outputs": [],
   "source": [
    "df_predu = pd.read_csv(os.path.join(working_dir,pst_name.replace(\".pst\",\".pred.usum.csv\")),index_col=0)"
   ]
  },
  {
   "cell_type": "code",
   "execution_count": null,
   "metadata": {},
   "outputs": [],
   "source": [
    "figs, axes = pyemu.helpers.plot_summary_distributions(df_predu,subplots=True)\n",
    "for ax in axes:\n",
    "    fname = ax.get_title().lower()\n",
    "    ylim = ax.get_ylim()\n",
    "    v = pst.observation_data.loc[fname,\"obsval\"]\n",
    "    ax.plot([v,v],ylim,\"k--\")\n",
    "    ax.set_ylim(ylim)"
   ]
  },
  {
   "cell_type": "markdown",
   "metadata": {},
   "source": [
    "Now we have some variability in the forecast outcomes...why?"
   ]
  },
  {
   "cell_type": "markdown",
   "metadata": {
    "collapsed": true
   },
   "source": [
    "As far as the \"truth\" is concerned, we are doing better for most forecasts.  But we are especially bad for the tranvel time forecast - why?  What affects travel time?"
   ]
  },
  {
   "cell_type": "code",
   "execution_count": null,
   "metadata": {
    "collapsed": true
   },
   "outputs": [],
   "source": []
  }
 ],
 "metadata": {
  "anaconda-cloud": {},
  "kernelspec": {
   "display_name": "Python [Root]",
   "language": "python",
   "name": "Python [Root]"
  },
  "language_info": {
   "codemirror_mode": {
    "name": "ipython",
    "version": 3
   },
   "file_extension": ".py",
   "mimetype": "text/x-python",
   "name": "python",
   "nbconvert_exporter": "python",
   "pygments_lexer": "ipython3",
   "version": "3.5.2"
  }
 },
 "nbformat": 4,
 "nbformat_minor": 1
}
