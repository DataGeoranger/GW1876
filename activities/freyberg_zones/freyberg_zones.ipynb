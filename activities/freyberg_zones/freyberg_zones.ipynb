{
 "cells": [
  {
   "cell_type": "markdown",
   "metadata": {},
   "source": [
    "# History match the freyberg model using ``K`` parameter zones"
   ]
  },
  {
   "cell_type": "code",
   "execution_count": 7,
   "metadata": {
    "collapsed": false
   },
   "outputs": [],
   "source": [
    "%matplotlib inline\n",
    "import os\n",
    "import shutil\n",
    "import pandas as pd\n",
    "import numpy as np\n",
    "import matplotlib.pyplot as plt\n",
    "import pyemu\n",
    "import platform\n",
    "import pestools as pt\n",
    "if 'window' in platform.platform().lower():\n",
    "    ppp = 'pest++'\n",
    "else:\n",
    "    ppp = './pestpp'"
   ]
  },
  {
   "cell_type": "code",
   "execution_count": 8,
   "metadata": {
    "collapsed": false
   },
   "outputs": [],
   "source": [
    "base_dir = os.path.join(\"..\",\"..\",\"models\",\"Freyberg\",\"Freyberg_zones\")\n",
    "assert os.path.exists(base_dir)\n",
    "[shutil.copy2(os.path.join(base_dir,f),f) for f in os.listdir(base_dir)];"
   ]
  },
  {
   "cell_type": "markdown",
   "metadata": {},
   "source": [
    "# Let's set up a model using multiple zones for Hydraulic Conductivity\n",
    "\n",
    "We have an interpretation of zonation, say from a geologic lithology map."
   ]
  },
  {
   "cell_type": "code",
   "execution_count": 9,
   "metadata": {
    "collapsed": false
   },
   "outputs": [],
   "source": [
    "inzones = np.loadtxt('hk.zones')"
   ]
  },
  {
   "cell_type": "code",
   "execution_count": 10,
   "metadata": {
    "collapsed": false
   },
   "outputs": [
    {
     "data": {
      "text/plain": [
       "<matplotlib.colorbar.Colorbar at 0x11aa827f0>"
      ]
     },
     "execution_count": 10,
     "metadata": {},
     "output_type": "execute_result"
    },
    {
     "data": {
      "image/png": "[encoded data removed]",
      "text/plain": [
       "<matplotlib.figure.Figure at 0x1143c8be0>"
      ]
     },
     "metadata": {},
     "output_type": "display_data"
    }
   ],
   "source": [
    "plt.imshow(inzones,interpolation='nearest',cmap='viridis')\n",
    "plt.colorbar()"
   ]
  },
  {
   "cell_type": "code",
   "execution_count": 11,
   "metadata": {
    "collapsed": false
   },
   "outputs": [
    {
     "data": {
      "text/plain": [
       "array([ 1.,  2.,  3.,  4.,  5.,  6.])"
      ]
     },
     "execution_count": 11,
     "metadata": {},
     "output_type": "execute_result"
    }
   ],
   "source": [
    "# see what the unique values are\n",
    "np.unique(inzones)"
   ]
  },
  {
   "cell_type": "markdown",
   "metadata": {},
   "source": [
    "## Look at `hk.zones` in a text editor\n",
    "How can we make a template file to handle this?"
   ]
  },
  {
   "cell_type": "code",
   "execution_count": null,
   "metadata": {
    "collapsed": true
   },
   "outputs": [],
   "source": []
  },
  {
   "cell_type": "code",
   "execution_count": 13,
   "metadata": {
    "collapsed": false
   },
   "outputs": [],
   "source": [
    "pyemu.utils.start_slaves(base_dir,\"{0}\".format(ppp),\"freyberg_zones.pst\",20,slave_root='.',port=4004,master_dir='.')\n"
   ]
  },
  {
   "cell_type": "markdown",
   "metadata": {},
   "source": [
    "Let's explore the results"
   ]
  },
  {
   "cell_type": "code",
   "execution_count": 14,
   "metadata": {
    "collapsed": false
   },
   "outputs": [
    {
     "data": {
      "text/html": [
       "<div>\n",
       "<table border=\"1\" class=\"dataframe\">\n",
       "  <thead>\n",
       "    <tr style=\"text-align: right;\">\n",
       "      <th></th>\n",
       "      <th>model_runs_completed</th>\n",
       "      <th>total_phi</th>\n",
       "      <th>measurement_phi</th>\n",
       "      <th>regularization_phi</th>\n",
       "      <th>flux_fore</th>\n",
       "      <th>travel_fore</th>\n",
       "      <th>head_cal</th>\n",
       "      <th>flux_cal</th>\n",
       "      <th>head_fore</th>\n",
       "    </tr>\n",
       "    <tr>\n",
       "      <th>iteration</th>\n",
       "      <th></th>\n",
       "      <th></th>\n",
       "      <th></th>\n",
       "      <th></th>\n",
       "      <th></th>\n",
       "      <th></th>\n",
       "      <th></th>\n",
       "      <th></th>\n",
       "      <th></th>\n",
       "    </tr>\n",
       "  </thead>\n",
       "  <tbody>\n",
       "    <tr>\n",
       "      <th>0</th>\n",
       "      <td>0</td>\n",
       "      <td>62.31380</td>\n",
       "      <td>62.31380</td>\n",
       "      <td>0</td>\n",
       "      <td>0</td>\n",
       "      <td>0</td>\n",
       "      <td>57.95480</td>\n",
       "      <td>4.359080</td>\n",
       "      <td>0</td>\n",
       "    </tr>\n",
       "    <tr>\n",
       "      <th>1</th>\n",
       "      <td>15</td>\n",
       "      <td>10.88570</td>\n",
       "      <td>10.88570</td>\n",
       "      <td>0</td>\n",
       "      <td>0</td>\n",
       "      <td>0</td>\n",
       "      <td>10.80850</td>\n",
       "      <td>0.077223</td>\n",
       "      <td>0</td>\n",
       "    </tr>\n",
       "    <tr>\n",
       "      <th>2</th>\n",
       "      <td>29</td>\n",
       "      <td>9.66242</td>\n",
       "      <td>9.66242</td>\n",
       "      <td>0</td>\n",
       "      <td>0</td>\n",
       "      <td>0</td>\n",
       "      <td>9.66235</td>\n",
       "      <td>0.000066</td>\n",
       "      <td>0</td>\n",
       "    </tr>\n",
       "    <tr>\n",
       "      <th>3</th>\n",
       "      <td>43</td>\n",
       "      <td>9.65515</td>\n",
       "      <td>9.65515</td>\n",
       "      <td>0</td>\n",
       "      <td>0</td>\n",
       "      <td>0</td>\n",
       "      <td>9.65453</td>\n",
       "      <td>0.000625</td>\n",
       "      <td>0</td>\n",
       "    </tr>\n",
       "    <tr>\n",
       "      <th>4</th>\n",
       "      <td>65</td>\n",
       "      <td>9.65305</td>\n",
       "      <td>9.65305</td>\n",
       "      <td>0</td>\n",
       "      <td>0</td>\n",
       "      <td>0</td>\n",
       "      <td>9.65246</td>\n",
       "      <td>0.000583</td>\n",
       "      <td>0</td>\n",
       "    </tr>\n",
       "  </tbody>\n",
       "</table>\n",
       "</div>"
      ],
      "text/plain": [
       "           model_runs_completed  total_phi  measurement_phi  \\\n",
       "iteration                                                     \n",
       "0                             0   62.31380         62.31380   \n",
       "1                            15   10.88570         10.88570   \n",
       "2                            29    9.66242          9.66242   \n",
       "3                            43    9.65515          9.65515   \n",
       "4                            65    9.65305          9.65305   \n",
       "\n",
       "           regularization_phi  flux_fore  travel_fore  head_cal  flux_cal  \\\n",
       "iteration                                                                   \n",
       "0                           0          0            0  57.95480  4.359080   \n",
       "1                           0          0            0  10.80850  0.077223   \n",
       "2                           0          0            0   9.66235  0.000066   \n",
       "3                           0          0            0   9.65453  0.000625   \n",
       "4                           0          0            0   9.65246  0.000583   \n",
       "\n",
       "           head_fore  \n",
       "iteration             \n",
       "0                  0  \n",
       "1                  0  \n",
       "2                  0  \n",
       "3                  0  \n",
       "4                  0  "
      ]
     },
     "execution_count": 14,
     "metadata": {},
     "output_type": "execute_result"
    }
   ],
   "source": [
    "df_obj = pd.read_csv(\"freyberg_zones.iobj\",index_col=0)\n",
    "df_obj"
   ]
  },
  {
   "cell_type": "code",
   "execution_count": 15,
   "metadata": {
    "collapsed": true
   },
   "outputs": [],
   "source": [
    "res = pt.Res('freyberg_zones.rei')"
   ]
  },
  {
   "cell_type": "code",
   "execution_count": 16,
   "metadata": {
    "collapsed": false
   },
   "outputs": [
    {
     "data": {
      "text/html": [
       "<div>\n",
       "<table border=\"1\" class=\"dataframe\">\n",
       "  <thead>\n",
       "    <tr style=\"text-align: right;\">\n",
       "      <th></th>\n",
       "      <th>Group summary</th>\n",
       "    </tr>\n",
       "  </thead>\n",
       "  <tbody>\n",
       "    <tr>\n",
       "      <th>n</th>\n",
       "      <td>13</td>\n",
       "    </tr>\n",
       "    <tr>\n",
       "      <th>Range</th>\n",
       "      <td>3.59365</td>\n",
       "    </tr>\n",
       "    <tr>\n",
       "      <th>Max</th>\n",
       "      <td>2.27696</td>\n",
       "    </tr>\n",
       "    <tr>\n",
       "      <th>Min</th>\n",
       "      <td>-1.31669</td>\n",
       "    </tr>\n",
       "    <tr>\n",
       "      <th>Mean</th>\n",
       "      <td>0.0843231</td>\n",
       "    </tr>\n",
       "    <tr>\n",
       "      <th>Standard deviation</th>\n",
       "      <td>0.892563</td>\n",
       "    </tr>\n",
       "    <tr>\n",
       "      <th>Varience</th>\n",
       "      <td>0.796669</td>\n",
       "    </tr>\n",
       "    <tr>\n",
       "      <th>25%</th>\n",
       "      <td>-0.42404</td>\n",
       "    </tr>\n",
       "    <tr>\n",
       "      <th>50%</th>\n",
       "      <td>-0.02686</td>\n",
       "    </tr>\n",
       "    <tr>\n",
       "      <th>75%</th>\n",
       "      <td>0.4067</td>\n",
       "    </tr>\n",
       "    <tr>\n",
       "      <th>Max (absolute)</th>\n",
       "      <td>2.27696</td>\n",
       "    </tr>\n",
       "    <tr>\n",
       "      <th>Min (absolute)</th>\n",
       "      <td>0.02686</td>\n",
       "    </tr>\n",
       "    <tr>\n",
       "      <th>MAE</th>\n",
       "      <td>0.623663</td>\n",
       "    </tr>\n",
       "    <tr>\n",
       "      <th>RMSE</th>\n",
       "      <td>0.861683</td>\n",
       "    </tr>\n",
       "    <tr>\n",
       "      <th>RMSE/range</th>\n",
       "      <td>0.239779</td>\n",
       "    </tr>\n",
       "    <tr>\n",
       "      <th>Normally Distributed</th>\n",
       "      <td>False</td>\n",
       "    </tr>\n",
       "    <tr>\n",
       "      <th>p-value</th>\n",
       "      <td>0.42348</td>\n",
       "    </tr>\n",
       "  </tbody>\n",
       "</table>\n",
       "</div>"
      ],
      "text/plain": [
       "                     Group summary\n",
       "n                               13\n",
       "Range                      3.59365\n",
       "Max                        2.27696\n",
       "Min                       -1.31669\n",
       "Mean                     0.0843231\n",
       "Standard deviation        0.892563\n",
       "Varience                  0.796669\n",
       "25%                       -0.42404\n",
       "50%                       -0.02686\n",
       "75%                         0.4067\n",
       "Max (absolute)             2.27696\n",
       "Min (absolute)             0.02686\n",
       "MAE                       0.623663\n",
       "RMSE                      0.861683\n",
       "RMSE/range                0.239779\n",
       "Normally Distributed         False\n",
       "p-value                    0.42348"
      ]
     },
     "execution_count": 16,
     "metadata": {},
     "output_type": "execute_result"
    }
   ],
   "source": [
    "res.describe_groups('head_cal')"
   ]
  },
  {
   "cell_type": "code",
   "execution_count": 17,
   "metadata": {
    "collapsed": false
   },
   "outputs": [
    {
     "data": {
      "text/html": [
       "<div>\n",
       "<table border=\"1\" class=\"dataframe\">\n",
       "  <thead>\n",
       "    <tr style=\"text-align: right;\">\n",
       "      <th></th>\n",
       "      <th>Group summary</th>\n",
       "    </tr>\n",
       "  </thead>\n",
       "  <tbody>\n",
       "    <tr>\n",
       "      <th>n</th>\n",
       "      <td>1.000000</td>\n",
       "    </tr>\n",
       "    <tr>\n",
       "      <th>Range</th>\n",
       "      <td>0.000000</td>\n",
       "    </tr>\n",
       "    <tr>\n",
       "      <th>Max</th>\n",
       "      <td>2.415000</td>\n",
       "    </tr>\n",
       "    <tr>\n",
       "      <th>Min</th>\n",
       "      <td>2.415000</td>\n",
       "    </tr>\n",
       "    <tr>\n",
       "      <th>Mean</th>\n",
       "      <td>2.415000</td>\n",
       "    </tr>\n",
       "    <tr>\n",
       "      <th>Standard deviation</th>\n",
       "      <td>NaN</td>\n",
       "    </tr>\n",
       "    <tr>\n",
       "      <th>Varience</th>\n",
       "      <td>NaN</td>\n",
       "    </tr>\n",
       "    <tr>\n",
       "      <th>25%</th>\n",
       "      <td>2.415000</td>\n",
       "    </tr>\n",
       "    <tr>\n",
       "      <th>50%</th>\n",
       "      <td>2.415000</td>\n",
       "    </tr>\n",
       "    <tr>\n",
       "      <th>75%</th>\n",
       "      <td>2.415000</td>\n",
       "    </tr>\n",
       "    <tr>\n",
       "      <th>Max (absolute)</th>\n",
       "      <td>2.415000</td>\n",
       "    </tr>\n",
       "    <tr>\n",
       "      <th>Min (absolute)</th>\n",
       "      <td>2.415000</td>\n",
       "    </tr>\n",
       "    <tr>\n",
       "      <th>MAE</th>\n",
       "      <td>2.415000</td>\n",
       "    </tr>\n",
       "    <tr>\n",
       "      <th>RMSE</th>\n",
       "      <td>2.415000</td>\n",
       "    </tr>\n",
       "    <tr>\n",
       "      <th>RMSE/range</th>\n",
       "      <td>inf</td>\n",
       "    </tr>\n",
       "    <tr>\n",
       "      <th>Normally Distributed</th>\n",
       "      <td>NaN</td>\n",
       "    </tr>\n",
       "    <tr>\n",
       "      <th>p-value</th>\n",
       "      <td>-1.000000</td>\n",
       "    </tr>\n",
       "  </tbody>\n",
       "</table>\n",
       "</div>"
      ],
      "text/plain": [
       "                      Group summary\n",
       "n                          1.000000\n",
       "Range                      0.000000\n",
       "Max                        2.415000\n",
       "Min                        2.415000\n",
       "Mean                       2.415000\n",
       "Standard deviation              NaN\n",
       "Varience                        NaN\n",
       "25%                        2.415000\n",
       "50%                        2.415000\n",
       "75%                        2.415000\n",
       "Max (absolute)             2.415000\n",
       "Min (absolute)             2.415000\n",
       "MAE                        2.415000\n",
       "RMSE                       2.415000\n",
       "RMSE/range                      inf\n",
       "Normally Distributed            NaN\n",
       "p-value                   -1.000000"
      ]
     },
     "execution_count": 17,
     "metadata": {},
     "output_type": "execute_result"
    }
   ],
   "source": [
    "res.describe_groups('flux_cal')"
   ]
  },
  {
   "cell_type": "code",
   "execution_count": 18,
   "metadata": {
    "collapsed": false
   },
   "outputs": [
    {
     "data": {
      "text/plain": [
       "(<matplotlib.figure.Figure at 0x11af649b0>,\n",
       " <matplotlib.axes._subplots.AxesSubplot at 0x11af77518>)"
      ]
     },
     "execution_count": 18,
     "metadata": {},
     "output_type": "execute_result"
    },
    {
     "data": {
      "image/png": "[encoded data removed]",
      "text/plain": [
       "<matplotlib.figure.Figure at 0x11af649b0>"
      ]
     },
     "metadata": {},
     "output_type": "display_data"
    }
   ],
   "source": [
    "res.plot_one2one('head_cal',print_stats=['Mean', 'MAE', 'RMSE'])"
   ]
  },
  {
   "cell_type": "code",
   "execution_count": 19,
   "metadata": {
    "collapsed": false
   },
   "outputs": [
    {
     "data": {
      "image/png": "[encoded data removed]",
      "text/plain": [
       "<matplotlib.figure.Figure at 0x11af646d8>"
      ]
     },
     "metadata": {},
     "output_type": "display_data"
    }
   ],
   "source": [
    "res.plot_measured_vs_residual('head_cal')"
   ]
  },
  {
   "cell_type": "code",
   "execution_count": 20,
   "metadata": {
    "collapsed": false
   },
   "outputs": [
    {
     "data": {
      "text/html": [
       "<div>\n",
       "<table border=\"1\" class=\"dataframe\">\n",
       "  <thead>\n",
       "    <tr style=\"text-align: right;\">\n",
       "      <th></th>\n",
       "      <th>name</th>\n",
       "      <th>prior_mean</th>\n",
       "      <th>prior_stdev</th>\n",
       "      <th>prior_lower_bound</th>\n",
       "      <th>prior_upper_bound</th>\n",
       "      <th>post_mean</th>\n",
       "      <th>post_stdev</th>\n",
       "      <th>post_lower_bound</th>\n",
       "      <th>post_upper_bound</th>\n",
       "    </tr>\n",
       "  </thead>\n",
       "  <tbody>\n",
       "    <tr>\n",
       "      <th>0</th>\n",
       "      <td>RCH1</td>\n",
       "      <td>-3.85943</td>\n",
       "      <td>0.073176</td>\n",
       "      <td>-4.00578</td>\n",
       "      <td>-3.71307</td>\n",
       "      <td>-3.850170</td>\n",
       "      <td>0.004126</td>\n",
       "      <td>-3.858420</td>\n",
       "      <td>-3.841920</td>\n",
       "    </tr>\n",
       "    <tr>\n",
       "      <th>1</th>\n",
       "      <td>HK1</td>\n",
       "      <td>0.90309</td>\n",
       "      <td>0.451545</td>\n",
       "      <td>0.00000</td>\n",
       "      <td>1.80618</td>\n",
       "      <td>0.240612</td>\n",
       "      <td>0.451491</td>\n",
       "      <td>-0.662370</td>\n",
       "      <td>1.143590</td>\n",
       "    </tr>\n",
       "    <tr>\n",
       "      <th>2</th>\n",
       "      <td>HK2</td>\n",
       "      <td>0.90309</td>\n",
       "      <td>0.451545</td>\n",
       "      <td>0.00000</td>\n",
       "      <td>1.80618</td>\n",
       "      <td>0.836830</td>\n",
       "      <td>0.182001</td>\n",
       "      <td>0.472828</td>\n",
       "      <td>1.200830</td>\n",
       "    </tr>\n",
       "    <tr>\n",
       "      <th>3</th>\n",
       "      <td>HK3</td>\n",
       "      <td>0.90309</td>\n",
       "      <td>0.451545</td>\n",
       "      <td>0.00000</td>\n",
       "      <td>1.80618</td>\n",
       "      <td>0.628383</td>\n",
       "      <td>0.124100</td>\n",
       "      <td>0.380182</td>\n",
       "      <td>0.876583</td>\n",
       "    </tr>\n",
       "    <tr>\n",
       "      <th>4</th>\n",
       "      <td>HK4</td>\n",
       "      <td>0.90309</td>\n",
       "      <td>0.451545</td>\n",
       "      <td>0.00000</td>\n",
       "      <td>1.80618</td>\n",
       "      <td>1.678480</td>\n",
       "      <td>0.347096</td>\n",
       "      <td>0.984293</td>\n",
       "      <td>2.372680</td>\n",
       "    </tr>\n",
       "    <tr>\n",
       "      <th>5</th>\n",
       "      <td>HK5</td>\n",
       "      <td>0.90309</td>\n",
       "      <td>0.451545</td>\n",
       "      <td>0.00000</td>\n",
       "      <td>1.80618</td>\n",
       "      <td>0.141782</td>\n",
       "      <td>0.153773</td>\n",
       "      <td>-0.165763</td>\n",
       "      <td>0.449327</td>\n",
       "    </tr>\n",
       "    <tr>\n",
       "      <th>6</th>\n",
       "      <td>HK6</td>\n",
       "      <td>0.90309</td>\n",
       "      <td>0.451545</td>\n",
       "      <td>0.00000</td>\n",
       "      <td>1.80618</td>\n",
       "      <td>0.674149</td>\n",
       "      <td>0.287818</td>\n",
       "      <td>0.098513</td>\n",
       "      <td>1.249790</td>\n",
       "    </tr>\n",
       "  </tbody>\n",
       "</table>\n",
       "</div>"
      ],
      "text/plain": [
       "   name  prior_mean  prior_stdev  prior_lower_bound  prior_upper_bound  \\\n",
       "0  RCH1    -3.85943     0.073176           -4.00578           -3.71307   \n",
       "1   HK1     0.90309     0.451545            0.00000            1.80618   \n",
       "2   HK2     0.90309     0.451545            0.00000            1.80618   \n",
       "3   HK3     0.90309     0.451545            0.00000            1.80618   \n",
       "4   HK4     0.90309     0.451545            0.00000            1.80618   \n",
       "5   HK5     0.90309     0.451545            0.00000            1.80618   \n",
       "6   HK6     0.90309     0.451545            0.00000            1.80618   \n",
       "\n",
       "   post_mean  post_stdev  post_lower_bound  post_upper_bound  \n",
       "0  -3.850170    0.004126         -3.858420         -3.841920  \n",
       "1   0.240612    0.451491         -0.662370          1.143590  \n",
       "2   0.836830    0.182001          0.472828          1.200830  \n",
       "3   0.628383    0.124100          0.380182          0.876583  \n",
       "4   1.678480    0.347096          0.984293          2.372680  \n",
       "5   0.141782    0.153773         -0.165763          0.449327  \n",
       "6   0.674149    0.287818          0.098513          1.249790  "
      ]
     },
     "execution_count": 20,
     "metadata": {},
     "output_type": "execute_result"
    }
   ],
   "source": [
    "df_paru = pd.read_csv(\"freyberg_zones.par.usum.csv\")\n",
    "df_paru"
   ]
  },
  {
   "cell_type": "code",
   "execution_count": 21,
   "metadata": {
    "collapsed": false
   },
   "outputs": [
    {
     "data": {
      "text/html": [
       "<div>\n",
       "<table border=\"1\" class=\"dataframe\">\n",
       "  <thead>\n",
       "    <tr style=\"text-align: right;\">\n",
       "      <th></th>\n",
       "      <th>prior_mean</th>\n",
       "      <th>prior_stdev</th>\n",
       "      <th>prior_lower_bound</th>\n",
       "      <th>prior_upper_bound</th>\n",
       "      <th>post_mean</th>\n",
       "      <th>post_stdev</th>\n",
       "      <th>post_lower_bound</th>\n",
       "      <th>post_upper_bound</th>\n",
       "    </tr>\n",
       "    <tr>\n",
       "      <th>name</th>\n",
       "      <th></th>\n",
       "      <th></th>\n",
       "      <th></th>\n",
       "      <th></th>\n",
       "      <th></th>\n",
       "      <th></th>\n",
       "      <th></th>\n",
       "      <th></th>\n",
       "    </tr>\n",
       "  </thead>\n",
       "  <tbody>\n",
       "    <tr>\n",
       "      <th>FR03C16</th>\n",
       "      <td>19.6124</td>\n",
       "      <td>0.473822</td>\n",
       "      <td>18.6648</td>\n",
       "      <td>20.5601</td>\n",
       "      <td>19.8242</td>\n",
       "      <td>0.086394</td>\n",
       "      <td>19.6514</td>\n",
       "      <td>19.9970</td>\n",
       "    </tr>\n",
       "    <tr>\n",
       "      <th>FR04C9</th>\n",
       "      <td>22.3109</td>\n",
       "      <td>3.319190</td>\n",
       "      <td>15.6725</td>\n",
       "      <td>28.9493</td>\n",
       "      <td>23.3901</td>\n",
       "      <td>0.553070</td>\n",
       "      <td>22.2840</td>\n",
       "      <td>24.4963</td>\n",
       "    </tr>\n",
       "    <tr>\n",
       "      <th>RIVFLUX_FORE</th>\n",
       "      <td>-2811.0500</td>\n",
       "      <td>576.997000</td>\n",
       "      <td>-3965.0500</td>\n",
       "      <td>-1657.0600</td>\n",
       "      <td>-2639.9700</td>\n",
       "      <td>57.014200</td>\n",
       "      <td>-2754.0000</td>\n",
       "      <td>-2525.9400</td>\n",
       "    </tr>\n",
       "    <tr>\n",
       "      <th>TRAVEL_TIME</th>\n",
       "      <td>16856.9000</td>\n",
       "      <td>51189.100000</td>\n",
       "      <td>-85521.3000</td>\n",
       "      <td>119235.0000</td>\n",
       "      <td>60927.5000</td>\n",
       "      <td>14944.100000</td>\n",
       "      <td>31039.2000</td>\n",
       "      <td>90815.8000</td>\n",
       "    </tr>\n",
       "  </tbody>\n",
       "</table>\n",
       "</div>"
      ],
      "text/plain": [
       "              prior_mean   prior_stdev  prior_lower_bound  prior_upper_bound  \\\n",
       "name                                                                           \n",
       "FR03C16          19.6124      0.473822            18.6648            20.5601   \n",
       "FR04C9           22.3109      3.319190            15.6725            28.9493   \n",
       "RIVFLUX_FORE  -2811.0500    576.997000         -3965.0500         -1657.0600   \n",
       "TRAVEL_TIME   16856.9000  51189.100000        -85521.3000        119235.0000   \n",
       "\n",
       "               post_mean    post_stdev  post_lower_bound  post_upper_bound  \n",
       "name                                                                        \n",
       "FR03C16          19.8242      0.086394           19.6514           19.9970  \n",
       "FR04C9           23.3901      0.553070           22.2840           24.4963  \n",
       "RIVFLUX_FORE  -2639.9700     57.014200        -2754.0000        -2525.9400  \n",
       "TRAVEL_TIME   60927.5000  14944.100000        31039.2000        90815.8000  "
      ]
     },
     "execution_count": 21,
     "metadata": {},
     "output_type": "execute_result"
    }
   ],
   "source": [
    "df_predu = pd.read_csv(\"freyberg_zones.pred.usum.csv\",index_col=0)\n",
    "df_predu"
   ]
  },
  {
   "cell_type": "code",
   "execution_count": 22,
   "metadata": {
    "collapsed": false,
    "scrolled": false
   },
   "outputs": [
    {
     "data": {
      "image/png": "[encoded data removed]",
      "text/plain": [
       "<matplotlib.figure.Figure at 0x114357898>"
      ]
     },
     "metadata": {},
     "output_type": "display_data"
    },
    {
     "data": {
      "image/png": "[encoded data removed]",
      "text/plain": [
       "<matplotlib.figure.Figure at 0x11c1462b0>"
      ]
     },
     "metadata": {},
     "output_type": "display_data"
    },
    {
     "data": {
      "image/png": "[encoded data removed]",
      "text/plain": [
       "<matplotlib.figure.Figure at 0x11c288588>"
      ]
     },
     "metadata": {},
     "output_type": "display_data"
    },
    {
     "data": {
      "image/png": "[encoded data removed]",
      "text/plain": [
       "<matplotlib.figure.Figure at 0x11c3bc518>"
      ]
     },
     "metadata": {},
     "output_type": "display_data"
    }
   ],
   "source": [
    "for forecast in df_predu.index:\n",
    "    ax = df_predu.loc[forecast,[\"prior_stdev\",\"post_stdev\"]].plot(kind=\"bar\")\n",
    "    ax.set_title(forecast)\n",
    "    plt.show()"
   ]
  },
  {
   "cell_type": "code",
   "execution_count": null,
   "metadata": {
    "collapsed": true
   },
   "outputs": [],
   "source": []
  },
  {
   "cell_type": "code",
   "execution_count": null,
   "metadata": {
    "collapsed": true
   },
   "outputs": [],
   "source": []
  }
 ],
 "metadata": {
  "anaconda-cloud": {},
  "kernelspec": {
   "display_name": "Python 3",
   "language": "python",
   "name": "python3"
  },
  "language_info": {
   "codemirror_mode": {
    "name": "ipython",
    "version": 3
   },
   "file_extension": ".py",
   "mimetype": "text/x-python",
   "name": "python",
   "nbconvert_exporter": "python",
   "pygments_lexer": "ipython3",
   "version": "3.5.2"
  }
 },
 "nbformat": 4,
 "nbformat_minor": 0
}
