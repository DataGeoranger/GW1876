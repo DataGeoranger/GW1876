{
 "cells": [
  {
   "cell_type": "code",
   "execution_count": 1,
   "metadata": {
    "collapsed": true,
    "scrolled": false
   },
   "outputs": [],
   "source": [
    "%matplotlib inline\n",
    "import os\n",
    "import sys\n",
    "sys.path.append(\"..\")\n",
    "import numpy as np\n",
    "import pandas as pd\n",
    "import matplotlib.pyplot as plt\n",
    "import pyemu\n",
    "import flopy"
   ]
  },
  {
   "cell_type": "code",
   "execution_count": 2,
   "metadata": {},
   "outputs": [
    {
     "name": "stdout",
     "output_type": "stream",
     "text": [
      "['.DS_Store', 'botm.ref', 'extract_zone_array.py', 'forecasts_true.csv', 'freyberg.bas', 'freyberg.dbf', 'freyberg.dis', 'freyberg.hds', 'freyberg.heads', 'freyberg.heads_potobs.ins', 'freyberg.hyd', 'freyberg.list', 'freyberg.locations', 'freyberg.mpbas', 'freyberg.mpenpt', 'freyberg.mplist', 'freyberg.mpnam', 'freyberg.mppthln', 'freyberg.mpsim', 'freyberg.oc', 'freyberg.pcg', 'freyberg.rivflux', 'freyberg.shp', 'freyberg.shx', 'freyberg.travel', 'freyberg.truth.lpf', 'freyberg.truth.nam', 'freyberg.truth.rch', 'freyberg.truth.riv', 'freyberg.truth.wel', 'hk.truth.ref', 'hk.zones', 'ibound.ref', 'inschek', 'inschek.exe', 'kzone.ref', 'mf2005', 'mf2005.exe', 'mfnwt', 'mp6', 'mp6.exe', 'mpath.in', 'obs_loc.csv', 'pest++.exe', 'pestchek', 'pestchek.exe', 'pestpp', 'potobs_group.csv', 'Process_output.py', 'run_true_model.py', 'strt.ref', 'sweep', 'sweep.exe', 'tempchek', 'tempchek.exe', 'Weights_and_best_PHI.xlsx']\n",
      "\n",
      "changing model workspace...\n",
      "   freyberg_zn\n",
      "WARNING: unit 31 of package UPW already in use\n",
      "FloPy is using the following executable to run the model: /Users/mnfienen/Documents/GIT/GW1876/activities/freyberg_zones/freyberg_zn/mfnwt\n",
      "\n",
      "                                  MODFLOW-NWT-SWR1 \n",
      "    U.S. GEOLOGICAL SURVEY MODULAR FINITE-DIFFERENCE GROUNDWATER-FLOW MODEL\n",
      "                             WITH NEWTON FORMULATION\n",
      "                             Version 1.1.1, 7/21/2016                        \n",
      "                    BASED ON MODFLOW-2005 Version 1.11.0 08/08/2013                       \n",
      "\n",
      "                    SWR1 Version 1.04.0 07/21/2016                       \n",
      "\n",
      " Using NAME file: freyberg.nam \n",
      " Run start date and time (yyyy/mm/dd hh:mm:ss): 2017/09/13 13:09:24\n",
      "\n",
      " Solving:  Stress period:     1    Time step:     1    Groundwater-Flow Eqn.\n",
      " Solving:  Stress period:     2    Time step:     1    Groundwater-Flow Eqn.\n",
      " Solving:  Stress period:     3    Time step:     1    Groundwater-Flow Eqn.\n",
      " Run end date and time (yyyy/mm/dd hh:mm:ss): 2017/09/13 13:09:24\n",
      " Elapsed run time:  0.027 Seconds\n",
      "\n",
      "  Normal termination of simulation\n",
      "run():./mp6 freyberg.mpsim\n",
      "Util2d:delr: resetting 'how' to external\n",
      "Util2d:delc: resetting 'how' to external\n",
      "Util2d:model_top: resetting 'how' to external\n",
      "Util2d:botm_layer_0: resetting 'how' to external\n",
      "Util2d:ibound_layer_0: resetting 'how' to external\n",
      "Util2d:strt_layer_0: resetting 'how' to external\n",
      "Util2d:rech_1: resetting 'how' to external\n",
      "Util2d:rech_2: resetting 'how' to external\n",
      "Util2d:rech_3: resetting 'how' to external\n",
      "Util2d:hk layer 1: resetting 'how' to external\n",
      "Util2d:vk: resetting 'how' to external\n",
      "Util2d:ss: resetting 'how' to external\n",
      "Util2d:sy: resetting 'how' to external\n",
      "FloPy is using the following executable to run the model: /Users/mnfienen/Documents/GIT/GW1876/activities/freyberg_zones/freyberg_zn/mfnwt\n",
      "\n",
      "                                  MODFLOW-NWT-SWR1 \n",
      "    U.S. GEOLOGICAL SURVEY MODULAR FINITE-DIFFERENCE GROUNDWATER-FLOW MODEL\n",
      "                             WITH NEWTON FORMULATION\n",
      "                             Version 1.1.1, 7/21/2016                        \n",
      "                    BASED ON MODFLOW-2005 Version 1.11.0 08/08/2013                       \n",
      "\n",
      "                    SWR1 Version 1.04.0 07/21/2016                       \n",
      "\n",
      " Using NAME file: freyberg.nam \n",
      " Run start date and time (yyyy/mm/dd hh:mm:ss): 2017/09/13 13:09:24\n",
      "\n",
      " Solving:  Stress period:     1    Time step:     1    Groundwater-Flow Eqn.\n",
      " Solving:  Stress period:     2    Time step:     1    Groundwater-Flow Eqn.\n",
      " Solving:  Stress period:     3    Time step:     1    Groundwater-Flow Eqn.\n",
      " Run end date and time (yyyy/mm/dd hh:mm:ss): 2017/09/13 13:09:24\n",
      " Elapsed run time:  0.026 Seconds\n",
      "\n",
      "  Normal termination of simulation\n",
      "Starting to read HYDMOD data from freyberg.hyd.bin\n",
      "Starting to read HYDMOD data from freyberg.hyd.bin.truth\n",
      "run():./inschek flux.dat.ins flux.dat\n",
      "run():./inschek vol.dat.ins vol.dat\n",
      "run():./inschek flux.dat.ins flux.dat\n",
      "run():./inschek vol.dat.ins vol.dat\n",
      "run():./inschek flux.dat.ins flux.dat\n",
      "run():./inschek freyberg.hyd.bin.dat.ins freyberg.hyd.bin.dat\n",
      "run():./inschek freyberg.travel.ins freyberg.travel\n",
      "run():./inschek vol.dat.ins vol.dat\n",
      "                            obsnme     obsval  weight    obgnme\n",
      "fr03c10_19750101  fr03c10_19750101  22.963123     0.0  forehead\n",
      "fr03c16_19750101  fr03c16_19750101  19.748100     0.0  forehead\n",
      "fr04c09_19750101  fr04c09_19750101  23.601202     0.0  forehead\n",
      "fr10c02_19750101  fr10c02_19750101  28.317913     0.0  forehead\n",
      "fr14c11_19750101  fr14c11_19750101  18.752974     0.0  forehead\n",
      "fr16c17_19750101  fr16c17_19750101  17.351105     0.0  forehead\n",
      "fr22c11_19750101  fr22c11_19750101  18.756832     0.0  forehead\n",
      "fr23c16_19750101  fr23c16_19750101  15.636627     0.0  forehead\n",
      "fr25c05_19750101  fr25c05_19750101  24.141582     0.0  forehead\n",
      "fr27c07_19750101  fr27c07_19750101  22.438749     0.0  forehead\n",
      "fr30c16_19750101  fr30c16_19750101  14.414855     0.0  forehead\n",
      "fr34c08_19750101  fr34c08_19750101  20.061316     0.0  forehead\n",
      "fr35c11_19750101  fr35c11_19750101  15.751741     0.0  forehead\n",
      "run():./pestchek freyberg_zn.pst\n",
      "run():./pestpp freyberg_zn.init.pst\n"
     ]
    }
   ],
   "source": [
    "import freyberg_setup as fs\n",
    "pst_name = fs.PST_NAME_ZN\n",
    "working_dir = fs.WORKING_DIR_ZN\n",
    "fs.setup_pest_zn()"
   ]
  },
  {
   "cell_type": "markdown",
   "metadata": {},
   "source": [
    "## Given a zone array let's plot it up"
   ]
  },
  {
   "cell_type": "code",
   "execution_count": null,
   "metadata": {
    "collapsed": true
   },
   "outputs": [],
   "source": [
    "zones = np.loadtxt(os.path.join(working_dir, 'hk.zones'))\n",
    "plt.imshow(zones)\n",
    "plt.colorbar()"
   ]
  },
  {
   "cell_type": "code",
   "execution_count": null,
   "metadata": {
    "collapsed": true
   },
   "outputs": [],
   "source": [
    "pst = pyemu.Pst(os.path.join(working_dir,pst_name))\n"
   ]
  },
  {
   "cell_type": "code",
   "execution_count": null,
   "metadata": {
    "collapsed": true
   },
   "outputs": [],
   "source": [
    "pst.parameter_data"
   ]
  },
  {
   "cell_type": "markdown",
   "metadata": {},
   "source": [
    "## run pestpp"
   ]
  },
  {
   "cell_type": "code",
   "execution_count": null,
   "metadata": {
    "collapsed": true
   },
   "outputs": [],
   "source": [
    "pst = pyemu.Pst(os.path.join(working_dir,pst_name))\n",
    "pst.control_data.noptmax = 10\n",
    "pst.write(os.path.join(working_dir,pst_name))\n",
    "pyemu.helpers.run(\"pestpp {0}\".format(pst_name),cwd=working_dir)"
   ]
  },
  {
   "cell_type": "code",
   "execution_count": null,
   "metadata": {
    "collapsed": true
   },
   "outputs": [],
   "source": [
    "pst.phi"
   ]
  },
  {
   "cell_type": "code",
   "execution_count": null,
   "metadata": {
    "collapsed": true
   },
   "outputs": [],
   "source": [
    "pst.phi_components"
   ]
  },
  {
   "cell_type": "code",
   "execution_count": null,
   "metadata": {
    "collapsed": true
   },
   "outputs": [],
   "source": [
    "pst.res.loc[pst.nnz_obs_names,:]"
   ]
  },
  {
   "cell_type": "code",
   "execution_count": null,
   "metadata": {
    "collapsed": true
   },
   "outputs": [],
   "source": [
    "ax = plt.subplot(111,aspect=\"equal\") \n",
    "wl_names = [n for n in pst.nnz_obs_names if n.startswith(\"c\")]\n",
    "ax.scatter(pst.res.loc[wl_names,\"modelled\"],pst.res.loc[wl_names,\"measured\"],marker='.')\n",
    "ylim,xlim = ax.get_ylim(),ax.get_xlim()\n",
    "mn = min(ylim[0],xlim[0])\n",
    "mx = max(ylim[1],xlim[1])\n",
    "ax.plot([mn,mx],[mn,mx])\n",
    "ax.set_ylim(mn,mx)\n",
    "ax.set_xlim(mn,mx)"
   ]
  },
  {
   "cell_type": "code",
   "execution_count": null,
   "metadata": {
    "collapsed": true
   },
   "outputs": [],
   "source": [
    "df_paru = pd.read_csv(os.path.join(working_dir,pst_name.replace(\".pst\",\".par.usum.csv\")),index_col=0)\n",
    "df_paru"
   ]
  },
  {
   "cell_type": "code",
   "execution_count": null,
   "metadata": {
    "collapsed": true
   },
   "outputs": [],
   "source": [
    "axes = pyemu.helpers.plot_summary_distributions(df_paru,subplots=True)"
   ]
  },
  {
   "cell_type": "markdown",
   "metadata": {},
   "source": [
    "## Why is ``rch_1`` unaffected by calibration? And why did ``hk_z01`` change so little?\n",
    "\n",
    "## We can look at the sensitivity"
   ]
  },
  {
   "cell_type": "code",
   "execution_count": null,
   "metadata": {
    "collapsed": true
   },
   "outputs": [],
   "source": [
    "sens = pd.read_csv(os.path.join(working_dir,pst_name.replace(\".pst\",\".isen\")))\n",
    "sens"
   ]
  },
  {
   "cell_type": "markdown",
   "metadata": {},
   "source": [
    "## What's up with ``hk_z01``?"
   ]
  },
  {
   "cell_type": "code",
   "execution_count": 3,
   "metadata": {
    "collapsed": true
   },
   "outputs": [],
   "source": [
    "# look at ibound\n",
    "ib = np.loadtxt(os.path.join(working_dir,'ibound_layer_1.ref'))\n",
    "zones = np.loadtxt(os.path.join(working_dir, 'hk.zones'))\n"
   ]
  },
  {
   "cell_type": "code",
   "execution_count": 4,
   "metadata": {},
   "outputs": [
    {
     "data": {
      "image/png": "[encoded data removed]",
      "text/plain": [
       "<matplotlib.figure.Figure at 0x115ff5748>"
      ]
     },
     "metadata": {},
     "output_type": "display_data"
    }
   ],
   "source": [
    "fig = plt.figure(figsize=(8,4))\n",
    "fig.add_subplot(131)\n",
    "plt.imshow(ib)\n",
    "plt.colorbar()\n",
    "plt.title('ibound')\n",
    "fig.add_subplot(132)\n",
    "plt.imshow(zones)\n",
    "plt.colorbar()\n",
    "plt.title('zones')\n",
    "fig.add_subplot(133)\n",
    "zones[ib!=1]=np.nan\n",
    "plt.imshow(zones)\n",
    "plt.title('zones censored')\n",
    "plt.colorbar()\n",
    "plt.tight_layout()\n"
   ]
  },
  {
   "cell_type": "code",
   "execution_count": null,
   "metadata": {
    "collapsed": true
   },
   "outputs": [],
   "source": [
    "df_predu = pd.read_csv(os.path.join(working_dir,pst_name.replace(\".pst\",\".pred.usum.csv\")),index_col=0)"
   ]
  },
  {
   "cell_type": "code",
   "execution_count": null,
   "metadata": {
    "collapsed": true,
    "scrolled": false
   },
   "outputs": [],
   "source": [
    "figs, axes = pyemu.helpers.plot_summary_distributions(df_predu,subplots=True)\n",
    "for ax in axes:\n",
    "    fname = ax.get_title().lower()\n",
    "    ylim = ax.get_ylim()\n",
    "    v = pst.observation_data.loc[fname,\"obsval\"]\n",
    "    ax.plot([v,v],ylim,\"k--\")\n",
    "    ax.set_ylim(ylim)"
   ]
  },
  {
   "cell_type": "markdown",
   "metadata": {},
   "source": [
    "## Now we have some variability in the forecast outcomes...why?"
   ]
  },
  {
   "cell_type": "markdown",
   "metadata": {
    "collapsed": true
   },
   "source": [
    "## As far as the \"truth\" is concerned, we are doing better for most forecasts.  But we are especially bad for the tranvel time forecast - why?  What affects travel time?"
   ]
  },
  {
   "cell_type": "markdown",
   "metadata": {},
   "source": [
    "## Zone Burner approach"
   ]
  },
  {
   "cell_type": "code",
   "execution_count": null,
   "metadata": {
    "collapsed": true
   },
   "outputs": [],
   "source": [
    "zones = np.loadtxt(os.path.join(working_dir, 'hk.zones'))\n",
    "\n",
    "np.unique(zones)"
   ]
  },
  {
   "cell_type": "code",
   "execution_count": null,
   "metadata": {
    "collapsed": true
   },
   "outputs": [],
   "source": [
    "\n",
    "a = zones.copy()\n",
    "newk = [100,222,303,444,515,676]"
   ]
  },
  {
   "cell_type": "code",
   "execution_count": null,
   "metadata": {
    "collapsed": true
   },
   "outputs": [],
   "source": [
    "for cz in np.unique(zones):\n",
    "    print('updating zone {}'.format(cz))\n",
    "    a[zones==cz] = newk[int(cz)-1]"
   ]
  },
  {
   "cell_type": "code",
   "execution_count": null,
   "metadata": {
    "collapsed": true
   },
   "outputs": [],
   "source": [
    "a"
   ]
  },
  {
   "cell_type": "code",
   "execution_count": null,
   "metadata": {
    "collapsed": true
   },
   "outputs": [],
   "source": [
    "plt.imshow(a)\n",
    "plt.colorbar()"
   ]
  },
  {
   "cell_type": "code",
   "execution_count": null,
   "metadata": {
    "collapsed": true
   },
   "outputs": [],
   "source": []
  }
 ],
 "metadata": {
  "anaconda-cloud": {},
  "kernelspec": {
   "display_name": "Python 3",
   "language": "python",
   "name": "python3"
  },
  "language_info": {
   "codemirror_mode": {
    "name": "ipython",
    "version": 3
   },
   "file_extension": ".py",
   "mimetype": "text/x-python",
   "name": "python",
   "nbconvert_exporter": "python",
   "pygments_lexer": "ipython3",
   "version": "3.5.4"
  }
 },
 "nbformat": 4,
 "nbformat_minor": 1
}
