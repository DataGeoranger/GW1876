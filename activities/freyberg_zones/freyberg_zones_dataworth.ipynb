{
 "cells": [
  {
   "cell_type": "code",
   "execution_count": null,
   "metadata": {
    "collapsed": false,
    "scrolled": false
   },
   "outputs": [],
   "source": [
    "%matplotlib inline\n",
    "import os\n",
    "import shutil\n",
    "import numpy as np\n",
    "import pandas as pd\n",
    "import matplotlib.pyplot as plt\n",
    "import pyemu"
   ]
  },
  {
   "cell_type": "code",
   "execution_count": null,
   "metadata": {
    "collapsed": false,
    "scrolled": false
   },
   "outputs": [],
   "source": [
    "sc = pyemu.Schur(\"freyberg_zones.jcb\")"
   ]
  },
  {
   "cell_type": "code",
   "execution_count": null,
   "metadata": {
    "collapsed": false,
    "scrolled": false
   },
   "outputs": [],
   "source": [
    "sc.get_parameter_summary()"
   ]
  },
  {
   "cell_type": "code",
   "execution_count": null,
   "metadata": {
    "collapsed": false,
    "scrolled": false
   },
   "outputs": [],
   "source": [
    "sc.get_forecast_summary()"
   ]
  },
  {
   "cell_type": "markdown",
   "metadata": {},
   "source": [
    "# Parameter by parameter, fix the parameter and see the impact on forecast uncertainty (simulating perfect knowledge of the parameter)"
   ]
  },
  {
   "cell_type": "code",
   "execution_count": null,
   "metadata": {
    "collapsed": false,
    "scrolled": false
   },
   "outputs": [],
   "source": [
    "sc_par_contribution = sc.get_par_contribution()\n",
    "sc_par_contribution.drop('percent_reduce', axis=1, level=1)"
   ]
  },
  {
   "cell_type": "markdown",
   "metadata": {},
   "source": [
    "# We can see how much worse forecasts get without an observation (flipping that around, how valuable is each observation to the forecasts)"
   ]
  },
  {
   "cell_type": "code",
   "execution_count": null,
   "metadata": {
    "collapsed": false
   },
   "outputs": [],
   "source": [
    "sc_removed_import = sc.get_removed_obs_importance()\n",
    "sc_removed_import_scaled = sc_removed_import.copy()\n",
    "sc_removed_import"
   ]
  },
  {
   "cell_type": "code",
   "execution_count": null,
   "metadata": {
    "collapsed": false
   },
   "outputs": [],
   "source": [
    "# let's scale this\n",
    "for cc in sc_removed_import.columns:\n",
    "    sc_removed_import_scaled[cc]  =  100*(sc_removed_import_scaled[cc]-sc_removed_import_scaled[cc].loc['base'])/ \\\n",
    "        sc_removed_import_scaled[cc].loc['base']"
   ]
  },
  {
   "cell_type": "code",
   "execution_count": null,
   "metadata": {
    "collapsed": false,
    "scrolled": false
   },
   "outputs": [],
   "source": [
    "for cc in sc_removed_import_scaled.columns:\n",
    "    plt.figure()\n",
    "    sc_removed_import_scaled[cc].plot(kind='bar')\n",
    "    plt.title(cc)"
   ]
  },
  {
   "cell_type": "code",
   "execution_count": null,
   "metadata": {
    "collapsed": false,
    "scrolled": false
   },
   "outputs": [],
   "source": [
    "sc = pyemu.Schur(jco=\"freyberg_zones_burn_potobs.jcb\")\n",
    "sc.get_forecast_summary()"
   ]
  },
  {
   "cell_type": "code",
   "execution_count": null,
   "metadata": {
    "collapsed": false,
    "scrolled": false
   },
   "outputs": [],
   "source": [
    "obs = sc.pst.observation_data\n",
    "pobs_names = list(obs.loc[obs.obgnme==\"potobs\",\"obsnme\"])"
   ]
  },
  {
   "cell_type": "code",
   "execution_count": null,
   "metadata": {
    "collapsed": true,
    "scrolled": false
   },
   "outputs": [],
   "source": [
    "df = sc.get_added_obs_importance(obslist_dict={oname:oname for oname in pobs_names},\n",
    "                                base_obslist=sc.pst.nnz_obs_names,reset_zero_weight=True)"
   ]
  },
  {
   "cell_type": "code",
   "execution_count": null,
   "metadata": {
    "collapsed": false,
    "scrolled": false
   },
   "outputs": [],
   "source": [
    "df.min()"
   ]
  },
  {
   "cell_type": "code",
   "execution_count": null,
   "metadata": {
    "collapsed": false,
    "scrolled": false
   },
   "outputs": [],
   "source": [
    "df.max()"
   ]
  },
  {
   "cell_type": "code",
   "execution_count": null,
   "metadata": {
    "collapsed": true,
    "scrolled": false
   },
   "outputs": [],
   "source": [
    "df1 = sc.get_added_obs_importance(obslist_dict={oname:oname for oname in pobs_names},reset_zero_weight=True)"
   ]
  },
  {
   "cell_type": "code",
   "execution_count": null,
   "metadata": {
    "collapsed": false,
    "scrolled": false
   },
   "outputs": [],
   "source": [
    "df1.min()"
   ]
  },
  {
   "cell_type": "code",
   "execution_count": null,
   "metadata": {
    "collapsed": false,
    "scrolled": false
   },
   "outputs": [],
   "source": [
    "df1.max()"
   ]
  },
  {
   "cell_type": "code",
   "execution_count": null,
   "metadata": {
    "collapsed": false,
    "scrolled": true
   },
   "outputs": [],
   "source": [
    "def plot_added_worth(df):\n",
    "    df_base = df.loc[\"base\",:]\n",
    "    df_frac = 100.0 * (1.0 - (df / df_base))\n",
    "    df_frac = df_frac.loc[pobs_names,:]\n",
    "    df_frac.loc[:,\"row\"] = df_frac.index.map(lambda x: int(x[2:4]))\n",
    "    df_frac.loc[:,\"column\"] = df_frac.index.map(lambda x: int(x[-2:]))\n",
    "\n",
    "    for forecast in df_frac.columns:\n",
    "        if forecast in [\"row\",\"column\"]:\n",
    "            continue\n",
    "        arr = np.zeros((df_frac.row.max(),df_frac.column.max())) - 1.0\n",
    "        for r,c,f in zip(df_frac.row,df_frac.column,df_frac.loc[:,forecast]):\n",
    "            arr[r-1,c-1] = f\n",
    "        arr = np.ma.masked_where(arr < 0,arr)\n",
    "        fig = plt.figure(figsize=(6,10))\n",
    "        ax = plt.subplot(111)\n",
    "        c = ax.imshow(arr,interpolation=\"nearest\",alpha=0.5)\n",
    "        #ax.imshow(zn_arr,interpolation=\"nearest\",alpha=0.5)\n",
    "        plt.colorbar(c)\n",
    "        ax.set_title(forecast)\n",
    "        plt.show()\n",
    "\n",
    "    "
   ]
  },
  {
   "cell_type": "code",
   "execution_count": null,
   "metadata": {
    "collapsed": false,
    "scrolled": false
   },
   "outputs": [],
   "source": [
    "zn_arr = np.loadtxt(\"hk.zones\")\n",
    "fig = plt.figure(figsize=(6,10))\n",
    "ax = plt.subplot(111)\n",
    "c = ax.imshow(zn_arr,interpolation=\"nearest\",alpha=0.5)\n",
    "plt.show()"
   ]
  },
  {
   "cell_type": "code",
   "execution_count": null,
   "metadata": {
    "collapsed": false,
    "scrolled": false
   },
   "outputs": [],
   "source": [
    "plot_added_worth(df)"
   ]
  },
  {
   "cell_type": "code",
   "execution_count": null,
   "metadata": {
    "collapsed": false,
    "scrolled": false
   },
   "outputs": [],
   "source": [
    "plot_added_worth(df1)"
   ]
  },
  {
   "cell_type": "code",
   "execution_count": null,
   "metadata": {
    "collapsed": false,
    "scrolled": true
   },
   "outputs": [],
   "source": [
    "pst = pyemu.Pst(\"freyberg_zones_potobs.pst\")\n",
    "pst.template_files[1] = \"hk.ref.tpl.alt\"\n",
    "pst.template_files\n",
    "pst.control_data.noptmax = -1\n",
    "pst.write(\"freyberg_zones_alt.pst\")\n",
    "os.system(\"pestpp freyberg_zones_alt.pst\")"
   ]
  },
  {
   "cell_type": "code",
   "execution_count": null,
   "metadata": {
    "collapsed": false,
    "scrolled": false
   },
   "outputs": [],
   "source": [
    "sc = pyemu.Schur(jco=\"freyberg_zones_alt.jcb\")\n",
    "df = sc.get_added_obs_importance(obslist_dict={oname:oname for oname in pobs_names},reset_zero_weight=True)"
   ]
  },
  {
   "cell_type": "code",
   "execution_count": null,
   "metadata": {
    "collapsed": false,
    "scrolled": false
   },
   "outputs": [],
   "source": [
    "zn_arr = np.loadtxt(\"kzone.ref.alt\")\n",
    "fig = plt.figure(figsize=(6,10))\n",
    "ax = plt.subplot(111)\n",
    "c = ax.imshow(zn_arr,interpolation=\"nearest\",alpha=0.5)\n",
    "plt.show()"
   ]
  },
  {
   "cell_type": "code",
   "execution_count": null,
   "metadata": {
    "collapsed": false,
    "scrolled": true
   },
   "outputs": [],
   "source": [
    "plot_added_worth(df)"
   ]
  },
  {
   "cell_type": "code",
   "execution_count": null,
   "metadata": {
    "collapsed": true,
    "scrolled": false
   },
   "outputs": [],
   "source": []
  }
 ],
 "metadata": {
  "anaconda-cloud": {},
  "kernelspec": {
   "display_name": "Python 3",
   "language": "python",
   "name": "python3"
  },
  "language_info": {
   "codemirror_mode": {
    "name": "ipython",
    "version": 3
   },
   "file_extension": ".py",
   "mimetype": "text/x-python",
   "name": "python",
   "nbconvert_exporter": "python",
   "pygments_lexer": "ipython3",
   "version": "3.5.2"
  }
 },
 "nbformat": 4,
 "nbformat_minor": 0
}
