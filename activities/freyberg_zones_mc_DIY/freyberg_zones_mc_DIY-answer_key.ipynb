{
 "cells": [
  {
   "cell_type": "markdown",
   "metadata": {},
   "source": [
    "# DIY Monte Carlo!!!"
   ]
  },
  {
   "cell_type": "markdown",
   "metadata": {},
   "source": [
    "Here you will setup and run a monte carlo analysis from scratch - no more shift+enter!!!\n",
    "\n",
    "\n",
    "The workflow here is almost identical to the ``freyberg_k_r_mc activity`` - its not cheating to use that activity for guidance"
   ]
  },
  {
   "cell_type": "code",
   "execution_count": 1,
   "metadata": {
    "collapsed": false
   },
   "outputs": [
    {
     "name": "stdout",
     "output_type": "stream",
     "text": [
      "setting random seed\n"
     ]
    }
   ],
   "source": [
    "%matplotlib inline\n",
    "import os\n",
    "import shutil\n",
    "import numpy as np\n",
    "import pandas as pd\n",
    "import matplotlib.pyplot as plt\n",
    "import pyemu\n",
    "import platform\n",
    "if 'window' in platform.platform().lower():\n",
    "    newln='\\n'\n",
    "    ppp = 'pest++ '\n",
    "else:\n",
    "    newln='\\r\\n'\n",
    "    ppp = './pestpp '"
   ]
  },
  {
   "cell_type": "code",
   "execution_count": 2,
   "metadata": {
    "collapsed": true
   },
   "outputs": [],
   "source": [
    "base_dir = os.path.join(\"..\",\"..\",\"models\",\"Freyberg\",\"Freyberg_zones\")\n",
    "assert os.path.exists(base_dir)\n",
    "[shutil.copy2(os.path.join(base_dir,f),f) for f in os.listdir(base_dir)];"
   ]
  },
  {
   "cell_type": "code",
   "execution_count": 53,
   "metadata": {
    "collapsed": false
   },
   "outputs": [],
   "source": [
    "#step 0 - create a pyemu Monte Carlo object\n",
    "sc = pyemu.Schur(\"freyberg_zones.jcb\")\n",
    "mc = pyemu.MonteCarlo(pst=\"freyberg_zones.pst\")"
   ]
  },
  {
   "cell_type": "code",
   "execution_count": 63,
   "metadata": {
    "collapsed": false
   },
   "outputs": [
    {
     "name": "stderr",
     "output_type": "stream",
     "text": [
      "/Users/jwhite/Dev/python/pyemu/pyemu/en.py:538: UserWarning: deprecation warning: enforce_bounds should be either 'reset' or 'drop', not bool.  resetting to 'reset'.\n",
      "  \" to 'reset'.\")\n"
     ]
    }
   ],
   "source": [
    "#step 1 - make draws with the Monte Carlo object\n",
    "mc.draw(1000,cov=sc.posterior_parameter,par_file=\"freyberg_zones.bpa\")"
   ]
  },
  {
   "cell_type": "code",
   "execution_count": 64,
   "metadata": {
    "collapsed": false
   },
   "outputs": [
    {
     "name": "stdout",
     "output_type": "stream",
     "text": [
      "<module 'numpy' from '/Users/jwhite/anaconda/lib/python3.5/site-packages/numpy/__init__.py'>\n"
     ]
    },
    {
     "data": {
      "image/png": "[encoded data removed]",
      "text/plain": [
       "<matplotlib.figure.Figure at 0x118916cc0>"
      ]
     },
     "metadata": {},
     "output_type": "display_data"
    },
    {
     "data": {
      "image/png": "[encoded data removed]",
      "text/plain": [
       "<matplotlib.figure.Figure at 0x11a002978>"
      ]
     },
     "metadata": {},
     "output_type": "display_data"
    },
    {
     "data": {
      "image/png": "[encoded data removed]",
      "text/plain": [
       "<matplotlib.figure.Figure at 0x11991ee80>"
      ]
     },
     "metadata": {},
     "output_type": "display_data"
    }
   ],
   "source": [
    "#step 2 - visualize a few parameter histograms via the parensemble attribute\n",
    "print(np)\n",
    "for par in mc.pst.adj_par_names[:3]:\n",
    "    fig = plt.figure()\n",
    "    ax = plt.subplot(111)\n",
    "    mc.parensemble.loc[:,par].hist(ax=ax,bins=50)\n",
    "plt.show()"
   ]
  },
  {
   "cell_type": "code",
   "execution_count": 65,
   "metadata": {
    "collapsed": true
   },
   "outputs": [],
   "source": [
    "# step 3 - save the parensemble to \"sweep_in.csv\"\n",
    "mc.parensemble.to_csv(\"sweep_in.csv\")"
   ]
  },
  {
   "cell_type": "code",
   "execution_count": 66,
   "metadata": {
    "collapsed": true
   },
   "outputs": [],
   "source": [
    "# step 4 - call the pyemu slave helper to run the ensemble via sweep - \n",
    "# please just copy this from freyebrg_k_r_mc notebook and change the name of the pst file\n",
    "pyemu.helpers.start_slaves(base_dir,\"sweep\",\"freyberg_zones.pst\",num_slaves=20,master_dir='.')"
   ]
  },
  {
   "cell_type": "code",
   "execution_count": 67,
   "metadata": {
    "collapsed": false
   },
   "outputs": [],
   "source": [
    "# step 5 - import the model outputs from the sweep (sweep_out.csv)\n",
    "# and drop any failed runs\n",
    "df = pd.read_csv(\"sweep_out.csv\")\n",
    "df = df.loc[df.failed_flag==0,:] "
   ]
  },
  {
   "cell_type": "code",
   "execution_count": 68,
   "metadata": {
    "collapsed": false,
    "scrolled": true
   },
   "outputs": [
    {
     "data": {
      "text/plain": [
       "<matplotlib.axes._subplots.AxesSubplot at 0x117dc0208>"
      ]
     },
     "execution_count": 68,
     "metadata": {},
     "output_type": "execute_result"
    },
    {
     "data": {
      "image/png": "[encoded data removed]",
      "text/plain": [
       "<matplotlib.figure.Figure at 0x11a24b860>"
      ]
     },
     "metadata": {},
     "output_type": "display_data"
    }
   ],
   "source": [
    "# step 6 - plot phi, filter based on \"acceptable\" phi\n",
    "df.loc[:,\"phi\"].hist()"
   ]
  },
  {
   "cell_type": "code",
   "execution_count": 70,
   "metadata": {
    "collapsed": false
   },
   "outputs": [
    {
     "name": "stdout",
     "output_type": "stream",
     "text": [
      "[  1   5   6  11  12  13  31  32  33  36  37  44  45  51  52  54  57  61\n",
      "  69  75  76  80  86  87  96 101 102 104 109 114 115 119 140 146 149 154\n",
      " 155 157 158 159 164 170 171 175 179 183 185 187 188 193 197 202 204 212\n",
      " 214 225 226 229 230 237 244 249 251 257 258 261 266 268 269 275 283 286\n",
      " 287 290 294 297 300 305 308 310 314 330 337 340 342 343 353 357 359 365\n",
      " 367 373 374 378 381 382 384 385 386 388 392 393 398 409 410 411 416 432\n",
      " 434 449 453 456 460 463 471 474 478 487 491 493 516 520 524 528 529 534\n",
      " 549 554 560 562 569 572 576 583 588 591 593 595 596 597 600 603 609 612\n",
      " 625 626 638 644 646 647 648 653 660 664 665 674 675 676 678 679 681 687\n",
      " 696 697 701 703 708 714 715 720 721 728 731 732 734 735 736 749 762 763\n",
      " 764 765 781 783 792 794 796 797 798 799 804 813 814 815 820 822 825 833\n",
      " 838 840 852 862 865 868 869 873 878 880 883 884 890 891 897 906 907 908\n",
      " 910 913 922 923 924 939 942 943 946 949 953 960 962 964 967 968 973 974\n",
      " 977 983 987 988]\n"
     ]
    }
   ],
   "source": [
    "# step 7 - plot filtered and unfiltered forecast historgrams\n",
    "acceptable_phi = 12.0\n",
    "good_enough = df.loc[df.phi<acceptable_phi].index.values\n",
    "print(good_enough)"
   ]
  },
  {
   "cell_type": "code",
   "execution_count": 71,
   "metadata": {
    "collapsed": false
   },
   "outputs": [
    {
     "data": {
      "image/png": "[encoded data removed]",
      "text/plain": [
       "<matplotlib.figure.Figure at 0x11a3a2630>"
      ]
     },
     "metadata": {},
     "output_type": "display_data"
    }
   ],
   "source": [
    "fig = plt.figure()\n",
    "ax = plt.subplot(111)\n",
    "df.loc[:,\"RIVFLUX_FORE\"].hist(ax=ax,alpha=0.5,color=\"0.5\",normed=True,bins=50)\n",
    "df.loc[good_enough,\"RIVFLUX_FORE\"].hist(ax=ax,alpha=0.5,color='b',normed=True)\n",
    "plt.show()"
   ]
  },
  {
   "cell_type": "code",
   "execution_count": 72,
   "metadata": {
    "collapsed": false
   },
   "outputs": [
    {
     "data": {
      "image/png": "[encoded data removed]",
      "text/plain": [
       "<matplotlib.figure.Figure at 0x119ddd6d8>"
      ]
     },
     "metadata": {},
     "output_type": "display_data"
    }
   ],
   "source": [
    "fig = plt.figure()\n",
    "ax = plt.subplot(111)\n",
    "df.loc[:,\"TRAVEL_TIME\"].hist(ax=ax,alpha=0.5,color=\"0.5\",normed=True,bins=50)\n",
    "df.loc[good_enough,\"TRAVEL_TIME\"].hist(ax=ax,alpha=0.5,color='b',normed=True)\n",
    "plt.show()"
   ]
  },
  {
   "cell_type": "code",
   "execution_count": 73,
   "metadata": {
    "collapsed": false
   },
   "outputs": [
    {
     "data": {
      "image/png": "[encoded data removed]",
      "text/plain": [
       "<matplotlib.figure.Figure at 0x119990128>"
      ]
     },
     "metadata": {},
     "output_type": "display_data"
    }
   ],
   "source": [
    "fig = plt.figure()\n",
    "ax = plt.subplot(111)\n",
    "df.loc[:,\"FR03C16\"].hist(ax=ax,alpha=0.5,color=\"0.5\",normed=True,bins=50)\n",
    "df.loc[good_enough,\"FR03C16\"].hist(ax=ax,alpha=0.5,color='b',normed=True)\n",
    "plt.show()"
   ]
  },
  {
   "cell_type": "code",
   "execution_count": 74,
   "metadata": {
    "collapsed": false
   },
   "outputs": [
    {
     "data": {
      "text/plain": [
       "'rivflux_fore,travel_time,fr03c16,fr04c9'"
      ]
     },
     "execution_count": 74,
     "metadata": {},
     "output_type": "execute_result"
    }
   ],
   "source": [
    "mc.pst.pestpp_options[\"forecasts\"]"
   ]
  },
  {
   "cell_type": "code",
   "execution_count": 75,
   "metadata": {
    "collapsed": false
   },
   "outputs": [
    {
     "data": {
      "text/html": [
       "<div>\n",
       "<table border=\"1\" class=\"dataframe\">\n",
       "  <thead>\n",
       "    <tr style=\"text-align: right;\">\n",
       "      <th></th>\n",
       "      <th>prior_mean</th>\n",
       "      <th>prior_stdev</th>\n",
       "      <th>prior_lower_bound</th>\n",
       "      <th>prior_upper_bound</th>\n",
       "      <th>post_mean</th>\n",
       "      <th>post_stdev</th>\n",
       "      <th>post_lower_bound</th>\n",
       "      <th>post_upper_bound</th>\n",
       "    </tr>\n",
       "    <tr>\n",
       "      <th>name</th>\n",
       "      <th></th>\n",
       "      <th></th>\n",
       "      <th></th>\n",
       "      <th></th>\n",
       "      <th></th>\n",
       "      <th></th>\n",
       "      <th></th>\n",
       "      <th></th>\n",
       "    </tr>\n",
       "  </thead>\n",
       "  <tbody>\n",
       "    <tr>\n",
       "      <th>FR03C16</th>\n",
       "      <td>19.6124</td>\n",
       "      <td>0.473822</td>\n",
       "      <td>18.6648</td>\n",
       "      <td>20.5601</td>\n",
       "      <td>19.8242</td>\n",
       "      <td>0.086394</td>\n",
       "      <td>19.6514</td>\n",
       "      <td>19.9970</td>\n",
       "    </tr>\n",
       "    <tr>\n",
       "      <th>FR04C9</th>\n",
       "      <td>22.3109</td>\n",
       "      <td>3.319190</td>\n",
       "      <td>15.6725</td>\n",
       "      <td>28.9493</td>\n",
       "      <td>23.3901</td>\n",
       "      <td>0.553070</td>\n",
       "      <td>22.2840</td>\n",
       "      <td>24.4963</td>\n",
       "    </tr>\n",
       "    <tr>\n",
       "      <th>RIVFLUX_FORE</th>\n",
       "      <td>-2811.0500</td>\n",
       "      <td>576.997000</td>\n",
       "      <td>-3965.0500</td>\n",
       "      <td>-1657.0600</td>\n",
       "      <td>-2639.9700</td>\n",
       "      <td>57.014200</td>\n",
       "      <td>-2754.0000</td>\n",
       "      <td>-2525.9400</td>\n",
       "    </tr>\n",
       "    <tr>\n",
       "      <th>TRAVEL_TIME</th>\n",
       "      <td>16856.9000</td>\n",
       "      <td>51189.100000</td>\n",
       "      <td>-85521.3000</td>\n",
       "      <td>119235.0000</td>\n",
       "      <td>60927.5000</td>\n",
       "      <td>14944.100000</td>\n",
       "      <td>31039.2000</td>\n",
       "      <td>90815.8000</td>\n",
       "    </tr>\n",
       "  </tbody>\n",
       "</table>\n",
       "</div>"
      ],
      "text/plain": [
       "              prior_mean   prior_stdev  prior_lower_bound  prior_upper_bound  \\\n",
       "name                                                                           \n",
       "FR03C16          19.6124      0.473822            18.6648            20.5601   \n",
       "FR04C9           22.3109      3.319190            15.6725            28.9493   \n",
       "RIVFLUX_FORE  -2811.0500    576.997000         -3965.0500         -1657.0600   \n",
       "TRAVEL_TIME   16856.9000  51189.100000        -85521.3000        119235.0000   \n",
       "\n",
       "               post_mean    post_stdev  post_lower_bound  post_upper_bound  \n",
       "name                                                                        \n",
       "FR03C16          19.8242      0.086394           19.6514           19.9970  \n",
       "FR04C9           23.3901      0.553070           22.2840           24.4963  \n",
       "RIVFLUX_FORE  -2639.9700     57.014200        -2754.0000        -2525.9400  \n",
       "TRAVEL_TIME   60927.5000  14944.100000        31039.2000        90815.8000  "
      ]
     },
     "execution_count": 75,
     "metadata": {},
     "output_type": "execute_result"
    }
   ],
   "source": [
    "df_foreu = pd.read_csv(os.path.join(\"..\",\"freyberg_zones\",\"freyberg_zones.pred.usum.csv\"),index_col=0)\n",
    "df_foreu"
   ]
  },
  {
   "cell_type": "code",
   "execution_count": 76,
   "metadata": {
    "collapsed": false
   },
   "outputs": [
    {
     "name": "stdout",
     "output_type": "stream",
     "text": [
      "FR03C16 0.1688071360712755 0.473822 0.06232866560912833 0.0863945\n",
      "FR04C9 0.7258535391394239 3.31919 0.3662272133774407 0.55307\n",
      "RIVFLUX_FORE 259.0058475800715 576.997 89.03979485790036 57.0142\n",
      "TRAVEL_TIME 12343.253889214508 51189.1 7449.514913293568 14944.1\n"
     ]
    }
   ],
   "source": [
    "data = []\n",
    "for fore in df_foreu.index:\n",
    "    pr_mc = df.loc[:,fore].std()\n",
    "    pr_fosm = df_foreu.loc[fore,\"prior_stdev\"]\n",
    "    pt_mc = df.loc[good_enough,fore].std()\n",
    "    pt_fosm = df_foreu.loc[fore,\"post_stdev\"]\n",
    "    data.append([pr_mc,pr_fosm,pt_mc,pt_fosm])\n",
    "    print(fore,pr_mc,pr_fosm,pt_mc,pt_fosm)\n",
    "df_data = pd.DataFrame(data=data,index=df_foreu.index,columns=[\"pr_mc\",\"pr_fosm\",\"pt_mc\",\"pt_fosm\"])"
   ]
  },
  {
   "cell_type": "code",
   "execution_count": 77,
   "metadata": {
    "collapsed": false
   },
   "outputs": [
    {
     "data": {
      "text/html": [
       "<div>\n",
       "<table border=\"1\" class=\"dataframe\">\n",
       "  <thead>\n",
       "    <tr style=\"text-align: right;\">\n",
       "      <th></th>\n",
       "      <th>pr_mc</th>\n",
       "      <th>pr_fosm</th>\n",
       "      <th>pt_mc</th>\n",
       "      <th>pt_fosm</th>\n",
       "    </tr>\n",
       "    <tr>\n",
       "      <th>name</th>\n",
       "      <th></th>\n",
       "      <th></th>\n",
       "      <th></th>\n",
       "      <th></th>\n",
       "    </tr>\n",
       "  </thead>\n",
       "  <tbody>\n",
       "    <tr>\n",
       "      <th>FR03C16</th>\n",
       "      <td>0.168807</td>\n",
       "      <td>0.473822</td>\n",
       "      <td>0.062329</td>\n",
       "      <td>0.086394</td>\n",
       "    </tr>\n",
       "    <tr>\n",
       "      <th>FR04C9</th>\n",
       "      <td>0.725854</td>\n",
       "      <td>3.319190</td>\n",
       "      <td>0.366227</td>\n",
       "      <td>0.553070</td>\n",
       "    </tr>\n",
       "    <tr>\n",
       "      <th>RIVFLUX_FORE</th>\n",
       "      <td>259.005848</td>\n",
       "      <td>576.997000</td>\n",
       "      <td>89.039795</td>\n",
       "      <td>57.014200</td>\n",
       "    </tr>\n",
       "    <tr>\n",
       "      <th>TRAVEL_TIME</th>\n",
       "      <td>12343.253889</td>\n",
       "      <td>51189.100000</td>\n",
       "      <td>7449.514913</td>\n",
       "      <td>14944.100000</td>\n",
       "    </tr>\n",
       "  </tbody>\n",
       "</table>\n",
       "</div>"
      ],
      "text/plain": [
       "                     pr_mc       pr_fosm        pt_mc       pt_fosm\n",
       "name                                                               \n",
       "FR03C16           0.168807      0.473822     0.062329      0.086394\n",
       "FR04C9            0.725854      3.319190     0.366227      0.553070\n",
       "RIVFLUX_FORE    259.005848    576.997000    89.039795     57.014200\n",
       "TRAVEL_TIME   12343.253889  51189.100000  7449.514913  14944.100000"
      ]
     },
     "execution_count": 77,
     "metadata": {},
     "output_type": "execute_result"
    }
   ],
   "source": [
    "df_data"
   ]
  },
  {
   "cell_type": "code",
   "execution_count": null,
   "metadata": {
    "collapsed": true
   },
   "outputs": [],
   "source": [
    "\n",
    "\n",
    "\n",
    "\n",
    "\n",
    "\n",
    "\n",
    "\n",
    "\n",
    "\n",
    "\n",
    "\n",
    "\n",
    "\n",
    "\n",
    "\n",
    "\n"
   ]
  }
 ],
 "metadata": {
  "anaconda-cloud": {},
  "kernelspec": {
   "display_name": "Python [Root]",
   "language": "python",
   "name": "Python [Root]"
  },
  "language_info": {
   "codemirror_mode": {
    "name": "ipython",
    "version": 3
   },
   "file_extension": ".py",
   "mimetype": "text/x-python",
   "name": "python",
   "nbconvert_exporter": "python",
   "pygments_lexer": "ipython3",
   "version": "3.5.2"
  }
 },
 "nbformat": 4,
 "nbformat_minor": 0
}
