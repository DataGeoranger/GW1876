{
 "cells": [
  {
   "cell_type": "code",
   "execution_count": null,
   "metadata": {},
   "outputs": [],
   "source": [
    "%matplotlib inline\n",
    "import os, shutil\n",
    "import sys\n",
    "sys.path.append(\"..\")\n",
    "import numpy as np\n",
    "from IPython.display import Image\n",
    "import pandas as pd\n",
    "import matplotlib.pyplot as plt\n",
    "\n",
    "import flopy as flopy\n",
    "import pyemu"
   ]
  },
  {
   "cell_type": "markdown",
   "metadata": {},
   "source": [
    "# Pst from input/output files"
   ]
  },
  {
   "cell_type": "code",
   "execution_count": null,
   "metadata": {},
   "outputs": [],
   "source": [
    "import freyberg_setup as fs\n",
    "pst_name = fs.PST_NAME_KR\n",
    "working_dir = fs.WORKING_DIR_KR\n",
    "fs.setup_pest_kr()\n",
    "pst = pyemu.Pst(os.path.join(working_dir,pst_name))\n",
    "pst.control_data.noptmax = 0\n",
    "pst.observation_data.loc[pst.observation_data.obgnme=='calflux', 'weight']=0\n",
    "\n",
    "pst.write(os.path.join(working_dir,pst_name))\n"
   ]
  },
  {
   "cell_type": "code",
   "execution_count": null,
   "metadata": {},
   "outputs": [],
   "source": [
    "# get 4 lists from the working directory: tpl_files, input_files, ins_files, out_files\n",
    "io_files = pyemu.helpers.parse_dir_for_io_files(working_dir)\n",
    "io_files"
   ]
  },
  {
   "cell_type": "code",
   "execution_count": null,
   "metadata": {},
   "outputs": [],
   "source": [
    "\n",
    "os.chdir(working_dir) # change dir into the working dir\n",
    "pst = pyemu.helpers.pst_from_io_files(*io_files) #get a pst instance using the io files\n",
    "os.chdir(\"..\") # change dir back out of the working dir\n",
    "pst.parameter_data \n",
    "pst.write(\"temp.pst\")\n",
    "pst.add_parameters()"
   ]
  },
  {
   "cell_type": "markdown",
   "metadata": {},
   "source": [
    "# from zero to hero with MODFLOW"
   ]
  },
  {
   "cell_type": "markdown",
   "metadata": {},
   "source": [
    "load the existing model"
   ]
  },
  {
   "cell_type": "code",
   "execution_count": null,
   "metadata": {},
   "outputs": [],
   "source": [
    "nam = 'freyberg.truth.nam'\n",
    "model_ws = os.path.join(\"..\",\"..\",\"models\",\"Freyberg\",\"Freyberg_Truth\")"
   ]
  },
  {
   "cell_type": "code",
   "execution_count": null,
   "metadata": {},
   "outputs": [],
   "source": [
    "m = flopy.modflow.Modflow.load(nam,model_ws=model_ws,check=False,exe_name=\"mfnwt\")\n",
    "m.name = \"freyberg\""
   ]
  },
  {
   "cell_type": "markdown",
   "metadata": {},
   "source": [
    "change the workspace, write inputs and run the model"
   ]
  },
  {
   "cell_type": "code",
   "execution_count": null,
   "metadata": {},
   "outputs": [],
   "source": [
    "m.change_model_ws(\"temp\")\n",
    "m.write_input()\n",
    "m.run_model()"
   ]
  },
  {
   "cell_type": "markdown",
   "metadata": {},
   "source": [
    "# So now what???\n",
    "\n",
    "- props\n",
    "- spatial bc props\n",
    "- temporal bc props\n",
    "- plot prior cov\n",
    "- plot residuals\n",
    "- monte carlo\n",
    "- \n"
   ]
  },
  {
   "cell_type": "code",
   "execution_count": null,
   "metadata": {},
   "outputs": [],
   "source": [
    "# what properties in the model we want to parameterize - \n",
    "#3D things, the number is the layer index\n",
    "#for 2D transient things, the number is the stress period index\n",
    "props = [[\"upw.hk\",0],[\"rch.rech\",0],[\"rch.rech\",[1,2]]]"
   ]
  },
  {
   "cell_type": "code",
   "execution_count": null,
   "metadata": {},
   "outputs": [],
   "source": [
    "# add multipliers for wel flux in the layer 1\n",
    "bc_props = [[\"wel.flux\",0]]\n",
    "# add observations from every active cell in layer 1, stress period 1\n",
    "hds_kperk=[[0,0]]"
   ]
  },
  {
   "cell_type": "code",
   "execution_count": null,
   "metadata": {},
   "outputs": [],
   "source": [
    "ph = pyemu.helpers.PstFromFlopyModel(\"freyberg.nam\",org_model_ws=\"temp\",\n",
    "                                    new_model_ws=\"template\",pp_props=props,\n",
    "                                    const_props=props,spatial_bc_props=bc_props,\n",
    "                                    remove_existing=True,pp_space=3,\n",
    "                                          hds_kperk=hds_kperk)"
   ]
  },
  {
   "cell_type": "code",
   "execution_count": null,
   "metadata": {},
   "outputs": [],
   "source": [
    "ph.pst.parameter_data.shape"
   ]
  },
  {
   "cell_type": "code",
   "execution_count": null,
   "metadata": {},
   "outputs": [],
   "source": [
    "ph.pst.observation_data.shape"
   ]
  },
  {
   "cell_type": "code",
   "execution_count": null,
   "metadata": {},
   "outputs": [],
   "source": [
    "x = ph.parcov.x"
   ]
  },
  {
   "cell_type": "code",
   "execution_count": null,
   "metadata": {},
   "outputs": [],
   "source": [
    "plt.imshow(np.ma.masked_where(x==0,x))"
   ]
  },
  {
   "cell_type": "code",
   "execution_count": null,
   "metadata": {},
   "outputs": [],
   "source": [
    "pyemu.helpers.zero_order_tikhonov(ph.pst)"
   ]
  },
  {
   "cell_type": "code",
   "execution_count": null,
   "metadata": {},
   "outputs": [],
   "source": [
    "ph.pst.prior_information.loc[\"hk003\",\"weight\"] = 10.0"
   ]
  },
  {
   "cell_type": "code",
   "execution_count": null,
   "metadata": {},
   "outputs": [],
   "source": [
    "ph.pst.prior_information"
   ]
  },
  {
   "cell_type": "code",
   "execution_count": null,
   "metadata": {},
   "outputs": [],
   "source": [
    "pe = pyemu.ParameterEnsemble.from_gaussian_draw(ph.pst,ph.parcov,num_reals=100)"
   ]
  },
  {
   "cell_type": "code",
   "execution_count": null,
   "metadata": {},
   "outputs": [],
   "source": []
  }
 ],
 "metadata": {
  "kernelspec": {
   "display_name": "Python 3",
   "language": "python",
   "name": "python3"
  },
  "language_info": {
   "codemirror_mode": {
    "name": "ipython",
    "version": 3
   },
   "file_extension": ".py",
   "mimetype": "text/x-python",
   "name": "python",
   "nbconvert_exporter": "python",
   "pygments_lexer": "ipython3",
   "version": "3.5.4"
  }
 },
 "nbformat": 4,
 "nbformat_minor": 2
}
