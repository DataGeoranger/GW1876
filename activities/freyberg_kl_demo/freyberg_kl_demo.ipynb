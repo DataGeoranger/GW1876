{
 "cells": [
  {
   "cell_type": "code",
   "execution_count": null,
   "metadata": {},
   "outputs": [],
   "source": [
    "%matplotlib inline\n",
    "import os, shutil\n",
    "import sys\n",
    "sys.path.append(\"..\")\n",
    "import numpy as np\n",
    "from IPython.display import Image\n",
    "import pandas as pd\n",
    "import matplotlib.pyplot as plt\n",
    "from ipywidgets import interact, interactive, fixed, interact_manual\n",
    "import ipywidgets as widgets\n",
    "import flopy as flopy\n",
    "import pyemu"
   ]
  },
  {
   "cell_type": "code",
   "execution_count": null,
   "metadata": {
    "scrolled": true
   },
   "outputs": [],
   "source": [
    "import freyberg_setup as fs\n",
    "fs.setup_pest_gr()\n",
    "working_dir = fs.WORKING_DIR_GR\n",
    "pst_name = fs.PST_NAME_GR"
   ]
  },
  {
   "cell_type": "code",
   "execution_count": null,
   "metadata": {},
   "outputs": [],
   "source": [
    "fs.plot_model(working_dir, pst_name)"
   ]
  },
  {
   "cell_type": "code",
   "execution_count": null,
   "metadata": {},
   "outputs": [],
   "source": [
    "m = flopy.modflow.Modflow.load(fs.MODEL_NAM,model_ws=working_dir,load_only=[\"upw\"],check=False)"
   ]
  },
  {
   "cell_type": "code",
   "execution_count": null,
   "metadata": {},
   "outputs": [],
   "source": [
    "v = pyemu.geostats.ExpVario(1.0,a=200,anisotropy=1.0,bearing=45)\n",
    "struct = pyemu.geostats.GeoStruct(variograms=v)\n",
    "arr_dict = {\"test\":np.ones((m.nrow,m.ncol))}"
   ]
  },
  {
   "cell_type": "code",
   "execution_count": null,
   "metadata": {},
   "outputs": [],
   "source": [
    "bd = pyemu.helpers.kl_setup(num_eig=800,sr=m.sr,struct=struct,array_dict=arr_dict,basis_file=\"basis.jco\")"
   ]
  },
  {
   "cell_type": "code",
   "execution_count": null,
   "metadata": {},
   "outputs": [],
   "source": [
    "basis = pyemu.Matrix.from_binary(\"basis.jco\").to_dataframe().T"
   ]
  },
  {
   "cell_type": "code",
   "execution_count": null,
   "metadata": {},
   "outputs": [],
   "source": [
    "i = basis.index.map(lambda x: int(x[1:5]))\n",
    "j = basis.index.map(lambda x: int(x[-4:]))"
   ]
  },
  {
   "cell_type": "code",
   "execution_count": null,
   "metadata": {},
   "outputs": [],
   "source": [
    "def plot_eig_arr(eig):\n",
    "    arr = np.zeros((m.nrow,m.ncol))\n",
    "    arr[i,j] = basis.iloc[:,eig]\n",
    "    mm = flopy.plot.ModelMap(model=m)\n",
    "    mm.plot_array(arr)\n",
    "    mm.plot_ibound()\n",
    "    #mm = plt.imshow(arr)\n",
    "    return mm"
   ]
  },
  {
   "cell_type": "code",
   "execution_count": null,
   "metadata": {},
   "outputs": [],
   "source": [
    "mm = plot_eig_arr(2)"
   ]
  },
  {
   "cell_type": "code",
   "execution_count": null,
   "metadata": {},
   "outputs": [],
   "source": [
    "#interact(plot_eig_arr, eig=widgets.IntSlider(min=0,max=799,step=1,value=10));\n",
    "interact(plot_eig_arr, eig=widgets.IntText(description=\"eig comp\", continuous_update=True));"
   ]
  },
  {
   "cell_type": "markdown",
   "metadata": {},
   "source": [
    "### Now lets look at how the KL reconstruction looks for a nasty zone array..."
   ]
  },
  {
   "cell_type": "code",
   "execution_count": null,
   "metadata": {},
   "outputs": [],
   "source": [
    "arr = np.loadtxt(os.path.join(\"..\",\"..\",\"models\",\"Freyberg\",\"Freyberg_Truth\",\"hk.zones\"))\n",
    "mm = flopy.plot.ModelMap(model=m)\n",
    "mm.plot_array(arr)\n",
    "mm.plot_ibound()"
   ]
  },
  {
   "cell_type": "code",
   "execution_count": null,
   "metadata": {},
   "outputs": [],
   "source": [
    "basis_arr = np.array(basis.values)\n",
    "flat_arr = np.atleast_2d(arr.flatten()).transpose()"
   ]
  },
  {
   "cell_type": "code",
   "execution_count": null,
   "metadata": {},
   "outputs": [],
   "source": [
    "def plot_eig_arr(eig):\n",
    "    basis_eig = basis_arr[:,:eig+1].transpose()\n",
    "    factors = np.dot(basis_eig,flat_arr).transpose()\n",
    "    factors = np.dot(factors,basis_eig).reshape(arr.shape)\n",
    "    mm = flopy.plot.ModelMap(model=m)\n",
    "    mm.plot_array(factors)\n",
    "    mm.plot_ibound()\n",
    "    return mm"
   ]
  },
  {
   "cell_type": "code",
   "execution_count": null,
   "metadata": {},
   "outputs": [],
   "source": [
    "interact(plot_eig_arr, eig=widgets.IntText(description=\"eig comp\", continuous_update=True));"
   ]
  },
  {
   "cell_type": "code",
   "execution_count": null,
   "metadata": {},
   "outputs": [],
   "source": []
  },
  {
   "cell_type": "code",
   "execution_count": null,
   "metadata": {},
   "outputs": [],
   "source": []
  },
  {
   "cell_type": "code",
   "execution_count": null,
   "metadata": {},
   "outputs": [],
   "source": []
  }
 ],
 "metadata": {
  "anaconda-cloud": {},
  "kernelspec": {
   "display_name": "Python 3",
   "language": "python",
   "name": "python3"
  },
  "language_info": {
   "codemirror_mode": {
    "name": "ipython",
    "version": 3
   },
   "file_extension": ".py",
   "mimetype": "text/x-python",
   "name": "python",
   "nbconvert_exporter": "python",
   "pygments_lexer": "ipython3",
   "version": "3.6.4"
  }
 },
 "nbformat": 4,
 "nbformat_minor": 1
}
