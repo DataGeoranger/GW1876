{
 "cells": [
  {
   "cell_type": "markdown",
   "metadata": {},
   "source": [
    "# The main algorithm for regression in PEST is the Gauss-Levenberg-Marquardt (GLM)  algorithm\n",
    "\n"
   ]
  },
  {
   "cell_type": "code",
   "execution_count": 1,
   "metadata": {},
   "outputs": [],
   "source": [
    "%matplotlib inline\n",
    "import os\n",
    "import sys\n",
    "sys.path.append('..')\n",
    "import numpy as np\n",
    "import pandas as pd\n",
    "import matplotlib.pyplot as plt\n",
    "import pyemu\n",
    "\n",
    "import xsect_setup\n",
    "import response_surface as resurf"
   ]
  },
  {
   "cell_type": "markdown",
   "metadata": {},
   "source": [
    "copy the model files over"
   ]
  },
  {
   "cell_type": "code",
   "execution_count": 2,
   "metadata": {
    "collapsed": true
   },
   "outputs": [],
   "source": [
    "xsect_setup.setup_model()"
   ]
  },
  {
   "cell_type": "code",
   "execution_count": 2,
   "metadata": {},
   "outputs": [],
   "source": [
    "working_dir = xsect_setup.WORKING_DIR\n",
    "pst_name = xsect_setup.PST_NAME"
   ]
  },
  {
   "cell_type": "markdown",
   "metadata": {},
   "source": [
    "## Let's open up the `PST` file and check out the parameters"
   ]
  },
  {
   "cell_type": "code",
   "execution_count": 4,
   "metadata": {
    "collapsed": true
   },
   "outputs": [],
   "source": [
    "inpst = pyemu.Pst(os.path.join(working_dir,pst_name))"
   ]
  },
  {
   "cell_type": "code",
   "execution_count": 5,
   "metadata": {},
   "outputs": [
    {
     "data": {
      "text/html": [
       "<div>\n",
       "<style>\n",
       "    .dataframe thead tr:only-child th {\n",
       "        text-align: right;\n",
       "    }\n",
       "\n",
       "    .dataframe thead th {\n",
       "        text-align: left;\n",
       "    }\n",
       "\n",
       "    .dataframe tbody tr th {\n",
       "        vertical-align: top;\n",
       "    }\n",
       "</style>\n",
       "<table border=\"1\" class=\"dataframe\">\n",
       "  <thead>\n",
       "    <tr style=\"text-align: right;\">\n",
       "      <th></th>\n",
       "      <th>parnme</th>\n",
       "      <th>partrans</th>\n",
       "      <th>parchglim</th>\n",
       "      <th>parval1</th>\n",
       "      <th>parlbnd</th>\n",
       "      <th>parubnd</th>\n",
       "      <th>pargp</th>\n",
       "      <th>scale</th>\n",
       "      <th>offset</th>\n",
       "      <th>dercom</th>\n",
       "    </tr>\n",
       "    <tr>\n",
       "      <th>parnme</th>\n",
       "      <th></th>\n",
       "      <th></th>\n",
       "      <th></th>\n",
       "      <th></th>\n",
       "      <th></th>\n",
       "      <th></th>\n",
       "      <th></th>\n",
       "      <th></th>\n",
       "      <th></th>\n",
       "      <th></th>\n",
       "    </tr>\n",
       "  </thead>\n",
       "  <tbody>\n",
       "    <tr>\n",
       "      <th>hk1</th>\n",
       "      <td>hk1</td>\n",
       "      <td>log</td>\n",
       "      <td>factor</td>\n",
       "      <td>2.5</td>\n",
       "      <td>1.100000e-10</td>\n",
       "      <td>1.100000e+10</td>\n",
       "      <td>pargp</td>\n",
       "      <td>1.0</td>\n",
       "      <td>0.0</td>\n",
       "      <td>1</td>\n",
       "    </tr>\n",
       "    <tr>\n",
       "      <th>cal_flux</th>\n",
       "      <td>cal_flux</td>\n",
       "      <td>log</td>\n",
       "      <td>factor</td>\n",
       "      <td>0.5</td>\n",
       "      <td>1.100000e-10</td>\n",
       "      <td>1.100000e+10</td>\n",
       "      <td>pargp</td>\n",
       "      <td>1.0</td>\n",
       "      <td>0.0</td>\n",
       "      <td>1</td>\n",
       "    </tr>\n",
       "    <tr>\n",
       "      <th>fore_flux</th>\n",
       "      <td>fore_flux</td>\n",
       "      <td>log</td>\n",
       "      <td>factor</td>\n",
       "      <td>1.0</td>\n",
       "      <td>1.100000e-10</td>\n",
       "      <td>1.100000e+10</td>\n",
       "      <td>pargp</td>\n",
       "      <td>1.0</td>\n",
       "      <td>0.0</td>\n",
       "      <td>1</td>\n",
       "    </tr>\n",
       "  </tbody>\n",
       "</table>\n",
       "</div>"
      ],
      "text/plain": [
       "              parnme partrans parchglim  parval1       parlbnd       parubnd  \\\n",
       "parnme                                                                         \n",
       "hk1              hk1      log    factor      2.5  1.100000e-10  1.100000e+10   \n",
       "cal_flux    cal_flux      log    factor      0.5  1.100000e-10  1.100000e+10   \n",
       "fore_flux  fore_flux      log    factor      1.0  1.100000e-10  1.100000e+10   \n",
       "\n",
       "           pargp  scale  offset  dercom  \n",
       "parnme                                   \n",
       "hk1        pargp    1.0     0.0       1  \n",
       "cal_flux   pargp    1.0     0.0       1  \n",
       "fore_flux  pargp    1.0     0.0       1  "
      ]
     },
     "execution_count": 5,
     "metadata": {},
     "output_type": "execute_result"
    }
   ],
   "source": [
    "inpst.parameter_data"
   ]
  },
  {
   "cell_type": "markdown",
   "metadata": {},
   "source": [
    "## We need to fix forecast flux and put reasonable bounds on the other parameters"
   ]
  },
  {
   "cell_type": "code",
   "execution_count": 14,
   "metadata": {},
   "outputs": [
    {
     "data": {
      "text/html": [
       "<div>\n",
       "<style>\n",
       "    .dataframe thead tr:only-child th {\n",
       "        text-align: right;\n",
       "    }\n",
       "\n",
       "    .dataframe thead th {\n",
       "        text-align: left;\n",
       "    }\n",
       "\n",
       "    .dataframe tbody tr th {\n",
       "        vertical-align: top;\n",
       "    }\n",
       "</style>\n",
       "<table border=\"1\" class=\"dataframe\">\n",
       "  <thead>\n",
       "    <tr style=\"text-align: right;\">\n",
       "      <th></th>\n",
       "      <th>parnme</th>\n",
       "      <th>partrans</th>\n",
       "      <th>parchglim</th>\n",
       "      <th>parval1</th>\n",
       "      <th>parlbnd</th>\n",
       "      <th>parubnd</th>\n",
       "      <th>pargp</th>\n",
       "      <th>scale</th>\n",
       "      <th>offset</th>\n",
       "      <th>dercom</th>\n",
       "    </tr>\n",
       "    <tr>\n",
       "      <th>parnme</th>\n",
       "      <th></th>\n",
       "      <th></th>\n",
       "      <th></th>\n",
       "      <th></th>\n",
       "      <th></th>\n",
       "      <th></th>\n",
       "      <th></th>\n",
       "      <th></th>\n",
       "      <th></th>\n",
       "      <th></th>\n",
       "    </tr>\n",
       "  </thead>\n",
       "  <tbody>\n",
       "    <tr>\n",
       "      <th>hk1</th>\n",
       "      <td>hk1</td>\n",
       "      <td>log</td>\n",
       "      <td>factor</td>\n",
       "      <td>19.0</td>\n",
       "      <td>1.000000e+00</td>\n",
       "      <td>2.500000e+01</td>\n",
       "      <td>pargp</td>\n",
       "      <td>1.0</td>\n",
       "      <td>0.0</td>\n",
       "      <td>1</td>\n",
       "    </tr>\n",
       "    <tr>\n",
       "      <th>cal_flux</th>\n",
       "      <td>cal_flux</td>\n",
       "      <td>log</td>\n",
       "      <td>factor</td>\n",
       "      <td>3.4</td>\n",
       "      <td>1.000000e-03</td>\n",
       "      <td>5.000000e+00</td>\n",
       "      <td>pargp</td>\n",
       "      <td>1.0</td>\n",
       "      <td>0.0</td>\n",
       "      <td>1</td>\n",
       "    </tr>\n",
       "    <tr>\n",
       "      <th>fore_flux</th>\n",
       "      <td>fore_flux</td>\n",
       "      <td>fixed</td>\n",
       "      <td>factor</td>\n",
       "      <td>1.0</td>\n",
       "      <td>1.100000e-10</td>\n",
       "      <td>1.100000e+10</td>\n",
       "      <td>pargp</td>\n",
       "      <td>1.0</td>\n",
       "      <td>0.0</td>\n",
       "      <td>1</td>\n",
       "    </tr>\n",
       "  </tbody>\n",
       "</table>\n",
       "</div>"
      ],
      "text/plain": [
       "              parnme partrans parchglim  parval1       parlbnd       parubnd  \\\n",
       "parnme                                                                         \n",
       "hk1              hk1      log    factor     19.0  1.000000e+00  2.500000e+01   \n",
       "cal_flux    cal_flux      log    factor      3.4  1.000000e-03  5.000000e+00   \n",
       "fore_flux  fore_flux    fixed    factor      1.0  1.100000e-10  1.100000e+10   \n",
       "\n",
       "           pargp  scale  offset  dercom  \n",
       "parnme                                   \n",
       "hk1        pargp    1.0     0.0       1  \n",
       "cal_flux   pargp    1.0     0.0       1  \n",
       "fore_flux  pargp    1.0     0.0       1  "
      ]
     },
     "execution_count": 14,
     "metadata": {},
     "output_type": "execute_result"
    }
   ],
   "source": [
    "inpst.parameter_data.loc['hk1', 'parlbnd'] = 1.0\n",
    "inpst.parameter_data.loc['hk1', 'parubnd'] = 25.0\n",
    "inpst.parameter_data.loc['cal_flux', 'parlbnd'] = 0.001\n",
    "inpst.parameter_data.loc['cal_flux', 'parubnd'] = 5\n",
    "inpst.parameter_data.loc['fore_flux', 'partrans'] = 'fixed'\n",
    "inpst.write(os.path.join(working_dir,pst_name))\n",
    "inpst.parameter_data\n"
   ]
  },
  {
   "cell_type": "markdown",
   "metadata": {},
   "source": [
    "## run the response surface function"
   ]
  },
  {
   "cell_type": "code",
   "execution_count": 15,
   "metadata": {},
   "outputs": [
    {
     "name": "stdout",
     "output_type": "stream",
     "text": [
      "master:sweep k_wel_reg.pst /h :4004 in .\n",
      "slave:sweep k_wel_reg.pst /h localhost:4004 in ../slave_0\n",
      "slave:sweep k_wel_reg.pst /h localhost:4004 in ../slave_1\n",
      "slave:sweep k_wel_reg.pst /h localhost:4004 in ../slave_2\n",
      "slave:sweep k_wel_reg.pst /h localhost:4004 in ../slave_3\n",
      "slave:sweep k_wel_reg.pst /h localhost:4004 in ../slave_4\n",
      "slave:sweep k_wel_reg.pst /h localhost:4004 in ../slave_5\n",
      "slave:sweep k_wel_reg.pst /h localhost:4004 in ../slave_6\n",
      "slave:sweep k_wel_reg.pst /h localhost:4004 in ../slave_7\n",
      "slave:sweep k_wel_reg.pst /h localhost:4004 in ../slave_8\n",
      "slave:sweep k_wel_reg.pst /h localhost:4004 in ../slave_9\n",
      "slave:sweep k_wel_reg.pst /h localhost:4004 in ../slave_10\n",
      "slave:sweep k_wel_reg.pst /h localhost:4004 in ../slave_11\n",
      "slave:sweep k_wel_reg.pst /h localhost:4004 in ../slave_12\n",
      "slave:sweep k_wel_reg.pst /h localhost:4004 in ../slave_13\n",
      "slave:sweep k_wel_reg.pst /h localhost:4004 in ../slave_14\n",
      "slave:sweep k_wel_reg.pst /h localhost:4004 in ../slave_15\n",
      "slave:sweep k_wel_reg.pst /h localhost:4004 in ../slave_16\n",
      "slave:sweep k_wel_reg.pst /h localhost:4004 in ../slave_17\n",
      "slave:sweep k_wel_reg.pst /h localhost:4004 in ../slave_18\n",
      "slave:sweep k_wel_reg.pst /h localhost:4004 in ../slave_19\n"
     ]
    }
   ],
   "source": [
    "resurf.run_respsurf(['hk1', 'cal_flux'], pstfile=pst_name, WORKING_DIR=working_dir)"
   ]
  },
  {
   "cell_type": "code",
   "execution_count": 16,
   "metadata": {},
   "outputs": [
    {
     "data": {
      "image/png": "[encoded data removed]",
      "text/plain": [
       "<matplotlib.figure.Figure at 0x11c7959e8>"
      ]
     },
     "metadata": {},
     "output_type": "display_data"
    }
   ],
   "source": [
    "fig, ax = resurf.plot_response_surface(parnames=['hk1', 'cal_flux'], \n",
    "                             pstfile=pst_name, WORKING_DIR=working_dir,\n",
    "                            nanthresh = 10);"
   ]
  },
  {
   "cell_type": "markdown",
   "metadata": {},
   "source": [
    "## Let's evaluate the impact of Lambda on regression (regularization included)"
   ]
  },
  {
   "cell_type": "code",
   "execution_count": 45,
   "metadata": {
    "collapsed": true
   },
   "outputs": [],
   "source": [
    "inpst = pyemu.Pst(os.path.join(working_dir,pst_name))\n",
    "# turn off the Maquardt lambda\n",
    "inpst.pestpp_options['lambdas']=0.0\n",
    "inpst.pestpp_options['lambda_scale_fac']=1.0\n",
    "\n",
    "inpst.parameter_data.loc['fore_flux', 'partrans'] = 'fixed'\n",
    "# set the starting values up in the corner of parameter space\n",
    "inpst.parameter_data.loc['hk1', 'parval1'] = 20.0\n",
    "inpst.parameter_data.loc['cal_flux', 'parval1'] = 4.0\n",
    "inpst.control_data.noptmax=250\n",
    "inpst.write(os.path.join(working_dir,pst_name.replace('.pst','.nolam.pst')))"
   ]
  },
  {
   "cell_type": "code",
   "execution_count": 46,
   "metadata": {},
   "outputs": [
    {
     "name": "stdout",
     "output_type": "stream",
     "text": [
      "master:pestpp k_wel_reg.nolam.pst /h :4004 in .\n",
      "slave:pestpp k_wel_reg.nolam.pst /h localhost:4004 in ../slave_0\n",
      "slave:pestpp k_wel_reg.nolam.pst /h localhost:4004 in ../slave_1\n",
      "slave:pestpp k_wel_reg.nolam.pst /h localhost:4004 in ../slave_2\n",
      "slave:pestpp k_wel_reg.nolam.pst /h localhost:4004 in ../slave_3\n",
      "slave:pestpp k_wel_reg.nolam.pst /h localhost:4004 in ../slave_4\n"
     ]
    }
   ],
   "source": [
    "os.chdir(working_dir)\n",
    "pyemu.helpers.start_slaves('.', 'pestpp', \n",
    "                           pst_name.replace('.pst','.nolam.pst'), \n",
    "                           num_slaves=5, master_dir='.')\n",
    "os.chdir(\"..\")\n"
   ]
  },
  {
   "cell_type": "code",
   "execution_count": 47,
   "metadata": {},
   "outputs": [
    {
     "data": {
      "image/png": "[encoded data removed]",
      "text/plain": [
       "<matplotlib.figure.Figure at 0x11d1e6ba8>"
      ]
     },
     "metadata": {},
     "output_type": "display_data"
    }
   ],
   "source": [
    "fig, ax = resurf.plot_response_surface(parnames=['hk1', 'cal_flux'], \n",
    "                             pstfile=pst_name, WORKING_DIR=working_dir,\n",
    "                            nanthresh = 10);\n",
    "pars, obfun = resurf.add_trajectory_to_plot(fig,ax, 'nolam','No Lambda', working_dir, pst_name)"
   ]
  },
  {
   "cell_type": "code",
   "execution_count": 48,
   "metadata": {},
   "outputs": [
    {
     "data": {
      "text/plain": [
       "<matplotlib.axes._subplots.AxesSubplot at 0x118dd9390>"
      ]
     },
     "execution_count": 48,
     "metadata": {},
     "output_type": "execute_result"
    },
    {
     "data": {
      "image/png": "[encoded data removed]",
      "text/plain": [
       "<matplotlib.figure.Figure at 0x10dd1b438>"
      ]
     },
     "metadata": {},
     "output_type": "display_data"
    }
   ],
   "source": [
    "obfun.total_phi.plot()"
   ]
  },
  {
   "cell_type": "markdown",
   "metadata": {},
   "source": [
    "# JUST GRAB PARAMETERS FROM STUFF BELOW"
   ]
  },
  {
   "cell_type": "code",
   "execution_count": null,
   "metadata": {
    "collapsed": true
   },
   "outputs": [],
   "source": []
  },
  {
   "cell_type": "code",
   "execution_count": null,
   "metadata": {
    "collapsed": true
   },
   "outputs": [],
   "source": []
  },
  {
   "cell_type": "code",
   "execution_count": null,
   "metadata": {
    "collapsed": true
   },
   "outputs": [],
   "source": []
  },
  {
   "cell_type": "code",
   "execution_count": null,
   "metadata": {
    "collapsed": true
   },
   "outputs": [],
   "source": []
  },
  {
   "cell_type": "code",
   "execution_count": null,
   "metadata": {
    "collapsed": true
   },
   "outputs": [],
   "source": []
  },
  {
   "cell_type": "code",
   "execution_count": null,
   "metadata": {
    "collapsed": true
   },
   "outputs": [],
   "source": [
    "ax=obfun.total_phi.plot()\n",
    "ax.set_xlabel('iterations')\n",
    "ax.set_ylabel('$\\Phi$')\n",
    "plt.savefig('PHI_nolam.png')"
   ]
  },
  {
   "cell_type": "code",
   "execution_count": null,
   "metadata": {
    "collapsed": true
   },
   "outputs": [],
   "source": [
    "inpst=pyemu.Pst('k_wel_reg.pst')\n",
    "inpst.pestpp_options['lambdas']=1\n",
    "inpst.parameter_data.loc['fore_flux', 'partrans'] = 'fixed'\n",
    "inpst.parameter_data.loc['hk1', 'parval1'] = 20\n",
    "inpst.parameter_data.loc['cal_flux', 'parval1'] = 4\n",
    "inpst.control_data.noptmax=250\n",
    "inpst.write('k_wel_reg_midlam.pst')"
   ]
  },
  {
   "cell_type": "code",
   "execution_count": null,
   "metadata": {
    "collapsed": true
   },
   "outputs": [],
   "source": [
    "os.system('{0} k_wel_reg_midlam.pst'.format(ppp))"
   ]
  },
  {
   "cell_type": "code",
   "execution_count": null,
   "metadata": {
    "collapsed": true
   },
   "outputs": [],
   "source": [
    "obfun = pd.read_csv('k_wel_reg_midlam.iobj')\n",
    "pars=pd.read_csv('k_wel_reg_midlam.ipar')\n",
    "fig,ax = resp_plot()\n",
    "ax.plot(pars.hk1.values,pars.cal_flux.values, 'x-')\n",
    "ax.set_title('With small Lambda')\n",
    "plt.savefig('response_surface_lam_1.png')"
   ]
  },
  {
   "cell_type": "code",
   "execution_count": null,
   "metadata": {
    "collapsed": true
   },
   "outputs": [],
   "source": [
    "ax=obfun.total_phi.plot()\n",
    "ax.set_xlabel('iterations')\n",
    "ax.set_ylabel('$\\Phi$')\n",
    "plt.savefig('PHI_lam1.png')"
   ]
  },
  {
   "cell_type": "code",
   "execution_count": null,
   "metadata": {
    "collapsed": true
   },
   "outputs": [],
   "source": [
    "inpst=pyemu.Pst('k_wel_reg.pst')\n",
    "inpst.pestpp_options['lambdas']=50\n",
    "inpst.parameter_data.loc['fore_flux', 'partrans'] = 'fixed'\n",
    "inpst.parameter_data.loc['hk1', 'parval1'] = 20\n",
    "inpst.parameter_data.loc['cal_flux', 'parval1'] = 4\n",
    "inpst.control_data.noptmax=500\n",
    "inpst.write('k_wel_reg_hilam.pst')"
   ]
  },
  {
   "cell_type": "code",
   "execution_count": null,
   "metadata": {
    "collapsed": true
   },
   "outputs": [],
   "source": [
    "os.system('{0} k_wel_reg_hilam.pst'.format(ppp))"
   ]
  },
  {
   "cell_type": "code",
   "execution_count": null,
   "metadata": {
    "collapsed": true
   },
   "outputs": [],
   "source": [
    "obfun = pd.read_csv('k_wel_reg_hilam.iobj')\n",
    "pars=pd.read_csv('k_wel_reg_hilam.ipar')\n",
    "fig,ax = resp_plot()\n",
    "ax.plot(pars.hk1.values,pars.cal_flux.values, 'x-')\n",
    "ax.set_title('With large Lambda $\\lambda={0}$'.format(inpst.pestpp_options['lambdas']))\n",
    "plt.savefig('response_surface_lam_50.png')"
   ]
  },
  {
   "cell_type": "code",
   "execution_count": null,
   "metadata": {
    "collapsed": true
   },
   "outputs": [],
   "source": [
    "ax=obfun.total_phi.plot()\n",
    "ax.set_xlabel('iterations')\n",
    "ax.set_ylabel('$\\Phi$')\n",
    "plt.savefig('PHI_lam50.png')"
   ]
  },
  {
   "cell_type": "code",
   "execution_count": null,
   "metadata": {
    "collapsed": true
   },
   "outputs": [],
   "source": []
  }
 ],
 "metadata": {
  "anaconda-cloud": {},
  "kernelspec": {
   "display_name": "Python 3",
   "language": "python",
   "name": "python3"
  },
  "language_info": {
   "codemirror_mode": {
    "name": "ipython",
    "version": 3
   },
   "file_extension": ".py",
   "mimetype": "text/x-python",
   "name": "python",
   "nbconvert_exporter": "python",
   "pygments_lexer": "ipython3",
   "version": "3.6.1"
  }
 },
 "nbformat": 4,
 "nbformat_minor": 1
}
