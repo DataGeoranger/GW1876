{
 "cells": [
  {
   "cell_type": "markdown",
   "metadata": {},
   "source": [
    "# The main algorithm for regression in PEST is the Gauss-Levenberg-Marquardt (GLM)  algorithm\n",
    "\n"
   ]
  },
  {
   "cell_type": "code",
   "execution_count": null,
   "metadata": {
    "collapsed": false
   },
   "outputs": [],
   "source": [
    "%matplotlib inline\n",
    "import os\n",
    "import shutil\n",
    "import subprocess as sp\n",
    "import numpy as np\n",
    "import pandas as pd\n",
    "import matplotlib.pyplot as plt\n",
    "import pyemu\n",
    "import platform\n",
    "if 'window' in platform.platform().lower():\n",
    "    ppp = 'pest++'\n",
    "    pref = ''\n",
    "else:\n",
    "    ppp = './pestpp'\n",
    "    pref = './'"
   ]
  },
  {
   "cell_type": "markdown",
   "metadata": {},
   "source": [
    "copy the model files over"
   ]
  },
  {
   "cell_type": "code",
   "execution_count": null,
   "metadata": {
    "collapsed": false
   },
   "outputs": [],
   "source": [
    "base_dir = os.path.join(\"..\",\"..\",\"models\",\"10par_xsec\",\"complete_pest_setup\")\n",
    "[shutil.copy2(os.path.join(base_dir,f),f) for f in os.listdir(base_dir)];"
   ]
  },
  {
   "cell_type": "markdown",
   "metadata": {},
   "source": [
    "write a csv file of parameter values to run"
   ]
  },
  {
   "cell_type": "code",
   "execution_count": null,
   "metadata": {
    "collapsed": false
   },
   "outputs": [],
   "source": [
    "nsamples = 50\n",
    "hk_values = np.linspace(0.01,20.0,nsamples)\n",
    "fx_values = np.linspace(.001,5,nsamples)\n",
    "c = 0\n",
    "with open(\"grid.csv\",'w') as f:\n",
    "    f.write(\"run_id,hk1,cal_flux,fore_flux\\n\")\n",
    "    for v1 in hk_values:\n",
    "        for v2 in fx_values:\n",
    "            f.write(\"{0:d},{1:15.6E},{2:15.6E},1.0\\n\".format(c,v1,v2))\n",
    "            c += 1"
   ]
  },
  {
   "cell_type": "markdown",
   "metadata": {},
   "source": [
    "function to plot response surface"
   ]
  },
  {
   "cell_type": "code",
   "execution_count": null,
   "metadata": {
    "collapsed": false
   },
   "outputs": [],
   "source": [
    "def resp_plot():\n",
    "    df_in = pd.read_csv(\"grid.csv\")\n",
    "    df_out = pd.read_csv(\"sweep_out.csv\")\n",
    "    resp_surf = np.zeros((nsamples,nsamples))\n",
    "    c = 0\n",
    "    for i,v1 in enumerate(hk_values):\n",
    "        for j,v2 in enumerate(fx_values):\n",
    "            resp_surf[j,i] = df_out.loc[c,\"phi\"]\n",
    "            c += 1\n",
    "    fig = plt.figure(figsize=(5,5))\n",
    "    ax = plt.subplot(111)\n",
    "    X,Y = np.meshgrid(hk_values,fx_values)\n",
    "    resp_surf = np.ma.masked_where(resp_surf>5,resp_surf)\n",
    "    p = ax.pcolor(X,Y,resp_surf,alpha=0.5,cmap=\"spectral\")\n",
    "    plt.colorbar(p)\n",
    "    c = ax.contour(X,Y,resp_surf,levels=np.linspace(0.01,4,15),colors='k')\n",
    "    plt.clabel(c)\n",
    "    ax.set_xlim(hk_values.min(),hk_values.max())\n",
    "    ax.set_ylim(fx_values.min(),fx_values.max())\n",
    "    ax.set_xlabel(\"hk1 ($\\\\frac{L}{T}$)\")\n",
    "    ax.set_ylabel(\"cal_flux ($\\\\frac{L^3}{T}$)\")\n",
    "    return fig,ax"
   ]
  },
  {
   "cell_type": "markdown",
   "metadata": {},
   "source": [
    "## Let's evaluate the impact of Lambda on regression (regularization included)"
   ]
  },
  {
   "cell_type": "code",
   "execution_count": null,
   "metadata": {
    "collapsed": false
   },
   "outputs": [],
   "source": [
    "pyemu.utils.start_slaves(base_dir,\"{0}sweep\".format(pref),\"k_wel_reg.pst\",20,slave_root='.',port=4004,master_dir='.')"
   ]
  },
  {
   "cell_type": "code",
   "execution_count": null,
   "metadata": {
    "collapsed": false
   },
   "outputs": [],
   "source": [
    "fig,ax = resp_plot()\n",
    "plt.savefig('response_surface.png')"
   ]
  },
  {
   "cell_type": "code",
   "execution_count": null,
   "metadata": {
    "collapsed": false
   },
   "outputs": [],
   "source": [
    "inpst=pyemu.Pst('k_wel_reg.pst')\n",
    "inpst.pestpp_options['lambdas']=0\n",
    "inpst.parameter_data.loc['fore_flux', 'partrans'] = 'fixed'\n",
    "inpst.parameter_data.loc['hk1', 'parval1'] = 20\n",
    "inpst.parameter_data.loc['cal_flux', 'parval1'] = 4\n",
    "inpst.control_data.noptmax=250\n",
    "inpst.write('k_wel_reg_nolam.pst')"
   ]
  },
  {
   "cell_type": "code",
   "execution_count": null,
   "metadata": {
    "collapsed": false
   },
   "outputs": [],
   "source": [
    "os.system('{0} k_wel_reg_nolam.pst'.format(ppp))"
   ]
  },
  {
   "cell_type": "code",
   "execution_count": null,
   "metadata": {
    "collapsed": false
   },
   "outputs": [],
   "source": [
    "obfun = pd.read_csv('k_wel_reg_nolam.iobj')\n",
    "pars=pd.read_csv('k_wel_reg_nolam.ipar')\n",
    "fig,ax = resp_plot()\n",
    "ax.plot(pars.hk1.values,pars.cal_flux.values, 'x-')\n",
    "ax.set_title('Without Lambda')\n",
    "plt.savefig('response_surface_nolam.png')"
   ]
  },
  {
   "cell_type": "code",
   "execution_count": null,
   "metadata": {
    "collapsed": false
   },
   "outputs": [],
   "source": [
    "ax=obfun.total_phi.plot()\n",
    "ax.set_xlabel('iterations')\n",
    "ax.set_ylabel('$\\Phi$')\n",
    "plt.savefig('PHI_nolam.png')"
   ]
  },
  {
   "cell_type": "code",
   "execution_count": null,
   "metadata": {
    "collapsed": false
   },
   "outputs": [],
   "source": [
    "inpst=pyemu.Pst('k_wel_reg.pst')\n",
    "inpst.pestpp_options['lambdas']=1\n",
    "inpst.parameter_data.loc['fore_flux', 'partrans'] = 'fixed'\n",
    "inpst.parameter_data.loc['hk1', 'parval1'] = 20\n",
    "inpst.parameter_data.loc['cal_flux', 'parval1'] = 4\n",
    "inpst.control_data.noptmax=250\n",
    "inpst.write('k_wel_reg_midlam.pst')"
   ]
  },
  {
   "cell_type": "code",
   "execution_count": null,
   "metadata": {
    "collapsed": false
   },
   "outputs": [],
   "source": [
    "os.system('{0} k_wel_reg_midlam.pst'.format(ppp))"
   ]
  },
  {
   "cell_type": "code",
   "execution_count": null,
   "metadata": {
    "collapsed": false
   },
   "outputs": [],
   "source": [
    "obfun = pd.read_csv('k_wel_reg_midlam.iobj')\n",
    "pars=pd.read_csv('k_wel_reg_midlam.ipar')\n",
    "fig,ax = resp_plot()\n",
    "ax.plot(pars.hk1.values,pars.cal_flux.values, 'x-')\n",
    "ax.set_title('With small Lambda')\n",
    "plt.savefig('response_surface_lam_1.png')"
   ]
  },
  {
   "cell_type": "code",
   "execution_count": null,
   "metadata": {
    "collapsed": false
   },
   "outputs": [],
   "source": [
    "ax=obfun.total_phi.plot()\n",
    "ax.set_xlabel('iterations')\n",
    "ax.set_ylabel('$\\Phi$')\n",
    "plt.savefig('PHI_lam1.png')"
   ]
  },
  {
   "cell_type": "code",
   "execution_count": null,
   "metadata": {
    "collapsed": true
   },
   "outputs": [],
   "source": [
    "inpst=pyemu.Pst('k_wel_reg.pst')\n",
    "inpst.pestpp_options['lambdas']=50\n",
    "inpst.parameter_data.loc['fore_flux', 'partrans'] = 'fixed'\n",
    "inpst.parameter_data.loc['hk1', 'parval1'] = 20\n",
    "inpst.parameter_data.loc['cal_flux', 'parval1'] = 4\n",
    "inpst.control_data.noptmax=500\n",
    "inpst.write('k_wel_reg_hilam.pst')"
   ]
  },
  {
   "cell_type": "code",
   "execution_count": null,
   "metadata": {
    "collapsed": false
   },
   "outputs": [],
   "source": [
    "os.system('{0} k_wel_reg_hilam.pst'.format(ppp))"
   ]
  },
  {
   "cell_type": "code",
   "execution_count": null,
   "metadata": {
    "collapsed": false
   },
   "outputs": [],
   "source": [
    "obfun = pd.read_csv('k_wel_reg_hilam.iobj')\n",
    "pars=pd.read_csv('k_wel_reg_hilam.ipar')\n",
    "fig,ax = resp_plot()\n",
    "ax.plot(pars.hk1.values,pars.cal_flux.values, 'x-')\n",
    "ax.set_title('With large Lambda $\\lambda={0}$'.format(inpst.pestpp_options['lambdas']))\n",
    "plt.savefig('response_surface_lam_50.png')"
   ]
  },
  {
   "cell_type": "code",
   "execution_count": null,
   "metadata": {
    "collapsed": false
   },
   "outputs": [],
   "source": [
    "ax=obfun.total_phi.plot()\n",
    "ax.set_xlabel('iterations')\n",
    "ax.set_ylabel('$\\Phi$')\n",
    "plt.savefig('PHI_lam50.png')"
   ]
  },
  {
   "cell_type": "code",
   "execution_count": null,
   "metadata": {
    "collapsed": true
   },
   "outputs": [],
   "source": []
  }
 ],
 "metadata": {
  "anaconda-cloud": {},
  "kernelspec": {
   "display_name": "Python 3",
   "language": "python",
   "name": "python3"
  },
  "language_info": {
   "codemirror_mode": {
    "name": "ipython",
    "version": 3
   },
   "file_extension": ".py",
   "mimetype": "text/x-python",
   "name": "python",
   "nbconvert_exporter": "python",
   "pygments_lexer": "ipython3",
   "version": "3.5.2"
  }
 },
 "nbformat": 4,
 "nbformat_minor": 0
}
