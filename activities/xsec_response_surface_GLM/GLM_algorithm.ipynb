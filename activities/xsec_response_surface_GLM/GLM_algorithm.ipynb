{
 "cells": [
  {
   "cell_type": "markdown",
   "metadata": {},
   "source": [
    "# The main algorithm for regression in PEST is the Gauss-Levenberg-Marquardt (GLM)  algorithm\n",
    "\n"
   ]
  },
  {
   "cell_type": "code",
   "execution_count": null,
   "metadata": {},
   "outputs": [],
   "source": [
    "%matplotlib inline\n",
    "import os\n",
    "import sys\n",
    "sys.path.append('..')\n",
    "import numpy as np\n",
    "import pandas as pd\n",
    "import matplotlib.pyplot as plt\n",
    "import pyemu\n",
    "plt.rcParams['font.size']=10\n",
    "import xsect_setup\n",
    "import response_surface as resurf"
   ]
  },
  {
   "cell_type": "markdown",
   "metadata": {},
   "source": [
    "copy the model files over"
   ]
  },
  {
   "cell_type": "code",
   "execution_count": null,
   "metadata": {},
   "outputs": [],
   "source": [
    "xsect_setup.setup_model()"
   ]
  },
  {
   "cell_type": "code",
   "execution_count": null,
   "metadata": {},
   "outputs": [],
   "source": [
    "working_dir = xsect_setup.WORKING_DIR\n",
    "pst_name = xsect_setup.PST_NAME"
   ]
  },
  {
   "cell_type": "markdown",
   "metadata": {},
   "source": [
    "## Let's open up the `PST` file and check out the parameters"
   ]
  },
  {
   "cell_type": "code",
   "execution_count": null,
   "metadata": {},
   "outputs": [],
   "source": [
    "inpst = pyemu.Pst(os.path.join(working_dir,pst_name))"
   ]
  },
  {
   "cell_type": "code",
   "execution_count": null,
   "metadata": {},
   "outputs": [],
   "source": [
    "inpst.parameter_data"
   ]
  },
  {
   "cell_type": "markdown",
   "metadata": {},
   "source": [
    "## We need to fix forecast flux and put reasonable bounds on the other parameters"
   ]
  },
  {
   "cell_type": "code",
   "execution_count": null,
   "metadata": {},
   "outputs": [],
   "source": [
    "inpst.parameter_data.loc['hk1', 'parlbnd'] = 1.0\n",
    "inpst.parameter_data.loc['hk1', 'parubnd'] = 25.0\n",
    "inpst.parameter_data.loc['cal_flux', 'parlbnd'] = 0.001\n",
    "inpst.parameter_data.loc['cal_flux', 'parubnd'] = 5\n",
    "inpst.parameter_data.loc['fore_flux', 'partrans'] = 'fixed'\n",
    "inpst.write(os.path.join(working_dir,pst_name))\n",
    "inpst.parameter_data\n"
   ]
  },
  {
   "cell_type": "markdown",
   "metadata": {},
   "source": [
    "## run the response surface function"
   ]
  },
  {
   "cell_type": "code",
   "execution_count": null,
   "metadata": {},
   "outputs": [],
   "source": [
    "resurf.run_respsurf(['hk1', 'cal_flux'], pstfile=pst_name, WORKING_DIR=working_dir)"
   ]
  },
  {
   "cell_type": "code",
   "execution_count": null,
   "metadata": {},
   "outputs": [],
   "source": [
    "fig, ax = resurf.plot_response_surface(parnames=['hk1', 'cal_flux'], \n",
    "                             pstfile=pst_name, WORKING_DIR=working_dir,\n",
    "                            nanthresh = 10, maxresp=10.0);"
   ]
  },
  {
   "cell_type": "markdown",
   "metadata": {},
   "source": [
    "## Let's evaluate the impact of Lambda on regression (regularization included)"
   ]
  },
  {
   "cell_type": "code",
   "execution_count": null,
   "metadata": {},
   "outputs": [],
   "source": [
    "inpst = pyemu.Pst(os.path.join(working_dir,pst_name))\n",
    "# turn off the Maquardt lambda\n",
    "inpst.pestpp_options['lambdas']=0.0\n",
    "inpst.pestpp_options['lambda_scale_fac']=1.0\n",
    "inpst.pestpp_options['upgrade_augment']='False'\n",
    "\n",
    "inpst.parameter_data.loc['fore_flux', 'partrans'] = 'fixed'\n",
    "# set the starting values up in the corner of parameter space\n",
    "inpst.parameter_data.loc['hk1', 'parval1'] = 20.0\n",
    "inpst.parameter_data.loc['cal_flux', 'parval1'] = 4.0\n",
    "inpst.control_data.noptmax=250\n",
    "inpst.write(os.path.join(working_dir,pst_name.replace('.pst','.nolam.pst')))"
   ]
  },
  {
   "cell_type": "code",
   "execution_count": null,
   "metadata": {},
   "outputs": [],
   "source": [
    "os.chdir(working_dir)\n",
    "pyemu.helpers.start_slaves('.', 'pestpp', \n",
    "                           pst_name.replace('.pst','.nolam.pst'), \n",
    "                           num_slaves=5, master_dir='.')\n",
    "os.chdir(\"..\")\n"
   ]
  },
  {
   "cell_type": "code",
   "execution_count": null,
   "metadata": {},
   "outputs": [],
   "source": [
    "fig, ax = resurf.plot_response_surface(parnames=['hk1', 'cal_flux'], \n",
    "                             pstfile=pst_name, WORKING_DIR=working_dir,\n",
    "                            nanthresh = 10, maxresp=10.0);\n",
    "pars, obfun = resurf.add_trajectory_to_plot(fig,ax, 'nolam','No Lambda', working_dir, pst_name)"
   ]
  },
  {
   "cell_type": "code",
   "execution_count": null,
   "metadata": {},
   "outputs": [],
   "source": [
    "obfun.total_phi.plot()"
   ]
  },
  {
   "cell_type": "markdown",
   "metadata": {},
   "source": [
    "# Let's try a small value `(1.0)` for Lambda"
   ]
  },
  {
   "cell_type": "code",
   "execution_count": null,
   "metadata": {},
   "outputs": [],
   "source": [
    "inpst = pyemu.Pst(os.path.join(working_dir,pst_name.replace('.nolam.pst','.lam1.0.pst')))\n",
    "# set the Maquardt lambda to 1.0\n",
    "inpst.pestpp_options['lambdas']=1.0\n",
    "inpst.pestpp_options['lambda_scale_fac']=1.0\n",
    "inpst.pestpp_options['upgrade_augment']='False'\n",
    "\n",
    "inpst.parameter_data.loc['hk1', 'parval1'] = 20.0\n",
    "inpst.parameter_data.loc['cal_flux', 'parval1'] = 4.0\n",
    "inpst.control_data.noptmax=250\n",
    "inpst.write(os.path.join(working_dir,pst_name.replace('.pst','.lam1.0.pst')))"
   ]
  },
  {
   "cell_type": "code",
   "execution_count": null,
   "metadata": {},
   "outputs": [],
   "source": [
    "os.chdir(working_dir)\n",
    "pyemu.helpers.start_slaves('.', 'pestpp', \n",
    "                           pst_name.replace('.pst','.lam1.0.pst'), \n",
    "                           num_slaves=5, master_dir='.')\n",
    "os.chdir(\"..\")"
   ]
  },
  {
   "cell_type": "code",
   "execution_count": null,
   "metadata": {},
   "outputs": [],
   "source": [
    "fig, ax = resurf.plot_response_surface(parnames=['hk1', 'cal_flux'], \n",
    "                             pstfile=pst_name, WORKING_DIR=working_dir,\n",
    "                            nanthresh = 10, maxresp=10.0);\n",
    "pars, obfun = resurf.add_trajectory_to_plot(fig,ax, 'lam1.0','Lambda = 1.0', working_dir, pst_name)"
   ]
  },
  {
   "cell_type": "markdown",
   "metadata": {},
   "source": [
    "### This is RAD! Much better direction! It turns out, we can also do a line search along this better tragectory to 0) make use of idle computer time and 1) avoid overshooting. However, beyond that, it might even make sense to _intentionally_ overshoot a bit."
   ]
  },
  {
   "cell_type": "code",
   "execution_count": null,
   "metadata": {},
   "outputs": [],
   "source": [
    "obfun.total_phi.plot()"
   ]
  },
  {
   "cell_type": "markdown",
   "metadata": {
    "collapsed": true
   },
   "source": [
    "# Let's try a really big value value `(50.0)` for Lambda"
   ]
  },
  {
   "cell_type": "code",
   "execution_count": null,
   "metadata": {},
   "outputs": [],
   "source": [
    "inpst = pyemu.Pst(os.path.join(working_dir,pst_name.replace('.nolam.pst','.lam50.0.pst')))\n",
    "# set the Maquardt lambda to 1.0\n",
    "inpst.pestpp_options['lambdas']=50.0\n",
    "inpst.pestpp_options['lambda_scale_fac']=1.0\n",
    "inpst.pestpp_options['upgrade_augment']='False'\n",
    "\n",
    "inpst.parameter_data.loc['hk1', 'parval1'] = 20.0\n",
    "inpst.parameter_data.loc['cal_flux', 'parval1'] = 4.0\n",
    "# let's make sure it keeps going even with tiny steps\n",
    "inpst.control_data.noptmax=550\n",
    "inpst.control_data.phiredstp=0.000001\n",
    "inpst.control_data.relparstp=0.000001\n",
    "inpst.control_data.nphistp=6\n",
    "inpst.control_data.nrelpar=6\n",
    "inpst.write(os.path.join(working_dir,pst_name.replace('.pst','.lam50.0.pst')))"
   ]
  },
  {
   "cell_type": "code",
   "execution_count": null,
   "metadata": {},
   "outputs": [],
   "source": [
    "os.chdir(working_dir)\n",
    "pyemu.helpers.start_slaves('.', 'pestpp', \n",
    "                           pst_name.replace('.pst','.lam50.0.pst'), \n",
    "                           num_slaves=5, master_dir='.')\n",
    "os.chdir(\"..\")"
   ]
  },
  {
   "cell_type": "code",
   "execution_count": null,
   "metadata": {},
   "outputs": [],
   "source": [
    "fig, ax = resurf.plot_response_surface(parnames=['hk1', 'cal_flux'], \n",
    "                             pstfile=pst_name, WORKING_DIR=working_dir,\n",
    "                            nanthresh = 10, maxresp=10.0);\n",
    "pars, obfun = resurf.add_trajectory_to_plot(fig,ax, 'lam50.0','Lambda = 50.0', working_dir, pst_name)"
   ]
  },
  {
   "cell_type": "code",
   "execution_count": null,
   "metadata": {},
   "outputs": [],
   "source": [
    "obfun.total_phi.plot()"
   ]
  },
  {
   "cell_type": "code",
   "execution_count": null,
   "metadata": {},
   "outputs": [],
   "source": [
    "pars.tail()"
   ]
  },
  {
   "cell_type": "code",
   "execution_count": null,
   "metadata": {},
   "outputs": [],
   "source": [
    "obfun.tail()"
   ]
  },
  {
   "cell_type": "code",
   "execution_count": null,
   "metadata": {},
   "outputs": [],
   "source": []
  }
 ],
 "metadata": {
  "anaconda-cloud": {},
  "kernelspec": {
   "display_name": "Python 3",
   "language": "python",
   "name": "python3"
  },
  "language_info": {
   "codemirror_mode": {
    "name": "ipython",
    "version": 3
   },
   "file_extension": ".py",
   "mimetype": "text/x-python",
   "name": "python",
   "nbconvert_exporter": "python",
   "pygments_lexer": "ipython3",
   "version": "3.6.4"
  }
 },
 "nbformat": 4,
 "nbformat_minor": 1
}
