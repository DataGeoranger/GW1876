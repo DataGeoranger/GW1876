{
 "cells": [
  {
   "cell_type": "markdown",
   "metadata": {},
   "source": [
    "# Weights are subjective and often need adjustment\n",
    "There are tools in `pyemu` to assist with weight adjustment to balance the contribution of various groups."
   ]
  },
  {
   "cell_type": "code",
   "execution_count": 2,
   "metadata": {},
   "outputs": [],
   "source": [
    "import matplotlib.pyplot as plt\n",
    "%matplotlib inline\n",
    "import pyemu\n",
    "import os, shutil\n",
    "import sys\n",
    "sys.path.append('..')"
   ]
  },
  {
   "cell_type": "markdown",
   "metadata": {},
   "source": [
    "### Copy down the base  files for the freyberg model with K and R parameters"
   ]
  },
  {
   "cell_type": "code",
   "execution_count": 3,
   "metadata": {},
   "outputs": [
    {
     "name": "stdout",
     "output_type": "stream",
     "text": [
      "['.DS_Store', 'botm.ref', 'extract_zone_array.py', 'forecasts_true.csv', 'freyberg.bas', 'freyberg.dbf', 'freyberg.dis', 'freyberg.hds', 'freyberg.heads', 'freyberg.heads_potobs.ins', 'freyberg.hyd', 'freyberg.list', 'freyberg.locations', 'freyberg.mpbas', 'freyberg.mpenpt', 'freyberg.mplist', 'freyberg.mpnam', 'freyberg.mppthln', 'freyberg.mpsim', 'freyberg.oc', 'freyberg.pcg', 'freyberg.rivflux', 'freyberg.shp', 'freyberg.shx', 'freyberg.travel', 'freyberg.truth.lpf', 'freyberg.truth.nam', 'freyberg.truth.rch', 'freyberg.truth.riv', 'freyberg.truth.wel', 'hk.truth.ref', 'hk.zones', 'ibound.ref', 'inschek', 'inschek.exe', 'kzone.ref', 'mf2005', 'mf2005.exe', 'mfnwt', 'mp6', 'mp6.exe', 'mpath.in', 'pest++.exe', 'pestchek', 'pestchek.exe', 'pestpp', 'potobs_group.csv', 'Process_output.py', 'really_noisy_heads.txt', 'run_true_model.py', 'strt.ref', 'sweep', 'sweep.exe', 'tempchek', 'tempchek.exe', 'Weights_and_best_PHI.xlsx']\n",
      "\n",
      "changing model workspace...\n",
      "   freyberg_kr\n",
      "WARNING: unit 31 of package UPW already in use\n",
      "FloPy is using the following executable to run the model: /Users/mnfienen/Documents/GIT/GW1876/activities/freyberg_reweighting/freyberg_kr/mfnwt\n",
      "\n",
      "                                  MODFLOW-NWT-SWR1 \n",
      "    U.S. GEOLOGICAL SURVEY MODULAR FINITE-DIFFERENCE GROUNDWATER-FLOW MODEL\n",
      "                             WITH NEWTON FORMULATION\n",
      "                             Version 1.1.1, 7/21/2016                        \n",
      "                    BASED ON MODFLOW-2005 Version 1.11.0 08/08/2013                       \n",
      "\n",
      "                    SWR1 Version 1.04.0 07/21/2016                       \n",
      "\n",
      " Using NAME file: freyberg.nam \n",
      " Run start date and time (yyyy/mm/dd hh:mm:ss): 2017/09/04  7:59:18\n",
      "\n",
      " Solving:  Stress period:     1    Time step:     1    Groundwater-Flow Eqn.\n",
      " Solving:  Stress period:     2    Time step:     1    Groundwater-Flow Eqn.\n",
      " Solving:  Stress period:     3    Time step:     1    Groundwater-Flow Eqn.\n",
      " Run end date and time (yyyy/mm/dd hh:mm:ss): 2017/09/04  7:59:18\n",
      " Elapsed run time:  0.025 Seconds\n",
      "\n",
      "  Normal termination of simulation\n",
      "run():./mp6 freyberg.mpsim\n",
      "Util2d:delr: resetting 'how' to external\n",
      "Util2d:delc: resetting 'how' to external\n",
      "Util2d:model_top: resetting 'how' to external\n",
      "Util2d:botm_layer_0: resetting 'how' to external\n",
      "Util2d:ibound_layer_0: resetting 'how' to external\n",
      "Util2d:strt_layer_0: resetting 'how' to external\n",
      "Util2d:rech_1: resetting 'how' to external\n",
      "Util2d:rech_2: resetting 'how' to external\n",
      "Util2d:rech_3: resetting 'how' to external\n",
      "Util2d:hk layer 1: resetting 'how' to external\n",
      "Util2d:vk: resetting 'how' to external\n",
      "Util2d:ss: resetting 'how' to external\n",
      "Util2d:ss: resetting 'how' to external\n",
      "FloPy is using the following executable to run the model: /Users/mnfienen/Documents/GIT/GW1876/activities/freyberg_reweighting/freyberg_kr/mfnwt\n",
      "\n",
      "                                  MODFLOW-NWT-SWR1 \n",
      "    U.S. GEOLOGICAL SURVEY MODULAR FINITE-DIFFERENCE GROUNDWATER-FLOW MODEL\n",
      "                             WITH NEWTON FORMULATION\n",
      "                             Version 1.1.1, 7/21/2016                        \n",
      "                    BASED ON MODFLOW-2005 Version 1.11.0 08/08/2013                       \n",
      "\n",
      "                    SWR1 Version 1.04.0 07/21/2016                       \n",
      "\n",
      " Using NAME file: freyberg.nam \n",
      " Run start date and time (yyyy/mm/dd hh:mm:ss): 2017/09/04  7:59:18\n",
      "\n",
      " Solving:  Stress period:     1    Time step:     1    Groundwater-Flow Eqn.\n",
      " Solving:  Stress period:     2    Time step:     1    Groundwater-Flow Eqn.\n",
      " Solving:  Stress period:     3    Time step:     1    Groundwater-Flow Eqn.\n",
      " Run end date and time (yyyy/mm/dd hh:mm:ss): 2017/09/04  7:59:18\n",
      " Elapsed run time:  0.022 Seconds\n",
      "\n",
      "  Normal termination of simulation\n",
      "Starting to read HYDMOD data from freyberg.hyd.bin\n",
      "Starting to read HYDMOD data from freyberg.hyd.bin.truth\n",
      "run():./inschek flux.dat.ins flux.dat\n",
      "run():./inschek vol.dat.ins vol.dat\n",
      "run():./inschek flux.dat.ins flux.dat\n",
      "run():./inschek vol.dat.ins vol.dat\n",
      "run():./inschek flux.dat.ins flux.dat\n",
      "run():./inschek freyberg.hyd.bin.dat.ins freyberg.hyd.bin.dat\n"
     ]
    },
    {
     "name": "stderr",
     "output_type": "stream",
     "text": [
      "/Users/mnfienen/Documents/GIT/pyemu/pyemu/pst/pst_utils.py:419: UserWarning: pst_from_io_files has moved to pyemu.helpers and is also now avaiable as a Pst class method (Pst.from_io_files())\n",
      "  \"now avaiable as a Pst class method (Pst.from_io_files())\")\n"
     ]
    },
    {
     "name": "stdout",
     "output_type": "stream",
     "text": [
      "run():./inschek freyberg.travel.ins freyberg.travel\n",
      "run():./inschek vol.dat.ins vol.dat\n",
      "run():./pestchek freyberg_kr.pst\n",
      "run():./pestpp freyberg_kr.init.pst\n"
     ]
    }
   ],
   "source": [
    "import freyberg_setup\n",
    "freyberg_setup.setup_pest_kr()\n",
    "working_dir = freyberg_setup.WORKING_DIR_KR\n",
    "pst_name = freyberg_setup.PST_NAME_KR\n"
   ]
  },
  {
   "cell_type": "markdown",
   "metadata": {},
   "source": [
    "### We can read in the base PST file and do a quick run\n"
   ]
  },
  {
   "cell_type": "code",
   "execution_count": 4,
   "metadata": {},
   "outputs": [],
   "source": [
    "inpst = pyemu.Pst('freyberg.pst')"
   ]
  },
  {
   "cell_type": "code",
   "execution_count": 5,
   "metadata": {},
   "outputs": [
    {
     "data": {
      "text/plain": [
       "0"
      ]
     },
     "execution_count": 5,
     "metadata": {},
     "output_type": "execute_result"
    }
   ],
   "source": [
    "inpst.control_data.noptmax"
   ]
  },
  {
   "cell_type": "code",
   "execution_count": null,
   "metadata": {
    "collapsed": true
   },
   "outputs": [],
   "source": []
  },
  {
   "cell_type": "code",
   "execution_count": 6,
   "metadata": {},
   "outputs": [
    {
     "name": "stdout",
     "output_type": "stream",
     "text": [
      "run():./pestpp freyberg_kr.pst\n"
     ]
    }
   ],
   "source": [
    "pyemu.helpers.run(\"pestpp {0}\".format(pst_name))\n"
   ]
  },
  {
   "cell_type": "code",
   "execution_count": 7,
   "metadata": {},
   "outputs": [
    {
     "data": {
      "text/plain": [
       "98.1802598698"
      ]
     },
     "execution_count": 7,
     "metadata": {},
     "output_type": "execute_result"
    }
   ],
   "source": [
    "inpst.phi"
   ]
  },
  {
   "cell_type": "code",
   "execution_count": 8,
   "metadata": {},
   "outputs": [
    {
     "data": {
      "text/plain": [
       "{'flux_cal': 0.0,\n",
       " 'flux_fore': 0.0,\n",
       " 'head_cal': 98.1802598698,\n",
       " 'head_fore': 0.0,\n",
       " 'travel_fore': 0.0}"
      ]
     },
     "execution_count": 8,
     "metadata": {},
     "output_type": "execute_result"
    }
   ],
   "source": [
    "inpst.phi_components"
   ]
  },
  {
   "cell_type": "code",
   "execution_count": 9,
   "metadata": {},
   "outputs": [
    {
     "data": {
      "text/plain": [
       "{'flux_cal': 0.0,\n",
       " 'flux_fore': 0.0,\n",
       " 'head_cal': 1.0,\n",
       " 'head_fore': 0.0,\n",
       " 'travel_fore': 0.0}"
      ]
     },
     "execution_count": 9,
     "metadata": {},
     "output_type": "execute_result"
    }
   ],
   "source": [
    "inpst.phi_components_normalized"
   ]
  },
  {
   "cell_type": "code",
   "execution_count": 10,
   "metadata": {},
   "outputs": [
    {
     "data": {
      "image/png": "[encoded data removed]",
      "text/plain": [
       "<matplotlib.figure.Figure at 0x11b5d3518>"
      ]
     },
     "metadata": {},
     "output_type": "display_data"
    }
   ],
   "source": [
    "starting_components = inpst.phi_components_normalized\n",
    "plt.axis('equal')\n",
    "plt.pie([float(v) for v in starting_components.values()], labels=[k for k in starting_components.keys()]);"
   ]
  },
  {
   "cell_type": "code",
   "execution_count": 11,
   "metadata": {},
   "outputs": [],
   "source": [
    "groups = ['flux_cal', 'flux_fore', 'head_fore', 'head_cal', 'travel_fore']"
   ]
  },
  {
   "cell_type": "code",
   "execution_count": 12,
   "metadata": {
    "collapsed": true
   },
   "outputs": [],
   "source": [
    "new_portions = [0.4,0,0,0.6,0.0]"
   ]
  },
  {
   "cell_type": "code",
   "execution_count": 13,
   "metadata": {},
   "outputs": [
    {
     "data": {
      "text/plain": [
       "1.0"
      ]
     },
     "execution_count": 13,
     "metadata": {},
     "output_type": "execute_result"
    }
   ],
   "source": [
    "sum(new_portions)"
   ]
  },
  {
   "cell_type": "code",
   "execution_count": 14,
   "metadata": {},
   "outputs": [],
   "source": [
    "newcomponents = dict(zip(groups,[i*inpst.phi for i in new_portions]))"
   ]
  },
  {
   "cell_type": "code",
   "execution_count": 15,
   "metadata": {},
   "outputs": [
    {
     "data": {
      "image/png": "[encoded data removed]",
      "text/plain": [
       "<matplotlib.figure.Figure at 0x10cb1f4a8>"
      ]
     },
     "metadata": {},
     "output_type": "display_data"
    }
   ],
   "source": [
    "plt.axis('equal')\n",
    "plt.pie([float(v) for v in newcomponents.values()], labels=[k for k in newcomponents.keys()]);"
   ]
  },
  {
   "cell_type": "code",
   "execution_count": 16,
   "metadata": {},
   "outputs": [
    {
     "data": {
      "text/plain": [
       "{'flux_cal': 39.27210394792,\n",
       " 'flux_fore': 0.0,\n",
       " 'head_cal': 58.908155921879995,\n",
       " 'head_fore': 0.0,\n",
       " 'travel_fore': 0.0}"
      ]
     },
     "execution_count": 16,
     "metadata": {},
     "output_type": "execute_result"
    }
   ],
   "source": [
    "newcomponents"
   ]
  },
  {
   "cell_type": "markdown",
   "metadata": {},
   "source": [
    "## Make a new copy of the PST file for output"
   ]
  },
  {
   "cell_type": "code",
   "execution_count": 17,
   "metadata": {},
   "outputs": [],
   "source": [
    "outpst = pyemu.Pst('freyberg.pst')"
   ]
  },
  {
   "cell_type": "code",
   "execution_count": 18,
   "metadata": {},
   "outputs": [
    {
     "data": {
      "text/html": [
       "<div>\n",
       "<style>\n",
       "    .dataframe thead tr:only-child th {\n",
       "        text-align: right;\n",
       "    }\n",
       "\n",
       "    .dataframe thead th {\n",
       "        text-align: left;\n",
       "    }\n",
       "\n",
       "    .dataframe tbody tr th {\n",
       "        vertical-align: top;\n",
       "    }\n",
       "</style>\n",
       "<table border=\"1\" class=\"dataframe\">\n",
       "  <thead>\n",
       "    <tr style=\"text-align: right;\">\n",
       "      <th></th>\n",
       "      <th>obsnme</th>\n",
       "      <th>obsval</th>\n",
       "      <th>weight</th>\n",
       "      <th>obgnme</th>\n",
       "    </tr>\n",
       "    <tr>\n",
       "      <th>obsnme</th>\n",
       "      <th></th>\n",
       "      <th></th>\n",
       "      <th></th>\n",
       "      <th></th>\n",
       "    </tr>\n",
       "  </thead>\n",
       "  <tbody>\n",
       "    <tr>\n",
       "      <th>cr03c16</th>\n",
       "      <td>cr03c16</td>\n",
       "      <td>22.18672</td>\n",
       "      <td>1.0</td>\n",
       "      <td>head_cal</td>\n",
       "    </tr>\n",
       "    <tr>\n",
       "      <th>cr03c10</th>\n",
       "      <td>cr03c10</td>\n",
       "      <td>24.08591</td>\n",
       "      <td>1.0</td>\n",
       "      <td>head_cal</td>\n",
       "    </tr>\n",
       "    <tr>\n",
       "      <th>cr04c9</th>\n",
       "      <td>cr04c9</td>\n",
       "      <td>22.33339</td>\n",
       "      <td>1.0</td>\n",
       "      <td>head_cal</td>\n",
       "    </tr>\n",
       "    <tr>\n",
       "      <th>cr10c2</th>\n",
       "      <td>cr10c2</td>\n",
       "      <td>31.83430</td>\n",
       "      <td>1.0</td>\n",
       "      <td>head_cal</td>\n",
       "    </tr>\n",
       "    <tr>\n",
       "      <th>cr14c11</th>\n",
       "      <td>cr14c11</td>\n",
       "      <td>17.72841</td>\n",
       "      <td>1.0</td>\n",
       "      <td>head_cal</td>\n",
       "    </tr>\n",
       "    <tr>\n",
       "      <th>cr16c17</th>\n",
       "      <td>cr16c17</td>\n",
       "      <td>16.56648</td>\n",
       "      <td>1.0</td>\n",
       "      <td>head_cal</td>\n",
       "    </tr>\n",
       "    <tr>\n",
       "      <th>cr22c11</th>\n",
       "      <td>cr22c11</td>\n",
       "      <td>18.28594</td>\n",
       "      <td>1.0</td>\n",
       "      <td>head_cal</td>\n",
       "    </tr>\n",
       "    <tr>\n",
       "      <th>cr23c16</th>\n",
       "      <td>cr23c16</td>\n",
       "      <td>15.20820</td>\n",
       "      <td>1.0</td>\n",
       "      <td>head_cal</td>\n",
       "    </tr>\n",
       "    <tr>\n",
       "      <th>cr25c5</th>\n",
       "      <td>cr25c5</td>\n",
       "      <td>24.24294</td>\n",
       "      <td>1.0</td>\n",
       "      <td>head_cal</td>\n",
       "    </tr>\n",
       "    <tr>\n",
       "      <th>cr27c7</th>\n",
       "      <td>cr27c7</td>\n",
       "      <td>22.74890</td>\n",
       "      <td>1.0</td>\n",
       "      <td>head_cal</td>\n",
       "    </tr>\n",
       "    <tr>\n",
       "      <th>cr30c16</th>\n",
       "      <td>cr30c16</td>\n",
       "      <td>14.73617</td>\n",
       "      <td>1.0</td>\n",
       "      <td>head_cal</td>\n",
       "    </tr>\n",
       "    <tr>\n",
       "      <th>cr34c8</th>\n",
       "      <td>cr34c8</td>\n",
       "      <td>18.61989</td>\n",
       "      <td>1.0</td>\n",
       "      <td>head_cal</td>\n",
       "    </tr>\n",
       "    <tr>\n",
       "      <th>cr35c11</th>\n",
       "      <td>cr35c11</td>\n",
       "      <td>15.61996</td>\n",
       "      <td>1.0</td>\n",
       "      <td>head_cal</td>\n",
       "    </tr>\n",
       "    <tr>\n",
       "      <th>rivflux_cal</th>\n",
       "      <td>rivflux_cal</td>\n",
       "      <td>-3690.68800</td>\n",
       "      <td>0.0</td>\n",
       "      <td>flux_cal</td>\n",
       "    </tr>\n",
       "  </tbody>\n",
       "</table>\n",
       "</div>"
      ],
      "text/plain": [
       "                  obsnme      obsval  weight    obgnme\n",
       "obsnme                                                \n",
       "cr03c16          cr03c16    22.18672     1.0  head_cal\n",
       "cr03c10          cr03c10    24.08591     1.0  head_cal\n",
       "cr04c9            cr04c9    22.33339     1.0  head_cal\n",
       "cr10c2            cr10c2    31.83430     1.0  head_cal\n",
       "cr14c11          cr14c11    17.72841     1.0  head_cal\n",
       "cr16c17          cr16c17    16.56648     1.0  head_cal\n",
       "cr22c11          cr22c11    18.28594     1.0  head_cal\n",
       "cr23c16          cr23c16    15.20820     1.0  head_cal\n",
       "cr25c5            cr25c5    24.24294     1.0  head_cal\n",
       "cr27c7            cr27c7    22.74890     1.0  head_cal\n",
       "cr30c16          cr30c16    14.73617     1.0  head_cal\n",
       "cr34c8            cr34c8    18.61989     1.0  head_cal\n",
       "cr35c11          cr35c11    15.61996     1.0  head_cal\n",
       "rivflux_cal  rivflux_cal -3690.68800     0.0  flux_cal"
      ]
     },
     "execution_count": 18,
     "metadata": {},
     "output_type": "execute_result"
    }
   ],
   "source": [
    "outpst.observation_data.head(14)"
   ]
  },
  {
   "cell_type": "code",
   "execution_count": 19,
   "metadata": {},
   "outputs": [
    {
     "data": {
      "text/plain": [
       "{'flux_cal': 0.0,\n",
       " 'flux_fore': 0.0,\n",
       " 'head_cal': 98.1802598698,\n",
       " 'head_fore': 0.0,\n",
       " 'travel_fore': 0.0}"
      ]
     },
     "execution_count": 19,
     "metadata": {},
     "output_type": "execute_result"
    }
   ],
   "source": [
    "outpst.phi_components"
   ]
  },
  {
   "cell_type": "code",
   "execution_count": 20,
   "metadata": {},
   "outputs": [
    {
     "data": {
      "text/plain": [
       "{'flux_cal': 810676.941376,\n",
       " 'flux_fore': 0.0,\n",
       " 'head_cal': 98.1802598698,\n",
       " 'head_fore': 0.0,\n",
       " 'travel_fore': 0.0}"
      ]
     },
     "execution_count": 20,
     "metadata": {},
     "output_type": "execute_result"
    }
   ],
   "source": [
    "outpst.adjust_weights_by_list('rivflux_cal',1.0)\n",
    "outpst.phi_components"
   ]
  },
  {
   "cell_type": "code",
   "execution_count": 21,
   "metadata": {},
   "outputs": [
    {
     "data": {
      "text/plain": [
       "{'flux_cal': 39.27210394792,\n",
       " 'flux_fore': 0.0,\n",
       " 'head_cal': 58.90815592188001,\n",
       " 'head_fore': 0.0,\n",
       " 'travel_fore': 0.0}"
      ]
     },
     "execution_count": 21,
     "metadata": {},
     "output_type": "execute_result"
    }
   ],
   "source": [
    "outpst.adjust_weights(obsgrp_dict=newcomponents)\n",
    "outpst.phi_components"
   ]
  },
  {
   "cell_type": "code",
   "execution_count": 22,
   "metadata": {},
   "outputs": [
    {
     "data": {
      "text/html": [
       "<div>\n",
       "<style>\n",
       "    .dataframe thead tr:only-child th {\n",
       "        text-align: right;\n",
       "    }\n",
       "\n",
       "    .dataframe thead th {\n",
       "        text-align: left;\n",
       "    }\n",
       "\n",
       "    .dataframe tbody tr th {\n",
       "        vertical-align: top;\n",
       "    }\n",
       "</style>\n",
       "<table border=\"1\" class=\"dataframe\">\n",
       "  <thead>\n",
       "    <tr style=\"text-align: right;\">\n",
       "      <th></th>\n",
       "      <th>obsnme</th>\n",
       "      <th>obsval</th>\n",
       "      <th>weight</th>\n",
       "      <th>obgnme</th>\n",
       "    </tr>\n",
       "    <tr>\n",
       "      <th>obsnme</th>\n",
       "      <th></th>\n",
       "      <th></th>\n",
       "      <th></th>\n",
       "      <th></th>\n",
       "    </tr>\n",
       "  </thead>\n",
       "  <tbody>\n",
       "    <tr>\n",
       "      <th>cr03c16</th>\n",
       "      <td>cr03c16</td>\n",
       "      <td>22.18672</td>\n",
       "      <td>0.774597</td>\n",
       "      <td>head_cal</td>\n",
       "    </tr>\n",
       "    <tr>\n",
       "      <th>cr03c10</th>\n",
       "      <td>cr03c10</td>\n",
       "      <td>24.08591</td>\n",
       "      <td>0.774597</td>\n",
       "      <td>head_cal</td>\n",
       "    </tr>\n",
       "    <tr>\n",
       "      <th>cr04c9</th>\n",
       "      <td>cr04c9</td>\n",
       "      <td>22.33339</td>\n",
       "      <td>0.774597</td>\n",
       "      <td>head_cal</td>\n",
       "    </tr>\n",
       "    <tr>\n",
       "      <th>cr10c2</th>\n",
       "      <td>cr10c2</td>\n",
       "      <td>31.83430</td>\n",
       "      <td>0.774597</td>\n",
       "      <td>head_cal</td>\n",
       "    </tr>\n",
       "    <tr>\n",
       "      <th>cr14c11</th>\n",
       "      <td>cr14c11</td>\n",
       "      <td>17.72841</td>\n",
       "      <td>0.774597</td>\n",
       "      <td>head_cal</td>\n",
       "    </tr>\n",
       "    <tr>\n",
       "      <th>cr16c17</th>\n",
       "      <td>cr16c17</td>\n",
       "      <td>16.56648</td>\n",
       "      <td>0.774597</td>\n",
       "      <td>head_cal</td>\n",
       "    </tr>\n",
       "    <tr>\n",
       "      <th>cr22c11</th>\n",
       "      <td>cr22c11</td>\n",
       "      <td>18.28594</td>\n",
       "      <td>0.774597</td>\n",
       "      <td>head_cal</td>\n",
       "    </tr>\n",
       "    <tr>\n",
       "      <th>cr23c16</th>\n",
       "      <td>cr23c16</td>\n",
       "      <td>15.20820</td>\n",
       "      <td>0.774597</td>\n",
       "      <td>head_cal</td>\n",
       "    </tr>\n",
       "    <tr>\n",
       "      <th>cr25c5</th>\n",
       "      <td>cr25c5</td>\n",
       "      <td>24.24294</td>\n",
       "      <td>0.774597</td>\n",
       "      <td>head_cal</td>\n",
       "    </tr>\n",
       "    <tr>\n",
       "      <th>cr27c7</th>\n",
       "      <td>cr27c7</td>\n",
       "      <td>22.74890</td>\n",
       "      <td>0.774597</td>\n",
       "      <td>head_cal</td>\n",
       "    </tr>\n",
       "    <tr>\n",
       "      <th>cr30c16</th>\n",
       "      <td>cr30c16</td>\n",
       "      <td>14.73617</td>\n",
       "      <td>0.774597</td>\n",
       "      <td>head_cal</td>\n",
       "    </tr>\n",
       "    <tr>\n",
       "      <th>cr34c8</th>\n",
       "      <td>cr34c8</td>\n",
       "      <td>18.61989</td>\n",
       "      <td>0.774597</td>\n",
       "      <td>head_cal</td>\n",
       "    </tr>\n",
       "    <tr>\n",
       "      <th>cr35c11</th>\n",
       "      <td>cr35c11</td>\n",
       "      <td>15.61996</td>\n",
       "      <td>0.774597</td>\n",
       "      <td>head_cal</td>\n",
       "    </tr>\n",
       "    <tr>\n",
       "      <th>rivflux_cal</th>\n",
       "      <td>rivflux_cal</td>\n",
       "      <td>-3690.68800</td>\n",
       "      <td>0.006960</td>\n",
       "      <td>flux_cal</td>\n",
       "    </tr>\n",
       "  </tbody>\n",
       "</table>\n",
       "</div>"
      ],
      "text/plain": [
       "                  obsnme      obsval    weight    obgnme\n",
       "obsnme                                                  \n",
       "cr03c16          cr03c16    22.18672  0.774597  head_cal\n",
       "cr03c10          cr03c10    24.08591  0.774597  head_cal\n",
       "cr04c9            cr04c9    22.33339  0.774597  head_cal\n",
       "cr10c2            cr10c2    31.83430  0.774597  head_cal\n",
       "cr14c11          cr14c11    17.72841  0.774597  head_cal\n",
       "cr16c17          cr16c17    16.56648  0.774597  head_cal\n",
       "cr22c11          cr22c11    18.28594  0.774597  head_cal\n",
       "cr23c16          cr23c16    15.20820  0.774597  head_cal\n",
       "cr25c5            cr25c5    24.24294  0.774597  head_cal\n",
       "cr27c7            cr27c7    22.74890  0.774597  head_cal\n",
       "cr30c16          cr30c16    14.73617  0.774597  head_cal\n",
       "cr34c8            cr34c8    18.61989  0.774597  head_cal\n",
       "cr35c11          cr35c11    15.61996  0.774597  head_cal\n",
       "rivflux_cal  rivflux_cal -3690.68800  0.006960  flux_cal"
      ]
     },
     "execution_count": 22,
     "metadata": {},
     "output_type": "execute_result"
    }
   ],
   "source": [
    "outpst.observation_data.head(14)"
   ]
  },
  {
   "cell_type": "code",
   "execution_count": 23,
   "metadata": {},
   "outputs": [
    {
     "data": {
      "text/plain": [
       "98.18025986980001"
      ]
     },
     "execution_count": 23,
     "metadata": {},
     "output_type": "execute_result"
    }
   ],
   "source": [
    "outpst.phi"
   ]
  },
  {
   "cell_type": "code",
   "execution_count": 24,
   "metadata": {
    "collapsed": true
   },
   "outputs": [],
   "source": [
    "outpst.write('freyberg_reweighted.pst')"
   ]
  },
  {
   "cell_type": "markdown",
   "metadata": {
    "collapsed": true
   },
   "source": [
    "## Relating weights to observation noise\n",
    "\n",
    "Weights can initially be thought of as the reciprocal of observation noise, as characterized by standard deviation of the observation: \n",
    "$w=\\frac{1}{\\sigma}$"
   ]
  },
  {
   "cell_type": "markdown",
   "metadata": {},
   "source": [
    "After adjustment, it's a good idea to calculate the equivalent $\\sigma$ for each observation to determine whether it remains realistic. In this case:"
   ]
  },
  {
   "cell_type": "code",
   "execution_count": 25,
   "metadata": {},
   "outputs": [
    {
     "data": {
      "text/plain": [
       "1.0"
      ]
     },
     "execution_count": 25,
     "metadata": {},
     "output_type": "execute_result"
    }
   ],
   "source": [
    "#initial weight for head\n",
    "w=1\n",
    "sig=1/w\n",
    "sig"
   ]
  },
  {
   "cell_type": "code",
   "execution_count": 26,
   "metadata": {},
   "outputs": [
    {
     "data": {
      "text/plain": [
       "1.2909938974718467"
      ]
     },
     "execution_count": 26,
     "metadata": {},
     "output_type": "execute_result"
    }
   ],
   "source": [
    "#new weight for head\n",
    "w=.774597\n",
    "sig=1/w\n",
    "sig"
   ]
  },
  {
   "cell_type": "code",
   "execution_count": null,
   "metadata": {
    "collapsed": true
   },
   "outputs": [],
   "source": []
  }
 ],
 "metadata": {
  "kernelspec": {
   "display_name": "Python 3",
   "language": "python",
   "name": "python3"
  },
  "language_info": {
   "codemirror_mode": {
    "name": "ipython",
    "version": 3
   },
   "file_extension": ".py",
   "mimetype": "text/x-python",
   "name": "python",
   "nbconvert_exporter": "python",
   "pygments_lexer": "ipython3",
   "version": "3.6.1"
  }
 },
 "nbformat": 4,
 "nbformat_minor": 1
}
