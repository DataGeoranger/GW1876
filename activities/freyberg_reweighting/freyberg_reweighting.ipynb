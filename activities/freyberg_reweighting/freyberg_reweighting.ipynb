{
 "cells": [
  {
   "cell_type": "markdown",
   "metadata": {},
   "source": [
    "# Weights are subjective and often need adjustment\n",
    "There are tools in `pyemu` to assist with weight adjustment to balance the contribution of various groups."
   ]
  },
  {
   "cell_type": "code",
   "execution_count": 1,
   "metadata": {
    "collapsed": true
   },
   "outputs": [],
   "source": [
    "import matplotlib.pyplot as plt\n",
    "%matplotlib inline\n",
    "import pyemu\n",
    "import os, shutil\n",
    "import sys\n",
    "sys.path.append('..')"
   ]
  },
  {
   "cell_type": "markdown",
   "metadata": {},
   "source": [
    "### Copy down the base  files for the freyberg model with K and R parameters"
   ]
  },
  {
   "cell_type": "code",
   "execution_count": 2,
   "metadata": {},
   "outputs": [
    {
     "name": "stdout",
     "output_type": "stream",
     "text": [
      "['.DS_Store', 'botm.ref', 'extract_zone_array.py', 'forecasts_true.csv', 'freyberg.bas', 'freyberg.dbf', 'freyberg.dis', 'freyberg.hds', 'freyberg.heads', 'freyberg.heads_potobs.ins', 'freyberg.hyd', 'freyberg.list', 'freyberg.locations', 'freyberg.mpbas', 'freyberg.mpenpt', 'freyberg.mplist', 'freyberg.mpnam', 'freyberg.mppthln', 'freyberg.mpsim', 'freyberg.oc', 'freyberg.pcg', 'freyberg.rivflux', 'freyberg.shp', 'freyberg.shx', 'freyberg.travel', 'freyberg.truth.lpf', 'freyberg.truth.nam', 'freyberg.truth.rch', 'freyberg.truth.riv', 'freyberg.truth.wel', 'hk.truth.ref', 'hk.zones', 'ibound.ref', 'kzone.ref', 'mpath.in', 'obs_loc.csv', 'potobs_group.csv', 'Process_output.py', 'run_true_model.py', 'strt.ref', 'Weights_and_best_PHI.xlsx']\n",
      "\n",
      "changing model workspace...\n",
      "   freyberg_kr\n",
      "WARNING: unit 31 of package UPW already in use\n",
      "FloPy is using the following executable to run the model: /Users/jwhite/Dev/GW1876/activities/freyberg_reweighting/freyberg_kr/mfnwt\n",
      "\n",
      "                                  MODFLOW-NWT-SWR1 \n",
      "    U.S. GEOLOGICAL SURVEY MODULAR FINITE-DIFFERENCE GROUNDWATER-FLOW MODEL\n",
      "                             WITH NEWTON FORMULATION\n",
      "                             Version 1.1.1, 7/21/2016                        \n",
      "                    BASED ON MODFLOW-2005 Version 1.11.0 08/08/2013                       \n",
      "\n",
      "                    SWR1 Version 1.04.0 07/21/2016                       \n",
      "\n",
      " Using NAME file: freyberg.nam \n",
      " Run start date and time (yyyy/mm/dd hh:mm:ss): 2017/09/05 15:34:16\n",
      "\n",
      " Solving:  Stress period:     1    Time step:     1    Groundwater-Flow Eqn.\n",
      " Solving:  Stress period:     2    Time step:     1    Groundwater-Flow Eqn.\n",
      " Solving:  Stress period:     3    Time step:     1    Groundwater-Flow Eqn.\n",
      " Run end date and time (yyyy/mm/dd hh:mm:ss): 2017/09/05 15:34:16\n",
      " Elapsed run time:  0.024 Seconds\n",
      "\n",
      "  Normal termination of simulation\n",
      "run():./mp6 freyberg.mpsim\n",
      "Util2d:delr: resetting 'how' to external\n",
      "Util2d:delc: resetting 'how' to external\n",
      "Util2d:model_top: resetting 'how' to external\n",
      "Util2d:botm_layer_0: resetting 'how' to external\n",
      "Util2d:ibound_layer_0: resetting 'how' to external\n",
      "Util2d:strt_layer_0: resetting 'how' to external\n",
      "Util2d:rech_1: resetting 'how' to external\n",
      "Util2d:rech_2: resetting 'how' to external\n",
      "Util2d:rech_3: resetting 'how' to external\n",
      "Util2d:hk layer 1: resetting 'how' to external\n",
      "Util2d:vk: resetting 'how' to external\n",
      "Util2d:ss: resetting 'how' to external\n",
      "Util2d:ss: resetting 'how' to external\n",
      "FloPy is using the following executable to run the model: /Users/jwhite/Dev/GW1876/activities/freyberg_reweighting/freyberg_kr/mfnwt\n",
      "\n",
      "                                  MODFLOW-NWT-SWR1 \n",
      "    U.S. GEOLOGICAL SURVEY MODULAR FINITE-DIFFERENCE GROUNDWATER-FLOW MODEL\n",
      "                             WITH NEWTON FORMULATION\n",
      "                             Version 1.1.1, 7/21/2016                        \n",
      "                    BASED ON MODFLOW-2005 Version 1.11.0 08/08/2013                       \n",
      "\n",
      "                    SWR1 Version 1.04.0 07/21/2016                       \n",
      "\n",
      " Using NAME file: freyberg.nam \n",
      " Run start date and time (yyyy/mm/dd hh:mm:ss): 2017/09/05 15:34:16\n",
      "\n",
      " Solving:  Stress period:     1    Time step:     1    Groundwater-Flow Eqn.\n",
      " Solving:  Stress period:     2    Time step:     1    Groundwater-Flow Eqn.\n",
      " Solving:  Stress period:     3    Time step:     1    Groundwater-Flow Eqn.\n",
      " Run end date and time (yyyy/mm/dd hh:mm:ss): 2017/09/05 15:34:16\n",
      " Elapsed run time:  0.025 Seconds\n",
      "\n",
      "  Normal termination of simulation\n",
      "Starting to read HYDMOD data from freyberg.hyd.bin\n",
      "Starting to read HYDMOD data from freyberg.hyd.bin.truth\n",
      "run():./inschek flux.dat.ins flux.dat\n",
      "run():./inschek vol.dat.ins vol.dat\n",
      "run():./inschek flux.dat.ins flux.dat\n",
      "run():./inschek vol.dat.ins vol.dat\n",
      "run():./inschek flux.dat.ins flux.dat\n",
      "run():./inschek freyberg.hyd.bin.dat.ins freyberg.hyd.bin.dat\n",
      "run():./inschek freyberg.travel.ins freyberg.travel\n",
      "run():./inschek vol.dat.ins vol.dat\n",
      "run():./pestchek freyberg_kr.pst\n",
      "run():./pestpp freyberg_kr.init.pst\n"
     ]
    }
   ],
   "source": [
    "import freyberg_setup\n",
    "freyberg_setup.setup_pest_kr()\n",
    "working_dir = freyberg_setup.WORKING_DIR_KR\n",
    "pst_name = freyberg_setup.PST_NAME_KR\n"
   ]
  },
  {
   "cell_type": "markdown",
   "metadata": {},
   "source": [
    "### We can read in the base PST file and do a quick run\n"
   ]
  },
  {
   "cell_type": "code",
   "execution_count": 7,
   "metadata": {},
   "outputs": [],
   "source": [
    "pst = pyemu.Pst(os.path.join(working_dir,pst_name))"
   ]
  },
  {
   "cell_type": "code",
   "execution_count": 8,
   "metadata": {},
   "outputs": [
    {
     "data": {
      "text/plain": [
       "8"
      ]
     },
     "execution_count": 8,
     "metadata": {},
     "output_type": "execute_result"
    }
   ],
   "source": [
    "pst.control_data.noptmax"
   ]
  },
  {
   "cell_type": "code",
   "execution_count": null,
   "metadata": {
    "collapsed": true
   },
   "outputs": [],
   "source": []
  },
  {
   "cell_type": "code",
   "execution_count": 9,
   "metadata": {},
   "outputs": [
    {
     "name": "stdout",
     "output_type": "stream",
     "text": [
      "run():pestpp freyberg_kr.pst\n"
     ]
    }
   ],
   "source": [
    "pyemu.helpers.run(\"pestpp {0}\".format(pst_name),cwd=working_dir)\n"
   ]
  },
  {
   "cell_type": "code",
   "execution_count": 10,
   "metadata": {},
   "outputs": [
    {
     "data": {
      "text/plain": [
       "820.9711457028571"
      ]
     },
     "execution_count": 10,
     "metadata": {},
     "output_type": "execute_result"
    }
   ],
   "source": [
    "pst.phi"
   ]
  },
  {
   "cell_type": "code",
   "execution_count": 11,
   "metadata": {},
   "outputs": [
    {
     "data": {
      "text/plain": [
       "{'calflux': 0.0,\n",
       " 'calhead': 820.9711457028571,\n",
       " 'flx_constan': 0.0,\n",
       " 'flx_in-out': 0.0,\n",
       " 'flx_percent': 0.0,\n",
       " 'flx_recharg': 0.0,\n",
       " 'flx_river_l': 0.0,\n",
       " 'flx_storage': 0.0,\n",
       " 'flx_total': 0.0,\n",
       " 'flx_wells': 0.0,\n",
       " 'foreflux': 0.0,\n",
       " 'forehead': 0.0,\n",
       " 'foretrav': 0.0,\n",
       " 'head': 0.0,\n",
       " 'pothead': 0.0,\n",
       " 'vol_constan': 0.0,\n",
       " 'vol_in-out': 0.0,\n",
       " 'vol_percent': 0.0,\n",
       " 'vol_recharg': 0.0,\n",
       " 'vol_river_l': 0.0,\n",
       " 'vol_storage': 0.0,\n",
       " 'vol_total': 0.0,\n",
       " 'vol_wells': 0.0}"
      ]
     },
     "execution_count": 11,
     "metadata": {},
     "output_type": "execute_result"
    }
   ],
   "source": [
    "pst.phi_components"
   ]
  },
  {
   "cell_type": "code",
   "execution_count": 12,
   "metadata": {},
   "outputs": [
    {
     "data": {
      "text/plain": [
       "{'calflux': 0.0,\n",
       " 'calhead': 1.0,\n",
       " 'flx_constan': 0.0,\n",
       " 'flx_in-out': 0.0,\n",
       " 'flx_percent': 0.0,\n",
       " 'flx_recharg': 0.0,\n",
       " 'flx_river_l': 0.0,\n",
       " 'flx_storage': 0.0,\n",
       " 'flx_total': 0.0,\n",
       " 'flx_wells': 0.0,\n",
       " 'foreflux': 0.0,\n",
       " 'forehead': 0.0,\n",
       " 'foretrav': 0.0,\n",
       " 'head': 0.0,\n",
       " 'pothead': 0.0,\n",
       " 'vol_constan': 0.0,\n",
       " 'vol_in-out': 0.0,\n",
       " 'vol_percent': 0.0,\n",
       " 'vol_recharg': 0.0,\n",
       " 'vol_river_l': 0.0,\n",
       " 'vol_storage': 0.0,\n",
       " 'vol_total': 0.0,\n",
       " 'vol_wells': 0.0}"
      ]
     },
     "execution_count": 12,
     "metadata": {},
     "output_type": "execute_result"
    }
   ],
   "source": [
    "pst.phi_components_normalized"
   ]
  },
  {
   "cell_type": "code",
   "execution_count": 13,
   "metadata": {},
   "outputs": [
    {
     "data": {
      "image/png": "[encoded data removed]",
      "text/plain": [
       "<matplotlib.figure.Figure at 0x10b331f60>"
      ]
     },
     "metadata": {},
     "output_type": "display_data"
    }
   ],
   "source": [
    "starting_components = pst.phi_components_normalized\n",
    "plt.axis('equal')\n",
    "plt.pie([float(v) for v in starting_components.values()], labels=[k for k in starting_components.keys()]);"
   ]
  },
  {
   "cell_type": "code",
   "execution_count": 26,
   "metadata": {},
   "outputs": [
    {
     "data": {
      "text/plain": [
       "['flx_river_l',\n",
       " 'vol_storage',\n",
       " 'head',\n",
       " 'calflux',\n",
       " 'flx_total',\n",
       " 'foretrav',\n",
       " 'pothead',\n",
       " 'vol_recharg',\n",
       " 'vol_in-out',\n",
       " 'flx_percent',\n",
       " 'vol_percent',\n",
       " 'calhead',\n",
       " 'flx_in-out',\n",
       " 'flx_recharg',\n",
       " 'flx_wells',\n",
       " 'flx_storage',\n",
       " 'forehead',\n",
       " 'foreflux',\n",
       " 'flx_constan',\n",
       " 'vol_river_l',\n",
       " 'vol_total',\n",
       " 'vol_wells',\n",
       " 'vol_constan']"
      ]
     },
     "execution_count": 26,
     "metadata": {},
     "output_type": "execute_result"
    }
   ],
   "source": [
    "pst.obs_groups"
   ]
  },
  {
   "cell_type": "code",
   "execution_count": 28,
   "metadata": {
    "collapsed": true
   },
   "outputs": [],
   "source": [
    "groups = ['calflux','calhead']"
   ]
  },
  {
   "cell_type": "code",
   "execution_count": 29,
   "metadata": {
    "collapsed": true
   },
   "outputs": [],
   "source": [
    "new_portions = [0.4,0.6]"
   ]
  },
  {
   "cell_type": "code",
   "execution_count": 30,
   "metadata": {},
   "outputs": [
    {
     "data": {
      "text/plain": [
       "1.0"
      ]
     },
     "execution_count": 30,
     "metadata": {},
     "output_type": "execute_result"
    }
   ],
   "source": [
    "sum(new_portions)"
   ]
  },
  {
   "cell_type": "code",
   "execution_count": 31,
   "metadata": {
    "collapsed": true
   },
   "outputs": [],
   "source": [
    "newcomponents = dict(zip(groups,[i*inpst.phi for i in new_portions]))"
   ]
  },
  {
   "cell_type": "code",
   "execution_count": 32,
   "metadata": {},
   "outputs": [
    {
     "data": {
      "image/png": "[encoded data removed]",
      "text/plain": [
       "<matplotlib.figure.Figure at 0x111c77e80>"
      ]
     },
     "metadata": {},
     "output_type": "display_data"
    }
   ],
   "source": [
    "plt.axis('equal')\n",
    "plt.pie([float(v) for v in newcomponents.values()], labels=[k for k in newcomponents.keys()]);"
   ]
  },
  {
   "cell_type": "code",
   "execution_count": 33,
   "metadata": {},
   "outputs": [
    {
     "data": {
      "text/plain": [
       "{'calflux': 328.3884582811429, 'calhead': 492.58268742171424}"
      ]
     },
     "execution_count": 33,
     "metadata": {},
     "output_type": "execute_result"
    }
   ],
   "source": [
    "newcomponents"
   ]
  },
  {
   "cell_type": "code",
   "execution_count": 40,
   "metadata": {},
   "outputs": [
    {
     "data": {
      "text/html": [
       "<div>\n",
       "<style>\n",
       "    .dataframe thead tr:only-child th {\n",
       "        text-align: right;\n",
       "    }\n",
       "\n",
       "    .dataframe thead th {\n",
       "        text-align: left;\n",
       "    }\n",
       "\n",
       "    .dataframe tbody tr th {\n",
       "        vertical-align: top;\n",
       "    }\n",
       "</style>\n",
       "<table border=\"1\" class=\"dataframe\">\n",
       "  <thead>\n",
       "    <tr style=\"text-align: right;\">\n",
       "      <th></th>\n",
       "      <th>obsnme</th>\n",
       "      <th>obsval</th>\n",
       "      <th>weight</th>\n",
       "      <th>obgnme</th>\n",
       "    </tr>\n",
       "    <tr>\n",
       "      <th>obsnme</th>\n",
       "      <th></th>\n",
       "      <th></th>\n",
       "      <th></th>\n",
       "      <th></th>\n",
       "    </tr>\n",
       "  </thead>\n",
       "  <tbody>\n",
       "    <tr>\n",
       "      <th>flx_river_l_19700102</th>\n",
       "      <td>flx_river_l_19700102</td>\n",
       "      <td>-3706.027000</td>\n",
       "      <td>0.149770</td>\n",
       "      <td>calflux</td>\n",
       "    </tr>\n",
       "    <tr>\n",
       "      <th>cr03c10_19700102</th>\n",
       "      <td>cr03c10_19700102</td>\n",
       "      <td>22.331451</td>\n",
       "      <td>3.872983</td>\n",
       "      <td>calhead</td>\n",
       "    </tr>\n",
       "    <tr>\n",
       "      <th>cr03c16_19700102</th>\n",
       "      <td>cr03c16_19700102</td>\n",
       "      <td>18.526869</td>\n",
       "      <td>3.872983</td>\n",
       "      <td>calhead</td>\n",
       "    </tr>\n",
       "    <tr>\n",
       "      <th>cr04c09_19700102</th>\n",
       "      <td>cr04c09_19700102</td>\n",
       "      <td>24.412637</td>\n",
       "      <td>3.872983</td>\n",
       "      <td>calhead</td>\n",
       "    </tr>\n",
       "    <tr>\n",
       "      <th>cr10c02_19700102</th>\n",
       "      <td>cr10c02_19700102</td>\n",
       "      <td>27.985834</td>\n",
       "      <td>3.872983</td>\n",
       "      <td>calhead</td>\n",
       "    </tr>\n",
       "    <tr>\n",
       "      <th>cr14c11_19700102</th>\n",
       "      <td>cr14c11_19700102</td>\n",
       "      <td>21.070509</td>\n",
       "      <td>3.872983</td>\n",
       "      <td>calhead</td>\n",
       "    </tr>\n",
       "    <tr>\n",
       "      <th>cr16c17_19700102</th>\n",
       "      <td>cr16c17_19700102</td>\n",
       "      <td>15.468176</td>\n",
       "      <td>3.872983</td>\n",
       "      <td>calhead</td>\n",
       "    </tr>\n",
       "    <tr>\n",
       "      <th>cr22c11_19700102</th>\n",
       "      <td>cr22c11_19700102</td>\n",
       "      <td>20.485881</td>\n",
       "      <td>3.872983</td>\n",
       "      <td>calhead</td>\n",
       "    </tr>\n",
       "    <tr>\n",
       "      <th>cr23c16_19700102</th>\n",
       "      <td>cr23c16_19700102</td>\n",
       "      <td>15.308345</td>\n",
       "      <td>3.872983</td>\n",
       "      <td>calhead</td>\n",
       "    </tr>\n",
       "    <tr>\n",
       "      <th>cr25c05_19700102</th>\n",
       "      <td>cr25c05_19700102</td>\n",
       "      <td>22.408501</td>\n",
       "      <td>3.872983</td>\n",
       "      <td>calhead</td>\n",
       "    </tr>\n",
       "    <tr>\n",
       "      <th>cr27c07_19700102</th>\n",
       "      <td>cr27c07_19700102</td>\n",
       "      <td>22.530558</td>\n",
       "      <td>3.872983</td>\n",
       "      <td>calhead</td>\n",
       "    </tr>\n",
       "    <tr>\n",
       "      <th>cr30c16_19700102</th>\n",
       "      <td>cr30c16_19700102</td>\n",
       "      <td>12.127082</td>\n",
       "      <td>3.872983</td>\n",
       "      <td>calhead</td>\n",
       "    </tr>\n",
       "    <tr>\n",
       "      <th>cr34c08_19700102</th>\n",
       "      <td>cr34c08_19700102</td>\n",
       "      <td>18.976409</td>\n",
       "      <td>3.872983</td>\n",
       "      <td>calhead</td>\n",
       "    </tr>\n",
       "    <tr>\n",
       "      <th>cr35c11_19700102</th>\n",
       "      <td>cr35c11_19700102</td>\n",
       "      <td>15.445541</td>\n",
       "      <td>3.872983</td>\n",
       "      <td>calhead</td>\n",
       "    </tr>\n",
       "  </tbody>\n",
       "</table>\n",
       "</div>"
      ],
      "text/plain": [
       "                                    obsnme       obsval    weight   obgnme\n",
       "obsnme                                                                    \n",
       "flx_river_l_19700102  flx_river_l_19700102 -3706.027000  0.149770  calflux\n",
       "cr03c10_19700102          cr03c10_19700102    22.331451  3.872983  calhead\n",
       "cr03c16_19700102          cr03c16_19700102    18.526869  3.872983  calhead\n",
       "cr04c09_19700102          cr04c09_19700102    24.412637  3.872983  calhead\n",
       "cr10c02_19700102          cr10c02_19700102    27.985834  3.872983  calhead\n",
       "cr14c11_19700102          cr14c11_19700102    21.070509  3.872983  calhead\n",
       "cr16c17_19700102          cr16c17_19700102    15.468176  3.872983  calhead\n",
       "cr22c11_19700102          cr22c11_19700102    20.485881  3.872983  calhead\n",
       "cr23c16_19700102          cr23c16_19700102    15.308345  3.872983  calhead\n",
       "cr25c05_19700102          cr25c05_19700102    22.408501  3.872983  calhead\n",
       "cr27c07_19700102          cr27c07_19700102    22.530558  3.872983  calhead\n",
       "cr30c16_19700102          cr30c16_19700102    12.127082  3.872983  calhead\n",
       "cr34c08_19700102          cr34c08_19700102    18.976409  3.872983  calhead\n",
       "cr35c11_19700102          cr35c11_19700102    15.445541  3.872983  calhead"
      ]
     },
     "execution_count": 40,
     "metadata": {},
     "output_type": "execute_result"
    }
   ],
   "source": [
    "pst.observation_data.loc[pst.nnz_obs_names,:]"
   ]
  },
  {
   "cell_type": "code",
   "execution_count": 35,
   "metadata": {},
   "outputs": [
    {
     "data": {
      "text/plain": [
       "{'calflux': 0.0,\n",
       " 'calhead': 820.9711457028571,\n",
       " 'flx_constan': 0.0,\n",
       " 'flx_in-out': 0.0,\n",
       " 'flx_percent': 0.0,\n",
       " 'flx_recharg': 0.0,\n",
       " 'flx_river_l': 0.0,\n",
       " 'flx_storage': 0.0,\n",
       " 'flx_total': 0.0,\n",
       " 'flx_wells': 0.0,\n",
       " 'foreflux': 0.0,\n",
       " 'forehead': 0.0,\n",
       " 'foretrav': 0.0,\n",
       " 'head': 0.0,\n",
       " 'pothead': 0.0,\n",
       " 'vol_constan': 0.0,\n",
       " 'vol_in-out': 0.0,\n",
       " 'vol_percent': 0.0,\n",
       " 'vol_recharg': 0.0,\n",
       " 'vol_river_l': 0.0,\n",
       " 'vol_storage': 0.0,\n",
       " 'vol_total': 0.0,\n",
       " 'vol_wells': 0.0}"
      ]
     },
     "execution_count": 35,
     "metadata": {},
     "output_type": "execute_result"
    }
   ],
   "source": [
    "pst.phi_components"
   ]
  },
  {
   "cell_type": "code",
   "execution_count": 36,
   "metadata": {},
   "outputs": [
    {
     "data": {
      "text/plain": [
       "{'calflux': 0.0,\n",
       " 'calhead': 820.9711457028571,\n",
       " 'flx_constan': 0.0,\n",
       " 'flx_in-out': 0.0,\n",
       " 'flx_percent': 0.0,\n",
       " 'flx_recharg': 0.0,\n",
       " 'flx_river_l': 0.0,\n",
       " 'flx_storage': 0.0,\n",
       " 'flx_total': 0.0,\n",
       " 'flx_wells': 0.0,\n",
       " 'foreflux': 0.0,\n",
       " 'forehead': 0.0,\n",
       " 'foretrav': 0.0,\n",
       " 'head': 0.0,\n",
       " 'pothead': 0.0,\n",
       " 'vol_constan': 0.0,\n",
       " 'vol_in-out': 0.0,\n",
       " 'vol_percent': 0.0,\n",
       " 'vol_recharg': 0.0,\n",
       " 'vol_river_l': 0.0,\n",
       " 'vol_storage': 0.0,\n",
       " 'vol_total': 0.0,\n",
       " 'vol_wells': 0.0}"
      ]
     },
     "execution_count": 36,
     "metadata": {},
     "output_type": "execute_result"
    }
   ],
   "source": [
    "pst.adjust_weights_by_list('rivflux_cal',1.0)\n",
    "pst.phi_components"
   ]
  },
  {
   "cell_type": "code",
   "execution_count": 37,
   "metadata": {},
   "outputs": [
    {
     "data": {
      "text/plain": [
       "{'calflux': 328.388458281143,\n",
       " 'calhead': 492.5826874217143,\n",
       " 'flx_constan': 0.0,\n",
       " 'flx_in-out': 0.0,\n",
       " 'flx_percent': 0.0,\n",
       " 'flx_recharg': 0.0,\n",
       " 'flx_river_l': 0.0,\n",
       " 'flx_storage': 0.0,\n",
       " 'flx_total': 0.0,\n",
       " 'flx_wells': 0.0,\n",
       " 'foreflux': 0.0,\n",
       " 'forehead': 0.0,\n",
       " 'foretrav': 0.0,\n",
       " 'head': 0.0,\n",
       " 'pothead': 0.0,\n",
       " 'vol_constan': 0.0,\n",
       " 'vol_in-out': 0.0,\n",
       " 'vol_percent': 0.0,\n",
       " 'vol_recharg': 0.0,\n",
       " 'vol_river_l': 0.0,\n",
       " 'vol_storage': 0.0,\n",
       " 'vol_total': 0.0,\n",
       " 'vol_wells': 0.0}"
      ]
     },
     "execution_count": 37,
     "metadata": {},
     "output_type": "execute_result"
    }
   ],
   "source": [
    "pst.adjust_weights(obsgrp_dict=newcomponents)\n",
    "pst.phi_components"
   ]
  },
  {
   "cell_type": "code",
   "execution_count": 39,
   "metadata": {},
   "outputs": [
    {
     "data": {
      "text/html": [
       "<div>\n",
       "<style>\n",
       "    .dataframe thead tr:only-child th {\n",
       "        text-align: right;\n",
       "    }\n",
       "\n",
       "    .dataframe thead th {\n",
       "        text-align: left;\n",
       "    }\n",
       "\n",
       "    .dataframe tbody tr th {\n",
       "        vertical-align: top;\n",
       "    }\n",
       "</style>\n",
       "<table border=\"1\" class=\"dataframe\">\n",
       "  <thead>\n",
       "    <tr style=\"text-align: right;\">\n",
       "      <th></th>\n",
       "      <th>obsnme</th>\n",
       "      <th>obsval</th>\n",
       "      <th>weight</th>\n",
       "      <th>obgnme</th>\n",
       "    </tr>\n",
       "    <tr>\n",
       "      <th>obsnme</th>\n",
       "      <th></th>\n",
       "      <th></th>\n",
       "      <th></th>\n",
       "      <th></th>\n",
       "    </tr>\n",
       "  </thead>\n",
       "  <tbody>\n",
       "    <tr>\n",
       "      <th>flx_river_l_19700102</th>\n",
       "      <td>flx_river_l_19700102</td>\n",
       "      <td>-3706.027000</td>\n",
       "      <td>0.149770</td>\n",
       "      <td>calflux</td>\n",
       "    </tr>\n",
       "    <tr>\n",
       "      <th>cr03c10_19700102</th>\n",
       "      <td>cr03c10_19700102</td>\n",
       "      <td>22.331451</td>\n",
       "      <td>3.872983</td>\n",
       "      <td>calhead</td>\n",
       "    </tr>\n",
       "    <tr>\n",
       "      <th>cr03c16_19700102</th>\n",
       "      <td>cr03c16_19700102</td>\n",
       "      <td>18.526869</td>\n",
       "      <td>3.872983</td>\n",
       "      <td>calhead</td>\n",
       "    </tr>\n",
       "    <tr>\n",
       "      <th>cr04c09_19700102</th>\n",
       "      <td>cr04c09_19700102</td>\n",
       "      <td>24.412637</td>\n",
       "      <td>3.872983</td>\n",
       "      <td>calhead</td>\n",
       "    </tr>\n",
       "    <tr>\n",
       "      <th>cr10c02_19700102</th>\n",
       "      <td>cr10c02_19700102</td>\n",
       "      <td>27.985834</td>\n",
       "      <td>3.872983</td>\n",
       "      <td>calhead</td>\n",
       "    </tr>\n",
       "    <tr>\n",
       "      <th>cr14c11_19700102</th>\n",
       "      <td>cr14c11_19700102</td>\n",
       "      <td>21.070509</td>\n",
       "      <td>3.872983</td>\n",
       "      <td>calhead</td>\n",
       "    </tr>\n",
       "    <tr>\n",
       "      <th>cr16c17_19700102</th>\n",
       "      <td>cr16c17_19700102</td>\n",
       "      <td>15.468176</td>\n",
       "      <td>3.872983</td>\n",
       "      <td>calhead</td>\n",
       "    </tr>\n",
       "    <tr>\n",
       "      <th>cr22c11_19700102</th>\n",
       "      <td>cr22c11_19700102</td>\n",
       "      <td>20.485881</td>\n",
       "      <td>3.872983</td>\n",
       "      <td>calhead</td>\n",
       "    </tr>\n",
       "    <tr>\n",
       "      <th>cr23c16_19700102</th>\n",
       "      <td>cr23c16_19700102</td>\n",
       "      <td>15.308345</td>\n",
       "      <td>3.872983</td>\n",
       "      <td>calhead</td>\n",
       "    </tr>\n",
       "    <tr>\n",
       "      <th>cr25c05_19700102</th>\n",
       "      <td>cr25c05_19700102</td>\n",
       "      <td>22.408501</td>\n",
       "      <td>3.872983</td>\n",
       "      <td>calhead</td>\n",
       "    </tr>\n",
       "    <tr>\n",
       "      <th>cr27c07_19700102</th>\n",
       "      <td>cr27c07_19700102</td>\n",
       "      <td>22.530558</td>\n",
       "      <td>3.872983</td>\n",
       "      <td>calhead</td>\n",
       "    </tr>\n",
       "    <tr>\n",
       "      <th>cr30c16_19700102</th>\n",
       "      <td>cr30c16_19700102</td>\n",
       "      <td>12.127082</td>\n",
       "      <td>3.872983</td>\n",
       "      <td>calhead</td>\n",
       "    </tr>\n",
       "    <tr>\n",
       "      <th>cr34c08_19700102</th>\n",
       "      <td>cr34c08_19700102</td>\n",
       "      <td>18.976409</td>\n",
       "      <td>3.872983</td>\n",
       "      <td>calhead</td>\n",
       "    </tr>\n",
       "    <tr>\n",
       "      <th>cr35c11_19700102</th>\n",
       "      <td>cr35c11_19700102</td>\n",
       "      <td>15.445541</td>\n",
       "      <td>3.872983</td>\n",
       "      <td>calhead</td>\n",
       "    </tr>\n",
       "  </tbody>\n",
       "</table>\n",
       "</div>"
      ],
      "text/plain": [
       "                                    obsnme       obsval    weight   obgnme\n",
       "obsnme                                                                    \n",
       "flx_river_l_19700102  flx_river_l_19700102 -3706.027000  0.149770  calflux\n",
       "cr03c10_19700102          cr03c10_19700102    22.331451  3.872983  calhead\n",
       "cr03c16_19700102          cr03c16_19700102    18.526869  3.872983  calhead\n",
       "cr04c09_19700102          cr04c09_19700102    24.412637  3.872983  calhead\n",
       "cr10c02_19700102          cr10c02_19700102    27.985834  3.872983  calhead\n",
       "cr14c11_19700102          cr14c11_19700102    21.070509  3.872983  calhead\n",
       "cr16c17_19700102          cr16c17_19700102    15.468176  3.872983  calhead\n",
       "cr22c11_19700102          cr22c11_19700102    20.485881  3.872983  calhead\n",
       "cr23c16_19700102          cr23c16_19700102    15.308345  3.872983  calhead\n",
       "cr25c05_19700102          cr25c05_19700102    22.408501  3.872983  calhead\n",
       "cr27c07_19700102          cr27c07_19700102    22.530558  3.872983  calhead\n",
       "cr30c16_19700102          cr30c16_19700102    12.127082  3.872983  calhead\n",
       "cr34c08_19700102          cr34c08_19700102    18.976409  3.872983  calhead\n",
       "cr35c11_19700102          cr35c11_19700102    15.445541  3.872983  calhead"
      ]
     },
     "execution_count": 39,
     "metadata": {},
     "output_type": "execute_result"
    }
   ],
   "source": [
    "pst.observation_data.loc[pst.nnz_obs_names,:]"
   ]
  },
  {
   "cell_type": "code",
   "execution_count": 41,
   "metadata": {},
   "outputs": [
    {
     "data": {
      "text/plain": [
       "820.9711457028573"
      ]
     },
     "execution_count": 41,
     "metadata": {},
     "output_type": "execute_result"
    }
   ],
   "source": [
    "pst.phi"
   ]
  },
  {
   "cell_type": "code",
   "execution_count": 47,
   "metadata": {},
   "outputs": [
    {
     "name": "stdout",
     "output_type": "stream",
     "text": [
      "run():pestpp freyberg_kr_rewght.pst\n"
     ]
    }
   ],
   "source": [
    "pst.write(os.path.join(working_dir,pst_name.replace(\".pst\",\"_rewght.pst\")))\n",
    "pyemu.helpers.run(\"pestpp {0}\".format(pst_name.replace(\".pst\",\"_rewght.pst\")),cwd=working_dir)"
   ]
  },
  {
   "cell_type": "markdown",
   "metadata": {
    "collapsed": true
   },
   "source": [
    "## Relating weights to observation noise\n",
    "\n",
    "Weights can initially be thought of as the reciprocal of observation noise, as characterized by standard deviation of the observation: \n",
    "$w=\\frac{1}{\\sigma}$"
   ]
  },
  {
   "cell_type": "markdown",
   "metadata": {},
   "source": [
    "After adjustment, it's a good idea to calculate the equivalent $\\sigma$ for each observation to determine whether it remains realistic. In this case:"
   ]
  },
  {
   "cell_type": "code",
   "execution_count": 44,
   "metadata": {},
   "outputs": [
    {
     "data": {
      "text/plain": [
       "1.0"
      ]
     },
     "execution_count": 44,
     "metadata": {},
     "output_type": "execute_result"
    }
   ],
   "source": [
    "#initial weight for head\n",
    "w=1\n",
    "sig=1/w\n",
    "sig"
   ]
  },
  {
   "cell_type": "code",
   "execution_count": 45,
   "metadata": {},
   "outputs": [
    {
     "data": {
      "text/plain": [
       "1.2909938974718467"
      ]
     },
     "execution_count": 45,
     "metadata": {},
     "output_type": "execute_result"
    }
   ],
   "source": [
    "#new weight for head\n",
    "w=.774597\n",
    "sig=1/w\n",
    "sig"
   ]
  },
  {
   "cell_type": "markdown",
   "metadata": {
    "collapsed": true
   },
   "source": [
    "## This also applied after calibration, before uncertainty calculations...\n",
    "\n",
    "According to the discrepancy prinicipal, the final objective function should equal the number of non-zero weighted observations....this is rarely the case.  This means we couldn't fit the data as well as we thought we could, which is usually a result of model error (not measurement error).  While this is an advanced topic, one really cheap way to cope with this problem is to scale the observation weights by the final residuals so that they reflect how well we actual could fit. "
   ]
  },
  {
   "cell_type": "code",
   "execution_count": 50,
   "metadata": {},
   "outputs": [
    {
     "data": {
      "text/plain": [
       "779.2592665906188"
      ]
     },
     "execution_count": 50,
     "metadata": {},
     "output_type": "execute_result"
    }
   ],
   "source": [
    "pst = pyemu.Pst(os.path.join(working_dir,pst_name.replace(\".pst\",\"_rewght.pst\")))\n",
    "pst.phi"
   ]
  },
  {
   "cell_type": "code",
   "execution_count": 52,
   "metadata": {},
   "outputs": [
    {
     "data": {
      "text/html": [
       "<div>\n",
       "<style>\n",
       "    .dataframe thead tr:only-child th {\n",
       "        text-align: right;\n",
       "    }\n",
       "\n",
       "    .dataframe thead th {\n",
       "        text-align: left;\n",
       "    }\n",
       "\n",
       "    .dataframe tbody tr th {\n",
       "        vertical-align: top;\n",
       "    }\n",
       "</style>\n",
       "<table border=\"1\" class=\"dataframe\">\n",
       "  <thead>\n",
       "    <tr style=\"text-align: right;\">\n",
       "      <th></th>\n",
       "      <th>name</th>\n",
       "      <th>group</th>\n",
       "      <th>measured</th>\n",
       "      <th>modelled</th>\n",
       "      <th>residual</th>\n",
       "      <th>weight</th>\n",
       "    </tr>\n",
       "    <tr>\n",
       "      <th>name</th>\n",
       "      <th></th>\n",
       "      <th></th>\n",
       "      <th></th>\n",
       "      <th></th>\n",
       "      <th></th>\n",
       "      <th></th>\n",
       "    </tr>\n",
       "  </thead>\n",
       "  <tbody>\n",
       "    <tr>\n",
       "      <th>flx_river_l_19700102</th>\n",
       "      <td>flx_river_l_19700102</td>\n",
       "      <td>calflux</td>\n",
       "      <td>-3706.027000</td>\n",
       "      <td>-3814.782715</td>\n",
       "      <td>108.755715</td>\n",
       "      <td>0.149770</td>\n",
       "    </tr>\n",
       "    <tr>\n",
       "      <th>cr03c10_19700102</th>\n",
       "      <td>cr03c10_19700102</td>\n",
       "      <td>calhead</td>\n",
       "      <td>22.331451</td>\n",
       "      <td>23.974606</td>\n",
       "      <td>-1.643154</td>\n",
       "      <td>3.872983</td>\n",
       "    </tr>\n",
       "    <tr>\n",
       "      <th>cr03c16_19700102</th>\n",
       "      <td>cr03c16_19700102</td>\n",
       "      <td>calhead</td>\n",
       "      <td>18.526869</td>\n",
       "      <td>19.917816</td>\n",
       "      <td>-1.390947</td>\n",
       "      <td>3.872983</td>\n",
       "    </tr>\n",
       "    <tr>\n",
       "      <th>cr04c09_19700102</th>\n",
       "      <td>cr04c09_19700102</td>\n",
       "      <td>calhead</td>\n",
       "      <td>24.412637</td>\n",
       "      <td>24.770731</td>\n",
       "      <td>-0.358094</td>\n",
       "      <td>3.872983</td>\n",
       "    </tr>\n",
       "    <tr>\n",
       "      <th>cr10c02_19700102</th>\n",
       "      <td>cr10c02_19700102</td>\n",
       "      <td>calhead</td>\n",
       "      <td>27.985834</td>\n",
       "      <td>30.251448</td>\n",
       "      <td>-2.265613</td>\n",
       "      <td>3.872983</td>\n",
       "    </tr>\n",
       "    <tr>\n",
       "      <th>cr14c11_19700102</th>\n",
       "      <td>cr14c11_19700102</td>\n",
       "      <td>calhead</td>\n",
       "      <td>21.070509</td>\n",
       "      <td>18.847574</td>\n",
       "      <td>2.222934</td>\n",
       "      <td>3.872983</td>\n",
       "    </tr>\n",
       "    <tr>\n",
       "      <th>cr16c17_19700102</th>\n",
       "      <td>cr16c17_19700102</td>\n",
       "      <td>calhead</td>\n",
       "      <td>15.468176</td>\n",
       "      <td>17.488869</td>\n",
       "      <td>-2.020692</td>\n",
       "      <td>3.872983</td>\n",
       "    </tr>\n",
       "    <tr>\n",
       "      <th>cr22c11_19700102</th>\n",
       "      <td>cr22c11_19700102</td>\n",
       "      <td>calhead</td>\n",
       "      <td>20.485881</td>\n",
       "      <td>17.894899</td>\n",
       "      <td>2.590982</td>\n",
       "      <td>3.872983</td>\n",
       "    </tr>\n",
       "    <tr>\n",
       "      <th>cr23c16_19700102</th>\n",
       "      <td>cr23c16_19700102</td>\n",
       "      <td>calhead</td>\n",
       "      <td>15.308345</td>\n",
       "      <td>15.635373</td>\n",
       "      <td>-0.327028</td>\n",
       "      <td>3.872983</td>\n",
       "    </tr>\n",
       "    <tr>\n",
       "      <th>cr25c05_19700102</th>\n",
       "      <td>cr25c05_19700102</td>\n",
       "      <td>calhead</td>\n",
       "      <td>22.408501</td>\n",
       "      <td>23.431494</td>\n",
       "      <td>-1.022993</td>\n",
       "      <td>3.872983</td>\n",
       "    </tr>\n",
       "    <tr>\n",
       "      <th>cr27c07_19700102</th>\n",
       "      <td>cr27c07_19700102</td>\n",
       "      <td>calhead</td>\n",
       "      <td>22.530558</td>\n",
       "      <td>20.852726</td>\n",
       "      <td>1.677832</td>\n",
       "      <td>3.872983</td>\n",
       "    </tr>\n",
       "    <tr>\n",
       "      <th>cr30c16_19700102</th>\n",
       "      <td>cr30c16_19700102</td>\n",
       "      <td>calhead</td>\n",
       "      <td>12.127082</td>\n",
       "      <td>14.093711</td>\n",
       "      <td>-1.966628</td>\n",
       "      <td>3.872983</td>\n",
       "    </tr>\n",
       "    <tr>\n",
       "      <th>cr34c08_19700102</th>\n",
       "      <td>cr34c08_19700102</td>\n",
       "      <td>calhead</td>\n",
       "      <td>18.976409</td>\n",
       "      <td>18.111919</td>\n",
       "      <td>0.864490</td>\n",
       "      <td>3.872983</td>\n",
       "    </tr>\n",
       "    <tr>\n",
       "      <th>cr35c11_19700102</th>\n",
       "      <td>cr35c11_19700102</td>\n",
       "      <td>calhead</td>\n",
       "      <td>15.445541</td>\n",
       "      <td>15.231125</td>\n",
       "      <td>0.214416</td>\n",
       "      <td>3.872983</td>\n",
       "    </tr>\n",
       "  </tbody>\n",
       "</table>\n",
       "</div>"
      ],
      "text/plain": [
       "                                      name    group     measured     modelled  \\\n",
       "name                                                                            \n",
       "flx_river_l_19700102  flx_river_l_19700102  calflux -3706.027000 -3814.782715   \n",
       "cr03c10_19700102          cr03c10_19700102  calhead    22.331451    23.974606   \n",
       "cr03c16_19700102          cr03c16_19700102  calhead    18.526869    19.917816   \n",
       "cr04c09_19700102          cr04c09_19700102  calhead    24.412637    24.770731   \n",
       "cr10c02_19700102          cr10c02_19700102  calhead    27.985834    30.251448   \n",
       "cr14c11_19700102          cr14c11_19700102  calhead    21.070509    18.847574   \n",
       "cr16c17_19700102          cr16c17_19700102  calhead    15.468176    17.488869   \n",
       "cr22c11_19700102          cr22c11_19700102  calhead    20.485881    17.894899   \n",
       "cr23c16_19700102          cr23c16_19700102  calhead    15.308345    15.635373   \n",
       "cr25c05_19700102          cr25c05_19700102  calhead    22.408501    23.431494   \n",
       "cr27c07_19700102          cr27c07_19700102  calhead    22.530558    20.852726   \n",
       "cr30c16_19700102          cr30c16_19700102  calhead    12.127082    14.093711   \n",
       "cr34c08_19700102          cr34c08_19700102  calhead    18.976409    18.111919   \n",
       "cr35c11_19700102          cr35c11_19700102  calhead    15.445541    15.231125   \n",
       "\n",
       "                        residual    weight  \n",
       "name                                        \n",
       "flx_river_l_19700102  108.755715  0.149770  \n",
       "cr03c10_19700102       -1.643154  3.872983  \n",
       "cr03c16_19700102       -1.390947  3.872983  \n",
       "cr04c09_19700102       -0.358094  3.872983  \n",
       "cr10c02_19700102       -2.265613  3.872983  \n",
       "cr14c11_19700102        2.222934  3.872983  \n",
       "cr16c17_19700102       -2.020692  3.872983  \n",
       "cr22c11_19700102        2.590982  3.872983  \n",
       "cr23c16_19700102       -0.327028  3.872983  \n",
       "cr25c05_19700102       -1.022993  3.872983  \n",
       "cr27c07_19700102        1.677832  3.872983  \n",
       "cr30c16_19700102       -1.966628  3.872983  \n",
       "cr34c08_19700102        0.864490  3.872983  \n",
       "cr35c11_19700102        0.214416  3.872983  "
      ]
     },
     "execution_count": 52,
     "metadata": {},
     "output_type": "execute_result"
    }
   ],
   "source": [
    "pst.res.loc[pst.nnz_obs_names,:]"
   ]
  },
  {
   "cell_type": "code",
   "execution_count": 53,
   "metadata": {},
   "outputs": [
    {
     "data": {
      "text/plain": [
       "14.000000000000002"
      ]
     },
     "execution_count": 53,
     "metadata": {},
     "output_type": "execute_result"
    }
   ],
   "source": [
    "pst.adjust_weights_resfile()\n",
    "pst.phi"
   ]
  },
  {
   "cell_type": "code",
   "execution_count": 54,
   "metadata": {},
   "outputs": [
    {
     "data": {
      "text/html": [
       "<div>\n",
       "<style>\n",
       "    .dataframe thead tr:only-child th {\n",
       "        text-align: right;\n",
       "    }\n",
       "\n",
       "    .dataframe thead th {\n",
       "        text-align: left;\n",
       "    }\n",
       "\n",
       "    .dataframe tbody tr th {\n",
       "        vertical-align: top;\n",
       "    }\n",
       "</style>\n",
       "<table border=\"1\" class=\"dataframe\">\n",
       "  <thead>\n",
       "    <tr style=\"text-align: right;\">\n",
       "      <th></th>\n",
       "      <th>obsnme</th>\n",
       "      <th>obsval</th>\n",
       "      <th>weight</th>\n",
       "      <th>obgnme</th>\n",
       "    </tr>\n",
       "    <tr>\n",
       "      <th>obsnme</th>\n",
       "      <th></th>\n",
       "      <th></th>\n",
       "      <th></th>\n",
       "      <th></th>\n",
       "    </tr>\n",
       "  </thead>\n",
       "  <tbody>\n",
       "    <tr>\n",
       "      <th>flx_river_l_19700102</th>\n",
       "      <td>flx_river_l_19700102</td>\n",
       "      <td>-3706.027000</td>\n",
       "      <td>0.009195</td>\n",
       "      <td>calflux</td>\n",
       "    </tr>\n",
       "    <tr>\n",
       "      <th>cr03c10_19700102</th>\n",
       "      <td>cr03c10_19700102</td>\n",
       "      <td>22.331451</td>\n",
       "      <td>0.615967</td>\n",
       "      <td>calhead</td>\n",
       "    </tr>\n",
       "    <tr>\n",
       "      <th>cr03c16_19700102</th>\n",
       "      <td>cr03c16_19700102</td>\n",
       "      <td>18.526869</td>\n",
       "      <td>0.615967</td>\n",
       "      <td>calhead</td>\n",
       "    </tr>\n",
       "    <tr>\n",
       "      <th>cr04c09_19700102</th>\n",
       "      <td>cr04c09_19700102</td>\n",
       "      <td>24.412637</td>\n",
       "      <td>0.615967</td>\n",
       "      <td>calhead</td>\n",
       "    </tr>\n",
       "    <tr>\n",
       "      <th>cr10c02_19700102</th>\n",
       "      <td>cr10c02_19700102</td>\n",
       "      <td>27.985834</td>\n",
       "      <td>0.615967</td>\n",
       "      <td>calhead</td>\n",
       "    </tr>\n",
       "    <tr>\n",
       "      <th>cr14c11_19700102</th>\n",
       "      <td>cr14c11_19700102</td>\n",
       "      <td>21.070509</td>\n",
       "      <td>0.615967</td>\n",
       "      <td>calhead</td>\n",
       "    </tr>\n",
       "    <tr>\n",
       "      <th>cr16c17_19700102</th>\n",
       "      <td>cr16c17_19700102</td>\n",
       "      <td>15.468176</td>\n",
       "      <td>0.615967</td>\n",
       "      <td>calhead</td>\n",
       "    </tr>\n",
       "    <tr>\n",
       "      <th>cr22c11_19700102</th>\n",
       "      <td>cr22c11_19700102</td>\n",
       "      <td>20.485881</td>\n",
       "      <td>0.615967</td>\n",
       "      <td>calhead</td>\n",
       "    </tr>\n",
       "    <tr>\n",
       "      <th>cr23c16_19700102</th>\n",
       "      <td>cr23c16_19700102</td>\n",
       "      <td>15.308345</td>\n",
       "      <td>0.615967</td>\n",
       "      <td>calhead</td>\n",
       "    </tr>\n",
       "    <tr>\n",
       "      <th>cr25c05_19700102</th>\n",
       "      <td>cr25c05_19700102</td>\n",
       "      <td>22.408501</td>\n",
       "      <td>0.615967</td>\n",
       "      <td>calhead</td>\n",
       "    </tr>\n",
       "    <tr>\n",
       "      <th>cr27c07_19700102</th>\n",
       "      <td>cr27c07_19700102</td>\n",
       "      <td>22.530558</td>\n",
       "      <td>0.615967</td>\n",
       "      <td>calhead</td>\n",
       "    </tr>\n",
       "    <tr>\n",
       "      <th>cr30c16_19700102</th>\n",
       "      <td>cr30c16_19700102</td>\n",
       "      <td>12.127082</td>\n",
       "      <td>0.615967</td>\n",
       "      <td>calhead</td>\n",
       "    </tr>\n",
       "    <tr>\n",
       "      <th>cr34c08_19700102</th>\n",
       "      <td>cr34c08_19700102</td>\n",
       "      <td>18.976409</td>\n",
       "      <td>0.615967</td>\n",
       "      <td>calhead</td>\n",
       "    </tr>\n",
       "    <tr>\n",
       "      <th>cr35c11_19700102</th>\n",
       "      <td>cr35c11_19700102</td>\n",
       "      <td>15.445541</td>\n",
       "      <td>0.615967</td>\n",
       "      <td>calhead</td>\n",
       "    </tr>\n",
       "  </tbody>\n",
       "</table>\n",
       "</div>"
      ],
      "text/plain": [
       "                                    obsnme       obsval    weight   obgnme\n",
       "obsnme                                                                    \n",
       "flx_river_l_19700102  flx_river_l_19700102 -3706.027000  0.009195  calflux\n",
       "cr03c10_19700102          cr03c10_19700102    22.331451  0.615967  calhead\n",
       "cr03c16_19700102          cr03c16_19700102    18.526869  0.615967  calhead\n",
       "cr04c09_19700102          cr04c09_19700102    24.412637  0.615967  calhead\n",
       "cr10c02_19700102          cr10c02_19700102    27.985834  0.615967  calhead\n",
       "cr14c11_19700102          cr14c11_19700102    21.070509  0.615967  calhead\n",
       "cr16c17_19700102          cr16c17_19700102    15.468176  0.615967  calhead\n",
       "cr22c11_19700102          cr22c11_19700102    20.485881  0.615967  calhead\n",
       "cr23c16_19700102          cr23c16_19700102    15.308345  0.615967  calhead\n",
       "cr25c05_19700102          cr25c05_19700102    22.408501  0.615967  calhead\n",
       "cr27c07_19700102          cr27c07_19700102    22.530558  0.615967  calhead\n",
       "cr30c16_19700102          cr30c16_19700102    12.127082  0.615967  calhead\n",
       "cr34c08_19700102          cr34c08_19700102    18.976409  0.615967  calhead\n",
       "cr35c11_19700102          cr35c11_19700102    15.445541  0.615967  calhead"
      ]
     },
     "execution_count": 54,
     "metadata": {},
     "output_type": "execute_result"
    }
   ],
   "source": [
    "pst.observation_data.loc[pst.nnz_obs_names,:]"
   ]
  },
  {
   "cell_type": "markdown",
   "metadata": {},
   "source": [
    "See how much the weights were decreased?  This has implications for FOSM and Monte Carlo sampling...``pestpp`` does this rescaling automatically when it calculates FOSM uncertainty measures.  Its listed in the .rec file - check it out!"
   ]
  },
  {
   "cell_type": "code",
   "execution_count": null,
   "metadata": {
    "collapsed": true
   },
   "outputs": [],
   "source": []
  }
 ],
 "metadata": {
  "kernelspec": {
   "display_name": "Python [Root]",
   "language": "python",
   "name": "Python [Root]"
  },
  "language_info": {
   "codemirror_mode": {
    "name": "ipython",
    "version": 3
   },
   "file_extension": ".py",
   "mimetype": "text/x-python",
   "name": "python",
   "nbconvert_exporter": "python",
   "pygments_lexer": "ipython3",
   "version": "3.5.2"
  }
 },
 "nbformat": 4,
 "nbformat_minor": 1
}
