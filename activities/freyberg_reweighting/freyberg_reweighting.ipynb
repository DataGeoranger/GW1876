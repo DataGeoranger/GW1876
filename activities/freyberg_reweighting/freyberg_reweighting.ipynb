{
 "cells": [
  {
   "cell_type": "markdown",
   "metadata": {},
   "source": [
    "# Weights are subjective and often need adjustment\n",
    "There are tools in `pyemu` to assist with weight adjustment to balance the contribution of various groups."
   ]
  },
  {
   "cell_type": "code",
   "execution_count": 1,
   "metadata": {
    "collapsed": false
   },
   "outputs": [
    {
     "name": "stdout",
     "output_type": "stream",
     "text": [
      "setting random seed\n"
     ]
    }
   ],
   "source": [
    "import matplotlib.pyplot as plt\n",
    "%matplotlib inline\n",
    "import pyemu\n",
    "import os, shutil\n",
    "import platform\n",
    "if 'window' in platform.platform().lower():\n",
    "    ppp = 'pest++'\n",
    "else:\n",
    "    ppp = './pestpp'"
   ]
  },
  {
   "cell_type": "markdown",
   "metadata": {},
   "source": [
    "### Copy down the base pilot files for the freyberg model with K and R parameters"
   ]
  },
  {
   "cell_type": "code",
   "execution_count": 2,
   "metadata": {
    "collapsed": false
   },
   "outputs": [],
   "source": [
    "base_dir = os.path.join('..','..','models','Freyberg','Freyberg_k_and_r')\n",
    "[shutil.copy2(os.path.join(base_dir,cf),cf) for cf in os.listdir(base_dir)];\n"
   ]
  },
  {
   "cell_type": "markdown",
   "metadata": {},
   "source": [
    "### We can read in the base PST file and do a quick run\n"
   ]
  },
  {
   "cell_type": "code",
   "execution_count": 3,
   "metadata": {
    "collapsed": false
   },
   "outputs": [
    {
     "name": "stdout",
     "output_type": "stream",
     "text": [
      "Pst.load() warning: duplicate pest++ option found:forecasts\n"
     ]
    }
   ],
   "source": [
    "inpst = pyemu.Pst('freyberg.pst')"
   ]
  },
  {
   "cell_type": "code",
   "execution_count": 4,
   "metadata": {
    "collapsed": false
   },
   "outputs": [
    {
     "data": {
      "text/plain": [
       "0"
      ]
     },
     "execution_count": 4,
     "metadata": {},
     "output_type": "execute_result"
    }
   ],
   "source": [
    "inpst.control_data.noptmax"
   ]
  },
  {
   "cell_type": "code",
   "execution_count": null,
   "metadata": {
    "collapsed": true
   },
   "outputs": [],
   "source": []
  },
  {
   "cell_type": "code",
   "execution_count": 5,
   "metadata": {
    "collapsed": false
   },
   "outputs": [
    {
     "data": {
      "text/plain": [
       "0"
      ]
     },
     "execution_count": 5,
     "metadata": {},
     "output_type": "execute_result"
    }
   ],
   "source": [
    "os.system('{0} freyberg.pst'.format(ppp))"
   ]
  },
  {
   "cell_type": "code",
   "execution_count": 6,
   "metadata": {
    "collapsed": false
   },
   "outputs": [
    {
     "data": {
      "text/plain": [
       "98.1802598698"
      ]
     },
     "execution_count": 6,
     "metadata": {},
     "output_type": "execute_result"
    }
   ],
   "source": [
    "inpst.phi"
   ]
  },
  {
   "cell_type": "code",
   "execution_count": 7,
   "metadata": {
    "collapsed": false
   },
   "outputs": [
    {
     "data": {
      "text/plain": [
       "{'flux_cal': 0.0,\n",
       " 'flux_fore': 0.0,\n",
       " 'head_cal': 98.1802598698,\n",
       " 'head_fore': 0.0,\n",
       " 'travel_fore': 0.0}"
      ]
     },
     "execution_count": 7,
     "metadata": {},
     "output_type": "execute_result"
    }
   ],
   "source": [
    "inpst.phi_components"
   ]
  },
  {
   "cell_type": "code",
   "execution_count": 8,
   "metadata": {
    "collapsed": false
   },
   "outputs": [
    {
     "data": {
      "text/plain": [
       "{'flux_cal': 0.0,\n",
       " 'flux_fore': 0.0,\n",
       " 'head_cal': 1.0,\n",
       " 'head_fore': 0.0,\n",
       " 'travel_fore': 0.0}"
      ]
     },
     "execution_count": 8,
     "metadata": {},
     "output_type": "execute_result"
    }
   ],
   "source": [
    "inpst.phi_components_normalized"
   ]
  },
  {
   "cell_type": "code",
   "execution_count": 9,
   "metadata": {
    "collapsed": false
   },
   "outputs": [
    {
     "data": {
      "image/png": "[encoded data removed]",
      "text/plain": [
       "<matplotlib.figure.Figure at 0x114ae6da0>"
      ]
     },
     "metadata": {},
     "output_type": "display_data"
    }
   ],
   "source": [
    "starting_components = inpst.phi_components_normalized\n",
    "plt.axis('equal')\n",
    "plt.pie([float(v) for v in starting_components.values()], labels=[k for k in starting_components.keys()]);"
   ]
  },
  {
   "cell_type": "code",
   "execution_count": 10,
   "metadata": {
    "collapsed": false
   },
   "outputs": [],
   "source": [
    "groups = ['flux_cal', 'flux_fore', 'head_fore', 'head_cal', 'travel_fore']"
   ]
  },
  {
   "cell_type": "code",
   "execution_count": 11,
   "metadata": {
    "collapsed": true
   },
   "outputs": [],
   "source": [
    "new_portions = [0.4,0,0,0.6,0.0]"
   ]
  },
  {
   "cell_type": "code",
   "execution_count": 12,
   "metadata": {
    "collapsed": false
   },
   "outputs": [
    {
     "data": {
      "text/plain": [
       "1.0"
      ]
     },
     "execution_count": 12,
     "metadata": {},
     "output_type": "execute_result"
    }
   ],
   "source": [
    "sum(new_portions)"
   ]
  },
  {
   "cell_type": "code",
   "execution_count": 13,
   "metadata": {
    "collapsed": false
   },
   "outputs": [],
   "source": [
    "newcomponents = dict(zip(groups,[i*inpst.phi for i in new_portions]))"
   ]
  },
  {
   "cell_type": "code",
   "execution_count": 14,
   "metadata": {
    "collapsed": false
   },
   "outputs": [
    {
     "data": {
      "image/png": "[encoded data removed]",
      "text/plain": [
       "<matplotlib.figure.Figure at 0x114b77ac8>"
      ]
     },
     "metadata": {},
     "output_type": "display_data"
    }
   ],
   "source": [
    "plt.axis('equal')\n",
    "plt.pie([float(v) for v in newcomponents.values()], labels=[k for k in newcomponents.keys()]);"
   ]
  },
  {
   "cell_type": "code",
   "execution_count": 15,
   "metadata": {
    "collapsed": false
   },
   "outputs": [
    {
     "data": {
      "text/plain": [
       "{'flux_cal': 39.27210394792,\n",
       " 'flux_fore': 0.0,\n",
       " 'head_cal': 58.908155921879995,\n",
       " 'head_fore': 0.0,\n",
       " 'travel_fore': 0.0}"
      ]
     },
     "execution_count": 15,
     "metadata": {},
     "output_type": "execute_result"
    }
   ],
   "source": [
    "newcomponents"
   ]
  },
  {
   "cell_type": "markdown",
   "metadata": {},
   "source": [
    "## Make a new copy of the PST file for output"
   ]
  },
  {
   "cell_type": "code",
   "execution_count": 16,
   "metadata": {
    "collapsed": false
   },
   "outputs": [
    {
     "name": "stdout",
     "output_type": "stream",
     "text": [
      "Pst.load() warning: duplicate pest++ option found:forecasts\n"
     ]
    }
   ],
   "source": [
    "outpst = pyemu.Pst('freyberg.pst')"
   ]
  },
  {
   "cell_type": "code",
   "execution_count": 17,
   "metadata": {
    "collapsed": false
   },
   "outputs": [
    {
     "data": {
      "text/html": [
       "<div>\n",
       "<table border=\"1\" class=\"dataframe\">\n",
       "  <thead>\n",
       "    <tr style=\"text-align: right;\">\n",
       "      <th></th>\n",
       "      <th>obsnme</th>\n",
       "      <th>obsval</th>\n",
       "      <th>weight</th>\n",
       "      <th>obgnme</th>\n",
       "    </tr>\n",
       "    <tr>\n",
       "      <th>obsnme</th>\n",
       "      <th></th>\n",
       "      <th></th>\n",
       "      <th></th>\n",
       "      <th></th>\n",
       "    </tr>\n",
       "  </thead>\n",
       "  <tbody>\n",
       "    <tr>\n",
       "      <th>cr03c16</th>\n",
       "      <td>cr03c16</td>\n",
       "      <td>22.18672</td>\n",
       "      <td>1.0</td>\n",
       "      <td>head_cal</td>\n",
       "    </tr>\n",
       "    <tr>\n",
       "      <th>cr03c10</th>\n",
       "      <td>cr03c10</td>\n",
       "      <td>24.08591</td>\n",
       "      <td>1.0</td>\n",
       "      <td>head_cal</td>\n",
       "    </tr>\n",
       "    <tr>\n",
       "      <th>cr04c9</th>\n",
       "      <td>cr04c9</td>\n",
       "      <td>22.33339</td>\n",
       "      <td>1.0</td>\n",
       "      <td>head_cal</td>\n",
       "    </tr>\n",
       "    <tr>\n",
       "      <th>cr10c2</th>\n",
       "      <td>cr10c2</td>\n",
       "      <td>31.83430</td>\n",
       "      <td>1.0</td>\n",
       "      <td>head_cal</td>\n",
       "    </tr>\n",
       "    <tr>\n",
       "      <th>cr14c11</th>\n",
       "      <td>cr14c11</td>\n",
       "      <td>17.72841</td>\n",
       "      <td>1.0</td>\n",
       "      <td>head_cal</td>\n",
       "    </tr>\n",
       "    <tr>\n",
       "      <th>cr16c17</th>\n",
       "      <td>cr16c17</td>\n",
       "      <td>16.56648</td>\n",
       "      <td>1.0</td>\n",
       "      <td>head_cal</td>\n",
       "    </tr>\n",
       "    <tr>\n",
       "      <th>cr22c11</th>\n",
       "      <td>cr22c11</td>\n",
       "      <td>18.28594</td>\n",
       "      <td>1.0</td>\n",
       "      <td>head_cal</td>\n",
       "    </tr>\n",
       "    <tr>\n",
       "      <th>cr23c16</th>\n",
       "      <td>cr23c16</td>\n",
       "      <td>15.20820</td>\n",
       "      <td>1.0</td>\n",
       "      <td>head_cal</td>\n",
       "    </tr>\n",
       "    <tr>\n",
       "      <th>cr25c5</th>\n",
       "      <td>cr25c5</td>\n",
       "      <td>24.24294</td>\n",
       "      <td>1.0</td>\n",
       "      <td>head_cal</td>\n",
       "    </tr>\n",
       "    <tr>\n",
       "      <th>cr27c7</th>\n",
       "      <td>cr27c7</td>\n",
       "      <td>22.74890</td>\n",
       "      <td>1.0</td>\n",
       "      <td>head_cal</td>\n",
       "    </tr>\n",
       "    <tr>\n",
       "      <th>cr30c16</th>\n",
       "      <td>cr30c16</td>\n",
       "      <td>14.73617</td>\n",
       "      <td>1.0</td>\n",
       "      <td>head_cal</td>\n",
       "    </tr>\n",
       "    <tr>\n",
       "      <th>cr34c8</th>\n",
       "      <td>cr34c8</td>\n",
       "      <td>18.61989</td>\n",
       "      <td>1.0</td>\n",
       "      <td>head_cal</td>\n",
       "    </tr>\n",
       "    <tr>\n",
       "      <th>cr35c11</th>\n",
       "      <td>cr35c11</td>\n",
       "      <td>15.61996</td>\n",
       "      <td>1.0</td>\n",
       "      <td>head_cal</td>\n",
       "    </tr>\n",
       "    <tr>\n",
       "      <th>rivflux_cal</th>\n",
       "      <td>rivflux_cal</td>\n",
       "      <td>-3690.68800</td>\n",
       "      <td>0.0</td>\n",
       "      <td>flux_cal</td>\n",
       "    </tr>\n",
       "  </tbody>\n",
       "</table>\n",
       "</div>"
      ],
      "text/plain": [
       "                  obsnme      obsval  weight    obgnme\n",
       "obsnme                                                \n",
       "cr03c16          cr03c16    22.18672     1.0  head_cal\n",
       "cr03c10          cr03c10    24.08591     1.0  head_cal\n",
       "cr04c9            cr04c9    22.33339     1.0  head_cal\n",
       "cr10c2            cr10c2    31.83430     1.0  head_cal\n",
       "cr14c11          cr14c11    17.72841     1.0  head_cal\n",
       "cr16c17          cr16c17    16.56648     1.0  head_cal\n",
       "cr22c11          cr22c11    18.28594     1.0  head_cal\n",
       "cr23c16          cr23c16    15.20820     1.0  head_cal\n",
       "cr25c5            cr25c5    24.24294     1.0  head_cal\n",
       "cr27c7            cr27c7    22.74890     1.0  head_cal\n",
       "cr30c16          cr30c16    14.73617     1.0  head_cal\n",
       "cr34c8            cr34c8    18.61989     1.0  head_cal\n",
       "cr35c11          cr35c11    15.61996     1.0  head_cal\n",
       "rivflux_cal  rivflux_cal -3690.68800     0.0  flux_cal"
      ]
     },
     "execution_count": 17,
     "metadata": {},
     "output_type": "execute_result"
    }
   ],
   "source": [
    "outpst.observation_data.head(14)"
   ]
  },
  {
   "cell_type": "code",
   "execution_count": 18,
   "metadata": {
    "collapsed": false
   },
   "outputs": [
    {
     "data": {
      "text/plain": [
       "{'flux_cal': 0.0,\n",
       " 'flux_fore': 0.0,\n",
       " 'head_cal': 98.1802598698,\n",
       " 'head_fore': 0.0,\n",
       " 'travel_fore': 0.0}"
      ]
     },
     "execution_count": 18,
     "metadata": {},
     "output_type": "execute_result"
    }
   ],
   "source": [
    "outpst.phi_components"
   ]
  },
  {
   "cell_type": "code",
   "execution_count": 19,
   "metadata": {
    "collapsed": false
   },
   "outputs": [
    {
     "data": {
      "text/plain": [
       "{'flux_cal': 810676.941376,\n",
       " 'flux_fore': 0.0,\n",
       " 'head_cal': 98.1802598698,\n",
       " 'head_fore': 0.0,\n",
       " 'travel_fore': 0.0}"
      ]
     },
     "execution_count": 19,
     "metadata": {},
     "output_type": "execute_result"
    }
   ],
   "source": [
    "outpst.adjust_weights_by_list('rivflux_cal',1.0)\n",
    "outpst.phi_components"
   ]
  },
  {
   "cell_type": "code",
   "execution_count": 20,
   "metadata": {
    "collapsed": false
   },
   "outputs": [
    {
     "name": "stdout",
     "output_type": "stream",
     "text": [
      "Pst.__reset_weights() warning: phi group travel_fore has zero phi, skipping...\n",
      "Pst.__reset_weights() warning: phi group flux_fore has zero phi, skipping...\n",
      "Pst.__reset_weights() warning: phi group head_fore has zero phi, skipping...\n"
     ]
    },
    {
     "data": {
      "text/plain": [
       "{'flux_cal': 39.27210394792,\n",
       " 'flux_fore': 0.0,\n",
       " 'head_cal': 58.90815592188001,\n",
       " 'head_fore': 0.0,\n",
       " 'travel_fore': 0.0}"
      ]
     },
     "execution_count": 20,
     "metadata": {},
     "output_type": "execute_result"
    }
   ],
   "source": [
    "outpst.adjust_weights(obsgrp_dict=newcomponents)\n",
    "outpst.phi_components"
   ]
  },
  {
   "cell_type": "code",
   "execution_count": 21,
   "metadata": {
    "collapsed": false
   },
   "outputs": [
    {
     "data": {
      "text/html": [
       "<div>\n",
       "<table border=\"1\" class=\"dataframe\">\n",
       "  <thead>\n",
       "    <tr style=\"text-align: right;\">\n",
       "      <th></th>\n",
       "      <th>obsnme</th>\n",
       "      <th>obsval</th>\n",
       "      <th>weight</th>\n",
       "      <th>obgnme</th>\n",
       "    </tr>\n",
       "    <tr>\n",
       "      <th>obsnme</th>\n",
       "      <th></th>\n",
       "      <th></th>\n",
       "      <th></th>\n",
       "      <th></th>\n",
       "    </tr>\n",
       "  </thead>\n",
       "  <tbody>\n",
       "    <tr>\n",
       "      <th>cr03c16</th>\n",
       "      <td>cr03c16</td>\n",
       "      <td>22.18672</td>\n",
       "      <td>0.774597</td>\n",
       "      <td>head_cal</td>\n",
       "    </tr>\n",
       "    <tr>\n",
       "      <th>cr03c10</th>\n",
       "      <td>cr03c10</td>\n",
       "      <td>24.08591</td>\n",
       "      <td>0.774597</td>\n",
       "      <td>head_cal</td>\n",
       "    </tr>\n",
       "    <tr>\n",
       "      <th>cr04c9</th>\n",
       "      <td>cr04c9</td>\n",
       "      <td>22.33339</td>\n",
       "      <td>0.774597</td>\n",
       "      <td>head_cal</td>\n",
       "    </tr>\n",
       "    <tr>\n",
       "      <th>cr10c2</th>\n",
       "      <td>cr10c2</td>\n",
       "      <td>31.83430</td>\n",
       "      <td>0.774597</td>\n",
       "      <td>head_cal</td>\n",
       "    </tr>\n",
       "    <tr>\n",
       "      <th>cr14c11</th>\n",
       "      <td>cr14c11</td>\n",
       "      <td>17.72841</td>\n",
       "      <td>0.774597</td>\n",
       "      <td>head_cal</td>\n",
       "    </tr>\n",
       "    <tr>\n",
       "      <th>cr16c17</th>\n",
       "      <td>cr16c17</td>\n",
       "      <td>16.56648</td>\n",
       "      <td>0.774597</td>\n",
       "      <td>head_cal</td>\n",
       "    </tr>\n",
       "    <tr>\n",
       "      <th>cr22c11</th>\n",
       "      <td>cr22c11</td>\n",
       "      <td>18.28594</td>\n",
       "      <td>0.774597</td>\n",
       "      <td>head_cal</td>\n",
       "    </tr>\n",
       "    <tr>\n",
       "      <th>cr23c16</th>\n",
       "      <td>cr23c16</td>\n",
       "      <td>15.20820</td>\n",
       "      <td>0.774597</td>\n",
       "      <td>head_cal</td>\n",
       "    </tr>\n",
       "    <tr>\n",
       "      <th>cr25c5</th>\n",
       "      <td>cr25c5</td>\n",
       "      <td>24.24294</td>\n",
       "      <td>0.774597</td>\n",
       "      <td>head_cal</td>\n",
       "    </tr>\n",
       "    <tr>\n",
       "      <th>cr27c7</th>\n",
       "      <td>cr27c7</td>\n",
       "      <td>22.74890</td>\n",
       "      <td>0.774597</td>\n",
       "      <td>head_cal</td>\n",
       "    </tr>\n",
       "    <tr>\n",
       "      <th>cr30c16</th>\n",
       "      <td>cr30c16</td>\n",
       "      <td>14.73617</td>\n",
       "      <td>0.774597</td>\n",
       "      <td>head_cal</td>\n",
       "    </tr>\n",
       "    <tr>\n",
       "      <th>cr34c8</th>\n",
       "      <td>cr34c8</td>\n",
       "      <td>18.61989</td>\n",
       "      <td>0.774597</td>\n",
       "      <td>head_cal</td>\n",
       "    </tr>\n",
       "    <tr>\n",
       "      <th>cr35c11</th>\n",
       "      <td>cr35c11</td>\n",
       "      <td>15.61996</td>\n",
       "      <td>0.774597</td>\n",
       "      <td>head_cal</td>\n",
       "    </tr>\n",
       "    <tr>\n",
       "      <th>rivflux_cal</th>\n",
       "      <td>rivflux_cal</td>\n",
       "      <td>-3690.68800</td>\n",
       "      <td>0.006960</td>\n",
       "      <td>flux_cal</td>\n",
       "    </tr>\n",
       "  </tbody>\n",
       "</table>\n",
       "</div>"
      ],
      "text/plain": [
       "                  obsnme      obsval    weight    obgnme\n",
       "obsnme                                                  \n",
       "cr03c16          cr03c16    22.18672  0.774597  head_cal\n",
       "cr03c10          cr03c10    24.08591  0.774597  head_cal\n",
       "cr04c9            cr04c9    22.33339  0.774597  head_cal\n",
       "cr10c2            cr10c2    31.83430  0.774597  head_cal\n",
       "cr14c11          cr14c11    17.72841  0.774597  head_cal\n",
       "cr16c17          cr16c17    16.56648  0.774597  head_cal\n",
       "cr22c11          cr22c11    18.28594  0.774597  head_cal\n",
       "cr23c16          cr23c16    15.20820  0.774597  head_cal\n",
       "cr25c5            cr25c5    24.24294  0.774597  head_cal\n",
       "cr27c7            cr27c7    22.74890  0.774597  head_cal\n",
       "cr30c16          cr30c16    14.73617  0.774597  head_cal\n",
       "cr34c8            cr34c8    18.61989  0.774597  head_cal\n",
       "cr35c11          cr35c11    15.61996  0.774597  head_cal\n",
       "rivflux_cal  rivflux_cal -3690.68800  0.006960  flux_cal"
      ]
     },
     "execution_count": 21,
     "metadata": {},
     "output_type": "execute_result"
    }
   ],
   "source": [
    "outpst.observation_data.head(14)"
   ]
  },
  {
   "cell_type": "code",
   "execution_count": 22,
   "metadata": {
    "collapsed": false
   },
   "outputs": [
    {
     "data": {
      "text/plain": [
       "98.18025986980001"
      ]
     },
     "execution_count": 22,
     "metadata": {},
     "output_type": "execute_result"
    }
   ],
   "source": [
    "outpst.phi"
   ]
  },
  {
   "cell_type": "code",
   "execution_count": 23,
   "metadata": {
    "collapsed": true
   },
   "outputs": [],
   "source": [
    "outpst.write('freyberg_reweighted.pst')"
   ]
  },
  {
   "cell_type": "markdown",
   "metadata": {
    "collapsed": true
   },
   "source": [
    "## Relating weights to observation noise\n",
    "\n",
    "Weights can initially be thought of as the reciprocal of observation noise, as characterized by standard deviation of the observation: \n",
    "$w=\\frac{1}{\\sigma}$"
   ]
  },
  {
   "cell_type": "markdown",
   "metadata": {},
   "source": [
    "After adjustment, it's a good idea to calculate the equivalent $\\sigma$ for each observation to determine whether it remains realistic. In this case:"
   ]
  },
  {
   "cell_type": "code",
   "execution_count": 24,
   "metadata": {
    "collapsed": false
   },
   "outputs": [
    {
     "data": {
      "text/plain": [
       "1.0"
      ]
     },
     "execution_count": 24,
     "metadata": {},
     "output_type": "execute_result"
    }
   ],
   "source": [
    "#initial weight for head\n",
    "w=1\n",
    "sig=1/w\n",
    "sig"
   ]
  },
  {
   "cell_type": "code",
   "execution_count": 25,
   "metadata": {
    "collapsed": false
   },
   "outputs": [
    {
     "data": {
      "text/plain": [
       "1.2909938974718467"
      ]
     },
     "execution_count": 25,
     "metadata": {},
     "output_type": "execute_result"
    }
   ],
   "source": [
    "#new weight for head\n",
    "w=.774597\n",
    "sig=1/w\n",
    "sig"
   ]
  },
  {
   "cell_type": "code",
   "execution_count": null,
   "metadata": {
    "collapsed": true
   },
   "outputs": [],
   "source": []
  }
 ],
 "metadata": {
  "kernelspec": {
   "display_name": "Python 3",
   "language": "python",
   "name": "python3"
  },
  "language_info": {
   "codemirror_mode": {
    "name": "ipython",
    "version": 3
   },
   "file_extension": ".py",
   "mimetype": "text/x-python",
   "name": "python",
   "nbconvert_exporter": "python",
   "pygments_lexer": "ipython3",
   "version": "3.5.2"
  }
 },
 "nbformat": 4,
 "nbformat_minor": 1
}
