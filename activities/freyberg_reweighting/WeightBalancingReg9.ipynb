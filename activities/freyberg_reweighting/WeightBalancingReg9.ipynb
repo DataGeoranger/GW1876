{
 "cells": [
  {
   "cell_type": "code",
   "execution_count": 2,
   "metadata": {
    "collapsed": true
   },
   "outputs": [],
   "source": [
    "import pyemu,os\n",
    "import pandas as pd\n",
    "import matplotlib.pyplot as plt\n",
    "import numpy as np\n",
    "%matplotlib inline"
   ]
  },
  {
   "cell_type": "markdown",
   "metadata": {},
   "source": [
    "### Read in the PEST control file and residuals"
   ]
  },
  {
   "cell_type": "code",
   "execution_count": 26,
   "metadata": {
    "collapsed": false
   },
   "outputs": [],
   "source": [
    "inpstfile = os.path.join('..','9_Pilot_Points','reg7base','chip_pp_reg7.pst')\n",
    "outpstfile = os.path.join('..','9_Pilot_Points','data','chip_pp_reg9.pst')"
   ]
  },
  {
   "cell_type": "code",
   "execution_count": 4,
   "metadata": {
    "collapsed": true
   },
   "outputs": [],
   "source": [
    "inpst = pyemu.Pst(inpstfile)"
   ]
  },
  {
   "cell_type": "code",
   "execution_count": 5,
   "metadata": {
    "collapsed": false
   },
   "outputs": [],
   "source": [
    "drop_wells = [i.strip().lower() for i in open(os.path.join('..','9_Pilot_Points','reg7','drops.txt'),'r').readlines()]"
   ]
  },
  {
   "cell_type": "markdown",
   "metadata": {},
   "source": [
    "### Read in new weights"
   ]
  },
  {
   "cell_type": "code",
   "execution_count": 13,
   "metadata": {
    "collapsed": false
   },
   "outputs": [],
   "source": [
    "new_head_weights=pd.read_csv('head_weights.csv', header=None, index_col=0)"
   ]
  },
  {
   "cell_type": "markdown",
   "metadata": {},
   "source": [
    "### Check out the current arrangement of components"
   ]
  },
  {
   "cell_type": "code",
   "execution_count": 7,
   "metadata": {
    "collapsed": false
   },
   "outputs": [
    {
     "data": {
      "text/plain": [
       "815414.30920357152"
      ]
     },
     "execution_count": 7,
     "metadata": {},
     "output_type": "execute_result"
    }
   ],
   "source": [
    "inpst.phi"
   ]
  },
  {
   "cell_type": "code",
   "execution_count": 8,
   "metadata": {
    "collapsed": false
   },
   "outputs": [
    {
     "data": {
      "image/png": "[encoded data removed]",
      "text/plain": [
       "<matplotlib.figure.Figure at 0x10de86a58>"
      ]
     },
     "metadata": {},
     "output_type": "display_data"
    }
   ],
   "source": [
    "starting_components = inpst.phi_components_normalized\n",
    "plt.axis('equal')\n",
    "plt.pie([float(v) for v in starting_components.values()], labels=[k for k in starting_components.keys()]);"
   ]
  },
  {
   "cell_type": "markdown",
   "metadata": {},
   "source": [
    "### Read in DEM range values for the observations"
   ]
  },
  {
   "cell_type": "code",
   "execution_count": 9,
   "metadata": {
    "collapsed": false
   },
   "outputs": [
    {
     "data": {
      "text/html": [
       "<div>\n",
       "<table border=\"1\" class=\"dataframe\">\n",
       "  <thead>\n",
       "    <tr style=\"text-align: right;\">\n",
       "      <th></th>\n",
       "      <th>dem_range</th>\n",
       "    </tr>\n",
       "  </thead>\n",
       "  <tbody>\n",
       "    <tr>\n",
       "      <th>nr570</th>\n",
       "      <td>3.183594</td>\n",
       "    </tr>\n",
       "  </tbody>\n",
       "</table>\n",
       "</div>"
      ],
      "text/plain": [
       "       dem_range\n",
       "nr570   3.183594"
      ]
     },
     "execution_count": 9,
     "metadata": {},
     "output_type": "execute_result"
    }
   ],
   "source": [
    "indflocation = os.path.join('..','3_PEST','setup')\n",
    "WCRdf = pd.read_csv(os.path.join(indflocation,'WCR_DF_export.csv'))\n",
    "WCRdf.index = [i.lower() for i in WCRdf.WUWN]\n",
    "WCRdf = WCRdf[['dem_range']]\n",
    "WCRdf.head(1)"
   ]
  },
  {
   "cell_type": "markdown",
   "metadata": {},
   "source": [
    "## Now zero-weight values with bad DEM range over `cthresh`"
   ]
  },
  {
   "cell_type": "code",
   "execution_count": 16,
   "metadata": {
    "collapsed": false
   },
   "outputs": [],
   "source": [
    "cthresh = 10\n",
    "for cn in WCRdf.index:\n",
    "    cv = WCRdf.loc[cn].values[0]\n",
    "    if cv > cthresh:\n",
    "        inpst.observation_data.set_value(cn,'weight',0)\n",
    "    if cn in new_head_weights.index:\n",
    "        inpst.observation_data.set_value(cn,'weight',new_head_weights.loc[cn])\n"
   ]
  },
  {
   "cell_type": "code",
   "execution_count": 17,
   "metadata": {
    "collapsed": false
   },
   "outputs": [
    {
     "data": {
      "text/plain": [
       "obsnme      cx593\n",
       "obsval    974.813\n",
       "weight          0\n",
       "obgnme    wcrlay6\n",
       "Name: cx593, dtype: object"
      ]
     },
     "execution_count": 17,
     "metadata": {},
     "output_type": "execute_result"
    }
   ],
   "source": [
    "inpst.observation_data.set_value('csc-b5','weight',0)\n",
    "inpst.observation_data.set_value('sss-cul-hc','weight',0)\n",
    "[inpst.observation_data.set_value(i,'weight',0) for i in drop_wells]\n",
    "inpst.observation_data.loc['cx593']"
   ]
  },
  {
   "cell_type": "code",
   "execution_count": 18,
   "metadata": {
    "collapsed": false
   },
   "outputs": [
    {
     "data": {
      "text/plain": [
       "260506.53187255649"
      ]
     },
     "execution_count": 18,
     "metadata": {},
     "output_type": "execute_result"
    }
   ],
   "source": [
    "inpst.phi"
   ]
  },
  {
   "cell_type": "code",
   "execution_count": 19,
   "metadata": {
    "collapsed": false
   },
   "outputs": [
    {
     "data": {
      "image/png": "[encoded data removed]",
      "text/plain": [
       "<matplotlib.figure.Figure at 0x10d487240>"
      ]
     },
     "metadata": {},
     "output_type": "display_data"
    }
   ],
   "source": [
    "starting_components = inpst.phi_components_normalized\n",
    "plt.axis('equal')\n",
    "plt.pie([float(v) for v in starting_components.values()], labels=[k for k in starting_components.keys()]);"
   ]
  },
  {
   "cell_type": "code",
   "execution_count": 20,
   "metadata": {
    "collapsed": false
   },
   "outputs": [
    {
     "data": {
      "text/plain": [
       "['diff',\n",
       " 'gage',\n",
       " 'geo_log',\n",
       " 'mines',\n",
       " 'synoptic',\n",
       " 'wcrlay1',\n",
       " 'wcrlay2',\n",
       " 'wcrlay3',\n",
       " 'wcrlay4',\n",
       " 'wcrlay5',\n",
       " 'wcrlay6']"
      ]
     },
     "execution_count": 20,
     "metadata": {},
     "output_type": "execute_result"
    }
   ],
   "source": [
    "groups = ['diff', 'gage', 'geo_log', 'mines', 'synoptic', 'wcrlay1', 'wcrlay2', 'wcrlay3', 'wcrlay4', 'wcrlay5', 'wcrlay6']\n",
    "groups"
   ]
  },
  {
   "cell_type": "code",
   "execution_count": 21,
   "metadata": {
    "collapsed": false
   },
   "outputs": [
    {
     "data": {
      "text/plain": [
       "1.0000000000000002"
      ]
     },
     "execution_count": 21,
     "metadata": {},
     "output_type": "execute_result"
    }
   ],
   "source": [
    "new_portions = [0.04, 0.2, 0.1, 0.1, 0.25, .06, .04, .06, 0.07, 0.04, 0.04]\n",
    "sum(new_portions)"
   ]
  },
  {
   "cell_type": "code",
   "execution_count": 22,
   "metadata": {
    "collapsed": false
   },
   "outputs": [],
   "source": [
    "newcomponents = dict(zip(groups,[i*inpst.phi for i in new_portions]))"
   ]
  },
  {
   "cell_type": "code",
   "execution_count": 23,
   "metadata": {
    "collapsed": false
   },
   "outputs": [
    {
     "data": {
      "text/plain": [
       "260506.53187255652"
      ]
     },
     "execution_count": 23,
     "metadata": {},
     "output_type": "execute_result"
    }
   ],
   "source": [
    "sum(newcomponents.values())"
   ]
  },
  {
   "cell_type": "code",
   "execution_count": 24,
   "metadata": {
    "collapsed": false
   },
   "outputs": [
    {
     "data": {
      "image/png": "[encoded data removed]",
      "text/plain": [
       "<matplotlib.figure.Figure at 0x10ddc66d8>"
      ]
     },
     "metadata": {},
     "output_type": "display_data"
    }
   ],
   "source": [
    "plt.axis('equal')\n",
    "plt.pie([float(v) for v in newcomponents.values()], labels=[k for k in newcomponents.keys()]);"
   ]
  },
  {
   "cell_type": "code",
   "execution_count": 25,
   "metadata": {
    "collapsed": false
   },
   "outputs": [],
   "source": [
    "outpst=pyemu.Pst(inpstfile)\n",
    "\n"
   ]
  },
  {
   "cell_type": "code",
   "execution_count": 18,
   "metadata": {
    "collapsed": false
   },
   "outputs": [
    {
     "data": {
      "text/plain": [
       "{'diff': 18505.377186405709,\n",
       " 'gage': 92526.885932028556,\n",
       " 'geo_log': 46263.442966014278,\n",
       " 'mines': 46263.442966014278,\n",
       " 'synoptic': 115658.60741503569,\n",
       " 'wcrlay1': 27758.065779608565,\n",
       " 'wcrlay2': 18505.377186405709,\n",
       " 'wcrlay3': 27758.065779608565,\n",
       " 'wcrlay4': 32384.410076209995,\n",
       " 'wcrlay5': 18505.377186405709,\n",
       " 'wcrlay6': 18505.377186405709}"
      ]
     },
     "execution_count": 18,
     "metadata": {},
     "output_type": "execute_result"
    }
   ],
   "source": [
    "newcomponents"
   ]
  },
  {
   "cell_type": "code",
   "execution_count": 19,
   "metadata": {
    "collapsed": false
   },
   "outputs": [
    {
     "data": {
      "text/plain": [
       "{'diff': 4022.2801024222204,\n",
       " 'gage': 10157.042423152014,\n",
       " 'geo_log': 59254.577966349949,\n",
       " 'mines': 142158.02094246776,\n",
       " 'synoptic': 10157.287205861232,\n",
       " 'wcrlay1': 152476.8466002752,\n",
       " 'wcrlay2': 142366.36976458202,\n",
       " 'wcrlay3': 220857.24956594262,\n",
       " 'wcrlay4': 10929.980637560682,\n",
       " 'wcrlay5': 44915.929347180572,\n",
       " 'wcrlay6': 18118.724647777275}"
      ]
     },
     "execution_count": 19,
     "metadata": {},
     "output_type": "execute_result"
    }
   ],
   "source": [
    "outpst.phi_components"
   ]
  },
  {
   "cell_type": "code",
   "execution_count": 20,
   "metadata": {
    "collapsed": false
   },
   "outputs": [
    {
     "data": {
      "text/plain": [
       "{'diff': 18505.377186405713,\n",
       " 'gage': 92526.885932028541,\n",
       " 'geo_log': 46263.44296601427,\n",
       " 'mines': 46263.44296601427,\n",
       " 'synoptic': 115658.60741503572,\n",
       " 'wcrlay1': 27758.065779608565,\n",
       " 'wcrlay2': 18505.377186405713,\n",
       " 'wcrlay3': 27758.065779608565,\n",
       " 'wcrlay4': 32384.410076209992,\n",
       " 'wcrlay5': 18505.377186405705,\n",
       " 'wcrlay6': 18505.377186405705}"
      ]
     },
     "execution_count": 20,
     "metadata": {},
     "output_type": "execute_result"
    }
   ],
   "source": [
    "outpst.adjust_weights(obsgrp_dict=newcomponents)\n",
    "outpst.phi_components\n"
   ]
  },
  {
   "cell_type": "code",
   "execution_count": 27,
   "metadata": {
    "collapsed": false
   },
   "outputs": [],
   "source": [
    "outpst.parameter_data.set_value('hk_33', 'parubnd', 4.0)\n",
    "outpst.parameter_data.set_value('hk_44', 'parubnd', 30.0)\n",
    "outpst.parameter_data.set_value('hk_44', 'parlbnd', 4.0)\n",
    "outpst.parameter_data.set_value('hk_66', 'parubnd', 30.0)\n",
    "outpst.parameter_data.set_value('hk_66', 'parlbnd', 1.0)\n",
    "\n",
    "[outpst.parameter_data.set_value(i, 'parlbnd', 1.0) for i in outpst.parameter_data.parnme if 'hkp6_' in i ]\n",
    "[outpst.parameter_data.set_value(i, 'parlbnd', 4.0) for i in outpst.parameter_data.parnme if 'hkp4_' in i ]\n",
    "[outpst.parameter_data.set_value(i, 'parubnd', 30.0) for i in outpst.parameter_data.parnme if 'hkp4_' in i ]\n",
    "[outpst.parameter_data.set_value(i, 'parubnd', 30.0) for i in outpst.parameter_data.parnme if 'hkp6_' in i ]\n",
    "\n",
    "outpst.observation_data.set_value('csc-b5','weight',0)\n",
    "outpst.observation_data.set_value('sss-cul-hc','weight',0)\n",
    "[outpst.observation_data.set_value(i,'weight',0) for i in drop_wells];\n",
    "\n",
    "cthresh = 10\n",
    "for cn in WCRdf.index:\n",
    "    cv = WCRdf.loc[cn].values[0]\n",
    "    if cv > cthresh:\n",
    "        outpst.observation_data.set_value(cn,'weight',0)\n",
    "    if cn in new_head_weights.index:\n",
    "        outpst.observation_data.set_value(cn,'weight',new_head_weights.loc[cn])\n"
   ]
  },
  {
   "cell_type": "code",
   "execution_count": 28,
   "metadata": {
    "collapsed": false
   },
   "outputs": [
    {
     "data": {
      "text/html": [
       "<div>\n",
       "<table border=\"1\" class=\"dataframe\">\n",
       "  <thead>\n",
       "    <tr style=\"text-align: right;\">\n",
       "      <th></th>\n",
       "      <th>parnme</th>\n",
       "      <th>partrans</th>\n",
       "      <th>parchglim</th>\n",
       "      <th>parval1</th>\n",
       "      <th>parlbnd</th>\n",
       "      <th>parubnd</th>\n",
       "      <th>pargp</th>\n",
       "      <th>scale</th>\n",
       "      <th>offset</th>\n",
       "      <th>dercom</th>\n",
       "    </tr>\n",
       "    <tr>\n",
       "      <th>parnme</th>\n",
       "      <th></th>\n",
       "      <th></th>\n",
       "      <th></th>\n",
       "      <th></th>\n",
       "      <th></th>\n",
       "      <th></th>\n",
       "      <th></th>\n",
       "      <th></th>\n",
       "      <th></th>\n",
       "      <th></th>\n",
       "    </tr>\n",
       "  </thead>\n",
       "  <tbody>\n",
       "    <tr>\n",
       "      <th>hk_2</th>\n",
       "      <td>hk_2</td>\n",
       "      <td>log</td>\n",
       "      <td>factor</td>\n",
       "      <td>5.000000</td>\n",
       "      <td>2.000</td>\n",
       "      <td>20.0</td>\n",
       "      <td>hk</td>\n",
       "      <td>1.0</td>\n",
       "      <td>0.0</td>\n",
       "      <td>1</td>\n",
       "    </tr>\n",
       "    <tr>\n",
       "      <th>vk_2</th>\n",
       "      <td>vk_2</td>\n",
       "      <td>log</td>\n",
       "      <td>factor</td>\n",
       "      <td>0.304882</td>\n",
       "      <td>0.100</td>\n",
       "      <td>2.0</td>\n",
       "      <td>vk</td>\n",
       "      <td>1.0</td>\n",
       "      <td>0.0</td>\n",
       "      <td>1</td>\n",
       "    </tr>\n",
       "    <tr>\n",
       "      <th>hk_33</th>\n",
       "      <td>hk_33</td>\n",
       "      <td>log</td>\n",
       "      <td>factor</td>\n",
       "      <td>4.000000</td>\n",
       "      <td>0.100</td>\n",
       "      <td>4.0</td>\n",
       "      <td>hk</td>\n",
       "      <td>1.0</td>\n",
       "      <td>0.0</td>\n",
       "      <td>1</td>\n",
       "    </tr>\n",
       "    <tr>\n",
       "      <th>vk_33</th>\n",
       "      <td>vk_33</td>\n",
       "      <td>log</td>\n",
       "      <td>factor</td>\n",
       "      <td>0.005000</td>\n",
       "      <td>0.001</td>\n",
       "      <td>0.5</td>\n",
       "      <td>vk</td>\n",
       "      <td>1.0</td>\n",
       "      <td>0.0</td>\n",
       "      <td>1</td>\n",
       "    </tr>\n",
       "    <tr>\n",
       "      <th>hk_44</th>\n",
       "      <td>hk_44</td>\n",
       "      <td>log</td>\n",
       "      <td>factor</td>\n",
       "      <td>20.000000</td>\n",
       "      <td>4.000</td>\n",
       "      <td>30.0</td>\n",
       "      <td>hk</td>\n",
       "      <td>1.0</td>\n",
       "      <td>0.0</td>\n",
       "      <td>1</td>\n",
       "    </tr>\n",
       "    <tr>\n",
       "      <th>vk_44</th>\n",
       "      <td>vk_44</td>\n",
       "      <td>log</td>\n",
       "      <td>factor</td>\n",
       "      <td>0.500000</td>\n",
       "      <td>0.010</td>\n",
       "      <td>2.0</td>\n",
       "      <td>vk</td>\n",
       "      <td>1.0</td>\n",
       "      <td>0.0</td>\n",
       "      <td>1</td>\n",
       "    </tr>\n",
       "    <tr>\n",
       "      <th>hk_55</th>\n",
       "      <td>hk_55</td>\n",
       "      <td>log</td>\n",
       "      <td>factor</td>\n",
       "      <td>0.798598</td>\n",
       "      <td>0.100</td>\n",
       "      <td>4.0</td>\n",
       "      <td>hk</td>\n",
       "      <td>1.0</td>\n",
       "      <td>0.0</td>\n",
       "      <td>1</td>\n",
       "    </tr>\n",
       "    <tr>\n",
       "      <th>vk_55</th>\n",
       "      <td>vk_55</td>\n",
       "      <td>log</td>\n",
       "      <td>factor</td>\n",
       "      <td>0.002302</td>\n",
       "      <td>0.001</td>\n",
       "      <td>0.5</td>\n",
       "      <td>vk</td>\n",
       "      <td>1.0</td>\n",
       "      <td>0.0</td>\n",
       "      <td>1</td>\n",
       "    </tr>\n",
       "    <tr>\n",
       "      <th>hk_66</th>\n",
       "      <td>hk_66</td>\n",
       "      <td>log</td>\n",
       "      <td>factor</td>\n",
       "      <td>5.000000</td>\n",
       "      <td>1.000</td>\n",
       "      <td>30.0</td>\n",
       "      <td>hk</td>\n",
       "      <td>1.0</td>\n",
       "      <td>0.0</td>\n",
       "      <td>1</td>\n",
       "    </tr>\n",
       "    <tr>\n",
       "      <th>vk_66</th>\n",
       "      <td>vk_66</td>\n",
       "      <td>log</td>\n",
       "      <td>factor</td>\n",
       "      <td>0.290829</td>\n",
       "      <td>0.100</td>\n",
       "      <td>2.0</td>\n",
       "      <td>vk</td>\n",
       "      <td>1.0</td>\n",
       "      <td>0.0</td>\n",
       "      <td>1</td>\n",
       "    </tr>\n",
       "    <tr>\n",
       "      <th>rmult_______</th>\n",
       "      <td>rmult_______</td>\n",
       "      <td>log</td>\n",
       "      <td>factor</td>\n",
       "      <td>1.046528</td>\n",
       "      <td>0.800</td>\n",
       "      <td>1.2</td>\n",
       "      <td>rch</td>\n",
       "      <td>1.0</td>\n",
       "      <td>0.0</td>\n",
       "      <td>1</td>\n",
       "    </tr>\n",
       "    <tr>\n",
       "      <th>sfr_kmult</th>\n",
       "      <td>sfr_kmult</td>\n",
       "      <td>log</td>\n",
       "      <td>factor</td>\n",
       "      <td>0.020000</td>\n",
       "      <td>0.001</td>\n",
       "      <td>10.0</td>\n",
       "      <td>vk</td>\n",
       "      <td>1.0</td>\n",
       "      <td>0.0</td>\n",
       "      <td>1</td>\n",
       "    </tr>\n",
       "    <tr>\n",
       "      <th>hkp1_1</th>\n",
       "      <td>hkp1_1</td>\n",
       "      <td>log</td>\n",
       "      <td>factor</td>\n",
       "      <td>23.867847</td>\n",
       "      <td>1.000</td>\n",
       "      <td>150.0</td>\n",
       "      <td>hk_pp</td>\n",
       "      <td>1.0</td>\n",
       "      <td>0.0</td>\n",
       "      <td>1</td>\n",
       "    </tr>\n",
       "    <tr>\n",
       "      <th>hkp1_2</th>\n",
       "      <td>hkp1_2</td>\n",
       "      <td>log</td>\n",
       "      <td>factor</td>\n",
       "      <td>23.867847</td>\n",
       "      <td>1.000</td>\n",
       "      <td>150.0</td>\n",
       "      <td>hk_pp</td>\n",
       "      <td>1.0</td>\n",
       "      <td>0.0</td>\n",
       "      <td>1</td>\n",
       "    </tr>\n",
       "    <tr>\n",
       "      <th>hkp1_3</th>\n",
       "      <td>hkp1_3</td>\n",
       "      <td>log</td>\n",
       "      <td>factor</td>\n",
       "      <td>23.867847</td>\n",
       "      <td>1.000</td>\n",
       "      <td>150.0</td>\n",
       "      <td>hk_pp</td>\n",
       "      <td>1.0</td>\n",
       "      <td>0.0</td>\n",
       "      <td>1</td>\n",
       "    </tr>\n",
       "    <tr>\n",
       "      <th>hkp1_4</th>\n",
       "      <td>hkp1_4</td>\n",
       "      <td>log</td>\n",
       "      <td>factor</td>\n",
       "      <td>23.867847</td>\n",
       "      <td>1.000</td>\n",
       "      <td>150.0</td>\n",
       "      <td>hk_pp</td>\n",
       "      <td>1.0</td>\n",
       "      <td>0.0</td>\n",
       "      <td>1</td>\n",
       "    </tr>\n",
       "    <tr>\n",
       "      <th>hkp1_5</th>\n",
       "      <td>hkp1_5</td>\n",
       "      <td>log</td>\n",
       "      <td>factor</td>\n",
       "      <td>23.867847</td>\n",
       "      <td>1.000</td>\n",
       "      <td>150.0</td>\n",
       "      <td>hk_pp</td>\n",
       "      <td>1.0</td>\n",
       "      <td>0.0</td>\n",
       "      <td>1</td>\n",
       "    </tr>\n",
       "    <tr>\n",
       "      <th>hkp1_6</th>\n",
       "      <td>hkp1_6</td>\n",
       "      <td>log</td>\n",
       "      <td>factor</td>\n",
       "      <td>23.867847</td>\n",
       "      <td>1.000</td>\n",
       "      <td>150.0</td>\n",
       "      <td>hk_pp</td>\n",
       "      <td>1.0</td>\n",
       "      <td>0.0</td>\n",
       "      <td>1</td>\n",
       "    </tr>\n",
       "    <tr>\n",
       "      <th>hkp1_7</th>\n",
       "      <td>hkp1_7</td>\n",
       "      <td>log</td>\n",
       "      <td>factor</td>\n",
       "      <td>23.867847</td>\n",
       "      <td>1.000</td>\n",
       "      <td>150.0</td>\n",
       "      <td>hk_pp</td>\n",
       "      <td>1.0</td>\n",
       "      <td>0.0</td>\n",
       "      <td>1</td>\n",
       "    </tr>\n",
       "    <tr>\n",
       "      <th>hkp1_8</th>\n",
       "      <td>hkp1_8</td>\n",
       "      <td>log</td>\n",
       "      <td>factor</td>\n",
       "      <td>23.867847</td>\n",
       "      <td>1.000</td>\n",
       "      <td>150.0</td>\n",
       "      <td>hk_pp</td>\n",
       "      <td>1.0</td>\n",
       "      <td>0.0</td>\n",
       "      <td>1</td>\n",
       "    </tr>\n",
       "    <tr>\n",
       "      <th>hkp1_9</th>\n",
       "      <td>hkp1_9</td>\n",
       "      <td>log</td>\n",
       "      <td>factor</td>\n",
       "      <td>23.867847</td>\n",
       "      <td>1.000</td>\n",
       "      <td>150.0</td>\n",
       "      <td>hk_pp</td>\n",
       "      <td>1.0</td>\n",
       "      <td>0.0</td>\n",
       "      <td>1</td>\n",
       "    </tr>\n",
       "    <tr>\n",
       "      <th>hkp1_10</th>\n",
       "      <td>hkp1_10</td>\n",
       "      <td>log</td>\n",
       "      <td>factor</td>\n",
       "      <td>23.867847</td>\n",
       "      <td>1.000</td>\n",
       "      <td>150.0</td>\n",
       "      <td>hk_pp</td>\n",
       "      <td>1.0</td>\n",
       "      <td>0.0</td>\n",
       "      <td>1</td>\n",
       "    </tr>\n",
       "    <tr>\n",
       "      <th>hkp1_11</th>\n",
       "      <td>hkp1_11</td>\n",
       "      <td>log</td>\n",
       "      <td>factor</td>\n",
       "      <td>23.867847</td>\n",
       "      <td>1.000</td>\n",
       "      <td>150.0</td>\n",
       "      <td>hk_pp</td>\n",
       "      <td>1.0</td>\n",
       "      <td>0.0</td>\n",
       "      <td>1</td>\n",
       "    </tr>\n",
       "    <tr>\n",
       "      <th>hkp1_12</th>\n",
       "      <td>hkp1_12</td>\n",
       "      <td>log</td>\n",
       "      <td>factor</td>\n",
       "      <td>23.867847</td>\n",
       "      <td>1.000</td>\n",
       "      <td>150.0</td>\n",
       "      <td>hk_pp</td>\n",
       "      <td>1.0</td>\n",
       "      <td>0.0</td>\n",
       "      <td>1</td>\n",
       "    </tr>\n",
       "    <tr>\n",
       "      <th>hkp1_13</th>\n",
       "      <td>hkp1_13</td>\n",
       "      <td>log</td>\n",
       "      <td>factor</td>\n",
       "      <td>23.867847</td>\n",
       "      <td>1.000</td>\n",
       "      <td>150.0</td>\n",
       "      <td>hk_pp</td>\n",
       "      <td>1.0</td>\n",
       "      <td>0.0</td>\n",
       "      <td>1</td>\n",
       "    </tr>\n",
       "    <tr>\n",
       "      <th>hkp1_14</th>\n",
       "      <td>hkp1_14</td>\n",
       "      <td>log</td>\n",
       "      <td>factor</td>\n",
       "      <td>23.867847</td>\n",
       "      <td>1.000</td>\n",
       "      <td>150.0</td>\n",
       "      <td>hk_pp</td>\n",
       "      <td>1.0</td>\n",
       "      <td>0.0</td>\n",
       "      <td>1</td>\n",
       "    </tr>\n",
       "    <tr>\n",
       "      <th>hkp1_15</th>\n",
       "      <td>hkp1_15</td>\n",
       "      <td>log</td>\n",
       "      <td>factor</td>\n",
       "      <td>23.867847</td>\n",
       "      <td>1.000</td>\n",
       "      <td>150.0</td>\n",
       "      <td>hk_pp</td>\n",
       "      <td>1.0</td>\n",
       "      <td>0.0</td>\n",
       "      <td>1</td>\n",
       "    </tr>\n",
       "    <tr>\n",
       "      <th>hkp1_16</th>\n",
       "      <td>hkp1_16</td>\n",
       "      <td>log</td>\n",
       "      <td>factor</td>\n",
       "      <td>23.867847</td>\n",
       "      <td>1.000</td>\n",
       "      <td>150.0</td>\n",
       "      <td>hk_pp</td>\n",
       "      <td>1.0</td>\n",
       "      <td>0.0</td>\n",
       "      <td>1</td>\n",
       "    </tr>\n",
       "    <tr>\n",
       "      <th>hkp1_17</th>\n",
       "      <td>hkp1_17</td>\n",
       "      <td>log</td>\n",
       "      <td>factor</td>\n",
       "      <td>23.867847</td>\n",
       "      <td>1.000</td>\n",
       "      <td>150.0</td>\n",
       "      <td>hk_pp</td>\n",
       "      <td>1.0</td>\n",
       "      <td>0.0</td>\n",
       "      <td>1</td>\n",
       "    </tr>\n",
       "    <tr>\n",
       "      <th>hkp1_18</th>\n",
       "      <td>hkp1_18</td>\n",
       "      <td>log</td>\n",
       "      <td>factor</td>\n",
       "      <td>23.867847</td>\n",
       "      <td>1.000</td>\n",
       "      <td>150.0</td>\n",
       "      <td>hk_pp</td>\n",
       "      <td>1.0</td>\n",
       "      <td>0.0</td>\n",
       "      <td>1</td>\n",
       "    </tr>\n",
       "    <tr>\n",
       "      <th>...</th>\n",
       "      <td>...</td>\n",
       "      <td>...</td>\n",
       "      <td>...</td>\n",
       "      <td>...</td>\n",
       "      <td>...</td>\n",
       "      <td>...</td>\n",
       "      <td>...</td>\n",
       "      <td>...</td>\n",
       "      <td>...</td>\n",
       "      <td>...</td>\n",
       "    </tr>\n",
       "    <tr>\n",
       "      <th>vkp5_44</th>\n",
       "      <td>vkp5_44</td>\n",
       "      <td>log</td>\n",
       "      <td>factor</td>\n",
       "      <td>0.002302</td>\n",
       "      <td>0.001</td>\n",
       "      <td>0.5</td>\n",
       "      <td>vk_pp</td>\n",
       "      <td>1.0</td>\n",
       "      <td>0.0</td>\n",
       "      <td>1</td>\n",
       "    </tr>\n",
       "    <tr>\n",
       "      <th>vkp5_45</th>\n",
       "      <td>vkp5_45</td>\n",
       "      <td>log</td>\n",
       "      <td>factor</td>\n",
       "      <td>0.002302</td>\n",
       "      <td>0.001</td>\n",
       "      <td>0.5</td>\n",
       "      <td>vk_pp</td>\n",
       "      <td>1.0</td>\n",
       "      <td>0.0</td>\n",
       "      <td>1</td>\n",
       "    </tr>\n",
       "    <tr>\n",
       "      <th>vkp5_46</th>\n",
       "      <td>vkp5_46</td>\n",
       "      <td>log</td>\n",
       "      <td>factor</td>\n",
       "      <td>0.002302</td>\n",
       "      <td>0.001</td>\n",
       "      <td>0.5</td>\n",
       "      <td>vk_pp</td>\n",
       "      <td>1.0</td>\n",
       "      <td>0.0</td>\n",
       "      <td>1</td>\n",
       "    </tr>\n",
       "    <tr>\n",
       "      <th>vkp5_47</th>\n",
       "      <td>vkp5_47</td>\n",
       "      <td>log</td>\n",
       "      <td>factor</td>\n",
       "      <td>0.002302</td>\n",
       "      <td>0.001</td>\n",
       "      <td>0.5</td>\n",
       "      <td>vk_pp</td>\n",
       "      <td>1.0</td>\n",
       "      <td>0.0</td>\n",
       "      <td>1</td>\n",
       "    </tr>\n",
       "    <tr>\n",
       "      <th>vkp5_48</th>\n",
       "      <td>vkp5_48</td>\n",
       "      <td>log</td>\n",
       "      <td>factor</td>\n",
       "      <td>0.002302</td>\n",
       "      <td>0.001</td>\n",
       "      <td>0.5</td>\n",
       "      <td>vk_pp</td>\n",
       "      <td>1.0</td>\n",
       "      <td>0.0</td>\n",
       "      <td>1</td>\n",
       "    </tr>\n",
       "    <tr>\n",
       "      <th>vkp5_49</th>\n",
       "      <td>vkp5_49</td>\n",
       "      <td>log</td>\n",
       "      <td>factor</td>\n",
       "      <td>0.002302</td>\n",
       "      <td>0.001</td>\n",
       "      <td>0.5</td>\n",
       "      <td>vk_pp</td>\n",
       "      <td>1.0</td>\n",
       "      <td>0.0</td>\n",
       "      <td>1</td>\n",
       "    </tr>\n",
       "    <tr>\n",
       "      <th>vkp5_50</th>\n",
       "      <td>vkp5_50</td>\n",
       "      <td>log</td>\n",
       "      <td>factor</td>\n",
       "      <td>0.002302</td>\n",
       "      <td>0.001</td>\n",
       "      <td>0.5</td>\n",
       "      <td>vk_pp</td>\n",
       "      <td>1.0</td>\n",
       "      <td>0.0</td>\n",
       "      <td>1</td>\n",
       "    </tr>\n",
       "    <tr>\n",
       "      <th>vkp5_51</th>\n",
       "      <td>vkp5_51</td>\n",
       "      <td>log</td>\n",
       "      <td>factor</td>\n",
       "      <td>0.002302</td>\n",
       "      <td>0.001</td>\n",
       "      <td>0.5</td>\n",
       "      <td>vk_pp</td>\n",
       "      <td>1.0</td>\n",
       "      <td>0.0</td>\n",
       "      <td>1</td>\n",
       "    </tr>\n",
       "    <tr>\n",
       "      <th>vkp6_1</th>\n",
       "      <td>vkp6_1</td>\n",
       "      <td>log</td>\n",
       "      <td>factor</td>\n",
       "      <td>0.500000</td>\n",
       "      <td>0.100</td>\n",
       "      <td>2.0</td>\n",
       "      <td>vk_pp</td>\n",
       "      <td>1.0</td>\n",
       "      <td>0.0</td>\n",
       "      <td>1</td>\n",
       "    </tr>\n",
       "    <tr>\n",
       "      <th>vkp6_2</th>\n",
       "      <td>vkp6_2</td>\n",
       "      <td>log</td>\n",
       "      <td>factor</td>\n",
       "      <td>0.500000</td>\n",
       "      <td>0.100</td>\n",
       "      <td>2.0</td>\n",
       "      <td>vk_pp</td>\n",
       "      <td>1.0</td>\n",
       "      <td>0.0</td>\n",
       "      <td>1</td>\n",
       "    </tr>\n",
       "    <tr>\n",
       "      <th>vkp6_3</th>\n",
       "      <td>vkp6_3</td>\n",
       "      <td>log</td>\n",
       "      <td>factor</td>\n",
       "      <td>0.500000</td>\n",
       "      <td>0.100</td>\n",
       "      <td>2.0</td>\n",
       "      <td>vk_pp</td>\n",
       "      <td>1.0</td>\n",
       "      <td>0.0</td>\n",
       "      <td>1</td>\n",
       "    </tr>\n",
       "    <tr>\n",
       "      <th>vkp6_4</th>\n",
       "      <td>vkp6_4</td>\n",
       "      <td>log</td>\n",
       "      <td>factor</td>\n",
       "      <td>0.500000</td>\n",
       "      <td>0.100</td>\n",
       "      <td>2.0</td>\n",
       "      <td>vk_pp</td>\n",
       "      <td>1.0</td>\n",
       "      <td>0.0</td>\n",
       "      <td>1</td>\n",
       "    </tr>\n",
       "    <tr>\n",
       "      <th>vkp6_5</th>\n",
       "      <td>vkp6_5</td>\n",
       "      <td>log</td>\n",
       "      <td>factor</td>\n",
       "      <td>0.500000</td>\n",
       "      <td>0.100</td>\n",
       "      <td>2.0</td>\n",
       "      <td>vk_pp</td>\n",
       "      <td>1.0</td>\n",
       "      <td>0.0</td>\n",
       "      <td>1</td>\n",
       "    </tr>\n",
       "    <tr>\n",
       "      <th>vkp6_6</th>\n",
       "      <td>vkp6_6</td>\n",
       "      <td>log</td>\n",
       "      <td>factor</td>\n",
       "      <td>0.500000</td>\n",
       "      <td>0.100</td>\n",
       "      <td>2.0</td>\n",
       "      <td>vk_pp</td>\n",
       "      <td>1.0</td>\n",
       "      <td>0.0</td>\n",
       "      <td>1</td>\n",
       "    </tr>\n",
       "    <tr>\n",
       "      <th>vkp6_7</th>\n",
       "      <td>vkp6_7</td>\n",
       "      <td>log</td>\n",
       "      <td>factor</td>\n",
       "      <td>0.500000</td>\n",
       "      <td>0.100</td>\n",
       "      <td>2.0</td>\n",
       "      <td>vk_pp</td>\n",
       "      <td>1.0</td>\n",
       "      <td>0.0</td>\n",
       "      <td>1</td>\n",
       "    </tr>\n",
       "    <tr>\n",
       "      <th>vkp6_8</th>\n",
       "      <td>vkp6_8</td>\n",
       "      <td>log</td>\n",
       "      <td>factor</td>\n",
       "      <td>0.500000</td>\n",
       "      <td>0.100</td>\n",
       "      <td>2.0</td>\n",
       "      <td>vk_pp</td>\n",
       "      <td>1.0</td>\n",
       "      <td>0.0</td>\n",
       "      <td>1</td>\n",
       "    </tr>\n",
       "    <tr>\n",
       "      <th>vkp6_9</th>\n",
       "      <td>vkp6_9</td>\n",
       "      <td>log</td>\n",
       "      <td>factor</td>\n",
       "      <td>0.500000</td>\n",
       "      <td>0.100</td>\n",
       "      <td>2.0</td>\n",
       "      <td>vk_pp</td>\n",
       "      <td>1.0</td>\n",
       "      <td>0.0</td>\n",
       "      <td>1</td>\n",
       "    </tr>\n",
       "    <tr>\n",
       "      <th>vkp6_10</th>\n",
       "      <td>vkp6_10</td>\n",
       "      <td>log</td>\n",
       "      <td>factor</td>\n",
       "      <td>0.500000</td>\n",
       "      <td>0.100</td>\n",
       "      <td>2.0</td>\n",
       "      <td>vk_pp</td>\n",
       "      <td>1.0</td>\n",
       "      <td>0.0</td>\n",
       "      <td>1</td>\n",
       "    </tr>\n",
       "    <tr>\n",
       "      <th>vkp6_11</th>\n",
       "      <td>vkp6_11</td>\n",
       "      <td>log</td>\n",
       "      <td>factor</td>\n",
       "      <td>0.500000</td>\n",
       "      <td>0.100</td>\n",
       "      <td>2.0</td>\n",
       "      <td>vk_pp</td>\n",
       "      <td>1.0</td>\n",
       "      <td>0.0</td>\n",
       "      <td>1</td>\n",
       "    </tr>\n",
       "    <tr>\n",
       "      <th>vkp6_12</th>\n",
       "      <td>vkp6_12</td>\n",
       "      <td>log</td>\n",
       "      <td>factor</td>\n",
       "      <td>0.500000</td>\n",
       "      <td>0.100</td>\n",
       "      <td>2.0</td>\n",
       "      <td>vk_pp</td>\n",
       "      <td>1.0</td>\n",
       "      <td>0.0</td>\n",
       "      <td>1</td>\n",
       "    </tr>\n",
       "    <tr>\n",
       "      <th>vkp6_13</th>\n",
       "      <td>vkp6_13</td>\n",
       "      <td>log</td>\n",
       "      <td>factor</td>\n",
       "      <td>0.500000</td>\n",
       "      <td>0.100</td>\n",
       "      <td>2.0</td>\n",
       "      <td>vk_pp</td>\n",
       "      <td>1.0</td>\n",
       "      <td>0.0</td>\n",
       "      <td>1</td>\n",
       "    </tr>\n",
       "    <tr>\n",
       "      <th>vkp6_14</th>\n",
       "      <td>vkp6_14</td>\n",
       "      <td>log</td>\n",
       "      <td>factor</td>\n",
       "      <td>0.500000</td>\n",
       "      <td>0.100</td>\n",
       "      <td>2.0</td>\n",
       "      <td>vk_pp</td>\n",
       "      <td>1.0</td>\n",
       "      <td>0.0</td>\n",
       "      <td>1</td>\n",
       "    </tr>\n",
       "    <tr>\n",
       "      <th>vkp6_15</th>\n",
       "      <td>vkp6_15</td>\n",
       "      <td>log</td>\n",
       "      <td>factor</td>\n",
       "      <td>0.500000</td>\n",
       "      <td>0.100</td>\n",
       "      <td>2.0</td>\n",
       "      <td>vk_pp</td>\n",
       "      <td>1.0</td>\n",
       "      <td>0.0</td>\n",
       "      <td>1</td>\n",
       "    </tr>\n",
       "    <tr>\n",
       "      <th>vkp6_16</th>\n",
       "      <td>vkp6_16</td>\n",
       "      <td>log</td>\n",
       "      <td>factor</td>\n",
       "      <td>0.500000</td>\n",
       "      <td>0.100</td>\n",
       "      <td>2.0</td>\n",
       "      <td>vk_pp</td>\n",
       "      <td>1.0</td>\n",
       "      <td>0.0</td>\n",
       "      <td>1</td>\n",
       "    </tr>\n",
       "    <tr>\n",
       "      <th>vkp6_17</th>\n",
       "      <td>vkp6_17</td>\n",
       "      <td>log</td>\n",
       "      <td>factor</td>\n",
       "      <td>0.500000</td>\n",
       "      <td>0.100</td>\n",
       "      <td>2.0</td>\n",
       "      <td>vk_pp</td>\n",
       "      <td>1.0</td>\n",
       "      <td>0.0</td>\n",
       "      <td>1</td>\n",
       "    </tr>\n",
       "    <tr>\n",
       "      <th>vkp6_18</th>\n",
       "      <td>vkp6_18</td>\n",
       "      <td>log</td>\n",
       "      <td>factor</td>\n",
       "      <td>0.500000</td>\n",
       "      <td>0.100</td>\n",
       "      <td>2.0</td>\n",
       "      <td>vk_pp</td>\n",
       "      <td>1.0</td>\n",
       "      <td>0.0</td>\n",
       "      <td>1</td>\n",
       "    </tr>\n",
       "    <tr>\n",
       "      <th>vkp6_19</th>\n",
       "      <td>vkp6_19</td>\n",
       "      <td>log</td>\n",
       "      <td>factor</td>\n",
       "      <td>0.500000</td>\n",
       "      <td>0.100</td>\n",
       "      <td>2.0</td>\n",
       "      <td>vk_pp</td>\n",
       "      <td>1.0</td>\n",
       "      <td>0.0</td>\n",
       "      <td>1</td>\n",
       "    </tr>\n",
       "    <tr>\n",
       "      <th>vkp6_20</th>\n",
       "      <td>vkp6_20</td>\n",
       "      <td>log</td>\n",
       "      <td>factor</td>\n",
       "      <td>0.500000</td>\n",
       "      <td>0.100</td>\n",
       "      <td>2.0</td>\n",
       "      <td>vk_pp</td>\n",
       "      <td>1.0</td>\n",
       "      <td>0.0</td>\n",
       "      <td>1</td>\n",
       "    </tr>\n",
       "    <tr>\n",
       "      <th>vkp6_21</th>\n",
       "      <td>vkp6_21</td>\n",
       "      <td>log</td>\n",
       "      <td>factor</td>\n",
       "      <td>0.500000</td>\n",
       "      <td>0.100</td>\n",
       "      <td>2.0</td>\n",
       "      <td>vk_pp</td>\n",
       "      <td>1.0</td>\n",
       "      <td>0.0</td>\n",
       "      <td>1</td>\n",
       "    </tr>\n",
       "    <tr>\n",
       "      <th>vkp6_22</th>\n",
       "      <td>vkp6_22</td>\n",
       "      <td>log</td>\n",
       "      <td>factor</td>\n",
       "      <td>0.500000</td>\n",
       "      <td>0.100</td>\n",
       "      <td>2.0</td>\n",
       "      <td>vk_pp</td>\n",
       "      <td>1.0</td>\n",
       "      <td>0.0</td>\n",
       "      <td>1</td>\n",
       "    </tr>\n",
       "  </tbody>\n",
       "</table>\n",
       "<p>586 rows × 10 columns</p>\n",
       "</div>"
      ],
      "text/plain": [
       "                    parnme partrans parchglim    parval1  parlbnd  parubnd  \\\n",
       "parnme                                                                       \n",
       "hk_2                  hk_2      log    factor   5.000000    2.000     20.0   \n",
       "vk_2                  vk_2      log    factor   0.304882    0.100      2.0   \n",
       "hk_33                hk_33      log    factor   4.000000    0.100      4.0   \n",
       "vk_33                vk_33      log    factor   0.005000    0.001      0.5   \n",
       "hk_44                hk_44      log    factor  20.000000    4.000     30.0   \n",
       "vk_44                vk_44      log    factor   0.500000    0.010      2.0   \n",
       "hk_55                hk_55      log    factor   0.798598    0.100      4.0   \n",
       "vk_55                vk_55      log    factor   0.002302    0.001      0.5   \n",
       "hk_66                hk_66      log    factor   5.000000    1.000     30.0   \n",
       "vk_66                vk_66      log    factor   0.290829    0.100      2.0   \n",
       "rmult_______  rmult_______      log    factor   1.046528    0.800      1.2   \n",
       "sfr_kmult        sfr_kmult      log    factor   0.020000    0.001     10.0   \n",
       "hkp1_1              hkp1_1      log    factor  23.867847    1.000    150.0   \n",
       "hkp1_2              hkp1_2      log    factor  23.867847    1.000    150.0   \n",
       "hkp1_3              hkp1_3      log    factor  23.867847    1.000    150.0   \n",
       "hkp1_4              hkp1_4      log    factor  23.867847    1.000    150.0   \n",
       "hkp1_5              hkp1_5      log    factor  23.867847    1.000    150.0   \n",
       "hkp1_6              hkp1_6      log    factor  23.867847    1.000    150.0   \n",
       "hkp1_7              hkp1_7      log    factor  23.867847    1.000    150.0   \n",
       "hkp1_8              hkp1_8      log    factor  23.867847    1.000    150.0   \n",
       "hkp1_9              hkp1_9      log    factor  23.867847    1.000    150.0   \n",
       "hkp1_10            hkp1_10      log    factor  23.867847    1.000    150.0   \n",
       "hkp1_11            hkp1_11      log    factor  23.867847    1.000    150.0   \n",
       "hkp1_12            hkp1_12      log    factor  23.867847    1.000    150.0   \n",
       "hkp1_13            hkp1_13      log    factor  23.867847    1.000    150.0   \n",
       "hkp1_14            hkp1_14      log    factor  23.867847    1.000    150.0   \n",
       "hkp1_15            hkp1_15      log    factor  23.867847    1.000    150.0   \n",
       "hkp1_16            hkp1_16      log    factor  23.867847    1.000    150.0   \n",
       "hkp1_17            hkp1_17      log    factor  23.867847    1.000    150.0   \n",
       "hkp1_18            hkp1_18      log    factor  23.867847    1.000    150.0   \n",
       "...                    ...      ...       ...        ...      ...      ...   \n",
       "vkp5_44            vkp5_44      log    factor   0.002302    0.001      0.5   \n",
       "vkp5_45            vkp5_45      log    factor   0.002302    0.001      0.5   \n",
       "vkp5_46            vkp5_46      log    factor   0.002302    0.001      0.5   \n",
       "vkp5_47            vkp5_47      log    factor   0.002302    0.001      0.5   \n",
       "vkp5_48            vkp5_48      log    factor   0.002302    0.001      0.5   \n",
       "vkp5_49            vkp5_49      log    factor   0.002302    0.001      0.5   \n",
       "vkp5_50            vkp5_50      log    factor   0.002302    0.001      0.5   \n",
       "vkp5_51            vkp5_51      log    factor   0.002302    0.001      0.5   \n",
       "vkp6_1              vkp6_1      log    factor   0.500000    0.100      2.0   \n",
       "vkp6_2              vkp6_2      log    factor   0.500000    0.100      2.0   \n",
       "vkp6_3              vkp6_3      log    factor   0.500000    0.100      2.0   \n",
       "vkp6_4              vkp6_4      log    factor   0.500000    0.100      2.0   \n",
       "vkp6_5              vkp6_5      log    factor   0.500000    0.100      2.0   \n",
       "vkp6_6              vkp6_6      log    factor   0.500000    0.100      2.0   \n",
       "vkp6_7              vkp6_7      log    factor   0.500000    0.100      2.0   \n",
       "vkp6_8              vkp6_8      log    factor   0.500000    0.100      2.0   \n",
       "vkp6_9              vkp6_9      log    factor   0.500000    0.100      2.0   \n",
       "vkp6_10            vkp6_10      log    factor   0.500000    0.100      2.0   \n",
       "vkp6_11            vkp6_11      log    factor   0.500000    0.100      2.0   \n",
       "vkp6_12            vkp6_12      log    factor   0.500000    0.100      2.0   \n",
       "vkp6_13            vkp6_13      log    factor   0.500000    0.100      2.0   \n",
       "vkp6_14            vkp6_14      log    factor   0.500000    0.100      2.0   \n",
       "vkp6_15            vkp6_15      log    factor   0.500000    0.100      2.0   \n",
       "vkp6_16            vkp6_16      log    factor   0.500000    0.100      2.0   \n",
       "vkp6_17            vkp6_17      log    factor   0.500000    0.100      2.0   \n",
       "vkp6_18            vkp6_18      log    factor   0.500000    0.100      2.0   \n",
       "vkp6_19            vkp6_19      log    factor   0.500000    0.100      2.0   \n",
       "vkp6_20            vkp6_20      log    factor   0.500000    0.100      2.0   \n",
       "vkp6_21            vkp6_21      log    factor   0.500000    0.100      2.0   \n",
       "vkp6_22            vkp6_22      log    factor   0.500000    0.100      2.0   \n",
       "\n",
       "              pargp  scale  offset  dercom  \n",
       "parnme                                      \n",
       "hk_2             hk    1.0     0.0       1  \n",
       "vk_2             vk    1.0     0.0       1  \n",
       "hk_33            hk    1.0     0.0       1  \n",
       "vk_33            vk    1.0     0.0       1  \n",
       "hk_44            hk    1.0     0.0       1  \n",
       "vk_44            vk    1.0     0.0       1  \n",
       "hk_55            hk    1.0     0.0       1  \n",
       "vk_55            vk    1.0     0.0       1  \n",
       "hk_66            hk    1.0     0.0       1  \n",
       "vk_66            vk    1.0     0.0       1  \n",
       "rmult_______    rch    1.0     0.0       1  \n",
       "sfr_kmult        vk    1.0     0.0       1  \n",
       "hkp1_1        hk_pp    1.0     0.0       1  \n",
       "hkp1_2        hk_pp    1.0     0.0       1  \n",
       "hkp1_3        hk_pp    1.0     0.0       1  \n",
       "hkp1_4        hk_pp    1.0     0.0       1  \n",
       "hkp1_5        hk_pp    1.0     0.0       1  \n",
       "hkp1_6        hk_pp    1.0     0.0       1  \n",
       "hkp1_7        hk_pp    1.0     0.0       1  \n",
       "hkp1_8        hk_pp    1.0     0.0       1  \n",
       "hkp1_9        hk_pp    1.0     0.0       1  \n",
       "hkp1_10       hk_pp    1.0     0.0       1  \n",
       "hkp1_11       hk_pp    1.0     0.0       1  \n",
       "hkp1_12       hk_pp    1.0     0.0       1  \n",
       "hkp1_13       hk_pp    1.0     0.0       1  \n",
       "hkp1_14       hk_pp    1.0     0.0       1  \n",
       "hkp1_15       hk_pp    1.0     0.0       1  \n",
       "hkp1_16       hk_pp    1.0     0.0       1  \n",
       "hkp1_17       hk_pp    1.0     0.0       1  \n",
       "hkp1_18       hk_pp    1.0     0.0       1  \n",
       "...             ...    ...     ...     ...  \n",
       "vkp5_44       vk_pp    1.0     0.0       1  \n",
       "vkp5_45       vk_pp    1.0     0.0       1  \n",
       "vkp5_46       vk_pp    1.0     0.0       1  \n",
       "vkp5_47       vk_pp    1.0     0.0       1  \n",
       "vkp5_48       vk_pp    1.0     0.0       1  \n",
       "vkp5_49       vk_pp    1.0     0.0       1  \n",
       "vkp5_50       vk_pp    1.0     0.0       1  \n",
       "vkp5_51       vk_pp    1.0     0.0       1  \n",
       "vkp6_1        vk_pp    1.0     0.0       1  \n",
       "vkp6_2        vk_pp    1.0     0.0       1  \n",
       "vkp6_3        vk_pp    1.0     0.0       1  \n",
       "vkp6_4        vk_pp    1.0     0.0       1  \n",
       "vkp6_5        vk_pp    1.0     0.0       1  \n",
       "vkp6_6        vk_pp    1.0     0.0       1  \n",
       "vkp6_7        vk_pp    1.0     0.0       1  \n",
       "vkp6_8        vk_pp    1.0     0.0       1  \n",
       "vkp6_9        vk_pp    1.0     0.0       1  \n",
       "vkp6_10       vk_pp    1.0     0.0       1  \n",
       "vkp6_11       vk_pp    1.0     0.0       1  \n",
       "vkp6_12       vk_pp    1.0     0.0       1  \n",
       "vkp6_13       vk_pp    1.0     0.0       1  \n",
       "vkp6_14       vk_pp    1.0     0.0       1  \n",
       "vkp6_15       vk_pp    1.0     0.0       1  \n",
       "vkp6_16       vk_pp    1.0     0.0       1  \n",
       "vkp6_17       vk_pp    1.0     0.0       1  \n",
       "vkp6_18       vk_pp    1.0     0.0       1  \n",
       "vkp6_19       vk_pp    1.0     0.0       1  \n",
       "vkp6_20       vk_pp    1.0     0.0       1  \n",
       "vkp6_21       vk_pp    1.0     0.0       1  \n",
       "vkp6_22       vk_pp    1.0     0.0       1  \n",
       "\n",
       "[586 rows x 10 columns]"
      ]
     },
     "execution_count": 28,
     "metadata": {},
     "output_type": "execute_result"
    }
   ],
   "source": [
    "outpst.parameter_data"
   ]
  },
  {
   "cell_type": "code",
   "execution_count": 30,
   "metadata": {
    "collapsed": false
   },
   "outputs": [],
   "source": [
    "outpst.regul_lines[0] = '   3.0e+4  3.05e+4    0.1\\n'"
   ]
  },
  {
   "cell_type": "code",
   "execution_count": 31,
   "metadata": {
    "collapsed": false
   },
   "outputs": [],
   "source": [
    "outpst.write(outpstfile)"
   ]
  },
  {
   "cell_type": "code",
   "execution_count": 32,
   "metadata": {
    "collapsed": false
   },
   "outputs": [
    {
     "data": {
      "text/plain": [
       "1.0465281"
      ]
     },
     "execution_count": 32,
     "metadata": {},
     "output_type": "execute_result"
    }
   ],
   "source": [
    "outpst.parameter_data.loc['rmult_______'].parval1"
   ]
  },
  {
   "cell_type": "code",
   "execution_count": null,
   "metadata": {
    "collapsed": false
   },
   "outputs": [],
   "source": []
  },
  {
   "cell_type": "code",
   "execution_count": null,
   "metadata": {
    "collapsed": true
   },
   "outputs": [],
   "source": []
  },
  {
   "cell_type": "code",
   "execution_count": null,
   "metadata": {
    "collapsed": true
   },
   "outputs": [],
   "source": []
  }
 ],
 "metadata": {
  "anaconda-cloud": {},
  "kernelspec": {
   "display_name": "Python 3",
   "language": "python",
   "name": "python3"
  },
  "language_info": {
   "codemirror_mode": {
    "name": "ipython",
    "version": 3
   },
   "file_extension": ".py",
   "mimetype": "text/x-python",
   "name": "python",
   "nbconvert_exporter": "python",
   "pygments_lexer": "ipython3",
   "version": "3.5.2"
  }
 },
 "nbformat": 4,
 "nbformat_minor": 1
}
