{
 "cells": [
  {
   "cell_type": "markdown",
   "metadata": {},
   "source": [
    "<img src=\"PEST++V3_cover.jpeg\" style=\"float: left\">\n",
    "\n",
    "<img src=\"flopylogo.png\" style=\"float: right\">\n",
    "\n",
    "<img src=\"AW&H2015.png\" style=\"float: center\">\n",
    "\n",
    "# History match the Freyberg model adding a ``RCH`` parameter to our ``K`` parameter\n",
    "\n",
    "### Remember that when something is not included in the uncertainty analysis it is the same as saying that we know it perfectly.  Recharge is hard to measure accurately in the field, and difficult to upscale to a model domain.  So, we clearly don't know it perfectly and, therefore, typically include it in the parameter estimation process.  That's what we'll do in this exercise. \n"
   ]
  },
  {
   "cell_type": "markdown",
   "metadata": {},
   "source": [
    "# Quick reminder of what the model looks like:\n",
    "\n",
    "It is a heterogenous 2D areal (1-layer) model that is a step up in complexity from our xsec model. Recall it looks like this, as shown in the original Freyberg (1988) paper on the left, and a Groundwater Vistas version on the right (from the file in the GW_Vistas subdirectory).   \n",
    "\n",
    "<img src=\"Freyburg1988_fig1.png\" style=\"float: left\">\n",
    "\n",
    "<img src=\"Freyberg_k_plot_GW_Vistas.png\" style=\"float: right\">"
   ]
  },
  {
   "cell_type": "markdown",
   "metadata": {},
   "source": [
    "### Standard two code blocks to set the notebook up"
   ]
  },
  {
   "cell_type": "code",
   "execution_count": 1,
   "metadata": {
    "collapsed": true
   },
   "outputs": [],
   "source": [
    "%matplotlib inline\n",
    "import os\n",
    "import sys\n",
    "sys.path.append(\"..\")\n",
    "import shutil\n",
    "import pandas as pd\n",
    "import matplotlib.pyplot as plt\n",
    "import pyemu"
   ]
  },
  {
   "cell_type": "code",
   "execution_count": 2,
   "metadata": {},
   "outputs": [
    {
     "name": "stdout",
     "output_type": "stream",
     "text": [
      "['botm.ref', 'extract_zone_array.py', 'forecasts_true.csv', 'freyberg.bas', 'freyberg.dbf', 'freyberg.dis', 'freyberg.hds', 'freyberg.heads', 'freyberg.heads_potobs.ins', 'freyberg.hyd', 'freyberg.list', 'freyberg.locations', 'freyberg.mpbas', 'freyberg.mpenpt', 'freyberg.mplist', 'freyberg.mpnam', 'freyberg.mppthln', 'freyberg.mpsim', 'freyberg.oc', 'freyberg.pcg', 'freyberg.rivflux', 'freyberg.shp', 'freyberg.shx', 'freyberg.travel', 'freyberg.truth.lpf', 'freyberg.truth.nam', 'freyberg.truth.rch', 'freyberg.truth.riv', 'freyberg.truth.wel', 'hk.truth.ref', 'hk.zones', 'ibound.ref', 'kzone.ref', 'mpath.in', 'obs_loc.csv', 'potobs_group.csv', 'Process_output.py', 'run_true_model.py', 'strt.ref', 'Weights_and_best_PHI.xlsx']\n",
      "\n",
      "changing model workspace...\n",
      "   freyberg_kr\n",
      "WARNING: unit 31 of package UPW already in use\n",
      "FloPy is using the following executable to run the model: /Users/rjhunt1/GW1876-2/activities/freyberg_k_and_r/freyberg_kr/mfnwt\n",
      "\n",
      "                                  MODFLOW-NWT-SWR1 \n",
      "    U.S. GEOLOGICAL SURVEY MODULAR FINITE-DIFFERENCE GROUNDWATER-FLOW MODEL\n",
      "                             WITH NEWTON FORMULATION\n",
      "                             Version 1.1.1, 7/21/2016                        \n",
      "                    BASED ON MODFLOW-2005 Version 1.11.0 08/08/2013                       \n",
      "\n",
      "                    SWR1 Version 1.04.0 07/21/2016                       \n",
      "\n",
      " Using NAME file: freyberg.nam \n",
      " Run start date and time (yyyy/mm/dd hh:mm:ss): 2017/09/10 13:29:04\n",
      "\n",
      " Solving:  Stress period:     1    Time step:     1    Groundwater-Flow Eqn.\n",
      " Solving:  Stress period:     2    Time step:     1    Groundwater-Flow Eqn.\n",
      " Solving:  Stress period:     3    Time step:     1    Groundwater-Flow Eqn.\n",
      " Run end date and time (yyyy/mm/dd hh:mm:ss): 2017/09/10 13:29:04\n",
      " Elapsed run time:  0.025 Seconds\n",
      "\n",
      "  Normal termination of simulation\n",
      "run():./mp6 freyberg.mpsim\n",
      "Util2d:delr: resetting 'how' to external\n",
      "Util2d:delc: resetting 'how' to external\n",
      "Util2d:model_top: resetting 'how' to external\n",
      "Util2d:botm_layer_0: resetting 'how' to external\n",
      "Util2d:ibound_layer_0: resetting 'how' to external\n",
      "Util2d:strt_layer_0: resetting 'how' to external\n",
      "Util2d:rech_1: resetting 'how' to external\n",
      "Util2d:rech_2: resetting 'how' to external\n",
      "Util2d:rech_3: resetting 'how' to external\n",
      "Util2d:hk layer 1: resetting 'how' to external\n",
      "Util2d:vk: resetting 'how' to external\n",
      "Util2d:ss: resetting 'how' to external\n",
      "Util2d:ss: resetting 'how' to external\n",
      "FloPy is using the following executable to run the model: /Users/rjhunt1/GW1876-2/activities/freyberg_k_and_r/freyberg_kr/mfnwt\n",
      "\n",
      "                                  MODFLOW-NWT-SWR1 \n",
      "    U.S. GEOLOGICAL SURVEY MODULAR FINITE-DIFFERENCE GROUNDWATER-FLOW MODEL\n",
      "                             WITH NEWTON FORMULATION\n",
      "                             Version 1.1.1, 7/21/2016                        \n",
      "                    BASED ON MODFLOW-2005 Version 1.11.0 08/08/2013                       \n",
      "\n",
      "                    SWR1 Version 1.04.0 07/21/2016                       \n",
      "\n",
      " Using NAME file: freyberg.nam \n",
      " Run start date and time (yyyy/mm/dd hh:mm:ss): 2017/09/10 13:29:04\n",
      "\n",
      " Solving:  Stress period:     1    Time step:     1    Groundwater-Flow Eqn.\n",
      " Solving:  Stress period:     2    Time step:     1    Groundwater-Flow Eqn.\n",
      " Solving:  Stress period:     3    Time step:     1    Groundwater-Flow Eqn.\n",
      " Run end date and time (yyyy/mm/dd hh:mm:ss): 2017/09/10 13:29:04\n",
      " Elapsed run time:  0.033 Seconds\n",
      "\n",
      "  Normal termination of simulation\n",
      "Starting to read HYDMOD data from freyberg.hyd.bin\n",
      "Starting to read HYDMOD data from freyberg.hyd.bin.truth\n",
      "run():./inschek flux.dat.ins flux.dat\n",
      "run():./inschek vol.dat.ins vol.dat\n",
      "run():./inschek flux.dat.ins flux.dat\n",
      "run():./inschek vol.dat.ins vol.dat\n",
      "run():./inschek flux.dat.ins flux.dat\n",
      "run():./inschek freyberg.hyd.bin.dat.ins freyberg.hyd.bin.dat\n",
      "run():./inschek freyberg.travel.ins freyberg.travel\n",
      "run():./inschek vol.dat.ins vol.dat\n",
      "run():./pestchek freyberg_kr.pst\n",
      "run():./pestpp freyberg_kr.init.pst\n"
     ]
    }
   ],
   "source": [
    "import freyberg_setup as fs\n",
    "pst_name = fs.PST_NAME_KR\n",
    "working_dir = fs.WORKING_DIR_KR\n",
    "fs.setup_pest_kr()\n",
    "pst = pyemu.Pst(os.path.join(working_dir,pst_name))\n",
    "pst.control_data.noptmax = 0\n",
    "pst.write(os.path.join(working_dir,pst_name))"
   ]
  },
  {
   "cell_type": "markdown",
   "metadata": {},
   "source": [
    "### Let's run PESTCHEK and see what it says about our freyberg.pst file"
   ]
  },
  {
   "cell_type": "code",
   "execution_count": 3,
   "metadata": {},
   "outputs": [
    {
     "name": "stdout",
     "output_type": "stream",
     "text": [
      "run():./pestchek freyberg_kr.pst\n"
     ]
    }
   ],
   "source": [
    "pyemu.helpers.run(\"pestchek {0}\".format(pst_name),cwd=working_dir)"
   ]
  },
  {
   "cell_type": "markdown",
   "metadata": {},
   "source": [
    "### Curious, in the PESTCHEK warning section it says \"All parameters belonging to the parameter group \"rch\" are either fixed or tied\". That is flagged as a warning because PESTCHEK is wondering why would it not be adjustable after you went to all the trouble to define it as a parameter.  But, there  are times you may want to do this, so it is classified as a warning and isn't going to stop you.\n",
    "\n",
    "## But that is not what we want, we want to make recharge a parameter in this activity."
   ]
  },
  {
   "cell_type": "markdown",
   "metadata": {},
   "source": [
    "### Open the PEST control file freyberg.pst in your text editor.  \n",
    "\n",
    "1) Look in the parameter data section\n",
    "\n",
    "2) Find the parameter __rch_0__ (the recharge for the calibration period) and make it adjustable (hint:  look at the other parameters) \n",
    "\n",
    "3) Save the file\n",
    "\n",
    "4) Run PESTCHEK on the PEST control file in a seperate terminal window or by executing the next code block and looking at the terminal window where you launched this notebook"
   ]
  },
  {
   "cell_type": "code",
   "execution_count": 4,
   "metadata": {},
   "outputs": [
    {
     "name": "stdout",
     "output_type": "stream",
     "text": [
      "run():./pestchek freyberg_kr.pst\n"
     ]
    }
   ],
   "source": [
    "pyemu.helpers.run(\"pestchek {0}\".format(pst_name),cwd=working_dir)"
   ]
  },
  {
   "cell_type": "markdown",
   "metadata": {},
   "source": [
    "Did that parameter group \"rch\" warning go away?"
   ]
  },
  {
   "cell_type": "markdown",
   "metadata": {},
   "source": [
    "FYI - You can also change that PEST control file setting with pyemu..."
   ]
  },
  {
   "cell_type": "code",
   "execution_count": 5,
   "metadata": {
    "collapsed": true
   },
   "outputs": [],
   "source": [
    "pst.parameter_data.loc[\"rch_0\",\"partrans\"] = \"log\"\n",
    "pst.write(os.path.join(working_dir,pst_name))"
   ]
  },
  {
   "cell_type": "markdown",
   "metadata": {},
   "source": [
    "\n",
    "4) When no errors, run PEST++ by executing the next block (look in your terminal window to see the run progress and wait for the 0 to show up below the code block before continuing).\n"
   ]
  },
  {
   "cell_type": "code",
   "execution_count": 6,
   "metadata": {},
   "outputs": [
    {
     "name": "stdout",
     "output_type": "stream",
     "text": [
      "run():./pestpp freyberg_kr.pst\n"
     ]
    }
   ],
   "source": [
    "pyemu.helpers.run(\"pestpp {0}\".format(pst_name),cwd=working_dir)"
   ]
  },
  {
   "cell_type": "markdown",
   "metadata": {},
   "source": [
    "### ``PEST++`` only ran the model one time - why?"
   ]
  },
  {
   "cell_type": "markdown",
   "metadata": {},
   "source": [
    "#### This was of course in the warnings when we ran PESTCHEK. Let's do that again in the next block and pay attention to that part of the warnings section (look at the terminal window where you launched this notebook to see the PESTCHEK output). "
   ]
  },
  {
   "cell_type": "code",
   "execution_count": 7,
   "metadata": {},
   "outputs": [
    {
     "name": "stdout",
     "output_type": "stream",
     "text": [
      "run():./pestchek freyberg_kr.pst\n"
     ]
    }
   ],
   "source": [
    "pyemu.helpers.run(\"pestchek {0}\".format(pst_name),cwd=working_dir)"
   ]
  },
  {
   "cell_type": "code",
   "execution_count": 8,
   "metadata": {
    "collapsed": true
   },
   "outputs": [],
   "source": [
    "pst = pyemu.Pst(os.path.join(working_dir,pst_name))\n",
    "pst.control_data.noptmax = 20\n",
    "pst.write(os.path.join(working_dir,pst_name))"
   ]
  },
  {
   "cell_type": "markdown",
   "metadata": {},
   "source": [
    "#### Let's run PESTCHEK again to make sure"
   ]
  },
  {
   "cell_type": "code",
   "execution_count": 9,
   "metadata": {},
   "outputs": [
    {
     "name": "stdout",
     "output_type": "stream",
     "text": [
      "run():./pestchek freyberg_kr.pst\n"
     ]
    }
   ],
   "source": [
    "pyemu.helpers.run(\"pestchek {0}\".format(pst_name),cwd=working_dir)"
   ]
  },
  {
   "cell_type": "markdown",
   "metadata": {},
   "source": [
    "### Now that we've changed NOPTMAX, let's run a PEST++ again.  We set NOPTMAX to 20 so the run is longer - watch your terminal window for progress.  Again, don't advance until you see a 0 returned below the code block.\n",
    "\n",
    "\n",
    "#### As you watch your terminal window scroll by, look at the right edge where it reports the counter of the runs needed for each PEST++ iteration.  Why does it change?"
   ]
  },
  {
   "cell_type": "code",
   "execution_count": 10,
   "metadata": {},
   "outputs": [
    {
     "name": "stdout",
     "output_type": "stream",
     "text": [
      "run():./pestpp freyberg_kr.pst\n"
     ]
    }
   ],
   "source": [
    "pyemu.helpers.run(\"pestpp {0}\".format(pst_name),cwd=working_dir)"
   ]
  },
  {
   "cell_type": "markdown",
   "metadata": {},
   "source": [
    "### Let's see how we did for our fit:"
   ]
  },
  {
   "cell_type": "code",
   "execution_count": 11,
   "metadata": {},
   "outputs": [
    {
     "data": {
      "text/html": [
       "<div>\n",
       "<table border=\"1\" class=\"dataframe\">\n",
       "  <thead>\n",
       "    <tr style=\"text-align: right;\">\n",
       "      <th></th>\n",
       "      <th>model_runs_completed</th>\n",
       "      <th>total_phi</th>\n",
       "      <th>measurement_phi</th>\n",
       "      <th>regularization_phi</th>\n",
       "      <th>vol_wells</th>\n",
       "      <th>flx_in-out</th>\n",
       "      <th>flx_storage</th>\n",
       "      <th>calhead</th>\n",
       "      <th>flx_wells</th>\n",
       "      <th>vol_in-out</th>\n",
       "      <th>...</th>\n",
       "      <th>vol_recharg</th>\n",
       "      <th>flx_total</th>\n",
       "      <th>flx_constan</th>\n",
       "      <th>foreflux</th>\n",
       "      <th>flx_percent</th>\n",
       "      <th>forehead</th>\n",
       "      <th>calflux</th>\n",
       "      <th>vol_percent</th>\n",
       "      <th>vol_storage</th>\n",
       "      <th>vol_river_l</th>\n",
       "    </tr>\n",
       "    <tr>\n",
       "      <th>iteration</th>\n",
       "      <th></th>\n",
       "      <th></th>\n",
       "      <th></th>\n",
       "      <th></th>\n",
       "      <th></th>\n",
       "      <th></th>\n",
       "      <th></th>\n",
       "      <th></th>\n",
       "      <th></th>\n",
       "      <th></th>\n",
       "      <th></th>\n",
       "      <th></th>\n",
       "      <th></th>\n",
       "      <th></th>\n",
       "      <th></th>\n",
       "      <th></th>\n",
       "      <th></th>\n",
       "      <th></th>\n",
       "      <th></th>\n",
       "      <th></th>\n",
       "      <th></th>\n",
       "    </tr>\n",
       "  </thead>\n",
       "  <tbody>\n",
       "    <tr>\n",
       "      <th>0</th>\n",
       "      <td>0</td>\n",
       "      <td>1322.400</td>\n",
       "      <td>1322.400</td>\n",
       "      <td>0</td>\n",
       "      <td>0</td>\n",
       "      <td>0</td>\n",
       "      <td>0</td>\n",
       "      <td>1322.400</td>\n",
       "      <td>0</td>\n",
       "      <td>0</td>\n",
       "      <td>...</td>\n",
       "      <td>0</td>\n",
       "      <td>0</td>\n",
       "      <td>0</td>\n",
       "      <td>0</td>\n",
       "      <td>0</td>\n",
       "      <td>0</td>\n",
       "      <td>0</td>\n",
       "      <td>0</td>\n",
       "      <td>0</td>\n",
       "      <td>0</td>\n",
       "    </tr>\n",
       "    <tr>\n",
       "      <th>1</th>\n",
       "      <td>9</td>\n",
       "      <td>1123.000</td>\n",
       "      <td>1123.000</td>\n",
       "      <td>0</td>\n",
       "      <td>0</td>\n",
       "      <td>0</td>\n",
       "      <td>0</td>\n",
       "      <td>1123.000</td>\n",
       "      <td>0</td>\n",
       "      <td>0</td>\n",
       "      <td>...</td>\n",
       "      <td>0</td>\n",
       "      <td>0</td>\n",
       "      <td>0</td>\n",
       "      <td>0</td>\n",
       "      <td>0</td>\n",
       "      <td>0</td>\n",
       "      <td>0</td>\n",
       "      <td>0</td>\n",
       "      <td>0</td>\n",
       "      <td>0</td>\n",
       "    </tr>\n",
       "    <tr>\n",
       "      <th>2</th>\n",
       "      <td>17</td>\n",
       "      <td>778.528</td>\n",
       "      <td>778.528</td>\n",
       "      <td>0</td>\n",
       "      <td>0</td>\n",
       "      <td>0</td>\n",
       "      <td>0</td>\n",
       "      <td>778.528</td>\n",
       "      <td>0</td>\n",
       "      <td>0</td>\n",
       "      <td>...</td>\n",
       "      <td>0</td>\n",
       "      <td>0</td>\n",
       "      <td>0</td>\n",
       "      <td>0</td>\n",
       "      <td>0</td>\n",
       "      <td>0</td>\n",
       "      <td>0</td>\n",
       "      <td>0</td>\n",
       "      <td>0</td>\n",
       "      <td>0</td>\n",
       "    </tr>\n",
       "    <tr>\n",
       "      <th>3</th>\n",
       "      <td>25</td>\n",
       "      <td>776.265</td>\n",
       "      <td>776.265</td>\n",
       "      <td>0</td>\n",
       "      <td>0</td>\n",
       "      <td>0</td>\n",
       "      <td>0</td>\n",
       "      <td>776.265</td>\n",
       "      <td>0</td>\n",
       "      <td>0</td>\n",
       "      <td>...</td>\n",
       "      <td>0</td>\n",
       "      <td>0</td>\n",
       "      <td>0</td>\n",
       "      <td>0</td>\n",
       "      <td>0</td>\n",
       "      <td>0</td>\n",
       "      <td>0</td>\n",
       "      <td>0</td>\n",
       "      <td>0</td>\n",
       "      <td>0</td>\n",
       "    </tr>\n",
       "    <tr>\n",
       "      <th>4</th>\n",
       "      <td>35</td>\n",
       "      <td>776.265</td>\n",
       "      <td>776.265</td>\n",
       "      <td>0</td>\n",
       "      <td>0</td>\n",
       "      <td>0</td>\n",
       "      <td>0</td>\n",
       "      <td>776.265</td>\n",
       "      <td>0</td>\n",
       "      <td>0</td>\n",
       "      <td>...</td>\n",
       "      <td>0</td>\n",
       "      <td>0</td>\n",
       "      <td>0</td>\n",
       "      <td>0</td>\n",
       "      <td>0</td>\n",
       "      <td>0</td>\n",
       "      <td>0</td>\n",
       "      <td>0</td>\n",
       "      <td>0</td>\n",
       "      <td>0</td>\n",
       "    </tr>\n",
       "  </tbody>\n",
       "</table>\n",
       "<p>5 rows × 27 columns</p>\n",
       "</div>"
      ],
      "text/plain": [
       "           model_runs_completed  total_phi  measurement_phi  \\\n",
       "iteration                                                     \n",
       "0                             0   1322.400         1322.400   \n",
       "1                             9   1123.000         1123.000   \n",
       "2                            17    778.528          778.528   \n",
       "3                            25    776.265          776.265   \n",
       "4                            35    776.265          776.265   \n",
       "\n",
       "           regularization_phi  vol_wells  flx_in-out  flx_storage   calhead  \\\n",
       "iteration                                                                     \n",
       "0                           0          0           0            0  1322.400   \n",
       "1                           0          0           0            0  1123.000   \n",
       "2                           0          0           0            0   778.528   \n",
       "3                           0          0           0            0   776.265   \n",
       "4                           0          0           0            0   776.265   \n",
       "\n",
       "           flx_wells  vol_in-out     ...       vol_recharg  flx_total  \\\n",
       "iteration                            ...                                \n",
       "0                  0           0     ...                 0          0   \n",
       "1                  0           0     ...                 0          0   \n",
       "2                  0           0     ...                 0          0   \n",
       "3                  0           0     ...                 0          0   \n",
       "4                  0           0     ...                 0          0   \n",
       "\n",
       "           flx_constan  foreflux  flx_percent  forehead  calflux  vol_percent  \\\n",
       "iteration                                                                       \n",
       "0                    0         0            0         0        0            0   \n",
       "1                    0         0            0         0        0            0   \n",
       "2                    0         0            0         0        0            0   \n",
       "3                    0         0            0         0        0            0   \n",
       "4                    0         0            0         0        0            0   \n",
       "\n",
       "           vol_storage  vol_river_l  \n",
       "iteration                            \n",
       "0                    0            0  \n",
       "1                    0            0  \n",
       "2                    0            0  \n",
       "3                    0            0  \n",
       "4                    0            0  \n",
       "\n",
       "[5 rows x 27 columns]"
      ]
     },
     "execution_count": 11,
     "metadata": {},
     "output_type": "execute_result"
    }
   ],
   "source": [
    "df_obj = pd.read_csv(os.path.join(working_dir,pst_name.replace(\".pst\",\".iobj\")),index_col=0)\n",
    "df_obj"
   ]
  },
  {
   "cell_type": "markdown",
   "metadata": {},
   "source": [
    "(you can see this information unformatted by opening the .iobj file, which is a comma delimited ASCII PEST++ output file)\n",
    "\n",
    "\n",
    "\n",
    "### Additional knobs given to PEST gives it more flexibility for fitting the observed data - is the final Phi lower than the last activity?\n",
    "\n",
    "\n",
    "### You can see individual residuals (and the weights you specified) in the freyberg.rei file.  Here's we'll use Python to calculate the summary statistics for this new run:"
   ]
  },
  {
   "cell_type": "code",
   "execution_count": 12,
   "metadata": {},
   "outputs": [
    {
     "data": {
      "text/plain": [
       "776.2648695047675"
      ]
     },
     "execution_count": 12,
     "metadata": {},
     "output_type": "execute_result"
    }
   ],
   "source": [
    "pst = pyemu.Pst(os.path.join(working_dir,pst_name))\n",
    "pst.phi"
   ]
  },
  {
   "cell_type": "code",
   "execution_count": 13,
   "metadata": {},
   "outputs": [
    {
     "data": {
      "text/plain": [
       "{'calflux': 0.0,\n",
       " 'calhead': 776.2648695047675,\n",
       " 'flx_constan': 0.0,\n",
       " 'flx_in-out': 0.0,\n",
       " 'flx_percent': 0.0,\n",
       " 'flx_recharg': 0.0,\n",
       " 'flx_river_l': 0.0,\n",
       " 'flx_storage': 0.0,\n",
       " 'flx_total': 0.0,\n",
       " 'flx_wells': 0.0,\n",
       " 'foreflux': 0.0,\n",
       " 'forehead': 0.0,\n",
       " 'foretrav': 0.0,\n",
       " 'head': 0.0,\n",
       " 'pothead': 0.0,\n",
       " 'vol_constan': 0.0,\n",
       " 'vol_in-out': 0.0,\n",
       " 'vol_percent': 0.0,\n",
       " 'vol_recharg': 0.0,\n",
       " 'vol_river_l': 0.0,\n",
       " 'vol_storage': 0.0,\n",
       " 'vol_total': 0.0,\n",
       " 'vol_wells': 0.0}"
      ]
     },
     "execution_count": 13,
     "metadata": {},
     "output_type": "execute_result"
    }
   ],
   "source": [
    "pst.phi_components"
   ]
  },
  {
   "cell_type": "code",
   "execution_count": 14,
   "metadata": {},
   "outputs": [
    {
     "data": {
      "text/html": [
       "<div>\n",
       "<table border=\"1\" class=\"dataframe\">\n",
       "  <thead>\n",
       "    <tr style=\"text-align: right;\">\n",
       "      <th></th>\n",
       "      <th>name</th>\n",
       "      <th>group</th>\n",
       "      <th>measured</th>\n",
       "      <th>modelled</th>\n",
       "      <th>residual</th>\n",
       "      <th>weight</th>\n",
       "    </tr>\n",
       "    <tr>\n",
       "      <th>name</th>\n",
       "      <th></th>\n",
       "      <th></th>\n",
       "      <th></th>\n",
       "      <th></th>\n",
       "      <th></th>\n",
       "      <th></th>\n",
       "    </tr>\n",
       "  </thead>\n",
       "  <tbody>\n",
       "    <tr>\n",
       "      <th>cr03c10_19700102</th>\n",
       "      <td>cr03c10_19700102</td>\n",
       "      <td>calhead</td>\n",
       "      <td>22.331451</td>\n",
       "      <td>23.580713</td>\n",
       "      <td>-1.249262</td>\n",
       "      <td>5.0</td>\n",
       "    </tr>\n",
       "    <tr>\n",
       "      <th>cr03c16_19700102</th>\n",
       "      <td>cr03c16_19700102</td>\n",
       "      <td>calhead</td>\n",
       "      <td>18.526869</td>\n",
       "      <td>19.900377</td>\n",
       "      <td>-1.373508</td>\n",
       "      <td>5.0</td>\n",
       "    </tr>\n",
       "    <tr>\n",
       "      <th>cr04c09_19700102</th>\n",
       "      <td>cr04c09_19700102</td>\n",
       "      <td>calhead</td>\n",
       "      <td>24.412637</td>\n",
       "      <td>24.318712</td>\n",
       "      <td>0.093925</td>\n",
       "      <td>5.0</td>\n",
       "    </tr>\n",
       "    <tr>\n",
       "      <th>cr10c02_19700102</th>\n",
       "      <td>cr10c02_19700102</td>\n",
       "      <td>calhead</td>\n",
       "      <td>27.985834</td>\n",
       "      <td>29.439581</td>\n",
       "      <td>-1.453747</td>\n",
       "      <td>5.0</td>\n",
       "    </tr>\n",
       "    <tr>\n",
       "      <th>cr14c11_19700102</th>\n",
       "      <td>cr14c11_19700102</td>\n",
       "      <td>calhead</td>\n",
       "      <td>21.070509</td>\n",
       "      <td>18.801445</td>\n",
       "      <td>2.269064</td>\n",
       "      <td>5.0</td>\n",
       "    </tr>\n",
       "    <tr>\n",
       "      <th>cr16c17_19700102</th>\n",
       "      <td>cr16c17_19700102</td>\n",
       "      <td>calhead</td>\n",
       "      <td>15.468176</td>\n",
       "      <td>17.441380</td>\n",
       "      <td>-1.973203</td>\n",
       "      <td>5.0</td>\n",
       "    </tr>\n",
       "    <tr>\n",
       "      <th>cr22c11_19700102</th>\n",
       "      <td>cr22c11_19700102</td>\n",
       "      <td>calhead</td>\n",
       "      <td>20.485881</td>\n",
       "      <td>17.780325</td>\n",
       "      <td>2.705557</td>\n",
       "      <td>5.0</td>\n",
       "    </tr>\n",
       "    <tr>\n",
       "      <th>cr23c16_19700102</th>\n",
       "      <td>cr23c16_19700102</td>\n",
       "      <td>calhead</td>\n",
       "      <td>15.308345</td>\n",
       "      <td>15.596910</td>\n",
       "      <td>-0.288565</td>\n",
       "      <td>5.0</td>\n",
       "    </tr>\n",
       "    <tr>\n",
       "      <th>cr25c05_19700102</th>\n",
       "      <td>cr25c05_19700102</td>\n",
       "      <td>calhead</td>\n",
       "      <td>22.408501</td>\n",
       "      <td>22.946871</td>\n",
       "      <td>-0.538370</td>\n",
       "      <td>5.0</td>\n",
       "    </tr>\n",
       "    <tr>\n",
       "      <th>cr27c07_19700102</th>\n",
       "      <td>cr27c07_19700102</td>\n",
       "      <td>calhead</td>\n",
       "      <td>22.530558</td>\n",
       "      <td>20.537443</td>\n",
       "      <td>1.993114</td>\n",
       "      <td>5.0</td>\n",
       "    </tr>\n",
       "    <tr>\n",
       "      <th>cr30c16_19700102</th>\n",
       "      <td>cr30c16_19700102</td>\n",
       "      <td>calhead</td>\n",
       "      <td>12.127082</td>\n",
       "      <td>14.053380</td>\n",
       "      <td>-1.926298</td>\n",
       "      <td>5.0</td>\n",
       "    </tr>\n",
       "    <tr>\n",
       "      <th>cr34c08_19700102</th>\n",
       "      <td>cr34c08_19700102</td>\n",
       "      <td>calhead</td>\n",
       "      <td>18.976409</td>\n",
       "      <td>17.953066</td>\n",
       "      <td>1.023343</td>\n",
       "      <td>5.0</td>\n",
       "    </tr>\n",
       "    <tr>\n",
       "      <th>cr35c11_19700102</th>\n",
       "      <td>cr35c11_19700102</td>\n",
       "      <td>calhead</td>\n",
       "      <td>15.445541</td>\n",
       "      <td>15.320938</td>\n",
       "      <td>0.124603</td>\n",
       "      <td>5.0</td>\n",
       "    </tr>\n",
       "  </tbody>\n",
       "</table>\n",
       "</div>"
      ],
      "text/plain": [
       "                              name    group   measured   modelled  residual  \\\n",
       "name                                                                          \n",
       "cr03c10_19700102  cr03c10_19700102  calhead  22.331451  23.580713 -1.249262   \n",
       "cr03c16_19700102  cr03c16_19700102  calhead  18.526869  19.900377 -1.373508   \n",
       "cr04c09_19700102  cr04c09_19700102  calhead  24.412637  24.318712  0.093925   \n",
       "cr10c02_19700102  cr10c02_19700102  calhead  27.985834  29.439581 -1.453747   \n",
       "cr14c11_19700102  cr14c11_19700102  calhead  21.070509  18.801445  2.269064   \n",
       "cr16c17_19700102  cr16c17_19700102  calhead  15.468176  17.441380 -1.973203   \n",
       "cr22c11_19700102  cr22c11_19700102  calhead  20.485881  17.780325  2.705557   \n",
       "cr23c16_19700102  cr23c16_19700102  calhead  15.308345  15.596910 -0.288565   \n",
       "cr25c05_19700102  cr25c05_19700102  calhead  22.408501  22.946871 -0.538370   \n",
       "cr27c07_19700102  cr27c07_19700102  calhead  22.530558  20.537443  1.993114   \n",
       "cr30c16_19700102  cr30c16_19700102  calhead  12.127082  14.053380 -1.926298   \n",
       "cr34c08_19700102  cr34c08_19700102  calhead  18.976409  17.953066  1.023343   \n",
       "cr35c11_19700102  cr35c11_19700102  calhead  15.445541  15.320938  0.124603   \n",
       "\n",
       "                  weight  \n",
       "name                      \n",
       "cr03c10_19700102     5.0  \n",
       "cr03c16_19700102     5.0  \n",
       "cr04c09_19700102     5.0  \n",
       "cr10c02_19700102     5.0  \n",
       "cr14c11_19700102     5.0  \n",
       "cr16c17_19700102     5.0  \n",
       "cr22c11_19700102     5.0  \n",
       "cr23c16_19700102     5.0  \n",
       "cr25c05_19700102     5.0  \n",
       "cr27c07_19700102     5.0  \n",
       "cr30c16_19700102     5.0  \n",
       "cr34c08_19700102     5.0  \n",
       "cr35c11_19700102     5.0  "
      ]
     },
     "execution_count": 14,
     "metadata": {},
     "output_type": "execute_result"
    }
   ],
   "source": [
    "pst.res.loc[pst.nnz_obs_names,:]"
   ]
  },
  {
   "cell_type": "code",
   "execution_count": 15,
   "metadata": {},
   "outputs": [
    {
     "data": {
      "text/plain": [
       "(10.0, 35.0)"
      ]
     },
     "execution_count": 15,
     "metadata": {},
     "output_type": "execute_result"
    },
    {
     "data": {
      "image/png": "[encoded data removed]",
      "text/plain": [
       "<matplotlib.figure.Figure at 0x118b790b8>"
      ]
     },
     "metadata": {},
     "output_type": "display_data"
    }
   ],
   "source": [
    "ax = plt.subplot(111,aspect=\"equal\")                                               \n",
    "ax.scatter(pst.res.loc[pst.nnz_obs_names,\"modelled\"],pst.res.loc[pst.nnz_obs_names,\"measured\"])\n",
    "ylim,xlim = ax.get_ylim(),ax.get_xlim()\n",
    "mn = min(ylim[0],xlim[0])\n",
    "mx = max(ylim[1],xlim[1])\n",
    "ax.plot([mn,mx],[mn,mx])\n",
    "ax.set_ylim(mn,mx)\n",
    "ax.set_xlim(mn,mx)"
   ]
  },
  {
   "cell_type": "markdown",
   "metadata": {},
   "source": [
    "### Hmm, looks familiar.....let's look at the parameter uncertainties:"
   ]
  },
  {
   "cell_type": "code",
   "execution_count": 16,
   "metadata": {},
   "outputs": [
    {
     "data": {
      "text/html": [
       "<div>\n",
       "<table border=\"1\" class=\"dataframe\">\n",
       "  <thead>\n",
       "    <tr style=\"text-align: right;\">\n",
       "      <th></th>\n",
       "      <th>prior_mean</th>\n",
       "      <th>prior_stdev</th>\n",
       "      <th>prior_lower_bound</th>\n",
       "      <th>prior_upper_bound</th>\n",
       "      <th>post_mean</th>\n",
       "      <th>post_stdev</th>\n",
       "      <th>post_lower_bound</th>\n",
       "      <th>post_upper_bound</th>\n",
       "    </tr>\n",
       "    <tr>\n",
       "      <th>name</th>\n",
       "      <th></th>\n",
       "      <th></th>\n",
       "      <th></th>\n",
       "      <th></th>\n",
       "      <th></th>\n",
       "      <th></th>\n",
       "      <th></th>\n",
       "      <th></th>\n",
       "    </tr>\n",
       "  </thead>\n",
       "  <tbody>\n",
       "    <tr>\n",
       "      <th>RCH_0</th>\n",
       "      <td>0.00000</td>\n",
       "      <td>0.055462</td>\n",
       "      <td>-0.110924</td>\n",
       "      <td>0.110924</td>\n",
       "      <td>0.096910</td>\n",
       "      <td>0.054809</td>\n",
       "      <td>-0.012708</td>\n",
       "      <td>0.206528</td>\n",
       "    </tr>\n",
       "    <tr>\n",
       "      <th>HK</th>\n",
       "      <td>0.69897</td>\n",
       "      <td>0.500000</td>\n",
       "      <td>-0.301030</td>\n",
       "      <td>1.698970</td>\n",
       "      <td>0.938301</td>\n",
       "      <td>0.077835</td>\n",
       "      <td>0.782630</td>\n",
       "      <td>1.093970</td>\n",
       "    </tr>\n",
       "  </tbody>\n",
       "</table>\n",
       "</div>"
      ],
      "text/plain": [
       "       prior_mean  prior_stdev  prior_lower_bound  prior_upper_bound  \\\n",
       "name                                                                   \n",
       "RCH_0     0.00000     0.055462          -0.110924           0.110924   \n",
       "HK        0.69897     0.500000          -0.301030           1.698970   \n",
       "\n",
       "       post_mean  post_stdev  post_lower_bound  post_upper_bound  \n",
       "name                                                              \n",
       "RCH_0   0.096910    0.054809         -0.012708          0.206528  \n",
       "HK      0.938301    0.077835          0.782630          1.093970  "
      ]
     },
     "execution_count": 16,
     "metadata": {},
     "output_type": "execute_result"
    }
   ],
   "source": [
    "df_paru = pd.read_csv(os.path.join(working_dir,pst_name.replace(\".pst\",\".par.usum.csv\")),index_col=0)\n",
    "df_paru"
   ]
  },
  {
   "cell_type": "markdown",
   "metadata": {},
   "source": [
    "### Hmm - Recharge = 0.00000?  No, it's not 0.0 - recall that when we log parameters the parameter and its uncertainty is reported as logarithms.  So, 10^0 = 1, which is what we see for an initial value in the PEST control file. \n",
    "\n",
    "Now let's plot the parameter uncertainty, where the pre-calibration prior is gray dashed and the after-calibration posterior is in blue..."
   ]
  },
  {
   "cell_type": "code",
   "execution_count": 17,
   "metadata": {},
   "outputs": [
    {
     "data": {
      "text/plain": [
       "<matplotlib.axes._subplots.AxesSubplot at 0x10e4086d8>"
      ]
     },
     "execution_count": 17,
     "metadata": {},
     "output_type": "execute_result"
    },
    {
     "data": {
      "image/png": "[encoded data removed]",
      "text/plain": [
       "<matplotlib.figure.Figure at 0x117fc3630>"
      ]
     },
     "metadata": {},
     "output_type": "display_data"
    }
   ],
   "source": [
    "pyemu.helpers.plot_summary_distributions(df_paru,label_post=True)"
   ]
  },
  {
   "cell_type": "markdown",
   "metadata": {},
   "source": [
    "### Now let's compare this to the parameter uncertainty from the K-only calibration done previously :\n",
    "\n",
    "#### Here's the K only case from the last activity that you can compare to the similar K+R table above:"
   ]
  },
  {
   "cell_type": "code",
   "execution_count": 18,
   "metadata": {},
   "outputs": [
    {
     "ename": "OSError",
     "evalue": "File b'../freyberg_k/freyberg_un/freyberg_un.par.usum.csv' does not exist",
     "output_type": "error",
     "traceback": [
      "\u001b[0;31m---------------------------------------------------------------------------\u001b[0m",
      "\u001b[0;31mOSError\u001b[0m                                   Traceback (most recent call last)",
      "\u001b[0;32m<ipython-input-18-c14961b5c195>\u001b[0m in \u001b[0;36m<module>\u001b[0;34m()\u001b[0m\n\u001b[0;32m----> 1\u001b[0;31m \u001b[0mdf_paru_single\u001b[0m \u001b[0;34m=\u001b[0m \u001b[0mpd\u001b[0m\u001b[0;34m.\u001b[0m\u001b[0mread_csv\u001b[0m\u001b[0;34m(\u001b[0m\u001b[0mos\u001b[0m\u001b[0;34m.\u001b[0m\u001b[0mpath\u001b[0m\u001b[0;34m.\u001b[0m\u001b[0mjoin\u001b[0m\u001b[0;34m(\u001b[0m\u001b[0;34m\"..\"\u001b[0m\u001b[0;34m,\u001b[0m\u001b[0;34m\"freyberg_k\"\u001b[0m\u001b[0;34m,\u001b[0m\u001b[0;34m\"freyberg_un\"\u001b[0m\u001b[0;34m,\u001b[0m\u001b[0;34m\"freyberg_un.par.usum.csv\"\u001b[0m\u001b[0;34m)\u001b[0m\u001b[0;34m,\u001b[0m\u001b[0mindex_col\u001b[0m\u001b[0;34m=\u001b[0m\u001b[0;36m0\u001b[0m\u001b[0;34m)\u001b[0m\u001b[0;34m\u001b[0m\u001b[0m\n\u001b[0m\u001b[1;32m      2\u001b[0m \u001b[0mdf_paru_single\u001b[0m\u001b[0;34m\u001b[0m\u001b[0m\n",
      "\u001b[0;32m~/anaconda/lib/python3.5/site-packages/pandas/io/parsers.py\u001b[0m in \u001b[0;36mparser_f\u001b[0;34m(filepath_or_buffer, sep, delimiter, header, names, index_col, usecols, squeeze, prefix, mangle_dupe_cols, dtype, engine, converters, true_values, false_values, skipinitialspace, skiprows, skipfooter, nrows, na_values, keep_default_na, na_filter, verbose, skip_blank_lines, parse_dates, infer_datetime_format, keep_date_col, date_parser, dayfirst, iterator, chunksize, compression, thousands, decimal, lineterminator, quotechar, quoting, escapechar, comment, encoding, dialect, tupleize_cols, error_bad_lines, warn_bad_lines, skip_footer, doublequote, delim_whitespace, as_recarray, compact_ints, use_unsigned, low_memory, buffer_lines, memory_map, float_precision)\u001b[0m\n\u001b[1;32m    560\u001b[0m                     skip_blank_lines=skip_blank_lines)\n\u001b[1;32m    561\u001b[0m \u001b[0;34m\u001b[0m\u001b[0m\n\u001b[0;32m--> 562\u001b[0;31m         \u001b[0;32mreturn\u001b[0m \u001b[0m_read\u001b[0m\u001b[0;34m(\u001b[0m\u001b[0mfilepath_or_buffer\u001b[0m\u001b[0;34m,\u001b[0m \u001b[0mkwds\u001b[0m\u001b[0;34m)\u001b[0m\u001b[0;34m\u001b[0m\u001b[0m\n\u001b[0m\u001b[1;32m    563\u001b[0m \u001b[0;34m\u001b[0m\u001b[0m\n\u001b[1;32m    564\u001b[0m     \u001b[0mparser_f\u001b[0m\u001b[0;34m.\u001b[0m\u001b[0m__name__\u001b[0m \u001b[0;34m=\u001b[0m \u001b[0mname\u001b[0m\u001b[0;34m\u001b[0m\u001b[0m\n",
      "\u001b[0;32m~/anaconda/lib/python3.5/site-packages/pandas/io/parsers.py\u001b[0m in \u001b[0;36m_read\u001b[0;34m(filepath_or_buffer, kwds)\u001b[0m\n\u001b[1;32m    313\u001b[0m \u001b[0;34m\u001b[0m\u001b[0m\n\u001b[1;32m    314\u001b[0m     \u001b[0;31m# Create the parser.\u001b[0m\u001b[0;34m\u001b[0m\u001b[0;34m\u001b[0m\u001b[0m\n\u001b[0;32m--> 315\u001b[0;31m     \u001b[0mparser\u001b[0m \u001b[0;34m=\u001b[0m \u001b[0mTextFileReader\u001b[0m\u001b[0;34m(\u001b[0m\u001b[0mfilepath_or_buffer\u001b[0m\u001b[0;34m,\u001b[0m \u001b[0;34m**\u001b[0m\u001b[0mkwds\u001b[0m\u001b[0;34m)\u001b[0m\u001b[0;34m\u001b[0m\u001b[0m\n\u001b[0m\u001b[1;32m    316\u001b[0m \u001b[0;34m\u001b[0m\u001b[0m\n\u001b[1;32m    317\u001b[0m     \u001b[0;32mif\u001b[0m \u001b[0;34m(\u001b[0m\u001b[0mnrows\u001b[0m \u001b[0;32mis\u001b[0m \u001b[0;32mnot\u001b[0m \u001b[0;32mNone\u001b[0m\u001b[0;34m)\u001b[0m \u001b[0;32mand\u001b[0m \u001b[0;34m(\u001b[0m\u001b[0mchunksize\u001b[0m \u001b[0;32mis\u001b[0m \u001b[0;32mnot\u001b[0m \u001b[0;32mNone\u001b[0m\u001b[0;34m)\u001b[0m\u001b[0;34m:\u001b[0m\u001b[0;34m\u001b[0m\u001b[0m\n",
      "\u001b[0;32m~/anaconda/lib/python3.5/site-packages/pandas/io/parsers.py\u001b[0m in \u001b[0;36m__init__\u001b[0;34m(self, f, engine, **kwds)\u001b[0m\n\u001b[1;32m    643\u001b[0m             \u001b[0mself\u001b[0m\u001b[0;34m.\u001b[0m\u001b[0moptions\u001b[0m\u001b[0;34m[\u001b[0m\u001b[0;34m'has_index_names'\u001b[0m\u001b[0;34m]\u001b[0m \u001b[0;34m=\u001b[0m \u001b[0mkwds\u001b[0m\u001b[0;34m[\u001b[0m\u001b[0;34m'has_index_names'\u001b[0m\u001b[0;34m]\u001b[0m\u001b[0;34m\u001b[0m\u001b[0m\n\u001b[1;32m    644\u001b[0m \u001b[0;34m\u001b[0m\u001b[0m\n\u001b[0;32m--> 645\u001b[0;31m         \u001b[0mself\u001b[0m\u001b[0;34m.\u001b[0m\u001b[0m_make_engine\u001b[0m\u001b[0;34m(\u001b[0m\u001b[0mself\u001b[0m\u001b[0;34m.\u001b[0m\u001b[0mengine\u001b[0m\u001b[0;34m)\u001b[0m\u001b[0;34m\u001b[0m\u001b[0m\n\u001b[0m\u001b[1;32m    646\u001b[0m \u001b[0;34m\u001b[0m\u001b[0m\n\u001b[1;32m    647\u001b[0m     \u001b[0;32mdef\u001b[0m \u001b[0mclose\u001b[0m\u001b[0;34m(\u001b[0m\u001b[0mself\u001b[0m\u001b[0;34m)\u001b[0m\u001b[0;34m:\u001b[0m\u001b[0;34m\u001b[0m\u001b[0m\n",
      "\u001b[0;32m~/anaconda/lib/python3.5/site-packages/pandas/io/parsers.py\u001b[0m in \u001b[0;36m_make_engine\u001b[0;34m(self, engine)\u001b[0m\n\u001b[1;32m    797\u001b[0m     \u001b[0;32mdef\u001b[0m \u001b[0m_make_engine\u001b[0m\u001b[0;34m(\u001b[0m\u001b[0mself\u001b[0m\u001b[0;34m,\u001b[0m \u001b[0mengine\u001b[0m\u001b[0;34m=\u001b[0m\u001b[0;34m'c'\u001b[0m\u001b[0;34m)\u001b[0m\u001b[0;34m:\u001b[0m\u001b[0;34m\u001b[0m\u001b[0m\n\u001b[1;32m    798\u001b[0m         \u001b[0;32mif\u001b[0m \u001b[0mengine\u001b[0m \u001b[0;34m==\u001b[0m \u001b[0;34m'c'\u001b[0m\u001b[0;34m:\u001b[0m\u001b[0;34m\u001b[0m\u001b[0m\n\u001b[0;32m--> 799\u001b[0;31m             \u001b[0mself\u001b[0m\u001b[0;34m.\u001b[0m\u001b[0m_engine\u001b[0m \u001b[0;34m=\u001b[0m \u001b[0mCParserWrapper\u001b[0m\u001b[0;34m(\u001b[0m\u001b[0mself\u001b[0m\u001b[0;34m.\u001b[0m\u001b[0mf\u001b[0m\u001b[0;34m,\u001b[0m \u001b[0;34m**\u001b[0m\u001b[0mself\u001b[0m\u001b[0;34m.\u001b[0m\u001b[0moptions\u001b[0m\u001b[0;34m)\u001b[0m\u001b[0;34m\u001b[0m\u001b[0m\n\u001b[0m\u001b[1;32m    800\u001b[0m         \u001b[0;32melse\u001b[0m\u001b[0;34m:\u001b[0m\u001b[0;34m\u001b[0m\u001b[0m\n\u001b[1;32m    801\u001b[0m             \u001b[0;32mif\u001b[0m \u001b[0mengine\u001b[0m \u001b[0;34m==\u001b[0m \u001b[0;34m'python'\u001b[0m\u001b[0;34m:\u001b[0m\u001b[0;34m\u001b[0m\u001b[0m\n",
      "\u001b[0;32m~/anaconda/lib/python3.5/site-packages/pandas/io/parsers.py\u001b[0m in \u001b[0;36m__init__\u001b[0;34m(self, src, **kwds)\u001b[0m\n\u001b[1;32m   1211\u001b[0m         \u001b[0mkwds\u001b[0m\u001b[0;34m[\u001b[0m\u001b[0;34m'allow_leading_cols'\u001b[0m\u001b[0;34m]\u001b[0m \u001b[0;34m=\u001b[0m \u001b[0mself\u001b[0m\u001b[0;34m.\u001b[0m\u001b[0mindex_col\u001b[0m \u001b[0;32mis\u001b[0m \u001b[0;32mnot\u001b[0m \u001b[0;32mFalse\u001b[0m\u001b[0;34m\u001b[0m\u001b[0m\n\u001b[1;32m   1212\u001b[0m \u001b[0;34m\u001b[0m\u001b[0m\n\u001b[0;32m-> 1213\u001b[0;31m         \u001b[0mself\u001b[0m\u001b[0;34m.\u001b[0m\u001b[0m_reader\u001b[0m \u001b[0;34m=\u001b[0m \u001b[0m_parser\u001b[0m\u001b[0;34m.\u001b[0m\u001b[0mTextReader\u001b[0m\u001b[0;34m(\u001b[0m\u001b[0msrc\u001b[0m\u001b[0;34m,\u001b[0m \u001b[0;34m**\u001b[0m\u001b[0mkwds\u001b[0m\u001b[0;34m)\u001b[0m\u001b[0;34m\u001b[0m\u001b[0m\n\u001b[0m\u001b[1;32m   1214\u001b[0m \u001b[0;34m\u001b[0m\u001b[0m\n\u001b[1;32m   1215\u001b[0m         \u001b[0;31m# XXX\u001b[0m\u001b[0;34m\u001b[0m\u001b[0;34m\u001b[0m\u001b[0m\n",
      "\u001b[0;32mpandas/parser.pyx\u001b[0m in \u001b[0;36mpandas.parser.TextReader.__cinit__ (pandas/parser.c:3427)\u001b[0;34m()\u001b[0m\n",
      "\u001b[0;32mpandas/parser.pyx\u001b[0m in \u001b[0;36mpandas.parser.TextReader._setup_parser_source (pandas/parser.c:6861)\u001b[0;34m()\u001b[0m\n",
      "\u001b[0;31mOSError\u001b[0m: File b'../freyberg_k/freyberg_un/freyberg_un.par.usum.csv' does not exist"
     ]
    }
   ],
   "source": [
    "df_paru_single = pd.read_csv(os.path.join(\"..\",\"freyberg_k\",\"freyberg_un\",\"freyberg_un.par.usum.csv\"),index_col=0)\n",
    "df_paru_single"
   ]
  },
  {
   "cell_type": "markdown",
   "metadata": {},
   "source": [
    "#### Easier to see if we plot them. Here's the posterior and prior standard deviation for the new K+R (left) next the to K only results (right)"
   ]
  },
  {
   "cell_type": "code",
   "execution_count": null,
   "metadata": {},
   "outputs": [],
   "source": [
    "df_paru_concat = pd.concat([df_paru,df_paru_single],join=\"outer\",axis=1,keys=[\"k+r\",\"k_only\"])\n",
    "df_paru_concat.sort_index(inplace=True,axis=1)\n",
    "#df_paru_concat.sort_index(level=1,inplace=True)\n",
    "\n",
    "for pname in df_paru_concat.index:\n",
    "    ax = df_paru_concat.loc[pname,(slice(None),(\"prior_stdev\",\"post_stdev\"))].plot(kind=\"bar\")\n",
    "    ax.set_title(pname)\n",
    "    plt.show()"
   ]
  },
  {
   "cell_type": "markdown",
   "metadata": {},
   "source": [
    "### How does the uncertainty reduction for ``hk`` change when ``rch_0`` is included?\n",
    "\n",
    "## Now let's look at the forecasts:\n",
    "\n",
    "#### First, here's our previous results for the K only case:"
   ]
  },
  {
   "cell_type": "code",
   "execution_count": null,
   "metadata": {},
   "outputs": [],
   "source": [
    "df_predu_single = pd.read_csv(os.path.join(\"..\",\"freyberg_k\",\"freyberg_un\",\"freyberg_un.pred.usum.csv\"),index_col=0)\n",
    "df_predu_single.loc[:,\"reduction\"] = 100.0 *  (1.0 - (df_predu_single.post_stdev / df_predu_single.prior_stdev))\n",
    "\n",
    "figs, axes = pyemu.helpers.plot_summary_distributions(df_predu_single,subplots=True)"
   ]
  },
  {
   "cell_type": "markdown",
   "metadata": {},
   "source": [
    "#### Wow - tight and certain.  Here's this K-only run (now in green) compared to our new run where K and R are parameters (blue):"
   ]
  },
  {
   "cell_type": "code",
   "execution_count": null,
   "metadata": {},
   "outputs": [],
   "source": [
    "df_predu = pd.read_csv(os.path.join(working_dir,pst_name.replace(\".pst\",\".pred.usum.csv\")),index_col=0)\n",
    "df_predu.loc[:,\"reduction\"] = 100.0 *  (1.0 - (df_predu.post_stdev / df_predu.prior_stdev))\n",
    "\n",
    "for forecast in df_predu.index:\n",
    "    ax = plt.subplot(111)\n",
    "    pyemu.helpers.plot_summary_distributions(df_predu.loc[[forecast],:],ax=ax)\n",
    "    pyemu.helpers.plot_summary_distributions(df_predu_single.loc[[forecast],:],ax=ax,pt_color='g')\n",
    "    ax.set_title(forecast)\n",
    "    ax.grid()\n",
    "    plt.show()"
   ]
  },
  {
   "cell_type": "markdown",
   "metadata": {},
   "source": [
    "### Which forecasts are influenced by the ``rch_0`` parameter?\n",
    "\n",
    "### The higher and narrower the peak the more certain we are - did the uncertainty decrease or increase when we added the second parameter?\n",
    "\n",
    "### Which forecasts had little change - why?\n",
    "\n",
    "### Which case (``K`` or ``K+R``) provides the more robust uncertainty estimate?"
   ]
  },
  {
   "cell_type": "markdown",
   "metadata": {},
   "source": [
    "# Wait, something is amiss.  \n",
    "\n",
    "### Look at this slightly modified version of the groundwater governing equation from Anderson et al. (2015) below.  Is this problem well posed? That is, if recharge increased (represented by an increase in $W^*$) *and* at the same time K increased (represented by an increase in q) could they offset each other so that the righthand side stays the same? What is this called?\n",
    "\n",
    " \n",
    "  <img src=\"GW_GE2.jpg\" style=\"float: center\">\n",
    " \n",
    " \n",
    " ### Recall the Bravo et al. (2002) trough when calibrating K and R with only heads:\n",
    " \n",
    "  <img src=\"Fig9.11a_bravo_trough.jpeg\" style=\"float: center\">\n",
    "  \n",
    "  ****************\n",
    " "
   ]
  },
  {
   "cell_type": "markdown",
   "metadata": {},
   "source": [
    "# Let's look at the correlation of our two parameters"
   ]
  },
  {
   "cell_type": "code",
   "execution_count": null,
   "metadata": {},
   "outputs": [],
   "source": [
    "sc = pyemu.Schur(os.path.join(working_dir,pst_name.replace(\".pst\",\".jcb\")))\n",
    "cov = pyemu.Cov(sc.xtqx.x, names=sc.pst.adj_par_names)\n",
    "R = cov.to_pearson()\n",
    "R.df()"
   ]
  },
  {
   "cell_type": "markdown",
   "metadata": {},
   "source": [
    "### Wow - correlated.  Recall that Hill and Tiedeman (2007) suggest that correlation > 0.95 or so is not estimable\n",
    "\n",
    "## Even though estimating both R and K using only head observations is not possible because of this correlation, PEST++ gave you an answer.  How? \n",
    "\n",
    "(Hint:  look in the .rec file and see what happens to the parameters over the course of the run)\n",
    "\n",
    "\n",
    "## Let's dig into the PEST result a bit more...\n",
    "\n",
    "1) Compare the optimal rch1 parameter value in the __freyberg_kr.rec__ file (search for \"Optimal parameter values\" without the quotation marks) to the rch_0 parameter data the instructors supplied in the PEST control file.  \n",
    "\n",
    "2) Where does the optimal parameter lie with respect to the bounds that were given for the parameter? \n",
    "\n",
    "3) Open the __freyberg_kr.ipar__ file in a text editor.  What was the iteration history of rch_0?\n",
    "\n",
    "## So how did PEST++ deal with this intractable correlation?"
   ]
  },
  {
   "cell_type": "markdown",
   "metadata": {},
   "source": [
    "# Last points:\n",
    "\n",
    "## Do you believe that value is optimal, or even defensible?  Should we believe the forecast uncertainty either?\n",
    "\n",
    "Let's again look at the forecasts with the \"Truth\""
   ]
  },
  {
   "cell_type": "code",
   "execution_count": null,
   "metadata": {
    "scrolled": true
   },
   "outputs": [],
   "source": [
    "figs, axes = pyemu.helpers.plot_summary_distributions(df_predu,subplots=True)\n",
    "for ax in axes:\n",
    "    fname = ax.get_title().lower()\n",
    "    ylim = ax.get_ylim()\n",
    "    v = pst.observation_data.loc[fname,\"obsval\"]\n",
    "    ax.plot([v,v],ylim,\"k--\")\n",
    "    ax.set_ylim(ylim)"
   ]
  },
  {
   "cell_type": "markdown",
   "metadata": {},
   "source": [
    "Still not bracketing the \"truth\" for many forecasts...yikes!"
   ]
  },
  {
   "cell_type": "markdown",
   "metadata": {
    "collapsed": true
   },
   "source": [
    "# Advanced"
   ]
  },
  {
   "cell_type": "markdown",
   "metadata": {
    "collapsed": true
   },
   "source": [
    "### Let's test how \"optimal\" these parameters are. \n",
    "\n",
    "1) Open freyberg_kr\\freyberg_kr.pst in a text editor, \n",
    "\n",
    "2) change the upper bound of the rch_0 parameter from 1.25 to 3.25\n",
    "\n",
    "3) re-run pestpp\n",
    "\n",
    "4) open the __freyberg_kr.ipar__ file in a text editor.  \n",
    "\n",
    "How does the new optimal rch_0 compare to the previous optimal value? To the new upper bound?"
   ]
  },
  {
   "cell_type": "code",
   "execution_count": null,
   "metadata": {
    "collapsed": true
   },
   "outputs": [],
   "source": []
  }
 ],
 "metadata": {
  "anaconda-cloud": {},
  "kernelspec": {
   "display_name": "Python 3",
   "language": "python",
   "name": "python3"
  },
  "language_info": {
   "codemirror_mode": {
    "name": "ipython",
    "version": 3
   },
   "file_extension": ".py",
   "mimetype": "text/x-python",
   "name": "python",
   "nbconvert_exporter": "python",
   "pygments_lexer": "ipython3",
   "version": "3.5.3"
  }
 },
 "nbformat": 4,
 "nbformat_minor": 1
}
