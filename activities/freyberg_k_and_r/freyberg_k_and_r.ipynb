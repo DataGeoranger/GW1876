{
 "cells": [
  {
   "cell_type": "markdown",
   "metadata": {},
   "source": [
    "<img src=\"AW&H2015.png\" style=\"float: left\">\n",
    "\n",
    "<img src=\"flopylogo.png\" style=\"float: center\">\n",
    "\n",
    "# History match the Freyberg model using a two parameters ``K`` and ``R``\n",
    "\n",
    "#### Using only one parameter is __*very*__ (VERY) likely to be on the \"oversimplified\" part of our Goldilocks complexity curve:\n",
    "\n",
    "\n",
    "<img src=\"Hunt1998_sweetspot.png\" style=\"float: center\">\n",
    "\n",
    "\n",
    "\n",
    "But this is a fitting starting point for adding complexity. For many model forecasts, getting a representative simulation of the water budget is a primary objective.  From the groundwater governing eqation we can see what we need to be looking at:\n",
    "\n",
    "<img src=\"GW_GE.png\" style=\"float: left\">\n",
    "\n",
    "where $W^*$ represents the sources and sinks into the model. We've got K as an adjustable parameter already, but  __Recharge__ is typically one of the most important sources of water to a groundwater system. Unfortunately, it is hard to measure in the field at the scale we need for a model. So we can't fix it (i.e., think structural error).  So it typically is a parameter adjusted during history matching.\n",
    "\n",
    "#### Objectives for this notebook are to:\n",
    "\n",
    "1) add a recharge parameter to the Freyberg model\n",
    "\n",
    "2) explore the effect of adding a parameter to history matching, parameter uncertainty, and forecast uncertainty\n"
   ]
  },
  {
   "cell_type": "markdown",
   "metadata": {},
   "source": [
    "# Quick reminder of what the model looks like:\n",
    "\n",
    "It is a heterogenous 2D areal (1-layer) model that is a step up in complexity from our xsec model. Recall it looks like this, as shown in the original Freyberg (1988) paper on the left, and a Groundwater Vistas version on the right (from the file in the GW_Vistas subdirectory).   \n",
    "\n",
    "<img src=\"Freyburg1988_fig1.png\" style=\"float: left\">\n",
    "\n",
    "<img src=\"Freyberg_k_plot_GW_Vistas.png\" style=\"float: right\">"
   ]
  },
  {
   "cell_type": "markdown",
   "metadata": {},
   "source": [
    "### Standard two code blocks to set the notebook up"
   ]
  },
  {
   "cell_type": "code",
   "execution_count": 1,
   "metadata": {
    "collapsed": false
   },
   "outputs": [
    {
     "name": "stdout",
     "output_type": "stream",
     "text": [
      "setting random seed\n",
      "\n",
      "GIS dependencies not installed. Please see readme for instructions on installation\n"
     ]
    }
   ],
   "source": [
    "%matplotlib inline\n",
    "import os\n",
    "import shutil\n",
    "import pandas as pd\n",
    "import matplotlib.pyplot as plt\n",
    "import pyemu\n",
    "import pestools as pt\n",
    "import platform\n",
    "if 'window' in platform.platform().lower():\n",
    "    ppp = 'pest++'\n",
    "    pestchek = 'pestchek'\n",
    "else:\n",
    "    ppp = './pestpp'\n",
    "    pestchek = './pestchek'"
   ]
  },
  {
   "cell_type": "code",
   "execution_count": 2,
   "metadata": {
    "collapsed": false
   },
   "outputs": [],
   "source": [
    "base_dir = os.path.join(\"..\",\"..\",\"models\",\"Freyberg\",\"Freyberg_K_and_R\")\n",
    "assert os.path.exists(base_dir)\n",
    "[shutil.copy2(os.path.join(base_dir,f),f) for f in os.listdir(base_dir)];"
   ]
  },
  {
   "cell_type": "markdown",
   "metadata": {},
   "source": [
    "### Let's run PESTCHEK and see what it says about our freyberg.pst file"
   ]
  },
  {
   "cell_type": "code",
   "execution_count": 3,
   "metadata": {
    "collapsed": false
   },
   "outputs": [
    {
     "data": {
      "text/plain": [
       "0"
      ]
     },
     "execution_count": 3,
     "metadata": {},
     "output_type": "execute_result"
    }
   ],
   "source": [
    "os.system(\"{0} freyberg.pst\".format(pestchek))"
   ]
  },
  {
   "cell_type": "markdown",
   "metadata": {},
   "source": [
    "#### Curious, in the PESTCHEK warning section it says \"All parameters belonging to the parameter group \"rch\" are either fixed or tied\". That is flagged as a warning because PESTCHEK is wondering why would it not be adjustable after you went to all the trouble to define it as a parameter.  But, there  are times you may want to do this, so it is classified as a warning and isn't going to stop you.\n",
    "\n",
    "### But that is not what we want, we want to make recharge a parameter in this activity."
   ]
  },
  {
   "cell_type": "markdown",
   "metadata": {},
   "source": [
    "### Open the PEST control file freyberg.pst in your text editor.  \n",
    "\n",
    "1) Look in the parameter data section\n",
    "\n",
    "2) Find the parameter __rch1__ (the recharge for the calibration period) and make it adjustable (hint:  look at the other parameters) \n",
    "\n",
    "3) Save the file\n",
    "\n",
    "4) Run PESTCHEK on the PEST control file in a seperate terminal window or by executing the next code block and looking at the terminal window where you launched this notebook"
   ]
  },
  {
   "cell_type": "code",
   "execution_count": 6,
   "metadata": {
    "collapsed": false
   },
   "outputs": [
    {
     "data": {
      "text/plain": [
       "0"
      ]
     },
     "execution_count": 6,
     "metadata": {},
     "output_type": "execute_result"
    }
   ],
   "source": [
    "os.system(\"{0} freyberg.pst\".format(pestchek))"
   ]
  },
  {
   "cell_type": "markdown",
   "metadata": {},
   "source": [
    "Did that parameter group \"rch\" warning go away?"
   ]
  },
  {
   "cell_type": "markdown",
   "metadata": {},
   "source": [
    "\n",
    "4) When no errors, run PEST++ by executing the next block (look in your terminal window to see the run progress and wait for the 0 to show up below the code block before continuing).\n"
   ]
  },
  {
   "cell_type": "code",
   "execution_count": 7,
   "metadata": {
    "collapsed": false
   },
   "outputs": [
    {
     "data": {
      "text/plain": [
       "0"
      ]
     },
     "execution_count": 7,
     "metadata": {},
     "output_type": "execute_result"
    }
   ],
   "source": [
    "os.system(\"{0} freyberg.pst\".format(ppp))"
   ]
  },
  {
   "cell_type": "markdown",
   "metadata": {},
   "source": [
    "### ``PEST++`` only ran the model one time - why?"
   ]
  },
  {
   "cell_type": "markdown",
   "metadata": {},
   "source": [
    "#### This was of course in the warnings when we ran PESTCHEK. Let's do that again in the next block and pay attention to that part of the warnings section (look at the terminal window where you launched this notebook to see the PESTCHEK output). "
   ]
  },
  {
   "cell_type": "code",
   "execution_count": 8,
   "metadata": {
    "collapsed": false
   },
   "outputs": [
    {
     "data": {
      "text/plain": [
       "0"
      ]
     },
     "execution_count": 8,
     "metadata": {},
     "output_type": "execute_result"
    }
   ],
   "source": [
    "os.system(\"{0} freyberg.pst\".format(pestchek))"
   ]
  },
  {
   "cell_type": "code",
   "execution_count": 9,
   "metadata": {
    "collapsed": false
   },
   "outputs": [],
   "source": [
    "pst = pyemu.Pst(\"freyberg.pst\")\n",
    "pst.control_data.noptmax = 20\n",
    "pst.write(\"freyberg.pst\")"
   ]
  },
  {
   "cell_type": "markdown",
   "metadata": {},
   "source": [
    "#### Let's run PESTCHEK again to make sure"
   ]
  },
  {
   "cell_type": "code",
   "execution_count": 10,
   "metadata": {
    "collapsed": false
   },
   "outputs": [
    {
     "data": {
      "text/plain": [
       "0"
      ]
     },
     "execution_count": 10,
     "metadata": {},
     "output_type": "execute_result"
    }
   ],
   "source": [
    "os.system(\"{0} freyberg.pst\".format(pestchek))"
   ]
  },
  {
   "cell_type": "markdown",
   "metadata": {},
   "source": [
    "### Now that we've changed NOPTMAX, let's run a PEST++ again.  We set NOPTMAX to 20 so the run is longer - watch your terminal window for progress.  Again, don't advance until you see a 0 returned below the code block.\n",
    "\n",
    "\n",
    "#### As you watch your terminal window scroll by, look at the right edge where it reports the counter of the runs needed for each PEST++ iteration.  Why does it change?"
   ]
  },
  {
   "cell_type": "code",
   "execution_count": null,
   "metadata": {
    "collapsed": false
   },
   "outputs": [],
   "source": [
    "os.system(\"{0} freyberg.pst\".format(ppp))"
   ]
  },
  {
   "cell_type": "markdown",
   "metadata": {},
   "source": [
    "### Let's see how we did for our fit:"
   ]
  },
  {
   "cell_type": "code",
   "execution_count": null,
   "metadata": {
    "collapsed": false
   },
   "outputs": [],
   "source": [
    "df_obj = pd.read_csv(\"freyberg.iobj\",index_col=0)\n",
    "df_obj"
   ]
  },
  {
   "cell_type": "markdown",
   "metadata": {},
   "source": [
    "(you can see this information unformatted by opening the .iobj file, which is a comma delimited ASCII PEST++ output file)\n",
    "\n",
    "\n",
    "\n",
    "### Additional knobs given to PEST gives it more flexibility for fitting the observed data - is the final Phi lower than the last activity?\n",
    "\n",
    "\n",
    "### You can see individual residuals (and the weights you specified) in the freyberg.rei file.  Here's we'll use Python to calculate the summary statistics for this new run:"
   ]
  },
  {
   "cell_type": "code",
   "execution_count": null,
   "metadata": {
    "collapsed": false
   },
   "outputs": [],
   "source": [
    "res = pt.Res('freyberg.rei')\n",
    "\n",
    "res.describe_groups('head_cal')"
   ]
  },
  {
   "cell_type": "markdown",
   "metadata": {},
   "source": [
    "### And plot up the results again:"
   ]
  },
  {
   "cell_type": "code",
   "execution_count": null,
   "metadata": {
    "collapsed": false
   },
   "outputs": [],
   "source": [
    "res.plot_one2one('head_cal',print_stats=['Mean', 'MAE', 'RMSE'])\n",
    "\n",
    "res.plot_measured_vs_residual('head_cal')"
   ]
  },
  {
   "cell_type": "markdown",
   "metadata": {},
   "source": [
    "### Hmm, looks familiar.....let's look at the parameter uncertainties:"
   ]
  },
  {
   "cell_type": "code",
   "execution_count": null,
   "metadata": {
    "collapsed": false
   },
   "outputs": [],
   "source": [
    "df_paru = pd.read_csv(\"freyberg.par.usum.csv\",index_col=0)\n",
    "df_paru"
   ]
  },
  {
   "cell_type": "markdown",
   "metadata": {},
   "source": [
    "### Well at least that table is different.  Now let's look at the parameter uncertainties:\n",
    "\n",
    "#### Here's the K only case from the last activity:"
   ]
  },
  {
   "cell_type": "code",
   "execution_count": null,
   "metadata": {
    "collapsed": false
   },
   "outputs": [],
   "source": [
    "df_paru_single = pd.read_csv(os.path.join(\"..\",\"freyberg_k\",\"freyberg.par.usum.csv\"),index_col=0)\n",
    "df_paru_single"
   ]
  },
  {
   "cell_type": "markdown",
   "metadata": {},
   "source": [
    "#### Here's the new K+R (left) next the to K only results (right)"
   ]
  },
  {
   "cell_type": "code",
   "execution_count": null,
   "metadata": {
    "collapsed": false
   },
   "outputs": [],
   "source": [
    "df_paru_concat = pd.concat([df_paru,df_paru_single],join=\"outer\",axis=1,keys=[\"k+r\",\"k_only\"])\n",
    "df_paru_concat"
   ]
  },
  {
   "cell_type": "code",
   "execution_count": null,
   "metadata": {
    "collapsed": false
   },
   "outputs": [],
   "source": [
    "for pname in df_paru_concat.index:\n",
    "    ax = df_paru_concat.loc[pname,(slice(None),(\"prior_stdev\",\"post_stdev\"))].plot(kind=\"bar\")\n",
    "    ax.set_title(pname)\n",
    "    plt.show()"
   ]
  },
  {
   "cell_type": "markdown",
   "metadata": {},
   "source": [
    "### How does the uncertainty reduction for ``hk1`` change when ``rch1`` is included?\n",
    "\n",
    "## Now let's look at the forecasts:\n",
    "\n",
    "#### First, here's our previous results for the K only case:"
   ]
  },
  {
   "cell_type": "code",
   "execution_count": null,
   "metadata": {
    "collapsed": false
   },
   "outputs": [],
   "source": [
    "df_foreu_single = pd.read_csv(os.path.join(\"..\",\"freyberg_k\",\"freyberg.pred.usum.csv\"),index_col=0)\n",
    "df_foreu_single.loc[:,\"reduction\"] = 100.0 *  (1.0 - (df_foreu_single.post_stdev / df_foreu_single.prior_stdev))\n",
    "df_foreu_single"
   ]
  },
  {
   "cell_type": "markdown",
   "metadata": {},
   "source": [
    "#### Here's our new run where K and R are parameters:"
   ]
  },
  {
   "cell_type": "code",
   "execution_count": null,
   "metadata": {
    "collapsed": false
   },
   "outputs": [],
   "source": [
    "df_foreu = pd.read_csv(\"freyberg.pred.usum.csv\",index_col=0)\n",
    "df_foreu.loc[:,\"reduction\"] = 100.0 *  (1.0 - (df_foreu.post_stdev / df_foreu.prior_stdev))\n",
    "df_foreu_concat = pd.concat([df_foreu,df_foreu_single],join=\"outer\",axis=1,keys=[\"k+r\",\"k_only\"])\n",
    "df_foreu_concat"
   ]
  },
  {
   "cell_type": "markdown",
   "metadata": {},
   "source": [
    "## Better to plot them:\n",
    "\n",
    "### (blue is k and r, green is k only)"
   ]
  },
  {
   "cell_type": "code",
   "execution_count": null,
   "metadata": {
    "collapsed": false
   },
   "outputs": [],
   "source": [
    "df_foreu_concat.loc[:,(slice(None),\"reduction\")].plot(kind=\"bar\", legend=False)"
   ]
  },
  {
   "cell_type": "markdown",
   "metadata": {},
   "source": [
    "### Which forecasts are influenced by the ``rch1`` parameter?  \n",
    "\n",
    "### Which forecasts were more or less unchanged - why?\n",
    "\n",
    "### Which case (``K`` or ``K+R``) provides the more robust uncertainty estimate?"
   ]
  },
  {
   "cell_type": "markdown",
   "metadata": {},
   "source": [
    "# Wait, something is amiss.  \n",
    "\n",
    "### Look at this slightly modified version of the groundwater governing equation from Anderson et al. (2015) below.  Is this problem well posed? That is, if recharge increased (represented by an increase in $W^*$) *and* at the same time K increased (represented by an increase in q) could they offset each other so that the righthand side stays the same? What is this called?\n",
    "\n",
    " \n",
    "  <img src=\"GW_GE2.jpg\" style=\"float: center\">\n",
    " \n",
    " \n",
    " ### Recall the Bravo et al. (2002) trough when calibrating K and R with only heads:\n",
    " \n",
    "  <img src=\"Fig9.11a_bravo_trough.jpeg\" style=\"float: center\">\n",
    "  \n",
    "  ****************\n",
    " "
   ]
  },
  {
   "cell_type": "markdown",
   "metadata": {},
   "source": [
    "###  Even though estimating both R and K using only head observations is not possible, PEST++ gave you an answer.  How? (Hint:  look in the .rec file and see what happens to the parameters over the course of the run)\n",
    "\n",
    "\n",
    "## Let's dig into the PEST result a bit more...\n",
    "\n",
    "1) Compare the optimal rch1 parameter value in the __freyberg.rec__ file (search for \"Optimal parameter values\" without the quotation marks) to the rch1 parameter data the instructors supplied in the PEST control file.  \n",
    "\n",
    "2) Where does the optimal parameter lie with respect to the bounds that were given for the parameter? \n",
    "\n",
    "3) Open the __freyberg.ipar__ file in a text editor.  What was the iteration history of rch1?"
   ]
  },
  {
   "cell_type": "markdown",
   "metadata": {},
   "source": [
    "# Let's look at the correlation"
   ]
  },
  {
   "cell_type": "code",
   "execution_count": null,
   "metadata": {
    "collapsed": false
   },
   "outputs": [],
   "source": [
    "sc = pyemu.Schur('freyberg.jcb')\n",
    "cov = pyemu.Cov(sc.xtqx.x, names=sc.pst.adj_par_names)\n",
    "R = cov.to_pearson()\n",
    "R.df()"
   ]
  },
  {
   "cell_type": "markdown",
   "metadata": {
    "collapsed": true
   },
   "source": [
    "# Let's test how \"optimal\" these parameters are. \n",
    "\n",
    "1) Open freyberg.pst in a text editor, \n",
    "\n",
    "2) change the upper bound of the rch1 parameter from 1.5500000000E-04 to 2.5500000000E-04\n",
    "\n",
    "3) re-run PEST++\n",
    "\n",
    "4) open the __freyberg.ipar__ file in a text editor.  "
   ]
  },
  {
   "cell_type": "markdown",
   "metadata": {},
   "source": [
    "# Last points:\n",
    "\n",
    "## Do you believe that value is optimal, or even defensible?  Should we believe the forecast uncertainty either?"
   ]
  },
  {
   "cell_type": "markdown",
   "metadata": {
    "collapsed": true
   },
   "source": [
    "# ADVANCED\n",
    "\n",
    "## How could we make parameter estimation for this model tractable?  (e.g., what did we do in the xsec model?  What did Bravo et al. (2002) do?)"
   ]
  },
  {
   "cell_type": "code",
   "execution_count": null,
   "metadata": {
    "collapsed": true
   },
   "outputs": [],
   "source": []
  }
 ],
 "metadata": {
  "anaconda-cloud": {},
  "kernelspec": {
   "display_name": "Python 3",
   "language": "python",
   "name": "python3"
  },
  "language_info": {
   "codemirror_mode": {
    "name": "ipython",
    "version": 3
   },
   "file_extension": ".py",
   "mimetype": "text/x-python",
   "name": "python",
   "nbconvert_exporter": "python",
   "pygments_lexer": "ipython3",
   "version": "3.5.2"
  }
 },
 "nbformat": 4,
 "nbformat_minor": 0
}
