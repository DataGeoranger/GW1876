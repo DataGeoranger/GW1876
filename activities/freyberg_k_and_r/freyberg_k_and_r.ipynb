{
 "cells": [
  {
   "cell_type": "markdown",
   "metadata": {},
   "source": [
    "<img src=\"PEST++V3_cover.jpeg\" style=\"float: left\">\n",
    "\n",
    "<img src=\"flopylogo.png\" style=\"float: right\">\n",
    "\n",
    "<img src=\"AW&H2015.png\" style=\"float: center\">\n",
    "\n",
    "# History match the Freyberg model adding a ``RCH`` parameter to our ``K`` parameter\n",
    "\n",
    "### Remember that when something is not included in the uncertainty analysis it is the same as saying that we know it perfectly.  Recharge is hard to measure accurately in the field, and difficult to upscale to a model domain.  So, we clearly don't know it perfectly and, therefore, typically include it in the parameter estimation process.  That's what we'll do in this exercise. \n"
   ]
  },
  {
   "cell_type": "markdown",
   "metadata": {},
   "source": [
    "# Quick reminder of what the model looks like:\n",
    "\n",
    "It is a heterogenous 2D areal (1-layer) model that is a step up in complexity from our xsec model. Recall it looks like this, as shown in the original Freyberg (1988) paper on the left, and a Groundwater Vistas version on the right (from the file in the GW_Vistas subdirectory).   \n",
    "\n",
    "<img src=\"Freyburg1988_fig1.png\" style=\"float: left\">\n",
    "\n",
    "<img src=\"Freyberg_k_plot_GW_Vistas.png\" style=\"float: right\">"
   ]
  },
  {
   "cell_type": "markdown",
   "metadata": {},
   "source": [
    "### Standard two code blocks to set the notebook up"
   ]
  },
  {
   "cell_type": "code",
   "execution_count": null,
   "metadata": {},
   "outputs": [],
   "source": [
    "%matplotlib inline\n",
    "import os\n",
    "import sys\n",
    "sys.path.append(\"..\")\n",
    "import shutil\n",
    "import pandas as pd\n",
    "import matplotlib.pyplot as plt\n",
    "import pyemu"
   ]
  },
  {
   "cell_type": "code",
   "execution_count": null,
   "metadata": {},
   "outputs": [],
   "source": [
    "import freyberg_setup as fs\n",
    "pst_name = fs.PST_NAME_KR\n",
    "working_dir = fs.WORKING_DIR_KR\n",
    "fs.setup_pest_kr()\n",
    "pst = pyemu.Pst(os.path.join(working_dir,pst_name))\n",
    "pst.control_data.noptmax = 0\n",
    "pst.observation_data.loc[pst.observation_data.obgnme=='calflux', 'weight']=0\n",
    "pst.write(os.path.join(working_dir,pst_name))"
   ]
  },
  {
   "cell_type": "code",
   "execution_count": null,
   "metadata": {},
   "outputs": [],
   "source": [
    "fs.plot_model(working_dir, pst_name)"
   ]
  },
  {
   "cell_type": "markdown",
   "metadata": {},
   "source": [
    "### Let's run PESTCHEK and see what it says about our freyberg.pst file"
   ]
  },
  {
   "cell_type": "code",
   "execution_count": null,
   "metadata": {},
   "outputs": [],
   "source": [
    "pyemu.helpers.run(\"pestchek {0}\".format(pst_name),cwd=working_dir)"
   ]
  },
  {
   "cell_type": "markdown",
   "metadata": {},
   "source": [
    "### Curious, in the PESTCHEK warning section it says \"All parameters belonging to the parameter group \"rch\" are either fixed or tied\". That is flagged as a warning because PESTCHEK is wondering why would it not be adjustable after you went to all the trouble to define it as a parameter.  But, there  are times you may want to do this, so it is classified as a warning and isn't going to stop you.\n",
    "\n",
    "## But that is not what we want, we want to make recharge a parameter in this activity."
   ]
  },
  {
   "cell_type": "markdown",
   "metadata": {},
   "source": [
    "### Open the PEST control file freyberg.pst in your text editor.  \n",
    "\n",
    "1) Look in the parameter data section\n",
    "\n",
    "2) Find the parameter __rch_0__ (the recharge for the calibration period) and make it adjustable (hint:  look at the other parameters) \n",
    "\n",
    "3) Save the file\n",
    "\n",
    "4) Run PESTCHEK on the PEST control file in a seperate terminal window or by executing the next code block and looking at the terminal window where you launched this notebook"
   ]
  },
  {
   "cell_type": "code",
   "execution_count": null,
   "metadata": {},
   "outputs": [],
   "source": [
    "pyemu.helpers.run(\"pestchek {0}\".format(pst_name),cwd=working_dir)"
   ]
  },
  {
   "cell_type": "markdown",
   "metadata": {},
   "source": [
    "Did that parameter group \"rch\" warning go away?"
   ]
  },
  {
   "cell_type": "markdown",
   "metadata": {},
   "source": [
    "FYI - You can also change that PEST control file setting with pyemu..."
   ]
  },
  {
   "cell_type": "code",
   "execution_count": null,
   "metadata": {},
   "outputs": [],
   "source": [
    "pst.parameter_data.loc[\"rch_0\",\"partrans\"] = \"log\"\n",
    "pst.write(os.path.join(working_dir,pst_name))"
   ]
  },
  {
   "cell_type": "markdown",
   "metadata": {},
   "source": [
    "\n",
    "4) When no errors, run PEST++ by executing the next block (look in your terminal window to see the run progress and wait for the 0 to show up below the code block before continuing).\n"
   ]
  },
  {
   "cell_type": "code",
   "execution_count": null,
   "metadata": {},
   "outputs": [],
   "source": [
    "pyemu.helpers.run(\"pestpp {0}\".format(pst_name),cwd=working_dir)"
   ]
  },
  {
   "cell_type": "markdown",
   "metadata": {},
   "source": [
    "### ``PEST++`` only ran the model one time - why?"
   ]
  },
  {
   "cell_type": "markdown",
   "metadata": {},
   "source": [
    "#### This was of course in the warnings when we ran PESTCHEK. Let's do that again in the next block and pay attention to that part of the warnings section (look at the terminal window where you launched this notebook to see the PESTCHEK output). "
   ]
  },
  {
   "cell_type": "code",
   "execution_count": null,
   "metadata": {},
   "outputs": [],
   "source": [
    "pyemu.helpers.run(\"pestchek {0}\".format(pst_name),cwd=working_dir)"
   ]
  },
  {
   "cell_type": "code",
   "execution_count": null,
   "metadata": {},
   "outputs": [],
   "source": [
    "pst = pyemu.Pst(os.path.join(working_dir,pst_name))\n",
    "pst.control_data.noptmax = 20\n",
    "pst.write(os.path.join(working_dir,pst_name))"
   ]
  },
  {
   "cell_type": "markdown",
   "metadata": {},
   "source": [
    "#### Let's run PESTCHEK again to make sure"
   ]
  },
  {
   "cell_type": "code",
   "execution_count": null,
   "metadata": {},
   "outputs": [],
   "source": [
    "pyemu.helpers.run(\"pestchek {0}\".format(pst_name),cwd=working_dir)"
   ]
  },
  {
   "cell_type": "markdown",
   "metadata": {},
   "source": [
    "### Now that we've changed NOPTMAX, let's run a PEST++ again.  We set NOPTMAX to 20 so the run is longer - watch your terminal window for progress.  Again, don't advance until you see a 0 returned below the code block.\n",
    "\n",
    "\n",
    "#### As you watch your terminal window scroll by, look at the right edge where it reports the counter of the runs needed for each PEST++ iteration.  Why does it change?"
   ]
  },
  {
   "cell_type": "code",
   "execution_count": null,
   "metadata": {},
   "outputs": [],
   "source": [
    "pyemu.helpers.run(\"pestpp {0}\".format(pst_name),cwd=working_dir)"
   ]
  },
  {
   "cell_type": "markdown",
   "metadata": {},
   "source": [
    "### Let's see how we did for our fit:"
   ]
  },
  {
   "cell_type": "code",
   "execution_count": null,
   "metadata": {},
   "outputs": [],
   "source": [
    "df_obj = pd.read_csv(os.path.join(working_dir,pst_name.replace(\".pst\",\".iobj\")),index_col=0)\n",
    "df_obj"
   ]
  },
  {
   "cell_type": "markdown",
   "metadata": {},
   "source": [
    "(you can see this information unformatted by opening the .iobj file, which is a comma delimited ASCII PEST++ output file)\n",
    "\n",
    "\n",
    "\n",
    "### Additional knobs given to PEST gives it more flexibility for fitting the observed data - is the final Phi lower than the last activity?\n",
    "\n",
    "\n",
    "### You can see individual residuals (and the weights you specified) in the freyberg.rei file.  Here's we'll use Python to calculate the summary statistics for this new run:"
   ]
  },
  {
   "cell_type": "code",
   "execution_count": null,
   "metadata": {},
   "outputs": [],
   "source": [
    "pst = pyemu.Pst(os.path.join(working_dir,pst_name))\n",
    "pst.phi"
   ]
  },
  {
   "cell_type": "code",
   "execution_count": null,
   "metadata": {},
   "outputs": [],
   "source": [
    "pst.phi_components"
   ]
  },
  {
   "cell_type": "code",
   "execution_count": null,
   "metadata": {},
   "outputs": [],
   "source": [
    "pst.res.loc[pst.nnz_obs_names,:]"
   ]
  },
  {
   "cell_type": "code",
   "execution_count": null,
   "metadata": {},
   "outputs": [],
   "source": [
    "pyemu.plot_utils.res_1to1(pst)"
   ]
  },
  {
   "cell_type": "markdown",
   "metadata": {},
   "source": [
    "### Hmm, looks familiar.....let's look at the parameter uncertainties:"
   ]
  },
  {
   "cell_type": "code",
   "execution_count": null,
   "metadata": {},
   "outputs": [],
   "source": [
    "df_paru = pd.read_csv(os.path.join(working_dir,pst_name.replace(\".pst\",\".par.usum.csv\")),index_col=0)\n",
    "df_paru"
   ]
  },
  {
   "cell_type": "markdown",
   "metadata": {},
   "source": [
    "### Hmm - Recharge = 0.00000?  No, it's not 0.0 - recall that when we log parameters the parameter and its uncertainty is reported as logarithms.  So, 10^0 = 1, which is what we see for an initial value in the PEST control file. \n",
    "\n",
    "Now let's plot the parameter uncertainty, where the pre-calibration prior is gray dashed and the after-calibration posterior is in blue..."
   ]
  },
  {
   "cell_type": "code",
   "execution_count": null,
   "metadata": {},
   "outputs": [],
   "source": [
    "pyemu.helpers.plot_summary_distributions(df_paru,label_post=True)"
   ]
  },
  {
   "cell_type": "markdown",
   "metadata": {},
   "source": [
    "### Now let's compare this to the parameter uncertainty from the K-only calibration done previously :\n",
    "\n",
    "#### Here's the K only case from the last activity that you can compare to the similar K+R table above:"
   ]
  },
  {
   "cell_type": "code",
   "execution_count": null,
   "metadata": {},
   "outputs": [],
   "source": [
    "df_paru_single = pd.read_csv(os.path.join(\"..\",\"freyberg_k\",\"freyberg_un\",\"freyberg_un.par.usum.csv\"),index_col=0)\n",
    "df_paru_single"
   ]
  },
  {
   "cell_type": "markdown",
   "metadata": {},
   "source": [
    "#### Easier to see if we plot them. Here's the posterior and prior standard deviation for the new K+R (left) next the to K only results (right)"
   ]
  },
  {
   "cell_type": "code",
   "execution_count": null,
   "metadata": {},
   "outputs": [],
   "source": [
    "df_paru_concat = pd.concat([df_paru,df_paru_single],join=\"outer\",axis=1,keys=[\"k+r\",\"k_only\"])\n",
    "df_paru_concat.sort_index(inplace=True,axis=1)\n",
    "#df_paru_concat.sort_index(level=1,inplace=True)\n",
    "\n",
    "for pname in df_paru_concat.index:\n",
    "    ax = df_paru_concat.loc[pname,(slice(None),(\"prior_stdev\",\"post_stdev\"))].plot(kind=\"bar\")\n",
    "    ax.set_title(pname)\n",
    "    plt.show()"
   ]
  },
  {
   "cell_type": "markdown",
   "metadata": {},
   "source": [
    "### How does the uncertainty reduction for ``hk`` change when ``rch_0`` is included?\n",
    "\n",
    "## Now let's look at the forecasts:\n",
    "\n",
    "#### First, here's our previous results for the K only case:"
   ]
  },
  {
   "cell_type": "code",
   "execution_count": null,
   "metadata": {},
   "outputs": [],
   "source": [
    "df_predu_single = pd.read_csv(os.path.join(\"..\",\"freyberg_k\",\"freyberg_un\",\"freyberg_un.pred.usum.csv\"),index_col=0)\n",
    "df_predu_single.loc[:,\"reduction\"] = 100.0 *  (1.0 - (df_predu_single.post_stdev / df_predu_single.prior_stdev))\n",
    "\n",
    "figs, axes = pyemu.helpers.plot_summary_distributions(df_predu_single,subplots=True)"
   ]
  },
  {
   "cell_type": "markdown",
   "metadata": {},
   "source": [
    "#### Wow - tight and certain.  Here's this K-only run (now in green) compared to our new run where K and R are parameters (blue):"
   ]
  },
  {
   "cell_type": "code",
   "execution_count": null,
   "metadata": {},
   "outputs": [],
   "source": [
    "df_predu = pd.read_csv(os.path.join(working_dir,pst_name.replace(\".pst\",\".pred.usum.csv\")),index_col=0)\n",
    "df_predu.loc[:,\"reduction\"] = 100.0 *  (1.0 - (df_predu.post_stdev / df_predu.prior_stdev))\n",
    "\n",
    "for forecast in df_predu.index:\n",
    "    ax = plt.subplot(111)\n",
    "    pyemu.helpers.plot_summary_distributions(df_predu.loc[[forecast],:],ax=ax)\n",
    "    pyemu.helpers.plot_summary_distributions(df_predu_single.loc[[forecast],:],ax=ax,pt_color='g')\n",
    "    ax.set_title(forecast)\n",
    "    ax.grid()\n",
    "    plt.show()"
   ]
  },
  {
   "cell_type": "markdown",
   "metadata": {},
   "source": [
    "### Which forecasts are influenced by the ``rch_0`` parameter?\n",
    "\n",
    "### The higher and narrower the peak the more certain we are - did the uncertainty decrease or increase when we added the second parameter?\n",
    "\n",
    "### Which forecasts had little change - why?\n",
    "\n",
    "### Which case (``K`` or ``K+R``) provides the more robust uncertainty estimate?"
   ]
  },
  {
   "cell_type": "markdown",
   "metadata": {},
   "source": [
    "# Wait, something is amiss.  \n",
    "\n",
    "### Look at this slightly modified version of the groundwater governing equation from Anderson et al. (2015) below.  Is this problem well posed? That is, if recharge increased (represented by an increase in $W^*$) *and* at the same time K increased (represented by an increase in q) could they offset each other so that the righthand side stays the same? What is this called?\n",
    "\n",
    " \n",
    "  <img src=\"GW_GE2.jpg\" style=\"float: center\">\n",
    " \n",
    " \n",
    " ### Recall the Bravo et al. (2002) trough when calibrating K and R with only heads:\n",
    " \n",
    "  <img src=\"Fig9.11a_bravo_trough.jpeg\" style=\"float: center\">\n",
    "  \n",
    "  ****************\n",
    " "
   ]
  },
  {
   "cell_type": "markdown",
   "metadata": {},
   "source": [
    "# Let's look at the correlation of our two parameters"
   ]
  },
  {
   "cell_type": "code",
   "execution_count": null,
   "metadata": {},
   "outputs": [],
   "source": [
    "sc = pyemu.Schur(os.path.join(working_dir,pst_name.replace(\".pst\",\".jcb\")))\n",
    "cov = pyemu.Cov(sc.xtqx.x, names=sc.pst.adj_par_names)\n",
    "R = cov.to_pearson()\n",
    "R.df()"
   ]
  },
  {
   "cell_type": "markdown",
   "metadata": {},
   "source": [
    "### Wow - correlated.  Recall that Hill and Tiedeman (2007) suggest that correlation > 0.95 or so is not estimable\n",
    "\n",
    "## Even though estimating both R and K using only head observations is not possible because of this correlation, PEST++ gave you an answer.  How? \n",
    "\n",
    "(Hint:  look in the .rec file and see what happens to the parameters over the course of the run)\n",
    "\n",
    "\n",
    "## Let's dig into the PEST result a bit more...\n",
    "\n",
    "1) Compare the optimal rch1 parameter value in the __freyberg_kr.rec__ file (search for \"Optimal parameter values\" without the quotation marks) to the rch_0 parameter data the instructors supplied in the PEST control file.  \n",
    "\n",
    "2) Where does the optimal parameter lie with respect to the bounds that were given for the parameter? \n",
    "\n",
    "3) Open the __freyberg_kr.ipar__ file in a text editor.  What was the iteration history of rch_0?\n",
    "\n",
    "## So how did PEST++ deal with this intractable correlation?"
   ]
  },
  {
   "cell_type": "markdown",
   "metadata": {},
   "source": [
    "# Last points:\n",
    "\n",
    "## Do you believe that value is optimal, or even defensible?  Should we believe the forecast uncertainty either?\n",
    "\n",
    "Let's again look at the forecasts with the \"Truth\""
   ]
  },
  {
   "cell_type": "code",
   "execution_count": null,
   "metadata": {
    "scrolled": true
   },
   "outputs": [],
   "source": [
    "figs, axes = pyemu.helpers.plot_summary_distributions(df_predu,subplots=True)\n",
    "for ax in axes:\n",
    "    fname = ax.get_title().lower()\n",
    "    ylim = ax.get_ylim()\n",
    "    v = pst.observation_data.loc[fname,\"obsval\"]\n",
    "    ax.plot([v,v],ylim,\"k--\")\n",
    "    ax.set_ylim(ylim)"
   ]
  },
  {
   "cell_type": "markdown",
   "metadata": {},
   "source": [
    "Still not bracketing the \"truth\" for many forecasts...yikes!"
   ]
  },
  {
   "cell_type": "markdown",
   "metadata": {
    "collapsed": true
   },
   "source": [
    "# Advanced"
   ]
  },
  {
   "cell_type": "markdown",
   "metadata": {
    "collapsed": true
   },
   "source": [
    "### Let's test how \"optimal\" these parameters are. \n",
    "\n",
    "1) Open freyberg_kr\\freyberg_kr.pst in a text editor, \n",
    "\n",
    "2) change the upper bound of the rch_0 parameter from 1.25 to 3.25\n",
    "\n",
    "3) re-run pestpp\n",
    "\n",
    "4) open the __freyberg_kr.ipar__ file in a text editor.  \n",
    "\n",
    "How does the new optimal rch_0 compare to the previous optimal value? To the new upper bound?"
   ]
  },
  {
   "cell_type": "code",
   "execution_count": null,
   "metadata": {},
   "outputs": [],
   "source": []
  }
 ],
 "metadata": {
  "anaconda-cloud": {},
  "kernelspec": {
   "display_name": "Python 3",
   "language": "python",
   "name": "python3"
  },
  "language_info": {
   "codemirror_mode": {
    "name": "ipython",
    "version": 3
   },
   "file_extension": ".py",
   "mimetype": "text/x-python",
   "name": "python",
   "nbconvert_exporter": "python",
   "pygments_lexer": "ipython3",
   "version": "3.5.4"
  }
 },
 "nbformat": 4,
 "nbformat_minor": 1
}
