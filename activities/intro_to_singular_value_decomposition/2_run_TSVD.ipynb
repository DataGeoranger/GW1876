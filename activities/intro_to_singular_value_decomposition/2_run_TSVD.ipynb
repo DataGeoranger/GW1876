{
 "cells": [
  {
   "cell_type": "markdown",
   "metadata": {},
   "source": [
    "<img src=\"PEST++V3_cover.jpeg\" style=\"float: left\">\n",
    "\n",
    "<img src=\"flopylogo.png\" style=\"float: right\">\n",
    "\n",
    "<img src=\"AW&H2015.png\" style=\"float: center\">\n",
    "\n",
    "# Let's look at truncation of the SVD spectrum as a regularization device\n",
    "\n",
    "### Recall that regularization refers to any approach that makes an illposed/underdetermined parameter estimation problem solvable.  Therefore, when you manually reduce the number of parameters such as zones you are doing a type of regularization.  \n",
    "\n",
    "### Singular Value Decomposition can be thought of as operating in a similar fashion but is automated, and more clever.  Using the Jacobian matrix, it reduces the number of base parameters by making linear combinations of the base parameters.  Thus two perfectly correlated parameters become 1 combined parameter, which helps give a unique solution to the parameter estimation problem. Those linear combinations (__=singular values__) that are in the noise (__=null space__) get truncated (__=removed from the parameter estimation process__).  This means that insensitive parameters don't adversely affect the parameter estimation process.  Those linear combinations that remain (__=solution space__) are then used to solve the parameters estimation problem.  \n",
    "\n",
    "### Truncated SVD approach makes for a parameter estimation process that is __*unconditionally stable*__, which means it is guaranteed to be well-posed, and solvable. But the number of singular values also controls, in a somewhat brute force way, the degree of parameter smoothing and fit. The key to stability and degree of smoothing is this truncation process, which we'll dig into here.\n"
   ]
  },
  {
   "cell_type": "code",
   "execution_count": 1,
   "metadata": {
    "collapsed": true
   },
   "outputs": [],
   "source": [
    "import os, shutil\n",
    "import sys\n",
    "sys.path.append('..')\n",
    "import flopy as fp\n",
    "import numpy as np\n",
    "import pyemu\n",
    "import pandas as pd\n",
    "import matplotlib.pyplot as plt\n",
    "%matplotlib inline\n",
    "import tsvd_helper as th\n"
   ]
  },
  {
   "cell_type": "code",
   "execution_count": null,
   "metadata": {
    "collapsed": true
   },
   "outputs": [],
   "source": []
  },
  {
   "cell_type": "markdown",
   "metadata": {},
   "source": [
    "## We can work with the pilot points model, so we will copy over the pilot points files"
   ]
  },
  {
   "cell_type": "code",
   "execution_count": 2,
   "metadata": {},
   "outputs": [
    {
     "name": "stdout",
     "output_type": "stream",
     "text": [
      "['.DS_Store', 'botm.ref', 'extract_zone_array.py', 'forecasts_true.csv', 'freyberg.bas', 'freyberg.dbf', 'freyberg.dis', 'freyberg.hds', 'freyberg.heads', 'freyberg.heads_potobs.ins', 'freyberg.hyd', 'freyberg.list', 'freyberg.locations', 'freyberg.mpbas', 'freyberg.mpenpt', 'freyberg.mplist', 'freyberg.mpnam', 'freyberg.mppthln', 'freyberg.mpsim', 'freyberg.oc', 'freyberg.pcg', 'freyberg.rivflux', 'freyberg.shp', 'freyberg.shx', 'freyberg.travel', 'freyberg.truth.lpf', 'freyberg.truth.nam', 'freyberg.truth.rch', 'freyberg.truth.riv', 'freyberg.truth.wel', 'hk.truth.ref', 'hk.zones', 'ibound.ref', 'inschek', 'inschek.exe', 'kzone.ref', 'mf2005', 'mf2005.exe', 'mfnwt', 'mp6', 'mp6.exe', 'mpath.in', 'obs_loc.csv', 'pest++.exe', 'pestchek', 'pestchek.exe', 'pestpp', 'potobs_group.csv', 'Process_output.py', 'run_true_model.py', 'strt.ref', 'sweep', 'sweep.exe', 'tempchek', 'tempchek.exe', 'Weights_and_best_PHI.xlsx']\n",
      "\n",
      "changing model workspace...\n",
      "   freyberg_pp\n",
      "WARNING: unit 31 of package UPW already in use\n",
      "FloPy is using the following executable to run the model: /Users/mnfienen/Documents/GIT/GW1876/activities/singular_value_decomposition/freyberg_pp/mfnwt\n",
      "\n",
      "                                  MODFLOW-NWT-SWR1 \n",
      "    U.S. GEOLOGICAL SURVEY MODULAR FINITE-DIFFERENCE GROUNDWATER-FLOW MODEL\n",
      "                             WITH NEWTON FORMULATION\n",
      "                             Version 1.1.1, 7/21/2016                        \n",
      "                    BASED ON MODFLOW-2005 Version 1.11.0 08/08/2013                       \n",
      "\n",
      "                    SWR1 Version 1.04.0 07/21/2016                       \n",
      "\n",
      " Using NAME file: freyberg.nam \n",
      " Run start date and time (yyyy/mm/dd hh:mm:ss): 2017/09/09 22:03:48\n",
      "\n",
      " Solving:  Stress period:     1    Time step:     1    Groundwater-Flow Eqn.\n",
      " Solving:  Stress period:     2    Time step:     1    Groundwater-Flow Eqn.\n",
      " Solving:  Stress period:     3    Time step:     1    Groundwater-Flow Eqn.\n",
      " Run end date and time (yyyy/mm/dd hh:mm:ss): 2017/09/09 22:03:48\n",
      " Elapsed run time:  0.021 Seconds\n",
      "\n",
      "  Normal termination of simulation\n",
      "run():./mp6 freyberg.mpsim\n",
      "Util2d:delr: resetting 'how' to external\n",
      "Util2d:delc: resetting 'how' to external\n",
      "Util2d:model_top: resetting 'how' to external\n",
      "Util2d:botm_layer_0: resetting 'how' to external\n",
      "Util2d:ibound_layer_0: resetting 'how' to external\n",
      "Util2d:strt_layer_0: resetting 'how' to external\n",
      "Util2d:rech_1: resetting 'how' to external\n",
      "Util2d:rech_2: resetting 'how' to external\n",
      "Util2d:rech_3: resetting 'how' to external\n",
      "Util2d:hk layer 1: resetting 'how' to external\n",
      "Util2d:vk: resetting 'how' to external\n",
      "Util2d:ss: resetting 'how' to external\n",
      "Util2d:ss: resetting 'how' to external\n",
      "FloPy is using the following executable to run the model: /Users/mnfienen/Documents/GIT/GW1876/activities/singular_value_decomposition/freyberg_pp/mfnwt\n",
      "\n",
      "                                  MODFLOW-NWT-SWR1 \n",
      "    U.S. GEOLOGICAL SURVEY MODULAR FINITE-DIFFERENCE GROUNDWATER-FLOW MODEL\n",
      "                             WITH NEWTON FORMULATION\n",
      "                             Version 1.1.1, 7/21/2016                        \n",
      "                    BASED ON MODFLOW-2005 Version 1.11.0 08/08/2013                       \n",
      "\n",
      "                    SWR1 Version 1.04.0 07/21/2016                       \n",
      "\n",
      " Using NAME file: freyberg.nam \n",
      " Run start date and time (yyyy/mm/dd hh:mm:ss): 2017/09/09 22:03:48\n",
      "\n",
      " Solving:  Stress period:     1    Time step:     1    Groundwater-Flow Eqn.\n",
      " Solving:  Stress period:     2    Time step:     1    Groundwater-Flow Eqn.\n",
      " Solving:  Stress period:     3    Time step:     1    Groundwater-Flow Eqn.\n",
      " Run end date and time (yyyy/mm/dd hh:mm:ss): 2017/09/09 22:03:48\n",
      " Elapsed run time:  0.027 Seconds\n",
      "\n",
      "  Normal termination of simulation\n",
      "error importing shapefile, try pip install pyshp...No module named 'shapefile'\n",
      "Starting to read HYDMOD data from freyberg.hyd.bin\n",
      "Starting to read HYDMOD data from freyberg.hyd.bin.truth\n",
      "run():./inschek flux.dat.ins flux.dat\n",
      "run():./inschek vol.dat.ins vol.dat\n",
      "run():./inschek flux.dat.ins flux.dat\n",
      "run():./inschek vol.dat.ins vol.dat\n",
      "run():./inschek flux.dat.ins flux.dat\n",
      "run():./inschek freyberg.hyd.bin.dat.ins freyberg.hyd.bin.dat\n",
      "run():./inschek freyberg.travel.ins freyberg.travel\n",
      "run():./inschek vol.dat.ins vol.dat\n",
      "starting interp point loop for 800 points\n",
      "took 2.489416 seconds\n",
      "run():./pestchek freyberg_pp.pst\n",
      "run():./pestpp freyberg_pp.init.pst\n"
     ]
    },
    {
     "data": {
      "text/plain": [
       "'freyberg_pp/hk.truth.ref'"
      ]
     },
     "execution_count": 2,
     "metadata": {},
     "output_type": "execute_result"
    }
   ],
   "source": [
    "import freyberg_setup as fs\n",
    "fs.setup_pest_pp()\n",
    "working_dir = fs.WORKING_DIR_PP\n",
    "pst_name = fs.PST_NAME_PP\n",
    "shutil.copy2(os.path.join(fs.BASE_MODEL_DIR,'hk.truth.ref'), os.path.join(working_dir,'hk.truth.ref'))"
   ]
  },
  {
   "cell_type": "markdown",
   "metadata": {},
   "source": [
    "# First, let's make the Jacobian matrix at the starting conditions"
   ]
  },
  {
   "cell_type": "code",
   "execution_count": 3,
   "metadata": {
    "collapsed": true
   },
   "outputs": [],
   "source": [
    "inpst = pyemu.Pst(os.path.join(working_dir,'freyberg_pp.pst'))\n",
    "inpst.control_data.noptmax=-1\n",
    "inpst.write(os.path.join(working_dir,'freyberg_jac.pst'))\n"
   ]
  },
  {
   "cell_type": "code",
   "execution_count": 4,
   "metadata": {},
   "outputs": [
    {
     "name": "stdout",
     "output_type": "stream",
     "text": [
      "master:./pestpp freyberg_jac.pst /h :4004 in .\n",
      "slave:./pestpp freyberg_jac.pst /h localhost:4004 in ../slave_0\n",
      "slave:./pestpp freyberg_jac.pst /h localhost:4004 in ../slave_1\n",
      "slave:./pestpp freyberg_jac.pst /h localhost:4004 in ../slave_2\n",
      "slave:./pestpp freyberg_jac.pst /h localhost:4004 in ../slave_3\n",
      "slave:./pestpp freyberg_jac.pst /h localhost:4004 in ../slave_4\n",
      "slave:./pestpp freyberg_jac.pst /h localhost:4004 in ../slave_5\n",
      "slave:./pestpp freyberg_jac.pst /h localhost:4004 in ../slave_6\n",
      "slave:./pestpp freyberg_jac.pst /h localhost:4004 in ../slave_7\n",
      "slave:./pestpp freyberg_jac.pst /h localhost:4004 in ../slave_8\n",
      "slave:./pestpp freyberg_jac.pst /h localhost:4004 in ../slave_9\n",
      "slave:./pestpp freyberg_jac.pst /h localhost:4004 in ../slave_10\n",
      "slave:./pestpp freyberg_jac.pst /h localhost:4004 in ../slave_11\n",
      "slave:./pestpp freyberg_jac.pst /h localhost:4004 in ../slave_12\n",
      "slave:./pestpp freyberg_jac.pst /h localhost:4004 in ../slave_13\n",
      "slave:./pestpp freyberg_jac.pst /h localhost:4004 in ../slave_14\n"
     ]
    }
   ],
   "source": [
    "os.chdir('freyberg_pp')\n",
    "pyemu.helpers.start_slaves('.',\"pestpp\",'freyberg_jac.pst',num_slaves=15,master_dir='.')\n",
    "os.chdir('..')"
   ]
  },
  {
   "cell_type": "markdown",
   "metadata": {},
   "source": [
    "# in `pyemu` we can read in the  Jacobian and, if we form the Schur complement object, we also get $\\mathbf{X}^T\\mathbf{Q}\\mathbf{X}$"
   ]
  },
  {
   "cell_type": "code",
   "execution_count": 5,
   "metadata": {
    "collapsed": true
   },
   "outputs": [],
   "source": [
    "injac = pyemu.Schur(os.path.join(working_dir,'freyberg_jac.jcb'))"
   ]
  },
  {
   "cell_type": "markdown",
   "metadata": {},
   "source": [
    "## now let's look at the singular value spectrum"
   ]
  },
  {
   "cell_type": "code",
   "execution_count": 6,
   "metadata": {
    "collapsed": true
   },
   "outputs": [],
   "source": [
    "U,S,V = np.linalg.svd(injac.xtqx.df())"
   ]
  },
  {
   "cell_type": "code",
   "execution_count": 7,
   "metadata": {},
   "outputs": [
    {
     "data": {
      "image/png": "[encoded data removed]",
      "text/plain": [
       "<matplotlib.figure.Figure at 0x11715bba8>"
      ]
     },
     "metadata": {},
     "output_type": "display_data"
    }
   ],
   "source": [
    "plt.bar(range(len(S)),S)\n",
    "plt.yscale('log')\n",
    "plt.grid('on')"
   ]
  },
  {
   "cell_type": "markdown",
   "metadata": {},
   "source": [
    "# So what if we only use parameters comprising the first 2 singular vectors?"
   ]
  },
  {
   "cell_type": "code",
   "execution_count": 8,
   "metadata": {
    "collapsed": true
   },
   "outputs": [],
   "source": [
    "inpst = pyemu.Pst(os.path.join(working_dir,'freyberg_pp.pst'))"
   ]
  },
  {
   "cell_type": "code",
   "execution_count": 9,
   "metadata": {},
   "outputs": [
    {
     "data": {
      "text/plain": [
       "{'forecasts': 'fr03c10_19750102,fr03c16_19750102,fr04c09_19750102,fr10c02_19750102,fr14c11_19750102,fr16c17_19750102,fr22c11_19750102,fr23c16_19750102,fr25c05_19750102,fr27c07_19750102,fr30c16_19750102,fr34c08_19750102,fr35c11_19750102,flx_river_l_19750102,travel_time',\n",
       " 'lambda_scale_fac': '1.0',\n",
       " 'lambdas': '0.1,1.0,10.0',\n",
       " 'max_n_super': 2,\n",
       " 'n_iter_base': '-1',\n",
       " 'n_iter_super': 100,\n",
       " 'upgrade_augment': 'false'}"
      ]
     },
     "execution_count": 9,
     "metadata": {},
     "output_type": "execute_result"
    }
   ],
   "source": [
    "inpst.pestpp_options['n_iter_super'] = 100\n",
    "inpst.pestpp_options['max_n_super'] = 2\n",
    "\n",
    "inpst.pestpp_options"
   ]
  },
  {
   "cell_type": "code",
   "execution_count": 10,
   "metadata": {
    "collapsed": true
   },
   "outputs": [],
   "source": [
    "inpst.write(os.path.join(working_dir,'freyberg_TSVD.pst'))\n"
   ]
  },
  {
   "cell_type": "code",
   "execution_count": 11,
   "metadata": {},
   "outputs": [
    {
     "name": "stdout",
     "output_type": "stream",
     "text": [
      "master:./pestpp freyberg_TSVD.pst /h :4004 in .\n",
      "slave:./pestpp freyberg_TSVD.pst /h localhost:4004 in ../slave_0\n",
      "slave:./pestpp freyberg_TSVD.pst /h localhost:4004 in ../slave_1\n",
      "slave:./pestpp freyberg_TSVD.pst /h localhost:4004 in ../slave_2\n",
      "slave:./pestpp freyberg_TSVD.pst /h localhost:4004 in ../slave_3\n",
      "slave:./pestpp freyberg_TSVD.pst /h localhost:4004 in ../slave_4\n",
      "slave:./pestpp freyberg_TSVD.pst /h localhost:4004 in ../slave_5\n",
      "slave:./pestpp freyberg_TSVD.pst /h localhost:4004 in ../slave_6\n",
      "slave:./pestpp freyberg_TSVD.pst /h localhost:4004 in ../slave_7\n",
      "slave:./pestpp freyberg_TSVD.pst /h localhost:4004 in ../slave_8\n",
      "slave:./pestpp freyberg_TSVD.pst /h localhost:4004 in ../slave_9\n",
      "slave:./pestpp freyberg_TSVD.pst /h localhost:4004 in ../slave_10\n",
      "slave:./pestpp freyberg_TSVD.pst /h localhost:4004 in ../slave_11\n",
      "slave:./pestpp freyberg_TSVD.pst /h localhost:4004 in ../slave_12\n",
      "slave:./pestpp freyberg_TSVD.pst /h localhost:4004 in ../slave_13\n",
      "slave:./pestpp freyberg_TSVD.pst /h localhost:4004 in ../slave_14\n"
     ]
    }
   ],
   "source": [
    "os.chdir('freyberg_pp')\n",
    "pyemu.helpers.start_slaves('.',\"pestpp\",'freyberg_TSVD.pst',num_slaves=15,master_dir='.')\n",
    "os.chdir('..')"
   ]
  },
  {
   "cell_type": "code",
   "execution_count": 12,
   "metadata": {
    "collapsed": true
   },
   "outputs": [],
   "source": [
    "indf = pd.read_csv(os.path.join(working_dir,'freyberg_TSVD.iobj'))"
   ]
  },
  {
   "cell_type": "code",
   "execution_count": 13,
   "metadata": {},
   "outputs": [
    {
     "data": {
      "text/html": [
       "<div>\n",
       "<style>\n",
       "    .dataframe thead tr:only-child th {\n",
       "        text-align: right;\n",
       "    }\n",
       "\n",
       "    .dataframe thead th {\n",
       "        text-align: left;\n",
       "    }\n",
       "\n",
       "    .dataframe tbody tr th {\n",
       "        vertical-align: top;\n",
       "    }\n",
       "</style>\n",
       "<table border=\"1\" class=\"dataframe\">\n",
       "  <thead>\n",
       "    <tr style=\"text-align: right;\">\n",
       "      <th></th>\n",
       "      <th>iteration</th>\n",
       "      <th>model_runs_completed</th>\n",
       "      <th>total_phi</th>\n",
       "      <th>measurement_phi</th>\n",
       "      <th>regularization_phi</th>\n",
       "      <th>calflux</th>\n",
       "      <th>calhead</th>\n",
       "      <th>flx_constan</th>\n",
       "      <th>flx_in-out</th>\n",
       "      <th>flx_percent</th>\n",
       "      <th>...</th>\n",
       "      <th>head</th>\n",
       "      <th>pothead</th>\n",
       "      <th>vol_constan</th>\n",
       "      <th>vol_in-out</th>\n",
       "      <th>vol_percent</th>\n",
       "      <th>vol_recharg</th>\n",
       "      <th>vol_river_l</th>\n",
       "      <th>vol_storage</th>\n",
       "      <th>vol_total</th>\n",
       "      <th>vol_wells</th>\n",
       "    </tr>\n",
       "  </thead>\n",
       "  <tbody>\n",
       "    <tr>\n",
       "      <th>0</th>\n",
       "      <td>0</td>\n",
       "      <td>0</td>\n",
       "      <td>1378.750</td>\n",
       "      <td>1378.750</td>\n",
       "      <td>0</td>\n",
       "      <td>56.345400</td>\n",
       "      <td>1322.400</td>\n",
       "      <td>0</td>\n",
       "      <td>0</td>\n",
       "      <td>0</td>\n",
       "      <td>...</td>\n",
       "      <td>0</td>\n",
       "      <td>0</td>\n",
       "      <td>0</td>\n",
       "      <td>0</td>\n",
       "      <td>0</td>\n",
       "      <td>0</td>\n",
       "      <td>0</td>\n",
       "      <td>0</td>\n",
       "      <td>0</td>\n",
       "      <td>0</td>\n",
       "    </tr>\n",
       "    <tr>\n",
       "      <th>1</th>\n",
       "      <td>1</td>\n",
       "      <td>65</td>\n",
       "      <td>1022.230</td>\n",
       "      <td>1022.230</td>\n",
       "      <td>0</td>\n",
       "      <td>222.712000</td>\n",
       "      <td>799.523</td>\n",
       "      <td>0</td>\n",
       "      <td>0</td>\n",
       "      <td>0</td>\n",
       "      <td>...</td>\n",
       "      <td>0</td>\n",
       "      <td>0</td>\n",
       "      <td>0</td>\n",
       "      <td>0</td>\n",
       "      <td>0</td>\n",
       "      <td>0</td>\n",
       "      <td>0</td>\n",
       "      <td>0</td>\n",
       "      <td>0</td>\n",
       "      <td>0</td>\n",
       "    </tr>\n",
       "    <tr>\n",
       "      <th>2</th>\n",
       "      <td>2</td>\n",
       "      <td>74</td>\n",
       "      <td>754.165</td>\n",
       "      <td>754.165</td>\n",
       "      <td>0</td>\n",
       "      <td>0.539292</td>\n",
       "      <td>753.626</td>\n",
       "      <td>0</td>\n",
       "      <td>0</td>\n",
       "      <td>0</td>\n",
       "      <td>...</td>\n",
       "      <td>0</td>\n",
       "      <td>0</td>\n",
       "      <td>0</td>\n",
       "      <td>0</td>\n",
       "      <td>0</td>\n",
       "      <td>0</td>\n",
       "      <td>0</td>\n",
       "      <td>0</td>\n",
       "      <td>0</td>\n",
       "      <td>0</td>\n",
       "    </tr>\n",
       "    <tr>\n",
       "      <th>3</th>\n",
       "      <td>3</td>\n",
       "      <td>83</td>\n",
       "      <td>753.389</td>\n",
       "      <td>753.389</td>\n",
       "      <td>0</td>\n",
       "      <td>0.319396</td>\n",
       "      <td>753.070</td>\n",
       "      <td>0</td>\n",
       "      <td>0</td>\n",
       "      <td>0</td>\n",
       "      <td>...</td>\n",
       "      <td>0</td>\n",
       "      <td>0</td>\n",
       "      <td>0</td>\n",
       "      <td>0</td>\n",
       "      <td>0</td>\n",
       "      <td>0</td>\n",
       "      <td>0</td>\n",
       "      <td>0</td>\n",
       "      <td>0</td>\n",
       "      <td>0</td>\n",
       "    </tr>\n",
       "    <tr>\n",
       "      <th>4</th>\n",
       "      <td>4</td>\n",
       "      <td>94</td>\n",
       "      <td>737.193</td>\n",
       "      <td>737.193</td>\n",
       "      <td>0</td>\n",
       "      <td>0.233306</td>\n",
       "      <td>736.960</td>\n",
       "      <td>0</td>\n",
       "      <td>0</td>\n",
       "      <td>0</td>\n",
       "      <td>...</td>\n",
       "      <td>0</td>\n",
       "      <td>0</td>\n",
       "      <td>0</td>\n",
       "      <td>0</td>\n",
       "      <td>0</td>\n",
       "      <td>0</td>\n",
       "      <td>0</td>\n",
       "      <td>0</td>\n",
       "      <td>0</td>\n",
       "      <td>0</td>\n",
       "    </tr>\n",
       "    <tr>\n",
       "      <th>5</th>\n",
       "      <td>5</td>\n",
       "      <td>105</td>\n",
       "      <td>737.180</td>\n",
       "      <td>737.180</td>\n",
       "      <td>0</td>\n",
       "      <td>0.251526</td>\n",
       "      <td>736.929</td>\n",
       "      <td>0</td>\n",
       "      <td>0</td>\n",
       "      <td>0</td>\n",
       "      <td>...</td>\n",
       "      <td>0</td>\n",
       "      <td>0</td>\n",
       "      <td>0</td>\n",
       "      <td>0</td>\n",
       "      <td>0</td>\n",
       "      <td>0</td>\n",
       "      <td>0</td>\n",
       "      <td>0</td>\n",
       "      <td>0</td>\n",
       "      <td>0</td>\n",
       "    </tr>\n",
       "    <tr>\n",
       "      <th>6</th>\n",
       "      <td>6</td>\n",
       "      <td>116</td>\n",
       "      <td>737.180</td>\n",
       "      <td>737.180</td>\n",
       "      <td>0</td>\n",
       "      <td>0.250083</td>\n",
       "      <td>736.930</td>\n",
       "      <td>0</td>\n",
       "      <td>0</td>\n",
       "      <td>0</td>\n",
       "      <td>...</td>\n",
       "      <td>0</td>\n",
       "      <td>0</td>\n",
       "      <td>0</td>\n",
       "      <td>0</td>\n",
       "      <td>0</td>\n",
       "      <td>0</td>\n",
       "      <td>0</td>\n",
       "      <td>0</td>\n",
       "      <td>0</td>\n",
       "      <td>0</td>\n",
       "    </tr>\n",
       "  </tbody>\n",
       "</table>\n",
       "<p>7 rows × 28 columns</p>\n",
       "</div>"
      ],
      "text/plain": [
       "   iteration  model_runs_completed  total_phi  measurement_phi  \\\n",
       "0          0                     0   1378.750         1378.750   \n",
       "1          1                    65   1022.230         1022.230   \n",
       "2          2                    74    754.165          754.165   \n",
       "3          3                    83    753.389          753.389   \n",
       "4          4                    94    737.193          737.193   \n",
       "5          5                   105    737.180          737.180   \n",
       "6          6                   116    737.180          737.180   \n",
       "\n",
       "   regularization_phi     calflux   calhead  flx_constan  flx_in-out  \\\n",
       "0                   0   56.345400  1322.400            0           0   \n",
       "1                   0  222.712000   799.523            0           0   \n",
       "2                   0    0.539292   753.626            0           0   \n",
       "3                   0    0.319396   753.070            0           0   \n",
       "4                   0    0.233306   736.960            0           0   \n",
       "5                   0    0.251526   736.929            0           0   \n",
       "6                   0    0.250083   736.930            0           0   \n",
       "\n",
       "   flx_percent    ...      head  pothead  vol_constan  vol_in-out  \\\n",
       "0            0    ...         0        0            0           0   \n",
       "1            0    ...         0        0            0           0   \n",
       "2            0    ...         0        0            0           0   \n",
       "3            0    ...         0        0            0           0   \n",
       "4            0    ...         0        0            0           0   \n",
       "5            0    ...         0        0            0           0   \n",
       "6            0    ...         0        0            0           0   \n",
       "\n",
       "   vol_percent  vol_recharg  vol_river_l  vol_storage  vol_total  vol_wells  \n",
       "0            0            0            0            0          0          0  \n",
       "1            0            0            0            0          0          0  \n",
       "2            0            0            0            0          0          0  \n",
       "3            0            0            0            0          0          0  \n",
       "4            0            0            0            0          0          0  \n",
       "5            0            0            0            0          0          0  \n",
       "6            0            0            0            0          0          0  \n",
       "\n",
       "[7 rows x 28 columns]"
      ]
     },
     "execution_count": 13,
     "metadata": {},
     "output_type": "execute_result"
    }
   ],
   "source": [
    "indf"
   ]
  },
  {
   "cell_type": "code",
   "execution_count": 14,
   "metadata": {},
   "outputs": [
    {
     "name": "stdout",
     "output_type": "stream",
     "text": [
      "run():./pestpp freyberg_TSVD_opt.pst\n"
     ]
    }
   ],
   "source": [
    "os.chdir('freyberg_pp')\n",
    "th.update_K('freyberg_TSVD.pst')\n",
    "os.chdir('..')"
   ]
  },
  {
   "cell_type": "code",
   "execution_count": 15,
   "metadata": {},
   "outputs": [
    {
     "data": {
      "image/png": "[encoded data removed]",
      "text/plain": [
       "<matplotlib.figure.Figure at 0x119780da0>"
      ]
     },
     "metadata": {},
     "output_type": "display_data"
    },
    {
     "data": {
      "text/plain": [
       "<matplotlib.figure.Figure at 0x11986c6a0>"
      ]
     },
     "metadata": {},
     "output_type": "display_data"
    },
    {
     "data": {
      "image/png": "[encoded data removed]",
      "text/plain": [
       "<matplotlib.figure.Figure at 0x119d71be0>"
      ]
     },
     "metadata": {},
     "output_type": "display_data"
    }
   ],
   "source": [
    "th.plot_K_results(working_dir, 'freyberg_TSVD')"
   ]
  },
  {
   "cell_type": "markdown",
   "metadata": {},
   "source": [
    "# How does this compare with the pilot points solution?"
   ]
  },
  {
   "cell_type": "code",
   "execution_count": 16,
   "metadata": {},
   "outputs": [],
   "source": [
    "inpst = pyemu.Pst(os.path.join(working_dir,'freyberg_pp.pst'))\n"
   ]
  },
  {
   "cell_type": "code",
   "execution_count": 17,
   "metadata": {},
   "outputs": [
    {
     "name": "stdout",
     "output_type": "stream",
     "text": [
      "master:./pestpp freyberg_pp.pst /h :4004 in .\n",
      "slave:./pestpp freyberg_pp.pst /h localhost:4004 in ../slave_0\n",
      "slave:./pestpp freyberg_pp.pst /h localhost:4004 in ../slave_1\n",
      "slave:./pestpp freyberg_pp.pst /h localhost:4004 in ../slave_2\n",
      "slave:./pestpp freyberg_pp.pst /h localhost:4004 in ../slave_3\n",
      "slave:./pestpp freyberg_pp.pst /h localhost:4004 in ../slave_4\n",
      "slave:./pestpp freyberg_pp.pst /h localhost:4004 in ../slave_5\n",
      "slave:./pestpp freyberg_pp.pst /h localhost:4004 in ../slave_6\n",
      "slave:./pestpp freyberg_pp.pst /h localhost:4004 in ../slave_7\n",
      "slave:./pestpp freyberg_pp.pst /h localhost:4004 in ../slave_8\n",
      "slave:./pestpp freyberg_pp.pst /h localhost:4004 in ../slave_9\n",
      "slave:./pestpp freyberg_pp.pst /h localhost:4004 in ../slave_10\n",
      "slave:./pestpp freyberg_pp.pst /h localhost:4004 in ../slave_11\n",
      "slave:./pestpp freyberg_pp.pst /h localhost:4004 in ../slave_12\n",
      "slave:./pestpp freyberg_pp.pst /h localhost:4004 in ../slave_13\n",
      "slave:./pestpp freyberg_pp.pst /h localhost:4004 in ../slave_14\n"
     ]
    }
   ],
   "source": [
    "os.chdir('freyberg_pp')\n",
    "pyemu.helpers.start_slaves('.',\"pestpp\",'freyberg_pp.pst',num_slaves=15,master_dir='.')\n",
    "os.chdir('..')"
   ]
  },
  {
   "cell_type": "code",
   "execution_count": 18,
   "metadata": {},
   "outputs": [
    {
     "name": "stdout",
     "output_type": "stream",
     "text": [
      "run():./pestpp freyberg_pp_opt.pst\n"
     ]
    }
   ],
   "source": [
    "os.chdir('freyberg_pp')\n",
    "th.update_K('freyberg_pp.pst')\n",
    "os.chdir('..')"
   ]
  },
  {
   "cell_type": "code",
   "execution_count": 19,
   "metadata": {},
   "outputs": [
    {
     "data": {
      "image/png": "[encoded data removed]",
      "text/plain": [
       "<matplotlib.figure.Figure at 0x119fe9160>"
      ]
     },
     "metadata": {},
     "output_type": "display_data"
    },
    {
     "data": {
      "text/plain": [
       "<matplotlib.figure.Figure at 0x119f75f60>"
      ]
     },
     "metadata": {},
     "output_type": "display_data"
    },
    {
     "data": {
      "image/png": "[encoded data removed]",
      "text/plain": [
       "<matplotlib.figure.Figure at 0x1199bf470>"
      ]
     },
     "metadata": {},
     "output_type": "display_data"
    }
   ],
   "source": [
    "th.plot_K_results(working_dir, 'freyberg_pp')"
   ]
  }
 ],
 "metadata": {
  "kernelspec": {
   "display_name": "Python 3",
   "language": "python",
   "name": "python3"
  },
  "language_info": {
   "codemirror_mode": {
    "name": "ipython",
    "version": 3
   },
   "file_extension": ".py",
   "mimetype": "text/x-python",
   "name": "python",
   "nbconvert_exporter": "python",
   "pygments_lexer": "ipython3",
   "version": "3.6.1"
  }
 },
 "nbformat": 4,
 "nbformat_minor": 1
}
