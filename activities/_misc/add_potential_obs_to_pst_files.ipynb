{
 "cells": [
  {
   "cell_type": "code",
   "execution_count": null,
   "metadata": {
    "collapsed": true
   },
   "outputs": [],
   "source": [
    "import os\n",
    "import shutil\n",
    "import pyemu\n",
    "import pandas as pd"
   ]
  },
  {
   "cell_type": "code",
   "execution_count": null,
   "metadata": {
    "collapsed": true
   },
   "outputs": [],
   "source": [
    "def add_potential_obs(pstname):\n",
    "    pst = pyemu.pst.Pst(pstname)\n",
    "    potobs = pd.read_csv('potobs_group.csv')\n",
    "    potobs.index = potobs.obsnme\n",
    "    pst.observation_data = pd.concat((pst.obs_data,potobs))\n",
    "    heads_index = pst.output_files.index('freyberg.heads')\n",
    "    pst.instruction_files[heads_index] = 'freyberg.heads_potobs.ins'\n",
    "    pst.control_data.noptmax = -1\n",
    "    print('writing out: {0}'.format(pstname.replace('.pst', '_potobs.pst')))\n",
    "    pst.write(pstname.replace('.pst', '_potobs.pst'))"
   ]
  },
  {
   "cell_type": "code",
   "execution_count": null,
   "metadata": {
    "collapsed": false
   },
   "outputs": [],
   "source": [
    "locdir = os.getcwd()\n",
    "files2copy = ['potobs_group.csv', 'freyberg.heads_potobs.ins', 'freyberg.hyd']\n",
    "for startd,currd,cfiles in os.walk(os.path.join('..','FreybergModelForClass')):\n",
    "    \n",
    "    if ('.ipynb_checkpoints' not in startd and\n",
    "        '.idea' not in startd):\n",
    "        os.chdir(startd)\n",
    "        for cf in files2copy:\n",
    "            shutil.copyfile(os.path.join(locdir,cf), cf)\n",
    "        for j in cfiles:\n",
    "            if j.lower().endswith('pst'):\n",
    "                if 'potobs' not in j:\n",
    "                    add_potential_obs(j)\n",
    "        os.chdir(locdir)"
   ]
  },
  {
   "cell_type": "code",
   "execution_count": null,
   "metadata": {
    "collapsed": true
   },
   "outputs": [],
   "source": []
  }
 ],
 "metadata": {
  "kernelspec": {
   "display_name": "Python 3",
   "language": "python",
   "name": "python3"
  },
  "language_info": {
   "codemirror_mode": {
    "name": "ipython",
    "version": 3
   },
   "file_extension": ".py",
   "mimetype": "text/x-python",
   "name": "python",
   "nbconvert_exporter": "python",
   "pygments_lexer": "ipython3",
   "version": "3.5.2"
  }
 },
 "nbformat": 4,
 "nbformat_minor": 0
}
