{
 "cells": [
  {
   "cell_type": "code",
   "execution_count": 1,
   "metadata": {
    "collapsed": true
   },
   "outputs": [],
   "source": [
    "# some notebook magic\n",
    "%matplotlib inline\n",
    "# some modules we need\n",
    "import os\n",
    "import pyemu"
   ]
  },
  {
   "cell_type": "code",
   "execution_count": 13,
   "metadata": {
    "collapsed": false
   },
   "outputs": [],
   "source": [
    "# the path to where the jacobian matrix is in the file system\n",
    "jco_path = os.path.join(\"..\",\"FreybergModelForClass\",\"Freyberg_K_only\",\"freyberg.jcb\")"
   ]
  },
  {
   "cell_type": "code",
   "execution_count": 14,
   "metadata": {
    "collapsed": false
   },
   "outputs": [],
   "source": [
    "# create a pyemu object\n",
    "sc = pyemu.Schur(jco=jco_path)"
   ]
  },
  {
   "cell_type": "code",
   "execution_count": 15,
   "metadata": {
    "collapsed": false
   },
   "outputs": [
    {
     "data": {
      "text/html": [
       "<div>\n",
       "<table border=\"1\" class=\"dataframe\">\n",
       "  <thead>\n",
       "    <tr style=\"text-align: right;\">\n",
       "      <th></th>\n",
       "      <th>percent_reduction</th>\n",
       "      <th>post_var</th>\n",
       "      <th>prior_var</th>\n",
       "    </tr>\n",
       "  </thead>\n",
       "  <tbody>\n",
       "    <tr>\n",
       "      <th>hk1</th>\n",
       "      <td>99.667423</td>\n",
       "      <td>0.001101</td>\n",
       "      <td>0.330921</td>\n",
       "    </tr>\n",
       "  </tbody>\n",
       "</table>\n",
       "</div>"
      ],
      "text/plain": [
       "     percent_reduction  post_var  prior_var\n",
       "hk1          99.667423  0.001101   0.330921"
      ]
     },
     "execution_count": 15,
     "metadata": {},
     "output_type": "execute_result"
    }
   ],
   "source": [
    "# the parameter uncertainty\n",
    "sc.get_parameter_summary()"
   ]
  },
  {
   "cell_type": "code",
   "execution_count": 16,
   "metadata": {
    "collapsed": false
   },
   "outputs": [
    {
     "data": {
      "text/html": [
       "<div>\n",
       "<table border=\"1\" class=\"dataframe\">\n",
       "  <thead>\n",
       "    <tr style=\"text-align: right;\">\n",
       "      <th></th>\n",
       "      <th>percent_reduction</th>\n",
       "      <th>post_var</th>\n",
       "      <th>prior_var</th>\n",
       "    </tr>\n",
       "  </thead>\n",
       "  <tbody>\n",
       "    <tr>\n",
       "      <th>or03c16f</th>\n",
       "      <td>99.667423</td>\n",
       "      <td>7.803208e-03</td>\n",
       "      <td>2.346288e+00</td>\n",
       "    </tr>\n",
       "    <tr>\n",
       "      <th>or04c9f</th>\n",
       "      <td>99.667423</td>\n",
       "      <td>1.509808e-01</td>\n",
       "      <td>4.539726e+01</td>\n",
       "    </tr>\n",
       "    <tr>\n",
       "      <th>travel_time</th>\n",
       "      <td>99.667423</td>\n",
       "      <td>2.789297e+08</td>\n",
       "      <td>8.386926e+10</td>\n",
       "    </tr>\n",
       "    <tr>\n",
       "      <th>rivflux_cal</th>\n",
       "      <td>99.667423</td>\n",
       "      <td>1.018720e+00</td>\n",
       "      <td>3.063113e+02</td>\n",
       "    </tr>\n",
       "    <tr>\n",
       "      <th>rivflux_fore</th>\n",
       "      <td>99.667423</td>\n",
       "      <td>1.465797e+02</td>\n",
       "      <td>4.407394e+04</td>\n",
       "    </tr>\n",
       "  </tbody>\n",
       "</table>\n",
       "</div>"
      ],
      "text/plain": [
       "              percent_reduction      post_var     prior_var\n",
       "or03c16f              99.667423  7.803208e-03  2.346288e+00\n",
       "or04c9f               99.667423  1.509808e-01  4.539726e+01\n",
       "travel_time           99.667423  2.789297e+08  8.386926e+10\n",
       "rivflux_cal           99.667423  1.018720e+00  3.063113e+02\n",
       "rivflux_fore          99.667423  1.465797e+02  4.407394e+04"
      ]
     },
     "execution_count": 16,
     "metadata": {},
     "output_type": "execute_result"
    }
   ],
   "source": [
    "# the forecast summary\n",
    "sc.get_forecast_summary()"
   ]
  },
  {
   "cell_type": "code",
   "execution_count": 19,
   "metadata": {
    "collapsed": true
   },
   "outputs": [],
   "source": [
    "# the path to where the jacobian matrix is in the file system - k + r case\n",
    "jco_path = os.path.join(\"..\",\"FreybergModelForClass\",\"Freyberg_K_only\",\"freyberg_k+r.jcb\")"
   ]
  },
  {
   "cell_type": "code",
   "execution_count": 21,
   "metadata": {
    "collapsed": true
   },
   "outputs": [],
   "source": [
    "# create a new pyemu object for the k+r case\n",
    "sc = pyemu.Schur(jco=jco_path)"
   ]
  },
  {
   "cell_type": "code",
   "execution_count": 22,
   "metadata": {
    "collapsed": false
   },
   "outputs": [
    {
     "data": {
      "text/html": [
       "<div>\n",
       "<table border=\"1\" class=\"dataframe\">\n",
       "  <thead>\n",
       "    <tr style=\"text-align: right;\">\n",
       "      <th></th>\n",
       "      <th>percent_reduction</th>\n",
       "      <th>post_var</th>\n",
       "      <th>prior_var</th>\n",
       "    </tr>\n",
       "  </thead>\n",
       "  <tbody>\n",
       "    <tr>\n",
       "      <th>rch1</th>\n",
       "      <td>95.811535</td>\n",
       "      <td>0.212041</td>\n",
       "      <td>5.062500</td>\n",
       "    </tr>\n",
       "    <tr>\n",
       "      <th>hk1</th>\n",
       "      <td>31.262446</td>\n",
       "      <td>0.227467</td>\n",
       "      <td>0.330921</td>\n",
       "    </tr>\n",
       "  </tbody>\n",
       "</table>\n",
       "</div>"
      ],
      "text/plain": [
       "      percent_reduction  post_var  prior_var\n",
       "rch1          95.811535  0.212041   5.062500\n",
       "hk1           31.262446  0.227467   0.330921"
      ]
     },
     "execution_count": 22,
     "metadata": {},
     "output_type": "execute_result"
    }
   ],
   "source": [
    "sc.get_parameter_summary()"
   ]
  },
  {
   "cell_type": "code",
   "execution_count": 23,
   "metadata": {
    "collapsed": false
   },
   "outputs": [
    {
     "data": {
      "text/html": [
       "<div>\n",
       "<table border=\"1\" class=\"dataframe\">\n",
       "  <thead>\n",
       "    <tr style=\"text-align: right;\">\n",
       "      <th></th>\n",
       "      <th>percent_reduction</th>\n",
       "      <th>post_var</th>\n",
       "      <th>prior_var</th>\n",
       "    </tr>\n",
       "  </thead>\n",
       "  <tbody>\n",
       "    <tr>\n",
       "      <th>or03c16f</th>\n",
       "      <td>98.538502</td>\n",
       "      <td>2.344577e-02</td>\n",
       "      <td>1.604229e+00</td>\n",
       "    </tr>\n",
       "    <tr>\n",
       "      <th>or04c9f</th>\n",
       "      <td>98.967721</td>\n",
       "      <td>2.131578e+00</td>\n",
       "      <td>2.064924e+02</td>\n",
       "    </tr>\n",
       "    <tr>\n",
       "      <th>travel_time</th>\n",
       "      <td>31.256902</td>\n",
       "      <td>2.072718e+07</td>\n",
       "      <td>3.015165e+07</td>\n",
       "    </tr>\n",
       "    <tr>\n",
       "      <th>rivflux_cal</th>\n",
       "      <td>95.628850</td>\n",
       "      <td>1.132567e+09</td>\n",
       "      <td>2.591006e+10</td>\n",
       "    </tr>\n",
       "    <tr>\n",
       "      <th>rivflux_fore</th>\n",
       "      <td>97.991243</td>\n",
       "      <td>4.812577e+07</td>\n",
       "      <td>2.395798e+09</td>\n",
       "    </tr>\n",
       "  </tbody>\n",
       "</table>\n",
       "</div>"
      ],
      "text/plain": [
       "              percent_reduction      post_var     prior_var\n",
       "or03c16f              98.538502  2.344577e-02  1.604229e+00\n",
       "or04c9f               98.967721  2.131578e+00  2.064924e+02\n",
       "travel_time           31.256902  2.072718e+07  3.015165e+07\n",
       "rivflux_cal           95.628850  1.132567e+09  2.591006e+10\n",
       "rivflux_fore          97.991243  4.812577e+07  2.395798e+09"
      ]
     },
     "execution_count": 23,
     "metadata": {},
     "output_type": "execute_result"
    }
   ],
   "source": [
    "sc.get_forecast_summary()"
   ]
  },
  {
   "cell_type": "code",
   "execution_count": null,
   "metadata": {
    "collapsed": true
   },
   "outputs": [],
   "source": []
  }
 ],
 "metadata": {
  "kernelspec": {
   "display_name": "Python 3",
   "language": "python",
   "name": "python3"
  },
  "language_info": {
   "codemirror_mode": {
    "name": "ipython",
    "version": 3
   },
   "file_extension": ".py",
   "mimetype": "text/x-python",
   "name": "python",
   "nbconvert_exporter": "python",
   "pygments_lexer": "ipython3",
   "version": "3.5.1"
  }
 },
 "nbformat": 4,
 "nbformat_minor": 0
}
