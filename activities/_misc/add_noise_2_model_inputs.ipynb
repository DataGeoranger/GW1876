{
 "cells": [
  {
   "cell_type": "code",
   "execution_count": 23,
   "metadata": {
    "collapsed": true
   },
   "outputs": [],
   "source": [
    "%matplotlib inline\n",
    "from __future__ import print_function\n",
    "import os\n",
    "import pandas as pd\n",
    "import numpy as np\n",
    "import matplotlib.pyplot as plt\n",
    "import flopy\n",
    "import pyemu"
   ]
  },
  {
   "cell_type": "code",
   "execution_count": 24,
   "metadata": {
    "collapsed": false
   },
   "outputs": [
    {
     "name": "stdout",
     "output_type": "stream",
     "text": [
      "\n",
      "Creating new model with name: freyberg.truth\n",
      "--------------------------------------------------\n",
      "\n",
      "Parsing the namefile --> ../FreybergModelForClass/Freyberg_Truth/freyberg.truth.nam\n",
      "Setting filehandles:\n",
      "\n",
      "--------------------------------------------------\n",
      "External unit dictionary:\n",
      "{32: filename:../FreybergModelForClass/Freyberg_Truth/freyberg.pcg, filetype:PCG, 51: filename:../FreybergModelForClass/Freyberg_Truth/freyberg.hds, filetype:DATA(BINARY), 2: filename:../FreybergModelForClass/Freyberg_Truth/freyberg.list, filetype:LIST, 36: filename:../FreybergModelForClass/Freyberg_Truth/freyberg.hyd, filetype:HYD, 11: filename:../FreybergModelForClass/Freyberg_Truth/freyberg.dis, filetype:DIS, 13: filename:../FreybergModelForClass/Freyberg_Truth/freyberg.bas, filetype:BAS6, 14: filename:../FreybergModelForClass/Freyberg_Truth/freyberg.oc, filetype:OC, 18: filename:../FreybergModelForClass/Freyberg_Truth/freyberg.truth.riv, filetype:RIV, 19: filename:../FreybergModelForClass/Freyberg_Truth/freyberg.truth.rch, filetype:RCH, 20: filename:../FreybergModelForClass/Freyberg_Truth/freyberg.truth.wel, filetype:WEL, 53: filename:../FreybergModelForClass/Freyberg_Truth/freyberg.cbc, filetype:DATA(BINARY), 536: filename:../FreybergModelForClass/Freyberg_Truth/freyberg.hyd.bin, filetype:DATA(BINARY), 52: filename:../FreybergModelForClass/Freyberg_Truth/freyberg.ddn, filetype:DATA(BINARY), 31: filename:../FreybergModelForClass/Freyberg_Truth/freyberg.truth.lpf, filetype:LPF}\n",
      "--------------------------------------------------\n",
      "\n",
      "ModflowBas6 free format:True\n",
      "\n",
      "loading dis package file...\n",
      "   Loading dis package with:\n",
      "      1 layers, 40 rows, 20 columns, and 3 stress periods\n",
      "   loading laycbd...\n",
      "   loading delr...\n",
      "   loading delc...\n",
      "   loading top...\n",
      "   loading botm...\n",
      "   loading stress period data...\n",
      "adding Package:  DIS\n",
      "   DIS  package load...success\n",
      "loading bas6 package file...\n",
      "adding Package:  BAS6\n",
      "   BAS6 package load...success\n",
      "loading pcg package file...\n",
      "adding Package:  PCG\n",
      "   PCG  package load...success\n",
      "   DATA(BINARY) file load...skipped\n",
      "      freyberg.hds\n",
      "   LIST package load...skipped\n",
      "loading hydmod package file...\n",
      "  loading hydmod dataset 1\n",
      "adding Package:  HYD\n",
      "   HYD  package load...success\n",
      "loading oc package file...\n",
      "WARNING: unit 51 of package ['OC', 'DATA(BINARY)', 'DATA(BINARY)', 'DATA(BINARY)'] already in use\n",
      "adding Package:  OC\n",
      "   OC   package load...success\n",
      "loading riv package file...\n",
      "   loading <class 'flopy.modflow.mfriv.ModflowRiv'> for kper     1\n",
      "   loading <class 'flopy.modflow.mfriv.ModflowRiv'> for kper     2\n",
      "   loading <class 'flopy.modflow.mfriv.ModflowRiv'> for kper     3\n",
      "adding Package:  RIV\n",
      "   RIV  package load...success\n",
      "loading rch package file...\n",
      "   loading rech stress period   1...\n",
      "   loading rech stress period   2...\n",
      "   loading rech stress period   3...\n",
      "adding Package:  RCH\n",
      "   RCH  package load...success\n",
      "loading wel package file...\n",
      "   loading <class 'flopy.modflow.mfwel.ModflowWel'> for kper     1\n",
      "   loading <class 'flopy.modflow.mfwel.ModflowWel'> for kper     2\n",
      "   loading <class 'flopy.modflow.mfwel.ModflowWel'> for kper     3\n",
      "adding Package:  WEL\n",
      "   WEL  package load...success\n",
      "   DATA(BINARY) file load...skipped\n",
      "      freyberg.cbc\n",
      "   DATA(BINARY) file load...skipped\n",
      "      freyberg.hyd.bin\n",
      "   DATA(BINARY) file load...skipped\n",
      "      freyberg.ddn\n",
      "loading lpf package file...\n",
      "   loading IBCFCB, HDRY, NPLPF...\n",
      "   loading LAYTYP...\n",
      "   loading LAYAVG...\n",
      "   loading CHANI...\n",
      "   loading LAYVKA...\n",
      "   loading LAYWET...\n",
      "   loading hk layer   1...\n",
      "   loading vka layer   1...\n",
      "   loading ss layer   1...\n",
      "   loading sy layer   1...\n",
      "adding Package:  LPF\n",
      "   LPF  package load...success\n",
      "\n",
      "\n",
      "   The following 9 packages were successfully loaded.\n",
      "      freyberg.dis\n",
      "      freyberg.bas\n",
      "      freyberg.pcg\n",
      "      freyberg.hyd\n",
      "      freyberg.oc\n",
      "      freyberg.truth.riv\n",
      "      freyberg.truth.rch\n",
      "      freyberg.truth.wel\n",
      "      freyberg.truth.lpf\n",
      "   The following 1 packages were not loaded.\n",
      "      freyberg.list\n",
      "\n",
      "\n"
     ]
    }
   ],
   "source": [
    "#model_ws = os.path.join(\"..\",\"model\")\n",
    "#nam_file = \"10par_xsec.nam\"\n",
    "model_ws = os.path.join(\"..\",\"FreybergModelForClass\",\"Freyberg_Truth\")\n",
    "nam_file = \"freyberg.truth.nam\"\n",
    "ml = flopy.modflow.Modflow.load(nam_file,model_ws=model_ws,check=False,verbose=True)"
   ]
  },
  {
   "cell_type": "code",
   "execution_count": 25,
   "metadata": {
    "collapsed": true
   },
   "outputs": [],
   "source": [
    "variance_fraction = {\"flux\":0.1,\"stage\":0.01,\"cond\":0.2,\"rech\":0.025}"
   ]
  },
  {
   "cell_type": "code",
   "execution_count": 26,
   "metadata": {
    "collapsed": false
   },
   "outputs": [
    {
     "name": "stdout",
     "output_type": "stream",
     "text": [
      "WARNING: unit 20 of package ['WEL'] already in use\n",
      "****Warning -- two packages of the same type:  <class 'flopy.modflow.mfwel.ModflowWel'> <class 'flopy.modflow.mfwel.ModflowWel'>\n",
      "replacing existing Package...\n"
     ]
    }
   ],
   "source": [
    "# wells\n",
    "wdata = ml.wel.stress_period_data.array[\"flux\"]\n",
    "noise = np.random.standard_normal(wdata.shape)\n",
    "# scale by the variance of each pumping well\n",
    "noise *= wdata * variance_fraction[\"flux\"]\n",
    "wdata += noise\n",
    "# create a new MfList with noisy data\n",
    "wdata = flopy.utils.MfList.masked4D_arrays_to_stress_period_data(flopy.modflow.ModflowWel.\n",
    "                                                                 get_default_dtype(),{\"flux\":wdata})\n",
    "# use noisy data to make new well package\n",
    "wel = flopy.modflow.ModflowWel(ml,stress_period_data=wdata)"
   ]
  },
  {
   "cell_type": "code",
   "execution_count": 27,
   "metadata": {
    "collapsed": false
   },
   "outputs": [
    {
     "name": "stdout",
     "output_type": "stream",
     "text": [
      "WARNING: unit 18 of package ['RIV'] already in use\n",
      "****Warning -- two packages of the same type:  <class 'flopy.modflow.mfriv.ModflowRiv'> <class 'flopy.modflow.mfriv.ModflowRiv'>\n",
      "replacing existing Package...\n"
     ]
    }
   ],
   "source": [
    "# riv - add noise to rcond and stage\n",
    "array_dict = ml.riv.stress_period_data.array\n",
    "for prop in [\"cond\",\"stage\"]:    \n",
    "    noise = np.random.standard_normal(array_dict[prop].shape)\n",
    "    #scale by the variance of each pumping well\n",
    "    noise *= array_dict[prop] * variance_fraction[prop]\n",
    "    array_dict[prop] += noise\n",
    "array_dict = flopy.utils.MfList.masked4D_arrays_to_stress_period_data(flopy.modflow.ModflowRiv.\n",
    "                                                                 get_default_dtype(),array_dict)\n",
    "riv = flopy.modflow.ModflowRiv(ml,stress_period_data=array_dict)"
   ]
  },
  {
   "cell_type": "code",
   "execution_count": 28,
   "metadata": {
    "collapsed": false
   },
   "outputs": [
    {
     "name": "stdout",
     "output_type": "stream",
     "text": [
      "-2.29009207461e-06\n",
      "1.37383041151e-06\n",
      "{0: 0.00013823999, 1: 9.0000001e-05}\n",
      "{0: 0.0001359499011735221, 1: 9.1373831775899846e-05}\n",
      "WARNING: unit 19 of package ['RCH'] already in use\n",
      "****Warning -- two packages of the same type:  <class 'flopy.modflow.mfrch.ModflowRch'> <class 'flopy.modflow.mfrch.ModflowRch'>\n",
      "replacing existing Package...\n"
     ]
    }
   ],
   "source": [
    "# recharge\n",
    "rech_noise = np.random.standard_normal(2) \n",
    "\n",
    "rech_vals = {0:ml.rch.rech[0].array[0,0],1:ml.rch.rech[1].array[0,0]}\n",
    "\n",
    "rech = {}\n",
    "for sp in rech_vals.keys():\n",
    "    n = rech_vals[sp]*rech_noise[sp]*variance_fraction[\"rech\"]\n",
    "    print(n)\n",
    "    rech[sp] = rech_vals[sp] + n\n",
    "print(rech_vals)\n",
    "print(rech)\n",
    "rch = flopy.modflow.ModflowRch(ml,rech=rech,nrchop=3)"
   ]
  },
  {
   "cell_type": "code",
   "execution_count": 29,
   "metadata": {
    "collapsed": false
   },
   "outputs": [
    {
     "name": "stdout",
     "output_type": "stream",
     "text": [
      "\n",
      "changing model workspace...\n",
      "   ../FreybergModelForClass/Freyberg_Noise\n",
      "\n",
      "Writing packages:\n",
      "   Package:  DIS\n",
      "   Package:  BAS6\n",
      "   Package:  PCG\n",
      "   Package:  HYD\n",
      "   Package:  OC\n",
      "   Package:  RIV\n",
      "   Package:  RCH\n",
      "   Package:  WEL\n",
      "   Package:  LPF\n",
      " \n"
     ]
    }
   ],
   "source": [
    "ml.name = \"freyberg\"\n",
    "ml.change_model_ws(os.path.join(\"..\",\"FreybergModelForClass\",\"Freyberg_Noise\"),reset_external=True)\n",
    "ml.write_input()"
   ]
  },
  {
   "cell_type": "code",
   "execution_count": 30,
   "metadata": {
    "collapsed": false
   },
   "outputs": [
    {
     "name": "stdout",
     "output_type": "stream",
     "text": [
      "FloPy is using the following executable to run the model: /Users/jwhite/bin/mf2005\n",
      "\n",
      "                                  MODFLOW-2005     \n",
      "    U.S. GEOLOGICAL SURVEY MODULAR FINITE-DIFFERENCE GROUND-WATER FLOW MODEL\n",
      "                             Version 1.11.00 8/8/2013                        \n",
      "\n",
      " Using NAME file: freyberg.nam \n",
      " Run start date and time (yyyy/mm/dd hh:mm:ss): 2016/05/11 14:17:42\n",
      "\n",
      " Solving:  Stress period:     1    Time step:     1    Ground-Water Flow Eqn.\n",
      " Solving:  Stress period:     2    Time step:     1    Ground-Water Flow Eqn.\n",
      " Solving:  Stress period:     3    Time step:     1    Ground-Water Flow Eqn.\n",
      " Run end date and time (yyyy/mm/dd hh:mm:ss): 2016/05/11 14:17:42\n",
      " Elapsed run time:  0.025 Seconds\n",
      "\n",
      "  Normal termination of simulation\n"
     ]
    },
    {
     "data": {
      "text/plain": [
       "(True, [])"
      ]
     },
     "execution_count": 30,
     "metadata": {},
     "output_type": "execute_result"
    }
   ],
   "source": [
    "ml.exe_name = \"mf2005\"\n",
    "ml.run_model()"
   ]
  },
  {
   "cell_type": "code",
   "execution_count": null,
   "metadata": {
    "collapsed": true
   },
   "outputs": [],
   "source": []
  }
 ],
 "metadata": {
  "kernelspec": {
   "display_name": "Python 2",
   "language": "python",
   "name": "python2"
  },
  "language_info": {
   "codemirror_mode": {
    "name": "ipython",
    "version": 2
   },
   "file_extension": ".py",
   "mimetype": "text/x-python",
   "name": "python",
   "nbconvert_exporter": "python",
   "pygments_lexer": "ipython2",
   "version": "2.7.11"
  }
 },
 "nbformat": 4,
 "nbformat_minor": 0
}
