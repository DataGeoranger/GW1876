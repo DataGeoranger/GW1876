{
 "cells": [
  {
   "cell_type": "code",
   "execution_count": 1,
   "metadata": {
    "collapsed": true
   },
   "outputs": [],
   "source": [
    "%matplotlib inline\n",
    "import os, shutil\n",
    "import sys\n",
    "sys.path.append(\"..\")\n",
    "import numpy as np\n",
    "from IPython.display import Image\n",
    "import pandas as pd\n",
    "import matplotlib.pyplot as plt\n",
    "\n",
    "import flopy as flopy\n",
    "import pyemu"
   ]
  },
  {
   "cell_type": "code",
   "execution_count": 2,
   "metadata": {
    "collapsed": true
   },
   "outputs": [],
   "source": [
    "import freyberg_setup as fs\n",
    "working_dirs = [fs.WORKING_DIR_UN,fs.WORKING_DIR_KR,fs.WORKING_DIR_ZN,\n",
    "               fs.WORKING_DIR_PP,fs.WORKING_DIR_GR]\n",
    "pst_names = [fs.PST_NAME_UN,fs.PST_NAME_KR,fs.PST_NAME_ZN,\n",
    "             fs.PST_NAME_PP,fs.PST_NAME_GR]\n",
    "setup_functions = [fs.setup_pest_un,fs.setup_pest_kr,fs.setup_pest_zn,\n",
    "                   fs.setup_pest_pp,fs.setup_pest_gr]\n",
    "num_workers = [1,1,1,10,20]"
   ]
  },
  {
   "cell_type": "code",
   "execution_count": 3,
   "metadata": {},
   "outputs": [
    {
     "name": "stdout",
     "output_type": "stream",
     "text": [
      "['.DS_Store', 'botm.ref', 'extract_zone_array.py', 'forecasts_true.csv', 'freyberg.bas', 'freyberg.dbf', 'freyberg.dis', 'freyberg.hds', 'freyberg.heads', 'freyberg.heads_potobs.ins', 'freyberg.hyd', 'freyberg.list', 'freyberg.locations', 'freyberg.mpbas', 'freyberg.mpenpt', 'freyberg.mplist', 'freyberg.mpnam', 'freyberg.mppthln', 'freyberg.mpsim', 'freyberg.oc', 'freyberg.pcg', 'freyberg.rivflux', 'freyberg.shp', 'freyberg.shx', 'freyberg.travel', 'freyberg.truth.lpf', 'freyberg.truth.nam', 'freyberg.truth.rch', 'freyberg.truth.riv', 'freyberg.truth.wel', 'hk.truth.ref', 'hk.zones', 'ibound.ref', 'kzone.ref', 'mpath.in', 'obs_loc.csv', 'potobs_group.csv', 'Process_output.py', 'run_true_model.py', 'strt.ref', 'Weights_and_best_PHI.xlsx']\n",
      "\n",
      "changing model workspace...\n",
      "   freyberg_un\n",
      "WARNING: unit 31 of package UPW already in use\n",
      "FloPy is using the following executable to run the model: /Users/jwhite/Dev/GW1876/activities/freyberg_summary/freyberg_un/mfnwt\n",
      "\n",
      "                                  MODFLOW-NWT-SWR1 \n",
      "    U.S. GEOLOGICAL SURVEY MODULAR FINITE-DIFFERENCE GROUNDWATER-FLOW MODEL\n",
      "                             WITH NEWTON FORMULATION\n",
      "                             Version 1.1.1, 7/21/2016                        \n",
      "                    BASED ON MODFLOW-2005 Version 1.11.0 08/08/2013                       \n",
      "\n",
      "                    SWR1 Version 1.04.0 07/21/2016                       \n",
      "\n",
      " Using NAME file: freyberg.nam \n",
      " Run start date and time (yyyy/mm/dd hh:mm:ss): 2017/09/06  7:31:29\n",
      "\n",
      " Solving:  Stress period:     1    Time step:     1    Groundwater-Flow Eqn.\n",
      " Solving:  Stress period:     2    Time step:     1    Groundwater-Flow Eqn.\n",
      " Solving:  Stress period:     3    Time step:     1    Groundwater-Flow Eqn.\n",
      " Run end date and time (yyyy/mm/dd hh:mm:ss): 2017/09/06  7:31:29\n",
      " Elapsed run time:  0.023 Seconds\n",
      "\n",
      "  Normal termination of simulation\n",
      "run():./mp6 freyberg.mpsim\n",
      "Util2d:delr: resetting 'how' to external\n",
      "Util2d:delc: resetting 'how' to external\n",
      "Util2d:model_top: resetting 'how' to external\n",
      "Util2d:botm_layer_0: resetting 'how' to external\n",
      "Util2d:ibound_layer_0: resetting 'how' to external\n",
      "Util2d:strt_layer_0: resetting 'how' to external\n",
      "Util2d:rech_1: resetting 'how' to external\n",
      "Util2d:rech_2: resetting 'how' to external\n",
      "Util2d:rech_3: resetting 'how' to external\n",
      "Util2d:hk layer 1: resetting 'how' to external\n",
      "Util2d:vk: resetting 'how' to external\n",
      "Util2d:ss: resetting 'how' to external\n",
      "Util2d:ss: resetting 'how' to external\n",
      "FloPy is using the following executable to run the model: /Users/jwhite/Dev/GW1876/activities/freyberg_summary/freyberg_un/mfnwt\n",
      "\n",
      "                                  MODFLOW-NWT-SWR1 \n",
      "    U.S. GEOLOGICAL SURVEY MODULAR FINITE-DIFFERENCE GROUNDWATER-FLOW MODEL\n",
      "                             WITH NEWTON FORMULATION\n",
      "                             Version 1.1.1, 7/21/2016                        \n",
      "                    BASED ON MODFLOW-2005 Version 1.11.0 08/08/2013                       \n",
      "\n",
      "                    SWR1 Version 1.04.0 07/21/2016                       \n",
      "\n",
      " Using NAME file: freyberg.nam \n",
      " Run start date and time (yyyy/mm/dd hh:mm:ss): 2017/09/06  7:31:29\n",
      "\n",
      " Solving:  Stress period:     1    Time step:     1    Groundwater-Flow Eqn.\n",
      " Solving:  Stress period:     2    Time step:     1    Groundwater-Flow Eqn.\n",
      " Solving:  Stress period:     3    Time step:     1    Groundwater-Flow Eqn.\n",
      " Run end date and time (yyyy/mm/dd hh:mm:ss): 2017/09/06  7:31:29\n",
      " Elapsed run time:  0.024 Seconds\n",
      "\n",
      "  Normal termination of simulation\n",
      "Starting to read HYDMOD data from freyberg.hyd.bin\n",
      "Starting to read HYDMOD data from freyberg.hyd.bin.truth\n",
      "run():./inschek flux.dat.ins flux.dat\n",
      "run():./inschek vol.dat.ins vol.dat\n",
      "run():./inschek flux.dat.ins flux.dat\n",
      "run():./inschek vol.dat.ins vol.dat\n",
      "run():./inschek flux.dat.ins flux.dat\n",
      "run():./inschek freyberg.hyd.bin.dat.ins freyberg.hyd.bin.dat\n",
      "run():./inschek freyberg.travel.ins freyberg.travel\n",
      "run():./inschek vol.dat.ins vol.dat\n",
      "run():./pestchek freyberg_un.pst\n",
      "run():./pestpp freyberg_un.init.pst\n",
      "['.DS_Store', 'botm.ref', 'extract_zone_array.py', 'forecasts_true.csv', 'freyberg.bas', 'freyberg.dbf', 'freyberg.dis', 'freyberg.hds', 'freyberg.heads', 'freyberg.heads_potobs.ins', 'freyberg.hyd', 'freyberg.list', 'freyberg.locations', 'freyberg.mpbas', 'freyberg.mpenpt', 'freyberg.mplist', 'freyberg.mpnam', 'freyberg.mppthln', 'freyberg.mpsim', 'freyberg.oc', 'freyberg.pcg', 'freyberg.rivflux', 'freyberg.shp', 'freyberg.shx', 'freyberg.travel', 'freyberg.truth.lpf', 'freyberg.truth.nam', 'freyberg.truth.rch', 'freyberg.truth.riv', 'freyberg.truth.wel', 'hk.truth.ref', 'hk.zones', 'ibound.ref', 'kzone.ref', 'mpath.in', 'obs_loc.csv', 'potobs_group.csv', 'Process_output.py', 'run_true_model.py', 'strt.ref', 'Weights_and_best_PHI.xlsx']\n",
      "\n",
      "changing model workspace...\n",
      "   freyberg_kr\n",
      "WARNING: unit 31 of package UPW already in use\n",
      "FloPy is using the following executable to run the model: /Users/jwhite/Dev/GW1876/activities/freyberg_summary/freyberg_kr/mfnwt\n",
      "\n",
      "                                  MODFLOW-NWT-SWR1 \n",
      "    U.S. GEOLOGICAL SURVEY MODULAR FINITE-DIFFERENCE GROUNDWATER-FLOW MODEL\n",
      "                             WITH NEWTON FORMULATION\n",
      "                             Version 1.1.1, 7/21/2016                        \n",
      "                    BASED ON MODFLOW-2005 Version 1.11.0 08/08/2013                       \n",
      "\n",
      "                    SWR1 Version 1.04.0 07/21/2016                       \n",
      "\n",
      " Using NAME file: freyberg.nam \n",
      " Run start date and time (yyyy/mm/dd hh:mm:ss): 2017/09/06  7:31:32\n",
      "\n",
      " Solving:  Stress period:     1    Time step:     1    Groundwater-Flow Eqn.\n",
      " Solving:  Stress period:     2    Time step:     1    Groundwater-Flow Eqn.\n",
      " Solving:  Stress period:     3    Time step:     1    Groundwater-Flow Eqn.\n",
      " Run end date and time (yyyy/mm/dd hh:mm:ss): 2017/09/06  7:31:32\n",
      " Elapsed run time:  0.026 Seconds\n",
      "\n",
      "  Normal termination of simulation\n",
      "run():./mp6 freyberg.mpsim\n",
      "Util2d:delr: resetting 'how' to external\n",
      "Util2d:delc: resetting 'how' to external\n",
      "Util2d:model_top: resetting 'how' to external\n",
      "Util2d:botm_layer_0: resetting 'how' to external\n",
      "Util2d:ibound_layer_0: resetting 'how' to external\n",
      "Util2d:strt_layer_0: resetting 'how' to external\n",
      "Util2d:rech_1: resetting 'how' to external\n",
      "Util2d:rech_2: resetting 'how' to external\n",
      "Util2d:rech_3: resetting 'how' to external\n",
      "Util2d:hk layer 1: resetting 'how' to external\n",
      "Util2d:vk: resetting 'how' to external\n",
      "Util2d:ss: resetting 'how' to external\n",
      "Util2d:ss: resetting 'how' to external\n",
      "FloPy is using the following executable to run the model: /Users/jwhite/Dev/GW1876/activities/freyberg_summary/freyberg_kr/mfnwt\n",
      "\n",
      "                                  MODFLOW-NWT-SWR1 \n",
      "    U.S. GEOLOGICAL SURVEY MODULAR FINITE-DIFFERENCE GROUNDWATER-FLOW MODEL\n",
      "                             WITH NEWTON FORMULATION\n",
      "                             Version 1.1.1, 7/21/2016                        \n",
      "                    BASED ON MODFLOW-2005 Version 1.11.0 08/08/2013                       \n",
      "\n",
      "                    SWR1 Version 1.04.0 07/21/2016                       \n",
      "\n",
      " Using NAME file: freyberg.nam \n",
      " Run start date and time (yyyy/mm/dd hh:mm:ss): 2017/09/06  7:31:32\n",
      "\n",
      " Solving:  Stress period:     1    Time step:     1    Groundwater-Flow Eqn.\n",
      " Solving:  Stress period:     2    Time step:     1    Groundwater-Flow Eqn.\n",
      " Solving:  Stress period:     3    Time step:     1    Groundwater-Flow Eqn.\n",
      " Run end date and time (yyyy/mm/dd hh:mm:ss): 2017/09/06  7:31:32\n",
      " Elapsed run time:  0.023 Seconds\n",
      "\n",
      "  Normal termination of simulation\n",
      "Starting to read HYDMOD data from freyberg.hyd.bin\n",
      "Starting to read HYDMOD data from freyberg.hyd.bin.truth\n",
      "run():./inschek flux.dat.ins flux.dat\n",
      "run():./inschek vol.dat.ins vol.dat\n",
      "run():./inschek flux.dat.ins flux.dat\n",
      "run():./inschek vol.dat.ins vol.dat\n",
      "run():./inschek flux.dat.ins flux.dat\n",
      "run():./inschek freyberg.hyd.bin.dat.ins freyberg.hyd.bin.dat\n",
      "run():./inschek freyberg.travel.ins freyberg.travel\n",
      "run():./inschek vol.dat.ins vol.dat\n",
      "run():./pestchek freyberg_kr.pst\n",
      "run():./pestpp freyberg_kr.init.pst\n",
      "['.DS_Store', 'botm.ref', 'extract_zone_array.py', 'forecasts_true.csv', 'freyberg.bas', 'freyberg.dbf', 'freyberg.dis', 'freyberg.hds', 'freyberg.heads', 'freyberg.heads_potobs.ins', 'freyberg.hyd', 'freyberg.list', 'freyberg.locations', 'freyberg.mpbas', 'freyberg.mpenpt', 'freyberg.mplist', 'freyberg.mpnam', 'freyberg.mppthln', 'freyberg.mpsim', 'freyberg.oc', 'freyberg.pcg', 'freyberg.rivflux', 'freyberg.shp', 'freyberg.shx', 'freyberg.travel', 'freyberg.truth.lpf', 'freyberg.truth.nam', 'freyberg.truth.rch', 'freyberg.truth.riv', 'freyberg.truth.wel', 'hk.truth.ref', 'hk.zones', 'ibound.ref', 'kzone.ref', 'mpath.in', 'obs_loc.csv', 'potobs_group.csv', 'Process_output.py', 'run_true_model.py', 'strt.ref', 'Weights_and_best_PHI.xlsx']\n",
      "\n",
      "changing model workspace...\n",
      "   freyberg_zn\n",
      "WARNING: unit 31 of package UPW already in use\n",
      "FloPy is using the following executable to run the model: /Users/jwhite/Dev/GW1876/activities/freyberg_summary/freyberg_zn/mfnwt\n",
      "\n",
      "                                  MODFLOW-NWT-SWR1 \n",
      "    U.S. GEOLOGICAL SURVEY MODULAR FINITE-DIFFERENCE GROUNDWATER-FLOW MODEL\n",
      "                             WITH NEWTON FORMULATION\n",
      "                             Version 1.1.1, 7/21/2016                        \n",
      "                    BASED ON MODFLOW-2005 Version 1.11.0 08/08/2013                       \n",
      "\n",
      "                    SWR1 Version 1.04.0 07/21/2016                       \n",
      "\n",
      " Using NAME file: freyberg.nam \n",
      " Run start date and time (yyyy/mm/dd hh:mm:ss): 2017/09/06  7:31:35\n",
      "\n",
      " Solving:  Stress period:     1    Time step:     1    Groundwater-Flow Eqn.\n",
      " Solving:  Stress period:     2    Time step:     1    Groundwater-Flow Eqn.\n",
      " Solving:  Stress period:     3    Time step:     1    Groundwater-Flow Eqn.\n",
      " Run end date and time (yyyy/mm/dd hh:mm:ss): 2017/09/06  7:31:35\n",
      " Elapsed run time:  0.025 Seconds\n",
      "\n",
      "  Normal termination of simulation\n",
      "run():./mp6 freyberg.mpsim\n",
      "Util2d:delr: resetting 'how' to external\n",
      "Util2d:delc: resetting 'how' to external\n",
      "Util2d:model_top: resetting 'how' to external\n",
      "Util2d:botm_layer_0: resetting 'how' to external\n",
      "Util2d:ibound_layer_0: resetting 'how' to external\n",
      "Util2d:strt_layer_0: resetting 'how' to external\n",
      "Util2d:rech_1: resetting 'how' to external\n",
      "Util2d:rech_2: resetting 'how' to external\n",
      "Util2d:rech_3: resetting 'how' to external\n",
      "Util2d:hk layer 1: resetting 'how' to external\n",
      "Util2d:vk: resetting 'how' to external\n",
      "Util2d:ss: resetting 'how' to external\n",
      "Util2d:ss: resetting 'how' to external\n",
      "FloPy is using the following executable to run the model: /Users/jwhite/Dev/GW1876/activities/freyberg_summary/freyberg_zn/mfnwt\n",
      "\n",
      "                                  MODFLOW-NWT-SWR1 \n",
      "    U.S. GEOLOGICAL SURVEY MODULAR FINITE-DIFFERENCE GROUNDWATER-FLOW MODEL\n",
      "                             WITH NEWTON FORMULATION\n",
      "                             Version 1.1.1, 7/21/2016                        \n",
      "                    BASED ON MODFLOW-2005 Version 1.11.0 08/08/2013                       \n",
      "\n",
      "                    SWR1 Version 1.04.0 07/21/2016                       \n",
      "\n",
      " Using NAME file: freyberg.nam \n",
      " Run start date and time (yyyy/mm/dd hh:mm:ss): 2017/09/06  7:31:36\n",
      "\n",
      " Solving:  Stress period:     1    Time step:     1    Groundwater-Flow Eqn.\n",
      " Solving:  Stress period:     2    Time step:     1    Groundwater-Flow Eqn.\n",
      " Solving:  Stress period:     3    Time step:     1    Groundwater-Flow Eqn.\n",
      " Run end date and time (yyyy/mm/dd hh:mm:ss): 2017/09/06  7:31:36\n",
      " Elapsed run time:  0.025 Seconds\n",
      "\n",
      "  Normal termination of simulation\n"
     ]
    },
    {
     "name": "stdout",
     "output_type": "stream",
     "text": [
      "Starting to read HYDMOD data from freyberg.hyd.bin\n",
      "Starting to read HYDMOD data from freyberg.hyd.bin.truth\n",
      "run():./inschek flux.dat.ins flux.dat\n",
      "run():./inschek vol.dat.ins vol.dat\n",
      "run():./inschek flux.dat.ins flux.dat\n",
      "run():./inschek vol.dat.ins vol.dat\n",
      "run():./inschek flux.dat.ins flux.dat\n",
      "run():./inschek freyberg.hyd.bin.dat.ins freyberg.hyd.bin.dat\n",
      "run():./inschek freyberg.travel.ins freyberg.travel\n",
      "run():./inschek vol.dat.ins vol.dat\n",
      "run():./pestchek freyberg_zn.pst\n",
      "run():./pestpp freyberg_zn.init.pst\n",
      "['.DS_Store', 'botm.ref', 'extract_zone_array.py', 'forecasts_true.csv', 'freyberg.bas', 'freyberg.dbf', 'freyberg.dis', 'freyberg.hds', 'freyberg.heads', 'freyberg.heads_potobs.ins', 'freyberg.hyd', 'freyberg.list', 'freyberg.locations', 'freyberg.mpbas', 'freyberg.mpenpt', 'freyberg.mplist', 'freyberg.mpnam', 'freyberg.mppthln', 'freyberg.mpsim', 'freyberg.oc', 'freyberg.pcg', 'freyberg.rivflux', 'freyberg.shp', 'freyberg.shx', 'freyberg.travel', 'freyberg.truth.lpf', 'freyberg.truth.nam', 'freyberg.truth.rch', 'freyberg.truth.riv', 'freyberg.truth.wel', 'hk.truth.ref', 'hk.zones', 'ibound.ref', 'kzone.ref', 'mpath.in', 'obs_loc.csv', 'potobs_group.csv', 'Process_output.py', 'run_true_model.py', 'strt.ref', 'Weights_and_best_PHI.xlsx']\n",
      "\n",
      "changing model workspace...\n",
      "   freyberg_pp\n",
      "WARNING: unit 31 of package UPW already in use\n",
      "FloPy is using the following executable to run the model: /Users/jwhite/Dev/GW1876/activities/freyberg_summary/freyberg_pp/mfnwt\n",
      "\n",
      "                                  MODFLOW-NWT-SWR1 \n",
      "    U.S. GEOLOGICAL SURVEY MODULAR FINITE-DIFFERENCE GROUNDWATER-FLOW MODEL\n",
      "                             WITH NEWTON FORMULATION\n",
      "                             Version 1.1.1, 7/21/2016                        \n",
      "                    BASED ON MODFLOW-2005 Version 1.11.0 08/08/2013                       \n",
      "\n",
      "                    SWR1 Version 1.04.0 07/21/2016                       \n",
      "\n",
      " Using NAME file: freyberg.nam \n",
      " Run start date and time (yyyy/mm/dd hh:mm:ss): 2017/09/06  7:31:39\n",
      "\n",
      " Solving:  Stress period:     1    Time step:     1    Groundwater-Flow Eqn.\n",
      " Solving:  Stress period:     2    Time step:     1    Groundwater-Flow Eqn.\n",
      " Solving:  Stress period:     3    Time step:     1    Groundwater-Flow Eqn.\n",
      " Run end date and time (yyyy/mm/dd hh:mm:ss): 2017/09/06  7:31:39\n",
      " Elapsed run time:  0.023 Seconds\n",
      "\n",
      "  Normal termination of simulation\n",
      "run():./mp6 freyberg.mpsim\n",
      "Util2d:delr: resetting 'how' to external\n",
      "Util2d:delc: resetting 'how' to external\n",
      "Util2d:model_top: resetting 'how' to external\n",
      "Util2d:botm_layer_0: resetting 'how' to external\n",
      "Util2d:ibound_layer_0: resetting 'how' to external\n",
      "Util2d:strt_layer_0: resetting 'how' to external\n",
      "Util2d:rech_1: resetting 'how' to external\n",
      "Util2d:rech_2: resetting 'how' to external\n",
      "Util2d:rech_3: resetting 'how' to external\n",
      "Util2d:hk layer 1: resetting 'how' to external\n",
      "Util2d:vk: resetting 'how' to external\n",
      "Util2d:ss: resetting 'how' to external\n",
      "Util2d:ss: resetting 'how' to external\n",
      "FloPy is using the following executable to run the model: /Users/jwhite/Dev/GW1876/activities/freyberg_summary/freyberg_pp/mfnwt\n",
      "\n",
      "                                  MODFLOW-NWT-SWR1 \n",
      "    U.S. GEOLOGICAL SURVEY MODULAR FINITE-DIFFERENCE GROUNDWATER-FLOW MODEL\n",
      "                             WITH NEWTON FORMULATION\n",
      "                             Version 1.1.1, 7/21/2016                        \n",
      "                    BASED ON MODFLOW-2005 Version 1.11.0 08/08/2013                       \n",
      "\n",
      "                    SWR1 Version 1.04.0 07/21/2016                       \n",
      "\n",
      " Using NAME file: freyberg.nam \n",
      " Run start date and time (yyyy/mm/dd hh:mm:ss): 2017/09/06  7:31:39\n",
      "\n",
      " Solving:  Stress period:     1    Time step:     1    Groundwater-Flow Eqn.\n",
      " Solving:  Stress period:     2    Time step:     1    Groundwater-Flow Eqn.\n",
      " Solving:  Stress period:     3    Time step:     1    Groundwater-Flow Eqn.\n",
      " Run end date and time (yyyy/mm/dd hh:mm:ss): 2017/09/06  7:31:39\n",
      " Elapsed run time:  0.025 Seconds\n",
      "\n",
      "  Normal termination of simulation\n",
      "Starting to read HYDMOD data from freyberg.hyd.bin\n",
      "Starting to read HYDMOD data from freyberg.hyd.bin.truth\n",
      "run():./inschek flux.dat.ins flux.dat\n",
      "run():./inschek vol.dat.ins vol.dat\n",
      "run():./inschek flux.dat.ins flux.dat\n",
      "run():./inschek vol.dat.ins vol.dat\n",
      "run():./inschek flux.dat.ins flux.dat\n",
      "run():./inschek freyberg.hyd.bin.dat.ins freyberg.hyd.bin.dat\n",
      "run():./inschek freyberg.travel.ins freyberg.travel\n",
      "run():./inschek vol.dat.ins vol.dat\n",
      "starting interp point loop for 800 points\n",
      "took 2.632108 seconds\n",
      "run():./pestchek freyberg_pp.pst\n",
      "run():./pestpp freyberg_pp.init.pst\n",
      "['.DS_Store', 'botm.ref', 'extract_zone_array.py', 'forecasts_true.csv', 'freyberg.bas', 'freyberg.dbf', 'freyberg.dis', 'freyberg.hds', 'freyberg.heads', 'freyberg.heads_potobs.ins', 'freyberg.hyd', 'freyberg.list', 'freyberg.locations', 'freyberg.mpbas', 'freyberg.mpenpt', 'freyberg.mplist', 'freyberg.mpnam', 'freyberg.mppthln', 'freyberg.mpsim', 'freyberg.oc', 'freyberg.pcg', 'freyberg.rivflux', 'freyberg.shp', 'freyberg.shx', 'freyberg.travel', 'freyberg.truth.lpf', 'freyberg.truth.nam', 'freyberg.truth.rch', 'freyberg.truth.riv', 'freyberg.truth.wel', 'hk.truth.ref', 'hk.zones', 'ibound.ref', 'kzone.ref', 'mpath.in', 'obs_loc.csv', 'potobs_group.csv', 'Process_output.py', 'run_true_model.py', 'strt.ref', 'Weights_and_best_PHI.xlsx']\n",
      "\n",
      "changing model workspace...\n",
      "   freyberg_gr\n",
      "WARNING: unit 31 of package UPW already in use\n",
      "FloPy is using the following executable to run the model: /Users/jwhite/Dev/GW1876/activities/freyberg_summary/freyberg_gr/mfnwt\n",
      "\n",
      "                                  MODFLOW-NWT-SWR1 \n",
      "    U.S. GEOLOGICAL SURVEY MODULAR FINITE-DIFFERENCE GROUNDWATER-FLOW MODEL\n",
      "                             WITH NEWTON FORMULATION\n",
      "                             Version 1.1.1, 7/21/2016                        \n",
      "                    BASED ON MODFLOW-2005 Version 1.11.0 08/08/2013                       \n",
      "\n",
      "                    SWR1 Version 1.04.0 07/21/2016                       \n",
      "\n",
      " Using NAME file: freyberg.nam \n",
      " Run start date and time (yyyy/mm/dd hh:mm:ss): 2017/09/06  7:31:45\n",
      "\n",
      " Solving:  Stress period:     1    Time step:     1    Groundwater-Flow Eqn.\n",
      " Solving:  Stress period:     2    Time step:     1    Groundwater-Flow Eqn.\n",
      " Solving:  Stress period:     3    Time step:     1    Groundwater-Flow Eqn.\n",
      " Run end date and time (yyyy/mm/dd hh:mm:ss): 2017/09/06  7:31:45\n",
      " Elapsed run time:  0.023 Seconds\n",
      "\n",
      "  Normal termination of simulation\n",
      "run():./mp6 freyberg.mpsim\n",
      "Util2d:delr: resetting 'how' to external\n",
      "Util2d:delc: resetting 'how' to external\n",
      "Util2d:model_top: resetting 'how' to external\n",
      "Util2d:botm_layer_0: resetting 'how' to external\n",
      "Util2d:ibound_layer_0: resetting 'how' to external\n",
      "Util2d:strt_layer_0: resetting 'how' to external\n",
      "Util2d:rech_1: resetting 'how' to external\n",
      "Util2d:rech_2: resetting 'how' to external\n",
      "Util2d:rech_3: resetting 'how' to external\n",
      "Util2d:hk layer 1: resetting 'how' to external\n",
      "Util2d:vk: resetting 'how' to external\n",
      "Util2d:ss: resetting 'how' to external\n",
      "Util2d:ss: resetting 'how' to external\n",
      "FloPy is using the following executable to run the model: /Users/jwhite/Dev/GW1876/activities/freyberg_summary/freyberg_gr/mfnwt\n",
      "\n",
      "                                  MODFLOW-NWT-SWR1 \n",
      "    U.S. GEOLOGICAL SURVEY MODULAR FINITE-DIFFERENCE GROUNDWATER-FLOW MODEL\n",
      "                             WITH NEWTON FORMULATION\n",
      "                             Version 1.1.1, 7/21/2016                        \n",
      "                    BASED ON MODFLOW-2005 Version 1.11.0 08/08/2013                       \n",
      "\n",
      "                    SWR1 Version 1.04.0 07/21/2016                       \n",
      "\n",
      " Using NAME file: freyberg.nam \n",
      " Run start date and time (yyyy/mm/dd hh:mm:ss): 2017/09/06  7:31:45\n",
      "\n",
      " Solving:  Stress period:     1    Time step:     1    Groundwater-Flow Eqn.\n",
      " Solving:  Stress period:     2    Time step:     1    Groundwater-Flow Eqn.\n",
      " Solving:  Stress period:     3    Time step:     1    Groundwater-Flow Eqn.\n",
      " Run end date and time (yyyy/mm/dd hh:mm:ss): 2017/09/06  7:31:45\n",
      " Elapsed run time:  0.025 Seconds\n",
      "\n",
      "  Normal termination of simulation\n",
      "Starting to read HYDMOD data from freyberg.hyd.bin\n",
      "Starting to read HYDMOD data from freyberg.hyd.bin.truth\n",
      "run():./inschek flux.dat.ins flux.dat\n",
      "run():./inschek vol.dat.ins vol.dat\n",
      "run():./inschek flux.dat.ins flux.dat\n",
      "run():./inschek vol.dat.ins vol.dat\n",
      "run():./inschek flux.dat.ins flux.dat\n",
      "run():./inschek freyberg.hyd.bin.dat.ins freyberg.hyd.bin.dat\n"
     ]
    },
    {
     "name": "stdout",
     "output_type": "stream",
     "text": [
      "run():./inschek freyberg.travel.ins freyberg.travel\n",
      "run():./inschek vol.dat.ins vol.dat\n",
      "run():./pestchek freyberg_gr.pst\n",
      "run():./pestpp freyberg_gr.init.pst\n"
     ]
    }
   ],
   "source": [
    "for setup_function in setup_functions:\n",
    "    setup_function()"
   ]
  },
  {
   "cell_type": "markdown",
   "metadata": {},
   "source": [
    "## FOSM comparison"
   ]
  },
  {
   "cell_type": "markdown",
   "metadata": {},
   "source": [
    "First run all the cases with ``noptmax``= -1"
   ]
  },
  {
   "cell_type": "code",
   "execution_count": 4,
   "metadata": {},
   "outputs": [
    {
     "name": "stdout",
     "output_type": "stream",
     "text": [
      "freyberg_un.pst\n",
      "master:pestpp freyberg_un.pst /h :4004 in freyberg_un_master\n",
      "slave:pestpp freyberg_un.pst /h localhost:4004 in ../slave_0\n",
      "freyberg_kr.pst\n",
      "master:pestpp freyberg_kr.pst /h :4004 in freyberg_kr_master\n",
      "slave:pestpp freyberg_kr.pst /h localhost:4004 in ../slave_0\n",
      "freyberg_zn.pst\n",
      "master:pestpp freyberg_zn.pst /h :4004 in freyberg_zn_master\n",
      "slave:pestpp freyberg_zn.pst /h localhost:4004 in ../slave_0\n",
      "freyberg_pp.pst\n",
      "master:pestpp freyberg_pp.pst /h :4004 in freyberg_pp_master\n",
      "slave:pestpp freyberg_pp.pst /h localhost:4004 in ../slave_0\n",
      "slave:pestpp freyberg_pp.pst /h localhost:4004 in ../slave_1\n",
      "slave:pestpp freyberg_pp.pst /h localhost:4004 in ../slave_2\n",
      "slave:pestpp freyberg_pp.pst /h localhost:4004 in ../slave_3\n",
      "slave:pestpp freyberg_pp.pst /h localhost:4004 in ../slave_4\n",
      "slave:pestpp freyberg_pp.pst /h localhost:4004 in ../slave_5\n",
      "slave:pestpp freyberg_pp.pst /h localhost:4004 in ../slave_6\n",
      "slave:pestpp freyberg_pp.pst /h localhost:4004 in ../slave_7\n",
      "slave:pestpp freyberg_pp.pst /h localhost:4004 in ../slave_8\n",
      "slave:pestpp freyberg_pp.pst /h localhost:4004 in ../slave_9\n",
      "freyberg_gr.pst\n",
      "master:pestpp freyberg_gr.pst /h :4004 in freyberg_gr_master\n",
      "slave:pestpp freyberg_gr.pst /h localhost:4004 in ../slave_0\n",
      "slave:pestpp freyberg_gr.pst /h localhost:4004 in ../slave_1\n",
      "slave:pestpp freyberg_gr.pst /h localhost:4004 in ../slave_2\n",
      "slave:pestpp freyberg_gr.pst /h localhost:4004 in ../slave_3\n",
      "slave:pestpp freyberg_gr.pst /h localhost:4004 in ../slave_4\n",
      "slave:pestpp freyberg_gr.pst /h localhost:4004 in ../slave_5\n",
      "slave:pestpp freyberg_gr.pst /h localhost:4004 in ../slave_6\n",
      "slave:pestpp freyberg_gr.pst /h localhost:4004 in ../slave_7\n",
      "slave:pestpp freyberg_gr.pst /h localhost:4004 in ../slave_8\n",
      "slave:pestpp freyberg_gr.pst /h localhost:4004 in ../slave_9\n",
      "slave:pestpp freyberg_gr.pst /h localhost:4004 in ../slave_10\n",
      "slave:pestpp freyberg_gr.pst /h localhost:4004 in ../slave_11\n",
      "slave:pestpp freyberg_gr.pst /h localhost:4004 in ../slave_12\n",
      "slave:pestpp freyberg_gr.pst /h localhost:4004 in ../slave_13\n",
      "slave:pestpp freyberg_gr.pst /h localhost:4004 in ../slave_14\n",
      "slave:pestpp freyberg_gr.pst /h localhost:4004 in ../slave_15\n",
      "slave:pestpp freyberg_gr.pst /h localhost:4004 in ../slave_16\n",
      "slave:pestpp freyberg_gr.pst /h localhost:4004 in ../slave_17\n",
      "slave:pestpp freyberg_gr.pst /h localhost:4004 in ../slave_18\n",
      "slave:pestpp freyberg_gr.pst /h localhost:4004 in ../slave_19\n"
     ]
    }
   ],
   "source": [
    "for nw, pst_name, wd in zip(num_workers,pst_names,working_dirs):\n",
    "    pst = pyemu.Pst(os.path.join(wd,pst_name))\n",
    "    if pst_name == fs.PST_NAME_KR:\n",
    "        pst.parameter_data.loc[\"rch_0\",\"partrans\"] = \"none\"\n",
    "    pst.control_data.noptmax = -1\n",
    "    pst.write(os.path.join(wd,pst_name))\n",
    "    print(pst_name)\n",
    "    #cwd = os.getcwd()\n",
    "    #os.chdir(wd)\n",
    "    #try:\n",
    "    pyemu.helpers.start_slaves(wd,\"pestpp\",pst_name,num_slaves=nw,master_dir=wd+\"_master\")\n",
    "    #except:\n",
    "    #    os.chdir(cwd)\n",
    "    #    break\n",
    "    #os.chdir(cwd)"
   ]
  },
  {
   "cell_type": "markdown",
   "metadata": {},
   "source": [
    "Now loop through each ``master`` dir and construct a ``pyemu.Schur`` instance"
   ]
  },
  {
   "cell_type": "code",
   "execution_count": 10,
   "metadata": {},
   "outputs": [
    {
     "name": "stderr",
     "output_type": "stream",
     "text": [
      "/Users/jwhite/anaconda/lib/python3.5/site-packages/pandas/core/indexing.py:337: SettingWithCopyWarning: \n",
      "A value is trying to be set on a copy of a slice from a DataFrame.\n",
      "Try using .loc[row_indexer,col_indexer] = value instead\n",
      "\n",
      "See the caveats in the documentation: http://pandas.pydata.org/pandas-docs/stable/indexing.html#indexing-view-versus-copy\n",
      "  self.obj[key] = _infer_fill_value(value)\n",
      "/Users/jwhite/anaconda/lib/python3.5/site-packages/pandas/core/indexing.py:517: SettingWithCopyWarning: \n",
      "A value is trying to be set on a copy of a slice from a DataFrame.\n",
      "Try using .loc[row_indexer,col_indexer] = value instead\n",
      "\n",
      "See the caveats in the documentation: http://pandas.pydata.org/pandas-docs/stable/indexing.html#indexing-view-versus-copy\n",
      "  self.obj[item] = s\n"
     ]
    }
   ],
   "source": [
    "schurs = []\n",
    "for pst_name,wd in zip(pst_names,working_dirs):\n",
    "    parcov = None\n",
    "    if pst_name == fs.PST_NAME_PP:\n",
    "        parcov = fs.build_prior_pp()\n",
    "    elif pst_name == fs.PST_NAME_GR:\n",
    "        parcov = fs.build_prior_gr()\n",
    "    sc = pyemu.Schur(jco=os.path.join(wd+\"_master\",pst_name.replace(\".pst\",\".jcb\")),parcov=parcov)\n",
    "    schurs.append(sc)"
   ]
  },
  {
   "cell_type": "code",
   "execution_count": 11,
   "metadata": {
    "collapsed": true
   },
   "outputs": [],
   "source": [
    "prior,post,percent = [],[],[]\n",
    "for schur in schurs:\n",
    "    fc = schur.get_forecast_summary()\n",
    "    prior.append(fc.loc[:,\"prior_var\"])\n",
    "    post.append(fc.loc[:,\"post_var\"])\n",
    "    percent.append(fc.loc[:,\"percent_reduction\"])\n",
    "names = [pst.split('.')[0].split('_')[1] for pst in pst_names]    \n",
    "prior = pd.concat(prior,axis=1).apply(np.sqrt)\n",
    "prior.columns = names\n",
    "post = pd.concat(post,axis=1).apply(np.sqrt)\n",
    "post.columns = names\n",
    "percent = pd.concat(percent,axis=1)\n",
    "percent.columns = names\n"
   ]
  },
  {
   "cell_type": "code",
   "execution_count": 12,
   "metadata": {
    "collapsed": true
   },
   "outputs": [],
   "source": [
    "forecasts = list(prior.index.values)\n",
    "wl_forecasts = [f for f in forecasts if f.startswith(\"fr\")] \n",
    "rflx_forecast = [f for f in forecasts if f.startswith(\"fl\")][0]\n",
    "tt_forecast = \"travel_time\"\n",
    "forecasts = [wl_forecasts,rflx_forecast,tt_forecast]\n",
    "titles = [\"water level\",\"SW-GW exchange\",\"travel time\"]"
   ]
  },
  {
   "cell_type": "markdown",
   "metadata": {},
   "source": [
    "### Prior uncertainty"
   ]
  },
  {
   "cell_type": "code",
   "execution_count": 13,
   "metadata": {},
   "outputs": [
    {
     "data": {
      "image/png": "[encoded data removed]",
      "text/plain": [
       "<matplotlib.figure.Figure at 0x110fc1da0>"
      ]
     },
     "metadata": {},
     "output_type": "display_data"
    },
    {
     "data": {
      "image/png": "[encoded data removed]",
      "text/plain": [
       "<matplotlib.figure.Figure at 0x110f59f28>"
      ]
     },
     "metadata": {},
     "output_type": "display_data"
    },
    {
     "data": {
      "image/png": "[encoded data removed]",
      "text/plain": [
       "<matplotlib.figure.Figure at 0x11108be48>"
      ]
     },
     "metadata": {},
     "output_type": "display_data"
    }
   ],
   "source": [
    "for forecast,title in zip(forecasts,titles):\n",
    "    ax = prior.loc[forecast,:].plot(kind=\"bar\",figsize=(20,10))\n",
    "    ax.set_ylabel(\"prior std\")\n",
    "    ax.set_title(\"prior uncertainty {0} forecast\".format(title))\n",
    "    ax.grid()\n",
    "    plt.show()"
   ]
  },
  {
   "cell_type": "markdown",
   "metadata": {},
   "source": [
    "## Posterior uncertainty"
   ]
  },
  {
   "cell_type": "code",
   "execution_count": 14,
   "metadata": {},
   "outputs": [
    {
     "data": {
      "image/png": "[encoded data removed]",
      "text/plain": [
       "<matplotlib.figure.Figure at 0x114e74320>"
      ]
     },
     "metadata": {},
     "output_type": "display_data"
    },
    {
     "data": {
      "image/png": "[encoded data removed]",
      "text/plain": [
       "<matplotlib.figure.Figure at 0x11523e278>"
      ]
     },
     "metadata": {},
     "output_type": "display_data"
    },
    {
     "data": {
      "image/png": "[encoded data removed]",
      "text/plain": [
       "<matplotlib.figure.Figure at 0x115124908>"
      ]
     },
     "metadata": {},
     "output_type": "display_data"
    }
   ],
   "source": [
    "for forecast,title in zip(forecasts,titles):\n",
    "    ax = post.loc[forecast,:].plot(kind=\"bar\",figsize=(20,10))\n",
    "    ax.set_ylabel(\"posterior std\")\n",
    "    ax.set_title(\"posterior uncertainty {0} forecast\".format(title))\n",
    "    ax.grid()\n",
    "    plt.show()"
   ]
  },
  {
   "cell_type": "markdown",
   "metadata": {},
   "source": [
    "# Monte Carlo comparison\n",
    "\n",
    "We will use rejection sampling for the K, K + R, and Zone case, Schur-based posterior sampling for pilot points and iES for the grid scale model. We will allow approximately 1000 runs for each case - since the pilot points schur posterior sampling requires the best-fit par values, we burn 500 runs \"calibrating\" this model..."
   ]
  },
  {
   "cell_type": "code",
   "execution_count": 15,
   "metadata": {},
   "outputs": [
    {
     "name": "stdout",
     "output_type": "stream",
     "text": [
      "master:sweep freyberg_un.pst /h :4004 in master_freyberg_un\n",
      "slave:sweep freyberg_un.pst /h localhost:4004 in ../slave_0\n",
      "slave:sweep freyberg_un.pst /h localhost:4004 in ../slave_1\n",
      "slave:sweep freyberg_un.pst /h localhost:4004 in ../slave_2\n",
      "slave:sweep freyberg_un.pst /h localhost:4004 in ../slave_3\n",
      "slave:sweep freyberg_un.pst /h localhost:4004 in ../slave_4\n",
      "slave:sweep freyberg_un.pst /h localhost:4004 in ../slave_5\n",
      "slave:sweep freyberg_un.pst /h localhost:4004 in ../slave_6\n",
      "slave:sweep freyberg_un.pst /h localhost:4004 in ../slave_7\n",
      "slave:sweep freyberg_un.pst /h localhost:4004 in ../slave_8\n",
      "slave:sweep freyberg_un.pst /h localhost:4004 in ../slave_9\n",
      "slave:sweep freyberg_un.pst /h localhost:4004 in ../slave_10\n",
      "slave:sweep freyberg_un.pst /h localhost:4004 in ../slave_11\n",
      "slave:sweep freyberg_un.pst /h localhost:4004 in ../slave_12\n",
      "slave:sweep freyberg_un.pst /h localhost:4004 in ../slave_13\n",
      "slave:sweep freyberg_un.pst /h localhost:4004 in ../slave_14\n",
      "slave:sweep freyberg_un.pst /h localhost:4004 in ../slave_15\n",
      "slave:sweep freyberg_un.pst /h localhost:4004 in ../slave_16\n",
      "slave:sweep freyberg_un.pst /h localhost:4004 in ../slave_17\n",
      "slave:sweep freyberg_un.pst /h localhost:4004 in ../slave_18\n",
      "slave:sweep freyberg_un.pst /h localhost:4004 in ../slave_19\n",
      "master:sweep freyberg_kr.pst /h :4004 in master_freyberg_kr\n",
      "slave:sweep freyberg_kr.pst /h localhost:4004 in ../slave_0\n",
      "slave:sweep freyberg_kr.pst /h localhost:4004 in ../slave_1\n",
      "slave:sweep freyberg_kr.pst /h localhost:4004 in ../slave_2\n",
      "slave:sweep freyberg_kr.pst /h localhost:4004 in ../slave_3\n",
      "slave:sweep freyberg_kr.pst /h localhost:4004 in ../slave_4\n",
      "slave:sweep freyberg_kr.pst /h localhost:4004 in ../slave_5\n",
      "slave:sweep freyberg_kr.pst /h localhost:4004 in ../slave_6\n",
      "slave:sweep freyberg_kr.pst /h localhost:4004 in ../slave_7\n",
      "slave:sweep freyberg_kr.pst /h localhost:4004 in ../slave_8\n",
      "slave:sweep freyberg_kr.pst /h localhost:4004 in ../slave_9\n",
      "slave:sweep freyberg_kr.pst /h localhost:4004 in ../slave_10\n",
      "slave:sweep freyberg_kr.pst /h localhost:4004 in ../slave_11\n",
      "slave:sweep freyberg_kr.pst /h localhost:4004 in ../slave_12\n",
      "slave:sweep freyberg_kr.pst /h localhost:4004 in ../slave_13\n",
      "slave:sweep freyberg_kr.pst /h localhost:4004 in ../slave_14\n",
      "slave:sweep freyberg_kr.pst /h localhost:4004 in ../slave_15\n",
      "slave:sweep freyberg_kr.pst /h localhost:4004 in ../slave_16\n",
      "slave:sweep freyberg_kr.pst /h localhost:4004 in ../slave_17\n",
      "slave:sweep freyberg_kr.pst /h localhost:4004 in ../slave_18\n",
      "slave:sweep freyberg_kr.pst /h localhost:4004 in ../slave_19\n",
      "master:sweep freyberg_zn.pst /h :4004 in master_freyberg_zn\n",
      "slave:sweep freyberg_zn.pst /h localhost:4004 in ../slave_0\n",
      "slave:sweep freyberg_zn.pst /h localhost:4004 in ../slave_1\n",
      "slave:sweep freyberg_zn.pst /h localhost:4004 in ../slave_2\n",
      "slave:sweep freyberg_zn.pst /h localhost:4004 in ../slave_3\n",
      "slave:sweep freyberg_zn.pst /h localhost:4004 in ../slave_4\n",
      "slave:sweep freyberg_zn.pst /h localhost:4004 in ../slave_5\n",
      "slave:sweep freyberg_zn.pst /h localhost:4004 in ../slave_6\n",
      "slave:sweep freyberg_zn.pst /h localhost:4004 in ../slave_7\n",
      "slave:sweep freyberg_zn.pst /h localhost:4004 in ../slave_8\n",
      "slave:sweep freyberg_zn.pst /h localhost:4004 in ../slave_9\n",
      "slave:sweep freyberg_zn.pst /h localhost:4004 in ../slave_10\n",
      "slave:sweep freyberg_zn.pst /h localhost:4004 in ../slave_11\n",
      "slave:sweep freyberg_zn.pst /h localhost:4004 in ../slave_12\n",
      "slave:sweep freyberg_zn.pst /h localhost:4004 in ../slave_13\n",
      "slave:sweep freyberg_zn.pst /h localhost:4004 in ../slave_14\n",
      "slave:sweep freyberg_zn.pst /h localhost:4004 in ../slave_15\n",
      "slave:sweep freyberg_zn.pst /h localhost:4004 in ../slave_16\n",
      "slave:sweep freyberg_zn.pst /h localhost:4004 in ../slave_17\n",
      "slave:sweep freyberg_zn.pst /h localhost:4004 in ../slave_18\n",
      "slave:sweep freyberg_zn.pst /h localhost:4004 in ../slave_19\n"
     ]
    }
   ],
   "source": [
    "for pst_name, wd in zip(pst_names[:3],working_dirs[:3]):\n",
    "    pst = pyemu.Pst(os.path.join(wd,pst_name))\n",
    "    mc = pyemu.MonteCarlo(pst=pst)\n",
    "    mc.draw(100)\n",
    "    mc.parensemble.to_csv(os.path.join(wd,\"sweep_in.csv\"))\n",
    "    pyemu.helpers.start_slaves(wd,\"sweep\",pst_name,num_slaves=20,master_dir=\"master_\"+wd)"
   ]
  },
  {
   "cell_type": "code",
   "execution_count": 16,
   "metadata": {},
   "outputs": [
    {
     "name": "stdout",
     "output_type": "stream",
     "text": [
      "master:pestpp freyberg_pp.pst /h :4004 in freyberg_pp_master\n",
      "slave:pestpp freyberg_pp.pst /h localhost:4004 in ../slave_0\n",
      "slave:pestpp freyberg_pp.pst /h localhost:4004 in ../slave_1\n",
      "slave:pestpp freyberg_pp.pst /h localhost:4004 in ../slave_2\n",
      "slave:pestpp freyberg_pp.pst /h localhost:4004 in ../slave_3\n",
      "slave:pestpp freyberg_pp.pst /h localhost:4004 in ../slave_4\n",
      "slave:pestpp freyberg_pp.pst /h localhost:4004 in ../slave_5\n",
      "slave:pestpp freyberg_pp.pst /h localhost:4004 in ../slave_6\n",
      "slave:pestpp freyberg_pp.pst /h localhost:4004 in ../slave_7\n",
      "slave:pestpp freyberg_pp.pst /h localhost:4004 in ../slave_8\n",
      "slave:pestpp freyberg_pp.pst /h localhost:4004 in ../slave_9\n",
      "slave:pestpp freyberg_pp.pst /h localhost:4004 in ../slave_10\n",
      "slave:pestpp freyberg_pp.pst /h localhost:4004 in ../slave_11\n",
      "slave:pestpp freyberg_pp.pst /h localhost:4004 in ../slave_12\n",
      "slave:pestpp freyberg_pp.pst /h localhost:4004 in ../slave_13\n",
      "slave:pestpp freyberg_pp.pst /h localhost:4004 in ../slave_14\n"
     ]
    }
   ],
   "source": [
    "pst = pyemu.Pst(os.path.join(fs.WORKING_DIR_PP,fs.PST_NAME_PP))\n",
    "pst.control_data.noptmax = 8\n",
    "pst.pestpp_options[\"n_iter_base\"] = -1\n",
    "pst.pestpp_options[\"n_iter_super\"] = 3\n",
    "pst.write(os.path.join(fs.WORKING_DIR_PP,fs.PST_NAME_PP))\n",
    "pyemu.helpers.start_slaves(fs.WORKING_DIR_PP,\"pestpp\",fs.PST_NAME_PP\n",
    "                           ,num_slaves=15,master_dir=fs.WORKING_DIR_PP+\"_master\")"
   ]
  },
  {
   "cell_type": "code",
   "execution_count": null,
   "metadata": {},
   "outputs": [],
   "source": [
    "pst = pyemu.Pst(os.path.join(fs.WORKING_DIR_PP+\"_master\",fs.PST_NAME_PP))\n",
    "pst.adjust_weights_resfile()\n",
    "mc = pyemu.MonteCarlo(pst=pst,parcov=fs.build_prior_pp())\n",
    "mc.draw(100)\n",
    "mc.parensemble.to_csv(os.path.join(fs.WORKING_DIR_PP,\"sweep_in.csv\"))\n",
    "pyemu.helpers.start_slaves(fs.WORKING_DIR_PP,\"sweep\",fs.PST_NAME_PP\n",
    "                           ,num_slaves=15,master_dir=fs.WORKING_DIR_PP+\"_master\")"
   ]
  },
  {
   "cell_type": "code",
   "execution_count": null,
   "metadata": {},
   "outputs": [],
   "source": [
    "os.chdir(fs.WORKING_DIR_GR+\"_master\")\n",
    "pst = pyemu.Pst(fs.PST_NAME_GR)\n",
    "ies = pyemu.EnsembleSmoother(pst=pst,num_slaves=15,slave_dir=os.path.join(\"..\",fs.WORKING_DIR_GR),\n",
    "                             port=4005,parcov=fs.build_prior_gr())\n",
    "ies.initialize(num_reals=100)\n",
    "for _ in range(4):\n",
    "    ies.update()"
   ]
  },
  {
   "cell_type": "code",
   "execution_count": null,
   "metadata": {
    "collapsed": true
   },
   "outputs": [],
   "source": []
  }
 ],
 "metadata": {
  "anaconda-cloud": {},
  "kernelspec": {
   "display_name": "Python [Root]",
   "language": "python",
   "name": "Python [Root]"
  },
  "language_info": {
   "codemirror_mode": {
    "name": "ipython",
    "version": 3
   },
   "file_extension": ".py",
   "mimetype": "text/x-python",
   "name": "python",
   "nbconvert_exporter": "python",
   "pygments_lexer": "ipython3",
   "version": "3.5.2"
  }
 },
 "nbformat": 4,
 "nbformat_minor": 1
}
