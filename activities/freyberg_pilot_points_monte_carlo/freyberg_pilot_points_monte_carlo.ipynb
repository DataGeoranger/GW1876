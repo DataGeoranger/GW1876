{
 "cells": [
  {
   "cell_type": "code",
   "execution_count": 1,
   "metadata": {
    "collapsed": false
   },
   "outputs": [],
   "source": [
    "%matplotlib inline\n",
    "from __future__ import print_function\n",
    "import os\n",
    "import numpy as np\n",
    "import pandas as pd\n",
    "from matplotlib.patches import Rectangle as rect\n",
    "import matplotlib.pyplot as plt\n",
    "import platform\n",
    "if 'window' in platform.platform().lower():\n",
    "    pref = ''\n",
    "else:\n",
    "    pref= './'"
   ]
  },
  {
   "cell_type": "markdown",
   "metadata": {},
   "source": [
    "## Monte Carlo with Freyberg Model\n",
    "\n",
    "Adapted from the examples provided with `pyemu`\n"
   ]
  },
  {
   "cell_type": "markdown",
   "metadata": {},
   "source": [
    "## Using `pyemu`"
   ]
  },
  {
   "cell_type": "code",
   "execution_count": 2,
   "metadata": {
    "collapsed": false
   },
   "outputs": [
    {
     "name": "stdout",
     "output_type": "stream",
     "text": [
      "setting random seed\n"
     ]
    }
   ],
   "source": [
    "import pyemu\n",
    "import shutil, os\n",
    "\n",
    "basedir = os.path.join('..','..','models','Freyberg','Freyberg_pilotpoints')\n",
    "[shutil.copy2(os.path.join(basedir,cf),cf) for cf in os.listdir(basedir)];\n",
    "    "
   ]
  },
  {
   "cell_type": "code",
   "execution_count": 3,
   "metadata": {
    "collapsed": true
   },
   "outputs": [],
   "source": [
    "# get the list of forecast names from the pest++ argument in the pest control file\n",
    "jco_file = 'freyberg_pp.jcb'\n",
    "pst_file = 'freyberg_pp.pst'\n",
    "pst = pyemu.Pst(pst_file)"
   ]
  },
  {
   "cell_type": "code",
   "execution_count": 4,
   "metadata": {
    "collapsed": false
   },
   "outputs": [],
   "source": [
    "mc = pyemu.MonteCarlo(pst=pst_file,verbose=False)"
   ]
  },
  {
   "cell_type": "markdown",
   "metadata": {},
   "source": [
    "## Drawing from the prior\n",
    "Each ``MonteCarlo`` instance has a ``parensemble`` attribute which itself is an instance of ``Ensemble`` class, which is derived from ``pandas.DataFrame``.  What all that means is that the parameter ensembles behave just like ```DataFrame```s\n",
    "\n",
    "### ```draw```\n",
    "The ``draw`` method is the main entry point into getting realizations. It accepts several optional arguments.  Without any args, it makes a single draw from the prior, which uses a $\\boldsymbol{\\mu}$ (mean) vector of the parameter values listed in the pest control file:\n"
   ]
  },
  {
   "cell_type": "code",
   "execution_count": 5,
   "metadata": {
    "collapsed": false
   },
   "outputs": [
    {
     "name": "stdout",
     "output_type": "stream",
     "text": [
      "(1, 72)\n"
     ]
    }
   ],
   "source": [
    "mc.draw()\n",
    "print(mc.parensemble.shape)"
   ]
  },
  {
   "cell_type": "markdown",
   "metadata": {},
   "source": [
    "``draw`` also accepts a ``num_reals`` argument to specify the number of draws to make:"
   ]
  },
  {
   "cell_type": "code",
   "execution_count": 6,
   "metadata": {
    "collapsed": false
   },
   "outputs": [
    {
     "name": "stdout",
     "output_type": "stream",
     "text": [
      "(200, 72)\n",
      "parnme\n",
      "rch1      0.000112\n",
      "rch2      0.000094\n",
      "hkpp1    12.410987\n",
      "hkpp2    14.039465\n",
      "hkpp3    11.850868\n",
      "dtype: float64\n"
     ]
    }
   ],
   "source": [
    "mc.draw(num_reals=200)\n",
    "print(mc.parensemble.shape)\n",
    "print(mc.parensemble.mean().head())"
   ]
  },
  {
   "cell_type": "markdown",
   "metadata": {},
   "source": [
    "## plotting\n",
    "\n",
    "Since ```ParameterEnsemble``` is dervied from ```pandas.DataFrame```, it has all the cool methods and attributes we all love.  Let's compare the results of drawing from a uniform vs a gaussian distribution.  This may take some time."
   ]
  },
  {
   "cell_type": "code",
   "execution_count": 7,
   "metadata": {
    "collapsed": false
   },
   "outputs": [
    {
     "data": {
      "text/plain": [
       "Index(['rch1', 'rch2', 'hkpp1', 'hkpp2', 'hkpp3', 'hkpp4', 'hkpp5', 'hkpp6',\n",
       "       'hkpp7', 'hkpp8', 'hkpp9', 'hkpp10', 'hkpp11', 'hkpp12', 'hkpp13',\n",
       "       'hkpp14', 'hkpp15', 'hkpp16', 'hkpp17', 'hkpp18', 'hkpp19', 'hkpp20',\n",
       "       'hkpp21', 'hkpp22', 'hkpp23', 'hkpp24', 'hkpp25', 'hkpp26', 'hkpp27',\n",
       "       'hkpp28', 'hkpp29', 'hkpp30', 'hkpp31', 'hkpp32', 'hkpp33', 'hkpp34',\n",
       "       'hkpp35', 'hkpp36', 'hkpp37', 'hkpp38', 'hkpp39', 'hkpp40', 'hkpp41',\n",
       "       'hkpp42', 'hkpp43', 'hkpp44', 'hkpp45', 'hkpp46', 'hkpp47', 'hkpp48',\n",
       "       'hkpp49', 'hkpp50', 'hkpp51', 'hkpp52', 'hkpp53', 'hkpp54', 'hkpp55',\n",
       "       'hkpp56', 'hkpp57', 'hkpp58', 'hkpp59', 'hkpp60', 'hkpp61', 'hkpp62',\n",
       "       'hkpp63', 'hkpp64', 'hkpp65', 'hkpp66', 'hkpp67', 'hkpp68', 'hkpp69',\n",
       "       'hkpp70'],\n",
       "      dtype='object', name='parnme')"
      ]
     },
     "execution_count": 7,
     "metadata": {},
     "output_type": "execute_result"
    }
   ],
   "source": [
    "mc.parensemble.columns"
   ]
  },
  {
   "cell_type": "code",
   "execution_count": 8,
   "metadata": {
    "collapsed": false
   },
   "outputs": [
    {
     "data": {
      "text/plain": [
       "<matplotlib.legend.Legend at 0x1158a7a90>"
      ]
     },
     "execution_count": 8,
     "metadata": {},
     "output_type": "execute_result"
    },
    {
     "data": {
      "image/png": "[encoded data removed]",
      "text/plain": [
       "<matplotlib.figure.Figure at 0x11589af98>"
      ]
     },
     "metadata": {},
     "output_type": "display_data"
    }
   ],
   "source": [
    "mc.draw(num_reals=500,how=\"uniform\")\n",
    "ax = plt.subplot(111)\n",
    "partoplot = 'hkpp10'\n",
    "mc.parensemble.loc[:,partoplot].plot(kind=\"hist\",bins=50,ax=ax,alpha=0.5)\n",
    "mc.draw(num_reals=500,how=\"gaussian\")\n",
    "mc.parensemble.loc[:,partoplot].plot(kind=\"hist\",bins=50,ax=ax,alpha=0.5)\n",
    "plt.legend(['uniform','gaussian'])"
   ]
  },
  {
   "cell_type": "code",
   "execution_count": null,
   "metadata": {
    "collapsed": true
   },
   "outputs": [],
   "source": []
  },
  {
   "cell_type": "code",
   "execution_count": 9,
   "metadata": {
    "collapsed": true
   },
   "outputs": [],
   "source": [
    "def plot_first_10_reals(paren):\n",
    "    arrs = []\n",
    "    pp_df = pyemu.utils.gw_utils.pp_file_to_dataframe(\"points1.dat\")\n",
    "    pp_df.loc[:,\"iidx\"] = pp_df.index\n",
    "    for i in range(10):    \n",
    "        pp_df.index = pp_df.name\n",
    "        pp_df.loc[:,\"parval1\"] = paren.iloc[i,:].T\n",
    "        pp_df.index = pp_df.iidx\n",
    "        arr = pyemu.utils.gw_utils.fac2real(pp_df,\"factors1.dat\")\n",
    "        arrs.append(np.log10(np.loadtxt(arr)))\n",
    "    mx,mn = -1.0E+10,1.0e+10\n",
    "    for arr in arrs:\n",
    "        mx = max(mx,arr.max())\n",
    "        mn = min(mn,arr.min())\n",
    "    fig = plt.figure(figsize=(10,10))\n",
    "    for i,arr in enumerate(arrs):\n",
    "        ax = plt.subplot(2,5,i+1)\n",
    "        ax.imshow(arr,vmax=mx,vmin=mn,interpolation=\"nearest\")\n",
    "    plt.show()\n",
    "    \n",
    "    "
   ]
  },
  {
   "cell_type": "code",
   "execution_count": 10,
   "metadata": {
    "collapsed": false
   },
   "outputs": [
    {
     "data": {
      "image/png": "[encoded data removed]",
      "text/plain": [
       "<matplotlib.figure.Figure at 0x11c4943c8>"
      ]
     },
     "metadata": {},
     "output_type": "display_data"
    }
   ],
   "source": [
    "plot_first_10_reals(mc.parensemble)"
   ]
  },
  {
   "cell_type": "markdown",
   "metadata": {
    "collapsed": true
   },
   "source": [
    "Do these look \"right\" (from a geologic stand point)?"
   ]
  },
  {
   "cell_type": "markdown",
   "metadata": {},
   "source": [
    "Let's use a full covariance matrix and see how that looks"
   ]
  },
  {
   "cell_type": "code",
   "execution_count": 11,
   "metadata": {
    "collapsed": false
   },
   "outputs": [
    {
     "data": {
      "text/html": [
       "<div>\n",
       "<table border=\"1\" class=\"dataframe\">\n",
       "  <thead>\n",
       "    <tr style=\"text-align: right;\">\n",
       "      <th></th>\n",
       "      <th>hkpp1</th>\n",
       "      <th>hkpp2</th>\n",
       "      <th>hkpp3</th>\n",
       "      <th>hkpp4</th>\n",
       "      <th>hkpp5</th>\n",
       "      <th>hkpp6</th>\n",
       "      <th>hkpp7</th>\n",
       "      <th>hkpp8</th>\n",
       "      <th>hkpp9</th>\n",
       "      <th>hkpp10</th>\n",
       "      <th>...</th>\n",
       "      <th>hkpp62</th>\n",
       "      <th>hkpp63</th>\n",
       "      <th>hkpp64</th>\n",
       "      <th>hkpp65</th>\n",
       "      <th>hkpp66</th>\n",
       "      <th>hkpp67</th>\n",
       "      <th>hkpp68</th>\n",
       "      <th>hkpp69</th>\n",
       "      <th>hkpp70</th>\n",
       "      <th>rch1</th>\n",
       "    </tr>\n",
       "  </thead>\n",
       "  <tbody>\n",
       "    <tr>\n",
       "      <th>hkpp1</th>\n",
       "      <td>0.220000</td>\n",
       "      <td>0.107065</td>\n",
       "      <td>0.039520</td>\n",
       "      <td>0.002755</td>\n",
       "      <td>0.000000</td>\n",
       "      <td>0.000000</td>\n",
       "      <td>0.107065</td>\n",
       "      <td>0.076340</td>\n",
       "      <td>0.027494</td>\n",
       "      <td>0.000738</td>\n",
       "      <td>...</td>\n",
       "      <td>0.0</td>\n",
       "      <td>0.0</td>\n",
       "      <td>0.0</td>\n",
       "      <td>0.0</td>\n",
       "      <td>0.0</td>\n",
       "      <td>0.0</td>\n",
       "      <td>0.0</td>\n",
       "      <td>0.0</td>\n",
       "      <td>0.0</td>\n",
       "      <td>0.0</td>\n",
       "    </tr>\n",
       "    <tr>\n",
       "      <th>hkpp2</th>\n",
       "      <td>0.107065</td>\n",
       "      <td>0.220000</td>\n",
       "      <td>0.107065</td>\n",
       "      <td>0.039520</td>\n",
       "      <td>0.002755</td>\n",
       "      <td>0.000000</td>\n",
       "      <td>0.076340</td>\n",
       "      <td>0.107065</td>\n",
       "      <td>0.076340</td>\n",
       "      <td>0.027494</td>\n",
       "      <td>...</td>\n",
       "      <td>0.0</td>\n",
       "      <td>0.0</td>\n",
       "      <td>0.0</td>\n",
       "      <td>0.0</td>\n",
       "      <td>0.0</td>\n",
       "      <td>0.0</td>\n",
       "      <td>0.0</td>\n",
       "      <td>0.0</td>\n",
       "      <td>0.0</td>\n",
       "      <td>0.0</td>\n",
       "    </tr>\n",
       "    <tr>\n",
       "      <th>hkpp3</th>\n",
       "      <td>0.039520</td>\n",
       "      <td>0.107065</td>\n",
       "      <td>0.220000</td>\n",
       "      <td>0.107065</td>\n",
       "      <td>0.039520</td>\n",
       "      <td>0.002755</td>\n",
       "      <td>0.027494</td>\n",
       "      <td>0.076340</td>\n",
       "      <td>0.107065</td>\n",
       "      <td>0.076340</td>\n",
       "      <td>...</td>\n",
       "      <td>0.0</td>\n",
       "      <td>0.0</td>\n",
       "      <td>0.0</td>\n",
       "      <td>0.0</td>\n",
       "      <td>0.0</td>\n",
       "      <td>0.0</td>\n",
       "      <td>0.0</td>\n",
       "      <td>0.0</td>\n",
       "      <td>0.0</td>\n",
       "      <td>0.0</td>\n",
       "    </tr>\n",
       "    <tr>\n",
       "      <th>hkpp4</th>\n",
       "      <td>0.002755</td>\n",
       "      <td>0.039520</td>\n",
       "      <td>0.107065</td>\n",
       "      <td>0.220000</td>\n",
       "      <td>0.107065</td>\n",
       "      <td>0.039520</td>\n",
       "      <td>0.000738</td>\n",
       "      <td>0.027494</td>\n",
       "      <td>0.076340</td>\n",
       "      <td>0.107065</td>\n",
       "      <td>...</td>\n",
       "      <td>0.0</td>\n",
       "      <td>0.0</td>\n",
       "      <td>0.0</td>\n",
       "      <td>0.0</td>\n",
       "      <td>0.0</td>\n",
       "      <td>0.0</td>\n",
       "      <td>0.0</td>\n",
       "      <td>0.0</td>\n",
       "      <td>0.0</td>\n",
       "      <td>0.0</td>\n",
       "    </tr>\n",
       "    <tr>\n",
       "      <th>hkpp5</th>\n",
       "      <td>0.000000</td>\n",
       "      <td>0.002755</td>\n",
       "      <td>0.039520</td>\n",
       "      <td>0.107065</td>\n",
       "      <td>0.220000</td>\n",
       "      <td>0.107065</td>\n",
       "      <td>0.000000</td>\n",
       "      <td>0.000738</td>\n",
       "      <td>0.027494</td>\n",
       "      <td>0.076340</td>\n",
       "      <td>...</td>\n",
       "      <td>0.0</td>\n",
       "      <td>0.0</td>\n",
       "      <td>0.0</td>\n",
       "      <td>0.0</td>\n",
       "      <td>0.0</td>\n",
       "      <td>0.0</td>\n",
       "      <td>0.0</td>\n",
       "      <td>0.0</td>\n",
       "      <td>0.0</td>\n",
       "      <td>0.0</td>\n",
       "    </tr>\n",
       "  </tbody>\n",
       "</table>\n",
       "<p>5 rows × 71 columns</p>\n",
       "</div>"
      ],
      "text/plain": [
       "          hkpp1     hkpp2     hkpp3     hkpp4     hkpp5     hkpp6     hkpp7  \\\n",
       "hkpp1  0.220000  0.107065  0.039520  0.002755  0.000000  0.000000  0.107065   \n",
       "hkpp2  0.107065  0.220000  0.107065  0.039520  0.002755  0.000000  0.076340   \n",
       "hkpp3  0.039520  0.107065  0.220000  0.107065  0.039520  0.002755  0.027494   \n",
       "hkpp4  0.002755  0.039520  0.107065  0.220000  0.107065  0.039520  0.000738   \n",
       "hkpp5  0.000000  0.002755  0.039520  0.107065  0.220000  0.107065  0.000000   \n",
       "\n",
       "          hkpp8     hkpp9    hkpp10  ...   hkpp62  hkpp63  hkpp64  hkpp65  \\\n",
       "hkpp1  0.076340  0.027494  0.000738  ...      0.0     0.0     0.0     0.0   \n",
       "hkpp2  0.107065  0.076340  0.027494  ...      0.0     0.0     0.0     0.0   \n",
       "hkpp3  0.076340  0.107065  0.076340  ...      0.0     0.0     0.0     0.0   \n",
       "hkpp4  0.027494  0.076340  0.107065  ...      0.0     0.0     0.0     0.0   \n",
       "hkpp5  0.000738  0.027494  0.076340  ...      0.0     0.0     0.0     0.0   \n",
       "\n",
       "       hkpp66  hkpp67  hkpp68  hkpp69  hkpp70  rch1  \n",
       "hkpp1     0.0     0.0     0.0     0.0     0.0   0.0  \n",
       "hkpp2     0.0     0.0     0.0     0.0     0.0   0.0  \n",
       "hkpp3     0.0     0.0     0.0     0.0     0.0   0.0  \n",
       "hkpp4     0.0     0.0     0.0     0.0     0.0   0.0  \n",
       "hkpp5     0.0     0.0     0.0     0.0     0.0   0.0  \n",
       "\n",
       "[5 rows x 71 columns]"
      ]
     },
     "execution_count": 11,
     "metadata": {},
     "output_type": "execute_result"
    },
    {
     "data": {
      "image/png": "[encoded data removed]",
      "text/plain": [
       "<matplotlib.figure.Figure at 0x11d997160>"
      ]
     },
     "metadata": {},
     "output_type": "display_data"
    }
   ],
   "source": [
    "rch_names = [pname for pname in mc.pst.adj_par_names if \"rch\" in pname]\n",
    "parcov_rch = mc.parcov.get(row_names=rch_names)\n",
    "gs = pyemu.utils.geostats.read_struct_file(\"structure.dat\")\n",
    "#gs.variograms[0].a=10000\n",
    "#gs.variograms[0].contribution=0.01\n",
    "#gs.variograms[0].anisotropy = 10.0\n",
    "pp_df = pyemu.utils.gw_utils.pp_file_to_dataframe(\"points1.dat\")\n",
    "parcov_hk = gs.covariance_matrix(pp_df.x,pp_df.y,pp_df.name)\n",
    "parcov_full = parcov_hk.extend(parcov_rch)\n",
    "plt.imshow(parcov_full.x,interpolation=\"nearest\")\n",
    "parcov_full.to_dataframe().head()"
   ]
  },
  {
   "cell_type": "code",
   "execution_count": 12,
   "metadata": {
    "collapsed": true
   },
   "outputs": [],
   "source": [
    "mc_full = pyemu.MonteCarlo(pst=pst_file,parcov=parcov_full)"
   ]
  },
  {
   "cell_type": "code",
   "execution_count": 13,
   "metadata": {
    "collapsed": true
   },
   "outputs": [],
   "source": [
    "mc_full.draw(100)"
   ]
  },
  {
   "cell_type": "code",
   "execution_count": 14,
   "metadata": {
    "collapsed": false
   },
   "outputs": [
    {
     "data": {
      "image/png": "[encoded data removed]",
      "text/plain": [
       "<matplotlib.figure.Figure at 0x11d965438>"
      ]
     },
     "metadata": {},
     "output_type": "display_data"
    }
   ],
   "source": [
    "plot_first_10_reals(mc_full.parensemble)"
   ]
  },
  {
   "cell_type": "code",
   "execution_count": 46,
   "metadata": {
    "collapsed": false
   },
   "outputs": [],
   "source": [
    "mc_full.draw(100)"
   ]
  },
  {
   "cell_type": "code",
   "execution_count": 47,
   "metadata": {
    "collapsed": true
   },
   "outputs": [],
   "source": [
    "mc_full.parensemble.to_csv(\"sweep_in.csv\")"
   ]
  },
  {
   "cell_type": "code",
   "execution_count": 48,
   "metadata": {
    "collapsed": false
   },
   "outputs": [],
   "source": [
    "pyemu.helpers.start_slaves(basedir,\"{0}sweep\".format(pref),pst_file,num_slaves=10,master_dir='.')"
   ]
  },
  {
   "cell_type": "code",
   "execution_count": 49,
   "metadata": {
    "collapsed": false
   },
   "outputs": [
    {
     "data": {
      "text/html": [
       "<div>\n",
       "<table border=\"1\" class=\"dataframe\">\n",
       "  <thead>\n",
       "    <tr style=\"text-align: right;\">\n",
       "      <th></th>\n",
       "      <th>failed_flag</th>\n",
       "      <th>phi</th>\n",
       "      <th>meas_phi</th>\n",
       "      <th>regul_phi</th>\n",
       "      <th>FLUX_CAL</th>\n",
       "      <th>HEAD_FORE</th>\n",
       "      <th>FLUX_FORE</th>\n",
       "      <th>TRAVEL_FORE</th>\n",
       "      <th>HEAD_CAL</th>\n",
       "      <th>CR03C16</th>\n",
       "      <th>...</th>\n",
       "      <th>FR27C7</th>\n",
       "      <th>FR30C16</th>\n",
       "      <th>FR34C8</th>\n",
       "      <th>FR35C11</th>\n",
       "      <th>FR02C02</th>\n",
       "      <th>FR01C13</th>\n",
       "      <th>FR09C15</th>\n",
       "      <th>FR25C10</th>\n",
       "      <th>RIVFLUX_FORE</th>\n",
       "      <th>TRAVEL_TIME</th>\n",
       "    </tr>\n",
       "    <tr>\n",
       "      <th>run_id</th>\n",
       "      <th></th>\n",
       "      <th></th>\n",
       "      <th></th>\n",
       "      <th></th>\n",
       "      <th></th>\n",
       "      <th></th>\n",
       "      <th></th>\n",
       "      <th></th>\n",
       "      <th></th>\n",
       "      <th></th>\n",
       "      <th></th>\n",
       "      <th></th>\n",
       "      <th></th>\n",
       "      <th></th>\n",
       "      <th></th>\n",
       "      <th></th>\n",
       "      <th></th>\n",
       "      <th></th>\n",
       "      <th></th>\n",
       "      <th></th>\n",
       "      <th></th>\n",
       "    </tr>\n",
       "  </thead>\n",
       "  <tbody>\n",
       "    <tr>\n",
       "      <th>0</th>\n",
       "      <td>0</td>\n",
       "      <td>62.509366</td>\n",
       "      <td>62.509366</td>\n",
       "      <td>0</td>\n",
       "      <td>2.267253</td>\n",
       "      <td>0</td>\n",
       "      <td>0</td>\n",
       "      <td>0</td>\n",
       "      <td>60.242113</td>\n",
       "      <td>19.50881</td>\n",
       "      <td>...</td>\n",
       "      <td>18.24115</td>\n",
       "      <td>14.34195</td>\n",
       "      <td>17.66468</td>\n",
       "      <td>14.56732</td>\n",
       "      <td>29.40394</td>\n",
       "      <td>20.75465</td>\n",
       "      <td>1.797671e+01</td>\n",
       "      <td>17.26829</td>\n",
       "      <td>-2743.303</td>\n",
       "      <td>27499.930</td>\n",
       "    </tr>\n",
       "    <tr>\n",
       "      <th>1</th>\n",
       "      <td>0</td>\n",
       "      <td>603.404228</td>\n",
       "      <td>603.404228</td>\n",
       "      <td>0</td>\n",
       "      <td>493.769730</td>\n",
       "      <td>0</td>\n",
       "      <td>0</td>\n",
       "      <td>0</td>\n",
       "      <td>109.634498</td>\n",
       "      <td>19.49732</td>\n",
       "      <td>...</td>\n",
       "      <td>17.49746</td>\n",
       "      <td>13.23666</td>\n",
       "      <td>15.61862</td>\n",
       "      <td>12.53024</td>\n",
       "      <td>26.14066</td>\n",
       "      <td>20.19824</td>\n",
       "      <td>1.750677e+01</td>\n",
       "      <td>16.12426</td>\n",
       "      <td>-1452.210</td>\n",
       "      <td>11757.270</td>\n",
       "    </tr>\n",
       "    <tr>\n",
       "      <th>2</th>\n",
       "      <td>0</td>\n",
       "      <td>152.213335</td>\n",
       "      <td>152.213335</td>\n",
       "      <td>0</td>\n",
       "      <td>92.278118</td>\n",
       "      <td>0</td>\n",
       "      <td>0</td>\n",
       "      <td>0</td>\n",
       "      <td>59.935217</td>\n",
       "      <td>19.65328</td>\n",
       "      <td>...</td>\n",
       "      <td>19.38107</td>\n",
       "      <td>14.36057</td>\n",
       "      <td>17.32196</td>\n",
       "      <td>13.30753</td>\n",
       "      <td>30.11526</td>\n",
       "      <td>20.52018</td>\n",
       "      <td>1.669880e+01</td>\n",
       "      <td>18.05135</td>\n",
       "      <td>-2243.171</td>\n",
       "      <td>37205.020</td>\n",
       "    </tr>\n",
       "    <tr>\n",
       "      <th>3</th>\n",
       "      <td>0</td>\n",
       "      <td>103.250349</td>\n",
       "      <td>103.250349</td>\n",
       "      <td>0</td>\n",
       "      <td>21.051029</td>\n",
       "      <td>0</td>\n",
       "      <td>0</td>\n",
       "      <td>0</td>\n",
       "      <td>82.199320</td>\n",
       "      <td>20.94002</td>\n",
       "      <td>...</td>\n",
       "      <td>19.08384</td>\n",
       "      <td>14.19523</td>\n",
       "      <td>15.03560</td>\n",
       "      <td>13.53785</td>\n",
       "      <td>25.00251</td>\n",
       "      <td>21.37307</td>\n",
       "      <td>-9.999999e+06</td>\n",
       "      <td>17.24732</td>\n",
       "      <td>-2914.419</td>\n",
       "      <td>4876.281</td>\n",
       "    </tr>\n",
       "    <tr>\n",
       "      <th>4</th>\n",
       "      <td>0</td>\n",
       "      <td>544.996544</td>\n",
       "      <td>544.996544</td>\n",
       "      <td>0</td>\n",
       "      <td>366.618714</td>\n",
       "      <td>0</td>\n",
       "      <td>0</td>\n",
       "      <td>0</td>\n",
       "      <td>178.377829</td>\n",
       "      <td>19.49844</td>\n",
       "      <td>...</td>\n",
       "      <td>16.67840</td>\n",
       "      <td>13.83332</td>\n",
       "      <td>15.33651</td>\n",
       "      <td>13.82401</td>\n",
       "      <td>23.57973</td>\n",
       "      <td>20.09087</td>\n",
       "      <td>1.755005e+01</td>\n",
       "      <td>15.88157</td>\n",
       "      <td>-1646.858</td>\n",
       "      <td>17568.230</td>\n",
       "    </tr>\n",
       "  </tbody>\n",
       "</table>\n",
       "<p>5 rows × 42 columns</p>\n",
       "</div>"
      ],
      "text/plain": [
       "        failed_flag         phi    meas_phi  regul_phi    FLUX_CAL  HEAD_FORE  \\\n",
       "run_id                                                                          \n",
       "0                 0   62.509366   62.509366          0    2.267253          0   \n",
       "1                 0  603.404228  603.404228          0  493.769730          0   \n",
       "2                 0  152.213335  152.213335          0   92.278118          0   \n",
       "3                 0  103.250349  103.250349          0   21.051029          0   \n",
       "4                 0  544.996544  544.996544          0  366.618714          0   \n",
       "\n",
       "        FLUX_FORE  TRAVEL_FORE    HEAD_CAL   CR03C16     ...         FR27C7  \\\n",
       "run_id                                                   ...                  \n",
       "0               0            0   60.242113  19.50881     ...       18.24115   \n",
       "1               0            0  109.634498  19.49732     ...       17.49746   \n",
       "2               0            0   59.935217  19.65328     ...       19.38107   \n",
       "3               0            0   82.199320  20.94002     ...       19.08384   \n",
       "4               0            0  178.377829  19.49844     ...       16.67840   \n",
       "\n",
       "         FR30C16    FR34C8   FR35C11   FR02C02   FR01C13       FR09C15  \\\n",
       "run_id                                                                   \n",
       "0       14.34195  17.66468  14.56732  29.40394  20.75465  1.797671e+01   \n",
       "1       13.23666  15.61862  12.53024  26.14066  20.19824  1.750677e+01   \n",
       "2       14.36057  17.32196  13.30753  30.11526  20.52018  1.669880e+01   \n",
       "3       14.19523  15.03560  13.53785  25.00251  21.37307 -9.999999e+06   \n",
       "4       13.83332  15.33651  13.82401  23.57973  20.09087  1.755005e+01   \n",
       "\n",
       "         FR25C10  RIVFLUX_FORE  TRAVEL_TIME  \n",
       "run_id                                       \n",
       "0       17.26829     -2743.303    27499.930  \n",
       "1       16.12426     -1452.210    11757.270  \n",
       "2       18.05135     -2243.171    37205.020  \n",
       "3       17.24732     -2914.419     4876.281  \n",
       "4       15.88157     -1646.858    17568.230  \n",
       "\n",
       "[5 rows x 42 columns]"
      ]
     },
     "execution_count": 49,
     "metadata": {},
     "output_type": "execute_result"
    }
   ],
   "source": [
    "df_out = pd.read_csv(\"sweep_out.csv\",index_col=0)\n",
    "df_out = df_out.loc[df_out.failed_flag==0,:] #drop an failed runs\n",
    "df_out.head()"
   ]
  },
  {
   "cell_type": "code",
   "execution_count": null,
   "metadata": {
    "collapsed": true
   },
   "outputs": [],
   "source": []
  }
 ],
 "metadata": {
  "anaconda-cloud": {},
  "kernelspec": {
   "display_name": "Python 3",
   "language": "python",
   "name": "python3"
  },
  "language_info": {
   "codemirror_mode": {
    "name": "ipython",
    "version": 3
   },
   "file_extension": ".py",
   "mimetype": "text/x-python",
   "name": "python",
   "nbconvert_exporter": "python",
   "pygments_lexer": "ipython3",
   "version": "3.5.2"
  }
 },
 "nbformat": 4,
 "nbformat_minor": 0
}
