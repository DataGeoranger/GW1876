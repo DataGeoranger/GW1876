{
 "cells": [
  {
   "cell_type": "markdown",
   "metadata": {},
   "source": [
    "<img src=\"AW&H2015.png\" style=\"float: left\">\n",
    "\n",
    "<img src=\"flopylogo.png\" style=\"float: center\">\n",
    "\n",
    "# And now we get to the NEXT BIG THING - Monte Carlo\n",
    "\n",
    "As we've seen, FOSM is quick and insightful.  But FOSM depends on an assumption that the relation between the model and the forecast uncertainty is linear.  But many times the world is nonlinear. Short cuts like FOSM need assumptions, but we can free ourselves by taking the brute force approach.  That is define the parameters that are important, provide the prior uncertainty, sample those parameters many times, run the model many times, and then summarize the results.  \n",
    "\n",
    "### Here's a flowchart from Anderson et al. (2015):\n",
    "\n",
    "<img src=\"Fig10.14_MC_workflow.png\" style=\"float: center\">"
   ]
  },
  {
   "cell_type": "markdown",
   "metadata": {},
   "source": [
    "What do we get when we do this?  We can get average heads for all the runs:\n",
    "\n",
    "<img src=\"PB_avg_heads_Hunt2001.png\" style=\"float: center\">\n",
    "\n",
    "But even cooler - we can get a map of standard deviation of those heads:\n",
    "\n",
    "<img src=\"PB_stdev_heads_Hunt2001.png\" style=\"float: center\">"
   ]
  },
  {
   "cell_type": "markdown",
   "metadata": {},
   "source": [
    "## Even cooler - a forecast can be related to stakeholders probabilistically!\n",
    "\n",
    "<img src=\"FigB10.4.2_MC_probablistic_capture_zone.png\" style=\"float: center\">"
   ]
  },
  {
   "cell_type": "markdown",
   "metadata": {},
   "source": [
    "### Objectives of this notebook\n",
    "\n",
    "1) Run a real Monte Carlo run on the Freyberg model\n",
    "\n",
    "2) Look at parameter and forecast uncertainty \n",
    "\n",
    "3) Start thinking of the advantages and disadvantages of linear and nonlinear uncertainty methods"
   ]
  },
  {
   "cell_type": "markdown",
   "metadata": {},
   "source": [
    "# Quick reminder of what the model looks like:\n",
    "\n",
    "It is a heterogenous 2D areal (1-layer) model that is a step up in complexity from our xsec model. Recall it looks like this:\n",
    "\n",
    "<img src=\"Freyberg_k_plot_GW_Vistas.png\" style=\"float: left\">"
   ]
  },
  {
   "cell_type": "markdown",
   "metadata": {},
   "source": [
    "### Standard two blocks needed to prep the notebook for what we cant to do"
   ]
  },
  {
   "cell_type": "code",
   "execution_count": 1,
   "metadata": {
    "collapsed": false
   },
   "outputs": [
    {
     "name": "stdout",
     "output_type": "stream",
     "text": [
      "setting random seed\n"
     ]
    }
   ],
   "source": [
    "%matplotlib inline\n",
    "import os\n",
    "import shutil\n",
    "import numpy as np\n",
    "import pandas as pd\n",
    "import matplotlib.pyplot as plt\n",
    "import pyemu\n",
    "import platform\n",
    "if 'window' in platform.platform().lower():\n",
    "    newln='\\n'\n",
    "    ppp = 'pest++ '\n",
    "    pref = ''\n",
    "    pestchek = 'pestchek'\n",
    "else:\n",
    "    newln='\\r\\n'\n",
    "    ppp = './pestpp '\n",
    "    pref = './'\n",
    "    pestchek = './pestchek'"
   ]
  },
  {
   "cell_type": "code",
   "execution_count": 2,
   "metadata": {
    "collapsed": false
   },
   "outputs": [],
   "source": [
    "base_dir = os.path.join(\"..\",\"..\",\"models\",\"Freyberg\",\"Freyberg_K_and_R\")\n",
    "assert os.path.exists(base_dir)\n",
    "[shutil.copy2(os.path.join(base_dir,f),f) for f in os.listdir(base_dir)];"
   ]
  },
  {
   "cell_type": "markdown",
   "metadata": {
    "collapsed": false
   },
   "source": [
    "## Let's do some Monte Carlo\n",
    "\n",
    "Monte Carlo uses a lots and lots of forward runs so we don't want to make the mistake of burning the silicon for a PEST control file that is not right.  Here we make doubly sure that Freyberg.pst has the recharge freed.  Note you can use this block in the future to your models.... (oh, let's run PESTCHEK too)"
   ]
  },
  {
   "cell_type": "code",
   "execution_count": 4,
   "metadata": {
    "collapsed": false
   },
   "outputs": [
    {
     "data": {
      "text/plain": [
       "0"
      ]
     },
     "execution_count": 4,
     "metadata": {},
     "output_type": "execute_result"
    }
   ],
   "source": [
    "os.system(\"{0} freyberg.pst\".format(pestchek))"
   ]
  },
  {
   "cell_type": "markdown",
   "metadata": {},
   "source": [
    "Indeed, it is that old PEST control file with rch1 fixed.  Here's the Pyemu way to free the rch1 parameter...."
   ]
  },
  {
   "cell_type": "code",
   "execution_count": 5,
   "metadata": {
    "collapsed": false
   },
   "outputs": [
    {
     "data": {
      "text/html": [
       "<div>\n",
       "<table border=\"1\" class=\"dataframe\">\n",
       "  <thead>\n",
       "    <tr style=\"text-align: right;\">\n",
       "      <th></th>\n",
       "      <th>parnme</th>\n",
       "      <th>partrans</th>\n",
       "      <th>parchglim</th>\n",
       "      <th>parval1</th>\n",
       "      <th>parlbnd</th>\n",
       "      <th>parubnd</th>\n",
       "      <th>pargp</th>\n",
       "      <th>scale</th>\n",
       "      <th>offset</th>\n",
       "      <th>dercom</th>\n",
       "    </tr>\n",
       "    <tr>\n",
       "      <th>parnme</th>\n",
       "      <th></th>\n",
       "      <th></th>\n",
       "      <th></th>\n",
       "      <th></th>\n",
       "      <th></th>\n",
       "      <th></th>\n",
       "      <th></th>\n",
       "      <th></th>\n",
       "      <th></th>\n",
       "      <th></th>\n",
       "    </tr>\n",
       "  </thead>\n",
       "  <tbody>\n",
       "    <tr>\n",
       "      <th>rch1</th>\n",
       "      <td>rch1</td>\n",
       "      <td>log</td>\n",
       "      <td>factor</td>\n",
       "      <td>0.000110</td>\n",
       "      <td>0.000079</td>\n",
       "      <td>0.000155</td>\n",
       "      <td>rch</td>\n",
       "      <td>1.0</td>\n",
       "      <td>0.0</td>\n",
       "      <td>1</td>\n",
       "    </tr>\n",
       "    <tr>\n",
       "      <th>rch2</th>\n",
       "      <td>rch2</td>\n",
       "      <td>fixed</td>\n",
       "      <td>factor</td>\n",
       "      <td>0.000094</td>\n",
       "      <td>0.000079</td>\n",
       "      <td>0.000155</td>\n",
       "      <td>rch</td>\n",
       "      <td>1.0</td>\n",
       "      <td>0.0</td>\n",
       "      <td>1</td>\n",
       "    </tr>\n",
       "    <tr>\n",
       "      <th>hk1</th>\n",
       "      <td>hk1</td>\n",
       "      <td>log</td>\n",
       "      <td>factor</td>\n",
       "      <td>8.000000</td>\n",
       "      <td>1.250000</td>\n",
       "      <td>80.000000</td>\n",
       "      <td>hk</td>\n",
       "      <td>1.0</td>\n",
       "      <td>0.0</td>\n",
       "      <td>1</td>\n",
       "    </tr>\n",
       "  </tbody>\n",
       "</table>\n",
       "</div>"
      ],
      "text/plain": [
       "       parnme partrans parchglim   parval1   parlbnd    parubnd pargp  scale  \\\n",
       "parnme                                                                         \n",
       "rch1     rch1      log    factor  0.000110  0.000079   0.000155   rch    1.0   \n",
       "rch2     rch2    fixed    factor  0.000094  0.000079   0.000155   rch    1.0   \n",
       "hk1       hk1      log    factor  8.000000  1.250000  80.000000    hk    1.0   \n",
       "\n",
       "        offset  dercom  \n",
       "parnme                  \n",
       "rch1       0.0       1  \n",
       "rch2       0.0       1  \n",
       "hk1        0.0       1  "
      ]
     },
     "execution_count": 5,
     "metadata": {},
     "output_type": "execute_result"
    }
   ],
   "source": [
    "pst = pyemu.Pst(\"freyberg.pst\")\n",
    "pst.parameter_data.loc[\"rch1\",\"partrans\"] = \"log\" #make recharge adjustable\n",
    "#pst.parameter_data.loc[\"hk1\",\"parubnd\"] = 100.0\n",
    "#pst.parameter_data.loc[\"hk1\",\"parlbnd\"] = 10.0\n",
    "#pst.parameter_data.loc[\"rch1\",\"partrans\"] = \"none\"\n",
    "#pst.parameter_data.loc[\"rch1\",\"parlbnd\"] = pst.parameter_data.loc[\"rch1\",\"parval1\"] * 0.75\n",
    "#pst.parameter_data.loc[\"rch1\",\"parubnd\"] = pst.parameter_data.loc[\"rch1\",\"parval1\"] * 1.25 \n",
    "pst.parameter_data\n"
   ]
  },
  {
   "cell_type": "markdown",
   "metadata": {},
   "source": [
    "## Good - rch1 is freed.  Now let's draw 1000 tries from the parameter set.  \n",
    "\n",
    "Look in the command below - how does it decide the range of parameters to pull from....\n",
    "\n",
    "(this takes some time so wait for the 0 to show up below the code block before advancing)"
   ]
  },
  {
   "cell_type": "code",
   "execution_count": 7,
   "metadata": {
    "collapsed": true
   },
   "outputs": [],
   "source": [
    "mc = pyemu.MonteCarlo(pst=pst)\n",
    "mc\n",
    "\n",
    "mc.draw(num_reals=1000,enforce_bounds=True,)"
   ]
  },
  {
   "cell_type": "markdown",
   "metadata": {},
   "source": [
    "###  Here's some parameter distributions you could use to control the values pulled from the parameter range from Anderson et al. (2015).  We're using a Gaussian, or \"Normal\" distribution in the code block above.\n",
    "\n",
    "<img src=\"Fig10.13_parameter_distribution.png\" style=\"float: left\">"
   ]
  },
  {
   "cell_type": "markdown",
   "metadata": {},
   "source": [
    "###  Here's an example of the first 5 parameter sets of our 1000 created by our draw (\"draw\" here is like \"drawing\" a card"
   ]
  },
  {
   "cell_type": "code",
   "execution_count": 8,
   "metadata": {
    "collapsed": false
   },
   "outputs": [
    {
     "data": {
      "text/html": [
       "<div>\n",
       "<table border=\"1\" class=\"dataframe\">\n",
       "  <thead>\n",
       "    <tr style=\"text-align: right;\">\n",
       "      <th>parnme</th>\n",
       "      <th>rch1</th>\n",
       "      <th>rch2</th>\n",
       "      <th>hk1</th>\n",
       "    </tr>\n",
       "  </thead>\n",
       "  <tbody>\n",
       "    <tr>\n",
       "      <th>0</th>\n",
       "      <td>0.000111231</td>\n",
       "      <td>0.000094</td>\n",
       "      <td>14.4054</td>\n",
       "    </tr>\n",
       "    <tr>\n",
       "      <th>1</th>\n",
       "      <td>0.000120655</td>\n",
       "      <td>0.000094</td>\n",
       "      <td>2.20863</td>\n",
       "    </tr>\n",
       "    <tr>\n",
       "      <th>2</th>\n",
       "      <td>0.000104062</td>\n",
       "      <td>0.000094</td>\n",
       "      <td>10.0594</td>\n",
       "    </tr>\n",
       "    <tr>\n",
       "      <th>3</th>\n",
       "      <td>9.32631e-05</td>\n",
       "      <td>0.000094</td>\n",
       "      <td>16.3342</td>\n",
       "    </tr>\n",
       "    <tr>\n",
       "      <th>4</th>\n",
       "      <td>0.000110542</td>\n",
       "      <td>0.000094</td>\n",
       "      <td>6.88419</td>\n",
       "    </tr>\n",
       "  </tbody>\n",
       "</table>\n",
       "</div>"
      ],
      "text/plain": [
       "parnme         rch1      rch2      hk1\n",
       "0       0.000111231  0.000094  14.4054\n",
       "1       0.000120655  0.000094  2.20863\n",
       "2       0.000104062  0.000094  10.0594\n",
       "3       9.32631e-05  0.000094  16.3342\n",
       "4       0.000110542  0.000094  6.88419"
      ]
     },
     "execution_count": 8,
     "metadata": {},
     "output_type": "execute_result"
    }
   ],
   "source": [
    "mc.parensemble.head()"
   ]
  },
  {
   "cell_type": "markdown",
   "metadata": {},
   "source": [
    "Let's look at the distributions we are running"
   ]
  },
  {
   "cell_type": "code",
   "execution_count": 9,
   "metadata": {
    "collapsed": false
   },
   "outputs": [
    {
     "name": "stdout",
     "output_type": "stream",
     "text": [
      "7.9e-05 0.000155 0.000112185157763\n"
     ]
    },
    {
     "data": {
      "image/png": "[encoded data removed]",
      "text/plain": [
       "<matplotlib.figure.Figure at 0x110918940>"
      ]
     },
     "metadata": {},
     "output_type": "display_data"
    },
    {
     "name": "stdout",
     "output_type": "stream",
     "text": [
      "9.358508e-05 9.358508e-05 9.358508e-05\n"
     ]
    },
    {
     "data": {
      "image/png": "[encoded data removed]",
      "text/plain": [
       "<matplotlib.figure.Figure at 0x110941048>"
      ]
     },
     "metadata": {},
     "output_type": "display_data"
    },
    {
     "name": "stdout",
     "output_type": "stream",
     "text": [
      "1.25 80.0 13.3993193414\n"
     ]
    },
    {
     "data": {
      "image/png": "[encoded data removed]",
      "text/plain": [
       "<matplotlib.figure.Figure at 0x110960d68>"
      ]
     },
     "metadata": {},
     "output_type": "display_data"
    }
   ],
   "source": [
    "for pname in mc.pst.par_names:\n",
    "    ax = mc.parensemble.loc[:,pname].hist(bins=20)\n",
    "    print(mc.parensemble.loc[:,pname].min(),mc.parensemble.loc[:,pname].max(),mc.parensemble.loc[:,pname].mean())\n",
    "    ax.set_title(pname)\n",
    "    plt.show()\n",
    "    "
   ]
  },
  {
   "cell_type": "code",
   "execution_count": 10,
   "metadata": {
    "collapsed": false
   },
   "outputs": [
    {
     "data": {
      "text/html": [
       "<div>\n",
       "<table border=\"1\" class=\"dataframe\">\n",
       "  <thead>\n",
       "    <tr style=\"text-align: right;\">\n",
       "      <th></th>\n",
       "      <th>parnme</th>\n",
       "      <th>partrans</th>\n",
       "      <th>parchglim</th>\n",
       "      <th>parval1</th>\n",
       "      <th>parlbnd</th>\n",
       "      <th>parubnd</th>\n",
       "      <th>pargp</th>\n",
       "      <th>scale</th>\n",
       "      <th>offset</th>\n",
       "      <th>dercom</th>\n",
       "    </tr>\n",
       "    <tr>\n",
       "      <th>parnme</th>\n",
       "      <th></th>\n",
       "      <th></th>\n",
       "      <th></th>\n",
       "      <th></th>\n",
       "      <th></th>\n",
       "      <th></th>\n",
       "      <th></th>\n",
       "      <th></th>\n",
       "      <th></th>\n",
       "      <th></th>\n",
       "    </tr>\n",
       "  </thead>\n",
       "  <tbody>\n",
       "    <tr>\n",
       "      <th>rch1</th>\n",
       "      <td>rch1</td>\n",
       "      <td>log</td>\n",
       "      <td>factor</td>\n",
       "      <td>0.000110</td>\n",
       "      <td>0.000079</td>\n",
       "      <td>0.000155</td>\n",
       "      <td>rch</td>\n",
       "      <td>1.0</td>\n",
       "      <td>0.0</td>\n",
       "      <td>1</td>\n",
       "    </tr>\n",
       "    <tr>\n",
       "      <th>rch2</th>\n",
       "      <td>rch2</td>\n",
       "      <td>fixed</td>\n",
       "      <td>factor</td>\n",
       "      <td>0.000094</td>\n",
       "      <td>0.000079</td>\n",
       "      <td>0.000155</td>\n",
       "      <td>rch</td>\n",
       "      <td>1.0</td>\n",
       "      <td>0.0</td>\n",
       "      <td>1</td>\n",
       "    </tr>\n",
       "    <tr>\n",
       "      <th>hk1</th>\n",
       "      <td>hk1</td>\n",
       "      <td>log</td>\n",
       "      <td>factor</td>\n",
       "      <td>8.000000</td>\n",
       "      <td>1.250000</td>\n",
       "      <td>80.000000</td>\n",
       "      <td>hk</td>\n",
       "      <td>1.0</td>\n",
       "      <td>0.0</td>\n",
       "      <td>1</td>\n",
       "    </tr>\n",
       "  </tbody>\n",
       "</table>\n",
       "</div>"
      ],
      "text/plain": [
       "       parnme partrans parchglim   parval1   parlbnd    parubnd pargp  scale  \\\n",
       "parnme                                                                         \n",
       "rch1     rch1      log    factor  0.000110  0.000079   0.000155   rch    1.0   \n",
       "rch2     rch2    fixed    factor  0.000094  0.000079   0.000155   rch    1.0   \n",
       "hk1       hk1      log    factor  8.000000  1.250000  80.000000    hk    1.0   \n",
       "\n",
       "        offset  dercom  \n",
       "parnme                  \n",
       "rch1       0.0       1  \n",
       "rch2       0.0       1  \n",
       "hk1        0.0       1  "
      ]
     },
     "execution_count": 10,
     "metadata": {},
     "output_type": "execute_result"
    }
   ],
   "source": [
    "pst.parameter_data"
   ]
  },
  {
   "cell_type": "markdown",
   "metadata": {},
   "source": [
    "Do the log transformed parameters look like a log normal distribution?\n",
    "\n",
    "Now we'll make the sweep file of runs to distribute (just like in the response surface notebooks)"
   ]
  },
  {
   "cell_type": "code",
   "execution_count": 12,
   "metadata": {
    "collapsed": false
   },
   "outputs": [],
   "source": [
    "mc.parensemble.to_csv(\"sweep_in.csv\")"
   ]
  },
  {
   "cell_type": "markdown",
   "metadata": {},
   "source": [
    "##  We are going to run the forward model 1000 times (!!!!) so it will take some time.  Watch the terminal window where you launched the notebook.  Wait for the 0 before going on."
   ]
  },
  {
   "cell_type": "code",
   "execution_count": 13,
   "metadata": {
    "collapsed": false
   },
   "outputs": [],
   "source": [
    "pyemu.helpers.start_slaves(base_dir,\"{0}sweep\".format(pref),\"freyberg.pst\",num_slaves=20,master_dir='.')"
   ]
  },
  {
   "cell_type": "markdown",
   "metadata": {},
   "source": [
    "## Alright - let's see some MC results.  For these runs, what was the Phi?"
   ]
  },
  {
   "cell_type": "code",
   "execution_count": 16,
   "metadata": {
    "collapsed": false
   },
   "outputs": [
    {
     "data": {
      "text/html": [
       "<div>\n",
       "<table border=\"1\" class=\"dataframe\">\n",
       "  <thead>\n",
       "    <tr style=\"text-align: right;\">\n",
       "      <th></th>\n",
       "      <th>failed_flag</th>\n",
       "      <th>phi</th>\n",
       "      <th>meas_phi</th>\n",
       "      <th>regul_phi</th>\n",
       "      <th>TRAVEL_FORE</th>\n",
       "      <th>HEAD_FORE</th>\n",
       "      <th>FLUX_FORE</th>\n",
       "      <th>HEAD_CAL</th>\n",
       "      <th>FLUX_CAL</th>\n",
       "      <th>CR03C16</th>\n",
       "      <th>...</th>\n",
       "      <th>FR27C7</th>\n",
       "      <th>FR30C16</th>\n",
       "      <th>FR34C8</th>\n",
       "      <th>FR35C11</th>\n",
       "      <th>FR02C02</th>\n",
       "      <th>FR01C13</th>\n",
       "      <th>FR09C15</th>\n",
       "      <th>FR25C10</th>\n",
       "      <th>RIVFLUX_FORE</th>\n",
       "      <th>TRAVEL_TIME</th>\n",
       "    </tr>\n",
       "    <tr>\n",
       "      <th>run_id</th>\n",
       "      <th></th>\n",
       "      <th></th>\n",
       "      <th></th>\n",
       "      <th></th>\n",
       "      <th></th>\n",
       "      <th></th>\n",
       "      <th></th>\n",
       "      <th></th>\n",
       "      <th></th>\n",
       "      <th></th>\n",
       "      <th></th>\n",
       "      <th></th>\n",
       "      <th></th>\n",
       "      <th></th>\n",
       "      <th></th>\n",
       "      <th></th>\n",
       "      <th></th>\n",
       "      <th></th>\n",
       "      <th></th>\n",
       "      <th></th>\n",
       "      <th></th>\n",
       "    </tr>\n",
       "  </thead>\n",
       "  <tbody>\n",
       "    <tr>\n",
       "      <th>0</th>\n",
       "      <td>0</td>\n",
       "      <td>193.513340</td>\n",
       "      <td>193.513340</td>\n",
       "      <td>0.0</td>\n",
       "      <td>0.0</td>\n",
       "      <td>0.0</td>\n",
       "      <td>0.0</td>\n",
       "      <td>193.513340</td>\n",
       "      <td>0.0</td>\n",
       "      <td>19.41591</td>\n",
       "      <td>...</td>\n",
       "      <td>16.52406</td>\n",
       "      <td>13.71104</td>\n",
       "      <td>15.07761</td>\n",
       "      <td>13.54750</td>\n",
       "      <td>22.91977</td>\n",
       "      <td>20.08570</td>\n",
       "      <td>1.797876e+01</td>\n",
       "      <td>15.71813</td>\n",
       "      <td>-2302.179</td>\n",
       "      <td>10513.51</td>\n",
       "    </tr>\n",
       "    <tr>\n",
       "      <th>1</th>\n",
       "      <td>0</td>\n",
       "      <td>187.294962</td>\n",
       "      <td>187.294962</td>\n",
       "      <td>0.0</td>\n",
       "      <td>0.0</td>\n",
       "      <td>0.0</td>\n",
       "      <td>0.0</td>\n",
       "      <td>187.294962</td>\n",
       "      <td>0.0</td>\n",
       "      <td>20.84807</td>\n",
       "      <td>...</td>\n",
       "      <td>25.10896</td>\n",
       "      <td>15.44503</td>\n",
       "      <td>19.86937</td>\n",
       "      <td>15.05777</td>\n",
       "      <td>36.25859</td>\n",
       "      <td>22.20053</td>\n",
       "      <td>-9.999999e+06</td>\n",
       "      <td>21.17462</td>\n",
       "      <td>-3187.615</td>\n",
       "      <td>49110.01</td>\n",
       "    </tr>\n",
       "    <tr>\n",
       "      <th>2</th>\n",
       "      <td>0</td>\n",
       "      <td>147.014473</td>\n",
       "      <td>147.014473</td>\n",
       "      <td>0.0</td>\n",
       "      <td>0.0</td>\n",
       "      <td>0.0</td>\n",
       "      <td>0.0</td>\n",
       "      <td>147.014473</td>\n",
       "      <td>0.0</td>\n",
       "      <td>19.44638</td>\n",
       "      <td>...</td>\n",
       "      <td>17.14229</td>\n",
       "      <td>13.82595</td>\n",
       "      <td>15.36389</td>\n",
       "      <td>13.59357</td>\n",
       "      <td>24.11286</td>\n",
       "      <td>20.22028</td>\n",
       "      <td>1.781488e+01</td>\n",
       "      <td>16.06678</td>\n",
       "      <td>-2076.453</td>\n",
       "      <td>14100.15</td>\n",
       "    </tr>\n",
       "    <tr>\n",
       "      <th>3</th>\n",
       "      <td>0</td>\n",
       "      <td>243.752260</td>\n",
       "      <td>243.752260</td>\n",
       "      <td>0.0</td>\n",
       "      <td>0.0</td>\n",
       "      <td>0.0</td>\n",
       "      <td>0.0</td>\n",
       "      <td>243.752260</td>\n",
       "      <td>0.0</td>\n",
       "      <td>19.34978</td>\n",
       "      <td>...</td>\n",
       "      <td>16.04311</td>\n",
       "      <td>13.66015</td>\n",
       "      <td>14.83863</td>\n",
       "      <td>13.46099</td>\n",
       "      <td>22.03527</td>\n",
       "      <td>19.99485</td>\n",
       "      <td>1.801190e+01</td>\n",
       "      <td>15.44618</td>\n",
       "      <td>-2006.522</td>\n",
       "      <td>9506.95</td>\n",
       "    </tr>\n",
       "    <tr>\n",
       "      <th>4</th>\n",
       "      <td>0</td>\n",
       "      <td>73.864692</td>\n",
       "      <td>73.864692</td>\n",
       "      <td>0.0</td>\n",
       "      <td>0.0</td>\n",
       "      <td>0.0</td>\n",
       "      <td>0.0</td>\n",
       "      <td>73.864692</td>\n",
       "      <td>0.0</td>\n",
       "      <td>19.56108</td>\n",
       "      <td>...</td>\n",
       "      <td>18.39821</td>\n",
       "      <td>14.03448</td>\n",
       "      <td>16.00553</td>\n",
       "      <td>13.77459</td>\n",
       "      <td>26.32843</td>\n",
       "      <td>20.49235</td>\n",
       "      <td>1.757457e+01</td>\n",
       "      <td>16.81017</td>\n",
       "      <td>-2172.951</td>\n",
       "      <td>18945.56</td>\n",
       "    </tr>\n",
       "  </tbody>\n",
       "</table>\n",
       "<p>5 rows × 42 columns</p>\n",
       "</div>"
      ],
      "text/plain": [
       "        failed_flag         phi    meas_phi  regul_phi  TRAVEL_FORE  \\\n",
       "run_id                                                                \n",
       "0                 0  193.513340  193.513340        0.0          0.0   \n",
       "1                 0  187.294962  187.294962        0.0          0.0   \n",
       "2                 0  147.014473  147.014473        0.0          0.0   \n",
       "3                 0  243.752260  243.752260        0.0          0.0   \n",
       "4                 0   73.864692   73.864692        0.0          0.0   \n",
       "\n",
       "        HEAD_FORE  FLUX_FORE    HEAD_CAL  FLUX_CAL   CR03C16     ...       \\\n",
       "run_id                                                           ...        \n",
       "0             0.0        0.0  193.513340       0.0  19.41591     ...        \n",
       "1             0.0        0.0  187.294962       0.0  20.84807     ...        \n",
       "2             0.0        0.0  147.014473       0.0  19.44638     ...        \n",
       "3             0.0        0.0  243.752260       0.0  19.34978     ...        \n",
       "4             0.0        0.0   73.864692       0.0  19.56108     ...        \n",
       "\n",
       "          FR27C7   FR30C16    FR34C8   FR35C11   FR02C02   FR01C13  \\\n",
       "run_id                                                               \n",
       "0       16.52406  13.71104  15.07761  13.54750  22.91977  20.08570   \n",
       "1       25.10896  15.44503  19.86937  15.05777  36.25859  22.20053   \n",
       "2       17.14229  13.82595  15.36389  13.59357  24.11286  20.22028   \n",
       "3       16.04311  13.66015  14.83863  13.46099  22.03527  19.99485   \n",
       "4       18.39821  14.03448  16.00553  13.77459  26.32843  20.49235   \n",
       "\n",
       "             FR09C15   FR25C10  RIVFLUX_FORE  TRAVEL_TIME  \n",
       "run_id                                                     \n",
       "0       1.797876e+01  15.71813     -2302.179     10513.51  \n",
       "1      -9.999999e+06  21.17462     -3187.615     49110.01  \n",
       "2       1.781488e+01  16.06678     -2076.453     14100.15  \n",
       "3       1.801190e+01  15.44618     -2006.522      9506.95  \n",
       "4       1.757457e+01  16.81017     -2172.951     18945.56  \n",
       "\n",
       "[5 rows x 42 columns]"
      ]
     },
     "execution_count": 16,
     "metadata": {},
     "output_type": "execute_result"
    }
   ],
   "source": [
    "df_out = pd.read_csv(\"sweep_out.csv\",index_col=0)\n",
    "df_out = df_out.loc[df_out.failed_flag==0,:] #drop an failed runs\n",
    "df_out.head()"
   ]
  },
  {
   "cell_type": "markdown",
   "metadata": {},
   "source": [
    "### Let's plot Phi"
   ]
  },
  {
   "cell_type": "code",
   "execution_count": 15,
   "metadata": {
    "collapsed": false
   },
   "outputs": [
    {
     "data": {
      "text/plain": [
       "<matplotlib.axes._subplots.AxesSubplot at 0x110918748>"
      ]
     },
     "execution_count": 15,
     "metadata": {},
     "output_type": "execute_result"
    },
    {
     "data": {
      "image/png": "[encoded data removed]",
      "text/plain": [
       "<matplotlib.figure.Figure at 0x110b809b0>"
      ]
     },
     "metadata": {},
     "output_type": "display_data"
    }
   ],
   "source": [
    "df_out.phi.hist()"
   ]
  },
  {
   "cell_type": "markdown",
   "metadata": {},
   "source": [
    "### Wow, some of those models are really bad fits to the observations.  Those are not reasonable, so we should NOT include them in our uncertainty analysis.\n",
    "\n",
    "\n",
    "# PAY ATTENTION:  this is super important - in this next block we are \"conditioning\" our Monte Carlo run by removing the bad runs. So here is the code where we are choosing which realizations we consider ``good enough`` with respect to fitting the observation data"
   ]
  },
  {
   "cell_type": "code",
   "execution_count": 17,
   "metadata": {
    "collapsed": false
   },
   "outputs": [
    {
     "name": "stdout",
     "output_type": "stream",
     "text": [
      "[  7  16  35  37  51  63  76  80  81  82  98 103 105 109 111 112 114 134\n",
      " 143 157 163 166 186 189 199 209 211 222 232 233 234 236 238 241 250 253\n",
      " 264 267 268 270 285 286 289 302 305 310 323 330 343 354 365 379 386 387\n",
      " 390 392 398 406 409 425 453 460 462 470 487 497 500 509 513 515 520 530\n",
      " 536 542 558 561 565 575 584 585 601 603 606 619 624 654 655 686 688 689\n",
      " 696 705 711 712 715 736 748 757 762 768 774 784 785 791 792 794 795 796\n",
      " 801 803 814 822 831 833 854 856 859 861 863 873 874 880 892 898 903 908\n",
      " 910 915 918 923 930 936 947 953 958 963 965 966 969 992 996]\n"
     ]
    }
   ],
   "source": [
    "acceptable_phi = 35.0\n",
    "good_enough = df_out.loc[df_out.phi<acceptable_phi].index.values\n",
    "print(good_enough)"
   ]
  },
  {
   "cell_type": "markdown",
   "metadata": {},
   "source": [
    "#### So above is the list of run numbers that are meet our Phi cutoff\n",
    "\n",
    "# Now the payoff - probablistic plots of our forecasts!s \n",
    "\n",
    "### Gray blocks show the range of the runs we threw out.  But those were considered within our bounds when we started, so those grey boxes represent our prior\n",
    "\n",
    "### The blue boxes show the runs that met our criteria, so that distribution represents our posterior"
   ]
  },
  {
   "cell_type": "code",
   "execution_count": 19,
   "metadata": {
    "collapsed": false
   },
   "outputs": [
    {
     "data": {
      "text/plain": [
       "<matplotlib.axes._subplots.AxesSubplot at 0x1115a5908>"
      ]
     },
     "execution_count": 19,
     "metadata": {},
     "output_type": "execute_result"
    },
    {
     "data": {
      "image/png": "[encoded data removed]",
      "text/plain": [
       "<matplotlib.figure.Figure at 0x1115902e8>"
      ]
     },
     "metadata": {},
     "output_type": "display_data"
    }
   ],
   "source": [
    "ax = df_out.TRAVEL_TIME.hist(alpha=0.5,color='0.5',normed=True)\n",
    "ax.set_yticklabels([])\n",
    "df_out.loc[good_enough,\"TRAVEL_TIME\"].hist(ax=ax,alpha=0.5,color='b',normed=True)"
   ]
  },
  {
   "cell_type": "code",
   "execution_count": 20,
   "metadata": {
    "collapsed": false
   },
   "outputs": [
    {
     "data": {
      "text/plain": [
       "[]"
      ]
     },
     "execution_count": 20,
     "metadata": {},
     "output_type": "execute_result"
    },
    {
     "data": {
      "image/png": "[encoded data removed]",
      "text/plain": [
       "<matplotlib.figure.Figure at 0x104441320>"
      ]
     },
     "metadata": {},
     "output_type": "display_data"
    }
   ],
   "source": [
    "ax = df_out.RIVFLUX_FORE.hist(alpha=0.5,color=\"0.5\",normed=True)\n",
    "df_out.loc[good_enough,\"RIVFLUX_FORE\"].hist(ax=ax,color='b',alpha=0.5,normed=True)\n",
    "ax.set_yticklabels([])"
   ]
  },
  {
   "cell_type": "code",
   "execution_count": 21,
   "metadata": {
    "collapsed": false
   },
   "outputs": [
    {
     "data": {
      "text/plain": [
       "[]"
      ]
     },
     "execution_count": 21,
     "metadata": {},
     "output_type": "execute_result"
    },
    {
     "data": {
      "image/png": "[encoded data removed]",
      "text/plain": [
       "<matplotlib.figure.Figure at 0x110b975c0>"
      ]
     },
     "metadata": {},
     "output_type": "display_data"
    }
   ],
   "source": [
    "ax = df_out.FR03C16.hist(alpha=0.5,color=\"0.5\",normed=True)\n",
    "df_out.loc[good_enough,\"FR03C16\"].hist(ax=ax,color='b',alpha=0.5,normed=True)\n",
    "ax.set_yticklabels([])"
   ]
  },
  {
   "cell_type": "code",
   "execution_count": 24,
   "metadata": {
    "collapsed": false
   },
   "outputs": [
    {
     "data": {
      "text/plain": [
       "[]"
      ]
     },
     "execution_count": 24,
     "metadata": {},
     "output_type": "execute_result"
    },
    {
     "data": {
      "image/png": "[encoded data removed]",
      "text/plain": [
       "<matplotlib.figure.Figure at 0x111ba6710>"
      ]
     },
     "metadata": {},
     "output_type": "display_data"
    }
   ],
   "source": [
    "ax = df_out.FR04C9.hist(alpha=0.5,color=\"0.5\",normed=True)\n",
    "df_out.loc[good_enough,\"FR04C9\"].hist(ax=ax,color='b',alpha=0.5,normed=True)\n",
    "ax.set_yticklabels([])"
   ]
  },
  {
   "cell_type": "markdown",
   "metadata": {},
   "source": [
    "# What a power POWERFUL method to show our uncertainty, and what we learned from history matching.  Moreover, we are free of a lot of the limiting assumptions of FOSM.  \n",
    "\n",
    "(What's the downside?)"
   ]
  },
  {
   "cell_type": "code",
   "execution_count": null,
   "metadata": {
    "collapsed": true
   },
   "outputs": [],
   "source": []
  }
 ],
 "metadata": {
  "anaconda-cloud": {},
  "kernelspec": {
   "display_name": "Python 3",
   "language": "python",
   "name": "python3"
  },
  "language_info": {
   "codemirror_mode": {
    "name": "ipython",
    "version": 3
   },
   "file_extension": ".py",
   "mimetype": "text/x-python",
   "name": "python",
   "nbconvert_exporter": "python",
   "pygments_lexer": "ipython3",
   "version": "3.5.2"
  }
 },
 "nbformat": 4,
 "nbformat_minor": 0
}
