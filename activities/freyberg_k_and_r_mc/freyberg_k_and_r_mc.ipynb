{
 "cells": [
  {
   "cell_type": "markdown",
   "metadata": {},
   "source": [
    "<img src=\"PEST++V3_cover.jpeg\" style=\"float: left\">\n",
    "\n",
    "<img src=\"flopylogo.png\" style=\"float: right\">\n",
    "\n",
    "<img src=\"AW&H2015.png\" style=\"float: center\">\n",
    "\n",
    "# Linear/FOSM uncertainty is cool, but for the NEXT BIG THING, you gotta go Monte Carlo \n",
    "\n",
    "## (what's old is new again)\n",
    "\n",
    "As we've seen, First-Order-Second-Moment (FOSM) is quick and insightful.  But FOSM depends on an assumption that the relation between the model and the forecast uncertainty is linear.  But many times the world is nonlinear. Short cuts like FOSM need assumptions, but we can free ourselves by taking the brute force approach.  That is define the parameters that are important, provide the prior uncertainty, sample those parameters many times, run the model many times, and then summarize the results.  \n",
    "\n",
    "On a more practical standpoint, the underlying theory for FOSM and why it results in shortcomings can be hard to explain to stakeholders.  Monte Carlo, however, is VERY straightforward, its computational brute force notwithstanding. \n",
    "\n",
    "### Here's a flowchart from Anderson et al. (2015):\n",
    "\n",
    "<img src=\"Fig10.14_MC_workflow.png\" style=\"float: center\">"
   ]
  },
  {
   "cell_type": "markdown",
   "metadata": {},
   "source": [
    "What do we get when we do this?  Here are results from a MODFLOW-Monte Carlo model that was built to determine the capture zone for a spring (Hunt et al., 2001). They showe that we can get average heads for all the runs:\n",
    "\n",
    "<img src=\"PB_avg_heads_Hunt2001.png\" style=\"float: center\">\n",
    "\n",
    "But even cooler - we can get a map of standard deviation of those heads:\n",
    "\n",
    "<img src=\"PB_stdev_heads_Hunt2001.png\" style=\"float: center\">"
   ]
  },
  {
   "cell_type": "markdown",
   "metadata": {},
   "source": [
    "## Even cooler - the forecast for the area that provdes recharge to the spring can be related to stakeholders probabilistically!\n",
    "\n",
    "<img src=\"FigB10.4.2_MC_probablistic_capture_zone.png\" style=\"float: center\">"
   ]
  },
  {
   "cell_type": "markdown",
   "metadata": {},
   "source": [
    "### Objectives of this notebook\n",
    "\n",
    "1) Run a real Monte Carlo run on the Freyberg model\n",
    "\n",
    "2) Look at parameter and forecast uncertainty \n",
    "\n",
    "3) Start thinking of the advantages and disadvantages of linear and nonlinear uncertainty methods"
   ]
  },
  {
   "cell_type": "markdown",
   "metadata": {},
   "source": [
    "# Quick reminder of what the model looks like:\n",
    "\n",
    "It is a heterogenous 2D areal (1-layer) model that is a step up in complexity from our xsec model. Recall it looks like this:\n",
    "\n",
    "<img src=\"Freyberg_k_plot_GW_Vistas.png\" style=\"float: left\">"
   ]
  },
  {
   "cell_type": "markdown",
   "metadata": {},
   "source": [
    "### Standard two blocks needed to prep the notebook for what we cant to do"
   ]
  },
  {
   "cell_type": "code",
   "execution_count": 19,
   "metadata": {},
   "outputs": [],
   "source": [
    "%matplotlib inline\n",
    "import os\n",
    "import sys\n",
    "sys.path.append(\"..\")\n",
    "import shutil\n",
    "import numpy as np\n",
    "import pandas as pd\n",
    "import matplotlib.pyplot as plt\n",
    "import pyemu"
   ]
  },
  {
   "cell_type": "code",
   "execution_count": 20,
   "metadata": {},
   "outputs": [
    {
     "name": "stdout",
     "output_type": "stream",
     "text": [
      "WARNING: unit 13 of package BAS6 already in use\n",
      "****Warning -- two packages of the same type:  <class 'flopy.modflow.mfbas.ModflowBas'> <class 'flopy.modflow.mfbas.ModflowBas'>\n",
      "replacing existing Package...\n",
      "\n",
      "changing model workspace...\n",
      "   freyberg_kr\n",
      "FloPy is using the following executable to run the model: /Users/jeremyw/Dev/gw1876/activities/freyberg_k_and_r_mc/freyberg_kr/mfnwt\n",
      "\n",
      "                                  MODFLOW-NWT-SWR1 \n",
      "    U.S. GEOLOGICAL SURVEY MODULAR FINITE-DIFFERENCE GROUNDWATER-FLOW MODEL\n",
      "                             WITH NEWTON FORMULATION\n",
      "                             Version 1.1.1, 7/21/2016                        \n",
      "                    BASED ON MODFLOW-2005 Version 1.11.0 08/08/2013                       \n",
      "\n",
      "                    SWR1 Version 1.04.0 07/21/2016                       \n",
      "\n",
      " Using NAME file: freyberg.nam \n",
      " Run start date and time (yyyy/mm/dd hh:mm:ss): 2018/04/22 17:42:12\n",
      "\n",
      " Solving:  Stress period:     1    Time step:     1    Groundwater-Flow Eqn.\n",
      " Solving:  Stress period:     2    Time step:     1    Groundwater-Flow Eqn.\n",
      " Solving:  Stress period:     3    Time step:     1    Groundwater-Flow Eqn.\n",
      " Run end date and time (yyyy/mm/dd hh:mm:ss): 2018/04/22 17:42:12\n",
      " Elapsed run time:  0.039 Seconds\n",
      "\n",
      "  Normal termination of simulation\n",
      "Util2d:delr: resetting 'how' to external\n",
      "Util2d:delc: resetting 'how' to external\n",
      "Util2d:model_top: resetting 'how' to external\n",
      "Util2d:botm_layer_0: resetting 'how' to external\n",
      "Util2d:ibound_layer_0: resetting 'how' to external\n",
      "Util2d:strt_layer_0: resetting 'how' to external\n",
      "Util2d:rech_1: resetting 'how' to external\n",
      "Util2d:rech_2: resetting 'how' to external\n",
      "Util2d:rech_3: resetting 'how' to external\n",
      "Util2d:hk layer 1: resetting 'how' to external\n",
      "Util2d:vka: resetting 'how' to external\n",
      "Util2d:ss: resetting 'how' to external\n",
      "Util2d:sy: resetting 'how' to external\n",
      "FloPy is using the following executable to run the model: /Users/jeremyw/Dev/gw1876/activities/freyberg_k_and_r_mc/freyberg_kr/mfnwt\n",
      "\n",
      "                                  MODFLOW-NWT-SWR1 \n",
      "    U.S. GEOLOGICAL SURVEY MODULAR FINITE-DIFFERENCE GROUNDWATER-FLOW MODEL\n",
      "                             WITH NEWTON FORMULATION\n",
      "                             Version 1.1.1, 7/21/2016                        \n",
      "                    BASED ON MODFLOW-2005 Version 1.11.0 08/08/2013                       \n",
      "\n",
      "                    SWR1 Version 1.04.0 07/21/2016                       \n",
      "\n",
      " Using NAME file: freyberg.nam \n",
      " Run start date and time (yyyy/mm/dd hh:mm:ss): 2018/04/22 17:42:12\n",
      "\n",
      " Solving:  Stress period:     1    Time step:     1    Groundwater-Flow Eqn.\n",
      " Solving:  Stress period:     2    Time step:     1    Groundwater-Flow Eqn.\n",
      " Solving:  Stress period:     3    Time step:     1    Groundwater-Flow Eqn.\n",
      " Run end date and time (yyyy/mm/dd hh:mm:ss): 2018/04/22 17:42:12\n",
      " Elapsed run time:  0.027 Seconds\n",
      "\n",
      "  Normal termination of simulation\n",
      "Starting to read HYDMOD data from freyberg.hyd.bin\n",
      "Starting to read HYDMOD data from freyberg.hyd.bin.truth\n",
      "writing 'sfr_obs.config' to sfr_obs.config\n",
      "                                    obsnme     obsval  weight    obgnme\n",
      "c001fr05c04_19791231  c001fr05c04_19791231  29.453472     0.0  forehead\n",
      "c001fr16c17_19791231  c001fr16c17_19791231  21.617983     0.0  forehead\n"
     ]
    }
   ],
   "source": [
    "import freyberg_setup as fs\n",
    "fs.setup_pest_kr(make_porosity_tpl=True)\n",
    "working_dir = fs.WORKING_DIR_KR\n",
    "pst_name = fs.PST_NAME_KR"
   ]
  },
  {
   "cell_type": "code",
   "execution_count": 21,
   "metadata": {},
   "outputs": [
    {
     "data": {
      "image/png": "[encoded data removed]",
      "text/plain": [
       "<matplotlib.figure.Figure at 0x10d504978>"
      ]
     },
     "metadata": {},
     "output_type": "display_data"
    }
   ],
   "source": [
    "fs.plot_model(working_dir, pst_name)"
   ]
  },
  {
   "cell_type": "markdown",
   "metadata": {},
   "source": [
    "## Let's do some Monte Carlo\n",
    "\n",
    "Monte Carlo uses a lots and lots of forward runs so we don't want to make the mistake of burning the silicon for a PEST control file that is not right.  Here we make doubly sure that the control file has the recharge freed (not \"fixed' in the PEST control file).  Note you can use this block in the future for your models...."
   ]
  },
  {
   "cell_type": "code",
   "execution_count": 22,
   "metadata": {},
   "outputs": [
    {
     "data": {
      "text/plain": [
       "Index(['hk', 'porosity', 'rch_0', 'rch_1'], dtype='object', name='parnme')"
      ]
     },
     "execution_count": 22,
     "metadata": {},
     "output_type": "execute_result"
    }
   ],
   "source": [
    "pst = pyemu.Pst(os.path.join(working_dir,pst_name))\n",
    "obs = pst.observation_data\n",
    "obs.loc[obs.obgnme==\"calflux\",\"weight\"] = 0.05#super subjective\n",
    "pst.write(os.path.join(working_dir,pst_name))\n",
    "pst.parameter_data.index"
   ]
  },
  {
   "cell_type": "markdown",
   "metadata": {},
   "source": [
    "Ah - the recharge for the first stress period (rch_0) is fixed. But, really, by leaving the recharge for the future (rch_1) fixed we are saying that we know it perfectly when we know it even less than the the calibration period rch_0.  Being the purpose of the model is to forecast the future, in our Monte Carlo we may want to include this.  Let's use pyemu to reset both rch_0 and rch_1 (though a text editor is fine too). "
   ]
  },
  {
   "cell_type": "code",
   "execution_count": 23,
   "metadata": {},
   "outputs": [
    {
     "data": {
      "text/html": [
       "<div>\n",
       "<style scoped>\n",
       "    .dataframe tbody tr th:only-of-type {\n",
       "        vertical-align: middle;\n",
       "    }\n",
       "\n",
       "    .dataframe tbody tr th {\n",
       "        vertical-align: top;\n",
       "    }\n",
       "\n",
       "    .dataframe thead th {\n",
       "        text-align: right;\n",
       "    }\n",
       "</style>\n",
       "<table border=\"1\" class=\"dataframe\">\n",
       "  <thead>\n",
       "    <tr style=\"text-align: right;\">\n",
       "      <th></th>\n",
       "      <th>parnme</th>\n",
       "      <th>partrans</th>\n",
       "      <th>parchglim</th>\n",
       "      <th>parval1</th>\n",
       "      <th>parlbnd</th>\n",
       "      <th>parubnd</th>\n",
       "      <th>pargp</th>\n",
       "      <th>scale</th>\n",
       "      <th>offset</th>\n",
       "      <th>dercom</th>\n",
       "      <th>extra</th>\n",
       "    </tr>\n",
       "    <tr>\n",
       "      <th>parnme</th>\n",
       "      <th></th>\n",
       "      <th></th>\n",
       "      <th></th>\n",
       "      <th></th>\n",
       "      <th></th>\n",
       "      <th></th>\n",
       "      <th></th>\n",
       "      <th></th>\n",
       "      <th></th>\n",
       "      <th></th>\n",
       "      <th></th>\n",
       "    </tr>\n",
       "  </thead>\n",
       "  <tbody>\n",
       "    <tr>\n",
       "      <th>hk</th>\n",
       "      <td>hk</td>\n",
       "      <td>log</td>\n",
       "      <td>factor</td>\n",
       "      <td>5.00</td>\n",
       "      <td>0.500</td>\n",
       "      <td>50.00</td>\n",
       "      <td>hk</td>\n",
       "      <td>1.0</td>\n",
       "      <td>0.0</td>\n",
       "      <td>1</td>\n",
       "      <td>NaN</td>\n",
       "    </tr>\n",
       "    <tr>\n",
       "      <th>porosity</th>\n",
       "      <td>porosity</td>\n",
       "      <td>log</td>\n",
       "      <td>factor</td>\n",
       "      <td>0.01</td>\n",
       "      <td>0.005</td>\n",
       "      <td>0.02</td>\n",
       "      <td>porosity</td>\n",
       "      <td>1.0</td>\n",
       "      <td>0.0</td>\n",
       "      <td>1</td>\n",
       "      <td>NaN</td>\n",
       "    </tr>\n",
       "    <tr>\n",
       "      <th>rch_0</th>\n",
       "      <td>rch_0</td>\n",
       "      <td>log</td>\n",
       "      <td>factor</td>\n",
       "      <td>1.00</td>\n",
       "      <td>0.500</td>\n",
       "      <td>2.00</td>\n",
       "      <td>rch</td>\n",
       "      <td>1.0</td>\n",
       "      <td>0.0</td>\n",
       "      <td>1</td>\n",
       "      <td>NaN</td>\n",
       "    </tr>\n",
       "    <tr>\n",
       "      <th>rch_1</th>\n",
       "      <td>rch_1</td>\n",
       "      <td>log</td>\n",
       "      <td>factor</td>\n",
       "      <td>1.00</td>\n",
       "      <td>0.250</td>\n",
       "      <td>3.00</td>\n",
       "      <td>rch</td>\n",
       "      <td>1.0</td>\n",
       "      <td>0.0</td>\n",
       "      <td>1</td>\n",
       "      <td>NaN</td>\n",
       "    </tr>\n",
       "  </tbody>\n",
       "</table>\n",
       "</div>"
      ],
      "text/plain": [
       "            parnme partrans parchglim  parval1  parlbnd  parubnd     pargp  \\\n",
       "parnme                                                                       \n",
       "hk              hk      log    factor     5.00    0.500    50.00        hk   \n",
       "porosity  porosity      log    factor     0.01    0.005     0.02  porosity   \n",
       "rch_0        rch_0      log    factor     1.00    0.500     2.00       rch   \n",
       "rch_1        rch_1      log    factor     1.00    0.250     3.00       rch   \n",
       "\n",
       "          scale  offset  dercom  extra  \n",
       "parnme                                  \n",
       "hk          1.0     0.0       1    NaN  \n",
       "porosity    1.0     0.0       1    NaN  \n",
       "rch_0       1.0     0.0       1    NaN  \n",
       "rch_1       1.0     0.0       1    NaN  "
      ]
     },
     "execution_count": 23,
     "metadata": {},
     "output_type": "execute_result"
    }
   ],
   "source": [
    "pst.parameter_data.loc[[\"rch_0\",\"rch_1\"],\"partrans\"] = \"log\"\n",
    "\n",
    "\n",
    "pst.write(os.path.join(working_dir,pst_name))\n",
    "pst.parameter_data"
   ]
  },
  {
   "cell_type": "markdown",
   "metadata": {},
   "source": [
    "## Good - past and future recharge are freed.  Now let's draw 500 tries from the parameter set.  \n",
    "\n",
    "Look in the command below - how does it decide the range of parameters to pull from....\n",
    "\n",
    "(this takes some time so wait for the 0 to show up below the code block before advancing)"
   ]
  },
  {
   "cell_type": "code",
   "execution_count": 44,
   "metadata": {},
   "outputs": [
    {
     "name": "stdout",
     "output_type": "stream",
     "text": [
      "making diagonal cov draws\n",
      "building mean and std dicts\n",
      "numpy draw\n",
      "post-processing\n",
      "build df\n",
      "handling fixed pars\n"
     ]
    }
   ],
   "source": [
    "prior_cov = pyemu.Cov.from_parameter_data(pst,sigma_range=6)\n",
    "#mc = pyemu.MonteCarlo(pst=pst,parcov=prior_cov)\n",
    "#mc.draw(num_reals=500,enforce_bounds=\"reset\")\n",
    "parensemble = pyemu.ParameterEnsemble.from_gaussian_draw(pst=pst,cov=prior_cov,num_reals=500)\n",
    "parensemble.enforce()"
   ]
  },
  {
   "cell_type": "markdown",
   "metadata": {},
   "source": [
    "###  Here's some parameter distributions you could use to control the values pulled from the parameter range (taken from Anderson et al. 2015).  In the code block you just ran we're using a Gaussian, or \"Normal\" distribution.\n",
    "\n",
    "<img src=\"Fig10.13_parameter_distribution.png\" style=\"float: left\">"
   ]
  },
  {
   "cell_type": "markdown",
   "metadata": {},
   "source": [
    "###  Here's an example of the first 5 parameter sets of our 500 created by our draw (\"draw\" here is like \"drawing\" a card"
   ]
  },
  {
   "cell_type": "code",
   "execution_count": 45,
   "metadata": {},
   "outputs": [
    {
     "data": {
      "text/html": [
       "<div>\n",
       "<style scoped>\n",
       "    .dataframe tbody tr th:only-of-type {\n",
       "        vertical-align: middle;\n",
       "    }\n",
       "\n",
       "    .dataframe tbody tr th {\n",
       "        vertical-align: top;\n",
       "    }\n",
       "\n",
       "    .dataframe thead th {\n",
       "        text-align: right;\n",
       "    }\n",
       "</style>\n",
       "<table border=\"1\" class=\"dataframe\">\n",
       "  <thead>\n",
       "    <tr style=\"text-align: right;\">\n",
       "      <th>parnme</th>\n",
       "      <th>hk</th>\n",
       "      <th>porosity</th>\n",
       "      <th>rch_0</th>\n",
       "      <th>rch_1</th>\n",
       "    </tr>\n",
       "  </thead>\n",
       "  <tbody>\n",
       "    <tr>\n",
       "      <th>0</th>\n",
       "      <td>24.804308</td>\n",
       "      <td>0.014462</td>\n",
       "      <td>1.086622</td>\n",
       "      <td>2.076695</td>\n",
       "    </tr>\n",
       "    <tr>\n",
       "      <th>1</th>\n",
       "      <td>1.584055</td>\n",
       "      <td>0.012369</td>\n",
       "      <td>1.500071</td>\n",
       "      <td>0.562944</td>\n",
       "    </tr>\n",
       "    <tr>\n",
       "      <th>2</th>\n",
       "      <td>2.962888</td>\n",
       "      <td>0.012849</td>\n",
       "      <td>0.850262</td>\n",
       "      <td>0.777954</td>\n",
       "    </tr>\n",
       "    <tr>\n",
       "      <th>3</th>\n",
       "      <td>1.936363</td>\n",
       "      <td>0.010218</td>\n",
       "      <td>0.989427</td>\n",
       "      <td>0.856826</td>\n",
       "    </tr>\n",
       "    <tr>\n",
       "      <th>4</th>\n",
       "      <td>2.569257</td>\n",
       "      <td>0.009271</td>\n",
       "      <td>1.157970</td>\n",
       "      <td>0.596041</td>\n",
       "    </tr>\n",
       "  </tbody>\n",
       "</table>\n",
       "</div>"
      ],
      "text/plain": [
       "parnme         hk  porosity     rch_0     rch_1\n",
       "0       24.804308  0.014462  1.086622  2.076695\n",
       "1        1.584055  0.012369  1.500071  0.562944\n",
       "2        2.962888  0.012849  0.850262  0.777954\n",
       "3        1.936363  0.010218  0.989427  0.856826\n",
       "4        2.569257  0.009271  1.157970  0.596041"
      ]
     },
     "execution_count": 45,
     "metadata": {},
     "output_type": "execute_result"
    }
   ],
   "source": [
    "parensemble.head()"
   ]
  },
  {
   "cell_type": "markdown",
   "metadata": {},
   "source": [
    "Let's look at the distributions we are running"
   ]
  },
  {
   "cell_type": "markdown",
   "metadata": {},
   "source": [
    "### an aside on covariance..."
   ]
  },
  {
   "cell_type": "code",
   "execution_count": 53,
   "metadata": {},
   "outputs": [
    {
     "name": "stdout",
     "output_type": "stream",
     "text": [
      "making full cov draws with home-grown goodness\n",
      "generating snv matrix\n",
      "eigen solve for full cov\n",
      "form projection\n",
      "[[ 1.96183324e-03 -6.18749969e+00]\n",
      " [-6.97452010e-02 -1.74045560e-01]]\n",
      "handling fixed pars\n"
     ]
    },
    {
     "data": {
      "text/plain": [
       "Text(0,0.5,'rch_0')"
      ]
     },
     "execution_count": 53,
     "metadata": {},
     "output_type": "execute_result"
    },
    {
     "data": {
      "image/png": "[encoded data removed]",
      "text/plain": [
       "<matplotlib.figure.Figure at 0x10ab0bcc0>"
      ]
     },
     "metadata": {},
     "output_type": "display_data"
    }
   ],
   "source": [
    "pst1 = pyemu.Pst(os.path.join(working_dir,pst_name))\n",
    "par = pst1.parameter_data\n",
    "par.loc[:,\"partrans\"] = 'fixed'\n",
    "par.loc[[\"hk\",\"rch_0\"],\"partrans\"] = \"none\"\n",
    "#par.loc[\"hk\",\"parval1\"] = 20\n",
    "prior_cov = pyemu.Cov.from_parameter_data(pst1,sigma_range=8)\n",
    "prior_cov = pyemu.Cov(prior_cov.as_2d,names=prior_cov.row_names)\n",
    "c = float(prior_cov.x[0,0] * prior_cov.x[1,1] * 0.8)\n",
    "#print(c)\n",
    "prior_cov.x[0,1] = c\n",
    "prior_cov.x[1,0] = c\n",
    "#print(prior_cov)\n",
    "#mc.draw(num_reals=2000,enforce_bounds=\"reset\")\n",
    "pe = pyemu.ParameterEnsemble.from_gaussian_draw(pst=pst1,cov=prior_cov,\n",
    "                                                         use_homegrown=True,\n",
    "                                                         num_reals=2000,\n",
    "                                                         group_chunks=False)\n",
    "\n",
    "ax = plt.subplot(111)\n",
    "ax.scatter(pe.hk,pe.rch_0)\n",
    "ax.set_xlim(par.loc[\"hk\",\"parlbnd\"],par.loc[\"hk\",\"parubnd\"])\n",
    "ax.set_ylim(par.loc[\"rch_0\",\"parlbnd\"],par.loc[\"rch_0\",\"parubnd\"])\n",
    "ax.set_xlabel(\"hk\")\n",
    "ax.set_ylabel(\"rch_0\")"
   ]
  },
  {
   "cell_type": "code",
   "execution_count": 54,
   "metadata": {},
   "outputs": [
    {
     "name": "stdout",
     "output_type": "stream",
     "text": [
      "0.5175813512549976 31.983088843029606 6.654708705416582\n"
     ]
    },
    {
     "data": {
      "image/png": "[encoded data removed]",
      "text/plain": [
       "<matplotlib.figure.Figure at 0x10dad5240>"
      ]
     },
     "metadata": {},
     "output_type": "display_data"
    },
    {
     "name": "stdout",
     "output_type": "stream",
     "text": [
      "0.005173224414186446 0.02 0.01023883481448965\n"
     ]
    },
    {
     "data": {
      "image/png": "[encoded data removed]",
      "text/plain": [
       "<matplotlib.figure.Figure at 0x10aafe2e8>"
      ]
     },
     "metadata": {},
     "output_type": "display_data"
    },
    {
     "name": "stdout",
     "output_type": "stream",
     "text": [
      "0.5306436283445555 1.9846127945167789 1.0242339123451085\n"
     ]
    },
    {
     "data": {
      "image/png": "[encoded data removed]",
      "text/plain": [
       "<matplotlib.figure.Figure at 0x10db019e8>"
      ]
     },
     "metadata": {},
     "output_type": "display_data"
    },
    {
     "name": "stdout",
     "output_type": "stream",
     "text": [
      "0.25 3.0 1.0910347347681992\n"
     ]
    },
    {
     "data": {
      "image/png": "[encoded data removed]",
      "text/plain": [
       "<matplotlib.figure.Figure at 0x10abc2470>"
      ]
     },
     "metadata": {},
     "output_type": "display_data"
    }
   ],
   "source": [
    "for pname in pst.par_names:\n",
    "    ax = parensemble.loc[:,pname].hist(bins=20)\n",
    "    print(parensemble.loc[:,pname].min(),parensemble.loc[:,pname].max(),parensemble.loc[:,pname].mean())\n",
    "    ax.set_title(pname)\n",
    "    plt.show()\n",
    "    "
   ]
  },
  {
   "cell_type": "markdown",
   "metadata": {},
   "source": [
    "#### Compare these distributions to the upper and lower bounds of the parameters:"
   ]
  },
  {
   "cell_type": "code",
   "execution_count": 55,
   "metadata": {},
   "outputs": [],
   "source": [
    "pst.parameter_data\n",
    "pst.write(os.path.join(working_dir,pst_name.replace('.pst','.por.pst')))"
   ]
  },
  {
   "cell_type": "markdown",
   "metadata": {},
   "source": [
    "Do the log transformed parameters look like a log normal distribution?\n",
    "\n",
    "## Using what you just learned, now we'll make sweep through the possible combinations and distribute them across the multicores available on your laptop (just like in the response surface notebooks)"
   ]
  },
  {
   "cell_type": "markdown",
   "metadata": {},
   "source": [
    "##  We are going to run the forward model 500 times (!!!!) so it will take some time. \n",
    "\n",
    "using ``sweep`` - like we just talked about, watch the C= part of the YAMR progress line - this is the runs __C__ompleted. F = __F__ailed; T = __T__imed out; R = __R__unning; W = __W__aiting to run; U = __U__navailable\n",
    "\n"
   ]
  },
  {
   "cell_type": "code",
   "execution_count": null,
   "metadata": {
    "scrolled": false
   },
   "outputs": [],
   "source": [
    "mc.parensemble.to_csv(os.path.join(working_dir,\"sweep_in.csv\"))\n",
    "os.chdir(working_dir)\n",
    "pyemu.helpers.start_slaves('.',\"sweep\",pst_name.replace('.pst','.por.pst'),num_slaves=15,master_dir='.')\n",
    "os.chdir(\"..\")"
   ]
  },
  {
   "cell_type": "markdown",
   "metadata": {},
   "source": [
    "## Alright - let's see some MC results.  For these runs, what was the Phi?"
   ]
  },
  {
   "cell_type": "code",
   "execution_count": null,
   "metadata": {},
   "outputs": [],
   "source": [
    "df_out = pd.read_csv(os.path.join(working_dir,\"sweep_out.csv\"),index_col=0)\n",
    "df_out = df_out.loc[df_out.failed_flag==0,:] #drop an failed runs\n",
    "df_out.columns = [c.lower() for c in df_out.columns]\n",
    "df_out.head()"
   ]
  },
  {
   "cell_type": "markdown",
   "metadata": {},
   "source": [
    "### Wow, some are pretty large.  Let's plot Phi for all 500 runs"
   ]
  },
  {
   "cell_type": "code",
   "execution_count": null,
   "metadata": {},
   "outputs": [],
   "source": [
    "df_out.phi.hist(bins=100)\n"
   ]
  },
  {
   "cell_type": "markdown",
   "metadata": {},
   "source": [
    "### Wow, some of those models are really REALLY bad fits to the observations.  So when we only use our prior knowledge to sample the parameters we get a bunch of models with unacceptably Phi, and we can consider them not reasonable.  Therefore, we should NOT include them in our uncertainty analysis.\n",
    "\n",
    "\n",
    "# PAY ATTENTION:  this is super important - in this next block we are \"conditioning\" our Monte Carlo run by removing the bad runs based on a Phi cutoff. So here is the code where we are choosing which realizations we consider ``good enough`` with respect to fitting the observation data.  This is formally known as \"GLUE\" in the literature.\n",
    "\n",
    "Let's say we'll say any Phi below 2000 is acceptable..."
   ]
  },
  {
   "cell_type": "code",
   "execution_count": null,
   "metadata": {},
   "outputs": [],
   "source": [
    "acceptable_phi = 2000.0\n",
    "good_enough = df_out.loc[df_out.phi<acceptable_phi].index.values\n",
    "print(good_enough)"
   ]
  },
  {
   "cell_type": "markdown",
   "metadata": {},
   "source": [
    "These are the run number of the 500 that met this cutoff.  Let's plot just these \"good\" ones:"
   ]
  },
  {
   "cell_type": "code",
   "execution_count": null,
   "metadata": {},
   "outputs": [],
   "source": [
    "#ax = df_out.phi.hist(alpha=0.5)\n",
    "df_out.loc[good_enough,\"phi\"].hist(color=\"g\",alpha=0.5)\n",
    "plt.show()"
   ]
  },
  {
   "cell_type": "markdown",
   "metadata": {},
   "source": [
    "# Now the payoff - using our good runs, let's make some probablistic plots!  Here's our parameters\n",
    "\n",
    "### Gray blocks show the range of the runs we threw out.  But those were considered within our bounds when we started, so those grey boxes represent our prior\n",
    "\n",
    "### The blue boxes show the runs that met our criteria, so that distribution represents our posterior"
   ]
  },
  {
   "cell_type": "code",
   "execution_count": null,
   "metadata": {},
   "outputs": [],
   "source": [
    "for parnme in pst.par_names:\n",
    "    ax = plt.subplot(111)\n",
    "    mc.parensemble.loc[:,parnme].hist(bins=10,alpha=0.5,color=\"0.5\",ax=ax,normed=True)\n",
    "    mc.parensemble.loc[good_enough,parnme].hist(bins=10,alpha=0.5,color=\"b\",ax=ax,normed=True)\n",
    "    ax.set_title(parnme)\n",
    "    plt.show()"
   ]
  },
  {
   "cell_type": "markdown",
   "metadata": {},
   "source": [
    "### Similar to the FOSM results, the future recharge (``rch_1``) is not influenced by calibration - why?\n",
    "\n",
    "## Let's look at the forecasts"
   ]
  },
  {
   "cell_type": "code",
   "execution_count": null,
   "metadata": {},
   "outputs": [],
   "source": [
    "for forecast in pst.forecast_names:\n",
    "    ax = df_out.loc[:,forecast].hist(alpha=0.5,color='0.5',normed=True)\n",
    "    ax.set_yticklabels([])\n",
    "    df_out.loc[good_enough,forecast].hist(ax=ax,alpha=0.5,color='b',normed=True)\n",
    "    ax.set_title(forecast)\n",
    "    plt.show()"
   ]
  },
  {
   "cell_type": "markdown",
   "metadata": {},
   "source": [
    "We see a substaintial reduction in uncertainty (prior vs posterior) for all forecasts...great!"
   ]
  },
  {
   "cell_type": "markdown",
   "metadata": {},
   "source": [
    "# What a power POWERFUL method to show our uncertainty, and what we learned from history matching.  Moreover, we are free of a lot of the limiting assumptions of FOSM.  \n",
    "\n",
    "(What's the downside?)"
   ]
  },
  {
   "cell_type": "markdown",
   "metadata": {},
   "source": [
    "Just for fun, let's see how the forecast prior and posterior uncertainty compare to the \"truth\" (since we know the \"truth\")"
   ]
  },
  {
   "cell_type": "code",
   "execution_count": null,
   "metadata": {
    "scrolled": false
   },
   "outputs": [],
   "source": [
    "for forecast in pst.forecast_names:\n",
    "    ax = df_out.loc[:,forecast].hist(alpha=0.5,color='0.5',normed=True)\n",
    "    ax.set_yticklabels([])\n",
    "    df_out.loc[good_enough,forecast].hist(ax=ax,alpha=0.5,color='b',normed=True)\n",
    "    ax.set_title(forecast)\n",
    "    ylim = ax.get_ylim()\n",
    "    v = mc.pst.observation_data.loc[forecast,\"obsval\"]\n",
    "    ax.plot([v,v],ylim,\"k--\",lw=2.0)\n",
    "    ax.set_title(forecast)\n",
    "    \n",
    "    plt.show()"
   ]
  },
  {
   "cell_type": "markdown",
   "metadata": {},
   "source": [
    "### Oh-oh - some of our forecasts we are outside of our conditioned probabilities - that is, the posterior of several forecasts is overly narrow (non-conservative)...why? Our uncertainty analysis is not robust even with MC, and I thought this was just a problem with the assumptions in FOSM!"
   ]
  },
  {
   "cell_type": "code",
   "execution_count": null,
   "metadata": {},
   "outputs": [],
   "source": []
  }
 ],
 "metadata": {
  "anaconda-cloud": {},
  "kernelspec": {
   "display_name": "Python 3",
   "language": "python",
   "name": "python3"
  },
  "language_info": {
   "codemirror_mode": {
    "name": "ipython",
    "version": 3
   },
   "file_extension": ".py",
   "mimetype": "text/x-python",
   "name": "python",
   "nbconvert_exporter": "python",
   "pygments_lexer": "ipython3",
   "version": "3.5.4"
  }
 },
 "nbformat": 4,
 "nbformat_minor": 1
}
