{
 "cells": [
  {
   "cell_type": "markdown",
   "metadata": {},
   "source": [
    "<img src=\"AW&H2015.png\" style=\"float: left\">\n",
    "\n",
    "<img src=\"flopylogo.png\" style=\"float: center\">\n",
    "\n",
    "# And now we get to the NEXT BIG THING - Monte Carlo \n",
    "\n",
    "## (what's old is new again)\n",
    "\n",
    "As we've seen, FOSM is quick and insightful.  But FOSM depends on an assumption that the relation between the model and the forecast uncertainty is linear.  But many times the world is nonlinear. Short cuts like FOSM need assumptions, but we can free ourselves by taking the brute force approach.  That is define the parameters that are important, provide the prior uncertainty, sample those parameters many times, run the model many times, and then summarize the results.  \n",
    "\n",
    "### Here's a flowchart from Anderson et al. (2015):\n",
    "\n",
    "<img src=\"Fig10.14_MC_workflow.png\" style=\"float: center\">"
   ]
  },
  {
   "cell_type": "markdown",
   "metadata": {},
   "source": [
    "What do we get when we do this?  We can get average heads for all the runs:\n",
    "\n",
    "<img src=\"PB_avg_heads_Hunt2001.png\" style=\"float: center\">\n",
    "\n",
    "But even cooler - we can get a map of standard deviation of those heads:\n",
    "\n",
    "<img src=\"PB_stdev_heads_Hunt2001.png\" style=\"float: center\">"
   ]
  },
  {
   "cell_type": "markdown",
   "metadata": {},
   "source": [
    "## Even cooler - a forecast can be related to stakeholders probabilistically!\n",
    "\n",
    "<img src=\"FigB10.4.2_MC_probablistic_capture_zone.png\" style=\"float: center\">"
   ]
  },
  {
   "cell_type": "markdown",
   "metadata": {},
   "source": [
    "### Objectives of this notebook\n",
    "\n",
    "1) Run a real Monte Carlo run on the Freyberg model\n",
    "\n",
    "2) Look at parameter and forecast uncertainty \n",
    "\n",
    "3) Start thinking of the advantages and disadvantages of linear and nonlinear uncertainty methods"
   ]
  },
  {
   "cell_type": "markdown",
   "metadata": {},
   "source": [
    "# Quick reminder of what the model looks like:\n",
    "\n",
    "It is a heterogenous 2D areal (1-layer) model that is a step up in complexity from our xsec model. Recall it looks like this:\n",
    "\n",
    "<img src=\"Freyberg_k_plot_GW_Vistas.png\" style=\"float: left\">"
   ]
  },
  {
   "cell_type": "markdown",
   "metadata": {},
   "source": [
    "### Standard two blocks needed to prep the notebook for what we cant to do"
   ]
  },
  {
   "cell_type": "code",
   "execution_count": 1,
   "metadata": {
    "collapsed": true
   },
   "outputs": [],
   "source": [
    "%matplotlib inline\n",
    "import os\n",
    "import sys\n",
    "sys.path.append(\"..\")\n",
    "import shutil\n",
    "import numpy as np\n",
    "import pandas as pd\n",
    "import matplotlib.pyplot as plt\n",
    "import pyemu"
   ]
  },
  {
   "cell_type": "code",
   "execution_count": 2,
   "metadata": {},
   "outputs": [
    {
     "name": "stdout",
     "output_type": "stream",
     "text": [
      "['.DS_Store', 'botm.ref', 'extract_zone_array.py', 'forecasts_true.csv', 'freyberg.bas', 'freyberg.dbf', 'freyberg.dis', 'freyberg.hds', 'freyberg.heads', 'freyberg.heads_potobs.ins', 'freyberg.hyd', 'freyberg.list', 'freyberg.locations', 'freyberg.mpbas', 'freyberg.mpenpt', 'freyberg.mplist', 'freyberg.mpnam', 'freyberg.mppthln', 'freyberg.mpsim', 'freyberg.oc', 'freyberg.pcg', 'freyberg.rivflux', 'freyberg.shp', 'freyberg.shx', 'freyberg.travel', 'freyberg.truth.lpf', 'freyberg.truth.nam', 'freyberg.truth.rch', 'freyberg.truth.riv', 'freyberg.truth.wel', 'hk.truth.ref', 'hk.zones', 'ibound.ref', 'kzone.ref', 'mpath.in', 'obs_loc.csv', 'potobs_group.csv', 'Process_output.py', 'run_true_model.py', 'strt.ref', 'Weights_and_best_PHI.xlsx']\n",
      "\n",
      "changing model workspace...\n",
      "   freyberg_kr\n",
      "WARNING: unit 31 of package UPW already in use\n",
      "FloPy is using the following executable to run the model: /Users/jwhite/Dev/GW1876/activities/freyberg_k_and_r_mc/freyberg_kr/mfnwt\n",
      "\n",
      "                                  MODFLOW-NWT-SWR1 \n",
      "    U.S. GEOLOGICAL SURVEY MODULAR FINITE-DIFFERENCE GROUNDWATER-FLOW MODEL\n",
      "                             WITH NEWTON FORMULATION\n",
      "                             Version 1.1.1, 7/21/2016                        \n",
      "                    BASED ON MODFLOW-2005 Version 1.11.0 08/08/2013                       \n",
      "\n",
      "                    SWR1 Version 1.04.0 07/21/2016                       \n",
      "\n",
      " Using NAME file: freyberg.nam \n",
      " Run start date and time (yyyy/mm/dd hh:mm:ss): 2017/09/10 11:29:18\n",
      "\n",
      " Solving:  Stress period:     1    Time step:     1    Groundwater-Flow Eqn.\n",
      " Solving:  Stress period:     2    Time step:     1    Groundwater-Flow Eqn.\n",
      " Solving:  Stress period:     3    Time step:     1    Groundwater-Flow Eqn.\n",
      " Run end date and time (yyyy/mm/dd hh:mm:ss): 2017/09/10 11:29:18\n",
      " Elapsed run time:  0.022 Seconds\n",
      "\n",
      "  Normal termination of simulation\n",
      "run():./mp6 freyberg.mpsim\n",
      "Util2d:delr: resetting 'how' to external\n",
      "Util2d:delc: resetting 'how' to external\n",
      "Util2d:model_top: resetting 'how' to external\n",
      "Util2d:botm_layer_0: resetting 'how' to external\n",
      "Util2d:ibound_layer_0: resetting 'how' to external\n",
      "Util2d:strt_layer_0: resetting 'how' to external\n",
      "Util2d:rech_1: resetting 'how' to external\n",
      "Util2d:rech_2: resetting 'how' to external\n",
      "Util2d:rech_3: resetting 'how' to external\n",
      "Util2d:hk layer 1: resetting 'how' to external\n",
      "Util2d:vk: resetting 'how' to external\n",
      "Util2d:ss: resetting 'how' to external\n",
      "Util2d:ss: resetting 'how' to external\n",
      "FloPy is using the following executable to run the model: /Users/jwhite/Dev/GW1876/activities/freyberg_k_and_r_mc/freyberg_kr/mfnwt\n",
      "\n",
      "                                  MODFLOW-NWT-SWR1 \n",
      "    U.S. GEOLOGICAL SURVEY MODULAR FINITE-DIFFERENCE GROUNDWATER-FLOW MODEL\n",
      "                             WITH NEWTON FORMULATION\n",
      "                             Version 1.1.1, 7/21/2016                        \n",
      "                    BASED ON MODFLOW-2005 Version 1.11.0 08/08/2013                       \n",
      "\n",
      "                    SWR1 Version 1.04.0 07/21/2016                       \n",
      "\n",
      " Using NAME file: freyberg.nam \n",
      " Run start date and time (yyyy/mm/dd hh:mm:ss): 2017/09/10 11:29:18\n",
      "\n",
      " Solving:  Stress period:     1    Time step:     1    Groundwater-Flow Eqn.\n",
      " Solving:  Stress period:     2    Time step:     1    Groundwater-Flow Eqn.\n",
      " Solving:  Stress period:     3    Time step:     1    Groundwater-Flow Eqn.\n",
      " Run end date and time (yyyy/mm/dd hh:mm:ss): 2017/09/10 11:29:18\n",
      " Elapsed run time:  0.022 Seconds\n",
      "\n",
      "  Normal termination of simulation\n",
      "Starting to read HYDMOD data from freyberg.hyd.bin\n",
      "Starting to read HYDMOD data from freyberg.hyd.bin.truth\n",
      "run():./inschek flux.dat.ins flux.dat\n",
      "run():./inschek vol.dat.ins vol.dat\n",
      "run():./inschek flux.dat.ins flux.dat\n",
      "run():./inschek vol.dat.ins vol.dat\n",
      "run():./inschek flux.dat.ins flux.dat\n",
      "run():./inschek freyberg.hyd.bin.dat.ins freyberg.hyd.bin.dat\n",
      "run():./inschek freyberg.travel.ins freyberg.travel\n",
      "run():./inschek vol.dat.ins vol.dat\n",
      "run():./pestchek freyberg_kr.pst\n",
      "run():./pestpp freyberg_kr.init.pst\n"
     ]
    }
   ],
   "source": [
    "import freyberg_setup\n",
    "freyberg_setup.setup_pest_kr()\n",
    "working_dir = freyberg_setup.WORKING_DIR_KR\n",
    "pst_name = freyberg_setup.PST_NAME_KR"
   ]
  },
  {
   "cell_type": "markdown",
   "metadata": {},
   "source": [
    "## Let's do some Monte Carlo\n",
    "\n",
    "Monte Carlo uses a lots and lots of forward runs so we don't want to make the mistake of burning the silicon for a PEST control file that is not right.  Here we make doubly sure that the control file has the recharge freed.  Note you can use this block in the future to your models...."
   ]
  },
  {
   "cell_type": "code",
   "execution_count": 3,
   "metadata": {},
   "outputs": [
    {
     "data": {
      "text/html": [
       "<div>\n",
       "<style>\n",
       "    .dataframe thead tr:only-child th {\n",
       "        text-align: right;\n",
       "    }\n",
       "\n",
       "    .dataframe thead th {\n",
       "        text-align: left;\n",
       "    }\n",
       "\n",
       "    .dataframe tbody tr th {\n",
       "        vertical-align: top;\n",
       "    }\n",
       "</style>\n",
       "<table border=\"1\" class=\"dataframe\">\n",
       "  <thead>\n",
       "    <tr style=\"text-align: right;\">\n",
       "      <th></th>\n",
       "      <th>parnme</th>\n",
       "      <th>partrans</th>\n",
       "      <th>parchglim</th>\n",
       "      <th>parval1</th>\n",
       "      <th>parlbnd</th>\n",
       "      <th>parubnd</th>\n",
       "      <th>pargp</th>\n",
       "      <th>scale</th>\n",
       "      <th>offset</th>\n",
       "      <th>dercom</th>\n",
       "    </tr>\n",
       "    <tr>\n",
       "      <th>parnme</th>\n",
       "      <th></th>\n",
       "      <th></th>\n",
       "      <th></th>\n",
       "      <th></th>\n",
       "      <th></th>\n",
       "      <th></th>\n",
       "      <th></th>\n",
       "      <th></th>\n",
       "      <th></th>\n",
       "      <th></th>\n",
       "    </tr>\n",
       "  </thead>\n",
       "  <tbody>\n",
       "    <tr>\n",
       "      <th>rch_0</th>\n",
       "      <td>rch_0</td>\n",
       "      <td>fixed</td>\n",
       "      <td>factor</td>\n",
       "      <td>1.0</td>\n",
       "      <td>0.75</td>\n",
       "      <td>1.25</td>\n",
       "      <td>rch</td>\n",
       "      <td>1.0</td>\n",
       "      <td>0.0</td>\n",
       "      <td>1</td>\n",
       "    </tr>\n",
       "    <tr>\n",
       "      <th>rch_1</th>\n",
       "      <td>rch_1</td>\n",
       "      <td>fixed</td>\n",
       "      <td>factor</td>\n",
       "      <td>1.0</td>\n",
       "      <td>0.75</td>\n",
       "      <td>1.25</td>\n",
       "      <td>rch</td>\n",
       "      <td>1.0</td>\n",
       "      <td>0.0</td>\n",
       "      <td>1</td>\n",
       "    </tr>\n",
       "    <tr>\n",
       "      <th>hk</th>\n",
       "      <td>hk</td>\n",
       "      <td>log</td>\n",
       "      <td>factor</td>\n",
       "      <td>5.0</td>\n",
       "      <td>0.50</td>\n",
       "      <td>50.00</td>\n",
       "      <td>hk</td>\n",
       "      <td>1.0</td>\n",
       "      <td>0.0</td>\n",
       "      <td>1</td>\n",
       "    </tr>\n",
       "  </tbody>\n",
       "</table>\n",
       "</div>"
      ],
      "text/plain": [
       "       parnme partrans parchglim  parval1  parlbnd  parubnd pargp  scale  \\\n",
       "parnme                                                                     \n",
       "rch_0   rch_0    fixed    factor      1.0     0.75     1.25   rch    1.0   \n",
       "rch_1   rch_1    fixed    factor      1.0     0.75     1.25   rch    1.0   \n",
       "hk         hk      log    factor      5.0     0.50    50.00    hk    1.0   \n",
       "\n",
       "        offset  dercom  \n",
       "parnme                  \n",
       "rch_0      0.0       1  \n",
       "rch_1      0.0       1  \n",
       "hk         0.0       1  "
      ]
     },
     "execution_count": 3,
     "metadata": {},
     "output_type": "execute_result"
    }
   ],
   "source": [
    "pst = pyemu.Pst(os.path.join(working_dir,pst_name))\n",
    "pst.parameter_data"
   ]
  },
  {
   "cell_type": "code",
   "execution_count": 4,
   "metadata": {},
   "outputs": [
    {
     "data": {
      "text/html": [
       "<div>\n",
       "<style>\n",
       "    .dataframe thead tr:only-child th {\n",
       "        text-align: right;\n",
       "    }\n",
       "\n",
       "    .dataframe thead th {\n",
       "        text-align: left;\n",
       "    }\n",
       "\n",
       "    .dataframe tbody tr th {\n",
       "        vertical-align: top;\n",
       "    }\n",
       "</style>\n",
       "<table border=\"1\" class=\"dataframe\">\n",
       "  <thead>\n",
       "    <tr style=\"text-align: right;\">\n",
       "      <th></th>\n",
       "      <th>parnme</th>\n",
       "      <th>partrans</th>\n",
       "      <th>parchglim</th>\n",
       "      <th>parval1</th>\n",
       "      <th>parlbnd</th>\n",
       "      <th>parubnd</th>\n",
       "      <th>pargp</th>\n",
       "      <th>scale</th>\n",
       "      <th>offset</th>\n",
       "      <th>dercom</th>\n",
       "    </tr>\n",
       "    <tr>\n",
       "      <th>parnme</th>\n",
       "      <th></th>\n",
       "      <th></th>\n",
       "      <th></th>\n",
       "      <th></th>\n",
       "      <th></th>\n",
       "      <th></th>\n",
       "      <th></th>\n",
       "      <th></th>\n",
       "      <th></th>\n",
       "      <th></th>\n",
       "    </tr>\n",
       "  </thead>\n",
       "  <tbody>\n",
       "    <tr>\n",
       "      <th>rch_0</th>\n",
       "      <td>rch_0</td>\n",
       "      <td>log</td>\n",
       "      <td>factor</td>\n",
       "      <td>1.0</td>\n",
       "      <td>0.75</td>\n",
       "      <td>1.25</td>\n",
       "      <td>rch</td>\n",
       "      <td>1.0</td>\n",
       "      <td>0.0</td>\n",
       "      <td>1</td>\n",
       "    </tr>\n",
       "    <tr>\n",
       "      <th>rch_1</th>\n",
       "      <td>rch_1</td>\n",
       "      <td>fixed</td>\n",
       "      <td>factor</td>\n",
       "      <td>1.0</td>\n",
       "      <td>0.75</td>\n",
       "      <td>1.25</td>\n",
       "      <td>rch</td>\n",
       "      <td>1.0</td>\n",
       "      <td>0.0</td>\n",
       "      <td>1</td>\n",
       "    </tr>\n",
       "    <tr>\n",
       "      <th>hk</th>\n",
       "      <td>hk</td>\n",
       "      <td>log</td>\n",
       "      <td>factor</td>\n",
       "      <td>5.0</td>\n",
       "      <td>0.50</td>\n",
       "      <td>50.00</td>\n",
       "      <td>hk</td>\n",
       "      <td>1.0</td>\n",
       "      <td>0.0</td>\n",
       "      <td>1</td>\n",
       "    </tr>\n",
       "  </tbody>\n",
       "</table>\n",
       "</div>"
      ],
      "text/plain": [
       "       parnme partrans parchglim  parval1  parlbnd  parubnd pargp  scale  \\\n",
       "parnme                                                                     \n",
       "rch_0   rch_0      log    factor      1.0     0.75     1.25   rch    1.0   \n",
       "rch_1   rch_1    fixed    factor      1.0     0.75     1.25   rch    1.0   \n",
       "hk         hk      log    factor      5.0     0.50    50.00    hk    1.0   \n",
       "\n",
       "        offset  dercom  \n",
       "parnme                  \n",
       "rch_0      0.0       1  \n",
       "rch_1      0.0       1  \n",
       "hk         0.0       1  "
      ]
     },
     "execution_count": 4,
     "metadata": {},
     "output_type": "execute_result"
    }
   ],
   "source": [
    "pst.parameter_data.loc[[\"rch_0\"],\"partrans\"] = \"log\"\n",
    "pst.write(os.path.join(working_dir,pst_name))\n",
    "pst.parameter_data"
   ]
  },
  {
   "cell_type": "markdown",
   "metadata": {},
   "source": [
    "## Good - past and future recharge are freed.  Now let's draw 500 tries from the parameter set.  \n",
    "\n",
    "Look in the command below - how does it decide the range of parameters to pull from....\n",
    "\n",
    "(this takes some time so wait for the 0 to show up below the code block before advancing)"
   ]
  },
  {
   "cell_type": "code",
   "execution_count": 5,
   "metadata": {
    "collapsed": true
   },
   "outputs": [],
   "source": [
    "prior_cov = pyemu.Cov.from_parameter_data(pst,sigma_range=6)\n",
    "mc = pyemu.MonteCarlo(pst=pst,parcov=prior_cov)\n",
    "mc.draw(num_reals=500,enforce_bounds=\"reset\")"
   ]
  },
  {
   "cell_type": "markdown",
   "metadata": {},
   "source": [
    "###  Here's some parameter distributions you could use to control the values pulled from the parameter range from Anderson et al. (2015).  We're using a Gaussian, or \"Normal\" distribution in the code block above.\n",
    "\n",
    "<img src=\"Fig10.13_parameter_distribution.png\" style=\"float: left\">"
   ]
  },
  {
   "cell_type": "markdown",
   "metadata": {},
   "source": [
    "###  Here's an example of the first 5 parameter sets of our 500 created by our draw (\"draw\" here is like \"drawing\" a card"
   ]
  },
  {
   "cell_type": "code",
   "execution_count": 6,
   "metadata": {},
   "outputs": [
    {
     "data": {
      "text/html": [
       "<div>\n",
       "<style>\n",
       "    .dataframe thead tr:only-child th {\n",
       "        text-align: right;\n",
       "    }\n",
       "\n",
       "    .dataframe thead th {\n",
       "        text-align: left;\n",
       "    }\n",
       "\n",
       "    .dataframe tbody tr th {\n",
       "        vertical-align: top;\n",
       "    }\n",
       "</style>\n",
       "<table border=\"1\" class=\"dataframe\">\n",
       "  <thead>\n",
       "    <tr style=\"text-align: right;\">\n",
       "      <th>parnme</th>\n",
       "      <th>rch_0</th>\n",
       "      <th>rch_1</th>\n",
       "      <th>hk</th>\n",
       "    </tr>\n",
       "  </thead>\n",
       "  <tbody>\n",
       "    <tr>\n",
       "      <th>0</th>\n",
       "      <td>0.876489</td>\n",
       "      <td>1.0</td>\n",
       "      <td>3.52873</td>\n",
       "    </tr>\n",
       "    <tr>\n",
       "      <th>1</th>\n",
       "      <td>0.918806</td>\n",
       "      <td>1.0</td>\n",
       "      <td>14.7328</td>\n",
       "    </tr>\n",
       "    <tr>\n",
       "      <th>2</th>\n",
       "      <td>0.999214</td>\n",
       "      <td>1.0</td>\n",
       "      <td>4.65704</td>\n",
       "    </tr>\n",
       "    <tr>\n",
       "      <th>3</th>\n",
       "      <td>1.08262</td>\n",
       "      <td>1.0</td>\n",
       "      <td>2.67702</td>\n",
       "    </tr>\n",
       "    <tr>\n",
       "      <th>4</th>\n",
       "      <td>0.953917</td>\n",
       "      <td>1.0</td>\n",
       "      <td>4.11727</td>\n",
       "    </tr>\n",
       "  </tbody>\n",
       "</table>\n",
       "</div>"
      ],
      "text/plain": [
       "parnme     rch_0  rch_1       hk\n",
       "0       0.876489    1.0  3.52873\n",
       "1       0.918806    1.0  14.7328\n",
       "2       0.999214    1.0  4.65704\n",
       "3        1.08262    1.0  2.67702\n",
       "4       0.953917    1.0  4.11727"
      ]
     },
     "execution_count": 6,
     "metadata": {},
     "output_type": "execute_result"
    }
   ],
   "source": [
    "mc.parensemble.head()"
   ]
  },
  {
   "cell_type": "markdown",
   "metadata": {},
   "source": [
    "Let's look at the distributions we are running"
   ]
  },
  {
   "cell_type": "code",
   "execution_count": 7,
   "metadata": {},
   "outputs": [
    {
     "name": "stdout",
     "output_type": "stream",
     "text": [
      "0.7666692236493311 1.25 1.00394917091\n"
     ]
    },
    {
     "data": {
      "image/png": "[encoded data removed]",
      "text/plain": [
       "<matplotlib.figure.Figure at 0x111069160>"
      ]
     },
     "metadata": {},
     "output_type": "display_data"
    },
    {
     "name": "stdout",
     "output_type": "stream",
     "text": [
      "1.0 1.0 1.0\n"
     ]
    },
    {
     "data": {
      "image/png": "[encoded data removed]",
      "text/plain": [
       "<matplotlib.figure.Figure at 0x1005c5cc0>"
      ]
     },
     "metadata": {},
     "output_type": "display_data"
    },
    {
     "name": "stdout",
     "output_type": "stream",
     "text": [
      "0.5 50.0 6.64818380728\n"
     ]
    },
    {
     "data": {
      "image/png": "[encoded data removed]",
      "text/plain": [
       "<matplotlib.figure.Figure at 0x111151ef0>"
      ]
     },
     "metadata": {},
     "output_type": "display_data"
    }
   ],
   "source": [
    "for pname in mc.pst.par_names:\n",
    "    ax = mc.parensemble.loc[:,pname].hist(bins=20)\n",
    "    print(mc.parensemble.loc[:,pname].min(),mc.parensemble.loc[:,pname].max(),mc.parensemble.loc[:,pname].mean())\n",
    "    ax.set_title(pname)\n",
    "    plt.show()\n",
    "    "
   ]
  },
  {
   "cell_type": "code",
   "execution_count": 8,
   "metadata": {},
   "outputs": [
    {
     "data": {
      "text/html": [
       "<div>\n",
       "<style>\n",
       "    .dataframe thead tr:only-child th {\n",
       "        text-align: right;\n",
       "    }\n",
       "\n",
       "    .dataframe thead th {\n",
       "        text-align: left;\n",
       "    }\n",
       "\n",
       "    .dataframe tbody tr th {\n",
       "        vertical-align: top;\n",
       "    }\n",
       "</style>\n",
       "<table border=\"1\" class=\"dataframe\">\n",
       "  <thead>\n",
       "    <tr style=\"text-align: right;\">\n",
       "      <th></th>\n",
       "      <th>parnme</th>\n",
       "      <th>partrans</th>\n",
       "      <th>parchglim</th>\n",
       "      <th>parval1</th>\n",
       "      <th>parlbnd</th>\n",
       "      <th>parubnd</th>\n",
       "      <th>pargp</th>\n",
       "      <th>scale</th>\n",
       "      <th>offset</th>\n",
       "      <th>dercom</th>\n",
       "    </tr>\n",
       "    <tr>\n",
       "      <th>parnme</th>\n",
       "      <th></th>\n",
       "      <th></th>\n",
       "      <th></th>\n",
       "      <th></th>\n",
       "      <th></th>\n",
       "      <th></th>\n",
       "      <th></th>\n",
       "      <th></th>\n",
       "      <th></th>\n",
       "      <th></th>\n",
       "    </tr>\n",
       "  </thead>\n",
       "  <tbody>\n",
       "    <tr>\n",
       "      <th>rch_0</th>\n",
       "      <td>rch_0</td>\n",
       "      <td>log</td>\n",
       "      <td>factor</td>\n",
       "      <td>1.0</td>\n",
       "      <td>0.75</td>\n",
       "      <td>1.25</td>\n",
       "      <td>rch</td>\n",
       "      <td>1.0</td>\n",
       "      <td>0.0</td>\n",
       "      <td>1</td>\n",
       "    </tr>\n",
       "    <tr>\n",
       "      <th>rch_1</th>\n",
       "      <td>rch_1</td>\n",
       "      <td>fixed</td>\n",
       "      <td>factor</td>\n",
       "      <td>1.0</td>\n",
       "      <td>0.75</td>\n",
       "      <td>1.25</td>\n",
       "      <td>rch</td>\n",
       "      <td>1.0</td>\n",
       "      <td>0.0</td>\n",
       "      <td>1</td>\n",
       "    </tr>\n",
       "    <tr>\n",
       "      <th>hk</th>\n",
       "      <td>hk</td>\n",
       "      <td>log</td>\n",
       "      <td>factor</td>\n",
       "      <td>5.0</td>\n",
       "      <td>0.50</td>\n",
       "      <td>50.00</td>\n",
       "      <td>hk</td>\n",
       "      <td>1.0</td>\n",
       "      <td>0.0</td>\n",
       "      <td>1</td>\n",
       "    </tr>\n",
       "  </tbody>\n",
       "</table>\n",
       "</div>"
      ],
      "text/plain": [
       "       parnme partrans parchglim  parval1  parlbnd  parubnd pargp  scale  \\\n",
       "parnme                                                                     \n",
       "rch_0   rch_0      log    factor      1.0     0.75     1.25   rch    1.0   \n",
       "rch_1   rch_1    fixed    factor      1.0     0.75     1.25   rch    1.0   \n",
       "hk         hk      log    factor      5.0     0.50    50.00    hk    1.0   \n",
       "\n",
       "        offset  dercom  \n",
       "parnme                  \n",
       "rch_0      0.0       1  \n",
       "rch_1      0.0       1  \n",
       "hk         0.0       1  "
      ]
     },
     "execution_count": 8,
     "metadata": {},
     "output_type": "execute_result"
    }
   ],
   "source": [
    "pst.parameter_data"
   ]
  },
  {
   "cell_type": "markdown",
   "metadata": {},
   "source": [
    "Do the log transformed parameters look like a log normal distribution?\n",
    "\n",
    "Now we'll make the sweep file of runs to distribute (just like in the response surface notebooks)"
   ]
  },
  {
   "cell_type": "markdown",
   "metadata": {},
   "source": [
    "##  We are going to run the forward model 500 times (!!!!) so it will take some time. '\n",
    "\n",
    "using ``sweep`` - like we just talked about"
   ]
  },
  {
   "cell_type": "code",
   "execution_count": 9,
   "metadata": {
    "scrolled": true
   },
   "outputs": [
    {
     "name": "stdout",
     "output_type": "stream",
     "text": [
      "master:./sweep freyberg_kr.pst /h :4004 in .\n",
      "slave:./sweep freyberg_kr.pst /h localhost:4004 in ../slave_0\n",
      "slave:./sweep freyberg_kr.pst /h localhost:4004 in ../slave_1\n",
      "slave:./sweep freyberg_kr.pst /h localhost:4004 in ../slave_2\n",
      "slave:./sweep freyberg_kr.pst /h localhost:4004 in ../slave_3\n",
      "slave:./sweep freyberg_kr.pst /h localhost:4004 in ../slave_4\n",
      "slave:./sweep freyberg_kr.pst /h localhost:4004 in ../slave_5\n",
      "slave:./sweep freyberg_kr.pst /h localhost:4004 in ../slave_6\n",
      "slave:./sweep freyberg_kr.pst /h localhost:4004 in ../slave_7\n",
      "slave:./sweep freyberg_kr.pst /h localhost:4004 in ../slave_8\n",
      "slave:./sweep freyberg_kr.pst /h localhost:4004 in ../slave_9\n",
      "slave:./sweep freyberg_kr.pst /h localhost:4004 in ../slave_10\n",
      "slave:./sweep freyberg_kr.pst /h localhost:4004 in ../slave_11\n",
      "slave:./sweep freyberg_kr.pst /h localhost:4004 in ../slave_12\n",
      "slave:./sweep freyberg_kr.pst /h localhost:4004 in ../slave_13\n",
      "slave:./sweep freyberg_kr.pst /h localhost:4004 in ../slave_14\n"
     ]
    }
   ],
   "source": [
    "mc.parensemble.to_csv(os.path.join(working_dir,\"sweep_in.csv\"))\n",
    "os.chdir(working_dir)\n",
    "pyemu.helpers.start_slaves('.',\"sweep\",pst_name,num_slaves=15,master_dir='.')\n",
    "os.chdir(\"..\")"
   ]
  },
  {
   "cell_type": "markdown",
   "metadata": {},
   "source": [
    "## Alright - let's see some MC results.  For these runs, what was the Phi?"
   ]
  },
  {
   "cell_type": "code",
   "execution_count": 10,
   "metadata": {},
   "outputs": [
    {
     "data": {
      "text/html": [
       "<div>\n",
       "<style>\n",
       "    .dataframe thead tr:only-child th {\n",
       "        text-align: right;\n",
       "    }\n",
       "\n",
       "    .dataframe thead th {\n",
       "        text-align: left;\n",
       "    }\n",
       "\n",
       "    .dataframe tbody tr th {\n",
       "        vertical-align: top;\n",
       "    }\n",
       "</style>\n",
       "<table border=\"1\" class=\"dataframe\">\n",
       "  <thead>\n",
       "    <tr style=\"text-align: right;\">\n",
       "      <th></th>\n",
       "      <th>input_run_id</th>\n",
       "      <th>failed_flag</th>\n",
       "      <th>phi</th>\n",
       "      <th>meas_phi</th>\n",
       "      <th>regul_phi</th>\n",
       "      <th>vol_river_l</th>\n",
       "      <th>calflux</th>\n",
       "      <th>foretrav</th>\n",
       "      <th>vol_storage</th>\n",
       "      <th>vol_total</th>\n",
       "      <th>...</th>\n",
       "      <th>vol_total_19750101</th>\n",
       "      <th>vol_wells_19750101</th>\n",
       "      <th>vol_constan_19750102</th>\n",
       "      <th>vol_in-out_19750102</th>\n",
       "      <th>vol_percent_19750102</th>\n",
       "      <th>vol_recharg_19750102</th>\n",
       "      <th>vol_river_l_19750102</th>\n",
       "      <th>vol_storage_19750102</th>\n",
       "      <th>vol_total_19750102</th>\n",
       "      <th>vol_wells_19750102</th>\n",
       "    </tr>\n",
       "    <tr>\n",
       "      <th>run_id</th>\n",
       "      <th></th>\n",
       "      <th></th>\n",
       "      <th></th>\n",
       "      <th></th>\n",
       "      <th></th>\n",
       "      <th></th>\n",
       "      <th></th>\n",
       "      <th></th>\n",
       "      <th></th>\n",
       "      <th></th>\n",
       "      <th></th>\n",
       "      <th></th>\n",
       "      <th></th>\n",
       "      <th></th>\n",
       "      <th></th>\n",
       "      <th></th>\n",
       "      <th></th>\n",
       "      <th></th>\n",
       "      <th></th>\n",
       "      <th></th>\n",
       "      <th></th>\n",
       "    </tr>\n",
       "  </thead>\n",
       "  <tbody>\n",
       "    <tr>\n",
       "      <th>0</th>\n",
       "      <td>0</td>\n",
       "      <td>0</td>\n",
       "      <td>2426.918184</td>\n",
       "      <td>2426.918184</td>\n",
       "      <td>0</td>\n",
       "      <td>0</td>\n",
       "      <td>0</td>\n",
       "      <td>0</td>\n",
       "      <td>0</td>\n",
       "      <td>0</td>\n",
       "      <td>...</td>\n",
       "      <td>769.0</td>\n",
       "      <td>-4348055.0</td>\n",
       "      <td>-250201.187500</td>\n",
       "      <td>769.0</td>\n",
       "      <td>0.01</td>\n",
       "      <td>7143849.0</td>\n",
       "      <td>-2631794.00</td>\n",
       "      <td>89351.890625</td>\n",
       "      <td>769.0</td>\n",
       "      <td>-4350436.5</td>\n",
       "    </tr>\n",
       "    <tr>\n",
       "      <th>1</th>\n",
       "      <td>1</td>\n",
       "      <td>0</td>\n",
       "      <td>2651.833767</td>\n",
       "      <td>2651.833767</td>\n",
       "      <td>0</td>\n",
       "      <td>0</td>\n",
       "      <td>0</td>\n",
       "      <td>0</td>\n",
       "      <td>0</td>\n",
       "      <td>0</td>\n",
       "      <td>...</td>\n",
       "      <td>930.0</td>\n",
       "      <td>-4348055.0</td>\n",
       "      <td>300235.031250</td>\n",
       "      <td>930.0</td>\n",
       "      <td>0.01</td>\n",
       "      <td>7144106.5</td>\n",
       "      <td>-3119324.25</td>\n",
       "      <td>26349.533203</td>\n",
       "      <td>930.0</td>\n",
       "      <td>-4350436.5</td>\n",
       "    </tr>\n",
       "    <tr>\n",
       "      <th>2</th>\n",
       "      <td>2</td>\n",
       "      <td>0</td>\n",
       "      <td>1611.561765</td>\n",
       "      <td>1611.561765</td>\n",
       "      <td>0</td>\n",
       "      <td>0</td>\n",
       "      <td>0</td>\n",
       "      <td>0</td>\n",
       "      <td>0</td>\n",
       "      <td>0</td>\n",
       "      <td>...</td>\n",
       "      <td>1075.5</td>\n",
       "      <td>-4348055.0</td>\n",
       "      <td>-196235.062500</td>\n",
       "      <td>1075.5</td>\n",
       "      <td>0.01</td>\n",
       "      <td>7144595.5</td>\n",
       "      <td>-2697968.50</td>\n",
       "      <td>101120.367188</td>\n",
       "      <td>1075.5</td>\n",
       "      <td>-4350436.5</td>\n",
       "    </tr>\n",
       "    <tr>\n",
       "      <th>3</th>\n",
       "      <td>3</td>\n",
       "      <td>0</td>\n",
       "      <td>10152.942971</td>\n",
       "      <td>10152.942971</td>\n",
       "      <td>0</td>\n",
       "      <td>0</td>\n",
       "      <td>0</td>\n",
       "      <td>0</td>\n",
       "      <td>0</td>\n",
       "      <td>0</td>\n",
       "      <td>...</td>\n",
       "      <td>60.0</td>\n",
       "      <td>-4348055.0</td>\n",
       "      <td>-306393.093750</td>\n",
       "      <td>60.0</td>\n",
       "      <td>0.00</td>\n",
       "      <td>7145102.5</td>\n",
       "      <td>-2698326.50</td>\n",
       "      <td>210113.109375</td>\n",
       "      <td>60.0</td>\n",
       "      <td>-4350436.5</td>\n",
       "    </tr>\n",
       "    <tr>\n",
       "      <th>4</th>\n",
       "      <td>4</td>\n",
       "      <td>0</td>\n",
       "      <td>2006.718784</td>\n",
       "      <td>2006.718784</td>\n",
       "      <td>0</td>\n",
       "      <td>0</td>\n",
       "      <td>0</td>\n",
       "      <td>0</td>\n",
       "      <td>0</td>\n",
       "      <td>0</td>\n",
       "      <td>...</td>\n",
       "      <td>960.0</td>\n",
       "      <td>-4348055.0</td>\n",
       "      <td>-222589.859375</td>\n",
       "      <td>960.0</td>\n",
       "      <td>0.01</td>\n",
       "      <td>7144320.0</td>\n",
       "      <td>-2670736.00</td>\n",
       "      <td>100402.234375</td>\n",
       "      <td>960.0</td>\n",
       "      <td>-4350436.5</td>\n",
       "    </tr>\n",
       "  </tbody>\n",
       "</table>\n",
       "<p>5 rows × 2949 columns</p>\n",
       "</div>"
      ],
      "text/plain": [
       "        input_run_id  failed_flag           phi      meas_phi  regul_phi  \\\n",
       "run_id                                                                     \n",
       "0                  0            0   2426.918184   2426.918184          0   \n",
       "1                  1            0   2651.833767   2651.833767          0   \n",
       "2                  2            0   1611.561765   1611.561765          0   \n",
       "3                  3            0  10152.942971  10152.942971          0   \n",
       "4                  4            0   2006.718784   2006.718784          0   \n",
       "\n",
       "        vol_river_l  calflux  foretrav  vol_storage  vol_total  \\\n",
       "run_id                                                           \n",
       "0                 0        0         0            0          0   \n",
       "1                 0        0         0            0          0   \n",
       "2                 0        0         0            0          0   \n",
       "3                 0        0         0            0          0   \n",
       "4                 0        0         0            0          0   \n",
       "\n",
       "               ...          vol_total_19750101  vol_wells_19750101  \\\n",
       "run_id         ...                                                   \n",
       "0              ...                       769.0          -4348055.0   \n",
       "1              ...                       930.0          -4348055.0   \n",
       "2              ...                      1075.5          -4348055.0   \n",
       "3              ...                        60.0          -4348055.0   \n",
       "4              ...                       960.0          -4348055.0   \n",
       "\n",
       "        vol_constan_19750102  vol_in-out_19750102  vol_percent_19750102  \\\n",
       "run_id                                                                    \n",
       "0             -250201.187500                769.0                  0.01   \n",
       "1              300235.031250                930.0                  0.01   \n",
       "2             -196235.062500               1075.5                  0.01   \n",
       "3             -306393.093750                 60.0                  0.00   \n",
       "4             -222589.859375                960.0                  0.01   \n",
       "\n",
       "        vol_recharg_19750102  vol_river_l_19750102  vol_storage_19750102  \\\n",
       "run_id                                                                     \n",
       "0                  7143849.0           -2631794.00          89351.890625   \n",
       "1                  7144106.5           -3119324.25          26349.533203   \n",
       "2                  7144595.5           -2697968.50         101120.367188   \n",
       "3                  7145102.5           -2698326.50         210113.109375   \n",
       "4                  7144320.0           -2670736.00         100402.234375   \n",
       "\n",
       "        vol_total_19750102  vol_wells_19750102  \n",
       "run_id                                          \n",
       "0                    769.0          -4350436.5  \n",
       "1                    930.0          -4350436.5  \n",
       "2                   1075.5          -4350436.5  \n",
       "3                     60.0          -4350436.5  \n",
       "4                    960.0          -4350436.5  \n",
       "\n",
       "[5 rows x 2949 columns]"
      ]
     },
     "execution_count": 10,
     "metadata": {},
     "output_type": "execute_result"
    }
   ],
   "source": [
    "df_out = pd.read_csv(os.path.join(working_dir,\"sweep_out.csv\"),index_col=0)\n",
    "df_out = df_out.loc[df_out.failed_flag==0,:] #drop an failed runs\n",
    "df_out.columns = [c.lower() for c in df_out.columns]\n",
    "df_out.head()"
   ]
  },
  {
   "cell_type": "markdown",
   "metadata": {},
   "source": [
    "### Let's plot Phi"
   ]
  },
  {
   "cell_type": "code",
   "execution_count": 11,
   "metadata": {},
   "outputs": [
    {
     "data": {
      "text/plain": [
       "<matplotlib.axes._subplots.AxesSubplot at 0x1110404e0>"
      ]
     },
     "execution_count": 11,
     "metadata": {},
     "output_type": "execute_result"
    },
    {
     "data": {
      "image/png": "[encoded data removed]",
      "text/plain": [
       "<matplotlib.figure.Figure at 0x1042614e0>"
      ]
     },
     "metadata": {},
     "output_type": "display_data"
    }
   ],
   "source": [
    "df_out.phi.hist()"
   ]
  },
  {
   "cell_type": "markdown",
   "metadata": {},
   "source": [
    "### Wow, some of those models are really bad fits to the observations.  Those are not reasonable, so we should NOT include them in our uncertainty analysis.\n",
    "\n",
    "\n",
    "# PAY ATTENTION:  this is super important - in this next block we are \"conditioning\" our Monte Carlo run by removing the bad runs. So here is the code where we are choosing which realizations we consider ``good enough`` with respect to fitting the observation data.  This is formally known as \"GLUE\" in the literature."
   ]
  },
  {
   "cell_type": "code",
   "execution_count": 12,
   "metadata": {},
   "outputs": [
    {
     "name": "stdout",
     "output_type": "stream",
     "text": [
      "[ 13  14  22  25  31  40  51  53  56  58  59  61  83  84  87  89  91 101\n",
      " 113 117 118 119 122 132 136 141 145 147 151 154 158 164 165 173 176 181\n",
      " 194 197 198 201 202 204 244 246 262 268 272 287 292 297 299 302 310 321\n",
      " 327 329 332 345 348 350 354 362 373 377 385 392 393 403 404 409 411 422\n",
      " 426 427 440 444 451 454 463 464 466 477 484 487 492 493]\n"
     ]
    }
   ],
   "source": [
    "acceptable_phi = 1000.0\n",
    "good_enough = df_out.loc[df_out.phi<acceptable_phi].index.values\n",
    "print(good_enough)"
   ]
  },
  {
   "cell_type": "code",
   "execution_count": 13,
   "metadata": {},
   "outputs": [
    {
     "data": {
      "image/png": "[encoded data removed]",
      "text/plain": [
       "<matplotlib.figure.Figure at 0x1112cb240>"
      ]
     },
     "metadata": {},
     "output_type": "display_data"
    }
   ],
   "source": [
    "#ax = df_out.phi.hist(alpha=0.5)\n",
    "df_out.loc[good_enough,\"phi\"].hist(color=\"g\",alpha=0.5)\n",
    "plt.show()"
   ]
  },
  {
   "cell_type": "markdown",
   "metadata": {},
   "source": [
    "#### So above is the list of run numbers that are meet our Phi cutoff\n",
    "\n",
    "# Now the payoff - probablistic plots of our forecasts!s \n",
    "\n",
    "### Gray blocks show the range of the runs we threw out.  But those were considered within our bounds when we started, so those grey boxes represent our prior\n",
    "\n",
    "### The blue boxes show the runs that met our criteria, so that distribution represents our posterior"
   ]
  },
  {
   "cell_type": "code",
   "execution_count": 14,
   "metadata": {},
   "outputs": [
    {
     "name": "stdout",
     "output_type": "stream",
     "text": [
      "Index(['input_run_id', 'failed_flag', 'phi', 'meas_phi', 'regul_phi',\n",
      "       'vol_river_l', 'calflux', 'foretrav', 'vol_storage', 'vol_total',\n",
      "       ...\n",
      "       'vol_total_19750101', 'vol_wells_19750101', 'vol_constan_19750102',\n",
      "       'vol_in-out_19750102', 'vol_percent_19750102', 'vol_recharg_19750102',\n",
      "       'vol_river_l_19750102', 'vol_storage_19750102', 'vol_total_19750102',\n",
      "       'vol_wells_19750102'],\n",
      "      dtype='object', length=2949)\n"
     ]
    }
   ],
   "source": [
    "print(df_out.columns)"
   ]
  },
  {
   "cell_type": "code",
   "execution_count": 15,
   "metadata": {},
   "outputs": [
    {
     "data": {
      "image/png": "[encoded data removed]",
      "text/plain": [
       "<matplotlib.figure.Figure at 0x1112ef7b8>"
      ]
     },
     "metadata": {},
     "output_type": "display_data"
    },
    {
     "data": {
      "image/png": "[encoded data removed]",
      "text/plain": [
       "<matplotlib.figure.Figure at 0x1112bfeb8>"
      ]
     },
     "metadata": {},
     "output_type": "display_data"
    },
    {
     "data": {
      "image/png": "[encoded data removed]",
      "text/plain": [
       "<matplotlib.figure.Figure at 0x111278be0>"
      ]
     },
     "metadata": {},
     "output_type": "display_data"
    },
    {
     "data": {
      "image/png": "[encoded data removed]",
      "text/plain": [
       "<matplotlib.figure.Figure at 0x11113b518>"
      ]
     },
     "metadata": {},
     "output_type": "display_data"
    },
    {
     "data": {
      "image/png": "[encoded data removed]",
      "text/plain": [
       "<matplotlib.figure.Figure at 0x115555b70>"
      ]
     },
     "metadata": {},
     "output_type": "display_data"
    },
    {
     "data": {
      "image/png": "[encoded data removed]",
      "text/plain": [
       "<matplotlib.figure.Figure at 0x115c74d30>"
      ]
     },
     "metadata": {},
     "output_type": "display_data"
    },
    {
     "data": {
      "image/png": "[encoded data removed]",
      "text/plain": [
       "<matplotlib.figure.Figure at 0x115f21940>"
      ]
     },
     "metadata": {},
     "output_type": "display_data"
    },
    {
     "data": {
      "image/png": "[encoded data removed]",
      "text/plain": [
       "<matplotlib.figure.Figure at 0x115c56160>"
      ]
     },
     "metadata": {},
     "output_type": "display_data"
    },
    {
     "data": {
      "image/png": "[encoded data removed]",
      "text/plain": [
       "<matplotlib.figure.Figure at 0x115c74780>"
      ]
     },
     "metadata": {},
     "output_type": "display_data"
    },
    {
     "data": {
      "image/png": "[encoded data removed]",
      "text/plain": [
       "<matplotlib.figure.Figure at 0x11501e240>"
      ]
     },
     "metadata": {},
     "output_type": "display_data"
    },
    {
     "data": {
      "image/png": "[encoded data removed]",
      "text/plain": [
       "<matplotlib.figure.Figure at 0x1150531d0>"
      ]
     },
     "metadata": {},
     "output_type": "display_data"
    },
    {
     "data": {
      "image/png": "[encoded data removed]",
      "text/plain": [
       "<matplotlib.figure.Figure at 0x110fa65f8>"
      ]
     },
     "metadata": {},
     "output_type": "display_data"
    },
    {
     "data": {
      "image/png": "[encoded data removed]",
      "text/plain": [
       "<matplotlib.figure.Figure at 0x11501df98>"
      ]
     },
     "metadata": {},
     "output_type": "display_data"
    },
    {
     "data": {
      "image/png": "[encoded data removed]",
      "text/plain": [
       "<matplotlib.figure.Figure at 0x115524358>"
      ]
     },
     "metadata": {},
     "output_type": "display_data"
    },
    {
     "data": {
      "image/png": "[encoded data removed]",
      "text/plain": [
       "<matplotlib.figure.Figure at 0x11127bd30>"
      ]
     },
     "metadata": {},
     "output_type": "display_data"
    }
   ],
   "source": [
    "for forecast in pst.forecast_names:\n",
    "    ax = df_out.loc[:,forecast].hist(alpha=0.5,color='0.5',normed=True)\n",
    "    ax.set_yticklabels([])\n",
    "    df_out.loc[good_enough,forecast].hist(ax=ax,alpha=0.5,color='b',normed=True)\n",
    "    ax.set_title(forecast)\n",
    "    plt.show()"
   ]
  },
  {
   "cell_type": "markdown",
   "metadata": {},
   "source": [
    "We see a substaintial reduction in uncertainty (prior vs posterior) for all forecasts...great!"
   ]
  },
  {
   "cell_type": "markdown",
   "metadata": {},
   "source": [
    "# What a power POWERFUL method to show our uncertainty, and what we learned from history matching.  Moreover, we are free of a lot of the limiting assumptions of FOSM.  \n",
    "\n",
    "(What's the downside?)"
   ]
  },
  {
   "cell_type": "markdown",
   "metadata": {},
   "source": [
    "Just for fun, let's see how the forecast prior and posterior uncertainty compare to the \"truth\" (since we know the \"truth\")"
   ]
  },
  {
   "cell_type": "code",
   "execution_count": 16,
   "metadata": {},
   "outputs": [
    {
     "data": {
      "image/png": "[encoded data removed]",
      "text/plain": [
       "<matplotlib.figure.Figure at 0x115f2b8d0>"
      ]
     },
     "metadata": {},
     "output_type": "display_data"
    },
    {
     "data": {
      "image/png": "[encoded data removed]",
      "text/plain": [
       "<matplotlib.figure.Figure at 0x1112d8a20>"
      ]
     },
     "metadata": {},
     "output_type": "display_data"
    },
    {
     "data": {
      "image/png": "[encoded data removed]",
      "text/plain": [
       "<matplotlib.figure.Figure at 0x115f2b9b0>"
      ]
     },
     "metadata": {},
     "output_type": "display_data"
    },
    {
     "data": {
      "image/png": "[encoded data removed]",
      "text/plain": [
       "<matplotlib.figure.Figure at 0x1112cfa58>"
      ]
     },
     "metadata": {},
     "output_type": "display_data"
    },
    {
     "data": {
      "image/png": "[encoded data removed]",
      "text/plain": [
       "<matplotlib.figure.Figure at 0x110f73be0>"
      ]
     },
     "metadata": {},
     "output_type": "display_data"
    },
    {
     "data": {
      "image/png": "[encoded data removed]",
      "text/plain": [
       "<matplotlib.figure.Figure at 0x111079f98>"
      ]
     },
     "metadata": {},
     "output_type": "display_data"
    },
    {
     "data": {
      "image/png": "[encoded data removed]",
      "text/plain": [
       "<matplotlib.figure.Figure at 0x10b32b390>"
      ]
     },
     "metadata": {},
     "output_type": "display_data"
    },
    {
     "data": {
      "image/png": "[encoded data removed]",
      "text/plain": [
       "<matplotlib.figure.Figure at 0x115e8e7b8>"
      ]
     },
     "metadata": {},
     "output_type": "display_data"
    },
    {
     "data": {
      "image/png": "[encoded data removed]",
      "text/plain": [
       "<matplotlib.figure.Figure at 0x115f37208>"
      ]
     },
     "metadata": {},
     "output_type": "display_data"
    },
    {
     "data": {
      "image/png": "[encoded data removed]",
      "text/plain": [
       "<matplotlib.figure.Figure at 0x110fe0358>"
      ]
     },
     "metadata": {},
     "output_type": "display_data"
    },
    {
     "data": {
      "image/png": "[encoded data removed]",
      "text/plain": [
       "<matplotlib.figure.Figure at 0x11560a2e8>"
      ]
     },
     "metadata": {},
     "output_type": "display_data"
    },
    {
     "data": {
      "image/png": "[encoded data removed]",
      "text/plain": [
       "<matplotlib.figure.Figure at 0x1017c81d0>"
      ]
     },
     "metadata": {},
     "output_type": "display_data"
    },
    {
     "data": {
      "image/png": "[encoded data removed]",
      "text/plain": [
       "<matplotlib.figure.Figure at 0x114c12cc0>"
      ]
     },
     "metadata": {},
     "output_type": "display_data"
    },
    {
     "data": {
      "image/png": "[encoded data removed]",
      "text/plain": [
       "<matplotlib.figure.Figure at 0x115557a20>"
      ]
     },
     "metadata": {},
     "output_type": "display_data"
    },
    {
     "data": {
      "image/png": "[encoded data removed]",
      "text/plain": [
       "<matplotlib.figure.Figure at 0x1112cbba8>"
      ]
     },
     "metadata": {},
     "output_type": "display_data"
    }
   ],
   "source": [
    "for forecast in pst.forecast_names:\n",
    "    ax = df_out.loc[:,forecast].hist(alpha=0.5,color='0.5',normed=True)\n",
    "    ax.set_yticklabels([])\n",
    "    df_out.loc[good_enough,forecast].hist(ax=ax,alpha=0.5,color='b',normed=True)\n",
    "    ax.set_title(forecast)\n",
    "    ylim = ax.get_ylim()\n",
    "    v = mc.pst.observation_data.loc[forecast,\"obsval\"]\n",
    "    ax.plot([v,v],ylim,\"k--\",lw=2.0)\n",
    "    ax.set_title(forecast)\n",
    "    \n",
    "    plt.show()"
   ]
  },
  {
   "cell_type": "markdown",
   "metadata": {},
   "source": [
    "The posterior of several forecasts is overly narrow (non-conservative)...why? I thought this was just a problem with the assumptions in FOSM!"
   ]
  },
  {
   "cell_type": "markdown",
   "metadata": {
    "collapsed": true
   },
   "source": [
    "# What else in this model is \"uncertain\" - how about the future!"
   ]
  },
  {
   "cell_type": "code",
   "execution_count": 17,
   "metadata": {},
   "outputs": [
    {
     "data": {
      "text/html": [
       "<div>\n",
       "<style>\n",
       "    .dataframe thead tr:only-child th {\n",
       "        text-align: right;\n",
       "    }\n",
       "\n",
       "    .dataframe thead th {\n",
       "        text-align: left;\n",
       "    }\n",
       "\n",
       "    .dataframe tbody tr th {\n",
       "        vertical-align: top;\n",
       "    }\n",
       "</style>\n",
       "<table border=\"1\" class=\"dataframe\">\n",
       "  <thead>\n",
       "    <tr style=\"text-align: right;\">\n",
       "      <th></th>\n",
       "      <th>parnme</th>\n",
       "      <th>partrans</th>\n",
       "      <th>parchglim</th>\n",
       "      <th>parval1</th>\n",
       "      <th>parlbnd</th>\n",
       "      <th>parubnd</th>\n",
       "      <th>pargp</th>\n",
       "      <th>scale</th>\n",
       "      <th>offset</th>\n",
       "      <th>dercom</th>\n",
       "    </tr>\n",
       "    <tr>\n",
       "      <th>parnme</th>\n",
       "      <th></th>\n",
       "      <th></th>\n",
       "      <th></th>\n",
       "      <th></th>\n",
       "      <th></th>\n",
       "      <th></th>\n",
       "      <th></th>\n",
       "      <th></th>\n",
       "      <th></th>\n",
       "      <th></th>\n",
       "    </tr>\n",
       "  </thead>\n",
       "  <tbody>\n",
       "    <tr>\n",
       "      <th>rch_0</th>\n",
       "      <td>rch_0</td>\n",
       "      <td>log</td>\n",
       "      <td>factor</td>\n",
       "      <td>1.0</td>\n",
       "      <td>0.75</td>\n",
       "      <td>1.25</td>\n",
       "      <td>rch</td>\n",
       "      <td>1.0</td>\n",
       "      <td>0.0</td>\n",
       "      <td>1</td>\n",
       "    </tr>\n",
       "    <tr>\n",
       "      <th>rch_1</th>\n",
       "      <td>rch_1</td>\n",
       "      <td>fixed</td>\n",
       "      <td>factor</td>\n",
       "      <td>1.0</td>\n",
       "      <td>0.75</td>\n",
       "      <td>1.25</td>\n",
       "      <td>rch</td>\n",
       "      <td>1.0</td>\n",
       "      <td>0.0</td>\n",
       "      <td>1</td>\n",
       "    </tr>\n",
       "    <tr>\n",
       "      <th>hk</th>\n",
       "      <td>hk</td>\n",
       "      <td>log</td>\n",
       "      <td>factor</td>\n",
       "      <td>5.0</td>\n",
       "      <td>0.50</td>\n",
       "      <td>50.00</td>\n",
       "      <td>hk</td>\n",
       "      <td>1.0</td>\n",
       "      <td>0.0</td>\n",
       "      <td>1</td>\n",
       "    </tr>\n",
       "  </tbody>\n",
       "</table>\n",
       "</div>"
      ],
      "text/plain": [
       "       parnme partrans parchglim  parval1  parlbnd  parubnd pargp  scale  \\\n",
       "parnme                                                                     \n",
       "rch_0   rch_0      log    factor      1.0     0.75     1.25   rch    1.0   \n",
       "rch_1   rch_1    fixed    factor      1.0     0.75     1.25   rch    1.0   \n",
       "hk         hk      log    factor      5.0     0.50    50.00    hk    1.0   \n",
       "\n",
       "        offset  dercom  \n",
       "parnme                  \n",
       "rch_0      0.0       1  \n",
       "rch_1      0.0       1  \n",
       "hk         0.0       1  "
      ]
     },
     "execution_count": 17,
     "metadata": {},
     "output_type": "execute_result"
    }
   ],
   "source": [
    "pst = pyemu.Pst(os.path.join(working_dir,pst_name))\n",
    "pst.parameter_data"
   ]
  },
  {
   "cell_type": "code",
   "execution_count": 18,
   "metadata": {},
   "outputs": [
    {
     "data": {
      "text/html": [
       "<div>\n",
       "<style>\n",
       "    .dataframe thead tr:only-child th {\n",
       "        text-align: right;\n",
       "    }\n",
       "\n",
       "    .dataframe thead th {\n",
       "        text-align: left;\n",
       "    }\n",
       "\n",
       "    .dataframe tbody tr th {\n",
       "        vertical-align: top;\n",
       "    }\n",
       "</style>\n",
       "<table border=\"1\" class=\"dataframe\">\n",
       "  <thead>\n",
       "    <tr style=\"text-align: right;\">\n",
       "      <th></th>\n",
       "      <th>parnme</th>\n",
       "      <th>partrans</th>\n",
       "      <th>parchglim</th>\n",
       "      <th>parval1</th>\n",
       "      <th>parlbnd</th>\n",
       "      <th>parubnd</th>\n",
       "      <th>pargp</th>\n",
       "      <th>scale</th>\n",
       "      <th>offset</th>\n",
       "      <th>dercom</th>\n",
       "    </tr>\n",
       "    <tr>\n",
       "      <th>parnme</th>\n",
       "      <th></th>\n",
       "      <th></th>\n",
       "      <th></th>\n",
       "      <th></th>\n",
       "      <th></th>\n",
       "      <th></th>\n",
       "      <th></th>\n",
       "      <th></th>\n",
       "      <th></th>\n",
       "      <th></th>\n",
       "    </tr>\n",
       "  </thead>\n",
       "  <tbody>\n",
       "    <tr>\n",
       "      <th>rch_0</th>\n",
       "      <td>rch_0</td>\n",
       "      <td>log</td>\n",
       "      <td>factor</td>\n",
       "      <td>1.0</td>\n",
       "      <td>0.75</td>\n",
       "      <td>1.25</td>\n",
       "      <td>rch</td>\n",
       "      <td>1.0</td>\n",
       "      <td>0.0</td>\n",
       "      <td>1</td>\n",
       "    </tr>\n",
       "    <tr>\n",
       "      <th>rch_1</th>\n",
       "      <td>rch_1</td>\n",
       "      <td>log</td>\n",
       "      <td>factor</td>\n",
       "      <td>1.0</td>\n",
       "      <td>0.75</td>\n",
       "      <td>1.25</td>\n",
       "      <td>rch</td>\n",
       "      <td>1.0</td>\n",
       "      <td>0.0</td>\n",
       "      <td>1</td>\n",
       "    </tr>\n",
       "    <tr>\n",
       "      <th>hk</th>\n",
       "      <td>hk</td>\n",
       "      <td>log</td>\n",
       "      <td>factor</td>\n",
       "      <td>5.0</td>\n",
       "      <td>0.50</td>\n",
       "      <td>50.00</td>\n",
       "      <td>hk</td>\n",
       "      <td>1.0</td>\n",
       "      <td>0.0</td>\n",
       "      <td>1</td>\n",
       "    </tr>\n",
       "  </tbody>\n",
       "</table>\n",
       "</div>"
      ],
      "text/plain": [
       "       parnme partrans parchglim  parval1  parlbnd  parubnd pargp  scale  \\\n",
       "parnme                                                                     \n",
       "rch_0   rch_0      log    factor      1.0     0.75     1.25   rch    1.0   \n",
       "rch_1   rch_1      log    factor      1.0     0.75     1.25   rch    1.0   \n",
       "hk         hk      log    factor      5.0     0.50    50.00    hk    1.0   \n",
       "\n",
       "        offset  dercom  \n",
       "parnme                  \n",
       "rch_0      0.0       1  \n",
       "rch_1      0.0       1  \n",
       "hk         0.0       1  "
      ]
     },
     "execution_count": 18,
     "metadata": {},
     "output_type": "execute_result"
    }
   ],
   "source": [
    "pst.parameter_data.loc[\"rch_1\",\"partrans\"] = \"log\"\n",
    "pst.parameter_data"
   ]
  },
  {
   "cell_type": "code",
   "execution_count": 19,
   "metadata": {},
   "outputs": [
    {
     "name": "stdout",
     "output_type": "stream",
     "text": [
      "master:./sweep freyberg_kr.pst /h :4004 in .\n",
      "slave:./sweep freyberg_kr.pst /h localhost:4004 in ../slave_0\n",
      "slave:./sweep freyberg_kr.pst /h localhost:4004 in ../slave_1\n",
      "slave:./sweep freyberg_kr.pst /h localhost:4004 in ../slave_2\n",
      "slave:./sweep freyberg_kr.pst /h localhost:4004 in ../slave_3\n",
      "slave:./sweep freyberg_kr.pst /h localhost:4004 in ../slave_4\n",
      "slave:./sweep freyberg_kr.pst /h localhost:4004 in ../slave_5\n",
      "slave:./sweep freyberg_kr.pst /h localhost:4004 in ../slave_6\n",
      "slave:./sweep freyberg_kr.pst /h localhost:4004 in ../slave_7\n",
      "slave:./sweep freyberg_kr.pst /h localhost:4004 in ../slave_8\n",
      "slave:./sweep freyberg_kr.pst /h localhost:4004 in ../slave_9\n",
      "slave:./sweep freyberg_kr.pst /h localhost:4004 in ../slave_10\n",
      "slave:./sweep freyberg_kr.pst /h localhost:4004 in ../slave_11\n",
      "slave:./sweep freyberg_kr.pst /h localhost:4004 in ../slave_12\n",
      "slave:./sweep freyberg_kr.pst /h localhost:4004 in ../slave_13\n",
      "slave:./sweep freyberg_kr.pst /h localhost:4004 in ../slave_14\n"
     ]
    },
    {
     "data": {
      "text/html": [
       "<div>\n",
       "<style>\n",
       "    .dataframe thead tr:only-child th {\n",
       "        text-align: right;\n",
       "    }\n",
       "\n",
       "    .dataframe thead th {\n",
       "        text-align: left;\n",
       "    }\n",
       "\n",
       "    .dataframe tbody tr th {\n",
       "        vertical-align: top;\n",
       "    }\n",
       "</style>\n",
       "<table border=\"1\" class=\"dataframe\">\n",
       "  <thead>\n",
       "    <tr style=\"text-align: right;\">\n",
       "      <th></th>\n",
       "      <th>input_run_id</th>\n",
       "      <th>failed_flag</th>\n",
       "      <th>phi</th>\n",
       "      <th>meas_phi</th>\n",
       "      <th>regul_phi</th>\n",
       "      <th>vol_river_l</th>\n",
       "      <th>calflux</th>\n",
       "      <th>foretrav</th>\n",
       "      <th>vol_storage</th>\n",
       "      <th>vol_total</th>\n",
       "      <th>...</th>\n",
       "      <th>vol_total_19750101</th>\n",
       "      <th>vol_wells_19750101</th>\n",
       "      <th>vol_constan_19750102</th>\n",
       "      <th>vol_in-out_19750102</th>\n",
       "      <th>vol_percent_19750102</th>\n",
       "      <th>vol_recharg_19750102</th>\n",
       "      <th>vol_river_l_19750102</th>\n",
       "      <th>vol_storage_19750102</th>\n",
       "      <th>vol_total_19750102</th>\n",
       "      <th>vol_wells_19750102</th>\n",
       "    </tr>\n",
       "    <tr>\n",
       "      <th>run_id</th>\n",
       "      <th></th>\n",
       "      <th></th>\n",
       "      <th></th>\n",
       "      <th></th>\n",
       "      <th></th>\n",
       "      <th></th>\n",
       "      <th></th>\n",
       "      <th></th>\n",
       "      <th></th>\n",
       "      <th></th>\n",
       "      <th></th>\n",
       "      <th></th>\n",
       "      <th></th>\n",
       "      <th></th>\n",
       "      <th></th>\n",
       "      <th></th>\n",
       "      <th></th>\n",
       "      <th></th>\n",
       "      <th></th>\n",
       "      <th></th>\n",
       "      <th></th>\n",
       "    </tr>\n",
       "  </thead>\n",
       "  <tbody>\n",
       "    <tr>\n",
       "      <th>0</th>\n",
       "      <td>0</td>\n",
       "      <td>0</td>\n",
       "      <td>1388.894006</td>\n",
       "      <td>1388.894006</td>\n",
       "      <td>0</td>\n",
       "      <td>0</td>\n",
       "      <td>0</td>\n",
       "      <td>0</td>\n",
       "      <td>0</td>\n",
       "      <td>0</td>\n",
       "      <td>...</td>\n",
       "      <td>1117.0</td>\n",
       "      <td>-4348055.0</td>\n",
       "      <td>75470.359375</td>\n",
       "      <td>1118.0</td>\n",
       "      <td>0.01</td>\n",
       "      <td>7250153.0</td>\n",
       "      <td>-3019669.50</td>\n",
       "      <td>45600.527344</td>\n",
       "      <td>1118.0</td>\n",
       "      <td>-4350436.5</td>\n",
       "    </tr>\n",
       "    <tr>\n",
       "      <th>1</th>\n",
       "      <td>1</td>\n",
       "      <td>0</td>\n",
       "      <td>1586.669176</td>\n",
       "      <td>1586.669176</td>\n",
       "      <td>0</td>\n",
       "      <td>0</td>\n",
       "      <td>0</td>\n",
       "      <td>0</td>\n",
       "      <td>0</td>\n",
       "      <td>0</td>\n",
       "      <td>...</td>\n",
       "      <td>678.0</td>\n",
       "      <td>-4348055.0</td>\n",
       "      <td>-214343.109375</td>\n",
       "      <td>678.0</td>\n",
       "      <td>0.01</td>\n",
       "      <td>6939643.5</td>\n",
       "      <td>-2445284.50</td>\n",
       "      <td>71098.820312</td>\n",
       "      <td>678.0</td>\n",
       "      <td>-4350436.5</td>\n",
       "    </tr>\n",
       "    <tr>\n",
       "      <th>2</th>\n",
       "      <td>2</td>\n",
       "      <td>0</td>\n",
       "      <td>1521.513685</td>\n",
       "      <td>1521.513685</td>\n",
       "      <td>0</td>\n",
       "      <td>0</td>\n",
       "      <td>0</td>\n",
       "      <td>0</td>\n",
       "      <td>0</td>\n",
       "      <td>0</td>\n",
       "      <td>...</td>\n",
       "      <td>810.0</td>\n",
       "      <td>-4348055.0</td>\n",
       "      <td>52636.671875</td>\n",
       "      <td>810.0</td>\n",
       "      <td>0.01</td>\n",
       "      <td>6777665.5</td>\n",
       "      <td>-2515369.25</td>\n",
       "      <td>36313.285156</td>\n",
       "      <td>810.0</td>\n",
       "      <td>-4350436.5</td>\n",
       "    </tr>\n",
       "    <tr>\n",
       "      <th>3</th>\n",
       "      <td>3</td>\n",
       "      <td>0</td>\n",
       "      <td>816.616769</td>\n",
       "      <td>816.616769</td>\n",
       "      <td>0</td>\n",
       "      <td>0</td>\n",
       "      <td>0</td>\n",
       "      <td>0</td>\n",
       "      <td>0</td>\n",
       "      <td>0</td>\n",
       "      <td>...</td>\n",
       "      <td>86.0</td>\n",
       "      <td>-4348055.0</td>\n",
       "      <td>21320.609375</td>\n",
       "      <td>86.5</td>\n",
       "      <td>0.00</td>\n",
       "      <td>6382112.5</td>\n",
       "      <td>-2136104.75</td>\n",
       "      <td>83194.562500</td>\n",
       "      <td>86.5</td>\n",
       "      <td>-4350436.5</td>\n",
       "    </tr>\n",
       "    <tr>\n",
       "      <th>4</th>\n",
       "      <td>4</td>\n",
       "      <td>0</td>\n",
       "      <td>2703.685329</td>\n",
       "      <td>2703.685329</td>\n",
       "      <td>0</td>\n",
       "      <td>0</td>\n",
       "      <td>0</td>\n",
       "      <td>0</td>\n",
       "      <td>0</td>\n",
       "      <td>0</td>\n",
       "      <td>...</td>\n",
       "      <td>978.0</td>\n",
       "      <td>-4348055.0</td>\n",
       "      <td>-296480.312500</td>\n",
       "      <td>979.0</td>\n",
       "      <td>0.01</td>\n",
       "      <td>7884364.5</td>\n",
       "      <td>-3341919.75</td>\n",
       "      <td>105451.445312</td>\n",
       "      <td>979.0</td>\n",
       "      <td>-4350436.5</td>\n",
       "    </tr>\n",
       "  </tbody>\n",
       "</table>\n",
       "<p>5 rows × 2949 columns</p>\n",
       "</div>"
      ],
      "text/plain": [
       "        input_run_id  failed_flag          phi     meas_phi  regul_phi  \\\n",
       "run_id                                                                   \n",
       "0                  0            0  1388.894006  1388.894006          0   \n",
       "1                  1            0  1586.669176  1586.669176          0   \n",
       "2                  2            0  1521.513685  1521.513685          0   \n",
       "3                  3            0   816.616769   816.616769          0   \n",
       "4                  4            0  2703.685329  2703.685329          0   \n",
       "\n",
       "        vol_river_l  calflux  foretrav  vol_storage  vol_total  \\\n",
       "run_id                                                           \n",
       "0                 0        0         0            0          0   \n",
       "1                 0        0         0            0          0   \n",
       "2                 0        0         0            0          0   \n",
       "3                 0        0         0            0          0   \n",
       "4                 0        0         0            0          0   \n",
       "\n",
       "               ...          vol_total_19750101  vol_wells_19750101  \\\n",
       "run_id         ...                                                   \n",
       "0              ...                      1117.0          -4348055.0   \n",
       "1              ...                       678.0          -4348055.0   \n",
       "2              ...                       810.0          -4348055.0   \n",
       "3              ...                        86.0          -4348055.0   \n",
       "4              ...                       978.0          -4348055.0   \n",
       "\n",
       "        vol_constan_19750102  vol_in-out_19750102  vol_percent_19750102  \\\n",
       "run_id                                                                    \n",
       "0               75470.359375               1118.0                  0.01   \n",
       "1             -214343.109375                678.0                  0.01   \n",
       "2               52636.671875                810.0                  0.01   \n",
       "3               21320.609375                 86.5                  0.00   \n",
       "4             -296480.312500                979.0                  0.01   \n",
       "\n",
       "        vol_recharg_19750102  vol_river_l_19750102  vol_storage_19750102  \\\n",
       "run_id                                                                     \n",
       "0                  7250153.0           -3019669.50          45600.527344   \n",
       "1                  6939643.5           -2445284.50          71098.820312   \n",
       "2                  6777665.5           -2515369.25          36313.285156   \n",
       "3                  6382112.5           -2136104.75          83194.562500   \n",
       "4                  7884364.5           -3341919.75         105451.445312   \n",
       "\n",
       "        vol_total_19750102  vol_wells_19750102  \n",
       "run_id                                          \n",
       "0                   1118.0          -4350436.5  \n",
       "1                    678.0          -4350436.5  \n",
       "2                    810.0          -4350436.5  \n",
       "3                     86.5          -4350436.5  \n",
       "4                    979.0          -4350436.5  \n",
       "\n",
       "[5 rows x 2949 columns]"
      ]
     },
     "execution_count": 19,
     "metadata": {},
     "output_type": "execute_result"
    }
   ],
   "source": [
    "prior_cov = pyemu.Cov.from_parameter_data(pst,sigma_range=6)\n",
    "mc = pyemu.MonteCarlo(pst=pst,parcov=prior_cov)\n",
    "mc.draw(num_reals=500,enforce_bounds=\"reset\")\n",
    "mc.parensemble.to_csv(os.path.join(working_dir,\"sweep_in.csv\"))\n",
    "os.chdir(working_dir)\n",
    "pyemu.helpers.start_slaves('.',\"sweep\",pst_name,num_slaves=15,master_dir='.')\n",
    "os.chdir(\"..\")\n",
    "df_out_f = pd.read_csv(os.path.join(working_dir,\"sweep_out.csv\"),index_col=0)\n",
    "df_out_f = df_out_f.loc[df_out.failed_flag==0,:] #drop an failed runs\n",
    "df_out_f.columns = [c.lower() for c in df_out.columns]\n",
    "df_out_f.head()"
   ]
  },
  {
   "cell_type": "code",
   "execution_count": 22,
   "metadata": {},
   "outputs": [
    {
     "name": "stdout",
     "output_type": "stream",
     "text": [
      "[  3  14  15  23  32  33  39  54  58  59  66  70  75  95  99 103 108 116\n",
      " 118 131 138 143 144 146 148 154 160 163 164 166 170 172 181 182 184 186\n",
      " 188 189 202 206 217 220 224 228 231 234 241 242 248 254 256 261 262 266\n",
      " 270 272 275 279 283 294 297 299 300 309 310 314 316 321 329 331 333 343\n",
      " 344 353 355 360 361 362 368 369 373 375 379 380 390 393 402 403 418 419\n",
      " 420 427 433 435 439 442 445 465 479 483 485 490]\n"
     ]
    }
   ],
   "source": [
    "good_enough_f = df_out_f.loc[df_out_f.phi<acceptable_phi].index.values\n",
    "print(good_enough_f)"
   ]
  },
  {
   "cell_type": "code",
   "execution_count": 24,
   "metadata": {},
   "outputs": [
    {
     "data": {
      "image/png": "[encoded data removed]",
      "text/plain": [
       "<matplotlib.figure.Figure at 0x110f45c50>"
      ]
     },
     "metadata": {},
     "output_type": "display_data"
    },
    {
     "data": {
      "image/png": "[encoded data removed]",
      "text/plain": [
       "<matplotlib.figure.Figure at 0x1115662e8>"
      ]
     },
     "metadata": {},
     "output_type": "display_data"
    },
    {
     "data": {
      "image/png": "[encoded data removed]",
      "text/plain": [
       "<matplotlib.figure.Figure at 0x1112e4f98>"
      ]
     },
     "metadata": {},
     "output_type": "display_data"
    },
    {
     "data": {
      "image/png": "[encoded data removed]",
      "text/plain": [
       "<matplotlib.figure.Figure at 0x110fc7940>"
      ]
     },
     "metadata": {},
     "output_type": "display_data"
    },
    {
     "data": {
      "image/png": "[encoded data removed]",
      "text/plain": [
       "<matplotlib.figure.Figure at 0x1042615f8>"
      ]
     },
     "metadata": {},
     "output_type": "display_data"
    },
    {
     "data": {
      "image/png": "[encoded data removed]",
      "text/plain": [
       "<matplotlib.figure.Figure at 0x111116d30>"
      ]
     },
     "metadata": {},
     "output_type": "display_data"
    },
    {
     "data": {
      "image/png": "[encoded data removed]",
      "text/plain": [
       "<matplotlib.figure.Figure at 0x1111359e8>"
      ]
     },
     "metadata": {},
     "output_type": "display_data"
    },
    {
     "data": {
      "image/png": "[encoded data removed]",
      "text/plain": [
       "<matplotlib.figure.Figure at 0x114c790b8>"
      ]
     },
     "metadata": {},
     "output_type": "display_data"
    },
    {
     "data": {
      "image/png": "[encoded data removed]",
      "text/plain": [
       "<matplotlib.figure.Figure at 0x110f80c50>"
      ]
     },
     "metadata": {},
     "output_type": "display_data"
    },
    {
     "data": {
      "image/png": "[encoded data removed]",
      "text/plain": [
       "<matplotlib.figure.Figure at 0x1112e90f0>"
      ]
     },
     "metadata": {},
     "output_type": "display_data"
    },
    {
     "data": {
      "image/png": "[encoded data removed]",
      "text/plain": [
       "<matplotlib.figure.Figure at 0x1155cc8d0>"
      ]
     },
     "metadata": {},
     "output_type": "display_data"
    },
    {
     "data": {
      "image/png": "[encoded data removed]",
      "text/plain": [
       "<matplotlib.figure.Figure at 0x1116bef98>"
      ]
     },
     "metadata": {},
     "output_type": "display_data"
    },
    {
     "data": {
      "image/png": "[encoded data removed]",
      "text/plain": [
       "<matplotlib.figure.Figure at 0x1110b7240>"
      ]
     },
     "metadata": {},
     "output_type": "display_data"
    },
    {
     "data": {
      "image/png": "[encoded data removed]",
      "text/plain": [
       "<matplotlib.figure.Figure at 0x1112c69b0>"
      ]
     },
     "metadata": {},
     "output_type": "display_data"
    },
    {
     "data": {
      "image/png": "[encoded data removed]",
      "text/plain": [
       "<matplotlib.figure.Figure at 0x1116b0c18>"
      ]
     },
     "metadata": {},
     "output_type": "display_data"
    }
   ],
   "source": [
    "for forecast in pst.forecast_names:\n",
    "    ax = df_out_f.loc[:,forecast].hist(alpha=0.5,color='0.5',normed=True)\n",
    "    ax.set_yticklabels([])\n",
    "    df_out_f.loc[good_enough_f,forecast].hist(ax=ax,alpha=0.5,color='b',normed=True)\n",
    "    df_out.loc[good_enough,forecast].hist(ax=ax,alpha=0.5,color='g',normed=True)\n",
    "    ax.set_title(forecast)\n",
    "    ylim = ax.get_ylim()\n",
    "    v = mc.pst.observation_data.loc[forecast,\"obsval\"]\n",
    "    ax.plot([v,v],ylim,\"k--\",lw=2.0)\n",
    "    ax.set_title(forecast)\n",
    "    \n",
    "    plt.show()"
   ]
  },
  {
   "cell_type": "code",
   "execution_count": null,
   "metadata": {
    "collapsed": true
   },
   "outputs": [],
   "source": []
  }
 ],
 "metadata": {
  "anaconda-cloud": {},
  "kernelspec": {
   "display_name": "Python [Root]",
   "language": "python",
   "name": "Python [Root]"
  },
  "language_info": {
   "codemirror_mode": {
    "name": "ipython",
    "version": 3
   },
   "file_extension": ".py",
   "mimetype": "text/x-python",
   "name": "python",
   "nbconvert_exporter": "python",
   "pygments_lexer": "ipython3",
   "version": "3.5.2"
  }
 },
 "nbformat": 4,
 "nbformat_minor": 1
}
