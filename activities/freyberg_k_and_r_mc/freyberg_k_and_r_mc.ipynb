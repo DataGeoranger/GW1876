{
 "cells": [
  {
   "cell_type": "markdown",
   "metadata": {},
   "source": [
    "history match the freyberg model using a single ``K`` parameter and a single recharge parameter"
   ]
  },
  {
   "cell_type": "code",
   "execution_count": 9,
   "metadata": {
    "collapsed": false
   },
   "outputs": [],
   "source": [
    "%matplotlib inline\n",
    "import os\n",
    "import shutil\n",
    "import numpy as np\n",
    "import pandas as pd\n",
    "import matplotlib.pyplot as plt\n",
    "import pyemu\n",
    "import platform\n",
    "if 'window' in platform.platform().lower():\n",
    "    newln='\\n'\n",
    "    ppp = 'pest++ '\n",
    "    pref = ''\n",
    "else:\n",
    "    newln='\\r\\n'\n",
    "    ppp = './pestpp '\n",
    "    pref = './'"
   ]
  },
  {
   "cell_type": "code",
   "execution_count": 2,
   "metadata": {
    "collapsed": false
   },
   "outputs": [],
   "source": [
    "base_dir = os.path.join(\"..\",\"..\",\"models\",\"Freyberg\",\"Freyberg_K_and_R\")\n",
    "assert os.path.exists(base_dir)\n",
    "[shutil.copy2(os.path.join(base_dir,f),f) for f in os.listdir(base_dir)];"
   ]
  },
  {
   "cell_type": "markdown",
   "metadata": {
    "collapsed": false
   },
   "source": [
    "Let's do some monte carlo"
   ]
  },
  {
   "cell_type": "code",
   "execution_count": 3,
   "metadata": {
    "collapsed": false
   },
   "outputs": [
    {
     "data": {
      "text/html": [
       "<div>\n",
       "<table border=\"1\" class=\"dataframe\">\n",
       "  <thead>\n",
       "    <tr style=\"text-align: right;\">\n",
       "      <th></th>\n",
       "      <th>parnme</th>\n",
       "      <th>partrans</th>\n",
       "      <th>parchglim</th>\n",
       "      <th>parval1</th>\n",
       "      <th>parlbnd</th>\n",
       "      <th>parubnd</th>\n",
       "      <th>pargp</th>\n",
       "      <th>scale</th>\n",
       "      <th>offset</th>\n",
       "      <th>dercom</th>\n",
       "    </tr>\n",
       "    <tr>\n",
       "      <th>parnme</th>\n",
       "      <th></th>\n",
       "      <th></th>\n",
       "      <th></th>\n",
       "      <th></th>\n",
       "      <th></th>\n",
       "      <th></th>\n",
       "      <th></th>\n",
       "      <th></th>\n",
       "      <th></th>\n",
       "      <th></th>\n",
       "    </tr>\n",
       "  </thead>\n",
       "  <tbody>\n",
       "    <tr>\n",
       "      <th>rch1</th>\n",
       "      <td>rch1</td>\n",
       "      <td>log</td>\n",
       "      <td>factor</td>\n",
       "      <td>0.000110</td>\n",
       "      <td>0.000079</td>\n",
       "      <td>0.000155</td>\n",
       "      <td>rch</td>\n",
       "      <td>1.0</td>\n",
       "      <td>0.0</td>\n",
       "      <td>1</td>\n",
       "    </tr>\n",
       "    <tr>\n",
       "      <th>rch2</th>\n",
       "      <td>rch2</td>\n",
       "      <td>fixed</td>\n",
       "      <td>factor</td>\n",
       "      <td>0.000094</td>\n",
       "      <td>0.000079</td>\n",
       "      <td>0.000155</td>\n",
       "      <td>rch</td>\n",
       "      <td>1.0</td>\n",
       "      <td>0.0</td>\n",
       "      <td>1</td>\n",
       "    </tr>\n",
       "    <tr>\n",
       "      <th>hk1</th>\n",
       "      <td>hk1</td>\n",
       "      <td>log</td>\n",
       "      <td>factor</td>\n",
       "      <td>8.000000</td>\n",
       "      <td>1.250000</td>\n",
       "      <td>80.000000</td>\n",
       "      <td>hk</td>\n",
       "      <td>1.0</td>\n",
       "      <td>0.0</td>\n",
       "      <td>1</td>\n",
       "    </tr>\n",
       "  </tbody>\n",
       "</table>\n",
       "</div>"
      ],
      "text/plain": [
       "       parnme partrans parchglim   parval1   parlbnd    parubnd pargp  scale  \\\n",
       "parnme                                                                         \n",
       "rch1     rch1      log    factor  0.000110  0.000079   0.000155   rch    1.0   \n",
       "rch2     rch2    fixed    factor  0.000094  0.000079   0.000155   rch    1.0   \n",
       "hk1       hk1      log    factor  8.000000  1.250000  80.000000    hk    1.0   \n",
       "\n",
       "        offset  dercom  \n",
       "parnme                  \n",
       "rch1       0.0       1  \n",
       "rch2       0.0       1  \n",
       "hk1        0.0       1  "
      ]
     },
     "execution_count": 3,
     "metadata": {},
     "output_type": "execute_result"
    }
   ],
   "source": [
    "pst = pyemu.Pst(\"freyberg.pst\")\n",
    "pst.parameter_data.loc[\"rch1\",\"partrans\"] = \"log\" #make recharge adjustable\n",
    "#pst.parameter_data.loc[\"hk1\",\"parubnd\"] = 100.0\n",
    "#pst.parameter_data.loc[\"hk1\",\"parlbnd\"] = 10.0\n",
    "#pst.parameter_data.loc[\"rch1\",\"partrans\"] = \"none\"\n",
    "#pst.parameter_data.loc[\"rch1\",\"parlbnd\"] = pst.parameter_data.loc[\"rch1\",\"parval1\"] * 0.75\n",
    "#pst.parameter_data.loc[\"rch1\",\"parubnd\"] = pst.parameter_data.loc[\"rch1\",\"parval1\"] * 1.25 \n",
    "pst.parameter_data\n"
   ]
  },
  {
   "cell_type": "code",
   "execution_count": 4,
   "metadata": {
    "collapsed": false
   },
   "outputs": [
    {
     "data": {
      "text/plain": [
       "<pyemu.mc.MonteCarlo at 0x1048e5eb8>"
      ]
     },
     "execution_count": 4,
     "metadata": {},
     "output_type": "execute_result"
    }
   ],
   "source": [
    "mc = pyemu.MonteCarlo(pst=pst)\n",
    "mc"
   ]
  },
  {
   "cell_type": "code",
   "execution_count": 5,
   "metadata": {
    "collapsed": true
   },
   "outputs": [],
   "source": [
    "mc.draw(num_reals=1000,enforce_bounds=True,)"
   ]
  },
  {
   "cell_type": "code",
   "execution_count": 6,
   "metadata": {
    "collapsed": false
   },
   "outputs": [
    {
     "data": {
      "text/html": [
       "<div>\n",
       "<table border=\"1\" class=\"dataframe\">\n",
       "  <thead>\n",
       "    <tr style=\"text-align: right;\">\n",
       "      <th>parnme</th>\n",
       "      <th>rch1</th>\n",
       "      <th>rch2</th>\n",
       "      <th>hk1</th>\n",
       "    </tr>\n",
       "  </thead>\n",
       "  <tbody>\n",
       "    <tr>\n",
       "      <th>0</th>\n",
       "      <td>9.85944e-05</td>\n",
       "      <td>0.000094</td>\n",
       "      <td>5.04638</td>\n",
       "    </tr>\n",
       "    <tr>\n",
       "      <th>1</th>\n",
       "      <td>0.000104094</td>\n",
       "      <td>0.000094</td>\n",
       "      <td>10.5739</td>\n",
       "    </tr>\n",
       "    <tr>\n",
       "      <th>2</th>\n",
       "      <td>9.26522e-05</td>\n",
       "      <td>0.000094</td>\n",
       "      <td>23.2559</td>\n",
       "    </tr>\n",
       "    <tr>\n",
       "      <th>3</th>\n",
       "      <td>0.000106161</td>\n",
       "      <td>0.000094</td>\n",
       "      <td>16.8838</td>\n",
       "    </tr>\n",
       "    <tr>\n",
       "      <th>4</th>\n",
       "      <td>0.0001076</td>\n",
       "      <td>0.000094</td>\n",
       "      <td>2.72508</td>\n",
       "    </tr>\n",
       "  </tbody>\n",
       "</table>\n",
       "</div>"
      ],
      "text/plain": [
       "parnme         rch1      rch2      hk1\n",
       "0       9.85944e-05  0.000094  5.04638\n",
       "1       0.000104094  0.000094  10.5739\n",
       "2       9.26522e-05  0.000094  23.2559\n",
       "3       0.000106161  0.000094  16.8838\n",
       "4         0.0001076  0.000094  2.72508"
      ]
     },
     "execution_count": 6,
     "metadata": {},
     "output_type": "execute_result"
    }
   ],
   "source": [
    "mc.parensemble.head()"
   ]
  },
  {
   "cell_type": "code",
   "execution_count": 7,
   "metadata": {
    "collapsed": false
   },
   "outputs": [
    {
     "name": "stdout",
     "output_type": "stream",
     "text": [
      "7.9e-05 0.000155 0.000111275202977\n"
     ]
    },
    {
     "data": {
      "image/png": "[encoded data removed]",
      "text/plain": [
       "<matplotlib.figure.Figure at 0x11437e358>"
      ]
     },
     "metadata": {},
     "output_type": "display_data"
    },
    {
     "name": "stdout",
     "output_type": "stream",
     "text": [
      "9.358508e-05 9.358508e-05 9.358507999999989e-05\n"
     ]
    },
    {
     "data": {
      "image/png": "[encoded data removed]",
      "text/plain": [
       "<matplotlib.figure.Figure at 0x116a58668>"
      ]
     },
     "metadata": {},
     "output_type": "display_data"
    },
    {
     "name": "stdout",
     "output_type": "stream",
     "text": [
      "1.25 80.0 12.9520290701\n"
     ]
    },
    {
     "data": {
      "image/png": "[encoded data removed]",
      "text/plain": [
       "<matplotlib.figure.Figure at 0x116b742e8>"
      ]
     },
     "metadata": {},
     "output_type": "display_data"
    }
   ],
   "source": [
    "for pname in mc.pst.par_names:\n",
    "    ax = mc.parensemble.loc[:,pname].hist(bins=20)\n",
    "    print(mc.parensemble.loc[:,pname].min(),mc.parensemble.loc[:,pname].max(),mc.parensemble.loc[:,pname].mean())\n",
    "    ax.set_title(pname)\n",
    "    plt.show()\n",
    "    "
   ]
  },
  {
   "cell_type": "code",
   "execution_count": 8,
   "metadata": {
    "collapsed": false
   },
   "outputs": [
    {
     "data": {
      "text/html": [
       "<div>\n",
       "<table border=\"1\" class=\"dataframe\">\n",
       "  <thead>\n",
       "    <tr style=\"text-align: right;\">\n",
       "      <th></th>\n",
       "      <th>parnme</th>\n",
       "      <th>partrans</th>\n",
       "      <th>parchglim</th>\n",
       "      <th>parval1</th>\n",
       "      <th>parlbnd</th>\n",
       "      <th>parubnd</th>\n",
       "      <th>pargp</th>\n",
       "      <th>scale</th>\n",
       "      <th>offset</th>\n",
       "      <th>dercom</th>\n",
       "    </tr>\n",
       "    <tr>\n",
       "      <th>parnme</th>\n",
       "      <th></th>\n",
       "      <th></th>\n",
       "      <th></th>\n",
       "      <th></th>\n",
       "      <th></th>\n",
       "      <th></th>\n",
       "      <th></th>\n",
       "      <th></th>\n",
       "      <th></th>\n",
       "      <th></th>\n",
       "    </tr>\n",
       "  </thead>\n",
       "  <tbody>\n",
       "    <tr>\n",
       "      <th>rch1</th>\n",
       "      <td>rch1</td>\n",
       "      <td>log</td>\n",
       "      <td>factor</td>\n",
       "      <td>0.000110</td>\n",
       "      <td>0.000079</td>\n",
       "      <td>0.000155</td>\n",
       "      <td>rch</td>\n",
       "      <td>1.0</td>\n",
       "      <td>0.0</td>\n",
       "      <td>1</td>\n",
       "    </tr>\n",
       "    <tr>\n",
       "      <th>rch2</th>\n",
       "      <td>rch2</td>\n",
       "      <td>fixed</td>\n",
       "      <td>factor</td>\n",
       "      <td>0.000094</td>\n",
       "      <td>0.000079</td>\n",
       "      <td>0.000155</td>\n",
       "      <td>rch</td>\n",
       "      <td>1.0</td>\n",
       "      <td>0.0</td>\n",
       "      <td>1</td>\n",
       "    </tr>\n",
       "    <tr>\n",
       "      <th>hk1</th>\n",
       "      <td>hk1</td>\n",
       "      <td>log</td>\n",
       "      <td>factor</td>\n",
       "      <td>8.000000</td>\n",
       "      <td>1.250000</td>\n",
       "      <td>80.000000</td>\n",
       "      <td>hk</td>\n",
       "      <td>1.0</td>\n",
       "      <td>0.0</td>\n",
       "      <td>1</td>\n",
       "    </tr>\n",
       "  </tbody>\n",
       "</table>\n",
       "</div>"
      ],
      "text/plain": [
       "       parnme partrans parchglim   parval1   parlbnd    parubnd pargp  scale  \\\n",
       "parnme                                                                         \n",
       "rch1     rch1      log    factor  0.000110  0.000079   0.000155   rch    1.0   \n",
       "rch2     rch2    fixed    factor  0.000094  0.000079   0.000155   rch    1.0   \n",
       "hk1       hk1      log    factor  8.000000  1.250000  80.000000    hk    1.0   \n",
       "\n",
       "        offset  dercom  \n",
       "parnme                  \n",
       "rch1       0.0       1  \n",
       "rch2       0.0       1  \n",
       "hk1        0.0       1  "
      ]
     },
     "execution_count": 8,
     "metadata": {},
     "output_type": "execute_result"
    }
   ],
   "source": [
    "pst.parameter_data"
   ]
  },
  {
   "cell_type": "code",
   "execution_count": 21,
   "metadata": {
    "collapsed": false
   },
   "outputs": [],
   "source": [
    "mc.parensemble.to_csv(\"sweep_in.csv\")"
   ]
  },
  {
   "cell_type": "code",
   "execution_count": 22,
   "metadata": {
    "collapsed": false
   },
   "outputs": [],
   "source": [
    "pyemu.helpers.start_slaves(base_dir,\"{0}sweep\".format(pref),\"freyberg.pst\",num_slaves=20,master_dir='.')"
   ]
  },
  {
   "cell_type": "code",
   "execution_count": 23,
   "metadata": {
    "collapsed": false
   },
   "outputs": [
    {
     "data": {
      "text/html": [
       "<div>\n",
       "<table border=\"1\" class=\"dataframe\">\n",
       "  <thead>\n",
       "    <tr style=\"text-align: right;\">\n",
       "      <th></th>\n",
       "      <th>failed_flag</th>\n",
       "      <th>phi</th>\n",
       "      <th>meas_phi</th>\n",
       "      <th>regul_phi</th>\n",
       "      <th>TRAVEL_FORE</th>\n",
       "      <th>HEAD_FORE</th>\n",
       "      <th>FLUX_FORE</th>\n",
       "      <th>HEAD_CAL</th>\n",
       "      <th>FLUX_CAL</th>\n",
       "      <th>CR03C16</th>\n",
       "      <th>...</th>\n",
       "      <th>FR27C7</th>\n",
       "      <th>FR30C16</th>\n",
       "      <th>FR34C8</th>\n",
       "      <th>FR35C11</th>\n",
       "      <th>FR02C02</th>\n",
       "      <th>FR01C13</th>\n",
       "      <th>FR09C15</th>\n",
       "      <th>FR25C10</th>\n",
       "      <th>RIVFLUX_FORE</th>\n",
       "      <th>TRAVEL_TIME</th>\n",
       "    </tr>\n",
       "    <tr>\n",
       "      <th>run_id</th>\n",
       "      <th></th>\n",
       "      <th></th>\n",
       "      <th></th>\n",
       "      <th></th>\n",
       "      <th></th>\n",
       "      <th></th>\n",
       "      <th></th>\n",
       "      <th></th>\n",
       "      <th></th>\n",
       "      <th></th>\n",
       "      <th></th>\n",
       "      <th></th>\n",
       "      <th></th>\n",
       "      <th></th>\n",
       "      <th></th>\n",
       "      <th></th>\n",
       "      <th></th>\n",
       "      <th></th>\n",
       "      <th></th>\n",
       "      <th></th>\n",
       "      <th></th>\n",
       "    </tr>\n",
       "  </thead>\n",
       "  <tbody>\n",
       "    <tr>\n",
       "      <th>0</th>\n",
       "      <td>0</td>\n",
       "      <td>34.188207</td>\n",
       "      <td>34.188207</td>\n",
       "      <td>0.0</td>\n",
       "      <td>0.0</td>\n",
       "      <td>0.0</td>\n",
       "      <td>0.0</td>\n",
       "      <td>34.188207</td>\n",
       "      <td>0.0</td>\n",
       "      <td>19.65175</td>\n",
       "      <td>...</td>\n",
       "      <td>19.62833</td>\n",
       "      <td>14.28030</td>\n",
       "      <td>16.64464</td>\n",
       "      <td>13.92781</td>\n",
       "      <td>28.45563</td>\n",
       "      <td>20.77822</td>\n",
       "      <td>17.24020</td>\n",
       "      <td>17.55951</td>\n",
       "      <td>-2092.202</td>\n",
       "      <td>24967.56</td>\n",
       "    </tr>\n",
       "    <tr>\n",
       "      <th>1</th>\n",
       "      <td>0</td>\n",
       "      <td>106.640374</td>\n",
       "      <td>106.640374</td>\n",
       "      <td>0.0</td>\n",
       "      <td>0.0</td>\n",
       "      <td>0.0</td>\n",
       "      <td>0.0</td>\n",
       "      <td>106.640374</td>\n",
       "      <td>0.0</td>\n",
       "      <td>19.50885</td>\n",
       "      <td>...</td>\n",
       "      <td>17.75149</td>\n",
       "      <td>13.91821</td>\n",
       "      <td>15.67561</td>\n",
       "      <td>13.68943</td>\n",
       "      <td>25.18848</td>\n",
       "      <td>20.34859</td>\n",
       "      <td>17.71954</td>\n",
       "      <td>16.42496</td>\n",
       "      <td>-2186.128</td>\n",
       "      <td>16152.86</td>\n",
       "    </tr>\n",
       "    <tr>\n",
       "      <th>2</th>\n",
       "      <td>0</td>\n",
       "      <td>156.934915</td>\n",
       "      <td>156.934915</td>\n",
       "      <td>0.0</td>\n",
       "      <td>0.0</td>\n",
       "      <td>0.0</td>\n",
       "      <td>0.0</td>\n",
       "      <td>156.934915</td>\n",
       "      <td>0.0</td>\n",
       "      <td>19.42596</td>\n",
       "      <td>...</td>\n",
       "      <td>17.02099</td>\n",
       "      <td>13.81508</td>\n",
       "      <td>15.29754</td>\n",
       "      <td>13.56338</td>\n",
       "      <td>23.91133</td>\n",
       "      <td>20.19725</td>\n",
       "      <td>17.81384</td>\n",
       "      <td>15.99474</td>\n",
       "      <td>-1978.839</td>\n",
       "      <td>14032.62</td>\n",
       "    </tr>\n",
       "    <tr>\n",
       "      <th>3</th>\n",
       "      <td>0</td>\n",
       "      <td>276.047085</td>\n",
       "      <td>276.047085</td>\n",
       "      <td>0.0</td>\n",
       "      <td>0.0</td>\n",
       "      <td>0.0</td>\n",
       "      <td>0.0</td>\n",
       "      <td>276.047085</td>\n",
       "      <td>0.0</td>\n",
       "      <td>19.34539</td>\n",
       "      <td>...</td>\n",
       "      <td>15.69810</td>\n",
       "      <td>13.59145</td>\n",
       "      <td>14.69699</td>\n",
       "      <td>13.46056</td>\n",
       "      <td>21.29308</td>\n",
       "      <td>19.91594</td>\n",
       "      <td>18.11782</td>\n",
       "      <td>15.26266</td>\n",
       "      <td>-2450.686</td>\n",
       "      <td>7044.73</td>\n",
       "    </tr>\n",
       "    <tr>\n",
       "      <th>4</th>\n",
       "      <td>0</td>\n",
       "      <td>236.931201</td>\n",
       "      <td>236.931201</td>\n",
       "      <td>0.0</td>\n",
       "      <td>0.0</td>\n",
       "      <td>0.0</td>\n",
       "      <td>0.0</td>\n",
       "      <td>236.931201</td>\n",
       "      <td>0.0</td>\n",
       "      <td>19.35753</td>\n",
       "      <td>...</td>\n",
       "      <td>16.10460</td>\n",
       "      <td>13.66704</td>\n",
       "      <td>14.86830</td>\n",
       "      <td>13.47079</td>\n",
       "      <td>22.15153</td>\n",
       "      <td>20.00648</td>\n",
       "      <td>18.00623</td>\n",
       "      <td>15.48045</td>\n",
       "      <td>-2037.760</td>\n",
       "      <td>9664.04</td>\n",
       "    </tr>\n",
       "  </tbody>\n",
       "</table>\n",
       "<p>5 rows × 42 columns</p>\n",
       "</div>"
      ],
      "text/plain": [
       "        failed_flag         phi    meas_phi  regul_phi  TRAVEL_FORE  \\\n",
       "run_id                                                                \n",
       "0                 0   34.188207   34.188207        0.0          0.0   \n",
       "1                 0  106.640374  106.640374        0.0          0.0   \n",
       "2                 0  156.934915  156.934915        0.0          0.0   \n",
       "3                 0  276.047085  276.047085        0.0          0.0   \n",
       "4                 0  236.931201  236.931201        0.0          0.0   \n",
       "\n",
       "        HEAD_FORE  FLUX_FORE    HEAD_CAL  FLUX_CAL   CR03C16     ...       \\\n",
       "run_id                                                           ...        \n",
       "0             0.0        0.0   34.188207       0.0  19.65175     ...        \n",
       "1             0.0        0.0  106.640374       0.0  19.50885     ...        \n",
       "2             0.0        0.0  156.934915       0.0  19.42596     ...        \n",
       "3             0.0        0.0  276.047085       0.0  19.34539     ...        \n",
       "4             0.0        0.0  236.931201       0.0  19.35753     ...        \n",
       "\n",
       "          FR27C7   FR30C16    FR34C8   FR35C11   FR02C02   FR01C13   FR09C15  \\\n",
       "run_id                                                                         \n",
       "0       19.62833  14.28030  16.64464  13.92781  28.45563  20.77822  17.24020   \n",
       "1       17.75149  13.91821  15.67561  13.68943  25.18848  20.34859  17.71954   \n",
       "2       17.02099  13.81508  15.29754  13.56338  23.91133  20.19725  17.81384   \n",
       "3       15.69810  13.59145  14.69699  13.46056  21.29308  19.91594  18.11782   \n",
       "4       16.10460  13.66704  14.86830  13.47079  22.15153  20.00648  18.00623   \n",
       "\n",
       "         FR25C10  RIVFLUX_FORE  TRAVEL_TIME  \n",
       "run_id                                       \n",
       "0       17.55951     -2092.202     24967.56  \n",
       "1       16.42496     -2186.128     16152.86  \n",
       "2       15.99474     -1978.839     14032.62  \n",
       "3       15.26266     -2450.686      7044.73  \n",
       "4       15.48045     -2037.760      9664.04  \n",
       "\n",
       "[5 rows x 42 columns]"
      ]
     },
     "execution_count": 23,
     "metadata": {},
     "output_type": "execute_result"
    }
   ],
   "source": [
    "df_out = pd.read_csv(\"sweep_out.csv\",index_col=0)\n",
    "df_out = df_out.loc[df_out.failed_flag==0,:] #drop an failed runs\n",
    "df_out.head()"
   ]
  },
  {
   "cell_type": "code",
   "execution_count": 24,
   "metadata": {
    "collapsed": false
   },
   "outputs": [
    {
     "data": {
      "text/plain": [
       "<matplotlib.axes._subplots.AxesSubplot at 0x118406518>"
      ]
     },
     "execution_count": 24,
     "metadata": {},
     "output_type": "execute_result"
    },
    {
     "data": {
      "image/png": "[encoded data removed]",
      "text/plain": [
       "<matplotlib.figure.Figure at 0x1186acac8>"
      ]
     },
     "metadata": {},
     "output_type": "display_data"
    }
   ],
   "source": [
    "df_out.phi.hist()"
   ]
  },
  {
   "cell_type": "markdown",
   "metadata": {},
   "source": [
    "## PAY ATTENTION:  this is super important - we are choosing which realizations we consider ``good enough`` with respect to fitting the observation data"
   ]
  },
  {
   "cell_type": "code",
   "execution_count": 37,
   "metadata": {
    "collapsed": false
   },
   "outputs": [
    {
     "name": "stdout",
     "output_type": "stream",
     "text": [
      "[  0   9  13  15  20  30  36  42  58  61  65  75  84  85 101 103 106 119\n",
      " 124 154 155 186 188 189 196 205 211 212 215 236 248 257 262 268 274 284\n",
      " 285 291 292 294 295 296 301 303 314 322 331 333 354 356 359 361 363 373\n",
      " 374 380 392 398 403 408 410 415 418 423 430 436 447 453 458 463 465 466\n",
      " 469 492 496 515 518 519 524 533 546 549 564 566 582 588 602 606 608 611\n",
      " 616 625 632 639 657 661 676 685 688 690 692 695 702 711 720 721 736 742\n",
      " 745 750 753 754 774 790 795 801 804 834 839 844 853 858 862 869 881 883\n",
      " 885 902 907 910 915 917 921 932 950 952 956 965 982 998]\n"
     ]
    }
   ],
   "source": [
    "acceptable_phi = 35.0\n",
    "good_enough = df_out.loc[df_out.phi<acceptable_phi].index.values\n",
    "print(good_enough)"
   ]
  },
  {
   "cell_type": "code",
   "execution_count": 38,
   "metadata": {
    "collapsed": false
   },
   "outputs": [
    {
     "data": {
      "text/plain": [
       "<matplotlib.axes._subplots.AxesSubplot at 0x1186168d0>"
      ]
     },
     "execution_count": 38,
     "metadata": {},
     "output_type": "execute_result"
    },
    {
     "data": {
      "image/png": "[encoded data removed]",
      "text/plain": [
       "<matplotlib.figure.Figure at 0x11961fe80>"
      ]
     },
     "metadata": {},
     "output_type": "display_data"
    }
   ],
   "source": [
    "ax = df_out.TRAVEL_TIME.hist(alpha=0.5,color='0.5',normed=True)\n",
    "ax.set_yticklabels([])\n",
    "df_out.loc[good_enough,\"TRAVEL_TIME\"].hist(ax=ax,alpha=0.5,color='b',normed=True)"
   ]
  },
  {
   "cell_type": "code",
   "execution_count": 39,
   "metadata": {
    "collapsed": false
   },
   "outputs": [
    {
     "data": {
      "text/plain": [
       "[]"
      ]
     },
     "execution_count": 39,
     "metadata": {},
     "output_type": "execute_result"
    },
    {
     "data": {
      "image/png": "[encoded data removed]",
      "text/plain": [
       "<matplotlib.figure.Figure at 0x1185721d0>"
      ]
     },
     "metadata": {},
     "output_type": "display_data"
    }
   ],
   "source": [
    "ax = df_out.RIVFLUX_FORE.hist(alpha=0.5,color=\"0.5\",normed=True)\n",
    "df_out.loc[good_enough,\"RIVFLUX_FORE\"].hist(ax=ax,color='b',alpha=0.5,normed=True)\n",
    "ax.set_yticklabels([])"
   ]
  },
  {
   "cell_type": "code",
   "execution_count": 40,
   "metadata": {
    "collapsed": false
   },
   "outputs": [
    {
     "data": {
      "text/plain": [
       "[]"
      ]
     },
     "execution_count": 40,
     "metadata": {},
     "output_type": "execute_result"
    },
    {
     "data": {
      "image/png": "[encoded data removed]",
      "text/plain": [
       "<matplotlib.figure.Figure at 0x11859a978>"
      ]
     },
     "metadata": {},
     "output_type": "display_data"
    }
   ],
   "source": [
    "ax = df_out.FR03C16.hist(alpha=0.5,color=\"0.5\",normed=True)\n",
    "df_out.loc[good_enough,\"FR03C16\"].hist(ax=ax,color='b',alpha=0.5,normed=True)\n",
    "ax.set_yticklabels([])"
   ]
  },
  {
   "cell_type": "code",
   "execution_count": null,
   "metadata": {
    "collapsed": true
   },
   "outputs": [],
   "source": []
  }
 ],
 "metadata": {
  "anaconda-cloud": {},
  "kernelspec": {
   "display_name": "Python 3",
   "language": "python",
   "name": "python3"
  },
  "language_info": {
   "codemirror_mode": {
    "name": "ipython",
    "version": 3
   },
   "file_extension": ".py",
   "mimetype": "text/x-python",
   "name": "python",
   "nbconvert_exporter": "python",
   "pygments_lexer": "ipython3",
   "version": "3.5.2"
  }
 },
 "nbformat": 4,
 "nbformat_minor": 0
}
