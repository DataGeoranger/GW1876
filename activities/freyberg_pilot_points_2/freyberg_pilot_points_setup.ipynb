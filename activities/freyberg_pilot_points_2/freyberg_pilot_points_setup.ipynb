{
 "cells": [
  {
   "cell_type": "markdown",
   "metadata": {},
   "source": [
    "### Setup Freyberg pilot points to use regularization and see what happens...\n",
    "\n",
    "With our first attempt at pilot points, we saw shitty results.  So lets see if we can fix the problem by using regularization"
   ]
  },
  {
   "cell_type": "code",
   "execution_count": 1,
   "metadata": {
    "collapsed": true
   },
   "outputs": [],
   "source": [
    "%matplotlib inline\n",
    "import os, shutil\n",
    "import sys\n",
    "sys.path.append(\"..\")\n",
    "import numpy as np\n",
    "from IPython.display import Image\n",
    "import pandas as pd\n",
    "import matplotlib.pyplot as plt\n",
    "\n",
    "import flopy as flopy\n",
    "import pyemu"
   ]
  },
  {
   "cell_type": "code",
   "execution_count": 2,
   "metadata": {},
   "outputs": [
    {
     "name": "stdout",
     "output_type": "stream",
     "text": [
      "['.DS_Store', 'botm.ref', 'extract_zone_array.py', 'forecasts_true.csv', 'freyberg.bas', 'freyberg.dbf', 'freyberg.dis', 'freyberg.hds', 'freyberg.heads', 'freyberg.heads_potobs.ins', 'freyberg.hyd', 'freyberg.list', 'freyberg.locations', 'freyberg.mpbas', 'freyberg.mpenpt', 'freyberg.mplist', 'freyberg.mpnam', 'freyberg.mppthln', 'freyberg.mpsim', 'freyberg.oc', 'freyberg.pcg', 'freyberg.rivflux', 'freyberg.shp', 'freyberg.shx', 'freyberg.travel', 'freyberg.truth.lpf', 'freyberg.truth.nam', 'freyberg.truth.rch', 'freyberg.truth.riv', 'freyberg.truth.wel', 'hk.truth.ref', 'hk.zones', 'ibound.ref', 'kzone.ref', 'mpath.in', 'potobs_group.csv', 'Process_output.py', 'really_noisy_heads.txt', 'run_true_model.py', 'strt.ref', 'Weights_and_best_PHI.xlsx']\n",
      "\n",
      "changing model workspace...\n",
      "   freyberg_pp\n",
      "WARNING: unit 31 of package UPW already in use\n",
      "FloPy is using the following executable to run the model: /Users/jwhite/Dev/GW1876/activities/freyberg_pilot_points_2/freyberg_pp/mfnwt\n",
      "\n",
      "                                  MODFLOW-NWT-SWR1 \n",
      "    U.S. GEOLOGICAL SURVEY MODULAR FINITE-DIFFERENCE GROUNDWATER-FLOW MODEL\n",
      "                             WITH NEWTON FORMULATION\n",
      "                             Version 1.1.1, 7/21/2016                        \n",
      "                    BASED ON MODFLOW-2005 Version 1.11.0 08/08/2013                       \n",
      "\n",
      "                    SWR1 Version 1.04.0 07/21/2016                       \n",
      "\n",
      " Using NAME file: freyberg.nam \n",
      " Run start date and time (yyyy/mm/dd hh:mm:ss): 2017/09/01 15:54:56\n",
      "\n",
      " Solving:  Stress period:     1    Time step:     1    Groundwater-Flow Eqn.\n",
      " Solving:  Stress period:     2    Time step:     1    Groundwater-Flow Eqn.\n",
      " Solving:  Stress period:     3    Time step:     1    Groundwater-Flow Eqn.\n",
      " Run end date and time (yyyy/mm/dd hh:mm:ss): 2017/09/01 15:54:56\n",
      " Elapsed run time:  0.023 Seconds\n",
      "\n",
      "  Normal termination of simulation\n",
      "run():./mp6 freyberg.mpsim\n",
      "Util2d:delr: resetting 'how' to external\n",
      "Util2d:delc: resetting 'how' to external\n",
      "Util2d:model_top: resetting 'how' to external\n",
      "Util2d:botm_layer_0: resetting 'how' to external\n",
      "Util2d:ibound_layer_0: resetting 'how' to external\n",
      "Util2d:strt_layer_0: resetting 'how' to external\n",
      "Util2d:rech_1: resetting 'how' to external\n",
      "Util2d:rech_2: resetting 'how' to external\n",
      "Util2d:rech_3: resetting 'how' to external\n",
      "Util2d:hk layer 1: resetting 'how' to external\n",
      "Util2d:vk: resetting 'how' to external\n",
      "Util2d:ss: resetting 'how' to external\n",
      "Util2d:ss: resetting 'how' to external\n",
      "FloPy is using the following executable to run the model: /Users/jwhite/Dev/GW1876/activities/freyberg_pilot_points_2/freyberg_pp/mfnwt\n",
      "\n",
      "                                  MODFLOW-NWT-SWR1 \n",
      "    U.S. GEOLOGICAL SURVEY MODULAR FINITE-DIFFERENCE GROUNDWATER-FLOW MODEL\n",
      "                             WITH NEWTON FORMULATION\n",
      "                             Version 1.1.1, 7/21/2016                        \n",
      "                    BASED ON MODFLOW-2005 Version 1.11.0 08/08/2013                       \n",
      "\n",
      "                    SWR1 Version 1.04.0 07/21/2016                       \n",
      "\n",
      " Using NAME file: freyberg.nam \n",
      " Run start date and time (yyyy/mm/dd hh:mm:ss): 2017/09/01 15:54:56\n",
      "\n",
      " Solving:  Stress period:     1    Time step:     1    Groundwater-Flow Eqn.\n",
      " Solving:  Stress period:     2    Time step:     1    Groundwater-Flow Eqn.\n",
      " Solving:  Stress period:     3    Time step:     1    Groundwater-Flow Eqn.\n",
      " Run end date and time (yyyy/mm/dd hh:mm:ss): 2017/09/01 15:54:56\n",
      " Elapsed run time:  0.025 Seconds\n",
      "\n",
      "  Normal termination of simulation\n",
      "Starting to read HYDMOD data from freyberg.hyd.bin\n",
      "Starting to read HYDMOD data from freyberg.hyd.bin.truth\n",
      "run():./inschek flux.dat.ins flux.dat\n",
      "run():./inschek vol.dat.ins vol.dat\n",
      "run():./inschek flux.dat.ins flux.dat\n",
      "run():./inschek vol.dat.ins vol.dat\n",
      "run():./inschek flux.dat.ins flux.dat\n",
      "run():./inschek freyberg.hyd.bin.dat.ins freyberg.hyd.bin.dat\n"
     ]
    },
    {
     "name": "stderr",
     "output_type": "stream",
     "text": [
      "/Users/jwhite/Dev/python/pyemu/pyemu/pst/pst_utils.py:419: UserWarning: pst_from_io_files has moved to pyemu.helpers and is also now avaiable as a Pst class method (Pst.from_io_files())\n",
      "  \"now avaiable as a Pst class method (Pst.from_io_files())\")\n"
     ]
    },
    {
     "name": "stdout",
     "output_type": "stream",
     "text": [
      "run():./inschek freyberg.travel.ins freyberg.travel\n",
      "run():./inschek vol.dat.ins vol.dat\n",
      "starting interp point loop for 800 points\n",
      "took 2.744466 seconds\n",
      "run():./pestchek freyberg_pp.pst\n",
      "run():./pestpp freyberg_pp.init.pst\n"
     ]
    }
   ],
   "source": [
    "import freyberg_setup as fs\n",
    "fs.setup_pest_pp()\n",
    "working_dir = fs.WORKING_DIR_PP\n",
    "pst_name = fs.PST_NAME_PP"
   ]
  },
  {
   "cell_type": "code",
   "execution_count": 3,
   "metadata": {
    "collapsed": true
   },
   "outputs": [],
   "source": [
    "pst = pyemu.Pst(os.path.join(working_dir,pst_name))"
   ]
  },
  {
   "cell_type": "markdown",
   "metadata": {},
   "source": [
    "In the ``intro_to_regularization``, we talked about two common forms of regularization.  Here we will add both types to the control file.  "
   ]
  },
  {
   "cell_type": "markdown",
   "metadata": {},
   "source": [
    "Now let's add a few preferred value equations for the recharge and well flux parameters:"
   ]
  },
  {
   "cell_type": "code",
   "execution_count": 4,
   "metadata": {},
   "outputs": [
    {
     "data": {
      "text/plain": [
       "array(['rch', 'hk', 'w0', 'w1'], dtype=object)"
      ]
     },
     "execution_count": 4,
     "metadata": {},
     "output_type": "execute_result"
    }
   ],
   "source": [
    "pst.parameter_data.pargp.unique()"
   ]
  },
  {
   "cell_type": "code",
   "execution_count": 5,
   "metadata": {
    "collapsed": true
   },
   "outputs": [],
   "source": [
    "#pyemu.helpers.zero_order_tikhonov(pst,par_groups=[\"rch\",\"w0\",\"w1\"])\n",
    "pyemu.helpers.zero_order_tikhonov(pst)"
   ]
  },
  {
   "cell_type": "code",
   "execution_count": 6,
   "metadata": {},
   "outputs": [
    {
     "data": {
      "text/html": [
       "<div>\n",
       "<style>\n",
       "    .dataframe thead tr:only-child th {\n",
       "        text-align: right;\n",
       "    }\n",
       "\n",
       "    .dataframe thead th {\n",
       "        text-align: left;\n",
       "    }\n",
       "\n",
       "    .dataframe tbody tr th {\n",
       "        vertical-align: top;\n",
       "    }\n",
       "</style>\n",
       "<table border=\"1\" class=\"dataframe\">\n",
       "  <thead>\n",
       "    <tr style=\"text-align: right;\">\n",
       "      <th></th>\n",
       "      <th>equation</th>\n",
       "      <th>obgnme</th>\n",
       "      <th>pilbl</th>\n",
       "      <th>weight</th>\n",
       "    </tr>\n",
       "    <tr>\n",
       "      <th>pilbl</th>\n",
       "      <th></th>\n",
       "      <th></th>\n",
       "      <th></th>\n",
       "      <th></th>\n",
       "    </tr>\n",
       "  </thead>\n",
       "  <tbody>\n",
       "    <tr>\n",
       "      <th>rch_0</th>\n",
       "      <td>1.0 * log(rch_0) =   0.000000E+00</td>\n",
       "      <td>regulrch</td>\n",
       "      <td>rch_0</td>\n",
       "      <td>4.507576</td>\n",
       "    </tr>\n",
       "    <tr>\n",
       "      <th>rch_1</th>\n",
       "      <td>1.0 * log(rch_1) =   0.000000E+00</td>\n",
       "      <td>regulrch</td>\n",
       "      <td>rch_1</td>\n",
       "      <td>4.507576</td>\n",
       "    </tr>\n",
       "    <tr>\n",
       "      <th>hk00</th>\n",
       "      <td>1.0 * log(hk00) =   6.989700E-01</td>\n",
       "      <td>regulhk</td>\n",
       "      <td>hk00</td>\n",
       "      <td>0.500000</td>\n",
       "    </tr>\n",
       "    <tr>\n",
       "      <th>hk01</th>\n",
       "      <td>1.0 * log(hk01) =   6.989700E-01</td>\n",
       "      <td>regulhk</td>\n",
       "      <td>hk01</td>\n",
       "      <td>0.500000</td>\n",
       "    </tr>\n",
       "    <tr>\n",
       "      <th>hk02</th>\n",
       "      <td>1.0 * log(hk02) =   6.989700E-01</td>\n",
       "      <td>regulhk</td>\n",
       "      <td>hk02</td>\n",
       "      <td>0.500000</td>\n",
       "    </tr>\n",
       "    <tr>\n",
       "      <th>hk03</th>\n",
       "      <td>1.0 * log(hk03) =   6.989700E-01</td>\n",
       "      <td>regulhk</td>\n",
       "      <td>hk03</td>\n",
       "      <td>0.500000</td>\n",
       "    </tr>\n",
       "    <tr>\n",
       "      <th>hk04</th>\n",
       "      <td>1.0 * log(hk04) =   6.989700E-01</td>\n",
       "      <td>regulhk</td>\n",
       "      <td>hk04</td>\n",
       "      <td>0.500000</td>\n",
       "    </tr>\n",
       "    <tr>\n",
       "      <th>hk05</th>\n",
       "      <td>1.0 * log(hk05) =   6.989700E-01</td>\n",
       "      <td>regulhk</td>\n",
       "      <td>hk05</td>\n",
       "      <td>0.500000</td>\n",
       "    </tr>\n",
       "    <tr>\n",
       "      <th>hk06</th>\n",
       "      <td>1.0 * log(hk06) =   6.989700E-01</td>\n",
       "      <td>regulhk</td>\n",
       "      <td>hk06</td>\n",
       "      <td>0.500000</td>\n",
       "    </tr>\n",
       "    <tr>\n",
       "      <th>hk07</th>\n",
       "      <td>1.0 * log(hk07) =   6.989700E-01</td>\n",
       "      <td>regulhk</td>\n",
       "      <td>hk07</td>\n",
       "      <td>0.500000</td>\n",
       "    </tr>\n",
       "    <tr>\n",
       "      <th>hk08</th>\n",
       "      <td>1.0 * log(hk08) =   6.989700E-01</td>\n",
       "      <td>regulhk</td>\n",
       "      <td>hk08</td>\n",
       "      <td>0.500000</td>\n",
       "    </tr>\n",
       "    <tr>\n",
       "      <th>hk09</th>\n",
       "      <td>1.0 * log(hk09) =   6.989700E-01</td>\n",
       "      <td>regulhk</td>\n",
       "      <td>hk09</td>\n",
       "      <td>0.500000</td>\n",
       "    </tr>\n",
       "    <tr>\n",
       "      <th>hk10</th>\n",
       "      <td>1.0 * log(hk10) =   6.989700E-01</td>\n",
       "      <td>regulhk</td>\n",
       "      <td>hk10</td>\n",
       "      <td>0.500000</td>\n",
       "    </tr>\n",
       "    <tr>\n",
       "      <th>hk11</th>\n",
       "      <td>1.0 * log(hk11) =   6.989700E-01</td>\n",
       "      <td>regulhk</td>\n",
       "      <td>hk11</td>\n",
       "      <td>0.500000</td>\n",
       "    </tr>\n",
       "    <tr>\n",
       "      <th>hk12</th>\n",
       "      <td>1.0 * log(hk12) =   6.989700E-01</td>\n",
       "      <td>regulhk</td>\n",
       "      <td>hk12</td>\n",
       "      <td>0.500000</td>\n",
       "    </tr>\n",
       "    <tr>\n",
       "      <th>hk13</th>\n",
       "      <td>1.0 * log(hk13) =   6.989700E-01</td>\n",
       "      <td>regulhk</td>\n",
       "      <td>hk13</td>\n",
       "      <td>0.500000</td>\n",
       "    </tr>\n",
       "    <tr>\n",
       "      <th>hk14</th>\n",
       "      <td>1.0 * log(hk14) =   6.989700E-01</td>\n",
       "      <td>regulhk</td>\n",
       "      <td>hk14</td>\n",
       "      <td>0.500000</td>\n",
       "    </tr>\n",
       "    <tr>\n",
       "      <th>hk15</th>\n",
       "      <td>1.0 * log(hk15) =   6.989700E-01</td>\n",
       "      <td>regulhk</td>\n",
       "      <td>hk15</td>\n",
       "      <td>0.500000</td>\n",
       "    </tr>\n",
       "    <tr>\n",
       "      <th>hk16</th>\n",
       "      <td>1.0 * log(hk16) =   6.989700E-01</td>\n",
       "      <td>regulhk</td>\n",
       "      <td>hk16</td>\n",
       "      <td>0.500000</td>\n",
       "    </tr>\n",
       "    <tr>\n",
       "      <th>hk17</th>\n",
       "      <td>1.0 * log(hk17) =   6.989700E-01</td>\n",
       "      <td>regulhk</td>\n",
       "      <td>hk17</td>\n",
       "      <td>0.500000</td>\n",
       "    </tr>\n",
       "    <tr>\n",
       "      <th>hk18</th>\n",
       "      <td>1.0 * log(hk18) =   6.989700E-01</td>\n",
       "      <td>regulhk</td>\n",
       "      <td>hk18</td>\n",
       "      <td>0.500000</td>\n",
       "    </tr>\n",
       "    <tr>\n",
       "      <th>hk19</th>\n",
       "      <td>1.0 * log(hk19) =   6.989700E-01</td>\n",
       "      <td>regulhk</td>\n",
       "      <td>hk19</td>\n",
       "      <td>0.500000</td>\n",
       "    </tr>\n",
       "    <tr>\n",
       "      <th>hk20</th>\n",
       "      <td>1.0 * log(hk20) =   6.989700E-01</td>\n",
       "      <td>regulhk</td>\n",
       "      <td>hk20</td>\n",
       "      <td>0.500000</td>\n",
       "    </tr>\n",
       "    <tr>\n",
       "      <th>hk21</th>\n",
       "      <td>1.0 * log(hk21) =   6.989700E-01</td>\n",
       "      <td>regulhk</td>\n",
       "      <td>hk21</td>\n",
       "      <td>0.500000</td>\n",
       "    </tr>\n",
       "    <tr>\n",
       "      <th>hk22</th>\n",
       "      <td>1.0 * log(hk22) =   6.989700E-01</td>\n",
       "      <td>regulhk</td>\n",
       "      <td>hk22</td>\n",
       "      <td>0.500000</td>\n",
       "    </tr>\n",
       "    <tr>\n",
       "      <th>hk23</th>\n",
       "      <td>1.0 * log(hk23) =   6.989700E-01</td>\n",
       "      <td>regulhk</td>\n",
       "      <td>hk23</td>\n",
       "      <td>0.500000</td>\n",
       "    </tr>\n",
       "    <tr>\n",
       "      <th>hk24</th>\n",
       "      <td>1.0 * log(hk24) =   6.989700E-01</td>\n",
       "      <td>regulhk</td>\n",
       "      <td>hk24</td>\n",
       "      <td>0.500000</td>\n",
       "    </tr>\n",
       "    <tr>\n",
       "      <th>hk25</th>\n",
       "      <td>1.0 * log(hk25) =   6.989700E-01</td>\n",
       "      <td>regulhk</td>\n",
       "      <td>hk25</td>\n",
       "      <td>0.500000</td>\n",
       "    </tr>\n",
       "    <tr>\n",
       "      <th>hk26</th>\n",
       "      <td>1.0 * log(hk26) =   6.989700E-01</td>\n",
       "      <td>regulhk</td>\n",
       "      <td>hk26</td>\n",
       "      <td>0.500000</td>\n",
       "    </tr>\n",
       "    <tr>\n",
       "      <th>hk27</th>\n",
       "      <td>1.0 * log(hk27) =   6.989700E-01</td>\n",
       "      <td>regulhk</td>\n",
       "      <td>hk27</td>\n",
       "      <td>0.500000</td>\n",
       "    </tr>\n",
       "    <tr>\n",
       "      <th>hk28</th>\n",
       "      <td>1.0 * log(hk28) =   6.989700E-01</td>\n",
       "      <td>regulhk</td>\n",
       "      <td>hk28</td>\n",
       "      <td>0.500000</td>\n",
       "    </tr>\n",
       "    <tr>\n",
       "      <th>hk29</th>\n",
       "      <td>1.0 * log(hk29) =   6.989700E-01</td>\n",
       "      <td>regulhk</td>\n",
       "      <td>hk29</td>\n",
       "      <td>0.500000</td>\n",
       "    </tr>\n",
       "    <tr>\n",
       "      <th>hk30</th>\n",
       "      <td>1.0 * log(hk30) =   6.989700E-01</td>\n",
       "      <td>regulhk</td>\n",
       "      <td>hk30</td>\n",
       "      <td>0.500000</td>\n",
       "    </tr>\n",
       "    <tr>\n",
       "      <th>hk31</th>\n",
       "      <td>1.0 * log(hk31) =   6.989700E-01</td>\n",
       "      <td>regulhk</td>\n",
       "      <td>hk31</td>\n",
       "      <td>0.500000</td>\n",
       "    </tr>\n",
       "    <tr>\n",
       "      <th>hk32</th>\n",
       "      <td>1.0 * log(hk32) =   6.989700E-01</td>\n",
       "      <td>regulhk</td>\n",
       "      <td>hk32</td>\n",
       "      <td>0.500000</td>\n",
       "    </tr>\n",
       "    <tr>\n",
       "      <th>hk33</th>\n",
       "      <td>1.0 * log(hk33) =   6.989700E-01</td>\n",
       "      <td>regulhk</td>\n",
       "      <td>hk33</td>\n",
       "      <td>0.500000</td>\n",
       "    </tr>\n",
       "    <tr>\n",
       "      <th>hk34</th>\n",
       "      <td>1.0 * log(hk34) =   6.989700E-01</td>\n",
       "      <td>regulhk</td>\n",
       "      <td>hk34</td>\n",
       "      <td>0.500000</td>\n",
       "    </tr>\n",
       "    <tr>\n",
       "      <th>hk35</th>\n",
       "      <td>1.0 * log(hk35) =   6.989700E-01</td>\n",
       "      <td>regulhk</td>\n",
       "      <td>hk35</td>\n",
       "      <td>0.500000</td>\n",
       "    </tr>\n",
       "    <tr>\n",
       "      <th>hk36</th>\n",
       "      <td>1.0 * log(hk36) =   6.989700E-01</td>\n",
       "      <td>regulhk</td>\n",
       "      <td>hk36</td>\n",
       "      <td>0.500000</td>\n",
       "    </tr>\n",
       "    <tr>\n",
       "      <th>hk37</th>\n",
       "      <td>1.0 * log(hk37) =   6.989700E-01</td>\n",
       "      <td>regulhk</td>\n",
       "      <td>hk37</td>\n",
       "      <td>0.500000</td>\n",
       "    </tr>\n",
       "    <tr>\n",
       "      <th>hk38</th>\n",
       "      <td>1.0 * log(hk38) =   6.989700E-01</td>\n",
       "      <td>regulhk</td>\n",
       "      <td>hk38</td>\n",
       "      <td>0.500000</td>\n",
       "    </tr>\n",
       "    <tr>\n",
       "      <th>hk39</th>\n",
       "      <td>1.0 * log(hk39) =   6.989700E-01</td>\n",
       "      <td>regulhk</td>\n",
       "      <td>hk39</td>\n",
       "      <td>0.500000</td>\n",
       "    </tr>\n",
       "    <tr>\n",
       "      <th>hk40</th>\n",
       "      <td>1.0 * log(hk40) =   6.989700E-01</td>\n",
       "      <td>regulhk</td>\n",
       "      <td>hk40</td>\n",
       "      <td>0.500000</td>\n",
       "    </tr>\n",
       "    <tr>\n",
       "      <th>hk41</th>\n",
       "      <td>1.0 * log(hk41) =   6.989700E-01</td>\n",
       "      <td>regulhk</td>\n",
       "      <td>hk41</td>\n",
       "      <td>0.500000</td>\n",
       "    </tr>\n",
       "    <tr>\n",
       "      <th>hk42</th>\n",
       "      <td>1.0 * log(hk42) =   6.989700E-01</td>\n",
       "      <td>regulhk</td>\n",
       "      <td>hk42</td>\n",
       "      <td>0.500000</td>\n",
       "    </tr>\n",
       "    <tr>\n",
       "      <th>hk43</th>\n",
       "      <td>1.0 * log(hk43) =   6.989700E-01</td>\n",
       "      <td>regulhk</td>\n",
       "      <td>hk43</td>\n",
       "      <td>0.500000</td>\n",
       "    </tr>\n",
       "    <tr>\n",
       "      <th>w0_r09_c16</th>\n",
       "      <td>1.0 * log(w0_r09_c16) =   0.000000E+00</td>\n",
       "      <td>regulw0</td>\n",
       "      <td>w0_r09_c16</td>\n",
       "      <td>4.507576</td>\n",
       "    </tr>\n",
       "    <tr>\n",
       "      <th>w0_r11_c13</th>\n",
       "      <td>1.0 * log(w0_r11_c13) =   0.000000E+00</td>\n",
       "      <td>regulw0</td>\n",
       "      <td>w0_r11_c13</td>\n",
       "      <td>4.507576</td>\n",
       "    </tr>\n",
       "    <tr>\n",
       "      <th>w0_r20_c14</th>\n",
       "      <td>1.0 * log(w0_r20_c14) =   0.000000E+00</td>\n",
       "      <td>regulw0</td>\n",
       "      <td>w0_r20_c14</td>\n",
       "      <td>4.507576</td>\n",
       "    </tr>\n",
       "    <tr>\n",
       "      <th>w0_r26_c10</th>\n",
       "      <td>1.0 * log(w0_r26_c10) =   0.000000E+00</td>\n",
       "      <td>regulw0</td>\n",
       "      <td>w0_r26_c10</td>\n",
       "      <td>4.507576</td>\n",
       "    </tr>\n",
       "    <tr>\n",
       "      <th>w0_r29_c06</th>\n",
       "      <td>1.0 * log(w0_r29_c06) =   0.000000E+00</td>\n",
       "      <td>regulw0</td>\n",
       "      <td>w0_r29_c06</td>\n",
       "      <td>4.507576</td>\n",
       "    </tr>\n",
       "    <tr>\n",
       "      <th>w0_r34_c12</th>\n",
       "      <td>1.0 * log(w0_r34_c12) =   0.000000E+00</td>\n",
       "      <td>regulw0</td>\n",
       "      <td>w0_r34_c12</td>\n",
       "      <td>4.507576</td>\n",
       "    </tr>\n",
       "    <tr>\n",
       "      <th>w1_r09_c16</th>\n",
       "      <td>1.0 * log(w1_r09_c16) =   0.000000E+00</td>\n",
       "      <td>regulw1</td>\n",
       "      <td>w1_r09_c16</td>\n",
       "      <td>4.507576</td>\n",
       "    </tr>\n",
       "    <tr>\n",
       "      <th>w1_r11_c13</th>\n",
       "      <td>1.0 * log(w1_r11_c13) =   0.000000E+00</td>\n",
       "      <td>regulw1</td>\n",
       "      <td>w1_r11_c13</td>\n",
       "      <td>4.507576</td>\n",
       "    </tr>\n",
       "    <tr>\n",
       "      <th>w1_r20_c14</th>\n",
       "      <td>1.0 * log(w1_r20_c14) =   0.000000E+00</td>\n",
       "      <td>regulw1</td>\n",
       "      <td>w1_r20_c14</td>\n",
       "      <td>4.507576</td>\n",
       "    </tr>\n",
       "    <tr>\n",
       "      <th>w1_r26_c10</th>\n",
       "      <td>1.0 * log(w1_r26_c10) =   0.000000E+00</td>\n",
       "      <td>regulw1</td>\n",
       "      <td>w1_r26_c10</td>\n",
       "      <td>4.507576</td>\n",
       "    </tr>\n",
       "    <tr>\n",
       "      <th>w1_r29_c06</th>\n",
       "      <td>1.0 * log(w1_r29_c06) =   0.000000E+00</td>\n",
       "      <td>regulw1</td>\n",
       "      <td>w1_r29_c06</td>\n",
       "      <td>4.507576</td>\n",
       "    </tr>\n",
       "    <tr>\n",
       "      <th>w1_r34_c12</th>\n",
       "      <td>1.0 * log(w1_r34_c12) =   0.000000E+00</td>\n",
       "      <td>regulw1</td>\n",
       "      <td>w1_r34_c12</td>\n",
       "      <td>4.507576</td>\n",
       "    </tr>\n",
       "  </tbody>\n",
       "</table>\n",
       "</div>"
      ],
      "text/plain": [
       "                                          equation    obgnme       pilbl  \\\n",
       "pilbl                                                                      \n",
       "rch_0            1.0 * log(rch_0) =   0.000000E+00  regulrch       rch_0   \n",
       "rch_1            1.0 * log(rch_1) =   0.000000E+00  regulrch       rch_1   \n",
       "hk00              1.0 * log(hk00) =   6.989700E-01   regulhk        hk00   \n",
       "hk01              1.0 * log(hk01) =   6.989700E-01   regulhk        hk01   \n",
       "hk02              1.0 * log(hk02) =   6.989700E-01   regulhk        hk02   \n",
       "hk03              1.0 * log(hk03) =   6.989700E-01   regulhk        hk03   \n",
       "hk04              1.0 * log(hk04) =   6.989700E-01   regulhk        hk04   \n",
       "hk05              1.0 * log(hk05) =   6.989700E-01   regulhk        hk05   \n",
       "hk06              1.0 * log(hk06) =   6.989700E-01   regulhk        hk06   \n",
       "hk07              1.0 * log(hk07) =   6.989700E-01   regulhk        hk07   \n",
       "hk08              1.0 * log(hk08) =   6.989700E-01   regulhk        hk08   \n",
       "hk09              1.0 * log(hk09) =   6.989700E-01   regulhk        hk09   \n",
       "hk10              1.0 * log(hk10) =   6.989700E-01   regulhk        hk10   \n",
       "hk11              1.0 * log(hk11) =   6.989700E-01   regulhk        hk11   \n",
       "hk12              1.0 * log(hk12) =   6.989700E-01   regulhk        hk12   \n",
       "hk13              1.0 * log(hk13) =   6.989700E-01   regulhk        hk13   \n",
       "hk14              1.0 * log(hk14) =   6.989700E-01   regulhk        hk14   \n",
       "hk15              1.0 * log(hk15) =   6.989700E-01   regulhk        hk15   \n",
       "hk16              1.0 * log(hk16) =   6.989700E-01   regulhk        hk16   \n",
       "hk17              1.0 * log(hk17) =   6.989700E-01   regulhk        hk17   \n",
       "hk18              1.0 * log(hk18) =   6.989700E-01   regulhk        hk18   \n",
       "hk19              1.0 * log(hk19) =   6.989700E-01   regulhk        hk19   \n",
       "hk20              1.0 * log(hk20) =   6.989700E-01   regulhk        hk20   \n",
       "hk21              1.0 * log(hk21) =   6.989700E-01   regulhk        hk21   \n",
       "hk22              1.0 * log(hk22) =   6.989700E-01   regulhk        hk22   \n",
       "hk23              1.0 * log(hk23) =   6.989700E-01   regulhk        hk23   \n",
       "hk24              1.0 * log(hk24) =   6.989700E-01   regulhk        hk24   \n",
       "hk25              1.0 * log(hk25) =   6.989700E-01   regulhk        hk25   \n",
       "hk26              1.0 * log(hk26) =   6.989700E-01   regulhk        hk26   \n",
       "hk27              1.0 * log(hk27) =   6.989700E-01   regulhk        hk27   \n",
       "hk28              1.0 * log(hk28) =   6.989700E-01   regulhk        hk28   \n",
       "hk29              1.0 * log(hk29) =   6.989700E-01   regulhk        hk29   \n",
       "hk30              1.0 * log(hk30) =   6.989700E-01   regulhk        hk30   \n",
       "hk31              1.0 * log(hk31) =   6.989700E-01   regulhk        hk31   \n",
       "hk32              1.0 * log(hk32) =   6.989700E-01   regulhk        hk32   \n",
       "hk33              1.0 * log(hk33) =   6.989700E-01   regulhk        hk33   \n",
       "hk34              1.0 * log(hk34) =   6.989700E-01   regulhk        hk34   \n",
       "hk35              1.0 * log(hk35) =   6.989700E-01   regulhk        hk35   \n",
       "hk36              1.0 * log(hk36) =   6.989700E-01   regulhk        hk36   \n",
       "hk37              1.0 * log(hk37) =   6.989700E-01   regulhk        hk37   \n",
       "hk38              1.0 * log(hk38) =   6.989700E-01   regulhk        hk38   \n",
       "hk39              1.0 * log(hk39) =   6.989700E-01   regulhk        hk39   \n",
       "hk40              1.0 * log(hk40) =   6.989700E-01   regulhk        hk40   \n",
       "hk41              1.0 * log(hk41) =   6.989700E-01   regulhk        hk41   \n",
       "hk42              1.0 * log(hk42) =   6.989700E-01   regulhk        hk42   \n",
       "hk43              1.0 * log(hk43) =   6.989700E-01   regulhk        hk43   \n",
       "w0_r09_c16  1.0 * log(w0_r09_c16) =   0.000000E+00   regulw0  w0_r09_c16   \n",
       "w0_r11_c13  1.0 * log(w0_r11_c13) =   0.000000E+00   regulw0  w0_r11_c13   \n",
       "w0_r20_c14  1.0 * log(w0_r20_c14) =   0.000000E+00   regulw0  w0_r20_c14   \n",
       "w0_r26_c10  1.0 * log(w0_r26_c10) =   0.000000E+00   regulw0  w0_r26_c10   \n",
       "w0_r29_c06  1.0 * log(w0_r29_c06) =   0.000000E+00   regulw0  w0_r29_c06   \n",
       "w0_r34_c12  1.0 * log(w0_r34_c12) =   0.000000E+00   regulw0  w0_r34_c12   \n",
       "w1_r09_c16  1.0 * log(w1_r09_c16) =   0.000000E+00   regulw1  w1_r09_c16   \n",
       "w1_r11_c13  1.0 * log(w1_r11_c13) =   0.000000E+00   regulw1  w1_r11_c13   \n",
       "w1_r20_c14  1.0 * log(w1_r20_c14) =   0.000000E+00   regulw1  w1_r20_c14   \n",
       "w1_r26_c10  1.0 * log(w1_r26_c10) =   0.000000E+00   regulw1  w1_r26_c10   \n",
       "w1_r29_c06  1.0 * log(w1_r29_c06) =   0.000000E+00   regulw1  w1_r29_c06   \n",
       "w1_r34_c12  1.0 * log(w1_r34_c12) =   0.000000E+00   regulw1  w1_r34_c12   \n",
       "\n",
       "              weight  \n",
       "pilbl                 \n",
       "rch_0       4.507576  \n",
       "rch_1       4.507576  \n",
       "hk00        0.500000  \n",
       "hk01        0.500000  \n",
       "hk02        0.500000  \n",
       "hk03        0.500000  \n",
       "hk04        0.500000  \n",
       "hk05        0.500000  \n",
       "hk06        0.500000  \n",
       "hk07        0.500000  \n",
       "hk08        0.500000  \n",
       "hk09        0.500000  \n",
       "hk10        0.500000  \n",
       "hk11        0.500000  \n",
       "hk12        0.500000  \n",
       "hk13        0.500000  \n",
       "hk14        0.500000  \n",
       "hk15        0.500000  \n",
       "hk16        0.500000  \n",
       "hk17        0.500000  \n",
       "hk18        0.500000  \n",
       "hk19        0.500000  \n",
       "hk20        0.500000  \n",
       "hk21        0.500000  \n",
       "hk22        0.500000  \n",
       "hk23        0.500000  \n",
       "hk24        0.500000  \n",
       "hk25        0.500000  \n",
       "hk26        0.500000  \n",
       "hk27        0.500000  \n",
       "hk28        0.500000  \n",
       "hk29        0.500000  \n",
       "hk30        0.500000  \n",
       "hk31        0.500000  \n",
       "hk32        0.500000  \n",
       "hk33        0.500000  \n",
       "hk34        0.500000  \n",
       "hk35        0.500000  \n",
       "hk36        0.500000  \n",
       "hk37        0.500000  \n",
       "hk38        0.500000  \n",
       "hk39        0.500000  \n",
       "hk40        0.500000  \n",
       "hk41        0.500000  \n",
       "hk42        0.500000  \n",
       "hk43        0.500000  \n",
       "w0_r09_c16  4.507576  \n",
       "w0_r11_c13  4.507576  \n",
       "w0_r20_c14  4.507576  \n",
       "w0_r26_c10  4.507576  \n",
       "w0_r29_c06  4.507576  \n",
       "w0_r34_c12  4.507576  \n",
       "w1_r09_c16  4.507576  \n",
       "w1_r11_c13  4.507576  \n",
       "w1_r20_c14  4.507576  \n",
       "w1_r26_c10  4.507576  \n",
       "w1_r29_c06  4.507576  \n",
       "w1_r34_c12  4.507576  "
      ]
     },
     "execution_count": 6,
     "metadata": {},
     "output_type": "execute_result"
    }
   ],
   "source": [
    "pst.prior_information"
   ]
  },
  {
   "cell_type": "markdown",
   "metadata": {},
   "source": [
    "Now, let's add preferred differnce regularization to the spatially distributed parameters"
   ]
  },
  {
   "cell_type": "code",
   "execution_count": 7,
   "metadata": {},
   "outputs": [],
   "source": [
    "# v = pyemu.geostats.ExpVario(contribution=1.0,a=2500.0)\n",
    "# gs = pyemu.geostats.GeoStruct(variograms=v,nugget=0.0)\n",
    "# df_pp = pyemu.gw_utils.pp_tpl_to_dataframe(os.path.join(working_dir,\"hkpp.dat.tpl\"))\n",
    "# cov = gs.covariance_matrix(df_pp.x,df_pp.y,df_pp.parnme)\n",
    "# pyemu.helpers.first_order_pearson_tikhonov(pst,cov,reset=False)\n",
    "# pst.prior_information"
   ]
  },
  {
   "cell_type": "markdown",
   "metadata": {},
   "source": [
    "Now we need to adjust the inputs to pest the control how regularization is enforced.  The big knob is ``phimlim``.  But first, we need to change the estimation mode to \"regularization\""
   ]
  },
  {
   "cell_type": "code",
   "execution_count": 8,
   "metadata": {},
   "outputs": [
    {
     "data": {
      "text/plain": [
       "1e-10"
      ]
     },
     "execution_count": 8,
     "metadata": {},
     "output_type": "execute_result"
    }
   ],
   "source": [
    "pst.control_data.pestmode = \"regularization\"\n",
    "pst.reg_data.phimlim"
   ]
  },
  {
   "cell_type": "markdown",
   "metadata": {},
   "source": [
    "That's no good - way too low.  Theoritically, it should be the number of non-zero weighted obs, so let's start there:"
   ]
  },
  {
   "cell_type": "code",
   "execution_count": 9,
   "metadata": {
    "collapsed": true
   },
   "outputs": [],
   "source": [
    "pst.reg_data.phimlim = pst.nnz_obs\n",
    "pst.reg_data.phimaccept = pst.nnz_obs * 1.1"
   ]
  },
  {
   "cell_type": "code",
   "execution_count": 10,
   "metadata": {},
   "outputs": [],
   "source": [
    "pst.write(os.path.join(working_dir,pst_name))"
   ]
  },
  {
   "cell_type": "code",
   "execution_count": 11,
   "metadata": {},
   "outputs": [
    {
     "name": "stdout",
     "output_type": "stream",
     "text": [
      "master:pestpp freyberg_pp.pst /h :4004 in .\n",
      "slave:pestpp freyberg_pp.pst /h localhost:4004 in ../slave_0\n",
      "slave:pestpp freyberg_pp.pst /h localhost:4004 in ../slave_1\n",
      "slave:pestpp freyberg_pp.pst /h localhost:4004 in ../slave_2\n",
      "slave:pestpp freyberg_pp.pst /h localhost:4004 in ../slave_3\n",
      "slave:pestpp freyberg_pp.pst /h localhost:4004 in ../slave_4\n",
      "slave:pestpp freyberg_pp.pst /h localhost:4004 in ../slave_5\n",
      "slave:pestpp freyberg_pp.pst /h localhost:4004 in ../slave_6\n",
      "slave:pestpp freyberg_pp.pst /h localhost:4004 in ../slave_7\n",
      "slave:pestpp freyberg_pp.pst /h localhost:4004 in ../slave_8\n",
      "slave:pestpp freyberg_pp.pst /h localhost:4004 in ../slave_9\n"
     ]
    }
   ],
   "source": [
    "os.chdir(working_dir)\n",
    "pyemu.helpers.start_slaves('.',\"pestpp\",pst_name,num_slaves=10,master_dir='.')\n",
    "os.chdir(\"..\")"
   ]
  },
  {
   "cell_type": "code",
   "execution_count": 12,
   "metadata": {},
   "outputs": [],
   "source": [
    "os.chdir(working_dir)\n",
    "pst.parrep(pst_name.replace(\".pst\",\".parb\"))\n",
    "pyemu.pst_utils.write_parvals_in_tplfiles(pst)\n",
    "pyemu.gw_utils.fac2real(\"hkpp.dat\",factors_file=\"hkpp.dat.fac\",out_file=\"hk_layer_1.ref\")\n",
    "os.chdir(\"..\")"
   ]
  },
  {
   "cell_type": "code",
   "execution_count": 13,
   "metadata": {},
   "outputs": [
    {
     "data": {
      "text/plain": [
       "(54.964363400387406, 14)"
      ]
     },
     "execution_count": 13,
     "metadata": {},
     "output_type": "execute_result"
    }
   ],
   "source": [
    "pst.phi, pst.nnz_obs"
   ]
  },
  {
   "cell_type": "markdown",
   "metadata": {},
   "source": [
    "Hmm...still not getting to the theorical (error-based) phi value...why? "
   ]
  },
  {
   "cell_type": "markdown",
   "metadata": {},
   "source": [
    "Let's see how the parameter values look"
   ]
  },
  {
   "cell_type": "code",
   "execution_count": 14,
   "metadata": {},
   "outputs": [],
   "source": [
    "df_paru = pd.read_csv(os.path.join(working_dir,pst_name.replace(\".pst\",\".par.usum.csv\")),index_col=0)"
   ]
  },
  {
   "cell_type": "code",
   "execution_count": 15,
   "metadata": {},
   "outputs": [
    {
     "data": {
      "text/plain": [
       "[<matplotlib.lines.Line2D at 0x1043badd8>]"
      ]
     },
     "execution_count": 15,
     "metadata": {},
     "output_type": "execute_result"
    },
    {
     "data": {
      "image/png": "[encoded data removed]",
      "text/plain": [
       "<matplotlib.figure.Figure at 0x11482b278>"
      ]
     },
     "metadata": {},
     "output_type": "display_data"
    }
   ],
   "source": [
    "hk_pars = [p.upper() for p in pst.par_names if p.startswith(\"hk\")]\n",
    "df_hk = df_paru.loc[hk_pars,:]\n",
    "ax = pyemu.helpers.plot_summary_distributions(df_hk,label_post=True)\n",
    "mn = np.log10(pst.parameter_data.loc[hk_pars[0].lower(),\"parlbnd\"])\n",
    "mx = np.log10(pst.parameter_data.loc[hk_pars[0].lower(),\"parubnd\"])\n",
    "ax.plot([mn,mn],ax.get_ylim(),\"k--\")\n",
    "ax.plot([mx,mx],ax.get_ylim(),\"k--\")"
   ]
  },
  {
   "cell_type": "markdown",
   "metadata": {},
   "source": [
    "Not a good sign...lots of parameters are at their bounds..."
   ]
  },
  {
   "cell_type": "code",
   "execution_count": 17,
   "metadata": {},
   "outputs": [
    {
     "data": {
      "text/plain": [
       "<matplotlib.collections.PathCollection at 0x114a53208>"
      ]
     },
     "execution_count": 17,
     "metadata": {},
     "output_type": "execute_result"
    },
    {
     "data": {
      "image/png": "[encoded data removed]",
      "text/plain": [
       "<matplotlib.figure.Figure at 0x11143dc50>"
      ]
     },
     "metadata": {},
     "output_type": "display_data"
    }
   ],
   "source": [
    "df_pp = pyemu.gw_utils.pp_tpl_to_dataframe(os.path.join(working_dir,\"hkpp.dat.tpl\"))\n",
    "m = flopy.modflow.Modflow.load(fs.MODEL_NAM,model_ws=working_dir)\n",
    "ax = m.upw.hk[0].plot(colorbar=True,alpha=0.5)\n",
    "ax.scatter(df_pp.x,df_pp.y,marker='x')"
   ]
  },
  {
   "cell_type": "code",
   "execution_count": 18,
   "metadata": {},
   "outputs": [
    {
     "data": {
      "text/plain": [
       "<matplotlib.collections.PathCollection at 0x111155128>"
      ]
     },
     "execution_count": 18,
     "metadata": {},
     "output_type": "execute_result"
    },
    {
     "data": {
      "image/png": "[encoded data removed]",
      "text/plain": [
       "<matplotlib.figure.Figure at 0x10f79dfd0>"
      ]
     },
     "metadata": {},
     "output_type": "display_data"
    }
   ],
   "source": [
    "m.upw.hk[0] = os.path.join(fs.BASE_MODEL_DIR,\"hk.truth.ref\")\n",
    "ax = m.upw.hk[0].plot(colorbar=True,alpha=0.5)\n",
    "ax.scatter(df_pp.x,df_pp.y,marker='x')"
   ]
  },
  {
   "cell_type": "markdown",
   "metadata": {},
   "source": [
    "oh no!!!!!  We are still over fit...so let's back off the fit using ``phimilim``"
   ]
  },
  {
   "cell_type": "code",
   "execution_count": 29,
   "metadata": {
    "collapsed": true
   },
   "outputs": [],
   "source": [
    "pst = pyemu.Pst(os.path.join(working_dir,pst_name))\n",
    "pst.reg_data.phimlim = 120.0\n",
    "pst.reg_data.phimaccept = 140.0\n",
    "pst.reg_data.fracphim = 0.75\n",
    "pst.write(os.path.join(working_dir,pst_name))\n"
   ]
  },
  {
   "cell_type": "code",
   "execution_count": null,
   "metadata": {},
   "outputs": [
    {
     "name": "stdout",
     "output_type": "stream",
     "text": [
      "master:pestpp freyberg_pp.pst /h :4004 in .\n",
      "slave:pestpp freyberg_pp.pst /h localhost:4004 in ../slave_0\n",
      "slave:pestpp freyberg_pp.pst /h localhost:4004 in ../slave_1\n",
      "slave:pestpp freyberg_pp.pst /h localhost:4004 in ../slave_2\n",
      "slave:pestpp freyberg_pp.pst /h localhost:4004 in ../slave_3\n",
      "slave:pestpp freyberg_pp.pst /h localhost:4004 in ../slave_4\n",
      "slave:pestpp freyberg_pp.pst /h localhost:4004 in ../slave_5\n",
      "slave:pestpp freyberg_pp.pst /h localhost:4004 in ../slave_6\n",
      "slave:pestpp freyberg_pp.pst /h localhost:4004 in ../slave_7\n",
      "slave:pestpp freyberg_pp.pst /h localhost:4004 in ../slave_8\n",
      "slave:pestpp freyberg_pp.pst /h localhost:4004 in ../slave_9\n"
     ]
    }
   ],
   "source": [
    "os.chdir(working_dir)\n",
    "pyemu.helpers.start_slaves('.',\"pestpp\",pst_name,num_slaves=10,master_dir='.')\n",
    "os.chdir(\"..\")"
   ]
  },
  {
   "cell_type": "code",
   "execution_count": null,
   "metadata": {
    "collapsed": true
   },
   "outputs": [],
   "source": [
    "os.chdir(working_dir)\n",
    "pst.parrep(pst_name.replace(\".pst\",\".parb\"))\n",
    "pyemu.pst_utils.write_parvals_in_tplfiles(pst)\n",
    "pyemu.gw_utils.fac2real(\"hkpp.dat\",factors_file=\"hkpp.dat.fac\",out_file=\"hk_layer_1.ref\")\n",
    "os.chdir(\"..\")\n"
   ]
  },
  {
   "cell_type": "code",
   "execution_count": null,
   "metadata": {},
   "outputs": [],
   "source": [
    "pst.phi"
   ]
  },
  {
   "cell_type": "code",
   "execution_count": null,
   "metadata": {},
   "outputs": [],
   "source": [
    "m = flopy.modflow.Modflow.load(fs.MODEL_NAM,model_ws=working_dir)\n",
    "ax = m.upw.hk[0].plot(colorbar=True,alpha=0.5)\n",
    "ax.scatter(df_pp.x,df_pp.y,marker='x')"
   ]
  },
  {
   "cell_type": "code",
   "execution_count": null,
   "metadata": {
    "collapsed": true
   },
   "outputs": [],
   "source": []
  },
  {
   "cell_type": "code",
   "execution_count": null,
   "metadata": {
    "collapsed": true
   },
   "outputs": [],
   "source": []
  }
 ],
 "metadata": {
  "kernelspec": {
   "display_name": "Python [Root]",
   "language": "python",
   "name": "Python [Root]"
  },
  "language_info": {
   "codemirror_mode": {
    "name": "ipython",
    "version": 3
   },
   "file_extension": ".py",
   "mimetype": "text/x-python",
   "name": "python",
   "nbconvert_exporter": "python",
   "pygments_lexer": "ipython3",
   "version": "3.5.2"
  }
 },
 "nbformat": 4,
 "nbformat_minor": 1
}
