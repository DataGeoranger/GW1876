{
 "cells": [
  {
   "cell_type": "markdown",
   "metadata": {},
   "source": [
    "# PESTCHEK is talking, are you listening?\n",
    "\n",
    "Often you'll be called on to help others with their parameter estimation problem.  You may not know a lot about the underlying model but that does not mean you can't help out - you can focus on the PEST aspects that bolt onto the actual model.  \n",
    "\n",
    "First thing to do is run PESTCHEK.  PESTCHEK is handy because, as you've seen, the PEST control file has many variables.  Most don't need to be touched, but some do.  Even then, those that should stay the same can get inadvertently touched.  Likewise, it can be hard to ensure that when you change something it's correct, and correctly rippled elsewhere in the PEST input (e.g., the counters near the top of the file). So we __always always__ run PESTCHEK before running PEST or PEST++.\n",
    "\n",
    "Some things to note:\n",
    "\n",
    "1) Currently PESTCHECK ignores PEST++ commands so it won't help you with the smaller subset of commands unique to PEST++ \n",
    "\n",
    "2) PESTCHEK will stop when it hits an error and exit. So after you fix an error you have to re-run PESTCHEK, fix, re-run PESTCHEK.  Once you are error free then you can run PEST++.\n",
    "\n",
    "\n",
    "__Objectives:__\n",
    "\n",
    "You've been given a model directory with a MODFLOW model and PEST++ files. Fix this poor, misguided PEST control file, and get their problem running a NOPTMAX=0 in PEST++\n",
    "\n"
   ]
  },
  {
   "cell_type": "markdown",
   "metadata": {},
   "source": [
    "### We provide all the model and PEST files in the \\xsec_pestchek_trouble directory. \n",
    "\n"
   ]
  },
  {
   "cell_type": "markdown",
   "metadata": {},
   "source": [
    "### Let's give it a go:\n",
    "\n",
    "1) Open up a terminal window in the /activities/xsec_pestchek_trouble subdirectoy\n",
    "\n",
    "2) In a text editor, open up __trouble.pst__\n",
    "\n",
    "3) Run __pestchek__ (Windows) or __./pestchek (Mac)__, use the pestchek errors to guide your eyes to problems in the PEST control file\n",
    "\n",
    "4) When unclear what a variable is, use Appendix 1 from SIR 2010-5169\n",
    "\n",
    "5) Correct the error, save the file, and run pestchek again\n",
    "\n",
    "6) Try running PESTCHEK without the .pst extension. What happens?\n",
    "\n",
    "7) Once error free, run PEST++ by typing \"pest++ xsec_trouble.pst\" (Windows) or \"./pestpp xsect_trouble.pst\"\n",
    "\n",
    "Here's the top of the PEST control file (though problems are included elsewhere too)\n",
    "\n",
    "\n",
    "<img src=\"2010-5169_Appendix1_PST_file.png\" style=\"float: center\">"
   ]
  },
  {
   "cell_type": "markdown",
   "metadata": {},
   "source": [
    "# Get your run?\n",
    "\n",
    "Remember PESTCHEK can't catch everything - look at the bottom of the file, compare to the PEST++ commands (we provided the instructions from the PEST++ github site, look at the file called __pest++_input.docx__)\n",
    "\n",
    "\n",
    "# Note at the bottom of the the PEST control file there is a forecast. Did the forecast get echoed in .rec file?\n",
    "\n",
    "Search __trouble.rec__ for the word 'forecast\"\n",
    "\n",
    "(__hint:__ PEST++ treats any line beginning with ++# as a comment rather than an instruction)\n"
   ]
  },
  {
   "cell_type": "markdown",
   "metadata": {
    "collapsed": true
   },
   "source": [
    "### If you get stuck ask an instructor (or compare yours to \"fixed_trouble.pst\")"
   ]
  },
  {
   "cell_type": "code",
   "execution_count": null,
   "metadata": {
    "collapsed": true
   },
   "outputs": [],
   "source": []
  }
 ],
 "metadata": {
  "anaconda-cloud": {},
  "kernelspec": {
   "display_name": "Python 3",
   "language": "python",
   "name": "python3"
  },
  "language_info": {
   "codemirror_mode": {
    "name": "ipython",
    "version": 3
   },
   "file_extension": ".py",
   "mimetype": "text/x-python",
   "name": "python",
   "nbconvert_exporter": "python",
   "pygments_lexer": "ipython3",
   "version": "3.5.3"
  }
 },
 "nbformat": 4,
 "nbformat_minor": 1
}
