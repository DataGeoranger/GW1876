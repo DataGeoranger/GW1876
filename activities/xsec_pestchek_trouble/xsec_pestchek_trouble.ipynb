{
 "cells": [
  {
   "cell_type": "markdown",
   "metadata": {},
   "source": [
    "\n",
    "# PESTCHEK is talking, are you listening?\n",
    "\n",
    "Once you get up to speed it won't be uncommon for others to send you PEST runs that need looking at. \n",
    "\n",
    "PESTCHEK will be a handy lifesaver because, as you've seen, the PEST control file has many variables.  Most don't need to be touched, but when working in the file they can get inadvertently touched.  Likewise, it can be hard to ensure that what was tweaked is entirely correct, and/or correctly rippled elsewhere in the PEST input (e.g., the counters near the top of the file). PESTCHEK also looks at template files and instruction files making sure there is perfect match between what you say is a parameter (so should be in a template file) and an observation (so should be in an instruction file) is represented in the PEST files.  So for your PEST runs, and for those sent to you, PESTCHEK is the first line of defense. \n",
    "\n",
    "### Some things to note:\n",
    "\n",
    "Currently PESTCHECK ignores PEST++ commands so it won't help you with the smaller subset of PEST \n",
    "\n",
    "PESTCHEK will stop when it hits an error and exit.  So after you fix an error you have to re-run PESTCHEK, fix, re-run PESTCHEK.  Once you are error free then you can run PEST++.\n",
    "\n"
   ]
  },
  {
   "cell_type": "markdown",
   "metadata": {},
   "source": [
    "### A modeler provided you with their run directory but PEST++ won't run.  Can you help them? \n",
    "\n",
    "\n",
    "__Objectives:__\n",
    "\n",
    "Fix this poor, troubled PEST control file, run it in PEST++"
   ]
  },
  {
   "cell_type": "markdown",
   "metadata": {},
   "source": [
    "### The easiest way to do this activity is to:\n",
    "\n",
    "1) Open up a terminal window in the /activities/xsec_pestchek_trouble subdirectoy to run pestchek\n",
    "\n",
    "2) In a text editor, open up __trouble.pst__\n",
    "\n",
    "3) Run __pestchek__ (Windows) or __./pestchek (Mac)__, use the pestchek errors to guide your eyes to problems in the PEST control file\n",
    "\n",
    "4) When unclear what a variable is, use Appendix 1 from SIR 2010-5169 (a pdf of the SIR is in your directory; hardcopy will be handed out tomorrow)\n",
    "\n",
    "5) Correct the error, save the file, and run pestchek again\n",
    "\n",
    "6) Try running PESTCHEK without the .pst extension. What happens?\n",
    "\n",
    "7) Once error free, run PEST++ by typing \"pestpp trouble.pst\" (Windows) or \"./pestpp trouble.pst\"\n",
    "\n",
    "Here's the top of the PEST control file (though problems are likely elsewhere too)\n",
    "\n",
    "\n",
    "<img src=\"2010-5169_annotated_Appendix1_PST_file.png\" style=\"float: center\">"
   ]
  },
  {
   "cell_type": "markdown",
   "metadata": {},
   "source": [
    "# Get your run?\n",
    "\n",
    "Remember PESTCHEK can't catch everything - look at the bottom of the file, compare to the PEST++ commands (we provided the instructions from the PEST++ github site, look at the file called __pest++_input.docx__)\n",
    "\n",
    "\n",
    "# Did your forecast get echoed in .rec file?\n",
    "\n",
    "Search __trouble.rec__ for the word 'forecast\"\n",
    "\n",
    "(__hint:__ PEST++ treats any line beginning with ++# as a comment rather than an instruction)\n"
   ]
  },
  {
   "cell_type": "markdown",
   "metadata": {
    "collapsed": true
   },
   "source": [
    "### If you get stuck ask an instructor (or compare yours to \"fixed_trouble.pst\")"
   ]
  },
  {
   "cell_type": "code",
   "execution_count": null,
   "metadata": {
    "collapsed": true
   },
   "outputs": [],
   "source": []
  }
 ],
 "metadata": {
  "anaconda-cloud": {},
  "kernelspec": {
   "display_name": "Python 3",
   "language": "python",
   "name": "python3"
  },
  "language_info": {
   "codemirror_mode": {
    "name": "ipython",
    "version": 3
   },
   "file_extension": ".py",
   "mimetype": "text/x-python",
   "name": "python",
   "nbconvert_exporter": "python",
   "pygments_lexer": "ipython3",
   "version": "3.6.5"
  }
 },
 "nbformat": 4,
 "nbformat_minor": 1
}
