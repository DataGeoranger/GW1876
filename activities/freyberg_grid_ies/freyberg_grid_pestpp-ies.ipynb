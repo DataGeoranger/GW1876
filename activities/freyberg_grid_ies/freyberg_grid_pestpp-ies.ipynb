{
 "cells": [
  {
   "cell_type": "markdown",
   "metadata": {},
   "source": [
    "# and now for something completely different...\n",
    "\n",
    "### During these excersizes, we have seen a traditional parameter estimation then uncertainty analysis workflow.  We also saw for the pilot points notebooks, about 500 model runs to \"calibrate\" the model and then another 500 to 1000 to find a decent set (ensemble) of realizations that fit the data acceptably well.  \n",
    "\n",
    "### But...even using pilot points as a parameterization device is a form of regularization: ideally, we would have an HK parameter in every model cell. But, that is too expensive in terms of model runs for calibration and uncertainty analysis (at least as we have learned it so far).\n",
    "\n",
    "### However, there are some new techniques that free us from these computational constraints so that we can more efficiently use lots of parameters.  One approach to this is the iterative Ensemble Smoother form of the GLM.  Let's see how this technique works for the freyberg model - a special version of the freyberg model with an HK, and recharge parameter in every cell."
   ]
  },
  {
   "cell_type": "code",
   "execution_count": null,
   "metadata": {},
   "outputs": [],
   "source": [
    "%matplotlib inline\n",
    "import os, shutil\n",
    "import sys\n",
    "sys.path.append(\"..\")\n",
    "import numpy as np\n",
    "from IPython.display import Image\n",
    "import pandas as pd\n",
    "import matplotlib.pyplot as plt\n",
    "\n",
    "import flopy as flopy\n",
    "import pyemu"
   ]
  },
  {
   "cell_type": "code",
   "execution_count": null,
   "metadata": {
    "scrolled": true
   },
   "outputs": [],
   "source": [
    "import freyberg_setup as fs\n",
    "fs.setup_pest_gr()\n",
    "working_dir = fs.WORKING_DIR_GR\n",
    "pst_name = fs.PST_NAME_GR"
   ]
  },
  {
   "cell_type": "code",
   "execution_count": null,
   "metadata": {},
   "outputs": [],
   "source": [
    "fs.plot_model(working_dir, pst_name)"
   ]
  },
  {
   "cell_type": "code",
   "execution_count": null,
   "metadata": {},
   "outputs": [],
   "source": [
    "m = flopy.modflow.Modflow.load(fs.MODEL_NAM,model_ws=working_dir,load_only=[\"upw\"],check=False)\n",
    "pst = pyemu.Pst(os.path.join(working_dir,pst_name))\n",
    "obs = pst.observation_data\n",
    "#obs.loc[obs.obgnme==\"calhead\",\"weight\"] = 0.75\n",
    "par = pst.parameter_data\n",
    "\n",
    "grid_groups = []\n",
    "grid_prefixes = ['hk','r0','r1','ss','sy']\n",
    "for prefix in grid_prefixes:\n",
    "    gr_par = par.loc[par.pargp==prefix].copy()\n",
    "    gr_par.loc[:,\"i\"] = gr_par.parnme.apply(lambda x: int(x.split('_')[1][1:]))\n",
    "    gr_par.loc[:,\"j\"] = gr_par.parnme.apply(lambda x: int(x.split('_')[2][1:]))\n",
    "    gr_par.loc[:,\"x\"] = m.sr.xcentergrid[gr_par.i,gr_par.j]\n",
    "    gr_par.loc[:,\"y\"] = m.sr.ycentergrid[gr_par.i,gr_par.j]\n",
    "    grid_groups.append(gr_par)\n"
   ]
  },
  {
   "cell_type": "code",
   "execution_count": null,
   "metadata": {},
   "outputs": [],
   "source": [
    "\"number of parameters: {0} : WTF!\".format(pst.npar)"
   ]
  },
  {
   "cell_type": "code",
   "execution_count": null,
   "metadata": {},
   "outputs": [],
   "source": [
    "v = pyemu.geostats.ExpVario(contribution=1.0,a=2500.0)\n",
    "gs = pyemu.geostats.GeoStruct(variograms=v)\n",
    "cov = pyemu.helpers.geostatistical_prior_builder(pst=pst,struct_dict={gs:grid_groups},sigma_range=6)\n",
    "cov.to_ascii(os.path.join(working_dir,\"prior.cov\"))\n",
    "plt.imshow(cov.x)"
   ]
  },
  {
   "cell_type": "markdown",
   "metadata": {},
   "source": [
    "### run pestpp-ies"
   ]
  },
  {
   "cell_type": "code",
   "execution_count": null,
   "metadata": {},
   "outputs": [],
   "source": [
    "pst.pestpp_options = {}\n",
    "pst.pestpp_options[\"ies_subset_size\"] = 8\n",
    "pst.pestpp_options[\"ies_lambda_mults\"] = [0.1,1.0,10.0]\n",
    "pst.pestpp_options['par_sigma_range'] = 6\n",
    "pst.pestpp_options[\"parcov_filename\"] = \"prior.cov\"\n",
    "pst.control_data.noptmax = 4\n",
    "pst.write(os.path.join(working_dir,pst_name))"
   ]
  },
  {
   "cell_type": "code",
   "execution_count": null,
   "metadata": {},
   "outputs": [],
   "source": [
    "pyemu.helpers.start_slaves(working_dir,\"pestpp-ies\",pst_name,num_slaves=15,master_dir=\"master\")"
   ]
  },
  {
   "cell_type": "code",
   "execution_count": null,
   "metadata": {},
   "outputs": [],
   "source": [
    "par = pd.read_csv(os.path.join(\"master\",pst_name.replace(\".pst\",\".0.par.csv\")),index_col=0)\n",
    "par.columns = par.columns.map(str.lower)"
   ]
  },
  {
   "cell_type": "code",
   "execution_count": null,
   "metadata": {},
   "outputs": [],
   "source": [
    "pyemu.plot_utils.ensemble_helper(par.iloc[:,:10])"
   ]
  },
  {
   "cell_type": "code",
   "execution_count": null,
   "metadata": {},
   "outputs": [],
   "source": [
    "for i in range(10):\n",
    "    "
   ]
  },
  {
   "cell_type": "code",
   "execution_count": null,
   "metadata": {},
   "outputs": [],
   "source": []
  }
 ],
 "metadata": {
  "anaconda-cloud": {},
  "kernelspec": {
   "display_name": "Python 3",
   "language": "python",
   "name": "python3"
  },
  "language_info": {
   "codemirror_mode": {
    "name": "ipython",
    "version": 3
   },
   "file_extension": ".py",
   "mimetype": "text/x-python",
   "name": "python",
   "nbconvert_exporter": "python",
   "pygments_lexer": "ipython3",
   "version": "3.6.4"
  }
 },
 "nbformat": 4,
 "nbformat_minor": 1
}
