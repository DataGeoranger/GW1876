{
 "cells": [
  {
   "cell_type": "code",
   "execution_count": null,
   "metadata": {
    "collapsed": false
   },
   "outputs": [],
   "source": [
    "import matplotlib.pyplot as plt\n",
    "%matplotlib inline\n",
    "import numpy as np\n",
    "import pandas as pd\n",
    "import pestools as pt\n",
    "import pyemu\n",
    "import os, shutil\n",
    "from matplotlib.backends.backend_pdf import PdfPages"
   ]
  },
  {
   "cell_type": "markdown",
   "metadata": {},
   "source": [
    "# Looking at sensitivity\n",
    "\n",
    "### We have already discussed the Jacobian matrix in a few places. Let's take a look at it more closely and see what we can learn from it and how to handle such information as the number of parameters rises."
   ]
  },
  {
   "cell_type": "markdown",
   "metadata": {},
   "source": [
    "### Let's pull in some spatial data first for plotting when we look at pilot points and make a couple plotting functions"
   ]
  },
  {
   "cell_type": "code",
   "execution_count": null,
   "metadata": {
    "collapsed": false
   },
   "outputs": [],
   "source": [
    "# observation locations\n",
    "obslox = pd.read_csv('freyberg.hyd', delim_whitespace=True, usecols = [4,5,6], \n",
    "                     index_col=2, skiprows = 1, header=None, names=['X','Y','obsname'])\n",
    "# parameter locations\n",
    "parlox = pd.read_csv('points1.dat.tpl', delim_whitespace=True, usecols=[0,1,2],\n",
    "                    index_col=0, skiprows=1, header=None, names=['parname','X','Y'])"
   ]
  },
  {
   "cell_type": "code",
   "execution_count": null,
   "metadata": {
    "collapsed": true
   },
   "outputs": [],
   "source": [
    "def plot_Jacobian(jac, figsize, cmap='viridis',logtrans=True):\n",
    "    f = plt.figure(figsize=figsize)\n",
    "    ax = plt.axes([0, 0.05, 0.9, 0.9 ]) #left, bottom, width, height\n",
    "    if logtrans:\n",
    "        jcdata=np.log(np.abs(jac.df()))\n",
    "    else:\n",
    "        jcdata=jac.df()\n",
    "    im = ax.imshow(jcdata, interpolation='nearest', cmap=cmap, aspect='auto')\n",
    "    plt.xticks(range(len(jac.col_names)), jac.col_names, rotation=90)\n",
    "    plt.yticks(range(len(jac.row_names)), jac.row_names)\n",
    "    \n",
    "    ax.grid(False)\n",
    "    cax = plt.axes([0.95, 0.05, 0.05,0.9 ])\n",
    "    plt.colorbar(mappable=im, cax=cax)"
   ]
  },
  {
   "cell_type": "code",
   "execution_count": null,
   "metadata": {
    "collapsed": true
   },
   "outputs": [],
   "source": [
    "def spatial_plot_sens(jac,cobs, obslox, parlox, figsize=(4,7)):\n",
    "    sens = jac.df().loc[cobs]\n",
    "    sens.drop('rch1',inplace=1)\n",
    "    fig=plt.figure(figsize=figsize)\n",
    "    plt.plot(parlox.X,parlox.Y,'kd',markersize=.8)\n",
    "    scalefactor=5\n",
    "    if 'flux' not in cobs:\n",
    "        coblox = obslox.loc[cobs]\n",
    "        plt.plot(coblox.X,coblox.Y,'kx', markersize=10)\n",
    "        scalefactor=1000    \n",
    "    plt.scatter(parlox.X,parlox.Y, s=np.abs(sens.values)*scalefactor, c=sens.values, cmap='viridis')\n",
    "    plt.axis('equal')\n",
    "    plt.colorbar()\n",
    "    plt.title('Sensitivity for {0}'.format(cobs))\n",
    "    plt.xlim(0,5000)\n",
    "    plt.ylim(0,10000)\n",
    "    plt.axis('off')\n",
    "    return fig"
   ]
  },
  {
   "cell_type": "markdown",
   "metadata": {},
   "source": [
    "### Look at the Jacobian matrix---gradients of parameters wrt. observations\n",
    "\n",
    "For each parameter-observation combination, we can see how much the observation value changes due to a small change in the parameter. If $y$ are the observations and $x$ are the parameters, the equation for the $i^th$ observation with respect to the $j^th$ parameter is:  \n",
    "## $\\frac{\\partial y_i}{\\partial x_j}$\n",
    "This can be approximated by finite differences as :  \n",
    "## $\\frac{\\partial y_i}{\\partial x_j}~\\frac{y\\left(x+\\Delta x \\right)-y\\left(x\\right)}{\\Delta x}$"
   ]
  },
  {
   "cell_type": "markdown",
   "metadata": {},
   "source": [
    "### First we can read in a couple Jacobian matrices -- one from our simple model, and one from a more complex one"
   ]
  },
  {
   "cell_type": "code",
   "execution_count": null,
   "metadata": {
    "collapsed": false
   },
   "outputs": [],
   "source": [
    "jac_simple = pyemu.Jco.from_binary(os.path.join('..','..','models','Freyberg','Freyberg_K_and_R','freyberg.jcb'))\n",
    "jac_complex = pyemu.Jco.from_binary(os.path.join('..','..','models','Freyberg','Freyberg_pilotpoints','freyberg_pp_reg_phimlim26.jcb'))"
   ]
  },
  {
   "cell_type": "code",
   "execution_count": null,
   "metadata": {
    "collapsed": true
   },
   "outputs": [],
   "source": []
  },
  {
   "cell_type": "markdown",
   "metadata": {},
   "source": [
    "### These are now matrices. How big are they?"
   ]
  },
  {
   "cell_type": "code",
   "execution_count": null,
   "metadata": {
    "collapsed": false
   },
   "outputs": [],
   "source": [
    "print ('simple  --> {0} rows x {1} columns'.format(*jac_simple.shape))\n",
    "print ('complex --> {0} rows x {1} columns'.format(*jac_complex.shape))\n"
   ]
  },
  {
   "cell_type": "code",
   "execution_count": null,
   "metadata": {
    "collapsed": false
   },
   "outputs": [],
   "source": [
    "plot_Jacobian(jac_simple, figsize=(7,4))"
   ]
  },
  {
   "cell_type": "code",
   "execution_count": null,
   "metadata": {
    "collapsed": false
   },
   "outputs": [],
   "source": [
    "# Let's drop all the forecasts and regularization information\n",
    "jac_simple.drop([x for x in jac_simple.df().index if x.startswith('fr')], axis=0)\n",
    "jac_simple.drop([x for x in jac_simple.df().index if 'fore' in x], axis=0)\n",
    "jac_simple.drop('travel_time', axis=0)"
   ]
  },
  {
   "cell_type": "code",
   "execution_count": null,
   "metadata": {
    "collapsed": false
   },
   "outputs": [],
   "source": [
    "plot_Jacobian(jac_simple, figsize=(7,4))"
   ]
  },
  {
   "cell_type": "code",
   "execution_count": null,
   "metadata": {
    "collapsed": false
   },
   "outputs": [],
   "source": [
    "plot_Jacobian(jac_complex, figsize=(7,4))"
   ]
  },
  {
   "cell_type": "code",
   "execution_count": null,
   "metadata": {
    "collapsed": false
   },
   "outputs": [],
   "source": [
    "# Let's drop all the forecasts and regularization information\n",
    "jac_complex.drop([x for x in jac_complex.df().index if x.startswith('i')], axis=0)\n",
    "jac_complex.drop([x for x in jac_complex.df().index if x.startswith('fr')], axis=0)\n",
    "jac_complex.drop([x for x in jac_complex.df().index if 'fore' in x], axis=0)\n",
    "jac_complex.drop('travel_time', axis=0)"
   ]
  },
  {
   "cell_type": "code",
   "execution_count": null,
   "metadata": {
    "collapsed": false
   },
   "outputs": [],
   "source": [
    "plot_Jacobian(jac_complex, figsize=(7,4))"
   ]
  },
  {
   "cell_type": "markdown",
   "metadata": {},
   "source": [
    "# Can be more informative to look at sensitivity spatially"
   ]
  },
  {
   "cell_type": "code",
   "execution_count": null,
   "metadata": {
    "collapsed": false
   },
   "outputs": [],
   "source": [
    "print(jac_complex.row_names)"
   ]
  },
  {
   "cell_type": "code",
   "execution_count": null,
   "metadata": {
    "collapsed": false
   },
   "outputs": [],
   "source": [
    "spatial_plot_sens(jac_complex,'rivflux_cal', obslox,parlox);"
   ]
  },
  {
   "cell_type": "code",
   "execution_count": null,
   "metadata": {
    "collapsed": false
   },
   "outputs": [],
   "source": [
    "with PdfPages('allsens.pdf') as ofp:\n",
    "    for cob in jac_complex.row_names:\n",
    "        cf = spatial_plot_sens(jac_complex, cob, obslox,parlox)\n",
    "        ofp.savefig()\n",
    "        plt.close('all')"
   ]
  },
  {
   "cell_type": "markdown",
   "metadata": {},
   "source": [
    "# How about Composite Scaled Sensitivities\n",
    "In the traditional, overdetermined regression world, CSS was a popular metric. CSS is Composite Scaled Sensitivitity.\n",
    "\n",
    "In Hill and Tiedeman (2007) this is calculated as: \n",
    "## ${css_{j}=\\sqrt{\\left(\\sum_{i-1}^{ND}\\left(\\frac{\\partial y'_{i}}{\\partial b_{j}}\\right)\\left|b_{j}\\right|\\sqrt{w_{ii}}\\right)/ND}}$\n",
    "\n",
    "In PEST, Doherty calculates it slightly differently in that scaling by the parameter values happens automatically when the parameter is subjected to a log-transform. This is due to a correction that must be made in calculating the Jacobian matrix and follows from the chain rule of derivatives.\n"
   ]
  },
  {
   "cell_type": "code",
   "execution_count": null,
   "metadata": {
    "collapsed": true
   },
   "outputs": [],
   "source": [
    "la = pyemu.LinearAnalysis(jco=os.path.join('..','..','models','Freyberg','Freyberg_pilotpoints','freyberg_pp_reg_phimlim26.jcb'))"
   ]
  },
  {
   "cell_type": "code",
   "execution_count": null,
   "metadata": {
    "collapsed": false
   },
   "outputs": [],
   "source": [
    "plt.figure(figsize=(8,4))\n",
    "ax = la.get_par_css_dataframe()['pest_css'].sort_values(ascending=False).plot(kind='bar')\n",
    "ax.set_yscale('log')"
   ]
  },
  {
   "cell_type": "markdown",
   "metadata": {},
   "source": [
    "### Now let's consider correlation and posterior covariance"
   ]
  },
  {
   "cell_type": "code",
   "execution_count": null,
   "metadata": {
    "collapsed": false
   },
   "outputs": [],
   "source": [
    "sc = pyemu.Schur(os.path.join('..','..','models','Freyberg','Freyberg_pilotpoints','freyberg_pp_reg_phimlim26.jcb'))\n",
    "covar = pyemu.Cov(sc.xtqx.x, names=sc.xtqx.row_names)\n",
    "covar.df().head()"
   ]
  },
  {
   "cell_type": "code",
   "execution_count": null,
   "metadata": {
    "collapsed": false
   },
   "outputs": [],
   "source": [
    "R = covar.to_pearson()\n",
    "plt.imshow(R.df(), interpolation='nearest', cmap='viridis')\n",
    "plt.colorbar()"
   ]
  },
  {
   "cell_type": "code",
   "execution_count": null,
   "metadata": {
    "collapsed": false
   },
   "outputs": [],
   "source": [
    "cpar = 'hkpp10'\n",
    "R.df().loc[cpar][np.abs(R.df().loc[cpar])>.5]"
   ]
  },
  {
   "cell_type": "code",
   "execution_count": null,
   "metadata": {
    "collapsed": false
   },
   "outputs": [],
   "source": [
    "R_plot = R.df().as_matrix()\n",
    "R_plot[np.abs(R_plot)>.9] = np.nan\n",
    "plt.imshow(R_plot, interpolation='nearest', cmap='viridis')\n",
    "plt.colorbar()"
   ]
  },
  {
   "cell_type": "code",
   "execution_count": null,
   "metadata": {
    "collapsed": true
   },
   "outputs": [],
   "source": []
  },
  {
   "cell_type": "code",
   "execution_count": null,
   "metadata": {
    "collapsed": true
   },
   "outputs": [],
   "source": []
  }
 ],
 "metadata": {
  "kernelspec": {
   "display_name": "Python 3",
   "language": "python",
   "name": "python3"
  },
  "language_info": {
   "codemirror_mode": {
    "name": "ipython",
    "version": 3
   },
   "file_extension": ".py",
   "mimetype": "text/x-python",
   "name": "python",
   "nbconvert_exporter": "python",
   "pygments_lexer": "ipython3",
   "version": "3.5.2"
  }
 },
 "nbformat": 4,
 "nbformat_minor": 1
}
