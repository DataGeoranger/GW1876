{
 "cells": [
  {
   "cell_type": "markdown",
   "metadata": {},
   "source": [
    "<img src=\"PEST++V3_cover.jpeg\" style=\"float: left\">\n",
    "\n",
    "<img src=\"flopylogo.png\" style=\"float: right\">\n",
    "\n",
    "<img src=\"AW&H2015.png\" style=\"float: center\">\n",
    "\n",
    "# Looking at Parameter Identifiability\n",
    "\n",
    "Sensitivity analyses can mask other artifacts that affect calibration and uncertainty. A primary issues is correlation between parameters.  For example, we saw that in a heads-only calibration we can't estimate both recharge and hydraulic conductivity independently - the parameters are correlated so that an increase in one can be offset with an increase in the other.  To address this shortcoming, Doherty and Hunt (2009) show that singular value decomposition can extend the sensitivity insight into __*parameter identifiability*__.  Parameter identifiability combines parameter insensitivity and correlation information, and reflects the robustness with which particular parameter values in a model might be calibrated. That is, an identifiable parameter is both sensitive and relatively uncorrelated and thus is more likely to be estimated (identified) than an insensitive and/or correlated parameter. \n",
    "\n",
    "Parameter identifiability is considered a \"linear method\" in that it assumes the Jacobian matrix sensitivities hold over a range of reasonable parameter values.  It is able to address parameter correlation through singular value decomposition (SVD), exactly as we've seen earlier in this course.  Parameter identifiability ranges from 0 (perfectly unidentifiable with the observations available) to 1.0 (fully identifiable). So, we typically plot identifiability using a stacked bar chart which is comprised of the included singular value contributions. Another way to think of it: if a parameter is strongly in the SVD solution space (low singular value so above the cutoff) it will have a higher identifiability. However, as Doherty and Hunt (2009) point out, identifiability is qualitative in nature because the singular value cutoff is user specified. \n",
    "\n",
    "You can access parameter identifiability at the command line using the PEST utility __*identpar*__.  As always, when you type identpar without arguments you'll get what the utility needs to run. For identpar.exe it looks like:\n",
    "\n",
    "\n",
    "\n",
    "    IDENTPAR Version 14.01. Watermark Numerical Computing.\n",
    "\n",
    "\n",
    "    IDENTPAR is run using the command:\n",
    "\n",
    "        IDENTPAR casename numvec outbase matfile identfile [/s or /r]\n",
    "\n",
    "    where\n",
    "\n",
    "        casename  is a PEST control file basename,\n",
    "        numvec    is the number of singular values to use,\n",
    "        outbase   is the filename base of sensitivity vector output files,\n",
    "        outfile   is the name of a matrix output file\n",
    "        identfile is the name of a parameter identifiability output file, and\n",
    "        /s or /r  instigates SVD on XtQX or Q^(1/2)X respectively (/s is default).\n",
    "\n",
    "        Note: enter a filename of \"null\" for no pertinent output file.\n",
    "\n",
    "\n",
    "The input of __numvec__ specifies the singular value cutoff that is used to calculate identifiability; the __identfile__ above provides the output in a format suitable for plotting.  \n",
    "\n",
    "However, in our example here __we won't use the command line PEST utility__ but will instead take advantage of the pyemu version of parameter identifiability for convenience. Let's take a look at it more closely and see what we can learn from it and how to handle such information as the number of parameters rises.\n",
    "\n",
    "### One last cool concept about identifiability the Doherty and Hunt (2009) point out:  \n",
    "Because parameter identifiability uses the Jacobian matrix it is the *sensitivity* that matters, not the actual value specified. This means you can enter *hypothetical observations* to the existing observations, re-run the Jacobian matrix, and then re-plot identifiability. In this way identifiability becomes a quick but qualitative way to look at the worth of future data collection - an underused aspect of our modeling!   "
   ]
  },
  {
   "cell_type": "code",
   "execution_count": 1,
   "metadata": {},
   "outputs": [],
   "source": [
    "import matplotlib.pyplot as plt\n",
    "%matplotlib inline\n",
    "import sys\n",
    "sys.path.append('..')\n",
    "import numpy as np\n",
    "import pandas as pd\n",
    "import pyemu\n",
    "import os, shutil\n",
    "import re\n",
    "from matplotlib.backends.backend_pdf import PdfPages\n",
    "runall= False\n",
    "import identifiability_helper as ih"
   ]
  },
  {
   "cell_type": "code",
   "execution_count": null,
   "metadata": {
    "collapsed": true
   },
   "outputs": [],
   "source": []
  },
  {
   "cell_type": "code",
   "execution_count": 2,
   "metadata": {},
   "outputs": [
    {
     "name": "stdout",
     "output_type": "stream",
     "text": [
      "['.DS_Store', 'botm.ref', 'extract_zone_array.py', 'forecasts_true.csv', 'freyberg.bas', 'freyberg.dbf', 'freyberg.dis', 'freyberg.hds', 'freyberg.heads', 'freyberg.heads_potobs.ins', 'freyberg.hyd', 'freyberg.list', 'freyberg.locations', 'freyberg.mpbas', 'freyberg.mpenpt', 'freyberg.mplist', 'freyberg.mpnam', 'freyberg.mppthln', 'freyberg.mpsim', 'freyberg.oc', 'freyberg.pcg', 'freyberg.rivflux', 'freyberg.shp', 'freyberg.shx', 'freyberg.travel', 'freyberg.truth.lpf', 'freyberg.truth.nam', 'freyberg.truth.rch', 'freyberg.truth.riv', 'freyberg.truth.wel', 'hk.truth.ref', 'hk.zones', 'ibound.ref', 'inschek', 'inschek.exe', 'kzone.ref', 'mf2005', 'mf2005.exe', 'mfnwt', 'mp6', 'mp6.exe', 'mpath.in', 'obs_loc.csv', 'pest++.exe', 'pestchek', 'pestchek.exe', 'pestpp', 'potobs_group.csv', 'Process_output.py', 'run_true_model.py', 'strt.ref', 'sweep', 'sweep.exe', 'tempchek', 'tempchek.exe', 'Weights_and_best_PHI.xlsx']\n",
      "\n",
      "changing model workspace...\n",
      "   freyberg_pp\n",
      "WARNING: unit 31 of package UPW already in use\n",
      "FloPy is using the following executable to run the model: /Users/mnfienen/Documents/GIT/GW1876/activities/freyberg_sensitivity_identifiability/freyberg_pp/mfnwt\n",
      "\n",
      "                                  MODFLOW-NWT-SWR1 \n",
      "    U.S. GEOLOGICAL SURVEY MODULAR FINITE-DIFFERENCE GROUNDWATER-FLOW MODEL\n",
      "                             WITH NEWTON FORMULATION\n",
      "                             Version 1.1.1, 7/21/2016                        \n",
      "                    BASED ON MODFLOW-2005 Version 1.11.0 08/08/2013                       \n",
      "\n",
      "                    SWR1 Version 1.04.0 07/21/2016                       \n",
      "\n",
      " Using NAME file: freyberg.nam \n",
      " Run start date and time (yyyy/mm/dd hh:mm:ss): 2017/09/09 17:28:52\n",
      "\n",
      " Solving:  Stress period:     1    Time step:     1    Groundwater-Flow Eqn.\n",
      " Solving:  Stress period:     2    Time step:     1    Groundwater-Flow Eqn.\n",
      " Solving:  Stress period:     3    Time step:     1    Groundwater-Flow Eqn.\n",
      " Run end date and time (yyyy/mm/dd hh:mm:ss): 2017/09/09 17:28:52\n",
      " Elapsed run time:  0.025 Seconds\n",
      "\n",
      "  Normal termination of simulation\n",
      "run():./mp6 freyberg.mpsim\n",
      "Util2d:delr: resetting 'how' to external\n",
      "Util2d:delc: resetting 'how' to external\n",
      "Util2d:model_top: resetting 'how' to external\n",
      "Util2d:botm_layer_0: resetting 'how' to external\n",
      "Util2d:ibound_layer_0: resetting 'how' to external\n",
      "Util2d:strt_layer_0: resetting 'how' to external\n",
      "Util2d:rech_1: resetting 'how' to external\n",
      "Util2d:rech_2: resetting 'how' to external\n",
      "Util2d:rech_3: resetting 'how' to external\n",
      "Util2d:hk layer 1: resetting 'how' to external\n",
      "Util2d:vk: resetting 'how' to external\n",
      "Util2d:ss: resetting 'how' to external\n",
      "Util2d:ss: resetting 'how' to external\n",
      "FloPy is using the following executable to run the model: /Users/mnfienen/Documents/GIT/GW1876/activities/freyberg_sensitivity_identifiability/freyberg_pp/mfnwt\n",
      "\n",
      "                                  MODFLOW-NWT-SWR1 \n",
      "    U.S. GEOLOGICAL SURVEY MODULAR FINITE-DIFFERENCE GROUNDWATER-FLOW MODEL\n",
      "                             WITH NEWTON FORMULATION\n",
      "                             Version 1.1.1, 7/21/2016                        \n",
      "                    BASED ON MODFLOW-2005 Version 1.11.0 08/08/2013                       \n",
      "\n",
      "                    SWR1 Version 1.04.0 07/21/2016                       \n",
      "\n",
      " Using NAME file: freyberg.nam \n",
      " Run start date and time (yyyy/mm/dd hh:mm:ss): 2017/09/09 17:28:52\n",
      "\n",
      " Solving:  Stress period:     1    Time step:     1    Groundwater-Flow Eqn.\n",
      " Solving:  Stress period:     2    Time step:     1    Groundwater-Flow Eqn.\n",
      " Solving:  Stress period:     3    Time step:     1    Groundwater-Flow Eqn.\n",
      " Run end date and time (yyyy/mm/dd hh:mm:ss): 2017/09/09 17:28:52\n",
      " Elapsed run time:  0.023 Seconds\n",
      "\n",
      "  Normal termination of simulation\n",
      "error importing shapefile, try pip install pyshp...No module named 'shapefile'\n",
      "Starting to read HYDMOD data from freyberg.hyd.bin\n",
      "Starting to read HYDMOD data from freyberg.hyd.bin.truth\n",
      "run():./inschek flux.dat.ins flux.dat\n",
      "run():./inschek vol.dat.ins vol.dat\n",
      "run():./inschek flux.dat.ins flux.dat\n",
      "run():./inschek vol.dat.ins vol.dat\n",
      "run():./inschek flux.dat.ins flux.dat\n",
      "run():./inschek freyberg.hyd.bin.dat.ins freyberg.hyd.bin.dat\n",
      "run():./inschek freyberg.travel.ins freyberg.travel\n",
      "run():./inschek vol.dat.ins vol.dat\n",
      "starting interp point loop for 800 points\n",
      "took 2.391092 seconds\n",
      "run():./pestchek freyberg_pp.pst\n",
      "run():./pestpp freyberg_pp.init.pst\n"
     ]
    }
   ],
   "source": [
    "import freyberg_setup as fs\n",
    "fs.setup_pest_pp()\n",
    "working_dir = fs.WORKING_DIR_PP\n",
    "pst_name = fs.PST_NAME_PP"
   ]
  },
  {
   "cell_type": "code",
   "execution_count": 3,
   "metadata": {},
   "outputs": [
    {
     "data": {
      "text/html": [
       "<div>\n",
       "<style>\n",
       "    .dataframe thead tr:only-child th {\n",
       "        text-align: right;\n",
       "    }\n",
       "\n",
       "    .dataframe thead th {\n",
       "        text-align: left;\n",
       "    }\n",
       "\n",
       "    .dataframe tbody tr th {\n",
       "        vertical-align: top;\n",
       "    }\n",
       "</style>\n",
       "<table border=\"1\" class=\"dataframe\">\n",
       "  <thead>\n",
       "    <tr style=\"text-align: right;\">\n",
       "      <th></th>\n",
       "      <th>X</th>\n",
       "      <th>Y</th>\n",
       "      <th>pp_num</th>\n",
       "    </tr>\n",
       "  </thead>\n",
       "  <tbody>\n",
       "    <tr>\n",
       "      <th>hk00</th>\n",
       "      <td>125.0</td>\n",
       "      <td>9875.0</td>\n",
       "      <td>0000</td>\n",
       "    </tr>\n",
       "    <tr>\n",
       "      <th>hk01</th>\n",
       "      <td>1125.0</td>\n",
       "      <td>9875.0</td>\n",
       "      <td>0001</td>\n",
       "    </tr>\n",
       "    <tr>\n",
       "      <th>hk02</th>\n",
       "      <td>2125.0</td>\n",
       "      <td>9875.0</td>\n",
       "      <td>0002</td>\n",
       "    </tr>\n",
       "    <tr>\n",
       "      <th>hk03</th>\n",
       "      <td>3125.0</td>\n",
       "      <td>9875.0</td>\n",
       "      <td>0003</td>\n",
       "    </tr>\n",
       "    <tr>\n",
       "      <th>hk04</th>\n",
       "      <td>4125.0</td>\n",
       "      <td>9875.0</td>\n",
       "      <td>0004</td>\n",
       "    </tr>\n",
       "    <tr>\n",
       "      <th>hk05</th>\n",
       "      <td>125.0</td>\n",
       "      <td>8875.0</td>\n",
       "      <td>0005</td>\n",
       "    </tr>\n",
       "    <tr>\n",
       "      <th>hk06</th>\n",
       "      <td>1125.0</td>\n",
       "      <td>8875.0</td>\n",
       "      <td>0006</td>\n",
       "    </tr>\n",
       "    <tr>\n",
       "      <th>hk07</th>\n",
       "      <td>2125.0</td>\n",
       "      <td>8875.0</td>\n",
       "      <td>0007</td>\n",
       "    </tr>\n",
       "    <tr>\n",
       "      <th>hk08</th>\n",
       "      <td>3125.0</td>\n",
       "      <td>8875.0</td>\n",
       "      <td>0008</td>\n",
       "    </tr>\n",
       "    <tr>\n",
       "      <th>hk09</th>\n",
       "      <td>4125.0</td>\n",
       "      <td>8875.0</td>\n",
       "      <td>0009</td>\n",
       "    </tr>\n",
       "    <tr>\n",
       "      <th>hk10</th>\n",
       "      <td>125.0</td>\n",
       "      <td>7875.0</td>\n",
       "      <td>0010</td>\n",
       "    </tr>\n",
       "    <tr>\n",
       "      <th>hk11</th>\n",
       "      <td>2125.0</td>\n",
       "      <td>7875.0</td>\n",
       "      <td>0011</td>\n",
       "    </tr>\n",
       "    <tr>\n",
       "      <th>hk12</th>\n",
       "      <td>3125.0</td>\n",
       "      <td>7875.0</td>\n",
       "      <td>0012</td>\n",
       "    </tr>\n",
       "    <tr>\n",
       "      <th>hk13</th>\n",
       "      <td>4125.0</td>\n",
       "      <td>7875.0</td>\n",
       "      <td>0013</td>\n",
       "    </tr>\n",
       "    <tr>\n",
       "      <th>hk14</th>\n",
       "      <td>125.0</td>\n",
       "      <td>6875.0</td>\n",
       "      <td>0014</td>\n",
       "    </tr>\n",
       "    <tr>\n",
       "      <th>hk15</th>\n",
       "      <td>2125.0</td>\n",
       "      <td>6875.0</td>\n",
       "      <td>0015</td>\n",
       "    </tr>\n",
       "    <tr>\n",
       "      <th>hk16</th>\n",
       "      <td>3125.0</td>\n",
       "      <td>6875.0</td>\n",
       "      <td>0016</td>\n",
       "    </tr>\n",
       "    <tr>\n",
       "      <th>hk17</th>\n",
       "      <td>4125.0</td>\n",
       "      <td>6875.0</td>\n",
       "      <td>0017</td>\n",
       "    </tr>\n",
       "    <tr>\n",
       "      <th>hk18</th>\n",
       "      <td>125.0</td>\n",
       "      <td>5875.0</td>\n",
       "      <td>0018</td>\n",
       "    </tr>\n",
       "    <tr>\n",
       "      <th>hk19</th>\n",
       "      <td>2125.0</td>\n",
       "      <td>5875.0</td>\n",
       "      <td>0019</td>\n",
       "    </tr>\n",
       "    <tr>\n",
       "      <th>hk20</th>\n",
       "      <td>3125.0</td>\n",
       "      <td>5875.0</td>\n",
       "      <td>0020</td>\n",
       "    </tr>\n",
       "    <tr>\n",
       "      <th>hk21</th>\n",
       "      <td>4125.0</td>\n",
       "      <td>5875.0</td>\n",
       "      <td>0021</td>\n",
       "    </tr>\n",
       "    <tr>\n",
       "      <th>hk22</th>\n",
       "      <td>125.0</td>\n",
       "      <td>4875.0</td>\n",
       "      <td>0022</td>\n",
       "    </tr>\n",
       "    <tr>\n",
       "      <th>hk23</th>\n",
       "      <td>2125.0</td>\n",
       "      <td>4875.0</td>\n",
       "      <td>0023</td>\n",
       "    </tr>\n",
       "    <tr>\n",
       "      <th>hk24</th>\n",
       "      <td>3125.0</td>\n",
       "      <td>4875.0</td>\n",
       "      <td>0024</td>\n",
       "    </tr>\n",
       "    <tr>\n",
       "      <th>hk25</th>\n",
       "      <td>4125.0</td>\n",
       "      <td>4875.0</td>\n",
       "      <td>0025</td>\n",
       "    </tr>\n",
       "    <tr>\n",
       "      <th>hk26</th>\n",
       "      <td>125.0</td>\n",
       "      <td>3875.0</td>\n",
       "      <td>0026</td>\n",
       "    </tr>\n",
       "    <tr>\n",
       "      <th>hk27</th>\n",
       "      <td>1125.0</td>\n",
       "      <td>3875.0</td>\n",
       "      <td>0027</td>\n",
       "    </tr>\n",
       "    <tr>\n",
       "      <th>hk28</th>\n",
       "      <td>2125.0</td>\n",
       "      <td>3875.0</td>\n",
       "      <td>0028</td>\n",
       "    </tr>\n",
       "    <tr>\n",
       "      <th>hk29</th>\n",
       "      <td>3125.0</td>\n",
       "      <td>3875.0</td>\n",
       "      <td>0029</td>\n",
       "    </tr>\n",
       "    <tr>\n",
       "      <th>hk30</th>\n",
       "      <td>4125.0</td>\n",
       "      <td>3875.0</td>\n",
       "      <td>0030</td>\n",
       "    </tr>\n",
       "    <tr>\n",
       "      <th>hk31</th>\n",
       "      <td>125.0</td>\n",
       "      <td>2875.0</td>\n",
       "      <td>0031</td>\n",
       "    </tr>\n",
       "    <tr>\n",
       "      <th>hk32</th>\n",
       "      <td>1125.0</td>\n",
       "      <td>2875.0</td>\n",
       "      <td>0032</td>\n",
       "    </tr>\n",
       "    <tr>\n",
       "      <th>hk33</th>\n",
       "      <td>2125.0</td>\n",
       "      <td>2875.0</td>\n",
       "      <td>0033</td>\n",
       "    </tr>\n",
       "    <tr>\n",
       "      <th>hk34</th>\n",
       "      <td>3125.0</td>\n",
       "      <td>2875.0</td>\n",
       "      <td>0034</td>\n",
       "    </tr>\n",
       "    <tr>\n",
       "      <th>hk35</th>\n",
       "      <td>4125.0</td>\n",
       "      <td>2875.0</td>\n",
       "      <td>0035</td>\n",
       "    </tr>\n",
       "    <tr>\n",
       "      <th>hk36</th>\n",
       "      <td>1125.0</td>\n",
       "      <td>1875.0</td>\n",
       "      <td>0036</td>\n",
       "    </tr>\n",
       "    <tr>\n",
       "      <th>hk37</th>\n",
       "      <td>2125.0</td>\n",
       "      <td>1875.0</td>\n",
       "      <td>0037</td>\n",
       "    </tr>\n",
       "    <tr>\n",
       "      <th>hk38</th>\n",
       "      <td>3125.0</td>\n",
       "      <td>1875.0</td>\n",
       "      <td>0038</td>\n",
       "    </tr>\n",
       "    <tr>\n",
       "      <th>hk39</th>\n",
       "      <td>4125.0</td>\n",
       "      <td>1875.0</td>\n",
       "      <td>0039</td>\n",
       "    </tr>\n",
       "    <tr>\n",
       "      <th>hk40</th>\n",
       "      <td>1125.0</td>\n",
       "      <td>875.0</td>\n",
       "      <td>0040</td>\n",
       "    </tr>\n",
       "    <tr>\n",
       "      <th>hk41</th>\n",
       "      <td>2125.0</td>\n",
       "      <td>875.0</td>\n",
       "      <td>0041</td>\n",
       "    </tr>\n",
       "    <tr>\n",
       "      <th>hk42</th>\n",
       "      <td>3125.0</td>\n",
       "      <td>875.0</td>\n",
       "      <td>0042</td>\n",
       "    </tr>\n",
       "    <tr>\n",
       "      <th>hk43</th>\n",
       "      <td>4125.0</td>\n",
       "      <td>875.0</td>\n",
       "      <td>0043</td>\n",
       "    </tr>\n",
       "  </tbody>\n",
       "</table>\n",
       "</div>"
      ],
      "text/plain": [
       "           X       Y pp_num\n",
       "hk00   125.0  9875.0   0000\n",
       "hk01  1125.0  9875.0   0001\n",
       "hk02  2125.0  9875.0   0002\n",
       "hk03  3125.0  9875.0   0003\n",
       "hk04  4125.0  9875.0   0004\n",
       "hk05   125.0  8875.0   0005\n",
       "hk06  1125.0  8875.0   0006\n",
       "hk07  2125.0  8875.0   0007\n",
       "hk08  3125.0  8875.0   0008\n",
       "hk09  4125.0  8875.0   0009\n",
       "hk10   125.0  7875.0   0010\n",
       "hk11  2125.0  7875.0   0011\n",
       "hk12  3125.0  7875.0   0012\n",
       "hk13  4125.0  7875.0   0013\n",
       "hk14   125.0  6875.0   0014\n",
       "hk15  2125.0  6875.0   0015\n",
       "hk16  3125.0  6875.0   0016\n",
       "hk17  4125.0  6875.0   0017\n",
       "hk18   125.0  5875.0   0018\n",
       "hk19  2125.0  5875.0   0019\n",
       "hk20  3125.0  5875.0   0020\n",
       "hk21  4125.0  5875.0   0021\n",
       "hk22   125.0  4875.0   0022\n",
       "hk23  2125.0  4875.0   0023\n",
       "hk24  3125.0  4875.0   0024\n",
       "hk25  4125.0  4875.0   0025\n",
       "hk26   125.0  3875.0   0026\n",
       "hk27  1125.0  3875.0   0027\n",
       "hk28  2125.0  3875.0   0028\n",
       "hk29  3125.0  3875.0   0029\n",
       "hk30  4125.0  3875.0   0030\n",
       "hk31   125.0  2875.0   0031\n",
       "hk32  1125.0  2875.0   0032\n",
       "hk33  2125.0  2875.0   0033\n",
       "hk34  3125.0  2875.0   0034\n",
       "hk35  4125.0  2875.0   0035\n",
       "hk36  1125.0  1875.0   0036\n",
       "hk37  2125.0  1875.0   0037\n",
       "hk38  3125.0  1875.0   0038\n",
       "hk39  4125.0  1875.0   0039\n",
       "hk40  1125.0   875.0   0040\n",
       "hk41  2125.0   875.0   0041\n",
       "hk42  3125.0   875.0   0042\n",
       "hk43  4125.0   875.0   0043"
      ]
     },
     "execution_count": 3,
     "metadata": {},
     "output_type": "execute_result"
    }
   ],
   "source": [
    "obslox = pd.read_csv(os.path.join(working_dir,'freyberg.hyd'), delim_whitespace=True, usecols = [4,5,6], \n",
    "                     index_col=2, skiprows = 1, header=None, names=['X','Y','obsname'])\n",
    "obslox = obslox.drop([i for i in obslox.index if not i.startswith('cr')], axis=0)\n",
    "parlox = pd.read_csv(os.path.join(working_dir,'hkpp.dat.tpl'), delim_whitespace=True, usecols=[0,1,2],\n",
    "                    index_col=0, skiprows=1, header=None, names=['parname','X','Y'])\n",
    "parlox['pp_num'] = [re.findall('\\d+',i)[0] for i in parlox.index.values]\n",
    "parlox.index=['hk{}'.format(i[-2:]) for i in parlox.index]\n",
    "parlox"
   ]
  },
  {
   "cell_type": "markdown",
   "metadata": {},
   "source": [
    "# We need to calculate a Jacobian Matrix to look at sensitivity and identifiability\n",
    "\n",
    "## we just need to sen `NOPTMAX=-1` in the PST control file and run PESTPP"
   ]
  },
  {
   "cell_type": "code",
   "execution_count": 4,
   "metadata": {},
   "outputs": [],
   "source": [
    "inpst = pyemu.Pst(os.path.join(working_dir,'freyberg_pp.pst'))\n",
    "inpst.control_data.noptmax=-1\n",
    "inpst.write(os.path.join(working_dir,'freyberg_jac.pst'))"
   ]
  },
  {
   "cell_type": "code",
   "execution_count": 5,
   "metadata": {},
   "outputs": [],
   "source": [
    "if runall==True:\n",
    "    os.chdir(working_dir)\n",
    "    pyemu.helpers.run('pestpp freyberg_jac.pst')\n",
    "    os.chdir('..')\n",
    "else:\n",
    "    shutil.copy2('freyberg_jac.jcb', os.path.join(working_dir,'freyberg_jac.jcb'))"
   ]
  },
  {
   "cell_type": "markdown",
   "metadata": {},
   "source": [
    "# Let's load up the resulting Jacobian and look at sensitivity and identifiability"
   ]
  },
  {
   "cell_type": "markdown",
   "metadata": {},
   "source": [
    "## Make a Linear Anlysis object in `pyemu`"
   ]
  },
  {
   "cell_type": "code",
   "execution_count": 6,
   "metadata": {
    "collapsed": true
   },
   "outputs": [],
   "source": [
    "la = pyemu.LinearAnalysis(jco=os.path.join(working_dir,'freyberg_jac.jcb'))"
   ]
  },
  {
   "cell_type": "markdown",
   "metadata": {},
   "source": [
    "## among other things, this loads the Jacobian matrix (called `jco`) as a property"
   ]
  },
  {
   "cell_type": "code",
   "execution_count": 7,
   "metadata": {},
   "outputs": [
    {
     "data": {
      "text/plain": [
       "<matplotlib.colorbar.Colorbar at 0x103c694e0>"
      ]
     },
     "execution_count": 7,
     "metadata": {},
     "output_type": "execute_result"
    },
    {
     "data": {
      "image/png": "[encoded data removed]",
      "text/plain": [
       "<matplotlib.figure.Figure at 0x103c28c88>"
      ]
     },
     "metadata": {},
     "output_type": "display_data"
    }
   ],
   "source": [
    "plt.imshow(la.jco.x[:25,:25].T)\n",
    "plt.colorbar()\n"
   ]
  },
  {
   "cell_type": "code",
   "execution_count": 8,
   "metadata": {},
   "outputs": [
    {
     "name": "stderr",
     "output_type": "stream",
     "text": [
      "/Users/mnfienen/anaconda3/lib/python3.6/site-packages/ipykernel_launcher.py:1: RuntimeWarning: divide by zero encountered in log10\n",
      "  \"\"\"Entry point for launching an IPython kernel.\n"
     ]
    },
    {
     "data": {
      "text/plain": [
       "<matplotlib.colorbar.Colorbar at 0x118363f28>"
      ]
     },
     "execution_count": 8,
     "metadata": {},
     "output_type": "execute_result"
    },
    {
     "data": {
      "image/png": "[encoded data removed]",
      "text/plain": [
       "<matplotlib.figure.Figure at 0x115db9320>"
      ]
     },
     "metadata": {},
     "output_type": "display_data"
    }
   ],
   "source": [
    "plt.imshow(np.log10(np.abs(la.jco.x[:25,:25].T)))\n",
    "plt.colorbar()"
   ]
  },
  {
   "cell_type": "code",
   "execution_count": 9,
   "metadata": {},
   "outputs": [
    {
     "data": {
      "text/plain": [
       "[<matplotlib.lines.Line2D at 0x1189b7518>]"
      ]
     },
     "execution_count": 9,
     "metadata": {},
     "output_type": "execute_result"
    },
    {
     "data": {
      "image/png": "[encoded data removed]",
      "text/plain": [
       "<matplotlib.figure.Figure at 0x11840ea90>"
      ]
     },
     "metadata": {},
     "output_type": "display_data"
    }
   ],
   "source": [
    "svals = la.xtqx.s\n",
    "plt.plot(svals.x)"
   ]
  },
  {
   "cell_type": "code",
   "execution_count": 10,
   "metadata": {},
   "outputs": [
    {
     "data": {
      "image/png": "[encoded data removed]",
      "text/plain": [
       "<matplotlib.figure.Figure at 0x1189d7080>"
      ]
     },
     "metadata": {},
     "output_type": "display_data"
    }
   ],
   "source": [
    "plt.plot(svals.x)\n",
    "plt.yscale('log')"
   ]
  },
  {
   "cell_type": "markdown",
   "metadata": {},
   "source": [
    "# To look at identifiability we will need to create an `ErrVar` object in `pyemu`"
   ]
  },
  {
   "cell_type": "code",
   "execution_count": 11,
   "metadata": {},
   "outputs": [],
   "source": [
    "ev = pyemu.ErrVar(jco=os.path.join(working_dir,'freyberg_jac.jcb'))"
   ]
  },
  {
   "cell_type": "markdown",
   "metadata": {},
   "source": [
    "## We can get a dataframe of identifiability for any singular value cutoff"
   ]
  },
  {
   "cell_type": "code",
   "execution_count": 12,
   "metadata": {},
   "outputs": [
    {
     "data": {
      "text/html": [
       "<div>\n",
       "<style>\n",
       "    .dataframe thead tr:only-child th {\n",
       "        text-align: right;\n",
       "    }\n",
       "\n",
       "    .dataframe thead th {\n",
       "        text-align: left;\n",
       "    }\n",
       "\n",
       "    .dataframe tbody tr th {\n",
       "        vertical-align: top;\n",
       "    }\n",
       "</style>\n",
       "<table border=\"1\" class=\"dataframe\">\n",
       "  <thead>\n",
       "    <tr style=\"text-align: right;\">\n",
       "      <th></th>\n",
       "      <th>right_sing_vec_1</th>\n",
       "      <th>right_sing_vec_2</th>\n",
       "      <th>right_sing_vec_3</th>\n",
       "      <th>right_sing_vec_4</th>\n",
       "      <th>right_sing_vec_5</th>\n",
       "      <th>ident</th>\n",
       "    </tr>\n",
       "  </thead>\n",
       "  <tbody>\n",
       "    <tr>\n",
       "      <th>rch_0</th>\n",
       "      <td>9.737176e-01</td>\n",
       "      <td>0.009020</td>\n",
       "      <td>0.000117</td>\n",
       "      <td>0.000325</td>\n",
       "      <td>0.000010</td>\n",
       "      <td>0.983189</td>\n",
       "    </tr>\n",
       "    <tr>\n",
       "      <th>w0_r34_c12</th>\n",
       "      <td>2.968225e-03</td>\n",
       "      <td>0.011258</td>\n",
       "      <td>0.050925</td>\n",
       "      <td>0.172456</td>\n",
       "      <td>0.298143</td>\n",
       "      <td>0.535750</td>\n",
       "    </tr>\n",
       "    <tr>\n",
       "      <th>hk08</th>\n",
       "      <td>1.370568e-06</td>\n",
       "      <td>0.093330</td>\n",
       "      <td>0.168532</td>\n",
       "      <td>0.137990</td>\n",
       "      <td>0.025340</td>\n",
       "      <td>0.425193</td>\n",
       "    </tr>\n",
       "    <tr>\n",
       "      <th>hk06</th>\n",
       "      <td>6.622997e-09</td>\n",
       "      <td>0.028106</td>\n",
       "      <td>0.000317</td>\n",
       "      <td>0.179567</td>\n",
       "      <td>0.101656</td>\n",
       "      <td>0.309646</td>\n",
       "    </tr>\n",
       "    <tr>\n",
       "      <th>w0_r09_c16</th>\n",
       "      <td>1.495368e-02</td>\n",
       "      <td>0.257500</td>\n",
       "      <td>0.012491</td>\n",
       "      <td>0.003560</td>\n",
       "      <td>0.006349</td>\n",
       "      <td>0.294855</td>\n",
       "    </tr>\n",
       "  </tbody>\n",
       "</table>\n",
       "</div>"
      ],
      "text/plain": [
       "            right_sing_vec_1  right_sing_vec_2  right_sing_vec_3  \\\n",
       "rch_0           9.737176e-01          0.009020          0.000117   \n",
       "w0_r34_c12      2.968225e-03          0.011258          0.050925   \n",
       "hk08            1.370568e-06          0.093330          0.168532   \n",
       "hk06            6.622997e-09          0.028106          0.000317   \n",
       "w0_r09_c16      1.495368e-02          0.257500          0.012491   \n",
       "\n",
       "            right_sing_vec_4  right_sing_vec_5     ident  \n",
       "rch_0               0.000325          0.000010  0.983189  \n",
       "w0_r34_c12          0.172456          0.298143  0.535750  \n",
       "hk08                0.137990          0.025340  0.425193  \n",
       "hk06                0.179567          0.101656  0.309646  \n",
       "w0_r09_c16          0.003560          0.006349  0.294855  "
      ]
     },
     "execution_count": 12,
     "metadata": {},
     "output_type": "execute_result"
    }
   ],
   "source": [
    "id_df = ev.get_identifiability_dataframe(singular_value=5).sort_values(by='ident', ascending=False)\n",
    "id_df.head()"
   ]
  },
  {
   "cell_type": "markdown",
   "metadata": {},
   "source": [
    "## It's easy to visualize these as stacked bar charts"
   ]
  },
  {
   "cell_type": "code",
   "execution_count": 13,
   "metadata": {},
   "outputs": [],
   "source": [
    "id = ih.plot_id_bars(ev, 150)"
   ]
  },
  {
   "cell_type": "markdown",
   "metadata": {},
   "source": [
    "## More meaningful to look at a singular value cutoff"
   ]
  },
  {
   "cell_type": "code",
   "execution_count": 14,
   "metadata": {},
   "outputs": [
    {
     "data": {
      "image/png": "[encoded data removed]",
      "text/plain": [
       "<matplotlib.figure.Figure at 0x115f44a58>"
      ]
     },
     "metadata": {},
     "output_type": "display_data"
    }
   ],
   "source": [
    "id = ih.plot_id_bars(ev, 12)"
   ]
  },
  {
   "cell_type": "markdown",
   "metadata": {},
   "source": [
    "## How does this compare with CSS (Composite Scaled Sensitivities)?"
   ]
  },
  {
   "cell_type": "code",
   "execution_count": 15,
   "metadata": {},
   "outputs": [
    {
     "data": {
      "image/png": "[encoded data removed]",
      "text/plain": [
       "<matplotlib.figure.Figure at 0x115ff0fd0>"
      ]
     },
     "metadata": {},
     "output_type": "display_data"
    }
   ],
   "source": [
    "plt.figure(figsize=(12,4))\n",
    "ax = la.get_par_css_dataframe()['pest_css'].sort_values(ascending=False).plot(kind='bar')\n",
    "ax.set_yscale('log')"
   ]
  },
  {
   "cell_type": "markdown",
   "metadata": {},
   "source": [
    "## We can read in the covariance and look at correlation"
   ]
  },
  {
   "cell_type": "code",
   "execution_count": 16,
   "metadata": {},
   "outputs": [
    {
     "data": {
      "text/html": [
       "<div>\n",
       "<style>\n",
       "    .dataframe thead tr:only-child th {\n",
       "        text-align: right;\n",
       "    }\n",
       "\n",
       "    .dataframe thead th {\n",
       "        text-align: left;\n",
       "    }\n",
       "\n",
       "    .dataframe tbody tr th {\n",
       "        vertical-align: top;\n",
       "    }\n",
       "</style>\n",
       "<table border=\"1\" class=\"dataframe\">\n",
       "  <thead>\n",
       "    <tr style=\"text-align: right;\">\n",
       "      <th></th>\n",
       "      <th>rch_0</th>\n",
       "      <th>rch_1</th>\n",
       "      <th>hk00</th>\n",
       "      <th>hk01</th>\n",
       "      <th>hk02</th>\n",
       "      <th>hk03</th>\n",
       "      <th>hk04</th>\n",
       "      <th>hk05</th>\n",
       "      <th>hk06</th>\n",
       "      <th>hk07</th>\n",
       "      <th>...</th>\n",
       "      <th>w0_r20_c14</th>\n",
       "      <th>w0_r26_c10</th>\n",
       "      <th>w0_r29_c06</th>\n",
       "      <th>w0_r34_c12</th>\n",
       "      <th>w1_r09_c16</th>\n",
       "      <th>w1_r11_c13</th>\n",
       "      <th>w1_r20_c14</th>\n",
       "      <th>w1_r26_c10</th>\n",
       "      <th>w1_r29_c06</th>\n",
       "      <th>w1_r34_c12</th>\n",
       "    </tr>\n",
       "  </thead>\n",
       "  <tbody>\n",
       "    <tr>\n",
       "      <th>rch_0</th>\n",
       "      <td>1.667248e+06</td>\n",
       "      <td>1.502401e-47</td>\n",
       "      <td>1.939575e+01</td>\n",
       "      <td>9.658997e+01</td>\n",
       "      <td>-6.017767e+02</td>\n",
       "      <td>-1.324242e+03</td>\n",
       "      <td>-1.566090e+02</td>\n",
       "      <td>-2.625004e+01</td>\n",
       "      <td>-1.790950e+02</td>\n",
       "      <td>-1.497391e+03</td>\n",
       "      <td>...</td>\n",
       "      <td>-8.818860e+04</td>\n",
       "      <td>-2.737106e+04</td>\n",
       "      <td>-2.428909e+04</td>\n",
       "      <td>-9.202440e+04</td>\n",
       "      <td>-3.739020e-48</td>\n",
       "      <td>-1.845823e-48</td>\n",
       "      <td>-1.763085e-48</td>\n",
       "      <td>-3.327131e-49</td>\n",
       "      <td>-2.466268e-49</td>\n",
       "      <td>-1.531123e-48</td>\n",
       "    </tr>\n",
       "    <tr>\n",
       "      <th>rch_1</th>\n",
       "      <td>1.502401e-47</td>\n",
       "      <td>9.799090e-46</td>\n",
       "      <td>-1.207960e-51</td>\n",
       "      <td>1.321481e-50</td>\n",
       "      <td>-3.345374e-50</td>\n",
       "      <td>-1.230899e-49</td>\n",
       "      <td>-4.783226e-50</td>\n",
       "      <td>5.192461e-50</td>\n",
       "      <td>1.600510e-49</td>\n",
       "      <td>4.426064e-51</td>\n",
       "      <td>...</td>\n",
       "      <td>-1.743061e-49</td>\n",
       "      <td>-2.362503e-49</td>\n",
       "      <td>-3.515412e-49</td>\n",
       "      <td>-4.471106e-49</td>\n",
       "      <td>-1.093895e-46</td>\n",
       "      <td>-5.431374e-47</td>\n",
       "      <td>-5.165494e-47</td>\n",
       "      <td>-9.943228e-48</td>\n",
       "      <td>-7.498114e-48</td>\n",
       "      <td>-4.499639e-47</td>\n",
       "    </tr>\n",
       "    <tr>\n",
       "      <th>hk00</th>\n",
       "      <td>1.939575e+01</td>\n",
       "      <td>-1.207960e-51</td>\n",
       "      <td>1.157824e-01</td>\n",
       "      <td>2.458702e-01</td>\n",
       "      <td>-2.147939e+00</td>\n",
       "      <td>-4.584293e+00</td>\n",
       "      <td>-5.207399e-01</td>\n",
       "      <td>-2.273970e-01</td>\n",
       "      <td>-1.228925e+00</td>\n",
       "      <td>-5.542998e+00</td>\n",
       "      <td>...</td>\n",
       "      <td>1.445488e+00</td>\n",
       "      <td>1.487013e-01</td>\n",
       "      <td>-1.654812e-01</td>\n",
       "      <td>1.124021e+00</td>\n",
       "      <td>4.331631e-52</td>\n",
       "      <td>2.152916e-52</td>\n",
       "      <td>2.006588e-52</td>\n",
       "      <td>2.740229e-53</td>\n",
       "      <td>5.399045e-54</td>\n",
       "      <td>9.414993e-54</td>\n",
       "    </tr>\n",
       "    <tr>\n",
       "      <th>hk01</th>\n",
       "      <td>9.658997e+01</td>\n",
       "      <td>1.321481e-50</td>\n",
       "      <td>2.458702e-01</td>\n",
       "      <td>1.104932e+01</td>\n",
       "      <td>2.867547e+00</td>\n",
       "      <td>-1.778478e+01</td>\n",
       "      <td>-2.306477e+00</td>\n",
       "      <td>9.506091e+00</td>\n",
       "      <td>3.820974e+01</td>\n",
       "      <td>5.705182e+00</td>\n",
       "      <td>...</td>\n",
       "      <td>-1.503047e+01</td>\n",
       "      <td>-1.073871e+00</td>\n",
       "      <td>2.423083e+00</td>\n",
       "      <td>-1.081240e+01</td>\n",
       "      <td>-5.233734e-51</td>\n",
       "      <td>-2.615897e-51</td>\n",
       "      <td>-2.414673e-51</td>\n",
       "      <td>-2.983096e-52</td>\n",
       "      <td>6.188757e-54</td>\n",
       "      <td>4.548452e-52</td>\n",
       "    </tr>\n",
       "    <tr>\n",
       "      <th>hk02</th>\n",
       "      <td>-6.017767e+02</td>\n",
       "      <td>-3.345374e-50</td>\n",
       "      <td>-2.147939e+00</td>\n",
       "      <td>2.867547e+00</td>\n",
       "      <td>4.784205e+01</td>\n",
       "      <td>7.881621e+01</td>\n",
       "      <td>8.452346e+00</td>\n",
       "      <td>1.056331e+01</td>\n",
       "      <td>4.846209e+01</td>\n",
       "      <td>1.185157e+02</td>\n",
       "      <td>...</td>\n",
       "      <td>-2.354359e+01</td>\n",
       "      <td>2.178322e-01</td>\n",
       "      <td>7.546220e+00</td>\n",
       "      <td>-1.608253e+01</td>\n",
       "      <td>5.691878e-51</td>\n",
       "      <td>2.760457e-51</td>\n",
       "      <td>2.767784e-51</td>\n",
       "      <td>7.700365e-52</td>\n",
       "      <td>9.281711e-52</td>\n",
       "      <td>6.410998e-51</td>\n",
       "    </tr>\n",
       "  </tbody>\n",
       "</table>\n",
       "<p>5 rows × 58 columns</p>\n",
       "</div>"
      ],
      "text/plain": [
       "              rch_0         rch_1          hk00          hk01          hk02  \\\n",
       "rch_0  1.667248e+06  1.502401e-47  1.939575e+01  9.658997e+01 -6.017767e+02   \n",
       "rch_1  1.502401e-47  9.799090e-46 -1.207960e-51  1.321481e-50 -3.345374e-50   \n",
       "hk00   1.939575e+01 -1.207960e-51  1.157824e-01  2.458702e-01 -2.147939e+00   \n",
       "hk01   9.658997e+01  1.321481e-50  2.458702e-01  1.104932e+01  2.867547e+00   \n",
       "hk02  -6.017767e+02 -3.345374e-50 -2.147939e+00  2.867547e+00  4.784205e+01   \n",
       "\n",
       "               hk03          hk04          hk05          hk06          hk07  \\\n",
       "rch_0 -1.324242e+03 -1.566090e+02 -2.625004e+01 -1.790950e+02 -1.497391e+03   \n",
       "rch_1 -1.230899e-49 -4.783226e-50  5.192461e-50  1.600510e-49  4.426064e-51   \n",
       "hk00  -4.584293e+00 -5.207399e-01 -2.273970e-01 -1.228925e+00 -5.542998e+00   \n",
       "hk01  -1.778478e+01 -2.306477e+00  9.506091e+00  3.820974e+01  5.705182e+00   \n",
       "hk02   7.881621e+01  8.452346e+00  1.056331e+01  4.846209e+01  1.185157e+02   \n",
       "\n",
       "           ...         w0_r20_c14    w0_r26_c10    w0_r29_c06    w0_r34_c12  \\\n",
       "rch_0      ...      -8.818860e+04 -2.737106e+04 -2.428909e+04 -9.202440e+04   \n",
       "rch_1      ...      -1.743061e-49 -2.362503e-49 -3.515412e-49 -4.471106e-49   \n",
       "hk00       ...       1.445488e+00  1.487013e-01 -1.654812e-01  1.124021e+00   \n",
       "hk01       ...      -1.503047e+01 -1.073871e+00  2.423083e+00 -1.081240e+01   \n",
       "hk02       ...      -2.354359e+01  2.178322e-01  7.546220e+00 -1.608253e+01   \n",
       "\n",
       "         w1_r09_c16    w1_r11_c13    w1_r20_c14    w1_r26_c10    w1_r29_c06  \\\n",
       "rch_0 -3.739020e-48 -1.845823e-48 -1.763085e-48 -3.327131e-49 -2.466268e-49   \n",
       "rch_1 -1.093895e-46 -5.431374e-47 -5.165494e-47 -9.943228e-48 -7.498114e-48   \n",
       "hk00   4.331631e-52  2.152916e-52  2.006588e-52  2.740229e-53  5.399045e-54   \n",
       "hk01  -5.233734e-51 -2.615897e-51 -2.414673e-51 -2.983096e-52  6.188757e-54   \n",
       "hk02   5.691878e-51  2.760457e-51  2.767784e-51  7.700365e-52  9.281711e-52   \n",
       "\n",
       "         w1_r34_c12  \n",
       "rch_0 -1.531123e-48  \n",
       "rch_1 -4.499639e-47  \n",
       "hk00   9.414993e-54  \n",
       "hk01   4.548452e-52  \n",
       "hk02   6.410998e-51  \n",
       "\n",
       "[5 rows x 58 columns]"
      ]
     },
     "execution_count": 16,
     "metadata": {},
     "output_type": "execute_result"
    }
   ],
   "source": [
    "sc = pyemu.Schur(os.path.join(working_dir, 'freyberg_jac.jcb'))\n",
    "covar = pyemu.Cov(sc.xtqx.x, names=sc.xtqx.row_names)\n",
    "covar.df().head()"
   ]
  },
  {
   "cell_type": "code",
   "execution_count": 17,
   "metadata": {},
   "outputs": [
    {
     "data": {
      "text/plain": [
       "<matplotlib.colorbar.Colorbar at 0x1196f8a90>"
      ]
     },
     "execution_count": 17,
     "metadata": {},
     "output_type": "execute_result"
    },
    {
     "data": {
      "image/png": "[encoded data removed]",
      "text/plain": [
       "<matplotlib.figure.Figure at 0x115ff8fd0>"
      ]
     },
     "metadata": {},
     "output_type": "display_data"
    }
   ],
   "source": [
    "R = covar.to_pearson()\n",
    "plt.imshow(R.df(), interpolation='nearest', cmap='viridis')\n",
    "plt.colorbar()"
   ]
  },
  {
   "cell_type": "markdown",
   "metadata": {},
   "source": [
    "### Let's look at correlation\n",
    "CSS suffers from the challenge that values with high CSS may be corelated with other parameters. We can check that out. Identifiability, on the other hand, tends to spread among the correlated parameters so that identifiability is suppressed from each of those parameters. This makes a big difference between what is \"sensitive\" vs. \"identifiable\""
   ]
  },
  {
   "cell_type": "code",
   "execution_count": 18,
   "metadata": {},
   "outputs": [
    {
     "data": {
      "text/plain": [
       "hk00   -0.978481\n",
       "hk02    0.859996\n",
       "hk03    0.995744\n",
       "hk04    0.891160\n",
       "hk07    0.885708\n",
       "hk08    1.000000\n",
       "hk09    0.778941\n",
       "hk11    0.806815\n",
       "hk12    0.992717\n",
       "hk13    0.625143\n",
       "hk15    0.706106\n",
       "Name: hk08, dtype: float64"
      ]
     },
     "execution_count": 18,
     "metadata": {},
     "output_type": "execute_result"
    }
   ],
   "source": [
    "cpar = 'hk08'\n",
    "R.df().loc[cpar][np.abs(R.df().loc[cpar])>.5]"
   ]
  },
  {
   "cell_type": "markdown",
   "metadata": {
    "collapsed": true
   },
   "source": [
    "## this is also good look at spatially"
   ]
  },
  {
   "cell_type": "code",
   "execution_count": 23,
   "metadata": {},
   "outputs": [
    {
     "data": {
      "image/png": "[encoded data removed]",
      "text/plain": [
       "<matplotlib.figure.Figure at 0x119856048>"
      ]
     },
     "metadata": {},
     "output_type": "display_data"
    }
   ],
   "source": [
    "ih.plot_identifiability_spatial(ev, 58, parlox, obslox, True)"
   ]
  },
  {
   "cell_type": "code",
   "execution_count": null,
   "metadata": {
    "collapsed": true
   },
   "outputs": [],
   "source": []
  }
 ],
 "metadata": {
  "kernelspec": {
   "display_name": "Python 3",
   "language": "python",
   "name": "python3"
  },
  "language_info": {
   "codemirror_mode": {
    "name": "ipython",
    "version": 3
   },
   "file_extension": ".py",
   "mimetype": "text/x-python",
   "name": "python",
   "nbconvert_exporter": "python",
   "pygments_lexer": "ipython3",
   "version": "3.6.1"
  }
 },
 "nbformat": 4,
 "nbformat_minor": 1
}
