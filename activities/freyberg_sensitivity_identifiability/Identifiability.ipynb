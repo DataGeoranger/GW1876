{
 "cells": [
  {
   "cell_type": "code",
   "execution_count": null,
   "metadata": {
    "collapsed": false
   },
   "outputs": [],
   "source": [
    "import matplotlib.pyplot as plt\n",
    "%matplotlib inline\n",
    "import numpy as np\n",
    "import pandas as pd\n",
    "import pestools as pt\n",
    "import pyemu\n",
    "import os, shutil\n",
    "import re\n",
    "from matplotlib.backends.backend_pdf import PdfPages"
   ]
  },
  {
   "cell_type": "code",
   "execution_count": null,
   "metadata": {
    "collapsed": false
   },
   "outputs": [],
   "source": [
    "files_to_copy = ['freyberg.hyd','points1.dat.tpl',\n",
    "                 'freyberg_pp_reg_phimlim26.jcb','freyberg_pp_reg_phimlim26.pst',\n",
    "                'freyberg_pp_reg_phimlim26.post.cov']\n",
    "[shutil.copy2(os.path.join('..','..','models','Freyberg','Freyberg_pilotpoints',i),i) for i in files_to_copy]\n",
    "\n"
   ]
  },
  {
   "cell_type": "code",
   "execution_count": null,
   "metadata": {
    "collapsed": false
   },
   "outputs": [],
   "source": [
    "obslox = pd.read_csv('freyberg.hyd', delim_whitespace=True, usecols = [4,5,6], \n",
    "                     index_col=2, skiprows = 1, header=None, names=['X','Y','obsname'])\n",
    "obslox = obslox.drop([i for i in obslox.index if not i.startswith('cr')], axis=0)\n",
    "parlox = pd.read_csv('points1.dat.tpl', delim_whitespace=True, usecols=[0,1,2],\n",
    "                    index_col=0, skiprows=1, header=None, names=['parname','X','Y'])\n",
    "parlox['pp_num'] = [re.findall('\\d+',i)[0] for i in parlox.index.values]"
   ]
  },
  {
   "cell_type": "markdown",
   "metadata": {},
   "source": [
    "# `pestools` plotting identifiability"
   ]
  },
  {
   "cell_type": "code",
   "execution_count": null,
   "metadata": {
    "collapsed": false
   },
   "outputs": [],
   "source": [
    "# note that both the Jacobian and the PST file need to be present for this to work\n",
    "idpar = pt.IdentPar('freyberg_pp_reg_phimlim26.jcb')\n"
   ]
  },
  {
   "cell_type": "code",
   "execution_count": null,
   "metadata": {
    "collapsed": false
   },
   "outputs": [],
   "source": [
    "ax=idpar.plot_singular_spectrum()\n"
   ]
  },
  {
   "cell_type": "code",
   "execution_count": null,
   "metadata": {
    "collapsed": false
   },
   "outputs": [],
   "source": [
    "idpar.plot_bar(nsingular=12,nbars=50);"
   ]
  },
  {
   "cell_type": "markdown",
   "metadata": {},
   "source": [
    "### How does this compare with CSS?"
   ]
  },
  {
   "cell_type": "code",
   "execution_count": null,
   "metadata": {
    "collapsed": true
   },
   "outputs": [],
   "source": []
  },
  {
   "cell_type": "code",
   "execution_count": null,
   "metadata": {
    "collapsed": false
   },
   "outputs": [],
   "source": [
    "la = pyemu.LinearAnalysis(jco='freyberg_pp_reg_phimlim26.jcb')\n",
    "plt.figure(figsize=(12,4))\n",
    "ax = la.get_par_css_dataframe()['pest_css'].sort_values(ascending=False).plot(kind='bar')\n",
    "ax.set_yscale('log')"
   ]
  },
  {
   "cell_type": "markdown",
   "metadata": {},
   "source": [
    "### We can read in the covariance and look at correlation"
   ]
  },
  {
   "cell_type": "code",
   "execution_count": null,
   "metadata": {
    "collapsed": false
   },
   "outputs": [],
   "source": [
    "sc = pyemu.Schur('freyberg_pp_reg_phimlim26.jcb')\n",
    "covar = pyemu.Cov(sc.xtqx.x, names=sc.xtqx.row_names)\n",
    "covar.df().head()"
   ]
  },
  {
   "cell_type": "code",
   "execution_count": null,
   "metadata": {
    "collapsed": false
   },
   "outputs": [],
   "source": [
    "R = covar.to_pearson()\n",
    "plt.imshow(R.df(), interpolation='nearest', cmap='viridis')\n",
    "plt.colorbar()"
   ]
  },
  {
   "cell_type": "markdown",
   "metadata": {},
   "source": [
    "### Let's look at correlation\n",
    "CSS suffers from the challenge that values with high CSS may be corelated with other parameters. We can check that out. Identifiability, on the other hand, tends to spread among the correlated parameters so that identifiability is suppressed from each of those parameters. This makes a big difference between what is \"sensitive\" vs. \"identifiable\""
   ]
  },
  {
   "cell_type": "code",
   "execution_count": null,
   "metadata": {
    "collapsed": false
   },
   "outputs": [],
   "source": [
    "cpar = 'hkpp42'\n",
    "R.df().loc[cpar][np.abs(R.df().loc[cpar])>.5]"
   ]
  },
  {
   "cell_type": "markdown",
   "metadata": {
    "collapsed": true
   },
   "source": [
    "## this is also good look at spatially"
   ]
  },
  {
   "cell_type": "code",
   "execution_count": null,
   "metadata": {
    "collapsed": true
   },
   "outputs": [],
   "source": []
  },
  {
   "cell_type": "code",
   "execution_count": null,
   "metadata": {
    "collapsed": true
   },
   "outputs": [],
   "source": [
    "def plot_identifiability_spatial(idp, nsingular, parlox, obslox,makelabels=False,figsize=(4,7)):\n",
    "    ident_df = idp.la.get_identifiability_dataframe(nsingular)\n",
    "    ident_df=ident_df[['ident']].join(parlox)    \n",
    "    ident_df.drop('rch1',inplace=True)\n",
    "    plt.figure(figsize=figsize)\n",
    "    plt.plot(obslox.X, obslox.Y,'x')\n",
    "    plt.scatter(ident_df.X, ident_df.Y, s=np.abs(ident_df.ident.values)*100,\n",
    "                c=ident_df.ident.values, cmap='viridis')\n",
    "    if makelabels:\n",
    "        for cn, cg in pd.groupby(parlox, by='pp_num'):\n",
    "            plt.gca().annotate(cn, xy=(cg.X,cg.Y), textcoords='data', fontsize=9)\n",
    "    plt.axis('equal')\n",
    "    plt.colorbar()\n",
    "    plt.title('Identifiability with {0} singular values'.format(nsingular))\n",
    "    plt.xlim(0,5000)\n",
    "    plt.ylim(0,10000)\n",
    "    plt.axis('off')"
   ]
  },
  {
   "cell_type": "code",
   "execution_count": null,
   "metadata": {
    "collapsed": false
   },
   "outputs": [],
   "source": [
    "plot_identifiability_spatial(idpar,12,parlox, obslox, makelabels=True)"
   ]
  },
  {
   "cell_type": "code",
   "execution_count": null,
   "metadata": {
    "collapsed": true
   },
   "outputs": [],
   "source": []
  }
 ],
 "metadata": {
  "kernelspec": {
   "display_name": "Python 3",
   "language": "python",
   "name": "python3"
  },
  "language_info": {
   "codemirror_mode": {
    "name": "ipython",
    "version": 3
   },
   "file_extension": ".py",
   "mimetype": "text/x-python",
   "name": "python",
   "nbconvert_exporter": "python",
   "pygments_lexer": "ipython3",
   "version": "3.5.2"
  }
 },
 "nbformat": 4,
 "nbformat_minor": 1
}
