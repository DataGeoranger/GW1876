{
 "cells": [
  {
   "cell_type": "markdown",
   "metadata": {},
   "source": [
    "# Notebook to clean the repo a bit"
   ]
  },
  {
   "cell_type": "code",
   "execution_count": 1,
   "metadata": {},
   "outputs": [],
   "source": [
    "import os, shutil"
   ]
  },
  {
   "cell_type": "markdown",
   "metadata": {},
   "source": [
    "## Remove the `.ipynb_checkpoints` directories"
   ]
  },
  {
   "cell_type": "code",
   "execution_count": 3,
   "metadata": {},
   "outputs": [],
   "source": [
    "for cdir, cpath, cf in os.walk('.'):\n",
    "    if os.path.basename(cdir).startswith('.ipynb'):\n",
    "        if os.path.isdir(cdir):\n",
    "            print('removing {}'.format(cdir))\n",
    "            shutil.rmtree(cdir)"
   ]
  },
  {
   "cell_type": "markdown",
   "metadata": {},
   "source": [
    "## Remove all the binaries from activities directories"
   ]
  },
  {
   "cell_type": "code",
   "execution_count": 4,
   "metadata": {},
   "outputs": [],
   "source": [
    "# get the list of binaries from the bin directory"
   ]
  },
  {
   "cell_type": "code",
   "execution_count": 7,
   "metadata": {},
   "outputs": [],
   "source": [
    "exes = [i for i in os.listdir('../bin/') if not i.startswith('.')]"
   ]
  },
  {
   "cell_type": "code",
   "execution_count": 18,
   "metadata": {},
   "outputs": [],
   "source": [
    "exes.extend(['sweep','sweep.exe','gsa','gsa.exe', 'pest++.exe'])"
   ]
  },
  {
   "cell_type": "code",
   "execution_count": 19,
   "metadata": {},
   "outputs": [],
   "source": [
    "for cdir, cpath, cf in os.walk('.'):\n",
    "    [os.remove(os.path.join(cdir,i)) for i in os.listdir(cdir) if i in exes]"
   ]
  },
  {
   "cell_type": "markdown",
   "metadata": {},
   "source": [
    "# DANGER!!!! run `git-clean` to remove all untracked files"
   ]
  },
  {
   "cell_type": "code",
   "execution_count": 36,
   "metadata": {
    "scrolled": true
   },
   "outputs": [
    {
     "name": "stdout",
     "output_type": "stream",
     "text": [
      "cleaning dir: .\n",
      "cleaning dir: ./.ipynb_checkpoints\n",
      "cleaning dir: ./__pycache__\n",
      "cleaning dir: ./_misc\n",
      "cleaning dir: ./freyberg_global_sensitivity\n",
      "cleaning dir: ./freyberg_ies\n",
      "cleaning dir: ./freyberg_k\n",
      "cleaning dir: ./freyberg_k/GW_Vistas\n",
      "cleaning dir: ./freyberg_k_and_r\n",
      "cleaning dir: ./freyberg_k_and_r_fluxobs\n",
      "cleaning dir: ./freyberg_k_and_r_mc\n",
      "cleaning dir: ./freyberg_k_and_r_response_surface\n",
      "cleaning dir: ./freyberg_kl_demo\n",
      "cleaning dir: ./freyberg_model_intro\n",
      "cleaning dir: ./freyberg_model_intro/extra_crispy\n",
      "cleaning dir: ./freyberg_model_intro/extra_crispy/ref\n",
      "cleaning dir: ./freyberg_model_intro/images\n",
      "cleaning dir: ./freyberg_pest_setup\n",
      "cleaning dir: ./freyberg_pest_setup/input_and_output_created_during_activity\n",
      "cleaning dir: ./freyberg_pilot_points_1\n",
      "cleaning dir: ./freyberg_pilot_points_1/images\n",
      "cleaning dir: ./freyberg_pilot_points_2\n",
      "cleaning dir: ./freyberg_pilot_points_advanced_monte_carlo\n",
      "cleaning dir: ./freyberg_pilot_points_dataworth\n",
      "cleaning dir: ./freyberg_pilot_points_monte_carlo\n",
      "cleaning dir: ./freyberg_reweighting\n",
      "cleaning dir: ./freyberg_sensitivity_identifiability\n",
      "cleaning dir: ./freyberg_sensitivity_identifiability/__pycache__\n",
      "cleaning dir: ./freyberg_summary\n",
      "cleaning dir: ./freyberg_trialerror\n",
      "cleaning dir: ./freyberg_trialerror/__pycache__\n",
      "cleaning dir: ./freyberg_zones\n",
      "cleaning dir: ./freyberg_zones_dataworth\n",
      "cleaning dir: ./freyberg_zones_mc_DIY\n",
      "cleaning dir: ./intro_to_bayes\n",
      "cleaning dir: ./intro_to_bayes/__pycache__\n",
      "cleaning dir: ./intro_to_bayes/data\n",
      "cleaning dir: ./intro_to_dataworth\n",
      "cleaning dir: ./intro_to_FOSM\n",
      "cleaning dir: ./intro_to_geostatistics\n",
      "cleaning dir: ./intro_to_geostatistics/__pycache__\n",
      "cleaning dir: ./intro_to_pyemu\n",
      "cleaning dir: ./intro_to_reading_modflow_output\n",
      "cleaning dir: ./intro_to_regression\n",
      "cleaning dir: ./intro_to_regression/__pycache__\n",
      "cleaning dir: ./intro_to_regularization\n",
      "cleaning dir: ./intro_to_singular_value_decomposition\n",
      "cleaning dir: ./intro_to_sweep\n",
      "cleaning dir: ./Presentations\n",
      "cleaning dir: ./why_we_model\n",
      "cleaning dir: ./xsec_pestchek_trouble\n",
      "cleaning dir: ./xsec_response_surface_GLM\n",
      "cleaning dir: ./xsec_response_surface_GLM/xsect_model\n"
     ]
    }
   ],
   "source": [
    "go_nuclear = True  # ONLY SET TO TRUE IF YOU WANT TO RUN git-clean to PURGE UNTRACKED FILES\n",
    "if go_nuclear:\n",
    "    currdir = os.getcwd()\n",
    "    for cdir, cpath, cf in os.walk('.'):\n",
    "        os.chdir(cdir)\n",
    "        print('cleaning dir: {}'.format(cdir))\n",
    "        os.system('git clean -f -d')\n",
    "        \n",
    "        os.chdir(currdir)\n",
    "    "
   ]
  },
  {
   "cell_type": "markdown",
   "metadata": {},
   "source": [
    "# Finally more DANGER!!!! -- remove `freyberg_...` subdirs full of old runfiles"
   ]
  },
  {
   "cell_type": "code",
   "execution_count": 35,
   "metadata": {},
   "outputs": [
    {
     "name": "stdout",
     "output_type": "stream",
     "text": [
      "removing freyberg_global_sensitivity/freyberg_zn\n",
      "removing freyberg_grid_ies/freyberg_gr\n",
      "removing freyberg_k/freyberg_un\n",
      "removing freyberg_k_and_r/freyberg_kr\n",
      "removing freyberg_k_and_r_fluxobs/freyberg_kr\n",
      "removing freyberg_k_and_r_mc/freyberg_kr\n",
      "removing freyberg_k_and_r_response_surface/freyberg_kr\n",
      "removing freyberg_kl_demo/freyberg_gr\n",
      "removing freyberg_model_intro/freyberg_gr\n",
      "removing freyberg_pest_setup/freyberg_un\n",
      "removing freyberg_pilot_points_1/freyberg_pp\n",
      "removing freyberg_pilot_points_2/freyberg_pp\n",
      "removing freyberg_pilot_points_advanced_monte_carlo/freyberg_pp\n",
      "removing freyberg_pilot_points_advanced_monte_carlo/freyberg_pp copy\n",
      "removing freyberg_pilot_points_dataworth/freyberg_pp\n",
      "removing freyberg_pilot_points_monte_carlo/freyberg_pp\n",
      "removing freyberg_reweighting/freyberg_kr\n",
      "removing freyberg_sensitivity_identifiability/freyberg_kr\n",
      "removing freyberg_sensitivity_identifiability/freyberg_pp\n",
      "removing freyberg_trialerror/freyberg_kr\n",
      "removing freyberg_zones/freyberg_zn\n",
      "removing freyberg_zones_dataworth/freyberg_zn\n",
      "removing intro_to_FOSM/freyberg_zn\n",
      "removing intro_to_pyemu/freyberg_zn\n",
      "removing intro_to_singular_value_decomposition/freyberg_gr\n"
     ]
    }
   ],
   "source": [
    "dirs = [i for i in os.listdir(os.getcwd()) if os.path.isdir(i)]\n",
    "\n",
    "for cdir in dirs:\n",
    "    subdirs = [i for i in os.listdir(cdir) if os.path.isdir(os.path.join(cdir,i))]\n",
    "    for csub in subdirs:\n",
    "        if csub.startswith('freyberg_'):\n",
    "            shutil.rmtree(os.path.join(cdir,csub))\n",
    "            print('removing {}'.format(os.path.join(cdir,csub)))"
   ]
  },
  {
   "cell_type": "code",
   "execution_count": 33,
   "metadata": {},
   "outputs": [
    {
     "data": {
      "text/plain": [
       "[]"
      ]
     },
     "execution_count": 33,
     "metadata": {},
     "output_type": "execute_result"
    }
   ],
   "source": [
    "\n",
    "[i for i in os.listdir('freyberg_k_and_r_mc') if os.path.isdir(i)]"
   ]
  },
  {
   "cell_type": "code",
   "execution_count": null,
   "metadata": {},
   "outputs": [],
   "source": []
  }
 ],
 "metadata": {
  "kernelspec": {
   "display_name": "Python 3",
   "language": "python",
   "name": "python3"
  },
  "language_info": {
   "codemirror_mode": {
    "name": "ipython",
    "version": 3
   },
   "file_extension": ".py",
   "mimetype": "text/x-python",
   "name": "python",
   "nbconvert_exporter": "python",
   "pygments_lexer": "ipython3",
   "version": "3.6.6"
  }
 },
 "nbformat": 4,
 "nbformat_minor": 2
}
