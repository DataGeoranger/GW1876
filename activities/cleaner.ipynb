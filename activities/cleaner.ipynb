{
 "cells": [
  {
   "cell_type": "markdown",
   "metadata": {},
   "source": [
    "# Notebook to clean the repo a bit"
   ]
  },
  {
   "cell_type": "code",
   "execution_count": null,
   "metadata": {},
   "outputs": [],
   "source": [
    "import os, shutil"
   ]
  },
  {
   "cell_type": "markdown",
   "metadata": {},
   "source": [
    "## Remove the `.ipynb_checkpoints` directories"
   ]
  },
  {
   "cell_type": "code",
   "execution_count": null,
   "metadata": {},
   "outputs": [],
   "source": [
    "for cdir, cpath, cf in os.walk('.'):\n",
    "    if os.path.basename(cdir).startswith('.ipynb'):\n",
    "        if os.path.isdir(cdir):\n",
    "            print('removing {}'.format(cdir))\n",
    "            shutil.rmtree(cdir)"
   ]
  },
  {
   "cell_type": "markdown",
   "metadata": {},
   "source": [
    "## Remove all the binaries from activities directories"
   ]
  },
  {
   "cell_type": "code",
   "execution_count": null,
   "metadata": {},
   "outputs": [],
   "source": [
    "# get the list of binaries from the bin directory"
   ]
  },
  {
   "cell_type": "code",
   "execution_count": null,
   "metadata": {},
   "outputs": [],
   "source": [
    "exes = [i for i in os.listdir('../bin/') if not i.startswith('.')]"
   ]
  },
  {
   "cell_type": "code",
   "execution_count": null,
   "metadata": {},
   "outputs": [],
   "source": [
    "exes.extend(['sweep','sweep.exe','gsa','gsa.exe', 'pest++.exe'])"
   ]
  },
  {
   "cell_type": "code",
   "execution_count": null,
   "metadata": {},
   "outputs": [],
   "source": [
    "for cdir, cpath, cf in os.walk('.'):\n",
    "    [os.remove(os.path.join(cdir,i)) for i in os.listdir(cdir) if i in exes]"
   ]
  },
  {
   "cell_type": "markdown",
   "metadata": {},
   "source": [
    "# DANGER!!!! run `git-clean` to remove all untracked files"
   ]
  },
  {
   "cell_type": "code",
   "execution_count": null,
   "metadata": {
    "scrolled": true
   },
   "outputs": [],
   "source": [
    "go_nuclear = True  # ONLY SET TO TRUE IF YOU WANT TO RUN git-clean to PURGE UNTRACKED FILES\n",
    "if go_nuclear:\n",
    "    currdir = os.getcwd()\n",
    "    for cdir, cpath, cf in os.walk('.'):\n",
    "        os.chdir(cdir)\n",
    "        print('cleaning dir: {}'.format(cdir))\n",
    "        os.system('git clean -f -d')\n",
    "        \n",
    "        os.chdir(currdir)\n",
    "    "
   ]
  },
  {
   "cell_type": "markdown",
   "metadata": {},
   "source": [
    "# Finally more DANGER!!!! -- remove `freyberg_...` subdirs full of old runfiles"
   ]
  },
  {
   "cell_type": "code",
   "execution_count": null,
   "metadata": {},
   "outputs": [],
   "source": [
    "if go_nuclear:\n",
    "    dirs = [i for i in os.listdir(os.getcwd()) if os.path.isdir(i)]\n",
    "\n",
    "    for cdir in dirs:\n",
    "        subdirs = [i for i in os.listdir(cdir) if os.path.isdir(os.path.join(cdir,i))]\n",
    "        for csub in subdirs:\n",
    "            if csub.startswith('freyberg_'):\n",
    "                shutil.rmtree(os.path.join(cdir,csub))\n",
    "                print('removing {}'.format(os.path.join(cdir,csub)))"
   ]
  },
  {
   "cell_type": "code",
   "execution_count": null,
   "metadata": {},
   "outputs": [],
   "source": [
    "\n",
    "[i for i in os.listdir('freyberg_k_and_r_mc') if os.path.isdir(i)]"
   ]
  },
  {
   "cell_type": "code",
   "execution_count": null,
   "metadata": {},
   "outputs": [],
   "source": []
  }
 ],
 "metadata": {
  "kernelspec": {
   "display_name": "Python 3",
   "language": "python",
   "name": "python3"
  },
  "language_info": {
   "codemirror_mode": {
    "name": "ipython",
    "version": 3
   },
   "file_extension": ".py",
   "mimetype": "text/x-python",
   "name": "python",
   "nbconvert_exporter": "python",
   "pygments_lexer": "ipython3",
   "version": "3.6.6"
  }
 },
 "nbformat": 4,
 "nbformat_minor": 2
}
