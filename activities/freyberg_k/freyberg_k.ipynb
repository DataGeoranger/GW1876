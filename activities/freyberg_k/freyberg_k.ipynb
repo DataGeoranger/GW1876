{
 "cells": [
  {
   "cell_type": "markdown",
   "metadata": {},
   "source": [
    "<img src=\"AW&H2015.png\" style=\"float: left\">\n",
    "\n",
    "<img src=\"flopylogo.png\" style=\"float: center\">\n",
    "\n",
    "# History match the Freyberg model using a single ``K`` parameter\n",
    "\n",
    "Freyberg (1988) was notable for the discussing what is often called \"point calibration\" and \"overfitting\". It is a heterogenous 2D areal (1-layer) model that is a step up in complexity from our xsec model. Recall it looks like this, as shown in the original Freyberg (1988) paper on the left, and a Groundwater Vistas version on the right (from the file in the GW_Vistas subdirectory).   \n",
    "\n",
    "<img src=\"Freburg1988_fig1.png\" style=\"float: left\">\n",
    "<img src=\"Freyberg_k_plot_GW_Vistas.png\" style=\"float: right\">"
   ]
  },
  {
   "cell_type": "markdown",
   "metadata": {},
   "source": [
    "As we discussed in our first notebook, one way to get to an optimal model is to start simple and add complexity. To do this righte we need to add our forecasts first along with the calibration targets, and look at both as more model complexity is added.  One of the findings of the Freyberg (1988) model is that some students made their model too complex, which diminished its performance for the prediction of interest. Starting simple will keep us out of danger (at least for this notebook). \n",
    "\n",
    "This version of the Freyberg model has 3 stress periods:  1 steady state -> 1 transient for 5 years -> 1 steady state\n",
    "\n",
    "The river stage and node conductance changes in each stress period (see .riv file)\n",
    "\n",
    "The recharge starts out wetter in stress period one, then is drier in stress periods 2 and 3 (see .rch file)\n",
    "\n",
    "Pumping well discharge changes each stress period (see .wel file)\n",
    "\n",
    "In addition to heads and fluxes, MODPATH is also included in the PEST++ model run file to perform particle tracking after MODFLOW finishes\n",
    "\n",
    "***********************************************\n",
    "__So, the objectives of this notebook are to:__\n",
    "\n",
    "1) Ease you into the Freyberg model as we'll be using it for the rest of the class\n",
    "\n",
    "2) Revisit the PEST control (pst) file\n",
    "\n",
    "3) Look at typical summary statistics and plots the describe our degree of fit\n",
    "\n",
    "4) Look at how head data constraints ripple to different forecast types"
   ]
  },
  {
   "cell_type": "markdown",
   "metadata": {},
   "source": [
    "## Standard two blocks to prep the notebook"
   ]
  },
  {
   "cell_type": "code",
   "execution_count": null,
   "metadata": {
    "collapsed": false
   },
   "outputs": [],
   "source": [
    "%matplotlib inline\n",
    "import os\n",
    "import shutil\n",
    "import pandas as pd\n",
    "import matplotlib.pyplot as plt\n",
    "import pyemu\n",
    "import platform\n",
    "import pestools as pt\n",
    "if 'window' in platform.platform().lower():\n",
    "    ppp = 'pest++'\n",
    "    pestchek = 'pestchek'\n",
    "    inschek = 'inschek'\n",
    "    tempchek = 'tempchek'\n",
    "else:\n",
    "    ppp = './pestpp'\n",
    "    pestchek = './pestchek'\n",
    "    inschek = './inschek'\n",
    "    tempchek = './tempchek'"
   ]
  },
  {
   "cell_type": "code",
   "execution_count": null,
   "metadata": {
    "collapsed": false
   },
   "outputs": [],
   "source": [
    "base_dir = os.path.join(\"..\",\"..\",\"models\",\"Freyberg\",\"Freyberg_K\")\n",
    "assert os.path.exists(base_dir)\n",
    "[shutil.copy2(os.path.join(base_dir,f),f) for f in os.listdir(base_dir)];\n",
    "\n",
    "pst = pyemu.Pst(\"freyberg.pst\")\n",
    "pst.control_data.noptmax = 0\n",
    "pst.write(\"freyberg.pst\")"
   ]
  },
  {
   "cell_type": "markdown",
   "metadata": {},
   "source": [
    "## We've given you all the files you need to run this PEST++ on this model.  Open up the .pst file.  To guide your eyes through the PEST control file, answer these questions:\n",
    "\n",
    "1) How many parameters are we running? \n",
    "\n",
    "2) How many are adjustable? \n",
    "\n",
    "3) How many types of observations are included?\n",
    "\n",
    "4) How many forecasts? What types?\n",
    "\n",
    "5) How many template (tpl) files do we have?\n",
    "\n",
    "6) How many instruction (ins) files do we have? "
   ]
  },
  {
   "cell_type": "markdown",
   "metadata": {},
   "source": [
    "## Now that you know the .ins, and .tpl files, open them in a text editor (make sure you are looking at the ones in /activities/freyberg_k subdirectory). In a seperate terminal window, run TEMPCHEK, INSCHEK and PESTCHEK on the files we've given you. "
   ]
  },
  {
   "cell_type": "markdown",
   "metadata": {},
   "source": [
    "### Okay, you've got running PEST utilities in a seperate terminal window by now?  To speed things up we've given you a way to execute these utilities from within the Freyberg notebook.  We've included the equivalent version of what you just did in the next four code blocks.  Execute the code block then look at terminal window where you launched this notebook."
   ]
  },
  {
   "cell_type": "code",
   "execution_count": null,
   "metadata": {
    "collapsed": false,
    "scrolled": true
   },
   "outputs": [],
   "source": [
    "os.system(\"{0} freyberg.rch.tpl\".format(tempchek))"
   ]
  },
  {
   "cell_type": "code",
   "execution_count": null,
   "metadata": {
    "collapsed": false
   },
   "outputs": [],
   "source": [
    "os.system(\"{0} hk.ref.tpl\".format(tempchek))"
   ]
  },
  {
   "cell_type": "code",
   "execution_count": null,
   "metadata": {
    "collapsed": false
   },
   "outputs": [],
   "source": [
    "os.system(\"{0} freyberg.heads.ins freyberg.heads\".format(inschek))"
   ]
  },
  {
   "cell_type": "code",
   "execution_count": null,
   "metadata": {
    "collapsed": false
   },
   "outputs": [],
   "source": [
    "os.system(\"{0} freyberg.pst\".format(pestchek))"
   ]
  },
  {
   "cell_type": "markdown",
   "metadata": {},
   "source": [
    "# Okay, let's run this thing. \n",
    "\n",
    "## Because we call a program from within the Jupyter Notebook you have to look at the terminal window that you used to start the notebook to see the screen report of the run.  So, when executing this next block look at your terminal window to see the run.  It will say \"Simulation complete...\" when finished.\n",
    "\n",
    "### NOTE:  And/or wait until the standard out  reports a \"0\" below this next block (=when the run is finished) before going on."
   ]
  },
  {
   "cell_type": "code",
   "execution_count": null,
   "metadata": {
    "collapsed": false
   },
   "outputs": [],
   "source": [
    "os.system(\"{0} freyberg.pst\".format(ppp))"
   ]
  },
  {
   "cell_type": "markdown",
   "metadata": {},
   "source": [
    "## ``PEST++`` only ran the model one time - why?\n",
    "\n",
    "Yeah, that's right, the NOPTMAX=0 thing again.  We had that set to zero because we want to check the plumbing before burning the silicon. Did everything run (i.e., did you see \"Simulation Complete...\" in your terminal window?  Like before, you *could* change NOPTMAX to 20 in a text editor.  But, pyemu can do it for you with the next block.  "
   ]
  },
  {
   "cell_type": "code",
   "execution_count": null,
   "metadata": {
    "collapsed": false
   },
   "outputs": [],
   "source": [
    "pst = pyemu.Pst(\"freyberg.pst\")\n",
    "pst.control_data.noptmax = 20\n",
    "pst.write(\"freyberg.pst\")"
   ]
  },
  {
   "cell_type": "markdown",
   "metadata": {},
   "source": [
    "#### \"Trust but verify\"....by running PESTCHEK"
   ]
  },
  {
   "cell_type": "code",
   "execution_count": null,
   "metadata": {
    "collapsed": false
   },
   "outputs": [],
   "source": [
    "os.system(\"{0} freyberg.pst\".format(pestchek))"
   ]
  },
  {
   "cell_type": "markdown",
   "metadata": {},
   "source": [
    "### Now we let's run it.  Just like before  you have to look at the terminal window that you used to start the notebook to see the screen report of the run.  So, when executing this next block look at your terminal window to see the run.  It will say \"Simulation complete...\" when finished.\n",
    "\n",
    "Or wait until the standard out  reports a \"0\" below this next block (=when the run is finished) before going on."
   ]
  },
  {
   "cell_type": "code",
   "execution_count": null,
   "metadata": {
    "collapsed": false
   },
   "outputs": [],
   "source": [
    "os.system(\"{0} freyberg.pst\".format(ppp))"
   ]
  },
  {
   "cell_type": "markdown",
   "metadata": {},
   "source": [
    "### Let's explore the results\n",
    "\n",
    "First let's look at the measurement objective function (Phi), which is calculated using the sum of squared weighted residuals.   "
   ]
  },
  {
   "cell_type": "code",
   "execution_count": null,
   "metadata": {
    "collapsed": false
   },
   "outputs": [],
   "source": [
    "df_obj = pd.read_csv(\"freyberg.iobj\",index_col=0)\n",
    "df_obj"
   ]
  },
  {
   "cell_type": "markdown",
   "metadata": {},
   "source": [
    "### Which are the only target group to matter?  How was that accomplished in the PEST control file?\n",
    "\n",
    "For this problem, recall our objective function is calculated using this equation:\n",
    "\n",
    "\n",
    "<img src=\"SOSWR_eq_AW&H2015.png\" style=\"float: center\">\n",
    "\n",
    "where Phi is the \"sum of squared weighted residuals\" that we look to minimize, *whi* is the weight for the ith head observation; *hm* is the measured (observed) head target; *hs* is the simulated head; and n is the number of observations.\n",
    "\n",
    "# Hey, we told PEST to try 20 parameter estimation upgrades but it stopped at 3!  What gives?!?\n",
    "\n",
    "(hint: search the .rec file for OPTIMIZATION COMPLETE)"
   ]
  },
  {
   "cell_type": "markdown",
   "metadata": {},
   "source": [
    "PEST and PEST++ will quit the parameter estimation process if one of these 4 conditions is met:\n",
    "\n",
    "1) The maximum number of interations specified in NOPTMAX is reached\n",
    "\n",
    "2) The fit is not getting any better based on a user-supplied closure\n",
    "\n",
    "3) The parameters are not changing based on a user-supplied closure\n",
    "\n",
    "4) The user killed the run, usually with a ctrl-c  (happens quite frequently)"
   ]
  },
  {
   "cell_type": "markdown",
   "metadata": {},
   "source": [
    "##  Let's evaulate our fit using the observed-simulated residuals"
   ]
  },
  {
   "cell_type": "code",
   "execution_count": null,
   "metadata": {
    "collapsed": false
   },
   "outputs": [],
   "source": [
    "res = pt.Res('freyberg.rei')\n",
    "\n",
    "res.describe_groups('head_cal')"
   ]
  },
  {
   "cell_type": "markdown",
   "metadata": {},
   "source": [
    "### These represent some *summary* statistics for the history matching - we only have on observation group (heads), if there were other observation types we'd have separate columns.  Note however, the model isn't considered *calibrated* until the parameters are verified to be reasonable.  \n",
    "\n",
    "### Let's plot up the 1:1 line of measured to simulated values (should be in most all evaluations). The closer the line the better the fit."
   ]
  },
  {
   "cell_type": "code",
   "execution_count": null,
   "metadata": {
    "collapsed": false
   },
   "outputs": [],
   "source": [
    "res.plot_one2one('head_cal',print_stats=['Mean', 'MAE', 'RMSE'])"
   ]
  },
  {
   "cell_type": "markdown",
   "metadata": {},
   "source": [
    "### Not a bad fit!  Thanks PEST++.\n",
    "\n",
    "### We can also look at the residual (y-axis) compared to the observation magnitude (x-axis).  The closer the circle is to the black line the better the fit.  The mean residual is shown as a red line, the pink zone is 1 standard deviation on either side of the mean."
   ]
  },
  {
   "cell_type": "code",
   "execution_count": null,
   "metadata": {
    "collapsed": false
   },
   "outputs": [],
   "source": [
    "res.plot_measured_vs_residual('head_cal')"
   ]
  },
  {
   "cell_type": "markdown",
   "metadata": {},
   "source": [
    "# Now let's look at what the calibration did for uncertainty\n",
    "\n",
    "### First, let's look the change in uncertainty for our one horizontal hydraulic conductivity (Kh) parameter"
   ]
  },
  {
   "cell_type": "code",
   "execution_count": null,
   "metadata": {
    "collapsed": false
   },
   "outputs": [],
   "source": [
    "df_paru = pd.read_csv(\"freyberg.par.usum.csv\")\n",
    "df_paru"
   ]
  },
  {
   "cell_type": "markdown",
   "metadata": {},
   "source": [
    "### NOTE: Because we log transformed the Kh parameter the uncertainty results are reported as logrithms in the dataframe above.  What you'll see in the MODFLOW input file is the non-log transformed Kh value, which is 10^0.693406 = 4.9465457\n",
    "\n",
    "\n",
    "# Now let's look at changes in model forecast uncertainty"
   ]
  },
  {
   "cell_type": "code",
   "execution_count": null,
   "metadata": {
    "collapsed": false
   },
   "outputs": [],
   "source": [
    "df_predu = pd.read_csv(\"freyberg.pred.usum.csv\",index_col=0)\n",
    "df_predu"
   ]
  },
  {
   "cell_type": "markdown",
   "metadata": {},
   "source": [
    "### Or maybe just easier to look at the graphs"
   ]
  },
  {
   "cell_type": "code",
   "execution_count": null,
   "metadata": {
    "collapsed": false
   },
   "outputs": [],
   "source": [
    "for forecast in df_predu.index:\n",
    "    ax = df_predu.loc[forecast,[\"prior_stdev\",\"post_stdev\"]].plot(kind=\"bar\")\n",
    "    ax.set_title(forecast)\n",
    "    plt.show()"
   ]
  },
  {
   "cell_type": "markdown",
   "metadata": {},
   "source": [
    "### And we can use summary statistics to help be quantitative on the reduction in forecast uncertainty"
   ]
  },
  {
   "cell_type": "code",
   "execution_count": null,
   "metadata": {
    "collapsed": false
   },
   "outputs": [],
   "source": [
    "df_predu.loc[:,\"percent_reduction\"] = 100.0 * (1.0 - (df_predu.post_stdev / df_predu.prior_stdev))\n",
    "df_predu.percent_reduction"
   ]
  },
  {
   "cell_type": "markdown",
   "metadata": {},
   "source": [
    "### Does it make sense that the travel time uncertainty would be reduced in the same proportion as the head forecasts?"
   ]
  },
  {
   "cell_type": "markdown",
   "metadata": {
    "collapsed": true
   },
   "source": [
    "### We saw in `xsec_response_surface` activity that if we only have head data we get a trough in the objective function and there is no best fit, but here we got a best fit.  How did we did we get away with this?"
   ]
  },
  {
   "cell_type": "code",
   "execution_count": null,
   "metadata": {
    "collapsed": true
   },
   "outputs": [],
   "source": []
  }
 ],
 "metadata": {
  "anaconda-cloud": {},
  "kernelspec": {
   "display_name": "Python 3",
   "language": "python",
   "name": "python3"
  },
  "language_info": {
   "codemirror_mode": {
    "name": "ipython",
    "version": 3
   },
   "file_extension": ".py",
   "mimetype": "text/x-python",
   "name": "python",
   "nbconvert_exporter": "python",
   "pygments_lexer": "ipython3",
   "version": "3.5.2"
  }
 },
 "nbformat": 4,
 "nbformat_minor": 0
}
