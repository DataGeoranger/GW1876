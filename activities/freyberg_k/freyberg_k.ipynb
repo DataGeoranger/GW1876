{
 "cells": [
  {
   "cell_type": "markdown",
   "metadata": {},
   "source": [
    "<img src=\"AW&H2015.png\" style=\"float: left\">\n",
    "\n",
    "<img src=\"flopylogo.png\" style=\"float: center\">\n",
    "\n",
    "# History match the Freyberg model using a single ``K`` parameter\n",
    "\n",
    "Freyberg (1988) was notable for the discussing what is often called \"point calibration\" and \"overfitting\". It is a heterogenous 2D areal (1-layer) model that is a step up in complexity from our xsec model. Recall it looks like this, as shown in the original Freyberg (1988) paper on the left, and a Groundwater Vistas version on the right (from the file in the GW_Vistas subdirectory).   \n",
    "\n",
    "<img src=\"Freburg1988_fig1.png\" style=\"float: left\">\n",
    "<img src=\"Freyberg_k_plot_GW_Vistas.png\" style=\"float: right\">"
   ]
  },
  {
   "cell_type": "markdown",
   "metadata": {},
   "source": [
    "As we discussed in our first notebook, one way to get to an optimal model is to start simple and add complexity. To do this righte we need to add our forecasts first along with the calibration targets, and look at both as more model complexity is added.  One of the findings of the Freyberg (1988) model is that some students made their model too complex, which diminished its performance for the prediction of interest. Starting simple will keep us out of danger (at least for this notebook). \n",
    "\n",
    "This version of the Freyberg model has 3 stress periods:  1 steady state -> 1 transient for 5 years -> 1 steady state\n",
    "\n",
    "The river stage and node conductance changes in each stress period (see .riv file)\n",
    "\n",
    "The recharge starts out wetter in stress period one, then is drier in stress periods 2 and 3 (see .rch file)\n",
    "\n",
    "Pumping well discharge changes each stress period (see .wel file)\n",
    "\n",
    "In addition to heads and fluxes, MODPATH is also included in the PEST++ model run file to perform particle tracking after MODFLOW finishes\n",
    "\n",
    "***********************************************\n",
    "__So, the objectives of this notebook are to:__\n",
    "\n",
    "1) Ease you into the Freyberg model as we'll be using it for the rest of the class\n",
    "\n",
    "2) Revisit the PEST control (pst) file\n",
    "\n",
    "3) Look at typical summary statistics and plots the describe our degree of fit\n",
    "\n",
    "4) Look at how head data constraints ripple to different forecast types"
   ]
  },
  {
   "cell_type": "markdown",
   "metadata": {},
   "source": [
    "## Standard two blocks to prep the notebook"
   ]
  },
  {
   "cell_type": "code",
   "execution_count": 1,
   "metadata": {},
   "outputs": [],
   "source": [
    "%matplotlib inline\n",
    "import os\n",
    "import sys\n",
    "sys.path.append(\"..\")\n",
    "import shutil\n",
    "import pandas as pd\n",
    "import matplotlib.pyplot as plt\n",
    "import pyemu"
   ]
  },
  {
   "cell_type": "code",
   "execution_count": 2,
   "metadata": {},
   "outputs": [
    {
     "name": "stdout",
     "output_type": "stream",
     "text": [
      "['.DS_Store', 'botm.ref', 'extract_zone_array.py', 'forecasts_true.csv', 'freyberg.bas', 'freyberg.dbf', 'freyberg.dis', 'freyberg.hds', 'freyberg.heads', 'freyberg.heads_potobs.ins', 'freyberg.hyd', 'freyberg.list', 'freyberg.locations', 'freyberg.mpbas', 'freyberg.mpenpt', 'freyberg.mplist', 'freyberg.mpnam', 'freyberg.mppthln', 'freyberg.mpsim', 'freyberg.oc', 'freyberg.pcg', 'freyberg.rivflux', 'freyberg.shp', 'freyberg.shx', 'freyberg.travel', 'freyberg.truth.lpf', 'freyberg.truth.nam', 'freyberg.truth.rch', 'freyberg.truth.riv', 'freyberg.truth.wel', 'hk.truth.ref', 'hk.zones', 'ibound.ref', 'kzone.ref', 'mpath.in', 'potobs_group.csv', 'Process_output.py', 'really_noisy_heads.txt', 'run_true_model.py', 'strt.ref', 'Weights_and_best_PHI.xlsx']\n",
      "\n",
      "changing model workspace...\n",
      "   freyberg_un\n",
      "WARNING: unit 31 of package UPW already in use\n",
      "FloPy is using the following executable to run the model: /Users/jwhite/Dev/GW1876/activities/freyberg_k/freyberg_un/mfnwt\n",
      "\n",
      "                                  MODFLOW-NWT-SWR1 \n",
      "    U.S. GEOLOGICAL SURVEY MODULAR FINITE-DIFFERENCE GROUNDWATER-FLOW MODEL\n",
      "                             WITH NEWTON FORMULATION\n",
      "                             Version 1.1.1, 7/21/2016                        \n",
      "                    BASED ON MODFLOW-2005 Version 1.11.0 08/08/2013                       \n",
      "\n",
      "                    SWR1 Version 1.04.0 07/21/2016                       \n",
      "\n",
      " Using NAME file: freyberg.nam \n",
      " Run start date and time (yyyy/mm/dd hh:mm:ss): 2017/08/30 21:49:32\n",
      "\n",
      " Solving:  Stress period:     1    Time step:     1    Groundwater-Flow Eqn.\n",
      " Solving:  Stress period:     2    Time step:     1    Groundwater-Flow Eqn.\n",
      " Solving:  Stress period:     3    Time step:     1    Groundwater-Flow Eqn.\n",
      " Run end date and time (yyyy/mm/dd hh:mm:ss): 2017/08/30 21:49:32\n",
      " Elapsed run time:  0.024 Seconds\n",
      "\n",
      "  Normal termination of simulation\n",
      "run():./mp6 freyberg.mpsim\n",
      "Util2d:delr: resetting 'how' to external\n",
      "Util2d:delc: resetting 'how' to external\n",
      "Util2d:model_top: resetting 'how' to external\n",
      "Util2d:botm_layer_0: resetting 'how' to external\n",
      "Util2d:ibound_layer_0: resetting 'how' to external\n",
      "Util2d:strt_layer_0: resetting 'how' to external\n",
      "Util2d:rech_1: resetting 'how' to external\n",
      "Util2d:rech_2: resetting 'how' to external\n",
      "Util2d:rech_3: resetting 'how' to external\n",
      "Util2d:hk layer 1: resetting 'how' to external\n",
      "Util2d:vk: resetting 'how' to external\n",
      "Util2d:ss: resetting 'how' to external\n",
      "Util2d:ss: resetting 'how' to external\n",
      "FloPy is using the following executable to run the model: /Users/jwhite/Dev/GW1876/activities/freyberg_k/freyberg_un/mfnwt\n",
      "\n",
      "                                  MODFLOW-NWT-SWR1 \n",
      "    U.S. GEOLOGICAL SURVEY MODULAR FINITE-DIFFERENCE GROUNDWATER-FLOW MODEL\n",
      "                             WITH NEWTON FORMULATION\n",
      "                             Version 1.1.1, 7/21/2016                        \n",
      "                    BASED ON MODFLOW-2005 Version 1.11.0 08/08/2013                       \n",
      "\n",
      "                    SWR1 Version 1.04.0 07/21/2016                       \n",
      "\n",
      " Using NAME file: freyberg.nam \n",
      " Run start date and time (yyyy/mm/dd hh:mm:ss): 2017/08/30 21:49:32\n",
      "\n",
      " Solving:  Stress period:     1    Time step:     1    Groundwater-Flow Eqn.\n",
      " Solving:  Stress period:     2    Time step:     1    Groundwater-Flow Eqn.\n",
      " Solving:  Stress period:     3    Time step:     1    Groundwater-Flow Eqn.\n",
      " Run end date and time (yyyy/mm/dd hh:mm:ss): 2017/08/30 21:49:32\n",
      " Elapsed run time:  0.026 Seconds\n",
      "\n",
      "  Normal termination of simulation\n",
      "Starting to read HYDMOD data from freyberg.hyd.bin\n",
      "Starting to read HYDMOD data from freyberg.hyd.bin.truth\n",
      "run():./inschek flux.dat.ins flux.dat\n",
      "run():./inschek vol.dat.ins vol.dat\n",
      "run():./inschek flux.dat.ins flux.dat\n",
      "run():./inschek vol.dat.ins vol.dat\n",
      "run():./inschek flux.dat.ins flux.dat\n",
      "run():./inschek freyberg.hyd.bin.dat.ins freyberg.hyd.bin.dat\n"
     ]
    },
    {
     "name": "stderr",
     "output_type": "stream",
     "text": [
      "/Users/jwhite/Dev/python/pyemu/pyemu/pst/pst_utils.py:419: UserWarning: pst_from_io_files has moved to pyemu.helpers and is also now avaiable as a Pst class method (Pst.from_io_files())\n",
      "  \"now avaiable as a Pst class method (Pst.from_io_files())\")\n"
     ]
    },
    {
     "name": "stdout",
     "output_type": "stream",
     "text": [
      "run():./inschek freyberg.travel.ins freyberg.travel\n",
      "run():./inschek vol.dat.ins vol.dat\n",
      "run():./pestchek freyberg_un.pst\n",
      "run():./pestpp freyberg_un.init.pst\n"
     ]
    }
   ],
   "source": [
    "import freyberg_setup as fs\n",
    "pst_name = fs.PST_NAME_UN\n",
    "working_dir = fs.WORKING_DIR_UN\n",
    "fs.setup_pest_un()\n",
    "pst = pyemu.Pst(os.path.join(working_dir,pst_name))\n",
    "pst.control_data.noptmax = 0\n",
    "pst.write(os.path.join(working_dir,pst_name))"
   ]
  },
  {
   "cell_type": "markdown",
   "metadata": {},
   "source": [
    "## We've given you all the files you need to run this PEST++ on this model.  Open up the .pst file.  To guide your eyes through the PEST control file, answer these questions:\n",
    "\n",
    "1) How many parameters are we running? \n",
    "\n",
    "2) How many are adjustable? \n",
    "\n",
    "3) How many types of observations are included?\n",
    "\n",
    "4) How many forecasts? What types?\n",
    "\n",
    "5) How many template (tpl) files do we have?\n",
    "\n",
    "6) How many instruction (ins) files do we have? "
   ]
  },
  {
   "cell_type": "markdown",
   "metadata": {},
   "source": [
    "## Now that you know the .ins, and .tpl files, open them in a text editor (make sure you are looking at the ones in /activities/freyberg_k subdirectory). In a seperate terminal window, run TEMPCHEK, INSCHEK and PESTCHEK on the files we've given you. "
   ]
  },
  {
   "cell_type": "markdown",
   "metadata": {},
   "source": [
    "### Okay, you've got running PEST utilities in a seperate terminal window by now?  To speed things up we've given you a way to execute these utilities from within the Freyberg notebook.  We've included the equivalent version of what you just did in the next four code blocks.  Execute the code block then look at terminal window where you launched this notebook."
   ]
  },
  {
   "cell_type": "code",
   "execution_count": 3,
   "metadata": {
    "scrolled": true
   },
   "outputs": [
    {
     "name": "stdout",
     "output_type": "stream",
     "text": [
      "run():tempchek freyberg.rch.tpl\n"
     ]
    }
   ],
   "source": [
    "pyemu.helpers.run(\"tempchek freyberg.rch.tpl\",cwd=working_dir)"
   ]
  },
  {
   "cell_type": "code",
   "execution_count": 4,
   "metadata": {},
   "outputs": [
    {
     "name": "stdout",
     "output_type": "stream",
     "text": [
      "run():tempchek hk.ref.tpl\n"
     ]
    }
   ],
   "source": [
    "pyemu.helpers.run(\"tempchek hk.ref.tpl\",cwd=working_dir)"
   ]
  },
  {
   "cell_type": "code",
   "execution_count": 5,
   "metadata": {},
   "outputs": [
    {
     "name": "stdout",
     "output_type": "stream",
     "text": [
      "run():inschek freyberg.heads.ins freyberg.heads\n"
     ]
    }
   ],
   "source": [
    "pyemu.helpers.run(\"inschek freyberg.heads.ins freyberg.heads\",cwd=working_dir)"
   ]
  },
  {
   "cell_type": "code",
   "execution_count": 6,
   "metadata": {},
   "outputs": [
    {
     "name": "stdout",
     "output_type": "stream",
     "text": [
      "run():pestchek freyberg_un.pst\n"
     ]
    }
   ],
   "source": [
    "pyemu.helpers.run(\"pestchek {0}\".format(pst_name),cwd=working_dir)"
   ]
  },
  {
   "cell_type": "markdown",
   "metadata": {},
   "source": [
    "# Okay, let's run this thing. \n",
    "\n",
    "## Because we call a program from within the Jupyter Notebook you have to look at the terminal window that you used to start the notebook to see the screen report of the run.  So, when executing this next block look at your terminal window to see the run.  It will say \"Simulation complete...\" when finished.\n",
    "\n",
    "### NOTE:  And/or wait until the standard out  reports a \"0\" below this next block (=when the run is finished) before going on."
   ]
  },
  {
   "cell_type": "code",
   "execution_count": 7,
   "metadata": {},
   "outputs": [
    {
     "name": "stdout",
     "output_type": "stream",
     "text": [
      "run():pestpp freyberg_un.pst \n"
     ]
    }
   ],
   "source": [
    "pyemu.helpers.run(\"pestpp {0} \".format(pst_name),cwd=working_dir)"
   ]
  },
  {
   "cell_type": "markdown",
   "metadata": {},
   "source": [
    "## ``PEST++`` only ran the model one time - why?\n",
    "\n",
    "Yeah, that's right, the NOPTMAX=0 thing again.  We had that set to zero because we want to check the plumbing before burning the silicon. Did everything run (i.e., did you see \"Simulation Complete...\" in your terminal window?  Like before, you *could* change NOPTMAX to 20 in a text editor.  But, pyemu can do it for you with the next block.  "
   ]
  },
  {
   "cell_type": "code",
   "execution_count": 8,
   "metadata": {},
   "outputs": [],
   "source": [
    "pst = pyemu.Pst(os.path.join(working_dir,pst_name))\n",
    "pst.control_data.noptmax = 20\n",
    "pst.write(os.path.join(working_dir,pst_name))"
   ]
  },
  {
   "cell_type": "markdown",
   "metadata": {},
   "source": [
    "#### \"Trust but verify\"....by running PESTCHEK"
   ]
  },
  {
   "cell_type": "code",
   "execution_count": 9,
   "metadata": {},
   "outputs": [
    {
     "name": "stdout",
     "output_type": "stream",
     "text": [
      "run():pestchek freyberg_un.pst \n"
     ]
    }
   ],
   "source": [
    "pyemu.helpers.run(\"pestchek {0} \".format(pst_name),cwd=working_dir)"
   ]
  },
  {
   "cell_type": "markdown",
   "metadata": {},
   "source": [
    "### Now we let's run it.  Just like before  you have to look at the terminal window that you used to start the notebook to see the screen report of the run.  So, when executing this next block look at your terminal window to see the run.  It will say \"Simulation complete...\" when finished.\n",
    "\n",
    "Or wait until the standard out  reports a \"0\" below this next block (=when the run is finished) before going on."
   ]
  },
  {
   "cell_type": "code",
   "execution_count": 10,
   "metadata": {},
   "outputs": [
    {
     "name": "stdout",
     "output_type": "stream",
     "text": [
      "run():pestpp freyberg_un.pst \n"
     ]
    }
   ],
   "source": [
    "pyemu.helpers.run(\"pestpp {0} \".format(pst_name),cwd=working_dir)"
   ]
  },
  {
   "cell_type": "markdown",
   "metadata": {},
   "source": [
    "### Let's explore the results\n",
    "\n",
    "First let's look at the measurement objective function (Phi), which is calculated using the sum of squared weighted residuals.   "
   ]
  },
  {
   "cell_type": "code",
   "execution_count": 11,
   "metadata": {},
   "outputs": [
    {
     "data": {
      "text/html": [
       "<div>\n",
       "<style>\n",
       "    .dataframe thead tr:only-child th {\n",
       "        text-align: right;\n",
       "    }\n",
       "\n",
       "    .dataframe thead th {\n",
       "        text-align: left;\n",
       "    }\n",
       "\n",
       "    .dataframe tbody tr th {\n",
       "        vertical-align: top;\n",
       "    }\n",
       "</style>\n",
       "<table border=\"1\" class=\"dataframe\">\n",
       "  <thead>\n",
       "    <tr style=\"text-align: right;\">\n",
       "      <th></th>\n",
       "      <th>model_runs_completed</th>\n",
       "      <th>total_phi</th>\n",
       "      <th>measurement_phi</th>\n",
       "      <th>regularization_phi</th>\n",
       "      <th>vol_storage</th>\n",
       "      <th>calflux</th>\n",
       "      <th>flx_in-out</th>\n",
       "      <th>flx_constan</th>\n",
       "      <th>vol_constan</th>\n",
       "      <th>vol_in-out</th>\n",
       "      <th>...</th>\n",
       "      <th>foretrav</th>\n",
       "      <th>forehead</th>\n",
       "      <th>flx_total</th>\n",
       "      <th>vol_recharg</th>\n",
       "      <th>flx_river_l</th>\n",
       "      <th>vol_percent</th>\n",
       "      <th>vol_total</th>\n",
       "      <th>flx_recharg</th>\n",
       "      <th>head</th>\n",
       "      <th>vol_river_l</th>\n",
       "    </tr>\n",
       "    <tr>\n",
       "      <th>iteration</th>\n",
       "      <th></th>\n",
       "      <th></th>\n",
       "      <th></th>\n",
       "      <th></th>\n",
       "      <th></th>\n",
       "      <th></th>\n",
       "      <th></th>\n",
       "      <th></th>\n",
       "      <th></th>\n",
       "      <th></th>\n",
       "      <th></th>\n",
       "      <th></th>\n",
       "      <th></th>\n",
       "      <th></th>\n",
       "      <th></th>\n",
       "      <th></th>\n",
       "      <th></th>\n",
       "      <th></th>\n",
       "      <th></th>\n",
       "      <th></th>\n",
       "      <th></th>\n",
       "    </tr>\n",
       "  </thead>\n",
       "  <tbody>\n",
       "    <tr>\n",
       "      <th>0</th>\n",
       "      <td>0</td>\n",
       "      <td>1207.910</td>\n",
       "      <td>1207.910</td>\n",
       "      <td>0</td>\n",
       "      <td>0</td>\n",
       "      <td>0</td>\n",
       "      <td>0</td>\n",
       "      <td>0</td>\n",
       "      <td>0</td>\n",
       "      <td>0</td>\n",
       "      <td>...</td>\n",
       "      <td>0</td>\n",
       "      <td>0</td>\n",
       "      <td>0</td>\n",
       "      <td>0</td>\n",
       "      <td>0</td>\n",
       "      <td>0</td>\n",
       "      <td>0</td>\n",
       "      <td>0</td>\n",
       "      <td>0</td>\n",
       "      <td>0</td>\n",
       "    </tr>\n",
       "    <tr>\n",
       "      <th>1</th>\n",
       "      <td>8</td>\n",
       "      <td>743.190</td>\n",
       "      <td>743.190</td>\n",
       "      <td>0</td>\n",
       "      <td>0</td>\n",
       "      <td>0</td>\n",
       "      <td>0</td>\n",
       "      <td>0</td>\n",
       "      <td>0</td>\n",
       "      <td>0</td>\n",
       "      <td>...</td>\n",
       "      <td>0</td>\n",
       "      <td>0</td>\n",
       "      <td>0</td>\n",
       "      <td>0</td>\n",
       "      <td>0</td>\n",
       "      <td>0</td>\n",
       "      <td>0</td>\n",
       "      <td>0</td>\n",
       "      <td>0</td>\n",
       "      <td>0</td>\n",
       "    </tr>\n",
       "    <tr>\n",
       "      <th>2</th>\n",
       "      <td>15</td>\n",
       "      <td>738.895</td>\n",
       "      <td>738.895</td>\n",
       "      <td>0</td>\n",
       "      <td>0</td>\n",
       "      <td>0</td>\n",
       "      <td>0</td>\n",
       "      <td>0</td>\n",
       "      <td>0</td>\n",
       "      <td>0</td>\n",
       "      <td>...</td>\n",
       "      <td>0</td>\n",
       "      <td>0</td>\n",
       "      <td>0</td>\n",
       "      <td>0</td>\n",
       "      <td>0</td>\n",
       "      <td>0</td>\n",
       "      <td>0</td>\n",
       "      <td>0</td>\n",
       "      <td>0</td>\n",
       "      <td>0</td>\n",
       "    </tr>\n",
       "    <tr>\n",
       "      <th>3</th>\n",
       "      <td>23</td>\n",
       "      <td>738.882</td>\n",
       "      <td>738.882</td>\n",
       "      <td>0</td>\n",
       "      <td>0</td>\n",
       "      <td>0</td>\n",
       "      <td>0</td>\n",
       "      <td>0</td>\n",
       "      <td>0</td>\n",
       "      <td>0</td>\n",
       "      <td>...</td>\n",
       "      <td>0</td>\n",
       "      <td>0</td>\n",
       "      <td>0</td>\n",
       "      <td>0</td>\n",
       "      <td>0</td>\n",
       "      <td>0</td>\n",
       "      <td>0</td>\n",
       "      <td>0</td>\n",
       "      <td>0</td>\n",
       "      <td>0</td>\n",
       "    </tr>\n",
       "  </tbody>\n",
       "</table>\n",
       "<p>4 rows × 27 columns</p>\n",
       "</div>"
      ],
      "text/plain": [
       "           model_runs_completed  total_phi  measurement_phi  \\\n",
       "iteration                                                     \n",
       "0                             0   1207.910         1207.910   \n",
       "1                             8    743.190          743.190   \n",
       "2                            15    738.895          738.895   \n",
       "3                            23    738.882          738.882   \n",
       "\n",
       "           regularization_phi  vol_storage  calflux  flx_in-out  flx_constan  \\\n",
       "iteration                                                                      \n",
       "0                           0            0        0           0            0   \n",
       "1                           0            0        0           0            0   \n",
       "2                           0            0        0           0            0   \n",
       "3                           0            0        0           0            0   \n",
       "\n",
       "           vol_constan  vol_in-out     ...       foretrav  forehead  \\\n",
       "iteration                              ...                            \n",
       "0                    0           0     ...              0         0   \n",
       "1                    0           0     ...              0         0   \n",
       "2                    0           0     ...              0         0   \n",
       "3                    0           0     ...              0         0   \n",
       "\n",
       "           flx_total  vol_recharg  flx_river_l  vol_percent  vol_total  \\\n",
       "iteration                                                                \n",
       "0                  0            0            0            0          0   \n",
       "1                  0            0            0            0          0   \n",
       "2                  0            0            0            0          0   \n",
       "3                  0            0            0            0          0   \n",
       "\n",
       "           flx_recharg  head  vol_river_l  \n",
       "iteration                                  \n",
       "0                    0     0            0  \n",
       "1                    0     0            0  \n",
       "2                    0     0            0  \n",
       "3                    0     0            0  \n",
       "\n",
       "[4 rows x 27 columns]"
      ]
     },
     "execution_count": 11,
     "metadata": {},
     "output_type": "execute_result"
    }
   ],
   "source": [
    "df_obj = pd.read_csv(os.path.join(working_dir,pst_name.replace(\".pst\",\".iobj\")),index_col=0)\n",
    "df_obj"
   ]
  },
  {
   "cell_type": "code",
   "execution_count": 12,
   "metadata": {},
   "outputs": [
    {
     "data": {
      "text/plain": [
       "array([<matplotlib.axes._subplots.AxesSubplot object at 0x1112270b8>,\n",
       "       <matplotlib.axes._subplots.AxesSubplot object at 0x10b493e80>], dtype=object)"
      ]
     },
     "execution_count": 12,
     "metadata": {},
     "output_type": "execute_result"
    },
    {
     "data": {
      "image/png": "[encoded data removed]",
      "text/plain": [
       "<matplotlib.figure.Figure at 0x110f34048>"
      ]
     },
     "metadata": {},
     "output_type": "display_data"
    }
   ],
   "source": [
    "df_obj.loc[:,[\"total_phi\",\"model_runs_completed\"]].plot(subplots=True)"
   ]
  },
  {
   "cell_type": "markdown",
   "metadata": {},
   "source": [
    "### Which are the only target group to matter?  How was that accomplished in the PEST control file?\n",
    "\n",
    "For this problem, recall our objective function is calculated using this equation:\n",
    "\n",
    "\n",
    "<img src=\"SOSWR_eq_AW&H2015.png\" style=\"float: center\">\n",
    "\n",
    "where Phi is the \"sum of squared weighted residuals\" that we look to minimize, *whi* is the weight for the ith head observation; *hm* is the measured (observed) head target; *hs* is the simulated head; and n is the number of observations.\n",
    "\n",
    "# Hey, we told PEST to try 20 parameter estimation upgrades but it stopped at 3!  What gives?!?\n",
    "\n",
    "(hint: search the .rec file for OPTIMIZATION COMPLETE)"
   ]
  },
  {
   "cell_type": "markdown",
   "metadata": {},
   "source": [
    "PEST and PEST++ will quit the parameter estimation process if one of these 4 conditions is met:\n",
    "\n",
    "1) The maximum number of interations specified in NOPTMAX is reached\n",
    "\n",
    "2) The fit is not getting any better based on a user-supplied closure\n",
    "\n",
    "3) The parameters are not changing based on a user-supplied closure\n",
    "\n",
    "4) The user killed the run, usually with a ctrl-c  (happens quite frequently)"
   ]
  },
  {
   "cell_type": "markdown",
   "metadata": {},
   "source": [
    "##  Let's evaulate our fit using the observed-simulated residuals\n",
    "\n",
    "### Let's plot up the 1:1 line of measured to simulated values (should be in most all evaluations). The closer the line the better the fit."
   ]
  },
  {
   "cell_type": "code",
   "execution_count": 13,
   "metadata": {},
   "outputs": [
    {
     "data": {
      "text/html": [
       "<div>\n",
       "<style>\n",
       "    .dataframe thead tr:only-child th {\n",
       "        text-align: right;\n",
       "    }\n",
       "\n",
       "    .dataframe thead th {\n",
       "        text-align: left;\n",
       "    }\n",
       "\n",
       "    .dataframe tbody tr th {\n",
       "        vertical-align: top;\n",
       "    }\n",
       "</style>\n",
       "<table border=\"1\" class=\"dataframe\">\n",
       "  <thead>\n",
       "    <tr style=\"text-align: right;\">\n",
       "      <th></th>\n",
       "      <th>name</th>\n",
       "      <th>group</th>\n",
       "      <th>measured</th>\n",
       "      <th>modelled</th>\n",
       "      <th>residual</th>\n",
       "      <th>weight</th>\n",
       "    </tr>\n",
       "    <tr>\n",
       "      <th>name</th>\n",
       "      <th></th>\n",
       "      <th></th>\n",
       "      <th></th>\n",
       "      <th></th>\n",
       "      <th></th>\n",
       "      <th></th>\n",
       "    </tr>\n",
       "  </thead>\n",
       "  <tbody>\n",
       "    <tr>\n",
       "      <th>cr03c16_19700102</th>\n",
       "      <td>cr03c16_19700102</td>\n",
       "      <td>calhead</td>\n",
       "      <td>18.864677</td>\n",
       "      <td>19.827669</td>\n",
       "      <td>-0.962992</td>\n",
       "      <td>5.0</td>\n",
       "    </tr>\n",
       "    <tr>\n",
       "      <th>cr03c10_19700102</th>\n",
       "      <td>cr03c10_19700102</td>\n",
       "      <td>calhead</td>\n",
       "      <td>20.920237</td>\n",
       "      <td>22.514858</td>\n",
       "      <td>-1.594621</td>\n",
       "      <td>5.0</td>\n",
       "    </tr>\n",
       "    <tr>\n",
       "      <th>cr04c9_19700102</th>\n",
       "      <td>cr04c9_19700102</td>\n",
       "      <td>calhead</td>\n",
       "      <td>23.287189</td>\n",
       "      <td>23.052885</td>\n",
       "      <td>0.234304</td>\n",
       "      <td>5.0</td>\n",
       "    </tr>\n",
       "    <tr>\n",
       "      <th>cr10c2_19700102</th>\n",
       "      <td>cr10c2_19700102</td>\n",
       "      <td>calhead</td>\n",
       "      <td>28.141190</td>\n",
       "      <td>29.502222</td>\n",
       "      <td>-1.361032</td>\n",
       "      <td>5.0</td>\n",
       "    </tr>\n",
       "    <tr>\n",
       "      <th>cr14c11_19700102</th>\n",
       "      <td>cr14c11_19700102</td>\n",
       "      <td>calhead</td>\n",
       "      <td>20.524639</td>\n",
       "      <td>18.198273</td>\n",
       "      <td>2.326366</td>\n",
       "      <td>5.0</td>\n",
       "    </tr>\n",
       "    <tr>\n",
       "      <th>cr16c17_19700102</th>\n",
       "      <td>cr16c17_19700102</td>\n",
       "      <td>calhead</td>\n",
       "      <td>15.522017</td>\n",
       "      <td>17.452532</td>\n",
       "      <td>-1.930515</td>\n",
       "      <td>5.0</td>\n",
       "    </tr>\n",
       "    <tr>\n",
       "      <th>cr22c11_19700102</th>\n",
       "      <td>cr22c11_19700102</td>\n",
       "      <td>calhead</td>\n",
       "      <td>19.704904</td>\n",
       "      <td>17.142292</td>\n",
       "      <td>2.562612</td>\n",
       "      <td>5.0</td>\n",
       "    </tr>\n",
       "    <tr>\n",
       "      <th>cr23c16_19700102</th>\n",
       "      <td>cr23c16_19700102</td>\n",
       "      <td>calhead</td>\n",
       "      <td>15.644862</td>\n",
       "      <td>15.725641</td>\n",
       "      <td>-0.080779</td>\n",
       "      <td>5.0</td>\n",
       "    </tr>\n",
       "    <tr>\n",
       "      <th>cr25c5_19700102</th>\n",
       "      <td>cr25c5_19700102</td>\n",
       "      <td>calhead</td>\n",
       "      <td>21.413268</td>\n",
       "      <td>21.405073</td>\n",
       "      <td>0.008194</td>\n",
       "      <td>5.0</td>\n",
       "    </tr>\n",
       "    <tr>\n",
       "      <th>cr27c7_19700102</th>\n",
       "      <td>cr27c7_19700102</td>\n",
       "      <td>calhead</td>\n",
       "      <td>21.684206</td>\n",
       "      <td>19.371567</td>\n",
       "      <td>2.312639</td>\n",
       "      <td>5.0</td>\n",
       "    </tr>\n",
       "    <tr>\n",
       "      <th>cr30c16_19700102</th>\n",
       "      <td>cr30c16_19700102</td>\n",
       "      <td>calhead</td>\n",
       "      <td>12.735360</td>\n",
       "      <td>14.220937</td>\n",
       "      <td>-1.485577</td>\n",
       "      <td>5.0</td>\n",
       "    </tr>\n",
       "    <tr>\n",
       "      <th>cr34c8_19700102</th>\n",
       "      <td>cr34c8_19700102</td>\n",
       "      <td>calhead</td>\n",
       "      <td>17.708202</td>\n",
       "      <td>16.758184</td>\n",
       "      <td>0.950017</td>\n",
       "      <td>5.0</td>\n",
       "    </tr>\n",
       "    <tr>\n",
       "      <th>cr35c11_19700102</th>\n",
       "      <td>cr35c11_19700102</td>\n",
       "      <td>calhead</td>\n",
       "      <td>14.202749</td>\n",
       "      <td>14.289953</td>\n",
       "      <td>-0.087204</td>\n",
       "      <td>5.0</td>\n",
       "    </tr>\n",
       "  </tbody>\n",
       "</table>\n",
       "</div>"
      ],
      "text/plain": [
       "                              name    group   measured   modelled  residual  \\\n",
       "name                                                                          \n",
       "cr03c16_19700102  cr03c16_19700102  calhead  18.864677  19.827669 -0.962992   \n",
       "cr03c10_19700102  cr03c10_19700102  calhead  20.920237  22.514858 -1.594621   \n",
       "cr04c9_19700102    cr04c9_19700102  calhead  23.287189  23.052885  0.234304   \n",
       "cr10c2_19700102    cr10c2_19700102  calhead  28.141190  29.502222 -1.361032   \n",
       "cr14c11_19700102  cr14c11_19700102  calhead  20.524639  18.198273  2.326366   \n",
       "cr16c17_19700102  cr16c17_19700102  calhead  15.522017  17.452532 -1.930515   \n",
       "cr22c11_19700102  cr22c11_19700102  calhead  19.704904  17.142292  2.562612   \n",
       "cr23c16_19700102  cr23c16_19700102  calhead  15.644862  15.725641 -0.080779   \n",
       "cr25c5_19700102    cr25c5_19700102  calhead  21.413268  21.405073  0.008194   \n",
       "cr27c7_19700102    cr27c7_19700102  calhead  21.684206  19.371567  2.312639   \n",
       "cr30c16_19700102  cr30c16_19700102  calhead  12.735360  14.220937 -1.485577   \n",
       "cr34c8_19700102    cr34c8_19700102  calhead  17.708202  16.758184  0.950017   \n",
       "cr35c11_19700102  cr35c11_19700102  calhead  14.202749  14.289953 -0.087204   \n",
       "\n",
       "                  weight  \n",
       "name                      \n",
       "cr03c16_19700102     5.0  \n",
       "cr03c10_19700102     5.0  \n",
       "cr04c9_19700102      5.0  \n",
       "cr10c2_19700102      5.0  \n",
       "cr14c11_19700102     5.0  \n",
       "cr16c17_19700102     5.0  \n",
       "cr22c11_19700102     5.0  \n",
       "cr23c16_19700102     5.0  \n",
       "cr25c5_19700102      5.0  \n",
       "cr27c7_19700102      5.0  \n",
       "cr30c16_19700102     5.0  \n",
       "cr34c8_19700102      5.0  \n",
       "cr35c11_19700102     5.0  "
      ]
     },
     "execution_count": 13,
     "metadata": {},
     "output_type": "execute_result"
    },
    {
     "data": {
      "image/png": "[encoded data removed]",
      "text/plain": [
       "<matplotlib.figure.Figure at 0x10210c7f0>"
      ]
     },
     "metadata": {},
     "output_type": "display_data"
    }
   ],
   "source": [
    "pst = pyemu.Pst(os.path.join(working_dir,pst_name))\n",
    "res_nz = pst.res.loc[pst.nnz_obs_names,:]\n",
    "ax = plt.subplot(111,aspect=\"equal\")\n",
    "ax.scatter(res_nz.modelled,res_nz.measured)\n",
    "xlim,ylim = ax.get_xlim(),ax.get_ylim()\n",
    "mx,mn = max(xlim[1],ylim[1]),min(xlim[0],ylim[0])\n",
    "\n",
    "ax.plot([mn,mx],[mn,mx])\n",
    "ax.set_xlim(mn,mx)\n",
    "ax.set_ylim(mn,mx)\n",
    "#ax.grid()\n",
    "res_nz"
   ]
  },
  {
   "cell_type": "markdown",
   "metadata": {},
   "source": [
    "### Not a bad fit!  Thanks PEST++.\n",
    "\n",
    "### We can also look at the residual (y-axis) compared to the observation magnitude (x-axis).  The closer the circle is to the black line the better the fit.  The mean residual is shown as a red line, the pink zone is 1 standard deviation on either side of the mean."
   ]
  },
  {
   "cell_type": "markdown",
   "metadata": {},
   "source": [
    "# Now let's look at what the calibration did for uncertainty\n",
    "\n",
    "### First, let's look the change in uncertainty for our one horizontal hydraulic conductivity (Kh) parameter"
   ]
  },
  {
   "cell_type": "code",
   "execution_count": 14,
   "metadata": {},
   "outputs": [
    {
     "data": {
      "text/html": [
       "<div>\n",
       "<style>\n",
       "    .dataframe thead tr:only-child th {\n",
       "        text-align: right;\n",
       "    }\n",
       "\n",
       "    .dataframe thead th {\n",
       "        text-align: left;\n",
       "    }\n",
       "\n",
       "    .dataframe tbody tr th {\n",
       "        vertical-align: top;\n",
       "    }\n",
       "</style>\n",
       "<table border=\"1\" class=\"dataframe\">\n",
       "  <thead>\n",
       "    <tr style=\"text-align: right;\">\n",
       "      <th></th>\n",
       "      <th>name</th>\n",
       "      <th>prior_mean</th>\n",
       "      <th>prior_stdev</th>\n",
       "      <th>prior_lower_bound</th>\n",
       "      <th>prior_upper_bound</th>\n",
       "      <th>post_mean</th>\n",
       "      <th>post_stdev</th>\n",
       "      <th>post_lower_bound</th>\n",
       "      <th>post_upper_bound</th>\n",
       "    </tr>\n",
       "  </thead>\n",
       "  <tbody>\n",
       "    <tr>\n",
       "      <th>0</th>\n",
       "      <td>HK</td>\n",
       "      <td>0.69897</td>\n",
       "      <td>0.5</td>\n",
       "      <td>-0.30103</td>\n",
       "      <td>1.69897</td>\n",
       "      <td>0.840943</td>\n",
       "      <td>2.065370e-08</td>\n",
       "      <td>0.840943</td>\n",
       "      <td>0.840943</td>\n",
       "    </tr>\n",
       "  </tbody>\n",
       "</table>\n",
       "</div>"
      ],
      "text/plain": [
       "  name  prior_mean  prior_stdev  prior_lower_bound  prior_upper_bound  \\\n",
       "0   HK     0.69897          0.5           -0.30103            1.69897   \n",
       "\n",
       "   post_mean    post_stdev  post_lower_bound  post_upper_bound  \n",
       "0   0.840943  2.065370e-08          0.840943          0.840943  "
      ]
     },
     "execution_count": 14,
     "metadata": {},
     "output_type": "execute_result"
    }
   ],
   "source": [
    "df_paru = pd.read_csv(os.path.join(working_dir,pst_name.replace(\".pst\",\".par.usum.csv\")))\n",
    "df_paru"
   ]
  },
  {
   "cell_type": "code",
   "execution_count": 18,
   "metadata": {},
   "outputs": [
    {
     "data": {
      "text/plain": [
       "<matplotlib.axes._subplots.AxesSubplot at 0x110edfda0>"
      ]
     },
     "execution_count": 18,
     "metadata": {},
     "output_type": "execute_result"
    },
    {
     "data": {
      "image/png": "[encoded data removed]",
      "text/plain": [
       "<matplotlib.figure.Figure at 0x111370860>"
      ]
     },
     "metadata": {},
     "output_type": "display_data"
    }
   ],
   "source": [
    "pyemu.helpers.plot_summary_distributions(df_paru)"
   ]
  },
  {
   "cell_type": "markdown",
   "metadata": {},
   "source": [
    "### NOTE: Because we log transformed the Kh parameter the uncertainty results are reported as logrithms in the dataframe above.  What you'll see in the MODFLOW input file is the non-log transformed Kh value, which is 10^0.693406 = 4.9465457\n",
    "\n",
    "\n",
    "# Now let's look at changes in model forecast uncertainty"
   ]
  },
  {
   "cell_type": "code",
   "execution_count": 19,
   "metadata": {},
   "outputs": [
    {
     "data": {
      "text/html": [
       "<div>\n",
       "<style>\n",
       "    .dataframe thead tr:only-child th {\n",
       "        text-align: right;\n",
       "    }\n",
       "\n",
       "    .dataframe thead th {\n",
       "        text-align: left;\n",
       "    }\n",
       "\n",
       "    .dataframe tbody tr th {\n",
       "        vertical-align: top;\n",
       "    }\n",
       "</style>\n",
       "<table border=\"1\" class=\"dataframe\">\n",
       "  <thead>\n",
       "    <tr style=\"text-align: right;\">\n",
       "      <th></th>\n",
       "      <th>prior_mean</th>\n",
       "      <th>prior_stdev</th>\n",
       "      <th>prior_lower_bound</th>\n",
       "      <th>prior_upper_bound</th>\n",
       "      <th>post_mean</th>\n",
       "      <th>post_stdev</th>\n",
       "      <th>post_lower_bound</th>\n",
       "      <th>post_upper_bound</th>\n",
       "    </tr>\n",
       "    <tr>\n",
       "      <th>name</th>\n",
       "      <th></th>\n",
       "      <th></th>\n",
       "      <th></th>\n",
       "      <th></th>\n",
       "      <th></th>\n",
       "      <th></th>\n",
       "      <th></th>\n",
       "      <th></th>\n",
       "    </tr>\n",
       "  </thead>\n",
       "  <tbody>\n",
       "    <tr>\n",
       "      <th>FLX_RIVER_L_19750102</th>\n",
       "      <td>-1436.1400</td>\n",
       "      <td>212.304000</td>\n",
       "      <td>-1860.7500</td>\n",
       "      <td>-1011.5400</td>\n",
       "      <td>-1487.5700</td>\n",
       "      <td>8.769740e-06</td>\n",
       "      <td>-1487.5700</td>\n",
       "      <td>-1487.5700</td>\n",
       "    </tr>\n",
       "    <tr>\n",
       "      <th>FR01C13_19750102</th>\n",
       "      <td>20.5560</td>\n",
       "      <td>0.763994</td>\n",
       "      <td>19.0280</td>\n",
       "      <td>22.0840</td>\n",
       "      <td>20.3039</td>\n",
       "      <td>3.155860e-08</td>\n",
       "      <td>20.3039</td>\n",
       "      <td>20.3039</td>\n",
       "    </tr>\n",
       "    <tr>\n",
       "      <th>FR02C02_19750102</th>\n",
       "      <td>27.1473</td>\n",
       "      <td>5.813150</td>\n",
       "      <td>15.5210</td>\n",
       "      <td>38.7736</td>\n",
       "      <td>25.3133</td>\n",
       "      <td>2.401260e-07</td>\n",
       "      <td>25.3133</td>\n",
       "      <td>25.3133</td>\n",
       "    </tr>\n",
       "    <tr>\n",
       "      <th>FR03C10_19750102</th>\n",
       "      <td>22.0427</td>\n",
       "      <td>2.440350</td>\n",
       "      <td>17.1620</td>\n",
       "      <td>26.9234</td>\n",
       "      <td>21.2456</td>\n",
       "      <td>1.008050e-07</td>\n",
       "      <td>21.2456</td>\n",
       "      <td>21.2456</td>\n",
       "    </tr>\n",
       "    <tr>\n",
       "      <th>FR03C16_19750102</th>\n",
       "      <td>19.6050</td>\n",
       "      <td>0.310456</td>\n",
       "      <td>18.9841</td>\n",
       "      <td>20.2259</td>\n",
       "      <td>19.5016</td>\n",
       "      <td>1.282420e-08</td>\n",
       "      <td>19.5016</td>\n",
       "      <td>19.5016</td>\n",
       "    </tr>\n",
       "    <tr>\n",
       "      <th>FR04C9_19750102</th>\n",
       "      <td>22.4907</td>\n",
       "      <td>2.894170</td>\n",
       "      <td>16.7024</td>\n",
       "      <td>28.2791</td>\n",
       "      <td>21.5493</td>\n",
       "      <td>1.195510e-07</td>\n",
       "      <td>21.5493</td>\n",
       "      <td>21.5493</td>\n",
       "    </tr>\n",
       "    <tr>\n",
       "      <th>FR09C15_19750102</th>\n",
       "      <td>17.0955</td>\n",
       "      <td>1.042820</td>\n",
       "      <td>15.0099</td>\n",
       "      <td>19.1812</td>\n",
       "      <td>17.4461</td>\n",
       "      <td>4.307610e-08</td>\n",
       "      <td>17.4461</td>\n",
       "      <td>17.4461</td>\n",
       "    </tr>\n",
       "    <tr>\n",
       "      <th>FR10C2_19750102</th>\n",
       "      <td>28.4562</td>\n",
       "      <td>7.083020</td>\n",
       "      <td>14.2902</td>\n",
       "      <td>42.6223</td>\n",
       "      <td>26.2424</td>\n",
       "      <td>2.925820e-07</td>\n",
       "      <td>26.2424</td>\n",
       "      <td>26.2424</td>\n",
       "    </tr>\n",
       "    <tr>\n",
       "      <th>FR14C11_19750102</th>\n",
       "      <td>17.7482</td>\n",
       "      <td>0.656200</td>\n",
       "      <td>16.4358</td>\n",
       "      <td>19.0606</td>\n",
       "      <td>17.5293</td>\n",
       "      <td>2.710590e-08</td>\n",
       "      <td>17.5293</td>\n",
       "      <td>17.5293</td>\n",
       "    </tr>\n",
       "    <tr>\n",
       "      <th>FR16C17_19750102</th>\n",
       "      <td>17.2635</td>\n",
       "      <td>0.614602</td>\n",
       "      <td>16.0343</td>\n",
       "      <td>18.4927</td>\n",
       "      <td>17.0585</td>\n",
       "      <td>2.538760e-08</td>\n",
       "      <td>17.0585</td>\n",
       "      <td>17.0585</td>\n",
       "    </tr>\n",
       "    <tr>\n",
       "      <th>FR22C11_19750102</th>\n",
       "      <td>16.6192</td>\n",
       "      <td>1.156170</td>\n",
       "      <td>14.3069</td>\n",
       "      <td>18.9315</td>\n",
       "      <td>16.2377</td>\n",
       "      <td>4.775840e-08</td>\n",
       "      <td>16.2377</td>\n",
       "      <td>16.2377</td>\n",
       "    </tr>\n",
       "    <tr>\n",
       "      <th>FR23C16_19750102</th>\n",
       "      <td>15.6226</td>\n",
       "      <td>0.568228</td>\n",
       "      <td>14.4862</td>\n",
       "      <td>16.7591</td>\n",
       "      <td>15.4336</td>\n",
       "      <td>2.347200e-08</td>\n",
       "      <td>15.4336</td>\n",
       "      <td>15.4336</td>\n",
       "    </tr>\n",
       "    <tr>\n",
       "      <th>FR25C10_19750102</th>\n",
       "      <td>16.7860</td>\n",
       "      <td>1.689520</td>\n",
       "      <td>13.4070</td>\n",
       "      <td>20.1651</td>\n",
       "      <td>16.2337</td>\n",
       "      <td>6.978970e-08</td>\n",
       "      <td>16.2337</td>\n",
       "      <td>16.2337</td>\n",
       "    </tr>\n",
       "    <tr>\n",
       "      <th>FR25C5_19750102</th>\n",
       "      <td>20.4690</td>\n",
       "      <td>4.092890</td>\n",
       "      <td>12.2832</td>\n",
       "      <td>28.6548</td>\n",
       "      <td>19.1658</td>\n",
       "      <td>1.690670e-07</td>\n",
       "      <td>19.1658</td>\n",
       "      <td>19.1658</td>\n",
       "    </tr>\n",
       "    <tr>\n",
       "      <th>FR27C7_19750102</th>\n",
       "      <td>18.5070</td>\n",
       "      <td>2.997610</td>\n",
       "      <td>12.5118</td>\n",
       "      <td>24.5022</td>\n",
       "      <td>17.5416</td>\n",
       "      <td>1.238230e-07</td>\n",
       "      <td>17.5416</td>\n",
       "      <td>17.5416</td>\n",
       "    </tr>\n",
       "    <tr>\n",
       "      <th>FR30C16_19750102</th>\n",
       "      <td>14.1212</td>\n",
       "      <td>0.594927</td>\n",
       "      <td>12.9314</td>\n",
       "      <td>15.3111</td>\n",
       "      <td>13.9232</td>\n",
       "      <td>2.457490e-08</td>\n",
       "      <td>13.9232</td>\n",
       "      <td>13.9232</td>\n",
       "    </tr>\n",
       "    <tr>\n",
       "      <th>FR34C8_19750102</th>\n",
       "      <td>15.9855</td>\n",
       "      <td>1.413540</td>\n",
       "      <td>13.1584</td>\n",
       "      <td>18.8126</td>\n",
       "      <td>15.5218</td>\n",
       "      <td>5.838990e-08</td>\n",
       "      <td>15.5218</td>\n",
       "      <td>15.5218</td>\n",
       "    </tr>\n",
       "    <tr>\n",
       "      <th>FR35C11_19750102</th>\n",
       "      <td>13.6223</td>\n",
       "      <td>0.214361</td>\n",
       "      <td>13.1936</td>\n",
       "      <td>14.0510</td>\n",
       "      <td>13.5505</td>\n",
       "      <td>8.854700e-09</td>\n",
       "      <td>13.5505</td>\n",
       "      <td>13.5505</td>\n",
       "    </tr>\n",
       "    <tr>\n",
       "      <th>TRAVEL_TIME</th>\n",
       "      <td>27691.0000</td>\n",
       "      <td>19699.500000</td>\n",
       "      <td>-11708.1000</td>\n",
       "      <td>67090.0000</td>\n",
       "      <td>21156.3000</td>\n",
       "      <td>8.137360e-04</td>\n",
       "      <td>21156.3000</td>\n",
       "      <td>21156.3000</td>\n",
       "    </tr>\n",
       "  </tbody>\n",
       "</table>\n",
       "</div>"
      ],
      "text/plain": [
       "                      prior_mean   prior_stdev  prior_lower_bound  \\\n",
       "name                                                                \n",
       "FLX_RIVER_L_19750102  -1436.1400    212.304000         -1860.7500   \n",
       "FR01C13_19750102         20.5560      0.763994            19.0280   \n",
       "FR02C02_19750102         27.1473      5.813150            15.5210   \n",
       "FR03C10_19750102         22.0427      2.440350            17.1620   \n",
       "FR03C16_19750102         19.6050      0.310456            18.9841   \n",
       "FR04C9_19750102          22.4907      2.894170            16.7024   \n",
       "FR09C15_19750102         17.0955      1.042820            15.0099   \n",
       "FR10C2_19750102          28.4562      7.083020            14.2902   \n",
       "FR14C11_19750102         17.7482      0.656200            16.4358   \n",
       "FR16C17_19750102         17.2635      0.614602            16.0343   \n",
       "FR22C11_19750102         16.6192      1.156170            14.3069   \n",
       "FR23C16_19750102         15.6226      0.568228            14.4862   \n",
       "FR25C10_19750102         16.7860      1.689520            13.4070   \n",
       "FR25C5_19750102          20.4690      4.092890            12.2832   \n",
       "FR27C7_19750102          18.5070      2.997610            12.5118   \n",
       "FR30C16_19750102         14.1212      0.594927            12.9314   \n",
       "FR34C8_19750102          15.9855      1.413540            13.1584   \n",
       "FR35C11_19750102         13.6223      0.214361            13.1936   \n",
       "TRAVEL_TIME           27691.0000  19699.500000        -11708.1000   \n",
       "\n",
       "                      prior_upper_bound   post_mean    post_stdev  \\\n",
       "name                                                                \n",
       "FLX_RIVER_L_19750102         -1011.5400  -1487.5700  8.769740e-06   \n",
       "FR01C13_19750102                22.0840     20.3039  3.155860e-08   \n",
       "FR02C02_19750102                38.7736     25.3133  2.401260e-07   \n",
       "FR03C10_19750102                26.9234     21.2456  1.008050e-07   \n",
       "FR03C16_19750102                20.2259     19.5016  1.282420e-08   \n",
       "FR04C9_19750102                 28.2791     21.5493  1.195510e-07   \n",
       "FR09C15_19750102                19.1812     17.4461  4.307610e-08   \n",
       "FR10C2_19750102                 42.6223     26.2424  2.925820e-07   \n",
       "FR14C11_19750102                19.0606     17.5293  2.710590e-08   \n",
       "FR16C17_19750102                18.4927     17.0585  2.538760e-08   \n",
       "FR22C11_19750102                18.9315     16.2377  4.775840e-08   \n",
       "FR23C16_19750102                16.7591     15.4336  2.347200e-08   \n",
       "FR25C10_19750102                20.1651     16.2337  6.978970e-08   \n",
       "FR25C5_19750102                 28.6548     19.1658  1.690670e-07   \n",
       "FR27C7_19750102                 24.5022     17.5416  1.238230e-07   \n",
       "FR30C16_19750102                15.3111     13.9232  2.457490e-08   \n",
       "FR34C8_19750102                 18.8126     15.5218  5.838990e-08   \n",
       "FR35C11_19750102                14.0510     13.5505  8.854700e-09   \n",
       "TRAVEL_TIME                  67090.0000  21156.3000  8.137360e-04   \n",
       "\n",
       "                      post_lower_bound  post_upper_bound  \n",
       "name                                                      \n",
       "FLX_RIVER_L_19750102        -1487.5700        -1487.5700  \n",
       "FR01C13_19750102               20.3039           20.3039  \n",
       "FR02C02_19750102               25.3133           25.3133  \n",
       "FR03C10_19750102               21.2456           21.2456  \n",
       "FR03C16_19750102               19.5016           19.5016  \n",
       "FR04C9_19750102                21.5493           21.5493  \n",
       "FR09C15_19750102               17.4461           17.4461  \n",
       "FR10C2_19750102                26.2424           26.2424  \n",
       "FR14C11_19750102               17.5293           17.5293  \n",
       "FR16C17_19750102               17.0585           17.0585  \n",
       "FR22C11_19750102               16.2377           16.2377  \n",
       "FR23C16_19750102               15.4336           15.4336  \n",
       "FR25C10_19750102               16.2337           16.2337  \n",
       "FR25C5_19750102                19.1658           19.1658  \n",
       "FR27C7_19750102                17.5416           17.5416  \n",
       "FR30C16_19750102               13.9232           13.9232  \n",
       "FR34C8_19750102                15.5218           15.5218  \n",
       "FR35C11_19750102               13.5505           13.5505  \n",
       "TRAVEL_TIME                 21156.3000        21156.3000  "
      ]
     },
     "execution_count": 19,
     "metadata": {},
     "output_type": "execute_result"
    }
   ],
   "source": [
    "df_predu = pd.read_csv(os.path.join(working_dir,pst_name.replace(\".pst\",\".pred.usum.csv\")),index_col=0)\n",
    "df_predu"
   ]
  },
  {
   "cell_type": "markdown",
   "metadata": {},
   "source": [
    "### Or maybe just easier to look at the graphs"
   ]
  },
  {
   "cell_type": "code",
   "execution_count": 16,
   "metadata": {},
   "outputs": [
    {
     "data": {
      "image/png": "[encoded data removed]",
      "text/plain": [
       "<matplotlib.figure.Figure at 0x111292358>"
      ]
     },
     "metadata": {},
     "output_type": "display_data"
    },
    {
     "data": {
      "image/png": "[encoded data removed]",
      "text/plain": [
       "<matplotlib.figure.Figure at 0x1112e8668>"
      ]
     },
     "metadata": {},
     "output_type": "display_data"
    },
    {
     "data": {
      "image/png": "[encoded data removed]",
      "text/plain": [
       "<matplotlib.figure.Figure at 0x11188aba8>"
      ]
     },
     "metadata": {},
     "output_type": "display_data"
    },
    {
     "data": {
      "image/png": "[encoded data removed]",
      "text/plain": [
       "<matplotlib.figure.Figure at 0x1119a8eb8>"
      ]
     },
     "metadata": {},
     "output_type": "display_data"
    },
    {
     "data": {
      "image/png": "[encoded data removed]",
      "text/plain": [
       "<matplotlib.figure.Figure at 0x1113a5940>"
      ]
     },
     "metadata": {},
     "output_type": "display_data"
    },
    {
     "data": {
      "image/png": "[encoded data removed]",
      "text/plain": [
       "<matplotlib.figure.Figure at 0x115380048>"
      ]
     },
     "metadata": {},
     "output_type": "display_data"
    },
    {
     "data": {
      "image/png": "[encoded data removed]",
      "text/plain": [
       "<matplotlib.figure.Figure at 0x1154d3cc0>"
      ]
     },
     "metadata": {},
     "output_type": "display_data"
    },
    {
     "data": {
      "image/png": "[encoded data removed]",
      "text/plain": [
       "<matplotlib.figure.Figure at 0x1155ec748>"
      ]
     },
     "metadata": {},
     "output_type": "display_data"
    },
    {
     "data": {
      "image/png": "[encoded data removed]",
      "text/plain": [
       "<matplotlib.figure.Figure at 0x1153f8f98>"
      ]
     },
     "metadata": {},
     "output_type": "display_data"
    },
    {
     "data": {
      "image/png": "[encoded data removed]",
      "text/plain": [
       "<matplotlib.figure.Figure at 0x111387780>"
      ]
     },
     "metadata": {},
     "output_type": "display_data"
    },
    {
     "data": {
      "image/png": "[encoded data removed]",
      "text/plain": [
       "<matplotlib.figure.Figure at 0x102152a58>"
      ]
     },
     "metadata": {},
     "output_type": "display_data"
    },
    {
     "data": {
      "image/png": "[encoded data removed]",
      "text/plain": [
       "<matplotlib.figure.Figure at 0x1153a5390>"
      ]
     },
     "metadata": {},
     "output_type": "display_data"
    },
    {
     "data": {
      "image/png": "[encoded data removed]",
      "text/plain": [
       "<matplotlib.figure.Figure at 0x110f17a20>"
      ]
     },
     "metadata": {},
     "output_type": "display_data"
    },
    {
     "data": {
      "image/png": "[encoded data removed]",
      "text/plain": [
       "<matplotlib.figure.Figure at 0x11129ae80>"
      ]
     },
     "metadata": {},
     "output_type": "display_data"
    },
    {
     "data": {
      "image/png": "[encoded data removed]",
      "text/plain": [
       "<matplotlib.figure.Figure at 0x10a34b8d0>"
      ]
     },
     "metadata": {},
     "output_type": "display_data"
    },
    {
     "data": {
      "image/png": "[encoded data removed]",
      "text/plain": [
       "<matplotlib.figure.Figure at 0x1111eaa90>"
      ]
     },
     "metadata": {},
     "output_type": "display_data"
    },
    {
     "data": {
      "image/png": "[encoded data removed]",
      "text/plain": [
       "<matplotlib.figure.Figure at 0x110eea9b0>"
      ]
     },
     "metadata": {},
     "output_type": "display_data"
    },
    {
     "data": {
      "image/png": "[encoded data removed]",
      "text/plain": [
       "<matplotlib.figure.Figure at 0x111162550>"
      ]
     },
     "metadata": {},
     "output_type": "display_data"
    },
    {
     "data": {
      "image/png": "[encoded data removed]",
      "text/plain": [
       "<matplotlib.figure.Figure at 0x111345f28>"
      ]
     },
     "metadata": {},
     "output_type": "display_data"
    }
   ],
   "source": [
    "for forecast in df_predu.index:\n",
    "    ax = df_predu.loc[forecast,[\"prior_stdev\",\"post_stdev\"]].plot(kind=\"bar\")\n",
    "    ax.set_title(forecast)\n",
    "    plt.show()"
   ]
  },
  {
   "cell_type": "markdown",
   "metadata": {},
   "source": [
    "### And we can use summary statistics to help be quantitative on the reduction in forecast uncertainty"
   ]
  },
  {
   "cell_type": "code",
   "execution_count": 17,
   "metadata": {},
   "outputs": [
    {
     "data": {
      "text/plain": [
       "name\n",
       "FLX_RIVER_L_19750102    99.999996\n",
       "FR01C13_19750102        99.999996\n",
       "FR02C02_19750102        99.999996\n",
       "FR03C10_19750102        99.999996\n",
       "FR03C16_19750102        99.999996\n",
       "FR04C9_19750102         99.999996\n",
       "FR09C15_19750102        99.999996\n",
       "FR10C2_19750102         99.999996\n",
       "FR14C11_19750102        99.999996\n",
       "FR16C17_19750102        99.999996\n",
       "FR22C11_19750102        99.999996\n",
       "FR23C16_19750102        99.999996\n",
       "FR25C10_19750102        99.999996\n",
       "FR25C5_19750102         99.999996\n",
       "FR27C7_19750102         99.999996\n",
       "FR30C16_19750102        99.999996\n",
       "FR34C8_19750102         99.999996\n",
       "FR35C11_19750102        99.999996\n",
       "TRAVEL_TIME             99.999996\n",
       "Name: percent_reduction, dtype: float64"
      ]
     },
     "execution_count": 17,
     "metadata": {},
     "output_type": "execute_result"
    }
   ],
   "source": [
    "df_predu.loc[:,\"percent_reduction\"] = 100.0 * (1.0 - (df_predu.post_stdev / df_predu.prior_stdev))\n",
    "df_predu.percent_reduction"
   ]
  },
  {
   "cell_type": "markdown",
   "metadata": {},
   "source": [
    "### Does it make sense that the travel time uncertainty would be reduced in the same proportion as the head forecasts?"
   ]
  },
  {
   "cell_type": "code",
   "execution_count": null,
   "metadata": {
    "collapsed": true
   },
   "outputs": [],
   "source": []
  }
 ],
 "metadata": {
  "anaconda-cloud": {},
  "kernelspec": {
   "display_name": "Python [Root]",
   "language": "python",
   "name": "Python [Root]"
  },
  "language_info": {
   "codemirror_mode": {
    "name": "ipython",
    "version": 3
   },
   "file_extension": ".py",
   "mimetype": "text/x-python",
   "name": "python",
   "nbconvert_exporter": "python",
   "pygments_lexer": "ipython3",
   "version": "3.5.2"
  }
 },
 "nbformat": 4,
 "nbformat_minor": 1
}
