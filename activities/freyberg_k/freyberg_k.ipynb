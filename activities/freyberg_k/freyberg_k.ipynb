{
 "cells": [
  {
   "cell_type": "markdown",
   "metadata": {},
   "source": [
    "<img src=\"PEST++V3_cover.jpeg\" style=\"float: left\">\n",
    "\n",
    "<img src=\"flopylogo.png\" style=\"float: right\">\n",
    "\n",
    "<img src=\"AW&H2015.png\" style=\"float: center\">\n",
    "\n",
    "# History match the Freyberg model using a single ``K`` parameter\n",
    "\n",
    "Freyberg (1988) was notable for the discussing what is often called \"point calibration\" and \"overfitting\". It is a heterogenous 2D areal (1-layer) model that is a step up in complexity from our xsec model. Recall it looks like this, as shown in the original Freyberg (1988) paper on the left, and a Groundwater Vistas version on the right (from the file in the GW_Vistas subdirectory).   \n",
    "\n",
    "<img src=\"Freburg1988_fig1.png\" style=\"float: left\">\n",
    "<img src=\"Freyberg_k_plot_GW_Vistas.png\" style=\"float: right\">"
   ]
  },
  {
   "cell_type": "markdown",
   "metadata": {},
   "source": [
    "As we discussed in our first notebook, one way to get to an optimal model is to start simple and add complexity. To do this righte we need to add our forecasts first along with the calibration targets, and look at both as more model complexity is added.  One of the findings of the Freyberg (1988) model is that some students made their model too complex, which diminished its performance for the prediction of interest. Starting simple will keep us out of danger (at least for this notebook). \n",
    "\n",
    "This version of the Freyberg model has 3 stress periods:  1 steady state -> 1 transient for 5 years -> 1 steady state\n",
    "\n",
    "The river stage and node conductance changes in each stress period (see .riv file)\n",
    "\n",
    "The recharge starts out wetter in stress period one, then is drier in stress periods 2 and 3 (see .rch file)\n",
    "\n",
    "Pumping well discharge changes each stress period (see .wel file)\n",
    "\n",
    "In addition to heads and fluxes, MODPATH is also included in the PEST++ model run file to perform particle tracking after MODFLOW finishes\n",
    "\n",
    "***********************************************\n",
    "__So, the objectives of this notebook are to:__\n",
    "\n",
    "1) Ease you into the Freyberg model as we'll be using it for the rest of the class\n",
    "\n",
    "2) Revisit the PEST control (pst) file\n",
    "\n",
    "3) Look at typical summary statistics and plots the describe our degree of fit\n",
    "\n",
    "4) Look at how head data constraints ripple to different forecast types"
   ]
  },
  {
   "cell_type": "markdown",
   "metadata": {},
   "source": [
    "## Standard two blocks to prep the notebook"
   ]
  },
  {
   "cell_type": "code",
   "execution_count": 1,
   "metadata": {
    "collapsed": true
   },
   "outputs": [],
   "source": [
    "%matplotlib inline\n",
    "import os\n",
    "import sys\n",
    "sys.path.append(\"..\")\n",
    "import shutil\n",
    "import pandas as pd\n",
    "import matplotlib.pyplot as plt\n",
    "import pyemu"
   ]
  },
  {
   "cell_type": "code",
   "execution_count": 2,
   "metadata": {},
   "outputs": [
    {
     "name": "stdout",
     "output_type": "stream",
     "text": [
      "['.DS_Store', 'botm.ref', 'extract_zone_array.py', 'forecasts_true.csv', 'freyberg.bas', 'freyberg.dbf', 'freyberg.dis', 'freyberg.hds', 'freyberg.heads', 'freyberg.heads_potobs.ins', 'freyberg.hyd', 'freyberg.list', 'freyberg.locations', 'freyberg.mpbas', 'freyberg.mpenpt', 'freyberg.mplist', 'freyberg.mpnam', 'freyberg.mppthln', 'freyberg.mpsim', 'freyberg.oc', 'freyberg.pcg', 'freyberg.rivflux', 'freyberg.shp', 'freyberg.shx', 'freyberg.travel', 'freyberg.truth.lpf', 'freyberg.truth.nam', 'freyberg.truth.rch', 'freyberg.truth.riv', 'freyberg.truth.wel', 'hk.truth.ref', 'hk.zones', 'ibound.ref', 'kzone.ref', 'mpath.in', 'obs_loc.csv', 'potobs_group.csv', 'Process_output.py', 'run_true_model.py', 'strt.ref', 'Weights_and_best_PHI.xlsx']\n",
      "\n",
      "changing model workspace...\n",
      "   freyberg_un\n",
      "WARNING: unit 31 of package UPW already in use\n",
      "FloPy is using the following executable to run the model: /Users/jwhite/Dev/GW1876/activities/freyberg_k/freyberg_un/mfnwt\n",
      "\n",
      "                                  MODFLOW-NWT-SWR1 \n",
      "    U.S. GEOLOGICAL SURVEY MODULAR FINITE-DIFFERENCE GROUNDWATER-FLOW MODEL\n",
      "                             WITH NEWTON FORMULATION\n",
      "                             Version 1.1.1, 7/21/2016                        \n",
      "                    BASED ON MODFLOW-2005 Version 1.11.0 08/08/2013                       \n",
      "\n",
      "                    SWR1 Version 1.04.0 07/21/2016                       \n",
      "\n",
      " Using NAME file: freyberg.nam \n",
      " Run start date and time (yyyy/mm/dd hh:mm:ss): 2017/09/10 10:51:25\n",
      "\n",
      " Solving:  Stress period:     1    Time step:     1    Groundwater-Flow Eqn.\n",
      " Solving:  Stress period:     2    Time step:     1    Groundwater-Flow Eqn.\n",
      " Solving:  Stress period:     3    Time step:     1    Groundwater-Flow Eqn.\n",
      " Run end date and time (yyyy/mm/dd hh:mm:ss): 2017/09/10 10:51:25\n",
      " Elapsed run time:  0.026 Seconds\n",
      "\n",
      "  Normal termination of simulation\n",
      "run():./mp6 freyberg.mpsim\n",
      "Util2d:delr: resetting 'how' to external\n",
      "Util2d:delc: resetting 'how' to external\n",
      "Util2d:model_top: resetting 'how' to external\n",
      "Util2d:botm_layer_0: resetting 'how' to external\n",
      "Util2d:ibound_layer_0: resetting 'how' to external\n",
      "Util2d:strt_layer_0: resetting 'how' to external\n",
      "Util2d:rech_1: resetting 'how' to external\n",
      "Util2d:rech_2: resetting 'how' to external\n",
      "Util2d:rech_3: resetting 'how' to external\n",
      "Util2d:hk layer 1: resetting 'how' to external\n",
      "Util2d:vk: resetting 'how' to external\n",
      "Util2d:ss: resetting 'how' to external\n",
      "Util2d:ss: resetting 'how' to external\n",
      "FloPy is using the following executable to run the model: /Users/jwhite/Dev/GW1876/activities/freyberg_k/freyberg_un/mfnwt\n",
      "\n",
      "                                  MODFLOW-NWT-SWR1 \n",
      "    U.S. GEOLOGICAL SURVEY MODULAR FINITE-DIFFERENCE GROUNDWATER-FLOW MODEL\n",
      "                             WITH NEWTON FORMULATION\n",
      "                             Version 1.1.1, 7/21/2016                        \n",
      "                    BASED ON MODFLOW-2005 Version 1.11.0 08/08/2013                       \n",
      "\n",
      "                    SWR1 Version 1.04.0 07/21/2016                       \n",
      "\n",
      " Using NAME file: freyberg.nam \n",
      " Run start date and time (yyyy/mm/dd hh:mm:ss): 2017/09/10 10:51:25\n",
      "\n",
      " Solving:  Stress period:     1    Time step:     1    Groundwater-Flow Eqn.\n",
      " Solving:  Stress period:     2    Time step:     1    Groundwater-Flow Eqn.\n",
      " Solving:  Stress period:     3    Time step:     1    Groundwater-Flow Eqn.\n",
      " Run end date and time (yyyy/mm/dd hh:mm:ss): 2017/09/10 10:51:25\n",
      " Elapsed run time:  0.030 Seconds\n",
      "\n",
      "  Normal termination of simulation\n",
      "Starting to read HYDMOD data from freyberg.hyd.bin\n",
      "Starting to read HYDMOD data from freyberg.hyd.bin.truth\n",
      "run():./inschek flux.dat.ins flux.dat\n",
      "run():./inschek vol.dat.ins vol.dat\n",
      "run():./inschek flux.dat.ins flux.dat\n",
      "run():./inschek vol.dat.ins vol.dat\n",
      "run():./inschek flux.dat.ins flux.dat\n",
      "run():./inschek freyberg.hyd.bin.dat.ins freyberg.hyd.bin.dat\n",
      "run():./inschek freyberg.travel.ins freyberg.travel\n",
      "run():./inschek vol.dat.ins vol.dat\n",
      "run():./pestchek freyberg_un.pst\n",
      "run():./pestpp freyberg_un.init.pst\n"
     ]
    }
   ],
   "source": [
    "import freyberg_setup as fs\n",
    "pst_name = fs.PST_NAME_UN\n",
    "working_dir = fs.WORKING_DIR_UN\n",
    "fs.setup_pest_un()\n",
    "pst = pyemu.Pst(os.path.join(working_dir,pst_name))\n",
    "pst.control_data.noptmax = 0\n",
    "pst.write(os.path.join(working_dir,pst_name))"
   ]
  },
  {
   "cell_type": "markdown",
   "metadata": {},
   "source": [
    "## We've given you all the files you need to run PEST++ on this model.  \n",
    "\n",
    "### Open up the .pst file, and orient yourself using to the PDF file \"Annotated_PEST_control_file_SIR20105169.pdf\".  We've highlighted the PEST variables that you are likely to manipulate; *NOTE: that unless something is in [brackets] a value must be supplied, but the default values you see in our example .pst files will be fine.*  \n",
    "\n",
    "### To guide your eyes through the PEST control file, answer these questions:\n",
    "\n",
    "1) How many parameters are we running? \n",
    "\n",
    "2) How many are adjustable? \n",
    "\n",
    "3) How many types of observations are included?\n",
    "\n",
    "4) How many forecasts? What types?\n",
    "\n",
    "5) How many template (tpl) files do we have?\n",
    "\n",
    "6) How many instruction (ins) files do we have? "
   ]
  },
  {
   "cell_type": "markdown",
   "metadata": {},
   "source": [
    "## Now that you know the .ins, and .tpl files, open them in a text editor (make sure you are looking at the ones in /activities/freyberg_k subdirectory). In a seperate terminal window, run TEMPCHEK, INSCHEK and PESTCHEK on the files we've given you. "
   ]
  },
  {
   "cell_type": "markdown",
   "metadata": {},
   "source": [
    "### Okay, you've got running PEST utilities in a separate terminal window by now?  To speed things up we've given you a way to execute these utilities from within the Freyberg notebook.  We've included the equivalent version of what you just did in the next three code blocks.  Execute the code block then look at terminal window where you launched this notebook."
   ]
  },
  {
   "cell_type": "code",
   "execution_count": 3,
   "metadata": {},
   "outputs": [
    {
     "name": "stdout",
     "output_type": "stream",
     "text": [
      "run():./tempchek hk_layer_1.ref.tpl\n"
     ]
    }
   ],
   "source": [
    "pyemu.helpers.run(\"tempchek hk_layer_1.ref.tpl\",cwd=working_dir)"
   ]
  },
  {
   "cell_type": "code",
   "execution_count": 4,
   "metadata": {},
   "outputs": [
    {
     "name": "stdout",
     "output_type": "stream",
     "text": [
      "run():./inschek flux.dat.ins flux.dat\n"
     ]
    }
   ],
   "source": [
    "pyemu.helpers.run(\"inschek flux.dat.ins flux.dat\",cwd=working_dir)"
   ]
  },
  {
   "cell_type": "code",
   "execution_count": 5,
   "metadata": {},
   "outputs": [
    {
     "name": "stdout",
     "output_type": "stream",
     "text": [
      "run():./inschek freyberg.hyd.bin.dat.ins freyberg.hyd.bin.dat\n"
     ]
    }
   ],
   "source": [
    "pyemu.helpers.run(\"inschek freyberg.hyd.bin.dat.ins freyberg.hyd.bin.dat\",cwd=working_dir)"
   ]
  },
  {
   "cell_type": "markdown",
   "metadata": {},
   "source": [
    "### Whoa - lots of heads!  Observations don't cost us any runs/computer time, so from now on we'll be carrying many more observations. "
   ]
  },
  {
   "cell_type": "code",
   "execution_count": 6,
   "metadata": {},
   "outputs": [
    {
     "name": "stdout",
     "output_type": "stream",
     "text": [
      "run():./inschek freyberg.travel.ins freyberg.travel\n"
     ]
    }
   ],
   "source": [
    "pyemu.helpers.run(\"inschek freyberg.travel.ins freyberg.travel\",cwd=working_dir)"
   ]
  },
  {
   "cell_type": "code",
   "execution_count": 7,
   "metadata": {},
   "outputs": [
    {
     "name": "stdout",
     "output_type": "stream",
     "text": [
      "run():./inschek vol.dat.ins vol.dat\n"
     ]
    }
   ],
   "source": [
    "pyemu.helpers.run(\"inschek vol.dat.ins vol.dat\",cwd=working_dir)"
   ]
  },
  {
   "cell_type": "code",
   "execution_count": 8,
   "metadata": {},
   "outputs": [
    {
     "name": "stdout",
     "output_type": "stream",
     "text": [
      "run():./pestchek freyberg_un.pst\n"
     ]
    }
   ],
   "source": [
    "pyemu.helpers.run(\"pestchek {0}\".format(pst_name),cwd=working_dir)"
   ]
  },
  {
   "cell_type": "markdown",
   "metadata": {},
   "source": [
    "# Okay, let's run this thing. \n",
    "\n",
    "## Because we call a program from within the Jupyter Notebook you have to look at the terminal window that you used to start the notebook to see the screen report of the run.  So, when executing this next block look at your terminal window to see the run.  It will say \"Simulation complete...\" when finished.\n",
    "\n",
    "### NOTE:  And/or wait until the standard out  reports a \"0\" below this next block (=when the run is finished) before going on."
   ]
  },
  {
   "cell_type": "code",
   "execution_count": 9,
   "metadata": {},
   "outputs": [
    {
     "name": "stdout",
     "output_type": "stream",
     "text": [
      "run():./pestpp freyberg_un.pst \n"
     ]
    }
   ],
   "source": [
    "pyemu.helpers.run(\"pestpp {0} \".format(pst_name),cwd=working_dir)"
   ]
  },
  {
   "cell_type": "markdown",
   "metadata": {},
   "source": [
    "## ``PEST++`` only ran the model one time - why?\n",
    "\n",
    "Yeah, that's right, the NOPTMAX=0 thing again.  We had that set to zero because we want to check the plumbing before burning the silicon. Did everything run (i.e., did you see \"Simulation Complete...\" in your terminal window?  Like before, you *could* change NOPTMAX to 20 in a text editor.  But, pyemu can do it for you with the next block.  "
   ]
  },
  {
   "cell_type": "code",
   "execution_count": 10,
   "metadata": {
    "collapsed": true
   },
   "outputs": [],
   "source": [
    "pst = pyemu.Pst(os.path.join(working_dir,pst_name))\n",
    "pst.control_data.noptmax = 20\n",
    "pst.write(os.path.join(working_dir,pst_name))"
   ]
  },
  {
   "cell_type": "markdown",
   "metadata": {},
   "source": [
    "#### \"Trust but verify\"....by running PESTCHEK"
   ]
  },
  {
   "cell_type": "code",
   "execution_count": 11,
   "metadata": {},
   "outputs": [
    {
     "name": "stdout",
     "output_type": "stream",
     "text": [
      "run():./pestchek freyberg_un.pst \n"
     ]
    }
   ],
   "source": [
    "pyemu.helpers.run(\"pestchek {0} \".format(pst_name),cwd=working_dir)"
   ]
  },
  {
   "cell_type": "markdown",
   "metadata": {},
   "source": [
    "### NOPTMAX=0 warning is gone. Now we let's run it.  Just like before  you have to look at the terminal window that you used to start the notebook to see the screen report of the run.  So, when executing this next block look at your terminal window to see the run.  It will say \"Simulation complete...\" when finished.\n",
    "\n",
    "Or wait until the standard out  reports a \"0\" below this next block (=when the run is finished) before going on."
   ]
  },
  {
   "cell_type": "code",
   "execution_count": 12,
   "metadata": {},
   "outputs": [
    {
     "name": "stdout",
     "output_type": "stream",
     "text": [
      "run():./pestpp freyberg_un.pst \n"
     ]
    }
   ],
   "source": [
    "pyemu.helpers.run(\"pestpp {0} \".format(pst_name),cwd=working_dir)"
   ]
  },
  {
   "cell_type": "markdown",
   "metadata": {},
   "source": [
    "### Let's explore the results\n",
    "\n",
    "First let's look at the measurement objective function (Phi), which is calculated using the sum of squared weighted residuals.   "
   ]
  },
  {
   "cell_type": "code",
   "execution_count": 13,
   "metadata": {},
   "outputs": [
    {
     "data": {
      "text/html": [
       "<div>\n",
       "<style>\n",
       "    .dataframe thead tr:only-child th {\n",
       "        text-align: right;\n",
       "    }\n",
       "\n",
       "    .dataframe thead th {\n",
       "        text-align: left;\n",
       "    }\n",
       "\n",
       "    .dataframe tbody tr th {\n",
       "        vertical-align: top;\n",
       "    }\n",
       "</style>\n",
       "<table border=\"1\" class=\"dataframe\">\n",
       "  <thead>\n",
       "    <tr style=\"text-align: right;\">\n",
       "      <th></th>\n",
       "      <th>model_runs_completed</th>\n",
       "      <th>total_phi</th>\n",
       "      <th>measurement_phi</th>\n",
       "      <th>regularization_phi</th>\n",
       "      <th>flx_total</th>\n",
       "      <th>forehead</th>\n",
       "      <th>flx_wells</th>\n",
       "      <th>flx_in-out</th>\n",
       "      <th>calhead</th>\n",
       "      <th>flx_constan</th>\n",
       "      <th>...</th>\n",
       "      <th>flx_river_l</th>\n",
       "      <th>flx_storage</th>\n",
       "      <th>vol_constan</th>\n",
       "      <th>foreflux</th>\n",
       "      <th>calflux</th>\n",
       "      <th>head</th>\n",
       "      <th>vol_wells</th>\n",
       "      <th>vol_storage</th>\n",
       "      <th>flx_recharg</th>\n",
       "      <th>vol_in-out</th>\n",
       "    </tr>\n",
       "    <tr>\n",
       "      <th>iteration</th>\n",
       "      <th></th>\n",
       "      <th></th>\n",
       "      <th></th>\n",
       "      <th></th>\n",
       "      <th></th>\n",
       "      <th></th>\n",
       "      <th></th>\n",
       "      <th></th>\n",
       "      <th></th>\n",
       "      <th></th>\n",
       "      <th></th>\n",
       "      <th></th>\n",
       "      <th></th>\n",
       "      <th></th>\n",
       "      <th></th>\n",
       "      <th></th>\n",
       "      <th></th>\n",
       "      <th></th>\n",
       "      <th></th>\n",
       "      <th></th>\n",
       "      <th></th>\n",
       "    </tr>\n",
       "  </thead>\n",
       "  <tbody>\n",
       "    <tr>\n",
       "      <th>0</th>\n",
       "      <td>0</td>\n",
       "      <td>1322.400</td>\n",
       "      <td>1322.400</td>\n",
       "      <td>0</td>\n",
       "      <td>0</td>\n",
       "      <td>0</td>\n",
       "      <td>0</td>\n",
       "      <td>0</td>\n",
       "      <td>1322.400</td>\n",
       "      <td>0</td>\n",
       "      <td>...</td>\n",
       "      <td>0</td>\n",
       "      <td>0</td>\n",
       "      <td>0</td>\n",
       "      <td>0</td>\n",
       "      <td>0</td>\n",
       "      <td>0</td>\n",
       "      <td>0</td>\n",
       "      <td>0</td>\n",
       "      <td>0</td>\n",
       "      <td>0</td>\n",
       "    </tr>\n",
       "    <tr>\n",
       "      <th>1</th>\n",
       "      <td>8</td>\n",
       "      <td>825.265</td>\n",
       "      <td>825.265</td>\n",
       "      <td>0</td>\n",
       "      <td>0</td>\n",
       "      <td>0</td>\n",
       "      <td>0</td>\n",
       "      <td>0</td>\n",
       "      <td>825.265</td>\n",
       "      <td>0</td>\n",
       "      <td>...</td>\n",
       "      <td>0</td>\n",
       "      <td>0</td>\n",
       "      <td>0</td>\n",
       "      <td>0</td>\n",
       "      <td>0</td>\n",
       "      <td>0</td>\n",
       "      <td>0</td>\n",
       "      <td>0</td>\n",
       "      <td>0</td>\n",
       "      <td>0</td>\n",
       "    </tr>\n",
       "    <tr>\n",
       "      <th>2</th>\n",
       "      <td>15</td>\n",
       "      <td>820.973</td>\n",
       "      <td>820.973</td>\n",
       "      <td>0</td>\n",
       "      <td>0</td>\n",
       "      <td>0</td>\n",
       "      <td>0</td>\n",
       "      <td>0</td>\n",
       "      <td>820.973</td>\n",
       "      <td>0</td>\n",
       "      <td>...</td>\n",
       "      <td>0</td>\n",
       "      <td>0</td>\n",
       "      <td>0</td>\n",
       "      <td>0</td>\n",
       "      <td>0</td>\n",
       "      <td>0</td>\n",
       "      <td>0</td>\n",
       "      <td>0</td>\n",
       "      <td>0</td>\n",
       "      <td>0</td>\n",
       "    </tr>\n",
       "    <tr>\n",
       "      <th>3</th>\n",
       "      <td>23</td>\n",
       "      <td>820.971</td>\n",
       "      <td>820.971</td>\n",
       "      <td>0</td>\n",
       "      <td>0</td>\n",
       "      <td>0</td>\n",
       "      <td>0</td>\n",
       "      <td>0</td>\n",
       "      <td>820.971</td>\n",
       "      <td>0</td>\n",
       "      <td>...</td>\n",
       "      <td>0</td>\n",
       "      <td>0</td>\n",
       "      <td>0</td>\n",
       "      <td>0</td>\n",
       "      <td>0</td>\n",
       "      <td>0</td>\n",
       "      <td>0</td>\n",
       "      <td>0</td>\n",
       "      <td>0</td>\n",
       "      <td>0</td>\n",
       "    </tr>\n",
       "  </tbody>\n",
       "</table>\n",
       "<p>4 rows × 27 columns</p>\n",
       "</div>"
      ],
      "text/plain": [
       "           model_runs_completed  total_phi  measurement_phi  \\\n",
       "iteration                                                     \n",
       "0                             0   1322.400         1322.400   \n",
       "1                             8    825.265          825.265   \n",
       "2                            15    820.973          820.973   \n",
       "3                            23    820.971          820.971   \n",
       "\n",
       "           regularization_phi  flx_total  forehead  flx_wells  flx_in-out  \\\n",
       "iteration                                                                   \n",
       "0                           0          0         0          0           0   \n",
       "1                           0          0         0          0           0   \n",
       "2                           0          0         0          0           0   \n",
       "3                           0          0         0          0           0   \n",
       "\n",
       "            calhead  flx_constan     ...      flx_river_l  flx_storage  \\\n",
       "iteration                            ...                                 \n",
       "0          1322.400            0     ...                0            0   \n",
       "1           825.265            0     ...                0            0   \n",
       "2           820.973            0     ...                0            0   \n",
       "3           820.971            0     ...                0            0   \n",
       "\n",
       "           vol_constan  foreflux  calflux  head  vol_wells  vol_storage  \\\n",
       "iteration                                                                 \n",
       "0                    0         0        0     0          0            0   \n",
       "1                    0         0        0     0          0            0   \n",
       "2                    0         0        0     0          0            0   \n",
       "3                    0         0        0     0          0            0   \n",
       "\n",
       "           flx_recharg  vol_in-out  \n",
       "iteration                           \n",
       "0                    0           0  \n",
       "1                    0           0  \n",
       "2                    0           0  \n",
       "3                    0           0  \n",
       "\n",
       "[4 rows x 27 columns]"
      ]
     },
     "execution_count": 13,
     "metadata": {},
     "output_type": "execute_result"
    }
   ],
   "source": [
    "df_obj = pd.read_csv(os.path.join(working_dir,pst_name.replace(\".pst\",\".iobj\")),index_col=0)\n",
    "df_obj"
   ]
  },
  {
   "cell_type": "code",
   "execution_count": 14,
   "metadata": {},
   "outputs": [
    {
     "data": {
      "text/plain": [
       "array([<matplotlib.axes._subplots.AxesSubplot object at 0x1111e2828>,\n",
       "       <matplotlib.axes._subplots.AxesSubplot object at 0x105584f28>], dtype=object)"
      ]
     },
     "execution_count": 14,
     "metadata": {},
     "output_type": "execute_result"
    },
    {
     "data": {
      "image/png": "[encoded data removed]",
      "text/plain": [
       "<matplotlib.figure.Figure at 0x1111e2f28>"
      ]
     },
     "metadata": {},
     "output_type": "display_data"
    }
   ],
   "source": [
    "df_obj.loc[:,[\"total_phi\",\"model_runs_completed\"]].plot(subplots=True)"
   ]
  },
  {
   "cell_type": "markdown",
   "metadata": {},
   "source": [
    "### Look at the FINAL OPTIMISATION RESULTS in the terminal where PEST++ ran (you can also find it near the bottom of the .rec file).  Which target group(s) matter?  How was splitting the contributions to PHI accomplished in the PEST control file?\n",
    "\n",
    "For this problem, recall our objective function is calculated using this equation:\n",
    "\n",
    "\n",
    "<img src=\"SOSWR_eq_AW&H2015.png\" style=\"float: center\">\n",
    "\n",
    "where Phi is the \"sum of squared weighted residuals\" that we look to minimize, *whi* is the weight for the ith head observation; *hm* is the measured (observed) head target; *hs* is the simulated head; and n is the number of observations.  If we use only heads for calibration the PHI only reflects the sum of squared weighted residuals for the observed-simulated head targets. \n",
    "\n",
    "# Hey, we told PEST to try 20 parameter estimation upgrades but it stopped at 3!  What gives?!?\n",
    "\n",
    "(hint: search the .rec file for OPTIMIZATION COMPLETE)"
   ]
  },
  {
   "cell_type": "markdown",
   "metadata": {},
   "source": [
    "PEST and PEST++ will quit the parameter estimation process if one of these 4 conditions is met:\n",
    "\n",
    "1) The maximum number of interations specified in NOPTMAX is reached\n",
    "\n",
    "2) The fit is not getting any better based on a user-supplied closure\n",
    "\n",
    "3) The parameters are not changing based on a user-supplied closure\n",
    "\n",
    "4) The user killed the run, usually with a ctrl-c  (happens quite frequently)"
   ]
  },
  {
   "cell_type": "markdown",
   "metadata": {},
   "source": [
    "##  Let's evaulate our fit using the observed-simulated residuals\n"
   ]
  },
  {
   "cell_type": "code",
   "execution_count": 15,
   "metadata": {},
   "outputs": [
    {
     "data": {
      "text/html": [
       "<div>\n",
       "<style>\n",
       "    .dataframe thead tr:only-child th {\n",
       "        text-align: right;\n",
       "    }\n",
       "\n",
       "    .dataframe thead th {\n",
       "        text-align: left;\n",
       "    }\n",
       "\n",
       "    .dataframe tbody tr th {\n",
       "        vertical-align: top;\n",
       "    }\n",
       "</style>\n",
       "<table border=\"1\" class=\"dataframe\">\n",
       "  <thead>\n",
       "    <tr style=\"text-align: right;\">\n",
       "      <th></th>\n",
       "      <th>name</th>\n",
       "      <th>group</th>\n",
       "      <th>measured</th>\n",
       "      <th>modelled</th>\n",
       "      <th>residual</th>\n",
       "      <th>weight</th>\n",
       "    </tr>\n",
       "    <tr>\n",
       "      <th>name</th>\n",
       "      <th></th>\n",
       "      <th></th>\n",
       "      <th></th>\n",
       "      <th></th>\n",
       "      <th></th>\n",
       "      <th></th>\n",
       "    </tr>\n",
       "  </thead>\n",
       "  <tbody>\n",
       "    <tr>\n",
       "      <th>cr03c10_19700102</th>\n",
       "      <td>cr03c10_19700102</td>\n",
       "      <td>calhead</td>\n",
       "      <td>22.331451</td>\n",
       "      <td>23.610073</td>\n",
       "      <td>-1.278622</td>\n",
       "      <td>5.0</td>\n",
       "    </tr>\n",
       "    <tr>\n",
       "      <th>cr03c16_19700102</th>\n",
       "      <td>cr03c16_19700102</td>\n",
       "      <td>calhead</td>\n",
       "      <td>18.526869</td>\n",
       "      <td>19.884708</td>\n",
       "      <td>-1.357839</td>\n",
       "      <td>5.0</td>\n",
       "    </tr>\n",
       "    <tr>\n",
       "      <th>cr04c09_19700102</th>\n",
       "      <td>cr04c09_19700102</td>\n",
       "      <td>calhead</td>\n",
       "      <td>24.412637</td>\n",
       "      <td>24.353525</td>\n",
       "      <td>0.059112</td>\n",
       "      <td>5.0</td>\n",
       "    </tr>\n",
       "    <tr>\n",
       "      <th>cr10c02_19700102</th>\n",
       "      <td>cr10c02_19700102</td>\n",
       "      <td>calhead</td>\n",
       "      <td>27.985834</td>\n",
       "      <td>29.523823</td>\n",
       "      <td>-1.537989</td>\n",
       "      <td>5.0</td>\n",
       "    </tr>\n",
       "    <tr>\n",
       "      <th>cr14c11_19700102</th>\n",
       "      <td>cr14c11_19700102</td>\n",
       "      <td>calhead</td>\n",
       "      <td>21.070509</td>\n",
       "      <td>18.712645</td>\n",
       "      <td>2.357864</td>\n",
       "      <td>5.0</td>\n",
       "    </tr>\n",
       "    <tr>\n",
       "      <th>cr16c17_19700102</th>\n",
       "      <td>cr16c17_19700102</td>\n",
       "      <td>calhead</td>\n",
       "      <td>15.468176</td>\n",
       "      <td>17.427717</td>\n",
       "      <td>-1.959541</td>\n",
       "      <td>5.0</td>\n",
       "    </tr>\n",
       "    <tr>\n",
       "      <th>cr22c11_19700102</th>\n",
       "      <td>cr22c11_19700102</td>\n",
       "      <td>calhead</td>\n",
       "      <td>20.485881</td>\n",
       "      <td>17.700624</td>\n",
       "      <td>2.785257</td>\n",
       "      <td>5.0</td>\n",
       "    </tr>\n",
       "    <tr>\n",
       "      <th>cr23c16_19700102</th>\n",
       "      <td>cr23c16_19700102</td>\n",
       "      <td>calhead</td>\n",
       "      <td>15.308345</td>\n",
       "      <td>15.595230</td>\n",
       "      <td>-0.286885</td>\n",
       "      <td>5.0</td>\n",
       "    </tr>\n",
       "    <tr>\n",
       "      <th>cr25c05_19700102</th>\n",
       "      <td>cr25c05_19700102</td>\n",
       "      <td>calhead</td>\n",
       "      <td>22.408501</td>\n",
       "      <td>22.902721</td>\n",
       "      <td>-0.494220</td>\n",
       "      <td>5.0</td>\n",
       "    </tr>\n",
       "    <tr>\n",
       "      <th>cr27c07_19700102</th>\n",
       "      <td>cr27c07_19700102</td>\n",
       "      <td>calhead</td>\n",
       "      <td>22.530558</td>\n",
       "      <td>20.435030</td>\n",
       "      <td>2.095528</td>\n",
       "      <td>5.0</td>\n",
       "    </tr>\n",
       "    <tr>\n",
       "      <th>cr30c16_19700102</th>\n",
       "      <td>cr30c16_19700102</td>\n",
       "      <td>calhead</td>\n",
       "      <td>12.127082</td>\n",
       "      <td>14.052019</td>\n",
       "      <td>-1.924937</td>\n",
       "      <td>5.0</td>\n",
       "    </tr>\n",
       "    <tr>\n",
       "      <th>cr34c08_19700102</th>\n",
       "      <td>cr34c08_19700102</td>\n",
       "      <td>calhead</td>\n",
       "      <td>18.976409</td>\n",
       "      <td>17.836178</td>\n",
       "      <td>1.140231</td>\n",
       "      <td>5.0</td>\n",
       "    </tr>\n",
       "    <tr>\n",
       "      <th>cr35c11_19700102</th>\n",
       "      <td>cr35c11_19700102</td>\n",
       "      <td>calhead</td>\n",
       "      <td>15.445541</td>\n",
       "      <td>15.112284</td>\n",
       "      <td>0.333257</td>\n",
       "      <td>5.0</td>\n",
       "    </tr>\n",
       "  </tbody>\n",
       "</table>\n",
       "</div>"
      ],
      "text/plain": [
       "                              name    group   measured   modelled  residual  \\\n",
       "name                                                                          \n",
       "cr03c10_19700102  cr03c10_19700102  calhead  22.331451  23.610073 -1.278622   \n",
       "cr03c16_19700102  cr03c16_19700102  calhead  18.526869  19.884708 -1.357839   \n",
       "cr04c09_19700102  cr04c09_19700102  calhead  24.412637  24.353525  0.059112   \n",
       "cr10c02_19700102  cr10c02_19700102  calhead  27.985834  29.523823 -1.537989   \n",
       "cr14c11_19700102  cr14c11_19700102  calhead  21.070509  18.712645  2.357864   \n",
       "cr16c17_19700102  cr16c17_19700102  calhead  15.468176  17.427717 -1.959541   \n",
       "cr22c11_19700102  cr22c11_19700102  calhead  20.485881  17.700624  2.785257   \n",
       "cr23c16_19700102  cr23c16_19700102  calhead  15.308345  15.595230 -0.286885   \n",
       "cr25c05_19700102  cr25c05_19700102  calhead  22.408501  22.902721 -0.494220   \n",
       "cr27c07_19700102  cr27c07_19700102  calhead  22.530558  20.435030  2.095528   \n",
       "cr30c16_19700102  cr30c16_19700102  calhead  12.127082  14.052019 -1.924937   \n",
       "cr34c08_19700102  cr34c08_19700102  calhead  18.976409  17.836178  1.140231   \n",
       "cr35c11_19700102  cr35c11_19700102  calhead  15.445541  15.112284  0.333257   \n",
       "\n",
       "                  weight  \n",
       "name                      \n",
       "cr03c10_19700102     5.0  \n",
       "cr03c16_19700102     5.0  \n",
       "cr04c09_19700102     5.0  \n",
       "cr10c02_19700102     5.0  \n",
       "cr14c11_19700102     5.0  \n",
       "cr16c17_19700102     5.0  \n",
       "cr22c11_19700102     5.0  \n",
       "cr23c16_19700102     5.0  \n",
       "cr25c05_19700102     5.0  \n",
       "cr27c07_19700102     5.0  \n",
       "cr30c16_19700102     5.0  \n",
       "cr34c08_19700102     5.0  \n",
       "cr35c11_19700102     5.0  "
      ]
     },
     "execution_count": 15,
     "metadata": {},
     "output_type": "execute_result"
    },
    {
     "data": {
      "image/png": "[encoded data removed]",
      "text/plain": [
       "<matplotlib.figure.Figure at 0x110f9f5f8>"
      ]
     },
     "metadata": {},
     "output_type": "display_data"
    }
   ],
   "source": [
    "pst = pyemu.Pst(os.path.join(working_dir,pst_name))\n",
    "res_nz = pst.res.loc[pst.nnz_obs_names,:]\n",
    "ax = plt.subplot(111,aspect=\"equal\")\n",
    "ax.scatter(res_nz.modelled,res_nz.measured)\n",
    "xlim,ylim = ax.get_xlim(),ax.get_ylim()\n",
    "mx,mn = max(xlim[1],ylim[1]),min(xlim[0],ylim[0])\n",
    "\n",
    "ax.plot([mn,mx],[mn,mx])\n",
    "ax.set_xlim(mn,mx)\n",
    "ax.set_ylim(mn,mx)\n",
    "#ax.grid()\n",
    "res_nz"
   ]
  },
  {
   "cell_type": "markdown",
   "metadata": {},
   "source": [
    "### Not too shabby!  Thanks PEST++.\n",
    "\n",
    "### We can also look at the residual (y-axis) compared to the observation magnitude (x-axis).  The closer the circle is to the black line the better the fit.  The mean residual is shown as a red line, the pink zone is 1 standard deviation on either side of the mean."
   ]
  },
  {
   "cell_type": "markdown",
   "metadata": {},
   "source": [
    "### But we had a lot of other observations listed in the PEST control file.  What do they look like?"
   ]
  },
  {
   "cell_type": "code",
   "execution_count": 16,
   "metadata": {},
   "outputs": [
    {
     "data": {
      "text/html": [
       "<div>\n",
       "<style>\n",
       "    .dataframe thead tr:only-child th {\n",
       "        text-align: right;\n",
       "    }\n",
       "\n",
       "    .dataframe thead th {\n",
       "        text-align: left;\n",
       "    }\n",
       "\n",
       "    .dataframe tbody tr th {\n",
       "        vertical-align: top;\n",
       "    }\n",
       "</style>\n",
       "<table border=\"1\" class=\"dataframe\">\n",
       "  <thead>\n",
       "    <tr style=\"text-align: right;\">\n",
       "      <th></th>\n",
       "      <th>name</th>\n",
       "      <th>group</th>\n",
       "      <th>measured</th>\n",
       "      <th>modelled</th>\n",
       "      <th>residual</th>\n",
       "      <th>weight</th>\n",
       "    </tr>\n",
       "    <tr>\n",
       "      <th>name</th>\n",
       "      <th></th>\n",
       "      <th></th>\n",
       "      <th></th>\n",
       "      <th></th>\n",
       "      <th></th>\n",
       "      <th></th>\n",
       "    </tr>\n",
       "  </thead>\n",
       "  <tbody>\n",
       "    <tr>\n",
       "      <th>flx_constan_19700102</th>\n",
       "      <td>flx_constan_19700102</td>\n",
       "      <td>flx_constan</td>\n",
       "      <td>-4.073839e+02</td>\n",
       "      <td>-2.575951e+02</td>\n",
       "      <td>-1.497888e+02</td>\n",
       "      <td>0.0</td>\n",
       "    </tr>\n",
       "    <tr>\n",
       "      <th>flx_in-out_19700102</th>\n",
       "      <td>flx_in-out_19700102</td>\n",
       "      <td>flx_in-out</td>\n",
       "      <td>-1.373190e+01</td>\n",
       "      <td>-3.367700e+00</td>\n",
       "      <td>-1.036420e+01</td>\n",
       "      <td>0.0</td>\n",
       "    </tr>\n",
       "    <tr>\n",
       "      <th>flx_percent_19700102</th>\n",
       "      <td>flx_percent_19700102</td>\n",
       "      <td>flx_percent</td>\n",
       "      <td>-2.200000e-01</td>\n",
       "      <td>-5.000000e-02</td>\n",
       "      <td>-1.700000e-01</td>\n",
       "      <td>0.0</td>\n",
       "    </tr>\n",
       "    <tr>\n",
       "      <th>flx_recharg_19700102</th>\n",
       "      <td>flx_recharg_19700102</td>\n",
       "      <td>flx_recharg</td>\n",
       "      <td>6.004800e+03</td>\n",
       "      <td>6.081250e+03</td>\n",
       "      <td>-7.645000e+01</td>\n",
       "      <td>0.0</td>\n",
       "    </tr>\n",
       "    <tr>\n",
       "      <th>flx_river_l_19700102</th>\n",
       "      <td>flx_river_l_19700102</td>\n",
       "      <td>calflux</td>\n",
       "      <td>-3.706027e+03</td>\n",
       "      <td>-3.827022e+03</td>\n",
       "      <td>1.209955e+02</td>\n",
       "      <td>0.0</td>\n",
       "    </tr>\n",
       "    <tr>\n",
       "      <th>flx_storage_19700102</th>\n",
       "      <td>flx_storage_19700102</td>\n",
       "      <td>flx_storage</td>\n",
       "      <td>0.000000e+00</td>\n",
       "      <td>0.000000e+00</td>\n",
       "      <td>0.000000e+00</td>\n",
       "      <td>0.0</td>\n",
       "    </tr>\n",
       "    <tr>\n",
       "      <th>flx_total_19700102</th>\n",
       "      <td>flx_total_19700102</td>\n",
       "      <td>flx_total</td>\n",
       "      <td>-1.373193e+01</td>\n",
       "      <td>-3.367676e+00</td>\n",
       "      <td>-1.036425e+01</td>\n",
       "      <td>0.0</td>\n",
       "    </tr>\n",
       "    <tr>\n",
       "      <th>flx_wells_19700102</th>\n",
       "      <td>flx_wells_19700102</td>\n",
       "      <td>flx_wells</td>\n",
       "      <td>-1.905120e+03</td>\n",
       "      <td>-2.000000e+03</td>\n",
       "      <td>9.488000e+01</td>\n",
       "      <td>0.0</td>\n",
       "    </tr>\n",
       "    <tr>\n",
       "      <th>flx_constan_19750101</th>\n",
       "      <td>flx_constan_19750101</td>\n",
       "      <td>flx_constan</td>\n",
       "      <td>-1.796678e+02</td>\n",
       "      <td>-4.791760e+01</td>\n",
       "      <td>-1.317502e+02</td>\n",
       "      <td>0.0</td>\n",
       "    </tr>\n",
       "    <tr>\n",
       "      <th>flx_in-out_19750101</th>\n",
       "      <td>flx_in-out_19750101</td>\n",
       "      <td>flx_in-out</td>\n",
       "      <td>4.101600e-02</td>\n",
       "      <td>6.045000e-01</td>\n",
       "      <td>-5.634840e-01</td>\n",
       "      <td>0.0</td>\n",
       "    </tr>\n",
       "    <tr>\n",
       "      <th>flx_percent_19750101</th>\n",
       "      <td>flx_percent_19750101</td>\n",
       "      <td>flx_percent</td>\n",
       "      <td>0.000000e+00</td>\n",
       "      <td>1.000000e-02</td>\n",
       "      <td>-1.000000e-02</td>\n",
       "      <td>0.0</td>\n",
       "    </tr>\n",
       "    <tr>\n",
       "      <th>flx_recharg_19750101</th>\n",
       "      <td>flx_recharg_19750101</td>\n",
       "      <td>flx_recharg</td>\n",
       "      <td>3.909375e+03</td>\n",
       "      <td>3.909375e+03</td>\n",
       "      <td>0.000000e+00</td>\n",
       "      <td>0.0</td>\n",
       "    </tr>\n",
       "    <tr>\n",
       "      <th>flx_river_l_19750101</th>\n",
       "      <td>flx_river_l_19750101</td>\n",
       "      <td>foreflux</td>\n",
       "      <td>-1.393819e+03</td>\n",
       "      <td>-1.517990e+03</td>\n",
       "      <td>1.241705e+02</td>\n",
       "      <td>0.0</td>\n",
       "    </tr>\n",
       "    <tr>\n",
       "      <th>flx_storage_19750101</th>\n",
       "      <td>flx_storage_19750101</td>\n",
       "      <td>flx_storage</td>\n",
       "      <td>4.555260e+01</td>\n",
       "      <td>3.853620e+01</td>\n",
       "      <td>7.016399e+00</td>\n",
       "      <td>0.0</td>\n",
       "    </tr>\n",
       "    <tr>\n",
       "      <th>flx_total_19750101</th>\n",
       "      <td>flx_total_19750101</td>\n",
       "      <td>flx_total</td>\n",
       "      <td>4.101562e-02</td>\n",
       "      <td>6.044922e-01</td>\n",
       "      <td>-5.634766e-01</td>\n",
       "      <td>0.0</td>\n",
       "    </tr>\n",
       "    <tr>\n",
       "      <th>flx_wells_19750101</th>\n",
       "      <td>flx_wells_19750101</td>\n",
       "      <td>flx_wells</td>\n",
       "      <td>-2.381400e+03</td>\n",
       "      <td>-2.381400e+03</td>\n",
       "      <td>-9.765625e-05</td>\n",
       "      <td>0.0</td>\n",
       "    </tr>\n",
       "    <tr>\n",
       "      <th>flx_constan_19750102</th>\n",
       "      <td>flx_constan_19750102</td>\n",
       "      <td>flx_constan</td>\n",
       "      <td>-1.727992e+02</td>\n",
       "      <td>-4.348160e+01</td>\n",
       "      <td>-1.293176e+02</td>\n",
       "      <td>0.0</td>\n",
       "    </tr>\n",
       "    <tr>\n",
       "      <th>flx_in-out_19750102</th>\n",
       "      <td>flx_in-out_19750102</td>\n",
       "      <td>flx_in-out</td>\n",
       "      <td>1.171900e-02</td>\n",
       "      <td>7.812500e-03</td>\n",
       "      <td>3.906500e-03</td>\n",
       "      <td>0.0</td>\n",
       "    </tr>\n",
       "    <tr>\n",
       "      <th>flx_percent_19750102</th>\n",
       "      <td>flx_percent_19750102</td>\n",
       "      <td>flx_percent</td>\n",
       "      <td>0.000000e+00</td>\n",
       "      <td>0.000000e+00</td>\n",
       "      <td>0.000000e+00</td>\n",
       "      <td>0.0</td>\n",
       "    </tr>\n",
       "    <tr>\n",
       "      <th>flx_recharg_19750102</th>\n",
       "      <td>flx_recharg_19750102</td>\n",
       "      <td>flx_recharg</td>\n",
       "      <td>3.909375e+03</td>\n",
       "      <td>3.909375e+03</td>\n",
       "      <td>0.000000e+00</td>\n",
       "      <td>0.0</td>\n",
       "    </tr>\n",
       "    <tr>\n",
       "      <th>flx_river_l_19750102</th>\n",
       "      <td>flx_river_l_19750102</td>\n",
       "      <td>flx_river_l</td>\n",
       "      <td>-1.355165e+03</td>\n",
       "      <td>-1.484486e+03</td>\n",
       "      <td>1.293207e+02</td>\n",
       "      <td>0.0</td>\n",
       "    </tr>\n",
       "    <tr>\n",
       "      <th>flx_storage_19750102</th>\n",
       "      <td>flx_storage_19750102</td>\n",
       "      <td>flx_storage</td>\n",
       "      <td>0.000000e+00</td>\n",
       "      <td>0.000000e+00</td>\n",
       "      <td>0.000000e+00</td>\n",
       "      <td>0.0</td>\n",
       "    </tr>\n",
       "    <tr>\n",
       "      <th>flx_total_19750102</th>\n",
       "      <td>flx_total_19750102</td>\n",
       "      <td>flx_total</td>\n",
       "      <td>1.171875e-02</td>\n",
       "      <td>7.812500e-03</td>\n",
       "      <td>3.906250e-03</td>\n",
       "      <td>0.0</td>\n",
       "    </tr>\n",
       "    <tr>\n",
       "      <th>flx_wells_19750102</th>\n",
       "      <td>flx_wells_19750102</td>\n",
       "      <td>flx_wells</td>\n",
       "      <td>-2.381400e+03</td>\n",
       "      <td>-2.381400e+03</td>\n",
       "      <td>-9.765625e-05</td>\n",
       "      <td>0.0</td>\n",
       "    </tr>\n",
       "    <tr>\n",
       "      <th>pr01c01_19700101</th>\n",
       "      <td>pr01c01_19700101</td>\n",
       "      <td>head</td>\n",
       "      <td>4.500000e+01</td>\n",
       "      <td>4.500000e+01</td>\n",
       "      <td>0.000000e+00</td>\n",
       "      <td>0.0</td>\n",
       "    </tr>\n",
       "    <tr>\n",
       "      <th>pr01c01_19700102</th>\n",
       "      <td>pr01c01_19700102</td>\n",
       "      <td>pothead</td>\n",
       "      <td>2.732159e+01</td>\n",
       "      <td>2.852331e+01</td>\n",
       "      <td>-1.201715e+00</td>\n",
       "      <td>0.0</td>\n",
       "    </tr>\n",
       "    <tr>\n",
       "      <th>pr01c01_19750101</th>\n",
       "      <td>pr01c01_19750101</td>\n",
       "      <td>head</td>\n",
       "      <td>2.491396e+01</td>\n",
       "      <td>2.583703e+01</td>\n",
       "      <td>-9.230709e-01</td>\n",
       "      <td>0.0</td>\n",
       "    </tr>\n",
       "    <tr>\n",
       "      <th>pr01c01_19750102</th>\n",
       "      <td>pr01c01_19750102</td>\n",
       "      <td>head</td>\n",
       "      <td>2.483062e+01</td>\n",
       "      <td>2.573831e+01</td>\n",
       "      <td>-9.076881e-01</td>\n",
       "      <td>0.0</td>\n",
       "    </tr>\n",
       "    <tr>\n",
       "      <th>pr01c02_19700101</th>\n",
       "      <td>pr01c02_19700101</td>\n",
       "      <td>head</td>\n",
       "      <td>4.500000e+01</td>\n",
       "      <td>4.500000e+01</td>\n",
       "      <td>0.000000e+00</td>\n",
       "      <td>0.0</td>\n",
       "    </tr>\n",
       "    <tr>\n",
       "      <th>pr01c02_19700102</th>\n",
       "      <td>pr01c02_19700102</td>\n",
       "      <td>pothead</td>\n",
       "      <td>2.722244e+01</td>\n",
       "      <td>2.838724e+01</td>\n",
       "      <td>-1.164801e+00</td>\n",
       "      <td>0.0</td>\n",
       "    </tr>\n",
       "    <tr>\n",
       "      <th>...</th>\n",
       "      <td>...</td>\n",
       "      <td>...</td>\n",
       "      <td>...</td>\n",
       "      <td>...</td>\n",
       "      <td>...</td>\n",
       "      <td>...</td>\n",
       "    </tr>\n",
       "    <tr>\n",
       "      <th>pr40c14_19750102</th>\n",
       "      <td>pr40c14_19750102</td>\n",
       "      <td>head</td>\n",
       "      <td>1.200000e+01</td>\n",
       "      <td>1.200000e+01</td>\n",
       "      <td>0.000000e+00</td>\n",
       "      <td>0.0</td>\n",
       "    </tr>\n",
       "    <tr>\n",
       "      <th>pr40c15_19700101</th>\n",
       "      <td>pr40c15_19700101</td>\n",
       "      <td>head</td>\n",
       "      <td>1.140000e+01</td>\n",
       "      <td>1.140000e+01</td>\n",
       "      <td>4.697274e-10</td>\n",
       "      <td>0.0</td>\n",
       "    </tr>\n",
       "    <tr>\n",
       "      <th>pr40c15_19700102</th>\n",
       "      <td>pr40c15_19700102</td>\n",
       "      <td>pothead</td>\n",
       "      <td>1.140000e+01</td>\n",
       "      <td>1.140000e+01</td>\n",
       "      <td>4.697274e-10</td>\n",
       "      <td>0.0</td>\n",
       "    </tr>\n",
       "    <tr>\n",
       "      <th>pr40c15_19750101</th>\n",
       "      <td>pr40c15_19750101</td>\n",
       "      <td>head</td>\n",
       "      <td>1.140000e+01</td>\n",
       "      <td>1.140000e+01</td>\n",
       "      <td>4.697274e-10</td>\n",
       "      <td>0.0</td>\n",
       "    </tr>\n",
       "    <tr>\n",
       "      <th>pr40c15_19750102</th>\n",
       "      <td>pr40c15_19750102</td>\n",
       "      <td>head</td>\n",
       "      <td>1.140000e+01</td>\n",
       "      <td>1.140000e+01</td>\n",
       "      <td>4.697274e-10</td>\n",
       "      <td>0.0</td>\n",
       "    </tr>\n",
       "    <tr>\n",
       "      <th>travel_time</th>\n",
       "      <td>travel_time</td>\n",
       "      <td>foretrav</td>\n",
       "      <td>3.937446e+04</td>\n",
       "      <td>2.144666e+04</td>\n",
       "      <td>1.792780e+04</td>\n",
       "      <td>0.0</td>\n",
       "    </tr>\n",
       "    <tr>\n",
       "      <th>vol_constan_19700102</th>\n",
       "      <td>vol_constan_19700102</td>\n",
       "      <td>vol_constan</td>\n",
       "      <td>-4.073839e+02</td>\n",
       "      <td>-2.575951e+02</td>\n",
       "      <td>-1.497888e+02</td>\n",
       "      <td>0.0</td>\n",
       "    </tr>\n",
       "    <tr>\n",
       "      <th>vol_in-out_19700102</th>\n",
       "      <td>vol_in-out_19700102</td>\n",
       "      <td>vol_in-out</td>\n",
       "      <td>-1.373190e+01</td>\n",
       "      <td>-3.367700e+00</td>\n",
       "      <td>-1.036420e+01</td>\n",
       "      <td>0.0</td>\n",
       "    </tr>\n",
       "    <tr>\n",
       "      <th>vol_percent_19700102</th>\n",
       "      <td>vol_percent_19700102</td>\n",
       "      <td>vol_percent</td>\n",
       "      <td>-2.200000e-01</td>\n",
       "      <td>-5.000000e-02</td>\n",
       "      <td>-1.700000e-01</td>\n",
       "      <td>0.0</td>\n",
       "    </tr>\n",
       "    <tr>\n",
       "      <th>vol_recharg_19700102</th>\n",
       "      <td>vol_recharg_19700102</td>\n",
       "      <td>vol_recharg</td>\n",
       "      <td>6.004800e+03</td>\n",
       "      <td>6.081250e+03</td>\n",
       "      <td>-7.645000e+01</td>\n",
       "      <td>0.0</td>\n",
       "    </tr>\n",
       "    <tr>\n",
       "      <th>vol_river_l_19700102</th>\n",
       "      <td>vol_river_l_19700102</td>\n",
       "      <td>vol_river_l</td>\n",
       "      <td>-3.706027e+03</td>\n",
       "      <td>-3.827022e+03</td>\n",
       "      <td>1.209955e+02</td>\n",
       "      <td>0.0</td>\n",
       "    </tr>\n",
       "    <tr>\n",
       "      <th>vol_storage_19700102</th>\n",
       "      <td>vol_storage_19700102</td>\n",
       "      <td>vol_storage</td>\n",
       "      <td>0.000000e+00</td>\n",
       "      <td>0.000000e+00</td>\n",
       "      <td>0.000000e+00</td>\n",
       "      <td>0.0</td>\n",
       "    </tr>\n",
       "    <tr>\n",
       "      <th>vol_total_19700102</th>\n",
       "      <td>vol_total_19700102</td>\n",
       "      <td>vol_total</td>\n",
       "      <td>-1.373193e+01</td>\n",
       "      <td>-3.367676e+00</td>\n",
       "      <td>-1.036425e+01</td>\n",
       "      <td>0.0</td>\n",
       "    </tr>\n",
       "    <tr>\n",
       "      <th>vol_wells_19700102</th>\n",
       "      <td>vol_wells_19700102</td>\n",
       "      <td>vol_wells</td>\n",
       "      <td>-1.905120e+03</td>\n",
       "      <td>-2.000000e+03</td>\n",
       "      <td>9.488000e+01</td>\n",
       "      <td>0.0</td>\n",
       "    </tr>\n",
       "    <tr>\n",
       "      <th>vol_constan_19750101</th>\n",
       "      <td>vol_constan_19750101</td>\n",
       "      <td>vol_constan</td>\n",
       "      <td>-3.283012e+05</td>\n",
       "      <td>-8.770722e+04</td>\n",
       "      <td>-2.405940e+05</td>\n",
       "      <td>0.0</td>\n",
       "    </tr>\n",
       "    <tr>\n",
       "      <th>vol_in-out_19750101</th>\n",
       "      <td>vol_in-out_19750101</td>\n",
       "      <td>vol_in-out</td>\n",
       "      <td>6.100000e+01</td>\n",
       "      <td>1.099000e+03</td>\n",
       "      <td>-1.038000e+03</td>\n",
       "      <td>0.0</td>\n",
       "    </tr>\n",
       "    <tr>\n",
       "      <th>vol_percent_19750101</th>\n",
       "      <td>vol_percent_19750101</td>\n",
       "      <td>vol_percent</td>\n",
       "      <td>0.000000e+00</td>\n",
       "      <td>1.000000e-02</td>\n",
       "      <td>-1.000000e-02</td>\n",
       "      <td>0.0</td>\n",
       "    </tr>\n",
       "    <tr>\n",
       "      <th>vol_recharg_19750101</th>\n",
       "      <td>vol_recharg_19750101</td>\n",
       "      <td>vol_recharg</td>\n",
       "      <td>7.140614e+06</td>\n",
       "      <td>7.140691e+06</td>\n",
       "      <td>-7.700000e+01</td>\n",
       "      <td>0.0</td>\n",
       "    </tr>\n",
       "    <tr>\n",
       "      <th>vol_river_l_19750101</th>\n",
       "      <td>vol_river_l_19750101</td>\n",
       "      <td>vol_river_l</td>\n",
       "      <td>-2.547426e+06</td>\n",
       "      <td>-2.774158e+06</td>\n",
       "      <td>2.267320e+05</td>\n",
       "      <td>0.0</td>\n",
       "    </tr>\n",
       "    <tr>\n",
       "      <th>vol_storage_19750101</th>\n",
       "      <td>vol_storage_19750101</td>\n",
       "      <td>vol_storage</td>\n",
       "      <td>8.313352e+04</td>\n",
       "      <td>7.032853e+04</td>\n",
       "      <td>1.280499e+04</td>\n",
       "      <td>0.0</td>\n",
       "    </tr>\n",
       "    <tr>\n",
       "      <th>vol_total_19750101</th>\n",
       "      <td>vol_total_19750101</td>\n",
       "      <td>vol_total</td>\n",
       "      <td>6.100000e+01</td>\n",
       "      <td>1.099000e+03</td>\n",
       "      <td>-1.038000e+03</td>\n",
       "      <td>0.0</td>\n",
       "    </tr>\n",
       "    <tr>\n",
       "      <th>vol_wells_19750101</th>\n",
       "      <td>vol_wells_19750101</td>\n",
       "      <td>vol_wells</td>\n",
       "      <td>-4.347960e+06</td>\n",
       "      <td>-4.348055e+06</td>\n",
       "      <td>9.500000e+01</td>\n",
       "      <td>0.0</td>\n",
       "    </tr>\n",
       "    <tr>\n",
       "      <th>vol_constan_19750102</th>\n",
       "      <td>vol_constan_19750102</td>\n",
       "      <td>vol_constan</td>\n",
       "      <td>-3.284740e+05</td>\n",
       "      <td>-8.775070e+04</td>\n",
       "      <td>-2.407233e+05</td>\n",
       "      <td>0.0</td>\n",
       "    </tr>\n",
       "    <tr>\n",
       "      <th>vol_in-out_19750102</th>\n",
       "      <td>vol_in-out_19750102</td>\n",
       "      <td>vol_in-out</td>\n",
       "      <td>6.100000e+01</td>\n",
       "      <td>1.099000e+03</td>\n",
       "      <td>-1.038000e+03</td>\n",
       "      <td>0.0</td>\n",
       "    </tr>\n",
       "    <tr>\n",
       "      <th>vol_percent_19750102</th>\n",
       "      <td>vol_percent_19750102</td>\n",
       "      <td>vol_percent</td>\n",
       "      <td>0.000000e+00</td>\n",
       "      <td>1.000000e-02</td>\n",
       "      <td>-1.000000e-02</td>\n",
       "      <td>0.0</td>\n",
       "    </tr>\n",
       "    <tr>\n",
       "      <th>vol_recharg_19750102</th>\n",
       "      <td>vol_recharg_19750102</td>\n",
       "      <td>vol_recharg</td>\n",
       "      <td>7.144524e+06</td>\n",
       "      <td>7.144600e+06</td>\n",
       "      <td>-7.650000e+01</td>\n",
       "      <td>0.0</td>\n",
       "    </tr>\n",
       "    <tr>\n",
       "      <th>vol_river_l_19750102</th>\n",
       "      <td>vol_river_l_19750102</td>\n",
       "      <td>vol_river_l</td>\n",
       "      <td>-2.548781e+06</td>\n",
       "      <td>-2.775642e+06</td>\n",
       "      <td>2.268615e+05</td>\n",
       "      <td>0.0</td>\n",
       "    </tr>\n",
       "    <tr>\n",
       "      <th>vol_storage_19750102</th>\n",
       "      <td>vol_storage_19750102</td>\n",
       "      <td>vol_storage</td>\n",
       "      <td>8.313352e+04</td>\n",
       "      <td>7.032853e+04</td>\n",
       "      <td>1.280499e+04</td>\n",
       "      <td>0.0</td>\n",
       "    </tr>\n",
       "    <tr>\n",
       "      <th>vol_total_19750102</th>\n",
       "      <td>vol_total_19750102</td>\n",
       "      <td>vol_total</td>\n",
       "      <td>6.100000e+01</td>\n",
       "      <td>1.099000e+03</td>\n",
       "      <td>-1.038000e+03</td>\n",
       "      <td>0.0</td>\n",
       "    </tr>\n",
       "    <tr>\n",
       "      <th>vol_wells_19750102</th>\n",
       "      <td>vol_wells_19750102</td>\n",
       "      <td>vol_wells</td>\n",
       "      <td>-4.350342e+06</td>\n",
       "      <td>-4.350436e+06</td>\n",
       "      <td>9.450000e+01</td>\n",
       "      <td>0.0</td>\n",
       "    </tr>\n",
       "  </tbody>\n",
       "</table>\n",
       "<p>2921 rows × 6 columns</p>\n",
       "</div>"
      ],
      "text/plain": [
       "                                      name        group      measured  \\\n",
       "name                                                                    \n",
       "flx_constan_19700102  flx_constan_19700102  flx_constan -4.073839e+02   \n",
       "flx_in-out_19700102    flx_in-out_19700102   flx_in-out -1.373190e+01   \n",
       "flx_percent_19700102  flx_percent_19700102  flx_percent -2.200000e-01   \n",
       "flx_recharg_19700102  flx_recharg_19700102  flx_recharg  6.004800e+03   \n",
       "flx_river_l_19700102  flx_river_l_19700102      calflux -3.706027e+03   \n",
       "flx_storage_19700102  flx_storage_19700102  flx_storage  0.000000e+00   \n",
       "flx_total_19700102      flx_total_19700102    flx_total -1.373193e+01   \n",
       "flx_wells_19700102      flx_wells_19700102    flx_wells -1.905120e+03   \n",
       "flx_constan_19750101  flx_constan_19750101  flx_constan -1.796678e+02   \n",
       "flx_in-out_19750101    flx_in-out_19750101   flx_in-out  4.101600e-02   \n",
       "flx_percent_19750101  flx_percent_19750101  flx_percent  0.000000e+00   \n",
       "flx_recharg_19750101  flx_recharg_19750101  flx_recharg  3.909375e+03   \n",
       "flx_river_l_19750101  flx_river_l_19750101     foreflux -1.393819e+03   \n",
       "flx_storage_19750101  flx_storage_19750101  flx_storage  4.555260e+01   \n",
       "flx_total_19750101      flx_total_19750101    flx_total  4.101562e-02   \n",
       "flx_wells_19750101      flx_wells_19750101    flx_wells -2.381400e+03   \n",
       "flx_constan_19750102  flx_constan_19750102  flx_constan -1.727992e+02   \n",
       "flx_in-out_19750102    flx_in-out_19750102   flx_in-out  1.171900e-02   \n",
       "flx_percent_19750102  flx_percent_19750102  flx_percent  0.000000e+00   \n",
       "flx_recharg_19750102  flx_recharg_19750102  flx_recharg  3.909375e+03   \n",
       "flx_river_l_19750102  flx_river_l_19750102  flx_river_l -1.355165e+03   \n",
       "flx_storage_19750102  flx_storage_19750102  flx_storage  0.000000e+00   \n",
       "flx_total_19750102      flx_total_19750102    flx_total  1.171875e-02   \n",
       "flx_wells_19750102      flx_wells_19750102    flx_wells -2.381400e+03   \n",
       "pr01c01_19700101          pr01c01_19700101         head  4.500000e+01   \n",
       "pr01c01_19700102          pr01c01_19700102      pothead  2.732159e+01   \n",
       "pr01c01_19750101          pr01c01_19750101         head  2.491396e+01   \n",
       "pr01c01_19750102          pr01c01_19750102         head  2.483062e+01   \n",
       "pr01c02_19700101          pr01c02_19700101         head  4.500000e+01   \n",
       "pr01c02_19700102          pr01c02_19700102      pothead  2.722244e+01   \n",
       "...                                    ...          ...           ...   \n",
       "pr40c14_19750102          pr40c14_19750102         head  1.200000e+01   \n",
       "pr40c15_19700101          pr40c15_19700101         head  1.140000e+01   \n",
       "pr40c15_19700102          pr40c15_19700102      pothead  1.140000e+01   \n",
       "pr40c15_19750101          pr40c15_19750101         head  1.140000e+01   \n",
       "pr40c15_19750102          pr40c15_19750102         head  1.140000e+01   \n",
       "travel_time                    travel_time     foretrav  3.937446e+04   \n",
       "vol_constan_19700102  vol_constan_19700102  vol_constan -4.073839e+02   \n",
       "vol_in-out_19700102    vol_in-out_19700102   vol_in-out -1.373190e+01   \n",
       "vol_percent_19700102  vol_percent_19700102  vol_percent -2.200000e-01   \n",
       "vol_recharg_19700102  vol_recharg_19700102  vol_recharg  6.004800e+03   \n",
       "vol_river_l_19700102  vol_river_l_19700102  vol_river_l -3.706027e+03   \n",
       "vol_storage_19700102  vol_storage_19700102  vol_storage  0.000000e+00   \n",
       "vol_total_19700102      vol_total_19700102    vol_total -1.373193e+01   \n",
       "vol_wells_19700102      vol_wells_19700102    vol_wells -1.905120e+03   \n",
       "vol_constan_19750101  vol_constan_19750101  vol_constan -3.283012e+05   \n",
       "vol_in-out_19750101    vol_in-out_19750101   vol_in-out  6.100000e+01   \n",
       "vol_percent_19750101  vol_percent_19750101  vol_percent  0.000000e+00   \n",
       "vol_recharg_19750101  vol_recharg_19750101  vol_recharg  7.140614e+06   \n",
       "vol_river_l_19750101  vol_river_l_19750101  vol_river_l -2.547426e+06   \n",
       "vol_storage_19750101  vol_storage_19750101  vol_storage  8.313352e+04   \n",
       "vol_total_19750101      vol_total_19750101    vol_total  6.100000e+01   \n",
       "vol_wells_19750101      vol_wells_19750101    vol_wells -4.347960e+06   \n",
       "vol_constan_19750102  vol_constan_19750102  vol_constan -3.284740e+05   \n",
       "vol_in-out_19750102    vol_in-out_19750102   vol_in-out  6.100000e+01   \n",
       "vol_percent_19750102  vol_percent_19750102  vol_percent  0.000000e+00   \n",
       "vol_recharg_19750102  vol_recharg_19750102  vol_recharg  7.144524e+06   \n",
       "vol_river_l_19750102  vol_river_l_19750102  vol_river_l -2.548781e+06   \n",
       "vol_storage_19750102  vol_storage_19750102  vol_storage  8.313352e+04   \n",
       "vol_total_19750102      vol_total_19750102    vol_total  6.100000e+01   \n",
       "vol_wells_19750102      vol_wells_19750102    vol_wells -4.350342e+06   \n",
       "\n",
       "                          modelled      residual  weight  \n",
       "name                                                      \n",
       "flx_constan_19700102 -2.575951e+02 -1.497888e+02     0.0  \n",
       "flx_in-out_19700102  -3.367700e+00 -1.036420e+01     0.0  \n",
       "flx_percent_19700102 -5.000000e-02 -1.700000e-01     0.0  \n",
       "flx_recharg_19700102  6.081250e+03 -7.645000e+01     0.0  \n",
       "flx_river_l_19700102 -3.827022e+03  1.209955e+02     0.0  \n",
       "flx_storage_19700102  0.000000e+00  0.000000e+00     0.0  \n",
       "flx_total_19700102   -3.367676e+00 -1.036425e+01     0.0  \n",
       "flx_wells_19700102   -2.000000e+03  9.488000e+01     0.0  \n",
       "flx_constan_19750101 -4.791760e+01 -1.317502e+02     0.0  \n",
       "flx_in-out_19750101   6.045000e-01 -5.634840e-01     0.0  \n",
       "flx_percent_19750101  1.000000e-02 -1.000000e-02     0.0  \n",
       "flx_recharg_19750101  3.909375e+03  0.000000e+00     0.0  \n",
       "flx_river_l_19750101 -1.517990e+03  1.241705e+02     0.0  \n",
       "flx_storage_19750101  3.853620e+01  7.016399e+00     0.0  \n",
       "flx_total_19750101    6.044922e-01 -5.634766e-01     0.0  \n",
       "flx_wells_19750101   -2.381400e+03 -9.765625e-05     0.0  \n",
       "flx_constan_19750102 -4.348160e+01 -1.293176e+02     0.0  \n",
       "flx_in-out_19750102   7.812500e-03  3.906500e-03     0.0  \n",
       "flx_percent_19750102  0.000000e+00  0.000000e+00     0.0  \n",
       "flx_recharg_19750102  3.909375e+03  0.000000e+00     0.0  \n",
       "flx_river_l_19750102 -1.484486e+03  1.293207e+02     0.0  \n",
       "flx_storage_19750102  0.000000e+00  0.000000e+00     0.0  \n",
       "flx_total_19750102    7.812500e-03  3.906250e-03     0.0  \n",
       "flx_wells_19750102   -2.381400e+03 -9.765625e-05     0.0  \n",
       "pr01c01_19700101      4.500000e+01  0.000000e+00     0.0  \n",
       "pr01c01_19700102      2.852331e+01 -1.201715e+00     0.0  \n",
       "pr01c01_19750101      2.583703e+01 -9.230709e-01     0.0  \n",
       "pr01c01_19750102      2.573831e+01 -9.076881e-01     0.0  \n",
       "pr01c02_19700101      4.500000e+01  0.000000e+00     0.0  \n",
       "pr01c02_19700102      2.838724e+01 -1.164801e+00     0.0  \n",
       "...                            ...           ...     ...  \n",
       "pr40c14_19750102      1.200000e+01  0.000000e+00     0.0  \n",
       "pr40c15_19700101      1.140000e+01  4.697274e-10     0.0  \n",
       "pr40c15_19700102      1.140000e+01  4.697274e-10     0.0  \n",
       "pr40c15_19750101      1.140000e+01  4.697274e-10     0.0  \n",
       "pr40c15_19750102      1.140000e+01  4.697274e-10     0.0  \n",
       "travel_time           2.144666e+04  1.792780e+04     0.0  \n",
       "vol_constan_19700102 -2.575951e+02 -1.497888e+02     0.0  \n",
       "vol_in-out_19700102  -3.367700e+00 -1.036420e+01     0.0  \n",
       "vol_percent_19700102 -5.000000e-02 -1.700000e-01     0.0  \n",
       "vol_recharg_19700102  6.081250e+03 -7.645000e+01     0.0  \n",
       "vol_river_l_19700102 -3.827022e+03  1.209955e+02     0.0  \n",
       "vol_storage_19700102  0.000000e+00  0.000000e+00     0.0  \n",
       "vol_total_19700102   -3.367676e+00 -1.036425e+01     0.0  \n",
       "vol_wells_19700102   -2.000000e+03  9.488000e+01     0.0  \n",
       "vol_constan_19750101 -8.770722e+04 -2.405940e+05     0.0  \n",
       "vol_in-out_19750101   1.099000e+03 -1.038000e+03     0.0  \n",
       "vol_percent_19750101  1.000000e-02 -1.000000e-02     0.0  \n",
       "vol_recharg_19750101  7.140691e+06 -7.700000e+01     0.0  \n",
       "vol_river_l_19750101 -2.774158e+06  2.267320e+05     0.0  \n",
       "vol_storage_19750101  7.032853e+04  1.280499e+04     0.0  \n",
       "vol_total_19750101    1.099000e+03 -1.038000e+03     0.0  \n",
       "vol_wells_19750101   -4.348055e+06  9.500000e+01     0.0  \n",
       "vol_constan_19750102 -8.775070e+04 -2.407233e+05     0.0  \n",
       "vol_in-out_19750102   1.099000e+03 -1.038000e+03     0.0  \n",
       "vol_percent_19750102  1.000000e-02 -1.000000e-02     0.0  \n",
       "vol_recharg_19750102  7.144600e+06 -7.650000e+01     0.0  \n",
       "vol_river_l_19750102 -2.775642e+06  2.268615e+05     0.0  \n",
       "vol_storage_19750102  7.032853e+04  1.280499e+04     0.0  \n",
       "vol_total_19750102    1.099000e+03 -1.038000e+03     0.0  \n",
       "vol_wells_19750102   -4.350436e+06  9.450000e+01     0.0  \n",
       "\n",
       "[2921 rows x 6 columns]"
      ]
     },
     "execution_count": 16,
     "metadata": {},
     "output_type": "execute_result"
    }
   ],
   "source": [
    "pst = pyemu.Pst(os.path.join(working_dir,pst_name))\n",
    "pst.res"
   ]
  },
  {
   "cell_type": "markdown",
   "metadata": {},
   "source": [
    "## Observations with 1970 in them represent the calibration period; those with 1975 represent the forecast period.  The last column is the weight given to them in the parameter estimation. \n",
    "\n",
    "# Now let's look at what the calibration did for uncertainty reduction\n",
    "\n",
    "### First, let's look the change in uncertainty for our one horizontal hydraulic conductivity (Kh) parameter"
   ]
  },
  {
   "cell_type": "code",
   "execution_count": 17,
   "metadata": {},
   "outputs": [
    {
     "data": {
      "text/html": [
       "<div>\n",
       "<style>\n",
       "    .dataframe thead tr:only-child th {\n",
       "        text-align: right;\n",
       "    }\n",
       "\n",
       "    .dataframe thead th {\n",
       "        text-align: left;\n",
       "    }\n",
       "\n",
       "    .dataframe tbody tr th {\n",
       "        vertical-align: top;\n",
       "    }\n",
       "</style>\n",
       "<table border=\"1\" class=\"dataframe\">\n",
       "  <thead>\n",
       "    <tr style=\"text-align: right;\">\n",
       "      <th></th>\n",
       "      <th>prior_mean</th>\n",
       "      <th>prior_stdev</th>\n",
       "      <th>prior_lower_bound</th>\n",
       "      <th>prior_upper_bound</th>\n",
       "      <th>post_mean</th>\n",
       "      <th>post_stdev</th>\n",
       "      <th>post_lower_bound</th>\n",
       "      <th>post_upper_bound</th>\n",
       "    </tr>\n",
       "    <tr>\n",
       "      <th>name</th>\n",
       "      <th></th>\n",
       "      <th></th>\n",
       "      <th></th>\n",
       "      <th></th>\n",
       "      <th></th>\n",
       "      <th></th>\n",
       "      <th></th>\n",
       "      <th></th>\n",
       "    </tr>\n",
       "  </thead>\n",
       "  <tbody>\n",
       "    <tr>\n",
       "      <th>HK</th>\n",
       "      <td>0.69897</td>\n",
       "      <td>0.5</td>\n",
       "      <td>-0.30103</td>\n",
       "      <td>1.69897</td>\n",
       "      <td>0.833626</td>\n",
       "      <td>0.052271</td>\n",
       "      <td>0.729085</td>\n",
       "      <td>0.938167</td>\n",
       "    </tr>\n",
       "  </tbody>\n",
       "</table>\n",
       "</div>"
      ],
      "text/plain": [
       "      prior_mean  prior_stdev  prior_lower_bound  prior_upper_bound  \\\n",
       "name                                                                  \n",
       "HK       0.69897          0.5           -0.30103            1.69897   \n",
       "\n",
       "      post_mean  post_stdev  post_lower_bound  post_upper_bound  \n",
       "name                                                             \n",
       "HK     0.833626    0.052271          0.729085          0.938167  "
      ]
     },
     "execution_count": 17,
     "metadata": {},
     "output_type": "execute_result"
    }
   ],
   "source": [
    "df_paru = pd.read_csv(os.path.join(working_dir,pst_name.replace(\".pst\",\".par.usum.csv\")),index_col=0)\n",
    "df_paru"
   ]
  },
  {
   "cell_type": "markdown",
   "metadata": {},
   "source": [
    "#### NOTE: Recall that because we log transformed the Kh parameter the uncertainty results are reported as logarithms in the dataframe above.  What you'll see in the MODFLOW input file is the non-log transformed Kh value, which is 10^0.693406 = 4.9465457 (prior mean) or 10^0.833 = 6.818 (posterior mean)\n",
    "\n",
    "## Now let's plot it:"
   ]
  },
  {
   "cell_type": "code",
   "execution_count": 18,
   "metadata": {},
   "outputs": [
    {
     "data": {
      "text/plain": [
       "<matplotlib.text.Text at 0x1147e09b0>"
      ]
     },
     "execution_count": 18,
     "metadata": {},
     "output_type": "execute_result"
    },
    {
     "data": {
      "image/png": "[encoded data removed]",
      "text/plain": [
       "<matplotlib.figure.Figure at 0x1147dbbe0>"
      ]
     },
     "metadata": {},
     "output_type": "display_data"
    }
   ],
   "source": [
    "ax = pyemu.helpers.plot_summary_distributions(df_paru,label_post=True)\n",
    "ax.set_xlabel(\"$log_{10}(\\\\frac{L}{T})$\")"
   ]
  },
  {
   "cell_type": "markdown",
   "metadata": {},
   "source": [
    "### The dotted gray line represents the \"prior\" information as expressed by the parameter bounds in the PEST control file.  The shaded area is the uncertainty after the calibration.\n",
    "\n",
    "\n",
    "\n",
    "# Now let's look at changes in model forecast uncertainty, first as a table then as a plot\n",
    "\n",
    "(The forecasts of interest are identified by putting \"fore\" in the observation group name, so they are __foreflux, forehead, and foretrav__)"
   ]
  },
  {
   "cell_type": "code",
   "execution_count": 19,
   "metadata": {},
   "outputs": [
    {
     "data": {
      "text/html": [
       "<div>\n",
       "<style>\n",
       "    .dataframe thead tr:only-child th {\n",
       "        text-align: right;\n",
       "    }\n",
       "\n",
       "    .dataframe thead th {\n",
       "        text-align: left;\n",
       "    }\n",
       "\n",
       "    .dataframe tbody tr th {\n",
       "        vertical-align: top;\n",
       "    }\n",
       "</style>\n",
       "<table border=\"1\" class=\"dataframe\">\n",
       "  <thead>\n",
       "    <tr style=\"text-align: right;\">\n",
       "      <th></th>\n",
       "      <th>prior_mean</th>\n",
       "      <th>prior_stdev</th>\n",
       "      <th>prior_lower_bound</th>\n",
       "      <th>prior_upper_bound</th>\n",
       "      <th>post_mean</th>\n",
       "      <th>post_stdev</th>\n",
       "      <th>post_lower_bound</th>\n",
       "      <th>post_upper_bound</th>\n",
       "    </tr>\n",
       "    <tr>\n",
       "      <th>name</th>\n",
       "      <th></th>\n",
       "      <th></th>\n",
       "      <th></th>\n",
       "      <th></th>\n",
       "      <th></th>\n",
       "      <th></th>\n",
       "      <th></th>\n",
       "      <th></th>\n",
       "    </tr>\n",
       "  </thead>\n",
       "  <tbody>\n",
       "    <tr>\n",
       "      <th>FLX_RIVER_L_19750102</th>\n",
       "      <td>-1436.1400</td>\n",
       "      <td>208.815000</td>\n",
       "      <td>-1853.7700</td>\n",
       "      <td>-1018.5100</td>\n",
       "      <td>-1484.4900</td>\n",
       "      <td>21.829700</td>\n",
       "      <td>-1528.1500</td>\n",
       "      <td>-1440.8300</td>\n",
       "    </tr>\n",
       "    <tr>\n",
       "      <th>FR03C10_19750102</th>\n",
       "      <td>22.9928</td>\n",
       "      <td>3.155150</td>\n",
       "      <td>16.6825</td>\n",
       "      <td>29.3031</td>\n",
       "      <td>22.0302</td>\n",
       "      <td>0.329843</td>\n",
       "      <td>21.3705</td>\n",
       "      <td>22.6898</td>\n",
       "    </tr>\n",
       "    <tr>\n",
       "      <th>FR03C16_19750102</th>\n",
       "      <td>19.7661</td>\n",
       "      <td>0.222978</td>\n",
       "      <td>19.3202</td>\n",
       "      <td>20.2121</td>\n",
       "      <td>19.6974</td>\n",
       "      <td>0.023310</td>\n",
       "      <td>19.6508</td>\n",
       "      <td>19.7440</td>\n",
       "    </tr>\n",
       "    <tr>\n",
       "      <th>FR04C09_19750102</th>\n",
       "      <td>23.6465</td>\n",
       "      <td>3.685730</td>\n",
       "      <td>16.2750</td>\n",
       "      <td>31.0179</td>\n",
       "      <td>22.5294</td>\n",
       "      <td>0.385309</td>\n",
       "      <td>21.7588</td>\n",
       "      <td>23.3001</td>\n",
       "    </tr>\n",
       "    <tr>\n",
       "      <th>FR10C02_19750102</th>\n",
       "      <td>28.3652</td>\n",
       "      <td>7.004580</td>\n",
       "      <td>14.3560</td>\n",
       "      <td>42.3744</td>\n",
       "      <td>26.2968</td>\n",
       "      <td>0.732266</td>\n",
       "      <td>24.8323</td>\n",
       "      <td>27.7613</td>\n",
       "    </tr>\n",
       "    <tr>\n",
       "      <th>FR14C11_19750102</th>\n",
       "      <td>18.1420</td>\n",
       "      <td>0.811895</td>\n",
       "      <td>16.5183</td>\n",
       "      <td>19.7658</td>\n",
       "      <td>17.8876</td>\n",
       "      <td>0.084876</td>\n",
       "      <td>17.7179</td>\n",
       "      <td>18.0574</td>\n",
       "    </tr>\n",
       "    <tr>\n",
       "      <th>FR16C17_19750102</th>\n",
       "      <td>17.2556</td>\n",
       "      <td>0.437775</td>\n",
       "      <td>16.3800</td>\n",
       "      <td>18.1311</td>\n",
       "      <td>17.1179</td>\n",
       "      <td>0.045765</td>\n",
       "      <td>17.0263</td>\n",
       "      <td>17.2094</td>\n",
       "    </tr>\n",
       "    <tr>\n",
       "      <th>FR22C11_19750102</th>\n",
       "      <td>17.0533</td>\n",
       "      <td>1.358410</td>\n",
       "      <td>14.3365</td>\n",
       "      <td>19.7702</td>\n",
       "      <td>16.6320</td>\n",
       "      <td>0.142009</td>\n",
       "      <td>16.3479</td>\n",
       "      <td>16.9160</td>\n",
       "    </tr>\n",
       "    <tr>\n",
       "      <th>FR23C16_19750102</th>\n",
       "      <td>15.5231</td>\n",
       "      <td>0.322968</td>\n",
       "      <td>14.8771</td>\n",
       "      <td>16.1690</td>\n",
       "      <td>15.4218</td>\n",
       "      <td>0.033763</td>\n",
       "      <td>15.3542</td>\n",
       "      <td>15.4893</td>\n",
       "    </tr>\n",
       "    <tr>\n",
       "      <th>FR25C05_19750102</th>\n",
       "      <td>21.8432</td>\n",
       "      <td>4.808220</td>\n",
       "      <td>12.2268</td>\n",
       "      <td>31.4597</td>\n",
       "      <td>20.4096</td>\n",
       "      <td>0.502656</td>\n",
       "      <td>19.4043</td>\n",
       "      <td>21.4149</td>\n",
       "    </tr>\n",
       "    <tr>\n",
       "      <th>FR27C07_19750102</th>\n",
       "      <td>19.4542</td>\n",
       "      <td>3.570770</td>\n",
       "      <td>12.3126</td>\n",
       "      <td>26.5957</td>\n",
       "      <td>18.3769</td>\n",
       "      <td>0.373292</td>\n",
       "      <td>17.6303</td>\n",
       "      <td>19.1234</td>\n",
       "    </tr>\n",
       "    <tr>\n",
       "      <th>FR30C16_19750102</th>\n",
       "      <td>13.9818</td>\n",
       "      <td>0.338993</td>\n",
       "      <td>13.3039</td>\n",
       "      <td>14.6598</td>\n",
       "      <td>13.8754</td>\n",
       "      <td>0.035439</td>\n",
       "      <td>13.8045</td>\n",
       "      <td>13.9462</td>\n",
       "    </tr>\n",
       "    <tr>\n",
       "      <th>FR34C08_19750102</th>\n",
       "      <td>16.9720</td>\n",
       "      <td>2.080890</td>\n",
       "      <td>12.8103</td>\n",
       "      <td>21.1338</td>\n",
       "      <td>16.3342</td>\n",
       "      <td>0.217538</td>\n",
       "      <td>15.8992</td>\n",
       "      <td>16.7693</td>\n",
       "    </tr>\n",
       "    <tr>\n",
       "      <th>FR35C11_19750102</th>\n",
       "      <td>14.1680</td>\n",
       "      <td>0.381475</td>\n",
       "      <td>13.4051</td>\n",
       "      <td>14.9310</td>\n",
       "      <td>14.0491</td>\n",
       "      <td>0.039880</td>\n",
       "      <td>13.9694</td>\n",
       "      <td>14.1289</td>\n",
       "    </tr>\n",
       "    <tr>\n",
       "      <th>TRAVEL_TIME</th>\n",
       "      <td>27691.0000</td>\n",
       "      <td>20009.100000</td>\n",
       "      <td>-12327.3000</td>\n",
       "      <td>67709.2000</td>\n",
       "      <td>21446.7000</td>\n",
       "      <td>2091.770000</td>\n",
       "      <td>17263.1000</td>\n",
       "      <td>25630.2000</td>\n",
       "    </tr>\n",
       "  </tbody>\n",
       "</table>\n",
       "</div>"
      ],
      "text/plain": [
       "                      prior_mean   prior_stdev  prior_lower_bound  \\\n",
       "name                                                                \n",
       "FLX_RIVER_L_19750102  -1436.1400    208.815000         -1853.7700   \n",
       "FR03C10_19750102         22.9928      3.155150            16.6825   \n",
       "FR03C16_19750102         19.7661      0.222978            19.3202   \n",
       "FR04C09_19750102         23.6465      3.685730            16.2750   \n",
       "FR10C02_19750102         28.3652      7.004580            14.3560   \n",
       "FR14C11_19750102         18.1420      0.811895            16.5183   \n",
       "FR16C17_19750102         17.2556      0.437775            16.3800   \n",
       "FR22C11_19750102         17.0533      1.358410            14.3365   \n",
       "FR23C16_19750102         15.5231      0.322968            14.8771   \n",
       "FR25C05_19750102         21.8432      4.808220            12.2268   \n",
       "FR27C07_19750102         19.4542      3.570770            12.3126   \n",
       "FR30C16_19750102         13.9818      0.338993            13.3039   \n",
       "FR34C08_19750102         16.9720      2.080890            12.8103   \n",
       "FR35C11_19750102         14.1680      0.381475            13.4051   \n",
       "TRAVEL_TIME           27691.0000  20009.100000        -12327.3000   \n",
       "\n",
       "                      prior_upper_bound   post_mean   post_stdev  \\\n",
       "name                                                               \n",
       "FLX_RIVER_L_19750102         -1018.5100  -1484.4900    21.829700   \n",
       "FR03C10_19750102                29.3031     22.0302     0.329843   \n",
       "FR03C16_19750102                20.2121     19.6974     0.023310   \n",
       "FR04C09_19750102                31.0179     22.5294     0.385309   \n",
       "FR10C02_19750102                42.3744     26.2968     0.732266   \n",
       "FR14C11_19750102                19.7658     17.8876     0.084876   \n",
       "FR16C17_19750102                18.1311     17.1179     0.045765   \n",
       "FR22C11_19750102                19.7702     16.6320     0.142009   \n",
       "FR23C16_19750102                16.1690     15.4218     0.033763   \n",
       "FR25C05_19750102                31.4597     20.4096     0.502656   \n",
       "FR27C07_19750102                26.5957     18.3769     0.373292   \n",
       "FR30C16_19750102                14.6598     13.8754     0.035439   \n",
       "FR34C08_19750102                21.1338     16.3342     0.217538   \n",
       "FR35C11_19750102                14.9310     14.0491     0.039880   \n",
       "TRAVEL_TIME                  67709.2000  21446.7000  2091.770000   \n",
       "\n",
       "                      post_lower_bound  post_upper_bound  \n",
       "name                                                      \n",
       "FLX_RIVER_L_19750102        -1528.1500        -1440.8300  \n",
       "FR03C10_19750102               21.3705           22.6898  \n",
       "FR03C16_19750102               19.6508           19.7440  \n",
       "FR04C09_19750102               21.7588           23.3001  \n",
       "FR10C02_19750102               24.8323           27.7613  \n",
       "FR14C11_19750102               17.7179           18.0574  \n",
       "FR16C17_19750102               17.0263           17.2094  \n",
       "FR22C11_19750102               16.3479           16.9160  \n",
       "FR23C16_19750102               15.3542           15.4893  \n",
       "FR25C05_19750102               19.4043           21.4149  \n",
       "FR27C07_19750102               17.6303           19.1234  \n",
       "FR30C16_19750102               13.8045           13.9462  \n",
       "FR34C08_19750102               15.8992           16.7693  \n",
       "FR35C11_19750102               13.9694           14.1289  \n",
       "TRAVEL_TIME                 17263.1000        25630.2000  "
      ]
     },
     "execution_count": 19,
     "metadata": {},
     "output_type": "execute_result"
    }
   ],
   "source": [
    "df_predu = pd.read_csv(os.path.join(working_dir,pst_name.replace(\".pst\",\".pred.usum.csv\")),index_col=0)\n",
    "df_predu"
   ]
  },
  {
   "cell_type": "code",
   "execution_count": 20,
   "metadata": {},
   "outputs": [
    {
     "data": {
      "image/png": "[encoded data removed]",
      "text/plain": [
       "<matplotlib.figure.Figure at 0x1111fa048>"
      ]
     },
     "metadata": {},
     "output_type": "display_data"
    },
    {
     "data": {
      "image/png": "[encoded data removed]",
      "text/plain": [
       "<matplotlib.figure.Figure at 0x10b319358>"
      ]
     },
     "metadata": {},
     "output_type": "display_data"
    },
    {
     "data": {
      "image/png": "[encoded data removed]",
      "text/plain": [
       "<matplotlib.figure.Figure at 0x111167550>"
      ]
     },
     "metadata": {},
     "output_type": "display_data"
    }
   ],
   "source": [
    "figs, axes = pyemu.helpers.plot_summary_distributions(df_predu,subplots=True)\n"
   ]
  },
  {
   "cell_type": "markdown",
   "metadata": {},
   "source": [
    "### And  by comparing prior to posterior standard deviations"
   ]
  },
  {
   "cell_type": "code",
   "execution_count": 21,
   "metadata": {},
   "outputs": [
    {
     "data": {
      "image/png": "[encoded data removed]",
      "text/plain": [
       "<matplotlib.figure.Figure at 0x1055fc9b0>"
      ]
     },
     "metadata": {},
     "output_type": "display_data"
    },
    {
     "data": {
      "image/png": "[encoded data removed]",
      "text/plain": [
       "<matplotlib.figure.Figure at 0x115a6b630>"
      ]
     },
     "metadata": {},
     "output_type": "display_data"
    },
    {
     "data": {
      "image/png": "[encoded data removed]",
      "text/plain": [
       "<matplotlib.figure.Figure at 0x115adddd8>"
      ]
     },
     "metadata": {},
     "output_type": "display_data"
    },
    {
     "data": {
      "image/png": "[encoded data removed]",
      "text/plain": [
       "<matplotlib.figure.Figure at 0x115c42ac8>"
      ]
     },
     "metadata": {},
     "output_type": "display_data"
    },
    {
     "data": {
      "image/png": "[encoded data removed]",
      "text/plain": [
       "<matplotlib.figure.Figure at 0x1158f9f60>"
      ]
     },
     "metadata": {},
     "output_type": "display_data"
    },
    {
     "data": {
      "image/png": "[encoded data removed]",
      "text/plain": [
       "<matplotlib.figure.Figure at 0x115a9ad68>"
      ]
     },
     "metadata": {},
     "output_type": "display_data"
    },
    {
     "data": {
      "image/png": "[encoded data removed]",
      "text/plain": [
       "<matplotlib.figure.Figure at 0x115c9e5f8>"
      ]
     },
     "metadata": {},
     "output_type": "display_data"
    },
    {
     "data": {
      "image/png": "[encoded data removed]",
      "text/plain": [
       "<matplotlib.figure.Figure at 0x115ccaf60>"
      ]
     },
     "metadata": {},
     "output_type": "display_data"
    },
    {
     "data": {
      "image/png": "[encoded data removed]",
      "text/plain": [
       "<matplotlib.figure.Figure at 0x115f52198>"
      ]
     },
     "metadata": {},
     "output_type": "display_data"
    },
    {
     "data": {
      "image/png": "[encoded data removed]",
      "text/plain": [
       "<matplotlib.figure.Figure at 0x115ca6f98>"
      ]
     },
     "metadata": {},
     "output_type": "display_data"
    },
    {
     "data": {
      "image/png": "[encoded data removed]",
      "text/plain": [
       "<matplotlib.figure.Figure at 0x1160cf3c8>"
      ]
     },
     "metadata": {},
     "output_type": "display_data"
    },
    {
     "data": {
      "image/png": "[encoded data removed]",
      "text/plain": [
       "<matplotlib.figure.Figure at 0x1161e2ef0>"
      ]
     },
     "metadata": {},
     "output_type": "display_data"
    },
    {
     "data": {
      "image/png": "[encoded data removed]",
      "text/plain": [
       "<matplotlib.figure.Figure at 0x1162c69e8>"
      ]
     },
     "metadata": {},
     "output_type": "display_data"
    },
    {
     "data": {
      "image/png": "[encoded data removed]",
      "text/plain": [
       "<matplotlib.figure.Figure at 0x1163ab358>"
      ]
     },
     "metadata": {},
     "output_type": "display_data"
    },
    {
     "data": {
      "image/png": "[encoded data removed]",
      "text/plain": [
       "<matplotlib.figure.Figure at 0x1165acb70>"
      ]
     },
     "metadata": {},
     "output_type": "display_data"
    }
   ],
   "source": [
    "for forecast in df_predu.index:\n",
    "    ax = df_predu.loc[forecast,[\"prior_stdev\",\"post_stdev\"]].plot(kind=\"bar\")\n",
    "    ax.set_title(forecast)\n",
    "    plt.show()"
   ]
  },
  {
   "cell_type": "markdown",
   "metadata": {},
   "source": [
    "# Wow!  The calibration really reduced the uncertainty in our forecasts! So we can call it a day and bill the client?\n",
    "\n",
    "### Hmm, maybe not yet...the reductions look suspiciously similar.  Let's use a summary statistic, percent reduction in uncertainty, to help be quantitative on the reduction in forecast uncertainty"
   ]
  },
  {
   "cell_type": "code",
   "execution_count": 22,
   "metadata": {},
   "outputs": [
    {
     "data": {
      "text/plain": [
       "name\n",
       "FLX_RIVER_L_19750102    89.545914\n",
       "FR03C10_19750102        89.545885\n",
       "FR03C16_19750102        89.545874\n",
       "FR04C09_19750102        89.545924\n",
       "FR10C02_19750102        89.545897\n",
       "FR14C11_19750102        89.545902\n",
       "FR16C17_19750102        89.545908\n",
       "FR22C11_19750102        89.545940\n",
       "FR23C16_19750102        89.545899\n",
       "FR25C05_19750102        89.545903\n",
       "FR27C07_19750102        89.545896\n",
       "FR30C16_19750102        89.545890\n",
       "FR34C08_19750102        89.545915\n",
       "FR35C11_19750102        89.545920\n",
       "TRAVEL_TIME             89.545907\n",
       "Name: percent_reduction, dtype: float64"
      ]
     },
     "execution_count": 22,
     "metadata": {},
     "output_type": "execute_result"
    }
   ],
   "source": [
    "df_predu.loc[:,\"percent_reduction\"] = 100.0 * (1.0 - (df_predu.post_stdev / df_predu.prior_stdev))\n",
    "df_predu.percent_reduction"
   ]
  },
  {
   "cell_type": "markdown",
   "metadata": {},
   "source": [
    "## Does it make sense that the travel time uncertainty would be reduced in the same proportion as the head forecasts?\n",
    "\n",
    "## Just for fun, and because we can, let's look again at forecast uncertainty with the \"truth\"..."
   ]
  },
  {
   "cell_type": "code",
   "execution_count": 23,
   "metadata": {},
   "outputs": [
    {
     "data": {
      "image/png": "[encoded data removed]",
      "text/plain": [
       "<matplotlib.figure.Figure at 0x116222550>"
      ]
     },
     "metadata": {},
     "output_type": "display_data"
    },
    {
     "data": {
      "image/png": "[encoded data removed]",
      "text/plain": [
       "<matplotlib.figure.Figure at 0x115f91c50>"
      ]
     },
     "metadata": {},
     "output_type": "display_data"
    },
    {
     "data": {
      "image/png": "[encoded data removed]",
      "text/plain": [
       "<matplotlib.figure.Figure at 0x115c46c88>"
      ]
     },
     "metadata": {},
     "output_type": "display_data"
    }
   ],
   "source": [
    "figs, axes = pyemu.helpers.plot_summary_distributions(df_predu,subplots=True)\n",
    "for ax in axes:\n",
    "    fname = ax.get_title().lower()\n",
    "    ylim = ax.get_ylim()\n",
    "    v = pst.observation_data.loc[fname,\"obsval\"]\n",
    "    ax.plot([v,v],ylim,\"k--\")\n",
    "    ax.set_ylim(ylim)"
   ]
  },
  {
   "cell_type": "markdown",
   "metadata": {},
   "source": [
    "# Uh oh!  Why are some forecasts not bracketed by the posterior distribution? This means uncertainty analysis \"failed\"! The dashed line of the uncalibrated model (what we call the \"Prior\") is more reliable - why?"
   ]
  },
  {
   "cell_type": "code",
   "execution_count": null,
   "metadata": {
    "collapsed": true
   },
   "outputs": [],
   "source": []
  },
  {
   "cell_type": "code",
   "execution_count": null,
   "metadata": {
    "collapsed": true
   },
   "outputs": [],
   "source": []
  },
  {
   "cell_type": "code",
   "execution_count": null,
   "metadata": {
    "collapsed": true
   },
   "outputs": [],
   "source": []
  }
 ],
 "metadata": {
  "anaconda-cloud": {},
  "kernelspec": {
   "display_name": "Python [Root]",
   "language": "python",
   "name": "Python [Root]"
  },
  "language_info": {
   "codemirror_mode": {
    "name": "ipython",
    "version": 3
   },
   "file_extension": ".py",
   "mimetype": "text/x-python",
   "name": "python",
   "nbconvert_exporter": "python",
   "pygments_lexer": "ipython3",
   "version": "3.5.2"
  }
 },
 "nbformat": 4,
 "nbformat_minor": 1
}
