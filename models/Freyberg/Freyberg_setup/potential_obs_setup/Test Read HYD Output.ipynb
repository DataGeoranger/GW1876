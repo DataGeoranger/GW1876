{
 "cells": [
  {
   "cell_type": "code",
   "execution_count": 1,
   "metadata": {
    "collapsed": true
   },
   "outputs": [],
   "source": [
    "import flopy.utils as fu"
   ]
  },
  {
   "cell_type": "code",
   "execution_count": 2,
   "metadata": {
    "collapsed": false
   },
   "outputs": [],
   "source": [
    "obs = fu.HydmodObs('freyberg.hyd.bin')\n",
    "times = obs.get_times()"
   ]
  },
  {
   "cell_type": "code",
   "execution_count": 3,
   "metadata": {
    "collapsed": false
   },
   "outputs": [
    {
     "data": {
      "text/plain": [
       "[0.0, 1.0, 1826.0, 1827.0]"
      ]
     },
     "execution_count": 3,
     "metadata": {},
     "output_type": "execute_result"
    }
   ],
   "source": [
    "times"
   ]
  },
  {
   "cell_type": "code",
   "execution_count": 4,
   "metadata": {
    "collapsed": false
   },
   "outputs": [
    {
     "data": {
      "text/plain": [
       "Index(['totim', 'HDI001cr03c16', 'HDI001cr03c10', 'HDI001cr04c9',\n",
       "       'HDI001cr10c2', 'HDI001cr14c11', 'HDI001cr16c17', 'HDI001cr22c11',\n",
       "       'HDI001cr23c16', 'HDI001cr25c5',\n",
       "       ...\n",
       "       'HDI001pr38c07', 'HDI001pr38c08', 'HDI001pr38c09', 'HDI001pr38c10',\n",
       "       'HDI001pr38c11', 'HDI001pr38c12', 'HDI001pr38c13', 'HDI001pr38c14',\n",
       "       'HDI001pr38c15', 'HDI001pr38c16'],\n",
       "      dtype='object', length=641)"
      ]
     },
     "execution_count": 4,
     "metadata": {},
     "output_type": "execute_result"
    }
   ],
   "source": [
    "obs.get_dataframe().columns"
   ]
  },
  {
   "cell_type": "code",
   "execution_count": null,
   "metadata": {
    "collapsed": true
   },
   "outputs": [],
   "source": []
  }
 ],
 "metadata": {
  "kernelspec": {
   "display_name": "Python 3",
   "language": "python",
   "name": "python3"
  },
  "language_info": {
   "codemirror_mode": {
    "name": "ipython",
    "version": 3
   },
   "file_extension": ".py",
   "mimetype": "text/x-python",
   "name": "python",
   "nbconvert_exporter": "python",
   "pygments_lexer": "ipython3",
   "version": "3.5.1"
  }
 },
 "nbformat": 4,
 "nbformat_minor": 0
}
