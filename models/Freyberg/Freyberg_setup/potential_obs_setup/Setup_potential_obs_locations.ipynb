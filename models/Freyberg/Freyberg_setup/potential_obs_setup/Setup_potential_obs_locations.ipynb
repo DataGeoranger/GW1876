{
 "cells": [
  {
   "cell_type": "code",
   "execution_count": 1,
   "metadata": {
    "collapsed": true
   },
   "outputs": [],
   "source": [
    "import flopy\n",
    "import pyemu\n",
    "import pandas as pd\n",
    "from flopy import utils as fu\n",
    "import numpy as np\n",
    "import os\n",
    "import matplotlib.pyplot as plt\n",
    "%matplotlib inline\n",
    "import platform\n",
    "if 'window' in platform.platform():\n",
    "    newln = '\\n'\n",
    "else:\n",
    "    newln = '\\r\\n'"
   ]
  },
  {
   "cell_type": "code",
   "execution_count": 2,
   "metadata": {
    "collapsed": false
   },
   "outputs": [],
   "source": [
    "if not os.path.exists('junk'):\n",
    "    os.mkdir('junk')"
   ]
  },
  {
   "cell_type": "code",
   "execution_count": 3,
   "metadata": {
    "collapsed": false
   },
   "outputs": [
    {
     "name": "stdout",
     "output_type": "stream",
     "text": [
      "\n",
      "changing model workspace...\n",
      "   junk\n"
     ]
    }
   ],
   "source": [
    "inmod = flopy.modflow.Modflow.load('freyberg.nam')\n",
    "inmod.model_ws = 'junk'\n",
    "dis = inmod.get_package('DIS')\n"
   ]
  },
  {
   "cell_type": "code",
   "execution_count": 4,
   "metadata": {
    "collapsed": true
   },
   "outputs": [],
   "source": [
    "inhyd = inmod.get_package('HYD')\n",
    "Xall, Yall = inmod.sr.xcentergrid, inmod.sr.ycentergrid"
   ]
  },
  {
   "cell_type": "code",
   "execution_count": 5,
   "metadata": {
    "collapsed": false
   },
   "outputs": [],
   "source": [
    "# decode the byte string nonsense if in Python 3\n",
    "hyddf=pd.DataFrame(inhyd.obsdata)\n",
    "for cc in hyddf.columns:\n",
    "    try:\n",
    "        hyddf[cc] = [i.decode() for i in hyddf[cc]]\n",
    "    except:\n",
    "        pass"
   ]
  },
  {
   "cell_type": "code",
   "execution_count": 6,
   "metadata": {
    "collapsed": true
   },
   "outputs": [],
   "source": [
    "pst = pyemu.pst.Pst('freyberg.pst')"
   ]
  },
  {
   "cell_type": "code",
   "execution_count": 7,
   "metadata": {
    "collapsed": false
   },
   "outputs": [
    {
     "data": {
      "text/html": [
       "<div>\n",
       "<table border=\"1\" class=\"dataframe\">\n",
       "  <thead>\n",
       "    <tr style=\"text-align: right;\">\n",
       "      <th></th>\n",
       "      <th>obsnme</th>\n",
       "      <th>obsval</th>\n",
       "      <th>weight</th>\n",
       "      <th>obgnme</th>\n",
       "    </tr>\n",
       "    <tr>\n",
       "      <th>obsnme</th>\n",
       "      <th></th>\n",
       "      <th></th>\n",
       "      <th></th>\n",
       "      <th></th>\n",
       "    </tr>\n",
       "  </thead>\n",
       "  <tbody>\n",
       "    <tr>\n",
       "      <th>cr03c16</th>\n",
       "      <td>cr03c16</td>\n",
       "      <td>22.18672</td>\n",
       "      <td>1.0</td>\n",
       "      <td>head_cal</td>\n",
       "    </tr>\n",
       "    <tr>\n",
       "      <th>cr03c10</th>\n",
       "      <td>cr03c10</td>\n",
       "      <td>24.08591</td>\n",
       "      <td>1.0</td>\n",
       "      <td>head_cal</td>\n",
       "    </tr>\n",
       "    <tr>\n",
       "      <th>cr04c9</th>\n",
       "      <td>cr04c9</td>\n",
       "      <td>22.33339</td>\n",
       "      <td>1.0</td>\n",
       "      <td>head_cal</td>\n",
       "    </tr>\n",
       "    <tr>\n",
       "      <th>cr10c2</th>\n",
       "      <td>cr10c2</td>\n",
       "      <td>31.83430</td>\n",
       "      <td>1.0</td>\n",
       "      <td>head_cal</td>\n",
       "    </tr>\n",
       "    <tr>\n",
       "      <th>cr14c11</th>\n",
       "      <td>cr14c11</td>\n",
       "      <td>17.72841</td>\n",
       "      <td>1.0</td>\n",
       "      <td>head_cal</td>\n",
       "    </tr>\n",
       "    <tr>\n",
       "      <th>cr16c17</th>\n",
       "      <td>cr16c17</td>\n",
       "      <td>16.56648</td>\n",
       "      <td>1.0</td>\n",
       "      <td>head_cal</td>\n",
       "    </tr>\n",
       "    <tr>\n",
       "      <th>cr22c11</th>\n",
       "      <td>cr22c11</td>\n",
       "      <td>18.28594</td>\n",
       "      <td>1.0</td>\n",
       "      <td>head_cal</td>\n",
       "    </tr>\n",
       "    <tr>\n",
       "      <th>cr23c16</th>\n",
       "      <td>cr23c16</td>\n",
       "      <td>15.20820</td>\n",
       "      <td>1.0</td>\n",
       "      <td>head_cal</td>\n",
       "    </tr>\n",
       "    <tr>\n",
       "      <th>cr25c5</th>\n",
       "      <td>cr25c5</td>\n",
       "      <td>24.24294</td>\n",
       "      <td>1.0</td>\n",
       "      <td>head_cal</td>\n",
       "    </tr>\n",
       "    <tr>\n",
       "      <th>cr27c7</th>\n",
       "      <td>cr27c7</td>\n",
       "      <td>22.74890</td>\n",
       "      <td>1.0</td>\n",
       "      <td>head_cal</td>\n",
       "    </tr>\n",
       "    <tr>\n",
       "      <th>cr30c16</th>\n",
       "      <td>cr30c16</td>\n",
       "      <td>14.73617</td>\n",
       "      <td>1.0</td>\n",
       "      <td>head_cal</td>\n",
       "    </tr>\n",
       "    <tr>\n",
       "      <th>cr34c8</th>\n",
       "      <td>cr34c8</td>\n",
       "      <td>18.61989</td>\n",
       "      <td>1.0</td>\n",
       "      <td>head_cal</td>\n",
       "    </tr>\n",
       "    <tr>\n",
       "      <th>cr35c11</th>\n",
       "      <td>cr35c11</td>\n",
       "      <td>15.61996</td>\n",
       "      <td>1.0</td>\n",
       "      <td>head_cal</td>\n",
       "    </tr>\n",
       "    <tr>\n",
       "      <th>fr03c16</th>\n",
       "      <td>fr03c16</td>\n",
       "      <td>-999999.00000</td>\n",
       "      <td>0.0</td>\n",
       "      <td>head_fore</td>\n",
       "    </tr>\n",
       "    <tr>\n",
       "      <th>fr03c10</th>\n",
       "      <td>fr03c10</td>\n",
       "      <td>-999999.00000</td>\n",
       "      <td>0.0</td>\n",
       "      <td>head_fore</td>\n",
       "    </tr>\n",
       "    <tr>\n",
       "      <th>fr04c9</th>\n",
       "      <td>fr04c9</td>\n",
       "      <td>-999999.00000</td>\n",
       "      <td>0.0</td>\n",
       "      <td>head_fore</td>\n",
       "    </tr>\n",
       "    <tr>\n",
       "      <th>fr10c2</th>\n",
       "      <td>fr10c2</td>\n",
       "      <td>-999999.00000</td>\n",
       "      <td>0.0</td>\n",
       "      <td>head_fore</td>\n",
       "    </tr>\n",
       "    <tr>\n",
       "      <th>fr14c11</th>\n",
       "      <td>fr14c11</td>\n",
       "      <td>-999999.00000</td>\n",
       "      <td>0.0</td>\n",
       "      <td>head_fore</td>\n",
       "    </tr>\n",
       "    <tr>\n",
       "      <th>fr16c17</th>\n",
       "      <td>fr16c17</td>\n",
       "      <td>-999999.00000</td>\n",
       "      <td>0.0</td>\n",
       "      <td>head_fore</td>\n",
       "    </tr>\n",
       "    <tr>\n",
       "      <th>fr22c11</th>\n",
       "      <td>fr22c11</td>\n",
       "      <td>-999999.00000</td>\n",
       "      <td>0.0</td>\n",
       "      <td>head_fore</td>\n",
       "    </tr>\n",
       "    <tr>\n",
       "      <th>fr23c16</th>\n",
       "      <td>fr23c16</td>\n",
       "      <td>-999999.00000</td>\n",
       "      <td>0.0</td>\n",
       "      <td>head_fore</td>\n",
       "    </tr>\n",
       "    <tr>\n",
       "      <th>fr25c5</th>\n",
       "      <td>fr25c5</td>\n",
       "      <td>-999999.00000</td>\n",
       "      <td>0.0</td>\n",
       "      <td>head_fore</td>\n",
       "    </tr>\n",
       "    <tr>\n",
       "      <th>fr27c7</th>\n",
       "      <td>fr27c7</td>\n",
       "      <td>-999999.00000</td>\n",
       "      <td>0.0</td>\n",
       "      <td>head_fore</td>\n",
       "    </tr>\n",
       "    <tr>\n",
       "      <th>fr30c16</th>\n",
       "      <td>fr30c16</td>\n",
       "      <td>-999999.00000</td>\n",
       "      <td>0.0</td>\n",
       "      <td>head_fore</td>\n",
       "    </tr>\n",
       "    <tr>\n",
       "      <th>fr34c8</th>\n",
       "      <td>fr34c8</td>\n",
       "      <td>-999999.00000</td>\n",
       "      <td>0.0</td>\n",
       "      <td>head_fore</td>\n",
       "    </tr>\n",
       "    <tr>\n",
       "      <th>fr35c11</th>\n",
       "      <td>fr35c11</td>\n",
       "      <td>-999999.00000</td>\n",
       "      <td>0.0</td>\n",
       "      <td>head_fore</td>\n",
       "    </tr>\n",
       "    <tr>\n",
       "      <th>fr02c02</th>\n",
       "      <td>fr02c02</td>\n",
       "      <td>-999999.00000</td>\n",
       "      <td>0.0</td>\n",
       "      <td>head_fore</td>\n",
       "    </tr>\n",
       "    <tr>\n",
       "      <th>fr01c13</th>\n",
       "      <td>fr01c13</td>\n",
       "      <td>-999999.00000</td>\n",
       "      <td>0.0</td>\n",
       "      <td>head_fore</td>\n",
       "    </tr>\n",
       "    <tr>\n",
       "      <th>fr09c15</th>\n",
       "      <td>fr09c15</td>\n",
       "      <td>-999999.00000</td>\n",
       "      <td>0.0</td>\n",
       "      <td>head_fore</td>\n",
       "    </tr>\n",
       "    <tr>\n",
       "      <th>fr25c10</th>\n",
       "      <td>fr25c10</td>\n",
       "      <td>-999999.00000</td>\n",
       "      <td>0.0</td>\n",
       "      <td>head_fore</td>\n",
       "    </tr>\n",
       "  </tbody>\n",
       "</table>\n",
       "</div>"
      ],
      "text/plain": [
       "          obsnme        obsval  weight     obgnme\n",
       "obsnme                                           \n",
       "cr03c16  cr03c16      22.18672     1.0   head_cal\n",
       "cr03c10  cr03c10      24.08591     1.0   head_cal\n",
       "cr04c9    cr04c9      22.33339     1.0   head_cal\n",
       "cr10c2    cr10c2      31.83430     1.0   head_cal\n",
       "cr14c11  cr14c11      17.72841     1.0   head_cal\n",
       "cr16c17  cr16c17      16.56648     1.0   head_cal\n",
       "cr22c11  cr22c11      18.28594     1.0   head_cal\n",
       "cr23c16  cr23c16      15.20820     1.0   head_cal\n",
       "cr25c5    cr25c5      24.24294     1.0   head_cal\n",
       "cr27c7    cr27c7      22.74890     1.0   head_cal\n",
       "cr30c16  cr30c16      14.73617     1.0   head_cal\n",
       "cr34c8    cr34c8      18.61989     1.0   head_cal\n",
       "cr35c11  cr35c11      15.61996     1.0   head_cal\n",
       "fr03c16  fr03c16 -999999.00000     0.0  head_fore\n",
       "fr03c10  fr03c10 -999999.00000     0.0  head_fore\n",
       "fr04c9    fr04c9 -999999.00000     0.0  head_fore\n",
       "fr10c2    fr10c2 -999999.00000     0.0  head_fore\n",
       "fr14c11  fr14c11 -999999.00000     0.0  head_fore\n",
       "fr16c17  fr16c17 -999999.00000     0.0  head_fore\n",
       "fr22c11  fr22c11 -999999.00000     0.0  head_fore\n",
       "fr23c16  fr23c16 -999999.00000     0.0  head_fore\n",
       "fr25c5    fr25c5 -999999.00000     0.0  head_fore\n",
       "fr27c7    fr27c7 -999999.00000     0.0  head_fore\n",
       "fr30c16  fr30c16 -999999.00000     0.0  head_fore\n",
       "fr34c8    fr34c8 -999999.00000     0.0  head_fore\n",
       "fr35c11  fr35c11 -999999.00000     0.0  head_fore\n",
       "fr02c02  fr02c02 -999999.00000     0.0  head_fore\n",
       "fr01c13  fr01c13 -999999.00000     0.0  head_fore\n",
       "fr09c15  fr09c15 -999999.00000     0.0  head_fore\n",
       "fr25c10  fr25c10 -999999.00000     0.0  head_fore"
      ]
     },
     "execution_count": 7,
     "metadata": {},
     "output_type": "execute_result"
    }
   ],
   "source": [
    "pstobs = pst.obs_data\n",
    "pstobs.loc[(pstobs.obgnme == 'head_cal') | (pstobs.obgnme == 'head_fore')]"
   ]
  },
  {
   "cell_type": "code",
   "execution_count": null,
   "metadata": {
    "collapsed": false
   },
   "outputs": [],
   "source": []
  },
  {
   "cell_type": "code",
   "execution_count": 8,
   "metadata": {
    "collapsed": true
   },
   "outputs": [],
   "source": [
    "inbas = inmod.get_package('BAS6')"
   ]
  },
  {
   "cell_type": "code",
   "execution_count": 9,
   "metadata": {
    "collapsed": false
   },
   "outputs": [],
   "source": [
    "ib = np.squeeze(inbas.ibound.array)\n",
    "ib[0,:]  = 0\n",
    "ib[:,0]  = 0\n",
    "ib[:,-1] = 0\n",
    "ib[-1,:] = 0"
   ]
  },
  {
   "cell_type": "code",
   "execution_count": 10,
   "metadata": {
    "collapsed": false
   },
   "outputs": [],
   "source": [
    "c,r = np.meshgrid(list(range(inmod.ncol)),list(range(inmod.nrow)))\n",
    "c[ib!=1] = -99\n",
    "r[ib!=1] = -99\n"
   ]
  },
  {
   "cell_type": "code",
   "execution_count": 11,
   "metadata": {
    "collapsed": false
   },
   "outputs": [],
   "source": [
    "r_potential_obs = [i[0] for  i in r.reshape(40*20,1)  if i > 0 ]\n",
    "c_potential_obs = [i[0] for  i in c.reshape(40*20,1)  if i > 0 ]\n"
   ]
  },
  {
   "cell_type": "code",
   "execution_count": 12,
   "metadata": {
    "collapsed": false
   },
   "outputs": [],
   "source": [
    "rc_potential_obs = list(zip(r_potential_obs,c_potential_obs))"
   ]
  },
  {
   "cell_type": "code",
   "execution_count": 13,
   "metadata": {
    "collapsed": true
   },
   "outputs": [],
   "source": [
    "potential_obs_names = []"
   ]
  },
  {
   "cell_type": "code",
   "execution_count": 14,
   "metadata": {
    "collapsed": false
   },
   "outputs": [
    {
     "data": {
      "text/html": [
       "<div>\n",
       "<table border=\"1\" class=\"dataframe\">\n",
       "  <thead>\n",
       "    <tr style=\"text-align: right;\">\n",
       "      <th></th>\n",
       "      <th>pckg</th>\n",
       "      <th>arr</th>\n",
       "      <th>intyp</th>\n",
       "      <th>klay</th>\n",
       "      <th>xl</th>\n",
       "      <th>yl</th>\n",
       "      <th>hydlbl</th>\n",
       "    </tr>\n",
       "  </thead>\n",
       "  <tbody>\n",
       "    <tr>\n",
       "      <th>0</th>\n",
       "      <td>BAS</td>\n",
       "      <td>HD</td>\n",
       "      <td>I</td>\n",
       "      <td>1</td>\n",
       "      <td>4125.0</td>\n",
       "      <td>9125.0</td>\n",
       "      <td>cr03c16</td>\n",
       "    </tr>\n",
       "    <tr>\n",
       "      <th>1</th>\n",
       "      <td>BAS</td>\n",
       "      <td>HD</td>\n",
       "      <td>I</td>\n",
       "      <td>1</td>\n",
       "      <td>2625.0</td>\n",
       "      <td>9125.0</td>\n",
       "      <td>cr03c10</td>\n",
       "    </tr>\n",
       "    <tr>\n",
       "      <th>2</th>\n",
       "      <td>BAS</td>\n",
       "      <td>HD</td>\n",
       "      <td>I</td>\n",
       "      <td>1</td>\n",
       "      <td>2375.0</td>\n",
       "      <td>8875.0</td>\n",
       "      <td>cr04c9</td>\n",
       "    </tr>\n",
       "    <tr>\n",
       "      <th>3</th>\n",
       "      <td>BAS</td>\n",
       "      <td>HD</td>\n",
       "      <td>I</td>\n",
       "      <td>1</td>\n",
       "      <td>625.0</td>\n",
       "      <td>7375.0</td>\n",
       "      <td>cr10c2</td>\n",
       "    </tr>\n",
       "    <tr>\n",
       "      <th>4</th>\n",
       "      <td>BAS</td>\n",
       "      <td>HD</td>\n",
       "      <td>I</td>\n",
       "      <td>1</td>\n",
       "      <td>2875.0</td>\n",
       "      <td>6375.0</td>\n",
       "      <td>cr14c11</td>\n",
       "    </tr>\n",
       "  </tbody>\n",
       "</table>\n",
       "</div>"
      ],
      "text/plain": [
       "  pckg arr intyp  klay      xl      yl   hydlbl\n",
       "0  BAS  HD     I     1  4125.0  9125.0  cr03c16\n",
       "1  BAS  HD     I     1  2625.0  9125.0  cr03c10\n",
       "2  BAS  HD     I     1  2375.0  8875.0   cr04c9\n",
       "3  BAS  HD     I     1   625.0  7375.0   cr10c2\n",
       "4  BAS  HD     I     1  2875.0  6375.0  cr14c11"
      ]
     },
     "execution_count": 14,
     "metadata": {},
     "output_type": "execute_result"
    }
   ],
   "source": [
    "hyddf.head()"
   ]
  },
  {
   "cell_type": "code",
   "execution_count": 15,
   "metadata": {
    "collapsed": false
   },
   "outputs": [],
   "source": [
    "for r,c in rc_potential_obs:\n",
    "    cx = Xall[r,c]\n",
    "    cy = Yall[r,c]\n",
    "    hyddf = hyddf.append(pd.Series({'pckg':'BAS',\n",
    "                              'arr': 'HD',\n",
    "                              'intyp': 'I',\n",
    "                              'klay': 1,\n",
    "                              'xl': cx,\n",
    "                              'yl': cy,\n",
    "                              'hydlbl': 'pr{0:02d}c{1:02d}'.format(r,c)}),\n",
    "                 ignore_index=True)\n",
    "    potential_obs_names.append('pr{0:02d}c{1:02d}'.format(r,c))"
   ]
  },
  {
   "cell_type": "code",
   "execution_count": 16,
   "metadata": {
    "collapsed": false
   },
   "outputs": [
    {
     "data": {
      "text/html": [
       "<div>\n",
       "<table border=\"1\" class=\"dataframe\">\n",
       "  <thead>\n",
       "    <tr style=\"text-align: right;\">\n",
       "      <th></th>\n",
       "      <th>pckg</th>\n",
       "      <th>arr</th>\n",
       "      <th>intyp</th>\n",
       "      <th>klay</th>\n",
       "      <th>xl</th>\n",
       "      <th>yl</th>\n",
       "      <th>hydlbl</th>\n",
       "    </tr>\n",
       "  </thead>\n",
       "  <tbody>\n",
       "    <tr>\n",
       "      <th>0</th>\n",
       "      <td>BAS</td>\n",
       "      <td>HD</td>\n",
       "      <td>I</td>\n",
       "      <td>1</td>\n",
       "      <td>4125.0</td>\n",
       "      <td>9125.0</td>\n",
       "      <td>cr03c16</td>\n",
       "    </tr>\n",
       "    <tr>\n",
       "      <th>1</th>\n",
       "      <td>BAS</td>\n",
       "      <td>HD</td>\n",
       "      <td>I</td>\n",
       "      <td>1</td>\n",
       "      <td>2625.0</td>\n",
       "      <td>9125.0</td>\n",
       "      <td>cr03c10</td>\n",
       "    </tr>\n",
       "    <tr>\n",
       "      <th>2</th>\n",
       "      <td>BAS</td>\n",
       "      <td>HD</td>\n",
       "      <td>I</td>\n",
       "      <td>1</td>\n",
       "      <td>2375.0</td>\n",
       "      <td>8875.0</td>\n",
       "      <td>cr04c9</td>\n",
       "    </tr>\n",
       "    <tr>\n",
       "      <th>3</th>\n",
       "      <td>BAS</td>\n",
       "      <td>HD</td>\n",
       "      <td>I</td>\n",
       "      <td>1</td>\n",
       "      <td>625.0</td>\n",
       "      <td>7375.0</td>\n",
       "      <td>cr10c2</td>\n",
       "    </tr>\n",
       "    <tr>\n",
       "      <th>4</th>\n",
       "      <td>BAS</td>\n",
       "      <td>HD</td>\n",
       "      <td>I</td>\n",
       "      <td>1</td>\n",
       "      <td>2875.0</td>\n",
       "      <td>6375.0</td>\n",
       "      <td>cr14c11</td>\n",
       "    </tr>\n",
       "  </tbody>\n",
       "</table>\n",
       "</div>"
      ],
      "text/plain": [
       "  pckg arr intyp  klay      xl      yl   hydlbl\n",
       "0  BAS  HD     I     1  4125.0  9125.0  cr03c16\n",
       "1  BAS  HD     I     1  2625.0  9125.0  cr03c10\n",
       "2  BAS  HD     I     1  2375.0  8875.0   cr04c9\n",
       "3  BAS  HD     I     1   625.0  7375.0   cr10c2\n",
       "4  BAS  HD     I     1  2875.0  6375.0  cr14c11"
      ]
     },
     "execution_count": 16,
     "metadata": {},
     "output_type": "execute_result"
    }
   ],
   "source": [
    "hyddf.head()"
   ]
  },
  {
   "cell_type": "code",
   "execution_count": 17,
   "metadata": {
    "collapsed": false
   },
   "outputs": [],
   "source": [
    "hydmod_data = list(map(list,hyddf.values))"
   ]
  },
  {
   "cell_type": "code",
   "execution_count": 18,
   "metadata": {
    "collapsed": false
   },
   "outputs": [
    {
     "name": "stdout",
     "output_type": "stream",
     "text": [
      "WARNING: unit 36 of package ['HYD', 'DATA(BINARY)'] already in use\n",
      "WARNING: unit 536 of package ['HYD', 'DATA(BINARY)'] already in use\n",
      "****Warning -- two packages of the same type:  <class 'flopy.modflow.mfhyd.ModflowHyd'> <class 'flopy.modflow.mfhyd.ModflowHyd'>\n",
      "replacing existing Package...\n"
     ]
    }
   ],
   "source": [
    "# set up HYDMOD in flopy\n",
    "NHYD = len(hydmod_data)\n",
    "IHYDUN = 42\n",
    "HYDNOH = -9999999\n",
    "hyd = flopy.modflow.ModflowHyd(inmod, nhyd=NHYD, ihydun=IHYDUN, hydnoh=HYDNOH, obsdata=hydmod_data)\n",
    "inmod.write_input()"
   ]
  },
  {
   "cell_type": "code",
   "execution_count": 19,
   "metadata": {
    "collapsed": false
   },
   "outputs": [
    {
     "data": {
      "text/html": [
       "<div>\n",
       "<table border=\"1\" class=\"dataframe\">\n",
       "  <thead>\n",
       "    <tr style=\"text-align: right;\">\n",
       "      <th></th>\n",
       "      <th>pckg</th>\n",
       "      <th>arr</th>\n",
       "      <th>intyp</th>\n",
       "      <th>klay</th>\n",
       "      <th>xl</th>\n",
       "      <th>yl</th>\n",
       "      <th>hydlbl</th>\n",
       "    </tr>\n",
       "  </thead>\n",
       "  <tbody>\n",
       "    <tr>\n",
       "      <th>1245</th>\n",
       "      <td>BAS</td>\n",
       "      <td>HD</td>\n",
       "      <td>I</td>\n",
       "      <td>1</td>\n",
       "      <td>3125.0</td>\n",
       "      <td>375.0</td>\n",
       "      <td>pr38c12</td>\n",
       "    </tr>\n",
       "    <tr>\n",
       "      <th>1246</th>\n",
       "      <td>BAS</td>\n",
       "      <td>HD</td>\n",
       "      <td>I</td>\n",
       "      <td>1</td>\n",
       "      <td>3375.0</td>\n",
       "      <td>375.0</td>\n",
       "      <td>pr38c13</td>\n",
       "    </tr>\n",
       "    <tr>\n",
       "      <th>1247</th>\n",
       "      <td>BAS</td>\n",
       "      <td>HD</td>\n",
       "      <td>I</td>\n",
       "      <td>1</td>\n",
       "      <td>3625.0</td>\n",
       "      <td>375.0</td>\n",
       "      <td>pr38c14</td>\n",
       "    </tr>\n",
       "    <tr>\n",
       "      <th>1248</th>\n",
       "      <td>BAS</td>\n",
       "      <td>HD</td>\n",
       "      <td>I</td>\n",
       "      <td>1</td>\n",
       "      <td>3875.0</td>\n",
       "      <td>375.0</td>\n",
       "      <td>pr38c15</td>\n",
       "    </tr>\n",
       "    <tr>\n",
       "      <th>1249</th>\n",
       "      <td>BAS</td>\n",
       "      <td>HD</td>\n",
       "      <td>I</td>\n",
       "      <td>1</td>\n",
       "      <td>4125.0</td>\n",
       "      <td>375.0</td>\n",
       "      <td>pr38c16</td>\n",
       "    </tr>\n",
       "  </tbody>\n",
       "</table>\n",
       "</div>"
      ],
      "text/plain": [
       "     pckg arr intyp  klay      xl     yl   hydlbl\n",
       "1245  BAS  HD     I     1  3125.0  375.0  pr38c12\n",
       "1246  BAS  HD     I     1  3375.0  375.0  pr38c13\n",
       "1247  BAS  HD     I     1  3625.0  375.0  pr38c14\n",
       "1248  BAS  HD     I     1  3875.0  375.0  pr38c15\n",
       "1249  BAS  HD     I     1  4125.0  375.0  pr38c16"
      ]
     },
     "execution_count": 19,
     "metadata": {},
     "output_type": "execute_result"
    }
   ],
   "source": [
    "hyddf.tail()"
   ]
  },
  {
   "cell_type": "code",
   "execution_count": null,
   "metadata": {
    "collapsed": false
   },
   "outputs": [],
   "source": []
  },
  {
   "cell_type": "code",
   "execution_count": 20,
   "metadata": {
    "collapsed": false
   },
   "outputs": [],
   "source": [
    "# make an instruction file for heads\n",
    "with open('freyberg.heads_potobs.ins', 'w') as ofp:\n",
    "    ofp.write('pif ~{0}'.format(newln))\n",
    "    for i,cob in enumerate(hyddf.hydlbl.tolist()):\n",
    "        if i ==0:\n",
    "            ofp.write('l2  w !{0}!{1}'.format(cob,newln))\n",
    "        else:\n",
    "            ofp.write('l1  w !{0}!{1}'.format(cob,newln))\n",
    "    "
   ]
  },
  {
   "cell_type": "code",
   "execution_count": 30,
   "metadata": {
    "collapsed": false
   },
   "outputs": [],
   "source": [
    "potobsdf = pd.DataFrame({'obsnme':potential_obs_names})"
   ]
  },
  {
   "cell_type": "code",
   "execution_count": 31,
   "metadata": {
    "collapsed": false
   },
   "outputs": [],
   "source": [
    "potobsdf['obsval'] = -999999\n",
    "potobsdf['weight'] = 0.0\n",
    "potobsdf['obgnme'] = 'potobs'"
   ]
  },
  {
   "cell_type": "code",
   "execution_count": 33,
   "metadata": {
    "collapsed": false
   },
   "outputs": [],
   "source": [
    "potobsdf.to_csv('potobs_group.csv', index=None)"
   ]
  },
  {
   "cell_type": "code",
   "execution_count": null,
   "metadata": {
    "collapsed": true
   },
   "outputs": [],
   "source": []
  }
 ],
 "metadata": {
  "kernelspec": {
   "display_name": "Python 3",
   "language": "python",
   "name": "python3"
  },
  "language_info": {
   "codemirror_mode": {
    "name": "ipython",
    "version": 3
   },
   "file_extension": ".py",
   "mimetype": "text/x-python",
   "name": "python",
   "nbconvert_exporter": "python",
   "pygments_lexer": "ipython3",
   "version": "3.5.1"
  }
 },
 "nbformat": 4,
 "nbformat_minor": 0
}
