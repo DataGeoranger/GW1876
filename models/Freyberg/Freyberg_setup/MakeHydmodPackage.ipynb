{
 "cells": [
  {
   "cell_type": "code",
   "execution_count": 1,
   "metadata": {
    "collapsed": true
   },
   "outputs": [],
   "source": [
    "import flopy\n",
    "from flopy import utils as fu\n",
    "import matplotlib.pyplot as plt\n",
    "%matplotlib inline\n",
    "import pandas as pd\n",
    "import re\n",
    "import os\n",
    "import platform\n",
    "if 'window' not in platform.platform().lower():\n",
    "    newln = '\\r\\n'\n",
    "else:\n",
    "    newln = '\\n'"
   ]
  },
  {
   "cell_type": "code",
   "execution_count": 2,
   "metadata": {
    "collapsed": false
   },
   "outputs": [],
   "source": [
    "if not os.path.exists('junk'):\n",
    "    os.mkdir('junk')"
   ]
  },
  {
   "cell_type": "code",
   "execution_count": 3,
   "metadata": {
    "collapsed": false
   },
   "outputs": [
    {
     "name": "stdout",
     "output_type": "stream",
     "text": [
      "\n",
      "changing model workspace...\n",
      "   junk\n"
     ]
    },
    {
     "data": {
      "text/plain": [
       "xul:0; yul:10000; rotation:0; proj4_str:+init=EPSG:4326; units:meters; lenuni:2"
      ]
     },
     "execution_count": 3,
     "metadata": {},
     "output_type": "execute_result"
    }
   ],
   "source": [
    "inmod = flopy.modflow.Modflow.load('freyberg.nam')\n",
    "inmod.model_ws = 'junk'\n",
    "inmod.sr"
   ]
  },
  {
   "cell_type": "code",
   "execution_count": 4,
   "metadata": {
    "collapsed": false
   },
   "outputs": [],
   "source": [
    "Xall, Yall = inmod.sr.xcentergrid, inmod.sr.ycentergrid"
   ]
  },
  {
   "cell_type": "code",
   "execution_count": 5,
   "metadata": {
    "collapsed": true
   },
   "outputs": [],
   "source": [
    "# read in the observations\n",
    "inobs = pd.read_csv('obsdata.dat', delim_whitespace=True)"
   ]
  },
  {
   "cell_type": "code",
   "execution_count": 6,
   "metadata": {
    "collapsed": false
   },
   "outputs": [],
   "source": [
    "inobs['row'] = [int(re.findall(r'\\d+', i)[0]) for i in inobs.obsname]\n",
    "inobs['col'] = [int(re.findall(r'\\d+', i)[1]) for i in inobs.obsname]"
   ]
  },
  {
   "cell_type": "code",
   "execution_count": 7,
   "metadata": {
    "collapsed": false
   },
   "outputs": [],
   "source": [
    "inobs['x'] = [Xall[i,j] for i,j in zip(inobs.row,inobs.col)]\n",
    "inobs['y'] = [Yall[i,j] for i,j in zip(inobs.row,inobs.col)]\n"
   ]
  },
  {
   "cell_type": "code",
   "execution_count": 8,
   "metadata": {
    "collapsed": false
   },
   "outputs": [
    {
     "data": {
      "text/html": [
       "<div>\n",
       "<table border=\"1\" class=\"dataframe\">\n",
       "  <thead>\n",
       "    <tr style=\"text-align: right;\">\n",
       "      <th></th>\n",
       "      <th>obsname</th>\n",
       "      <th>obsvalue</th>\n",
       "      <th>weight</th>\n",
       "      <th>group</th>\n",
       "      <th>row</th>\n",
       "      <th>col</th>\n",
       "      <th>x</th>\n",
       "      <th>y</th>\n",
       "    </tr>\n",
       "  </thead>\n",
       "  <tbody>\n",
       "    <tr>\n",
       "      <th>0</th>\n",
       "      <td>cr03c16</td>\n",
       "      <td>22.18672</td>\n",
       "      <td>1.0</td>\n",
       "      <td>head_cal</td>\n",
       "      <td>3</td>\n",
       "      <td>16</td>\n",
       "      <td>4125.0</td>\n",
       "      <td>9125.0</td>\n",
       "    </tr>\n",
       "    <tr>\n",
       "      <th>1</th>\n",
       "      <td>cr03c10</td>\n",
       "      <td>24.08591</td>\n",
       "      <td>1.0</td>\n",
       "      <td>head_cal</td>\n",
       "      <td>3</td>\n",
       "      <td>10</td>\n",
       "      <td>2625.0</td>\n",
       "      <td>9125.0</td>\n",
       "    </tr>\n",
       "    <tr>\n",
       "      <th>2</th>\n",
       "      <td>cr04c9</td>\n",
       "      <td>22.33339</td>\n",
       "      <td>1.0</td>\n",
       "      <td>head_cal</td>\n",
       "      <td>4</td>\n",
       "      <td>9</td>\n",
       "      <td>2375.0</td>\n",
       "      <td>8875.0</td>\n",
       "    </tr>\n",
       "    <tr>\n",
       "      <th>3</th>\n",
       "      <td>cr10c2</td>\n",
       "      <td>31.83430</td>\n",
       "      <td>1.0</td>\n",
       "      <td>head_cal</td>\n",
       "      <td>10</td>\n",
       "      <td>2</td>\n",
       "      <td>625.0</td>\n",
       "      <td>7375.0</td>\n",
       "    </tr>\n",
       "    <tr>\n",
       "      <th>4</th>\n",
       "      <td>cr14c11</td>\n",
       "      <td>17.72841</td>\n",
       "      <td>1.0</td>\n",
       "      <td>head_cal</td>\n",
       "      <td>14</td>\n",
       "      <td>11</td>\n",
       "      <td>2875.0</td>\n",
       "      <td>6375.0</td>\n",
       "    </tr>\n",
       "    <tr>\n",
       "      <th>5</th>\n",
       "      <td>cr16c17</td>\n",
       "      <td>16.56648</td>\n",
       "      <td>1.0</td>\n",
       "      <td>head_cal</td>\n",
       "      <td>16</td>\n",
       "      <td>17</td>\n",
       "      <td>4375.0</td>\n",
       "      <td>5875.0</td>\n",
       "    </tr>\n",
       "    <tr>\n",
       "      <th>6</th>\n",
       "      <td>cr22c11</td>\n",
       "      <td>18.28594</td>\n",
       "      <td>1.0</td>\n",
       "      <td>head_cal</td>\n",
       "      <td>22</td>\n",
       "      <td>11</td>\n",
       "      <td>2875.0</td>\n",
       "      <td>4375.0</td>\n",
       "    </tr>\n",
       "    <tr>\n",
       "      <th>7</th>\n",
       "      <td>cr23c16</td>\n",
       "      <td>15.20820</td>\n",
       "      <td>1.0</td>\n",
       "      <td>head_cal</td>\n",
       "      <td>23</td>\n",
       "      <td>16</td>\n",
       "      <td>4125.0</td>\n",
       "      <td>4125.0</td>\n",
       "    </tr>\n",
       "    <tr>\n",
       "      <th>8</th>\n",
       "      <td>cr25c5</td>\n",
       "      <td>24.24294</td>\n",
       "      <td>1.0</td>\n",
       "      <td>head_cal</td>\n",
       "      <td>25</td>\n",
       "      <td>5</td>\n",
       "      <td>1375.0</td>\n",
       "      <td>3625.0</td>\n",
       "    </tr>\n",
       "    <tr>\n",
       "      <th>9</th>\n",
       "      <td>cr27c7</td>\n",
       "      <td>22.74890</td>\n",
       "      <td>1.0</td>\n",
       "      <td>head_cal</td>\n",
       "      <td>27</td>\n",
       "      <td>7</td>\n",
       "      <td>1875.0</td>\n",
       "      <td>3125.0</td>\n",
       "    </tr>\n",
       "    <tr>\n",
       "      <th>10</th>\n",
       "      <td>cr30c16</td>\n",
       "      <td>14.73617</td>\n",
       "      <td>1.0</td>\n",
       "      <td>head_cal</td>\n",
       "      <td>30</td>\n",
       "      <td>16</td>\n",
       "      <td>4125.0</td>\n",
       "      <td>2375.0</td>\n",
       "    </tr>\n",
       "    <tr>\n",
       "      <th>11</th>\n",
       "      <td>cr34c8</td>\n",
       "      <td>18.61989</td>\n",
       "      <td>1.0</td>\n",
       "      <td>head_cal</td>\n",
       "      <td>34</td>\n",
       "      <td>8</td>\n",
       "      <td>2125.0</td>\n",
       "      <td>1375.0</td>\n",
       "    </tr>\n",
       "    <tr>\n",
       "      <th>12</th>\n",
       "      <td>cr35c11</td>\n",
       "      <td>15.61996</td>\n",
       "      <td>1.0</td>\n",
       "      <td>head_cal</td>\n",
       "      <td>35</td>\n",
       "      <td>11</td>\n",
       "      <td>2875.0</td>\n",
       "      <td>1125.0</td>\n",
       "    </tr>\n",
       "    <tr>\n",
       "      <th>13</th>\n",
       "      <td>fr03c16</td>\n",
       "      <td>-999999.00000</td>\n",
       "      <td>0.0</td>\n",
       "      <td>head_fore</td>\n",
       "      <td>3</td>\n",
       "      <td>16</td>\n",
       "      <td>4125.0</td>\n",
       "      <td>9125.0</td>\n",
       "    </tr>\n",
       "    <tr>\n",
       "      <th>14</th>\n",
       "      <td>fr03c10</td>\n",
       "      <td>-999999.00000</td>\n",
       "      <td>0.0</td>\n",
       "      <td>head_fore</td>\n",
       "      <td>3</td>\n",
       "      <td>10</td>\n",
       "      <td>2625.0</td>\n",
       "      <td>9125.0</td>\n",
       "    </tr>\n",
       "    <tr>\n",
       "      <th>15</th>\n",
       "      <td>fr04c9</td>\n",
       "      <td>-999999.00000</td>\n",
       "      <td>0.0</td>\n",
       "      <td>head_fore</td>\n",
       "      <td>4</td>\n",
       "      <td>9</td>\n",
       "      <td>2375.0</td>\n",
       "      <td>8875.0</td>\n",
       "    </tr>\n",
       "    <tr>\n",
       "      <th>16</th>\n",
       "      <td>fr10c2</td>\n",
       "      <td>-999999.00000</td>\n",
       "      <td>0.0</td>\n",
       "      <td>head_fore</td>\n",
       "      <td>10</td>\n",
       "      <td>2</td>\n",
       "      <td>625.0</td>\n",
       "      <td>7375.0</td>\n",
       "    </tr>\n",
       "    <tr>\n",
       "      <th>17</th>\n",
       "      <td>fr14c11</td>\n",
       "      <td>-999999.00000</td>\n",
       "      <td>0.0</td>\n",
       "      <td>head_fore</td>\n",
       "      <td>14</td>\n",
       "      <td>11</td>\n",
       "      <td>2875.0</td>\n",
       "      <td>6375.0</td>\n",
       "    </tr>\n",
       "    <tr>\n",
       "      <th>18</th>\n",
       "      <td>fr16c17</td>\n",
       "      <td>-999999.00000</td>\n",
       "      <td>0.0</td>\n",
       "      <td>head_fore</td>\n",
       "      <td>16</td>\n",
       "      <td>17</td>\n",
       "      <td>4375.0</td>\n",
       "      <td>5875.0</td>\n",
       "    </tr>\n",
       "    <tr>\n",
       "      <th>19</th>\n",
       "      <td>fr22c11</td>\n",
       "      <td>-999999.00000</td>\n",
       "      <td>0.0</td>\n",
       "      <td>head_fore</td>\n",
       "      <td>22</td>\n",
       "      <td>11</td>\n",
       "      <td>2875.0</td>\n",
       "      <td>4375.0</td>\n",
       "    </tr>\n",
       "    <tr>\n",
       "      <th>20</th>\n",
       "      <td>fr23c16</td>\n",
       "      <td>-999999.00000</td>\n",
       "      <td>0.0</td>\n",
       "      <td>head_fore</td>\n",
       "      <td>23</td>\n",
       "      <td>16</td>\n",
       "      <td>4125.0</td>\n",
       "      <td>4125.0</td>\n",
       "    </tr>\n",
       "    <tr>\n",
       "      <th>21</th>\n",
       "      <td>fr25c5</td>\n",
       "      <td>-999999.00000</td>\n",
       "      <td>0.0</td>\n",
       "      <td>head_fore</td>\n",
       "      <td>25</td>\n",
       "      <td>5</td>\n",
       "      <td>1375.0</td>\n",
       "      <td>3625.0</td>\n",
       "    </tr>\n",
       "    <tr>\n",
       "      <th>22</th>\n",
       "      <td>fr27c7</td>\n",
       "      <td>-999999.00000</td>\n",
       "      <td>0.0</td>\n",
       "      <td>head_fore</td>\n",
       "      <td>27</td>\n",
       "      <td>7</td>\n",
       "      <td>1875.0</td>\n",
       "      <td>3125.0</td>\n",
       "    </tr>\n",
       "    <tr>\n",
       "      <th>23</th>\n",
       "      <td>fr30c16</td>\n",
       "      <td>-999999.00000</td>\n",
       "      <td>0.0</td>\n",
       "      <td>head_fore</td>\n",
       "      <td>30</td>\n",
       "      <td>16</td>\n",
       "      <td>4125.0</td>\n",
       "      <td>2375.0</td>\n",
       "    </tr>\n",
       "    <tr>\n",
       "      <th>24</th>\n",
       "      <td>fr34c8</td>\n",
       "      <td>-999999.00000</td>\n",
       "      <td>0.0</td>\n",
       "      <td>head_fore</td>\n",
       "      <td>34</td>\n",
       "      <td>8</td>\n",
       "      <td>2125.0</td>\n",
       "      <td>1375.0</td>\n",
       "    </tr>\n",
       "    <tr>\n",
       "      <th>25</th>\n",
       "      <td>fr35c11</td>\n",
       "      <td>-999999.00000</td>\n",
       "      <td>0.0</td>\n",
       "      <td>head_fore</td>\n",
       "      <td>35</td>\n",
       "      <td>11</td>\n",
       "      <td>2875.0</td>\n",
       "      <td>1125.0</td>\n",
       "    </tr>\n",
       "    <tr>\n",
       "      <th>26</th>\n",
       "      <td>fr02c02</td>\n",
       "      <td>-999999.00000</td>\n",
       "      <td>0.0</td>\n",
       "      <td>head_fore</td>\n",
       "      <td>2</td>\n",
       "      <td>2</td>\n",
       "      <td>625.0</td>\n",
       "      <td>9375.0</td>\n",
       "    </tr>\n",
       "    <tr>\n",
       "      <th>27</th>\n",
       "      <td>fr01c13</td>\n",
       "      <td>-999999.00000</td>\n",
       "      <td>0.0</td>\n",
       "      <td>head_fore</td>\n",
       "      <td>1</td>\n",
       "      <td>13</td>\n",
       "      <td>3375.0</td>\n",
       "      <td>9625.0</td>\n",
       "    </tr>\n",
       "    <tr>\n",
       "      <th>28</th>\n",
       "      <td>fr09c15</td>\n",
       "      <td>-999999.00000</td>\n",
       "      <td>0.0</td>\n",
       "      <td>head_fore</td>\n",
       "      <td>9</td>\n",
       "      <td>15</td>\n",
       "      <td>3875.0</td>\n",
       "      <td>7625.0</td>\n",
       "    </tr>\n",
       "    <tr>\n",
       "      <th>29</th>\n",
       "      <td>fr25c10</td>\n",
       "      <td>-999999.00000</td>\n",
       "      <td>0.0</td>\n",
       "      <td>head_fore</td>\n",
       "      <td>25</td>\n",
       "      <td>10</td>\n",
       "      <td>2625.0</td>\n",
       "      <td>3625.0</td>\n",
       "    </tr>\n",
       "  </tbody>\n",
       "</table>\n",
       "</div>"
      ],
      "text/plain": [
       "    obsname      obsvalue  weight      group  row  col       x       y\n",
       "0   cr03c16      22.18672     1.0   head_cal    3   16  4125.0  9125.0\n",
       "1   cr03c10      24.08591     1.0   head_cal    3   10  2625.0  9125.0\n",
       "2    cr04c9      22.33339     1.0   head_cal    4    9  2375.0  8875.0\n",
       "3    cr10c2      31.83430     1.0   head_cal   10    2   625.0  7375.0\n",
       "4   cr14c11      17.72841     1.0   head_cal   14   11  2875.0  6375.0\n",
       "5   cr16c17      16.56648     1.0   head_cal   16   17  4375.0  5875.0\n",
       "6   cr22c11      18.28594     1.0   head_cal   22   11  2875.0  4375.0\n",
       "7   cr23c16      15.20820     1.0   head_cal   23   16  4125.0  4125.0\n",
       "8    cr25c5      24.24294     1.0   head_cal   25    5  1375.0  3625.0\n",
       "9    cr27c7      22.74890     1.0   head_cal   27    7  1875.0  3125.0\n",
       "10  cr30c16      14.73617     1.0   head_cal   30   16  4125.0  2375.0\n",
       "11   cr34c8      18.61989     1.0   head_cal   34    8  2125.0  1375.0\n",
       "12  cr35c11      15.61996     1.0   head_cal   35   11  2875.0  1125.0\n",
       "13  fr03c16 -999999.00000     0.0  head_fore    3   16  4125.0  9125.0\n",
       "14  fr03c10 -999999.00000     0.0  head_fore    3   10  2625.0  9125.0\n",
       "15   fr04c9 -999999.00000     0.0  head_fore    4    9  2375.0  8875.0\n",
       "16   fr10c2 -999999.00000     0.0  head_fore   10    2   625.0  7375.0\n",
       "17  fr14c11 -999999.00000     0.0  head_fore   14   11  2875.0  6375.0\n",
       "18  fr16c17 -999999.00000     0.0  head_fore   16   17  4375.0  5875.0\n",
       "19  fr22c11 -999999.00000     0.0  head_fore   22   11  2875.0  4375.0\n",
       "20  fr23c16 -999999.00000     0.0  head_fore   23   16  4125.0  4125.0\n",
       "21   fr25c5 -999999.00000     0.0  head_fore   25    5  1375.0  3625.0\n",
       "22   fr27c7 -999999.00000     0.0  head_fore   27    7  1875.0  3125.0\n",
       "23  fr30c16 -999999.00000     0.0  head_fore   30   16  4125.0  2375.0\n",
       "24   fr34c8 -999999.00000     0.0  head_fore   34    8  2125.0  1375.0\n",
       "25  fr35c11 -999999.00000     0.0  head_fore   35   11  2875.0  1125.0\n",
       "26  fr02c02 -999999.00000     0.0  head_fore    2    2   625.0  9375.0\n",
       "27  fr01c13 -999999.00000     0.0  head_fore    1   13  3375.0  9625.0\n",
       "28  fr09c15 -999999.00000     0.0  head_fore    9   15  3875.0  7625.0\n",
       "29  fr25c10 -999999.00000     0.0  head_fore   25   10  2625.0  3625.0"
      ]
     },
     "execution_count": 8,
     "metadata": {},
     "output_type": "execute_result"
    }
   ],
   "source": [
    "inobs"
   ]
  },
  {
   "cell_type": "code",
   "execution_count": 9,
   "metadata": {
    "collapsed": false
   },
   "outputs": [
    {
     "name": "stdout",
     "output_type": "stream",
     "text": [
      "WARNING: unit 36 of package ['HYD', 'DATA(BINARY)'] already in use\n",
      "WARNING: unit 536 of package ['HYD', 'DATA(BINARY)'] already in use\n",
      "****Warning -- two packages of the same type:  <class 'flopy.modflow.mfhyd.ModflowHyd'> <class 'flopy.modflow.mfhyd.ModflowHyd'>\n",
      "replacing existing Package...\n"
     ]
    }
   ],
   "source": [
    "# set up HYDMOD in flopy\n",
    "NHYD = len(inobs.loc[(inobs.group == 'head_fore') | (inobs.group == 'head_cal')])\n",
    "IHYDUN = 42\n",
    "HYDNOH = -9999999\n",
    "PCKG = 'BAS'\n",
    "ARR = 'HD'\n",
    "hydinfo = []\n",
    "for crec in inobs.loc[(inobs.group == 'head_fore') | (inobs.group == 'head_cal')].iterrows():\n",
    "    INTYP = 'I'\n",
    "    cobsname = crec[1].obsname\n",
    "    hydinfo.append([PCKG, ARR, INTYP, 1, crec[1].x, crec[1].y, cobsname])\n",
    "hyd = flopy.modflow.ModflowHyd(inmod, nhyd=NHYD, ihydun=IHYDUN, hydnoh=HYDNOH, obsdata=hydinfo)\n",
    "inmod.write_input()"
   ]
  },
  {
   "cell_type": "code",
   "execution_count": 10,
   "metadata": {
    "collapsed": false
   },
   "outputs": [
    {
     "data": {
      "text/plain": [
       "[['BAS', 'HD', 'I', 1, 4125.0, 9125.0, 'cr03c16'],\n",
       " ['BAS', 'HD', 'I', 1, 2625.0, 9125.0, 'cr03c10'],\n",
       " ['BAS', 'HD', 'I', 1, 2375.0, 8875.0, 'cr04c9'],\n",
       " ['BAS', 'HD', 'I', 1, 625.0, 7375.0, 'cr10c2'],\n",
       " ['BAS', 'HD', 'I', 1, 2875.0, 6375.0, 'cr14c11'],\n",
       " ['BAS', 'HD', 'I', 1, 4375.0, 5875.0, 'cr16c17'],\n",
       " ['BAS', 'HD', 'I', 1, 2875.0, 4375.0, 'cr22c11'],\n",
       " ['BAS', 'HD', 'I', 1, 4125.0, 4125.0, 'cr23c16'],\n",
       " ['BAS', 'HD', 'I', 1, 1375.0, 3625.0, 'cr25c5'],\n",
       " ['BAS', 'HD', 'I', 1, 1875.0, 3125.0, 'cr27c7'],\n",
       " ['BAS', 'HD', 'I', 1, 4125.0, 2375.0, 'cr30c16'],\n",
       " ['BAS', 'HD', 'I', 1, 2125.0, 1375.0, 'cr34c8'],\n",
       " ['BAS', 'HD', 'I', 1, 2875.0, 1125.0, 'cr35c11'],\n",
       " ['BAS', 'HD', 'I', 1, 4125.0, 9125.0, 'fr03c16'],\n",
       " ['BAS', 'HD', 'I', 1, 2625.0, 9125.0, 'fr03c10'],\n",
       " ['BAS', 'HD', 'I', 1, 2375.0, 8875.0, 'fr04c9'],\n",
       " ['BAS', 'HD', 'I', 1, 625.0, 7375.0, 'fr10c2'],\n",
       " ['BAS', 'HD', 'I', 1, 2875.0, 6375.0, 'fr14c11'],\n",
       " ['BAS', 'HD', 'I', 1, 4375.0, 5875.0, 'fr16c17'],\n",
       " ['BAS', 'HD', 'I', 1, 2875.0, 4375.0, 'fr22c11'],\n",
       " ['BAS', 'HD', 'I', 1, 4125.0, 4125.0, 'fr23c16'],\n",
       " ['BAS', 'HD', 'I', 1, 1375.0, 3625.0, 'fr25c5'],\n",
       " ['BAS', 'HD', 'I', 1, 1875.0, 3125.0, 'fr27c7'],\n",
       " ['BAS', 'HD', 'I', 1, 4125.0, 2375.0, 'fr30c16'],\n",
       " ['BAS', 'HD', 'I', 1, 2125.0, 1375.0, 'fr34c8'],\n",
       " ['BAS', 'HD', 'I', 1, 2875.0, 1125.0, 'fr35c11'],\n",
       " ['BAS', 'HD', 'I', 1, 625.0, 9375.0, 'fr02c02'],\n",
       " ['BAS', 'HD', 'I', 1, 3375.0, 9625.0, 'fr01c13'],\n",
       " ['BAS', 'HD', 'I', 1, 3875.0, 7625.0, 'fr09c15'],\n",
       " ['BAS', 'HD', 'I', 1, 2625.0, 3625.0, 'fr25c10']]"
      ]
     },
     "execution_count": 10,
     "metadata": {},
     "output_type": "execute_result"
    }
   ],
   "source": [
    "hydinfo"
   ]
  },
  {
   "cell_type": "code",
   "execution_count": 11,
   "metadata": {
    "collapsed": false
   },
   "outputs": [
    {
     "data": {
      "text/plain": [
       "'fr25c10'"
      ]
     },
     "execution_count": 11,
     "metadata": {},
     "output_type": "execute_result"
    }
   ],
   "source": [
    "crec[1].obsname"
   ]
  },
  {
   "cell_type": "code",
   "execution_count": 12,
   "metadata": {
    "collapsed": true
   },
   "outputs": [],
   "source": [
    "# make an instruction file for heads\n",
    "with open('freyberg.heads.ins', 'w') as ofp:\n",
    "    ofp.write('pif ~{0}'.format(newln))\n",
    "    for i,cob in enumerate(inobs.loc[inobs.group == 'head_cal'].obsname):\n",
    "        if i ==0:\n",
    "            ofp.write('l2  w !{0}!{1}'.format(cob,newln))\n",
    "        else:\n",
    "            ofp.write('l1  w !{0}!{1}'.format(cob,newln))\n",
    "    for i,cob in enumerate(inobs.loc[inobs.group == 'head_fore'].obsname):\n",
    "        ofp.write('l1  w !{0}!{1}'.format(cob,newln))\n",
    "            "
   ]
  },
  {
   "cell_type": "code",
   "execution_count": 13,
   "metadata": {
    "collapsed": false
   },
   "outputs": [],
   "source": [
    "# make an instruction file for river flux\n",
    "with open('freyberg.rivflux.ins', 'w') as ofp:\n",
    "    ofp.write('pif ~{0}'.format(newln))\n",
    "    ofp.write('l2  w !{0}!{1}'.format('rivflux_cal',newln))\n",
    "    ofp.write('l1  w !{0}!{1}'.format('rivflux_fore',newln))"
   ]
  },
  {
   "cell_type": "code",
   "execution_count": 14,
   "metadata": {
    "collapsed": true
   },
   "outputs": [],
   "source": [
    "# make runmodel.py\n",
    "with open('run_model.py', 'w') as ofp:\n",
    "    ofp.write('import os{0}'.format(newln))\n",
    "    ofp.write('os.system(\"mf2005 freyberg.nam\"){0}'.format(newln))\n",
    "    ofp.write('os.system(\"python Process_output.py\"){0}'.format(newln))\n",
    "    \n"
   ]
  },
  {
   "cell_type": "code",
   "execution_count": 18,
   "metadata": {
    "collapsed": false
   },
   "outputs": [
    {
     "data": {
      "text/plain": [
       "[<matplotlib.axes._subplots.AxesSubplot at 0x10b374cc0>,\n",
       " <matplotlib.axes._subplots.AxesSubplot at 0x10b3acb70>,\n",
       " <matplotlib.axes._subplots.AxesSubplot at 0x11a613ba8>]"
      ]
     },
     "execution_count": 18,
     "metadata": {},
     "output_type": "execute_result"
    },
    {
     "data": {
      "image/png": "[encoded data removed]",
      "text/plain": [
       "<matplotlib.figure.Figure at 0x10b3bc5c0>"
      ]
     },
     "metadata": {},
     "output_type": "display_data"
    },
    {
     "data": {
      "image/png": "[encoded data removed]",
      "text/plain": [
       "<matplotlib.figure.Figure at 0x10d41e5f8>"
      ]
     },
     "metadata": {},
     "output_type": "display_data"
    },
    {
     "data": {
      "image/png": "[encoded data removed]",
      "text/plain": [
       "<matplotlib.figure.Figure at 0x11a5be048>"
      ]
     },
     "metadata": {},
     "output_type": "display_data"
    }
   ],
   "source": [
    "inmod.dis.plot()"
   ]
  },
  {
   "cell_type": "code",
   "execution_count": null,
   "metadata": {
    "collapsed": true
   },
   "outputs": [],
   "source": []
  },
  {
   "cell_type": "code",
   "execution_count": null,
   "metadata": {
    "collapsed": true
   },
   "outputs": [],
   "source": []
  }
 ],
 "metadata": {
  "kernelspec": {
   "display_name": "Python 3",
   "language": "python",
   "name": "python3"
  },
  "language_info": {
   "codemirror_mode": {
    "name": "ipython",
    "version": 3
   },
   "file_extension": ".py",
   "mimetype": "text/x-python",
   "name": "python",
   "nbconvert_exporter": "python",
   "pygments_lexer": "ipython3",
   "version": "3.5.1"
  }
 },
 "nbformat": 4,
 "nbformat_minor": 0
}
