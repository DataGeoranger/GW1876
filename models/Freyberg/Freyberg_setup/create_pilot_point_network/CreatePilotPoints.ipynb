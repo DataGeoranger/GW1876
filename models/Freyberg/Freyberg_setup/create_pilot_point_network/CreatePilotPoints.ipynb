{
 "cells": [
  {
   "cell_type": "code",
   "execution_count": 2,
   "metadata": {
    "collapsed": true
   },
   "outputs": [],
   "source": [
    "import numpy as np\n",
    "import platform\n",
    "if 'window' in platform.platform().lower():\n",
    "    newln = '\\n'\n",
    "else:\n",
    "    newln = '\\r\\n'"
   ]
  },
  {
   "cell_type": "code",
   "execution_count": 5,
   "metadata": {
    "collapsed": true
   },
   "outputs": [],
   "source": [
    "nrow = 40\n",
    "ncol = 20\n",
    "lay1zones = np.ones((nrow,ncol), dtype=int)\n",
    "np.savetxt('lay1zones.dat', lay1zones, fmt='%2d', newline=newln)"
   ]
  },
  {
   "cell_type": "markdown",
   "metadata": {},
   "source": [
    "## Need to create Kriging factors and regularization inputs"
   ]
  },
  {
   "cell_type": "code",
   "execution_count": 7,
   "metadata": {
    "collapsed": true
   },
   "outputs": [],
   "source": [
    "with open('ppk2fac.in', 'w') as ofp:\n",
    "    ofp.write('freyberg.spc{0}'.format(newln))\n",
    "    ofp.write('points1.dat{0}'.format(newln))\n",
    "    ofp.write('0.0{0}'.format(newln))\n",
    "    ofp.write('lay1zones.dat{0}'.format(newln))\n",
    "    ofp.write('f{0}'.format(newln))\n",
    "    ofp.write('struct.dat{0}'.format(newln))\n",
    "    ofp.write('struct1{0}'.format(newln))\n",
    "    ofp.write('o{0}'.format(newln))\n",
    "    ofp.write('1500.0{0}'.format(newln))\n",
    "    ofp.write('1{0}'.format(newln))\n",
    "    ofp.write('8{0}'.format(newln))\n",
    "    ofp.write('factors1.dat{0}'.format(newln))\n",
    "    ofp.write('f{0}'.format(newln))\n",
    "    ofp.write('stddev1.ref{0}'.format(newln))\n",
    "    ofp.write('reg1.dat{0}'.format(newln))\n",
    "    \n",
    "    "
   ]
  },
  {
   "cell_type": "markdown",
   "metadata": {},
   "source": [
    "### Now run `ppk2fac <ppk2fac.in`"
   ]
  },
  {
   "cell_type": "markdown",
   "metadata": {},
   "source": [
    "## Next set up regularization"
   ]
  },
  {
   "cell_type": "code",
   "execution_count": 13,
   "metadata": {
    "collapsed": true
   },
   "outputs": [],
   "source": [
    "with open('ppkreg.in', 'w') as ofp:\n",
    "    ofp.write('freyberg_pp.pst{0}'.format(newln))\n",
    "    ofp.write('reg1.dat{0}'.format(newln))\n",
    "    ofp.write('1{0}'.format(newln))\n",
    "    ofp.write('{0}'.format(newln))\n",
    "    ofp.write('g{0}'.format(newln))\n",
    "    ofp.write('1.0{0}'.format(newln))\n",
    "    ofp.write('regulhkpp{0}'.format(newln))\n",
    "    ofp.write('ihkpp{0}'.format(newln))\n",
    "    ofp.write('y{0}'.format(newln))\n",
    "    ofp.write('freyberg_pp_reg.pst{0}'.format(newln))\n",
    "    ofp.write('25{0}'.format(newln))\n",
    "    ofp.write('1.0{0}'.format(newln))\n",
    "    ofp.write('{0}'.format(newln))\n",
    "    ofp.write('{0}'.format(newln))\n",
    "\n",
    "\n",
    "    "
   ]
  },
  {
   "cell_type": "markdown",
   "metadata": {},
   "source": [
    "### Now run `ppkreg <ppkreg.in`"
   ]
  },
  {
   "cell_type": "markdown",
   "metadata": {},
   "source": [
    "## Make an input file for `fac2real`"
   ]
  },
  {
   "cell_type": "code",
   "execution_count": 15,
   "metadata": {
    "collapsed": true
   },
   "outputs": [],
   "source": [
    "with open('fac2real1.in', 'w') as ofp:\n",
    "    ofp.write('factors1.dat{0}'.format(newln))\n",
    "    ofp.write('f{0}'.format(newln))\n",
    "    ofp.write('points1.dat{0}'.format(newln))\n",
    "    ofp.write('s{0}'.format(newln))\n",
    "    ofp.write('1e-6{0}'.format(newln))\n",
    "    ofp.write('s{0}'.format(newln))\n",
    "    ofp.write('1e6{0}'.format(newln))\n",
    "    ofp.write('hk.ref{0}'.format(newln))\n",
    "    ofp.write('1e35{0}'.format(newln))\n",
    "   "
   ]
  },
  {
   "cell_type": "markdown",
   "metadata": {},
   "source": [
    "### This can be used with `fac2real` called as\n",
    "`fac2real <fac2real1.in`"
   ]
  },
  {
   "cell_type": "code",
   "execution_count": null,
   "metadata": {
    "collapsed": true
   },
   "outputs": [],
   "source": []
  }
 ],
 "metadata": {
  "kernelspec": {
   "display_name": "Python 3",
   "language": "python",
   "name": "python3"
  },
  "language_info": {
   "codemirror_mode": {
    "name": "ipython",
    "version": 3
   },
   "file_extension": ".py",
   "mimetype": "text/x-python",
   "name": "python",
   "nbconvert_exporter": "python",
   "pygments_lexer": "ipython3",
   "version": "3.5.2"
  }
 },
 "nbformat": 4,
 "nbformat_minor": 0
}
