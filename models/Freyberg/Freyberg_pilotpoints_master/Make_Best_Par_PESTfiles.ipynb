{
 "cells": [
  {
   "cell_type": "code",
   "execution_count": null,
   "metadata": {
    "collapsed": true
   },
   "outputs": [],
   "source": [
    "import pyemu"
   ]
  },
  {
   "cell_type": "code",
   "execution_count": null,
   "metadata": {
    "collapsed": true
   },
   "outputs": [],
   "source": [
    "# Make a function to update PST files with best parameters and write a new one\n",
    "def update_with_best_pars(rootname):\n",
    "    print('updating {0}.pst with best parameters'.format(rootname))\n",
    "    # read in existing PST file\n",
    "    pst = pyemu.pst.Pst('{0}.pst'.format(rootname))\n",
    "    # set NOPTMAX=0 to run only once \n",
    "    pst.control_data.noptmax = 0\n",
    "    # copy in the parameters to a new PST file\n",
    "    pst_pp.parrep('{0}.bpa'.format(rootname))\n",
    "    # write out the new PST file\n",
    "    pst_pp.write('{0}_best.pst'.format(rootname))"
   ]
  },
  {
   "cell_type": "code",
   "execution_count": null,
   "metadata": {
    "collapsed": false
   },
   "outputs": [],
   "source": [
    "# now loop over and update the files\n",
    "rootnames = ['freyberg_pp', 'freyberg_pp_reg']\n",
    "for cr in rootnames:\n",
    "    update_with_best_pars(cr)"
   ]
  }
 ],
 "metadata": {
  "kernelspec": {
   "display_name": "Python 3",
   "language": "python",
   "name": "python3"
  },
  "language_info": {
   "codemirror_mode": {
    "name": "ipython",
    "version": 3
   },
   "file_extension": ".py",
   "mimetype": "text/x-python",
   "name": "python",
   "nbconvert_exporter": "python",
   "pygments_lexer": "ipython3",
   "version": "3.5.1"
  }
 },
 "nbformat": 4,
 "nbformat_minor": 0
}
