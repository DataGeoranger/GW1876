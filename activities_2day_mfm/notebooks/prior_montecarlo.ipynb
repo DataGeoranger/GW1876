{
 "cells": [
  {
   "cell_type": "markdown",
   "metadata": {},
   "source": [
    "# Run and process the prior monte carlo and pick a \"truth\" realization"
   ]
  },
  {
   "cell_type": "code",
   "execution_count": 75,
   "metadata": {},
   "outputs": [],
   "source": [
    "import os\n",
    "import shutil\n",
    "import numpy as np\n",
    "import pandas as pd\n",
    "import matplotlib.pyplot as plt\n",
    "import flopy\n",
    "import pyemu"
   ]
  },
  {
   "cell_type": "code",
   "execution_count": 76,
   "metadata": {},
   "outputs": [],
   "source": [
    "t_d = \"template\"\n",
    "pst = pyemu.Pst(os.path.join(t_d,\"freyberg.pst\"))"
   ]
  },
  {
   "cell_type": "markdown",
   "metadata": {},
   "source": [
    "### run the prior ensemble in parallel locally"
   ]
  },
  {
   "cell_type": "code",
   "execution_count": 77,
   "metadata": {},
   "outputs": [],
   "source": [
    "m_d = \"master_prior_sweep\"\n",
    "#pyemu.os_utils.start_slaves(t_d,\"pestpp-swp\",\"freyberg.pst\",num_slaves=20,slave_root=\".\",master_dir=m_d)"
   ]
  },
  {
   "cell_type": "markdown",
   "metadata": {},
   "source": [
    "### Load the output ensemble and plot a few things\n",
    "\n",
    "The observations with the `fa_hw` tag are \"flow aquifer\" outputs from the SFR ASCII output file and the `hw` is for the \"headwaters\" cumulative flow aquifer for the upper 20 reaches"
   ]
  },
  {
   "cell_type": "code",
   "execution_count": 78,
   "metadata": {},
   "outputs": [
    {
     "data": {
      "text/plain": [
       "obsnme\n",
       "fa_hw_19791230    fa_hw_19791230\n",
       "fa_hw_19801229    fa_hw_19801229\n",
       "Name: obsnme, dtype: object"
      ]
     },
     "execution_count": 78,
     "metadata": {},
     "output_type": "execute_result"
    }
   ],
   "source": [
    "obs = pst.observation_data\n",
    "swgw = obs.loc[obs.obsnme.apply(lambda x: \"fa_hw\" in x),\"obsnme\"]\n",
    "swgw"
   ]
  },
  {
   "cell_type": "markdown",
   "metadata": {},
   "source": [
    "Two forecasts - one during the historical period, and one during the scenario period"
   ]
  },
  {
   "cell_type": "code",
   "execution_count": 79,
   "metadata": {},
   "outputs": [
    {
     "data": {
      "text/plain": [
       "(200, 4461)"
      ]
     },
     "execution_count": 79,
     "metadata": {},
     "output_type": "execute_result"
    }
   ],
   "source": [
    "obs_df = pd.read_csv(os.path.join(m_d,\"sweep_out.csv\"),index_col=0)\n",
    "obs_df.shape"
   ]
  },
  {
   "cell_type": "markdown",
   "metadata": {},
   "source": [
    "drop any failed runs"
   ]
  },
  {
   "cell_type": "code",
   "execution_count": 80,
   "metadata": {},
   "outputs": [
    {
     "data": {
      "text/plain": [
       "(200, 4461)"
      ]
     },
     "execution_count": 80,
     "metadata": {},
     "output_type": "execute_result"
    }
   ],
   "source": [
    "obs_df = obs_df.loc[obs_df.failed_flag==0,:]\n",
    "obs_df.shape"
   ]
  },
  {
   "cell_type": "code",
   "execution_count": 81,
   "metadata": {},
   "outputs": [],
   "source": [
    "#obs_df.phi.apply(np.log10).hist(bins=20)"
   ]
  },
  {
   "cell_type": "code",
   "execution_count": 82,
   "metadata": {},
   "outputs": [
    {
     "data": {
      "text/plain": [
       "array([<matplotlib.axes._subplots.AxesSubplot object at 0x181b1da5c0>,\n",
       "       <matplotlib.axes._subplots.AxesSubplot object at 0x18199c4278>],\n",
       "      dtype=object)"
      ]
     },
     "execution_count": 82,
     "metadata": {},
     "output_type": "execute_result"
    },
    {
     "data": {
      "image/png": "[encoded data removed]",
      "text/plain": [
       "<Figure size 720x720 with 2 Axes>"
      ]
     },
     "metadata": {
      "needs_background": "light"
     },
     "output_type": "display_data"
    }
   ],
   "source": [
    "obs_df.loc[:,swgw].plot(kind=\"hist\",subplots=True,figsize=(10,10))"
   ]
  },
  {
   "cell_type": "markdown",
   "metadata": {},
   "source": [
    "We see that under scenario conditions, many more realizations for the flow to the aquifer in the headwaters are postive (as expected).  Lets difference these two:"
   ]
  },
  {
   "cell_type": "code",
   "execution_count": 83,
   "metadata": {
    "scrolled": true
   },
   "outputs": [
    {
     "data": {
      "text/plain": [
       "<matplotlib.axes._subplots.AxesSubplot at 0x181b3135c0>"
      ]
     },
     "execution_count": 83,
     "metadata": {},
     "output_type": "execute_result"
    },
    {
     "data": {
      "image/png": "[encoded data removed]",
      "text/plain": [
       "<Figure size 432x288 with 1 Axes>"
      ]
     },
     "metadata": {
      "needs_background": "light"
     },
     "output_type": "display_data"
    }
   ],
   "source": [
    "diff = obs_df.loc[:,swgw[0]] - obs_df.loc[:,swgw[1]]\n",
    "diff.hist()"
   ]
  },
  {
   "cell_type": "markdown",
   "metadata": {},
   "source": [
    "We now see that the most extreme scenario yields a large decrease in flow from the aquifer to the headwaters (the most negative value)"
   ]
  },
  {
   "cell_type": "code",
   "execution_count": 84,
   "metadata": {},
   "outputs": [
    {
     "data": {
      "text/plain": [
       "run_id\n",
       "67    -1716.900716\n",
       "63    -1624.352450\n",
       "182   -1574.195200\n",
       "163   -1533.029090\n",
       "54    -1445.568200\n",
       "dtype: float64"
      ]
     },
     "execution_count": 84,
     "metadata": {},
     "output_type": "execute_result"
    }
   ],
   "source": [
    "diff_sort = diff.sort_values()\n",
    "diff_sort.head()"
   ]
  },
  {
   "cell_type": "markdown",
   "metadata": {},
   "source": [
    "We just need to replace the observed values (`obsval`) in the control file with the outputs for one of the realizations on `obs_df`.  In this way, we now have the nonzero values for history matching, but also the ``truth`` values for comparing how we are doing with other unobserved quantities.  Im going to pick a realization that yields an \"average\" variability of the observed gw levels:"
   ]
  },
  {
   "cell_type": "code",
   "execution_count": 85,
   "metadata": {},
   "outputs": [],
   "source": [
    "# choose the realization with largest historic gw to sw flux\n",
    "hist_swgw = obs_df.loc[:,swgw[0]].sort_values()\n",
    "idx = hist_swgw.index[0]"
   ]
  },
  {
   "cell_type": "code",
   "execution_count": 86,
   "metadata": {},
   "outputs": [
    {
     "data": {
      "text/plain": [
       "hds_00_002_009_000    35.726109\n",
       "hds_00_002_015_000    34.688915\n",
       "hds_00_003_008_000    35.809399\n",
       "hds_00_009_001_000    36.674793\n",
       "hds_00_013_010_000    34.991371\n",
       "hds_00_015_016_000    34.756569\n",
       "hds_00_021_010_000    34.980972\n",
       "hds_00_022_015_000    34.717842\n",
       "hds_00_024_004_000    36.114929\n",
       "hds_00_026_006_000    35.601357\n",
       "hds_00_029_015_000    34.264172\n",
       "hds_00_033_007_000    34.888523\n",
       "hds_00_034_010_000    34.302498\n",
       "Name: 35, dtype: float64"
      ]
     },
     "execution_count": 86,
     "metadata": {},
     "output_type": "execute_result"
    }
   ],
   "source": [
    "obs_df.loc[idx,pst.nnz_obs_names]"
   ]
  },
  {
   "cell_type": "markdown",
   "metadata": {},
   "source": [
    "Lets see how our selected truth does with the swgw forecasts:"
   ]
  },
  {
   "cell_type": "code",
   "execution_count": 87,
   "metadata": {},
   "outputs": [
    {
     "name": "stdout",
     "output_type": "stream",
     "text": [
      "fa_hw_19791230   -1548.73080\n",
      "fa_hw_19801229    -871.26612\n",
      "Name: 35, dtype: float64\n",
      "-677.4646800000002\n"
     ]
    }
   ],
   "source": [
    "print(obs_df.loc[idx,swgw])\n",
    "print(diff_sort.loc[idx])"
   ]
  },
  {
   "cell_type": "code",
   "execution_count": 88,
   "metadata": {},
   "outputs": [],
   "source": [
    "pst.observation_data.loc[:,\"obsval\"] = obs_df.loc[idx,pst.obs_names]\n",
    "pst.observation_data.loc[pst.nnz_obs_names,\"weight\"] = 10.0"
   ]
  },
  {
   "cell_type": "markdown",
   "metadata": {},
   "source": [
    "Now, it is custom to add noise to the observed values...we will use the classic Gaussian noise...zero mean and standard deviation of 1 over the weight"
   ]
  },
  {
   "cell_type": "code",
   "execution_count": 89,
   "metadata": {},
   "outputs": [],
   "source": [
    "# np.random.seed = 0\n",
    "# print(np.random.seed)\n",
    "# std = 1.0 / pst.observation_data.loc[pst.nnz_obs_names,\"weight\"].mean()\n",
    "# noise = np.random.normal(0,std,size=pst.nnz_obs)\n",
    "# pst.observation_data.loc[pst.nnz_obs_names,\"obsval\"] += noise"
   ]
  },
  {
   "cell_type": "code",
   "execution_count": 90,
   "metadata": {},
   "outputs": [],
   "source": [
    "pst.write(os.path.join(t_d,\"freyberg.pst\"))\n",
    "pyemu.os_utils.run(\"pestpp-ies freyberg.pst\",cwd=t_d)"
   ]
  },
  {
   "cell_type": "code",
   "execution_count": 91,
   "metadata": {},
   "outputs": [
    {
     "name": "stdout",
     "output_type": "stream",
     "text": [
      "1394.7449962141293\n"
     ]
    },
    {
     "data": {
      "text/html": [
       "<div>\n",
       "<style scoped>\n",
       "    .dataframe tbody tr th:only-of-type {\n",
       "        vertical-align: middle;\n",
       "    }\n",
       "\n",
       "    .dataframe tbody tr th {\n",
       "        vertical-align: top;\n",
       "    }\n",
       "\n",
       "    .dataframe thead th {\n",
       "        text-align: right;\n",
       "    }\n",
       "</style>\n",
       "<table border=\"1\" class=\"dataframe\">\n",
       "  <thead>\n",
       "    <tr style=\"text-align: right;\">\n",
       "      <th></th>\n",
       "      <th>name</th>\n",
       "      <th>group</th>\n",
       "      <th>measured</th>\n",
       "      <th>modelled</th>\n",
       "      <th>residual</th>\n",
       "      <th>weight</th>\n",
       "    </tr>\n",
       "    <tr>\n",
       "      <th>name</th>\n",
       "      <th></th>\n",
       "      <th></th>\n",
       "      <th></th>\n",
       "      <th></th>\n",
       "      <th></th>\n",
       "      <th></th>\n",
       "    </tr>\n",
       "  </thead>\n",
       "  <tbody>\n",
       "    <tr>\n",
       "      <th>hds_00_002_009_000</th>\n",
       "      <td>hds_00_002_009_000</td>\n",
       "      <td>calhead</td>\n",
       "      <td>35.726109</td>\n",
       "      <td>37.107498</td>\n",
       "      <td>-1.381390</td>\n",
       "      <td>10.0</td>\n",
       "    </tr>\n",
       "    <tr>\n",
       "      <th>hds_00_002_015_000</th>\n",
       "      <td>hds_00_002_015_000</td>\n",
       "      <td>calhead</td>\n",
       "      <td>34.688915</td>\n",
       "      <td>35.045185</td>\n",
       "      <td>-0.356270</td>\n",
       "      <td>10.0</td>\n",
       "    </tr>\n",
       "    <tr>\n",
       "      <th>hds_00_003_008_000</th>\n",
       "      <td>hds_00_003_008_000</td>\n",
       "      <td>calhead</td>\n",
       "      <td>35.809399</td>\n",
       "      <td>37.397289</td>\n",
       "      <td>-1.587891</td>\n",
       "      <td>10.0</td>\n",
       "    </tr>\n",
       "    <tr>\n",
       "      <th>hds_00_009_001_000</th>\n",
       "      <td>hds_00_009_001_000</td>\n",
       "      <td>calhead</td>\n",
       "      <td>36.674793</td>\n",
       "      <td>39.546417</td>\n",
       "      <td>-2.871624</td>\n",
       "      <td>10.0</td>\n",
       "    </tr>\n",
       "    <tr>\n",
       "      <th>hds_00_013_010_000</th>\n",
       "      <td>hds_00_013_010_000</td>\n",
       "      <td>calhead</td>\n",
       "      <td>34.991371</td>\n",
       "      <td>35.571774</td>\n",
       "      <td>-0.580402</td>\n",
       "      <td>10.0</td>\n",
       "    </tr>\n",
       "    <tr>\n",
       "      <th>hds_00_015_016_000</th>\n",
       "      <td>hds_00_015_016_000</td>\n",
       "      <td>calhead</td>\n",
       "      <td>34.756569</td>\n",
       "      <td>34.835716</td>\n",
       "      <td>-0.079147</td>\n",
       "      <td>10.0</td>\n",
       "    </tr>\n",
       "    <tr>\n",
       "      <th>hds_00_021_010_000</th>\n",
       "      <td>hds_00_021_010_000</td>\n",
       "      <td>calhead</td>\n",
       "      <td>34.980972</td>\n",
       "      <td>35.386250</td>\n",
       "      <td>-0.405277</td>\n",
       "      <td>10.0</td>\n",
       "    </tr>\n",
       "    <tr>\n",
       "      <th>hds_00_022_015_000</th>\n",
       "      <td>hds_00_022_015_000</td>\n",
       "      <td>calhead</td>\n",
       "      <td>34.717842</td>\n",
       "      <td>34.577492</td>\n",
       "      <td>0.140350</td>\n",
       "      <td>10.0</td>\n",
       "    </tr>\n",
       "    <tr>\n",
       "      <th>hds_00_024_004_000</th>\n",
       "      <td>hds_00_024_004_000</td>\n",
       "      <td>calhead</td>\n",
       "      <td>36.114929</td>\n",
       "      <td>36.760464</td>\n",
       "      <td>-0.645535</td>\n",
       "      <td>10.0</td>\n",
       "    </tr>\n",
       "    <tr>\n",
       "      <th>hds_00_026_006_000</th>\n",
       "      <td>hds_00_026_006_000</td>\n",
       "      <td>calhead</td>\n",
       "      <td>35.601357</td>\n",
       "      <td>35.896149</td>\n",
       "      <td>-0.294792</td>\n",
       "      <td>10.0</td>\n",
       "    </tr>\n",
       "    <tr>\n",
       "      <th>hds_00_029_015_000</th>\n",
       "      <td>hds_00_029_015_000</td>\n",
       "      <td>calhead</td>\n",
       "      <td>34.264172</td>\n",
       "      <td>34.453842</td>\n",
       "      <td>-0.189671</td>\n",
       "      <td>10.0</td>\n",
       "    </tr>\n",
       "    <tr>\n",
       "      <th>hds_00_033_007_000</th>\n",
       "      <td>hds_00_033_007_000</td>\n",
       "      <td>calhead</td>\n",
       "      <td>34.888523</td>\n",
       "      <td>34.678810</td>\n",
       "      <td>0.209713</td>\n",
       "      <td>10.0</td>\n",
       "    </tr>\n",
       "    <tr>\n",
       "      <th>hds_00_034_010_000</th>\n",
       "      <td>hds_00_034_010_000</td>\n",
       "      <td>calhead</td>\n",
       "      <td>34.302498</td>\n",
       "      <td>34.118073</td>\n",
       "      <td>0.184425</td>\n",
       "      <td>10.0</td>\n",
       "    </tr>\n",
       "  </tbody>\n",
       "</table>\n",
       "</div>"
      ],
      "text/plain": [
       "                                  name    group   measured   modelled  \\\n",
       "name                                                                    \n",
       "hds_00_002_009_000  hds_00_002_009_000  calhead  35.726109  37.107498   \n",
       "hds_00_002_015_000  hds_00_002_015_000  calhead  34.688915  35.045185   \n",
       "hds_00_003_008_000  hds_00_003_008_000  calhead  35.809399  37.397289   \n",
       "hds_00_009_001_000  hds_00_009_001_000  calhead  36.674793  39.546417   \n",
       "hds_00_013_010_000  hds_00_013_010_000  calhead  34.991371  35.571774   \n",
       "hds_00_015_016_000  hds_00_015_016_000  calhead  34.756569  34.835716   \n",
       "hds_00_021_010_000  hds_00_021_010_000  calhead  34.980972  35.386250   \n",
       "hds_00_022_015_000  hds_00_022_015_000  calhead  34.717842  34.577492   \n",
       "hds_00_024_004_000  hds_00_024_004_000  calhead  36.114929  36.760464   \n",
       "hds_00_026_006_000  hds_00_026_006_000  calhead  35.601357  35.896149   \n",
       "hds_00_029_015_000  hds_00_029_015_000  calhead  34.264172  34.453842   \n",
       "hds_00_033_007_000  hds_00_033_007_000  calhead  34.888523  34.678810   \n",
       "hds_00_034_010_000  hds_00_034_010_000  calhead  34.302498  34.118073   \n",
       "\n",
       "                    residual  weight  \n",
       "name                                  \n",
       "hds_00_002_009_000 -1.381390    10.0  \n",
       "hds_00_002_015_000 -0.356270    10.0  \n",
       "hds_00_003_008_000 -1.587891    10.0  \n",
       "hds_00_009_001_000 -2.871624    10.0  \n",
       "hds_00_013_010_000 -0.580402    10.0  \n",
       "hds_00_015_016_000 -0.079147    10.0  \n",
       "hds_00_021_010_000 -0.405277    10.0  \n",
       "hds_00_022_015_000  0.140350    10.0  \n",
       "hds_00_024_004_000 -0.645535    10.0  \n",
       "hds_00_026_006_000 -0.294792    10.0  \n",
       "hds_00_029_015_000 -0.189671    10.0  \n",
       "hds_00_033_007_000  0.209713    10.0  \n",
       "hds_00_034_010_000  0.184425    10.0  "
      ]
     },
     "execution_count": 91,
     "metadata": {},
     "output_type": "execute_result"
    }
   ],
   "source": [
    "pst = pyemu.Pst(os.path.join(t_d,\"freyberg.pst\"))\n",
    "print(pst.phi)\n",
    "pst.res.loc[pst.nnz_obs_names,:]"
   ]
  },
  {
   "cell_type": "markdown",
   "metadata": {},
   "source": [
    "Just to make sure we have everything working right, we should be able to load the truth parameters, run the model once and have a (near-)zero `phi`:"
   ]
  },
  {
   "cell_type": "code",
   "execution_count": 92,
   "metadata": {},
   "outputs": [],
   "source": [
    "par_df = pd.read_csv(os.path.join(m_d,\"sweep_in.csv\"),index_col=0)\n",
    "pst.parameter_data.loc[:,\"parval1\"] = par_df.loc[idx,pst.par_names]\n",
    "pst.write(os.path.join(m_d,\"test.pst\"))\n",
    "pyemu.os_utils.run(\"pestpp-ies.exe test.pst\",cwd=m_d)"
   ]
  },
  {
   "cell_type": "code",
   "execution_count": 93,
   "metadata": {},
   "outputs": [
    {
     "name": "stdout",
     "output_type": "stream",
     "text": [
      "8.028325152762286e-17\n"
     ]
    },
    {
     "data": {
      "text/html": [
       "<div>\n",
       "<style scoped>\n",
       "    .dataframe tbody tr th:only-of-type {\n",
       "        vertical-align: middle;\n",
       "    }\n",
       "\n",
       "    .dataframe tbody tr th {\n",
       "        vertical-align: top;\n",
       "    }\n",
       "\n",
       "    .dataframe thead th {\n",
       "        text-align: right;\n",
       "    }\n",
       "</style>\n",
       "<table border=\"1\" class=\"dataframe\">\n",
       "  <thead>\n",
       "    <tr style=\"text-align: right;\">\n",
       "      <th></th>\n",
       "      <th>name</th>\n",
       "      <th>group</th>\n",
       "      <th>measured</th>\n",
       "      <th>modelled</th>\n",
       "      <th>residual</th>\n",
       "      <th>weight</th>\n",
       "    </tr>\n",
       "    <tr>\n",
       "      <th>name</th>\n",
       "      <th></th>\n",
       "      <th></th>\n",
       "      <th></th>\n",
       "      <th></th>\n",
       "      <th></th>\n",
       "      <th></th>\n",
       "    </tr>\n",
       "  </thead>\n",
       "  <tbody>\n",
       "    <tr>\n",
       "      <th>hds_00_002_009_000</th>\n",
       "      <td>hds_00_002_009_000</td>\n",
       "      <td>calhead</td>\n",
       "      <td>35.726109</td>\n",
       "      <td>35.726109</td>\n",
       "      <td>-2.538769e-11</td>\n",
       "      <td>10.0</td>\n",
       "    </tr>\n",
       "    <tr>\n",
       "      <th>hds_00_002_015_000</th>\n",
       "      <td>hds_00_002_015_000</td>\n",
       "      <td>calhead</td>\n",
       "      <td>34.688915</td>\n",
       "      <td>34.688915</td>\n",
       "      <td>3.144507e-10</td>\n",
       "      <td>10.0</td>\n",
       "    </tr>\n",
       "    <tr>\n",
       "      <th>hds_00_003_008_000</th>\n",
       "      <td>hds_00_003_008_000</td>\n",
       "      <td>calhead</td>\n",
       "      <td>35.809399</td>\n",
       "      <td>35.809399</td>\n",
       "      <td>-1.230447e-10</td>\n",
       "      <td>10.0</td>\n",
       "    </tr>\n",
       "    <tr>\n",
       "      <th>hds_00_009_001_000</th>\n",
       "      <td>hds_00_009_001_000</td>\n",
       "      <td>calhead</td>\n",
       "      <td>36.674793</td>\n",
       "      <td>36.674793</td>\n",
       "      <td>-4.081997e-10</td>\n",
       "      <td>10.0</td>\n",
       "    </tr>\n",
       "    <tr>\n",
       "      <th>hds_00_013_010_000</th>\n",
       "      <td>hds_00_013_010_000</td>\n",
       "      <td>calhead</td>\n",
       "      <td>34.991371</td>\n",
       "      <td>34.991371</td>\n",
       "      <td>2.148468e-10</td>\n",
       "      <td>10.0</td>\n",
       "    </tr>\n",
       "    <tr>\n",
       "      <th>hds_00_015_016_000</th>\n",
       "      <td>hds_00_015_016_000</td>\n",
       "      <td>calhead</td>\n",
       "      <td>34.756569</td>\n",
       "      <td>34.756569</td>\n",
       "      <td>3.085958e-10</td>\n",
       "      <td>10.0</td>\n",
       "    </tr>\n",
       "    <tr>\n",
       "      <th>hds_00_021_010_000</th>\n",
       "      <td>hds_00_021_010_000</td>\n",
       "      <td>calhead</td>\n",
       "      <td>34.980972</td>\n",
       "      <td>34.980972</td>\n",
       "      <td>-3.906564e-11</td>\n",
       "      <td>10.0</td>\n",
       "    </tr>\n",
       "    <tr>\n",
       "      <th>hds_00_022_015_000</th>\n",
       "      <td>hds_00_022_015_000</td>\n",
       "      <td>calhead</td>\n",
       "      <td>34.717842</td>\n",
       "      <td>34.717842</td>\n",
       "      <td>-5.078249e-11</td>\n",
       "      <td>10.0</td>\n",
       "    </tr>\n",
       "    <tr>\n",
       "      <th>hds_00_024_004_000</th>\n",
       "      <td>hds_00_024_004_000</td>\n",
       "      <td>calhead</td>\n",
       "      <td>36.114929</td>\n",
       "      <td>36.114929</td>\n",
       "      <td>-2.187477e-10</td>\n",
       "      <td>10.0</td>\n",
       "    </tr>\n",
       "    <tr>\n",
       "      <th>hds_00_026_006_000</th>\n",
       "      <td>hds_00_026_006_000</td>\n",
       "      <td>calhead</td>\n",
       "      <td>35.601357</td>\n",
       "      <td>35.601357</td>\n",
       "      <td>-3.476543e-10</td>\n",
       "      <td>10.0</td>\n",
       "    </tr>\n",
       "    <tr>\n",
       "      <th>hds_00_029_015_000</th>\n",
       "      <td>hds_00_029_015_000</td>\n",
       "      <td>calhead</td>\n",
       "      <td>34.264172</td>\n",
       "      <td>34.264172</td>\n",
       "      <td>-3.417995e-10</td>\n",
       "      <td>10.0</td>\n",
       "    </tr>\n",
       "    <tr>\n",
       "      <th>hds_00_033_007_000</th>\n",
       "      <td>hds_00_033_007_000</td>\n",
       "      <td>calhead</td>\n",
       "      <td>34.888523</td>\n",
       "      <td>34.888523</td>\n",
       "      <td>1.933600e-10</td>\n",
       "      <td>10.0</td>\n",
       "    </tr>\n",
       "    <tr>\n",
       "      <th>hds_00_034_010_000</th>\n",
       "      <td>hds_00_034_010_000</td>\n",
       "      <td>calhead</td>\n",
       "      <td>34.302498</td>\n",
       "      <td>34.302498</td>\n",
       "      <td>2.304716e-10</td>\n",
       "      <td>10.0</td>\n",
       "    </tr>\n",
       "  </tbody>\n",
       "</table>\n",
       "</div>"
      ],
      "text/plain": [
       "                                  name    group   measured   modelled  \\\n",
       "name                                                                    \n",
       "hds_00_002_009_000  hds_00_002_009_000  calhead  35.726109  35.726109   \n",
       "hds_00_002_015_000  hds_00_002_015_000  calhead  34.688915  34.688915   \n",
       "hds_00_003_008_000  hds_00_003_008_000  calhead  35.809399  35.809399   \n",
       "hds_00_009_001_000  hds_00_009_001_000  calhead  36.674793  36.674793   \n",
       "hds_00_013_010_000  hds_00_013_010_000  calhead  34.991371  34.991371   \n",
       "hds_00_015_016_000  hds_00_015_016_000  calhead  34.756569  34.756569   \n",
       "hds_00_021_010_000  hds_00_021_010_000  calhead  34.980972  34.980972   \n",
       "hds_00_022_015_000  hds_00_022_015_000  calhead  34.717842  34.717842   \n",
       "hds_00_024_004_000  hds_00_024_004_000  calhead  36.114929  36.114929   \n",
       "hds_00_026_006_000  hds_00_026_006_000  calhead  35.601357  35.601357   \n",
       "hds_00_029_015_000  hds_00_029_015_000  calhead  34.264172  34.264172   \n",
       "hds_00_033_007_000  hds_00_033_007_000  calhead  34.888523  34.888523   \n",
       "hds_00_034_010_000  hds_00_034_010_000  calhead  34.302498  34.302498   \n",
       "\n",
       "                        residual  weight  \n",
       "name                                      \n",
       "hds_00_002_009_000 -2.538769e-11    10.0  \n",
       "hds_00_002_015_000  3.144507e-10    10.0  \n",
       "hds_00_003_008_000 -1.230447e-10    10.0  \n",
       "hds_00_009_001_000 -4.081997e-10    10.0  \n",
       "hds_00_013_010_000  2.148468e-10    10.0  \n",
       "hds_00_015_016_000  3.085958e-10    10.0  \n",
       "hds_00_021_010_000 -3.906564e-11    10.0  \n",
       "hds_00_022_015_000 -5.078249e-11    10.0  \n",
       "hds_00_024_004_000 -2.187477e-10    10.0  \n",
       "hds_00_026_006_000 -3.476543e-10    10.0  \n",
       "hds_00_029_015_000 -3.417995e-10    10.0  \n",
       "hds_00_033_007_000  1.933600e-10    10.0  \n",
       "hds_00_034_010_000  2.304716e-10    10.0  "
      ]
     },
     "execution_count": 93,
     "metadata": {},
     "output_type": "execute_result"
    }
   ],
   "source": [
    "pst = pyemu.Pst(os.path.join(m_d,\"test.pst\"))\n",
    "print(pst.phi)\n",
    "pst.res.loc[pst.nnz_obs_names,:]"
   ]
  },
  {
   "cell_type": "markdown",
   "metadata": {},
   "source": [
    "Lets load the model and check some things"
   ]
  },
  {
   "cell_type": "code",
   "execution_count": 94,
   "metadata": {},
   "outputs": [],
   "source": [
    "m = flopy.modflow.Modflow.load(\"freyberg.nam\",model_ws=m_d)"
   ]
  },
  {
   "cell_type": "code",
   "execution_count": 95,
   "metadata": {},
   "outputs": [
    {
     "name": "stdout",
     "output_type": "stream",
     "text": [
      "6.72255e-05 8.555651e-05\n"
     ]
    },
    {
     "data": {
      "text/plain": [
       "<matplotlib.image.AxesImage at 0x181c0ace80>"
      ]
     },
     "execution_count": 95,
     "metadata": {},
     "output_type": "execute_result"
    },
    {
     "data": {
      "image/png": "[encoded data removed]",
      "text/plain": [
       "<Figure size 432x288 with 1 Axes>"
      ]
     },
     "metadata": {
      "needs_background": "light"
     },
     "output_type": "display_data"
    }
   ],
   "source": [
    "#a = m.upw.hk[0].array\n",
    "a = m.rch.rech[0].array\n",
    "a = np.ma.masked_where(m.bas6.ibound[0].array==0,a)\n",
    "print(a.min(),a.max())\n",
    "plt.imshow(a)"
   ]
  },
  {
   "cell_type": "code",
   "execution_count": 96,
   "metadata": {},
   "outputs": [
    {
     "data": {
      "text/plain": [
       "<matplotlib.axes._subplots.AxesSubplot at 0x18197f89b0>"
      ]
     },
     "execution_count": 96,
     "metadata": {},
     "output_type": "execute_result"
    },
    {
     "data": {
      "image/png": "[encoded data removed]",
      "text/plain": [
       "<Figure size 720x720 with 1 Axes>"
      ]
     },
     "metadata": {
      "needs_background": "light"
     },
     "output_type": "display_data"
    }
   ],
   "source": [
    "lst = flopy.utils.MfListBudget(os.path.join(m_d,\"freyberg.list\"))\n",
    "df = lst.get_dataframes(diff=True)[0]\n",
    "df.plot(kind=\"bar\",figsize=(10,10))"
   ]
  },
  {
   "cell_type": "code",
   "execution_count": null,
   "metadata": {},
   "outputs": [],
   "source": []
  },
  {
   "cell_type": "code",
   "execution_count": null,
   "metadata": {},
   "outputs": [],
   "source": []
  }
 ],
 "metadata": {
  "kernelspec": {
   "display_name": "Python 3",
   "language": "python",
   "name": "python3"
  },
  "language_info": {
   "codemirror_mode": {
    "name": "ipython",
    "version": 3
   },
   "file_extension": ".py",
   "mimetype": "text/x-python",
   "name": "python",
   "nbconvert_exporter": "python",
   "pygments_lexer": "ipython3",
   "version": "3.5.6"
  }
 },
 "nbformat": 4,
 "nbformat_minor": 2
}
