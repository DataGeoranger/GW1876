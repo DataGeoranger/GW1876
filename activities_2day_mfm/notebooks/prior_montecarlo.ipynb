{
 "cells": [
  {
   "cell_type": "markdown",
   "metadata": {},
   "source": [
    "# Run and process the prior monte carlo and pick a \"truth\" realization"
   ]
  },
  {
   "cell_type": "code",
   "execution_count": 1,
   "metadata": {},
   "outputs": [
    {
     "name": "stdout",
     "output_type": "stream",
     "text": [
      "flopy is installed in /Users/jeremyw/Dev/flopy/flopy\n"
     ]
    }
   ],
   "source": [
    "import os\n",
    "import shutil\n",
    "import numpy as np\n",
    "import pandas as pd\n",
    "import matplotlib.pyplot as plt\n",
    "import flopy\n",
    "import pyemu"
   ]
  },
  {
   "cell_type": "code",
   "execution_count": 2,
   "metadata": {},
   "outputs": [],
   "source": [
    "t_d = \"template\"\n",
    "pst = pyemu.Pst(os.path.join(t_d,\"freyberg.pst\"))"
   ]
  },
  {
   "cell_type": "markdown",
   "metadata": {},
   "source": [
    "### run the prior ensemble in parallel locally"
   ]
  },
  {
   "cell_type": "code",
   "execution_count": 3,
   "metadata": {},
   "outputs": [],
   "source": [
    "m_d = \"master_prior_sweep\"\n",
    "#pyemu.os_utils.start_slaves(t_d,\"pestpp-swp\",\"freyberg.pst\",num_slaves=20,slave_root=\".\",master_dir=m_d)"
   ]
  },
  {
   "cell_type": "markdown",
   "metadata": {},
   "source": [
    "### Load the output ensemble and plot a few things\n",
    "\n",
    "The observations with the `fa_hw` tag are \"flow aquifer\" outputs from the SFR ASCII output file and the `hw` is for the \"headwaters\" cumulative flow aquifer for the upper 20 reaches"
   ]
  },
  {
   "cell_type": "code",
   "execution_count": 4,
   "metadata": {},
   "outputs": [
    {
     "data": {
      "text/plain": [
       "obsnme\n",
       "fa_hw_19791230    fa_hw_19791230\n",
       "fa_hw_19801229    fa_hw_19801229\n",
       "Name: obsnme, dtype: object"
      ]
     },
     "execution_count": 4,
     "metadata": {},
     "output_type": "execute_result"
    }
   ],
   "source": [
    "obs = pst.observation_data\n",
    "swgw = obs.loc[obs.obsnme.apply(lambda x: \"fa_hw\" in x),\"obsnme\"]\n",
    "swgw"
   ]
  },
  {
   "cell_type": "markdown",
   "metadata": {},
   "source": [
    "Two forecasts - one during the historical period, and one during the scenario period"
   ]
  },
  {
   "cell_type": "code",
   "execution_count": 5,
   "metadata": {},
   "outputs": [
    {
     "data": {
      "text/plain": [
       "(200, 4461)"
      ]
     },
     "execution_count": 5,
     "metadata": {},
     "output_type": "execute_result"
    }
   ],
   "source": [
    "obs_df = pd.read_csv(os.path.join(m_d,\"sweep_out.csv\"),index_col=0)\n",
    "obs_df.shape"
   ]
  },
  {
   "cell_type": "markdown",
   "metadata": {},
   "source": [
    "drop any failed runs"
   ]
  },
  {
   "cell_type": "code",
   "execution_count": 6,
   "metadata": {},
   "outputs": [
    {
     "data": {
      "text/plain": [
       "(200, 4461)"
      ]
     },
     "execution_count": 6,
     "metadata": {},
     "output_type": "execute_result"
    }
   ],
   "source": [
    "obs_df = obs_df.loc[obs_df.failed_flag==0,:]\n",
    "obs_df.shape"
   ]
  },
  {
   "cell_type": "code",
   "execution_count": 7,
   "metadata": {},
   "outputs": [],
   "source": [
    "#obs_df.phi.apply(np.log10).hist(bins=20)"
   ]
  },
  {
   "cell_type": "code",
   "execution_count": 8,
   "metadata": {},
   "outputs": [
    {
     "data": {
      "text/plain": [
       "array([<matplotlib.axes._subplots.AxesSubplot object at 0x182518d048>,\n",
       "       <matplotlib.axes._subplots.AxesSubplot object at 0x1107763c8>],\n",
       "      dtype=object)"
      ]
     },
     "execution_count": 8,
     "metadata": {},
     "output_type": "execute_result"
    },
    {
     "data": {
      "image/png": "[encoded data removed]",
      "text/plain": [
       "<Figure size 720x720 with 2 Axes>"
      ]
     },
     "metadata": {
      "needs_background": "light"
     },
     "output_type": "display_data"
    }
   ],
   "source": [
    "obs_df.loc[:,swgw].plot(kind=\"hist\",subplots=True,figsize=(10,10))"
   ]
  },
  {
   "cell_type": "markdown",
   "metadata": {},
   "source": [
    "We see that under scenario conditions, many more realizations for the flow to the aquifer in the headwaters are postive (as expected).  Lets difference these two:"
   ]
  },
  {
   "cell_type": "code",
   "execution_count": 9,
   "metadata": {
    "scrolled": true
   },
   "outputs": [
    {
     "data": {
      "text/plain": [
       "<matplotlib.axes._subplots.AxesSubplot at 0x182520d940>"
      ]
     },
     "execution_count": 9,
     "metadata": {},
     "output_type": "execute_result"
    },
    {
     "data": {
      "image/png": "[encoded data removed]",
      "text/plain": [
       "<Figure size 432x288 with 1 Axes>"
      ]
     },
     "metadata": {
      "needs_background": "light"
     },
     "output_type": "display_data"
    }
   ],
   "source": [
    "diff = obs_df.loc[:,swgw[0]] - obs_df.loc[:,swgw[1]]\n",
    "diff.hist()"
   ]
  },
  {
   "cell_type": "markdown",
   "metadata": {},
   "source": [
    "We now see that the most extreme scenario yields a large decrease in flow from the aquifer to the headwaters (the most negative value)"
   ]
  },
  {
   "cell_type": "code",
   "execution_count": 10,
   "metadata": {},
   "outputs": [
    {
     "data": {
      "text/plain": [
       "run_id\n",
       "67    -1716.900716\n",
       "63    -1624.352450\n",
       "182   -1574.195200\n",
       "163   -1533.029090\n",
       "54    -1445.568200\n",
       "dtype: float64"
      ]
     },
     "execution_count": 10,
     "metadata": {},
     "output_type": "execute_result"
    }
   ],
   "source": [
    "diff_sort = diff.sort_values()\n",
    "diff_sort.head()"
   ]
  },
  {
   "cell_type": "markdown",
   "metadata": {},
   "source": [
    "We just need to replace the observed values (`obsval`) in the control file with the outputs for one of the realizations on `obs_df`.  In this way, we now have the nonzero values for history matching, but also the ``truth`` values for comparing how we are doing with other unobserved quantities.  Im going to pick a realization that yields an \"average\" variability of the observed gw levels:"
   ]
  },
  {
   "cell_type": "code",
   "execution_count": 18,
   "metadata": {},
   "outputs": [],
   "source": [
    "# choose the realization with a historic gw to sw flux\n",
    "hist_swgw = obs_df.loc[:,swgw[0]].sort_values()\n",
    "idx = hist_swgw.index[20]"
   ]
  },
  {
   "cell_type": "code",
   "execution_count": 19,
   "metadata": {},
   "outputs": [
    {
     "data": {
      "text/plain": [
       "hds_00_002_009_000    36.111198\n",
       "hds_00_002_015_000    34.547726\n",
       "hds_00_003_008_000    36.255306\n",
       "hds_00_009_001_000    37.375320\n",
       "hds_00_013_010_000    35.085289\n",
       "hds_00_015_016_000    34.512516\n",
       "hds_00_021_010_000    35.091419\n",
       "hds_00_022_015_000    34.336319\n",
       "hds_00_024_004_000    36.188076\n",
       "hds_00_026_006_000    35.553226\n",
       "hds_00_029_015_000    34.484158\n",
       "hds_00_033_007_000    34.540997\n",
       "hds_00_034_010_000    34.122837\n",
       "Name: 106, dtype: float64"
      ]
     },
     "execution_count": 19,
     "metadata": {},
     "output_type": "execute_result"
    }
   ],
   "source": [
    "obs_df.loc[idx,pst.nnz_obs_names]"
   ]
  },
  {
   "cell_type": "markdown",
   "metadata": {},
   "source": [
    "Lets see how our selected truth does with the swgw forecasts:"
   ]
  },
  {
   "cell_type": "code",
   "execution_count": 20,
   "metadata": {},
   "outputs": [
    {
     "name": "stdout",
     "output_type": "stream",
     "text": [
      "fa_hw_19791230   -1230.13130\n",
      "fa_hw_19801229    -411.48421\n",
      "Name: 106, dtype: float64\n",
      "-818.6470899999999\n"
     ]
    }
   ],
   "source": [
    "print(obs_df.loc[idx,swgw])\n",
    "print(diff_sort.loc[idx])"
   ]
  },
  {
   "cell_type": "code",
   "execution_count": 39,
   "metadata": {},
   "outputs": [
    {
     "data": {
      "text/plain": [
       "0.00     4420\n",
       "10.00      13\n",
       "0.01        1\n",
       "Name: weight, dtype: int64"
      ]
     },
     "execution_count": 39,
     "metadata": {},
     "output_type": "execute_result"
    }
   ],
   "source": [
    "obs = pst.observation_data\n",
    "obs.loc[:,\"obsval\"] = obs_df.loc[idx,pst.obs_names]\n",
    "obs.loc[obs.obgnme==\"calhead\",\"weight\"] = 10.0\n",
    "obs.loc[\"fo_39_19791230\",\"weight\"] = 0.01\n",
    "obs.weight.value_counts()"
   ]
  },
  {
   "cell_type": "markdown",
   "metadata": {},
   "source": [
    "Now, it is custom to add noise to the observed values...we will use the classic Gaussian noise...zero mean and standard deviation of 1 over the weight"
   ]
  },
  {
   "cell_type": "code",
   "execution_count": 40,
   "metadata": {},
   "outputs": [],
   "source": [
    "# np.random.seed = 0\n",
    "# print(np.random.seed)\n",
    "# std = 1.0 / pst.observation_data.loc[pst.nnz_obs_names,\"weight\"].mean()\n",
    "# noise = np.random.normal(0,std,size=pst.nnz_obs)\n",
    "# pst.observation_data.loc[pst.nnz_obs_names,\"obsval\"] += noise"
   ]
  },
  {
   "cell_type": "code",
   "execution_count": 58,
   "metadata": {},
   "outputs": [],
   "source": [
    "pst.write(os.path.join(t_d,\"freyberg.pst\"))\n",
    "pyemu.os_utils.run(\"pestpp-ies freyberg.pst\",cwd=t_d)"
   ]
  },
  {
   "cell_type": "code",
   "execution_count": 42,
   "metadata": {},
   "outputs": [
    {
     "name": "stdout",
     "output_type": "stream",
     "text": [
      "997.5479048847845\n"
     ]
    },
    {
     "data": {
      "text/html": [
       "<div>\n",
       "<style scoped>\n",
       "    .dataframe tbody tr th:only-of-type {\n",
       "        vertical-align: middle;\n",
       "    }\n",
       "\n",
       "    .dataframe tbody tr th {\n",
       "        vertical-align: top;\n",
       "    }\n",
       "\n",
       "    .dataframe thead th {\n",
       "        text-align: right;\n",
       "    }\n",
       "</style>\n",
       "<table border=\"1\" class=\"dataframe\">\n",
       "  <thead>\n",
       "    <tr style=\"text-align: right;\">\n",
       "      <th></th>\n",
       "      <th>name</th>\n",
       "      <th>group</th>\n",
       "      <th>measured</th>\n",
       "      <th>modelled</th>\n",
       "      <th>residual</th>\n",
       "      <th>weight</th>\n",
       "    </tr>\n",
       "    <tr>\n",
       "      <th>name</th>\n",
       "      <th></th>\n",
       "      <th></th>\n",
       "      <th></th>\n",
       "      <th></th>\n",
       "      <th></th>\n",
       "      <th></th>\n",
       "    </tr>\n",
       "  </thead>\n",
       "  <tbody>\n",
       "    <tr>\n",
       "      <th>fo_39_19791230</th>\n",
       "      <td>fo_39_19791230</td>\n",
       "      <td>flout</td>\n",
       "      <td>12759.000000</td>\n",
       "      <td>11430.000000</td>\n",
       "      <td>1329.000000</td>\n",
       "      <td>0.1</td>\n",
       "    </tr>\n",
       "    <tr>\n",
       "      <th>hds_00_002_009_000</th>\n",
       "      <td>hds_00_002_009_000</td>\n",
       "      <td>calhead</td>\n",
       "      <td>36.111198</td>\n",
       "      <td>37.107498</td>\n",
       "      <td>-0.996300</td>\n",
       "      <td>10.0</td>\n",
       "    </tr>\n",
       "    <tr>\n",
       "      <th>hds_00_002_015_000</th>\n",
       "      <td>hds_00_002_015_000</td>\n",
       "      <td>calhead</td>\n",
       "      <td>34.547726</td>\n",
       "      <td>35.045185</td>\n",
       "      <td>-0.497459</td>\n",
       "      <td>10.0</td>\n",
       "    </tr>\n",
       "    <tr>\n",
       "      <th>hds_00_003_008_000</th>\n",
       "      <td>hds_00_003_008_000</td>\n",
       "      <td>calhead</td>\n",
       "      <td>36.255306</td>\n",
       "      <td>37.397289</td>\n",
       "      <td>-1.141983</td>\n",
       "      <td>10.0</td>\n",
       "    </tr>\n",
       "    <tr>\n",
       "      <th>hds_00_009_001_000</th>\n",
       "      <td>hds_00_009_001_000</td>\n",
       "      <td>calhead</td>\n",
       "      <td>37.375320</td>\n",
       "      <td>39.546417</td>\n",
       "      <td>-2.171097</td>\n",
       "      <td>10.0</td>\n",
       "    </tr>\n",
       "    <tr>\n",
       "      <th>hds_00_013_010_000</th>\n",
       "      <td>hds_00_013_010_000</td>\n",
       "      <td>calhead</td>\n",
       "      <td>35.085289</td>\n",
       "      <td>35.571774</td>\n",
       "      <td>-0.486485</td>\n",
       "      <td>10.0</td>\n",
       "    </tr>\n",
       "    <tr>\n",
       "      <th>hds_00_015_016_000</th>\n",
       "      <td>hds_00_015_016_000</td>\n",
       "      <td>calhead</td>\n",
       "      <td>34.512516</td>\n",
       "      <td>34.835716</td>\n",
       "      <td>-0.323200</td>\n",
       "      <td>10.0</td>\n",
       "    </tr>\n",
       "    <tr>\n",
       "      <th>hds_00_021_010_000</th>\n",
       "      <td>hds_00_021_010_000</td>\n",
       "      <td>calhead</td>\n",
       "      <td>35.091419</td>\n",
       "      <td>35.386250</td>\n",
       "      <td>-0.294830</td>\n",
       "      <td>10.0</td>\n",
       "    </tr>\n",
       "    <tr>\n",
       "      <th>hds_00_022_015_000</th>\n",
       "      <td>hds_00_022_015_000</td>\n",
       "      <td>calhead</td>\n",
       "      <td>34.336319</td>\n",
       "      <td>34.577492</td>\n",
       "      <td>-0.241173</td>\n",
       "      <td>10.0</td>\n",
       "    </tr>\n",
       "    <tr>\n",
       "      <th>hds_00_024_004_000</th>\n",
       "      <td>hds_00_024_004_000</td>\n",
       "      <td>calhead</td>\n",
       "      <td>36.188076</td>\n",
       "      <td>36.760464</td>\n",
       "      <td>-0.572388</td>\n",
       "      <td>10.0</td>\n",
       "    </tr>\n",
       "    <tr>\n",
       "      <th>hds_00_026_006_000</th>\n",
       "      <td>hds_00_026_006_000</td>\n",
       "      <td>calhead</td>\n",
       "      <td>35.553226</td>\n",
       "      <td>35.896149</td>\n",
       "      <td>-0.342922</td>\n",
       "      <td>10.0</td>\n",
       "    </tr>\n",
       "    <tr>\n",
       "      <th>hds_00_029_015_000</th>\n",
       "      <td>hds_00_029_015_000</td>\n",
       "      <td>calhead</td>\n",
       "      <td>34.484158</td>\n",
       "      <td>34.453842</td>\n",
       "      <td>0.030315</td>\n",
       "      <td>10.0</td>\n",
       "    </tr>\n",
       "    <tr>\n",
       "      <th>hds_00_033_007_000</th>\n",
       "      <td>hds_00_033_007_000</td>\n",
       "      <td>calhead</td>\n",
       "      <td>34.540997</td>\n",
       "      <td>34.678810</td>\n",
       "      <td>-0.137814</td>\n",
       "      <td>10.0</td>\n",
       "    </tr>\n",
       "    <tr>\n",
       "      <th>hds_00_034_010_000</th>\n",
       "      <td>hds_00_034_010_000</td>\n",
       "      <td>calhead</td>\n",
       "      <td>34.122837</td>\n",
       "      <td>34.118073</td>\n",
       "      <td>0.004765</td>\n",
       "      <td>10.0</td>\n",
       "    </tr>\n",
       "  </tbody>\n",
       "</table>\n",
       "</div>"
      ],
      "text/plain": [
       "                                  name    group      measured      modelled  \\\n",
       "name                                                                          \n",
       "fo_39_19791230          fo_39_19791230    flout  12759.000000  11430.000000   \n",
       "hds_00_002_009_000  hds_00_002_009_000  calhead     36.111198     37.107498   \n",
       "hds_00_002_015_000  hds_00_002_015_000  calhead     34.547726     35.045185   \n",
       "hds_00_003_008_000  hds_00_003_008_000  calhead     36.255306     37.397289   \n",
       "hds_00_009_001_000  hds_00_009_001_000  calhead     37.375320     39.546417   \n",
       "hds_00_013_010_000  hds_00_013_010_000  calhead     35.085289     35.571774   \n",
       "hds_00_015_016_000  hds_00_015_016_000  calhead     34.512516     34.835716   \n",
       "hds_00_021_010_000  hds_00_021_010_000  calhead     35.091419     35.386250   \n",
       "hds_00_022_015_000  hds_00_022_015_000  calhead     34.336319     34.577492   \n",
       "hds_00_024_004_000  hds_00_024_004_000  calhead     36.188076     36.760464   \n",
       "hds_00_026_006_000  hds_00_026_006_000  calhead     35.553226     35.896149   \n",
       "hds_00_029_015_000  hds_00_029_015_000  calhead     34.484158     34.453842   \n",
       "hds_00_033_007_000  hds_00_033_007_000  calhead     34.540997     34.678810   \n",
       "hds_00_034_010_000  hds_00_034_010_000  calhead     34.122837     34.118073   \n",
       "\n",
       "                       residual  weight  \n",
       "name                                     \n",
       "fo_39_19791230      1329.000000     0.1  \n",
       "hds_00_002_009_000    -0.996300    10.0  \n",
       "hds_00_002_015_000    -0.497459    10.0  \n",
       "hds_00_003_008_000    -1.141983    10.0  \n",
       "hds_00_009_001_000    -2.171097    10.0  \n",
       "hds_00_013_010_000    -0.486485    10.0  \n",
       "hds_00_015_016_000    -0.323200    10.0  \n",
       "hds_00_021_010_000    -0.294830    10.0  \n",
       "hds_00_022_015_000    -0.241173    10.0  \n",
       "hds_00_024_004_000    -0.572388    10.0  \n",
       "hds_00_026_006_000    -0.342922    10.0  \n",
       "hds_00_029_015_000     0.030315    10.0  \n",
       "hds_00_033_007_000    -0.137814    10.0  \n",
       "hds_00_034_010_000     0.004765    10.0  "
      ]
     },
     "execution_count": 42,
     "metadata": {},
     "output_type": "execute_result"
    }
   ],
   "source": [
    "pst = pyemu.Pst(os.path.join(t_d,\"freyberg.pst\"))\n",
    "print(pst.phi)\n",
    "pst.res.loc[pst.nnz_obs_names,:]"
   ]
  },
  {
   "cell_type": "code",
   "execution_count": 43,
   "metadata": {},
   "outputs": [
    {
     "data": {
      "text/plain": [
       "{'calhead': 820.9238048847845,\n",
       " 'flaqx': 0.0,\n",
       " 'flout': 176.62410000000003,\n",
       " 'flx_constan': 0.0,\n",
       " 'flx_drains': 0.0,\n",
       " 'flx_in-out': 0.0,\n",
       " 'flx_percent': 0.0,\n",
       " 'flx_recharg': 0.0,\n",
       " 'flx_storage': 0.0,\n",
       " 'flx_stream_': 0.0,\n",
       " 'flx_total': 0.0,\n",
       " 'flx_wells': 0.0,\n",
       " 'hds': 0.0,\n",
       " 'vol_constan': 0.0,\n",
       " 'vol_drains': 0.0,\n",
       " 'vol_in-out': 0.0,\n",
       " 'vol_percent': 0.0,\n",
       " 'vol_recharg': 0.0,\n",
       " 'vol_storage': 0.0,\n",
       " 'vol_stream_': 0.0,\n",
       " 'vol_total': 0.0,\n",
       " 'vol_wells': 0.0}"
      ]
     },
     "execution_count": 43,
     "metadata": {},
     "output_type": "execute_result"
    }
   ],
   "source": [
    "pst.phi_components\n",
    "#pst.plot(kind='phi_pie')"
   ]
  },
  {
   "cell_type": "markdown",
   "metadata": {},
   "source": [
    "Just to make sure we have everything working right, we should be able to load the truth parameters, run the model once and have a (near-)zero `phi`:"
   ]
  },
  {
   "cell_type": "code",
   "execution_count": 44,
   "metadata": {},
   "outputs": [],
   "source": [
    "par_df = pd.read_csv(os.path.join(m_d,\"sweep_in.csv\"),index_col=0)\n",
    "pst.parameter_data.loc[:,\"parval1\"] = par_df.loc[idx,pst.par_names]\n",
    "pst.write(os.path.join(m_d,\"test.pst\"))\n",
    "pyemu.os_utils.run(\"pestpp-ies.exe test.pst\",cwd=m_d)"
   ]
  },
  {
   "cell_type": "code",
   "execution_count": 45,
   "metadata": {},
   "outputs": [
    {
     "name": "stdout",
     "output_type": "stream",
     "text": [
      "1.3963368803880017e-16\n"
     ]
    },
    {
     "data": {
      "text/html": [
       "<div>\n",
       "<style scoped>\n",
       "    .dataframe tbody tr th:only-of-type {\n",
       "        vertical-align: middle;\n",
       "    }\n",
       "\n",
       "    .dataframe tbody tr th {\n",
       "        vertical-align: top;\n",
       "    }\n",
       "\n",
       "    .dataframe thead th {\n",
       "        text-align: right;\n",
       "    }\n",
       "</style>\n",
       "<table border=\"1\" class=\"dataframe\">\n",
       "  <thead>\n",
       "    <tr style=\"text-align: right;\">\n",
       "      <th></th>\n",
       "      <th>name</th>\n",
       "      <th>group</th>\n",
       "      <th>measured</th>\n",
       "      <th>modelled</th>\n",
       "      <th>residual</th>\n",
       "      <th>weight</th>\n",
       "    </tr>\n",
       "    <tr>\n",
       "      <th>name</th>\n",
       "      <th></th>\n",
       "      <th></th>\n",
       "      <th></th>\n",
       "      <th></th>\n",
       "      <th></th>\n",
       "      <th></th>\n",
       "    </tr>\n",
       "  </thead>\n",
       "  <tbody>\n",
       "    <tr>\n",
       "      <th>fo_39_19791230</th>\n",
       "      <td>fo_39_19791230</td>\n",
       "      <td>flout</td>\n",
       "      <td>12759.000000</td>\n",
       "      <td>12759.000000</td>\n",
       "      <td>0.000000e+00</td>\n",
       "      <td>0.01</td>\n",
       "    </tr>\n",
       "    <tr>\n",
       "      <th>hds_00_002_009_000</th>\n",
       "      <td>hds_00_002_009_000</td>\n",
       "      <td>calhead</td>\n",
       "      <td>36.111198</td>\n",
       "      <td>36.111198</td>\n",
       "      <td>-2.929710e-10</td>\n",
       "      <td>10.00</td>\n",
       "    </tr>\n",
       "    <tr>\n",
       "      <th>hds_00_002_015_000</th>\n",
       "      <td>hds_00_002_015_000</td>\n",
       "      <td>calhead</td>\n",
       "      <td>34.547726</td>\n",
       "      <td>34.547726</td>\n",
       "      <td>-4.902319e-10</td>\n",
       "      <td>10.00</td>\n",
       "    </tr>\n",
       "    <tr>\n",
       "      <th>hds_00_003_008_000</th>\n",
       "      <td>hds_00_003_008_000</td>\n",
       "      <td>calhead</td>\n",
       "      <td>36.255306</td>\n",
       "      <td>36.255306</td>\n",
       "      <td>1.035190e-10</td>\n",
       "      <td>10.00</td>\n",
       "    </tr>\n",
       "    <tr>\n",
       "      <th>hds_00_009_001_000</th>\n",
       "      <td>hds_00_009_001_000</td>\n",
       "      <td>calhead</td>\n",
       "      <td>37.375320</td>\n",
       "      <td>37.375320</td>\n",
       "      <td>4.296865e-10</td>\n",
       "      <td>10.00</td>\n",
       "    </tr>\n",
       "    <tr>\n",
       "      <th>hds_00_013_010_000</th>\n",
       "      <td>hds_00_013_010_000</td>\n",
       "      <td>calhead</td>\n",
       "      <td>35.085289</td>\n",
       "      <td>35.085289</td>\n",
       "      <td>-4.648442e-10</td>\n",
       "      <td>10.00</td>\n",
       "    </tr>\n",
       "    <tr>\n",
       "      <th>hds_00_015_016_000</th>\n",
       "      <td>hds_00_015_016_000</td>\n",
       "      <td>calhead</td>\n",
       "      <td>34.512516</td>\n",
       "      <td>34.512516</td>\n",
       "      <td>2.714842e-10</td>\n",
       "      <td>10.00</td>\n",
       "    </tr>\n",
       "    <tr>\n",
       "      <th>hds_00_021_010_000</th>\n",
       "      <td>hds_00_021_010_000</td>\n",
       "      <td>calhead</td>\n",
       "      <td>35.091419</td>\n",
       "      <td>35.091419</td>\n",
       "      <td>2.929568e-11</td>\n",
       "      <td>10.00</td>\n",
       "    </tr>\n",
       "    <tr>\n",
       "      <th>hds_00_022_015_000</th>\n",
       "      <td>hds_00_022_015_000</td>\n",
       "      <td>calhead</td>\n",
       "      <td>34.336319</td>\n",
       "      <td>34.336319</td>\n",
       "      <td>2.734382e-10</td>\n",
       "      <td>10.00</td>\n",
       "    </tr>\n",
       "    <tr>\n",
       "      <th>hds_00_024_004_000</th>\n",
       "      <td>hds_00_024_004_000</td>\n",
       "      <td>calhead</td>\n",
       "      <td>36.188076</td>\n",
       "      <td>36.188076</td>\n",
       "      <td>-2.871090e-10</td>\n",
       "      <td>10.00</td>\n",
       "    </tr>\n",
       "    <tr>\n",
       "      <th>hds_00_026_006_000</th>\n",
       "      <td>hds_00_026_006_000</td>\n",
       "      <td>calhead</td>\n",
       "      <td>35.553226</td>\n",
       "      <td>35.553226</td>\n",
       "      <td>5.273648e-11</td>\n",
       "      <td>10.00</td>\n",
       "    </tr>\n",
       "    <tr>\n",
       "      <th>hds_00_029_015_000</th>\n",
       "      <td>hds_00_029_015_000</td>\n",
       "      <td>calhead</td>\n",
       "      <td>34.484158</td>\n",
       "      <td>34.484158</td>\n",
       "      <td>-2.558593e-10</td>\n",
       "      <td>10.00</td>\n",
       "    </tr>\n",
       "    <tr>\n",
       "      <th>hds_00_033_007_000</th>\n",
       "      <td>hds_00_033_007_000</td>\n",
       "      <td>calhead</td>\n",
       "      <td>34.540997</td>\n",
       "      <td>34.540997</td>\n",
       "      <td>4.863310e-10</td>\n",
       "      <td>10.00</td>\n",
       "    </tr>\n",
       "    <tr>\n",
       "      <th>hds_00_034_010_000</th>\n",
       "      <td>hds_00_034_010_000</td>\n",
       "      <td>calhead</td>\n",
       "      <td>34.122837</td>\n",
       "      <td>34.122837</td>\n",
       "      <td>3.496083e-10</td>\n",
       "      <td>10.00</td>\n",
       "    </tr>\n",
       "  </tbody>\n",
       "</table>\n",
       "</div>"
      ],
      "text/plain": [
       "                                  name    group      measured      modelled  \\\n",
       "name                                                                          \n",
       "fo_39_19791230          fo_39_19791230    flout  12759.000000  12759.000000   \n",
       "hds_00_002_009_000  hds_00_002_009_000  calhead     36.111198     36.111198   \n",
       "hds_00_002_015_000  hds_00_002_015_000  calhead     34.547726     34.547726   \n",
       "hds_00_003_008_000  hds_00_003_008_000  calhead     36.255306     36.255306   \n",
       "hds_00_009_001_000  hds_00_009_001_000  calhead     37.375320     37.375320   \n",
       "hds_00_013_010_000  hds_00_013_010_000  calhead     35.085289     35.085289   \n",
       "hds_00_015_016_000  hds_00_015_016_000  calhead     34.512516     34.512516   \n",
       "hds_00_021_010_000  hds_00_021_010_000  calhead     35.091419     35.091419   \n",
       "hds_00_022_015_000  hds_00_022_015_000  calhead     34.336319     34.336319   \n",
       "hds_00_024_004_000  hds_00_024_004_000  calhead     36.188076     36.188076   \n",
       "hds_00_026_006_000  hds_00_026_006_000  calhead     35.553226     35.553226   \n",
       "hds_00_029_015_000  hds_00_029_015_000  calhead     34.484158     34.484158   \n",
       "hds_00_033_007_000  hds_00_033_007_000  calhead     34.540997     34.540997   \n",
       "hds_00_034_010_000  hds_00_034_010_000  calhead     34.122837     34.122837   \n",
       "\n",
       "                        residual  weight  \n",
       "name                                      \n",
       "fo_39_19791230      0.000000e+00    0.01  \n",
       "hds_00_002_009_000 -2.929710e-10   10.00  \n",
       "hds_00_002_015_000 -4.902319e-10   10.00  \n",
       "hds_00_003_008_000  1.035190e-10   10.00  \n",
       "hds_00_009_001_000  4.296865e-10   10.00  \n",
       "hds_00_013_010_000 -4.648442e-10   10.00  \n",
       "hds_00_015_016_000  2.714842e-10   10.00  \n",
       "hds_00_021_010_000  2.929568e-11   10.00  \n",
       "hds_00_022_015_000  2.734382e-10   10.00  \n",
       "hds_00_024_004_000 -2.871090e-10   10.00  \n",
       "hds_00_026_006_000  5.273648e-11   10.00  \n",
       "hds_00_029_015_000 -2.558593e-10   10.00  \n",
       "hds_00_033_007_000  4.863310e-10   10.00  \n",
       "hds_00_034_010_000  3.496083e-10   10.00  "
      ]
     },
     "execution_count": 45,
     "metadata": {},
     "output_type": "execute_result"
    }
   ],
   "source": [
    "pst = pyemu.Pst(os.path.join(m_d,\"test.pst\"))\n",
    "print(pst.phi)\n",
    "pst.res.loc[pst.nnz_obs_names,:]"
   ]
  },
  {
   "cell_type": "markdown",
   "metadata": {},
   "source": [
    "Lets load the model and check some things"
   ]
  },
  {
   "cell_type": "code",
   "execution_count": 46,
   "metadata": {},
   "outputs": [],
   "source": [
    "m = flopy.modflow.Modflow.load(\"freyberg.nam\",model_ws=m_d)"
   ]
  },
  {
   "cell_type": "code",
   "execution_count": 47,
   "metadata": {},
   "outputs": [
    {
     "name": "stdout",
     "output_type": "stream",
     "text": [
      "6.169213e-05 7.30278e-05\n"
     ]
    },
    {
     "data": {
      "text/plain": [
       "<matplotlib.image.AxesImage at 0x1826bbe4a8>"
      ]
     },
     "execution_count": 47,
     "metadata": {},
     "output_type": "execute_result"
    },
    {
     "data": {
      "image/png": "[encoded data removed]",
      "text/plain": [
       "<Figure size 432x288 with 1 Axes>"
      ]
     },
     "metadata": {
      "needs_background": "light"
     },
     "output_type": "display_data"
    }
   ],
   "source": [
    "#a = m.upw.hk[0].array\n",
    "a = m.rch.rech[0].array\n",
    "a = np.ma.masked_where(m.bas6.ibound[0].array==0,a)\n",
    "print(a.min(),a.max())\n",
    "plt.imshow(a)"
   ]
  },
  {
   "cell_type": "code",
   "execution_count": 57,
   "metadata": {},
   "outputs": [
    {
     "data": {
      "image/png": "[encoded data removed]",
      "text/plain": [
       "<Figure size 432x432 with 1 Axes>"
      ]
     },
     "metadata": {
      "needs_background": "light"
     },
     "output_type": "display_data"
    }
   ],
   "source": [
    "lst = flopy.utils.MfListBudget(os.path.join(m_d,\"freyberg.list\"))\n",
    "df = lst.get_dataframes(diff=True)[0]\n",
    "ax = df.plot(kind=\"bar\",figsize=(6,6))\n",
    "a = ax.set_xticklabels([\"historic\",\"scenario\"],rotation=90)"
   ]
  },
  {
   "cell_type": "markdown",
   "metadata": {},
   "source": [
    "### see how our existing observation ensemble compares to the truth\n",
    "\n",
    "sw-gw outputs:"
   ]
  },
  {
   "cell_type": "code",
   "execution_count": 49,
   "metadata": {},
   "outputs": [
    {
     "data": {
      "image/png": "[encoded data removed]",
      "text/plain": [
       "<Figure size 432x288 with 1 Axes>"
      ]
     },
     "metadata": {
      "needs_background": "light"
     },
     "output_type": "display_data"
    },
    {
     "data": {
      "image/png": "[encoded data removed]",
      "text/plain": [
       "<Figure size 432x288 with 1 Axes>"
      ]
     },
     "metadata": {
      "needs_background": "light"
     },
     "output_type": "display_data"
    }
   ],
   "source": [
    "obs = pst.observation_data\n",
    "swgws = obs.loc[obs.obsnme.apply(lambda x: \"fa_hw\" in x),\"obsnme\"]\n",
    "for swgw in swgws:\n",
    "    ax = plt.subplot(111)\n",
    "    obs_df.loc[:,swgw].hist(ax=ax,color=\"0.5\",alpha=0.5)\n",
    "    ax.plot([obs.loc[swgw,\"obsval\"],obs.loc[swgw,\"obsval\"]],ax.get_ylim(),\"r\")\n",
    "    ax.set_title(swgw)\n",
    "    plt.show()"
   ]
  },
  {
   "cell_type": "markdown",
   "metadata": {},
   "source": [
    "observations:"
   ]
  },
  {
   "cell_type": "code",
   "execution_count": 52,
   "metadata": {},
   "outputs": [
    {
     "data": {
      "image/png": "[encoded data removed]",
      "text/plain": [
       "<Figure size 432x288 with 1 Axes>"
      ]
     },
     "metadata": {
      "needs_background": "light"
     },
     "output_type": "display_data"
    },
    {
     "data": {
      "image/png": "[encoded data removed]",
      "text/plain": [
       "<Figure size 432x288 with 1 Axes>"
      ]
     },
     "metadata": {
      "needs_background": "light"
     },
     "output_type": "display_data"
    },
    {
     "data": {
      "image/png": "[encoded data removed]",
      "text/plain": [
       "<Figure size 432x288 with 1 Axes>"
      ]
     },
     "metadata": {
      "needs_background": "light"
     },
     "output_type": "display_data"
    },
    {
     "data": {
      "image/png": "[encoded data removed]",
      "text/plain": [
       "<Figure size 432x288 with 1 Axes>"
      ]
     },
     "metadata": {
      "needs_background": "light"
     },
     "output_type": "display_data"
    },
    {
     "data": {
      "image/png": "[encoded data removed]",
      "text/plain": [
       "<Figure size 432x288 with 1 Axes>"
      ]
     },
     "metadata": {
      "needs_background": "light"
     },
     "output_type": "display_data"
    },
    {
     "data": {
      "image/png": "[encoded data removed]",
      "text/plain": [
       "<Figure size 432x288 with 1 Axes>"
      ]
     },
     "metadata": {
      "needs_background": "light"
     },
     "output_type": "display_data"
    },
    {
     "data": {
      "image/png": "[encoded data removed]",
      "text/plain": [
       "<Figure size 432x288 with 1 Axes>"
      ]
     },
     "metadata": {
      "needs_background": "light"
     },
     "output_type": "display_data"
    },
    {
     "data": {
      "image/png": "[encoded data removed]",
      "text/plain": [
       "<Figure size 432x288 with 1 Axes>"
      ]
     },
     "metadata": {
      "needs_background": "light"
     },
     "output_type": "display_data"
    },
    {
     "data": {
      "image/png": "[encoded data removed]",
      "text/plain": [
       "<Figure size 432x288 with 1 Axes>"
      ]
     },
     "metadata": {
      "needs_background": "light"
     },
     "output_type": "display_data"
    },
    {
     "data": {
      "image/png": "[encoded data removed]",
      "text/plain": [
       "<Figure size 432x288 with 1 Axes>"
      ]
     },
     "metadata": {
      "needs_background": "light"
     },
     "output_type": "display_data"
    },
    {
     "data": {
      "image/png": "[encoded data removed]",
      "text/plain": [
       "<Figure size 432x288 with 1 Axes>"
      ]
     },
     "metadata": {
      "needs_background": "light"
     },
     "output_type": "display_data"
    },
    {
     "data": {
      "image/png": "[encoded data removed]",
      "text/plain": [
       "<Figure size 432x288 with 1 Axes>"
      ]
     },
     "metadata": {
      "needs_background": "light"
     },
     "output_type": "display_data"
    },
    {
     "data": {
      "image/png": "[encoded data removed]",
      "text/plain": [
       "<Figure size 432x288 with 1 Axes>"
      ]
     },
     "metadata": {
      "needs_background": "light"
     },
     "output_type": "display_data"
    },
    {
     "data": {
      "image/png": "[encoded data removed]",
      "text/plain": [
       "<Figure size 432x288 with 1 Axes>"
      ]
     },
     "metadata": {
      "needs_background": "light"
     },
     "output_type": "display_data"
    }
   ],
   "source": [
    "for oname in pst.nnz_obs_names:\n",
    "    ax = plt.subplot(111)\n",
    "    obs_df.loc[:,oname].hist(ax=ax,color=\"0.5\",alpha=0.5)\n",
    "    ax.plot([obs.loc[oname,\"obsval\"],obs.loc[oname,\"obsval\"]],ax.get_ylim(),\"r\")\n",
    "    ax.set_title(oname)\n",
    "    plt.show()"
   ]
  },
  {
   "cell_type": "code",
   "execution_count": null,
   "metadata": {},
   "outputs": [],
   "source": []
  }
 ],
 "metadata": {
  "kernelspec": {
   "display_name": "Python 3",
   "language": "python",
   "name": "python3"
  },
  "language_info": {
   "codemirror_mode": {
    "name": "ipython",
    "version": 3
   },
   "file_extension": ".py",
   "mimetype": "text/x-python",
   "name": "python",
   "nbconvert_exporter": "python",
   "pygments_lexer": "ipython3",
   "version": "3.5.6"
  }
 },
 "nbformat": 4,
 "nbformat_minor": 2
}
