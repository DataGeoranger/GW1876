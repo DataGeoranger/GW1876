{
 "cells": [
  {
   "cell_type": "code",
   "execution_count": 48,
   "metadata": {},
   "outputs": [],
   "source": [
    "import os\n",
    "import shutil\n",
    "import numpy as np\n",
    "import pandas as pd\n",
    "import matplotlib.pyplot as plt\n",
    "import flopy\n",
    "import pyemu"
   ]
  },
  {
   "cell_type": "code",
   "execution_count": 49,
   "metadata": {},
   "outputs": [],
   "source": [
    "t_d = \"template\"\n",
    "pst = pyemu.Pst(os.path.join(t_d,\"freyberg.pst\"))"
   ]
  },
  {
   "cell_type": "code",
   "execution_count": 50,
   "metadata": {},
   "outputs": [],
   "source": [
    "m_d = \"master_prior_sweep\"\n",
    "pyemu.os_utils.start_slaves(t_d,\"pestpp-swp\",\"freyberg.pst\",num_slaves=20,slave_root=\".\",master_dir=m_d)"
   ]
  },
  {
   "cell_type": "code",
   "execution_count": 60,
   "metadata": {},
   "outputs": [
    {
     "data": {
      "text/plain": [
       "obsnme\n",
       "fa_hw_19791230    fa_hw_19791230\n",
       "fa_hw_19801229    fa_hw_19801229\n",
       "Name: obsnme, dtype: object"
      ]
     },
     "execution_count": 60,
     "metadata": {},
     "output_type": "execute_result"
    }
   ],
   "source": [
    "obs = pst.observation_data\n",
    "swgw = obs.loc[obs.obsnme.apply(lambda x: \"fa_hw\" in x),\"obsnme\"]\n",
    "swgw"
   ]
  },
  {
   "cell_type": "code",
   "execution_count": 61,
   "metadata": {},
   "outputs": [
    {
     "data": {
      "text/plain": [
       "(200, 4461)"
      ]
     },
     "execution_count": 61,
     "metadata": {},
     "output_type": "execute_result"
    }
   ],
   "source": [
    "obs_df = pd.read_csv(os.path.join(m_d,\"sweep_out.csv\"),index_col=0)\n",
    "obs_df.shape"
   ]
  },
  {
   "cell_type": "code",
   "execution_count": 62,
   "metadata": {},
   "outputs": [
    {
     "data": {
      "text/plain": [
       "(200, 4461)"
      ]
     },
     "execution_count": 62,
     "metadata": {},
     "output_type": "execute_result"
    }
   ],
   "source": [
    "obs_df = obs_df.loc[obs_df.failed_flag==0,:]\n",
    "obs_df.shape"
   ]
  },
  {
   "cell_type": "code",
   "execution_count": 63,
   "metadata": {},
   "outputs": [
    {
     "data": {
      "text/plain": [
       "array([<matplotlib.axes._subplots.AxesSubplot object at 0x18207d8898>,\n",
       "       <matplotlib.axes._subplots.AxesSubplot object at 0x1822162ba8>],\n",
       "      dtype=object)"
      ]
     },
     "execution_count": 63,
     "metadata": {},
     "output_type": "execute_result"
    },
    {
     "data": {
      "image/png": "[encoded data removed]",
      "text/plain": [
       "<Figure size 720x720 with 2 Axes>"
      ]
     },
     "metadata": {
      "needs_background": "light"
     },
     "output_type": "display_data"
    }
   ],
   "source": [
    "obs_df.loc[:,swgw].plot(kind=\"hist\",subplots=True,figsize=(10,10))"
   ]
  },
  {
   "cell_type": "code",
   "execution_count": 64,
   "metadata": {},
   "outputs": [],
   "source": [
    "# par_df = pd.read_csv(os.path.join(m_d,\"sweep_in.csv\"),index_col=0)\n",
    "# pst.parameter_data.loc[:,\"parval1\"] = par_df.loc[182,pst.par_names]\n",
    "# pst.write(os.path.join(m_d,\"test.pst\"))\n",
    "# pyemu.os_utils.run(\"pestpp-ies.exe test.pst\",cwd=m_d)"
   ]
  },
  {
   "cell_type": "code",
   "execution_count": 65,
   "metadata": {},
   "outputs": [
    {
     "data": {
      "text/plain": [
       "<matplotlib.axes._subplots.AxesSubplot at 0x1822032048>"
      ]
     },
     "execution_count": 65,
     "metadata": {},
     "output_type": "execute_result"
    },
    {
     "data": {
      "image/png": "[encoded data removed]",
      "text/plain": [
       "<Figure size 432x288 with 1 Axes>"
      ]
     },
     "metadata": {
      "needs_background": "light"
     },
     "output_type": "display_data"
    }
   ],
   "source": [
    "diff = obs_df.loc[:,swgw[0]] - obs_df.loc[:,swgw[1]]\n",
    "diff.hist()"
   ]
  },
  {
   "cell_type": "code",
   "execution_count": 66,
   "metadata": {},
   "outputs": [
    {
     "data": {
      "text/plain": [
       "run_id\n",
       "50    -9605.044660\n",
       "91    -6126.152710\n",
       "137   -5455.385530\n",
       "63    -4177.619060\n",
       "173   -3625.204900\n",
       "51    -3573.500300\n",
       "79    -3377.322820\n",
       "147   -2749.519400\n",
       "92    -2584.030555\n",
       "48    -2558.430210\n",
       "142   -2479.839500\n",
       "59    -2421.226730\n",
       "106   -2395.411500\n",
       "160   -2364.811800\n",
       "179   -2184.862550\n",
       "118   -2120.789580\n",
       "155   -1991.973400\n",
       "170   -1955.057630\n",
       "31    -1927.502700\n",
       "80    -1877.277600\n",
       "71    -1863.646670\n",
       "169   -1862.946720\n",
       "113   -1849.655400\n",
       "178   -1631.904980\n",
       "101   -1628.526350\n",
       "139   -1620.579610\n",
       "114   -1560.008300\n",
       "46    -1473.778380\n",
       "33    -1457.304568\n",
       "28    -1426.425525\n",
       "          ...     \n",
       "121     -80.247900\n",
       "129     -78.553918\n",
       "130     -63.997800\n",
       "4       -58.614100\n",
       "15      -50.669500\n",
       "163     -42.687500\n",
       "134     -18.058400\n",
       "192      -3.851740\n",
       "187       9.258610\n",
       "20       13.677490\n",
       "35       14.668100\n",
       "61       36.596900\n",
       "10       40.521300\n",
       "182      47.134000\n",
       "180      56.152190\n",
       "99       81.105300\n",
       "116     120.840700\n",
       "119     131.343620\n",
       "181     131.640570\n",
       "0       147.513538\n",
       "62      173.623750\n",
       "171     175.191380\n",
       "13      185.706900\n",
       "97      204.607802\n",
       "36      215.641400\n",
       "5       367.570070\n",
       "7       378.957110\n",
       "38      835.623730\n",
       "87     1212.429050\n",
       "122    1490.279400\n",
       "Length: 200, dtype: float64"
      ]
     },
     "execution_count": 66,
     "metadata": {},
     "output_type": "execute_result"
    }
   ],
   "source": [
    "diff.sort_values()"
   ]
  },
  {
   "cell_type": "code",
   "execution_count": 67,
   "metadata": {},
   "outputs": [],
   "source": [
    "pst.observation_data.loc[:,\"obsval\"] = obs_df.loc[50,pst.obs_names]\n"
   ]
  },
  {
   "cell_type": "code",
   "execution_count": 70,
   "metadata": {},
   "outputs": [
    {
     "name": "stdout",
     "output_type": "stream",
     "text": [
      "noptmax: 0\n"
     ]
    }
   ],
   "source": [
    "pst.write(os.path.join(t_d,\"freyberg.pst\"))\n",
    "pyemu.os_utils.run(\"pestpp-ies freyberg.pst\",cwd=t_d)"
   ]
  },
  {
   "cell_type": "code",
   "execution_count": null,
   "metadata": {},
   "outputs": [],
   "source": []
  }
 ],
 "metadata": {
  "kernelspec": {
   "display_name": "Python 3",
   "language": "python",
   "name": "python3"
  },
  "language_info": {
   "codemirror_mode": {
    "name": "ipython",
    "version": 3
   },
   "file_extension": ".py",
   "mimetype": "text/x-python",
   "name": "python",
   "nbconvert_exporter": "python",
   "pygments_lexer": "ipython3",
   "version": "3.5.6"
  }
 },
 "nbformat": 4,
 "nbformat_minor": 2
}
