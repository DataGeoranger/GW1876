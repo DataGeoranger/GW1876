{
 "cells": [
  {
   "cell_type": "markdown",
   "metadata": {},
   "source": [
    "# Run and process the prior monte carlo and pick a \"truth\" realization"
   ]
  },
  {
   "cell_type": "code",
   "execution_count": 1,
   "metadata": {},
   "outputs": [
    {
     "name": "stdout",
     "output_type": "stream",
     "text": [
      "flopy is installed in /Users/jeremyw/Dev/flopy/flopy\n"
     ]
    }
   ],
   "source": [
    "import os\n",
    "import shutil\n",
    "import numpy as np\n",
    "import pandas as pd\n",
    "import matplotlib.pyplot as plt\n",
    "import flopy\n",
    "import pyemu"
   ]
  },
  {
   "cell_type": "code",
   "execution_count": 2,
   "metadata": {},
   "outputs": [],
   "source": [
    "t_d = \"template\"\n",
    "pst = pyemu.Pst(os.path.join(t_d,\"freyberg.pst\"))"
   ]
  },
  {
   "cell_type": "markdown",
   "metadata": {},
   "source": [
    "### run the prior ensemble in parallel locally"
   ]
  },
  {
   "cell_type": "code",
   "execution_count": 3,
   "metadata": {},
   "outputs": [],
   "source": [
    "m_d = \"master_prior_sweep\"\n",
    "#pyemu.os_utils.start_slaves(t_d,\"pestpp-swp\",\"freyberg.pst\",num_slaves=20,slave_root=\".\",master_dir=m_d)"
   ]
  },
  {
   "cell_type": "markdown",
   "metadata": {},
   "source": [
    "### Load the output ensemble and plot a few things\n",
    "\n",
    "The observations with the `fa_hw` tag are \"flow aquifer\" outputs from the SFR ASCII output file and the `hw` is for the \"headwaters\" cumulative flow aquifer for the upper 20 reaches"
   ]
  },
  {
   "cell_type": "code",
   "execution_count": 4,
   "metadata": {},
   "outputs": [
    {
     "data": {
      "text/plain": [
       "obsnme\n",
       "fa_hw_19791230    fa_hw_19791230\n",
       "fa_hw_19801229    fa_hw_19801229\n",
       "Name: obsnme, dtype: object"
      ]
     },
     "execution_count": 4,
     "metadata": {},
     "output_type": "execute_result"
    }
   ],
   "source": [
    "obs = pst.observation_data\n",
    "swgw = obs.loc[obs.obsnme.apply(lambda x: \"fa_hw\" in x),\"obsnme\"]\n",
    "swgw"
   ]
  },
  {
   "cell_type": "markdown",
   "metadata": {},
   "source": [
    "Two forecasts - one during the historical period, and one during the scenario period"
   ]
  },
  {
   "cell_type": "code",
   "execution_count": 5,
   "metadata": {},
   "outputs": [
    {
     "data": {
      "text/plain": [
       "(200, 4461)"
      ]
     },
     "execution_count": 5,
     "metadata": {},
     "output_type": "execute_result"
    }
   ],
   "source": [
    "obs_df = pd.read_csv(os.path.join(m_d,\"sweep_out.csv\"),index_col=0)\n",
    "obs_df.shape"
   ]
  },
  {
   "cell_type": "markdown",
   "metadata": {},
   "source": [
    "drop any failed runs"
   ]
  },
  {
   "cell_type": "code",
   "execution_count": 6,
   "metadata": {},
   "outputs": [
    {
     "data": {
      "text/plain": [
       "(200, 4461)"
      ]
     },
     "execution_count": 6,
     "metadata": {},
     "output_type": "execute_result"
    }
   ],
   "source": [
    "obs_df = obs_df.loc[obs_df.failed_flag==0,:]\n",
    "obs_df.shape"
   ]
  },
  {
   "cell_type": "code",
   "execution_count": 7,
   "metadata": {},
   "outputs": [],
   "source": [
    "#obs_df.phi.apply(np.log10).hist(bins=20)"
   ]
  },
  {
   "cell_type": "code",
   "execution_count": 8,
   "metadata": {},
   "outputs": [
    {
     "data": {
      "text/plain": [
       "array([<matplotlib.axes._subplots.AxesSubplot object at 0x182168f6d8>,\n",
       "       <matplotlib.axes._subplots.AxesSubplot object at 0x11b6b7a90>],\n",
       "      dtype=object)"
      ]
     },
     "execution_count": 8,
     "metadata": {},
     "output_type": "execute_result"
    },
    {
     "data": {
      "image/png": "[encoded data removed]",
      "text/plain": [
       "<Figure size 720x720 with 2 Axes>"
      ]
     },
     "metadata": {
      "needs_background": "light"
     },
     "output_type": "display_data"
    }
   ],
   "source": [
    "obs_df.loc[:,swgw].plot(kind=\"hist\",subplots=True,figsize=(10,10))"
   ]
  },
  {
   "cell_type": "markdown",
   "metadata": {},
   "source": [
    "We see that under scenario conditions, many more realizations for the flow to the aquifer in the headwaters are postive (as expected).  Lets difference these two:"
   ]
  },
  {
   "cell_type": "code",
   "execution_count": 9,
   "metadata": {
    "scrolled": true
   },
   "outputs": [
    {
     "data": {
      "text/plain": [
       "<matplotlib.axes._subplots.AxesSubplot at 0x11b81fb70>"
      ]
     },
     "execution_count": 9,
     "metadata": {},
     "output_type": "execute_result"
    },
    {
     "data": {
      "image/png": "[encoded data removed]",
      "text/plain": [
       "<Figure size 432x288 with 1 Axes>"
      ]
     },
     "metadata": {
      "needs_background": "light"
     },
     "output_type": "display_data"
    }
   ],
   "source": [
    "diff = obs_df.loc[:,swgw[0]] - obs_df.loc[:,swgw[1]]\n",
    "diff.hist()"
   ]
  },
  {
   "cell_type": "markdown",
   "metadata": {},
   "source": [
    "We now see that the most extreme scenario yields a large decrease in flow from the aquifer to the headwaters (the most negative value)"
   ]
  },
  {
   "cell_type": "code",
   "execution_count": 10,
   "metadata": {},
   "outputs": [
    {
     "data": {
      "text/plain": [
       "run_id\n",
       "50    -9605.04466\n",
       "91    -6126.15271\n",
       "137   -5455.38553\n",
       "63    -4177.61906\n",
       "173   -3625.20490\n",
       "dtype: float64"
      ]
     },
     "execution_count": 10,
     "metadata": {},
     "output_type": "execute_result"
    }
   ],
   "source": [
    "diff_sort = diff.sort_values()\n",
    "diff_sort.head()"
   ]
  },
  {
   "cell_type": "markdown",
   "metadata": {},
   "source": [
    "We just need to replace the observed values (`obsval`) in the control file with the outputs for one of the realizations on `obs_df`.  In this way, we now have the nonzero values for history matching, but also the ``truth`` values for comparing how we are doing with other unobserved quantities.  Im going to pick a realization that yields an \"average\" variability of the observed gw levels:"
   ]
  },
  {
   "cell_type": "code",
   "execution_count": 11,
   "metadata": {},
   "outputs": [],
   "source": [
    "std_obs = obs_df.loc[:,pst.nnz_obs_names].std(axis=1).sort_values()\n",
    "idx = std_obs.index[int(obs_df.shape[0]/2)]"
   ]
  },
  {
   "cell_type": "code",
   "execution_count": 12,
   "metadata": {},
   "outputs": [
    {
     "data": {
      "text/plain": [
       "hds_00_002_009_000    36.955250\n",
       "hds_00_002_015_000    34.576363\n",
       "hds_00_003_008_000    36.992844\n",
       "hds_00_009_001_000    38.792450\n",
       "hds_00_013_010_000    35.291306\n",
       "hds_00_015_016_000    34.760986\n",
       "hds_00_021_010_000    35.167488\n",
       "hds_00_022_015_000    34.573235\n",
       "hds_00_024_004_000    36.454193\n",
       "hds_00_026_006_000    35.657467\n",
       "hds_00_029_015_000    34.325661\n",
       "hds_00_033_007_000    34.909630\n",
       "hds_00_034_010_000    34.169098\n",
       "Name: 120, dtype: float64"
      ]
     },
     "execution_count": 12,
     "metadata": {},
     "output_type": "execute_result"
    }
   ],
   "source": [
    "obs_df.loc[idx,pst.nnz_obs_names]"
   ]
  },
  {
   "cell_type": "markdown",
   "metadata": {},
   "source": [
    "Lets see how our selected truth does with the swgw forecasts:"
   ]
  },
  {
   "cell_type": "code",
   "execution_count": 13,
   "metadata": {},
   "outputs": [
    {
     "name": "stdout",
     "output_type": "stream",
     "text": [
      "fa_hw_19791230   -641.5985\n",
      "fa_hw_19801229     46.7631\n",
      "Name: 120, dtype: float64\n",
      "-688.3616\n"
     ]
    }
   ],
   "source": [
    "print(obs_df.loc[idx,swgw])\n",
    "print(diff_sort.loc[idx])"
   ]
  },
  {
   "cell_type": "code",
   "execution_count": 14,
   "metadata": {},
   "outputs": [],
   "source": [
    "pst.observation_data.loc[:,\"obsval\"] = obs_df.loc[idx,pst.obs_names]\n",
    "pst.observation_data.loc[pst.nnz_obs_names,\"weight\"] = 10.0"
   ]
  },
  {
   "cell_type": "markdown",
   "metadata": {},
   "source": [
    "Now, it is custom to add noise to the observed values...we will use the classic Gaussian noise...zero mean and standard deviation of 1 over the weight"
   ]
  },
  {
   "cell_type": "code",
   "execution_count": 15,
   "metadata": {},
   "outputs": [],
   "source": [
    "# np.random.seed = 0\n",
    "# print(np.random.seed)\n",
    "# std = 1.0 / pst.observation_data.loc[pst.nnz_obs_names,\"weight\"].mean()\n",
    "# noise = np.random.normal(0,std,size=pst.nnz_obs)\n",
    "# pst.observation_data.loc[pst.nnz_obs_names,\"obsval\"] += noise"
   ]
  },
  {
   "cell_type": "code",
   "execution_count": 16,
   "metadata": {},
   "outputs": [],
   "source": [
    "pst.write(os.path.join(t_d,\"freyberg.pst\"))\n",
    "pyemu.os_utils.run(\"pestpp-ies freyberg.pst\",cwd=t_d)"
   ]
  },
  {
   "cell_type": "code",
   "execution_count": 17,
   "metadata": {},
   "outputs": [
    {
     "name": "stdout",
     "output_type": "stream",
     "text": [
      "133.02210727406347\n"
     ]
    },
    {
     "data": {
      "text/html": [
       "<div>\n",
       "<style scoped>\n",
       "    .dataframe tbody tr th:only-of-type {\n",
       "        vertical-align: middle;\n",
       "    }\n",
       "\n",
       "    .dataframe tbody tr th {\n",
       "        vertical-align: top;\n",
       "    }\n",
       "\n",
       "    .dataframe thead th {\n",
       "        text-align: right;\n",
       "    }\n",
       "</style>\n",
       "<table border=\"1\" class=\"dataframe\">\n",
       "  <thead>\n",
       "    <tr style=\"text-align: right;\">\n",
       "      <th></th>\n",
       "      <th>name</th>\n",
       "      <th>group</th>\n",
       "      <th>measured</th>\n",
       "      <th>modelled</th>\n",
       "      <th>residual</th>\n",
       "      <th>weight</th>\n",
       "    </tr>\n",
       "    <tr>\n",
       "      <th>name</th>\n",
       "      <th></th>\n",
       "      <th></th>\n",
       "      <th></th>\n",
       "      <th></th>\n",
       "      <th></th>\n",
       "      <th></th>\n",
       "    </tr>\n",
       "  </thead>\n",
       "  <tbody>\n",
       "    <tr>\n",
       "      <th>hds_00_002_009_000</th>\n",
       "      <td>hds_00_002_009_000</td>\n",
       "      <td>calhead</td>\n",
       "      <td>36.955250</td>\n",
       "      <td>37.107498</td>\n",
       "      <td>-0.152248</td>\n",
       "      <td>10.0</td>\n",
       "    </tr>\n",
       "    <tr>\n",
       "      <th>hds_00_002_015_000</th>\n",
       "      <td>hds_00_002_015_000</td>\n",
       "      <td>calhead</td>\n",
       "      <td>34.576363</td>\n",
       "      <td>35.045185</td>\n",
       "      <td>-0.468822</td>\n",
       "      <td>10.0</td>\n",
       "    </tr>\n",
       "    <tr>\n",
       "      <th>hds_00_003_008_000</th>\n",
       "      <td>hds_00_003_008_000</td>\n",
       "      <td>calhead</td>\n",
       "      <td>36.992844</td>\n",
       "      <td>37.397289</td>\n",
       "      <td>-0.404446</td>\n",
       "      <td>10.0</td>\n",
       "    </tr>\n",
       "    <tr>\n",
       "      <th>hds_00_009_001_000</th>\n",
       "      <td>hds_00_009_001_000</td>\n",
       "      <td>calhead</td>\n",
       "      <td>38.792450</td>\n",
       "      <td>39.546417</td>\n",
       "      <td>-0.753967</td>\n",
       "      <td>10.0</td>\n",
       "    </tr>\n",
       "    <tr>\n",
       "      <th>hds_00_013_010_000</th>\n",
       "      <td>hds_00_013_010_000</td>\n",
       "      <td>calhead</td>\n",
       "      <td>35.291306</td>\n",
       "      <td>35.571774</td>\n",
       "      <td>-0.280468</td>\n",
       "      <td>10.0</td>\n",
       "    </tr>\n",
       "    <tr>\n",
       "      <th>hds_00_015_016_000</th>\n",
       "      <td>hds_00_015_016_000</td>\n",
       "      <td>calhead</td>\n",
       "      <td>34.760986</td>\n",
       "      <td>34.835716</td>\n",
       "      <td>-0.074730</td>\n",
       "      <td>10.0</td>\n",
       "    </tr>\n",
       "    <tr>\n",
       "      <th>hds_00_021_010_000</th>\n",
       "      <td>hds_00_021_010_000</td>\n",
       "      <td>calhead</td>\n",
       "      <td>35.167488</td>\n",
       "      <td>35.386250</td>\n",
       "      <td>-0.218761</td>\n",
       "      <td>10.0</td>\n",
       "    </tr>\n",
       "    <tr>\n",
       "      <th>hds_00_022_015_000</th>\n",
       "      <td>hds_00_022_015_000</td>\n",
       "      <td>calhead</td>\n",
       "      <td>34.573235</td>\n",
       "      <td>34.577492</td>\n",
       "      <td>-0.004257</td>\n",
       "      <td>10.0</td>\n",
       "    </tr>\n",
       "    <tr>\n",
       "      <th>hds_00_024_004_000</th>\n",
       "      <td>hds_00_024_004_000</td>\n",
       "      <td>calhead</td>\n",
       "      <td>36.454193</td>\n",
       "      <td>36.760464</td>\n",
       "      <td>-0.306271</td>\n",
       "      <td>10.0</td>\n",
       "    </tr>\n",
       "    <tr>\n",
       "      <th>hds_00_026_006_000</th>\n",
       "      <td>hds_00_026_006_000</td>\n",
       "      <td>calhead</td>\n",
       "      <td>35.657467</td>\n",
       "      <td>35.896149</td>\n",
       "      <td>-0.238682</td>\n",
       "      <td>10.0</td>\n",
       "    </tr>\n",
       "    <tr>\n",
       "      <th>hds_00_029_015_000</th>\n",
       "      <td>hds_00_029_015_000</td>\n",
       "      <td>calhead</td>\n",
       "      <td>34.325661</td>\n",
       "      <td>34.453842</td>\n",
       "      <td>-0.128181</td>\n",
       "      <td>10.0</td>\n",
       "    </tr>\n",
       "    <tr>\n",
       "      <th>hds_00_033_007_000</th>\n",
       "      <td>hds_00_033_007_000</td>\n",
       "      <td>calhead</td>\n",
       "      <td>34.909630</td>\n",
       "      <td>34.678810</td>\n",
       "      <td>0.230820</td>\n",
       "      <td>10.0</td>\n",
       "    </tr>\n",
       "    <tr>\n",
       "      <th>hds_00_034_010_000</th>\n",
       "      <td>hds_00_034_010_000</td>\n",
       "      <td>calhead</td>\n",
       "      <td>34.169098</td>\n",
       "      <td>34.118073</td>\n",
       "      <td>0.051025</td>\n",
       "      <td>10.0</td>\n",
       "    </tr>\n",
       "  </tbody>\n",
       "</table>\n",
       "</div>"
      ],
      "text/plain": [
       "                                  name    group   measured   modelled  \\\n",
       "name                                                                    \n",
       "hds_00_002_009_000  hds_00_002_009_000  calhead  36.955250  37.107498   \n",
       "hds_00_002_015_000  hds_00_002_015_000  calhead  34.576363  35.045185   \n",
       "hds_00_003_008_000  hds_00_003_008_000  calhead  36.992844  37.397289   \n",
       "hds_00_009_001_000  hds_00_009_001_000  calhead  38.792450  39.546417   \n",
       "hds_00_013_010_000  hds_00_013_010_000  calhead  35.291306  35.571774   \n",
       "hds_00_015_016_000  hds_00_015_016_000  calhead  34.760986  34.835716   \n",
       "hds_00_021_010_000  hds_00_021_010_000  calhead  35.167488  35.386250   \n",
       "hds_00_022_015_000  hds_00_022_015_000  calhead  34.573235  34.577492   \n",
       "hds_00_024_004_000  hds_00_024_004_000  calhead  36.454193  36.760464   \n",
       "hds_00_026_006_000  hds_00_026_006_000  calhead  35.657467  35.896149   \n",
       "hds_00_029_015_000  hds_00_029_015_000  calhead  34.325661  34.453842   \n",
       "hds_00_033_007_000  hds_00_033_007_000  calhead  34.909630  34.678810   \n",
       "hds_00_034_010_000  hds_00_034_010_000  calhead  34.169098  34.118073   \n",
       "\n",
       "                    residual  weight  \n",
       "name                                  \n",
       "hds_00_002_009_000 -0.152248    10.0  \n",
       "hds_00_002_015_000 -0.468822    10.0  \n",
       "hds_00_003_008_000 -0.404446    10.0  \n",
       "hds_00_009_001_000 -0.753967    10.0  \n",
       "hds_00_013_010_000 -0.280468    10.0  \n",
       "hds_00_015_016_000 -0.074730    10.0  \n",
       "hds_00_021_010_000 -0.218761    10.0  \n",
       "hds_00_022_015_000 -0.004257    10.0  \n",
       "hds_00_024_004_000 -0.306271    10.0  \n",
       "hds_00_026_006_000 -0.238682    10.0  \n",
       "hds_00_029_015_000 -0.128181    10.0  \n",
       "hds_00_033_007_000  0.230820    10.0  \n",
       "hds_00_034_010_000  0.051025    10.0  "
      ]
     },
     "execution_count": 17,
     "metadata": {},
     "output_type": "execute_result"
    }
   ],
   "source": [
    "pst = pyemu.Pst(os.path.join(t_d,\"freyberg.pst\"))\n",
    "print(pst.phi)\n",
    "pst.res.loc[pst.nnz_obs_names,:]"
   ]
  },
  {
   "cell_type": "markdown",
   "metadata": {},
   "source": [
    "Just to make sure we have everything working right, we should be able to load the truth parameters, run the model once and have a (near-)zero `phi`:"
   ]
  },
  {
   "cell_type": "code",
   "execution_count": 18,
   "metadata": {},
   "outputs": [],
   "source": [
    "par_df = pd.read_csv(os.path.join(m_d,\"sweep_in.csv\"),index_col=0)\n",
    "pst.parameter_data.loc[:,\"parval1\"] = par_df.loc[idx,pst.par_names]\n",
    "pst.write(os.path.join(m_d,\"test.pst\"))\n",
    "pyemu.os_utils.run(\"pestpp-ies.exe test.pst\",cwd=m_d)"
   ]
  },
  {
   "cell_type": "code",
   "execution_count": 19,
   "metadata": {},
   "outputs": [
    {
     "name": "stdout",
     "output_type": "stream",
     "text": [
      "8.71020783292314e-17\n"
     ]
    },
    {
     "data": {
      "text/html": [
       "<div>\n",
       "<style scoped>\n",
       "    .dataframe tbody tr th:only-of-type {\n",
       "        vertical-align: middle;\n",
       "    }\n",
       "\n",
       "    .dataframe tbody tr th {\n",
       "        vertical-align: top;\n",
       "    }\n",
       "\n",
       "    .dataframe thead th {\n",
       "        text-align: right;\n",
       "    }\n",
       "</style>\n",
       "<table border=\"1\" class=\"dataframe\">\n",
       "  <thead>\n",
       "    <tr style=\"text-align: right;\">\n",
       "      <th></th>\n",
       "      <th>name</th>\n",
       "      <th>group</th>\n",
       "      <th>measured</th>\n",
       "      <th>modelled</th>\n",
       "      <th>residual</th>\n",
       "      <th>weight</th>\n",
       "    </tr>\n",
       "    <tr>\n",
       "      <th>name</th>\n",
       "      <th></th>\n",
       "      <th></th>\n",
       "      <th></th>\n",
       "      <th></th>\n",
       "      <th></th>\n",
       "      <th></th>\n",
       "    </tr>\n",
       "  </thead>\n",
       "  <tbody>\n",
       "    <tr>\n",
       "      <th>hds_00_002_009_000</th>\n",
       "      <td>hds_00_002_009_000</td>\n",
       "      <td>calhead</td>\n",
       "      <td>36.955250</td>\n",
       "      <td>36.955250</td>\n",
       "      <td>-3.769500e-10</td>\n",
       "      <td>10.0</td>\n",
       "    </tr>\n",
       "    <tr>\n",
       "      <th>hds_00_002_015_000</th>\n",
       "      <td>hds_00_002_015_000</td>\n",
       "      <td>calhead</td>\n",
       "      <td>34.576363</td>\n",
       "      <td>34.576363</td>\n",
       "      <td>1.367155e-10</td>\n",
       "      <td>10.0</td>\n",
       "    </tr>\n",
       "    <tr>\n",
       "      <th>hds_00_003_008_000</th>\n",
       "      <td>hds_00_003_008_000</td>\n",
       "      <td>calhead</td>\n",
       "      <td>36.992844</td>\n",
       "      <td>36.992844</td>\n",
       "      <td>7.031531e-11</td>\n",
       "      <td>10.0</td>\n",
       "    </tr>\n",
       "    <tr>\n",
       "      <th>hds_00_009_001_000</th>\n",
       "      <td>hds_00_009_001_000</td>\n",
       "      <td>calhead</td>\n",
       "      <td>38.792450</td>\n",
       "      <td>38.792450</td>\n",
       "      <td>-1.718732e-10</td>\n",
       "      <td>10.0</td>\n",
       "    </tr>\n",
       "    <tr>\n",
       "      <th>hds_00_013_010_000</th>\n",
       "      <td>hds_00_013_010_000</td>\n",
       "      <td>calhead</td>\n",
       "      <td>35.291306</td>\n",
       "      <td>35.291306</td>\n",
       "      <td>7.815970e-12</td>\n",
       "      <td>10.0</td>\n",
       "    </tr>\n",
       "    <tr>\n",
       "      <th>hds_00_015_016_000</th>\n",
       "      <td>hds_00_015_016_000</td>\n",
       "      <td>calhead</td>\n",
       "      <td>34.760986</td>\n",
       "      <td>34.760986</td>\n",
       "      <td>-1.249987e-10</td>\n",
       "      <td>10.0</td>\n",
       "    </tr>\n",
       "    <tr>\n",
       "      <th>hds_00_021_010_000</th>\n",
       "      <td>hds_00_021_010_000</td>\n",
       "      <td>calhead</td>\n",
       "      <td>35.167488</td>\n",
       "      <td>35.167488</td>\n",
       "      <td>-1.445315e-10</td>\n",
       "      <td>10.0</td>\n",
       "    </tr>\n",
       "    <tr>\n",
       "      <th>hds_00_022_015_000</th>\n",
       "      <td>hds_00_022_015_000</td>\n",
       "      <td>calhead</td>\n",
       "      <td>34.573235</td>\n",
       "      <td>34.573235</td>\n",
       "      <td>-1.054659e-10</td>\n",
       "      <td>10.0</td>\n",
       "    </tr>\n",
       "    <tr>\n",
       "      <th>hds_00_024_004_000</th>\n",
       "      <td>hds_00_024_004_000</td>\n",
       "      <td>calhead</td>\n",
       "      <td>36.454193</td>\n",
       "      <td>36.454193</td>\n",
       "      <td>-2.343725e-10</td>\n",
       "      <td>10.0</td>\n",
       "    </tr>\n",
       "    <tr>\n",
       "      <th>hds_00_026_006_000</th>\n",
       "      <td>hds_00_026_006_000</td>\n",
       "      <td>calhead</td>\n",
       "      <td>35.657467</td>\n",
       "      <td>35.657467</td>\n",
       "      <td>-4.277325e-10</td>\n",
       "      <td>10.0</td>\n",
       "    </tr>\n",
       "    <tr>\n",
       "      <th>hds_00_029_015_000</th>\n",
       "      <td>hds_00_029_015_000</td>\n",
       "      <td>calhead</td>\n",
       "      <td>34.325661</td>\n",
       "      <td>34.325661</td>\n",
       "      <td>4.335945e-10</td>\n",
       "      <td>10.0</td>\n",
       "    </tr>\n",
       "    <tr>\n",
       "      <th>hds_00_033_007_000</th>\n",
       "      <td>hds_00_033_007_000</td>\n",
       "      <td>calhead</td>\n",
       "      <td>34.909630</td>\n",
       "      <td>34.909630</td>\n",
       "      <td>2.226557e-10</td>\n",
       "      <td>10.0</td>\n",
       "    </tr>\n",
       "    <tr>\n",
       "      <th>hds_00_034_010_000</th>\n",
       "      <td>hds_00_034_010_000</td>\n",
       "      <td>calhead</td>\n",
       "      <td>34.169098</td>\n",
       "      <td>34.169098</td>\n",
       "      <td>-3.906280e-10</td>\n",
       "      <td>10.0</td>\n",
       "    </tr>\n",
       "  </tbody>\n",
       "</table>\n",
       "</div>"
      ],
      "text/plain": [
       "                                  name    group   measured   modelled  \\\n",
       "name                                                                    \n",
       "hds_00_002_009_000  hds_00_002_009_000  calhead  36.955250  36.955250   \n",
       "hds_00_002_015_000  hds_00_002_015_000  calhead  34.576363  34.576363   \n",
       "hds_00_003_008_000  hds_00_003_008_000  calhead  36.992844  36.992844   \n",
       "hds_00_009_001_000  hds_00_009_001_000  calhead  38.792450  38.792450   \n",
       "hds_00_013_010_000  hds_00_013_010_000  calhead  35.291306  35.291306   \n",
       "hds_00_015_016_000  hds_00_015_016_000  calhead  34.760986  34.760986   \n",
       "hds_00_021_010_000  hds_00_021_010_000  calhead  35.167488  35.167488   \n",
       "hds_00_022_015_000  hds_00_022_015_000  calhead  34.573235  34.573235   \n",
       "hds_00_024_004_000  hds_00_024_004_000  calhead  36.454193  36.454193   \n",
       "hds_00_026_006_000  hds_00_026_006_000  calhead  35.657467  35.657467   \n",
       "hds_00_029_015_000  hds_00_029_015_000  calhead  34.325661  34.325661   \n",
       "hds_00_033_007_000  hds_00_033_007_000  calhead  34.909630  34.909630   \n",
       "hds_00_034_010_000  hds_00_034_010_000  calhead  34.169098  34.169098   \n",
       "\n",
       "                        residual  weight  \n",
       "name                                      \n",
       "hds_00_002_009_000 -3.769500e-10    10.0  \n",
       "hds_00_002_015_000  1.367155e-10    10.0  \n",
       "hds_00_003_008_000  7.031531e-11    10.0  \n",
       "hds_00_009_001_000 -1.718732e-10    10.0  \n",
       "hds_00_013_010_000  7.815970e-12    10.0  \n",
       "hds_00_015_016_000 -1.249987e-10    10.0  \n",
       "hds_00_021_010_000 -1.445315e-10    10.0  \n",
       "hds_00_022_015_000 -1.054659e-10    10.0  \n",
       "hds_00_024_004_000 -2.343725e-10    10.0  \n",
       "hds_00_026_006_000 -4.277325e-10    10.0  \n",
       "hds_00_029_015_000  4.335945e-10    10.0  \n",
       "hds_00_033_007_000  2.226557e-10    10.0  \n",
       "hds_00_034_010_000 -3.906280e-10    10.0  "
      ]
     },
     "execution_count": 19,
     "metadata": {},
     "output_type": "execute_result"
    }
   ],
   "source": [
    "pst = pyemu.Pst(os.path.join(m_d,\"test.pst\"))\n",
    "print(pst.phi)\n",
    "pst.res.loc[pst.nnz_obs_names,:]"
   ]
  },
  {
   "cell_type": "code",
   "execution_count": 21,
   "metadata": {},
   "outputs": [],
   "source": [
    "m = flopy.modflow.Modflow.load(\"freyberg.nam\",model_ws=m_d)"
   ]
  },
  {
   "cell_type": "code",
   "execution_count": 29,
   "metadata": {},
   "outputs": [
    {
     "data": {
      "text/plain": [
       "<matplotlib.axes._subplots.AxesSubplot at 0x10e046278>"
      ]
     },
     "execution_count": 29,
     "metadata": {},
     "output_type": "execute_result"
    },
    {
     "data": {
      "image/png": "[encoded data removed]",
      "text/plain": [
       "<Figure size 432x288 with 2 Axes>"
      ]
     },
     "metadata": {
      "needs_background": "light"
     },
     "output_type": "display_data"
    }
   ],
   "source": [
    "m.upw.vka[1].plot(colorbar=True)"
   ]
  },
  {
   "cell_type": "code",
   "execution_count": null,
   "metadata": {},
   "outputs": [],
   "source": []
  }
 ],
 "metadata": {
  "kernelspec": {
   "display_name": "Python 3",
   "language": "python",
   "name": "python3"
  },
  "language_info": {
   "codemirror_mode": {
    "name": "ipython",
    "version": 3
   },
   "file_extension": ".py",
   "mimetype": "text/x-python",
   "name": "python",
   "nbconvert_exporter": "python",
   "pygments_lexer": "ipython3",
   "version": "3.5.6"
  }
 },
 "nbformat": 4,
 "nbformat_minor": 2
}
