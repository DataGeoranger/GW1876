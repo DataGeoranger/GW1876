{
 "cells": [
  {
   "cell_type": "markdown",
   "metadata": {},
   "source": [
    "# PESTPP-GLM"
   ]
  },
  {
   "cell_type": "code",
   "execution_count": 1,
   "metadata": {},
   "outputs": [
    {
     "name": "stdout",
     "output_type": "stream",
     "text": [
      "flopy is installed in /Users/jeremyw/Dev/flopy/flopy\n"
     ]
    }
   ],
   "source": [
    "import os\n",
    "import shutil\n",
    "import numpy as np\n",
    "import pandas as pd\n",
    "import matplotlib.pyplot as plt\n",
    "import flopy\n",
    "import pyemu\n"
   ]
  },
  {
   "cell_type": "code",
   "execution_count": 2,
   "metadata": {},
   "outputs": [],
   "source": [
    "t_d = \"template\"\n",
    "m_d = \"master_glm\""
   ]
  },
  {
   "cell_type": "code",
   "execution_count": 3,
   "metadata": {
    "scrolled": true
   },
   "outputs": [
    {
     "data": {
      "text/html": [
       "<div>\n",
       "<style scoped>\n",
       "    .dataframe tbody tr th:only-of-type {\n",
       "        vertical-align: middle;\n",
       "    }\n",
       "\n",
       "    .dataframe tbody tr th {\n",
       "        vertical-align: top;\n",
       "    }\n",
       "\n",
       "    .dataframe thead th {\n",
       "        text-align: right;\n",
       "    }\n",
       "</style>\n",
       "<table border=\"1\" class=\"dataframe\">\n",
       "  <thead>\n",
       "    <tr style=\"text-align: right;\">\n",
       "      <th></th>\n",
       "      <th>type</th>\n",
       "      <th>transform</th>\n",
       "      <th>count</th>\n",
       "      <th>initial value</th>\n",
       "      <th>upper bound</th>\n",
       "      <th>lower bound</th>\n",
       "      <th>standard deviation</th>\n",
       "    </tr>\n",
       "  </thead>\n",
       "  <tbody>\n",
       "    <tr>\n",
       "      <th>pp_strt1</th>\n",
       "      <td>pp_strt1</td>\n",
       "      <td>log</td>\n",
       "      <td>67</td>\n",
       "      <td>0</td>\n",
       "      <td>0.0211893</td>\n",
       "      <td>-0.0222764</td>\n",
       "      <td>0.0108664</td>\n",
       "    </tr>\n",
       "    <tr>\n",
       "      <th>grvka3</th>\n",
       "      <td>grvka3</td>\n",
       "      <td>log</td>\n",
       "      <td>705</td>\n",
       "      <td>0</td>\n",
       "      <td>1</td>\n",
       "      <td>-1</td>\n",
       "      <td>0.5</td>\n",
       "    </tr>\n",
       "    <tr>\n",
       "      <th>grrech2</th>\n",
       "      <td>grrech2</td>\n",
       "      <td>log</td>\n",
       "      <td>705</td>\n",
       "      <td>0</td>\n",
       "      <td>0.0413927</td>\n",
       "      <td>-0.0457575</td>\n",
       "      <td>0.0217875</td>\n",
       "    </tr>\n",
       "    <tr>\n",
       "      <th>vka7_cn</th>\n",
       "      <td>vka7_cn</td>\n",
       "      <td>log</td>\n",
       "      <td>1</td>\n",
       "      <td>0</td>\n",
       "      <td>1</td>\n",
       "      <td>-1</td>\n",
       "      <td>0.5</td>\n",
       "    </tr>\n",
       "    <tr>\n",
       "      <th>welflux</th>\n",
       "      <td>welflux</td>\n",
       "      <td>log</td>\n",
       "      <td>2</td>\n",
       "      <td>0 to 0.176091</td>\n",
       "      <td>0.176091 to 0.30103</td>\n",
       "      <td>-0.30103 to     0</td>\n",
       "      <td>0.0752575 to 0.11928</td>\n",
       "    </tr>\n",
       "    <tr>\n",
       "      <th>grhk5</th>\n",
       "      <td>grhk5</td>\n",
       "      <td>log</td>\n",
       "      <td>705</td>\n",
       "      <td>0</td>\n",
       "      <td>1</td>\n",
       "      <td>-1</td>\n",
       "      <td>0.5</td>\n",
       "    </tr>\n",
       "    <tr>\n",
       "      <th>drncond_k00</th>\n",
       "      <td>drncond_k00</td>\n",
       "      <td>log</td>\n",
       "      <td>10</td>\n",
       "      <td>0</td>\n",
       "      <td>1</td>\n",
       "      <td>-1</td>\n",
       "      <td>0.5</td>\n",
       "    </tr>\n",
       "    <tr>\n",
       "      <th>ss6_cn</th>\n",
       "      <td>ss6_cn</td>\n",
       "      <td>log</td>\n",
       "      <td>1</td>\n",
       "      <td>0</td>\n",
       "      <td>1</td>\n",
       "      <td>-1</td>\n",
       "      <td>0.5</td>\n",
       "    </tr>\n",
       "    <tr>\n",
       "      <th>ss7_cn</th>\n",
       "      <td>ss7_cn</td>\n",
       "      <td>log</td>\n",
       "      <td>1</td>\n",
       "      <td>0</td>\n",
       "      <td>1</td>\n",
       "      <td>-1</td>\n",
       "      <td>0.5</td>\n",
       "    </tr>\n",
       "    <tr>\n",
       "      <th>sy6_cn</th>\n",
       "      <td>sy6_cn</td>\n",
       "      <td>log</td>\n",
       "      <td>1</td>\n",
       "      <td>0</td>\n",
       "      <td>0.243038</td>\n",
       "      <td>-0.60206</td>\n",
       "      <td>0.211275</td>\n",
       "    </tr>\n",
       "    <tr>\n",
       "      <th>pp_sy0</th>\n",
       "      <td>pp_sy0</td>\n",
       "      <td>log</td>\n",
       "      <td>67</td>\n",
       "      <td>0</td>\n",
       "      <td>0.243038</td>\n",
       "      <td>-0.60206</td>\n",
       "      <td>0.211275</td>\n",
       "    </tr>\n",
       "    <tr>\n",
       "      <th>sy8_cn</th>\n",
       "      <td>sy8_cn</td>\n",
       "      <td>log</td>\n",
       "      <td>1</td>\n",
       "      <td>0</td>\n",
       "      <td>0.243038</td>\n",
       "      <td>-0.60206</td>\n",
       "      <td>0.211275</td>\n",
       "    </tr>\n",
       "    <tr>\n",
       "      <th>grstrt4</th>\n",
       "      <td>grstrt4</td>\n",
       "      <td>log</td>\n",
       "      <td>705</td>\n",
       "      <td>0</td>\n",
       "      <td>0.0211893</td>\n",
       "      <td>-0.0222764</td>\n",
       "      <td>0.0108664</td>\n",
       "    </tr>\n",
       "    <tr>\n",
       "      <th>hk8_cn</th>\n",
       "      <td>hk8_cn</td>\n",
       "      <td>log</td>\n",
       "      <td>1</td>\n",
       "      <td>0</td>\n",
       "      <td>1</td>\n",
       "      <td>-1</td>\n",
       "      <td>0.5</td>\n",
       "    </tr>\n",
       "    <tr>\n",
       "      <th>strt8_cn</th>\n",
       "      <td>strt8_cn</td>\n",
       "      <td>log</td>\n",
       "      <td>1</td>\n",
       "      <td>0</td>\n",
       "      <td>0.0211893</td>\n",
       "      <td>-0.0222764</td>\n",
       "      <td>0.0108664</td>\n",
       "    </tr>\n",
       "    <tr>\n",
       "      <th>pp_strt2</th>\n",
       "      <td>pp_strt2</td>\n",
       "      <td>log</td>\n",
       "      <td>67</td>\n",
       "      <td>0</td>\n",
       "      <td>0.0211893</td>\n",
       "      <td>-0.0222764</td>\n",
       "      <td>0.0108664</td>\n",
       "    </tr>\n",
       "    <tr>\n",
       "      <th>rech5_cn</th>\n",
       "      <td>rech5_cn</td>\n",
       "      <td>log</td>\n",
       "      <td>1</td>\n",
       "      <td>-0.39794</td>\n",
       "      <td>-0.09691</td>\n",
       "      <td>-1</td>\n",
       "      <td>0.225772</td>\n",
       "    </tr>\n",
       "    <tr>\n",
       "      <th>pp_hk1</th>\n",
       "      <td>pp_hk1</td>\n",
       "      <td>log</td>\n",
       "      <td>67</td>\n",
       "      <td>0</td>\n",
       "      <td>1</td>\n",
       "      <td>-1</td>\n",
       "      <td>0.5</td>\n",
       "    </tr>\n",
       "    <tr>\n",
       "      <th>pp_hk0</th>\n",
       "      <td>pp_hk0</td>\n",
       "      <td>log</td>\n",
       "      <td>67</td>\n",
       "      <td>0</td>\n",
       "      <td>1</td>\n",
       "      <td>-1</td>\n",
       "      <td>0.5</td>\n",
       "    </tr>\n",
       "    <tr>\n",
       "      <th>hk6_cn</th>\n",
       "      <td>hk6_cn</td>\n",
       "      <td>log</td>\n",
       "      <td>1</td>\n",
       "      <td>0</td>\n",
       "      <td>1</td>\n",
       "      <td>-1</td>\n",
       "      <td>0.5</td>\n",
       "    </tr>\n",
       "    <tr>\n",
       "      <th>hk7_cn</th>\n",
       "      <td>hk7_cn</td>\n",
       "      <td>log</td>\n",
       "      <td>1</td>\n",
       "      <td>0</td>\n",
       "      <td>1</td>\n",
       "      <td>-1</td>\n",
       "      <td>0.5</td>\n",
       "    </tr>\n",
       "    <tr>\n",
       "      <th>strt7_cn</th>\n",
       "      <td>strt7_cn</td>\n",
       "      <td>log</td>\n",
       "      <td>1</td>\n",
       "      <td>0</td>\n",
       "      <td>0.0211893</td>\n",
       "      <td>-0.0222764</td>\n",
       "      <td>0.0108664</td>\n",
       "    </tr>\n",
       "    <tr>\n",
       "      <th>pp_ss2</th>\n",
       "      <td>pp_ss2</td>\n",
       "      <td>log</td>\n",
       "      <td>67</td>\n",
       "      <td>0</td>\n",
       "      <td>1</td>\n",
       "      <td>-1</td>\n",
       "      <td>0.5</td>\n",
       "    </tr>\n",
       "    <tr>\n",
       "      <th>pp_strt0</th>\n",
       "      <td>pp_strt0</td>\n",
       "      <td>log</td>\n",
       "      <td>67</td>\n",
       "      <td>0</td>\n",
       "      <td>0.0211893</td>\n",
       "      <td>-0.0222764</td>\n",
       "      <td>0.0108664</td>\n",
       "    </tr>\n",
       "    <tr>\n",
       "      <th>sy7_cn</th>\n",
       "      <td>sy7_cn</td>\n",
       "      <td>log</td>\n",
       "      <td>1</td>\n",
       "      <td>0</td>\n",
       "      <td>0.243038</td>\n",
       "      <td>-0.60206</td>\n",
       "      <td>0.211275</td>\n",
       "    </tr>\n",
       "    <tr>\n",
       "      <th>grsy4</th>\n",
       "      <td>grsy4</td>\n",
       "      <td>log</td>\n",
       "      <td>705</td>\n",
       "      <td>0</td>\n",
       "      <td>0.243038</td>\n",
       "      <td>-0.60206</td>\n",
       "      <td>0.211275</td>\n",
       "    </tr>\n",
       "    <tr>\n",
       "      <th>grss4</th>\n",
       "      <td>grss4</td>\n",
       "      <td>log</td>\n",
       "      <td>705</td>\n",
       "      <td>0</td>\n",
       "      <td>1</td>\n",
       "      <td>-1</td>\n",
       "      <td>0.5</td>\n",
       "    </tr>\n",
       "    <tr>\n",
       "      <th>grvka4</th>\n",
       "      <td>grvka4</td>\n",
       "      <td>log</td>\n",
       "      <td>705</td>\n",
       "      <td>0</td>\n",
       "      <td>1</td>\n",
       "      <td>-1</td>\n",
       "      <td>0.5</td>\n",
       "    </tr>\n",
       "    <tr>\n",
       "      <th>grstrt3</th>\n",
       "      <td>grstrt3</td>\n",
       "      <td>log</td>\n",
       "      <td>705</td>\n",
       "      <td>0</td>\n",
       "      <td>0.0211893</td>\n",
       "      <td>-0.0222764</td>\n",
       "      <td>0.0108664</td>\n",
       "    </tr>\n",
       "    <tr>\n",
       "      <th>pp_sy2</th>\n",
       "      <td>pp_sy2</td>\n",
       "      <td>log</td>\n",
       "      <td>67</td>\n",
       "      <td>0</td>\n",
       "      <td>0.243038</td>\n",
       "      <td>-0.60206</td>\n",
       "      <td>0.211275</td>\n",
       "    </tr>\n",
       "    <tr>\n",
       "      <th>grsy3</th>\n",
       "      <td>grsy3</td>\n",
       "      <td>log</td>\n",
       "      <td>705</td>\n",
       "      <td>0</td>\n",
       "      <td>0.243038</td>\n",
       "      <td>-0.60206</td>\n",
       "      <td>0.211275</td>\n",
       "    </tr>\n",
       "    <tr>\n",
       "      <th>rech4_cn</th>\n",
       "      <td>rech4_cn</td>\n",
       "      <td>log</td>\n",
       "      <td>1</td>\n",
       "      <td>0</td>\n",
       "      <td>0.0791812</td>\n",
       "      <td>-0.09691</td>\n",
       "      <td>0.0440228</td>\n",
       "    </tr>\n",
       "    <tr>\n",
       "      <th>grss3</th>\n",
       "      <td>grss3</td>\n",
       "      <td>log</td>\n",
       "      <td>705</td>\n",
       "      <td>0</td>\n",
       "      <td>1</td>\n",
       "      <td>-1</td>\n",
       "      <td>0.5</td>\n",
       "    </tr>\n",
       "    <tr>\n",
       "      <th>grvka5</th>\n",
       "      <td>grvka5</td>\n",
       "      <td>log</td>\n",
       "      <td>705</td>\n",
       "      <td>0</td>\n",
       "      <td>1</td>\n",
       "      <td>-1</td>\n",
       "      <td>0.5</td>\n",
       "    </tr>\n",
       "    <tr>\n",
       "      <th>strt6_cn</th>\n",
       "      <td>strt6_cn</td>\n",
       "      <td>log</td>\n",
       "      <td>1</td>\n",
       "      <td>0</td>\n",
       "      <td>0.0211893</td>\n",
       "      <td>-0.0222764</td>\n",
       "      <td>0.0108664</td>\n",
       "    </tr>\n",
       "    <tr>\n",
       "      <th>grsy5</th>\n",
       "      <td>grsy5</td>\n",
       "      <td>log</td>\n",
       "      <td>705</td>\n",
       "      <td>0</td>\n",
       "      <td>0.243038</td>\n",
       "      <td>-0.60206</td>\n",
       "      <td>0.211275</td>\n",
       "    </tr>\n",
       "    <tr>\n",
       "      <th>pp_sy1</th>\n",
       "      <td>pp_sy1</td>\n",
       "      <td>log</td>\n",
       "      <td>67</td>\n",
       "      <td>0</td>\n",
       "      <td>0.243038</td>\n",
       "      <td>-0.60206</td>\n",
       "      <td>0.211275</td>\n",
       "    </tr>\n",
       "    <tr>\n",
       "      <th>grstrt5</th>\n",
       "      <td>grstrt5</td>\n",
       "      <td>log</td>\n",
       "      <td>705</td>\n",
       "      <td>0</td>\n",
       "      <td>0.0211893</td>\n",
       "      <td>-0.0222764</td>\n",
       "      <td>0.0108664</td>\n",
       "    </tr>\n",
       "    <tr>\n",
       "      <th>pp_rech1</th>\n",
       "      <td>pp_rech1</td>\n",
       "      <td>log</td>\n",
       "      <td>67</td>\n",
       "      <td>0</td>\n",
       "      <td>0.0413927</td>\n",
       "      <td>-0.0457575</td>\n",
       "      <td>0.0217875</td>\n",
       "    </tr>\n",
       "    <tr>\n",
       "      <th>grss5</th>\n",
       "      <td>grss5</td>\n",
       "      <td>log</td>\n",
       "      <td>705</td>\n",
       "      <td>0</td>\n",
       "      <td>1</td>\n",
       "      <td>-1</td>\n",
       "      <td>0.5</td>\n",
       "    </tr>\n",
       "    <tr>\n",
       "      <th>grhk4</th>\n",
       "      <td>grhk4</td>\n",
       "      <td>log</td>\n",
       "      <td>705</td>\n",
       "      <td>0</td>\n",
       "      <td>1</td>\n",
       "      <td>-1</td>\n",
       "      <td>0.5</td>\n",
       "    </tr>\n",
       "    <tr>\n",
       "      <th>pp_ss1</th>\n",
       "      <td>pp_ss1</td>\n",
       "      <td>log</td>\n",
       "      <td>67</td>\n",
       "      <td>0</td>\n",
       "      <td>1</td>\n",
       "      <td>-1</td>\n",
       "      <td>0.5</td>\n",
       "    </tr>\n",
       "    <tr>\n",
       "      <th>vka8_cn</th>\n",
       "      <td>vka8_cn</td>\n",
       "      <td>log</td>\n",
       "      <td>1</td>\n",
       "      <td>0</td>\n",
       "      <td>1</td>\n",
       "      <td>-1</td>\n",
       "      <td>0.5</td>\n",
       "    </tr>\n",
       "    <tr>\n",
       "      <th>grhk3</th>\n",
       "      <td>grhk3</td>\n",
       "      <td>log</td>\n",
       "      <td>705</td>\n",
       "      <td>0</td>\n",
       "      <td>1</td>\n",
       "      <td>-1</td>\n",
       "      <td>0.5</td>\n",
       "    </tr>\n",
       "    <tr>\n",
       "      <th>flow</th>\n",
       "      <td>flow</td>\n",
       "      <td>log</td>\n",
       "      <td>1</td>\n",
       "      <td>0</td>\n",
       "      <td>0.09691</td>\n",
       "      <td>-0.124939</td>\n",
       "      <td>0.0554622</td>\n",
       "    </tr>\n",
       "    <tr>\n",
       "      <th>pp_vka0</th>\n",
       "      <td>pp_vka0</td>\n",
       "      <td>log</td>\n",
       "      <td>67</td>\n",
       "      <td>0</td>\n",
       "      <td>1</td>\n",
       "      <td>-1</td>\n",
       "      <td>0.5</td>\n",
       "    </tr>\n",
       "    <tr>\n",
       "      <th>pp_hk2</th>\n",
       "      <td>pp_hk2</td>\n",
       "      <td>log</td>\n",
       "      <td>67</td>\n",
       "      <td>0</td>\n",
       "      <td>1</td>\n",
       "      <td>-1</td>\n",
       "      <td>0.5</td>\n",
       "    </tr>\n",
       "    <tr>\n",
       "      <th>pp_rech0</th>\n",
       "      <td>pp_rech0</td>\n",
       "      <td>log</td>\n",
       "      <td>67</td>\n",
       "      <td>0</td>\n",
       "      <td>0.0413927</td>\n",
       "      <td>-0.0457575</td>\n",
       "      <td>0.0217875</td>\n",
       "    </tr>\n",
       "    <tr>\n",
       "      <th>pp_ss0</th>\n",
       "      <td>pp_ss0</td>\n",
       "      <td>log</td>\n",
       "      <td>67</td>\n",
       "      <td>0</td>\n",
       "      <td>1</td>\n",
       "      <td>-1</td>\n",
       "      <td>0.5</td>\n",
       "    </tr>\n",
       "    <tr>\n",
       "      <th>strk</th>\n",
       "      <td>strk</td>\n",
       "      <td>log</td>\n",
       "      <td>40</td>\n",
       "      <td>0</td>\n",
       "      <td>2</td>\n",
       "      <td>-2</td>\n",
       "      <td>1</td>\n",
       "    </tr>\n",
       "    <tr>\n",
       "      <th>welflux_k02</th>\n",
       "      <td>welflux_k02</td>\n",
       "      <td>log</td>\n",
       "      <td>6</td>\n",
       "      <td>0</td>\n",
       "      <td>1</td>\n",
       "      <td>-1</td>\n",
       "      <td>0.5</td>\n",
       "    </tr>\n",
       "    <tr>\n",
       "      <th>pp_vka2</th>\n",
       "      <td>pp_vka2</td>\n",
       "      <td>log</td>\n",
       "      <td>67</td>\n",
       "      <td>0</td>\n",
       "      <td>1</td>\n",
       "      <td>-1</td>\n",
       "      <td>0.5</td>\n",
       "    </tr>\n",
       "    <tr>\n",
       "      <th>grrech3</th>\n",
       "      <td>grrech3</td>\n",
       "      <td>log</td>\n",
       "      <td>705</td>\n",
       "      <td>0</td>\n",
       "      <td>0.0413927</td>\n",
       "      <td>-0.0457575</td>\n",
       "      <td>0.0217875</td>\n",
       "    </tr>\n",
       "    <tr>\n",
       "      <th>pp_vka1</th>\n",
       "      <td>pp_vka1</td>\n",
       "      <td>log</td>\n",
       "      <td>67</td>\n",
       "      <td>0</td>\n",
       "      <td>1</td>\n",
       "      <td>-1</td>\n",
       "      <td>0.5</td>\n",
       "    </tr>\n",
       "    <tr>\n",
       "      <th>vka6_cn</th>\n",
       "      <td>vka6_cn</td>\n",
       "      <td>log</td>\n",
       "      <td>1</td>\n",
       "      <td>0</td>\n",
       "      <td>1</td>\n",
       "      <td>-1</td>\n",
       "      <td>0.5</td>\n",
       "    </tr>\n",
       "    <tr>\n",
       "      <th>ss8_cn</th>\n",
       "      <td>ss8_cn</td>\n",
       "      <td>log</td>\n",
       "      <td>1</td>\n",
       "      <td>0</td>\n",
       "      <td>1</td>\n",
       "      <td>-1</td>\n",
       "      <td>0.5</td>\n",
       "    </tr>\n",
       "  </tbody>\n",
       "</table>\n",
       "</div>"
      ],
      "text/plain": [
       "                    type transform  count      initial value  \\\n",
       "pp_strt1        pp_strt1       log     67                  0   \n",
       "grvka3            grvka3       log    705                  0   \n",
       "grrech2          grrech2       log    705                  0   \n",
       "vka7_cn          vka7_cn       log      1                  0   \n",
       "welflux          welflux       log      2      0 to 0.176091   \n",
       "grhk5              grhk5       log    705                  0   \n",
       "drncond_k00  drncond_k00       log     10                  0   \n",
       "ss6_cn            ss6_cn       log      1                  0   \n",
       "ss7_cn            ss7_cn       log      1                  0   \n",
       "sy6_cn            sy6_cn       log      1                  0   \n",
       "pp_sy0            pp_sy0       log     67                  0   \n",
       "sy8_cn            sy8_cn       log      1                  0   \n",
       "grstrt4          grstrt4       log    705                  0   \n",
       "hk8_cn            hk8_cn       log      1                  0   \n",
       "strt8_cn        strt8_cn       log      1                  0   \n",
       "pp_strt2        pp_strt2       log     67                  0   \n",
       "rech5_cn        rech5_cn       log      1           -0.39794   \n",
       "pp_hk1            pp_hk1       log     67                  0   \n",
       "pp_hk0            pp_hk0       log     67                  0   \n",
       "hk6_cn            hk6_cn       log      1                  0   \n",
       "hk7_cn            hk7_cn       log      1                  0   \n",
       "strt7_cn        strt7_cn       log      1                  0   \n",
       "pp_ss2            pp_ss2       log     67                  0   \n",
       "pp_strt0        pp_strt0       log     67                  0   \n",
       "sy7_cn            sy7_cn       log      1                  0   \n",
       "grsy4              grsy4       log    705                  0   \n",
       "grss4              grss4       log    705                  0   \n",
       "grvka4            grvka4       log    705                  0   \n",
       "grstrt3          grstrt3       log    705                  0   \n",
       "pp_sy2            pp_sy2       log     67                  0   \n",
       "grsy3              grsy3       log    705                  0   \n",
       "rech4_cn        rech4_cn       log      1                  0   \n",
       "grss3              grss3       log    705                  0   \n",
       "grvka5            grvka5       log    705                  0   \n",
       "strt6_cn        strt6_cn       log      1                  0   \n",
       "grsy5              grsy5       log    705                  0   \n",
       "pp_sy1            pp_sy1       log     67                  0   \n",
       "grstrt5          grstrt5       log    705                  0   \n",
       "pp_rech1        pp_rech1       log     67                  0   \n",
       "grss5              grss5       log    705                  0   \n",
       "grhk4              grhk4       log    705                  0   \n",
       "pp_ss1            pp_ss1       log     67                  0   \n",
       "vka8_cn          vka8_cn       log      1                  0   \n",
       "grhk3              grhk3       log    705                  0   \n",
       "flow                flow       log      1                  0   \n",
       "pp_vka0          pp_vka0       log     67                  0   \n",
       "pp_hk2            pp_hk2       log     67                  0   \n",
       "pp_rech0        pp_rech0       log     67                  0   \n",
       "pp_ss0            pp_ss0       log     67                  0   \n",
       "strk                strk       log     40                  0   \n",
       "welflux_k02  welflux_k02       log      6                  0   \n",
       "pp_vka2          pp_vka2       log     67                  0   \n",
       "grrech3          grrech3       log    705                  0   \n",
       "pp_vka1          pp_vka1       log     67                  0   \n",
       "vka6_cn          vka6_cn       log      1                  0   \n",
       "ss8_cn            ss8_cn       log      1                  0   \n",
       "\n",
       "                     upper bound        lower bound    standard deviation  \n",
       "pp_strt1               0.0211893         -0.0222764             0.0108664  \n",
       "grvka3                         1                 -1                   0.5  \n",
       "grrech2                0.0413927         -0.0457575             0.0217875  \n",
       "vka7_cn                        1                 -1                   0.5  \n",
       "welflux      0.176091 to 0.30103  -0.30103 to     0  0.0752575 to 0.11928  \n",
       "grhk5                          1                 -1                   0.5  \n",
       "drncond_k00                    1                 -1                   0.5  \n",
       "ss6_cn                         1                 -1                   0.5  \n",
       "ss7_cn                         1                 -1                   0.5  \n",
       "sy6_cn                  0.243038           -0.60206              0.211275  \n",
       "pp_sy0                  0.243038           -0.60206              0.211275  \n",
       "sy8_cn                  0.243038           -0.60206              0.211275  \n",
       "grstrt4                0.0211893         -0.0222764             0.0108664  \n",
       "hk8_cn                         1                 -1                   0.5  \n",
       "strt8_cn               0.0211893         -0.0222764             0.0108664  \n",
       "pp_strt2               0.0211893         -0.0222764             0.0108664  \n",
       "rech5_cn                -0.09691                 -1              0.225772  \n",
       "pp_hk1                         1                 -1                   0.5  \n",
       "pp_hk0                         1                 -1                   0.5  \n",
       "hk6_cn                         1                 -1                   0.5  \n",
       "hk7_cn                         1                 -1                   0.5  \n",
       "strt7_cn               0.0211893         -0.0222764             0.0108664  \n",
       "pp_ss2                         1                 -1                   0.5  \n",
       "pp_strt0               0.0211893         -0.0222764             0.0108664  \n",
       "sy7_cn                  0.243038           -0.60206              0.211275  \n",
       "grsy4                   0.243038           -0.60206              0.211275  \n",
       "grss4                          1                 -1                   0.5  \n",
       "grvka4                         1                 -1                   0.5  \n",
       "grstrt3                0.0211893         -0.0222764             0.0108664  \n",
       "pp_sy2                  0.243038           -0.60206              0.211275  \n",
       "grsy3                   0.243038           -0.60206              0.211275  \n",
       "rech4_cn               0.0791812           -0.09691             0.0440228  \n",
       "grss3                          1                 -1                   0.5  \n",
       "grvka5                         1                 -1                   0.5  \n",
       "strt6_cn               0.0211893         -0.0222764             0.0108664  \n",
       "grsy5                   0.243038           -0.60206              0.211275  \n",
       "pp_sy1                  0.243038           -0.60206              0.211275  \n",
       "grstrt5                0.0211893         -0.0222764             0.0108664  \n",
       "pp_rech1               0.0413927         -0.0457575             0.0217875  \n",
       "grss5                          1                 -1                   0.5  \n",
       "grhk4                          1                 -1                   0.5  \n",
       "pp_ss1                         1                 -1                   0.5  \n",
       "vka8_cn                        1                 -1                   0.5  \n",
       "grhk3                          1                 -1                   0.5  \n",
       "flow                     0.09691          -0.124939             0.0554622  \n",
       "pp_vka0                        1                 -1                   0.5  \n",
       "pp_hk2                         1                 -1                   0.5  \n",
       "pp_rech0               0.0413927         -0.0457575             0.0217875  \n",
       "pp_ss0                         1                 -1                   0.5  \n",
       "strk                           2                 -2                     1  \n",
       "welflux_k02                    1                 -1                   0.5  \n",
       "pp_vka2                        1                 -1                   0.5  \n",
       "grrech3                0.0413927         -0.0457575             0.0217875  \n",
       "pp_vka1                        1                 -1                   0.5  \n",
       "vka6_cn                        1                 -1                   0.5  \n",
       "ss8_cn                         1                 -1                   0.5  "
      ]
     },
     "execution_count": 3,
     "metadata": {},
     "output_type": "execute_result"
    }
   ],
   "source": [
    "pst = pyemu.Pst(os.path.join(t_d,\"freyberg.pst\"))\n",
    "pst.write_par_summary_table(filename=\"none\")"
   ]
  },
  {
   "cell_type": "markdown",
   "metadata": {},
   "source": [
    "### reduce the number of adjustable parameters"
   ]
  },
  {
   "cell_type": "code",
   "execution_count": 4,
   "metadata": {},
   "outputs": [],
   "source": [
    "par = pst.parameter_data"
   ]
  },
  {
   "cell_type": "code",
   "execution_count": 5,
   "metadata": {},
   "outputs": [
    {
     "data": {
      "text/plain": [
       "1215"
      ]
     },
     "execution_count": 5,
     "metadata": {},
     "output_type": "execute_result"
    }
   ],
   "source": [
    "# grid-scale pars\n",
    "gr_pars = par.loc[par.pargp.apply(lambda x: \"gr\" in x),\"parnme\"]\n",
    "par.loc[gr_pars,\"partrans\"] = \"fixed\"\n",
    "pst.npar_adj"
   ]
  },
  {
   "cell_type": "code",
   "execution_count": 6,
   "metadata": {},
   "outputs": [
    {
     "data": {
      "text/plain": [
       "1176"
      ]
     },
     "execution_count": 6,
     "metadata": {},
     "output_type": "execute_result"
    }
   ],
   "source": [
    "# strk_pars = par.loc[par.pargp==\"strk\",\"parnme\"]\n",
    "# p1 = strk_pars.iloc[0]\n",
    "# par.loc[strk_pars.iloc[1:],\"partrans\"] = \"tied\"\n",
    "# par.loc[strk_pars.iloc[1:],\"partied\"] = p1\n",
    "# pst.npar_adj"
   ]
  },
  {
   "cell_type": "code",
   "execution_count": 7,
   "metadata": {},
   "outputs": [
    {
     "data": {
      "text/plain": [
       "array(['pp_hk0', 'pp_hk1', 'pp_hk2', 'pp_rech0', 'pp_rech1', 'pp_ss0',\n",
       "       'pp_ss1', 'pp_ss2', 'pp_strt0', 'pp_strt1', 'pp_strt2', 'pp_sy0',\n",
       "       'pp_sy1', 'pp_sy2', 'pp_vka0', 'pp_vka1', 'pp_vka2'], dtype=object)"
      ]
     },
     "execution_count": 7,
     "metadata": {},
     "output_type": "execute_result"
    }
   ],
   "source": [
    "par.loc[par.pargp.apply(lambda x: \"pp\" in x),\"pargp\"].unique()"
   ]
  },
  {
   "cell_type": "code",
   "execution_count": 8,
   "metadata": {},
   "outputs": [
    {
     "data": {
      "text/plain": [
       "774"
      ]
     },
     "execution_count": 8,
     "metadata": {},
     "output_type": "execute_result"
    }
   ],
   "source": [
    "s_pars = par.loc[par.pargp.apply(lambda x: \"pp\" in x and (\"ss\" in x or \"sy\" in x)),\"parnme\"]\n",
    "par.loc[s_pars,\"partrans\"] = \"fixed\"\n",
    "pst.npar_adj"
   ]
  },
  {
   "cell_type": "code",
   "execution_count": 9,
   "metadata": {},
   "outputs": [
    {
     "data": {
      "text/plain": [
       "ss6_cn          1\n",
       "sy7_cn          1\n",
       "vka8_cn         1\n",
       "strt7_cn        1\n",
       "hk7_cn          1\n",
       "hk6_cn          1\n",
       "flow            1\n",
       "rech5_cn        1\n",
       "strt6_cn        1\n",
       "vka6_cn         1\n",
       "ss8_cn          1\n",
       "sy8_cn          1\n",
       "vka7_cn         1\n",
       "sy6_cn          1\n",
       "ss7_cn          1\n",
       "rech4_cn        1\n",
       "strk            1\n",
       "strt8_cn        1\n",
       "hk8_cn          1\n",
       "welflux         2\n",
       "welflux_k02     6\n",
       "drncond_k00    10\n",
       "pp_strt1       67\n",
       "pp_hk2         67\n",
       "pp_vka0        67\n",
       "pp_rech0       67\n",
       "pp_strt0       67\n",
       "pp_vka2        67\n",
       "pp_hk0         67\n",
       "pp_strt2       67\n",
       "pp_hk1         67\n",
       "pp_rech1       67\n",
       "pp_vka1        67\n",
       "Name: pargp, dtype: int64"
      ]
     },
     "execution_count": 9,
     "metadata": {},
     "output_type": "execute_result"
    }
   ],
   "source": [
    "adj_par = par.loc[par.partrans==\"log\",:]\n",
    "adj_par.pargp.value_counts().sort_values()"
   ]
  },
  {
   "cell_type": "code",
   "execution_count": 10,
   "metadata": {},
   "outputs": [
    {
     "data": {
      "text/plain": [
       "372"
      ]
     },
     "execution_count": 10,
     "metadata": {},
     "output_type": "execute_result"
    }
   ],
   "source": [
    "fi_grps = [\"pp_rech1\",\"pp_vka0\",\"pp_vka2\",\"pp_strt0\",\"pp_strt1\",\"pp_strt2\"]\n",
    "par.loc[par.pargp.apply(lambda x: x in fi_grps),\"partrans\"] = \"fixed\"\n",
    "pst.npar_adj"
   ]
  },
  {
   "cell_type": "code",
   "execution_count": 11,
   "metadata": {},
   "outputs": [],
   "source": [
    "pst.control_data.noptmax = 6\n",
    "pst.pestpp_options[\"n_iter_base\"] = -1\n",
    "pst.pestpp_options[\"n_iter_super\"] = 6\n",
    "pst.pestpp_options[\"num_reals\"] = 100\n",
    "pst.write(os.path.join(t_d,\"freyberg_pp.pst\"))"
   ]
  },
  {
   "cell_type": "code",
   "execution_count": 12,
   "metadata": {},
   "outputs": [],
   "source": [
    "#pyemu.os_utils.start_slaves(t_d,\"pestpp-glm\",\"freyberg_pp.pst\",num_slaves=20,slave_root=\".\",\n",
    "#                            master_dir=m_d)"
   ]
  },
  {
   "cell_type": "code",
   "execution_count": 13,
   "metadata": {},
   "outputs": [],
   "source": [
    "df = df=pd.read_csv(os.path.join(m_d,\"freyberg_pp.post.obsen.csv\"),index_col=0)\n",
    "oe = pyemu.ObservationEnsemble.from_dataframe(pst=pst,df=df)"
   ]
  },
  {
   "cell_type": "code",
   "execution_count": 14,
   "metadata": {},
   "outputs": [
    {
     "data": {
      "image/png": "[encoded data removed]",
      "text/plain": [
       "<Figure size 432x288 with 1 Axes>"
      ]
     },
     "metadata": {
      "needs_background": "light"
     },
     "output_type": "display_data"
    }
   ],
   "source": [
    "ax = oe.phi_vector.hist(bins=np.linspace(0,100,20))\n"
   ]
  },
  {
   "cell_type": "markdown",
   "metadata": {},
   "source": [
    "Here we see the distribution of phi values across the 100 posterior realizations.  Should we accept all of these???"
   ]
  },
  {
   "cell_type": "code",
   "execution_count": 34,
   "metadata": {},
   "outputs": [],
   "source": [
    "oe_pr = pd.read_csv(os.path.join(\"master_prior_sweep\",\"sweep_out.csv\"),index_col=0)"
   ]
  },
  {
   "cell_type": "code",
   "execution_count": 37,
   "metadata": {},
   "outputs": [
    {
     "data": {
      "image/png": "[encoded data removed]",
      "text/plain": [
       "<Figure size 432x288 with 1 Axes>"
      ]
     },
     "metadata": {
      "needs_background": "light"
     },
     "output_type": "display_data"
    },
    {
     "data": {
      "image/png": "[encoded data removed]",
      "text/plain": [
       "<Figure size 432x288 with 1 Axes>"
      ]
     },
     "metadata": {
      "needs_background": "light"
     },
     "output_type": "display_data"
    },
    {
     "data": {
      "image/png": "[encoded data removed]",
      "text/plain": [
       "<Figure size 432x288 with 1 Axes>"
      ]
     },
     "metadata": {
      "needs_background": "light"
     },
     "output_type": "display_data"
    },
    {
     "data": {
      "image/png": "[encoded data removed]",
      "text/plain": [
       "<Figure size 432x288 with 1 Axes>"
      ]
     },
     "metadata": {
      "needs_background": "light"
     },
     "output_type": "display_data"
    },
    {
     "data": {
      "image/png": "[encoded data removed]",
      "text/plain": [
       "<Figure size 432x288 with 1 Axes>"
      ]
     },
     "metadata": {
      "needs_background": "light"
     },
     "output_type": "display_data"
    },
    {
     "data": {
      "image/png": "[encoded data removed]",
      "text/plain": [
       "<Figure size 432x288 with 1 Axes>"
      ]
     },
     "metadata": {
      "needs_background": "light"
     },
     "output_type": "display_data"
    }
   ],
   "source": [
    "obs = pst.observation_data\n",
    "fnames = pst.pestpp_options[\"forecasts\"].split(\",\")\n",
    "for forecast in fnames:\n",
    "    ax = plt.subplot(111)\n",
    "    oe_pr.loc[:,forecast].hist(ax=ax,color=\"0.5\",alpha=0.5)\n",
    "    oe.loc[:,forecast].hist(ax=ax,color=\"b\",alpha=0.5)\n",
    "    \n",
    "    ax.plot([obs.loc[forecast,\"obsval\"],obs.loc[forecast,\"obsval\"]],ax.get_ylim(),\"r\")\n",
    "    ax.set_title(forecast)\n",
    "    plt.show()"
   ]
  },
  {
   "cell_type": "code",
   "execution_count": 16,
   "metadata": {},
   "outputs": [],
   "source": [
    "#todo: regularization - subspace and tikhonov"
   ]
  },
  {
   "cell_type": "markdown",
   "metadata": {},
   "source": [
    "### Setup of Tikhonov regularization"
   ]
  },
  {
   "cell_type": "code",
   "execution_count": 17,
   "metadata": {},
   "outputs": [],
   "source": [
    "cov = pyemu.Cov.from_binary(os.path.join(t_d,\"prior.jcb\"))"
   ]
  },
  {
   "cell_type": "code",
   "execution_count": 18,
   "metadata": {},
   "outputs": [
    {
     "name": "stdout",
     "output_type": "stream",
     "text": [
      "getting CC matrix\n",
      "processing\n"
     ]
    }
   ],
   "source": [
    "pyemu.helpers.first_order_pearson_tikhonov(pst,cov)"
   ]
  },
  {
   "cell_type": "code",
   "execution_count": 27,
   "metadata": {},
   "outputs": [
    {
     "data": {
      "text/html": [
       "<div>\n",
       "<style scoped>\n",
       "    .dataframe tbody tr th:only-of-type {\n",
       "        vertical-align: middle;\n",
       "    }\n",
       "\n",
       "    .dataframe tbody tr th {\n",
       "        vertical-align: top;\n",
       "    }\n",
       "\n",
       "    .dataframe thead th {\n",
       "        text-align: right;\n",
       "    }\n",
       "</style>\n",
       "<table border=\"1\" class=\"dataframe\">\n",
       "  <thead>\n",
       "    <tr style=\"text-align: right;\">\n",
       "      <th></th>\n",
       "      <th>equation</th>\n",
       "      <th>obgnme</th>\n",
       "      <th>pilbl</th>\n",
       "      <th>weight</th>\n",
       "      <th>names</th>\n",
       "    </tr>\n",
       "    <tr>\n",
       "      <th>pilbl</th>\n",
       "      <th></th>\n",
       "      <th></th>\n",
       "      <th></th>\n",
       "      <th></th>\n",
       "      <th></th>\n",
       "    </tr>\n",
       "  </thead>\n",
       "  <tbody>\n",
       "    <tr>\n",
       "      <th>pcc_1</th>\n",
       "      <td>1.0 * log(dc0000390005) - 1.0 * log(dc0000390006) = 0.0</td>\n",
       "      <td>regul_cc</td>\n",
       "      <td>pcc_1</td>\n",
       "      <td>0.904837</td>\n",
       "      <td>[dc0000390005, dc0000390006]</td>\n",
       "    </tr>\n",
       "    <tr>\n",
       "      <th>pcc_2</th>\n",
       "      <td>1.0 * log(dc0000390005) - 1.0 * log(dc0000390007) = 0.0</td>\n",
       "      <td>regul_cc</td>\n",
       "      <td>pcc_2</td>\n",
       "      <td>0.818731</td>\n",
       "      <td>[dc0000390005, dc0000390007]</td>\n",
       "    </tr>\n",
       "    <tr>\n",
       "      <th>pcc_3</th>\n",
       "      <td>1.0 * log(dc0000390005) - 1.0 * log(dc0000390008) = 0.0</td>\n",
       "      <td>regul_cc</td>\n",
       "      <td>pcc_3</td>\n",
       "      <td>0.740818</td>\n",
       "      <td>[dc0000390005, dc0000390008]</td>\n",
       "    </tr>\n",
       "    <tr>\n",
       "      <th>pcc_4</th>\n",
       "      <td>1.0 * log(dc0000390005) - 1.0 * log(dc0000390009) = 0.0</td>\n",
       "      <td>regul_cc</td>\n",
       "      <td>pcc_4</td>\n",
       "      <td>0.670320</td>\n",
       "      <td>[dc0000390005, dc0000390009]</td>\n",
       "    </tr>\n",
       "    <tr>\n",
       "      <th>pcc_5</th>\n",
       "      <td>1.0 * log(dc0000390005) - 1.0 * log(dc0000390010) = 0.0</td>\n",
       "      <td>regul_cc</td>\n",
       "      <td>pcc_5</td>\n",
       "      <td>0.606531</td>\n",
       "      <td>[dc0000390005, dc0000390010]</td>\n",
       "    </tr>\n",
       "  </tbody>\n",
       "</table>\n",
       "</div>"
      ],
      "text/plain": [
       "                                                      equation    obgnme  \\\n",
       "pilbl                                                                      \n",
       "pcc_1  1.0 * log(dc0000390005) - 1.0 * log(dc0000390006) = 0.0  regul_cc   \n",
       "pcc_2  1.0 * log(dc0000390005) - 1.0 * log(dc0000390007) = 0.0  regul_cc   \n",
       "pcc_3  1.0 * log(dc0000390005) - 1.0 * log(dc0000390008) = 0.0  regul_cc   \n",
       "pcc_4  1.0 * log(dc0000390005) - 1.0 * log(dc0000390009) = 0.0  regul_cc   \n",
       "pcc_5  1.0 * log(dc0000390005) - 1.0 * log(dc0000390010) = 0.0  regul_cc   \n",
       "\n",
       "       pilbl    weight                         names  \n",
       "pilbl                                                 \n",
       "pcc_1  pcc_1  0.904837  [dc0000390005, dc0000390006]  \n",
       "pcc_2  pcc_2  0.818731  [dc0000390005, dc0000390007]  \n",
       "pcc_3  pcc_3  0.740818  [dc0000390005, dc0000390008]  \n",
       "pcc_4  pcc_4  0.670320  [dc0000390005, dc0000390009]  \n",
       "pcc_5  pcc_5  0.606531  [dc0000390005, dc0000390010]  "
      ]
     },
     "execution_count": 27,
     "metadata": {},
     "output_type": "execute_result"
    }
   ],
   "source": [
    "pst.prior_information.head()"
   ]
  },
  {
   "cell_type": "code",
   "execution_count": 20,
   "metadata": {},
   "outputs": [
    {
     "data": {
      "text/plain": [
       "'template/restart_pp.jcb'"
      ]
     },
     "execution_count": 20,
     "metadata": {},
     "output_type": "execute_result"
    }
   ],
   "source": [
    "shutil.copy2(os.path.join(m_d,\"freyberg_pp.jcb\"),os.path.join(t_d,\"restart_pp.jcb\"))\n"
   ]
  },
  {
   "cell_type": "code",
   "execution_count": 25,
   "metadata": {},
   "outputs": [],
   "source": [
    "pst.pestpp_options[\"base_jacobian\"] = \"restart_pp.jcb\"\n",
    "pst.reg_data.phimlim = pst.nnz_obs\n",
    "pst.reg_data.phimaccept = pst.reg_data.phimlim * 1.1\n",
    "pst.write(os.path.join(t_d,\"freyberg_pp.pst\"))"
   ]
  },
  {
   "cell_type": "code",
   "execution_count": 26,
   "metadata": {},
   "outputs": [],
   "source": [
    "pyemu.os_utils.start_slaves(t_d,\"pestpp-glm\",\"freyberg_pp.pst\",num_slaves=20,slave_root=\".\",\n",
    "                           master_dir=m_d)"
   ]
  },
  {
   "cell_type": "code",
   "execution_count": 28,
   "metadata": {},
   "outputs": [],
   "source": [
    "df = df=pd.read_csv(os.path.join(m_d,\"freyberg_pp.post.obsen.csv\"),index_col=0)\n",
    "oe = pyemu.ObservationEnsemble.from_dataframe(pst=pst,df=df)"
   ]
  },
  {
   "cell_type": "code",
   "execution_count": 29,
   "metadata": {},
   "outputs": [
    {
     "data": {
      "image/png": "[encoded data removed]",
      "text/plain": [
       "<Figure size 432x288 with 1 Axes>"
      ]
     },
     "metadata": {
      "needs_background": "light"
     },
     "output_type": "display_data"
    }
   ],
   "source": [
    "ax = oe.phi_vector.hist(bins=np.linspace(0,100,20))"
   ]
  },
  {
   "cell_type": "markdown",
   "metadata": {},
   "source": [
    "An interesting point:  the use of Tikhonov seems to have pushed the phi values of the posterior realizations higher."
   ]
  },
  {
   "cell_type": "code",
   "execution_count": 33,
   "metadata": {},
   "outputs": [
    {
     "name": "stdout",
     "output_type": "stream",
     "text": [
      "fa_hw_19791230\n"
     ]
    },
    {
     "data": {
      "image/png": "[encoded data removed]",
      "text/plain": [
       "<Figure size 432x288 with 1 Axes>"
      ]
     },
     "metadata": {
      "needs_background": "light"
     },
     "output_type": "display_data"
    },
    {
     "name": "stdout",
     "output_type": "stream",
     "text": [
      "fa_hw_19801229\n"
     ]
    },
    {
     "data": {
      "image/png": "[encoded data removed]",
      "text/plain": [
       "<Figure size 432x288 with 1 Axes>"
      ]
     },
     "metadata": {
      "needs_background": "light"
     },
     "output_type": "display_data"
    },
    {
     "name": "stdout",
     "output_type": "stream",
     "text": [
      "fa_tw_19791230\n"
     ]
    },
    {
     "data": {
      "image/png": "[encoded data removed]",
      "text/plain": [
       "<Figure size 432x288 with 1 Axes>"
      ]
     },
     "metadata": {
      "needs_background": "light"
     },
     "output_type": "display_data"
    },
    {
     "name": "stdout",
     "output_type": "stream",
     "text": [
      "fa_tw_19801229\n"
     ]
    },
    {
     "data": {
      "image/png": "[encoded data removed]",
      "text/plain": [
       "<Figure size 432x288 with 1 Axes>"
      ]
     },
     "metadata": {
      "needs_background": "light"
     },
     "output_type": "display_data"
    },
    {
     "name": "stdout",
     "output_type": "stream",
     "text": [
      "hds_00_015_002_000\n"
     ]
    },
    {
     "data": {
      "image/png": "[encoded data removed]",
      "text/plain": [
       "<Figure size 432x288 with 1 Axes>"
      ]
     },
     "metadata": {
      "needs_background": "light"
     },
     "output_type": "display_data"
    },
    {
     "name": "stdout",
     "output_type": "stream",
     "text": [
      "hds_00_015_002_001\n"
     ]
    },
    {
     "data": {
      "image/png": "[encoded data removed]",
      "text/plain": [
       "<Figure size 432x288 with 1 Axes>"
      ]
     },
     "metadata": {
      "needs_background": "light"
     },
     "output_type": "display_data"
    }
   ],
   "source": [
    "obs = pst.observation_data\n",
    "fnames = pst.pestpp_options[\"forecasts\"].split(\",\")\n",
    "for forecast in fnames:\n",
    "    ax = plt.subplot(111)\n",
    "    oe_pr.loc[:,forecast].hist(ax=ax,color=\"0.5\",alpha=0.5)\n",
    "    oe.loc[:,forecast].hist(ax=ax,color=\"b\",alpha=0.5)\n",
    "    \n",
    "    ax.plot([obs.loc[forecast,\"obsval\"],obs.loc[forecast,\"obsval\"]],ax.get_ylim(),\"r\")\n",
    "    ax.set_title(forecast)\n",
    "    plt.show()"
   ]
  },
  {
   "cell_type": "code",
   "execution_count": null,
   "metadata": {},
   "outputs": [],
   "source": []
  }
 ],
 "metadata": {
  "kernelspec": {
   "display_name": "Python 3",
   "language": "python",
   "name": "python3"
  },
  "language_info": {
   "codemirror_mode": {
    "name": "ipython",
    "version": 3
   },
   "file_extension": ".py",
   "mimetype": "text/x-python",
   "name": "python",
   "nbconvert_exporter": "python",
   "pygments_lexer": "ipython3",
   "version": "3.5.6"
  }
 },
 "nbformat": 4,
 "nbformat_minor": 2
}
