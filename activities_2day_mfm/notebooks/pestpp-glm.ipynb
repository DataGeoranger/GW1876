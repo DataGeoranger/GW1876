{
 "cells": [
  {
   "cell_type": "markdown",
   "metadata": {},
   "source": [
    "# PESTPP-GLM"
   ]
  },
  {
   "cell_type": "markdown",
   "metadata": {},
   "source": [
    "In this notebook, we will run PESTPP-GLM in standard parameter estimation mode and regularization mode.  In both cases, we will use the baked-in bayes-linear posterior monte carlo analysis to get posterior forecast PDFs.  We will use the prior monte carlo outputs as the prior forecast PDF."
   ]
  },
  {
   "cell_type": "code",
   "execution_count": 1,
   "metadata": {},
   "outputs": [
    {
     "name": "stdout",
     "output_type": "stream",
     "text": [
      "flopy is installed in /Users/jeremyw/Dev/gw1876/activities_2day_mfm/notebooks/flopy\n"
     ]
    }
   ],
   "source": [
    "import os\n",
    "import shutil\n",
    "import numpy as np\n",
    "import pandas as pd\n",
    "import matplotlib.pyplot as plt\n",
    "import matplotlib as mpl\n",
    "plt.rcParams['font.size']=12\n",
    "import flopy\n",
    "import pyemu\n"
   ]
  },
  {
   "cell_type": "code",
   "execution_count": 2,
   "metadata": {},
   "outputs": [],
   "source": [
    "t_d = \"template\"\n",
    "m_d = \"master_glm\""
   ]
  },
  {
   "cell_type": "code",
   "execution_count": 3,
   "metadata": {
    "scrolled": true
   },
   "outputs": [
    {
     "data": {
      "text/html": [
       "<div>\n",
       "<style scoped>\n",
       "    .dataframe tbody tr th:only-of-type {\n",
       "        vertical-align: middle;\n",
       "    }\n",
       "\n",
       "    .dataframe tbody tr th {\n",
       "        vertical-align: top;\n",
       "    }\n",
       "\n",
       "    .dataframe thead th {\n",
       "        text-align: right;\n",
       "    }\n",
       "</style>\n",
       "<table border=\"1\" class=\"dataframe\">\n",
       "  <thead>\n",
       "    <tr style=\"text-align: right;\">\n",
       "      <th></th>\n",
       "      <th>type</th>\n",
       "      <th>transform</th>\n",
       "      <th>count</th>\n",
       "      <th>initial value</th>\n",
       "      <th>upper bound</th>\n",
       "      <th>lower bound</th>\n",
       "      <th>standard deviation</th>\n",
       "    </tr>\n",
       "  </thead>\n",
       "  <tbody>\n",
       "    <tr>\n",
       "      <th>gr_prsity4</th>\n",
       "      <td>gr_prsity4</td>\n",
       "      <td>log</td>\n",
       "      <td>705</td>\n",
       "      <td>0</td>\n",
       "      <td>0</td>\n",
       "      <td>-1</td>\n",
       "      <td>0.25</td>\n",
       "    </tr>\n",
       "    <tr>\n",
       "      <th>cn_sy8</th>\n",
       "      <td>cn_sy8</td>\n",
       "      <td>log</td>\n",
       "      <td>1</td>\n",
       "      <td>0</td>\n",
       "      <td>0.243038</td>\n",
       "      <td>-0.60206</td>\n",
       "      <td>0.211275</td>\n",
       "    </tr>\n",
       "    <tr>\n",
       "      <th>cn_ss8</th>\n",
       "      <td>cn_ss8</td>\n",
       "      <td>log</td>\n",
       "      <td>1</td>\n",
       "      <td>0</td>\n",
       "      <td>1</td>\n",
       "      <td>-1</td>\n",
       "      <td>0.5</td>\n",
       "    </tr>\n",
       "    <tr>\n",
       "      <th>gr_strt4</th>\n",
       "      <td>gr_strt4</td>\n",
       "      <td>log</td>\n",
       "      <td>705</td>\n",
       "      <td>0</td>\n",
       "      <td>0.0211893</td>\n",
       "      <td>-0.0222764</td>\n",
       "      <td>0.0108664</td>\n",
       "    </tr>\n",
       "    <tr>\n",
       "      <th>gr_rech3</th>\n",
       "      <td>gr_rech3</td>\n",
       "      <td>log</td>\n",
       "      <td>705</td>\n",
       "      <td>0</td>\n",
       "      <td>0.0413927</td>\n",
       "      <td>-0.0457575</td>\n",
       "      <td>0.0217875</td>\n",
       "    </tr>\n",
       "    <tr>\n",
       "      <th>pp_hk2</th>\n",
       "      <td>pp_hk2</td>\n",
       "      <td>log</td>\n",
       "      <td>32</td>\n",
       "      <td>0</td>\n",
       "      <td>1</td>\n",
       "      <td>-1</td>\n",
       "      <td>0.5</td>\n",
       "    </tr>\n",
       "    <tr>\n",
       "      <th>gr_ss3</th>\n",
       "      <td>gr_ss3</td>\n",
       "      <td>log</td>\n",
       "      <td>705</td>\n",
       "      <td>0</td>\n",
       "      <td>1</td>\n",
       "      <td>-1</td>\n",
       "      <td>0.5</td>\n",
       "    </tr>\n",
       "    <tr>\n",
       "      <th>gr_hk3</th>\n",
       "      <td>gr_hk3</td>\n",
       "      <td>log</td>\n",
       "      <td>705</td>\n",
       "      <td>0</td>\n",
       "      <td>1</td>\n",
       "      <td>-1</td>\n",
       "      <td>0.5</td>\n",
       "    </tr>\n",
       "    <tr>\n",
       "      <th>pp_ss2</th>\n",
       "      <td>pp_ss2</td>\n",
       "      <td>log</td>\n",
       "      <td>32</td>\n",
       "      <td>0</td>\n",
       "      <td>1</td>\n",
       "      <td>-1</td>\n",
       "      <td>0.5</td>\n",
       "    </tr>\n",
       "    <tr>\n",
       "      <th>gr_sy5</th>\n",
       "      <td>gr_sy5</td>\n",
       "      <td>log</td>\n",
       "      <td>705</td>\n",
       "      <td>0</td>\n",
       "      <td>0.243038</td>\n",
       "      <td>-0.60206</td>\n",
       "      <td>0.211275</td>\n",
       "    </tr>\n",
       "    <tr>\n",
       "      <th>gr_ss5</th>\n",
       "      <td>gr_ss5</td>\n",
       "      <td>log</td>\n",
       "      <td>705</td>\n",
       "      <td>0</td>\n",
       "      <td>1</td>\n",
       "      <td>-1</td>\n",
       "      <td>0.5</td>\n",
       "    </tr>\n",
       "    <tr>\n",
       "      <th>cn_strt6</th>\n",
       "      <td>cn_strt6</td>\n",
       "      <td>log</td>\n",
       "      <td>1</td>\n",
       "      <td>0</td>\n",
       "      <td>0.0211893</td>\n",
       "      <td>-0.0222764</td>\n",
       "      <td>0.0108664</td>\n",
       "    </tr>\n",
       "    <tr>\n",
       "      <th>gr_prsity5</th>\n",
       "      <td>gr_prsity5</td>\n",
       "      <td>log</td>\n",
       "      <td>705</td>\n",
       "      <td>0</td>\n",
       "      <td>0</td>\n",
       "      <td>-1</td>\n",
       "      <td>0.25</td>\n",
       "    </tr>\n",
       "    <tr>\n",
       "      <th>pp_sy2</th>\n",
       "      <td>pp_sy2</td>\n",
       "      <td>log</td>\n",
       "      <td>32</td>\n",
       "      <td>0</td>\n",
       "      <td>0.243038</td>\n",
       "      <td>-0.60206</td>\n",
       "      <td>0.211275</td>\n",
       "    </tr>\n",
       "    <tr>\n",
       "      <th>pp_hk0</th>\n",
       "      <td>pp_hk0</td>\n",
       "      <td>log</td>\n",
       "      <td>32</td>\n",
       "      <td>0</td>\n",
       "      <td>1</td>\n",
       "      <td>-1</td>\n",
       "      <td>0.5</td>\n",
       "    </tr>\n",
       "    <tr>\n",
       "      <th>strk</th>\n",
       "      <td>strk</td>\n",
       "      <td>log</td>\n",
       "      <td>40</td>\n",
       "      <td>0</td>\n",
       "      <td>2</td>\n",
       "      <td>-2</td>\n",
       "      <td>1</td>\n",
       "    </tr>\n",
       "    <tr>\n",
       "      <th>cn_sy6</th>\n",
       "      <td>cn_sy6</td>\n",
       "      <td>log</td>\n",
       "      <td>1</td>\n",
       "      <td>0</td>\n",
       "      <td>0.243038</td>\n",
       "      <td>-0.60206</td>\n",
       "      <td>0.211275</td>\n",
       "    </tr>\n",
       "    <tr>\n",
       "      <th>gr_strt5</th>\n",
       "      <td>gr_strt5</td>\n",
       "      <td>log</td>\n",
       "      <td>705</td>\n",
       "      <td>0</td>\n",
       "      <td>0.0211893</td>\n",
       "      <td>-0.0222764</td>\n",
       "      <td>0.0108664</td>\n",
       "    </tr>\n",
       "    <tr>\n",
       "      <th>gr_prsity3</th>\n",
       "      <td>gr_prsity3</td>\n",
       "      <td>log</td>\n",
       "      <td>705</td>\n",
       "      <td>0</td>\n",
       "      <td>0</td>\n",
       "      <td>-1</td>\n",
       "      <td>0.25</td>\n",
       "    </tr>\n",
       "    <tr>\n",
       "      <th>drncond_k00</th>\n",
       "      <td>drncond_k00</td>\n",
       "      <td>log</td>\n",
       "      <td>10</td>\n",
       "      <td>0</td>\n",
       "      <td>1</td>\n",
       "      <td>-1</td>\n",
       "      <td>0.5</td>\n",
       "    </tr>\n",
       "    <tr>\n",
       "      <th>cn_prsity7</th>\n",
       "      <td>cn_prsity7</td>\n",
       "      <td>log</td>\n",
       "      <td>1</td>\n",
       "      <td>0</td>\n",
       "      <td>0</td>\n",
       "      <td>-1</td>\n",
       "      <td>0.25</td>\n",
       "    </tr>\n",
       "    <tr>\n",
       "      <th>cn_vka6</th>\n",
       "      <td>cn_vka6</td>\n",
       "      <td>log</td>\n",
       "      <td>1</td>\n",
       "      <td>0</td>\n",
       "      <td>1</td>\n",
       "      <td>-1</td>\n",
       "      <td>0.5</td>\n",
       "    </tr>\n",
       "    <tr>\n",
       "      <th>gr_rech2</th>\n",
       "      <td>gr_rech2</td>\n",
       "      <td>log</td>\n",
       "      <td>705</td>\n",
       "      <td>0</td>\n",
       "      <td>0.0413927</td>\n",
       "      <td>-0.0457575</td>\n",
       "      <td>0.0217875</td>\n",
       "    </tr>\n",
       "    <tr>\n",
       "      <th>gr_sy3</th>\n",
       "      <td>gr_sy3</td>\n",
       "      <td>log</td>\n",
       "      <td>705</td>\n",
       "      <td>0</td>\n",
       "      <td>0.243038</td>\n",
       "      <td>-0.60206</td>\n",
       "      <td>0.211275</td>\n",
       "    </tr>\n",
       "    <tr>\n",
       "      <th>pp_strt0</th>\n",
       "      <td>pp_strt0</td>\n",
       "      <td>log</td>\n",
       "      <td>32</td>\n",
       "      <td>0</td>\n",
       "      <td>0.0211893</td>\n",
       "      <td>-0.0222764</td>\n",
       "      <td>0.0108664</td>\n",
       "    </tr>\n",
       "    <tr>\n",
       "      <th>pp_strt2</th>\n",
       "      <td>pp_strt2</td>\n",
       "      <td>log</td>\n",
       "      <td>32</td>\n",
       "      <td>0</td>\n",
       "      <td>0.0211893</td>\n",
       "      <td>-0.0222764</td>\n",
       "      <td>0.0108664</td>\n",
       "    </tr>\n",
       "    <tr>\n",
       "      <th>pp_hk1</th>\n",
       "      <td>pp_hk1</td>\n",
       "      <td>log</td>\n",
       "      <td>32</td>\n",
       "      <td>0</td>\n",
       "      <td>1</td>\n",
       "      <td>-1</td>\n",
       "      <td>0.5</td>\n",
       "    </tr>\n",
       "    <tr>\n",
       "      <th>gr_strt3</th>\n",
       "      <td>gr_strt3</td>\n",
       "      <td>log</td>\n",
       "      <td>705</td>\n",
       "      <td>0</td>\n",
       "      <td>0.0211893</td>\n",
       "      <td>-0.0222764</td>\n",
       "      <td>0.0108664</td>\n",
       "    </tr>\n",
       "    <tr>\n",
       "      <th>gr_sy4</th>\n",
       "      <td>gr_sy4</td>\n",
       "      <td>log</td>\n",
       "      <td>705</td>\n",
       "      <td>0</td>\n",
       "      <td>0.243038</td>\n",
       "      <td>-0.60206</td>\n",
       "      <td>0.211275</td>\n",
       "    </tr>\n",
       "    <tr>\n",
       "      <th>gr_vka3</th>\n",
       "      <td>gr_vka3</td>\n",
       "      <td>log</td>\n",
       "      <td>705</td>\n",
       "      <td>0</td>\n",
       "      <td>1</td>\n",
       "      <td>-1</td>\n",
       "      <td>0.5</td>\n",
       "    </tr>\n",
       "    <tr>\n",
       "      <th>...</th>\n",
       "      <td>...</td>\n",
       "      <td>...</td>\n",
       "      <td>...</td>\n",
       "      <td>...</td>\n",
       "      <td>...</td>\n",
       "      <td>...</td>\n",
       "      <td>...</td>\n",
       "    </tr>\n",
       "    <tr>\n",
       "      <th>pp_strt1</th>\n",
       "      <td>pp_strt1</td>\n",
       "      <td>log</td>\n",
       "      <td>32</td>\n",
       "      <td>0</td>\n",
       "      <td>0.0211893</td>\n",
       "      <td>-0.0222764</td>\n",
       "      <td>0.0108664</td>\n",
       "    </tr>\n",
       "    <tr>\n",
       "      <th>cn_rech5</th>\n",
       "      <td>cn_rech5</td>\n",
       "      <td>log</td>\n",
       "      <td>1</td>\n",
       "      <td>-0.39794</td>\n",
       "      <td>-0.09691</td>\n",
       "      <td>-1</td>\n",
       "      <td>0.225772</td>\n",
       "    </tr>\n",
       "    <tr>\n",
       "      <th>cn_strt8</th>\n",
       "      <td>cn_strt8</td>\n",
       "      <td>log</td>\n",
       "      <td>1</td>\n",
       "      <td>0</td>\n",
       "      <td>0.0211893</td>\n",
       "      <td>-0.0222764</td>\n",
       "      <td>0.0108664</td>\n",
       "    </tr>\n",
       "    <tr>\n",
       "      <th>flow</th>\n",
       "      <td>flow</td>\n",
       "      <td>log</td>\n",
       "      <td>1</td>\n",
       "      <td>0</td>\n",
       "      <td>0.09691</td>\n",
       "      <td>-0.124939</td>\n",
       "      <td>0.0554622</td>\n",
       "    </tr>\n",
       "    <tr>\n",
       "      <th>gr_ss4</th>\n",
       "      <td>gr_ss4</td>\n",
       "      <td>log</td>\n",
       "      <td>705</td>\n",
       "      <td>0</td>\n",
       "      <td>1</td>\n",
       "      <td>-1</td>\n",
       "      <td>0.5</td>\n",
       "    </tr>\n",
       "    <tr>\n",
       "      <th>cn_rech4</th>\n",
       "      <td>cn_rech4</td>\n",
       "      <td>log</td>\n",
       "      <td>1</td>\n",
       "      <td>0</td>\n",
       "      <td>0.0791812</td>\n",
       "      <td>-0.09691</td>\n",
       "      <td>0.0440228</td>\n",
       "    </tr>\n",
       "    <tr>\n",
       "      <th>cn_vka7</th>\n",
       "      <td>cn_vka7</td>\n",
       "      <td>log</td>\n",
       "      <td>1</td>\n",
       "      <td>0</td>\n",
       "      <td>1</td>\n",
       "      <td>-1</td>\n",
       "      <td>0.5</td>\n",
       "    </tr>\n",
       "    <tr>\n",
       "      <th>gr_vka5</th>\n",
       "      <td>gr_vka5</td>\n",
       "      <td>log</td>\n",
       "      <td>705</td>\n",
       "      <td>0</td>\n",
       "      <td>1</td>\n",
       "      <td>-1</td>\n",
       "      <td>0.5</td>\n",
       "    </tr>\n",
       "    <tr>\n",
       "      <th>gr_hk4</th>\n",
       "      <td>gr_hk4</td>\n",
       "      <td>log</td>\n",
       "      <td>705</td>\n",
       "      <td>0</td>\n",
       "      <td>1</td>\n",
       "      <td>-1</td>\n",
       "      <td>0.5</td>\n",
       "    </tr>\n",
       "    <tr>\n",
       "      <th>cn_prsity8</th>\n",
       "      <td>cn_prsity8</td>\n",
       "      <td>log</td>\n",
       "      <td>1</td>\n",
       "      <td>0</td>\n",
       "      <td>0</td>\n",
       "      <td>-1</td>\n",
       "      <td>0.25</td>\n",
       "    </tr>\n",
       "    <tr>\n",
       "      <th>pp_prsity2</th>\n",
       "      <td>pp_prsity2</td>\n",
       "      <td>log</td>\n",
       "      <td>32</td>\n",
       "      <td>0</td>\n",
       "      <td>0</td>\n",
       "      <td>-1</td>\n",
       "      <td>0.25</td>\n",
       "    </tr>\n",
       "    <tr>\n",
       "      <th>pp_prsity0</th>\n",
       "      <td>pp_prsity0</td>\n",
       "      <td>log</td>\n",
       "      <td>32</td>\n",
       "      <td>0</td>\n",
       "      <td>0</td>\n",
       "      <td>-1</td>\n",
       "      <td>0.25</td>\n",
       "    </tr>\n",
       "    <tr>\n",
       "      <th>pp_vka2</th>\n",
       "      <td>pp_vka2</td>\n",
       "      <td>log</td>\n",
       "      <td>32</td>\n",
       "      <td>0</td>\n",
       "      <td>1</td>\n",
       "      <td>-1</td>\n",
       "      <td>0.5</td>\n",
       "    </tr>\n",
       "    <tr>\n",
       "      <th>cn_hk6</th>\n",
       "      <td>cn_hk6</td>\n",
       "      <td>log</td>\n",
       "      <td>1</td>\n",
       "      <td>0</td>\n",
       "      <td>1</td>\n",
       "      <td>-1</td>\n",
       "      <td>0.5</td>\n",
       "    </tr>\n",
       "    <tr>\n",
       "      <th>welflux_k02</th>\n",
       "      <td>welflux_k02</td>\n",
       "      <td>log</td>\n",
       "      <td>6</td>\n",
       "      <td>0</td>\n",
       "      <td>1</td>\n",
       "      <td>-1</td>\n",
       "      <td>0.5</td>\n",
       "    </tr>\n",
       "    <tr>\n",
       "      <th>cn_hk7</th>\n",
       "      <td>cn_hk7</td>\n",
       "      <td>log</td>\n",
       "      <td>1</td>\n",
       "      <td>0</td>\n",
       "      <td>1</td>\n",
       "      <td>-1</td>\n",
       "      <td>0.5</td>\n",
       "    </tr>\n",
       "    <tr>\n",
       "      <th>cn_vka8</th>\n",
       "      <td>cn_vka8</td>\n",
       "      <td>log</td>\n",
       "      <td>1</td>\n",
       "      <td>0</td>\n",
       "      <td>1</td>\n",
       "      <td>-1</td>\n",
       "      <td>0.5</td>\n",
       "    </tr>\n",
       "    <tr>\n",
       "      <th>gr_hk5</th>\n",
       "      <td>gr_hk5</td>\n",
       "      <td>log</td>\n",
       "      <td>705</td>\n",
       "      <td>0</td>\n",
       "      <td>1</td>\n",
       "      <td>-1</td>\n",
       "      <td>0.5</td>\n",
       "    </tr>\n",
       "    <tr>\n",
       "      <th>cn_ss7</th>\n",
       "      <td>cn_ss7</td>\n",
       "      <td>log</td>\n",
       "      <td>1</td>\n",
       "      <td>0</td>\n",
       "      <td>1</td>\n",
       "      <td>-1</td>\n",
       "      <td>0.5</td>\n",
       "    </tr>\n",
       "    <tr>\n",
       "      <th>pp_sy0</th>\n",
       "      <td>pp_sy0</td>\n",
       "      <td>log</td>\n",
       "      <td>32</td>\n",
       "      <td>0</td>\n",
       "      <td>0.243038</td>\n",
       "      <td>-0.60206</td>\n",
       "      <td>0.211275</td>\n",
       "    </tr>\n",
       "    <tr>\n",
       "      <th>cn_hk8</th>\n",
       "      <td>cn_hk8</td>\n",
       "      <td>log</td>\n",
       "      <td>1</td>\n",
       "      <td>0</td>\n",
       "      <td>1</td>\n",
       "      <td>-1</td>\n",
       "      <td>0.5</td>\n",
       "    </tr>\n",
       "    <tr>\n",
       "      <th>pp_vka1</th>\n",
       "      <td>pp_vka1</td>\n",
       "      <td>log</td>\n",
       "      <td>32</td>\n",
       "      <td>0</td>\n",
       "      <td>1</td>\n",
       "      <td>-1</td>\n",
       "      <td>0.5</td>\n",
       "    </tr>\n",
       "    <tr>\n",
       "      <th>pp_prsity1</th>\n",
       "      <td>pp_prsity1</td>\n",
       "      <td>log</td>\n",
       "      <td>32</td>\n",
       "      <td>0</td>\n",
       "      <td>0</td>\n",
       "      <td>-1</td>\n",
       "      <td>0.25</td>\n",
       "    </tr>\n",
       "    <tr>\n",
       "      <th>cn_strt7</th>\n",
       "      <td>cn_strt7</td>\n",
       "      <td>log</td>\n",
       "      <td>1</td>\n",
       "      <td>0</td>\n",
       "      <td>0.0211893</td>\n",
       "      <td>-0.0222764</td>\n",
       "      <td>0.0108664</td>\n",
       "    </tr>\n",
       "    <tr>\n",
       "      <th>pp_rech1</th>\n",
       "      <td>pp_rech1</td>\n",
       "      <td>log</td>\n",
       "      <td>32</td>\n",
       "      <td>0</td>\n",
       "      <td>0.0413927</td>\n",
       "      <td>-0.0457575</td>\n",
       "      <td>0.0217875</td>\n",
       "    </tr>\n",
       "    <tr>\n",
       "      <th>cn_sy7</th>\n",
       "      <td>cn_sy7</td>\n",
       "      <td>log</td>\n",
       "      <td>1</td>\n",
       "      <td>0</td>\n",
       "      <td>0.243038</td>\n",
       "      <td>-0.60206</td>\n",
       "      <td>0.211275</td>\n",
       "    </tr>\n",
       "    <tr>\n",
       "      <th>cn_ss6</th>\n",
       "      <td>cn_ss6</td>\n",
       "      <td>log</td>\n",
       "      <td>1</td>\n",
       "      <td>0</td>\n",
       "      <td>1</td>\n",
       "      <td>-1</td>\n",
       "      <td>0.5</td>\n",
       "    </tr>\n",
       "    <tr>\n",
       "      <th>pp_ss0</th>\n",
       "      <td>pp_ss0</td>\n",
       "      <td>log</td>\n",
       "      <td>32</td>\n",
       "      <td>0</td>\n",
       "      <td>1</td>\n",
       "      <td>-1</td>\n",
       "      <td>0.5</td>\n",
       "    </tr>\n",
       "    <tr>\n",
       "      <th>pp_vka0</th>\n",
       "      <td>pp_vka0</td>\n",
       "      <td>log</td>\n",
       "      <td>32</td>\n",
       "      <td>0</td>\n",
       "      <td>1</td>\n",
       "      <td>-1</td>\n",
       "      <td>0.5</td>\n",
       "    </tr>\n",
       "    <tr>\n",
       "      <th>welflux</th>\n",
       "      <td>welflux</td>\n",
       "      <td>log</td>\n",
       "      <td>2</td>\n",
       "      <td>0 to 0.176091</td>\n",
       "      <td>0.176091 to 0.30103</td>\n",
       "      <td>-0.30103 to     0</td>\n",
       "      <td>0.0752575 to 0.11928</td>\n",
       "    </tr>\n",
       "  </tbody>\n",
       "</table>\n",
       "<p>65 rows × 7 columns</p>\n",
       "</div>"
      ],
      "text/plain": [
       "                    type transform  count      initial value  \\\n",
       "gr_prsity4    gr_prsity4       log    705                  0   \n",
       "cn_sy8            cn_sy8       log      1                  0   \n",
       "cn_ss8            cn_ss8       log      1                  0   \n",
       "gr_strt4        gr_strt4       log    705                  0   \n",
       "gr_rech3        gr_rech3       log    705                  0   \n",
       "pp_hk2            pp_hk2       log     32                  0   \n",
       "gr_ss3            gr_ss3       log    705                  0   \n",
       "gr_hk3            gr_hk3       log    705                  0   \n",
       "pp_ss2            pp_ss2       log     32                  0   \n",
       "gr_sy5            gr_sy5       log    705                  0   \n",
       "gr_ss5            gr_ss5       log    705                  0   \n",
       "cn_strt6        cn_strt6       log      1                  0   \n",
       "gr_prsity5    gr_prsity5       log    705                  0   \n",
       "pp_sy2            pp_sy2       log     32                  0   \n",
       "pp_hk0            pp_hk0       log     32                  0   \n",
       "strk                strk       log     40                  0   \n",
       "cn_sy6            cn_sy6       log      1                  0   \n",
       "gr_strt5        gr_strt5       log    705                  0   \n",
       "gr_prsity3    gr_prsity3       log    705                  0   \n",
       "drncond_k00  drncond_k00       log     10                  0   \n",
       "cn_prsity7    cn_prsity7       log      1                  0   \n",
       "cn_vka6          cn_vka6       log      1                  0   \n",
       "gr_rech2        gr_rech2       log    705                  0   \n",
       "gr_sy3            gr_sy3       log    705                  0   \n",
       "pp_strt0        pp_strt0       log     32                  0   \n",
       "pp_strt2        pp_strt2       log     32                  0   \n",
       "pp_hk1            pp_hk1       log     32                  0   \n",
       "gr_strt3        gr_strt3       log    705                  0   \n",
       "gr_sy4            gr_sy4       log    705                  0   \n",
       "gr_vka3          gr_vka3       log    705                  0   \n",
       "...                  ...       ...    ...                ...   \n",
       "pp_strt1        pp_strt1       log     32                  0   \n",
       "cn_rech5        cn_rech5       log      1           -0.39794   \n",
       "cn_strt8        cn_strt8       log      1                  0   \n",
       "flow                flow       log      1                  0   \n",
       "gr_ss4            gr_ss4       log    705                  0   \n",
       "cn_rech4        cn_rech4       log      1                  0   \n",
       "cn_vka7          cn_vka7       log      1                  0   \n",
       "gr_vka5          gr_vka5       log    705                  0   \n",
       "gr_hk4            gr_hk4       log    705                  0   \n",
       "cn_prsity8    cn_prsity8       log      1                  0   \n",
       "pp_prsity2    pp_prsity2       log     32                  0   \n",
       "pp_prsity0    pp_prsity0       log     32                  0   \n",
       "pp_vka2          pp_vka2       log     32                  0   \n",
       "cn_hk6            cn_hk6       log      1                  0   \n",
       "welflux_k02  welflux_k02       log      6                  0   \n",
       "cn_hk7            cn_hk7       log      1                  0   \n",
       "cn_vka8          cn_vka8       log      1                  0   \n",
       "gr_hk5            gr_hk5       log    705                  0   \n",
       "cn_ss7            cn_ss7       log      1                  0   \n",
       "pp_sy0            pp_sy0       log     32                  0   \n",
       "cn_hk8            cn_hk8       log      1                  0   \n",
       "pp_vka1          pp_vka1       log     32                  0   \n",
       "pp_prsity1    pp_prsity1       log     32                  0   \n",
       "cn_strt7        cn_strt7       log      1                  0   \n",
       "pp_rech1        pp_rech1       log     32                  0   \n",
       "cn_sy7            cn_sy7       log      1                  0   \n",
       "cn_ss6            cn_ss6       log      1                  0   \n",
       "pp_ss0            pp_ss0       log     32                  0   \n",
       "pp_vka0          pp_vka0       log     32                  0   \n",
       "welflux          welflux       log      2      0 to 0.176091   \n",
       "\n",
       "                     upper bound        lower bound    standard deviation  \n",
       "gr_prsity4                     0                 -1                  0.25  \n",
       "cn_sy8                  0.243038           -0.60206              0.211275  \n",
       "cn_ss8                         1                 -1                   0.5  \n",
       "gr_strt4               0.0211893         -0.0222764             0.0108664  \n",
       "gr_rech3               0.0413927         -0.0457575             0.0217875  \n",
       "pp_hk2                         1                 -1                   0.5  \n",
       "gr_ss3                         1                 -1                   0.5  \n",
       "gr_hk3                         1                 -1                   0.5  \n",
       "pp_ss2                         1                 -1                   0.5  \n",
       "gr_sy5                  0.243038           -0.60206              0.211275  \n",
       "gr_ss5                         1                 -1                   0.5  \n",
       "cn_strt6               0.0211893         -0.0222764             0.0108664  \n",
       "gr_prsity5                     0                 -1                  0.25  \n",
       "pp_sy2                  0.243038           -0.60206              0.211275  \n",
       "pp_hk0                         1                 -1                   0.5  \n",
       "strk                           2                 -2                     1  \n",
       "cn_sy6                  0.243038           -0.60206              0.211275  \n",
       "gr_strt5               0.0211893         -0.0222764             0.0108664  \n",
       "gr_prsity3                     0                 -1                  0.25  \n",
       "drncond_k00                    1                 -1                   0.5  \n",
       "cn_prsity7                     0                 -1                  0.25  \n",
       "cn_vka6                        1                 -1                   0.5  \n",
       "gr_rech2               0.0413927         -0.0457575             0.0217875  \n",
       "gr_sy3                  0.243038           -0.60206              0.211275  \n",
       "pp_strt0               0.0211893         -0.0222764             0.0108664  \n",
       "pp_strt2               0.0211893         -0.0222764             0.0108664  \n",
       "pp_hk1                         1                 -1                   0.5  \n",
       "gr_strt3               0.0211893         -0.0222764             0.0108664  \n",
       "gr_sy4                  0.243038           -0.60206              0.211275  \n",
       "gr_vka3                        1                 -1                   0.5  \n",
       "...                          ...                ...                   ...  \n",
       "pp_strt1               0.0211893         -0.0222764             0.0108664  \n",
       "cn_rech5                -0.09691                 -1              0.225772  \n",
       "cn_strt8               0.0211893         -0.0222764             0.0108664  \n",
       "flow                     0.09691          -0.124939             0.0554622  \n",
       "gr_ss4                         1                 -1                   0.5  \n",
       "cn_rech4               0.0791812           -0.09691             0.0440228  \n",
       "cn_vka7                        1                 -1                   0.5  \n",
       "gr_vka5                        1                 -1                   0.5  \n",
       "gr_hk4                         1                 -1                   0.5  \n",
       "cn_prsity8                     0                 -1                  0.25  \n",
       "pp_prsity2                     0                 -1                  0.25  \n",
       "pp_prsity0                     0                 -1                  0.25  \n",
       "pp_vka2                        1                 -1                   0.5  \n",
       "cn_hk6                         1                 -1                   0.5  \n",
       "welflux_k02                    1                 -1                   0.5  \n",
       "cn_hk7                         1                 -1                   0.5  \n",
       "cn_vka8                        1                 -1                   0.5  \n",
       "gr_hk5                         1                 -1                   0.5  \n",
       "cn_ss7                         1                 -1                   0.5  \n",
       "pp_sy0                  0.243038           -0.60206              0.211275  \n",
       "cn_hk8                         1                 -1                   0.5  \n",
       "pp_vka1                        1                 -1                   0.5  \n",
       "pp_prsity1                     0                 -1                  0.25  \n",
       "cn_strt7               0.0211893         -0.0222764             0.0108664  \n",
       "pp_rech1               0.0413927         -0.0457575             0.0217875  \n",
       "cn_sy7                  0.243038           -0.60206              0.211275  \n",
       "cn_ss6                         1                 -1                   0.5  \n",
       "pp_ss0                         1                 -1                   0.5  \n",
       "pp_vka0                        1                 -1                   0.5  \n",
       "welflux      0.176091 to 0.30103  -0.30103 to     0  0.0752575 to 0.11928  \n",
       "\n",
       "[65 rows x 7 columns]"
      ]
     },
     "execution_count": 3,
     "metadata": {},
     "output_type": "execute_result"
    }
   ],
   "source": [
    "pst = pyemu.Pst(os.path.join(t_d,\"freyberg.pst\"))\n",
    "pst.write_par_summary_table(filename=\"none\")"
   ]
  },
  {
   "cell_type": "markdown",
   "metadata": {},
   "source": [
    "### reduce the number of adjustable parameters\n",
    "\n",
    "This is the painful part: we cant use 10K+ pars because we cant wait around for that many runs and then the linear algebra of factoring a 10k+ by 10K+ matrix is also difficult.  So that means we need to fix a lot a parameters #frownyface"
   ]
  },
  {
   "cell_type": "code",
   "execution_count": 4,
   "metadata": {},
   "outputs": [],
   "source": [
    "par = pst.parameter_data"
   ]
  },
  {
   "cell_type": "code",
   "execution_count": 5,
   "metadata": {},
   "outputs": [
    {
     "data": {
      "text/plain": [
       "719"
      ]
     },
     "execution_count": 5,
     "metadata": {},
     "output_type": "execute_result"
    }
   ],
   "source": [
    "# grid-scale pars\n",
    "gr_pars = par.loc[par.pargp.apply(lambda x: \"gr\" in x),\"parnme\"]\n",
    "par.loc[gr_pars,\"partrans\"] = \"fixed\"\n",
    "pst.npar_adj"
   ]
  },
  {
   "cell_type": "code",
   "execution_count": 6,
   "metadata": {},
   "outputs": [
    {
     "data": {
      "text/plain": [
       "719"
      ]
     },
     "execution_count": 6,
     "metadata": {},
     "output_type": "execute_result"
    }
   ],
   "source": [
    "# these are the sfr conductance parameters - Ive left all 40 adjustable\n",
    "# but if you uncomment this, it will tie them into 1 parameter effectively\n",
    "# strk_pars = par.loc[par.pargp==\"strk\",\"parnme\"]\n",
    "# p1 = strk_pars.iloc[0]\n",
    "# par.loc[strk_pars.iloc[1:],\"partrans\"] = \"tied\"\n",
    "# par.loc[strk_pars.iloc[1:],\"partied\"] = p1\n",
    "pst.npar_adj"
   ]
  },
  {
   "cell_type": "code",
   "execution_count": 7,
   "metadata": {},
   "outputs": [
    {
     "data": {
      "text/plain": [
       "array(['pp_hk0', 'pp_hk1', 'pp_hk2', 'pp_prsity0', 'pp_prsity1',\n",
       "       'pp_prsity2', 'pp_rech0', 'pp_rech1', 'pp_ss0', 'pp_ss1', 'pp_ss2',\n",
       "       'pp_strt0', 'pp_strt1', 'pp_strt2', 'pp_sy0', 'pp_sy1', 'pp_sy2',\n",
       "       'pp_vka0', 'pp_vka1', 'pp_vka2'], dtype=object)"
      ]
     },
     "execution_count": 7,
     "metadata": {},
     "output_type": "execute_result"
    }
   ],
   "source": [
    "par.loc[par.pargp.apply(lambda x: \"pp\" in x),\"pargp\"].unique()"
   ]
  },
  {
   "cell_type": "markdown",
   "metadata": {},
   "source": [
    "Fix the storage pilot points - we still have layer-scale storage pars adjustable"
   ]
  },
  {
   "cell_type": "code",
   "execution_count": 8,
   "metadata": {},
   "outputs": [
    {
     "data": {
      "text/plain": [
       "719"
      ]
     },
     "execution_count": 8,
     "metadata": {},
     "output_type": "execute_result"
    }
   ],
   "source": [
    "#s_pars = par.loc[par.pargp.apply(lambda x: \"pp\" in x and (\"ss\" in x or \"sy\" in x)),\"parnme\"]\n",
    "#par.loc[s_pars,\"partrans\"] = \"fixed\"\n",
    "pst.npar_adj"
   ]
  },
  {
   "cell_type": "code",
   "execution_count": 9,
   "metadata": {},
   "outputs": [
    {
     "data": {
      "text/plain": [
       "cn_sy8          1\n",
       "cn_ss8          1\n",
       "cn_strt6        1\n",
       "cn_strt8        1\n",
       "cn_rech4        1\n",
       "cn_prsity7      1\n",
       "cn_prsity6      1\n",
       "cn_sy6          1\n",
       "cn_vka6         1\n",
       "cn_vka7         1\n",
       "cn_prsity8      1\n",
       "flow            1\n",
       "cn_hk6          1\n",
       "cn_hk7          1\n",
       "cn_vka8         1\n",
       "cn_rech5        1\n",
       "cn_hk8          1\n",
       "cn_strt7        1\n",
       "cn_sy7          1\n",
       "cn_ss7          1\n",
       "cn_ss6          1\n",
       "welflux         2\n",
       "welflux_k02     6\n",
       "drncond_k00    10\n",
       "pp_hk2         32\n",
       "pp_strt2       32\n",
       "pp_hk0         32\n",
       "pp_hk1         32\n",
       "pp_vka2        32\n",
       "pp_rech0       32\n",
       "pp_strt1       32\n",
       "pp_vka0        32\n",
       "pp_prsity0     32\n",
       "pp_ss0         32\n",
       "pp_rech1       32\n",
       "pp_vka1        32\n",
       "pp_sy2         32\n",
       "pp_strt0       32\n",
       "pp_sy1         32\n",
       "pp_sy0         32\n",
       "pp_ss2         32\n",
       "pp_prsity1     32\n",
       "pp_ss1         32\n",
       "pp_prsity2     32\n",
       "strk           40\n",
       "Name: pargp, dtype: int64"
      ]
     },
     "execution_count": 9,
     "metadata": {},
     "output_type": "execute_result"
    }
   ],
   "source": [
    "adj_par = par.loc[par.partrans==\"log\",:]\n",
    "adj_par.pargp.value_counts().sort_values()"
   ]
  },
  {
   "cell_type": "markdown",
   "metadata": {},
   "source": [
    "fix the future recharge pilot points, vka in layers 1 and 3 and the initial condition pilot points (we still have layer-scale pars for each of these types)"
   ]
  },
  {
   "cell_type": "code",
   "execution_count": 10,
   "metadata": {},
   "outputs": [
    {
     "data": {
      "text/plain": [
       "527"
      ]
     },
     "execution_count": 10,
     "metadata": {},
     "output_type": "execute_result"
    }
   ],
   "source": [
    "fi_grps = [\"pp_rech1\",\"pp_vka0\",\"pp_vka2\",\"pp_strt0\",\"pp_strt1\",\"pp_strt2\"]\n",
    "par.loc[par.pargp.apply(lambda x: x in fi_grps),\"partrans\"] = \"fixed\"\n",
    "pst.npar_adj"
   ]
  },
  {
   "cell_type": "markdown",
   "metadata": {},
   "source": [
    "Ok, thats better...so lets run PESTPP-GLM.  We will use a single \"base parameter\" jacobian matrix as the basis for 6 super parameter iterations.  Then we will draw 100 realizations from the FOSM posterior parameter covariance matrix and run those 100 realizations to get the psoterior forecast PDFs"
   ]
  },
  {
   "cell_type": "code",
   "execution_count": 11,
   "metadata": {},
   "outputs": [],
   "source": [
    "pst.control_data.noptmax = 3\n",
    "pst.pestpp_options[\"n_iter_base\"] = -1\n",
    "pst.pestpp_options[\"n_iter_super\"] = 3\n",
    "pst.pestpp_options[\"num_reals\"] = 50 # this is how many ies uses\n",
    "pst.pestpp_options[\"parcov\"] = \"prior_cov.jcb\"\n",
    "pst.write(os.path.join(t_d,\"freyberg_pp.pst\"))"
   ]
  },
  {
   "cell_type": "code",
   "execution_count": 12,
   "metadata": {},
   "outputs": [],
   "source": [
    "pyemu.os_utils.start_slaves(t_d,\"pestpp-glm\",\"freyberg_pp.pst\",num_slaves=20,slave_root=\".\",\n",
    "                           master_dir=m_d)"
   ]
  },
  {
   "cell_type": "code",
   "execution_count": 13,
   "metadata": {},
   "outputs": [],
   "source": [
    "df = df=pd.read_csv(os.path.join(m_d,\"freyberg_pp.post.obsen.csv\"),index_col=0)\n",
    "oe = pyemu.ObservationEnsemble.from_dataframe(pst=pst,df=df)"
   ]
  },
  {
   "cell_type": "code",
   "execution_count": 14,
   "metadata": {},
   "outputs": [
    {
     "data": {
      "text/plain": [
       "real_name\n",
       "7      55.468202\n",
       "24     84.260295\n",
       "4     124.191279\n",
       "1     168.977488\n",
       "25    174.596536\n",
       "21    199.858942\n",
       "39    205.571352\n",
       "20    373.756778\n",
       "42    385.789083\n",
       "12    428.295418\n",
       "6     429.258788\n",
       "16    430.476563\n",
       "45    462.553423\n",
       "19    495.599815\n",
       "41    510.791903\n",
       "22    512.655947\n",
       "48    552.963192\n",
       "33    573.280556\n",
       "3     615.596134\n",
       "37    772.791092\n",
       "dtype: float64"
      ]
     },
     "execution_count": 14,
     "metadata": {},
     "output_type": "execute_result"
    },
    {
     "data": {
      "image/png": "[encoded data removed]",
      "text/plain": [
       "<Figure size 432x288 with 1 Axes>"
      ]
     },
     "metadata": {
      "needs_background": "light"
     },
     "output_type": "display_data"
    }
   ],
   "source": [
    "ax = oe.phi_vector.hist()#bins=np.linspace(0,100,20))\n",
    "oe.phi_vector.sort_values().iloc[:20]"
   ]
  },
  {
   "cell_type": "markdown",
   "metadata": {},
   "source": [
    "Here we see the distribution of phi values across the 100 posterior realizations.  Should we accept all of these???  The theoretical phi we should accept is number of nonzero obs (14)."
   ]
  },
  {
   "cell_type": "markdown",
   "metadata": {},
   "source": [
    "To get a \"posterior\" ensemble, we need to throw out the realizations with large phi - lets just take the 20 best:"
   ]
  },
  {
   "cell_type": "code",
   "execution_count": 15,
   "metadata": {},
   "outputs": [],
   "source": [
    "oe_pt = oe.loc[oe.phi_vector.sort_values().index[:20],:] #just take the 20 lowest phi realizations"
   ]
  },
  {
   "cell_type": "markdown",
   "metadata": {},
   "source": [
    "We can also load and plot the FOSM forecast results along side of the ensemble results:"
   ]
  },
  {
   "cell_type": "code",
   "execution_count": 16,
   "metadata": {},
   "outputs": [
    {
     "data": {
      "text/html": [
       "<div>\n",
       "<style scoped>\n",
       "    .dataframe tbody tr th:only-of-type {\n",
       "        vertical-align: middle;\n",
       "    }\n",
       "\n",
       "    .dataframe tbody tr th {\n",
       "        vertical-align: top;\n",
       "    }\n",
       "\n",
       "    .dataframe thead th {\n",
       "        text-align: right;\n",
       "    }\n",
       "</style>\n",
       "<table border=\"1\" class=\"dataframe\">\n",
       "  <thead>\n",
       "    <tr style=\"text-align: right;\">\n",
       "      <th></th>\n",
       "      <th>prior_mean</th>\n",
       "      <th>prior_stdev</th>\n",
       "      <th>prior_lower_bound</th>\n",
       "      <th>prior_upper_bound</th>\n",
       "      <th>post_mean</th>\n",
       "      <th>post_stdev</th>\n",
       "      <th>post_lower_bound</th>\n",
       "      <th>post_upper_bound</th>\n",
       "    </tr>\n",
       "    <tr>\n",
       "      <th>name</th>\n",
       "      <th></th>\n",
       "      <th></th>\n",
       "      <th></th>\n",
       "      <th></th>\n",
       "      <th></th>\n",
       "      <th></th>\n",
       "      <th></th>\n",
       "      <th></th>\n",
       "    </tr>\n",
       "  </thead>\n",
       "  <tbody>\n",
       "    <tr>\n",
       "      <th>fa_hw_19791230</th>\n",
       "      <td>-977.2390</td>\n",
       "      <td>295.32800</td>\n",
       "      <td>-1567.8900</td>\n",
       "      <td>-386.5840</td>\n",
       "      <td>-811.3660</td>\n",
       "      <td>247.865000</td>\n",
       "      <td>-1307.1000</td>\n",
       "      <td>-315.6370</td>\n",
       "    </tr>\n",
       "    <tr>\n",
       "      <th>fa_hw_19801229</th>\n",
       "      <td>-351.2160</td>\n",
       "      <td>409.77000</td>\n",
       "      <td>-1170.7600</td>\n",
       "      <td>468.3240</td>\n",
       "      <td>-300.1030</td>\n",
       "      <td>335.551000</td>\n",
       "      <td>-971.2060</td>\n",
       "      <td>371.0000</td>\n",
       "    </tr>\n",
       "    <tr>\n",
       "      <th>fa_tw_19791230</th>\n",
       "      <td>-453.0330</td>\n",
       "      <td>409.35100</td>\n",
       "      <td>-1271.7400</td>\n",
       "      <td>365.6690</td>\n",
       "      <td>-103.5390</td>\n",
       "      <td>170.577000</td>\n",
       "      <td>-444.6930</td>\n",
       "      <td>237.6160</td>\n",
       "    </tr>\n",
       "    <tr>\n",
       "      <th>fa_tw_19801229</th>\n",
       "      <td>108.9600</td>\n",
       "      <td>506.73200</td>\n",
       "      <td>-904.5040</td>\n",
       "      <td>1122.4200</td>\n",
       "      <td>366.6750</td>\n",
       "      <td>263.681000</td>\n",
       "      <td>-160.6870</td>\n",
       "      <td>894.0380</td>\n",
       "    </tr>\n",
       "    <tr>\n",
       "      <th>hds_00_013_002_000</th>\n",
       "      <td>39.6102</td>\n",
       "      <td>3.96314</td>\n",
       "      <td>31.6840</td>\n",
       "      <td>47.5365</td>\n",
       "      <td>39.4199</td>\n",
       "      <td>0.273990</td>\n",
       "      <td>38.8719</td>\n",
       "      <td>39.9679</td>\n",
       "    </tr>\n",
       "    <tr>\n",
       "      <th>hds_00_013_002_001</th>\n",
       "      <td>38.3838</td>\n",
       "      <td>4.05782</td>\n",
       "      <td>30.2681</td>\n",
       "      <td>46.4994</td>\n",
       "      <td>38.1797</td>\n",
       "      <td>0.687836</td>\n",
       "      <td>36.8040</td>\n",
       "      <td>39.5553</td>\n",
       "    </tr>\n",
       "    <tr>\n",
       "      <th>part_status</th>\n",
       "      <td>2.0000</td>\n",
       "      <td>0.00000</td>\n",
       "      <td>2.0000</td>\n",
       "      <td>2.0000</td>\n",
       "      <td>2.0000</td>\n",
       "      <td>0.000000</td>\n",
       "      <td>2.0000</td>\n",
       "      <td>2.0000</td>\n",
       "    </tr>\n",
       "    <tr>\n",
       "      <th>part_time</th>\n",
       "      <td>907.7020</td>\n",
       "      <td>704.75100</td>\n",
       "      <td>-501.8010</td>\n",
       "      <td>2317.2000</td>\n",
       "      <td>730.7160</td>\n",
       "      <td>601.308000</td>\n",
       "      <td>-471.9010</td>\n",
       "      <td>1933.3300</td>\n",
       "    </tr>\n",
       "  </tbody>\n",
       "</table>\n",
       "</div>"
      ],
      "text/plain": [
       "                    prior_mean  prior_stdev  prior_lower_bound  \\\n",
       "name                                                             \n",
       "fa_hw_19791230       -977.2390    295.32800         -1567.8900   \n",
       "fa_hw_19801229       -351.2160    409.77000         -1170.7600   \n",
       "fa_tw_19791230       -453.0330    409.35100         -1271.7400   \n",
       "fa_tw_19801229        108.9600    506.73200          -904.5040   \n",
       "hds_00_013_002_000     39.6102      3.96314            31.6840   \n",
       "hds_00_013_002_001     38.3838      4.05782            30.2681   \n",
       "part_status             2.0000      0.00000             2.0000   \n",
       "part_time             907.7020    704.75100          -501.8010   \n",
       "\n",
       "                    prior_upper_bound  post_mean  post_stdev  \\\n",
       "name                                                           \n",
       "fa_hw_19791230              -386.5840  -811.3660  247.865000   \n",
       "fa_hw_19801229               468.3240  -300.1030  335.551000   \n",
       "fa_tw_19791230               365.6690  -103.5390  170.577000   \n",
       "fa_tw_19801229              1122.4200   366.6750  263.681000   \n",
       "hds_00_013_002_000            47.5365    39.4199    0.273990   \n",
       "hds_00_013_002_001            46.4994    38.1797    0.687836   \n",
       "part_status                    2.0000     2.0000    0.000000   \n",
       "part_time                   2317.2000   730.7160  601.308000   \n",
       "\n",
       "                    post_lower_bound  post_upper_bound  \n",
       "name                                                    \n",
       "fa_hw_19791230            -1307.1000         -315.6370  \n",
       "fa_hw_19801229             -971.2060          371.0000  \n",
       "fa_tw_19791230             -444.6930          237.6160  \n",
       "fa_tw_19801229             -160.6870          894.0380  \n",
       "hds_00_013_002_000           38.8719           39.9679  \n",
       "hds_00_013_002_001           36.8040           39.5553  \n",
       "part_status                   2.0000            2.0000  \n",
       "part_time                  -471.9010         1933.3300  "
      ]
     },
     "execution_count": 16,
     "metadata": {},
     "output_type": "execute_result"
    }
   ],
   "source": [
    "f_df = pd.read_csv(os.path.join(m_d,\"freyberg_pp.pred.usum.csv\"),index_col=0)\n",
    "f_df.index = f_df.index.map(str.lower)\n",
    "f_df"
   ]
  },
  {
   "cell_type": "code",
   "execution_count": 17,
   "metadata": {
    "scrolled": false
   },
   "outputs": [
    {
     "data": {
      "image/png": "[encoded data removed]",
      "text/plain": [
       "<Figure size 432x288 with 2 Axes>"
      ]
     },
     "metadata": {
      "needs_background": "light"
     },
     "output_type": "display_data"
    },
    {
     "data": {
      "image/png": "[encoded data removed]",
      "text/plain": [
       "<Figure size 432x288 with 2 Axes>"
      ]
     },
     "metadata": {
      "needs_background": "light"
     },
     "output_type": "display_data"
    },
    {
     "data": {
      "image/png": "[encoded data removed]",
      "text/plain": [
       "<Figure size 432x288 with 2 Axes>"
      ]
     },
     "metadata": {
      "needs_background": "light"
     },
     "output_type": "display_data"
    },
    {
     "data": {
      "image/png": "[encoded data removed]",
      "text/plain": [
       "<Figure size 432x288 with 2 Axes>"
      ]
     },
     "metadata": {
      "needs_background": "light"
     },
     "output_type": "display_data"
    },
    {
     "data": {
      "image/png": "[encoded data removed]",
      "text/plain": [
       "<Figure size 432x288 with 2 Axes>"
      ]
     },
     "metadata": {
      "needs_background": "light"
     },
     "output_type": "display_data"
    },
    {
     "data": {
      "image/png": "[encoded data removed]",
      "text/plain": [
       "<Figure size 432x288 with 2 Axes>"
      ]
     },
     "metadata": {
      "needs_background": "light"
     },
     "output_type": "display_data"
    },
    {
     "data": {
      "image/png": "[encoded data removed]",
      "text/plain": [
       "<Figure size 432x288 with 2 Axes>"
      ]
     },
     "metadata": {
      "needs_background": "light"
     },
     "output_type": "display_data"
    },
    {
     "data": {
      "image/png": "[encoded data removed]",
      "text/plain": [
       "<Figure size 432x288 with 2 Axes>"
      ]
     },
     "metadata": {
      "needs_background": "light"
     },
     "output_type": "display_data"
    }
   ],
   "source": [
    "obs = pst.observation_data\n",
    "fnames = pst.pestpp_options[\"forecasts\"].split(\",\")\n",
    "for forecast in fnames:\n",
    "    ax = plt.subplot(111)\n",
    "    oe_pt.loc[:,forecast].hist(ax=ax,color=\"b\",alpha=0.5,normed=True)\n",
    "    ax.plot([obs.loc[forecast,\"obsval\"],obs.loc[forecast,\"obsval\"]],ax.get_ylim(),\"r\")\n",
    "    axt = plt.twinx()\n",
    "    x,y = pyemu.plot_utils.gaussian_distribution(f_df.loc[forecast,\"prior_mean\"],f_df.loc[forecast,\"prior_stdev\"])\n",
    "    axt.fill_between(x,0,y,facecolor=\"0.5\",alpha=0.25)\n",
    "    x,y = pyemu.plot_utils.gaussian_distribution(f_df.loc[forecast,\"post_mean\"],f_df.loc[forecast,\"post_stdev\"])\n",
    "    axt.fill_between(x,0,y,facecolor=\"b\",alpha=0.25)\n",
    "    axt.set_ylim(0,axt.get_ylim()[1])\n",
    "    axt.set_yticks([])\n",
    "    ax.set_title(forecast)\n",
    "    plt.show()"
   ]
  },
  {
   "cell_type": "markdown",
   "metadata": {},
   "source": [
    "### Setup of Tikhonov regularization\n",
    "\n",
    "Now lets setup and use some formal regularization to bring the final phi up to around 14.  We will use first-order regularization based on the covariance matrix we build earlier:"
   ]
  },
  {
   "cell_type": "code",
   "execution_count": 18,
   "metadata": {},
   "outputs": [
    {
     "name": "stdout",
     "output_type": "stream",
     "text": [
      "new binary format detected...\n"
     ]
    }
   ],
   "source": [
    "cov = pyemu.Cov.from_binary(os.path.join(t_d,\"prior_cov.jcb\"))"
   ]
  },
  {
   "cell_type": "code",
   "execution_count": 19,
   "metadata": {},
   "outputs": [
    {
     "name": "stdout",
     "output_type": "stream",
     "text": [
      "getting CC matrix\n",
      "processing\n"
     ]
    }
   ],
   "source": [
    "pyemu.helpers.first_order_pearson_tikhonov(pst,cov)"
   ]
  },
  {
   "cell_type": "code",
   "execution_count": 20,
   "metadata": {},
   "outputs": [
    {
     "data": {
      "text/html": [
       "<div>\n",
       "<style scoped>\n",
       "    .dataframe tbody tr th:only-of-type {\n",
       "        vertical-align: middle;\n",
       "    }\n",
       "\n",
       "    .dataframe tbody tr th {\n",
       "        vertical-align: top;\n",
       "    }\n",
       "\n",
       "    .dataframe thead th {\n",
       "        text-align: right;\n",
       "    }\n",
       "</style>\n",
       "<table border=\"1\" class=\"dataframe\">\n",
       "  <thead>\n",
       "    <tr style=\"text-align: right;\">\n",
       "      <th></th>\n",
       "      <th>equation</th>\n",
       "      <th>obgnme</th>\n",
       "      <th>pilbl</th>\n",
       "      <th>weight</th>\n",
       "    </tr>\n",
       "    <tr>\n",
       "      <th>pilbl</th>\n",
       "      <th></th>\n",
       "      <th></th>\n",
       "      <th></th>\n",
       "      <th></th>\n",
       "    </tr>\n",
       "  </thead>\n",
       "  <tbody>\n",
       "    <tr>\n",
       "      <th>pcc_1</th>\n",
       "      <td>1.0 * log(dc0000390005) - 1.0 * log(dc0000390006) = 0.0</td>\n",
       "      <td>regul_cc</td>\n",
       "      <td>pcc_1</td>\n",
       "      <td>0.904837</td>\n",
       "    </tr>\n",
       "    <tr>\n",
       "      <th>pcc_2</th>\n",
       "      <td>1.0 * log(dc0000390005) - 1.0 * log(dc0000390007) = 0.0</td>\n",
       "      <td>regul_cc</td>\n",
       "      <td>pcc_2</td>\n",
       "      <td>0.818731</td>\n",
       "    </tr>\n",
       "    <tr>\n",
       "      <th>pcc_3</th>\n",
       "      <td>1.0 * log(dc0000390005) - 1.0 * log(dc0000390008) = 0.0</td>\n",
       "      <td>regul_cc</td>\n",
       "      <td>pcc_3</td>\n",
       "      <td>0.740818</td>\n",
       "    </tr>\n",
       "    <tr>\n",
       "      <th>pcc_4</th>\n",
       "      <td>1.0 * log(dc0000390005) - 1.0 * log(dc0000390009) = 0.0</td>\n",
       "      <td>regul_cc</td>\n",
       "      <td>pcc_4</td>\n",
       "      <td>0.670320</td>\n",
       "    </tr>\n",
       "    <tr>\n",
       "      <th>pcc_5</th>\n",
       "      <td>1.0 * log(dc0000390005) - 1.0 * log(dc0000390010) = 0.0</td>\n",
       "      <td>regul_cc</td>\n",
       "      <td>pcc_5</td>\n",
       "      <td>0.606531</td>\n",
       "    </tr>\n",
       "  </tbody>\n",
       "</table>\n",
       "</div>"
      ],
      "text/plain": [
       "                                                      equation    obgnme  \\\n",
       "pilbl                                                                      \n",
       "pcc_1  1.0 * log(dc0000390005) - 1.0 * log(dc0000390006) = 0.0  regul_cc   \n",
       "pcc_2  1.0 * log(dc0000390005) - 1.0 * log(dc0000390007) = 0.0  regul_cc   \n",
       "pcc_3  1.0 * log(dc0000390005) - 1.0 * log(dc0000390008) = 0.0  regul_cc   \n",
       "pcc_4  1.0 * log(dc0000390005) - 1.0 * log(dc0000390009) = 0.0  regul_cc   \n",
       "pcc_5  1.0 * log(dc0000390005) - 1.0 * log(dc0000390010) = 0.0  regul_cc   \n",
       "\n",
       "       pilbl    weight  \n",
       "pilbl                   \n",
       "pcc_1  pcc_1  0.904837  \n",
       "pcc_2  pcc_2  0.818731  \n",
       "pcc_3  pcc_3  0.740818  \n",
       "pcc_4  pcc_4  0.670320  \n",
       "pcc_5  pcc_5  0.606531  "
      ]
     },
     "execution_count": 20,
     "metadata": {},
     "output_type": "execute_result"
    }
   ],
   "source": [
    "pst.prior_information.head()"
   ]
  },
  {
   "cell_type": "code",
   "execution_count": 21,
   "metadata": {},
   "outputs": [
    {
     "data": {
      "text/plain": [
       "'template/restart_pp.jcb'"
      ]
     },
     "execution_count": 21,
     "metadata": {},
     "output_type": "execute_result"
    }
   ],
   "source": [
    "shutil.copy2(os.path.join(m_d,\"freyberg_pp.jcb\"),os.path.join(t_d,\"restart_pp.jcb\"))\n"
   ]
  },
  {
   "cell_type": "code",
   "execution_count": 22,
   "metadata": {},
   "outputs": [],
   "source": [
    "pst.pestpp_options[\"base_jacobian\"] = \"restart_pp.jcb\"\n",
    "pst.reg_data.phimlim = pst.nnz_obs\n",
    "pst.reg_data.phimaccept = pst.reg_data.phimlim * 1.1\n",
    "pst.write(os.path.join(t_d,\"freyberg_pp.pst\"))"
   ]
  },
  {
   "cell_type": "code",
   "execution_count": 23,
   "metadata": {},
   "outputs": [],
   "source": [
    "pyemu.os_utils.start_slaves(t_d,\"pestpp-glm\",\"freyberg_pp.pst\",num_slaves=20,slave_root=\".\",\n",
    "                           master_dir=m_d)"
   ]
  },
  {
   "cell_type": "code",
   "execution_count": 24,
   "metadata": {},
   "outputs": [],
   "source": [
    "df = df=pd.read_csv(os.path.join(m_d,\"freyberg_pp.post.obsen.csv\"),index_col=0)\n",
    "oe = pyemu.ObservationEnsemble.from_dataframe(pst=pst,df=df)"
   ]
  },
  {
   "cell_type": "code",
   "execution_count": 25,
   "metadata": {},
   "outputs": [
    {
     "data": {
      "text/plain": [
       "real_name\n",
       "7      21.906757\n",
       "24     94.064807\n",
       "25    130.642360\n",
       "44    144.623771\n",
       "1     171.822277\n",
       "39    173.064244\n",
       "19    189.988899\n",
       "12    332.255646\n",
       "21    346.544001\n",
       "42    377.272242\n",
       "4     408.480862\n",
       "15    466.355447\n",
       "48    556.091368\n",
       "6     641.565693\n",
       "26    683.294694\n",
       "16    687.194301\n",
       "22    696.663817\n",
       "45    761.306957\n",
       "33    792.380236\n",
       "20    844.633515\n",
       "dtype: float64"
      ]
     },
     "execution_count": 25,
     "metadata": {},
     "output_type": "execute_result"
    },
    {
     "data": {
      "image/png": "[encoded data removed]",
      "text/plain": [
       "<Figure size 432x288 with 1 Axes>"
      ]
     },
     "metadata": {
      "needs_background": "light"
     },
     "output_type": "display_data"
    }
   ],
   "source": [
    "ax = oe.phi_vector.hist()#bins=np.linspace(0,100,20))\n",
    "oe.phi_vector.sort_values().iloc[:20]"
   ]
  },
  {
   "cell_type": "markdown",
   "metadata": {},
   "source": [
    "Same as before, to get a \"posterior\" ensemble, we need to throw out the realizations with large phi - lets just take the 20 best:"
   ]
  },
  {
   "cell_type": "code",
   "execution_count": 26,
   "metadata": {},
   "outputs": [],
   "source": [
    "oe_pt = oe.loc[oe.phi_vector.sort_values().index[:20],:] "
   ]
  },
  {
   "cell_type": "code",
   "execution_count": 27,
   "metadata": {
    "scrolled": true
   },
   "outputs": [
    {
     "data": {
      "text/html": [
       "<div>\n",
       "<style scoped>\n",
       "    .dataframe tbody tr th:only-of-type {\n",
       "        vertical-align: middle;\n",
       "    }\n",
       "\n",
       "    .dataframe tbody tr th {\n",
       "        vertical-align: top;\n",
       "    }\n",
       "\n",
       "    .dataframe thead th {\n",
       "        text-align: right;\n",
       "    }\n",
       "</style>\n",
       "<table border=\"1\" class=\"dataframe\">\n",
       "  <thead>\n",
       "    <tr style=\"text-align: right;\">\n",
       "      <th></th>\n",
       "      <th>prior_mean</th>\n",
       "      <th>prior_stdev</th>\n",
       "      <th>prior_lower_bound</th>\n",
       "      <th>prior_upper_bound</th>\n",
       "      <th>post_mean</th>\n",
       "      <th>post_stdev</th>\n",
       "      <th>post_lower_bound</th>\n",
       "      <th>post_upper_bound</th>\n",
       "    </tr>\n",
       "    <tr>\n",
       "      <th>name</th>\n",
       "      <th></th>\n",
       "      <th></th>\n",
       "      <th></th>\n",
       "      <th></th>\n",
       "      <th></th>\n",
       "      <th></th>\n",
       "      <th></th>\n",
       "      <th></th>\n",
       "    </tr>\n",
       "  </thead>\n",
       "  <tbody>\n",
       "    <tr>\n",
       "      <th>fa_hw_19791230</th>\n",
       "      <td>-977.2390</td>\n",
       "      <td>295.32800</td>\n",
       "      <td>-1567.8900</td>\n",
       "      <td>-386.5840</td>\n",
       "      <td>-650.4570</td>\n",
       "      <td>248.019000</td>\n",
       "      <td>-1146.5000</td>\n",
       "      <td>-154.4190</td>\n",
       "    </tr>\n",
       "    <tr>\n",
       "      <th>fa_hw_19801229</th>\n",
       "      <td>-351.2160</td>\n",
       "      <td>409.77000</td>\n",
       "      <td>-1170.7600</td>\n",
       "      <td>468.3240</td>\n",
       "      <td>-254.1730</td>\n",
       "      <td>335.584000</td>\n",
       "      <td>-925.3410</td>\n",
       "      <td>416.9940</td>\n",
       "    </tr>\n",
       "    <tr>\n",
       "      <th>fa_tw_19791230</th>\n",
       "      <td>-453.0330</td>\n",
       "      <td>409.35100</td>\n",
       "      <td>-1271.7400</td>\n",
       "      <td>365.6690</td>\n",
       "      <td>-57.8134</td>\n",
       "      <td>170.817000</td>\n",
       "      <td>-399.4470</td>\n",
       "      <td>283.8200</td>\n",
       "    </tr>\n",
       "    <tr>\n",
       "      <th>fa_tw_19801229</th>\n",
       "      <td>108.9600</td>\n",
       "      <td>506.73200</td>\n",
       "      <td>-904.5040</td>\n",
       "      <td>1122.4200</td>\n",
       "      <td>279.3360</td>\n",
       "      <td>263.851000</td>\n",
       "      <td>-248.3660</td>\n",
       "      <td>807.0390</td>\n",
       "    </tr>\n",
       "    <tr>\n",
       "      <th>hds_00_013_002_000</th>\n",
       "      <td>39.6102</td>\n",
       "      <td>3.96314</td>\n",
       "      <td>31.6840</td>\n",
       "      <td>47.5365</td>\n",
       "      <td>39.4960</td>\n",
       "      <td>0.277776</td>\n",
       "      <td>38.9405</td>\n",
       "      <td>40.0516</td>\n",
       "    </tr>\n",
       "    <tr>\n",
       "      <th>hds_00_013_002_001</th>\n",
       "      <td>38.3838</td>\n",
       "      <td>4.05782</td>\n",
       "      <td>30.2681</td>\n",
       "      <td>46.4994</td>\n",
       "      <td>38.4735</td>\n",
       "      <td>0.689849</td>\n",
       "      <td>37.0938</td>\n",
       "      <td>39.8532</td>\n",
       "    </tr>\n",
       "    <tr>\n",
       "      <th>part_status</th>\n",
       "      <td>2.0000</td>\n",
       "      <td>0.00000</td>\n",
       "      <td>2.0000</td>\n",
       "      <td>2.0000</td>\n",
       "      <td>2.0000</td>\n",
       "      <td>0.000000</td>\n",
       "      <td>2.0000</td>\n",
       "      <td>2.0000</td>\n",
       "    </tr>\n",
       "    <tr>\n",
       "      <th>part_time</th>\n",
       "      <td>907.7020</td>\n",
       "      <td>704.75100</td>\n",
       "      <td>-501.8010</td>\n",
       "      <td>2317.2000</td>\n",
       "      <td>1003.5700</td>\n",
       "      <td>603.650000</td>\n",
       "      <td>-203.7280</td>\n",
       "      <td>2210.8700</td>\n",
       "    </tr>\n",
       "  </tbody>\n",
       "</table>\n",
       "</div>"
      ],
      "text/plain": [
       "                    prior_mean  prior_stdev  prior_lower_bound  \\\n",
       "name                                                             \n",
       "fa_hw_19791230       -977.2390    295.32800         -1567.8900   \n",
       "fa_hw_19801229       -351.2160    409.77000         -1170.7600   \n",
       "fa_tw_19791230       -453.0330    409.35100         -1271.7400   \n",
       "fa_tw_19801229        108.9600    506.73200          -904.5040   \n",
       "hds_00_013_002_000     39.6102      3.96314            31.6840   \n",
       "hds_00_013_002_001     38.3838      4.05782            30.2681   \n",
       "part_status             2.0000      0.00000             2.0000   \n",
       "part_time             907.7020    704.75100          -501.8010   \n",
       "\n",
       "                    prior_upper_bound  post_mean  post_stdev  \\\n",
       "name                                                           \n",
       "fa_hw_19791230              -386.5840  -650.4570  248.019000   \n",
       "fa_hw_19801229               468.3240  -254.1730  335.584000   \n",
       "fa_tw_19791230               365.6690   -57.8134  170.817000   \n",
       "fa_tw_19801229              1122.4200   279.3360  263.851000   \n",
       "hds_00_013_002_000            47.5365    39.4960    0.277776   \n",
       "hds_00_013_002_001            46.4994    38.4735    0.689849   \n",
       "part_status                    2.0000     2.0000    0.000000   \n",
       "part_time                   2317.2000  1003.5700  603.650000   \n",
       "\n",
       "                    post_lower_bound  post_upper_bound  \n",
       "name                                                    \n",
       "fa_hw_19791230            -1146.5000         -154.4190  \n",
       "fa_hw_19801229             -925.3410          416.9940  \n",
       "fa_tw_19791230             -399.4470          283.8200  \n",
       "fa_tw_19801229             -248.3660          807.0390  \n",
       "hds_00_013_002_000           38.9405           40.0516  \n",
       "hds_00_013_002_001           37.0938           39.8532  \n",
       "part_status                   2.0000            2.0000  \n",
       "part_time                  -203.7280         2210.8700  "
      ]
     },
     "execution_count": 27,
     "metadata": {},
     "output_type": "execute_result"
    }
   ],
   "source": [
    "f_df = pd.read_csv(os.path.join(m_d,\"freyberg_pp.pred.usum.csv\"),index_col=0)\n",
    "f_df.index = f_df.index.map(str.lower)\n",
    "f_df"
   ]
  },
  {
   "cell_type": "code",
   "execution_count": 28,
   "metadata": {
    "scrolled": false
   },
   "outputs": [
    {
     "data": {
      "image/png": "[encoded data removed]",
      "text/plain": [
       "<Figure size 432x288 with 2 Axes>"
      ]
     },
     "metadata": {
      "needs_background": "light"
     },
     "output_type": "display_data"
    },
    {
     "data": {
      "image/png": "[encoded data removed]",
      "text/plain": [
       "<Figure size 432x288 with 2 Axes>"
      ]
     },
     "metadata": {
      "needs_background": "light"
     },
     "output_type": "display_data"
    },
    {
     "data": {
      "image/png": "[encoded data removed]",
      "text/plain": [
       "<Figure size 432x288 with 2 Axes>"
      ]
     },
     "metadata": {
      "needs_background": "light"
     },
     "output_type": "display_data"
    },
    {
     "data": {
      "image/png": "[encoded data removed]",
      "text/plain": [
       "<Figure size 432x288 with 2 Axes>"
      ]
     },
     "metadata": {
      "needs_background": "light"
     },
     "output_type": "display_data"
    },
    {
     "data": {
      "image/png": "[encoded data removed]",
      "text/plain": [
       "<Figure size 432x288 with 2 Axes>"
      ]
     },
     "metadata": {
      "needs_background": "light"
     },
     "output_type": "display_data"
    },
    {
     "data": {
      "image/png": "[encoded data removed]",
      "text/plain": [
       "<Figure size 432x288 with 2 Axes>"
      ]
     },
     "metadata": {
      "needs_background": "light"
     },
     "output_type": "display_data"
    },
    {
     "data": {
      "image/png": "[encoded data removed]",
      "text/plain": [
       "<Figure size 432x288 with 2 Axes>"
      ]
     },
     "metadata": {
      "needs_background": "light"
     },
     "output_type": "display_data"
    },
    {
     "data": {
      "image/png": "[encoded data removed]",
      "text/plain": [
       "<Figure size 432x288 with 2 Axes>"
      ]
     },
     "metadata": {
      "needs_background": "light"
     },
     "output_type": "display_data"
    }
   ],
   "source": [
    "obs = pst.observation_data\n",
    "fnames = pst.pestpp_options[\"forecasts\"].split(\",\")\n",
    "for forecast in fnames:\n",
    "    ax = plt.subplot(111)\n",
    "    oe_pt.loc[:,forecast].hist(ax=ax,color=\"b\",alpha=0.5,normed=True)\n",
    "    ax.plot([obs.loc[forecast,\"obsval\"],obs.loc[forecast,\"obsval\"]],ax.get_ylim(),\"r\")\n",
    "    axt = plt.twinx()\n",
    "    x,y = pyemu.plot_utils.gaussian_distribution(f_df.loc[forecast,\"prior_mean\"],f_df.loc[forecast,\"prior_stdev\"])\n",
    "    axt.fill_between(x,0,y,facecolor=\"0.5\",alpha=0.25)\n",
    "    x,y = pyemu.plot_utils.gaussian_distribution(f_df.loc[forecast,\"post_mean\"],f_df.loc[forecast,\"post_stdev\"])\n",
    "    axt.fill_between(x,0,y,facecolor=\"b\",alpha=0.25)\n",
    "    axt.set_ylim(0,axt.get_ylim()[1])\n",
    "    axt.set_yticks([])\n",
    "    ax.set_title(forecast)\n",
    "    plt.show()"
   ]
  },
  {
   "cell_type": "code",
   "execution_count": 29,
   "metadata": {},
   "outputs": [],
   "source": []
  },
  {
   "cell_type": "code",
   "execution_count": 29,
   "metadata": {},
   "outputs": [],
   "source": []
  },
  {
   "cell_type": "code",
   "execution_count": 29,
   "metadata": {},
   "outputs": [],
   "source": []
  },
  {
   "cell_type": "code",
   "execution_count": 29,
   "metadata": {},
   "outputs": [],
   "source": []
  }
 ],
 "metadata": {
  "kernelspec": {
   "display_name": "Python 3",
   "language": "python",
   "name": "python3"
  },
  "language_info": {
   "codemirror_mode": {
    "name": "ipython",
    "version": 3
   },
   "file_extension": ".py",
   "mimetype": "text/x-python",
   "name": "python",
   "nbconvert_exporter": "python",
   "pygments_lexer": "ipython3",
   "version": "3.5.6"
  }
 },
 "nbformat": 4,
 "nbformat_minor": 2
}
