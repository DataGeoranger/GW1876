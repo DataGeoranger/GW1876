{
 "cells": [
  {
   "cell_type": "markdown",
   "metadata": {},
   "source": [
    "# Run PESTPP-IES"
   ]
  },
  {
   "cell_type": "code",
   "execution_count": 1,
   "metadata": {},
   "outputs": [
    {
     "name": "stdout",
     "output_type": "stream",
     "text": [
      "flopy is installed in /Users/jeremyw/Dev/flopy/flopy\n"
     ]
    }
   ],
   "source": [
    "import os\n",
    "import shutil\n",
    "import numpy as np\n",
    "import pandas as pd\n",
    "import matplotlib.pyplot as plt\n",
    "import flopy\n",
    "import pyemu\n"
   ]
  },
  {
   "cell_type": "code",
   "execution_count": 2,
   "metadata": {},
   "outputs": [],
   "source": [
    "t_d = \"template\"\n",
    "m_d = \"master_ies\""
   ]
  },
  {
   "cell_type": "code",
   "execution_count": 3,
   "metadata": {},
   "outputs": [
    {
     "data": {
      "text/html": [
       "<div>\n",
       "<style scoped>\n",
       "    .dataframe tbody tr th:only-of-type {\n",
       "        vertical-align: middle;\n",
       "    }\n",
       "\n",
       "    .dataframe tbody tr th {\n",
       "        vertical-align: top;\n",
       "    }\n",
       "\n",
       "    .dataframe thead th {\n",
       "        text-align: right;\n",
       "    }\n",
       "</style>\n",
       "<table border=\"1\" class=\"dataframe\">\n",
       "  <thead>\n",
       "    <tr style=\"text-align: right;\">\n",
       "      <th></th>\n",
       "      <th>type</th>\n",
       "      <th>transform</th>\n",
       "      <th>count</th>\n",
       "      <th>initial value</th>\n",
       "      <th>upper bound</th>\n",
       "      <th>lower bound</th>\n",
       "      <th>standard deviation</th>\n",
       "    </tr>\n",
       "  </thead>\n",
       "  <tbody>\n",
       "    <tr>\n",
       "      <th>grvka4</th>\n",
       "      <td>grvka4</td>\n",
       "      <td>log</td>\n",
       "      <td>705</td>\n",
       "      <td>0</td>\n",
       "      <td>1</td>\n",
       "      <td>-1</td>\n",
       "      <td>0.5</td>\n",
       "    </tr>\n",
       "    <tr>\n",
       "      <th>pp_ss0</th>\n",
       "      <td>pp_ss0</td>\n",
       "      <td>log</td>\n",
       "      <td>67</td>\n",
       "      <td>0</td>\n",
       "      <td>1</td>\n",
       "      <td>-1</td>\n",
       "      <td>0.5</td>\n",
       "    </tr>\n",
       "    <tr>\n",
       "      <th>sy7_cn</th>\n",
       "      <td>sy7_cn</td>\n",
       "      <td>log</td>\n",
       "      <td>1</td>\n",
       "      <td>0</td>\n",
       "      <td>0.243038</td>\n",
       "      <td>-0.60206</td>\n",
       "      <td>0.211275</td>\n",
       "    </tr>\n",
       "    <tr>\n",
       "      <th>pp_hk2</th>\n",
       "      <td>pp_hk2</td>\n",
       "      <td>log</td>\n",
       "      <td>67</td>\n",
       "      <td>0</td>\n",
       "      <td>1</td>\n",
       "      <td>-1</td>\n",
       "      <td>0.5</td>\n",
       "    </tr>\n",
       "    <tr>\n",
       "      <th>vka7_cn</th>\n",
       "      <td>vka7_cn</td>\n",
       "      <td>log</td>\n",
       "      <td>1</td>\n",
       "      <td>0</td>\n",
       "      <td>1</td>\n",
       "      <td>-1</td>\n",
       "      <td>0.5</td>\n",
       "    </tr>\n",
       "    <tr>\n",
       "      <th>grsy5</th>\n",
       "      <td>grsy5</td>\n",
       "      <td>log</td>\n",
       "      <td>705</td>\n",
       "      <td>0</td>\n",
       "      <td>0.243038</td>\n",
       "      <td>-0.60206</td>\n",
       "      <td>0.211275</td>\n",
       "    </tr>\n",
       "    <tr>\n",
       "      <th>grhk3</th>\n",
       "      <td>grhk3</td>\n",
       "      <td>log</td>\n",
       "      <td>705</td>\n",
       "      <td>0</td>\n",
       "      <td>1</td>\n",
       "      <td>-1</td>\n",
       "      <td>0.5</td>\n",
       "    </tr>\n",
       "    <tr>\n",
       "      <th>pp_ss1</th>\n",
       "      <td>pp_ss1</td>\n",
       "      <td>log</td>\n",
       "      <td>67</td>\n",
       "      <td>0</td>\n",
       "      <td>1</td>\n",
       "      <td>-1</td>\n",
       "      <td>0.5</td>\n",
       "    </tr>\n",
       "    <tr>\n",
       "      <th>pp_sy1</th>\n",
       "      <td>pp_sy1</td>\n",
       "      <td>log</td>\n",
       "      <td>67</td>\n",
       "      <td>0</td>\n",
       "      <td>0.243038</td>\n",
       "      <td>-0.60206</td>\n",
       "      <td>0.211275</td>\n",
       "    </tr>\n",
       "    <tr>\n",
       "      <th>hk8_cn</th>\n",
       "      <td>hk8_cn</td>\n",
       "      <td>log</td>\n",
       "      <td>1</td>\n",
       "      <td>0</td>\n",
       "      <td>1</td>\n",
       "      <td>-1</td>\n",
       "      <td>0.5</td>\n",
       "    </tr>\n",
       "    <tr>\n",
       "      <th>grss3</th>\n",
       "      <td>grss3</td>\n",
       "      <td>log</td>\n",
       "      <td>705</td>\n",
       "      <td>0</td>\n",
       "      <td>1</td>\n",
       "      <td>-1</td>\n",
       "      <td>0.5</td>\n",
       "    </tr>\n",
       "    <tr>\n",
       "      <th>grsy4</th>\n",
       "      <td>grsy4</td>\n",
       "      <td>log</td>\n",
       "      <td>705</td>\n",
       "      <td>0</td>\n",
       "      <td>0.243038</td>\n",
       "      <td>-0.60206</td>\n",
       "      <td>0.211275</td>\n",
       "    </tr>\n",
       "    <tr>\n",
       "      <th>strk</th>\n",
       "      <td>strk</td>\n",
       "      <td>log</td>\n",
       "      <td>40</td>\n",
       "      <td>0</td>\n",
       "      <td>2</td>\n",
       "      <td>-2</td>\n",
       "      <td>1</td>\n",
       "    </tr>\n",
       "    <tr>\n",
       "      <th>pp_vka2</th>\n",
       "      <td>pp_vka2</td>\n",
       "      <td>log</td>\n",
       "      <td>67</td>\n",
       "      <td>0</td>\n",
       "      <td>1</td>\n",
       "      <td>-1</td>\n",
       "      <td>0.5</td>\n",
       "    </tr>\n",
       "    <tr>\n",
       "      <th>pp_vka0</th>\n",
       "      <td>pp_vka0</td>\n",
       "      <td>log</td>\n",
       "      <td>67</td>\n",
       "      <td>0</td>\n",
       "      <td>1</td>\n",
       "      <td>-1</td>\n",
       "      <td>0.5</td>\n",
       "    </tr>\n",
       "    <tr>\n",
       "      <th>pp_hk1</th>\n",
       "      <td>pp_hk1</td>\n",
       "      <td>log</td>\n",
       "      <td>67</td>\n",
       "      <td>0</td>\n",
       "      <td>1</td>\n",
       "      <td>-1</td>\n",
       "      <td>0.5</td>\n",
       "    </tr>\n",
       "    <tr>\n",
       "      <th>grvka3</th>\n",
       "      <td>grvka3</td>\n",
       "      <td>log</td>\n",
       "      <td>705</td>\n",
       "      <td>0</td>\n",
       "      <td>1</td>\n",
       "      <td>-1</td>\n",
       "      <td>0.5</td>\n",
       "    </tr>\n",
       "    <tr>\n",
       "      <th>grss4</th>\n",
       "      <td>grss4</td>\n",
       "      <td>log</td>\n",
       "      <td>705</td>\n",
       "      <td>0</td>\n",
       "      <td>1</td>\n",
       "      <td>-1</td>\n",
       "      <td>0.5</td>\n",
       "    </tr>\n",
       "    <tr>\n",
       "      <th>hk7_cn</th>\n",
       "      <td>hk7_cn</td>\n",
       "      <td>log</td>\n",
       "      <td>1</td>\n",
       "      <td>0</td>\n",
       "      <td>1</td>\n",
       "      <td>-1</td>\n",
       "      <td>0.5</td>\n",
       "    </tr>\n",
       "    <tr>\n",
       "      <th>pp_rech0</th>\n",
       "      <td>pp_rech0</td>\n",
       "      <td>log</td>\n",
       "      <td>67</td>\n",
       "      <td>0</td>\n",
       "      <td>0.0413927</td>\n",
       "      <td>-0.0457575</td>\n",
       "      <td>0.0217875</td>\n",
       "    </tr>\n",
       "    <tr>\n",
       "      <th>pp_sy2</th>\n",
       "      <td>pp_sy2</td>\n",
       "      <td>log</td>\n",
       "      <td>67</td>\n",
       "      <td>0</td>\n",
       "      <td>0.243038</td>\n",
       "      <td>-0.60206</td>\n",
       "      <td>0.211275</td>\n",
       "    </tr>\n",
       "    <tr>\n",
       "      <th>welflux</th>\n",
       "      <td>welflux</td>\n",
       "      <td>log</td>\n",
       "      <td>2</td>\n",
       "      <td>0 to 0.176091</td>\n",
       "      <td>0.176091 to 0.30103</td>\n",
       "      <td>-0.30103 to     0</td>\n",
       "      <td>0.0752575 to 0.11928</td>\n",
       "    </tr>\n",
       "    <tr>\n",
       "      <th>grrech3</th>\n",
       "      <td>grrech3</td>\n",
       "      <td>log</td>\n",
       "      <td>705</td>\n",
       "      <td>0</td>\n",
       "      <td>0.0413927</td>\n",
       "      <td>-0.0457575</td>\n",
       "      <td>0.0217875</td>\n",
       "    </tr>\n",
       "    <tr>\n",
       "      <th>rech5_cn</th>\n",
       "      <td>rech5_cn</td>\n",
       "      <td>log</td>\n",
       "      <td>1</td>\n",
       "      <td>-0.39794</td>\n",
       "      <td>-0.09691</td>\n",
       "      <td>-1</td>\n",
       "      <td>0.225772</td>\n",
       "    </tr>\n",
       "    <tr>\n",
       "      <th>rech4_cn</th>\n",
       "      <td>rech4_cn</td>\n",
       "      <td>log</td>\n",
       "      <td>1</td>\n",
       "      <td>0</td>\n",
       "      <td>0.0791812</td>\n",
       "      <td>-0.09691</td>\n",
       "      <td>0.0440228</td>\n",
       "    </tr>\n",
       "    <tr>\n",
       "      <th>vka6_cn</th>\n",
       "      <td>vka6_cn</td>\n",
       "      <td>log</td>\n",
       "      <td>1</td>\n",
       "      <td>0</td>\n",
       "      <td>1</td>\n",
       "      <td>-1</td>\n",
       "      <td>0.5</td>\n",
       "    </tr>\n",
       "    <tr>\n",
       "      <th>pp_sy0</th>\n",
       "      <td>pp_sy0</td>\n",
       "      <td>log</td>\n",
       "      <td>67</td>\n",
       "      <td>0</td>\n",
       "      <td>0.243038</td>\n",
       "      <td>-0.60206</td>\n",
       "      <td>0.211275</td>\n",
       "    </tr>\n",
       "    <tr>\n",
       "      <th>grhk5</th>\n",
       "      <td>grhk5</td>\n",
       "      <td>log</td>\n",
       "      <td>705</td>\n",
       "      <td>0</td>\n",
       "      <td>1</td>\n",
       "      <td>-1</td>\n",
       "      <td>0.5</td>\n",
       "    </tr>\n",
       "    <tr>\n",
       "      <th>ss7_cn</th>\n",
       "      <td>ss7_cn</td>\n",
       "      <td>log</td>\n",
       "      <td>1</td>\n",
       "      <td>0</td>\n",
       "      <td>1</td>\n",
       "      <td>-1</td>\n",
       "      <td>0.5</td>\n",
       "    </tr>\n",
       "    <tr>\n",
       "      <th>flow</th>\n",
       "      <td>flow</td>\n",
       "      <td>log</td>\n",
       "      <td>1</td>\n",
       "      <td>0</td>\n",
       "      <td>0.09691</td>\n",
       "      <td>-0.124939</td>\n",
       "      <td>0.0554622</td>\n",
       "    </tr>\n",
       "    <tr>\n",
       "      <th>pp_vka1</th>\n",
       "      <td>pp_vka1</td>\n",
       "      <td>log</td>\n",
       "      <td>67</td>\n",
       "      <td>0</td>\n",
       "      <td>1</td>\n",
       "      <td>-1</td>\n",
       "      <td>0.5</td>\n",
       "    </tr>\n",
       "    <tr>\n",
       "      <th>sy6_cn</th>\n",
       "      <td>sy6_cn</td>\n",
       "      <td>log</td>\n",
       "      <td>1</td>\n",
       "      <td>0</td>\n",
       "      <td>0.243038</td>\n",
       "      <td>-0.60206</td>\n",
       "      <td>0.211275</td>\n",
       "    </tr>\n",
       "    <tr>\n",
       "      <th>ss8_cn</th>\n",
       "      <td>ss8_cn</td>\n",
       "      <td>log</td>\n",
       "      <td>1</td>\n",
       "      <td>0</td>\n",
       "      <td>1</td>\n",
       "      <td>-1</td>\n",
       "      <td>0.5</td>\n",
       "    </tr>\n",
       "    <tr>\n",
       "      <th>grsy3</th>\n",
       "      <td>grsy3</td>\n",
       "      <td>log</td>\n",
       "      <td>705</td>\n",
       "      <td>0</td>\n",
       "      <td>0.243038</td>\n",
       "      <td>-0.60206</td>\n",
       "      <td>0.211275</td>\n",
       "    </tr>\n",
       "    <tr>\n",
       "      <th>grhk4</th>\n",
       "      <td>grhk4</td>\n",
       "      <td>log</td>\n",
       "      <td>705</td>\n",
       "      <td>0</td>\n",
       "      <td>1</td>\n",
       "      <td>-1</td>\n",
       "      <td>0.5</td>\n",
       "    </tr>\n",
       "    <tr>\n",
       "      <th>drncond_k00</th>\n",
       "      <td>drncond_k00</td>\n",
       "      <td>log</td>\n",
       "      <td>10</td>\n",
       "      <td>0</td>\n",
       "      <td>1</td>\n",
       "      <td>-1</td>\n",
       "      <td>0.5</td>\n",
       "    </tr>\n",
       "    <tr>\n",
       "      <th>pp_ss2</th>\n",
       "      <td>pp_ss2</td>\n",
       "      <td>log</td>\n",
       "      <td>67</td>\n",
       "      <td>0</td>\n",
       "      <td>1</td>\n",
       "      <td>-1</td>\n",
       "      <td>0.5</td>\n",
       "    </tr>\n",
       "    <tr>\n",
       "      <th>sy8_cn</th>\n",
       "      <td>sy8_cn</td>\n",
       "      <td>log</td>\n",
       "      <td>1</td>\n",
       "      <td>0</td>\n",
       "      <td>0.243038</td>\n",
       "      <td>-0.60206</td>\n",
       "      <td>0.211275</td>\n",
       "    </tr>\n",
       "    <tr>\n",
       "      <th>pp_rech1</th>\n",
       "      <td>pp_rech1</td>\n",
       "      <td>log</td>\n",
       "      <td>67</td>\n",
       "      <td>0</td>\n",
       "      <td>0.0413927</td>\n",
       "      <td>-0.0457575</td>\n",
       "      <td>0.0217875</td>\n",
       "    </tr>\n",
       "    <tr>\n",
       "      <th>grrech2</th>\n",
       "      <td>grrech2</td>\n",
       "      <td>log</td>\n",
       "      <td>705</td>\n",
       "      <td>0</td>\n",
       "      <td>0.0413927</td>\n",
       "      <td>-0.0457575</td>\n",
       "      <td>0.0217875</td>\n",
       "    </tr>\n",
       "    <tr>\n",
       "      <th>grvka5</th>\n",
       "      <td>grvka5</td>\n",
       "      <td>log</td>\n",
       "      <td>705</td>\n",
       "      <td>0</td>\n",
       "      <td>1</td>\n",
       "      <td>-1</td>\n",
       "      <td>0.5</td>\n",
       "    </tr>\n",
       "    <tr>\n",
       "      <th>pp_hk0</th>\n",
       "      <td>pp_hk0</td>\n",
       "      <td>log</td>\n",
       "      <td>67</td>\n",
       "      <td>0</td>\n",
       "      <td>1</td>\n",
       "      <td>-1</td>\n",
       "      <td>0.5</td>\n",
       "    </tr>\n",
       "    <tr>\n",
       "      <th>hk6_cn</th>\n",
       "      <td>hk6_cn</td>\n",
       "      <td>log</td>\n",
       "      <td>1</td>\n",
       "      <td>0</td>\n",
       "      <td>1</td>\n",
       "      <td>-1</td>\n",
       "      <td>0.5</td>\n",
       "    </tr>\n",
       "    <tr>\n",
       "      <th>vka8_cn</th>\n",
       "      <td>vka8_cn</td>\n",
       "      <td>log</td>\n",
       "      <td>1</td>\n",
       "      <td>0</td>\n",
       "      <td>1</td>\n",
       "      <td>-1</td>\n",
       "      <td>0.5</td>\n",
       "    </tr>\n",
       "    <tr>\n",
       "      <th>ss6_cn</th>\n",
       "      <td>ss6_cn</td>\n",
       "      <td>log</td>\n",
       "      <td>1</td>\n",
       "      <td>0</td>\n",
       "      <td>1</td>\n",
       "      <td>-1</td>\n",
       "      <td>0.5</td>\n",
       "    </tr>\n",
       "    <tr>\n",
       "      <th>grss5</th>\n",
       "      <td>grss5</td>\n",
       "      <td>log</td>\n",
       "      <td>705</td>\n",
       "      <td>0</td>\n",
       "      <td>1</td>\n",
       "      <td>-1</td>\n",
       "      <td>0.5</td>\n",
       "    </tr>\n",
       "    <tr>\n",
       "      <th>welflux_k02</th>\n",
       "      <td>welflux_k02</td>\n",
       "      <td>log</td>\n",
       "      <td>6</td>\n",
       "      <td>0</td>\n",
       "      <td>1</td>\n",
       "      <td>-1</td>\n",
       "      <td>0.5</td>\n",
       "    </tr>\n",
       "  </tbody>\n",
       "</table>\n",
       "</div>"
      ],
      "text/plain": [
       "                    type transform  count      initial value  \\\n",
       "grvka4            grvka4       log    705                  0   \n",
       "pp_ss0            pp_ss0       log     67                  0   \n",
       "sy7_cn            sy7_cn       log      1                  0   \n",
       "pp_hk2            pp_hk2       log     67                  0   \n",
       "vka7_cn          vka7_cn       log      1                  0   \n",
       "grsy5              grsy5       log    705                  0   \n",
       "grhk3              grhk3       log    705                  0   \n",
       "pp_ss1            pp_ss1       log     67                  0   \n",
       "pp_sy1            pp_sy1       log     67                  0   \n",
       "hk8_cn            hk8_cn       log      1                  0   \n",
       "grss3              grss3       log    705                  0   \n",
       "grsy4              grsy4       log    705                  0   \n",
       "strk                strk       log     40                  0   \n",
       "pp_vka2          pp_vka2       log     67                  0   \n",
       "pp_vka0          pp_vka0       log     67                  0   \n",
       "pp_hk1            pp_hk1       log     67                  0   \n",
       "grvka3            grvka3       log    705                  0   \n",
       "grss4              grss4       log    705                  0   \n",
       "hk7_cn            hk7_cn       log      1                  0   \n",
       "pp_rech0        pp_rech0       log     67                  0   \n",
       "pp_sy2            pp_sy2       log     67                  0   \n",
       "welflux          welflux       log      2      0 to 0.176091   \n",
       "grrech3          grrech3       log    705                  0   \n",
       "rech5_cn        rech5_cn       log      1           -0.39794   \n",
       "rech4_cn        rech4_cn       log      1                  0   \n",
       "vka6_cn          vka6_cn       log      1                  0   \n",
       "pp_sy0            pp_sy0       log     67                  0   \n",
       "grhk5              grhk5       log    705                  0   \n",
       "ss7_cn            ss7_cn       log      1                  0   \n",
       "flow                flow       log      1                  0   \n",
       "pp_vka1          pp_vka1       log     67                  0   \n",
       "sy6_cn            sy6_cn       log      1                  0   \n",
       "ss8_cn            ss8_cn       log      1                  0   \n",
       "grsy3              grsy3       log    705                  0   \n",
       "grhk4              grhk4       log    705                  0   \n",
       "drncond_k00  drncond_k00       log     10                  0   \n",
       "pp_ss2            pp_ss2       log     67                  0   \n",
       "sy8_cn            sy8_cn       log      1                  0   \n",
       "pp_rech1        pp_rech1       log     67                  0   \n",
       "grrech2          grrech2       log    705                  0   \n",
       "grvka5            grvka5       log    705                  0   \n",
       "pp_hk0            pp_hk0       log     67                  0   \n",
       "hk6_cn            hk6_cn       log      1                  0   \n",
       "vka8_cn          vka8_cn       log      1                  0   \n",
       "ss6_cn            ss6_cn       log      1                  0   \n",
       "grss5              grss5       log    705                  0   \n",
       "welflux_k02  welflux_k02       log      6                  0   \n",
       "\n",
       "                     upper bound        lower bound    standard deviation  \n",
       "grvka4                         1                 -1                   0.5  \n",
       "pp_ss0                         1                 -1                   0.5  \n",
       "sy7_cn                  0.243038           -0.60206              0.211275  \n",
       "pp_hk2                         1                 -1                   0.5  \n",
       "vka7_cn                        1                 -1                   0.5  \n",
       "grsy5                   0.243038           -0.60206              0.211275  \n",
       "grhk3                          1                 -1                   0.5  \n",
       "pp_ss1                         1                 -1                   0.5  \n",
       "pp_sy1                  0.243038           -0.60206              0.211275  \n",
       "hk8_cn                         1                 -1                   0.5  \n",
       "grss3                          1                 -1                   0.5  \n",
       "grsy4                   0.243038           -0.60206              0.211275  \n",
       "strk                           2                 -2                     1  \n",
       "pp_vka2                        1                 -1                   0.5  \n",
       "pp_vka0                        1                 -1                   0.5  \n",
       "pp_hk1                         1                 -1                   0.5  \n",
       "grvka3                         1                 -1                   0.5  \n",
       "grss4                          1                 -1                   0.5  \n",
       "hk7_cn                         1                 -1                   0.5  \n",
       "pp_rech0               0.0413927         -0.0457575             0.0217875  \n",
       "pp_sy2                  0.243038           -0.60206              0.211275  \n",
       "welflux      0.176091 to 0.30103  -0.30103 to     0  0.0752575 to 0.11928  \n",
       "grrech3                0.0413927         -0.0457575             0.0217875  \n",
       "rech5_cn                -0.09691                 -1              0.225772  \n",
       "rech4_cn               0.0791812           -0.09691             0.0440228  \n",
       "vka6_cn                        1                 -1                   0.5  \n",
       "pp_sy0                  0.243038           -0.60206              0.211275  \n",
       "grhk5                          1                 -1                   0.5  \n",
       "ss7_cn                         1                 -1                   0.5  \n",
       "flow                     0.09691          -0.124939             0.0554622  \n",
       "pp_vka1                        1                 -1                   0.5  \n",
       "sy6_cn                  0.243038           -0.60206              0.211275  \n",
       "ss8_cn                         1                 -1                   0.5  \n",
       "grsy3                   0.243038           -0.60206              0.211275  \n",
       "grhk4                          1                 -1                   0.5  \n",
       "drncond_k00                    1                 -1                   0.5  \n",
       "pp_ss2                         1                 -1                   0.5  \n",
       "sy8_cn                  0.243038           -0.60206              0.211275  \n",
       "pp_rech1               0.0413927         -0.0457575             0.0217875  \n",
       "grrech2                0.0413927         -0.0457575             0.0217875  \n",
       "grvka5                         1                 -1                   0.5  \n",
       "pp_hk0                         1                 -1                   0.5  \n",
       "hk6_cn                         1                 -1                   0.5  \n",
       "vka8_cn                        1                 -1                   0.5  \n",
       "ss6_cn                         1                 -1                   0.5  \n",
       "grss5                          1                 -1                   0.5  \n",
       "welflux_k02                    1                 -1                   0.5  "
      ]
     },
     "execution_count": 3,
     "metadata": {},
     "output_type": "execute_result"
    }
   ],
   "source": [
    "pst = pyemu.Pst(os.path.join(t_d,\"freyberg.pst\"))\n",
    "pst.write_par_summary_table(filename=\"none\")"
   ]
  },
  {
   "cell_type": "markdown",
   "metadata": {},
   "source": [
    "### Run PESTPP-IES in original mode and post process"
   ]
  },
  {
   "cell_type": "code",
   "execution_count": 30,
   "metadata": {},
   "outputs": [],
   "source": [
    "pst.pestpp_options[\"ies_num_reals\"] = 100\n",
    "pst.pestpp_options[\"ies_par_en\"] = \"sweep_in.csv\"\n",
    "pst.control_data.noptmax = 3"
   ]
  },
  {
   "cell_type": "code",
   "execution_count": 31,
   "metadata": {},
   "outputs": [],
   "source": [
    "pst.write(os.path.join(t_d,\"freyberg_ies.pst\"))"
   ]
  },
  {
   "cell_type": "code",
   "execution_count": 32,
   "metadata": {},
   "outputs": [],
   "source": [
    "pyemu.os_utils.start_slaves(t_d,\"pestpp-ies\",\"freyberg_ies.pst\",num_slaves=20,master_dir=m_d)"
   ]
  },
  {
   "cell_type": "code",
   "execution_count": 42,
   "metadata": {},
   "outputs": [
    {
     "ename": "FileNotFoundError",
     "evalue": "File b'master_ies/freyberg_ies.0.obs.csv' does not exist",
     "output_type": "error",
     "traceback": [
      "\u001b[0;31m---------------------------------------------------------------------------\u001b[0m",
      "\u001b[0;31mFileNotFoundError\u001b[0m                         Traceback (most recent call last)",
      "\u001b[0;32m<ipython-input-42-4dbd60a9c958>\u001b[0m in \u001b[0;36m<module>\u001b[0;34m()\u001b[0m\n\u001b[0;32m----> 1\u001b[0;31m \u001b[0moe_pr\u001b[0m \u001b[0;34m=\u001b[0m \u001b[0mpd\u001b[0m\u001b[0;34m.\u001b[0m\u001b[0mread_csv\u001b[0m\u001b[0;34m(\u001b[0m\u001b[0mos\u001b[0m\u001b[0;34m.\u001b[0m\u001b[0mpath\u001b[0m\u001b[0;34m.\u001b[0m\u001b[0mjoin\u001b[0m\u001b[0;34m(\u001b[0m\u001b[0mm_d\u001b[0m\u001b[0;34m,\u001b[0m\u001b[0;34m\"freyberg_ies.0.obs.csv\"\u001b[0m\u001b[0;34m)\u001b[0m\u001b[0;34m,\u001b[0m\u001b[0mindex_col\u001b[0m\u001b[0;34m=\u001b[0m\u001b[0;36m0\u001b[0m\u001b[0;34m)\u001b[0m\u001b[0;34m\u001b[0m\u001b[0m\n\u001b[0m\u001b[1;32m      2\u001b[0m \u001b[0moe_pt\u001b[0m \u001b[0;34m=\u001b[0m \u001b[0mpd\u001b[0m\u001b[0;34m.\u001b[0m\u001b[0mread_csv\u001b[0m\u001b[0;34m(\u001b[0m\u001b[0mos\u001b[0m\u001b[0;34m.\u001b[0m\u001b[0mpath\u001b[0m\u001b[0;34m.\u001b[0m\u001b[0mjoin\u001b[0m\u001b[0;34m(\u001b[0m\u001b[0mm_d\u001b[0m\u001b[0;34m,\u001b[0m\u001b[0;34m\"freyberg_ies.{0}.obs.csv\"\u001b[0m\u001b[0;34m.\u001b[0m\u001b[0mformat\u001b[0m\u001b[0;34m(\u001b[0m\u001b[0mpst\u001b[0m\u001b[0;34m.\u001b[0m\u001b[0mcontrol_data\u001b[0m\u001b[0;34m.\u001b[0m\u001b[0mnoptmax\u001b[0m\u001b[0;34m)\u001b[0m\u001b[0;34m)\u001b[0m\u001b[0;34m,\u001b[0m\u001b[0mindex_col\u001b[0m\u001b[0;34m=\u001b[0m\u001b[0;36m0\u001b[0m\u001b[0;34m)\u001b[0m\u001b[0;34m\u001b[0m\u001b[0m\n",
      "\u001b[0;32m~/miniconda3/lib/python3.5/site-packages/pandas/io/parsers.py\u001b[0m in \u001b[0;36mparser_f\u001b[0;34m(filepath_or_buffer, sep, delimiter, header, names, index_col, usecols, squeeze, prefix, mangle_dupe_cols, dtype, engine, converters, true_values, false_values, skipinitialspace, skiprows, nrows, na_values, keep_default_na, na_filter, verbose, skip_blank_lines, parse_dates, infer_datetime_format, keep_date_col, date_parser, dayfirst, iterator, chunksize, compression, thousands, decimal, lineterminator, quotechar, quoting, escapechar, comment, encoding, dialect, tupleize_cols, error_bad_lines, warn_bad_lines, skipfooter, doublequote, delim_whitespace, low_memory, memory_map, float_precision)\u001b[0m\n\u001b[1;32m    676\u001b[0m                     skip_blank_lines=skip_blank_lines)\n\u001b[1;32m    677\u001b[0m \u001b[0;34m\u001b[0m\u001b[0m\n\u001b[0;32m--> 678\u001b[0;31m         \u001b[0;32mreturn\u001b[0m \u001b[0m_read\u001b[0m\u001b[0;34m(\u001b[0m\u001b[0mfilepath_or_buffer\u001b[0m\u001b[0;34m,\u001b[0m \u001b[0mkwds\u001b[0m\u001b[0;34m)\u001b[0m\u001b[0;34m\u001b[0m\u001b[0m\n\u001b[0m\u001b[1;32m    679\u001b[0m \u001b[0;34m\u001b[0m\u001b[0m\n\u001b[1;32m    680\u001b[0m     \u001b[0mparser_f\u001b[0m\u001b[0;34m.\u001b[0m\u001b[0m__name__\u001b[0m \u001b[0;34m=\u001b[0m \u001b[0mname\u001b[0m\u001b[0;34m\u001b[0m\u001b[0m\n",
      "\u001b[0;32m~/miniconda3/lib/python3.5/site-packages/pandas/io/parsers.py\u001b[0m in \u001b[0;36m_read\u001b[0;34m(filepath_or_buffer, kwds)\u001b[0m\n\u001b[1;32m    438\u001b[0m \u001b[0;34m\u001b[0m\u001b[0m\n\u001b[1;32m    439\u001b[0m     \u001b[0;31m# Create the parser.\u001b[0m\u001b[0;34m\u001b[0m\u001b[0;34m\u001b[0m\u001b[0m\n\u001b[0;32m--> 440\u001b[0;31m     \u001b[0mparser\u001b[0m \u001b[0;34m=\u001b[0m \u001b[0mTextFileReader\u001b[0m\u001b[0;34m(\u001b[0m\u001b[0mfilepath_or_buffer\u001b[0m\u001b[0;34m,\u001b[0m \u001b[0;34m**\u001b[0m\u001b[0mkwds\u001b[0m\u001b[0;34m)\u001b[0m\u001b[0;34m\u001b[0m\u001b[0m\n\u001b[0m\u001b[1;32m    441\u001b[0m \u001b[0;34m\u001b[0m\u001b[0m\n\u001b[1;32m    442\u001b[0m     \u001b[0;32mif\u001b[0m \u001b[0mchunksize\u001b[0m \u001b[0;32mor\u001b[0m \u001b[0miterator\u001b[0m\u001b[0;34m:\u001b[0m\u001b[0;34m\u001b[0m\u001b[0m\n",
      "\u001b[0;32m~/miniconda3/lib/python3.5/site-packages/pandas/io/parsers.py\u001b[0m in \u001b[0;36m__init__\u001b[0;34m(self, f, engine, **kwds)\u001b[0m\n\u001b[1;32m    785\u001b[0m             \u001b[0mself\u001b[0m\u001b[0;34m.\u001b[0m\u001b[0moptions\u001b[0m\u001b[0;34m[\u001b[0m\u001b[0;34m'has_index_names'\u001b[0m\u001b[0;34m]\u001b[0m \u001b[0;34m=\u001b[0m \u001b[0mkwds\u001b[0m\u001b[0;34m[\u001b[0m\u001b[0;34m'has_index_names'\u001b[0m\u001b[0;34m]\u001b[0m\u001b[0;34m\u001b[0m\u001b[0m\n\u001b[1;32m    786\u001b[0m \u001b[0;34m\u001b[0m\u001b[0m\n\u001b[0;32m--> 787\u001b[0;31m         \u001b[0mself\u001b[0m\u001b[0;34m.\u001b[0m\u001b[0m_make_engine\u001b[0m\u001b[0;34m(\u001b[0m\u001b[0mself\u001b[0m\u001b[0;34m.\u001b[0m\u001b[0mengine\u001b[0m\u001b[0;34m)\u001b[0m\u001b[0;34m\u001b[0m\u001b[0m\n\u001b[0m\u001b[1;32m    788\u001b[0m \u001b[0;34m\u001b[0m\u001b[0m\n\u001b[1;32m    789\u001b[0m     \u001b[0;32mdef\u001b[0m \u001b[0mclose\u001b[0m\u001b[0;34m(\u001b[0m\u001b[0mself\u001b[0m\u001b[0;34m)\u001b[0m\u001b[0;34m:\u001b[0m\u001b[0;34m\u001b[0m\u001b[0m\n",
      "\u001b[0;32m~/miniconda3/lib/python3.5/site-packages/pandas/io/parsers.py\u001b[0m in \u001b[0;36m_make_engine\u001b[0;34m(self, engine)\u001b[0m\n\u001b[1;32m   1012\u001b[0m     \u001b[0;32mdef\u001b[0m \u001b[0m_make_engine\u001b[0m\u001b[0;34m(\u001b[0m\u001b[0mself\u001b[0m\u001b[0;34m,\u001b[0m \u001b[0mengine\u001b[0m\u001b[0;34m=\u001b[0m\u001b[0;34m'c'\u001b[0m\u001b[0;34m)\u001b[0m\u001b[0;34m:\u001b[0m\u001b[0;34m\u001b[0m\u001b[0m\n\u001b[1;32m   1013\u001b[0m         \u001b[0;32mif\u001b[0m \u001b[0mengine\u001b[0m \u001b[0;34m==\u001b[0m \u001b[0;34m'c'\u001b[0m\u001b[0;34m:\u001b[0m\u001b[0;34m\u001b[0m\u001b[0m\n\u001b[0;32m-> 1014\u001b[0;31m             \u001b[0mself\u001b[0m\u001b[0;34m.\u001b[0m\u001b[0m_engine\u001b[0m \u001b[0;34m=\u001b[0m \u001b[0mCParserWrapper\u001b[0m\u001b[0;34m(\u001b[0m\u001b[0mself\u001b[0m\u001b[0;34m.\u001b[0m\u001b[0mf\u001b[0m\u001b[0;34m,\u001b[0m \u001b[0;34m**\u001b[0m\u001b[0mself\u001b[0m\u001b[0;34m.\u001b[0m\u001b[0moptions\u001b[0m\u001b[0;34m)\u001b[0m\u001b[0;34m\u001b[0m\u001b[0m\n\u001b[0m\u001b[1;32m   1015\u001b[0m         \u001b[0;32melse\u001b[0m\u001b[0;34m:\u001b[0m\u001b[0;34m\u001b[0m\u001b[0m\n\u001b[1;32m   1016\u001b[0m             \u001b[0;32mif\u001b[0m \u001b[0mengine\u001b[0m \u001b[0;34m==\u001b[0m \u001b[0;34m'python'\u001b[0m\u001b[0;34m:\u001b[0m\u001b[0;34m\u001b[0m\u001b[0m\n",
      "\u001b[0;32m~/miniconda3/lib/python3.5/site-packages/pandas/io/parsers.py\u001b[0m in \u001b[0;36m__init__\u001b[0;34m(self, src, **kwds)\u001b[0m\n\u001b[1;32m   1706\u001b[0m         \u001b[0mkwds\u001b[0m\u001b[0;34m[\u001b[0m\u001b[0;34m'usecols'\u001b[0m\u001b[0;34m]\u001b[0m \u001b[0;34m=\u001b[0m \u001b[0mself\u001b[0m\u001b[0;34m.\u001b[0m\u001b[0musecols\u001b[0m\u001b[0;34m\u001b[0m\u001b[0m\n\u001b[1;32m   1707\u001b[0m \u001b[0;34m\u001b[0m\u001b[0m\n\u001b[0;32m-> 1708\u001b[0;31m         \u001b[0mself\u001b[0m\u001b[0;34m.\u001b[0m\u001b[0m_reader\u001b[0m \u001b[0;34m=\u001b[0m \u001b[0mparsers\u001b[0m\u001b[0;34m.\u001b[0m\u001b[0mTextReader\u001b[0m\u001b[0;34m(\u001b[0m\u001b[0msrc\u001b[0m\u001b[0;34m,\u001b[0m \u001b[0;34m**\u001b[0m\u001b[0mkwds\u001b[0m\u001b[0;34m)\u001b[0m\u001b[0;34m\u001b[0m\u001b[0m\n\u001b[0m\u001b[1;32m   1709\u001b[0m \u001b[0;34m\u001b[0m\u001b[0m\n\u001b[1;32m   1710\u001b[0m         \u001b[0mpassed_names\u001b[0m \u001b[0;34m=\u001b[0m \u001b[0mself\u001b[0m\u001b[0;34m.\u001b[0m\u001b[0mnames\u001b[0m \u001b[0;32mis\u001b[0m \u001b[0;32mNone\u001b[0m\u001b[0;34m\u001b[0m\u001b[0m\n",
      "\u001b[0;32mpandas/_libs/parsers.pyx\u001b[0m in \u001b[0;36mpandas._libs.parsers.TextReader.__cinit__\u001b[0;34m()\u001b[0m\n",
      "\u001b[0;32mpandas/_libs/parsers.pyx\u001b[0m in \u001b[0;36mpandas._libs.parsers.TextReader._setup_parser_source\u001b[0;34m()\u001b[0m\n",
      "\u001b[0;31mFileNotFoundError\u001b[0m: File b'master_ies/freyberg_ies.0.obs.csv' does not exist"
     ]
    }
   ],
   "source": [
    "oe_pr = pd.read_csv(os.path.join(m_d,\"freyberg_ies.0.obs.csv\"),index_col=0)\n",
    "oe_pt = pd.read_csv(os.path.join(m_d,\"freyberg_ies.{0}.obs.csv\".format(pst.control_data.noptmax)),index_col=0)"
   ]
  },
  {
   "cell_type": "code",
   "execution_count": 34,
   "metadata": {},
   "outputs": [
    {
     "data": {
      "text/plain": [
       "[<matplotlib.lines.Line2D at 0x181fa0a4e0>]"
      ]
     },
     "execution_count": 34,
     "metadata": {},
     "output_type": "execute_result"
    },
    {
     "data": {
      "image/png": "[encoded data removed]",
      "text/plain": [
       "<Figure size 432x288 with 1 Axes>"
      ]
     },
     "metadata": {
      "needs_background": "light"
     },
     "output_type": "display_data"
    }
   ],
   "source": [
    "obs = pst.observation_data\n",
    "swgws = obs.loc[obs.obsnme.apply(lambda x: \"fa_hw\" in x),\"obsnme\"]\n",
    "for swgw in swgws:\n",
    "    ax = plt.subplot(111)\n",
    "    oe_pr.loc[:,swgw].hist(ax=ax,color=\"0.5\",alpha=0.5)\n",
    "    oe_pt.loc[:,swgw].hist(ax=ax,color=\"b\",alpha=0.5)\n",
    "    ax.plot([obs.loc[swgw,\"obsval\"],obs.loc[swgw,\"obsval\"]],ax.get_ylim(),\"r\")\n",
    "    ax.set_title(swgw)\n",
    "    plt.show()"
   ]
  },
  {
   "cell_type": "markdown",
   "metadata": {},
   "source": [
    "Damn!  What happened? "
   ]
  },
  {
   "cell_type": "code",
   "execution_count": 35,
   "metadata": {},
   "outputs": [
    {
     "name": "stderr",
     "output_type": "stream",
     "text": [
      "/Users/jeremyw/miniconda3/lib/python3.5/site-packages/IPython/core/interactiveshell.py:2785: DtypeWarning: Columns (0) have mixed types. Specify dtype option on import or set low_memory=False.\n",
      "  interactivity=interactivity, compiler=compiler, result=result)\n"
     ]
    }
   ],
   "source": [
    "pe_pr = pd.read_csv(os.path.join(m_d,\"freyberg_ies.0.par.csv\"),index_col=0)\n",
    "pe_pt = pd.read_csv(os.path.join(m_d,\"freyberg_ies.{0}.par.csv\".format(pst.control_data.noptmax)),index_col=0)"
   ]
  },
  {
   "cell_type": "code",
   "execution_count": 36,
   "metadata": {},
   "outputs": [
    {
     "data": {
      "text/plain": [
       "<Figure size 576x756 with 0 Axes>"
      ]
     },
     "metadata": {},
     "output_type": "display_data"
    },
    {
     "data": {
      "image/png": "[encoded data removed]",
      "text/plain": [
       "<Figure size 576x756 with 8 Axes>"
      ]
     },
     "metadata": {
      "needs_background": "light"
     },
     "output_type": "display_data"
    },
    {
     "data": {
      "image/png": "[encoded data removed]",
      "text/plain": [
       "<Figure size 576x756 with 8 Axes>"
      ]
     },
     "metadata": {
      "needs_background": "light"
     },
     "output_type": "display_data"
    },
    {
     "data": {
      "image/png": "[encoded data removed]",
      "text/plain": [
       "<Figure size 576x756 with 8 Axes>"
      ]
     },
     "metadata": {
      "needs_background": "light"
     },
     "output_type": "display_data"
    },
    {
     "data": {
      "image/png": "[encoded data removed]",
      "text/plain": [
       "<Figure size 576x756 with 8 Axes>"
      ]
     },
     "metadata": {
      "needs_background": "light"
     },
     "output_type": "display_data"
    },
    {
     "data": {
      "image/png": "[encoded data removed]",
      "text/plain": [
       "<Figure size 576x756 with 8 Axes>"
      ]
     },
     "metadata": {
      "needs_background": "light"
     },
     "output_type": "display_data"
    },
    {
     "data": {
      "image/png": "[encoded data removed]",
      "text/plain": [
       "<Figure size 576x756 with 8 Axes>"
      ]
     },
     "metadata": {
      "needs_background": "light"
     },
     "output_type": "display_data"
    }
   ],
   "source": [
    "par = pst.parameter_data\n",
    "pdict = par.groupby(\"pargp\").groups\n",
    "pyemu.plot_utils.ensemble_helper({\"0.5\":pe_pr,\"b\":pe_pt},plot_cols=pdict)"
   ]
  },
  {
   "cell_type": "markdown",
   "metadata": {},
   "source": [
    "### PESTPP-IES with simple temporal localization"
   ]
  },
  {
   "cell_type": "code",
   "execution_count": 37,
   "metadata": {},
   "outputs": [],
   "source": [
    "\n",
    "scen_groups = [\"grrech3\",\"pp_rech1\",\"rech5_cn\"]\n",
    "scen_pars = par.loc[par.pargp.apply(lambda x: x in scen_groups),\"parnme\"].tolist()\n",
    "scen_pars.append(\"welflux_001\")\n"
   ]
  },
  {
   "cell_type": "code",
   "execution_count": 38,
   "metadata": {},
   "outputs": [],
   "source": [
    "loc = pyemu.Matrix.from_names(pst.nnz_obs_names,pst.par_groups).to_dataframe()\n",
    "loc.loc[:,:]= 1.0\n",
    "loc.loc[:,scen_groups] = 0.0\n",
    "pyemu.Matrix.from_dataframe(loc).to_ascii(os.path.join(t_d,\"loc.mat\"))"
   ]
  },
  {
   "cell_type": "code",
   "execution_count": 39,
   "metadata": {},
   "outputs": [],
   "source": [
    "pst.pestpp_options[\"ies_localizer\"] = \"loc.mat\"\n",
    "pst.write(os.path.join(t_d,\"freyberg_ies_loc.pst\"))\n",
    "pyemu.os_utils.start_slaves(t_d,\"pestpp-ies\",\"freyberg_ies_loc.pst\",num_slaves=20,master_dir=m_d)"
   ]
  },
  {
   "cell_type": "code",
   "execution_count": 44,
   "metadata": {},
   "outputs": [],
   "source": [
    "oe_pr = pd.read_csv(os.path.join(m_d,\"freyberg_ies_loc.0.obs.csv\"),index_col=0)\n",
    "oe_pt = pd.read_csv(os.path.join(m_d,\"freyberg_ies_loc.{0}.obs.csv\".format(pst.control_data.noptmax)),index_col=0)"
   ]
  },
  {
   "cell_type": "code",
   "execution_count": 47,
   "metadata": {},
   "outputs": [
    {
     "data": {
      "image/png": "[encoded data removed]",
      "text/plain": [
       "<Figure size 432x288 with 1 Axes>"
      ]
     },
     "metadata": {
      "needs_background": "light"
     },
     "output_type": "display_data"
    },
    {
     "data": {
      "image/png": "[encoded data removed]",
      "text/plain": [
       "<Figure size 432x288 with 1 Axes>"
      ]
     },
     "metadata": {
      "needs_background": "light"
     },
     "output_type": "display_data"
    }
   ],
   "source": [
    "obs = pst.observation_data\n",
    "swgws = obs.loc[obs.obsnme.apply(lambda x: \"fa_hw\" in x),\"obsnme\"]\n",
    "for swgw in swgws:\n",
    "    ax = plt.subplot(111)\n",
    "    oe_pr.loc[:,swgw].hist(ax=ax,color=\"0.5\",alpha=0.5)\n",
    "    oe_pt.loc[:,swgw].hist(ax=ax,color=\"b\",alpha=0.5)\n",
    "    ax.plot([obs.loc[swgw,\"obsval\"],obs.loc[swgw,\"obsval\"]],ax.get_ylim(),\"r\")\n",
    "    ax.set_title(swgw)\n",
    "    plt.show()"
   ]
  },
  {
   "cell_type": "markdown",
   "metadata": {},
   "source": [
    "### PESTPP-IES with par-by-par distance based localization"
   ]
  },
  {
   "cell_type": "code",
   "execution_count": 63,
   "metadata": {},
   "outputs": [],
   "source": [
    "m = flopy.modflow.Modflow.load(\"freyberg.nam\",model_ws=\"template\")\n"
   ]
  },
  {
   "cell_type": "code",
   "execution_count": 70,
   "metadata": {},
   "outputs": [],
   "source": [
    "par = pst.parameter_data\n",
    "gr_par = par.loc[par.pargp.apply(lambda x: \"gr\" in x),:].copy()\n",
    "gr_par.groupby(\"pargp\").groups\n",
    "gr_par.loc[:,\"i\"] = gr_par.parnme.apply(lambda x: int(x[-6:-3]))\n",
    "gr_par.loc[:,\"j\"] = gr_par.parnme.apply(lambda x: int(x[-3:]))\n",
    "gr_par.loc[:,\"x\"] = gr_par.apply(lambda x: m.sr.xcentergrid[x.i,x.j],axis=1)\n",
    "gr_par.loc[:,\"y\"] = gr_par.apply(lambda x: m.sr.ycentergrid[x.i,x.j],axis=1)\n",
    "\n",
    "nobs = pst.observation_data.loc[pst.nnz_obs_names,:].copy()\n",
    "nobs.loc[:,\"i\"] = nobs.obsnme.apply(lambda x: int(x.split('_')[2]))\n",
    "nobs.loc[:,\"j\"] = nobs.obsnme.apply(lambda x: int(x.split('_')[3]))\n",
    "nobs.loc[:,\"x\"] = nobs.apply(lambda x: m.sr.xcentergrid[x.i,x.j],axis=1)\n",
    "nobs.loc[:,\"y\"] = nobs.apply(lambda x: m.sr.ycentergrid[x.i,x.j],axis=1)\n",
    "\n",
    "pp_tpl = [f for f in os.listdir(t_d) if \"pp\" in f and f.endswith(\".tpl\")]\n",
    "pp_tpl_dfs = [pyemu.pp_utils.pp_tpl_to_dataframe(os.path.join(t_d,f)) for f in pp_tpl]\n",
    "pp_par = pd.concat(pp_tpl_dfs)\n",
    "pp_par.index = pp_par.parnme\n",
    "#pp_par = par.loc[par.pargp.apply(lambda x: \"pp\" in x),:].copy()\n"
   ]
  },
  {
   "cell_type": "code",
   "execution_count": 97,
   "metadata": {},
   "outputs": [
    {
     "name": "stdout",
     "output_type": "stream",
     "text": [
      "hds_00_002_009_000 (4578,) (462,)\n",
      "hds_00_002_015_000 (4732,) (476,)\n",
      "hds_00_003_008_000 (4326,) (406,)\n",
      "hds_00_009_001_000 (3262,) (266,)\n",
      "hds_00_013_010_000 (1512,) (140,)\n",
      "hds_00_015_016_000 (1372,) (112,)\n",
      "hds_00_021_010_000 (686,) (70,)\n",
      "hds_00_022_015_000 (1204,) (126,)\n",
      "hds_00_024_004_000 (1764,) (168,)\n",
      "hds_00_026_006_000 (2170,) (196,)\n",
      "hds_00_029_015_000 (2954,) (280,)\n",
      "hds_00_033_007_000 (3780,) (364,)\n",
      "hds_00_034_010_000 (3948,) (378,)\n"
     ]
    },
    {
     "data": {
      "text/plain": [
       "hds_00_002_009_000    1124.0\n",
       "hds_00_002_015_000    1124.0\n",
       "hds_00_003_008_000    1124.0\n",
       "hds_00_009_001_000    1124.0\n",
       "hds_00_013_010_000    1124.0\n",
       "hds_00_015_016_000    1124.0\n",
       "hds_00_021_010_000    1124.0\n",
       "hds_00_022_015_000    1124.0\n",
       "hds_00_024_004_000    1124.0\n",
       "hds_00_026_006_000    1124.0\n",
       "hds_00_029_015_000    1124.0\n",
       "hds_00_033_007_000    1124.0\n",
       "hds_00_034_010_000    1124.0\n",
       "dtype: float64"
      ]
     },
     "execution_count": 97,
     "metadata": {},
     "output_type": "execute_result"
    }
   ],
   "source": [
    "loc = pyemu.Matrix.from_names(pst.nnz_obs_names,pst.par_names).to_dataframe()\n",
    "loc.loc[:,:] = 1.0\n",
    "for oname in pst.nnz_obs_names:\n",
    "#     i,j = nobs.loc[oname,[\"i\",\"j\"]]\n",
    "#     gr_par.loc[:,'idiff'] = (gr_par.i - i).apply(np.abs)\n",
    "#     gr_par.loc[:,'jdiff'] = (gr_par.j - j).apply(np.abs)\n",
    "#     print(oname,gr_par.idiff.min(),gr_par.jdiff.min())\n",
    "#     too_far = gr_par.loc[gr_par.apply(lambda x: x.idiff > 4 or x.jdiff > 4,axis=1),\"parnme\"]\n",
    "#     loc.loc[:,too_far] = 0.0\n",
    "    xx,yy = nobs.loc[oname,['x','y']]\n",
    "    \n",
    "    gr_par.loc[:,\"dist\"] = gr_par.apply(lambda x: (x.x - xx)**2 + (x.y - yy)**2,axis=1).apply(np.sqrt)\n",
    "    gr_too_far = gr_par.loc[gr_par.dist > 5000,\"parnme\"]\n",
    "    loc.loc[:,gr_too_far] = 0.0\n",
    "    \n",
    "    pp_par.loc[:,\"dist\"] = pp_par.apply(lambda x: (x.x - xx)**2 + (x.y - yy)**2,axis=1).apply(np.sqrt)\n",
    "    pp_too_far = pp_par.loc[pp_par.dist > 5000,\"parnme\"]\n",
    "    loc.loc[:,pp_too_far] = 0.0\n",
    "    print(oname,gr_too_far.shape,pp_too_far.shape)\n",
    "    \n",
    "loc.loc[:,scen_pars] = 0.0\n",
    "loc.sum(axis=1)"
   ]
  },
  {
   "cell_type": "code",
   "execution_count": 98,
   "metadata": {},
   "outputs": [
    {
     "name": "stdout",
     "output_type": "stream",
     "text": [
      "[[1. 1. 1. ... 1. 1. 1.]\n",
      " [1. 1. 1. ... 1. 1. 1.]\n",
      " [1. 1. 1. ... 1. 1. 1.]\n",
      " ...\n",
      " [1. 1. 1. ... 1. 1. 1.]\n",
      " [1. 1. 1. ... 1. 1. 1.]\n",
      " [1. 1. 1. ... 1. 1. 1.]]\n",
      "<class 'numpy.ndarray'>\n"
     ]
    }
   ],
   "source": [
    "pyemu.Matrix.from_dataframe(loc).to_binary(os.path.join(t_d,\"loc.jcb\"))\n",
    "pst.pestpp_options[\"ies_localizer\"] = \"loc.jcb\"\n",
    "pst.write(os.path.join(t_d,\"freyberg_ies_loc2.pst\"))"
   ]
  },
  {
   "cell_type": "code",
   "execution_count": 99,
   "metadata": {},
   "outputs": [],
   "source": [
    "pyemu.os_utils.start_slaves(t_d,\"pestpp-ies\",\"freyberg_ies_loc2.pst\",num_slaves=20,master_dir=m_d)"
   ]
  },
  {
   "cell_type": "code",
   "execution_count": 100,
   "metadata": {},
   "outputs": [
    {
     "data": {
      "image/png": "[encoded data removed]",
      "text/plain": [
       "<Figure size 432x288 with 1 Axes>"
      ]
     },
     "metadata": {
      "needs_background": "light"
     },
     "output_type": "display_data"
    },
    {
     "data": {
      "image/png": "[encoded data removed]",
      "text/plain": [
       "<Figure size 432x288 with 1 Axes>"
      ]
     },
     "metadata": {
      "needs_background": "light"
     },
     "output_type": "display_data"
    }
   ],
   "source": [
    "oe_pr = pd.read_csv(os.path.join(m_d,\"freyberg_ies_loc2.0.obs.csv\"),index_col=0)\n",
    "oe_pt = pd.read_csv(os.path.join(m_d,\"freyberg_ies_loc2.{0}.obs.csv\".format(pst.control_data.noptmax)),index_col=0)\n",
    "obs = pst.observation_data\n",
    "swgws = obs.loc[obs.obsnme.apply(lambda x: \"fa_hw\" in x),\"obsnme\"]\n",
    "for swgw in swgws:\n",
    "    ax = plt.subplot(111)\n",
    "    oe_pr.loc[:,swgw].hist(ax=ax,color=\"0.5\",alpha=0.5)\n",
    "    oe_pt.loc[:,swgw].hist(ax=ax,color=\"b\",alpha=0.5)\n",
    "    ax.plot([obs.loc[swgw,\"obsval\"],obs.loc[swgw,\"obsval\"]],ax.get_ylim(),\"r\")\n",
    "    ax.set_title(swgw)\n",
    "    plt.show()"
   ]
  },
  {
   "cell_type": "code",
   "execution_count": null,
   "metadata": {},
   "outputs": [],
   "source": []
  }
 ],
 "metadata": {
  "kernelspec": {
   "display_name": "Python 3",
   "language": "python",
   "name": "python3"
  },
  "language_info": {
   "codemirror_mode": {
    "name": "ipython",
    "version": 3
   },
   "file_extension": ".py",
   "mimetype": "text/x-python",
   "name": "python",
   "nbconvert_exporter": "python",
   "pygments_lexer": "ipython3",
   "version": "3.5.6"
  }
 },
 "nbformat": 4,
 "nbformat_minor": 2
}
