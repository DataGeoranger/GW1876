{
 "cells": [
  {
   "cell_type": "markdown",
   "metadata": {},
   "source": [
    "# Run PESTPP-IES"
   ]
  },
  {
   "cell_type": "code",
   "execution_count": 1,
   "metadata": {},
   "outputs": [
    {
     "name": "stdout",
     "output_type": "stream",
     "text": [
      "flopy is installed in /Users/jeremyw/Dev/flopy/flopy\n"
     ]
    }
   ],
   "source": [
    "import os\n",
    "import shutil\n",
    "import numpy as np\n",
    "import pandas as pd\n",
    "import matplotlib.pyplot as plt\n",
    "import flopy\n",
    "import pyemu\n"
   ]
  },
  {
   "cell_type": "code",
   "execution_count": 2,
   "metadata": {},
   "outputs": [],
   "source": [
    "t_d = \"template\"\n",
    "m_d = \"master_ies\""
   ]
  },
  {
   "cell_type": "code",
   "execution_count": 3,
   "metadata": {},
   "outputs": [
    {
     "ename": "AssertionError",
     "evalue": "pst file not found:template/freyberg.pst",
     "output_type": "error",
     "traceback": [
      "\u001b[0;31m---------------------------------------------------------------------------\u001b[0m",
      "\u001b[0;31mAssertionError\u001b[0m                            Traceback (most recent call last)",
      "\u001b[0;32m<ipython-input-3-0e08f4cccf0c>\u001b[0m in \u001b[0;36m<module>\u001b[0;34m()\u001b[0m\n\u001b[0;32m----> 1\u001b[0;31m \u001b[0mpst\u001b[0m \u001b[0;34m=\u001b[0m \u001b[0mpyemu\u001b[0m\u001b[0;34m.\u001b[0m\u001b[0mPst\u001b[0m\u001b[0;34m(\u001b[0m\u001b[0mos\u001b[0m\u001b[0;34m.\u001b[0m\u001b[0mpath\u001b[0m\u001b[0;34m.\u001b[0m\u001b[0mjoin\u001b[0m\u001b[0;34m(\u001b[0m\u001b[0mt_d\u001b[0m\u001b[0;34m,\u001b[0m\u001b[0;34m\"freyberg.pst\"\u001b[0m\u001b[0;34m)\u001b[0m\u001b[0;34m)\u001b[0m\u001b[0;34m\u001b[0m\u001b[0m\n\u001b[0m\u001b[1;32m      2\u001b[0m \u001b[0mpst\u001b[0m\u001b[0;34m.\u001b[0m\u001b[0mwrite_par_summary_table\u001b[0m\u001b[0;34m(\u001b[0m\u001b[0mfilename\u001b[0m\u001b[0;34m=\u001b[0m\u001b[0;34m\"none\"\u001b[0m\u001b[0;34m)\u001b[0m\u001b[0;34m\u001b[0m\u001b[0m\n",
      "\u001b[0;32m~/Dev/pyemu/pyemu/pst/pst_handler.py\u001b[0m in \u001b[0;36m__init__\u001b[0;34m(self, filename, load, resfile)\u001b[0m\n\u001b[1;32m     67\u001b[0m         \u001b[0;32mif\u001b[0m \u001b[0mload\u001b[0m\u001b[0;34m:\u001b[0m\u001b[0;34m\u001b[0m\u001b[0m\n\u001b[1;32m     68\u001b[0m             \u001b[0;32massert\u001b[0m \u001b[0mos\u001b[0m\u001b[0;34m.\u001b[0m\u001b[0mpath\u001b[0m\u001b[0;34m.\u001b[0m\u001b[0mexists\u001b[0m\u001b[0;34m(\u001b[0m\u001b[0mfilename\u001b[0m\u001b[0;34m)\u001b[0m\u001b[0;34m,\u001b[0m\u001b[0;31m\\\u001b[0m\u001b[0;34m\u001b[0m\u001b[0m\n\u001b[0;32m---> 69\u001b[0;31m                 \u001b[0;34m\"pst file not found:{0}\"\u001b[0m\u001b[0;34m.\u001b[0m\u001b[0mformat\u001b[0m\u001b[0;34m(\u001b[0m\u001b[0mfilename\u001b[0m\u001b[0;34m)\u001b[0m\u001b[0;34m\u001b[0m\u001b[0m\n\u001b[0m\u001b[1;32m     70\u001b[0m \u001b[0;34m\u001b[0m\u001b[0m\n\u001b[1;32m     71\u001b[0m             \u001b[0mself\u001b[0m\u001b[0;34m.\u001b[0m\u001b[0mload\u001b[0m\u001b[0;34m(\u001b[0m\u001b[0mfilename\u001b[0m\u001b[0;34m)\u001b[0m\u001b[0;34m\u001b[0m\u001b[0m\n",
      "\u001b[0;31mAssertionError\u001b[0m: pst file not found:template/freyberg.pst"
     ]
    }
   ],
   "source": [
    "pst = pyemu.Pst(os.path.join(t_d,\"freyberg.pst\"))\n",
    "pst.write_par_summary_table(filename=\"none\")"
   ]
  },
  {
   "cell_type": "markdown",
   "metadata": {},
   "source": [
    "### Run PESTPP-IES in original mode and post process"
   ]
  },
  {
   "cell_type": "code",
   "execution_count": null,
   "metadata": {},
   "outputs": [],
   "source": [
    "pst.pestpp_options[\"ies_num_reals\"] = 30\n",
    "pst.pestpp_options[\"ies_par_en\"] = \"sweep_in.csv\"\n",
    "pst.control_data.noptmax = 3"
   ]
  },
  {
   "cell_type": "code",
   "execution_count": null,
   "metadata": {},
   "outputs": [],
   "source": [
    "pst.write(os.path.join(t_d,\"freyberg_ies.pst\"))"
   ]
  },
  {
   "cell_type": "code",
   "execution_count": null,
   "metadata": {},
   "outputs": [],
   "source": [
    "pyemu.os_utils.start_slaves(t_d,\"pestpp-ies\",\"freyberg_ies.pst\",num_slaves=20,master_dir=m_d)"
   ]
  },
  {
   "cell_type": "code",
   "execution_count": null,
   "metadata": {},
   "outputs": [],
   "source": [
    "oe_pr = pd.read_csv(os.path.join(m_d,\"freyberg_ies.0.obs.csv\"),index_col=0)\n",
    "oe_pt = pd.read_csv(os.path.join(m_d,\"freyberg_ies.{0}.obs.csv\".format(pst.control_data.noptmax)),index_col=0)"
   ]
  },
  {
   "cell_type": "code",
   "execution_count": null,
   "metadata": {},
   "outputs": [],
   "source": [
    "obs = pst.observation_data\n",
    "swgws = obs.loc[obs.obsnme.apply(lambda x: \"fa_hw\" in x),\"obsnme\"]\n",
    "for swgw in swgws:\n",
    "    ax = plt.subplot(111)\n",
    "    oe_pr.loc[:,swgw].hist(ax=ax,color=\"0.5\",alpha=0.5)\n",
    "    oe_pt.loc[:,swgw].hist(ax=ax,color=\"b\",alpha=0.5)\n",
    "    ax.plot([obs.loc[swgw,\"obsval\"],obs.loc[swgw,\"obsval\"]],ax.get_ylim(),\"r\")\n",
    "    ax.set_title(swgw)\n",
    "    plt.show()"
   ]
  },
  {
   "cell_type": "markdown",
   "metadata": {},
   "source": [
    "Damn!  What happened? "
   ]
  },
  {
   "cell_type": "code",
   "execution_count": null,
   "metadata": {},
   "outputs": [],
   "source": [
    "pe_pr = pd.read_csv(os.path.join(m_d,\"freyberg_ies.0.par.csv\"),index_col=0)\n",
    "pe_pt = pd.read_csv(os.path.join(m_d,\"freyberg_ies.{0}.par.csv\".format(pst.control_data.noptmax)),index_col=0)"
   ]
  },
  {
   "cell_type": "code",
   "execution_count": null,
   "metadata": {},
   "outputs": [],
   "source": [
    "par = pst.parameter_data\n",
    "pdict = par.groupby(\"pargp\").groups\n",
    "pyemu.plot_utils.ensemble_helper({\"0.5\":pe_pr,\"b\":pe_pt},plot_cols=pdict)"
   ]
  },
  {
   "cell_type": "markdown",
   "metadata": {},
   "source": [
    "### PESTPP-IES with simple temporal localization"
   ]
  },
  {
   "cell_type": "code",
   "execution_count": null,
   "metadata": {},
   "outputs": [],
   "source": [
    "par = pst.parameter_data\n",
    "scen_groups = [\"grrech3\",\"pp_rech1\",\"rech5_cn\"]\n",
    "scen_pars = par.loc[par.pargp.apply(lambda x: x in scen_groups),\"parnme\"].tolist()\n",
    "scen_pars.append(\"welflux_001\")\n"
   ]
  },
  {
   "cell_type": "code",
   "execution_count": null,
   "metadata": {},
   "outputs": [],
   "source": [
    "loc = pyemu.Matrix.from_names(pst.nnz_obs_names,pst.par_groups).to_dataframe()\n",
    "loc.loc[:,:]= 1.0\n",
    "loc.loc[:,scen_groups] = 0.0\n",
    "pyemu.Matrix.from_dataframe(loc).to_ascii(os.path.join(t_d,\"loc.mat\"))"
   ]
  },
  {
   "cell_type": "code",
   "execution_count": null,
   "metadata": {},
   "outputs": [],
   "source": [
    "pst.pestpp_options[\"ies_localizer\"] = \"loc.mat\"\n",
    "pst.write(os.path.join(t_d,\"freyberg_ies_loc.pst\"))\n",
    "pyemu.os_utils.start_slaves(t_d,\"pestpp-ies\",\"freyberg_ies_loc.pst\",num_slaves=20,master_dir=m_d)"
   ]
  },
  {
   "cell_type": "code",
   "execution_count": null,
   "metadata": {},
   "outputs": [],
   "source": [
    "oe_pr = pd.read_csv(os.path.join(m_d,\"freyberg_ies_loc.0.obs.csv\"),index_col=0)\n",
    "oe_pt = pd.read_csv(os.path.join(m_d,\"freyberg_ies_loc.{0}.obs.csv\".format(pst.control_data.noptmax)),index_col=0)"
   ]
  },
  {
   "cell_type": "code",
   "execution_count": null,
   "metadata": {},
   "outputs": [],
   "source": [
    "obs = pst.observation_data\n",
    "swgws = obs.loc[obs.obsnme.apply(lambda x: \"fa_hw\" in x),\"obsnme\"]\n",
    "for swgw in swgws:\n",
    "    ax = plt.subplot(111)\n",
    "    oe_pr.loc[:,swgw].hist(ax=ax,color=\"0.5\",alpha=0.5)\n",
    "    oe_pt.loc[:,swgw].hist(ax=ax,color=\"b\",alpha=0.5)\n",
    "    ax.plot([obs.loc[swgw,\"obsval\"],obs.loc[swgw,\"obsval\"]],ax.get_ylim(),\"r\")\n",
    "    ax.set_title(swgw)\n",
    "    plt.show()"
   ]
  },
  {
   "cell_type": "markdown",
   "metadata": {},
   "source": [
    "### PESTPP-IES with par-by-par distance based localization"
   ]
  },
  {
   "cell_type": "code",
   "execution_count": null,
   "metadata": {},
   "outputs": [],
   "source": [
    "m = flopy.modflow.Modflow.load(\"freyberg.nam\",model_ws=\"template\")\n"
   ]
  },
  {
   "cell_type": "code",
   "execution_count": null,
   "metadata": {},
   "outputs": [],
   "source": [
    "par = pst.parameter_data\n",
    "\n",
    "gr_par = par.loc[par.pargp.apply(lambda x: \"gr\" in x),:].copy()\n",
    "gr_par.groupby(\"pargp\").groups\n",
    "gr_par.loc[:,\"i\"] = gr_par.parnme.apply(lambda x: int(x[-6:-3]))\n",
    "gr_par.loc[:,\"j\"] = gr_par.parnme.apply(lambda x: int(x[-3:]))\n",
    "gr_par.loc[:,\"x\"] = gr_par.apply(lambda x: m.sr.xcentergrid[x.i,x.j],axis=1)\n",
    "gr_par.loc[:,\"y\"] = gr_par.apply(lambda x: m.sr.ycentergrid[x.i,x.j],axis=1)\n",
    "\n",
    "nobs = pst.observation_data.loc[pst.nnz_obs_names,:].copy()\n",
    "nobs.loc[:,\"i\"] = nobs.obsnme.apply(lambda x: int(x.split('_')[2]))\n",
    "nobs.loc[:,\"j\"] = nobs.obsnme.apply(lambda x: int(x.split('_')[3]))\n",
    "nobs.loc[:,\"x\"] = nobs.apply(lambda x: m.sr.xcentergrid[x.i,x.j],axis=1)\n",
    "nobs.loc[:,\"y\"] = nobs.apply(lambda x: m.sr.ycentergrid[x.i,x.j],axis=1)\n",
    "\n",
    "pp_tpl = [f for f in os.listdir(t_d) if \"pp\" in f and f.endswith(\".tpl\")]\n",
    "pp_tpl_dfs = [pyemu.pp_utils.pp_tpl_to_dataframe(os.path.join(t_d,f)) for f in pp_tpl]\n",
    "pp_par = pd.concat(pp_tpl_dfs)\n",
    "pp_par.index = pp_par.parnme\n",
    "#pp_par = par.loc[par.pargp.apply(lambda x: \"pp\" in x),:].copy()\n"
   ]
  },
  {
   "cell_type": "code",
   "execution_count": null,
   "metadata": {},
   "outputs": [],
   "source": [
    "loc = pyemu.Matrix.from_names(pst.nnz_obs_names,pst.par_names).to_dataframe()\n",
    "loc.loc[:,:] = 1.0\n",
    "loc_dist = 5000.0\n",
    "for oname in pst.nnz_obs_names:\n",
    "#     i,j = nobs.loc[oname,[\"i\",\"j\"]]\n",
    "#     gr_par.loc[:,'idiff'] = (gr_par.i - i).apply(np.abs)\n",
    "#     gr_par.loc[:,'jdiff'] = (gr_par.j - j).apply(np.abs)\n",
    "#     print(oname,gr_par.idiff.min(),gr_par.jdiff.min())\n",
    "#     too_far = gr_par.loc[gr_par.apply(lambda x: x.idiff > 4 or x.jdiff > 4,axis=1),\"parnme\"]\n",
    "#     loc.loc[:,too_far] = 0.0\n",
    "    xx,yy = nobs.loc[oname,['x','y']]\n",
    "    \n",
    "    gr_par.loc[:,\"dist\"] = gr_par.apply(lambda x: (x.x - xx)**2 + (x.y - yy)**2,axis=1).apply(np.sqrt)\n",
    "    gr_too_far = gr_par.loc[gr_par.dist > loc_dist,\"parnme\"]\n",
    "    loc.loc[:,gr_too_far] = 0.0\n",
    "    \n",
    "    pp_par.loc[:,\"dist\"] = pp_par.apply(lambda x: (x.x - xx)**2 + (x.y - yy)**2,axis=1).apply(np.sqrt)\n",
    "    pp_too_far = pp_par.loc[pp_par.dist > loc_dist,\"parnme\"]\n",
    "    loc.loc[oname,pp_too_far] = 0.0\n",
    "    print(oname,gr_too_far.shape[0]/gr_par.shape[0],pp_too_far.shape[0]/pp_par.shape[0])\n",
    "    \n",
    "loc.loc[:,scen_pars] = 0.0\n",
    "spars = par.loc[par.parnme.apply(lambda x: \"ss\" in x or \"sy\" in x),\"parnme\"]\n",
    "loc.loc[:,spars] = 0.0\n",
    "loc.sum(axis=1)"
   ]
  },
  {
   "cell_type": "code",
   "execution_count": null,
   "metadata": {},
   "outputs": [],
   "source": [
    "pyemu.Matrix.from_dataframe(loc).to_binary(os.path.join(t_d,\"loc.jcb\"))\n",
    "pst.pestpp_options[\"ies_localizer\"] = \"loc.jcb\"\n",
    "pst.write(os.path.join(t_d,\"freyberg_ies_loc2.pst\"))"
   ]
  },
  {
   "cell_type": "code",
   "execution_count": null,
   "metadata": {},
   "outputs": [],
   "source": [
    "pyemu.os_utils.start_slaves(t_d,\"pestpp-ies\",\"freyberg_ies_loc2.pst\",num_slaves=20,master_dir=m_d)"
   ]
  },
  {
   "cell_type": "code",
   "execution_count": null,
   "metadata": {},
   "outputs": [],
   "source": [
    "oe_pr = pd.read_csv(os.path.join(m_d,\"freyberg_ies_loc2.0.obs.csv\"),index_col=0)\n",
    "oe_pt = pd.read_csv(os.path.join(m_d,\"freyberg_ies_loc2.{0}.obs.csv\".format(pst.control_data.noptmax)),index_col=0)\n",
    "obs = pst.observation_data\n",
    "swgws = obs.loc[obs.obsnme.apply(lambda x: \"fa_hw\" in x),\"obsnme\"]\n",
    "for swgw in swgws:\n",
    "    ax = plt.subplot(111)\n",
    "    oe_pr.loc[:,swgw].hist(ax=ax,color=\"0.5\",alpha=0.5)\n",
    "    oe_pt.loc[:,swgw].hist(ax=ax,color=\"b\",alpha=0.5)\n",
    "    ax.plot([obs.loc[swgw,\"obsval\"],obs.loc[swgw,\"obsval\"]],ax.get_ylim(),\"r\")\n",
    "    ax.set_title(swgw)\n",
    "    plt.show()"
   ]
  },
  {
   "cell_type": "code",
   "execution_count": null,
   "metadata": {},
   "outputs": [],
   "source": [
    "pst.pestpp_options[\"ies_localizer\"] = \"loc.jcb\"\n",
    "pst.pestpp_options[\"ies_autoadaloc\"] = True\n",
    "pst.pestpp_options.pop(\"ies_num_threads\",None)\n",
    "#pst.pestpp_options[\"ies_verbose_level\"] = 3\n",
    "pst.pestpp_options.pop(\"ies_verbose_level\",None)\n",
    "pst.control_data.noptmax = 4\n",
    "pst.write(os.path.join(t_d,\"freyberg_ies_loc3.pst\"))\n",
    "\n",
    "pyemu.os_utils.start_slaves(t_d,\"pestpp-ies\",\"freyberg_ies_loc3.pst\",num_slaves=20,master_dir=m_d)\n",
    "oe_pr = pd.read_csv(os.path.join(m_d,\"freyberg_ies_loc3.0.obs.csv\"),index_col=0)\n",
    "oe_pt = pd.read_csv(os.path.join(m_d,\"freyberg_ies_loc3.{0}.obs.csv\".format(pst.control_data.noptmax)),index_col=0)\n",
    "obs = pst.observation_data\n",
    "swgws = obs.loc[obs.obsnme.apply(lambda x: \"fa_hw\" in x),\"obsnme\"]\n",
    "for swgw in swgws:\n",
    "    ax = plt.subplot(111)\n",
    "    oe_pr.loc[:,swgw].hist(ax=ax,color=\"0.5\",alpha=0.5)\n",
    "    oe_pt.loc[:,swgw].hist(ax=ax,color=\"b\",alpha=0.5)\n",
    "    ax.plot([obs.loc[swgw,\"obsval\"],obs.loc[swgw,\"obsval\"]],ax.get_ylim(),\"r\")\n",
    "    ax.set_title(swgw)\n",
    "    plt.show()"
   ]
  },
  {
   "cell_type": "code",
   "execution_count": null,
   "metadata": {},
   "outputs": [],
   "source": []
  },
  {
   "cell_type": "code",
   "execution_count": null,
   "metadata": {},
   "outputs": [],
   "source": []
  },
  {
   "cell_type": "code",
   "execution_count": null,
   "metadata": {},
   "outputs": [],
   "source": []
  }
 ],
 "metadata": {
  "kernelspec": {
   "display_name": "Python 3",
   "language": "python",
   "name": "python3"
  },
  "language_info": {
   "codemirror_mode": {
    "name": "ipython",
    "version": 3
   },
   "file_extension": ".py",
   "mimetype": "text/x-python",
   "name": "python",
   "nbconvert_exporter": "python",
   "pygments_lexer": "ipython3",
   "version": "3.5.6"
  }
 },
 "nbformat": 4,
 "nbformat_minor": 2
}
