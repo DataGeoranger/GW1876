{
 "cells": [
  {
   "cell_type": "markdown",
   "metadata": {},
   "source": [
    "# Run PESTPP-OPT\n",
    "\n",
    "In this notebook we will setup and solve a mgmt optimization problem around how much groundwater can be pumped while maintaining sw-gw exchange"
   ]
  },
  {
   "cell_type": "code",
   "execution_count": 1,
   "metadata": {},
   "outputs": [
    {
     "name": "stdout",
     "output_type": "stream",
     "text": [
      "flopy is installed in /Users/jeremyw/Dev/gw1876/activities_2day_mfm/notebooks/flopy\n"
     ]
    }
   ],
   "source": [
    "import os\n",
    "import shutil\n",
    "import numpy as np\n",
    "import pandas as pd\n",
    "import matplotlib.pyplot as plt\n",
    "import matplotlib as mpl\n",
    "plt.rcParams['font.size']=12\n",
    "import flopy\n",
    "import pyemu\n"
   ]
  },
  {
   "cell_type": "code",
   "execution_count": 2,
   "metadata": {},
   "outputs": [],
   "source": [
    "t_d = \"template\"\n",
    "m_d = \"master_opt\""
   ]
  },
  {
   "cell_type": "code",
   "execution_count": 3,
   "metadata": {},
   "outputs": [
    {
     "data": {
      "text/html": [
       "<div>\n",
       "<style scoped>\n",
       "    .dataframe tbody tr th:only-of-type {\n",
       "        vertical-align: middle;\n",
       "    }\n",
       "\n",
       "    .dataframe tbody tr th {\n",
       "        vertical-align: top;\n",
       "    }\n",
       "\n",
       "    .dataframe thead th {\n",
       "        text-align: right;\n",
       "    }\n",
       "</style>\n",
       "<table border=\"1\" class=\"dataframe\">\n",
       "  <thead>\n",
       "    <tr style=\"text-align: right;\">\n",
       "      <th></th>\n",
       "      <th>type</th>\n",
       "      <th>transform</th>\n",
       "      <th>count</th>\n",
       "      <th>initial value</th>\n",
       "      <th>upper bound</th>\n",
       "      <th>lower bound</th>\n",
       "      <th>standard deviation</th>\n",
       "    </tr>\n",
       "  </thead>\n",
       "  <tbody>\n",
       "    <tr>\n",
       "      <th>cn_hk6</th>\n",
       "      <td>cn_hk6</td>\n",
       "      <td>log</td>\n",
       "      <td>1</td>\n",
       "      <td>0</td>\n",
       "      <td>1</td>\n",
       "      <td>-1</td>\n",
       "      <td>0.5</td>\n",
       "    </tr>\n",
       "    <tr>\n",
       "      <th>cn_hk7</th>\n",
       "      <td>cn_hk7</td>\n",
       "      <td>log</td>\n",
       "      <td>1</td>\n",
       "      <td>0</td>\n",
       "      <td>1</td>\n",
       "      <td>-1</td>\n",
       "      <td>0.5</td>\n",
       "    </tr>\n",
       "    <tr>\n",
       "      <th>cn_hk8</th>\n",
       "      <td>cn_hk8</td>\n",
       "      <td>log</td>\n",
       "      <td>1</td>\n",
       "      <td>0</td>\n",
       "      <td>1</td>\n",
       "      <td>-1</td>\n",
       "      <td>0.5</td>\n",
       "    </tr>\n",
       "    <tr>\n",
       "      <th>cn_prsity6</th>\n",
       "      <td>cn_prsity6</td>\n",
       "      <td>log</td>\n",
       "      <td>1</td>\n",
       "      <td>0</td>\n",
       "      <td>0.176091</td>\n",
       "      <td>-0.30103</td>\n",
       "      <td>0.11928</td>\n",
       "    </tr>\n",
       "    <tr>\n",
       "      <th>cn_prsity7</th>\n",
       "      <td>cn_prsity7</td>\n",
       "      <td>log</td>\n",
       "      <td>1</td>\n",
       "      <td>0</td>\n",
       "      <td>0.176091</td>\n",
       "      <td>-0.30103</td>\n",
       "      <td>0.11928</td>\n",
       "    </tr>\n",
       "    <tr>\n",
       "      <th>cn_prsity8</th>\n",
       "      <td>cn_prsity8</td>\n",
       "      <td>log</td>\n",
       "      <td>1</td>\n",
       "      <td>0</td>\n",
       "      <td>0.176091</td>\n",
       "      <td>-0.30103</td>\n",
       "      <td>0.11928</td>\n",
       "    </tr>\n",
       "    <tr>\n",
       "      <th>cn_rech4</th>\n",
       "      <td>cn_rech4</td>\n",
       "      <td>log</td>\n",
       "      <td>1</td>\n",
       "      <td>0</td>\n",
       "      <td>0.0791812</td>\n",
       "      <td>-0.09691</td>\n",
       "      <td>0.0440228</td>\n",
       "    </tr>\n",
       "    <tr>\n",
       "      <th>cn_rech5</th>\n",
       "      <td>cn_rech5</td>\n",
       "      <td>log</td>\n",
       "      <td>1</td>\n",
       "      <td>-0.39794</td>\n",
       "      <td>-0.09691</td>\n",
       "      <td>-1</td>\n",
       "      <td>0.225772</td>\n",
       "    </tr>\n",
       "    <tr>\n",
       "      <th>cn_ss6</th>\n",
       "      <td>cn_ss6</td>\n",
       "      <td>log</td>\n",
       "      <td>1</td>\n",
       "      <td>0</td>\n",
       "      <td>1</td>\n",
       "      <td>-1</td>\n",
       "      <td>0.5</td>\n",
       "    </tr>\n",
       "    <tr>\n",
       "      <th>cn_ss7</th>\n",
       "      <td>cn_ss7</td>\n",
       "      <td>log</td>\n",
       "      <td>1</td>\n",
       "      <td>0</td>\n",
       "      <td>1</td>\n",
       "      <td>-1</td>\n",
       "      <td>0.5</td>\n",
       "    </tr>\n",
       "    <tr>\n",
       "      <th>cn_ss8</th>\n",
       "      <td>cn_ss8</td>\n",
       "      <td>log</td>\n",
       "      <td>1</td>\n",
       "      <td>0</td>\n",
       "      <td>1</td>\n",
       "      <td>-1</td>\n",
       "      <td>0.5</td>\n",
       "    </tr>\n",
       "    <tr>\n",
       "      <th>cn_strt6</th>\n",
       "      <td>cn_strt6</td>\n",
       "      <td>log</td>\n",
       "      <td>1</td>\n",
       "      <td>0</td>\n",
       "      <td>0.0211893</td>\n",
       "      <td>-0.0222764</td>\n",
       "      <td>0.0108664</td>\n",
       "    </tr>\n",
       "    <tr>\n",
       "      <th>cn_strt7</th>\n",
       "      <td>cn_strt7</td>\n",
       "      <td>log</td>\n",
       "      <td>1</td>\n",
       "      <td>0</td>\n",
       "      <td>0.0211893</td>\n",
       "      <td>-0.0222764</td>\n",
       "      <td>0.0108664</td>\n",
       "    </tr>\n",
       "    <tr>\n",
       "      <th>cn_strt8</th>\n",
       "      <td>cn_strt8</td>\n",
       "      <td>log</td>\n",
       "      <td>1</td>\n",
       "      <td>0</td>\n",
       "      <td>0.0211893</td>\n",
       "      <td>-0.0222764</td>\n",
       "      <td>0.0108664</td>\n",
       "    </tr>\n",
       "    <tr>\n",
       "      <th>cn_sy6</th>\n",
       "      <td>cn_sy6</td>\n",
       "      <td>log</td>\n",
       "      <td>1</td>\n",
       "      <td>0</td>\n",
       "      <td>0.243038</td>\n",
       "      <td>-0.60206</td>\n",
       "      <td>0.211275</td>\n",
       "    </tr>\n",
       "    <tr>\n",
       "      <th>cn_sy7</th>\n",
       "      <td>cn_sy7</td>\n",
       "      <td>log</td>\n",
       "      <td>1</td>\n",
       "      <td>0</td>\n",
       "      <td>0.243038</td>\n",
       "      <td>-0.60206</td>\n",
       "      <td>0.211275</td>\n",
       "    </tr>\n",
       "    <tr>\n",
       "      <th>cn_sy8</th>\n",
       "      <td>cn_sy8</td>\n",
       "      <td>log</td>\n",
       "      <td>1</td>\n",
       "      <td>0</td>\n",
       "      <td>0.243038</td>\n",
       "      <td>-0.60206</td>\n",
       "      <td>0.211275</td>\n",
       "    </tr>\n",
       "    <tr>\n",
       "      <th>cn_vka6</th>\n",
       "      <td>cn_vka6</td>\n",
       "      <td>log</td>\n",
       "      <td>1</td>\n",
       "      <td>0</td>\n",
       "      <td>1</td>\n",
       "      <td>-1</td>\n",
       "      <td>0.5</td>\n",
       "    </tr>\n",
       "    <tr>\n",
       "      <th>cn_vka7</th>\n",
       "      <td>cn_vka7</td>\n",
       "      <td>log</td>\n",
       "      <td>1</td>\n",
       "      <td>0</td>\n",
       "      <td>1</td>\n",
       "      <td>-1</td>\n",
       "      <td>0.5</td>\n",
       "    </tr>\n",
       "    <tr>\n",
       "      <th>cn_vka8</th>\n",
       "      <td>cn_vka8</td>\n",
       "      <td>log</td>\n",
       "      <td>1</td>\n",
       "      <td>0</td>\n",
       "      <td>1</td>\n",
       "      <td>-1</td>\n",
       "      <td>0.5</td>\n",
       "    </tr>\n",
       "    <tr>\n",
       "      <th>drncond_k00</th>\n",
       "      <td>drncond_k00</td>\n",
       "      <td>log</td>\n",
       "      <td>10</td>\n",
       "      <td>0</td>\n",
       "      <td>1</td>\n",
       "      <td>-1</td>\n",
       "      <td>0.5</td>\n",
       "    </tr>\n",
       "    <tr>\n",
       "      <th>flow</th>\n",
       "      <td>flow</td>\n",
       "      <td>log</td>\n",
       "      <td>1</td>\n",
       "      <td>0</td>\n",
       "      <td>0.09691</td>\n",
       "      <td>-0.124939</td>\n",
       "      <td>0.0554622</td>\n",
       "    </tr>\n",
       "    <tr>\n",
       "      <th>gr_hk3</th>\n",
       "      <td>gr_hk3</td>\n",
       "      <td>log</td>\n",
       "      <td>705</td>\n",
       "      <td>0</td>\n",
       "      <td>1</td>\n",
       "      <td>-1</td>\n",
       "      <td>0.5</td>\n",
       "    </tr>\n",
       "    <tr>\n",
       "      <th>gr_hk4</th>\n",
       "      <td>gr_hk4</td>\n",
       "      <td>log</td>\n",
       "      <td>705</td>\n",
       "      <td>0</td>\n",
       "      <td>1</td>\n",
       "      <td>-1</td>\n",
       "      <td>0.5</td>\n",
       "    </tr>\n",
       "    <tr>\n",
       "      <th>gr_hk5</th>\n",
       "      <td>gr_hk5</td>\n",
       "      <td>log</td>\n",
       "      <td>705</td>\n",
       "      <td>0</td>\n",
       "      <td>1</td>\n",
       "      <td>-1</td>\n",
       "      <td>0.5</td>\n",
       "    </tr>\n",
       "    <tr>\n",
       "      <th>gr_prsity3</th>\n",
       "      <td>gr_prsity3</td>\n",
       "      <td>log</td>\n",
       "      <td>705</td>\n",
       "      <td>0</td>\n",
       "      <td>0.176091</td>\n",
       "      <td>-0.30103</td>\n",
       "      <td>0.11928</td>\n",
       "    </tr>\n",
       "    <tr>\n",
       "      <th>gr_prsity4</th>\n",
       "      <td>gr_prsity4</td>\n",
       "      <td>log</td>\n",
       "      <td>705</td>\n",
       "      <td>0</td>\n",
       "      <td>0.176091</td>\n",
       "      <td>-0.30103</td>\n",
       "      <td>0.11928</td>\n",
       "    </tr>\n",
       "    <tr>\n",
       "      <th>gr_prsity5</th>\n",
       "      <td>gr_prsity5</td>\n",
       "      <td>log</td>\n",
       "      <td>705</td>\n",
       "      <td>0</td>\n",
       "      <td>0.176091</td>\n",
       "      <td>-0.30103</td>\n",
       "      <td>0.11928</td>\n",
       "    </tr>\n",
       "    <tr>\n",
       "      <th>gr_rech2</th>\n",
       "      <td>gr_rech2</td>\n",
       "      <td>log</td>\n",
       "      <td>705</td>\n",
       "      <td>0</td>\n",
       "      <td>0.0413927</td>\n",
       "      <td>-0.0457575</td>\n",
       "      <td>0.0217875</td>\n",
       "    </tr>\n",
       "    <tr>\n",
       "      <th>gr_rech3</th>\n",
       "      <td>gr_rech3</td>\n",
       "      <td>log</td>\n",
       "      <td>705</td>\n",
       "      <td>0</td>\n",
       "      <td>0.0413927</td>\n",
       "      <td>-0.0457575</td>\n",
       "      <td>0.0217875</td>\n",
       "    </tr>\n",
       "    <tr>\n",
       "      <th>...</th>\n",
       "      <td>...</td>\n",
       "      <td>...</td>\n",
       "      <td>...</td>\n",
       "      <td>...</td>\n",
       "      <td>...</td>\n",
       "      <td>...</td>\n",
       "      <td>...</td>\n",
       "    </tr>\n",
       "    <tr>\n",
       "      <th>gr_strt5</th>\n",
       "      <td>gr_strt5</td>\n",
       "      <td>log</td>\n",
       "      <td>705</td>\n",
       "      <td>0</td>\n",
       "      <td>0.0211893</td>\n",
       "      <td>-0.0222764</td>\n",
       "      <td>0.0108664</td>\n",
       "    </tr>\n",
       "    <tr>\n",
       "      <th>gr_sy3</th>\n",
       "      <td>gr_sy3</td>\n",
       "      <td>log</td>\n",
       "      <td>705</td>\n",
       "      <td>0</td>\n",
       "      <td>0.243038</td>\n",
       "      <td>-0.60206</td>\n",
       "      <td>0.211275</td>\n",
       "    </tr>\n",
       "    <tr>\n",
       "      <th>gr_sy4</th>\n",
       "      <td>gr_sy4</td>\n",
       "      <td>log</td>\n",
       "      <td>705</td>\n",
       "      <td>0</td>\n",
       "      <td>0.243038</td>\n",
       "      <td>-0.60206</td>\n",
       "      <td>0.211275</td>\n",
       "    </tr>\n",
       "    <tr>\n",
       "      <th>gr_sy5</th>\n",
       "      <td>gr_sy5</td>\n",
       "      <td>log</td>\n",
       "      <td>705</td>\n",
       "      <td>0</td>\n",
       "      <td>0.243038</td>\n",
       "      <td>-0.60206</td>\n",
       "      <td>0.211275</td>\n",
       "    </tr>\n",
       "    <tr>\n",
       "      <th>gr_vka3</th>\n",
       "      <td>gr_vka3</td>\n",
       "      <td>log</td>\n",
       "      <td>705</td>\n",
       "      <td>0</td>\n",
       "      <td>1</td>\n",
       "      <td>-1</td>\n",
       "      <td>0.5</td>\n",
       "    </tr>\n",
       "    <tr>\n",
       "      <th>gr_vka4</th>\n",
       "      <td>gr_vka4</td>\n",
       "      <td>log</td>\n",
       "      <td>705</td>\n",
       "      <td>0</td>\n",
       "      <td>1</td>\n",
       "      <td>-1</td>\n",
       "      <td>0.5</td>\n",
       "    </tr>\n",
       "    <tr>\n",
       "      <th>gr_vka5</th>\n",
       "      <td>gr_vka5</td>\n",
       "      <td>log</td>\n",
       "      <td>705</td>\n",
       "      <td>0</td>\n",
       "      <td>1</td>\n",
       "      <td>-1</td>\n",
       "      <td>0.5</td>\n",
       "    </tr>\n",
       "    <tr>\n",
       "      <th>pp_hk0</th>\n",
       "      <td>pp_hk0</td>\n",
       "      <td>log</td>\n",
       "      <td>32</td>\n",
       "      <td>0</td>\n",
       "      <td>1</td>\n",
       "      <td>-1</td>\n",
       "      <td>0.5</td>\n",
       "    </tr>\n",
       "    <tr>\n",
       "      <th>pp_hk1</th>\n",
       "      <td>pp_hk1</td>\n",
       "      <td>log</td>\n",
       "      <td>32</td>\n",
       "      <td>0</td>\n",
       "      <td>1</td>\n",
       "      <td>-1</td>\n",
       "      <td>0.5</td>\n",
       "    </tr>\n",
       "    <tr>\n",
       "      <th>pp_hk2</th>\n",
       "      <td>pp_hk2</td>\n",
       "      <td>log</td>\n",
       "      <td>32</td>\n",
       "      <td>0</td>\n",
       "      <td>1</td>\n",
       "      <td>-1</td>\n",
       "      <td>0.5</td>\n",
       "    </tr>\n",
       "    <tr>\n",
       "      <th>pp_prsity0</th>\n",
       "      <td>pp_prsity0</td>\n",
       "      <td>log</td>\n",
       "      <td>32</td>\n",
       "      <td>0</td>\n",
       "      <td>0.176091</td>\n",
       "      <td>-0.30103</td>\n",
       "      <td>0.11928</td>\n",
       "    </tr>\n",
       "    <tr>\n",
       "      <th>pp_prsity1</th>\n",
       "      <td>pp_prsity1</td>\n",
       "      <td>log</td>\n",
       "      <td>32</td>\n",
       "      <td>0</td>\n",
       "      <td>0.176091</td>\n",
       "      <td>-0.30103</td>\n",
       "      <td>0.11928</td>\n",
       "    </tr>\n",
       "    <tr>\n",
       "      <th>pp_prsity2</th>\n",
       "      <td>pp_prsity2</td>\n",
       "      <td>log</td>\n",
       "      <td>32</td>\n",
       "      <td>0</td>\n",
       "      <td>0.176091</td>\n",
       "      <td>-0.30103</td>\n",
       "      <td>0.11928</td>\n",
       "    </tr>\n",
       "    <tr>\n",
       "      <th>pp_rech0</th>\n",
       "      <td>pp_rech0</td>\n",
       "      <td>log</td>\n",
       "      <td>32</td>\n",
       "      <td>0</td>\n",
       "      <td>0.0413927</td>\n",
       "      <td>-0.0457575</td>\n",
       "      <td>0.0217875</td>\n",
       "    </tr>\n",
       "    <tr>\n",
       "      <th>pp_rech1</th>\n",
       "      <td>pp_rech1</td>\n",
       "      <td>log</td>\n",
       "      <td>32</td>\n",
       "      <td>0</td>\n",
       "      <td>0.0413927</td>\n",
       "      <td>-0.0457575</td>\n",
       "      <td>0.0217875</td>\n",
       "    </tr>\n",
       "    <tr>\n",
       "      <th>pp_ss0</th>\n",
       "      <td>pp_ss0</td>\n",
       "      <td>log</td>\n",
       "      <td>32</td>\n",
       "      <td>0</td>\n",
       "      <td>1</td>\n",
       "      <td>-1</td>\n",
       "      <td>0.5</td>\n",
       "    </tr>\n",
       "    <tr>\n",
       "      <th>pp_ss1</th>\n",
       "      <td>pp_ss1</td>\n",
       "      <td>log</td>\n",
       "      <td>32</td>\n",
       "      <td>0</td>\n",
       "      <td>1</td>\n",
       "      <td>-1</td>\n",
       "      <td>0.5</td>\n",
       "    </tr>\n",
       "    <tr>\n",
       "      <th>pp_ss2</th>\n",
       "      <td>pp_ss2</td>\n",
       "      <td>log</td>\n",
       "      <td>32</td>\n",
       "      <td>0</td>\n",
       "      <td>1</td>\n",
       "      <td>-1</td>\n",
       "      <td>0.5</td>\n",
       "    </tr>\n",
       "    <tr>\n",
       "      <th>pp_strt0</th>\n",
       "      <td>pp_strt0</td>\n",
       "      <td>log</td>\n",
       "      <td>32</td>\n",
       "      <td>0</td>\n",
       "      <td>0.0211893</td>\n",
       "      <td>-0.0222764</td>\n",
       "      <td>0.0108664</td>\n",
       "    </tr>\n",
       "    <tr>\n",
       "      <th>pp_strt1</th>\n",
       "      <td>pp_strt1</td>\n",
       "      <td>log</td>\n",
       "      <td>32</td>\n",
       "      <td>0</td>\n",
       "      <td>0.0211893</td>\n",
       "      <td>-0.0222764</td>\n",
       "      <td>0.0108664</td>\n",
       "    </tr>\n",
       "    <tr>\n",
       "      <th>pp_strt2</th>\n",
       "      <td>pp_strt2</td>\n",
       "      <td>log</td>\n",
       "      <td>32</td>\n",
       "      <td>0</td>\n",
       "      <td>0.0211893</td>\n",
       "      <td>-0.0222764</td>\n",
       "      <td>0.0108664</td>\n",
       "    </tr>\n",
       "    <tr>\n",
       "      <th>pp_sy0</th>\n",
       "      <td>pp_sy0</td>\n",
       "      <td>log</td>\n",
       "      <td>32</td>\n",
       "      <td>0</td>\n",
       "      <td>0.243038</td>\n",
       "      <td>-0.60206</td>\n",
       "      <td>0.211275</td>\n",
       "    </tr>\n",
       "    <tr>\n",
       "      <th>pp_sy1</th>\n",
       "      <td>pp_sy1</td>\n",
       "      <td>log</td>\n",
       "      <td>32</td>\n",
       "      <td>0</td>\n",
       "      <td>0.243038</td>\n",
       "      <td>-0.60206</td>\n",
       "      <td>0.211275</td>\n",
       "    </tr>\n",
       "    <tr>\n",
       "      <th>pp_sy2</th>\n",
       "      <td>pp_sy2</td>\n",
       "      <td>log</td>\n",
       "      <td>32</td>\n",
       "      <td>0</td>\n",
       "      <td>0.243038</td>\n",
       "      <td>-0.60206</td>\n",
       "      <td>0.211275</td>\n",
       "    </tr>\n",
       "    <tr>\n",
       "      <th>pp_vka0</th>\n",
       "      <td>pp_vka0</td>\n",
       "      <td>log</td>\n",
       "      <td>32</td>\n",
       "      <td>0</td>\n",
       "      <td>1</td>\n",
       "      <td>-1</td>\n",
       "      <td>0.5</td>\n",
       "    </tr>\n",
       "    <tr>\n",
       "      <th>pp_vka1</th>\n",
       "      <td>pp_vka1</td>\n",
       "      <td>log</td>\n",
       "      <td>32</td>\n",
       "      <td>0</td>\n",
       "      <td>1</td>\n",
       "      <td>-1</td>\n",
       "      <td>0.5</td>\n",
       "    </tr>\n",
       "    <tr>\n",
       "      <th>pp_vka2</th>\n",
       "      <td>pp_vka2</td>\n",
       "      <td>log</td>\n",
       "      <td>32</td>\n",
       "      <td>0</td>\n",
       "      <td>1</td>\n",
       "      <td>-1</td>\n",
       "      <td>0.5</td>\n",
       "    </tr>\n",
       "    <tr>\n",
       "      <th>strk</th>\n",
       "      <td>strk</td>\n",
       "      <td>log</td>\n",
       "      <td>40</td>\n",
       "      <td>0</td>\n",
       "      <td>2</td>\n",
       "      <td>-2</td>\n",
       "      <td>1</td>\n",
       "    </tr>\n",
       "    <tr>\n",
       "      <th>welflux</th>\n",
       "      <td>welflux</td>\n",
       "      <td>log</td>\n",
       "      <td>2</td>\n",
       "      <td>0 to 0.176091</td>\n",
       "      <td>0.176091 to 0.30103</td>\n",
       "      <td>-0.30103 to     0</td>\n",
       "      <td>0.0752575 to 0.11928</td>\n",
       "    </tr>\n",
       "    <tr>\n",
       "      <th>welflux_k02</th>\n",
       "      <td>welflux_k02</td>\n",
       "      <td>log</td>\n",
       "      <td>6</td>\n",
       "      <td>0</td>\n",
       "      <td>1</td>\n",
       "      <td>-1</td>\n",
       "      <td>0.5</td>\n",
       "    </tr>\n",
       "  </tbody>\n",
       "</table>\n",
       "<p>65 rows × 7 columns</p>\n",
       "</div>"
      ],
      "text/plain": [
       "                    type transform  count      initial value  \\\n",
       "cn_hk6            cn_hk6       log      1                  0   \n",
       "cn_hk7            cn_hk7       log      1                  0   \n",
       "cn_hk8            cn_hk8       log      1                  0   \n",
       "cn_prsity6    cn_prsity6       log      1                  0   \n",
       "cn_prsity7    cn_prsity7       log      1                  0   \n",
       "cn_prsity8    cn_prsity8       log      1                  0   \n",
       "cn_rech4        cn_rech4       log      1                  0   \n",
       "cn_rech5        cn_rech5       log      1           -0.39794   \n",
       "cn_ss6            cn_ss6       log      1                  0   \n",
       "cn_ss7            cn_ss7       log      1                  0   \n",
       "cn_ss8            cn_ss8       log      1                  0   \n",
       "cn_strt6        cn_strt6       log      1                  0   \n",
       "cn_strt7        cn_strt7       log      1                  0   \n",
       "cn_strt8        cn_strt8       log      1                  0   \n",
       "cn_sy6            cn_sy6       log      1                  0   \n",
       "cn_sy7            cn_sy7       log      1                  0   \n",
       "cn_sy8            cn_sy8       log      1                  0   \n",
       "cn_vka6          cn_vka6       log      1                  0   \n",
       "cn_vka7          cn_vka7       log      1                  0   \n",
       "cn_vka8          cn_vka8       log      1                  0   \n",
       "drncond_k00  drncond_k00       log     10                  0   \n",
       "flow                flow       log      1                  0   \n",
       "gr_hk3            gr_hk3       log    705                  0   \n",
       "gr_hk4            gr_hk4       log    705                  0   \n",
       "gr_hk5            gr_hk5       log    705                  0   \n",
       "gr_prsity3    gr_prsity3       log    705                  0   \n",
       "gr_prsity4    gr_prsity4       log    705                  0   \n",
       "gr_prsity5    gr_prsity5       log    705                  0   \n",
       "gr_rech2        gr_rech2       log    705                  0   \n",
       "gr_rech3        gr_rech3       log    705                  0   \n",
       "...                  ...       ...    ...                ...   \n",
       "gr_strt5        gr_strt5       log    705                  0   \n",
       "gr_sy3            gr_sy3       log    705                  0   \n",
       "gr_sy4            gr_sy4       log    705                  0   \n",
       "gr_sy5            gr_sy5       log    705                  0   \n",
       "gr_vka3          gr_vka3       log    705                  0   \n",
       "gr_vka4          gr_vka4       log    705                  0   \n",
       "gr_vka5          gr_vka5       log    705                  0   \n",
       "pp_hk0            pp_hk0       log     32                  0   \n",
       "pp_hk1            pp_hk1       log     32                  0   \n",
       "pp_hk2            pp_hk2       log     32                  0   \n",
       "pp_prsity0    pp_prsity0       log     32                  0   \n",
       "pp_prsity1    pp_prsity1       log     32                  0   \n",
       "pp_prsity2    pp_prsity2       log     32                  0   \n",
       "pp_rech0        pp_rech0       log     32                  0   \n",
       "pp_rech1        pp_rech1       log     32                  0   \n",
       "pp_ss0            pp_ss0       log     32                  0   \n",
       "pp_ss1            pp_ss1       log     32                  0   \n",
       "pp_ss2            pp_ss2       log     32                  0   \n",
       "pp_strt0        pp_strt0       log     32                  0   \n",
       "pp_strt1        pp_strt1       log     32                  0   \n",
       "pp_strt2        pp_strt2       log     32                  0   \n",
       "pp_sy0            pp_sy0       log     32                  0   \n",
       "pp_sy1            pp_sy1       log     32                  0   \n",
       "pp_sy2            pp_sy2       log     32                  0   \n",
       "pp_vka0          pp_vka0       log     32                  0   \n",
       "pp_vka1          pp_vka1       log     32                  0   \n",
       "pp_vka2          pp_vka2       log     32                  0   \n",
       "strk                strk       log     40                  0   \n",
       "welflux          welflux       log      2      0 to 0.176091   \n",
       "welflux_k02  welflux_k02       log      6                  0   \n",
       "\n",
       "                     upper bound        lower bound    standard deviation  \n",
       "cn_hk6                         1                 -1                   0.5  \n",
       "cn_hk7                         1                 -1                   0.5  \n",
       "cn_hk8                         1                 -1                   0.5  \n",
       "cn_prsity6              0.176091           -0.30103               0.11928  \n",
       "cn_prsity7              0.176091           -0.30103               0.11928  \n",
       "cn_prsity8              0.176091           -0.30103               0.11928  \n",
       "cn_rech4               0.0791812           -0.09691             0.0440228  \n",
       "cn_rech5                -0.09691                 -1              0.225772  \n",
       "cn_ss6                         1                 -1                   0.5  \n",
       "cn_ss7                         1                 -1                   0.5  \n",
       "cn_ss8                         1                 -1                   0.5  \n",
       "cn_strt6               0.0211893         -0.0222764             0.0108664  \n",
       "cn_strt7               0.0211893         -0.0222764             0.0108664  \n",
       "cn_strt8               0.0211893         -0.0222764             0.0108664  \n",
       "cn_sy6                  0.243038           -0.60206              0.211275  \n",
       "cn_sy7                  0.243038           -0.60206              0.211275  \n",
       "cn_sy8                  0.243038           -0.60206              0.211275  \n",
       "cn_vka6                        1                 -1                   0.5  \n",
       "cn_vka7                        1                 -1                   0.5  \n",
       "cn_vka8                        1                 -1                   0.5  \n",
       "drncond_k00                    1                 -1                   0.5  \n",
       "flow                     0.09691          -0.124939             0.0554622  \n",
       "gr_hk3                         1                 -1                   0.5  \n",
       "gr_hk4                         1                 -1                   0.5  \n",
       "gr_hk5                         1                 -1                   0.5  \n",
       "gr_prsity3              0.176091           -0.30103               0.11928  \n",
       "gr_prsity4              0.176091           -0.30103               0.11928  \n",
       "gr_prsity5              0.176091           -0.30103               0.11928  \n",
       "gr_rech2               0.0413927         -0.0457575             0.0217875  \n",
       "gr_rech3               0.0413927         -0.0457575             0.0217875  \n",
       "...                          ...                ...                   ...  \n",
       "gr_strt5               0.0211893         -0.0222764             0.0108664  \n",
       "gr_sy3                  0.243038           -0.60206              0.211275  \n",
       "gr_sy4                  0.243038           -0.60206              0.211275  \n",
       "gr_sy5                  0.243038           -0.60206              0.211275  \n",
       "gr_vka3                        1                 -1                   0.5  \n",
       "gr_vka4                        1                 -1                   0.5  \n",
       "gr_vka5                        1                 -1                   0.5  \n",
       "pp_hk0                         1                 -1                   0.5  \n",
       "pp_hk1                         1                 -1                   0.5  \n",
       "pp_hk2                         1                 -1                   0.5  \n",
       "pp_prsity0              0.176091           -0.30103               0.11928  \n",
       "pp_prsity1              0.176091           -0.30103               0.11928  \n",
       "pp_prsity2              0.176091           -0.30103               0.11928  \n",
       "pp_rech0               0.0413927         -0.0457575             0.0217875  \n",
       "pp_rech1               0.0413927         -0.0457575             0.0217875  \n",
       "pp_ss0                         1                 -1                   0.5  \n",
       "pp_ss1                         1                 -1                   0.5  \n",
       "pp_ss2                         1                 -1                   0.5  \n",
       "pp_strt0               0.0211893         -0.0222764             0.0108664  \n",
       "pp_strt1               0.0211893         -0.0222764             0.0108664  \n",
       "pp_strt2               0.0211893         -0.0222764             0.0108664  \n",
       "pp_sy0                  0.243038           -0.60206              0.211275  \n",
       "pp_sy1                  0.243038           -0.60206              0.211275  \n",
       "pp_sy2                  0.243038           -0.60206              0.211275  \n",
       "pp_vka0                        1                 -1                   0.5  \n",
       "pp_vka1                        1                 -1                   0.5  \n",
       "pp_vka2                        1                 -1                   0.5  \n",
       "strk                           2                 -2                     1  \n",
       "welflux      0.176091 to 0.30103  -0.30103 to     0  0.0752575 to 0.11928  \n",
       "welflux_k02                    1                 -1                   0.5  \n",
       "\n",
       "[65 rows x 7 columns]"
      ]
     },
     "execution_count": 3,
     "metadata": {},
     "output_type": "execute_result"
    }
   ],
   "source": [
    "pst = pyemu.Pst(os.path.join(t_d,\"freyberg.pst\"))\n",
    "pst.write_par_summary_table(filename=\"none\").sort_index()"
   ]
  },
  {
   "cell_type": "markdown",
   "metadata": {},
   "source": [
    "define our decision varible group and also set some ++args.  Conceptually, we are going to optimize current pumping rates to make sure we meet ecological flows under both historic (current) conditions and scenario (future) conditions.  Remember the scenario is an extreme 1-year drought so if we pump too much now, the system will be too low to provide critical flows if next year is an extreme drough - transient memory!"
   ]
  },
  {
   "cell_type": "code",
   "execution_count": 4,
   "metadata": {},
   "outputs": [],
   "source": [
    "pst.pestpp_options = {}\n",
    "#dvg = [\"welflux_k02\",\"welflux\"]\n",
    "dvg = [\"welflux_k02\"]\n",
    "pst.pestpp_options[\"opt_dec_var_groups\"] = dvg\n",
    "pst.pestpp_options[\"opt_direction\"] = \"max\""
   ]
  },
  {
   "cell_type": "markdown",
   "metadata": {},
   "source": [
    "For the first run, we wont use chance constraints, so just fix all non-decision-variable parameter.  We also need to set some realistic bounds on the `welflux` multiplier decision variables.  Finally, we need to specify a larger derivative increment for the decision varible group"
   ]
  },
  {
   "cell_type": "code",
   "execution_count": 5,
   "metadata": {},
   "outputs": [
    {
     "data": {
      "text/html": [
       "<div>\n",
       "<style scoped>\n",
       "    .dataframe tbody tr th:only-of-type {\n",
       "        vertical-align: middle;\n",
       "    }\n",
       "\n",
       "    .dataframe tbody tr th {\n",
       "        vertical-align: top;\n",
       "    }\n",
       "\n",
       "    .dataframe thead th {\n",
       "        text-align: right;\n",
       "    }\n",
       "</style>\n",
       "<table border=\"1\" class=\"dataframe\">\n",
       "  <thead>\n",
       "    <tr style=\"text-align: right;\">\n",
       "      <th></th>\n",
       "      <th>pargpnme</th>\n",
       "      <th>inctyp</th>\n",
       "      <th>derinc</th>\n",
       "      <th>derinclb</th>\n",
       "      <th>forcen</th>\n",
       "      <th>derincmul</th>\n",
       "      <th>dermthd</th>\n",
       "      <th>splitthresh</th>\n",
       "      <th>splitreldiff</th>\n",
       "      <th>splitaction</th>\n",
       "      <th>extra</th>\n",
       "    </tr>\n",
       "    <tr>\n",
       "      <th>pargpnme</th>\n",
       "      <th></th>\n",
       "      <th></th>\n",
       "      <th></th>\n",
       "      <th></th>\n",
       "      <th></th>\n",
       "      <th></th>\n",
       "      <th></th>\n",
       "      <th></th>\n",
       "      <th></th>\n",
       "      <th></th>\n",
       "      <th></th>\n",
       "    </tr>\n",
       "  </thead>\n",
       "  <tbody>\n",
       "    <tr>\n",
       "      <th>welflux_k02</th>\n",
       "      <td>welflux_k02</td>\n",
       "      <td>absolute</td>\n",
       "      <td>0.25</td>\n",
       "      <td>0.0</td>\n",
       "      <td>switch</td>\n",
       "      <td>2.0</td>\n",
       "      <td>parabolic</td>\n",
       "      <td>0.00001</td>\n",
       "      <td>0.5</td>\n",
       "      <td>smaller</td>\n",
       "      <td>NaN</td>\n",
       "    </tr>\n",
       "  </tbody>\n",
       "</table>\n",
       "</div>"
      ],
      "text/plain": [
       "                pargpnme    inctyp  derinc  derinclb  forcen  derincmul  \\\n",
       "pargpnme                                                                  \n",
       "welflux_k02  welflux_k02  absolute    0.25       0.0  switch        2.0   \n",
       "\n",
       "               dermthd  splitthresh  splitreldiff splitaction  extra  \n",
       "pargpnme                                                              \n",
       "welflux_k02  parabolic      0.00001           0.5     smaller    NaN  "
      ]
     },
     "execution_count": 5,
     "metadata": {},
     "output_type": "execute_result"
    }
   ],
   "source": [
    "par = pst.parameter_data\n",
    "par.loc[:,\"partrans\"] = \"fixed\"\n",
    "\n",
    "#turn off pumping in the scenario\n",
    "par.loc[\"welflux_001\",\"parlbnd\"] = 0.0 \n",
    "par.loc[\"welflux_001\",\"parval1\"] = 0.0 \n",
    "dvg_pars = par.loc[par.pargp.apply(lambda x: x in dvg),\"parnme\"]\n",
    "par.loc[dvg_pars,\"partrans\"] = \"none\"\n",
    "par.loc[dvg_pars,\"parlbnd\"] = 0.0\n",
    "par.loc[dvg_pars,\"parubnd\"] = 3.0\n",
    "par.loc[dvg_pars,\"parval1\"] = 1.0\n",
    "\n",
    "pst.rectify_pgroups()\n",
    "pst.parameter_groups.loc[dvg,\"inctyp\"] = \"absolute\"\n",
    "pst.parameter_groups.loc[dvg,\"inctyp\"] = \"absolute\"\n",
    "pst.parameter_groups.loc[dvg,\"derinc\"] = 0.25\n",
    "\n",
    "pst.parameter_groups.loc[dvg,:]"
   ]
  },
  {
   "cell_type": "markdown",
   "metadata": {},
   "source": [
    "### define constraints\n",
    "\n",
    "model-based and prior information constraints are identified in pestpp-opt by an obs group that starts with \"less_than\" or \"greater_than\" and a weight greater than zero.  So first, we turn off all of the weights and get names for the sw-gw exchange forecasts (funny how optimization turns forecasts into constraints...)"
   ]
  },
  {
   "cell_type": "code",
   "execution_count": 6,
   "metadata": {},
   "outputs": [
    {
     "data": {
      "text/html": [
       "<div>\n",
       "<style scoped>\n",
       "    .dataframe tbody tr th:only-of-type {\n",
       "        vertical-align: middle;\n",
       "    }\n",
       "\n",
       "    .dataframe tbody tr th {\n",
       "        vertical-align: top;\n",
       "    }\n",
       "\n",
       "    .dataframe thead th {\n",
       "        text-align: right;\n",
       "    }\n",
       "</style>\n",
       "<table border=\"1\" class=\"dataframe\">\n",
       "  <thead>\n",
       "    <tr style=\"text-align: right;\">\n",
       "      <th></th>\n",
       "      <th>obsnme</th>\n",
       "      <th>obsval</th>\n",
       "      <th>weight</th>\n",
       "      <th>obgnme</th>\n",
       "      <th>extra</th>\n",
       "    </tr>\n",
       "    <tr>\n",
       "      <th>obsnme</th>\n",
       "      <th></th>\n",
       "      <th></th>\n",
       "      <th></th>\n",
       "      <th></th>\n",
       "      <th></th>\n",
       "    </tr>\n",
       "  </thead>\n",
       "  <tbody>\n",
       "    <tr>\n",
       "      <th>fa_hw_19791230</th>\n",
       "      <td>fa_hw_19791230</td>\n",
       "      <td>-1165.19711</td>\n",
       "      <td>0.0</td>\n",
       "      <td>flaqx</td>\n",
       "      <td>NaN</td>\n",
       "    </tr>\n",
       "    <tr>\n",
       "      <th>fa_hw_19801229</th>\n",
       "      <td>fa_hw_19801229</td>\n",
       "      <td>-154.89106</td>\n",
       "      <td>0.0</td>\n",
       "      <td>flaqx</td>\n",
       "      <td>NaN</td>\n",
       "    </tr>\n",
       "    <tr>\n",
       "      <th>fa_tw_19791230</th>\n",
       "      <td>fa_tw_19791230</td>\n",
       "      <td>-505.49290</td>\n",
       "      <td>0.0</td>\n",
       "      <td>flaqx</td>\n",
       "      <td>NaN</td>\n",
       "    </tr>\n",
       "    <tr>\n",
       "      <th>fa_tw_19801229</th>\n",
       "      <td>fa_tw_19801229</td>\n",
       "      <td>38.58960</td>\n",
       "      <td>0.0</td>\n",
       "      <td>flaqx</td>\n",
       "      <td>NaN</td>\n",
       "    </tr>\n",
       "  </tbody>\n",
       "</table>\n",
       "</div>"
      ],
      "text/plain": [
       "                        obsnme      obsval  weight obgnme  extra\n",
       "obsnme                                                          \n",
       "fa_hw_19791230  fa_hw_19791230 -1165.19711     0.0  flaqx    NaN\n",
       "fa_hw_19801229  fa_hw_19801229  -154.89106     0.0  flaqx    NaN\n",
       "fa_tw_19791230  fa_tw_19791230  -505.49290     0.0  flaqx    NaN\n",
       "fa_tw_19801229  fa_tw_19801229    38.58960     0.0  flaqx    NaN"
      ]
     },
     "execution_count": 6,
     "metadata": {},
     "output_type": "execute_result"
    }
   ],
   "source": [
    "obs = pst.observation_data\n",
    "obs.loc[:,\"weight\"] = 0.0\n",
    "swgw_const = obs.loc[obs.obsnme.apply(lambda x: \"fa\" in x and( \"hw\" in x or \"tw\" in x)),\"obsnme\"]\n",
    "obs.loc[swgw_const,:]"
   ]
  },
  {
   "cell_type": "markdown",
   "metadata": {},
   "source": [
    "We need to change the obs group (`obgnme`) so that `pestpp-opt` will recognize these two model outputs as constraints.  The `obsval` becomes the RHS of the constraint.  We also need to set a lower bound constraint on the total abstraction rate (good thing we included all those list file budget components as observations!)"
   ]
  },
  {
   "cell_type": "code",
   "execution_count": 7,
   "metadata": {},
   "outputs": [],
   "source": [
    "obs.loc[swgw_const,\"obgnme\"] = \"less_than\"\n",
    "obs.loc[swgw_const,\"weight\"] = 1.0\n",
    "\n",
    "# we must have at least 300 m3/day of flux from gw to sw\n",
    "# for historic and scenario periods\n",
    "# and for both headwaters and tailwaters\n",
    "obs.loc[swgw_const,\"obsval\"] = -300\n",
    "\n",
    "# tot_abs_rate = [\"flx_wells_19791230\"]#,\"flx_wells_19801229\"]\n",
    "# obs.loc[tot_abs_rate,\"obgnme\"] = \"less_than\"\n",
    "# obs.loc[tot_abs_rate,\"weight\"] = 1.0\n",
    "# obs.loc[tot_abs_rate,\"obsval\"] = -900.0\n",
    "# pst.less_than_obs_constraints"
   ]
  },
  {
   "cell_type": "markdown",
   "metadata": {},
   "source": [
    "Now we need to define a minimum total pumping rate, otherwise this opt problem might yield a solution that doesn't give enough water for the intended usage.  We will do this through a prior information constraint since this just a sum of decision varible values - the required minimum value will the sum of current pumping rates:"
   ]
  },
  {
   "cell_type": "code",
   "execution_count": 8,
   "metadata": {},
   "outputs": [
    {
     "data": {
      "text/plain": [
       "['pilbl', 'equation', 'weight', 'obgnme']"
      ]
     },
     "execution_count": 8,
     "metadata": {},
     "output_type": "execute_result"
    }
   ],
   "source": [
    "pyemu.pst_utils.pst_config[\"prior_fieldnames\"]"
   ]
  },
  {
   "cell_type": "markdown",
   "metadata": {},
   "source": [
    "Since all pumping well are using the same rate, we can just use a `1.0` multiplier in front of each `wel.flux` decision varialbe.  If that is not the case, then you need to set the multipliers to be more meaningful"
   ]
  },
  {
   "cell_type": "code",
   "execution_count": 9,
   "metadata": {},
   "outputs": [
    {
     "data": {
      "text/plain": [
       "'1.0 * wf0200090016 + 1.0 * wf0200110013 + 1.0 * wf0200200014 + 1.0 * wf0200260010 + 1.0 * wf0200290006 + 1.0 * wf0200340012 = 6.0'"
      ]
     },
     "execution_count": 9,
     "metadata": {},
     "output_type": "execute_result"
    }
   ],
   "source": [
    "pi = pst.null_prior\n",
    "pi.loc[\"pi_1\",\"obgnme\"] = \"greater_than\"\n",
    "pi.loc[\"pi_1\",\"pilbl\"] = \"pi_1\"\n",
    "pi.loc[\"pi_1\",\"equation\"] = \" + \".join([\"1.0 * {0}\".format(d) for d in dvg_pars]) +\\\n",
    "                            \" = {0}\".format(par.loc[dvg_pars,\"parval1\"].sum())\n",
    "pi.loc[\"pi_1\",\"weight\"] = 1.0\n",
    "pi.equation[\"pi_1\"]"
   ]
  },
  {
   "cell_type": "code",
   "execution_count": 10,
   "metadata": {},
   "outputs": [
    {
     "data": {
      "text/html": [
       "<div>\n",
       "<style scoped>\n",
       "    .dataframe tbody tr th:only-of-type {\n",
       "        vertical-align: middle;\n",
       "    }\n",
       "\n",
       "    .dataframe tbody tr th {\n",
       "        vertical-align: top;\n",
       "    }\n",
       "\n",
       "    .dataframe thead th {\n",
       "        text-align: right;\n",
       "    }\n",
       "</style>\n",
       "<table border=\"1\" class=\"dataframe\">\n",
       "  <thead>\n",
       "    <tr style=\"text-align: right;\">\n",
       "      <th></th>\n",
       "      <th>obgnme</th>\n",
       "      <th>pilbl</th>\n",
       "      <th>equation</th>\n",
       "      <th>weight</th>\n",
       "    </tr>\n",
       "  </thead>\n",
       "  <tbody>\n",
       "    <tr>\n",
       "      <th>pi_1</th>\n",
       "      <td>greater_than</td>\n",
       "      <td>pi_1</td>\n",
       "      <td>1.0 * wf0200090016 + 1.0 * wf0200110013 + 1.0 * wf0200200014 + 1.0 * wf0200260010 + 1.0 * wf0200...</td>\n",
       "      <td>1.0</td>\n",
       "    </tr>\n",
       "  </tbody>\n",
       "</table>\n",
       "</div>"
      ],
      "text/plain": [
       "            obgnme pilbl  \\\n",
       "pi_1  greater_than  pi_1   \n",
       "\n",
       "                                                                                                 equation  \\\n",
       "pi_1  1.0 * wf0200090016 + 1.0 * wf0200110013 + 1.0 * wf0200200014 + 1.0 * wf0200260010 + 1.0 * wf0200...   \n",
       "\n",
       "      weight  \n",
       "pi_1     1.0  "
      ]
     },
     "execution_count": 10,
     "metadata": {},
     "output_type": "execute_result"
    }
   ],
   "source": [
    "pst.prior_information"
   ]
  },
  {
   "cell_type": "code",
   "execution_count": 11,
   "metadata": {},
   "outputs": [
    {
     "name": "stdout",
     "output_type": "stream",
     "text": [
      "noptmax:1, npar_adj:6, nnz_obs:4\n"
     ]
    }
   ],
   "source": [
    "pst.control_data.noptmax = 1\n",
    "pst.write(os.path.join(t_d,\"freyberg_opt.pst\"))\n",
    "pyemu.os_utils.start_slaves(t_d,\"pestpp-opt\",\"freyberg_opt.pst\",num_slaves=10,master_dir=m_d)"
   ]
  },
  {
   "cell_type": "markdown",
   "metadata": {},
   "source": [
    "Let's load and inspect the response matrix"
   ]
  },
  {
   "cell_type": "code",
   "execution_count": 12,
   "metadata": {},
   "outputs": [
    {
     "data": {
      "text/html": [
       "<div>\n",
       "<style scoped>\n",
       "    .dataframe tbody tr th:only-of-type {\n",
       "        vertical-align: middle;\n",
       "    }\n",
       "\n",
       "    .dataframe tbody tr th {\n",
       "        vertical-align: top;\n",
       "    }\n",
       "\n",
       "    .dataframe thead th {\n",
       "        text-align: right;\n",
       "    }\n",
       "</style>\n",
       "<table border=\"1\" class=\"dataframe\">\n",
       "  <thead>\n",
       "    <tr style=\"text-align: right;\">\n",
       "      <th></th>\n",
       "      <th>wf0200090016</th>\n",
       "      <th>wf0200110013</th>\n",
       "      <th>wf0200200014</th>\n",
       "      <th>wf0200260010</th>\n",
       "      <th>wf0200290006</th>\n",
       "      <th>wf0200340012</th>\n",
       "    </tr>\n",
       "  </thead>\n",
       "  <tbody>\n",
       "    <tr>\n",
       "      <th>fa_hw_19791230</th>\n",
       "      <td>137.57200</td>\n",
       "      <td>126.32400</td>\n",
       "      <td>46.30000</td>\n",
       "      <td>21.90800</td>\n",
       "      <td>18.12000</td>\n",
       "      <td>4.8320</td>\n",
       "    </tr>\n",
       "    <tr>\n",
       "      <th>fa_hw_19801229</th>\n",
       "      <td>22.58400</td>\n",
       "      <td>28.65600</td>\n",
       "      <td>12.03600</td>\n",
       "      <td>12.29200</td>\n",
       "      <td>13.12800</td>\n",
       "      <td>3.3560</td>\n",
       "    </tr>\n",
       "    <tr>\n",
       "      <th>fa_tw_19791230</th>\n",
       "      <td>6.50728</td>\n",
       "      <td>14.53516</td>\n",
       "      <td>93.28136</td>\n",
       "      <td>92.42320</td>\n",
       "      <td>71.84608</td>\n",
       "      <td>82.9612</td>\n",
       "    </tr>\n",
       "    <tr>\n",
       "      <th>fa_tw_19801229</th>\n",
       "      <td>4.10836</td>\n",
       "      <td>7.60104</td>\n",
       "      <td>15.29948</td>\n",
       "      <td>30.88604</td>\n",
       "      <td>34.79872</td>\n",
       "      <td>17.5232</td>\n",
       "    </tr>\n",
       "  </tbody>\n",
       "</table>\n",
       "</div>"
      ],
      "text/plain": [
       "                wf0200090016  wf0200110013  wf0200200014  wf0200260010  \\\n",
       "fa_hw_19791230     137.57200     126.32400      46.30000      21.90800   \n",
       "fa_hw_19801229      22.58400      28.65600      12.03600      12.29200   \n",
       "fa_tw_19791230       6.50728      14.53516      93.28136      92.42320   \n",
       "fa_tw_19801229       4.10836       7.60104      15.29948      30.88604   \n",
       "\n",
       "                wf0200290006  wf0200340012  \n",
       "fa_hw_19791230      18.12000        4.8320  \n",
       "fa_hw_19801229      13.12800        3.3560  \n",
       "fa_tw_19791230      71.84608       82.9612  \n",
       "fa_tw_19801229      34.79872       17.5232  "
      ]
     },
     "execution_count": 12,
     "metadata": {},
     "output_type": "execute_result"
    }
   ],
   "source": [
    "jco = pyemu.Jco.from_binary(os.path.join(m_d,\"freyberg_opt.1.jcb\")).to_dataframe().loc[pst.less_than_obs_constraints,:]\n",
    "jco"
   ]
  },
  {
   "cell_type": "markdown",
   "metadata": {},
   "source": [
    "We see the transient effects in the nonzero value between current pumping rates (columns) and scenario sw-gw exchange (rows from 1980)"
   ]
  },
  {
   "cell_type": "markdown",
   "metadata": {},
   "source": [
    "Let's also load the optimal decision variable values:"
   ]
  },
  {
   "cell_type": "code",
   "execution_count": 13,
   "metadata": {},
   "outputs": [
    {
     "name": "stdout",
     "output_type": "stream",
     "text": [
      "9.693626734842857\n"
     ]
    },
    {
     "data": {
      "text/html": [
       "<div>\n",
       "<style scoped>\n",
       "    .dataframe tbody tr th:only-of-type {\n",
       "        vertical-align: middle;\n",
       "    }\n",
       "\n",
       "    .dataframe tbody tr th {\n",
       "        vertical-align: top;\n",
       "    }\n",
       "\n",
       "    .dataframe thead th {\n",
       "        text-align: right;\n",
       "    }\n",
       "</style>\n",
       "<table border=\"1\" class=\"dataframe\">\n",
       "  <thead>\n",
       "    <tr style=\"text-align: right;\">\n",
       "      <th></th>\n",
       "      <th>parnme</th>\n",
       "      <th>parval1</th>\n",
       "      <th>scale</th>\n",
       "      <th>offset</th>\n",
       "    </tr>\n",
       "    <tr>\n",
       "      <th>parnme</th>\n",
       "      <th></th>\n",
       "      <th></th>\n",
       "      <th></th>\n",
       "      <th></th>\n",
       "    </tr>\n",
       "  </thead>\n",
       "  <tbody>\n",
       "    <tr>\n",
       "      <th>wf0200090016</th>\n",
       "      <td>wf0200090016</td>\n",
       "      <td>3.000000</td>\n",
       "      <td>1.0</td>\n",
       "      <td>0.0</td>\n",
       "    </tr>\n",
       "    <tr>\n",
       "      <th>wf0200110013</th>\n",
       "      <td>wf0200110013</td>\n",
       "      <td>3.000000</td>\n",
       "      <td>1.0</td>\n",
       "      <td>0.0</td>\n",
       "    </tr>\n",
       "    <tr>\n",
       "      <th>wf0200200014</th>\n",
       "      <td>wf0200200014</td>\n",
       "      <td>3.000000</td>\n",
       "      <td>1.0</td>\n",
       "      <td>0.0</td>\n",
       "    </tr>\n",
       "    <tr>\n",
       "      <th>wf0200260010</th>\n",
       "      <td>wf0200260010</td>\n",
       "      <td>0.000000</td>\n",
       "      <td>1.0</td>\n",
       "      <td>0.0</td>\n",
       "    </tr>\n",
       "    <tr>\n",
       "      <th>wf0200290006</th>\n",
       "      <td>wf0200290006</td>\n",
       "      <td>0.000000</td>\n",
       "      <td>1.0</td>\n",
       "      <td>0.0</td>\n",
       "    </tr>\n",
       "    <tr>\n",
       "      <th>wf0200340012</th>\n",
       "      <td>wf0200340012</td>\n",
       "      <td>0.693627</td>\n",
       "      <td>1.0</td>\n",
       "      <td>0.0</td>\n",
       "    </tr>\n",
       "  </tbody>\n",
       "</table>\n",
       "</div>"
      ],
      "text/plain": [
       "                    parnme   parval1  scale  offset\n",
       "parnme                                             \n",
       "wf0200090016  wf0200090016  3.000000    1.0     0.0\n",
       "wf0200110013  wf0200110013  3.000000    1.0     0.0\n",
       "wf0200200014  wf0200200014  3.000000    1.0     0.0\n",
       "wf0200260010  wf0200260010  0.000000    1.0     0.0\n",
       "wf0200290006  wf0200290006  0.000000    1.0     0.0\n",
       "wf0200340012  wf0200340012  0.693627    1.0     0.0"
      ]
     },
     "execution_count": 13,
     "metadata": {},
     "output_type": "execute_result"
    }
   ],
   "source": [
    "par_df = pyemu.pst_utils.read_parfile(os.path.join(m_d,\"freyberg_opt.1.par\"))\n",
    "print(par_df.loc[dvg_pars,\"parval1\"].sum())\n",
    "par_df.loc[dvg_pars,:]"
   ]
  },
  {
   "cell_type": "markdown",
   "metadata": {},
   "source": [
    "The sum of these values is the optimal objective function value. However, since these are just mulitpliers on the pumping rate, this number isnt too meaningful. Instead, lets look at the residuals file"
   ]
  },
  {
   "cell_type": "code",
   "execution_count": 14,
   "metadata": {},
   "outputs": [
    {
     "data": {
      "text/html": [
       "<div>\n",
       "<style scoped>\n",
       "    .dataframe tbody tr th:only-of-type {\n",
       "        vertical-align: middle;\n",
       "    }\n",
       "\n",
       "    .dataframe tbody tr th {\n",
       "        vertical-align: top;\n",
       "    }\n",
       "\n",
       "    .dataframe thead th {\n",
       "        text-align: right;\n",
       "    }\n",
       "</style>\n",
       "<table border=\"1\" class=\"dataframe\">\n",
       "  <thead>\n",
       "    <tr style=\"text-align: right;\">\n",
       "      <th></th>\n",
       "      <th>name</th>\n",
       "      <th>group</th>\n",
       "      <th>measured</th>\n",
       "      <th>modelled</th>\n",
       "      <th>residual</th>\n",
       "      <th>weight</th>\n",
       "    </tr>\n",
       "    <tr>\n",
       "      <th>name</th>\n",
       "      <th></th>\n",
       "      <th></th>\n",
       "      <th></th>\n",
       "      <th></th>\n",
       "      <th></th>\n",
       "      <th></th>\n",
       "    </tr>\n",
       "  </thead>\n",
       "  <tbody>\n",
       "    <tr>\n",
       "      <th>fa_hw_19791230</th>\n",
       "      <td>fa_hw_19791230</td>\n",
       "      <td>less_than</td>\n",
       "      <td>-300.0</td>\n",
       "      <td>-398.5755</td>\n",
       "      <td>98.5755</td>\n",
       "      <td>1.0</td>\n",
       "    </tr>\n",
       "    <tr>\n",
       "      <th>fa_hw_19801229</th>\n",
       "      <td>fa_hw_19801229</td>\n",
       "      <td>less_than</td>\n",
       "      <td>-300.0</td>\n",
       "      <td>-656.8370</td>\n",
       "      <td>356.8370</td>\n",
       "      <td>1.0</td>\n",
       "    </tr>\n",
       "    <tr>\n",
       "      <th>fa_tw_19791230</th>\n",
       "      <td>fa_tw_19791230</td>\n",
       "      <td>less_than</td>\n",
       "      <td>-300.0</td>\n",
       "      <td>-414.1347</td>\n",
       "      <td>114.1347</td>\n",
       "      <td>1.0</td>\n",
       "    </tr>\n",
       "    <tr>\n",
       "      <th>fa_tw_19801229</th>\n",
       "      <td>fa_tw_19801229</td>\n",
       "      <td>less_than</td>\n",
       "      <td>-300.0</td>\n",
       "      <td>-299.5820</td>\n",
       "      <td>-0.4180</td>\n",
       "      <td>1.0</td>\n",
       "    </tr>\n",
       "  </tbody>\n",
       "</table>\n",
       "</div>"
      ],
      "text/plain": [
       "                          name      group  measured  modelled  residual  \\\n",
       "name                                                                      \n",
       "fa_hw_19791230  fa_hw_19791230  less_than    -300.0 -398.5755   98.5755   \n",
       "fa_hw_19801229  fa_hw_19801229  less_than    -300.0 -656.8370  356.8370   \n",
       "fa_tw_19791230  fa_tw_19791230  less_than    -300.0 -414.1347  114.1347   \n",
       "fa_tw_19801229  fa_tw_19801229  less_than    -300.0 -299.5820   -0.4180   \n",
       "\n",
       "                weight  \n",
       "name                    \n",
       "fa_hw_19791230     1.0  \n",
       "fa_hw_19801229     1.0  \n",
       "fa_tw_19791230     1.0  \n",
       "fa_tw_19801229     1.0  "
      ]
     },
     "execution_count": 14,
     "metadata": {},
     "output_type": "execute_result"
    }
   ],
   "source": [
    "pst = pyemu.Pst(os.path.join(m_d,\"freyberg_opt.pst\"),resfile=os.path.join(m_d,\"freyberg_opt.1.sim.rei\"))\n",
    "pst.res.loc[pst.nnz_obs_names,:]"
   ]
  },
  {
   "cell_type": "markdown",
   "metadata": {},
   "source": [
    "Sweet as!  lots of room in the optimization problem.  The bounding constraint is the one closest to its RHS"
   ]
  },
  {
   "cell_type": "markdown",
   "metadata": {},
   "source": [
    "### Opt under uncertainty part 1: FOSM chance constraints\n",
    "\n",
    "This is where the process of uncertainty quantification/history matching and mgmt optimizatiom meet - worlds collide! \n",
    "\n",
    "Mechanically, in PESTPP-OPT, to activate the chance constraint process, we need to specific a risk != 0.5.  Risk ranges from 0.001 (risk tolerant) to 0.999 (risk averse).  The larger the risk value, the more confidence we have that the (uncertain) model-based constraints are truely satisfied.  Here we will start with a risk tolerant stance:"
   ]
  },
  {
   "cell_type": "code",
   "execution_count": 15,
   "metadata": {},
   "outputs": [],
   "source": [
    "pst.pestpp_options[\"opt_risk\"] = 0.4"
   ]
  },
  {
   "cell_type": "markdown",
   "metadata": {},
   "source": [
    "For the FOSM-based chance constraints, we also need to have at least one adjustable non-dec-var parameter so that we can propogate parameter uncertainty to model-based constraints (this can also be posterior FOSM is non-constraint, non-zero-weight observations are specified).  For this simple demo, lets just use the constant multiplier parameters in the prior uncertainty stance:"
   ]
  },
  {
   "cell_type": "code",
   "execution_count": 16,
   "metadata": {},
   "outputs": [
    {
     "data": {
      "text/plain": [
       "parnme\n",
       "hk6_cn            hk6_cn\n",
       "hk7_cn            hk7_cn\n",
       "hk8_cn            hk8_cn\n",
       "prsity6_cn    prsity6_cn\n",
       "prsity7_cn    prsity7_cn\n",
       "prsity8_cn    prsity8_cn\n",
       "rech4_cn        rech4_cn\n",
       "rech5_cn        rech5_cn\n",
       "ss6_cn            ss6_cn\n",
       "ss7_cn            ss7_cn\n",
       "ss8_cn            ss8_cn\n",
       "strt6_cn        strt6_cn\n",
       "strt7_cn        strt7_cn\n",
       "strt8_cn        strt8_cn\n",
       "sy6_cn            sy6_cn\n",
       "sy7_cn            sy7_cn\n",
       "sy8_cn            sy8_cn\n",
       "vka6_cn          vka6_cn\n",
       "vka7_cn          vka7_cn\n",
       "vka8_cn          vka8_cn\n",
       "Name: parnme, dtype: object"
      ]
     },
     "execution_count": 16,
     "metadata": {},
     "output_type": "execute_result"
    }
   ],
   "source": [
    "cn_pars = par.loc[par.pargp.apply(lambda x: \"cn\" in x),\"parnme\"]\n",
    "cn_pars"
   ]
  },
  {
   "cell_type": "code",
   "execution_count": 17,
   "metadata": {},
   "outputs": [
    {
     "name": "stdout",
     "output_type": "stream",
     "text": [
      "noptmax:1, npar_adj:26, nnz_obs:4\n"
     ]
    }
   ],
   "source": [
    "par = pst.parameter_data\n",
    "par.loc[cn_pars,\"partrans\"] = \"log\"\n",
    "pst.control_data.noptmax = 1\n",
    "pst.write(os.path.join(t_d,\"freyberg_opt_uu1.pst\"))"
   ]
  },
  {
   "cell_type": "markdown",
   "metadata": {},
   "source": [
    "So now we need to not only fill the response matrix (between dec vars and constraints) but we also need to fill the jacobian matrix (between parameters and constraints).  "
   ]
  },
  {
   "cell_type": "code",
   "execution_count": 18,
   "metadata": {},
   "outputs": [],
   "source": [
    "pyemu.os_utils.start_slaves(t_d,\"pestpp-opt\",\"freyberg_opt_uu1.pst\",num_slaves=20,master_dir=m_d)"
   ]
  },
  {
   "cell_type": "code",
   "execution_count": 19,
   "metadata": {},
   "outputs": [
    {
     "data": {
      "text/html": [
       "<div>\n",
       "<style scoped>\n",
       "    .dataframe tbody tr th:only-of-type {\n",
       "        vertical-align: middle;\n",
       "    }\n",
       "\n",
       "    .dataframe tbody tr th {\n",
       "        vertical-align: top;\n",
       "    }\n",
       "\n",
       "    .dataframe thead th {\n",
       "        text-align: right;\n",
       "    }\n",
       "</style>\n",
       "<table border=\"1\" class=\"dataframe\">\n",
       "  <thead>\n",
       "    <tr style=\"text-align: right;\">\n",
       "      <th></th>\n",
       "      <th>name</th>\n",
       "      <th>group</th>\n",
       "      <th>measured</th>\n",
       "      <th>modelled</th>\n",
       "      <th>residual</th>\n",
       "      <th>weight</th>\n",
       "    </tr>\n",
       "    <tr>\n",
       "      <th>name</th>\n",
       "      <th></th>\n",
       "      <th></th>\n",
       "      <th></th>\n",
       "      <th></th>\n",
       "      <th></th>\n",
       "      <th></th>\n",
       "    </tr>\n",
       "  </thead>\n",
       "  <tbody>\n",
       "    <tr>\n",
       "      <th>fa_hw_19791230</th>\n",
       "      <td>fa_hw_19791230</td>\n",
       "      <td>less_than</td>\n",
       "      <td>-300.0</td>\n",
       "      <td>-426.6231</td>\n",
       "      <td>126.6231</td>\n",
       "      <td>1.0</td>\n",
       "    </tr>\n",
       "    <tr>\n",
       "      <th>fa_hw_19801229</th>\n",
       "      <td>fa_hw_19801229</td>\n",
       "      <td>less_than</td>\n",
       "      <td>-300.0</td>\n",
       "      <td>-640.6620</td>\n",
       "      <td>340.6620</td>\n",
       "      <td>1.0</td>\n",
       "    </tr>\n",
       "    <tr>\n",
       "      <th>fa_tw_19791230</th>\n",
       "      <td>fa_tw_19791230</td>\n",
       "      <td>less_than</td>\n",
       "      <td>-300.0</td>\n",
       "      <td>-223.3317</td>\n",
       "      <td>-76.6683</td>\n",
       "      <td>1.0</td>\n",
       "    </tr>\n",
       "    <tr>\n",
       "      <th>fa_tw_19801229</th>\n",
       "      <td>fa_tw_19801229</td>\n",
       "      <td>less_than</td>\n",
       "      <td>-300.0</td>\n",
       "      <td>-208.3292</td>\n",
       "      <td>-91.6708</td>\n",
       "      <td>1.0</td>\n",
       "    </tr>\n",
       "  </tbody>\n",
       "</table>\n",
       "</div>"
      ],
      "text/plain": [
       "                          name      group  measured  modelled  residual  \\\n",
       "name                                                                      \n",
       "fa_hw_19791230  fa_hw_19791230  less_than    -300.0 -426.6231  126.6231   \n",
       "fa_hw_19801229  fa_hw_19801229  less_than    -300.0 -640.6620  340.6620   \n",
       "fa_tw_19791230  fa_tw_19791230  less_than    -300.0 -223.3317  -76.6683   \n",
       "fa_tw_19801229  fa_tw_19801229  less_than    -300.0 -208.3292  -91.6708   \n",
       "\n",
       "                weight  \n",
       "name                    \n",
       "fa_hw_19791230     1.0  \n",
       "fa_hw_19801229     1.0  \n",
       "fa_tw_19791230     1.0  \n",
       "fa_tw_19801229     1.0  "
      ]
     },
     "execution_count": 19,
     "metadata": {},
     "output_type": "execute_result"
    }
   ],
   "source": [
    "pst = pyemu.Pst(os.path.join(m_d,\"freyberg_opt_uu1.pst\"),resfile=os.path.join(m_d,\"freyberg_opt_uu1.1.sim.rei\"))\n",
    "pst.res.loc[pst.nnz_obs_names,:]"
   ]
  },
  {
   "cell_type": "code",
   "execution_count": 20,
   "metadata": {},
   "outputs": [
    {
     "name": "stdout",
     "output_type": "stream",
     "text": [
      "12.500896512450069\n"
     ]
    },
    {
     "data": {
      "text/html": [
       "<div>\n",
       "<style scoped>\n",
       "    .dataframe tbody tr th:only-of-type {\n",
       "        vertical-align: middle;\n",
       "    }\n",
       "\n",
       "    .dataframe tbody tr th {\n",
       "        vertical-align: top;\n",
       "    }\n",
       "\n",
       "    .dataframe thead th {\n",
       "        text-align: right;\n",
       "    }\n",
       "</style>\n",
       "<table border=\"1\" class=\"dataframe\">\n",
       "  <thead>\n",
       "    <tr style=\"text-align: right;\">\n",
       "      <th></th>\n",
       "      <th>parnme</th>\n",
       "      <th>parval1</th>\n",
       "      <th>scale</th>\n",
       "      <th>offset</th>\n",
       "    </tr>\n",
       "    <tr>\n",
       "      <th>parnme</th>\n",
       "      <th></th>\n",
       "      <th></th>\n",
       "      <th></th>\n",
       "      <th></th>\n",
       "    </tr>\n",
       "  </thead>\n",
       "  <tbody>\n",
       "    <tr>\n",
       "      <th>wf0200090016</th>\n",
       "      <td>wf0200090016</td>\n",
       "      <td>3.000000</td>\n",
       "      <td>1.0</td>\n",
       "      <td>0.0</td>\n",
       "    </tr>\n",
       "    <tr>\n",
       "      <th>wf0200110013</th>\n",
       "      <td>wf0200110013</td>\n",
       "      <td>3.000000</td>\n",
       "      <td>1.0</td>\n",
       "      <td>0.0</td>\n",
       "    </tr>\n",
       "    <tr>\n",
       "      <th>wf0200200014</th>\n",
       "      <td>wf0200200014</td>\n",
       "      <td>1.281895</td>\n",
       "      <td>1.0</td>\n",
       "      <td>0.0</td>\n",
       "    </tr>\n",
       "    <tr>\n",
       "      <th>wf0200260010</th>\n",
       "      <td>wf0200260010</td>\n",
       "      <td>0.000000</td>\n",
       "      <td>1.0</td>\n",
       "      <td>0.0</td>\n",
       "    </tr>\n",
       "    <tr>\n",
       "      <th>wf0200290006</th>\n",
       "      <td>wf0200290006</td>\n",
       "      <td>2.219002</td>\n",
       "      <td>1.0</td>\n",
       "      <td>0.0</td>\n",
       "    </tr>\n",
       "    <tr>\n",
       "      <th>wf0200340012</th>\n",
       "      <td>wf0200340012</td>\n",
       "      <td>3.000000</td>\n",
       "      <td>1.0</td>\n",
       "      <td>0.0</td>\n",
       "    </tr>\n",
       "  </tbody>\n",
       "</table>\n",
       "</div>"
      ],
      "text/plain": [
       "                    parnme   parval1  scale  offset\n",
       "parnme                                             \n",
       "wf0200090016  wf0200090016  3.000000    1.0     0.0\n",
       "wf0200110013  wf0200110013  3.000000    1.0     0.0\n",
       "wf0200200014  wf0200200014  1.281895    1.0     0.0\n",
       "wf0200260010  wf0200260010  0.000000    1.0     0.0\n",
       "wf0200290006  wf0200290006  2.219002    1.0     0.0\n",
       "wf0200340012  wf0200340012  3.000000    1.0     0.0"
      ]
     },
     "execution_count": 20,
     "metadata": {},
     "output_type": "execute_result"
    }
   ],
   "source": [
    "par_df = pyemu.pst_utils.read_parfile(os.path.join(m_d,\"freyberg_opt_uu1.1.par\"))\n",
    "print(par_df.loc[dvg_pars,\"parval1\"].sum())\n",
    "par_df.loc[dvg_pars,:]"
   ]
  },
  {
   "cell_type": "markdown",
   "metadata": {},
   "source": [
    "We now see how taking a risk tolerant stance allows for more pumping but that we have only a 40% chance of actually satifying the sw-gw constraints (see how the model simulated value is actually in violation of the -300 constraint RHS.  Lets check the residuals that include the FOSM-based chance constraint shift:"
   ]
  },
  {
   "cell_type": "code",
   "execution_count": 21,
   "metadata": {},
   "outputs": [
    {
     "data": {
      "text/html": [
       "<div>\n",
       "<style scoped>\n",
       "    .dataframe tbody tr th:only-of-type {\n",
       "        vertical-align: middle;\n",
       "    }\n",
       "\n",
       "    .dataframe tbody tr th {\n",
       "        vertical-align: top;\n",
       "    }\n",
       "\n",
       "    .dataframe thead th {\n",
       "        text-align: right;\n",
       "    }\n",
       "</style>\n",
       "<table border=\"1\" class=\"dataframe\">\n",
       "  <thead>\n",
       "    <tr style=\"text-align: right;\">\n",
       "      <th></th>\n",
       "      <th>name</th>\n",
       "      <th>group</th>\n",
       "      <th>measured</th>\n",
       "      <th>modelled</th>\n",
       "      <th>residual</th>\n",
       "      <th>weight</th>\n",
       "    </tr>\n",
       "    <tr>\n",
       "      <th>name</th>\n",
       "      <th></th>\n",
       "      <th></th>\n",
       "      <th></th>\n",
       "      <th></th>\n",
       "      <th></th>\n",
       "      <th></th>\n",
       "    </tr>\n",
       "  </thead>\n",
       "  <tbody>\n",
       "    <tr>\n",
       "      <th>fa_hw_19791230</th>\n",
       "      <td>fa_hw_19791230</td>\n",
       "      <td>less_than</td>\n",
       "      <td>-300.0</td>\n",
       "      <td>-461.842970</td>\n",
       "      <td>161.842970</td>\n",
       "      <td>1.0</td>\n",
       "    </tr>\n",
       "    <tr>\n",
       "      <th>fa_hw_19801229</th>\n",
       "      <td>fa_hw_19801229</td>\n",
       "      <td>less_than</td>\n",
       "      <td>-300.0</td>\n",
       "      <td>-693.498392</td>\n",
       "      <td>393.498392</td>\n",
       "      <td>1.0</td>\n",
       "    </tr>\n",
       "    <tr>\n",
       "      <th>fa_tw_19791230</th>\n",
       "      <td>fa_tw_19791230</td>\n",
       "      <td>less_than</td>\n",
       "      <td>-300.0</td>\n",
       "      <td>-299.758707</td>\n",
       "      <td>-0.241293</td>\n",
       "      <td>1.0</td>\n",
       "    </tr>\n",
       "    <tr>\n",
       "      <th>fa_tw_19801229</th>\n",
       "      <td>fa_tw_19801229</td>\n",
       "      <td>less_than</td>\n",
       "      <td>-300.0</td>\n",
       "      <td>-299.676541</td>\n",
       "      <td>-0.323459</td>\n",
       "      <td>1.0</td>\n",
       "    </tr>\n",
       "  </tbody>\n",
       "</table>\n",
       "</div>"
      ],
      "text/plain": [
       "                          name      group  measured    modelled    residual  \\\n",
       "name                                                                          \n",
       "fa_hw_19791230  fa_hw_19791230  less_than    -300.0 -461.842970  161.842970   \n",
       "fa_hw_19801229  fa_hw_19801229  less_than    -300.0 -693.498392  393.498392   \n",
       "fa_tw_19791230  fa_tw_19791230  less_than    -300.0 -299.758707   -0.241293   \n",
       "fa_tw_19801229  fa_tw_19801229  less_than    -300.0 -299.676541   -0.323459   \n",
       "\n",
       "                weight  \n",
       "name                    \n",
       "fa_hw_19791230     1.0  \n",
       "fa_hw_19801229     1.0  \n",
       "fa_tw_19791230     1.0  \n",
       "fa_tw_19801229     1.0  "
      ]
     },
     "execution_count": 21,
     "metadata": {},
     "output_type": "execute_result"
    }
   ],
   "source": [
    "res_df = pyemu.pst_utils.read_resfile(os.path.join(m_d,\"freyberg_opt_uu1.1.sim+fosm.rei\")).loc[pst.nnz_obs_names,:]\n",
    "res_df"
   ]
  },
  {
   "cell_type": "code",
   "execution_count": 22,
   "metadata": {},
   "outputs": [
    {
     "data": {
      "image/png": "[encoded data removed]",
      "text/plain": [
       "<Figure size 432x288 with 1 Axes>"
      ]
     },
     "metadata": {
      "needs_background": "light"
     },
     "output_type": "display_data"
    }
   ],
   "source": [
    "ax = pd.DataFrame({\"native\":pst.res.modelled,\"fosm\":res_df.modelled}).loc[pst.nnz_obs_names].plot(kind=\"bar\")"
   ]
  },
  {
   "cell_type": "markdown",
   "metadata": {},
   "source": [
    "### Opt under uncertainty part 2: ensemble-based chance constraints\n",
    "\n",
    "PESTPP-OPT can also skip the FOSM calculations if users specify model-based constraint weights as standard deviations (e.g. uncertainty in the forecasts/constraints).  These can be derived from existing ensembles (oh snap!)"
   ]
  },
  {
   "cell_type": "code",
   "execution_count": 23,
   "metadata": {},
   "outputs": [],
   "source": [
    "obs_df = pd.read_csv(os.path.join(\"master_prior_sweep\",\"sweep_out.csv\"),index_col=0)\n",
    "obs_df = obs_df.loc[obs_df.failed_flag==0,:]"
   ]
  },
  {
   "cell_type": "code",
   "execution_count": 24,
   "metadata": {},
   "outputs": [
    {
     "data": {
      "text/plain": [
       "fa_hw_19791230    352.032747\n",
       "fa_hw_19801229    481.036378\n",
       "fa_tw_19791230    480.732852\n",
       "fa_tw_19801229    571.599106\n",
       "dtype: float64"
      ]
     },
     "execution_count": 24,
     "metadata": {},
     "output_type": "execute_result"
    }
   ],
   "source": [
    "pr_std = obs_df.std().loc[pst.nnz_obs_names]\n",
    "pr_std"
   ]
  },
  {
   "cell_type": "code",
   "execution_count": 25,
   "metadata": {},
   "outputs": [
    {
     "name": "stdout",
     "output_type": "stream",
     "text": [
      "noptmax:1, npar_adj:26, nnz_obs:4\n"
     ]
    }
   ],
   "source": [
    "pst.observation_data.loc[pst.nnz_obs_names,\"weight\"] = pr_std.loc[pst.nnz_obs_names]\n",
    "pst.pestpp_options[\"opt_std_weights\"] = True\n",
    "pst.write(os.path.join(t_d,\"freyberg_opt_uu2.pst\"))"
   ]
  },
  {
   "cell_type": "code",
   "execution_count": 26,
   "metadata": {},
   "outputs": [],
   "source": [
    "pyemu.os_utils.start_slaves(t_d,\"pestpp-opt\",\"freyberg_opt_uu2.pst\",num_slaves=10,master_dir=m_d)"
   ]
  },
  {
   "cell_type": "code",
   "execution_count": 27,
   "metadata": {},
   "outputs": [
    {
     "name": "stdout",
     "output_type": "stream",
     "text": [
      "13.177556909488672\n"
     ]
    },
    {
     "data": {
      "text/html": [
       "<div>\n",
       "<style scoped>\n",
       "    .dataframe tbody tr th:only-of-type {\n",
       "        vertical-align: middle;\n",
       "    }\n",
       "\n",
       "    .dataframe tbody tr th {\n",
       "        vertical-align: top;\n",
       "    }\n",
       "\n",
       "    .dataframe thead th {\n",
       "        text-align: right;\n",
       "    }\n",
       "</style>\n",
       "<table border=\"1\" class=\"dataframe\">\n",
       "  <thead>\n",
       "    <tr style=\"text-align: right;\">\n",
       "      <th></th>\n",
       "      <th>parnme</th>\n",
       "      <th>parval1</th>\n",
       "      <th>scale</th>\n",
       "      <th>offset</th>\n",
       "    </tr>\n",
       "    <tr>\n",
       "      <th>parnme</th>\n",
       "      <th></th>\n",
       "      <th></th>\n",
       "      <th></th>\n",
       "      <th></th>\n",
       "    </tr>\n",
       "  </thead>\n",
       "  <tbody>\n",
       "    <tr>\n",
       "      <th>wf0200090016</th>\n",
       "      <td>wf0200090016</td>\n",
       "      <td>3.000000</td>\n",
       "      <td>1.0</td>\n",
       "      <td>0.0</td>\n",
       "    </tr>\n",
       "    <tr>\n",
       "      <th>wf0200110013</th>\n",
       "      <td>wf0200110013</td>\n",
       "      <td>3.000000</td>\n",
       "      <td>1.0</td>\n",
       "      <td>0.0</td>\n",
       "    </tr>\n",
       "    <tr>\n",
       "      <th>wf0200200014</th>\n",
       "      <td>wf0200200014</td>\n",
       "      <td>0.000000</td>\n",
       "      <td>1.0</td>\n",
       "      <td>0.0</td>\n",
       "    </tr>\n",
       "    <tr>\n",
       "      <th>wf0200260010</th>\n",
       "      <td>wf0200260010</td>\n",
       "      <td>1.177557</td>\n",
       "      <td>1.0</td>\n",
       "      <td>0.0</td>\n",
       "    </tr>\n",
       "    <tr>\n",
       "      <th>wf0200290006</th>\n",
       "      <td>wf0200290006</td>\n",
       "      <td>3.000000</td>\n",
       "      <td>1.0</td>\n",
       "      <td>0.0</td>\n",
       "    </tr>\n",
       "    <tr>\n",
       "      <th>wf0200340012</th>\n",
       "      <td>wf0200340012</td>\n",
       "      <td>3.000000</td>\n",
       "      <td>1.0</td>\n",
       "      <td>0.0</td>\n",
       "    </tr>\n",
       "  </tbody>\n",
       "</table>\n",
       "</div>"
      ],
      "text/plain": [
       "                    parnme   parval1  scale  offset\n",
       "parnme                                             \n",
       "wf0200090016  wf0200090016  3.000000    1.0     0.0\n",
       "wf0200110013  wf0200110013  3.000000    1.0     0.0\n",
       "wf0200200014  wf0200200014  0.000000    1.0     0.0\n",
       "wf0200260010  wf0200260010  1.177557    1.0     0.0\n",
       "wf0200290006  wf0200290006  3.000000    1.0     0.0\n",
       "wf0200340012  wf0200340012  3.000000    1.0     0.0"
      ]
     },
     "execution_count": 27,
     "metadata": {},
     "output_type": "execute_result"
    }
   ],
   "source": [
    "par_df = pyemu.pst_utils.read_parfile(os.path.join(m_d,\"freyberg_opt_uu2.1.par\"))\n",
    "print(par_df.loc[dvg_pars,\"parval1\"].sum())\n",
    "par_df.loc[dvg_pars,:]"
   ]
  },
  {
   "cell_type": "markdown",
   "metadata": {},
   "source": [
    "Why is the objective function higher when we use the ensemble-based constraint uncertainty compared to the FOSM constraint uncertainty?  remember how many more parameters were used in the ensemble analyses compared to just the hand full of constant by layer parameters???"
   ]
  },
  {
   "cell_type": "markdown",
   "metadata": {},
   "source": [
    "### Super secret mode\n",
    "\n",
    "turns out, if the opt problem is truely linear, we can reuse results of a previous PESTPP-OPT run to modify lots of the pieces of the optimization problem and resolve the optimization problem without running the model even once!  WAT!? This is done by specifying some additional ++ args (and copying some files around)"
   ]
  },
  {
   "cell_type": "code",
   "execution_count": 28,
   "metadata": {},
   "outputs": [
    {
     "name": "stdout",
     "output_type": "stream",
     "text": [
      "noptmax:1, npar_adj:26, nnz_obs:4\n"
     ]
    }
   ],
   "source": [
    "shutil.copy2(os.path.join(m_d,\"freyberg_opt_uu2.1.jcb\"),os.path.join(m_d,\"restart.jcb\"))\n",
    "shutil.copy2(os.path.join(m_d,\"freyberg_opt_uu2.1.jcb.rei\"),os.path.join(m_d,\"restart.rei\"))\n",
    "\n",
    "pst.pestpp_options[\"base_jacobian\"] = \"restart.jcb\"\n",
    "pst.pestpp_options[\"hotstart_resfile\"] = \"restart.rei\"\n",
    "pst.pestpp_options[\"opt_skip_final\"] = True\n",
    "pst.write(os.path.join(m_d,\"freyberg_opt_restart.pst\"))"
   ]
  },
  {
   "cell_type": "code",
   "execution_count": 29,
   "metadata": {},
   "outputs": [],
   "source": [
    "pyemu.os_utils.run(\"pestpp-opt freyberg_opt_restart.pst\",cwd=m_d)"
   ]
  },
  {
   "cell_type": "code",
   "execution_count": 30,
   "metadata": {},
   "outputs": [
    {
     "name": "stdout",
     "output_type": "stream",
     "text": [
      "13.177556909488672\n"
     ]
    },
    {
     "data": {
      "text/html": [
       "<div>\n",
       "<style scoped>\n",
       "    .dataframe tbody tr th:only-of-type {\n",
       "        vertical-align: middle;\n",
       "    }\n",
       "\n",
       "    .dataframe tbody tr th {\n",
       "        vertical-align: top;\n",
       "    }\n",
       "\n",
       "    .dataframe thead th {\n",
       "        text-align: right;\n",
       "    }\n",
       "</style>\n",
       "<table border=\"1\" class=\"dataframe\">\n",
       "  <thead>\n",
       "    <tr style=\"text-align: right;\">\n",
       "      <th></th>\n",
       "      <th>parnme</th>\n",
       "      <th>parval1</th>\n",
       "      <th>scale</th>\n",
       "      <th>offset</th>\n",
       "    </tr>\n",
       "    <tr>\n",
       "      <th>parnme</th>\n",
       "      <th></th>\n",
       "      <th></th>\n",
       "      <th></th>\n",
       "      <th></th>\n",
       "    </tr>\n",
       "  </thead>\n",
       "  <tbody>\n",
       "    <tr>\n",
       "      <th>wf0200090016</th>\n",
       "      <td>wf0200090016</td>\n",
       "      <td>3.000000</td>\n",
       "      <td>1.0</td>\n",
       "      <td>0.0</td>\n",
       "    </tr>\n",
       "    <tr>\n",
       "      <th>wf0200110013</th>\n",
       "      <td>wf0200110013</td>\n",
       "      <td>3.000000</td>\n",
       "      <td>1.0</td>\n",
       "      <td>0.0</td>\n",
       "    </tr>\n",
       "    <tr>\n",
       "      <th>wf0200200014</th>\n",
       "      <td>wf0200200014</td>\n",
       "      <td>0.000000</td>\n",
       "      <td>1.0</td>\n",
       "      <td>0.0</td>\n",
       "    </tr>\n",
       "    <tr>\n",
       "      <th>wf0200260010</th>\n",
       "      <td>wf0200260010</td>\n",
       "      <td>1.177557</td>\n",
       "      <td>1.0</td>\n",
       "      <td>0.0</td>\n",
       "    </tr>\n",
       "    <tr>\n",
       "      <th>wf0200290006</th>\n",
       "      <td>wf0200290006</td>\n",
       "      <td>3.000000</td>\n",
       "      <td>1.0</td>\n",
       "      <td>0.0</td>\n",
       "    </tr>\n",
       "    <tr>\n",
       "      <th>wf0200340012</th>\n",
       "      <td>wf0200340012</td>\n",
       "      <td>3.000000</td>\n",
       "      <td>1.0</td>\n",
       "      <td>0.0</td>\n",
       "    </tr>\n",
       "  </tbody>\n",
       "</table>\n",
       "</div>"
      ],
      "text/plain": [
       "                    parnme   parval1  scale  offset\n",
       "parnme                                             \n",
       "wf0200090016  wf0200090016  3.000000    1.0     0.0\n",
       "wf0200110013  wf0200110013  3.000000    1.0     0.0\n",
       "wf0200200014  wf0200200014  0.000000    1.0     0.0\n",
       "wf0200260010  wf0200260010  1.177557    1.0     0.0\n",
       "wf0200290006  wf0200290006  3.000000    1.0     0.0\n",
       "wf0200340012  wf0200340012  3.000000    1.0     0.0"
      ]
     },
     "execution_count": 30,
     "metadata": {},
     "output_type": "execute_result"
    }
   ],
   "source": [
    "par_df = pyemu.pst_utils.read_parfile(os.path.join(m_d,\"freyberg_opt_restart.1.par\"))\n",
    "print(par_df.loc[dvg_pars,\"parval1\"].sum())\n",
    "par_df.loc[dvg_pars,:]"
   ]
  },
  {
   "cell_type": "markdown",
   "metadata": {},
   "source": [
    "Oh snap!  that means we can do all sort of kewl optimization testing really really fast...we can test a (slightly) risk averse stance too:"
   ]
  },
  {
   "cell_type": "code",
   "execution_count": 31,
   "metadata": {},
   "outputs": [
    {
     "name": "stdout",
     "output_type": "stream",
     "text": [
      "noptmax:1, npar_adj:26, nnz_obs:4\n",
      "8.857835256056427\n"
     ]
    },
    {
     "data": {
      "text/html": [
       "<div>\n",
       "<style scoped>\n",
       "    .dataframe tbody tr th:only-of-type {\n",
       "        vertical-align: middle;\n",
       "    }\n",
       "\n",
       "    .dataframe tbody tr th {\n",
       "        vertical-align: top;\n",
       "    }\n",
       "\n",
       "    .dataframe thead th {\n",
       "        text-align: right;\n",
       "    }\n",
       "</style>\n",
       "<table border=\"1\" class=\"dataframe\">\n",
       "  <thead>\n",
       "    <tr style=\"text-align: right;\">\n",
       "      <th></th>\n",
       "      <th>parnme</th>\n",
       "      <th>parval1</th>\n",
       "      <th>scale</th>\n",
       "      <th>offset</th>\n",
       "    </tr>\n",
       "    <tr>\n",
       "      <th>parnme</th>\n",
       "      <th></th>\n",
       "      <th></th>\n",
       "      <th></th>\n",
       "      <th></th>\n",
       "    </tr>\n",
       "  </thead>\n",
       "  <tbody>\n",
       "    <tr>\n",
       "      <th>wf0200090016</th>\n",
       "      <td>wf0200090016</td>\n",
       "      <td>3.000000</td>\n",
       "      <td>1.0</td>\n",
       "      <td>0.0</td>\n",
       "    </tr>\n",
       "    <tr>\n",
       "      <th>wf0200110013</th>\n",
       "      <td>wf0200110013</td>\n",
       "      <td>3.000000</td>\n",
       "      <td>1.0</td>\n",
       "      <td>0.0</td>\n",
       "    </tr>\n",
       "    <tr>\n",
       "      <th>wf0200200014</th>\n",
       "      <td>wf0200200014</td>\n",
       "      <td>2.857835</td>\n",
       "      <td>1.0</td>\n",
       "      <td>0.0</td>\n",
       "    </tr>\n",
       "    <tr>\n",
       "      <th>wf0200260010</th>\n",
       "      <td>wf0200260010</td>\n",
       "      <td>0.000000</td>\n",
       "      <td>1.0</td>\n",
       "      <td>0.0</td>\n",
       "    </tr>\n",
       "    <tr>\n",
       "      <th>wf0200290006</th>\n",
       "      <td>wf0200290006</td>\n",
       "      <td>0.000000</td>\n",
       "      <td>1.0</td>\n",
       "      <td>0.0</td>\n",
       "    </tr>\n",
       "    <tr>\n",
       "      <th>wf0200340012</th>\n",
       "      <td>wf0200340012</td>\n",
       "      <td>0.000000</td>\n",
       "      <td>1.0</td>\n",
       "      <td>0.0</td>\n",
       "    </tr>\n",
       "  </tbody>\n",
       "</table>\n",
       "</div>"
      ],
      "text/plain": [
       "                    parnme   parval1  scale  offset\n",
       "parnme                                             \n",
       "wf0200090016  wf0200090016  3.000000    1.0     0.0\n",
       "wf0200110013  wf0200110013  3.000000    1.0     0.0\n",
       "wf0200200014  wf0200200014  2.857835    1.0     0.0\n",
       "wf0200260010  wf0200260010  0.000000    1.0     0.0\n",
       "wf0200290006  wf0200290006  0.000000    1.0     0.0\n",
       "wf0200340012  wf0200340012  0.000000    1.0     0.0"
      ]
     },
     "execution_count": 31,
     "metadata": {},
     "output_type": "execute_result"
    }
   ],
   "source": [
    "pst.pestpp_options[\"opt_risk\"] = 0.51\n",
    "pst.write(os.path.join(m_d,\"freyberg_opt_restart.pst\"))\n",
    "pyemu.os_utils.run(\"pestpp-opt freyberg_opt_restart.pst\",cwd=m_d)\n",
    "par_df = pyemu.pst_utils.read_parfile(os.path.join(m_d,\"freyberg_opt_restart.1.par\"))\n",
    "print(par_df.loc[dvg_pars,\"parval1\"].sum())\n",
    "par_df.loc[dvg_pars,:]"
   ]
  },
  {
   "cell_type": "markdown",
   "metadata": {},
   "source": [
    "Lets use the functionality to evaluate how our OUU problem changes if we use posterior standard deviations - this is a critically important use of the uncertainty analysis from history matching:"
   ]
  },
  {
   "cell_type": "code",
   "execution_count": 32,
   "metadata": {},
   "outputs": [
    {
     "data": {
      "text/plain": [
       "fa_hw_19791230    207.293769\n",
       "fa_hw_19801229    324.512508\n",
       "fa_tw_19791230    130.971667\n",
       "fa_tw_19801229    195.441533\n",
       "dtype: float64"
      ]
     },
     "execution_count": 32,
     "metadata": {},
     "output_type": "execute_result"
    }
   ],
   "source": [
    "obs_df = pd.read_csv(os.path.join(\"master_ies\",\"freyberg_ies.3.obs.csv\"),index_col=0)\n",
    "\n",
    "#df = df=pd.read_csv(os.path.join(\"master_glm\",\"freyberg_pp.post.obsen.csv\"),index_col=0)\n",
    "#obs_df = pyemu.ObservationEnsemble.from_dataframe(pst=pst,df=df)\n",
    "#obs_df = obs_df.loc[obs_df.phi_vector.sort_values().index[:20],:] \n",
    "pt_std = obs_df.std().loc[pst.nnz_obs_names]\n",
    "obs_df.std().loc[pst.nnz_obs_names]\n",
    "#obs_df.max().loc[pst.nnz_obs_names]"
   ]
  },
  {
   "cell_type": "markdown",
   "metadata": {},
   "source": [
    "How much lower is the posterior standard deviations are compared to the prior?"
   ]
  },
  {
   "cell_type": "code",
   "execution_count": 33,
   "metadata": {},
   "outputs": [
    {
     "data": {
      "text/plain": [
       "<matplotlib.axes._subplots.AxesSubplot at 0x181fcea470>"
      ]
     },
     "execution_count": 33,
     "metadata": {},
     "output_type": "execute_result"
    },
    {
     "data": {
      "image/png": "[encoded data removed]",
      "text/plain": [
       "<Figure size 432x288 with 1 Axes>"
      ]
     },
     "metadata": {
      "needs_background": "light"
     },
     "output_type": "display_data"
    }
   ],
   "source": [
    "pd.DataFrame({\"prior\":pr_std,\"posterior\":pt_std}).plot(kind=\"bar\")"
   ]
  },
  {
   "cell_type": "markdown",
   "metadata": {},
   "source": [
    "This implies that the chance constraints (which express the important model input uncertainty propogated to the forecast/constraints) is significantly lower, meaning uncertainty has less \"value\" in the optimization objective function"
   ]
  },
  {
   "cell_type": "code",
   "execution_count": 34,
   "metadata": {},
   "outputs": [
    {
     "data": {
      "text/plain": [
       "obsnme\n",
       "fa_hw_19791230    207.293769\n",
       "fa_hw_19801229    324.512508\n",
       "fa_tw_19791230    130.971667\n",
       "fa_tw_19801229    195.441533\n",
       "Name: weight, dtype: float64"
      ]
     },
     "execution_count": 34,
     "metadata": {},
     "output_type": "execute_result"
    }
   ],
   "source": [
    "pst.observation_data.loc[pst.nnz_obs_names,\"weight\"] = pt_std.loc[pst.nnz_obs_names]\n",
    "pst.observation_data.loc[pst.nnz_obs_names,\"weight\"]"
   ]
  },
  {
   "cell_type": "code",
   "execution_count": 35,
   "metadata": {},
   "outputs": [
    {
     "name": "stdout",
     "output_type": "stream",
     "text": [
      "noptmax:1, npar_adj:26, nnz_obs:4\n",
      "9.4140209373158\n"
     ]
    },
    {
     "data": {
      "text/html": [
       "<div>\n",
       "<style scoped>\n",
       "    .dataframe tbody tr th:only-of-type {\n",
       "        vertical-align: middle;\n",
       "    }\n",
       "\n",
       "    .dataframe tbody tr th {\n",
       "        vertical-align: top;\n",
       "    }\n",
       "\n",
       "    .dataframe thead th {\n",
       "        text-align: right;\n",
       "    }\n",
       "</style>\n",
       "<table border=\"1\" class=\"dataframe\">\n",
       "  <thead>\n",
       "    <tr style=\"text-align: right;\">\n",
       "      <th></th>\n",
       "      <th>parnme</th>\n",
       "      <th>parval1</th>\n",
       "      <th>scale</th>\n",
       "      <th>offset</th>\n",
       "    </tr>\n",
       "    <tr>\n",
       "      <th>parnme</th>\n",
       "      <th></th>\n",
       "      <th></th>\n",
       "      <th></th>\n",
       "      <th></th>\n",
       "    </tr>\n",
       "  </thead>\n",
       "  <tbody>\n",
       "    <tr>\n",
       "      <th>wf0200090016</th>\n",
       "      <td>wf0200090016</td>\n",
       "      <td>3.000000</td>\n",
       "      <td>1.0</td>\n",
       "      <td>0.0</td>\n",
       "    </tr>\n",
       "    <tr>\n",
       "      <th>wf0200110013</th>\n",
       "      <td>wf0200110013</td>\n",
       "      <td>3.000000</td>\n",
       "      <td>1.0</td>\n",
       "      <td>0.0</td>\n",
       "    </tr>\n",
       "    <tr>\n",
       "      <th>wf0200200014</th>\n",
       "      <td>wf0200200014</td>\n",
       "      <td>3.000000</td>\n",
       "      <td>1.0</td>\n",
       "      <td>0.0</td>\n",
       "    </tr>\n",
       "    <tr>\n",
       "      <th>wf0200260010</th>\n",
       "      <td>wf0200260010</td>\n",
       "      <td>0.000000</td>\n",
       "      <td>1.0</td>\n",
       "      <td>0.0</td>\n",
       "    </tr>\n",
       "    <tr>\n",
       "      <th>wf0200290006</th>\n",
       "      <td>wf0200290006</td>\n",
       "      <td>0.000000</td>\n",
       "      <td>1.0</td>\n",
       "      <td>0.0</td>\n",
       "    </tr>\n",
       "    <tr>\n",
       "      <th>wf0200340012</th>\n",
       "      <td>wf0200340012</td>\n",
       "      <td>0.414021</td>\n",
       "      <td>1.0</td>\n",
       "      <td>0.0</td>\n",
       "    </tr>\n",
       "  </tbody>\n",
       "</table>\n",
       "</div>"
      ],
      "text/plain": [
       "                    parnme   parval1  scale  offset\n",
       "parnme                                             \n",
       "wf0200090016  wf0200090016  3.000000    1.0     0.0\n",
       "wf0200110013  wf0200110013  3.000000    1.0     0.0\n",
       "wf0200200014  wf0200200014  3.000000    1.0     0.0\n",
       "wf0200260010  wf0200260010  0.000000    1.0     0.0\n",
       "wf0200290006  wf0200290006  0.000000    1.0     0.0\n",
       "wf0200340012  wf0200340012  0.414021    1.0     0.0"
      ]
     },
     "execution_count": 35,
     "metadata": {},
     "output_type": "execute_result"
    }
   ],
   "source": [
    "pst.write(os.path.join(m_d,\"freyberg_opt_restart.pst\"))\n",
    "pyemu.os_utils.run(\"pestpp-opt freyberg_opt_restart.pst\",cwd=m_d)\n",
    "par_df = pyemu.pst_utils.read_parfile(os.path.join(m_d,\"freyberg_opt_restart.1.par\"))\n",
    "print(par_df.loc[dvg_pars,\"parval1\"].sum())\n",
    "par_df.loc[dvg_pars,:]"
   ]
  },
  {
   "cell_type": "code",
   "execution_count": 36,
   "metadata": {},
   "outputs": [
    {
     "data": {
      "text/html": [
       "<div>\n",
       "<style scoped>\n",
       "    .dataframe tbody tr th:only-of-type {\n",
       "        vertical-align: middle;\n",
       "    }\n",
       "\n",
       "    .dataframe tbody tr th {\n",
       "        vertical-align: top;\n",
       "    }\n",
       "\n",
       "    .dataframe thead th {\n",
       "        text-align: right;\n",
       "    }\n",
       "</style>\n",
       "<table border=\"1\" class=\"dataframe\">\n",
       "  <thead>\n",
       "    <tr style=\"text-align: right;\">\n",
       "      <th></th>\n",
       "      <th>name</th>\n",
       "      <th>group</th>\n",
       "      <th>measured</th>\n",
       "      <th>modelled</th>\n",
       "      <th>residual</th>\n",
       "      <th>weight</th>\n",
       "    </tr>\n",
       "    <tr>\n",
       "      <th>name</th>\n",
       "      <th></th>\n",
       "      <th></th>\n",
       "      <th></th>\n",
       "      <th></th>\n",
       "      <th></th>\n",
       "      <th></th>\n",
       "    </tr>\n",
       "  </thead>\n",
       "  <tbody>\n",
       "    <tr>\n",
       "      <th>fa_hw_19791230</th>\n",
       "      <td>fa_hw_19791230</td>\n",
       "      <td>less_than</td>\n",
       "      <td>-300.0</td>\n",
       "      <td>-394.509735</td>\n",
       "      <td>94.509735</td>\n",
       "      <td>207.293769</td>\n",
       "    </tr>\n",
       "    <tr>\n",
       "      <th>fa_hw_19801229</th>\n",
       "      <td>fa_hw_19801229</td>\n",
       "      <td>less_than</td>\n",
       "      <td>-300.0</td>\n",
       "      <td>-650.145235</td>\n",
       "      <td>350.145235</td>\n",
       "      <td>324.512508</td>\n",
       "    </tr>\n",
       "    <tr>\n",
       "      <th>fa_tw_19791230</th>\n",
       "      <td>fa_tw_19791230</td>\n",
       "      <td>less_than</td>\n",
       "      <td>-300.0</td>\n",
       "      <td>-433.984934</td>\n",
       "      <td>133.984934</td>\n",
       "      <td>130.971667</td>\n",
       "    </tr>\n",
       "    <tr>\n",
       "      <th>fa_tw_19801229</th>\n",
       "      <td>fa_tw_19801229</td>\n",
       "      <td>less_than</td>\n",
       "      <td>-300.0</td>\n",
       "      <td>-300.000000</td>\n",
       "      <td>0.000000</td>\n",
       "      <td>195.441533</td>\n",
       "    </tr>\n",
       "  </tbody>\n",
       "</table>\n",
       "</div>"
      ],
      "text/plain": [
       "                          name      group  measured    modelled    residual  \\\n",
       "name                                                                          \n",
       "fa_hw_19791230  fa_hw_19791230  less_than    -300.0 -394.509735   94.509735   \n",
       "fa_hw_19801229  fa_hw_19801229  less_than    -300.0 -650.145235  350.145235   \n",
       "fa_tw_19791230  fa_tw_19791230  less_than    -300.0 -433.984934  133.984934   \n",
       "fa_tw_19801229  fa_tw_19801229  less_than    -300.0 -300.000000    0.000000   \n",
       "\n",
       "                    weight  \n",
       "name                        \n",
       "fa_hw_19791230  207.293769  \n",
       "fa_hw_19801229  324.512508  \n",
       "fa_tw_19791230  130.971667  \n",
       "fa_tw_19801229  195.441533  "
      ]
     },
     "execution_count": 36,
     "metadata": {},
     "output_type": "execute_result"
    }
   ],
   "source": [
    "pyemu.pst_utils.read_resfile(os.path.join(m_d,\"freyberg_opt_restart.1.est+fosm.rei\")).loc[pst.nnz_obs_names,:]"
   ]
  },
  {
   "cell_type": "markdown",
   "metadata": {},
   "source": [
    "Again we see that scenarion tail water flux is the binding constraint.  So!  Lets reformulate the problem to be constrained by the total sw-gw flux across all reaches instead of splitting into headwaters and tailwaters.  Good thing we have added the list file budget components to the control file!"
   ]
  },
  {
   "cell_type": "code",
   "execution_count": 37,
   "metadata": {},
   "outputs": [],
   "source": [
    "pst = pyemu.Pst(os.path.join(m_d,\"freyberg_opt_restart.pst\"))\n",
    "obs = pst.observation_data\n",
    "obs.loc[pst.nnz_obs_names,\"obgnme\"] = \"sw-gw\"\n",
    "obs.loc[pst.nnz_obs_names,\"weight\"] = 0.0"
   ]
  },
  {
   "cell_type": "code",
   "execution_count": 38,
   "metadata": {},
   "outputs": [],
   "source": [
    "tot_swgw = obs.loc[obs.obgnme==\"flx_stream_\",\"obsnme\"]"
   ]
  },
  {
   "cell_type": "code",
   "execution_count": 39,
   "metadata": {},
   "outputs": [],
   "source": [
    "obs.loc[tot_swgw,\"obgnme\"] = \"less_than\"\n",
    "obs.loc[tot_swgw,\"weight\"] = 1.0\n",
    "obs.loc[tot_swgw,\"weight\"] = obs_df.std().loc[pst.nnz_obs_names]\n",
    "obs.loc[tot_swgw,\"obsval\"] = -600\n"
   ]
  },
  {
   "cell_type": "code",
   "execution_count": 40,
   "metadata": {},
   "outputs": [
    {
     "data": {
      "text/plain": [
       "<matplotlib.axes._subplots.AxesSubplot at 0x181ddb92b0>"
      ]
     },
     "execution_count": 40,
     "metadata": {},
     "output_type": "execute_result"
    },
    {
     "data": {
      "image/png": "[encoded data removed]",
      "text/plain": [
       "<Figure size 432x288 with 1 Axes>"
      ]
     },
     "metadata": {
      "needs_background": "light"
     },
     "output_type": "display_data"
    }
   ],
   "source": [
    "obs_df.std().loc[pst.nnz_obs_names].plot(kind=\"bar\")"
   ]
  },
  {
   "cell_type": "markdown",
   "metadata": {},
   "source": [
    "Since we want to find the most risk averse stance that is still feasible we will run a sweep of risk values:"
   ]
  },
  {
   "cell_type": "code",
   "execution_count": 41,
   "metadata": {},
   "outputs": [],
   "source": []
  },
  {
   "cell_type": "code",
   "execution_count": 41,
   "metadata": {},
   "outputs": [
    {
     "name": "stdout",
     "output_type": "stream",
     "text": [
      "noptmax:1, npar_adj:26, nnz_obs:2\n",
      "noptmax:1, npar_adj:26, nnz_obs:2\n",
      "noptmax:1, npar_adj:26, nnz_obs:2\n",
      "noptmax:1, npar_adj:26, nnz_obs:2\n",
      "noptmax:1, npar_adj:26, nnz_obs:2\n",
      "noptmax:1, npar_adj:26, nnz_obs:2\n",
      "noptmax:1, npar_adj:26, nnz_obs:2\n",
      "noptmax:1, npar_adj:26, nnz_obs:2\n",
      "noptmax:1, npar_adj:26, nnz_obs:2\n",
      "noptmax:1, npar_adj:26, nnz_obs:2\n",
      "noptmax:1, npar_adj:26, nnz_obs:2\n",
      "noptmax:1, npar_adj:26, nnz_obs:2\n",
      "noptmax:1, npar_adj:26, nnz_obs:2\n",
      "noptmax:1, npar_adj:26, nnz_obs:2\n",
      "noptmax:1, npar_adj:26, nnz_obs:2\n",
      "noptmax:1, npar_adj:26, nnz_obs:2\n",
      "noptmax:1, npar_adj:26, nnz_obs:2\n",
      "infeasible at risk 0.8500000000000001\n"
     ]
    }
   ],
   "source": [
    "par_dfs = []\n",
    "res_dfs = []\n",
    "risk_vals = np.arange(0.05,1.0,0.05)\n",
    "for risk in risk_vals:\n",
    "    #try:\n",
    "    #    os.remove(os.path.join(m_d,\"freyberg_opt_restart.1.est+fosm.rei\"))\n",
    "    #except:\n",
    "    #    pass\n",
    "   \n",
    "    pst.pestpp_options[\"opt_risk\"] = risk\n",
    "    pst.pestpp_options[\"opt_skip_final\"] = True\n",
    "    pst.write(os.path.join(m_d,\"freyberg_opt_restart.pst\"))\n",
    "    pyemu.os_utils.run(\"pestpp-opt freyberg_opt_restart.pst\",cwd=m_d)\n",
    "    par_df = pyemu.pst_utils.read_parfile(os.path.join(m_d,\"freyberg_opt_restart.1.par\"))\n",
    "    par_df = par_df.loc[dvg_pars,:]\n",
    "    #when the solution is infeasible, pestpp-opt writes extreme negative values \n",
    "    # to the par file:\n",
    "    if par_df.parval1.sum() < 6.0: \n",
    "        print(\"infeasible at risk\",risk)\n",
    "        break\n",
    "    res_df = pyemu.pst_utils.read_resfile(os.path.join(m_d,\"freyberg_opt_restart.1.est+fosm.rei\"))\n",
    "    res_df = res_df.loc[pst.nnz_obs_names,:]\n",
    "    res_dfs.append(res_df.modelled)\n",
    "    par_dfs.append(par_df.parval1)\n",
    "\n",
    "# process the dec var and constraint dataframes for plotting\n",
    "risk_vals = risk_vals[:len(par_dfs)]\n",
    "par_df = pd.concat(par_dfs,axis=1).T\n",
    "par_df.index = risk_vals\n",
    "par_df.index = par_df.index.map(lambda x: \"{0:0.3f}\".format(x))\n",
    "res_df = pd.concat(res_dfs,axis=1).T\n",
    "res_df.index = risk_vals\n",
    "res_df.index = res_df.index.map(lambda x: \"{0:0.3f}\".format(x))\n"
   ]
  },
  {
   "cell_type": "code",
   "execution_count": 42,
   "metadata": {},
   "outputs": [
    {
     "data": {
      "text/plain": [
       "Text(0.5, 0, 'risk')"
      ]
     },
     "execution_count": 42,
     "metadata": {},
     "output_type": "execute_result"
    },
    {
     "data": {
      "image/png": "[encoded data removed]",
      "text/plain": [
       "<Figure size 1080x576 with 2 Axes>"
      ]
     },
     "metadata": {
      "needs_background": "light"
     },
     "output_type": "display_data"
    }
   ],
   "source": [
    "colors = [\"m\",\"c\",\"g\",\"r\",\"b\",\"orange\"]\n",
    "fig, axes = plt.subplots(2,1,figsize=(15,8))\n",
    "par_df.plot(kind=\"bar\",ax=axes[0],alpha=0.75,color=colors).legend(bbox_to_anchor=(1.2, 0.5))\n",
    "axes[0].set_ylabel(\"individual pumping rates\")\n",
    "axes[0].set_xticklabels([])\n",
    "res_df.plot(kind=\"bar\",ax=axes[1],alpha=0.75).legend(bbox_to_anchor=(1.2, 0.5))\n",
    "axes[1].plot(axes[1].get_xlim(),[-600,-600],\"r--\",lw=3)\n",
    "axes[1].set_ylabel(\"sw-gw flux\")\n",
    "axes[1].set_xlabel(\"risk\")"
   ]
  },
  {
   "cell_type": "code",
   "execution_count": 43,
   "metadata": {},
   "outputs": [
    {
     "data": {
      "image/png": "[encoded data removed]",
      "text/plain": [
       "<Figure size 1080x1080 with 20 Axes>"
      ]
     },
     "metadata": {
      "needs_background": "light"
     },
     "output_type": "display_data"
    }
   ],
   "source": [
    "m = flopy.modflow.Modflow.load(\"freyberg.nam\",model_ws=t_d)\n",
    "wf_par = pst.parameter_data.loc[dvg_pars,:].copy()\n",
    "wf_par.loc[:,\"k\"] = wf_par.parnme.apply(lambda x: int(x[2:4]))\n",
    "wf_par.loc[:,\"i\"] = wf_par.parnme.apply(lambda x: int(x[4:8]))\n",
    "wf_par.loc[:,\"j\"] = wf_par.parnme.apply(lambda x: int(x[8:]))\n",
    "wf_par.loc[:,\"x\"] = wf_par.apply(lambda x: m.sr.xcentergrid[x.i,x.j],axis=1)\n",
    "wf_par.loc[:,\"y\"] = wf_par.apply(lambda x: m.sr.ycentergrid[x.i,x.j],axis=1)\n",
    "\n",
    "ib = m.bas6.ibound[0].array\n",
    "ib = np.ma.masked_where(ib!=0,ib)\n",
    "fig,axes = plt.subplots(5,int(np.ceil(par_df.shape[0]/5)),figsize=(15,15))\n",
    "axes = axes.flatten()\n",
    "for risk,ax in zip(par_df.index,axes):\n",
    "    ax.set_aspect(\"equal\")\n",
    "    #ax = plt.subplot(111,aspect=\"equal\") \n",
    "    ax.imshow(ib,extent=m.sr.get_extent())\n",
    "    ax.scatter(wf_par.x,wf_par.y,s=par_df.loc[risk,wf_par.parnme].values*50,c=colors)\n",
    "    ax.set_xticks([])\n",
    "    ax.set_yticks([])\n",
    "    ax.set_title(risk)\n",
    "    \n",
    "for i in range(par_df.shape[0],axes.shape[0]):\n",
    "    ax = axes[i]\n",
    "    ax.axis(\"off\")\n",
    "\n",
    "    "
   ]
  },
  {
   "cell_type": "markdown",
   "metadata": {},
   "source": [
    "how about those figures!!!\n",
    "\n",
    "How slick was that!  no more model runs needed and yet we transformed the OUU problem (by swapping constraints) and solved for a much more risk averse stance!  Just to make sure, lets run the model with the most risk-averse decision variables:"
   ]
  },
  {
   "cell_type": "code",
   "execution_count": 44,
   "metadata": {},
   "outputs": [
    {
     "name": "stdout",
     "output_type": "stream",
     "text": [
      "noptmax:1, npar_adj:26, nnz_obs:2\n"
     ]
    },
    {
     "data": {
      "text/html": [
       "<div>\n",
       "<style scoped>\n",
       "    .dataframe tbody tr th:only-of-type {\n",
       "        vertical-align: middle;\n",
       "    }\n",
       "\n",
       "    .dataframe tbody tr th {\n",
       "        vertical-align: top;\n",
       "    }\n",
       "\n",
       "    .dataframe thead th {\n",
       "        text-align: right;\n",
       "    }\n",
       "</style>\n",
       "<table border=\"1\" class=\"dataframe\">\n",
       "  <thead>\n",
       "    <tr style=\"text-align: right;\">\n",
       "      <th></th>\n",
       "      <th>name</th>\n",
       "      <th>group</th>\n",
       "      <th>measured</th>\n",
       "      <th>modelled</th>\n",
       "      <th>residual</th>\n",
       "      <th>weight</th>\n",
       "    </tr>\n",
       "    <tr>\n",
       "      <th>name</th>\n",
       "      <th></th>\n",
       "      <th></th>\n",
       "      <th></th>\n",
       "      <th></th>\n",
       "      <th></th>\n",
       "      <th></th>\n",
       "    </tr>\n",
       "  </thead>\n",
       "  <tbody>\n",
       "    <tr>\n",
       "      <th>flx_stream__19791230</th>\n",
       "      <td>flx_stream__19791230</td>\n",
       "      <td>less_than</td>\n",
       "      <td>-600.0</td>\n",
       "      <td>-751.541317</td>\n",
       "      <td>151.541317</td>\n",
       "      <td>282.331881</td>\n",
       "    </tr>\n",
       "    <tr>\n",
       "      <th>flx_stream__19801229</th>\n",
       "      <td>flx_stream__19801229</td>\n",
       "      <td>less_than</td>\n",
       "      <td>-600.0</td>\n",
       "      <td>-599.684272</td>\n",
       "      <td>-0.315728</td>\n",
       "      <td>483.362732</td>\n",
       "    </tr>\n",
       "  </tbody>\n",
       "</table>\n",
       "</div>"
      ],
      "text/plain": [
       "                                      name      group  measured    modelled  \\\n",
       "name                                                                          \n",
       "flx_stream__19791230  flx_stream__19791230  less_than    -600.0 -751.541317   \n",
       "flx_stream__19801229  flx_stream__19801229  less_than    -600.0 -599.684272   \n",
       "\n",
       "                        residual      weight  \n",
       "name                                          \n",
       "flx_stream__19791230  151.541317  282.331881  \n",
       "flx_stream__19801229   -0.315728  483.362732  "
      ]
     },
     "execution_count": 44,
     "metadata": {},
     "output_type": "execute_result"
    }
   ],
   "source": [
    "pst.pestpp_options[\"opt_risk\"] = risk_vals[-1]\n",
    "pst.pestpp_options[\"opt_skip_final\"] = False\n",
    "pst.write(os.path.join(m_d,\"freyberg_opt_restart.pst\"))\n",
    "pyemu.os_utils.run(\"pestpp-opt freyberg_opt_restart.pst\",cwd=m_d)\n",
    "# load the simulated outputs plus the FOSM chance constraint offsets:\n",
    "res_df = pyemu.pst_utils.read_resfile(os.path.join(m_d,\"freyberg_opt_restart.1.sim+fosm.rei\"))\n",
    "res_df = res_df.loc[pst.nnz_obs_names,:]\n",
    "res_df"
   ]
  },
  {
   "cell_type": "code",
   "execution_count": 45,
   "metadata": {},
   "outputs": [
    {
     "data": {
      "text/plain": [
       "[<matplotlib.lines.Line2D at 0x181eb99fd0>]"
      ]
     },
     "execution_count": 45,
     "metadata": {},
     "output_type": "execute_result"
    },
    {
     "data": {
      "image/png": "[encoded data removed]",
      "text/plain": [
       "<Figure size 432x288 with 1 Axes>"
      ]
     },
     "metadata": {
      "needs_background": "light"
     },
     "output_type": "display_data"
    }
   ],
   "source": [
    "# load the actual model simulated outputs\n",
    "res_df_sim = pyemu.pst_utils.read_resfile(os.path.join(m_d,\"freyberg_opt_restart.1.sim.rei\"))\n",
    "res_df_sim = res_df_sim.loc[pst.nnz_obs_names,:]\n",
    "ax = pd.DataFrame({\"sim\":res_df_sim.modelled,\"sim+fosm\":res_df.modelled}).plot(kind=\"bar\")\n",
    "ax.plot(ax.get_xlim(),[-600,-600],\"r--\",lw=3)"
   ]
  },
  {
   "cell_type": "markdown",
   "metadata": {},
   "source": [
    "Here we can see the cost of uncertainty - we have to simulate a greater flux from gw to sw to make sure (e.g. be risk averse) that the flux from  gw to sw is actually at least 600 m3/day"
   ]
  },
  {
   "cell_type": "markdown",
   "metadata": {},
   "source": [
    "# FINALLY!!!"
   ]
  },
  {
   "cell_type": "markdown",
   "metadata": {},
   "source": [
    "We now see the reason for high-dimensional uncertainty quantification and history matching: to define and then reduce (through data assimulation) the uncertainty in the model-based constraints (e.g. sw-gw forecasts) so that we can find a more risk-averse management solution - we can use to model to identify an optimal pumping scheme to provide the volume of water needed for supply/ag but also provide assurances (at the given confidence) that ecological flows will be maintained under both current conditions and in the event of an extreme 1-year drought.  BOOM!"
   ]
  },
  {
   "cell_type": "code",
   "execution_count": 46,
   "metadata": {},
   "outputs": [],
   "source": []
  }
 ],
 "metadata": {
  "kernelspec": {
   "display_name": "Python 3",
   "language": "python",
   "name": "python3"
  },
  "language_info": {
   "codemirror_mode": {
    "name": "ipython",
    "version": 3
   },
   "file_extension": ".py",
   "mimetype": "text/x-python",
   "name": "python",
   "nbconvert_exporter": "python",
   "pygments_lexer": "ipython3",
   "version": "3.5.6"
  }
 },
 "nbformat": 4,
 "nbformat_minor": 2
}
